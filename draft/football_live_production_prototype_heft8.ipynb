{
  "nbformat": 4,
  "nbformat_minor": 0,
  "metadata": {
    "colab": {
      "provenance": [],
      "collapsed_sections": [
        "PZIrvYwQi50-",
        "TzM36V7K5TC7",
        "iDO5_uL-JNZp",
        "Up41ckm9lNVO",
        "99Xev_hRavPc",
        "TkFQkqOKlWAR",
        "m5Q7bKoqrYqU",
        "0MTtrEDJC3jh"
      ],
      "authorship_tag": "ABX9TyOqg3nSO2P2Psj1nkCokxLz",
      "include_colab_link": true
    },
    "kernelspec": {
      "name": "python3",
      "display_name": "Python 3"
    },
    "language_info": {
      "name": "python"
    }
  },
  "cells": [
    {
      "cell_type": "markdown",
      "metadata": {
        "id": "view-in-github",
        "colab_type": "text"
      },
      "source": [
        "<a href=\"https://colab.research.google.com/github/cappelchi/calcio_notebooks/blob/main/draft/football_live_production_prototype_heft8.ipynb\" target=\"_parent\"><img src=\"https://colab.research.google.com/assets/colab-badge.svg\" alt=\"Open In Colab\"/></a>"
      ]
    },
    {
      "cell_type": "markdown",
      "source": [
        "### Creariamo un ambiente TEST"
      ],
      "metadata": {
        "id": "PZIrvYwQi50-"
      }
    },
    {
      "cell_type": "code",
      "source": [
        "!mkdir -p /content/calcio"
      ],
      "metadata": {
        "id": "xAgsGsSdkPMz"
      },
      "execution_count": 1,
      "outputs": []
    },
    {
      "cell_type": "code",
      "source": [
        "file_quantity = 200\n",
        "!wget -q -O /content/calcio/541001.csv https://getfile.dokpub.com/yandex/get/https://disk.yandex.ru/d/nsvzD9fEWvO8jw\n",
        "for num in range(file_quantity):\n",
        "    !cp /content/calcio/541001.csv /content/calcio/{541002 + num * 2 + 1}.csv"
      ],
      "metadata": {
        "id": "Bf1CKeCvGegF"
      },
      "execution_count": 3,
      "outputs": []
    },
    {
      "cell_type": "markdown",
      "metadata": {
        "id": "TzM36V7K5TC7"
      },
      "source": [
        "### Project config"
      ]
    },
    {
      "cell_type": "code",
      "execution_count": 4,
      "metadata": {
        "id": "M_ITIvQL4dU0",
        "colab": {
          "base_uri": "https://localhost:8080/"
        },
        "outputId": "e7ec81b0-021c-4f28-81ba-2e2a84b8e79b"
      },
      "outputs": [
        {
          "output_type": "stream",
          "name": "stderr",
          "text": [
            "/usr/local/lib/python3.8/dist-packages/neptune/internal/backends/hosted_client.py:48: NeptuneDeprecationWarning: The 'neptune-client' package has been deprecated and will be removed in the future. Install the 'neptune' package instead. For more, see https://docs.neptune.ai/setup/upgrading/\n",
            "  from neptune.version import version as neptune_client_version\n",
            "<ipython-input-4-2aa8b85c691b>:5: NeptuneDeprecationWarning: You're importing the Neptune client library via the deprecated `neptune.new` module, which will be removed in a future release. Import directly from `neptune` instead.\n",
            "  import neptune.new as neptune\n"
          ]
        }
      ],
      "source": [
        "try:\n",
        "    import neptune.new as neptune\n",
        "except:\n",
        "    !pip install neptune-client >> None\n",
        "    import neptune.new as neptune\n",
        "#from neptune.new.integrations.tensorflow_keras import NeptuneCallback\n",
        "def get_credential(frmwork = 'neptune_team'):\n",
        "    with open('credential.txt', 'r') as container:\n",
        "        for line in container:\n",
        "            if frmwork in line:\n",
        "                login, psw = line.split(' ')[1], line.split(' ')[2].split('\\n')[0]\n",
        "                return login, psw\n",
        "     "
      ]
    },
    {
      "cell_type": "code",
      "execution_count": 5,
      "metadata": {
        "id": "WWsIy73U5Xgr"
      },
      "outputs": [],
      "source": [
        "#@title Set API key for neptune.ai\n",
        "set_api = True #@param {type:\"boolean\"}\n",
        "if set_api:\n",
        "    username, api_key = get_credential()"
      ]
    },
    {
      "cell_type": "markdown",
      "source": [
        "### Installations"
      ],
      "metadata": {
        "id": "iDO5_uL-JNZp"
      }
    },
    {
      "cell_type": "code",
      "source": [
        "!pip install jupyter-dash >> None\n",
        "!pip install dash-bootstrap-components >> None\n",
        "!pip install catboost >> None"
      ],
      "metadata": {
        "id": "pZWc7i9DJRbu"
      },
      "execution_count": 6,
      "outputs": []
    },
    {
      "cell_type": "markdown",
      "source": [
        "### Imports"
      ],
      "metadata": {
        "id": "Up41ckm9lNVO"
      }
    },
    {
      "cell_type": "code",
      "source": [
        "import pandas as pd\n",
        "import numpy as np\n",
        "pd.options.display.max_columns = 50\n",
        "pd.options.display.max_rows = 100\n",
        "print(pd.__version__)\n",
        "print(np.__version__)"
      ],
      "metadata": {
        "colab": {
          "base_uri": "https://localhost:8080/"
        },
        "id": "7tYUS1YzlQle",
        "outputId": "4951c2c8-a181-4485-fe80-8fdfae0a3edd"
      },
      "execution_count": 7,
      "outputs": [
        {
          "output_type": "stream",
          "name": "stdout",
          "text": [
            "1.3.5\n",
            "1.22.4\n"
          ]
        }
      ]
    },
    {
      "cell_type": "code",
      "source": [
        "from glob import glob\n",
        "import yaml\n",
        "from os.path import isfile\n",
        "from os.path import isdir\n",
        "import subprocess\n",
        "from time import gmtime, strftime, time"
      ],
      "metadata": {
        "id": "jpKypyRfrPMS"
      },
      "execution_count": 8,
      "outputs": []
    },
    {
      "cell_type": "code",
      "source": [
        "from jupyter_dash import JupyterDash\n",
        "from dash import dcc\n",
        "from dash import html\n",
        "from dash.dependencies import Input, Output, State\n",
        "import dash_bootstrap_components as dbc\n",
        "from dash import dash_table"
      ],
      "metadata": {
        "id": "fKqU7bBTLiub"
      },
      "execution_count": 9,
      "outputs": []
    },
    {
      "cell_type": "code",
      "source": [
        "from catboost import CatBoost\n",
        "from scipy.stats import poisson"
      ],
      "metadata": {
        "id": "dzLWrgG2QM5_"
      },
      "execution_count": 10,
      "outputs": []
    },
    {
      "cell_type": "code",
      "source": [
        "INPUT_DIR = '/content/calcio/'\n",
        "#1 X 2 T0.5 T1 T1.5 T2 H-2 H-1.5 H-1 H-0.5 H+0 H+0.5 H1 H+1.5 H+2"
      ],
      "metadata": {
        "id": "-lRq4BAsrcym"
      },
      "execution_count": 11,
      "outputs": []
    },
    {
      "cell_type": "markdown",
      "source": [
        "### Code"
      ],
      "metadata": {
        "id": "o9MvZeQUlUjo"
      }
    },
    {
      "cell_type": "markdown",
      "source": [
        "#### Input Constants"
      ],
      "metadata": {
        "id": "99Xev_hRavPc"
      }
    },
    {
      "cell_type": "code",
      "source": [
        "data_types_dict = {\n",
        "    'Id':np.int32, \n",
        "    'StatTime':np.datetime64, \n",
        "    'Minute':np.int8, \n",
        "    'Active': np.int8, 'Score1':np.int8, 'Score2':np.int8,\n",
        "    'A1':np.int16, 'A2':np.int16, 'DA1':np.int16, 'DA2':np.int16, 'Pos1':np.float32, 'Pos2':np.float32,\n",
        "    'Off1':np.int8, 'Off2':np.int8, 'On1':np.int8, 'On2':np.int8, 'YC1':np.int8, 'YC2':np.int8,\n",
        "    'RC1':np.int8, 'RC2':np.int8, 'Sub1':np.int8, 'Sub2':np.int8, 'Pen1':np.int8, 'Pen2':np.int8,\n",
        "    'Cor1':np.int8, 'Cor2':np.int8, 'Period':np.int8, \n",
        "    'D':np.datetime64,\n",
        "    'I':np.int32, 'Active.1':np.int8, \n",
        "    'Time':np.datetime64, \n",
        "    'Minute.1':np.int8, \n",
        "    'RawTime':np.datetime64, \n",
        "    'Score1.1':np.int8, 'Score2.1':np.int8, 'Period.1':np.int8, \n",
        "    'W1':np.float16, 'WX':np.float16, 'W2':np.float16, 'X1':np.float16, 'X2':np.float16, 'W12':np.float16, 'TotalValue':np.float16, \n",
        "    'Over':np.float16, 'Under':np.float16, 'Hand1Value':np.float16, 'H1':np.float16, 'H2':np.float16 \n",
        "}"
      ],
      "metadata": {
        "id": "OsnnbSt5avPd"
      },
      "execution_count": 12,
      "outputs": []
    },
    {
      "cell_type": "code",
      "source": [
        "cols = ['StatTime', 'Minute', 'Active', 'Score1', 'Score2', 'A1', 'A2', 'DA1',\n",
        "       'DA2', 'Pos1', 'Pos2', 'Off1', 'Off2', 'On1', 'On2', 'YC1', 'YC2',\n",
        "       'RC1', 'RC2', 'Sub1', 'Sub2', 'Pen1', 'Pen2', 'Cor1', 'Cor2', 'Period',\n",
        "       'Comment']"
      ],
      "metadata": {
        "id": "mQwmqHngavPe"
      },
      "execution_count": 13,
      "outputs": []
    },
    {
      "cell_type": "code",
      "source": [
        "usecols = ['Minute', 'Active', 'Score1', 'Score2', 'A1', 'A2', 'DA1',\n",
        "       'DA2', 'Pos1', 'Pos2', 'Off1', 'Off2', 'On1', 'On2', 'YC1', 'YC2',\n",
        "       'RC1', 'RC2', 'Sub1', 'Sub2', 'Pen1', 'Pen2', 'Cor1', 'Cor2']"
      ],
      "metadata": {
        "id": "gYT7uvMxavPf"
      },
      "execution_count": 14,
      "outputs": []
    },
    {
      "cell_type": "code",
      "source": [
        "match_cols = ['min_norm', 'Score1_norm', 'Score2_norm',\n",
        "       'Score_diff', 'Score_cat_1', 'Score_cat_2', 'Score_cat_3',\n",
        "       'Score_cat_4', 'Score_cat_5', 'Score_cat_6', 'Score_cat_7',\n",
        "       'Score_cat_8', 'Score_cat_9', 'A1_scaled', 'A2_scaled', 'A1perMIN',\n",
        "       'A2perMIN', 'A1relativ', 'A2relativ', 'DA1_scaled', 'DA2_scaled',\n",
        "       'DA1perMIN', 'DA2perMIN', 'DA1relativ', 'DA2relativ', 'Pos1_cleaned',\n",
        "       'Pos2_cleaned', 'Off1_norm', 'Off2_norm', 'On1_norm', 'On2_norm',\n",
        "       'YC1_transformed', 'YC2_transformed', 'RC1_transformed',\n",
        "       'RC2_transformed', 'Sub1_transformed', 'Sub2_transformed',\n",
        "       'Cor1_transformed', 'Cor2_transformed', 'P1_transformed',\n",
        "       'P2_transformed']"
      ],
      "metadata": {
        "id": "k_ctOZZnavPf"
      },
      "execution_count": 15,
      "outputs": []
    },
    {
      "cell_type": "markdown",
      "source": [
        "#### Functions"
      ],
      "metadata": {
        "id": "TkFQkqOKlWAR"
      }
    },
    {
      "cell_type": "code",
      "source": [
        "def run_bash(bashCommand:str, nameCommand = ''):\n",
        "        process = subprocess.Popen([bashCommand], \n",
        "                           shell=True)\n",
        "        _, error = process.communicate()\n",
        "        if error:\n",
        "            print(f'{nameCommand} error:\\n', error)"
      ],
      "metadata": {
        "id": "uer_cePFqw2P"
      },
      "execution_count": 16,
      "outputs": []
    },
    {
      "cell_type": "code",
      "source": [
        "def update_models_dict(add_dict:dict):\n",
        "    if isfile('/content/load_models.yaml'):\n",
        "        with open('/content/load_models.yaml', \"r\") as yml:\n",
        "            current_yaml = yaml.load(yml, Loader=yaml.SafeLoader)\n",
        "        for key, value in add_dict.items():\n",
        "            current_yaml[key] = value        \n",
        "        with open('/content/load_models.yaml', \"w\") as yml:\n",
        "            yaml.dump(current_yaml, yml)\n",
        "    else:\n",
        "        with open('/content/load_models.yaml', \"w\") as yml:\n",
        "            yaml.dump(current_yaml, yml)"
      ],
      "metadata": {
        "id": "cSiN8tO-lZgM"
      },
      "execution_count": 17,
      "outputs": []
    },
    {
      "cell_type": "code",
      "source": [
        "def load_model(model_type_order:str, model_name:str, num:str, api_key):\n",
        "    if not isdir(f\"{INPUT_DIR}models\"):\n",
        "        bashCommand = f\"\"\"\n",
        "        mkdir -p {INPUT_DIR}models\n",
        "                        \"\"\"\n",
        "        run_bash(bashCommand, 'tar_model')\n",
        "    model_type, order = model_type_order.split(':')\n",
        "    model_num = str(num)\n",
        "    model_version_params = dict(\n",
        "        project = 'scomesse/football',\n",
        "        model = model_name,\n",
        "        api_token = api_key,\n",
        "        with_id = model_name + '-' + model_num\n",
        "    )\n",
        "    PATH_TO_MODEL = f\"{INPUT_DIR}models/booster_{model_type}_{model_name}_{model_num}.model\"\n",
        "    if isfile('./log_load_models.txt'):\n",
        "        with open('./log_load_models.txt', 'a') as f:\n",
        "            f.write(model_name + '-' + model_num + '\\n')\n",
        "            f.write(PATH_TO_MODEL + \"\\n\")\n",
        "    else:\n",
        "        with open('./log_load_models.txt', 'w') as f:\n",
        "            f.write(model_name + '-' + model_num + '\\n')\n",
        "            f.write(PATH_TO_MODEL + \"\\n\")\n",
        "\n",
        "    model_version = neptune.init_model_version(**model_version_params)\n",
        "    model_version['model'].download(PATH_TO_MODEL)\n",
        "    model_version.stop()\n",
        "    if model_type in model_dict:\n",
        "        model_dict[model_type].update({order:CatBoost()})\n",
        "    else:\n",
        "        model_dict[model_type] = {order:CatBoost()}\n",
        "    model_dict[model_type][order].load_model(PATH_TO_MODEL)\n",
        "    return PATH_TO_MODEL\n",
        "    #{model_type: {f'model{order}_path': PATH_TO_MODEL}}\n",
        "    #update_models_dict(add_dict:dict)"
      ],
      "metadata": {
        "id": "3jUCXdmGmnFF"
      },
      "execution_count": 18,
      "outputs": []
    },
    {
      "cell_type": "code",
      "source": [
        "def create_predict_vector(file_path:str):\n",
        "    match_df = pd.read_csv(\n",
        "                        file_path, \n",
        "                        sep = ';', \n",
        "                        names = cols, \n",
        "                        skiprows = 1, \n",
        "                        usecols = usecols,\n",
        "                        dtype = data_types_dict\n",
        "                            )\n",
        "    match_df.iloc[0, :] = match_df.iloc[0, :].fillna(0)\n",
        "    match_df = match_df.fillna(method = 'ffill')\n",
        "    P1, PX, P2 = pd.read_csv(\n",
        "                        file_path, \n",
        "                        sep = ';', \n",
        "                        nrows = 0,\n",
        "                            )\n",
        "    match_df.loc[:,['P1', 'P2']] = 1 / np.array((P1, P2), dtype = np.float32)\n",
        "    match_df['min_norm'] = match_df['Minute'].astype(np.float32) / 50\n",
        "    # трансформируем голы\n",
        "    match_df[match_df['Score1'].isna()] = 0\n",
        "    match_df['Score1_norm'] = match_df['Score1'].fillna(method = 'ffill').fillna(0).astype(np.float32) / 4\n",
        "    match_df.loc[match_df['Score1'] > 3, ['Score1_norm']] = 1.0\n",
        "    match_df[match_df['Score2'].isna()] = 0\n",
        "    match_df['Score2_norm'] = match_df['Score2'].fillna(method = 'ffill').fillna(0).astype(np.float32) / 4\n",
        "    match_df.loc[match_df['Score2'] > 3, ['Score2_norm']] = 1.0\n",
        "    match_df['Score_diff'] = match_df['Score1'].astype(np.int16) - match_df['Score2'].astype(np.int16)\n",
        "    match_df.loc[match_df['Score_diff'] < -4, ['Score_diff']] = -4\n",
        "    match_df.loc[match_df['Score_diff'] > 4, ['Score_diff']] = 4\n",
        "    match_df[[f'Score_cat_{n}' for n in range(1, 10)]] = np.eye(9)[match_df['Score_diff'].values]\n",
        "    match_df['Score_diff'] = match_df['Score_diff'].astype(np.float32) / np.float32(4.0)\n",
        "    #трансформируем атаки\n",
        "    match_df['A1_scaled'] = match_df['A1'].astype(np.float32) / 75\n",
        "    match_df.loc[match_df['A1'] >= 60, ['A1_scaled']] = (60 + (match_df['A1'] - 60) / 4) / 75\n",
        "    match_df['A2_scaled'] = match_df['A2'].astype(np.float32) / 75\n",
        "    match_df.loc[match_df['A2'] >= 60, ['A2_scaled']] = (60 + (match_df['A2'] - 60) / 4) / 75\n",
        "    # атаки в минуту\n",
        "    match_df['A1perMIN'] = match_df['A1'].astype(np.float32) / match_df['Minute'].astype(np.float32)\n",
        "    match_df.loc[match_df['A1perMIN'] > 4, ['A1perMIN']] = np.float32(4.0)\n",
        "    match_df['A2perMIN'] = match_df['A2'].astype(np.float32) / match_df['Minute'].astype(np.float32)\n",
        "    match_df.loc[match_df['A2perMIN'] > 4, ['A2perMIN']] = np.float32(4.0)\n",
        "    # динамика атак\n",
        "    match_df['A1relativ'] = (match_df['A1'].astype(np.float32) - match_df['A1'].shift(5).astype(np.float32)).fillna(0)\n",
        "    match_df.loc[match_df['A1relativ'] > 15, ['A1relativ']] = np.float32(15.)\n",
        "    match_df['A2relativ'] = (match_df['A2'].astype(np.float32) - match_df['A2'].shift(5).astype(np.float32)).fillna(0)\n",
        "    match_df.loc[match_df['A2relativ'] > 15, ['A2relativ']] = np.float32(15.)\n",
        "    # трансформируем опасные атаки\n",
        "    match_df['DA1_scaled'] = match_df['DA1'].astype(np.float32) / 50\n",
        "    match_df.loc[match_df['DA1'] >= 40, ['DA1_scaled']] = (80 + (match_df['DA1'] - 40) / 3) / 100\n",
        "    match_df['DA2_scaled'] = match_df['DA2'].astype(np.float32) / 50\n",
        "    match_df.loc[match_df['DA2'] >= 40, ['DA2_scaled']] = (80 + (match_df['DA2'] - 40) / 3) / 100\n",
        "    # опасные атаки в минуту    \n",
        "    match_df['DA1perMIN'] = match_df['DA1'].astype(np.float32) / match_df['Minute'].astype(np.float32)\n",
        "    match_df.loc[match_df['DA1perMIN'] > 3, ['DA1perMIN']] = np.float32(3.0)\n",
        "    match_df['DA2perMIN'] = match_df['DA2'].astype(np.float32) / match_df['Minute'].astype(np.float32)\n",
        "    match_df.loc[match_df['DA2perMIN'] > 3, ['DA2perMIN']] = np.float32(3.0)\n",
        "    # динамика опасных атак\n",
        "    match_df['DA1relativ'] = (match_df['DA1'].astype(np.float32) - match_df['DA1'].shift(5).astype(np.float32)).fillna(0)\n",
        "    match_df.loc[match_df['DA1relativ'] > 10, ['DA1relativ']] = np.float32(10.)\n",
        "    match_df['DA2relativ'] = (match_df['DA2'].astype(np.float32) - match_df['DA2'].shift(5).astype(np.float32)).fillna(0)\n",
        "    match_df.loc[match_df['DA2relativ'] > 10, ['DA2relativ']] = np.float32(10.)\n",
        "    # Владение мячом\n",
        "    match_df['Pos1_cleaned'] = match_df['Pos1'].fillna(method = 'ffill').fillna(0).astype(np.float32) /  np.float32(100.0)\n",
        "    match_df.loc[match_df['Pos1_cleaned'] < 0.2, ['Pos1_cleaned']] = np.float32(0.2)\n",
        "    match_df.loc[match_df['Pos1_cleaned'] > 0.8, ['Pos1_cleaned']] = np.float32(0.8)\n",
        "    match_df['Pos2_cleaned'] = match_df['Pos2'].fillna(method = 'ffill').fillna(0).astype(np.float32) /  np.float32(100.0)\n",
        "    match_df.loc[match_df['Pos2_cleaned'] < 0.2, ['Pos2_cleaned']] = np.float32(0.2)\n",
        "    match_df.loc[match_df['Pos2_cleaned'] > 0.8, ['Pos2_cleaned']] = np.float32(0.8)\n",
        "    # трансформируем удары\n",
        "    match_df['Off1_norm'] = match_df['Off1'].fillna(method = 'ffill').fillna(0).astype(np.float32) / np.float32(10.0)\n",
        "    match_df.loc[match_df['Off1_norm'] > 1.0, ['Off1_norm']] = np.float32(1.0)\n",
        "    match_df['Off2_norm'] = match_df['Off2'].fillna(method = 'ffill').fillna(0).astype(np.float32) / np.float32(10.0)\n",
        "    match_df.loc[match_df['Off2_norm'] > 1.0, ['Off2_norm']] = np.float32(1.0)\n",
        "    # трансформируем удары в створ\n",
        "    match_df['On1_norm'] = match_df['On1'].fillna(method = 'ffill').fillna(0).astype(np.float32) / np.float32(5.0)\n",
        "    match_df.loc[match_df['On1_norm'] > 1.0, ['On1_norm']] = np.float32(1.0)\n",
        "    match_df['On2_norm'] = match_df['On2'].fillna(method = 'ffill').fillna(0).astype(np.float32) / np.float32(5.0)\n",
        "    match_df.loc[match_df['On2_norm'] > 1.0, ['On2_norm']] = np.float32(1.0)\n",
        "    # Желтые карточки\n",
        "    match_df['YC1_transformed'] = match_df['YC1'].fillna(0).astype(np.float32) / np.float32(2.0)\n",
        "    match_df.loc[match_df['YC1_transformed'] > 1.0, ['YC1_transformed']] = np.float32(1.0)\n",
        "    match_df['YC2_transformed'] = match_df['YC2'].fillna(0).astype(np.float32) / np.float32(2.0)\n",
        "    match_df.loc[match_df['YC2_transformed'] > 1.0, ['YC2_transformed']] = np.float32(1.0)\n",
        "    # трансформируем красные карточки\n",
        "    match_df['RC1_transformed'] = match_df['RC1'].fillna(0).astype(np.int8)\n",
        "    match_df.loc[match_df['RC1_transformed'] > 1, ['RC1_transformed']] = np.int8(1)\n",
        "    match_df['RC2_transformed'] = match_df['RC2'].fillna(0).astype(np.int8)\n",
        "    match_df.loc[match_df['RC2_transformed'] > 1, ['RC2_transformed']] = np.int8(1)\n",
        "    # Замены\n",
        "    match_df['Sub1_transformed'] = match_df['Sub1'].fillna(0).astype(np.int8)\n",
        "    match_df.loc[match_df['Sub1_transformed'] > 1, ['Sub1_transformed']] = np.int8(1)\n",
        "    match_df['Sub2_transformed'] = match_df['Sub2'].fillna(0).astype(np.int8)\n",
        "    match_df.loc[match_df['Sub2_transformed'] > 1, ['Sub2_transformed']] = np.int8(1)\n",
        "    # Угловые\n",
        "    match_df['Cor1_transformed'] = match_df['Cor1'].fillna(0).astype(np.float32) / np.float32(6.0)\n",
        "    match_df.loc[match_df['Cor1_transformed'] > 1.0, ['Cor1_transformed']] = np.float32(1.0)\n",
        "    match_df['Cor2_transformed'] = match_df['Cor2'].fillna(0).astype(np.float32) / np.float32(6.0)\n",
        "    match_df.loc[match_df['Cor2_transformed'] > 1.0, ['Cor2_transformed']] = np.float32(1.0)\n",
        "    # Кэфы\n",
        "    match_df['P1_transformed'] = np.log(match_df['P1'], dtype = np.float32) / 2\n",
        "    match_df['P2_transformed'] = np.log(match_df['P2'], dtype = np.float32) / 2\n",
        "    return match_df[match_cols].values[-1,:]"
      ],
      "metadata": {
        "id": "Lr16-yJ4aos6"
      },
      "execution_count": 19,
      "outputs": []
    },
    {
      "cell_type": "code",
      "source": [
        "def total_probability(regression_vector1, regression_vector2):\n",
        "    poisson_dict = {}\n",
        "    poisson_dict[1] = {}\n",
        "    poisson_dict[2] = {}\n",
        "    for goal in range(7):\n",
        "        poisson_dict[1][goal] = poisson.pmf(goal, regression_vector1)\n",
        "        poisson_dict[2][goal] = poisson.pmf(goal, regression_vector2)\n",
        "\n",
        "    # Считаем вероятности суммы забитых мячей\n",
        "    total_matrix = np.zeros(13)\n",
        "    for goal1 in range(7):\n",
        "        for goal2 in range(7):\n",
        "            total_matrix[goal1 + goal2] = total_matrix[goal1 + goal2] + \\\n",
        "            poisson_dict[1][goal2] * poisson_dict[2][goal1]\n",
        "    \n",
        "    # Считаем вероятности забить не менее определенного количества мячей\n",
        "    over_matrix = np.flip(np.cumsum(np.flip(total_matrix)))    \n",
        "    # Считаем вероятности забить не более определенного количества\n",
        "    under_matrix = np.cumsum(total_matrix)\n",
        "    return dict(\n",
        "            under_05 = under_matrix[0], over_05 = over_matrix[1],\n",
        "            under_10 = under_matrix[0] / (under_matrix[0] + over_matrix[2]), \n",
        "            over_10 = over_matrix[2] / (under_matrix[0] + over_matrix[2]),\n",
        "            under_15 = under_matrix[1], over_15 = over_matrix[2],\n",
        "            under_20 = under_matrix[1] / (under_matrix[1] + over_matrix[3]), \n",
        "            over_20 = over_matrix[3] / (under_matrix[1] + over_matrix[3])\n",
        "                )"
      ],
      "metadata": {
        "id": "-AnYadABK6gs"
      },
      "execution_count": 20,
      "outputs": []
    },
    {
      "cell_type": "code",
      "source": [
        "def handicap_probability(regression_vector1, regression_vector2):\n",
        "    poisson_dict = {}\n",
        "    poisson_dict[1] = {}\n",
        "    poisson_dict[2] = {}\n",
        "    for goal in range(7):\n",
        "        poisson_dict[1][goal] = poisson.pmf(goal, regression_vector1)\n",
        "        poisson_dict[2][goal] = poisson.pmf(goal, regression_vector2)\n",
        "\n",
        "    # Считаем вероятности суммы забитых мячей\n",
        "    total_matrix = np.zeros(13)\n",
        "    for goal1 in range(7):\n",
        "        for goal2 in range(7):\n",
        "            total_matrix[goal1 - goal2 + 6] = total_matrix[goal1 - goal2 + 6] + \\\n",
        "            poisson_dict[1][goal2] * poisson_dict[2][goal1]\n",
        "\n",
        "    # Считаем вероятности победы дома over = home_win\n",
        "    hcap_home = np.cumsum(np.flip(total_matrix)) \n",
        "    # Считаем вероятности победы гостей under = away_win\n",
        "    hcap_away = np.cumsum(total_matrix)\n",
        "\n",
        "    return dict(\n",
        "            home_m20_win = hcap_home[3] / (hcap_home[3] + hcap_away[7]),\n",
        "            home_m20_lose = hcap_away[7] / (hcap_home[3] + hcap_away[7]),\n",
        "            home_m15_win = hcap_home[4],\n",
        "            home_m15_lose = hcap_away[7],\n",
        "            home_m10_win = hcap_home[4] / (hcap_home[4] + hcap_away[6]),\n",
        "            home_m10_lose = hcap_away[6] / (hcap_home[4] + hcap_away[6]),\n",
        "            home_m05_win = hcap_home[5],\n",
        "            home_m05_lose = hcap_away[6],\n",
        "            home_m00_win = hcap_home[5] / (hcap_home[5] + hcap_away[5]),\n",
        "            home_m00_lose = hcap_away[5] / (hcap_home[5] + hcap_away[5]),\n",
        "            home_p05_win = hcap_home[6],\n",
        "            home_p05_lose = hcap_away[5],\n",
        "            home_p10_win = hcap_home[6] / (hcap_home[6] + hcap_away[4]),\n",
        "            home_p10_lose = hcap_away[4] / (hcap_home[6] + hcap_away[4]),\n",
        "            home_p15_win = hcap_home[7],\n",
        "            home_p15_lose = hcap_away[4],\n",
        "            home_p20_win = hcap_home[7] / (hcap_home[7] + hcap_away[3]),\n",
        "            home_p20_lose = hcap_away[3] / (hcap_home[7] + hcap_away[3])\n",
        "                    )"
      ],
      "metadata": {
        "id": "MqIghM7Pynrh"
      },
      "execution_count": 21,
      "outputs": []
    },
    {
      "cell_type": "markdown",
      "source": [
        "#### run DASH server"
      ],
      "metadata": {
        "id": "J9K4sWsjNzK8"
      }
    },
    {
      "cell_type": "code",
      "source": [
        "model_path_dict ={}\n",
        "model_dict = {}\n",
        "app = JupyterDash(__name__,\n",
        "                  external_stylesheets = [dbc.themes.FLATLY])"
      ],
      "metadata": {
        "id": "TJ9HpqGTOX04"
      },
      "execution_count": 22,
      "outputs": []
    },
    {
      "cell_type": "code",
      "source": [
        "# TABS CONTENT\n",
        "tab1_content = [dbc.Row([\n",
        "                        dbc.Col(\n",
        "                            dbc.Button('predict', id = 'predict_button', \n",
        "                                    n_clicks = 0, className = 'mr-2')\n",
        "                            ),\n",
        "                        dbc.Col(\n",
        "                            html.Div('Запустить предикт')\n",
        "                            )                                \n",
        "                        ], style = {'margin-top':20, 'margin-bottom':40}),\n",
        "                dbc.Row([\n",
        "                        dbc.Col(html.Div(id = 'predict-info-1')),\n",
        "                        dbc.Col(html.Div(id = 'predict-info-2'))\n",
        "                        ], style = {'margin-bottom':40})]\n",
        "tab2_content = [dbc.Row(html.Div(id = 'data-table'), style = {'margin-top':40})]"
      ],
      "metadata": {
        "id": "Rb7yeNOFGnON"
      },
      "execution_count": 23,
      "outputs": []
    },
    {
      "cell_type": "code",
      "source": [
        "# TABS CONTENT 3\n",
        "tab3_content = [\n",
        "######################## выбор 1x2 ##############################\n",
        "    dbc.Row(html.Div([\n",
        "        html.Div('Тип ставки: 1Х2 | Модель | Версия'),\n",
        "        dcc.Input(id='model-1-name', type='text', value='FOOT-LIVEMC'),\n",
        "        dcc.Input(id='model-1-num', type='text', value=2),\n",
        "                        ], style = {'margin-top':5, 'margin-bottom':5})\n",
        "            ),\n",
        "######################## выбор handicap ##########################\n",
        "    dbc.Row(html.Div([\n",
        "        html.Div('Тип ставки: HANDICAP | Модель n.1 | Версия'),\n",
        "        dcc.Input(id='model-2-name', type='text', value='FOOT-LIVEBST1'),\n",
        "        dcc.Input(id='model-2-num', type='text', value=3),\n",
        "                        ], style = {'margin-top':5, 'margin-bottom':5})\n",
        "            ),\n",
        "    dbc.Row(html.Div([\n",
        "        html.Div('Тип ставки: HANDICAP | Модель n.2 | Версия'),\n",
        "        dcc.Input(id='model-3-name', type='text', value='FOOT-LIVEBST2'),\n",
        "        dcc.Input(id='model-3-num', type='text', value=4),\n",
        "                        ], style = {'margin-top':5, 'margin-bottom':5})\n",
        "            ),\n",
        "######################## выбор total #############################\n",
        "    dbc.Row(html.Div([\n",
        "        html.Div('Тип ставки: TOTAL | Модель n.1 | Версия'),\n",
        "        dcc.Input(id='model-4-name', type='text', value='FOOT-LIVEBST1'),\n",
        "        dcc.Input(id='model-4-num', type='text', value=3),\n",
        "                        ], style = {'margin-top':5, 'margin-bottom':5})\n",
        "            ),\n",
        "    dbc.Row(html.Div([\n",
        "        html.Div('Тип ставки: TOTAL | Модель n.2 | Версия'),\n",
        "        dcc.Input(id='model-5-name', type='text', value='FOOT-LIVEBST2'),\n",
        "        dcc.Input(id='model-5-num', type='text', value=4),\n",
        "                        ], style = {'margin-top':5, 'margin-bottom':5})\n",
        "            ),\n",
        "######################## выбор total #############################\n",
        "    dbc.Row([\n",
        "            dbc.Col(\n",
        "                dbc.Button('load', id = 'start_butt', \n",
        "                            n_clicks = 0, className = 'mr-2')\n",
        "                    )             \n",
        "            ], style = {'margin-top':20, 'margin-bottom':40}),\n",
        "    dbc.Row([\n",
        "            html.Div(id = 'output-info')\n",
        "            ], style = {'margin-top':40})\n",
        "                ]"
      ],
      "metadata": {
        "id": "_mcJOAlCeYZW"
      },
      "execution_count": 24,
      "outputs": []
    },
    {
      "cell_type": "code",
      "source": [
        "app.layout = html.Div([\n",
        "        #_header\n",
        "    #dcc.Store(id='models_dict', storage_type='session', data = dict),\n",
        "    dbc.Row(html.H4('Live Prediction Dashboard'),\n",
        "            style = {'margin-bottom':40}),\n",
        "    dbc.Tabs([\n",
        "                dbc.Tab(tab1_content, label = 'Prediction'),\n",
        "                dbc.Tab(tab2_content, label = 'Files'),\n",
        "                dbc.Tab(tab3_content, label = 'Load Models')\n",
        "                ]),\n",
        "    # dcc.Store inside the user's current browser session\n",
        "    dcc.Store(id='model-path-dict', storage_type='memory') # 'local' or 'session'\n",
        "    ],\n",
        "                    style = {'margin-left': '80px', 'margin-right': '80px'}\n",
        ")"
      ],
      "metadata": {
        "id": "fTuVt2zVOh17"
      },
      "execution_count": 25,
      "outputs": []
    },
    {
      "cell_type": "code",
      "source": [
        "@app.callback(\n",
        "    output= {\n",
        "        'info':Output('output-info', 'children')\n",
        "        },\n",
        "    inputs = {'start_button':Input('start_butt', 'n_clicks')},\n",
        "    state = {\n",
        "        'names':{cnt:State(f'model-{cnt}-name', 'value') for cnt in range(1, 6)},\n",
        "        'nums':{cnt:State(f'model-{cnt}-num', 'value') for cnt in range(1, 6)},\n",
        "        }\n",
        "              )\n",
        "def update_click(start_button, names, nums):\n",
        "    if start_button > 0:\n",
        "        start_time = time()\n",
        "        model_types = ['', '1x2:1', 'total:1', 'total:2', 'handicap:1', 'handicap:2']\n",
        "        for nmod in range (1, 6):\n",
        "            name = names[nmod]\n",
        "            mnum = nums[nmod]\n",
        "            model_type = model_types[nmod]\n",
        "            model_path_dict[model_type] = load_model(model_type, name, mnum, api_key)\n",
        "        return {\n",
        "            'info':f'''\n",
        "            Download models:\n",
        "            |1x2|: {names[1]} - {nums[1]}\n",
        "            ***|HANDICAP m.1|: {names[2]} - {nums[2]}\n",
        "            ***|HANDICAP m.2|: {names[3]} - {nums[3]}\n",
        "            ***|TOTAL m.1|: {names[4]} - {nums[4]}\n",
        "            ***|TOTAL m.2|: {names[5]} - {nums[5]} in _{time() - start_time}_sec\n",
        "                    '''\n",
        "        }\n"
      ],
      "metadata": {
        "id": "zKIATESdX642"
      },
      "execution_count": 26,
      "outputs": []
    },
    {
      "cell_type": "code",
      "source": [
        "@app.callback(\n",
        "    output= {'info':Output('predict-info-1', 'children')},\n",
        "    inputs = {'predict_button':Input('predict_button', 'n_clicks')}\n",
        "              )\n",
        "def update_click(predict_button):\n",
        "    if predict_button > 0:\n",
        "        start_time = time()\n",
        "        output_dict = {}\n",
        "        for file_path in glob(INPUT_DIR + '*.csv'):\n",
        "            file_num = file_path.split('/')[-1].split('.')[0]\n",
        "            output_dict[file_num] = {}\n",
        "            input_vector = create_predict_vector(file_path)\n",
        "            output_dict[file_num]['mc_home'], output_dict[file_num]['mc_draw'], output_dict[file_num]['mc_away'] =  \\\n",
        "                            (np.flip(model_dict['1x2']['1'].predict(input_vector, prediction_type=\"Probability\")))\n",
        "            output_dict[file_num].update(\n",
        "                total_probability(\n",
        "                    model_dict['total']['1'].predict(input_vector) * 21, \n",
        "                    model_dict['total']['2'].predict(input_vector) * 21\n",
        "                                ))\n",
        "            output_dict[file_num].update(\n",
        "                handicap_probability(\n",
        "                    model_dict['handicap']['1'].predict(input_vector) * 21, \n",
        "                    model_dict['handicap']['2'].predict(input_vector) * 21\n",
        "                                ))\n",
        "            predict_time = time()\n",
        "            pd.DataFrame.from_dict(output_dict, orient = 'index').to_csv('./output.csv')\n",
        "        return {\n",
        "            'info':f'''\n",
        "            {strftime(\"%Y-%m-%d %H:%M:%S\", gmtime())}: predict ready in _{time() - start_time}_sec,\n",
        "            ______predict time {predict_time - start_time}\n",
        "                    '''\n",
        "        }\n"
      ],
      "metadata": {
        "id": "305czQSqejqV"
      },
      "execution_count": 27,
      "outputs": []
    },
    {
      "cell_type": "markdown",
      "source": [
        "#### run server"
      ],
      "metadata": {
        "id": "hJb_CQSMfmna"
      }
    },
    {
      "cell_type": "code",
      "source": [
        "# Run app and display result inline in the notebook\n",
        "app.run_server(mode='inline')"
      ],
      "metadata": {
        "colab": {
          "base_uri": "https://localhost:8080/",
          "height": 672
        },
        "id": "jsFfgO6X4CHV",
        "outputId": "c67b43f0-11a3-4887-f147-51e05c1ae7ef"
      },
      "execution_count": 28,
      "outputs": [
        {
          "output_type": "display_data",
          "data": {
            "text/plain": [
              "<IPython.core.display.Javascript object>"
            ],
            "application/javascript": [
              "(async (port, path, width, height, cache, element) => {\n",
              "    if (!google.colab.kernel.accessAllowed && !cache) {\n",
              "      return;\n",
              "    }\n",
              "    element.appendChild(document.createTextNode(''));\n",
              "    const url = await google.colab.kernel.proxyPort(port, {cache});\n",
              "    const iframe = document.createElement('iframe');\n",
              "    iframe.src = new URL(path, url).toString();\n",
              "    iframe.height = height;\n",
              "    iframe.width = width;\n",
              "    iframe.style.border = 0;\n",
              "    iframe.allow = [\n",
              "        'accelerometer',\n",
              "        'autoplay',\n",
              "        'camera',\n",
              "        'clipboard-read',\n",
              "        'clipboard-write',\n",
              "        'gyroscope',\n",
              "        'magnetometer',\n",
              "        'microphone',\n",
              "        'serial',\n",
              "        'usb',\n",
              "        'xr-spatial-tracking',\n",
              "    ].join('; ');\n",
              "    element.appendChild(iframe);\n",
              "  })(8050, \"/\", \"100%\", 650, false, window.element)"
            ]
          },
          "metadata": {}
        }
      ]
    }
  ]
}