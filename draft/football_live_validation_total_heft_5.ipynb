{
  "nbformat": 4,
  "nbformat_minor": 0,
  "metadata": {
    "colab": {
      "provenance": [],
      "collapsed_sections": [
        "TzM36V7K5TC7",
        "THFvsIdI6Jr_",
        "5O-I4t3f5aGQ",
        "FhzLaTgC53iA",
        "C6rxgOIdnktb",
        "SvI7FIt-_d7d",
        "-HG31OjbAuy2"
      ],
      "authorship_tag": "ABX9TyNxCh0Y0CpUMAznJadrlEIL",
      "include_colab_link": true
    },
    "kernelspec": {
      "name": "python3",
      "display_name": "Python 3"
    },
    "language_info": {
      "name": "python"
    }
  },
  "cells": [
    {
      "cell_type": "markdown",
      "metadata": {
        "id": "view-in-github",
        "colab_type": "text"
      },
      "source": [
        "<a href=\"https://colab.research.google.com/github/cappelchi/calcio_notebooks/blob/main/draft/football_live_validation_total_heft_5.ipynb\" target=\"_parent\"><img src=\"https://colab.research.google.com/assets/colab-badge.svg\" alt=\"Open In Colab\"/></a>"
      ]
    },
    {
      "cell_type": "markdown",
      "metadata": {
        "id": "02AGNPYKRvBC"
      },
      "source": [
        "[CatBoost - An In-Depth Guide [Python API]](https://coderzcolumn.com/tutorials/machine-learning/catboost-an-in-depth-guide-python#9)<br>\n",
        "[Catboost](https://catboost.ai/en/docs/concepts/python-reference_pool)<br>\n",
        "[Cross-Validation Techniques](https://medium.com/geekculture/cross-validation-techniques-33d389897878)"
      ]
    },
    {
      "cell_type": "markdown",
      "metadata": {
        "id": "TzM36V7K5TC7"
      },
      "source": [
        "### Project config"
      ]
    },
    {
      "cell_type": "code",
      "execution_count": 1,
      "metadata": {
        "id": "M_ITIvQL4dU0"
      },
      "outputs": [],
      "source": [
        "try:\n",
        "    import neptune.new as neptune\n",
        "except:\n",
        "    !pip install neptune-client >> None\n",
        "    import neptune.new as neptune\n",
        "#from neptune.new.integrations.tensorflow_keras import NeptuneCallback\n",
        "def get_credential(frmwork = 'neptune_team'):\n",
        "    with open('credential.txt', 'r') as container:\n",
        "        for line in container:\n",
        "            if frmwork in line:\n",
        "                login, psw = line.split(' ')[1], line.split(' ')[2].split('\\n')[0]\n",
        "                return login, psw\n",
        "     "
      ]
    },
    {
      "cell_type": "code",
      "execution_count": 2,
      "metadata": {
        "id": "WWsIy73U5Xgr"
      },
      "outputs": [],
      "source": [
        "#@title Set API key for neptune.ai\n",
        "set_api = True #@param {type:\"boolean\"}\n",
        "if set_api:\n",
        "    username, api_key = get_credential()"
      ]
    },
    {
      "cell_type": "markdown",
      "metadata": {
        "id": "THFvsIdI6Jr_"
      },
      "source": [
        "### Installations"
      ]
    },
    {
      "cell_type": "code",
      "execution_count": 3,
      "metadata": {
        "id": "oW1B1cfQ6I1M"
      },
      "outputs": [],
      "source": [
        "!pip install catboost >> None"
      ]
    },
    {
      "cell_type": "markdown",
      "metadata": {
        "id": "5O-I4t3f5aGQ"
      },
      "source": [
        "### Downloads"
      ]
    },
    {
      "cell_type": "code",
      "execution_count": 4,
      "metadata": {
        "colab": {
          "base_uri": "https://localhost:8080/"
        },
        "id": "ZD6T0hhy5bxA",
        "outputId": "47ad6d84-8028-488f-8e8b-24313a2c2406"
      },
      "outputs": [
        {
          "output_type": "stream",
          "name": "stdout",
          "text": [
            "https://app.neptune.ai/scomesse/football/\n",
            "Remember to stop your project once you’ve finished logging your metadata (https://docs.neptune.ai/api/project#stop). It will be stopped automatically only when the notebook kernel/interactive console is terminated.\n",
            "Shutting down background jobs, please wait a moment...\n",
            "Done!\n",
            "All 0 operations synced, thanks for waiting!\n",
            "Explore the metadata in the Neptune app:\n",
            "https://app.neptune.ai/scomesse/football/metadata\n"
          ]
        }
      ],
      "source": [
        "data_version = 'football_live_npz_230131/'\n",
        "project = neptune.init_project(\n",
        "    project=\"scomesse/football\", \n",
        "    api_token = api_key\n",
        "    )\n",
        "project[data_version + 'dataset'].download('./dataset.npz')\n",
        "project[data_version + 'description'].download('./save_discription.txt')\n",
        "project[data_version + 'additional_data'].download('./additional_data.npz')\n",
        "project[data_version + 'time'].download('./time.csv')\n",
        "params = project[data_version + 'params'].fetch()\n",
        "project.stop()"
      ]
    },
    {
      "cell_type": "markdown",
      "metadata": {
        "id": "FhzLaTgC53iA"
      },
      "source": [
        "### Imports"
      ]
    },
    {
      "cell_type": "code",
      "execution_count": 3,
      "metadata": {
        "colab": {
          "base_uri": "https://localhost:8080/"
        },
        "id": "wezQrfDr573b",
        "outputId": "e0dec0a9-e015-4694-f11e-7e379f434d47"
      },
      "outputs": [
        {
          "output_type": "stream",
          "name": "stdout",
          "text": [
            "1.3.5\n",
            "1.21.6\n"
          ]
        }
      ],
      "source": [
        "import pandas as pd\n",
        "import numpy as np\n",
        "pd.options.display.max_columns = 50\n",
        "pd.options.display.max_rows = 100\n",
        "print(pd.__version__)\n",
        "print(np.__version__)"
      ]
    },
    {
      "cell_type": "code",
      "execution_count": 4,
      "metadata": {
        "id": "9peIv-BK5-0N"
      },
      "outputs": [],
      "source": [
        "import plotly.graph_objects as go\n",
        "import plotly.express as px\n",
        "import plotly.subplots as sp\n",
        "import plotly.figure_factory as ff\n",
        "from plotly.subplots import make_subplots"
      ]
    },
    {
      "cell_type": "code",
      "execution_count": 5,
      "metadata": {
        "id": "TcLYWRyB_jBg"
      },
      "outputs": [],
      "source": [
        "from catboost import CatBoost\n",
        "from catboost import utils\n",
        "from catboost import CatBoostClassifier, CatBoostRegressor\n",
        "from catboost import Pool, cv\n",
        "from catboost.utils import eval_metric\n",
        "np.random.seed(147)"
      ]
    },
    {
      "cell_type": "code",
      "execution_count": 6,
      "metadata": {
        "id": "mbifArxHGOl4"
      },
      "outputs": [],
      "source": [
        "from tqdm import tqdm\n",
        "from scipy.stats import poisson\n",
        "import os, psutil"
      ]
    },
    {
      "cell_type": "code",
      "execution_count": 7,
      "metadata": {
        "id": "z44m0DUuBlyc"
      },
      "outputs": [],
      "source": [
        "from sklearn.metrics import roc_auc_score, accuracy_score, f1_score\n",
        "from sklearn.metrics import confusion_matrix, classification_report, roc_curve\n",
        "from sklearn.metrics import multilabel_confusion_matrix"
      ]
    },
    {
      "cell_type": "markdown",
      "metadata": {
        "id": "G1suiAN7_aOE"
      },
      "source": [
        "### Code"
      ]
    },
    {
      "cell_type": "markdown",
      "metadata": {
        "id": "C6rxgOIdnktb"
      },
      "source": [
        "#### Functions"
      ]
    },
    {
      "cell_type": "code",
      "source": [
        "def calculate_multiclass(probability_2x:np.array, line_2x:np.array):\n",
        "    '''\n",
        "    input : 0 - over, 1 - under\n",
        "    output: 0 - over, 1 - under\n",
        "    '''\n",
        "    probline = probability_2x * line_2x\n",
        "    best_odd_result = np.argmax(probline, axis = 1)\n",
        "    best_odd_float = np.take_along_axis(\n",
        "        probline,\n",
        "        best_odd_result.reshape(-1, 1),\n",
        "        axis = 1\n",
        "    )\n",
        "    return {\n",
        "        'argmax':best_odd_result,\n",
        "        'float':best_odd_float\n",
        "    }"
      ],
      "metadata": {
        "id": "WDRPNinVnktd"
      },
      "execution_count": 10,
      "outputs": []
    },
    {
      "cell_type": "code",
      "source": [
        "def get_profit_curve(prob_dict, final_goal_sum, Line_production, bet_type = 'fixed'):\n",
        "    '''\n",
        "    Line_production -> line['total', 'over', 'under']\n",
        "    final_goal_sumv -> data_npz['result1'] + data_npz['result2']\n",
        "    '''\n",
        "    #fixed, divk, divk-1\n",
        "    #simple, complex\n",
        "    # считаем прдикты по исходу и вероятности умноженной на кэф (over, under)\n",
        "    preds_int, preds_float = calculate_multiclass(prob_dict, Line_production[:,1:3]).values()\n",
        "    preds_float = preds_float[:,0] \n",
        "    preds_vec = preds_int * (2) - 1 # -1:over, 1:under\n",
        "    # вектор результатов\n",
        "    res_vec = (final_goal_sum > Line_production[:, 0]) * (-1) + \\\n",
        "             (final_goal_sum < Line_production[:, 0]) * (1)\n",
        "    win_vec, lose_vec = (preds_vec * res_vec) == 1, (preds_vec * res_vec) == -1\n",
        "    line_vec = np.take_along_axis(Line_production[:,1:3], preds_int.reshape(-1, 1), axis = 1)[:, 0]\n",
        "    threshold = []\n",
        "    profit = []\n",
        "    bet_qty_list = []\n",
        "    for th in np.linspace(0.1,0.2,1001):\n",
        "        threshold.append(th)\n",
        "        vector_th = (preds_float / 10) > th\n",
        "        bet_qty_list.append(vector_th.sum())\n",
        "        if bet_type == 'divk':\n",
        "            #                       размер ставки                                   кэф\n",
        "            profit.append(np.sum((1/line_vec[win_vec & vector_th].astype(np.float32)) * \\\n",
        "                                (line_vec[win_vec & vector_th] - 1).astype(np.float32)) -\\\n",
        "                                np.sum((1/line_vec[lose_vec & vector_th].astype(np.float32))))\n",
        "        else:\n",
        "            profit.append(np.sum((line_vec[win_vec & vector_th] - 1).astype(np.float32)) - np.sum(lose_vec & vector_th))\n",
        "\n",
        "    return threshold, profit, bet_qty_list"
      ],
      "metadata": {
        "id": "3sPg8YwHnktd"
      },
      "execution_count": 9,
      "outputs": []
    },
    {
      "cell_type": "code",
      "source": [
        "def get_profit_validation(prob_dict, final_goal_sum, Line_production,  model_name):\n",
        "    '''\n",
        "    y_true - numpy вектор, shape:(x,) истинные значения в формате 0|1\n",
        "    x_predicted - numpy вектор, shape:(x,) предикт (probability (float)) в формате 0.\n",
        "    Line_production - numpy вектор, shape:(x,) вектор коэфициентов в формате float 1.\n",
        "    '''\n",
        "    scatters_dicts = dict(\n",
        "        scatter1 = dict(x = [], y = [], name = '', fill = 'tozeroy', yaxis = '', xaxis = ''),\n",
        "        scatter2 = dict(x = [], y = [], name = '', line = dict(color='rgb(33,113,181)', dash='dash'), yaxis = '', xaxis = ''),\n",
        "        scatter3 = dict(x = [], y = [], name = '', line = dict(color='rgb(107,174,214)', dash='dash'), yaxis = '', xaxis = '')\n",
        "                    )\n",
        "    qty_color = 'blue'\n",
        "    prof_qty_color = 'rgb(8,48,107)'\n",
        "    bet_type_list = ['fixed', 'divk']\n",
        "    bet_size_list = ['1', '1/K']\n",
        "    strategy_name_list = ['threshold', 'pred*k']\n",
        "    #domain_list = [[0.55, 1], [0., 0.5]]\n",
        "    layout_dict = {}\n",
        "    data_list = []\n",
        "    title_text = f'Profit & bet qty for validation model in neptune.ai: {model_name}'\n",
        "    for cnt_bet, bet_type in enumerate(bet_type_list):\n",
        "        y_anchor = str((cnt_bet*3) + 1)\n",
        "        threshold, profit, bet_qty_list = get_profit_curve(\n",
        "            prob_dict, final_goal_sum, Line_production, bet_type = bet_type\n",
        "            )\n",
        "        xaxis_num = str((cnt_bet + 1))\n",
        "        layout_dict.update({\n",
        "                'xaxis' + xaxis_num:{\n",
        "                    'domain':[0.5 * cnt_bet, 0.5 * cnt_bet + 0.5],\n",
        "                    'title':f'bet={bet_size_list[cnt_bet]}',\n",
        "                    'anchor':'y' + y_anchor}\n",
        "                            })\n",
        "        for cnt_scatter in range(1, 4):\n",
        "            yaxis_num = str((cnt_bet*3) + cnt_scatter)\n",
        "            scatter_num = 'scatter' + str(cnt_scatter)\n",
        "            scatters_dicts[scatter_num]['x'] = threshold\n",
        "            if cnt_scatter == 1:\n",
        "                scatters_dicts[scatter_num]['y'] = profit\n",
        "                scatters_dicts[scatter_num]['name'] = 'profit_' +xaxis_num\n",
        "                scatters_dicts[scatter_num]['xaxis'] = 'x' + xaxis_num\n",
        "                scatters_dicts[scatter_num]['yaxis'] = 'y' + yaxis_num\n",
        "                layout_dict.update({\n",
        "                    'yaxis' + yaxis_num:{\n",
        "                        #'domain':domain_list[cnt_str],\n",
        "                        'title':'', #'Profit',\n",
        "                        'range':[-10,int(max(profit) * 1.1)],\n",
        "                        'anchor':'x' + xaxis_num\n",
        "                }})\n",
        "            elif cnt_scatter == 2:\n",
        "                scatters_dicts[scatter_num]['y'] = np.array(profit) / np.array(bet_qty_list)\n",
        "                scatters_dicts[scatter_num]['name'] = 'profit_' + xaxis_num\n",
        "                scatters_dicts[scatter_num]['xaxis'] = 'x' + xaxis_num\n",
        "                scatters_dicts[scatter_num]['yaxis'] = 'y' + yaxis_num\n",
        "                layout_dict.update({\n",
        "                    'yaxis' + yaxis_num:{\n",
        "                        #'domain':domain_list[cnt_str],\n",
        "                        'title':'', 'zeroline':True,\n",
        "                        'side':'right', 'anchor':'x' + xaxis_num,\n",
        "                        'overlaying':'y' + y_anchor}})\n",
        "            elif cnt_scatter == 3:\n",
        "                scatters_dicts[scatter_num]['y'] = np.array(bet_qty_list) / 1000\n",
        "                scatters_dicts[scatter_num]['name'] = 'profit_' + xaxis_num\n",
        "                scatters_dicts[scatter_num]['xaxis'] = 'x' + xaxis_num\n",
        "                scatters_dicts[scatter_num]['yaxis'] = 'y' + yaxis_num\n",
        "                layout_dict.update({\n",
        "                    'yaxis' + yaxis_num:{\n",
        "                        #'domain':domain_list[cnt_str],\n",
        "                        'visible':False, 'showgrid':True,\n",
        "                        'side':'right', 'anchor':'x' + xaxis_num,\n",
        "                        'overlaying':'y' + y_anchor}})\n",
        "            data_list += [go.Scatter(**scatters_dicts['scatter' + str(cnt_scatter)])]\n",
        "    layout_dict.update({\n",
        "        'width':1400,\n",
        "        'height':800,\n",
        "        'title_x':0.5,\n",
        "        'title_text':title_text,\n",
        "        'paper_bgcolor':'rgb(229, 237, 247)',\n",
        "        'plot_bgcolor':'rgb(229, 237, 247)',\n",
        "        'showlegend':False \n",
        "                        })\n",
        "    layout = go.Layout(**layout_dict)\n",
        "    return go.Figure(data=data_list, layout=layout)\n",
        "     "
      ],
      "metadata": {
        "id": "inohzJjpnkte"
      },
      "execution_count": 11,
      "outputs": []
    },
    {
      "cell_type": "code",
      "source": [
        "def plot_equity(prob_dict, final_goal_sum, Line_production, th, model_name, x_date = np.empty(()), bet_type = 'fixed', data_split = 'validation'):\n",
        "    #fixed, divk, divk-1\n",
        "    #simple, complex\n",
        "    preds_int, preds_float = calculate_multiclass(prob_dict, Line_production[:,1:3]).values()\n",
        "    preds_float = preds_float[:,0] \n",
        "    preds_vec = preds_int * (2) - 1 # -1:over, 1:under\n",
        "    res_vec = (final_goal_sum > Line_production[:, 0]) * (-1) + \\\n",
        "            (final_goal_sum < Line_production[:, 0]) * (1)\n",
        "    win_vec, lose_vec = (preds_vec * res_vec) == 1, (preds_vec * res_vec) == -1\n",
        "    line_vec = np.take_along_axis(Line_production[:,1:3], preds_int.reshape(-1, 1), axis = 1)[:, 0]\n",
        "    vector_th = (preds_float / 10) > th\n",
        "    if bet_type == 'divk':\n",
        "        bet_sum = np.sum(1/line_vec[win_vec & vector_th].astype(np.float32))\n",
        "        mean_bet = np.mean(1/line_vec[win_vec & vector_th].astype(np.float32))\n",
        "        #                       размер ставки                                   кэф\n",
        "        y = np.cumsum(((line_vec - 1) / line_vec) * (win_vec & vector_th).astype(np.float32)) -\\\n",
        "                            np.cumsum((1/line_vec) * (lose_vec & vector_th).astype(np.float32))\n",
        "    else:\n",
        "        mean_bet = 1\n",
        "        bet_sum = np.sum(win_vec & vector_th)\n",
        "        y = np.cumsum((line_vec - 1) * (win_vec & vector_th).astype(np.float32)) - np.cumsum(lose_vec & vector_th)\n",
        "    bet_qty = vector_th.sum()\n",
        "    title_text = f'Equity Curve {data_split} | threshold={th} | bet_type:{bet_type}<br>' + \\\n",
        "                f'bet_mean: {np.round(mean_bet, 2)} | ROI: {np.round(y[-1] * 100 / bet_sum, 4)}%' + \\\n",
        "                f' | Bet quantity: {bet_qty}<br>' + f'Model in neptune.ai: FOOT-{model_name}'\n",
        "    \n",
        "    layout_dict = {}\n",
        "    if x_date.shape:\n",
        "        trace_equity = go.Scatter(y=y[(win_vec|lose_vec)&vector_th], x= x_date[(win_vec|lose_vec)&vector_th], fill='tozeroy', xaxis = 'x1') #'toself'\n",
        "        layout_dict.update({'xaxis1':{'showgrid':True, 'ticklabelmode':'period', 'tickformat':'%d\\n%b\\n%Y'}})\n",
        "        data_list = [trace_equity]\n",
        "    else:\n",
        "        trace_equity = go.Scatter(y = y, fill='tozeroy', xaxis = 'x1', yaxis = 'y1') #'toself'\n",
        "        layout_dict.update({'xaxis1':{'anchor':'y1'}, 'yaxis1':{'domain':[0.4, 1]}})\n",
        "        max_profit = np.maximum.accumulate(y)\n",
        "        trace_drawdown =  go.Scatter(y = (y - max_profit) / mean_bet, fill='tozeroy', xaxis = 'x2', yaxis = 'y2')\n",
        "        layout_dict.update({'xaxis2':{'anchor':'y2'}, 'yaxis2':{'domain':[0., 0.35], 'title':'drawdown inmean(bet)'}})\n",
        "        data_list = [trace_equity, trace_drawdown]\n",
        "\n",
        "    layout_dict.update({\n",
        "    'width':1400,\n",
        "    'height':800,\n",
        "    'title_x':0.5,\n",
        "    'title_text':title_text,\n",
        "    'paper_bgcolor':'rgb(229, 237, 247)',\n",
        "    'plot_bgcolor':'rgb(229, 237, 247)',\n",
        "    'showlegend':False \n",
        "                    })\n",
        "     #, trace_time_dd]\n",
        "    layout = go.Layout(**layout_dict)\n",
        "    return go.Figure(data=data_list, layout=layout)"
      ],
      "metadata": {
        "id": "mv7NTmyQnktc"
      },
      "execution_count": 30,
      "outputs": []
    },
    {
      "cell_type": "markdown",
      "metadata": {
        "id": "SvI7FIt-_d7d"
      },
      "source": [
        "#### Load Data"
      ]
    },
    {
      "cell_type": "code",
      "source": [
        "dataset_name = './dataset.npz'\n",
        "data_npz = np.load(dataset_name)\n",
        "X_train, X_test, X_holdout = data_npz['X_train'], data_npz['X_test'], data_npz['X_holdout']"
      ],
      "metadata": {
        "id": "AM402yvPtVf6"
      },
      "execution_count": 12,
      "outputs": []
    },
    {
      "cell_type": "code",
      "source": [
        "scores_list = ['score1_train', 'score2_train', 'result1_train', 'result2_train', 'score1_test', \n",
        "'score2_test', 'result1_test', 'result2_test', 'score1_holdout', 'score2_holdout',\n",
        "'result1_holdout', 'result2_holdout']\n",
        "scores_dict = {}\n",
        "for item in scores_list:\n",
        "    scores, data_type, team = item.split('_')[0][:-1], item.split('_')[1], item.split('_')[0][-1]\n",
        "    if scores in scores_dict:\n",
        "        if data_type in scores_dict[scores]:\n",
        "            scores_dict[scores][data_type][team] = data_npz[item]\n",
        "        else:\n",
        "            scores_dict[scores].update({data_type:{team:data_npz[item]}})\n",
        "    else:\n",
        "        scores_dict[scores] = {data_type:{team:data_npz[item]}}\n",
        "\n",
        "y_train, line_train, active_train =  data_npz['y_train_multi'], data_npz['K_train'][:,1:], data_npz['K_train'][:,0] == 1\n",
        "y_train_regr1 = data_npz['y_train_regression1']\n",
        "y_train_regr2 = data_npz['y_train_regression2']\n",
        "y_test, line_test, active_test  =  data_npz['y_test_multi'], data_npz['K_test'][:,1:], data_npz['K_test'][:,0] == 1\n",
        "y_test_regr1 = data_npz['y_test_regression1']\n",
        "y_test_regr2 = data_npz['y_test_regression2']\n",
        "y_holdout, line_holdout, active_holdout = data_npz['y_holdout_multi'], data_npz['K_holdout'][:,1:], data_npz['K_holdout'][:,0] == 1\n",
        "y_holdout_regr1 = data_npz['y_holdout_regression1']\n",
        "y_holdout_regr2 = data_npz['y_holdout_regression2']\n",
        "zero_train, zero_test, zero_holdout = line_train > 1, line_test > 1, line_holdout > 1\n",
        "\n",
        "model_head = 'FOOT-LIVEBST1'\n",
        "model_head2 = 'FOOT-LIVEBST2'"
      ],
      "metadata": {
        "id": "qp0gYvPXtXfJ"
      },
      "execution_count": 13,
      "outputs": []
    },
    {
      "cell_type": "markdown",
      "metadata": {
        "id": "-HG31OjbAuy2"
      },
      "source": [
        "#### Download models and restore predicts"
      ]
    },
    {
      "cell_type": "code",
      "source": [
        "# Модель для 1-ой команды\n",
        "model_num = 3 # Указываем номер модели\n",
        "neptune_model = model_head\n",
        "neptune_model_version = neptune_model + f'-{model_num}'\n",
        "model_version_params = dict(\n",
        "    project = 'scomesse/football',\n",
        "    model = neptune_model,\n",
        "    api_token = api_key,\n",
        "    with_id = neptune_model_version\n",
        ")\n",
        "PATH_TO_MODEL = './booster.model'\n",
        "model_version = neptune.init_model_version(**model_version_params)\n",
        "model_version['model'].download(PATH_TO_MODEL)\n",
        "params1 = model_version['team_parameters'].fetch()\n",
        "model_version.stop()"
      ],
      "metadata": {
        "colab": {
          "base_uri": "https://localhost:8080/"
        },
        "id": "qHrDQPpsuIZE",
        "outputId": "2c7153f3-7892-4c80-fea1-49a01c6d833d"
      },
      "execution_count": 14,
      "outputs": [
        {
          "output_type": "stream",
          "name": "stdout",
          "text": [
            "https://app.neptune.ai/scomesse/football/m/FOOT-LIVEBST1/v/FOOT-LIVEBST1-3\n",
            "Remember to stop your model_version once you’ve finished logging your metadata (https://docs.neptune.ai/api/model_version#stop). It will be stopped automatically only when the notebook kernel/interactive console is terminated.\n",
            "Shutting down background jobs, please wait a moment...\n",
            "Done!\n",
            "All 0 operations synced, thanks for waiting!\n",
            "Explore the metadata in the Neptune app:\n",
            "https://app.neptune.ai/scomesse/football/m/FOOT-LIVEBST1/v/FOOT-LIVEBST1-3/metadata\n"
          ]
        }
      ]
    },
    {
      "cell_type": "code",
      "source": [
        "# Модель для 2-ой команды\n",
        "model_num_2 = 4 # Указываем номер модели\n",
        "neptune_model_2 = model_head2\n",
        "neptune_model_version_2 = neptune_model_2 + f'-{model_num_2}'\n",
        "model_version_params2 = dict(\n",
        "    project = 'scomesse/football',\n",
        "    model = neptune_model_2,\n",
        "    api_token = api_key,\n",
        "    with_id = neptune_model_version_2\n",
        ")\n",
        "PATH_TO_MODEL = './booster2.model'\n",
        "model_version2 = neptune.init_model_version(**model_version_params2)\n",
        "model_version2['model'].download(PATH_TO_MODEL)\n",
        "params2 = model_version2['team_parameters'].fetch()\n",
        "model_version2.stop()"
      ],
      "metadata": {
        "colab": {
          "base_uri": "https://localhost:8080/"
        },
        "id": "fxTmDCRyuNXs",
        "outputId": "f13ee233-392f-4de4-c394-7d248b855834"
      },
      "execution_count": 15,
      "outputs": [
        {
          "output_type": "stream",
          "name": "stdout",
          "text": [
            "https://app.neptune.ai/scomesse/football/m/FOOT-LIVEBST2/v/FOOT-LIVEBST2-4\n",
            "Remember to stop your model_version once you’ve finished logging your metadata (https://docs.neptune.ai/api/model_version#stop). It will be stopped automatically only when the notebook kernel/interactive console is terminated.\n",
            "Shutting down background jobs, please wait a moment...\n",
            "Done!\n",
            "All 0 operations synced, thanks for waiting!\n",
            "Explore the metadata in the Neptune app:\n",
            "https://app.neptune.ai/scomesse/football/m/FOOT-LIVEBST2/v/FOOT-LIVEBST2-4/metadata\n"
          ]
        }
      ]
    },
    {
      "cell_type": "code",
      "source": [
        "preds_dict = {}\n",
        "booster = CatBoost()\n",
        "booster.load_model('./booster.model')\n",
        "preds_dict['train'] = {1:booster.predict(X_train) * 21.0}\n",
        "preds_dict['test'] = {1:booster.predict(X_test) * 21.0}\n",
        "preds_dict['holdout'] = {1:booster.predict(X_holdout) * 21.0}\n",
        "\n",
        "booster2 = CatBoost()\n",
        "booster2.load_model('./booster2.model')\n",
        "preds_dict['train'].update({2:booster2.predict(X_train) * 21.0})\n",
        "preds_dict['test'].update({2:booster2.predict(X_test) * 21.0})\n",
        "preds_dict['holdout'].update({2:booster2.predict(X_holdout) * 21.0})\n",
        "#---------------\n",
        "process = psutil.Process(os.getpid())\n",
        "print('Mem usage: ', round(process.memory_info().rss / 1024 ** 3, 2), 'GiB')  # in bytes \n",
        "#---------------"
      ],
      "metadata": {
        "colab": {
          "base_uri": "https://localhost:8080/"
        },
        "id": "WKUoD5LVxn_x",
        "outputId": "ba47478a-b185-44bb-a364-d445f38d516d"
      },
      "execution_count": 16,
      "outputs": [
        {
          "output_type": "stream",
          "name": "stdout",
          "text": [
            "Mem usage:  3.5 GiB\n"
          ]
        }
      ]
    },
    {
      "cell_type": "markdown",
      "source": [
        "#### Calculate probabilities"
      ],
      "metadata": {
        "id": "MUoqIhQIy5S_"
      }
    },
    {
      "cell_type": "code",
      "source": [
        "active_rows_dict ={}\n",
        "active_rows_dict['train'] = (active_train & (line_train[:,6:9].sum(axis = 1) > 0))\n",
        "active_rows_dict['test'] = (active_test & (line_test[:,6:9].sum(axis = 1) > 0))\n",
        "active_rows_dict['holdout'] = (active_holdout & (line_holdout[:,6:9].sum(axis = 1) > 0))"
      ],
      "metadata": {
        "id": "gD7BoPzhx40M"
      },
      "execution_count": 17,
      "outputs": []
    },
    {
      "cell_type": "code",
      "source": [
        "# Считаем Пуассона\n",
        "poisson_dict = {}\n",
        "for name in ['train', 'test', 'holdout']:\n",
        "    poisson_dict[name] = {}\n",
        "    poisson_dict[name][1] = {}\n",
        "    poisson_dict[name][2] = {}\n",
        "    for goal in range(7):\n",
        "        poisson_dict[name][1][goal] = poisson.pmf(goal, preds_dict[name][1][active_rows_dict[name]])\n",
        "        poisson_dict[name][2][goal] = poisson.pmf(goal, preds_dict[name][2][active_rows_dict[name]])"
      ],
      "metadata": {
        "id": "mBa_Nc_EyG_V"
      },
      "execution_count": 18,
      "outputs": []
    },
    {
      "cell_type": "code",
      "source": [
        "# Считаем вероятности суммы забитых мячей\n",
        "total_matrix_dict = {}\n",
        "for name in ['train', 'test', 'holdout']:\n",
        "    total_matrix_dict[name] = np.zeros((np.sum(active_rows_dict[name]), 13))\n",
        "    for goal1 in range(7):\n",
        "        for goal2 in range(7):\n",
        "            total_matrix_dict[name][:, goal1 + goal2] = total_matrix_dict[name][:, goal1 + goal2] + \\\n",
        "            poisson_dict[name][1][goal2] * poisson_dict[name][2][goal1]"
      ],
      "metadata": {
        "id": "n7onL0rUyVnx"
      },
      "execution_count": 19,
      "outputs": []
    },
    {
      "cell_type": "code",
      "source": [
        "# Считаем вероятности забить не менее определенного количества мячей\n",
        "over_matrix_dict = {}\n",
        "for name in ['train', 'test', 'holdout']:\n",
        "    over_matrix_dict[name] = np.hstack((\n",
        "        np.flip(np.cumsum(np.flip(total_matrix_dict[name], axis = 1), axis = 1), axis = 1), \n",
        "        np.zeros(np.sum(active_rows_dict[name])).reshape(-1,1)\n",
        "                                    ))[:, 1:]"
      ],
      "metadata": {
        "id": "BLT5qch5ynrO"
      },
      "execution_count": 20,
      "outputs": []
    },
    {
      "cell_type": "code",
      "source": [
        "# Считаем вероятности забить не более определенного количества\n",
        "under_matrix_dict = {}\n",
        "for name in ['train', 'test', 'holdout']:\n",
        "    under_matrix_dict[name] = np.hstack((\n",
        "            np.zeros(np.sum(active_rows_dict[name])).reshape(-1,1), \n",
        "            np.cumsum(total_matrix_dict[name], axis = 1)\n",
        "                                            ))[:, :-1]"
      ],
      "metadata": {
        "id": "NrKmrBLHRTG9"
      },
      "execution_count": 21,
      "outputs": []
    },
    {
      "cell_type": "code",
      "source": [
        "# Считаем текущей стэйт суммы забитых мячей\n",
        "total_state_dict = {}\n",
        "total_state_dict['train'] = line_train[:,6][active_rows_dict['train']] - \\\n",
        "                            scores_dict['score']['train']['1'][active_rows_dict['train']] - \\\n",
        "                            scores_dict['score']['train']['2'][active_rows_dict['train']]\n",
        "total_state_dict['train'][total_state_dict['train'] < 0] = 0\n",
        "total_state_dict['test'] =  line_test[:,6][active_rows_dict['test']] - \\\n",
        "                            scores_dict['score']['test']['1'][active_rows_dict['test']] - \\\n",
        "                            scores_dict['score']['test']['2'][active_rows_dict['test']]\n",
        "total_state_dict['test'][total_state_dict['test'] < 0] = 0\n",
        "total_state_dict['holdout'] = line_holdout[:,6][active_rows_dict['holdout']] - \\\n",
        "                            scores_dict['score']['holdout']['1'][active_rows_dict['holdout']] - \\\n",
        "                            scores_dict['score']['holdout']['2'][active_rows_dict['holdout']]\n",
        "total_state_dict['holdout'][total_state_dict['holdout'] < 0] = 0"
      ],
      "metadata": {
        "id": "-b-MqvnlyhIQ"
      },
      "execution_count": 22,
      "outputs": []
    },
    {
      "cell_type": "code",
      "source": [
        "prob_dict = {}\n",
        "for name in ['train', 'test', 'holdout']:\n",
        "    prob_dict[name] = np.hstack((\n",
        "        np.take_along_axis(over_matrix_dict[name], total_state_dict[name].reshape(-1, 1).astype(np.int8), axis = 1),\n",
        "        np.take_along_axis(under_matrix_dict[name], (total_state_dict[name].reshape(-1, 1) + 0.5).astype(np.int8), axis = 1),\n",
        "    ))"
      ],
      "metadata": {
        "id": "Nb-J38hJYoKA"
      },
      "execution_count": 23,
      "outputs": []
    },
    {
      "cell_type": "code",
      "source": [
        "4753384 - 13258614\n",
        "5203349 - 15038087\n",
        "5264680 - 15038063\n",
        "5795894 - 15095747"
      ],
      "metadata": {
        "colab": {
          "base_uri": "https://localhost:8080/"
        },
        "id": "kQxP3svykjCK",
        "outputId": "9ba119a1-199c-4184-b378-e462c99a25d3"
      },
      "execution_count": 24,
      "outputs": [
        {
          "output_type": "execute_result",
          "data": {
            "text/plain": [
              "-9299853"
            ]
          },
          "metadata": {},
          "execution_count": 24
        }
      ]
    },
    {
      "cell_type": "markdown",
      "metadata": {
        "id": "ALJZxk1OzuGt"
      },
      "source": [
        "#### Plot TEST Profit validation"
      ]
    },
    {
      "cell_type": "code",
      "source": [
        "final_goal_sum = data_npz['result1_test'][active_rows_dict['test']] + data_npz['result2_test'][active_rows_dict['test']]"
      ],
      "metadata": {
        "id": "rPMbG8I-ae_Y"
      },
      "execution_count": 25,
      "outputs": []
    },
    {
      "cell_type": "code",
      "source": [
        "fig = get_profit_validation(prob_dict['test'], final_goal_sum, line_test[active_rows_dict['test'], 6:9],  'test: ' + neptune_model + f'-{model_num}')\n",
        "fig.show()"
      ],
      "metadata": {
        "id": "6L1Bl2IVhaXh"
      },
      "execution_count": null,
      "outputs": []
    },
    {
      "cell_type": "code",
      "source": [
        "#fig.write_html(f'test: {neptune_model}-{model_num}_profit_report.html') #neptune_model + f'-{model_num}'\n",
        "model_version = neptune.init_model_version(**model_version_params)\n",
        "model_version[f'total_profit_validation_test'].upload(neptune.types.File.as_html(fig))\n",
        "model_version.stop()"
      ],
      "metadata": {
        "colab": {
          "base_uri": "https://localhost:8080/"
        },
        "id": "bh07hhz7BEJd",
        "outputId": "cf1594ff-0546-49de-e26c-702ef1a67917"
      },
      "execution_count": 106,
      "outputs": [
        {
          "output_type": "stream",
          "name": "stdout",
          "text": [
            "https://app.neptune.ai/scomesse/football/m/FOOT-LIVEBST1/v/FOOT-LIVEBST1-3\n",
            "Remember to stop your model_version once you’ve finished logging your metadata (https://docs.neptune.ai/api/model_version#stop). It will be stopped automatically only when the notebook kernel/interactive console is terminated.\n",
            "Shutting down background jobs, please wait a moment...\n",
            "Done!\n",
            "Waiting for the remaining 1 operations to synchronize with Neptune. Do not kill this process.\n",
            "All 1 operations synced, thanks for waiting!\n",
            "Explore the metadata in the Neptune app:\n",
            "https://app.neptune.ai/scomesse/football/m/FOOT-LIVEBST1/v/FOOT-LIVEBST1-3/metadata\n"
          ]
        }
      ]
    },
    {
      "cell_type": "code",
      "source": [
        "threshold = 0.1087\n",
        "bet_type = 'divk'\n",
        "fig = plot_equity(\n",
        "    prob_dict['test'], \n",
        "    final_goal_sum, \n",
        "    line_test[active_rows_dict['test'], 6:9], \n",
        "    threshold, \n",
        "    'test: ' + neptune_model + f'-{model_num}', \n",
        "    bet_type = bet_type, \n",
        "    data_split = 'test'\n",
        "    )\n",
        "fig.show()"
      ],
      "metadata": {
        "id": "LRy0mz_odYCJ"
      },
      "execution_count": null,
      "outputs": []
    },
    {
      "cell_type": "code",
      "source": [
        "model_version = neptune.init_model_version(**model_version_params)\n",
        "model_version[f'total_equity_test_{bet_type}_th_{threshold}'].upload(neptune.types.File.as_html(fig))\n",
        "model_version.stop()"
      ],
      "metadata": {
        "colab": {
          "base_uri": "https://localhost:8080/"
        },
        "id": "2_nudtCKKmLQ",
        "outputId": "375d50b0-717b-4209-cce8-d7bc8c0070a4"
      },
      "execution_count": 114,
      "outputs": [
        {
          "output_type": "stream",
          "name": "stdout",
          "text": [
            "https://app.neptune.ai/scomesse/football/m/FOOT-LIVEBST1/v/FOOT-LIVEBST1-3\n",
            "Remember to stop your model_version once you’ve finished logging your metadata (https://docs.neptune.ai/api/model_version#stop). It will be stopped automatically only when the notebook kernel/interactive console is terminated.\n",
            "Shutting down background jobs, please wait a moment...\n",
            "Done!\n",
            "Waiting for the remaining 1 operations to synchronize with Neptune. Do not kill this process.\n",
            "All 1 operations synced, thanks for waiting!\n",
            "Explore the metadata in the Neptune app:\n",
            "https://app.neptune.ai/scomesse/football/m/FOOT-LIVEBST1/v/FOOT-LIVEBST1-3/metadata\n"
          ]
        }
      ]
    },
    {
      "cell_type": "code",
      "source": [
        "time_df = pd.read_csv('./time.csv', index_col = 'Id', parse_dates = ['StatTime'])\n",
        "add_data_name = './additional_data.npz'\n",
        "add_data = np.load(add_data_name)\n",
        "id_test = add_data['id_test']\n",
        "time_df = time_df[time_df.index.isin(id_test)]\n",
        "time_dict = time_df.to_dict()\n",
        "timeline_test_array = np.sort([np.datetime64(time_dict['StatTime'][id]) for id in id_test])\n",
        "#---------------\n",
        "process = psutil.Process(os.getpid())\n",
        "print('Mem usage: ', round(process.memory_info().rss / 1024 ** 3, 2), 'GiB')  # in bytes \n",
        "#---------------"
      ],
      "metadata": {
        "colab": {
          "base_uri": "https://localhost:8080/"
        },
        "id": "k0IGWXANZftQ",
        "outputId": "99fb1571-df17-44d4-f53e-1a9432f37486"
      },
      "execution_count": 28,
      "outputs": [
        {
          "output_type": "stream",
          "name": "stdout",
          "text": [
            "Mem usage:  5.49 GiB\n"
          ]
        }
      ]
    },
    {
      "cell_type": "code",
      "source": [
        "threshold = 0.1087\n",
        "bet_type = 'divk'\n",
        "fig = plot_equity(\n",
        "    prob_dict['test'],\n",
        "    final_goal_sum, \n",
        "    line_test[active_rows_dict['test'], 6:9], \n",
        "    threshold, \n",
        "    'test: ' + neptune_model + f'-{model_num}',\n",
        "    x_date = timeline_test_array[active_rows_dict['test']],\n",
        "    bet_type = bet_type, \n",
        "    data_split = 'test'\n",
        "    )\n",
        "fig.show()"
      ],
      "metadata": {
        "id": "6C6gaN_ya0Vu"
      },
      "execution_count": null,
      "outputs": []
    },
    {
      "cell_type": "code",
      "source": [
        "model_version = neptune.init_model_version(**model_version_params)\n",
        "model_version[f'timeline_total_equity_test_{bet_type}_th_{threshold}'].upload(neptune.types.File.as_html(fig))\n",
        "model_version.stop()"
      ],
      "metadata": {
        "colab": {
          "base_uri": "https://localhost:8080/"
        },
        "id": "P8R3We80hSM3",
        "outputId": "8fa30452-d1d4-4082-9257-c78708bb4607"
      },
      "execution_count": 167,
      "outputs": [
        {
          "output_type": "stream",
          "name": "stdout",
          "text": [
            "https://app.neptune.ai/scomesse/football/m/FOOT-LIVEBST1/v/FOOT-LIVEBST1-3\n",
            "Remember to stop your model_version once you’ve finished logging your metadata (https://docs.neptune.ai/api/model_version#stop). It will be stopped automatically only when the notebook kernel/interactive console is terminated.\n",
            "Shutting down background jobs, please wait a moment...\n",
            "Done!\n",
            "Waiting for the remaining 1 operations to synchronize with Neptune. Do not kill this process.\n",
            "All 1 operations synced, thanks for waiting!\n",
            "Explore the metadata in the Neptune app:\n",
            "https://app.neptune.ai/scomesse/football/m/FOOT-LIVEBST1/v/FOOT-LIVEBST1-3/metadata\n"
          ]
        }
      ]
    },
    {
      "cell_type": "markdown",
      "metadata": {
        "id": "xNXP-L8frqdg"
      },
      "source": [
        "#### Plot HOLDOUT Profit validation"
      ]
    },
    {
      "cell_type": "code",
      "source": [
        "final_goal_sum = data_npz['result1_holdout'][active_rows_dict['holdout']] + data_npz['result2_holdout'][active_rows_dict['holdout']]"
      ],
      "metadata": {
        "id": "SjusNeZCrxbC"
      },
      "execution_count": 32,
      "outputs": []
    },
    {
      "cell_type": "code",
      "source": [
        "fig = get_profit_validation(prob_dict['holdout'], final_goal_sum, line_holdout[active_rows_dict['holdout'], 6:9],  'holdout: ' + neptune_model + f'-{model_num}')\n",
        "fig.show()"
      ],
      "metadata": {
        "id": "LQvzjXDtrvR-"
      },
      "execution_count": null,
      "outputs": []
    }
  ]
}