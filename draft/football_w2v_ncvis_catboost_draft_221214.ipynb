{
  "nbformat": 4,
  "nbformat_minor": 0,
  "metadata": {
    "colab": {
      "provenance": [],
      "collapsed_sections": [
        "JnoakdYG0WIm",
        "7dEcqW_jH4pw",
        "X69hHEsFix4n"
      ],
      "authorship_tag": "ABX9TyNu5mF1kj/dAAj9YVycu1dr",
      "include_colab_link": true
    },
    "kernelspec": {
      "name": "python3",
      "display_name": "Python 3"
    },
    "language_info": {
      "name": "python"
    }
  },
  "cells": [
    {
      "cell_type": "markdown",
      "metadata": {
        "id": "view-in-github",
        "colab_type": "text"
      },
      "source": [
        "<a href=\"https://colab.research.google.com/github/cappelchi/calcio_notebooks/blob/main/draft/football_w2v_ncvis_catboost_draft_221214.ipynb\" target=\"_parent\"><img src=\"https://colab.research.google.com/assets/colab-badge.svg\" alt=\"Open In Colab\"/></a>"
      ]
    },
    {
      "cell_type": "markdown",
      "source": [
        "### Project config"
      ],
      "metadata": {
        "id": "JnoakdYG0WIm"
      }
    },
    {
      "cell_type": "code",
      "source": [
        "try:\n",
        "    import neptune.new as neptune\n",
        "except:\n",
        "    !pip install neptune-client >> None\n",
        "    import neptune.new as neptune\n",
        "#from neptune.new.integrations.tensorflow_keras import NeptuneCallback\n",
        "def get_credential(frmwork = 'neptune_team'):\n",
        "    with open('credential.txt', 'r') as container:\n",
        "        for line in container:\n",
        "            if frmwork in line:\n",
        "                login, psw = line.split(' ')[1], line.split(' ')[2].split('\\n')[0]\n",
        "                return login, psw"
      ],
      "metadata": {
        "id": "O9bCK_dx0QSM"
      },
      "execution_count": null,
      "outputs": []
    },
    {
      "cell_type": "code",
      "source": [
        "#@title Set API key for neptune.ai\n",
        "set_api = True #@param {type:\"boolean\"}\n",
        "if set_api:\n",
        "    username, api_key = get_credential()"
      ],
      "metadata": {
        "id": "oDK6n6CVQidT"
      },
      "execution_count": null,
      "outputs": []
    },
    {
      "cell_type": "markdown",
      "metadata": {
        "id": "7dEcqW_jH4pw"
      },
      "source": [
        "### Installations"
      ]
    },
    {
      "cell_type": "code",
      "source": [
        "!pip install --upgrade gensim >> None\n",
        "!pip install catboost >> None"
      ],
      "metadata": {
        "id": "dP-bo_CB7GgI"
      },
      "execution_count": null,
      "outputs": []
    },
    {
      "cell_type": "markdown",
      "metadata": {
        "id": "X69hHEsFix4n"
      },
      "source": [
        "### Downloads"
      ]
    },
    {
      "cell_type": "code",
      "source": [
        "dataset_name = './dataset.npz'\n",
        "dataframe_name = './data_ready.csv.gz'\n",
        "#validation_dataset_name = './prem_validation.csv'\n",
        "data_version = 'data_221212/'\n",
        "project = neptune.init_project(\n",
        "    name=\"scomesse/football\", \n",
        "    api_token = api_key\n",
        "    )\n",
        "project[data_version + 'dataset_npz'].download(dataset_name)\n",
        "project[data_version + 'data_ready'].download(dataframe_name)\n",
        "word2vec_params = project[data_version+ 'word2vec_params'].fetch()\n",
        "project.stop()"
      ],
      "metadata": {
        "colab": {
          "base_uri": "https://localhost:8080/"
        },
        "id": "ccFhlCBt1jw8",
        "outputId": "eeeecb47-6b07-403b-9070-1e9c1a2a1c5b"
      },
      "execution_count": null,
      "outputs": [
        {
          "output_type": "stream",
          "name": "stdout",
          "text": [
            "https://app.neptune.ai/scomesse/football/\n",
            "Remember to stop your project once you’ve finished logging your metadata (https://docs.neptune.ai/api/project#stop). It will be stopped automatically only when the notebook kernel/interactive console is terminated.\n",
            "Shutting down background jobs, please wait a moment...\n",
            "Done!\n",
            "All 0 operations synced, thanks for waiting!\n",
            "Explore the metadata in the Neptune app:\n",
            "https://app.neptune.ai/scomesse/football/metadata\n"
          ]
        }
      ]
    },
    {
      "cell_type": "markdown",
      "metadata": {
        "id": "RocnM6a5lPkc"
      },
      "source": [
        "### Imports"
      ]
    },
    {
      "cell_type": "code",
      "source": [
        "import pandas as pd\n",
        "import numpy as np\n",
        "pd.options.display.max_columns = 50\n",
        "pd.options.display.max_rows = 100\n",
        "print(pd.__version__)\n",
        "print(np.__version__)"
      ],
      "metadata": {
        "colab": {
          "base_uri": "https://localhost:8080/"
        },
        "id": "CUUqjSP3isyW",
        "outputId": "21b3042a-ef59-4456-f2eb-1fc834d07529"
      },
      "execution_count": null,
      "outputs": [
        {
          "output_type": "stream",
          "name": "stdout",
          "text": [
            "1.3.5\n",
            "1.21.6\n"
          ]
        }
      ]
    },
    {
      "cell_type": "code",
      "source": [],
      "metadata": {
        "id": "_yjv-XRmi4N8"
      },
      "execution_count": null,
      "outputs": []
    },
    {
      "cell_type": "code",
      "source": [
        "from tqdm import tqdm"
      ],
      "metadata": {
        "id": "0RvDCsnWzwpa"
      },
      "execution_count": null,
      "outputs": []
    },
    {
      "cell_type": "code",
      "source": [
        "from catboost import CatBoost\n",
        "from catboost import CatBoostClassifier, Pool\n",
        "from catboost.utils import eval_metric\n",
        "np.random.seed(147)"
      ],
      "metadata": {
        "id": "coq_uB3Evy5c"
      },
      "execution_count": null,
      "outputs": []
    },
    {
      "cell_type": "markdown",
      "metadata": {
        "id": "umm53OS2Ljgg"
      },
      "source": [
        "### Code"
      ]
    },
    {
      "cell_type": "markdown",
      "metadata": {
        "id": "QaxYpane0krf"
      },
      "source": [
        "#### Load tensors"
      ]
    },
    {
      "cell_type": "code",
      "source": [
        "#@title Target\n",
        "target_result = \"HOME\" #@param [\"HOME\", \"DRAW\", \"AWAY\"]\n",
        "target_dict = {'HOME':0, 'DRAW':1, 'AWAY':2}\n",
        "clmn = target_dict[target_result]\n",
        "data_npz = np.load(dataset_name)\n",
        "X_train, X_test, X_validation, X_production = \\\n",
        "data_npz['X_train'], data_npz['X_test'], data_npz['X_validation'], data_npz['X_production']\n",
        "y_train, y_test, y_validation,  y_production = \\\n",
        "data_npz['y_class_train'][:, clmn], data_npz['y_class_test'][:, clmn], data_npz['y_class_validation'][:, clmn], data_npz['y_class_production'][:, clmn]\n",
        "Line_production, embedding_matrix = data_npz['Line_production'], data_npz['embedding_matrix']"
      ],
      "metadata": {
        "id": "YaCISJBgfxe8"
      },
      "execution_count": null,
      "outputs": []
    },
    {
      "cell_type": "code",
      "source": [
        "data_df = pd.read_csv('./data_ready.csv.gz')"
      ],
      "metadata": {
        "id": "jKcmWz1Cn2Uh"
      },
      "execution_count": null,
      "outputs": []
    },
    {
      "cell_type": "code",
      "source": [
        "names =['home_input_1', \n",
        "         'home_input_2', \n",
        "         'home_input_3', \n",
        "         'home_input_4', \n",
        "         'home_input_5', \n",
        "         'home_input_6', \n",
        "         'home_input_7', \n",
        "         'home_input_8', \n",
        "         'home_input_9', \n",
        "         'home_input_10',\n",
        "         'away_input_1', \n",
        "         'away_input_2', \n",
        "         'away_input_3', \n",
        "         'away_input_4', \n",
        "         'away_input_5', \n",
        "         'away_input_6', \n",
        "         'away_input_7', \n",
        "         'away_input_8', \n",
        "         'away_input_9', \n",
        "         'away_input_10']"
      ],
      "metadata": {
        "id": "jM4llROFvgNl"
      },
      "execution_count": null,
      "outputs": []
    },
    {
      "cell_type": "code",
      "source": [
        "val_date = pd.to_datetime('2022-01-01').timestamp()\n",
        "train_date = pd.to_datetime('2019-01-01').timestamp()"
      ],
      "metadata": {
        "id": "WJMM3ZeAoDc7"
      },
      "execution_count": null,
      "outputs": []
    },
    {
      "cell_type": "code",
      "source": [
        "val_date = pd.to_datetime('2022-01-01').timestamp()\n",
        "train_date = pd.to_datetime('2019-01-01').timestamp()\n",
        "validation_vector = (data_df['timestamp'] > val_date).values\n",
        "test_vector = ((data_df['timestamp'] < val_date) & (data_df['timestamp'] > train_date)).values\n",
        "train_vector = (data_df['timestamp'] < train_date).values\n",
        "print(train_vector.sum(), test_vector.sum(), validation_vector.sum())"
      ],
      "metadata": {
        "colab": {
          "base_uri": "https://localhost:8080/"
        },
        "id": "Bkr6uyjDwcBN",
        "outputId": "79103e22-5cca-4f7f-ed9a-0e8631ed2d90"
      },
      "execution_count": null,
      "outputs": [
        {
          "output_type": "stream",
          "name": "stdout",
          "text": [
            "1923326 582753 197544\n"
          ]
        }
      ]
    },
    {
      "cell_type": "code",
      "source": [
        "for sentence in data_df[names][validation_vector].values:\n",
        "    print(sentence.astype(str))\n",
        "    break"
      ],
      "metadata": {
        "colab": {
          "base_uri": "https://localhost:8080/"
        },
        "id": "WpAzJMM90dZG",
        "outputId": "d886a0b3-0f8b-4bd0-e1df-4e10ebd72930"
      },
      "execution_count": null,
      "outputs": [
        {
          "output_type": "stream",
          "name": "stdout",
          "text": [
            "23 149 143 41 143 17 41 12 46 148 485 11 137 35 17 179 137 156 58 16\n"
          ]
        }
      ]
    },
    {
      "cell_type": "code",
      "source": [
        "X_train = pd.DataFrame([\n",
        "    ' '.join(sentence.astype(str))\n",
        "    for sentence in tqdm(data_df[names][train_vector].values)\n",
        "                ])\n",
        "X_test = pd.DataFrame([\n",
        "    ' '.join(sentence.astype(str))\n",
        "    for sentence in tqdm(data_df[names][test_vector].values)\n",
        "                ])\n",
        "X_validation = pd.DataFrame([\n",
        "    ' '.join(sentence.astype(str))\n",
        "    for sentence in tqdm(data_df[names][validation_vector].values)\n",
        "                ])"
      ],
      "metadata": {
        "colab": {
          "base_uri": "https://localhost:8080/"
        },
        "id": "B-6OUest1ZYU",
        "outputId": "33386f5b-afc5-4219-a065-d7ff60025916"
      },
      "execution_count": null,
      "outputs": [
        {
          "output_type": "stream",
          "name": "stderr",
          "text": [
            "100%|██████████| 1923326/1923326 [00:46<00:00, 41806.03it/s]\n",
            "100%|██████████| 582753/582753 [00:13<00:00, 44072.77it/s]\n",
            "100%|██████████| 197544/197544 [00:04<00:00, 40871.89it/s]\n"
          ]
        }
      ]
    },
    {
      "cell_type": "code",
      "source": [
        "# Our target variable\n",
        "y_train = data_df['binary_output'][train_vector].copy()\n",
        "y_test = data_df['binary_output'][test_vector].copy()\n",
        "y_validation = data_df['binary_output'][validation_vector].copy()"
      ],
      "metadata": {
        "id": "oI_XEYY8xJK7"
      },
      "execution_count": null,
      "outputs": []
    },
    {
      "cell_type": "code",
      "source": [],
      "metadata": {
        "colab": {
          "base_uri": "https://localhost:8080/"
        },
        "id": "jMbhFNI4oWiM",
        "outputId": "db34134a-a08e-440d-9ab1-a3f2aa2d0246"
      },
      "execution_count": null,
      "outputs": [
        {
          "output_type": "execute_result",
          "data": {
            "text/plain": [
              "(20015, 18025)"
            ]
          },
          "metadata": {},
          "execution_count": 78
        }
      ]
    },
    {
      "cell_type": "code",
      "source": [
        "from sklearn.feature_extraction.text import TfidfVectorizer, CountVectorizer"
      ],
      "metadata": {
        "id": "kKhNLZ1l5J7K"
      },
      "execution_count": null,
      "outputs": []
    },
    {
      "cell_type": "code",
      "source": [
        "vectorizer = TfidfVectorizer(max_features = 1000)\n",
        "X_train_vect = vectorizer.fit_transform([\n",
        "    ' '.join(sentence.astype(str))\n",
        "    for sentence in tqdm(data_df[names][train_vector].values)\n",
        "                ])\n",
        "X_test_vect = vectorizer.fit_transform([\n",
        "    ' '.join(sentence.astype(str))\n",
        "    for sentence in tqdm(data_df[names][test_vector].values)\n",
        "                ])"
      ],
      "metadata": {
        "colab": {
          "base_uri": "https://localhost:8080/"
        },
        "id": "TB55JIxz5Kr6",
        "outputId": "cbe241e3-b47c-4acf-bdbe-a0d9508cc082"
      },
      "execution_count": null,
      "outputs": [
        {
          "output_type": "stream",
          "name": "stderr",
          "text": [
            "100%|██████████| 1923326/1923326 [01:06<00:00, 28902.76it/s]\n",
            "100%|██████████| 582753/582753 [00:16<00:00, 36017.97it/s]\n"
          ]
        }
      ]
    },
    {
      "cell_type": "code",
      "source": [
        "#train_data = Pool(X_train, y_train, text_features=[0])\n",
        "#test_data = Pool(X_test, y_test, text_features=[0])\n",
        "train_data = Pool(X_train_vect.toarray(), y_train) ## toarray() is added to prevent catboost from failing (to avoid sparse array error)\n",
        "test_data = Pool(X_test_vect.toarray(), y_test) ## toarray() is added to prevent catboost from failing (to avoid sparse array error)"
      ],
      "metadata": {
        "id": "SfFTwaOlwxku"
      },
      "execution_count": null,
      "outputs": []
    },
    {
      "cell_type": "code",
      "source": [
        "booster = CatBoostClassifier(iterations=10)"
      ],
      "metadata": {
        "id": "GaxBgXe27NzN"
      },
      "execution_count": null,
      "outputs": []
    },
    {
      "cell_type": "code",
      "source": [
        "#booster = CatBoostClassifier(iterations=100, learning_rate=0.001, eval_metric='Accuracy',\n",
        "#                             text_processing=['NaiveBayes+Word|BoW+Word:min_token_occurrence=2'])"
      ],
      "metadata": {
        "id": "5eCR73cb2IlK"
      },
      "execution_count": null,
      "outputs": []
    },
    {
      "cell_type": "code",
      "source": [
        "booster.fit(train_data, eval_set=test_data)"
      ],
      "metadata": {
        "id": "ID6poWgm2Z5I"
      },
      "execution_count": null,
      "outputs": []
    },
    {
      "cell_type": "code",
      "source": [
        "print(\"\\nTest  Accuracy : %.2f\"%booster.score(train_data))\n",
        "print(\"Train Accuracy : %.2f\"%booster.score(test_data))"
      ],
      "metadata": {
        "colab": {
          "base_uri": "https://localhost:8080/",
          "height": 346
        },
        "id": "FWBT9PbV3ZYf",
        "outputId": "6474ef88-5fd6-45f5-fa68-189600835e09"
      },
      "execution_count": null,
      "outputs": [
        {
          "output_type": "error",
          "ename": "CatBoostError",
          "evalue": "ignored",
          "traceback": [
            "\u001b[0;31m---------------------------------------------------------------------------\u001b[0m",
            "\u001b[0;31mCatBoostError\u001b[0m                             Traceback (most recent call last)",
            "\u001b[0;32m<ipython-input-15-63b6e289b90a>\u001b[0m in \u001b[0;36m<module>\u001b[0;34m\u001b[0m\n\u001b[0;32m----> 1\u001b[0;31m \u001b[0mprint\u001b[0m\u001b[0;34m(\u001b[0m\u001b[0;34m\"\\nTest  Accuracy : %.2f\"\u001b[0m\u001b[0;34m%\u001b[0m\u001b[0mbooster\u001b[0m\u001b[0;34m.\u001b[0m\u001b[0mscore\u001b[0m\u001b[0;34m(\u001b[0m\u001b[0mtrain_data\u001b[0m\u001b[0;34m)\u001b[0m\u001b[0;34m)\u001b[0m\u001b[0;34m\u001b[0m\u001b[0;34m\u001b[0m\u001b[0m\n\u001b[0m\u001b[1;32m      2\u001b[0m \u001b[0mprint\u001b[0m\u001b[0;34m(\u001b[0m\u001b[0;34m\"Train Accuracy : %.2f\"\u001b[0m\u001b[0;34m%\u001b[0m\u001b[0mbooster\u001b[0m\u001b[0;34m.\u001b[0m\u001b[0mscore\u001b[0m\u001b[0;34m(\u001b[0m\u001b[0mtest_data\u001b[0m\u001b[0;34m)\u001b[0m\u001b[0;34m)\u001b[0m\u001b[0;34m\u001b[0m\u001b[0;34m\u001b[0m\u001b[0m\n",
            "\u001b[0;32m/usr/local/lib/python3.8/dist-packages/catboost/core.py\u001b[0m in \u001b[0;36mscore\u001b[0;34m(self, X, y)\u001b[0m\n\u001b[1;32m   5428\u001b[0m             \u001b[0;32mraise\u001b[0m \u001b[0mCatBoostError\u001b[0m\u001b[0;34m(\u001b[0m\u001b[0;34m\"y should be specified.\"\u001b[0m\u001b[0;34m)\u001b[0m\u001b[0;34m\u001b[0m\u001b[0;34m\u001b[0m\u001b[0m\n\u001b[1;32m   5429\u001b[0m         \u001b[0my\u001b[0m \u001b[0;34m=\u001b[0m \u001b[0mnp\u001b[0m\u001b[0;34m.\u001b[0m\u001b[0marray\u001b[0m\u001b[0;34m(\u001b[0m\u001b[0my\u001b[0m\u001b[0;34m)\u001b[0m\u001b[0;34m\u001b[0m\u001b[0;34m\u001b[0m\u001b[0m\n\u001b[0;32m-> 5430\u001b[0;31m         predicted_classes = self._predict(\n\u001b[0m\u001b[1;32m   5431\u001b[0m             \u001b[0mX\u001b[0m\u001b[0;34m,\u001b[0m\u001b[0;34m\u001b[0m\u001b[0;34m\u001b[0m\u001b[0m\n\u001b[1;32m   5432\u001b[0m             \u001b[0mprediction_type\u001b[0m\u001b[0;34m=\u001b[0m\u001b[0;34m'Class'\u001b[0m\u001b[0;34m,\u001b[0m\u001b[0;34m\u001b[0m\u001b[0;34m\u001b[0m\u001b[0m\n",
            "\u001b[0;32m/usr/local/lib/python3.8/dist-packages/catboost/core.py\u001b[0m in \u001b[0;36m_predict\u001b[0;34m(self, data, prediction_type, ntree_start, ntree_end, thread_count, verbose, parent_method_name, task_type)\u001b[0m\n\u001b[1;32m   2539\u001b[0m         \u001b[0;32mif\u001b[0m \u001b[0mverbose\u001b[0m \u001b[0;32mis\u001b[0m \u001b[0;32mNone\u001b[0m\u001b[0;34m:\u001b[0m\u001b[0;34m\u001b[0m\u001b[0;34m\u001b[0m\u001b[0m\n\u001b[1;32m   2540\u001b[0m             \u001b[0mverbose\u001b[0m \u001b[0;34m=\u001b[0m \u001b[0;32mFalse\u001b[0m\u001b[0;34m\u001b[0m\u001b[0;34m\u001b[0m\u001b[0m\n\u001b[0;32m-> 2541\u001b[0;31m         \u001b[0mdata\u001b[0m\u001b[0;34m,\u001b[0m \u001b[0mdata_is_single_object\u001b[0m \u001b[0;34m=\u001b[0m \u001b[0mself\u001b[0m\u001b[0;34m.\u001b[0m\u001b[0m_process_predict_input_data\u001b[0m\u001b[0;34m(\u001b[0m\u001b[0mdata\u001b[0m\u001b[0;34m,\u001b[0m \u001b[0mparent_method_name\u001b[0m\u001b[0;34m,\u001b[0m \u001b[0mthread_count\u001b[0m\u001b[0;34m)\u001b[0m\u001b[0;34m\u001b[0m\u001b[0;34m\u001b[0m\u001b[0m\n\u001b[0m\u001b[1;32m   2542\u001b[0m         \u001b[0mself\u001b[0m\u001b[0;34m.\u001b[0m\u001b[0m_validate_prediction_type\u001b[0m\u001b[0;34m(\u001b[0m\u001b[0mprediction_type\u001b[0m\u001b[0;34m)\u001b[0m\u001b[0;34m\u001b[0m\u001b[0;34m\u001b[0m\u001b[0m\n\u001b[1;32m   2543\u001b[0m \u001b[0;34m\u001b[0m\u001b[0m\n",
            "\u001b[0;32m/usr/local/lib/python3.8/dist-packages/catboost/core.py\u001b[0m in \u001b[0;36m_process_predict_input_data\u001b[0;34m(self, data, parent_method_name, thread_count, label)\u001b[0m\n\u001b[1;32m   2515\u001b[0m     \u001b[0;32mdef\u001b[0m \u001b[0m_process_predict_input_data\u001b[0m\u001b[0;34m(\u001b[0m\u001b[0mself\u001b[0m\u001b[0;34m,\u001b[0m \u001b[0mdata\u001b[0m\u001b[0;34m,\u001b[0m \u001b[0mparent_method_name\u001b[0m\u001b[0;34m,\u001b[0m \u001b[0mthread_count\u001b[0m\u001b[0;34m,\u001b[0m \u001b[0mlabel\u001b[0m\u001b[0;34m=\u001b[0m\u001b[0;32mNone\u001b[0m\u001b[0;34m)\u001b[0m\u001b[0;34m:\u001b[0m\u001b[0;34m\u001b[0m\u001b[0;34m\u001b[0m\u001b[0m\n\u001b[1;32m   2516\u001b[0m         \u001b[0;32mif\u001b[0m \u001b[0;32mnot\u001b[0m \u001b[0mself\u001b[0m\u001b[0;34m.\u001b[0m\u001b[0mis_fitted\u001b[0m\u001b[0;34m(\u001b[0m\u001b[0;34m)\u001b[0m \u001b[0;32mor\u001b[0m \u001b[0mself\u001b[0m\u001b[0;34m.\u001b[0m\u001b[0mtree_count_\u001b[0m \u001b[0;32mis\u001b[0m \u001b[0;32mNone\u001b[0m\u001b[0;34m:\u001b[0m\u001b[0;34m\u001b[0m\u001b[0;34m\u001b[0m\u001b[0m\n\u001b[0;32m-> 2517\u001b[0;31m             raise CatBoostError((\"There is no trained model to use {}(). \"\n\u001b[0m\u001b[1;32m   2518\u001b[0m                                  \"Use fit() to train model. Then use this method.\").format(parent_method_name))\n\u001b[1;32m   2519\u001b[0m         \u001b[0mis_single_object\u001b[0m \u001b[0;34m=\u001b[0m \u001b[0m_is_data_single_object\u001b[0m\u001b[0;34m(\u001b[0m\u001b[0mdata\u001b[0m\u001b[0;34m)\u001b[0m\u001b[0;34m\u001b[0m\u001b[0;34m\u001b[0m\u001b[0m\n",
            "\u001b[0;31mCatBoostError\u001b[0m: There is no trained model to use score(). Use fit() to train model. Then use this method."
          ]
        }
      ]
    },
    {
      "cell_type": "markdown",
      "source": [
        "### NCVIS"
      ],
      "metadata": {
        "id": "-8YyY3TwhKDg"
      }
    },
    {
      "cell_type": "code",
      "source": [
        "!pip install ncvis"
      ],
      "metadata": {
        "colab": {
          "base_uri": "https://localhost:8080/"
        },
        "id": "B9us7MEsdgTG",
        "outputId": "eed7c0c7-4890-4155-d7bd-4742aa92a25b"
      },
      "execution_count": null,
      "outputs": [
        {
          "output_type": "stream",
          "name": "stdout",
          "text": [
            "Looking in indexes: https://pypi.org/simple, https://us-python.pkg.dev/colab-wheels/public/simple/\n",
            "Collecting ncvis\n",
            "  Downloading ncvis-1.5.9.tar.gz (290 kB)\n",
            "\u001b[K     |████████████████████████████████| 290 kB 32.5 MB/s \n",
            "\u001b[?25hBuilding wheels for collected packages: ncvis\n",
            "  Building wheel for ncvis (setup.py) ... \u001b[?25l\u001b[?25hdone\n",
            "  Created wheel for ncvis: filename=ncvis-1.5.9-cp38-cp38-linux_x86_64.whl size=829518 sha256=80944eeed643780b05778815b24a10a5a98b4fa29916620001ac31a3a0e0c3c7\n",
            "  Stored in directory: /root/.cache/pip/wheels/d0/12/05/37c1bf30302aabb78904eed5b3ec8ed67fa01e5a93112a8437\n",
            "Successfully built ncvis\n",
            "Installing collected packages: ncvis\n",
            "Successfully installed ncvis-1.5.9\n"
          ]
        }
      ]
    },
    {
      "cell_type": "code",
      "source": [
        "import ncvis\n",
        "import plotly.express as px"
      ],
      "metadata": {
        "id": "o7CN9hbahUsj"
      },
      "execution_count": null,
      "outputs": []
    },
    {
      "cell_type": "code",
      "source": [
        "embedding_matrix.shape"
      ],
      "metadata": {
        "colab": {
          "base_uri": "https://localhost:8080/"
        },
        "id": "nIv46urOhW_2",
        "outputId": "775310cf-c906-4683-b263-c3236f88fa43"
      },
      "execution_count": null,
      "outputs": [
        {
          "output_type": "execute_result",
          "data": {
            "text/plain": [
              "(793, 16)"
            ]
          },
          "metadata": {},
          "execution_count": 16
        }
      ]
    },
    {
      "cell_type": "code",
      "source": [
        "vis = ncvis.NCVis(d = 2, n_neighbors = 100, n_epochs =100, random_seed = 47, min_dist = 0.25)"
      ],
      "metadata": {
        "colab": {
          "base_uri": "https://localhost:8080/"
        },
        "id": "WFqtjyZEiM6v",
        "outputId": "2fbb1f5a-bb84-4a30-b736-76ff1b924a2e"
      },
      "execution_count": null,
      "outputs": [
        {
          "output_type": "stream",
          "name": "stderr",
          "text": [
            "<ipython-input-45-698a702f76bd>:1: DeprecationWarning:\n",
            "\n",
            "`np.int` is a deprecated alias for the builtin `int`. To silence this warning, use `int` by itself. Doing this will not modify any behavior and is safe. When replacing `np.int`, you may wish to use e.g. `np.int64` or `np.int32` to specify the precision. If you wish to review your current use, check the release note link for additional information.\n",
            "Deprecated in NumPy 1.20; for more details and guidance: https://numpy.org/devdocs/release/1.20.0-notes.html#deprecations\n",
            "\n",
            "<ipython-input-45-698a702f76bd>:1: DeprecationWarning:\n",
            "\n",
            "`np.long` is a deprecated alias for `np.compat.long`. To silence this warning, use `np.compat.long` by itself. In the likely event your code does not need to work on Python 2 you can use the builtin `int` for which `np.compat.long` is itself an alias. Doing this will not modify any behaviour and is safe. When replacing `np.long`, you may wish to use e.g. `np.int64` or `np.int32` to specify the precision. If you wish to review your current use, check the release note link for additional information.\n",
            "Deprecated in NumPy 1.20; for more details and guidance: https://numpy.org/devdocs/release/1.20.0-notes.html#deprecations\n",
            "\n"
          ]
        }
      ]
    },
    {
      "cell_type": "code",
      "source": [
        "%%time\n",
        "Y = vis.fit_transform(embedding_matrix)"
      ],
      "metadata": {
        "colab": {
          "base_uri": "https://localhost:8080/"
        },
        "id": "cWV0INnlhW6A",
        "outputId": "1cd93504-837d-484e-9a22-88ebe28dc6f6"
      },
      "execution_count": null,
      "outputs": [
        {
          "output_type": "stream",
          "name": "stdout",
          "text": [
            "CPU times: user 4.88 s, sys: 5.85 ms, total: 4.89 s\n",
            "Wall time: 2.48 s\n"
          ]
        }
      ]
    },
    {
      "cell_type": "code",
      "source": [
        "px.scatter(pd.DataFrame(Y, columns = ['c1', 'c2']), x = 'c1', y = 'c2')"
      ],
      "metadata": {
        "colab": {
          "base_uri": "https://localhost:8080/",
          "height": 542
        },
        "id": "6bMSqHfFirmu",
        "outputId": "e18887e5-b387-4428-df00-c6d06238e298"
      },
      "execution_count": null,
      "outputs": [
        {
          "output_type": "display_data",
          "data": {
            "text/html": [
              "<html>\n",
              "<head><meta charset=\"utf-8\" /></head>\n",
              "<body>\n",
              "    <div>            <script src=\"https://cdnjs.cloudflare.com/ajax/libs/mathjax/2.7.5/MathJax.js?config=TeX-AMS-MML_SVG\"></script><script type=\"text/javascript\">if (window.MathJax) {MathJax.Hub.Config({SVG: {font: \"STIX-Web\"}});}</script>                <script type=\"text/javascript\">window.PlotlyConfig = {MathJaxConfig: 'local'};</script>\n",
              "        <script src=\"https://cdn.plot.ly/plotly-2.8.3.min.js\"></script>                <div id=\"6d3d26e6-b259-4852-84b9-b57d0fdce459\" class=\"plotly-graph-div\" style=\"height:525px; width:100%;\"></div>            <script type=\"text/javascript\">                                    window.PLOTLYENV=window.PLOTLYENV || {};                                    if (document.getElementById(\"6d3d26e6-b259-4852-84b9-b57d0fdce459\")) {                    Plotly.newPlot(                        \"6d3d26e6-b259-4852-84b9-b57d0fdce459\",                        [{\"hovertemplate\":\"c1=%{x}<br>c2=%{y}<extra></extra>\",\"legendgroup\":\"\",\"marker\":{\"color\":\"#636efa\",\"symbol\":\"circle\"},\"mode\":\"markers\",\"name\":\"\",\"orientation\":\"v\",\"showlegend\":false,\"x\":[21.378774642944336,24.807464599609375,18.436979293823242,19.87125587463379,22.215736389160156,18.303775787353516,20.524635314941406,21.336585998535156,23.172834396362305,19.269872665405273,20.942129135131836,20.353473663330078,21.978530883789062,17.654497146606445,23.859621047973633,19.088726043701172,22.089567184448242,19.0979061126709,21.871700286865234,17.808786392211914,22.6811580657959,19.09315299987793,21.055442810058594,23.794410705566406,20.103618621826172,18.142412185668945,20.24879264831543,18.964923858642578,19.87110710144043,17.921907424926758,20.924657821655273,21.586336135864258,18.379758834838867,19.445457458496094,19.111467361450195,17.530439376831055,22.90011215209961,16.908966064453125,15.583757400512695,16.610692977905273,25.75094223022461,19.20335578918457,22.679433822631836,21.50318145751953,20.573457717895508,22.578218460083008,20.894865036010742,16.143518447875977,26.323017120361328,18.48586082458496,20.39864730834961,16.50873565673828,22.55596160888672,16.689674377441406,15.559120178222656,16.8444881439209,18.104820251464844,21.341888427734375,19.46204948425293,18.326759338378906,14.931581497192383,16.163116455078125,15.960591316223145,24.7274112701416,21.038623809814453,24.593671798706055,23.039766311645508,22.501422882080078,19.03993797302246,21.304183959960938,19.692615509033203,15.256061553955078,15.861018180847168,24.476377487182617,14.373950004577637,15.26082992553711,24.438461303710938,14.758654594421387,17.012081146240234,20.24411392211914,17.70925521850586,27.30221939086914,16.891386032104492,21.511220932006836,25.166563034057617,16.59421157836914,13.379271507263184,13.685029029846191,13.43696403503418,17.34590721130371,27.048789978027344,23.248451232910156,19.627485275268555,16.6479434967041,19.36107635498047,13.7184419631958,14.295088768005371,14.098855018615723,23.90495491027832,16.696455001831055,13.00134563446045,11.272602081298828,17.221569061279297,15.330582618713379,21.98244285583496,21.391357421875,17.869354248046875,15.18846321105957,25.471111297607422,-15.267911911010742,20.72654151916504,18.555835723876953,-11.418231964111328,-14.608549118041992,-16.016700744628906,-15.210213661193848,24.08780288696289,-15.419142723083496,14.498337745666504,12.072444915771484,12.38465690612793,-10.915918350219727,24.520709991455078,27.983224868774414,21.23969268798828,22.055519104003906,-12.24772834777832,-15.6802339553833,17.78878402709961,15.953790664672852,11.395259857177734,14.163646697998047,23.652481079101562,12.773178100585938,-16.098770141601562,16.592309951782227,18.23700523376465,21.149539947509766,19.473133087158203,-13.318218231201172,11.880885124206543,12.574522018432617,10.75999641418457,14.130044937133789,-12.188739776611328,19.332033157348633,12.115684509277344,8.15147590637207,-12.099602699279785,-12.742066383361816,17.41591453552246,-13.777312278747559,13.465877532958984,20.075796127319336,17.12860679626465,24.10018539428711,12.394538879394531,-8.570324897766113,-14.076844215393066,-12.326683044433594,-12.099223136901855,22.31680679321289,15.281564712524414,-11.908865928649902,11.034733772277832,25.478662490844727,-18.274852752685547,-10.094291687011719,-19.591520309448242,13.595311164855957,10.885815620422363,-20.37501335144043,-21.907901763916016,-19.334314346313477,-15.130596160888672,-10.974268913269043,27.022083282470703,12.314050674438477,-23.085615158081055,14.253568649291992,17.152137756347656,-7.481149673461914,22.202293395996094,-17.211414337158203,-13.274808883666992,-6.068920612335205,-9.003640174865723,10.939952850341797,-13.254509925842285,-18.957448959350586,-21.72934341430664,-20.082792282104492,15.363828659057617,20.425445556640625,-13.861863136291504,-13.57270336151123,-19.00037384033203,19.959897994995117,-14.26987075805664,27.51556396484375,18.85549545288086,-14.697199821472168,-8.630539894104004,10.63543701171875,-12.551484107971191,-8.87820816040039,-18.45682144165039,25.80657196044922,-19.393394470214844,11.085030555725098,-10.331581115722656,22.8231143951416,13.786190032958984,-10.242388725280762,-7.0829973220825195,-8.200603485107422,11.771200180053711,-10.9261474609375,-9.839479446411133,-8.200274467468262,12.273140907287598,20.482553482055664,23.431625366210938,15.482529640197754,-22.201923370361328,9.128950119018555,-17.68577766418457,-22.7489070892334,-17.288177490234375,15.31538200378418,-9.592201232910156,-8.64452838897705,9.738996505737305,18.421030044555664,-24.834054946899414,14.597047805786133,15.947986602783203,15.505217552185059,-18.851579666137695,19.72971534729004,19.935190200805664,12.826828002929688,-17.33356475830078,11.642906188964844,-10.90124797821045,14.037818908691406,-10.199532508850098,-11.544726371765137,12.414746284484863,-24.924253463745117,-24.20354652404785,11.328537940979004,-13.982593536376953,25.856521606445312,6.1711745262146,-24.526620864868164,-14.3258638381958,22.333179473876953,24.799598693847656,-7.55474328994751,12.966903686523438,-10.940669059753418,-24.114110946655273,-23.791292190551758,-11.352530479431152,10.978458404541016,-9.92184829711914,18.760282516479492,17.629716873168945,-8.493529319763184,20.17011260986328,8.610296249389648,-23.876224517822266,9.252012252807617,13.961197853088379,-14.198110580444336,22.45254135131836,12.329276084899902,-20.876928329467773,23.471818923950195,-18.129384994506836,-19.92807960510254,10.193734169006348,9.813433647155762,-9.038504600524902,18.640098571777344,15.497088432312012,25.731597900390625,-22.036598205566406,-16.908187866210938,13.890146255493164,21.956819534301758,21.270320892333984,14.69298267364502,-10.557602882385254,18.658777236938477,16.563474655151367,-6.9668989181518555,8.582151412963867,9.16079044342041,-6.191871166229248,-25.288959503173828,10.992417335510254,21.55744171142578,-8.792956352233887,13.597359657287598,-25.39921760559082,12.462034225463867,-12.562118530273438,20.199050903320312,10.483871459960938,20.4311580657959,11.077266693115234,-10.28917121887207,-8.891974449157715,18.431541442871094,-19.1922550201416,-9.373104095458984,-21.505313873291016,-11.253535270690918,16.740266799926758,-21.24699592590332,-7.843700408935547,10.81570816040039,-10.713729858398438,13.586381912231445,0.9639936685562134,9.944819450378418,21.21656608581543,-13.005683898925781,-20.431163787841797,26.34088897705078,22.81702995300293,5.7767863273620605,-12.05622673034668,23.99122428894043,-25.8687686920166,1.520007848739624,-12.178547859191895,9.561561584472656,-13.531219482421875,-8.8793363571167,13.025946617126465,17.49131202697754,19.896961212158203,-26.72233772277832,-12.304000854492188,8.679217338562012,13.66264533996582,9.816243171691895,-22.24205780029297,-20.52564811706543,18.764631271362305,8.662148475646973,6.290002346038818,-17.215625762939453,23.017261505126953,-5.905810356140137,-26.841808319091797,16.0148983001709,-18.41362190246582,-11.177244186401367,10.906014442443848,17.27908706665039,21.083839416503906,-21.794702529907227,9.405472755432129,20.83822250366211,-11.129591941833496,21.25961685180664,-6.574244976043701,12.573649406433105,8.75671672821045,-14.880661010742188,-15.068733215332031,13.994693756103516,11.52393627166748,-12.728144645690918,9.0367431640625,9.168548583984375,-15.737675666809082,-11.320525169372559,12.53414535522461,16.567758560180664,6.141565322875977,15.128533363342285,-26.17424201965332,-13.324783325195312,11.362405776977539,21.274213790893555,-11.205751419067383,14.743091583251953,7.784496307373047,9.50593376159668,19.969961166381836,12.786794662475586,11.709805488586426,7.646553993225098,10.906643867492676,25.17914390563965,-11.745866775512695,-8.405468940734863,-9.018322944641113,18.73966407775879,-22.626605987548828,21.070030212402344,24.263017654418945,-13.573477745056152,7.973160266876221,19.404924392700195,-23.15791893005371,-9.908044815063477,24.301610946655273,8.792221069335938,-14.768447875976562,12.362717628479004,-29.06562614440918,-9.313713073730469,12.572565078735352,-16.580598831176758,6.608663558959961,-27.16185760498047,-11.145928382873535,-29.045377731323242,29.20189666748047,5.833735466003418,-12.423327445983887,16.60771369934082,8.363433837890625,15.042312622070312,16.63512420654297,-14.763620376586914,-21.597414016723633,26.65537452697754,-27.640979766845703,-15.581485748291016,16.105960845947266,-27.6494197845459,-8.574060440063477,-22.88078498840332,-5.674322128295898,-12.646774291992188,-10.509461402893066,1.4107545614242554,-29.121063232421875,18.572736740112305,9.901325225830078,-24.26371955871582,10.56088924407959,-13.5147066116333,15.732258796691895,13.770968437194824,9.813066482543945,-23.567943572998047,26.557350158691406,9.837746620178223,-9.978675842285156,-4.862781047821045,4.885745048522949,18.16416358947754,-12.365589141845703,11.315924644470215,8.76695442199707,12.032845497131348,23.27685546875,-19.100370407104492,7.876662731170654,18.056188583374023,-15.891587257385254,19.926040649414062,-19.51934814453125,-23.12286376953125,9.465160369873047,-16.14382553100586,9.414046287536621,-23.067283630371094,19.12303924560547,-14.825762748718262,-17.79461097717285,29.01597023010254,-13.16668701171875,5.286055088043213,7.877987384796143,8.573577880859375,-16.732925415039062,6.878085613250732,-16.8300724029541,22.496374130249023,22.623899459838867,-23.879976272583008,-13.384425163269043,19.946426391601562,10.436676979064941,25.637197494506836,-13.779928207397461,12.998973846435547,23.940746307373047,18.419891357421875,-5.239219665527344,-26.15008544921875,-12.540884017944336,-3.830594778060913,5.68255090713501,-27.84065055847168,7.34230375289917,11.452357292175293,7.60953950881958,-28.254236221313477,-23.420442581176758,-25.836307525634766,-14.616686820983887,7.756905555725098,-12.54257583618164,-16.624597549438477,-13.837392807006836,-4.567598819732666,-14.179097175598145,-9.546690940856934,-14.301870346069336,-12.368438720703125,-12.269071578979492,16.519363403320312,-10.228097915649414,12.032013893127441,-11.278847694396973,-7.385955333709717,-7.484835147857666,-21.732358932495117,-9.516767501831055,14.956939697265625,9.398974418640137,28.098697662353516,24.761474609375,-20.973304748535156,-22.82657241821289,8.476318359375,14.852485656738281,9.217967987060547,-13.093069076538086,-11.431180000305176,15.662087440490723,-22.099023818969727,-20.38991928100586,-27.627145767211914,14.744105339050293,17.391361236572266,-10.062566757202148,6.91787576675415,-25.18279266357422,20.44147300720215,-1.3342649936676025,-16.789899826049805,8.629403114318848,-30.154891967773438,-6.250420093536377,15.72480583190918,-25.392240524291992,9.521327018737793,9.959186553955078,18.625864028930664,-23.61773109436035,-22.569013595581055,-18.854093551635742,-23.065568923950195,5.4750657081604,11.471827507019043,8.511287689208984,16.861398696899414,17.6356143951416,-23.583951950073242,-5.678278923034668,21.772865295410156,8.912986755371094,-9.314753532409668,-24.972997665405273,13.589484214782715,-24.82319450378418,-26.10528564453125,11.00121784210205,-9.098054885864258,-15.177321434020996,-15.913802146911621,20.14143180847168,-28.314916610717773,-18.618032455444336,-3.3676490783691406,15.305821418762207,13.168749809265137,-17.74930191040039,10.613357543945312,-3.5255558490753174,-15.09632682800293,17.923006057739258,16.779863357543945,18.994050979614258,6.199507236480713,7.573244571685791,-2.6704843044281006,-7.700995922088623,-14.10165023803711,-15.678730964660645,-16.517637252807617,-28.444812774658203,-28.87233543395996,-19.565908432006836,-12.634052276611328,-6.6262407302856445,-20.973468780517578,-16.04039764404297,-13.954909324645996,-15.609095573425293,23.18015480041504,-22.35801124572754,-15.326733589172363,-24.751630783081055,-20.611867904663086,-13.437889099121094,-8.484515190124512,-21.719755172729492,-26.655847549438477,-9.489167213439941,-17.107437133789062,-22.60277557373047,18.267498016357422,-11.164213180541992,-24.142484664916992,6.143901824951172,-23.601886749267578,-13.105045318603516,10.67455768585205,-13.64651870727539,-12.00046443939209,-7.951691627502441,-24.297975540161133,-26.413267135620117,-13.530662536621094,-10.000859260559082,-13.487884521484375,-13.615166664123535,-13.226180076599121,-11.0908842086792,-25.733118057250977,-27.299955368041992,-27.36661720275879,-9.102814674377441,-27.335689544677734,7.315935134887695,-16.51429557800293,-27.92057991027832,-4.561028003692627,-24.021862030029297,-11.739897727966309,-19.319501876831055,-23.849756240844727,-29.847728729248047,6.992101669311523,19.541751861572266,-7.418361186981201,4.5700154304504395,3.3307995796203613,-26.03651237487793,-11.107189178466797,-24.45203399658203,6.441122055053711,7.729369163513184,0.41833528876304626,6.476759910583496,-19.863210678100586,13.338769912719727,-23.124021530151367,14.322335243225098,-11.67193603515625,-6.801666736602783,-6.463728427886963,0.6444264650344849,13.883698463439941,-20.692867279052734,-22.64809226989746,-25.899581909179688,-20.84133529663086,-14.970049858093262,-0.8242642879486084,5.171184539794922,10.762151718139648,4.680294513702393,15.593213081359863,6.59585428237915,-6.5344319343566895,5.190741062164307,7.7158203125,23.997167587280273,-12.818188667297363,-26.476062774658203,-10.30777359008789,9.897319793701172,17.935531616210938,-8.760175704956055,12.759438514709473,8.631953239440918,-16.149166107177734,-12.556668281555176,-14.263395309448242,14.41158676147461,-23.331331253051758,-25.801193237304688,-12.345804214477539,12.79352855682373,-11.377358436584473,-25.60643768310547,10.992277145385742,0.6919456720352173,16.33413314819336,3.4427030086517334,-10.506467819213867,-12.025075912475586,-11.462024688720703,-16.02689552307129,-14.541008949279785,-2.606163740158081,-14.572659492492676,-21.21999740600586,-18.816938400268555,-16.47876739501953,-11.35952377319336,-25.718978881835938,-10.045969009399414,7.95491361618042,-22.219877243041992,5.58525276184082,-31.600282669067383,-22.71236801147461,-26.152511596679688,-26.060049057006836,-11.314152717590332,-10.291379928588867,-17.751461029052734,4.9545416831970215,-5.037789344787598,-30.434345245361328,-24.703418731689453,-15.214829444885254,-8.14128303527832,-3.6201529502868652,-7.704249382019043,-31.266197204589844,-18.396398544311523,-22.80364990234375,-11.470379829406738,-14.983305931091309,-19.272111892700195,-20.497201919555664,-13.539793014526367,-18.954336166381836,-17.35744857788086,-24.22942543029785,-30.57435417175293,-14.36870288848877,-29.58463478088379,-14.034247398376465,-17.867456436157227,-30.409822463989258,-10.907841682434082,-14.324530601501465,-17.364181518554688,-13.935810089111328,-3.143367290496826,-24.306488037109375,-28.7591552734375,-16.52573013305664,-29.506038665771484,-12.154376029968262,-27.101299285888672,-16.229820251464844,-13.118820190429688,-15.535064697265625,-12.909993171691895,-29.02016258239746,-9.423861503601074,-22.018699645996094,-19.031192779541016,-15.13074779510498,-26.056930541992188,-20.237337112426758,3.789039134979248,-16.089527130126953,-13.520597457885742,-3.95654296875,-10.500365257263184,-23.54140281677246,-21.898311614990234,-25.489023208618164,-17.450284957885742,-0.8796926140785217],\"xaxis\":\"x\",\"y\":[15.842828750610352,19.40744400024414,17.95644760131836,17.1525936126709,16.84400177001953,21.574268341064453,18.580381393432617,17.262475967407227,19.091856002807617,17.704036712646484,17.428369522094727,18.968650817871094,18.922664642333984,18.76959800720215,20.268346786499023,14.618605613708496,20.019567489624023,18.675504684448242,11.057926177978516,19.48468780517578,21.191543579101562,19.67214012145996,9.515679359436035,21.196958541870117,12.299906730651855,20.239042282104492,19.855255126953125,10.458453178405762,10.959565162658691,15.317541122436523,12.708640098571777,13.718534469604492,12.576606750488281,13.119908332824707,14.766942024230957,22.987207412719727,25.171661376953125,13.069062232971191,13.103667259216309,19.306617736816406,21.641860961914062,22.206188201904297,22.8518009185791,22.32642364501953,20.727880477905273,20.71933364868164,19.00685691833496,19.983192443847656,23.06256866455078,21.153154373168945,22.659042358398438,23.51270866394043,23.70318031311035,15.958425521850586,14.762215614318848,14.382654190063477,11.052857398986816,21.494382858276367,20.766698837280273,13.67872428894043,15.418067932128906,10.30712890625,12.408148765563965,21.34659767150879,19.99072265625,18.0351619720459,17.544736862182617,22.068622589111328,20.42397117614746,22.426334381103516,21.638479232788086,14.204408645629883,22.150711059570312,27.267333984375,16.544761657714844,8.395713806152344,22.8315372467041,19.784481048583984,26.149585723876953,23.450841903686523,25.82752799987793,24.99264144897461,20.323354721069336,23.792200088500977,25.397621154785156,21.4763126373291,9.48065185546875,20.430377960205078,12.478249549865723,10.179788589477539,26.81534194946289,23.769805908203125,23.327266693115234,22.45353126525879,23.033205032348633,15.045571327209473,21.050662994384766,13.917762756347656,26.58014678955078,11.452415466308594,13.659371376037598,6.55854606628418,21.995929718017578,10.911248207092285,25.221004486083984,24.896385192871094,23.06968116760254,21.378562927246094,24.187076568603516,-20.835264205932617,24.64860725402832,23.886972427368164,-20.290346145629883,-18.550630569458008,-20.765451431274414,-17.923336029052734,25.001813888549805,-18.723562240600586,22.680458068847656,21.17059326171875,22.024513244628906,-20.083763122558594,31.245939254760742,30.61615562438965,27.068387985229492,26.083993911743164,-18.51259994506836,-19.763832092285156,24.620845794677734,23.670480728149414,14.977771759033203,22.636682510375977,28.18168067932129,15.84822940826416,-19.508651733398438,25.28481674194336,25.185157775878906,28.88542938232422,24.772695541381836,-18.455873489379883,8.560135841369629,16.76268768310547,8.776466369628906,12.316827774047852,-18.22498893737793,7.679148197174072,9.769170761108398,7.597324848175049,-20.339033126831055,-20.140050888061523,8.710226058959961,-18.84551239013672,23.63251495361328,26.019784927368164,24.320653915405273,29.81011199951172,14.4103422164917,-22.010536193847656,-23.10157012939453,-19.138872146606445,-21.76241683959961,27.490262985229492,24.1547794342041,-22.651592254638672,9.583566665649414,28.77922248840332,-22.019023895263672,-25.36017417907715,-22.821212768554688,22.81818389892578,10.732683181762695,-20.52528953552246,-20.700977325439453,-24.471710205078125,-17.819963455200195,-26.65920066833496,29.130268096923828,23.629552841186523,-21.841909408569336,24.703655242919922,7.0036540031433105,-23.87350082397461,29.123559951782227,-18.83599281311035,-22.630115509033203,-27.70209503173828,-23.001224517822266,22.485645294189453,-19.99609375,-21.313297271728516,-22.307659149169922,-22.475257873535156,25.044958114624023,27.283899307250977,-25.338132858276367,-15.194843292236328,-23.789697647094727,25.36456871032715,-20.10933494567871,33.412940979003906,26.613842010498047,-15.320690155029297,-19.360578536987305,21.453031539916992,-23.343475341796875,-20.48552131652832,-20.91040802001953,33.69281005859375,-25.36968994140625,17.234525680541992,-21.960660934448242,30.00702667236328,24.807130813598633,-21.82358169555664,-27.555294036865234,-16.666311264038086,18.5062313079834,-23.525650024414062,-16.213308334350586,-25.095348358154297,24.7340087890625,28.810935974121094,31.72596549987793,25.77515983581543,-23.092620849609375,13.759674072265625,-22.83110809326172,-23.779455184936523,-21.82591438293457,3.6002519130706787,-24.530597686767578,-23.95065689086914,12.260130882263184,4.185324192047119,-21.48785400390625,25.908174514770508,26.543785095214844,6.300156116485596,-16.881567001342773,27.67340660095215,30.25179672241211,12.155847549438477,-19.538249969482422,25.148542404174805,-24.738407135009766,6.632763385772705,-18.15675926208496,-24.32375717163086,7.09468412399292,-22.737895965576172,-28.746187210083008,23.21382713317871,-24.110427856445312,31.488670349121094,26.492652893066406,-27.41208267211914,-20.100658416748047,33.5585823059082,32.89590072631836,-30.54103660583496,10.6854887008667,-26.811254501342773,-24.320953369140625,-24.71906089782715,-16.036155700683594,23.553422927856445,-26.441600799560547,26.99507713317871,26.605518341064453,-30.252931594848633,40.15863037109375,26.06357765197754,-20.250972747802734,15.331765174865723,10.326427459716797,-19.203256607055664,31.244661331176758,25.732101440429688,-23.997446060180664,36.12355422973633,-15.875176429748535,-28.853395462036133,25.1578426361084,24.448360443115234,-18.3565731048584,28.912723541259766,27.50749397277832,37.0726203918457,-25.498743057250977,-17.119298934936523,8.322260856628418,36.451595306396484,30.347871780395508,27.473628997802734,-17.0216121673584,28.834989547729492,28.233482360839844,-28.805675506591797,29.189422607421875,19.223976135253906,-25.582151412963867,-25.90679931640625,13.700349807739258,32.2209358215332,-29.321950912475586,26.659196853637695,-26.765918731689453,26.440155029296875,-22.000289916992188,32.50151824951172,18.83849334716797,37.800533294677734,11.498808860778809,-31.73070526123047,-14.8462495803833,29.7799072265625,-27.364093780517578,-31.93950843811035,-29.843969345092773,-14.817126274108887,28.154970169067383,-21.243879318237305,-26.07927131652832,26.0413875579834,-28.97662925720215,29.356842041015625,12.443954467773438,23.902429580688477,33.28554916381836,-25.397743225097656,-25.69924545288086,35.11023712158203,34.73262023925781,28.50739860534668,-25.59133529663086,34.11600875854492,-23.406265258789062,9.562325477600098,-16.48930549621582,22.518354415893555,-17.041160583496094,-27.962270736694336,27.190502166748047,41.080753326416016,31.467443466186523,-27.917673110961914,-30.01849937438965,22.537771224975586,28.354551315307617,16.22996711730957,-24.10755157470703,-26.847497940063477,31.458629608154297,24.891443252563477,25.442474365234375,-15.192156791687012,39.692508697509766,-24.07056427001953,-26.265073776245117,30.384431838989258,-17.993074417114258,-23.179203033447266,26.910091400146484,29.54009437561035,40.616363525390625,-27.771547317504883,12.817237854003906,39.36227798461914,-19.364341735839844,34.182106018066406,-17.17931365966797,3.5178134441375732,17.0932674407959,-12.220206260681152,-15.804367065429688,11.38332462310791,12.562642097473145,-14.790960311889648,10.43562126159668,26.361021041870117,-15.547042846679688,-30.420921325683594,5.204159736633301,32.299251556396484,21.0647029876709,29.434843063354492,-22.519689559936523,-16.769271850585938,14.825968742370605,38.31385040283203,-26.906599044799805,9.43375301361084,23.71973419189453,20.650344848632812,34.35700225830078,28.55652618408203,28.840089797973633,19.561368942260742,27.9842586517334,35.59178161621094,-27.733959197998047,-12.476187705993652,-26.484222412109375,32.30796813964844,-28.527786254882812,35.45058059692383,37.773284912109375,-15.236054420471191,25.300264358520508,33.27653503417969,-23.681400299072266,-28.682981491088867,36.75205993652344,23.785511016845703,-16.74169921875,28.705066680908203,-23.787595748901367,-27.253419876098633,12.770185470581055,-17.030567169189453,20.986352920532227,-29.13671875,-31.28211212158203,-28.56283187866211,39.0302734375,26.678831100463867,-32.55580139160156,31.94076156616211,8.801004409790039,29.083049774169922,30.535720825195312,-27.461345672607422,-25.272165298461914,40.55473327636719,-27.080890655517578,-25.707365036010742,30.089595794677734,-24.767698287963867,-28.6717586517334,-31.257476806640625,-22.23284149169922,-31.177270889282227,-13.361871719360352,17.01518440246582,-30.12957000732422,41.326904296875,13.789978981018066,-29.511905670166016,27.11306381225586,-22.044410705566406,38.52341079711914,29.93273162841797,26.815710067749023,-25.68342399597168,38.36323547363281,6.79398250579834,-31.1251163482666,-18.332786560058594,24.071563720703125,31.983318328857422,-27.352706909179688,28.135623931884766,18.1680850982666,30.123287200927734,35.722660064697266,-18.68009376525879,11.468316078186035,33.317604064941406,-16.904020309448242,34.83723068237305,-15.622893333435059,-29.678720474243164,28.13580894470215,-15.507458686828613,20.031221389770508,-25.438642501831055,36.590293884277344,-13.72484302520752,-13.22426986694336,35.26743698120117,-13.541133880615234,22.205644607543945,25.747711181640625,19.98736000061035,-26.280033111572266,24.386693954467773,-14.197547912597656,36.81624221801758,38.24691390991211,-13.069500923156738,-11.909701347351074,35.23035430908203,7.506770133972168,42.99171829223633,-15.901812553405762,30.30402374267578,43.10007095336914,33.915496826171875,-30.487028121948242,-23.90558624267578,-13.885444641113281,-26.393823623657227,13.802933692932129,-29.40762710571289,12.545320510864258,30.19738006591797,14.061483383178711,-25.691499710083008,-30.78748893737793,-24.98391342163086,-24.2960147857666,10.082100868225098,-30.87003517150879,-31.134532928466797,-26.212743759155273,-14.362895011901855,-31.66988182067871,-27.91911506652832,-21.69900131225586,-27.79996109008789,-30.98227310180664,34.329647064208984,-28.008207321166992,32.28416442871094,-27.745512008666992,-32.4058837890625,-14.190863609313965,-26.791648864746094,-13.2613525390625,32.58871078491211,10.917784690856934,37.08777618408203,39.22893524169922,-28.571447372436523,-27.414154052734375,32.43734359741211,31.61551856994629,9.202337265014648,-26.838998794555664,-29.478214263916016,33.2379035949707,-15.120265007019043,-32.819576263427734,-23.675127029418945,30.52056121826172,31.489635467529297,-29.174285888671875,22.616701126098633,-24.39948844909668,36.89748001098633,-23.48900604248047,-26.644006729125977,27.618396759033203,-15.41576099395752,-34.075355529785156,31.30136489868164,-20.052051544189453,30.386474609375,29.043657302856445,35.3737907409668,-22.228252410888672,-13.159866333007812,-14.165817260742188,-26.659563064575195,16.71831512451172,32.766868591308594,12.395264625549316,36.47890090942383,38.06306457519531,-28.124370574951172,-15.086440086364746,37.2559928894043,4.4250288009643555,-11.039816856384277,-28.89179039001465,30.9350643157959,-31.152297973632812,-17.120325088500977,29.211257934570312,-34.973716735839844,-22.68273162841797,-23.942354202270508,43.14011001586914,-32.42835235595703,-13.02733039855957,-15.950575828552246,32.93605041503906,31.644245147705078,-15.735116958618164,4.111836910247803,-23.496471405029297,-26.99022102355957,34.732444763183594,34.720062255859375,38.82242202758789,18.56028175354004,27.473003387451172,-28.844396591186523,-34.18372344970703,-13.553451538085938,-11.192834854125977,-12.982817649841309,-21.59956932067871,-18.753864288330078,-35.879905700683594,-12.157238960266113,-30.76543617248535,-11.767404556274414,-13.753005027770996,-28.240638732910156,-13.09463119506836,41.7784309387207,-18.343454360961914,-28.21694564819336,-24.591724395751953,-17.76904296875,-27.881608963012695,-32.957786560058594,-40.709720611572266,-20.302806854248047,-29.80709457397461,-11.833230972290039,-27.19247055053711,36.14908218383789,-34.58020782470703,-30.101898193359375,-32.02296447753906,-28.558162689208984,-29.570322036743164,31.20894432067871,-10.829051971435547,-28.461355209350586,-31.86712074279785,-22.69141960144043,-26.014915466308594,-32.819400787353516,-33.25511932373047,-28.950145721435547,-33.67936706542969,-29.10403060913086,-12.5101900100708,-38.19527816772461,-25.059467315673828,-22.455976486206055,-30.726316452026367,-27.77886199951172,16.660388946533203,-39.92348861694336,-31.063085556030273,-17.355918884277344,-28.04527473449707,-28.985754013061523,-11.925643920898438,-26.512535095214844,-25.06415557861328,30.229690551757812,36.967002868652344,-10.88637924194336,14.934121131896973,-14.212532997131348,-35.66685104370117,-29.458335876464844,-25.91332244873047,10.078245162963867,21.273452758789062,-11.977587699890137,8.08057975769043,-34.40245819091797,33.437870025634766,-32.36207580566406,36.90467071533203,-10.998825073242188,-9.754584312438965,-12.502911567687988,-8.879742622375488,35.307254791259766,-14.24144458770752,-37.992698669433594,-32.36125183105469,-36.8577995300293,-30.232206344604492,-15.012619018554688,9.194153785705566,12.22415542602539,10.649394035339355,35.72008514404297,12.870397567749023,-2.5020740032196045,3.8719887733459473,15.728226661682129,40.52429962158203,-4.978654384613037,-31.152620315551758,-30.00364112854004,32.787513732910156,39.16265106201172,-36.89898681640625,32.3555793762207,31.095733642578125,-29.064085006713867,-33.22861099243164,-30.30853271484375,34.5743522644043,-36.52590560913086,-30.681304931640625,-29.90083885192871,34.96901321411133,-9.588421821594238,-27.996095657348633,34.21308517456055,-3.2077035903930664,37.46214294433594,6.60544490814209,-30.904144287109375,-32.26728439331055,-33.60633850097656,-29.383806228637695,-9.906712532043457,-13.28576374053955,-10.099270820617676,-33.65493392944336,-30.062816619873047,-9.048877716064453,-31.48504638671875,-29.49336051940918,-33.93910217285156,5.529767990112305,-30.00328254699707,6.366710186004639,-28.211658477783203,-9.733969688415527,-29.544078826904297,-26.694175720214844,-32.81680679321289,-5.854029178619385,-31.525222778320312,12.1415433883667,-7.442113399505615,-20.999555587768555,-34.024478912353516,-36.24052810668945,-8.402515411376953,-5.152570724487305,-6.290534496307373,-23.685253143310547,-10.248778343200684,-34.324398040771484,-36.999263763427734,-30.423057556152344,-9.68635368347168,-7.498526573181152,-30.859275817871094,-39.013641357421875,-36.55751419067383,-35.45786666870117,-27.73350715637207,-34.6288948059082,-34.236541748046875,-38.77785873413086,-6.877185821533203,-30.4555606842041,-8.196388244628906,-32.00541687011719,-33.63792037963867,-6.253988742828369,-8.430266380310059,-32.22286605834961,-28.040096282958984,-10.659893035888672,-26.18825912475586,-7.543583393096924,-33.02643966674805,-32.59794616699219,-36.41392517089844,-33.867271423339844,-35.10097885131836,-36.94086837768555,-9.475017547607422,-32.01639938354492,-32.4036750793457,-7.935477256774902,-34.32759094238281,-30.729307174682617,-0.7225010991096497,-4.994807243347168,-8.503901481628418,-11.57755184173584,-1.7429815530776978,-33.43048858642578,-35.3510856628418,-41.631011962890625,-35.5885009765625,-18.842283248901367],\"yaxis\":\"y\",\"type\":\"scatter\"}],                        {\"template\":{\"data\":{\"bar\":[{\"error_x\":{\"color\":\"#2a3f5f\"},\"error_y\":{\"color\":\"#2a3f5f\"},\"marker\":{\"line\":{\"color\":\"#E5ECF6\",\"width\":0.5},\"pattern\":{\"fillmode\":\"overlay\",\"size\":10,\"solidity\":0.2}},\"type\":\"bar\"}],\"barpolar\":[{\"marker\":{\"line\":{\"color\":\"#E5ECF6\",\"width\":0.5},\"pattern\":{\"fillmode\":\"overlay\",\"size\":10,\"solidity\":0.2}},\"type\":\"barpolar\"}],\"carpet\":[{\"aaxis\":{\"endlinecolor\":\"#2a3f5f\",\"gridcolor\":\"white\",\"linecolor\":\"white\",\"minorgridcolor\":\"white\",\"startlinecolor\":\"#2a3f5f\"},\"baxis\":{\"endlinecolor\":\"#2a3f5f\",\"gridcolor\":\"white\",\"linecolor\":\"white\",\"minorgridcolor\":\"white\",\"startlinecolor\":\"#2a3f5f\"},\"type\":\"carpet\"}],\"choropleth\":[{\"colorbar\":{\"outlinewidth\":0,\"ticks\":\"\"},\"type\":\"choropleth\"}],\"contour\":[{\"colorbar\":{\"outlinewidth\":0,\"ticks\":\"\"},\"colorscale\":[[0.0,\"#0d0887\"],[0.1111111111111111,\"#46039f\"],[0.2222222222222222,\"#7201a8\"],[0.3333333333333333,\"#9c179e\"],[0.4444444444444444,\"#bd3786\"],[0.5555555555555556,\"#d8576b\"],[0.6666666666666666,\"#ed7953\"],[0.7777777777777778,\"#fb9f3a\"],[0.8888888888888888,\"#fdca26\"],[1.0,\"#f0f921\"]],\"type\":\"contour\"}],\"contourcarpet\":[{\"colorbar\":{\"outlinewidth\":0,\"ticks\":\"\"},\"type\":\"contourcarpet\"}],\"heatmap\":[{\"colorbar\":{\"outlinewidth\":0,\"ticks\":\"\"},\"colorscale\":[[0.0,\"#0d0887\"],[0.1111111111111111,\"#46039f\"],[0.2222222222222222,\"#7201a8\"],[0.3333333333333333,\"#9c179e\"],[0.4444444444444444,\"#bd3786\"],[0.5555555555555556,\"#d8576b\"],[0.6666666666666666,\"#ed7953\"],[0.7777777777777778,\"#fb9f3a\"],[0.8888888888888888,\"#fdca26\"],[1.0,\"#f0f921\"]],\"type\":\"heatmap\"}],\"heatmapgl\":[{\"colorbar\":{\"outlinewidth\":0,\"ticks\":\"\"},\"colorscale\":[[0.0,\"#0d0887\"],[0.1111111111111111,\"#46039f\"],[0.2222222222222222,\"#7201a8\"],[0.3333333333333333,\"#9c179e\"],[0.4444444444444444,\"#bd3786\"],[0.5555555555555556,\"#d8576b\"],[0.6666666666666666,\"#ed7953\"],[0.7777777777777778,\"#fb9f3a\"],[0.8888888888888888,\"#fdca26\"],[1.0,\"#f0f921\"]],\"type\":\"heatmapgl\"}],\"histogram\":[{\"marker\":{\"pattern\":{\"fillmode\":\"overlay\",\"size\":10,\"solidity\":0.2}},\"type\":\"histogram\"}],\"histogram2d\":[{\"colorbar\":{\"outlinewidth\":0,\"ticks\":\"\"},\"colorscale\":[[0.0,\"#0d0887\"],[0.1111111111111111,\"#46039f\"],[0.2222222222222222,\"#7201a8\"],[0.3333333333333333,\"#9c179e\"],[0.4444444444444444,\"#bd3786\"],[0.5555555555555556,\"#d8576b\"],[0.6666666666666666,\"#ed7953\"],[0.7777777777777778,\"#fb9f3a\"],[0.8888888888888888,\"#fdca26\"],[1.0,\"#f0f921\"]],\"type\":\"histogram2d\"}],\"histogram2dcontour\":[{\"colorbar\":{\"outlinewidth\":0,\"ticks\":\"\"},\"colorscale\":[[0.0,\"#0d0887\"],[0.1111111111111111,\"#46039f\"],[0.2222222222222222,\"#7201a8\"],[0.3333333333333333,\"#9c179e\"],[0.4444444444444444,\"#bd3786\"],[0.5555555555555556,\"#d8576b\"],[0.6666666666666666,\"#ed7953\"],[0.7777777777777778,\"#fb9f3a\"],[0.8888888888888888,\"#fdca26\"],[1.0,\"#f0f921\"]],\"type\":\"histogram2dcontour\"}],\"mesh3d\":[{\"colorbar\":{\"outlinewidth\":0,\"ticks\":\"\"},\"type\":\"mesh3d\"}],\"parcoords\":[{\"line\":{\"colorbar\":{\"outlinewidth\":0,\"ticks\":\"\"}},\"type\":\"parcoords\"}],\"pie\":[{\"automargin\":true,\"type\":\"pie\"}],\"scatter\":[{\"marker\":{\"colorbar\":{\"outlinewidth\":0,\"ticks\":\"\"}},\"type\":\"scatter\"}],\"scatter3d\":[{\"line\":{\"colorbar\":{\"outlinewidth\":0,\"ticks\":\"\"}},\"marker\":{\"colorbar\":{\"outlinewidth\":0,\"ticks\":\"\"}},\"type\":\"scatter3d\"}],\"scattercarpet\":[{\"marker\":{\"colorbar\":{\"outlinewidth\":0,\"ticks\":\"\"}},\"type\":\"scattercarpet\"}],\"scattergeo\":[{\"marker\":{\"colorbar\":{\"outlinewidth\":0,\"ticks\":\"\"}},\"type\":\"scattergeo\"}],\"scattergl\":[{\"marker\":{\"colorbar\":{\"outlinewidth\":0,\"ticks\":\"\"}},\"type\":\"scattergl\"}],\"scattermapbox\":[{\"marker\":{\"colorbar\":{\"outlinewidth\":0,\"ticks\":\"\"}},\"type\":\"scattermapbox\"}],\"scatterpolar\":[{\"marker\":{\"colorbar\":{\"outlinewidth\":0,\"ticks\":\"\"}},\"type\":\"scatterpolar\"}],\"scatterpolargl\":[{\"marker\":{\"colorbar\":{\"outlinewidth\":0,\"ticks\":\"\"}},\"type\":\"scatterpolargl\"}],\"scatterternary\":[{\"marker\":{\"colorbar\":{\"outlinewidth\":0,\"ticks\":\"\"}},\"type\":\"scatterternary\"}],\"surface\":[{\"colorbar\":{\"outlinewidth\":0,\"ticks\":\"\"},\"colorscale\":[[0.0,\"#0d0887\"],[0.1111111111111111,\"#46039f\"],[0.2222222222222222,\"#7201a8\"],[0.3333333333333333,\"#9c179e\"],[0.4444444444444444,\"#bd3786\"],[0.5555555555555556,\"#d8576b\"],[0.6666666666666666,\"#ed7953\"],[0.7777777777777778,\"#fb9f3a\"],[0.8888888888888888,\"#fdca26\"],[1.0,\"#f0f921\"]],\"type\":\"surface\"}],\"table\":[{\"cells\":{\"fill\":{\"color\":\"#EBF0F8\"},\"line\":{\"color\":\"white\"}},\"header\":{\"fill\":{\"color\":\"#C8D4E3\"},\"line\":{\"color\":\"white\"}},\"type\":\"table\"}]},\"layout\":{\"annotationdefaults\":{\"arrowcolor\":\"#2a3f5f\",\"arrowhead\":0,\"arrowwidth\":1},\"autotypenumbers\":\"strict\",\"coloraxis\":{\"colorbar\":{\"outlinewidth\":0,\"ticks\":\"\"}},\"colorscale\":{\"diverging\":[[0,\"#8e0152\"],[0.1,\"#c51b7d\"],[0.2,\"#de77ae\"],[0.3,\"#f1b6da\"],[0.4,\"#fde0ef\"],[0.5,\"#f7f7f7\"],[0.6,\"#e6f5d0\"],[0.7,\"#b8e186\"],[0.8,\"#7fbc41\"],[0.9,\"#4d9221\"],[1,\"#276419\"]],\"sequential\":[[0.0,\"#0d0887\"],[0.1111111111111111,\"#46039f\"],[0.2222222222222222,\"#7201a8\"],[0.3333333333333333,\"#9c179e\"],[0.4444444444444444,\"#bd3786\"],[0.5555555555555556,\"#d8576b\"],[0.6666666666666666,\"#ed7953\"],[0.7777777777777778,\"#fb9f3a\"],[0.8888888888888888,\"#fdca26\"],[1.0,\"#f0f921\"]],\"sequentialminus\":[[0.0,\"#0d0887\"],[0.1111111111111111,\"#46039f\"],[0.2222222222222222,\"#7201a8\"],[0.3333333333333333,\"#9c179e\"],[0.4444444444444444,\"#bd3786\"],[0.5555555555555556,\"#d8576b\"],[0.6666666666666666,\"#ed7953\"],[0.7777777777777778,\"#fb9f3a\"],[0.8888888888888888,\"#fdca26\"],[1.0,\"#f0f921\"]]},\"colorway\":[\"#636efa\",\"#EF553B\",\"#00cc96\",\"#ab63fa\",\"#FFA15A\",\"#19d3f3\",\"#FF6692\",\"#B6E880\",\"#FF97FF\",\"#FECB52\"],\"font\":{\"color\":\"#2a3f5f\"},\"geo\":{\"bgcolor\":\"white\",\"lakecolor\":\"white\",\"landcolor\":\"#E5ECF6\",\"showlakes\":true,\"showland\":true,\"subunitcolor\":\"white\"},\"hoverlabel\":{\"align\":\"left\"},\"hovermode\":\"closest\",\"mapbox\":{\"style\":\"light\"},\"paper_bgcolor\":\"white\",\"plot_bgcolor\":\"#E5ECF6\",\"polar\":{\"angularaxis\":{\"gridcolor\":\"white\",\"linecolor\":\"white\",\"ticks\":\"\"},\"bgcolor\":\"#E5ECF6\",\"radialaxis\":{\"gridcolor\":\"white\",\"linecolor\":\"white\",\"ticks\":\"\"}},\"scene\":{\"xaxis\":{\"backgroundcolor\":\"#E5ECF6\",\"gridcolor\":\"white\",\"gridwidth\":2,\"linecolor\":\"white\",\"showbackground\":true,\"ticks\":\"\",\"zerolinecolor\":\"white\"},\"yaxis\":{\"backgroundcolor\":\"#E5ECF6\",\"gridcolor\":\"white\",\"gridwidth\":2,\"linecolor\":\"white\",\"showbackground\":true,\"ticks\":\"\",\"zerolinecolor\":\"white\"},\"zaxis\":{\"backgroundcolor\":\"#E5ECF6\",\"gridcolor\":\"white\",\"gridwidth\":2,\"linecolor\":\"white\",\"showbackground\":true,\"ticks\":\"\",\"zerolinecolor\":\"white\"}},\"shapedefaults\":{\"line\":{\"color\":\"#2a3f5f\"}},\"ternary\":{\"aaxis\":{\"gridcolor\":\"white\",\"linecolor\":\"white\",\"ticks\":\"\"},\"baxis\":{\"gridcolor\":\"white\",\"linecolor\":\"white\",\"ticks\":\"\"},\"bgcolor\":\"#E5ECF6\",\"caxis\":{\"gridcolor\":\"white\",\"linecolor\":\"white\",\"ticks\":\"\"}},\"title\":{\"x\":0.05},\"xaxis\":{\"automargin\":true,\"gridcolor\":\"white\",\"linecolor\":\"white\",\"ticks\":\"\",\"title\":{\"standoff\":15},\"zerolinecolor\":\"white\",\"zerolinewidth\":2},\"yaxis\":{\"automargin\":true,\"gridcolor\":\"white\",\"linecolor\":\"white\",\"ticks\":\"\",\"title\":{\"standoff\":15},\"zerolinecolor\":\"white\",\"zerolinewidth\":2}}},\"xaxis\":{\"anchor\":\"y\",\"domain\":[0.0,1.0],\"title\":{\"text\":\"c1\"}},\"yaxis\":{\"anchor\":\"x\",\"domain\":[0.0,1.0],\"title\":{\"text\":\"c2\"}},\"legend\":{\"tracegroupgap\":0},\"margin\":{\"t\":60}},                        {\"responsive\": true}                    ).then(function(){\n",
              "                            \n",
              "var gd = document.getElementById('6d3d26e6-b259-4852-84b9-b57d0fdce459');\n",
              "var x = new MutationObserver(function (mutations, observer) {{\n",
              "        var display = window.getComputedStyle(gd).display;\n",
              "        if (!display || display === 'none') {{\n",
              "            console.log([gd, 'removed!']);\n",
              "            Plotly.purge(gd);\n",
              "            observer.disconnect();\n",
              "        }}\n",
              "}});\n",
              "\n",
              "// Listen for the removal of the full notebook cells\n",
              "var notebookContainer = gd.closest('#notebook-container');\n",
              "if (notebookContainer) {{\n",
              "    x.observe(notebookContainer, {childList: true});\n",
              "}}\n",
              "\n",
              "// Listen for the clearing of the current output cell\n",
              "var outputEl = gd.closest('.output');\n",
              "if (outputEl) {{\n",
              "    x.observe(outputEl, {childList: true});\n",
              "}}\n",
              "\n",
              "                        })                };                            </script>        </div>\n",
              "</body>\n",
              "</html>"
            ]
          },
          "metadata": {}
        }
      ]
    },
    {
      "cell_type": "code",
      "source": [
        "zeros1_train = X_train[:,:10].sum(axis = 1) == 0\n",
        "zeros2_train = X_train[:,10:].sum(axis = 1) == 0\n",
        "X_train = X_train[~(zeros1_train | zeros2_train)]\n",
        "\n",
        "zeros1_test = X_test[:,:10].sum(axis = 1) == 0\n",
        "zeros2_test = X_test[:,10:].sum(axis = 1) == 0\n",
        "X_test = X_test[~(zeros1_test | zeros2_test)]\n",
        "\n",
        "zeros1_validation = X_validation[:,:10].sum(axis = 1) == 0\n",
        "zeros2_validation = X_validation[:,10:].sum(axis = 1) == 0\n",
        "X_validation = X_validation[~(zeros1_validation | zeros2_validation)]"
      ],
      "metadata": {
        "id": "sM7XK48AvbDt"
      },
      "execution_count": null,
      "outputs": []
    },
    {
      "cell_type": "code",
      "source": [
        "zeros1_train.sum(), zeros2_train.sum(), (zeros1_train | zeros2_train).sum()"
      ],
      "metadata": {
        "colab": {
          "base_uri": "https://localhost:8080/"
        },
        "id": "BX3ShL0b0NBD",
        "outputId": "fc18ffcd-a06c-4971-9623-32883b18e37e"
      },
      "execution_count": null,
      "outputs": [
        {
          "output_type": "execute_result",
          "data": {
            "text/plain": [
              "(20015, 18025, 29103)"
            ]
          },
          "metadata": {},
          "execution_count": 115
        }
      ]
    },
    {
      "cell_type": "code",
      "source": [
        "zeros1_test.sum(), zeros2_test.sum(), (zeros1_test | zeros2_test).sum()"
      ],
      "metadata": {
        "colab": {
          "base_uri": "https://localhost:8080/"
        },
        "id": "TX01oiLV0dY_",
        "outputId": "52835db1-00f5-4ece-e721-dfe7048e2e7e"
      },
      "execution_count": null,
      "outputs": [
        {
          "output_type": "execute_result",
          "data": {
            "text/plain": [
              "(5164, 4278, 7910)"
            ]
          },
          "metadata": {},
          "execution_count": 164
        }
      ]
    },
    {
      "cell_type": "code",
      "source": [
        "zeros1_validation.sum(), zeros2_validation.sum(), (zeros1_validation | zeros2_validation).sum()"
      ],
      "metadata": {
        "colab": {
          "base_uri": "https://localhost:8080/"
        },
        "id": "af6_WZdp1XEJ",
        "outputId": "17c56b87-6b3b-4e76-e95b-30ad30736942"
      },
      "execution_count": null,
      "outputs": [
        {
          "output_type": "execute_result",
          "data": {
            "text/plain": [
              "(1454, 1219, 2327)"
            ]
          },
          "metadata": {},
          "execution_count": 123
        }
      ]
    },
    {
      "cell_type": "code",
      "source": [
        "y_train = y_train[~(zeros1_train | zeros2_train)]\n",
        "y_test = y_test[~(zeros1_test | zeros2_test)]\n",
        "y_validation = y_validation[~(zeros1_validation | zeros2_validation)]"
      ],
      "metadata": {
        "id": "xuKKX0I91YKV"
      },
      "execution_count": null,
      "outputs": []
    },
    {
      "cell_type": "code",
      "source": [
        "X_train.shape, y_train.shape, X_test.shape, y_test.shape, X_validation.shape, y_validation.shape"
      ],
      "metadata": {
        "colab": {
          "base_uri": "https://localhost:8080/"
        },
        "id": "nx03ehwJ1aNn",
        "outputId": "3ffad234-7f3d-4e97-8b0b-575f3a0510e1"
      },
      "execution_count": null,
      "outputs": [
        {
          "output_type": "execute_result",
          "data": {
            "text/plain": [
              "((1894223, 20), (1894223,), (574843, 20), (574843,), (195217, 20), (195217,))"
            ]
          },
          "metadata": {},
          "execution_count": 170
        }
      ]
    },
    {
      "cell_type": "code",
      "source": [
        "X_train_mod = Y[X_train.flatten()].reshape(-1, 40)\n",
        "X_test_mod = Y[X_test.flatten()].reshape(-1, 40)\n",
        "X_validation_mod = Y[X_validation.flatten()].reshape(-1, 40)"
      ],
      "metadata": {
        "id": "DO_8eYNJ8yuw"
      },
      "execution_count": null,
      "outputs": []
    },
    {
      "cell_type": "code",
      "source": [
        "X_train_mod.shape, X_test_mod.shape, X_validation_mod.shape"
      ],
      "metadata": {
        "colab": {
          "base_uri": "https://localhost:8080/"
        },
        "id": "gki-8DWy9Hyw",
        "outputId": "dfba5f3c-3b9a-4e8a-c317-3a019cfd4dbf"
      },
      "execution_count": null,
      "outputs": [
        {
          "output_type": "execute_result",
          "data": {
            "text/plain": [
              "((1894223, 40), (574843, 40), (195217, 40))"
            ]
          },
          "metadata": {},
          "execution_count": 161
        }
      ]
    },
    {
      "cell_type": "code",
      "source": [
        "#train_data = Pool(X_train, y_train, text_features=[0])\n",
        "#test_data = Pool(X_test, y_test, text_features=[0])\n",
        "train_data = Pool(X_train_mod, y_train) ## toarray() is added to prevent catboost from failing (to avoid sparse array error)\n",
        "test_data = Pool(X_test_mod, y_test) ## toarray() is added to prevent catboost from failing (to avoid sparse array error)"
      ],
      "metadata": {
        "id": "TEYEdI2-9Wow"
      },
      "execution_count": null,
      "outputs": []
    },
    {
      "cell_type": "code",
      "source": [
        "booster = CatBoostClassifier(iterations=100)"
      ],
      "metadata": {
        "id": "6J7fWKCd-tD1"
      },
      "execution_count": null,
      "outputs": []
    },
    {
      "cell_type": "code",
      "source": [
        "booster.fit(train_data, eval_set=test_data)"
      ],
      "metadata": {
        "colab": {
          "base_uri": "https://localhost:8080/"
        },
        "id": "UjbCqg-q-x5y",
        "outputId": "6d1fb662-f83c-4ee1-c569-7bd9609f5fb6"
      },
      "execution_count": null,
      "outputs": [
        {
          "output_type": "stream",
          "name": "stdout",
          "text": [
            "Learning rate set to 0.5\n",
            "0:\tlearn: 0.6826745\ttest: 0.6813715\tbest: 0.6813715 (0)\ttotal: 589ms\tremaining: 58.4s\n",
            "1:\tlearn: 0.6760055\ttest: 0.6736729\tbest: 0.6736729 (1)\ttotal: 1s\tremaining: 49.3s\n",
            "2:\tlearn: 0.6712705\ttest: 0.6682682\tbest: 0.6682682 (2)\ttotal: 1.44s\tremaining: 46.5s\n",
            "3:\tlearn: 0.6679656\ttest: 0.6644342\tbest: 0.6644342 (3)\ttotal: 1.78s\tremaining: 42.8s\n",
            "4:\tlearn: 0.6657423\ttest: 0.6617106\tbest: 0.6617106 (4)\ttotal: 2.13s\tremaining: 40.5s\n",
            "5:\tlearn: 0.6637888\ttest: 0.6595078\tbest: 0.6595078 (5)\ttotal: 2.54s\tremaining: 39.8s\n",
            "6:\tlearn: 0.6623079\ttest: 0.6578207\tbest: 0.6578207 (6)\ttotal: 2.88s\tremaining: 38.2s\n",
            "7:\tlearn: 0.6608790\ttest: 0.6562588\tbest: 0.6562588 (7)\ttotal: 3.29s\tremaining: 37.9s\n",
            "8:\tlearn: 0.6597525\ttest: 0.6549824\tbest: 0.6549824 (8)\ttotal: 3.7s\tremaining: 37.4s\n",
            "9:\tlearn: 0.6586010\ttest: 0.6536451\tbest: 0.6536451 (9)\ttotal: 4.07s\tremaining: 36.6s\n",
            "10:\tlearn: 0.6577092\ttest: 0.6527730\tbest: 0.6527730 (10)\ttotal: 4.43s\tremaining: 35.9s\n",
            "11:\tlearn: 0.6570138\ttest: 0.6520207\tbest: 0.6520207 (11)\ttotal: 4.77s\tremaining: 35s\n",
            "12:\tlearn: 0.6561491\ttest: 0.6510710\tbest: 0.6510710 (12)\ttotal: 5.12s\tremaining: 34.3s\n",
            "13:\tlearn: 0.6552529\ttest: 0.6501477\tbest: 0.6501477 (13)\ttotal: 5.49s\tremaining: 33.7s\n",
            "14:\tlearn: 0.6545876\ttest: 0.6493200\tbest: 0.6493200 (14)\ttotal: 5.84s\tremaining: 33.1s\n",
            "15:\tlearn: 0.6540833\ttest: 0.6487008\tbest: 0.6487008 (15)\ttotal: 6.24s\tremaining: 32.7s\n",
            "16:\tlearn: 0.6537142\ttest: 0.6482713\tbest: 0.6482713 (16)\ttotal: 6.56s\tremaining: 32s\n",
            "17:\tlearn: 0.6531990\ttest: 0.6476617\tbest: 0.6476617 (17)\ttotal: 6.92s\tremaining: 31.5s\n",
            "18:\tlearn: 0.6528279\ttest: 0.6472602\tbest: 0.6472602 (18)\ttotal: 7.28s\tremaining: 31s\n",
            "19:\tlearn: 0.6523093\ttest: 0.6466526\tbest: 0.6466526 (19)\ttotal: 7.66s\tremaining: 30.6s\n",
            "20:\tlearn: 0.6518975\ttest: 0.6461835\tbest: 0.6461835 (20)\ttotal: 8.01s\tremaining: 30.1s\n",
            "21:\tlearn: 0.6514958\ttest: 0.6457060\tbest: 0.6457060 (21)\ttotal: 8.35s\tremaining: 29.6s\n",
            "22:\tlearn: 0.6512189\ttest: 0.6453762\tbest: 0.6453762 (22)\ttotal: 8.66s\tremaining: 29s\n",
            "23:\tlearn: 0.6509995\ttest: 0.6451616\tbest: 0.6451616 (23)\ttotal: 9.03s\tremaining: 28.6s\n",
            "24:\tlearn: 0.6507157\ttest: 0.6448801\tbest: 0.6448801 (24)\ttotal: 9.41s\tremaining: 28.2s\n",
            "25:\tlearn: 0.6504282\ttest: 0.6445753\tbest: 0.6445753 (25)\ttotal: 9.77s\tremaining: 27.8s\n",
            "26:\tlearn: 0.6502293\ttest: 0.6443376\tbest: 0.6443376 (26)\ttotal: 10.1s\tremaining: 27.2s\n",
            "27:\tlearn: 0.6499347\ttest: 0.6440156\tbest: 0.6440156 (27)\ttotal: 10.4s\tremaining: 26.8s\n",
            "28:\tlearn: 0.6496351\ttest: 0.6436740\tbest: 0.6436740 (28)\ttotal: 10.8s\tremaining: 26.4s\n",
            "29:\tlearn: 0.6494141\ttest: 0.6434619\tbest: 0.6434619 (29)\ttotal: 11.2s\tremaining: 26.1s\n",
            "30:\tlearn: 0.6492352\ttest: 0.6432849\tbest: 0.6432849 (30)\ttotal: 11.6s\tremaining: 25.7s\n",
            "31:\tlearn: 0.6490338\ttest: 0.6430160\tbest: 0.6430160 (31)\ttotal: 11.9s\tremaining: 25.3s\n",
            "32:\tlearn: 0.6487779\ttest: 0.6427609\tbest: 0.6427609 (32)\ttotal: 12.3s\tremaining: 24.9s\n",
            "33:\tlearn: 0.6486043\ttest: 0.6425700\tbest: 0.6425700 (33)\ttotal: 12.6s\tremaining: 24.4s\n",
            "34:\tlearn: 0.6484230\ttest: 0.6423913\tbest: 0.6423913 (34)\ttotal: 13s\tremaining: 24.1s\n",
            "35:\tlearn: 0.6482654\ttest: 0.6422067\tbest: 0.6422067 (35)\ttotal: 13.3s\tremaining: 23.7s\n",
            "36:\tlearn: 0.6481029\ttest: 0.6420393\tbest: 0.6420393 (36)\ttotal: 13.7s\tremaining: 23.4s\n",
            "37:\tlearn: 0.6478940\ttest: 0.6417909\tbest: 0.6417909 (37)\ttotal: 14.1s\tremaining: 23s\n",
            "38:\tlearn: 0.6477673\ttest: 0.6416178\tbest: 0.6416178 (38)\ttotal: 14.5s\tremaining: 22.6s\n",
            "39:\tlearn: 0.6476369\ttest: 0.6414752\tbest: 0.6414752 (39)\ttotal: 14.8s\tremaining: 22.2s\n",
            "40:\tlearn: 0.6475190\ttest: 0.6413973\tbest: 0.6413973 (40)\ttotal: 15.2s\tremaining: 21.8s\n",
            "41:\tlearn: 0.6473686\ttest: 0.6412021\tbest: 0.6412021 (41)\ttotal: 15.5s\tremaining: 21.4s\n",
            "42:\tlearn: 0.6472557\ttest: 0.6411117\tbest: 0.6411117 (42)\ttotal: 15.9s\tremaining: 21.1s\n",
            "43:\tlearn: 0.6471223\ttest: 0.6409500\tbest: 0.6409500 (43)\ttotal: 16.2s\tremaining: 20.7s\n",
            "44:\tlearn: 0.6469845\ttest: 0.6408128\tbest: 0.6408128 (44)\ttotal: 16.6s\tremaining: 20.3s\n",
            "45:\tlearn: 0.6468434\ttest: 0.6406673\tbest: 0.6406673 (45)\ttotal: 17s\tremaining: 20s\n",
            "46:\tlearn: 0.6467099\ttest: 0.6405269\tbest: 0.6405269 (46)\ttotal: 17.4s\tremaining: 19.6s\n",
            "47:\tlearn: 0.6466064\ttest: 0.6404127\tbest: 0.6404127 (47)\ttotal: 17.8s\tremaining: 19.3s\n",
            "48:\tlearn: 0.6464703\ttest: 0.6402846\tbest: 0.6402846 (48)\ttotal: 18.1s\tremaining: 18.9s\n",
            "49:\tlearn: 0.6463351\ttest: 0.6401462\tbest: 0.6401462 (49)\ttotal: 18.6s\tremaining: 18.6s\n",
            "50:\tlearn: 0.6462480\ttest: 0.6400602\tbest: 0.6400602 (50)\ttotal: 19s\tremaining: 18.3s\n",
            "51:\tlearn: 0.6461089\ttest: 0.6399013\tbest: 0.6399013 (51)\ttotal: 19.4s\tremaining: 17.9s\n",
            "52:\tlearn: 0.6459969\ttest: 0.6397983\tbest: 0.6397983 (52)\ttotal: 19.8s\tremaining: 17.5s\n",
            "53:\tlearn: 0.6459019\ttest: 0.6397245\tbest: 0.6397245 (53)\ttotal: 20.2s\tremaining: 17.2s\n",
            "54:\tlearn: 0.6458257\ttest: 0.6396540\tbest: 0.6396540 (54)\ttotal: 20.6s\tremaining: 16.8s\n",
            "55:\tlearn: 0.6457239\ttest: 0.6395397\tbest: 0.6395397 (55)\ttotal: 21s\tremaining: 16.5s\n",
            "56:\tlearn: 0.6456437\ttest: 0.6394510\tbest: 0.6394510 (56)\ttotal: 21.3s\tremaining: 16s\n",
            "57:\tlearn: 0.6455500\ttest: 0.6393856\tbest: 0.6393856 (57)\ttotal: 21.7s\tremaining: 15.7s\n",
            "58:\tlearn: 0.6454567\ttest: 0.6392872\tbest: 0.6392872 (58)\ttotal: 22s\tremaining: 15.3s\n",
            "59:\tlearn: 0.6453479\ttest: 0.6391814\tbest: 0.6391814 (59)\ttotal: 22.5s\tremaining: 15s\n",
            "60:\tlearn: 0.6452679\ttest: 0.6390962\tbest: 0.6390962 (60)\ttotal: 22.8s\tremaining: 14.6s\n",
            "61:\tlearn: 0.6451977\ttest: 0.6390602\tbest: 0.6390602 (61)\ttotal: 23.2s\tremaining: 14.2s\n",
            "62:\tlearn: 0.6451081\ttest: 0.6389632\tbest: 0.6389632 (62)\ttotal: 23.6s\tremaining: 13.8s\n",
            "63:\tlearn: 0.6450387\ttest: 0.6388674\tbest: 0.6388674 (63)\ttotal: 24s\tremaining: 13.5s\n",
            "64:\tlearn: 0.6449781\ttest: 0.6388244\tbest: 0.6388244 (64)\ttotal: 24.3s\tremaining: 13.1s\n",
            "65:\tlearn: 0.6449203\ttest: 0.6387671\tbest: 0.6387671 (65)\ttotal: 24.6s\tremaining: 12.7s\n",
            "66:\tlearn: 0.6448654\ttest: 0.6387348\tbest: 0.6387348 (66)\ttotal: 25s\tremaining: 12.3s\n",
            "67:\tlearn: 0.6447896\ttest: 0.6386737\tbest: 0.6386737 (67)\ttotal: 25.3s\tremaining: 11.9s\n",
            "68:\tlearn: 0.6447317\ttest: 0.6386323\tbest: 0.6386323 (68)\ttotal: 25.7s\tremaining: 11.5s\n",
            "69:\tlearn: 0.6446649\ttest: 0.6385714\tbest: 0.6385714 (69)\ttotal: 26s\tremaining: 11.1s\n",
            "70:\tlearn: 0.6445932\ttest: 0.6385001\tbest: 0.6385001 (70)\ttotal: 26.4s\tremaining: 10.8s\n",
            "71:\tlearn: 0.6445127\ttest: 0.6384409\tbest: 0.6384409 (71)\ttotal: 26.8s\tremaining: 10.4s\n",
            "72:\tlearn: 0.6444596\ttest: 0.6384182\tbest: 0.6384182 (72)\ttotal: 27.2s\tremaining: 10s\n",
            "73:\tlearn: 0.6444006\ttest: 0.6383745\tbest: 0.6383745 (73)\ttotal: 27.5s\tremaining: 9.67s\n",
            "74:\tlearn: 0.6443218\ttest: 0.6383363\tbest: 0.6383363 (74)\ttotal: 27.9s\tremaining: 9.29s\n",
            "75:\tlearn: 0.6442398\ttest: 0.6382485\tbest: 0.6382485 (75)\ttotal: 28.2s\tremaining: 8.91s\n",
            "76:\tlearn: 0.6441725\ttest: 0.6381740\tbest: 0.6381740 (76)\ttotal: 28.6s\tremaining: 8.56s\n",
            "77:\tlearn: 0.6440988\ttest: 0.6381169\tbest: 0.6381169 (77)\ttotal: 29s\tremaining: 8.18s\n",
            "78:\tlearn: 0.6440467\ttest: 0.6381128\tbest: 0.6381128 (78)\ttotal: 29.4s\tremaining: 7.82s\n",
            "79:\tlearn: 0.6439895\ttest: 0.6380876\tbest: 0.6380876 (79)\ttotal: 29.8s\tremaining: 7.44s\n",
            "80:\tlearn: 0.6439322\ttest: 0.6380151\tbest: 0.6380151 (80)\ttotal: 30.1s\tremaining: 7.07s\n",
            "81:\tlearn: 0.6438542\ttest: 0.6379457\tbest: 0.6379457 (81)\ttotal: 30.6s\tremaining: 6.71s\n",
            "82:\tlearn: 0.6437951\ttest: 0.6378958\tbest: 0.6378958 (82)\ttotal: 30.9s\tremaining: 6.33s\n",
            "83:\tlearn: 0.6437205\ttest: 0.6378311\tbest: 0.6378311 (83)\ttotal: 31.3s\tremaining: 5.97s\n",
            "84:\tlearn: 0.6436655\ttest: 0.6377982\tbest: 0.6377982 (84)\ttotal: 31.8s\tremaining: 5.61s\n",
            "85:\tlearn: 0.6436245\ttest: 0.6377856\tbest: 0.6377856 (85)\ttotal: 32.1s\tremaining: 5.23s\n",
            "86:\tlearn: 0.6435602\ttest: 0.6377378\tbest: 0.6377378 (86)\ttotal: 32.5s\tremaining: 4.86s\n",
            "87:\tlearn: 0.6435156\ttest: 0.6377118\tbest: 0.6377118 (87)\ttotal: 32.8s\tremaining: 4.48s\n",
            "88:\tlearn: 0.6434726\ttest: 0.6376845\tbest: 0.6376845 (88)\ttotal: 33.2s\tremaining: 4.1s\n",
            "89:\tlearn: 0.6434239\ttest: 0.6376650\tbest: 0.6376650 (89)\ttotal: 33.6s\tremaining: 3.73s\n",
            "90:\tlearn: 0.6433584\ttest: 0.6376445\tbest: 0.6376445 (90)\ttotal: 33.9s\tremaining: 3.36s\n",
            "91:\tlearn: 0.6432716\ttest: 0.6375783\tbest: 0.6375783 (91)\ttotal: 34.3s\tremaining: 2.98s\n",
            "92:\tlearn: 0.6432035\ttest: 0.6375035\tbest: 0.6375035 (92)\ttotal: 34.8s\tremaining: 2.62s\n",
            "93:\tlearn: 0.6430962\ttest: 0.6373622\tbest: 0.6373622 (93)\ttotal: 35.5s\tremaining: 2.27s\n",
            "94:\tlearn: 0.6430489\ttest: 0.6373302\tbest: 0.6373302 (94)\ttotal: 36s\tremaining: 1.89s\n",
            "95:\tlearn: 0.6429929\ttest: 0.6372811\tbest: 0.6372811 (95)\ttotal: 36.6s\tremaining: 1.52s\n",
            "96:\tlearn: 0.6429545\ttest: 0.6372772\tbest: 0.6372772 (96)\ttotal: 37.2s\tremaining: 1.15s\n",
            "97:\tlearn: 0.6429006\ttest: 0.6372195\tbest: 0.6372195 (97)\ttotal: 37.5s\tremaining: 766ms\n",
            "98:\tlearn: 0.6428390\ttest: 0.6371950\tbest: 0.6371950 (98)\ttotal: 37.9s\tremaining: 383ms\n",
            "99:\tlearn: 0.6427595\ttest: 0.6370896\tbest: 0.6370896 (99)\ttotal: 38.3s\tremaining: 0us\n",
            "\n",
            "bestTest = 0.6370896371\n",
            "bestIteration = 99\n",
            "\n"
          ]
        },
        {
          "output_type": "execute_result",
          "data": {
            "text/plain": [
              "<catboost.core.CatBoostClassifier at 0x7f3089c03a60>"
            ]
          },
          "metadata": {},
          "execution_count": 173
        }
      ]
    },
    {
      "cell_type": "code",
      "source": [
        "print(\"\\nTest  Accuracy : %.4f\"%booster.score(train_data))\n",
        "print(\"Train Accuracy : %.4f\"%booster.score(test_data))"
      ],
      "metadata": {
        "colab": {
          "base_uri": "https://localhost:8080/"
        },
        "id": "prlTqfsx-9dP",
        "outputId": "b5a92f97-c08a-43cc-967f-298ca3a937a0"
      },
      "execution_count": null,
      "outputs": [
        {
          "output_type": "stream",
          "name": "stdout",
          "text": [
            "\n",
            "Test  Accuracy : 0.6197\n",
            "Train Accuracy : 0.6290\n"
          ]
        }
      ]
    }
  ]
}