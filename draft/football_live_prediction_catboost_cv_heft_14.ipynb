{
  "nbformat": 4,
  "nbformat_minor": 0,
  "metadata": {
    "colab": {
      "provenance": [],
      "gpuType": "T4",
      "authorship_tag": "ABX9TyM6l0lvNnSAygpBi2al+kkP",
      "include_colab_link": true
    },
    "kernelspec": {
      "name": "python3",
      "display_name": "Python 3"
    },
    "language_info": {
      "name": "python"
    },
    "gpuClass": "standard",
    "accelerator": "GPU"
  },
  "cells": [
    {
      "cell_type": "markdown",
      "metadata": {
        "id": "view-in-github",
        "colab_type": "text"
      },
      "source": [
        "<a href=\"https://colab.research.google.com/github/cappelchi/calcio_notebooks/blob/main/draft/football_live_prediction_catboost_cv_heft_14.ipynb\" target=\"_parent\"><img src=\"https://colab.research.google.com/assets/colab-badge.svg\" alt=\"Open In Colab\"/></a>"
      ]
    },
    {
      "cell_type": "markdown",
      "source": [
        "\n",
        "[CatBoost - An In-Depth Guide [Python API]](https://coderzcolumn.com/tutorials/machine-learning/catboost-an-in-depth-guide-python#9)<br>\n",
        "[Catboost](https://catboost.ai/en/docs/concepts/python-reference_pool)<br>\n",
        "[Cross-Validation Techniques](https://medium.com/geekculture/cross-validation-techniques-33d389897878)<br>\n",
        "[https://github.com/catboost/tutorials/blob/master/cross_validation/cv_tutorial.ipynb](https://github.com/catboost/tutorials/blob/master/cross_validation/cv_tutorial.ipynb)\n"
      ],
      "metadata": {
        "id": "PJdR9nm3sU58"
      }
    },
    {
      "cell_type": "markdown",
      "source": [
        "### Project config"
      ],
      "metadata": {
        "id": "5TmD4vhiscmr"
      }
    },
    {
      "cell_type": "code",
      "source": [
        "try:\n",
        "    import neptune.new as neptune\n",
        "except:\n",
        "    !pip install neptune-client >> None\n",
        "    import neptune.new as neptune\n"
      ],
      "metadata": {
        "colab": {
          "base_uri": "https://localhost:8080/"
        },
        "id": "d4vPCODXs4GL",
        "outputId": "6656433e-018c-4bf3-a6f4-4c838cb86dd3"
      },
      "execution_count": 1,
      "outputs": [
        {
          "output_type": "stream",
          "name": "stderr",
          "text": [
            "/usr/local/lib/python3.10/dist-packages/neptune/internal/backends/hosted_client.py:50: NeptuneDeprecationWarning: The 'neptune-client' package has been deprecated and will be removed in the future. Install the 'neptune' package instead. For more, see https://docs.neptune.ai/setup/upgrading/\n",
            "  from neptune.version import version as neptune_client_version\n",
            "<ipython-input-1-4771ddf98365>:2: NeptuneDeprecationWarning: You're importing the Neptune client library via the deprecated `neptune.new` module, which will be removed in a future release. Import directly from `neptune` instead.\n",
            "  import neptune.new as neptune\n"
          ]
        }
      ]
    },
    {
      "cell_type": "code",
      "source": [
        "def get_credential(frmwork = 'neptune_team'):\n",
        "    with open('credential.txt', 'r') as container:\n",
        "        for line in container:\n",
        "            if frmwork in line:\n",
        "                login, psw = line.split(' ')[1], line.split(' ')[2].split('\\n')[0]\n",
        "                return login, psw\n",
        "\n",
        "#@title Set API key for neptune.ai\n",
        "set_api = True #@param {type:\"boolean\"}\n",
        "if set_api:\n",
        "    username, api_key = get_credential()"
      ],
      "metadata": {
        "id": "k8ejW2lptEij"
      },
      "execution_count": 2,
      "outputs": []
    },
    {
      "cell_type": "markdown",
      "source": [
        "### Installations"
      ],
      "metadata": {
        "id": "wKKP71QH5Nc_"
      }
    },
    {
      "cell_type": "code",
      "source": [
        "!pip install catboost >> None\n",
        "!pip install deap >> None"
      ],
      "metadata": {
        "id": "L8IvJXwl5I9y"
      },
      "execution_count": 3,
      "outputs": []
    },
    {
      "cell_type": "markdown",
      "source": [
        "### Downloads"
      ],
      "metadata": {
        "id": "OBy3RQZy5Fs0"
      }
    },
    {
      "cell_type": "code",
      "source": [
        "project = neptune.init_project(\n",
        "    project=\"scomesse/football\", \n",
        "    api_token = api_key\n",
        "    )\n",
        "\n",
        "data_version = 'football_live_main_part_npz_230510/'\n",
        "project[data_version + 'dataset'].download('./dataset.npz')\n",
        "project[data_version + 'additional_data'].download('./additional_data.npz')\n",
        "project[data_version + 'time'].download('./time.csv')\n",
        "data_params = project[data_version + 'params'].fetch()\n",
        "\n",
        "data_version = 'football_live_upd_230510/'\n",
        "project[data_version + 'dataset'].download('./dataset_upd.npz')\n",
        "project[data_version + 'additional_data'].download('./additional_data_upd.npz')\n",
        "project[data_version + 'time'].download('./time_upd.csv')\n",
        "data_params_upd = project[data_version + 'params'].fetch()\n",
        "project.stop()"
      ],
      "metadata": {
        "colab": {
          "base_uri": "https://localhost:8080/"
        },
        "id": "t6N_cpRZ4_sD",
        "outputId": "4862b9e5-3411-4d68-8ade-d032552b86e4"
      },
      "execution_count": 4,
      "outputs": [
        {
          "output_type": "stream",
          "name": "stdout",
          "text": [
            "https://app.neptune.ai/scomesse/football/\n",
            "Shutting down background jobs, please wait a moment...\n",
            "Done!\n",
            "All 0 operations synced, thanks for waiting!\n",
            "Explore the metadata in the Neptune app:\n",
            "https://app.neptune.ai/scomesse/football/metadata\n"
          ]
        }
      ]
    },
    {
      "cell_type": "markdown",
      "source": [
        "### Imports"
      ],
      "metadata": {
        "id": "y-aB2ZmG48Ob"
      }
    },
    {
      "cell_type": "code",
      "source": [
        "import pandas as pd\n",
        "import numpy as np\n",
        "pd.options.display.max_columns = 50\n",
        "pd.options.display.max_rows = 100\n",
        "print(pd.__version__)\n",
        "print(np.__version__)"
      ],
      "metadata": {
        "colab": {
          "base_uri": "https://localhost:8080/"
        },
        "id": "15bNjVgR45yt",
        "outputId": "2faa5398-0252-41cd-bce7-b6f45804a565"
      },
      "execution_count": 3,
      "outputs": [
        {
          "output_type": "stream",
          "name": "stdout",
          "text": [
            "1.5.3\n",
            "1.22.4\n"
          ]
        }
      ]
    },
    {
      "cell_type": "code",
      "source": [
        "from tqdm import tqdm\n",
        "import plotly.express as px\n",
        "import os, psutil, time\n",
        "import gc"
      ],
      "metadata": {
        "id": "3ENZi1yP43bo"
      },
      "execution_count": 4,
      "outputs": []
    },
    {
      "cell_type": "code",
      "source": [
        "import plotly.graph_objects as go\n",
        "from plotly.subplots import make_subplots\n",
        "\n",
        "from neptune.utils import stringify_unsupported"
      ],
      "metadata": {
        "id": "9l_wpOuu41dC"
      },
      "execution_count": 5,
      "outputs": []
    },
    {
      "cell_type": "code",
      "source": [
        "from catboost import CatBoost\n",
        "from catboost import utils\n",
        "from catboost import CatBoostClassifier, CatBoostRegressor\n",
        "from catboost import Pool, cv\n",
        "from catboost.utils import eval_metric\n",
        "np.random.seed(147)"
      ],
      "metadata": {
        "id": "Gm3uj2do4x0S"
      },
      "execution_count": 6,
      "outputs": []
    },
    {
      "cell_type": "code",
      "source": [
        "import operator\n",
        "import random\n",
        "from deap import base\n",
        "from deap import creator\n",
        "from deap import tools\n",
        "from deap import algorithms"
      ],
      "metadata": {
        "id": "btyNZKwd4vfM"
      },
      "execution_count": 7,
      "outputs": []
    },
    {
      "cell_type": "markdown",
      "source": [
        "### Code"
      ],
      "metadata": {
        "id": "-5ijAHfK4sRg"
      }
    },
    {
      "cell_type": "markdown",
      "source": [
        "#####Functions"
      ],
      "metadata": {
        "id": "xXtEqwN74m4H"
      }
    },
    {
      "cell_type": "code",
      "source": [
        "def calculate_multiclass(probability_2x:np.array, line_2x:np.array):\n",
        "\n",
        "    probline = probability_2x * line_2x\n",
        "    best_odd_result = np.argmax(probline, axis = 1)\n",
        "    best_odd_float = np.take_along_axis(probline, best_odd_result.reshape(-1, 1), axis = 1)\n",
        "    return {\n",
        "        'argmax':best_odd_result,\n",
        "        'float':best_odd_float[:,0],\n",
        "    }"
      ],
      "metadata": {
        "id": "4rVmvIN84kqr"
      },
      "execution_count": 8,
      "outputs": []
    },
    {
      "cell_type": "code",
      "source": [
        "def precalculate_validation(data_split, active_rows_dict, preds_dict, line_dict, y_dict):\n",
        "    preds_int, preds_float = calculate_multiclass(\n",
        "        preds_dict[data_split][active_rows_dict[data_split]],\n",
        "        line_dict[data_split][active_rows_dict[data_split]]\n",
        "                                                ).values()\n",
        "    y_prof = (y_dict[data_split][active_rows_dict[data_split]] == preds_int) * 1\n",
        "    Line_production = np.take_along_axis(line_dict[data_split][active_rows_dict[data_split]], preds_int.reshape(-1,1), axis = 1)[:, 0]\n",
        "    return y_prof, preds_int, preds_float, Line_production"
      ],
      "metadata": {
        "id": "p3sME3pA4i5-"
      },
      "execution_count": 9,
      "outputs": []
    },
    {
      "cell_type": "code",
      "source": [
        "def make_filter(hda, preds_int):\n",
        "    hda_dict = {'home':0, 'draw':1, 'away':2}\n",
        "    if hda == 'all':\n",
        "        return preds_int > -1\n",
        "    else:\n",
        "        return preds_int == hda_dict[hda]\n"
      ],
      "metadata": {
        "id": "8gzMpOxz4hQF"
      },
      "execution_count": 10,
      "outputs": []
    },
    {
      "cell_type": "code",
      "source": [
        "def get_profit_curve(y, y_pred, Line_production, bet_type = 'fixed', strategy = 'simple'):\n",
        "    #fixed, divk, divk-1\n",
        "    #simple, complex\n",
        "    threshold = []\n",
        "    profit = []\n",
        "    bet_qty_list = []\n",
        "    if bet_type == 'divk':\n",
        "        profit_size = (Line_production - 1) / Line_production\n",
        "        bet_size = Line_production\n",
        "    else:\n",
        "        profit_size = (Line_production - 1)\n",
        "        bet_size = Line_production /Line_production\n",
        "    for th in np.linspace(0.9,1.4,1001):\n",
        "        threshold.append(th)           \n",
        "        if strategy == 'simple':\n",
        "            vector_th = y_pred > th\n",
        "        if strategy == 'complex':\n",
        "            vector_th = (y_pred * Line_production / 10) > th\n",
        "        bet_qty_list.append(vector_th.sum())\n",
        "        profit.append((y[vector_th] * profit_size[vector_th] + (y[vector_th] - 1) / bet_size[vector_th]).sum())\n",
        "\n",
        "    return threshold, profit, bet_qty_list"
      ],
      "metadata": {
        "id": "TGf0DDz24Z-a"
      },
      "execution_count": 11,
      "outputs": []
    },
    {
      "cell_type": "code",
      "source": [
        "def profit_validation_by_type(active_rows_dict, preds_dict, line_dict, y_dict):\n",
        "    data_splits = ['holdout', 'test', 'train']\n",
        "    hda_list = ['all', 'home', 'draw', 'away']\n",
        "    title_text = f'Profit & bet qty for validation model in neptune.ai: model_name'\n",
        "    colors = ['rgb(93, 164, 214)', 'rgb(255, 144, 14)',  'rgb(44, 160, 101)', 'rgb(255, 65, 54)']\n",
        "    fig = make_subplots(rows = 3, cols = 1,\n",
        "                        shared_xaxes = True, \n",
        "                        vertical_spacing = 0.02,\n",
        "                        subplot_titles = (\"holdout\", \"test\", \"train\")\n",
        "                        )\n",
        "    for cnt_split, data_split in enumerate(data_splits):\n",
        "        y_prof, preds_int, preds_float, Line_production = precalculate_validation(\n",
        "                        data_split, active_rows_dict, preds_dict, line_dict, y_dict\n",
        "                        )\n",
        "        for cnt_hda, hda in enumerate(hda_list):\n",
        "            sfilter = make_filter(hda, preds_int)\n",
        "            threshold, profit, bet_qty_list = get_profit_curve(\n",
        "                                                y_prof[sfilter], \n",
        "                                                preds_float[sfilter], \n",
        "                                                Line_production[sfilter],\n",
        "                                                bet_type = 'divk'\n",
        "                                                            )\n",
        "            fig.append_trace(go.Scatter(\n",
        "                                    x = threshold,\n",
        "                                    y = profit,\n",
        "                                    name = hda,\n",
        "                                    line = dict(color = colors[cnt_hda], width = 4 - 3 * bool(cnt_hda))),\n",
        "                                    row = cnt_split + 1, col=1)\n",
        "            # Update yaxis properties\n",
        "            fig.update_yaxes(rangemode = 'nonnegative', row = cnt_split + 1, col = 1)\n",
        "\n",
        "    return fig.update_layout(title = 'profit validation', height = 800, width = 900)"
      ],
      "metadata": {
        "id": "2vlVMjd-4W3c"
      },
      "execution_count": 12,
      "outputs": []
    },
    {
      "cell_type": "markdown",
      "source": [
        "##### Prepare Data\n",
        "\n",
        "1. регрессия\n",
        "2. мультиклассовая класификация {AWAY:2,DRAW:1, HOME:0} \n",
        "3. бинарная классификация: <br>\n",
        "    a. HOME vs (DRAW & AWAY)<br>\n",
        "    б. DRAW vs (HOME & AWAY)<br>\n",
        "    в. AWAY vs (HOME & DRAW)<br>"
      ],
      "metadata": {
        "id": "K3gsr1nv36Zj"
      }
    },
    {
      "cell_type": "code",
      "source": [
        "#2010: 145536\n",
        "#2021: 78600\n",
        "#2022: 114949\n",
        "#2023: 27456"
      ],
      "metadata": {
        "id": "pox37_kO3u0o"
      },
      "execution_count": 15,
      "outputs": []
    },
    {
      "cell_type": "code",
      "source": [
        "id_time_df = pd.read_csv('/content/time_upd.csv', parse_dates = ['StatTime'], dayfirst = True)\n",
        "ids_seq = id_time_df.sort_values(by = 'StatTime')['Id'].values[:int(len(id_time_df) / 2)]\n",
        "additional_data_upd = np.load('/content/additional_data_upd.npz')\n",
        "id_vector = np.isin(additional_data_upd['id'], ids_seq)\n",
        "\n",
        "data_npz = np.load('./dataset.npz')\n",
        "data_upd_npz = np.load('./dataset_upd.npz')\n",
        "X = np.vstack((data_npz['X'], data_upd_npz['X'][id_vector]))\n",
        "print(X.shape)\n"
      ],
      "metadata": {
        "colab": {
          "base_uri": "https://localhost:8080/"
        },
        "id": "NmBqfhWR3rC_",
        "outputId": "f5ab8769-cf0c-43ab-aeeb-4c9111580f43"
      },
      "execution_count": 13,
      "outputs": [
        {
          "output_type": "stream",
          "name": "stdout",
          "text": [
            "(14604604, 37)\n"
          ]
        }
      ]
    },
    {
      "cell_type": "code",
      "source": [
        "#@title Выбор таргета\n",
        "target_type = \"multiclass\" #@param [\"regression1\", \"regression2\", \"multiclass\", \"binary_home\", \"binary_draw\", \"binary_away\"]\n",
        "if target_type == 'regression1':\n",
        "    y = np.hstack((data_npz['y_regression1'], data_upd_npz['y_regression1'][id_vector]))\n",
        "elif target_type == 'regression2':\n",
        "    y = np.hstack((data_npz['y_regression2'], data_upd_npz['y_regression2'][id_vector]))\n",
        "elif target_type == 'multiclass':\n",
        "    y = np.hstack((data_npz['y_multi'], data_upd_npz['y_multi'][id_vector]))\n",
        "elif target_type == 'binary_home':\n",
        "    y =  1 * (np.hstack((data_npz['y_multi'], data_upd_npz['y_multi'][id_vector])) == 0)\n",
        "elif target_type == 'binary_draw':\n",
        "    y =  1 * (np.hstack((data_npz['y_multi'], data_upd_npz['y_multi'][id_vector])) == 1)\n",
        "elif target_type == 'binary_away':\n",
        "    y =  1 * (np.hstack((data_npz['y_multi'], data_upd_npz['y_multi'][id_vector])) == 2)\n",
        "\n",
        "print(X.shape, y.shape)\n",
        "#---------------\n",
        "process = psutil.Process(os.getpid())\n",
        "print('mem usage: ', round(process.memory_info().rss / 1024 ** 3, 2), 'GiB')  # in bytes \n",
        "#---------------"
      ],
      "metadata": {
        "colab": {
          "base_uri": "https://localhost:8080/"
        },
        "id": "Wl7i2R-a3mnc",
        "outputId": "4dc7990e-6fa4-4327-bd08-ea4fbc25c91e"
      },
      "execution_count": 14,
      "outputs": [
        {
          "output_type": "stream",
          "name": "stdout",
          "text": [
            "(14604604, 37) (14604604,)\n",
            "mem usage:  2.39 GiB\n"
          ]
        }
      ]
    },
    {
      "cell_type": "code",
      "source": [
        "!mkdir -p ./models"
      ],
      "metadata": {
        "id": "dSS87xGX3hqr"
      },
      "execution_count": 18,
      "outputs": []
    },
    {
      "cell_type": "markdown",
      "source": [
        "##### Folding"
      ],
      "metadata": {
        "id": "ph3ewOoB4Dqu"
      }
    },
    {
      "cell_type": "code",
      "source": [
        "kfold_splits = 3\n",
        "kfold_size = int(y.shape[0] / kfold_splits)\n",
        "kfold_num = 2\n",
        "kfold_start, kfold_end = kfold_size * kfold_num, kfold_size * (kfold_num + 1)\n",
        "kfold_vector = np.zeros(y.shape[0], dtype = np.bool_)\n",
        "kfold_vector[kfold_start:kfold_end] = True"
      ],
      "metadata": {
        "id": "zidD33Uq3fCl"
      },
      "execution_count": 15,
      "outputs": []
    },
    {
      "cell_type": "code",
      "source": [
        "train_data = Pool(X[~kfold_vector], y[~kfold_vector])\n",
        "test_data = Pool(X[kfold_vector], y[kfold_vector])\n",
        "#---------------\n",
        "process = psutil.Process(os.getpid())\n",
        "print('mem usage: ', round(process.memory_info().rss / 1024 ** 3, 2), 'GiB')  # in bytes \n",
        "#---------------"
      ],
      "metadata": {
        "colab": {
          "base_uri": "https://localhost:8080/"
        },
        "id": "Y-4rL7g63bEb",
        "outputId": "387e589a-8867-43cd-b941-c6d7b14ddb12"
      },
      "execution_count": 16,
      "outputs": [
        {
          "output_type": "stream",
          "name": "stdout",
          "text": [
            "mem usage:  5.18 GiB\n"
          ]
        }
      ]
    },
    {
      "cell_type": "code",
      "source": [
        "gpu_cnt = utils.get_gpu_device_count()\n",
        "print(\"Number of GPU Count : \",gpu_cnt)"
      ],
      "metadata": {
        "colab": {
          "base_uri": "https://localhost:8080/"
        },
        "id": "6J_yDoRD3WoW",
        "outputId": "7d9be5d4-3e4c-4093-e57f-ddc740ba2c53"
      },
      "execution_count": 17,
      "outputs": [
        {
          "output_type": "stream",
          "name": "stdout",
          "text": [
            "Number of GPU Count :  1\n"
          ]
        }
      ]
    },
    {
      "cell_type": "markdown",
      "source": [
        "##### Train catboost model"
      ],
      "metadata": {
        "id": "bfdudmNm4Hwg"
      }
    },
    {
      "cell_type": "code",
      "source": [
        "cparams = {\n",
        "    'loss_function': 'MultiClass',\n",
        "    'learning_rate':0.02,\n",
        "    'l2_leaf_reg':0.9,\n",
        "    'max_depth':4,\n",
        "    'min_data_in_leaf':15,\n",
        "    #'leaf_estimation_method':leafmethod,\n",
        "    #'early_stopping_rounds':15,\n",
        "    'verbose':10,\n",
        "    'iterations':3600,\n",
        "    \"eval_metric\" : 'TotalF1',\n",
        "    'task_type':\"GPU\", \n",
        "    'devices':'0'   \n",
        "}"
      ],
      "metadata": {
        "id": "DmX9ynZn3DB0"
      },
      "execution_count": 18,
      "outputs": []
    },
    {
      "cell_type": "code",
      "source": [
        "booster = CatBoostClassifier(\n",
        "                **cparams        \n",
        "                )\n",
        "\n",
        "booster.fit(train_data, eval_set = test_data)\n",
        "\n",
        "booster.save_model(f'./models/booster_{kfold_num}.model')"
      ],
      "metadata": {
        "colab": {
          "base_uri": "https://localhost:8080/"
        },
        "id": "5Jfp2ERt3AMI",
        "outputId": "56d8272f-7998-4719-8e8e-49e635c00b82"
      },
      "execution_count": 19,
      "outputs": [
        {
          "output_type": "stream",
          "name": "stdout",
          "text": [
            "0:\tlearn: 0.4952356\ttest: 0.4970674\tbest: 0.4970674 (0)\ttotal: 112ms\tremaining: 6m 42s\n",
            "10:\tlearn: 0.4952458\ttest: 0.4970618\tbest: 0.4970674 (0)\ttotal: 884ms\tremaining: 4m 48s\n",
            "20:\tlearn: 0.4954940\ttest: 0.4973660\tbest: 0.4975345 (12)\ttotal: 1.6s\tremaining: 4m 33s\n",
            "30:\tlearn: 0.4956282\ttest: 0.4974911\tbest: 0.4975345 (12)\ttotal: 2.34s\tremaining: 4m 29s\n",
            "40:\tlearn: 0.4951659\ttest: 0.4974395\tbest: 0.4975345 (12)\ttotal: 3.07s\tremaining: 4m 26s\n",
            "50:\tlearn: 0.4951856\ttest: 0.4974661\tbest: 0.4975345 (12)\ttotal: 3.79s\tremaining: 4m 23s\n",
            "60:\tlearn: 0.4957836\ttest: 0.4980869\tbest: 0.4981108 (58)\ttotal: 4.5s\tremaining: 4m 20s\n",
            "70:\tlearn: 0.4952881\ttest: 0.4976919\tbest: 0.4981947 (63)\ttotal: 5.41s\tremaining: 4m 29s\n",
            "80:\tlearn: 0.4955280\ttest: 0.4977915\tbest: 0.4981947 (63)\ttotal: 6.71s\tremaining: 4m 51s\n",
            "90:\tlearn: 0.4955662\ttest: 0.4978745\tbest: 0.4981947 (63)\ttotal: 7.87s\tremaining: 5m 3s\n",
            "100:\tlearn: 0.4960616\ttest: 0.4983104\tbest: 0.4983104 (100)\ttotal: 8.59s\tremaining: 4m 57s\n",
            "110:\tlearn: 0.4963405\ttest: 0.4983866\tbest: 0.4985071 (108)\ttotal: 9.28s\tremaining: 4m 51s\n",
            "120:\tlearn: 0.4965151\ttest: 0.4984993\tbest: 0.4985401 (117)\ttotal: 10s\tremaining: 4m 47s\n",
            "130:\tlearn: 0.4966668\ttest: 0.4986658\tbest: 0.4986658 (130)\ttotal: 10.7s\tremaining: 4m 44s\n",
            "140:\tlearn: 0.4973354\ttest: 0.4992727\tbest: 0.4992727 (140)\ttotal: 11.5s\tremaining: 4m 41s\n",
            "150:\tlearn: 0.4998800\ttest: 0.5017059\tbest: 0.5017059 (150)\ttotal: 12.2s\tremaining: 4m 38s\n",
            "160:\tlearn: 0.5031085\ttest: 0.5045617\tbest: 0.5045617 (160)\ttotal: 12.9s\tremaining: 4m 36s\n",
            "170:\tlearn: 0.5050919\ttest: 0.5064626\tbest: 0.5064626 (170)\ttotal: 13.7s\tremaining: 4m 34s\n",
            "180:\tlearn: 0.5069333\ttest: 0.5082038\tbest: 0.5082038 (180)\ttotal: 14.4s\tremaining: 4m 32s\n",
            "190:\tlearn: 0.5086507\ttest: 0.5097944\tbest: 0.5097944 (190)\ttotal: 15.1s\tremaining: 4m 30s\n",
            "200:\tlearn: 0.5099772\ttest: 0.5110606\tbest: 0.5110606 (200)\ttotal: 15.9s\tremaining: 4m 28s\n",
            "210:\tlearn: 0.5111088\ttest: 0.5120497\tbest: 0.5120497 (210)\ttotal: 16.6s\tremaining: 4m 26s\n",
            "220:\tlearn: 0.5124212\ttest: 0.5131812\tbest: 0.5131812 (220)\ttotal: 17.3s\tremaining: 4m 25s\n",
            "230:\tlearn: 0.5137251\ttest: 0.5142838\tbest: 0.5142838 (230)\ttotal: 18.2s\tremaining: 4m 26s\n",
            "240:\tlearn: 0.5150406\ttest: 0.5155071\tbest: 0.5155071 (240)\ttotal: 19.6s\tremaining: 4m 33s\n",
            "250:\tlearn: 0.5161201\ttest: 0.5165472\tbest: 0.5165472 (250)\ttotal: 20.8s\tremaining: 4m 37s\n",
            "260:\tlearn: 0.5168922\ttest: 0.5172621\tbest: 0.5172621 (260)\ttotal: 21.5s\tremaining: 4m 34s\n",
            "270:\tlearn: 0.5182032\ttest: 0.5185069\tbest: 0.5185069 (270)\ttotal: 22.2s\tremaining: 4m 32s\n",
            "280:\tlearn: 0.5189790\ttest: 0.5192850\tbest: 0.5192850 (280)\ttotal: 22.9s\tremaining: 4m 30s\n",
            "290:\tlearn: 0.5199798\ttest: 0.5202417\tbest: 0.5202417 (290)\ttotal: 23.6s\tremaining: 4m 28s\n",
            "300:\tlearn: 0.5205193\ttest: 0.5207712\tbest: 0.5207712 (300)\ttotal: 24.4s\tremaining: 4m 26s\n",
            "310:\tlearn: 0.5212916\ttest: 0.5215117\tbest: 0.5215117 (310)\ttotal: 25.1s\tremaining: 4m 25s\n",
            "320:\tlearn: 0.5220179\ttest: 0.5222198\tbest: 0.5222198 (320)\ttotal: 25.8s\tremaining: 4m 23s\n",
            "330:\tlearn: 0.5226969\ttest: 0.5228657\tbest: 0.5228657 (330)\ttotal: 26.5s\tremaining: 4m 21s\n",
            "340:\tlearn: 0.5231871\ttest: 0.5233510\tbest: 0.5233510 (340)\ttotal: 27.2s\tremaining: 4m 20s\n",
            "350:\tlearn: 0.5237084\ttest: 0.5238461\tbest: 0.5238461 (350)\ttotal: 27.9s\tremaining: 4m 18s\n",
            "360:\tlearn: 0.5241447\ttest: 0.5242669\tbest: 0.5242669 (360)\ttotal: 28.7s\tremaining: 4m 17s\n",
            "370:\tlearn: 0.5246828\ttest: 0.5247783\tbest: 0.5247783 (370)\ttotal: 29.4s\tremaining: 4m 15s\n",
            "380:\tlearn: 0.5250070\ttest: 0.5250472\tbest: 0.5250472 (380)\ttotal: 30.1s\tremaining: 4m 14s\n",
            "390:\tlearn: 0.5255149\ttest: 0.5255193\tbest: 0.5255193 (390)\ttotal: 30.8s\tremaining: 4m 12s\n",
            "400:\tlearn: 0.5258982\ttest: 0.5258597\tbest: 0.5258597 (400)\ttotal: 32.1s\tremaining: 4m 16s\n",
            "410:\tlearn: 0.5262516\ttest: 0.5261839\tbest: 0.5261839 (410)\ttotal: 33.4s\tremaining: 4m 18s\n",
            "420:\tlearn: 0.5265849\ttest: 0.5264853\tbest: 0.5264853 (420)\ttotal: 34.2s\tremaining: 4m 18s\n",
            "430:\tlearn: 0.5268365\ttest: 0.5267003\tbest: 0.5267049 (429)\ttotal: 34.9s\tremaining: 4m 16s\n",
            "440:\tlearn: 0.5272213\ttest: 0.5270246\tbest: 0.5270246 (440)\ttotal: 35.6s\tremaining: 4m 14s\n",
            "450:\tlearn: 0.5276000\ttest: 0.5273706\tbest: 0.5273706 (450)\ttotal: 36.3s\tremaining: 4m 13s\n",
            "460:\tlearn: 0.5279530\ttest: 0.5276764\tbest: 0.5276764 (460)\ttotal: 37s\tremaining: 4m 12s\n",
            "470:\tlearn: 0.5281315\ttest: 0.5278638\tbest: 0.5278638 (470)\ttotal: 37.8s\tremaining: 4m 10s\n",
            "480:\tlearn: 0.5282329\ttest: 0.5279531\tbest: 0.5279531 (480)\ttotal: 38.5s\tremaining: 4m 9s\n",
            "490:\tlearn: 0.5285164\ttest: 0.5282017\tbest: 0.5282017 (490)\ttotal: 39.2s\tremaining: 4m 8s\n",
            "500:\tlearn: 0.5286889\ttest: 0.5283823\tbest: 0.5283912 (499)\ttotal: 40s\tremaining: 4m 7s\n",
            "510:\tlearn: 0.5289931\ttest: 0.5286769\tbest: 0.5286769 (510)\ttotal: 40.7s\tremaining: 4m 5s\n",
            "520:\tlearn: 0.5292183\ttest: 0.5288466\tbest: 0.5288473 (519)\ttotal: 41.4s\tremaining: 4m 4s\n",
            "530:\tlearn: 0.5294254\ttest: 0.5290447\tbest: 0.5290447 (530)\ttotal: 42.1s\tremaining: 4m 3s\n",
            "540:\tlearn: 0.5297626\ttest: 0.5293746\tbest: 0.5293746 (540)\ttotal: 42.9s\tremaining: 4m 2s\n",
            "550:\tlearn: 0.5300595\ttest: 0.5296932\tbest: 0.5296932 (550)\ttotal: 43.6s\tremaining: 4m 1s\n",
            "560:\tlearn: 0.5302032\ttest: 0.5298932\tbest: 0.5298932 (560)\ttotal: 44.8s\tremaining: 4m 2s\n",
            "570:\tlearn: 0.5304053\ttest: 0.5300925\tbest: 0.5300925 (570)\ttotal: 46.1s\tremaining: 4m 4s\n",
            "580:\tlearn: 0.5305734\ttest: 0.5302795\tbest: 0.5302795 (580)\ttotal: 47s\tremaining: 4m 4s\n",
            "590:\tlearn: 0.5307888\ttest: 0.5304697\tbest: 0.5304820 (589)\ttotal: 47.7s\tremaining: 4m 3s\n",
            "600:\tlearn: 0.5310405\ttest: 0.5307094\tbest: 0.5307094 (600)\ttotal: 48.4s\tremaining: 4m 1s\n",
            "610:\tlearn: 0.5312058\ttest: 0.5308780\tbest: 0.5308780 (610)\ttotal: 49.2s\tremaining: 4m\n",
            "620:\tlearn: 0.5313648\ttest: 0.5310367\tbest: 0.5310367 (620)\ttotal: 49.9s\tremaining: 3m 59s\n",
            "630:\tlearn: 0.5314466\ttest: 0.5311048\tbest: 0.5311048 (630)\ttotal: 50.7s\tremaining: 3m 58s\n",
            "640:\tlearn: 0.5316296\ttest: 0.5312890\tbest: 0.5312890 (640)\ttotal: 51.4s\tremaining: 3m 57s\n",
            "650:\tlearn: 0.5318082\ttest: 0.5314560\tbest: 0.5314560 (650)\ttotal: 52.1s\tremaining: 3m 56s\n",
            "660:\tlearn: 0.5319920\ttest: 0.5316618\tbest: 0.5316618 (660)\ttotal: 52.8s\tremaining: 3m 54s\n",
            "670:\tlearn: 0.5320759\ttest: 0.5317190\tbest: 0.5317206 (669)\ttotal: 53.6s\tremaining: 3m 53s\n",
            "680:\tlearn: 0.5321850\ttest: 0.5317940\tbest: 0.5317940 (680)\ttotal: 54.3s\tremaining: 3m 52s\n",
            "690:\tlearn: 0.5323058\ttest: 0.5319369\tbest: 0.5319369 (690)\ttotal: 55s\tremaining: 3m 51s\n",
            "700:\tlearn: 0.5324716\ttest: 0.5320933\tbest: 0.5320933 (700)\ttotal: 55.7s\tremaining: 3m 50s\n",
            "710:\tlearn: 0.5325526\ttest: 0.5321542\tbest: 0.5321574 (705)\ttotal: 56.5s\tremaining: 3m 49s\n",
            "720:\tlearn: 0.5327447\ttest: 0.5323220\tbest: 0.5323220 (720)\ttotal: 57.7s\tremaining: 3m 50s\n",
            "730:\tlearn: 0.5328265\ttest: 0.5324127\tbest: 0.5324127 (730)\ttotal: 59.3s\tremaining: 3m 52s\n",
            "740:\tlearn: 0.5331102\ttest: 0.5327011\tbest: 0.5327011 (740)\ttotal: 1m\tremaining: 3m 51s\n",
            "750:\tlearn: 0.5332507\ttest: 0.5328299\tbest: 0.5328378 (749)\ttotal: 1m\tremaining: 3m 50s\n",
            "760:\tlearn: 0.5334055\ttest: 0.5329906\tbest: 0.5329975 (759)\ttotal: 1m 1s\tremaining: 3m 49s\n",
            "770:\tlearn: 0.5335524\ttest: 0.5331291\tbest: 0.5331291 (770)\ttotal: 1m 2s\tremaining: 3m 48s\n",
            "780:\tlearn: 0.5336689\ttest: 0.5332250\tbest: 0.5332250 (780)\ttotal: 1m 2s\tremaining: 3m 47s\n",
            "790:\tlearn: 0.5337905\ttest: 0.5333619\tbest: 0.5333633 (788)\ttotal: 1m 3s\tremaining: 3m 46s\n",
            "800:\tlearn: 0.5338569\ttest: 0.5334059\tbest: 0.5334150 (798)\ttotal: 1m 4s\tremaining: 3m 45s\n",
            "810:\tlearn: 0.5339625\ttest: 0.5335453\tbest: 0.5335526 (809)\ttotal: 1m 5s\tremaining: 3m 44s\n",
            "820:\tlearn: 0.5340672\ttest: 0.5336662\tbest: 0.5336662 (820)\ttotal: 1m 5s\tremaining: 3m 43s\n",
            "830:\tlearn: 0.5341433\ttest: 0.5337368\tbest: 0.5337369 (829)\ttotal: 1m 6s\tremaining: 3m 42s\n",
            "840:\tlearn: 0.5342581\ttest: 0.5338333\tbest: 0.5338333 (840)\ttotal: 1m 7s\tremaining: 3m 41s\n",
            "850:\tlearn: 0.5343991\ttest: 0.5339540\tbest: 0.5339540 (850)\ttotal: 1m 8s\tremaining: 3m 39s\n",
            "860:\tlearn: 0.5344774\ttest: 0.5340161\tbest: 0.5340161 (860)\ttotal: 1m 8s\tremaining: 3m 38s\n",
            "870:\tlearn: 0.5345968\ttest: 0.5341358\tbest: 0.5341358 (870)\ttotal: 1m 9s\tremaining: 3m 37s\n",
            "880:\tlearn: 0.5346532\ttest: 0.5341617\tbest: 0.5341666 (879)\ttotal: 1m 10s\tremaining: 3m 38s\n",
            "890:\tlearn: 0.5347873\ttest: 0.5342961\tbest: 0.5342961 (890)\ttotal: 1m 11s\tremaining: 3m 38s\n",
            "900:\tlearn: 0.5348938\ttest: 0.5343961\tbest: 0.5343961 (900)\ttotal: 1m 12s\tremaining: 3m 38s\n",
            "910:\tlearn: 0.5350434\ttest: 0.5345755\tbest: 0.5345755 (910)\ttotal: 1m 13s\tremaining: 3m 37s\n",
            "920:\tlearn: 0.5351188\ttest: 0.5346426\tbest: 0.5346426 (920)\ttotal: 1m 14s\tremaining: 3m 36s\n",
            "930:\tlearn: 0.5352147\ttest: 0.5347651\tbest: 0.5347651 (930)\ttotal: 1m 15s\tremaining: 3m 35s\n",
            "940:\tlearn: 0.5353005\ttest: 0.5348669\tbest: 0.5348669 (940)\ttotal: 1m 15s\tremaining: 3m 34s\n",
            "950:\tlearn: 0.5353465\ttest: 0.5349296\tbest: 0.5349296 (950)\ttotal: 1m 16s\tremaining: 3m 33s\n",
            "960:\tlearn: 0.5354003\ttest: 0.5349766\tbest: 0.5349785 (959)\ttotal: 1m 17s\tremaining: 3m 32s\n",
            "970:\tlearn: 0.5355403\ttest: 0.5351009\tbest: 0.5351009 (970)\ttotal: 1m 17s\tremaining: 3m 31s\n",
            "980:\tlearn: 0.5356198\ttest: 0.5351501\tbest: 0.5351501 (980)\ttotal: 1m 18s\tremaining: 3m 30s\n",
            "990:\tlearn: 0.5356660\ttest: 0.5352190\tbest: 0.5352190 (990)\ttotal: 1m 19s\tremaining: 3m 29s\n",
            "1000:\tlearn: 0.5357920\ttest: 0.5353459\tbest: 0.5353459 (1000)\ttotal: 1m 20s\tremaining: 3m 28s\n",
            "1010:\tlearn: 0.5358959\ttest: 0.5354479\tbest: 0.5354479 (1010)\ttotal: 1m 20s\tremaining: 3m 27s\n",
            "1020:\tlearn: 0.5359613\ttest: 0.5355469\tbest: 0.5355469 (1020)\ttotal: 1m 21s\tremaining: 3m 26s\n",
            "1030:\tlearn: 0.5360428\ttest: 0.5356379\tbest: 0.5356379 (1030)\ttotal: 1m 22s\tremaining: 3m 25s\n",
            "1040:\tlearn: 0.5360864\ttest: 0.5356881\tbest: 0.5356891 (1038)\ttotal: 1m 23s\tremaining: 3m 26s\n",
            "1050:\tlearn: 0.5361522\ttest: 0.5357314\tbest: 0.5357314 (1050)\ttotal: 1m 25s\tremaining: 3m 27s\n",
            "1060:\tlearn: 0.5362289\ttest: 0.5357950\tbest: 0.5357950 (1060)\ttotal: 1m 26s\tremaining: 3m 26s\n",
            "1070:\tlearn: 0.5363223\ttest: 0.5358896\tbest: 0.5358896 (1070)\ttotal: 1m 26s\tremaining: 3m 25s\n",
            "1080:\tlearn: 0.5363235\ttest: 0.5358744\tbest: 0.5358896 (1070)\ttotal: 1m 27s\tremaining: 3m 24s\n",
            "1090:\tlearn: 0.5363831\ttest: 0.5359703\tbest: 0.5359774 (1085)\ttotal: 1m 28s\tremaining: 3m 23s\n",
            "1100:\tlearn: 0.5365011\ttest: 0.5361210\tbest: 0.5361210 (1100)\ttotal: 1m 29s\tremaining: 3m 22s\n",
            "1110:\tlearn: 0.5365414\ttest: 0.5361612\tbest: 0.5361699 (1109)\ttotal: 1m 29s\tremaining: 3m 21s\n",
            "1120:\tlearn: 0.5365599\ttest: 0.5361828\tbest: 0.5361828 (1120)\ttotal: 1m 30s\tremaining: 3m 20s\n",
            "1130:\tlearn: 0.5366259\ttest: 0.5362532\tbest: 0.5362532 (1130)\ttotal: 1m 31s\tremaining: 3m 19s\n",
            "1140:\tlearn: 0.5366395\ttest: 0.5362567\tbest: 0.5362740 (1135)\ttotal: 1m 32s\tremaining: 3m 18s\n",
            "1150:\tlearn: 0.5367437\ttest: 0.5363487\tbest: 0.5363615 (1148)\ttotal: 1m 32s\tremaining: 3m 17s\n",
            "1160:\tlearn: 0.5368001\ttest: 0.5364037\tbest: 0.5364037 (1160)\ttotal: 1m 33s\tremaining: 3m 16s\n",
            "1170:\tlearn: 0.5367887\ttest: 0.5363892\tbest: 0.5364053 (1161)\ttotal: 1m 34s\tremaining: 3m 15s\n",
            "1180:\tlearn: 0.5368487\ttest: 0.5364485\tbest: 0.5364485 (1180)\ttotal: 1m 35s\tremaining: 3m 14s\n",
            "1190:\tlearn: 0.5368800\ttest: 0.5364707\tbest: 0.5364786 (1184)\ttotal: 1m 35s\tremaining: 3m 14s\n",
            "1200:\tlearn: 0.5369995\ttest: 0.5366008\tbest: 0.5366008 (1200)\ttotal: 1m 37s\tremaining: 3m 14s\n",
            "1210:\tlearn: 0.5370973\ttest: 0.5367074\tbest: 0.5367074 (1210)\ttotal: 1m 38s\tremaining: 3m 14s\n",
            "1220:\tlearn: 0.5371602\ttest: 0.5367721\tbest: 0.5367721 (1220)\ttotal: 1m 39s\tremaining: 3m 13s\n",
            "1230:\tlearn: 0.5372592\ttest: 0.5368488\tbest: 0.5368488 (1230)\ttotal: 1m 40s\tremaining: 3m 12s\n",
            "1240:\tlearn: 0.5372772\ttest: 0.5368892\tbest: 0.5368928 (1238)\ttotal: 1m 41s\tremaining: 3m 12s\n",
            "1250:\tlearn: 0.5373430\ttest: 0.5369283\tbest: 0.5369357 (1249)\ttotal: 1m 41s\tremaining: 3m 11s\n",
            "1260:\tlearn: 0.5374055\ttest: 0.5369789\tbest: 0.5369855 (1258)\ttotal: 1m 42s\tremaining: 3m 10s\n",
            "1270:\tlearn: 0.5374093\ttest: 0.5369801\tbest: 0.5369855 (1258)\ttotal: 1m 43s\tremaining: 3m 9s\n",
            "1280:\tlearn: 0.5375119\ttest: 0.5370741\tbest: 0.5370741 (1280)\ttotal: 1m 44s\tremaining: 3m 8s\n",
            "1290:\tlearn: 0.5375442\ttest: 0.5370710\tbest: 0.5370917 (1288)\ttotal: 1m 44s\tremaining: 3m 7s\n",
            "1300:\tlearn: 0.5375548\ttest: 0.5370775\tbest: 0.5370925 (1294)\ttotal: 1m 45s\tremaining: 3m 6s\n",
            "1310:\tlearn: 0.5375897\ttest: 0.5371056\tbest: 0.5371056 (1310)\ttotal: 1m 46s\tremaining: 3m 5s\n",
            "1320:\tlearn: 0.5376571\ttest: 0.5371860\tbest: 0.5371860 (1320)\ttotal: 1m 47s\tremaining: 3m 4s\n",
            "1330:\tlearn: 0.5377082\ttest: 0.5372271\tbest: 0.5372271 (1330)\ttotal: 1m 47s\tremaining: 3m 4s\n",
            "1340:\tlearn: 0.5377284\ttest: 0.5372490\tbest: 0.5372490 (1340)\ttotal: 1m 48s\tremaining: 3m 3s\n",
            "1350:\tlearn: 0.5377503\ttest: 0.5372674\tbest: 0.5372674 (1350)\ttotal: 1m 49s\tremaining: 3m 3s\n",
            "1360:\tlearn: 0.5377817\ttest: 0.5372872\tbest: 0.5373054 (1357)\ttotal: 1m 51s\tremaining: 3m 2s\n",
            "1370:\tlearn: 0.5378652\ttest: 0.5373698\tbest: 0.5373698 (1370)\ttotal: 1m 52s\tremaining: 3m 2s\n",
            "1380:\tlearn: 0.5379180\ttest: 0.5374072\tbest: 0.5374162 (1379)\ttotal: 1m 52s\tremaining: 3m 1s\n",
            "1390:\tlearn: 0.5379556\ttest: 0.5374424\tbest: 0.5374495 (1389)\ttotal: 1m 53s\tremaining: 3m\n",
            "1400:\tlearn: 0.5379819\ttest: 0.5374616\tbest: 0.5374720 (1396)\ttotal: 1m 54s\tremaining: 2m 59s\n",
            "1410:\tlearn: 0.5380403\ttest: 0.5375193\tbest: 0.5375222 (1405)\ttotal: 1m 55s\tremaining: 2m 58s\n",
            "1420:\tlearn: 0.5380100\ttest: 0.5375228\tbest: 0.5375315 (1416)\ttotal: 1m 55s\tremaining: 2m 57s\n",
            "1430:\tlearn: 0.5380467\ttest: 0.5375525\tbest: 0.5375525 (1430)\ttotal: 1m 56s\tremaining: 2m 56s\n",
            "1440:\tlearn: 0.5381103\ttest: 0.5376122\tbest: 0.5376122 (1440)\ttotal: 1m 57s\tremaining: 2m 55s\n",
            "1450:\tlearn: 0.5381958\ttest: 0.5376857\tbest: 0.5376935 (1448)\ttotal: 1m 58s\tremaining: 2m 54s\n",
            "1460:\tlearn: 0.5382169\ttest: 0.5377025\tbest: 0.5377025 (1460)\ttotal: 1m 58s\tremaining: 2m 53s\n",
            "1470:\tlearn: 0.5382553\ttest: 0.5377299\tbest: 0.5377299 (1470)\ttotal: 1m 59s\tremaining: 2m 53s\n",
            "1480:\tlearn: 0.5382890\ttest: 0.5377475\tbest: 0.5377475 (1480)\ttotal: 2m\tremaining: 2m 52s\n",
            "1490:\tlearn: 0.5383311\ttest: 0.5377752\tbest: 0.5377800 (1486)\ttotal: 2m 1s\tremaining: 2m 51s\n",
            "1500:\tlearn: 0.5383413\ttest: 0.5378001\tbest: 0.5378001 (1500)\ttotal: 2m 1s\tremaining: 2m 50s\n",
            "1510:\tlearn: 0.5384061\ttest: 0.5378330\tbest: 0.5378330 (1510)\ttotal: 2m 3s\tremaining: 2m 50s\n",
            "1520:\tlearn: 0.5384591\ttest: 0.5378801\tbest: 0.5378866 (1519)\ttotal: 2m 4s\tremaining: 2m 50s\n",
            "1530:\tlearn: 0.5384848\ttest: 0.5379034\tbest: 0.5379146 (1528)\ttotal: 2m 5s\tremaining: 2m 49s\n",
            "1540:\tlearn: 0.5385012\ttest: 0.5379144\tbest: 0.5379254 (1537)\ttotal: 2m 6s\tremaining: 2m 48s\n",
            "1550:\tlearn: 0.5385166\ttest: 0.5379256\tbest: 0.5379361 (1548)\ttotal: 2m 6s\tremaining: 2m 47s\n",
            "1560:\tlearn: 0.5385417\ttest: 0.5379566\tbest: 0.5379570 (1559)\ttotal: 2m 7s\tremaining: 2m 46s\n",
            "1570:\tlearn: 0.5385808\ttest: 0.5380073\tbest: 0.5380073 (1570)\ttotal: 2m 8s\tremaining: 2m 45s\n",
            "1580:\tlearn: 0.5385953\ttest: 0.5380205\tbest: 0.5380297 (1576)\ttotal: 2m 9s\tremaining: 2m 44s\n",
            "1590:\tlearn: 0.5386273\ttest: 0.5380539\tbest: 0.5380556 (1588)\ttotal: 2m 9s\tremaining: 2m 43s\n",
            "1600:\tlearn: 0.5386536\ttest: 0.5380526\tbest: 0.5380556 (1588)\ttotal: 2m 10s\tremaining: 2m 42s\n",
            "1610:\tlearn: 0.5386794\ttest: 0.5380817\tbest: 0.5380817 (1610)\ttotal: 2m 11s\tremaining: 2m 42s\n",
            "1620:\tlearn: 0.5386962\ttest: 0.5380827\tbest: 0.5380902 (1613)\ttotal: 2m 11s\tremaining: 2m 41s\n",
            "1630:\tlearn: 0.5387917\ttest: 0.5381960\tbest: 0.5381970 (1629)\ttotal: 2m 12s\tremaining: 2m 40s\n",
            "1640:\tlearn: 0.5388588\ttest: 0.5382434\tbest: 0.5382523 (1639)\ttotal: 2m 13s\tremaining: 2m 39s\n",
            "1650:\tlearn: 0.5388827\ttest: 0.5382739\tbest: 0.5382744 (1649)\ttotal: 2m 14s\tremaining: 2m 38s\n",
            "1660:\tlearn: 0.5388801\ttest: 0.5382572\tbest: 0.5382744 (1649)\ttotal: 2m 15s\tremaining: 2m 37s\n",
            "1670:\tlearn: 0.5388917\ttest: 0.5382624\tbest: 0.5382744 (1649)\ttotal: 2m 16s\tremaining: 2m 37s\n",
            "1680:\tlearn: 0.5389286\ttest: 0.5382976\tbest: 0.5382976 (1680)\ttotal: 2m 17s\tremaining: 2m 37s\n",
            "1690:\tlearn: 0.5389648\ttest: 0.5383447\tbest: 0.5383447 (1690)\ttotal: 2m 18s\tremaining: 2m 36s\n",
            "1700:\tlearn: 0.5389907\ttest: 0.5383620\tbest: 0.5383695 (1697)\ttotal: 2m 19s\tremaining: 2m 35s\n",
            "1710:\tlearn: 0.5390253\ttest: 0.5383999\tbest: 0.5384079 (1708)\ttotal: 2m 19s\tremaining: 2m 34s\n",
            "1720:\tlearn: 0.5390667\ttest: 0.5384307\tbest: 0.5384314 (1717)\ttotal: 2m 20s\tremaining: 2m 33s\n",
            "1730:\tlearn: 0.5391154\ttest: 0.5384583\tbest: 0.5384583 (1730)\ttotal: 2m 21s\tremaining: 2m 32s\n",
            "1740:\tlearn: 0.5391422\ttest: 0.5384863\tbest: 0.5384917 (1739)\ttotal: 2m 22s\tremaining: 2m 31s\n",
            "1750:\tlearn: 0.5391533\ttest: 0.5384972\tbest: 0.5384972 (1750)\ttotal: 2m 22s\tremaining: 2m 30s\n",
            "1760:\tlearn: 0.5392268\ttest: 0.5385533\tbest: 0.5385702 (1757)\ttotal: 2m 23s\tremaining: 2m 29s\n",
            "1770:\tlearn: 0.5392481\ttest: 0.5385635\tbest: 0.5385702 (1757)\ttotal: 2m 24s\tremaining: 2m 28s\n",
            "1780:\tlearn: 0.5392402\ttest: 0.5385560\tbest: 0.5385702 (1757)\ttotal: 2m 25s\tremaining: 2m 28s\n",
            "1790:\tlearn: 0.5392476\ttest: 0.5385594\tbest: 0.5385702 (1757)\ttotal: 2m 25s\tremaining: 2m 27s\n",
            "1800:\tlearn: 0.5392480\ttest: 0.5385533\tbest: 0.5385702 (1757)\ttotal: 2m 26s\tremaining: 2m 26s\n",
            "1810:\tlearn: 0.5392320\ttest: 0.5385332\tbest: 0.5385702 (1757)\ttotal: 2m 27s\tremaining: 2m 25s\n",
            "1820:\tlearn: 0.5392641\ttest: 0.5385664\tbest: 0.5385702 (1757)\ttotal: 2m 28s\tremaining: 2m 24s\n",
            "1830:\tlearn: 0.5392861\ttest: 0.5385893\tbest: 0.5385937 (1828)\ttotal: 2m 29s\tremaining: 2m 24s\n",
            "1840:\tlearn: 0.5393209\ttest: 0.5386282\tbest: 0.5386282 (1840)\ttotal: 2m 30s\tremaining: 2m 23s\n",
            "1850:\tlearn: 0.5393323\ttest: 0.5386487\tbest: 0.5386535 (1849)\ttotal: 2m 31s\tremaining: 2m 22s\n",
            "1860:\tlearn: 0.5393630\ttest: 0.5386508\tbest: 0.5386553 (1853)\ttotal: 2m 32s\tremaining: 2m 22s\n",
            "1870:\tlearn: 0.5394242\ttest: 0.5386863\tbest: 0.5386863 (1870)\ttotal: 2m 32s\tremaining: 2m 21s\n",
            "1880:\tlearn: 0.5394343\ttest: 0.5386686\tbest: 0.5386863 (1870)\ttotal: 2m 33s\tremaining: 2m 20s\n",
            "1890:\tlearn: 0.5394679\ttest: 0.5387089\tbest: 0.5387089 (1890)\ttotal: 2m 34s\tremaining: 2m 19s\n",
            "1900:\tlearn: 0.5394987\ttest: 0.5387314\tbest: 0.5387314 (1900)\ttotal: 2m 34s\tremaining: 2m 18s\n",
            "1910:\tlearn: 0.5395409\ttest: 0.5387715\tbest: 0.5387715 (1910)\ttotal: 2m 35s\tremaining: 2m 17s\n",
            "1920:\tlearn: 0.5395678\ttest: 0.5387907\tbest: 0.5387954 (1912)\ttotal: 2m 36s\tremaining: 2m 16s\n",
            "1930:\tlearn: 0.5395867\ttest: 0.5387982\tbest: 0.5387982 (1930)\ttotal: 2m 37s\tremaining: 2m 15s\n",
            "1940:\tlearn: 0.5396163\ttest: 0.5388144\tbest: 0.5388144 (1940)\ttotal: 2m 37s\tremaining: 2m 14s\n",
            "1950:\tlearn: 0.5396165\ttest: 0.5388213\tbest: 0.5388213 (1950)\ttotal: 2m 38s\tremaining: 2m 14s\n",
            "1960:\tlearn: 0.5396387\ttest: 0.5388411\tbest: 0.5388568 (1956)\ttotal: 2m 39s\tremaining: 2m 13s\n",
            "1970:\tlearn: 0.5396657\ttest: 0.5388730\tbest: 0.5388758 (1969)\ttotal: 2m 40s\tremaining: 2m 12s\n",
            "1980:\tlearn: 0.5397218\ttest: 0.5389186\tbest: 0.5389186 (1980)\ttotal: 2m 41s\tremaining: 2m 11s\n",
            "1990:\tlearn: 0.5397149\ttest: 0.5389073\tbest: 0.5389294 (1987)\ttotal: 2m 42s\tremaining: 2m 11s\n",
            "2000:\tlearn: 0.5397344\ttest: 0.5389231\tbest: 0.5389294 (1987)\ttotal: 2m 43s\tremaining: 2m 10s\n",
            "2010:\tlearn: 0.5397582\ttest: 0.5389326\tbest: 0.5389347 (2006)\ttotal: 2m 44s\tremaining: 2m 9s\n",
            "2020:\tlearn: 0.5397836\ttest: 0.5389580\tbest: 0.5389580 (2020)\ttotal: 2m 45s\tremaining: 2m 8s\n",
            "2030:\tlearn: 0.5397751\ttest: 0.5389619\tbest: 0.5389668 (2022)\ttotal: 2m 45s\tremaining: 2m 8s\n",
            "2040:\tlearn: 0.5398146\ttest: 0.5389885\tbest: 0.5389885 (2040)\ttotal: 2m 46s\tremaining: 2m 7s\n",
            "2050:\tlearn: 0.5398425\ttest: 0.5390057\tbest: 0.5390057 (2050)\ttotal: 2m 47s\tremaining: 2m 6s\n",
            "2060:\tlearn: 0.5398872\ttest: 0.5390640\tbest: 0.5390640 (2060)\ttotal: 2m 48s\tremaining: 2m 5s\n",
            "2070:\tlearn: 0.5399243\ttest: 0.5390920\tbest: 0.5390920 (2070)\ttotal: 2m 48s\tremaining: 2m 4s\n",
            "2080:\tlearn: 0.5399462\ttest: 0.5391089\tbest: 0.5391115 (2079)\ttotal: 2m 49s\tremaining: 2m 3s\n",
            "2090:\tlearn: 0.5399602\ttest: 0.5391279\tbest: 0.5391279 (2090)\ttotal: 2m 50s\tremaining: 2m 2s\n",
            "2100:\tlearn: 0.5400127\ttest: 0.5391642\tbest: 0.5391642 (2100)\ttotal: 2m 50s\tremaining: 2m 1s\n",
            "2110:\tlearn: 0.5400576\ttest: 0.5391894\tbest: 0.5391894 (2110)\ttotal: 2m 51s\tremaining: 2m 1s\n",
            "2120:\tlearn: 0.5400918\ttest: 0.5392100\tbest: 0.5392128 (2118)\ttotal: 2m 52s\tremaining: 2m\n",
            "2130:\tlearn: 0.5401013\ttest: 0.5392213\tbest: 0.5392279 (2129)\ttotal: 2m 53s\tremaining: 1m 59s\n",
            "2140:\tlearn: 0.5401234\ttest: 0.5392401\tbest: 0.5392421 (2136)\ttotal: 2m 54s\tremaining: 1m 58s\n",
            "2150:\tlearn: 0.5401457\ttest: 0.5392605\tbest: 0.5392605 (2150)\ttotal: 2m 55s\tremaining: 1m 58s\n",
            "2160:\tlearn: 0.5401594\ttest: 0.5392587\tbest: 0.5392715 (2154)\ttotal: 2m 56s\tremaining: 1m 57s\n",
            "2170:\tlearn: 0.5401807\ttest: 0.5392742\tbest: 0.5392790 (2166)\ttotal: 2m 57s\tremaining: 1m 56s\n",
            "2180:\tlearn: 0.5401958\ttest: 0.5393008\tbest: 0.5393072 (2177)\ttotal: 2m 58s\tremaining: 1m 55s\n",
            "2190:\tlearn: 0.5402309\ttest: 0.5393399\tbest: 0.5393399 (2190)\ttotal: 2m 58s\tremaining: 1m 55s\n",
            "2200:\tlearn: 0.5402562\ttest: 0.5393354\tbest: 0.5393462 (2195)\ttotal: 2m 59s\tremaining: 1m 54s\n",
            "2210:\tlearn: 0.5403388\ttest: 0.5394406\tbest: 0.5394406 (2210)\ttotal: 3m\tremaining: 1m 53s\n",
            "2220:\tlearn: 0.5403573\ttest: 0.5394398\tbest: 0.5394523 (2215)\ttotal: 3m 1s\tremaining: 1m 52s\n",
            "2230:\tlearn: 0.5403876\ttest: 0.5394698\tbest: 0.5394702 (2224)\ttotal: 3m 1s\tremaining: 1m 51s\n",
            "2240:\tlearn: 0.5404152\ttest: 0.5394797\tbest: 0.5394844 (2237)\ttotal: 3m 2s\tremaining: 1m 50s\n",
            "2250:\tlearn: 0.5404055\ttest: 0.5394770\tbest: 0.5394928 (2244)\ttotal: 3m 3s\tremaining: 1m 49s\n",
            "2260:\tlearn: 0.5404018\ttest: 0.5394794\tbest: 0.5394928 (2244)\ttotal: 3m 4s\tremaining: 1m 49s\n",
            "2270:\tlearn: 0.5404133\ttest: 0.5394880\tbest: 0.5394936 (2266)\ttotal: 3m 4s\tremaining: 1m 48s\n",
            "2280:\tlearn: 0.5404537\ttest: 0.5395325\tbest: 0.5395325 (2280)\ttotal: 3m 5s\tremaining: 1m 47s\n",
            "2290:\tlearn: 0.5404532\ttest: 0.5395355\tbest: 0.5395368 (2289)\ttotal: 3m 6s\tremaining: 1m 46s\n",
            "2300:\tlearn: 0.5404809\ttest: 0.5395624\tbest: 0.5395624 (2300)\ttotal: 3m 7s\tremaining: 1m 45s\n",
            "2310:\tlearn: 0.5405072\ttest: 0.5396001\tbest: 0.5396036 (2306)\ttotal: 3m 8s\tremaining: 1m 45s\n",
            "2320:\tlearn: 0.5405296\ttest: 0.5396215\tbest: 0.5396282 (2319)\ttotal: 3m 9s\tremaining: 1m 44s\n",
            "2330:\tlearn: 0.5405486\ttest: 0.5396298\tbest: 0.5396353 (2328)\ttotal: 3m 10s\tremaining: 1m 43s\n",
            "2340:\tlearn: 0.5405622\ttest: 0.5396491\tbest: 0.5396517 (2336)\ttotal: 3m 11s\tremaining: 1m 42s\n",
            "2350:\tlearn: 0.5405962\ttest: 0.5396773\tbest: 0.5396841 (2349)\ttotal: 3m 12s\tremaining: 1m 42s\n",
            "2360:\tlearn: 0.5405975\ttest: 0.5396640\tbest: 0.5396841 (2349)\ttotal: 3m 12s\tremaining: 1m 41s\n",
            "2370:\tlearn: 0.5405933\ttest: 0.5396628\tbest: 0.5396841 (2349)\ttotal: 3m 13s\tremaining: 1m 40s\n",
            "2380:\tlearn: 0.5406262\ttest: 0.5396930\tbest: 0.5396949 (2379)\ttotal: 3m 14s\tremaining: 1m 39s\n",
            "2390:\tlearn: 0.5406671\ttest: 0.5397381\tbest: 0.5397381 (2390)\ttotal: 3m 14s\tremaining: 1m 38s\n",
            "2400:\tlearn: 0.5406848\ttest: 0.5397368\tbest: 0.5397387 (2391)\ttotal: 3m 15s\tremaining: 1m 37s\n",
            "2410:\tlearn: 0.5406710\ttest: 0.5397390\tbest: 0.5397415 (2409)\ttotal: 3m 16s\tremaining: 1m 36s\n",
            "2420:\tlearn: 0.5406914\ttest: 0.5397571\tbest: 0.5397571 (2420)\ttotal: 3m 17s\tremaining: 1m 36s\n",
            "2430:\tlearn: 0.5407221\ttest: 0.5397787\tbest: 0.5397789 (2423)\ttotal: 3m 17s\tremaining: 1m 35s\n",
            "2440:\tlearn: 0.5407372\ttest: 0.5397934\tbest: 0.5398015 (2438)\ttotal: 3m 18s\tremaining: 1m 34s\n",
            "2450:\tlearn: 0.5407620\ttest: 0.5398018\tbest: 0.5398029 (2449)\ttotal: 3m 19s\tremaining: 1m 33s\n",
            "2460:\tlearn: 0.5407690\ttest: 0.5398054\tbest: 0.5398097 (2457)\ttotal: 3m 20s\tremaining: 1m 32s\n",
            "2470:\tlearn: 0.5407959\ttest: 0.5398217\tbest: 0.5398266 (2469)\ttotal: 3m 22s\tremaining: 1m 32s\n",
            "2480:\tlearn: 0.5408183\ttest: 0.5398368\tbest: 0.5398368 (2480)\ttotal: 3m 22s\tremaining: 1m 31s\n",
            "2490:\tlearn: 0.5408262\ttest: 0.5398490\tbest: 0.5398520 (2488)\ttotal: 3m 23s\tremaining: 1m 30s\n",
            "2500:\tlearn: 0.5408613\ttest: 0.5398887\tbest: 0.5398921 (2499)\ttotal: 3m 24s\tremaining: 1m 29s\n",
            "2510:\tlearn: 0.5408653\ttest: 0.5398707\tbest: 0.5398921 (2499)\ttotal: 3m 25s\tremaining: 1m 28s\n",
            "2520:\tlearn: 0.5408963\ttest: 0.5398953\tbest: 0.5399029 (2517)\ttotal: 3m 25s\tremaining: 1m 28s\n",
            "2530:\tlearn: 0.5409013\ttest: 0.5398934\tbest: 0.5399037 (2527)\ttotal: 3m 26s\tremaining: 1m 27s\n",
            "2540:\tlearn: 0.5409160\ttest: 0.5399187\tbest: 0.5399187 (2540)\ttotal: 3m 27s\tremaining: 1m 26s\n",
            "2550:\tlearn: 0.5409338\ttest: 0.5399288\tbest: 0.5399308 (2548)\ttotal: 3m 28s\tremaining: 1m 25s\n",
            "2560:\tlearn: 0.5409519\ttest: 0.5399446\tbest: 0.5399474 (2559)\ttotal: 3m 28s\tremaining: 1m 24s\n",
            "2570:\tlearn: 0.5409793\ttest: 0.5399676\tbest: 0.5399754 (2565)\ttotal: 3m 29s\tremaining: 1m 23s\n",
            "2580:\tlearn: 0.5409938\ttest: 0.5399647\tbest: 0.5399788 (2576)\ttotal: 3m 30s\tremaining: 1m 23s\n",
            "2590:\tlearn: 0.5409910\ttest: 0.5399488\tbest: 0.5399788 (2576)\ttotal: 3m 31s\tremaining: 1m 22s\n",
            "2600:\tlearn: 0.5410332\ttest: 0.5399880\tbest: 0.5399880 (2600)\ttotal: 3m 31s\tremaining: 1m 21s\n",
            "2610:\tlearn: 0.5410513\ttest: 0.5400050\tbest: 0.5400097 (2609)\ttotal: 3m 32s\tremaining: 1m 20s\n",
            "2620:\tlearn: 0.5410611\ttest: 0.5399997\tbest: 0.5400107 (2612)\ttotal: 3m 34s\tremaining: 1m 19s\n",
            "2630:\tlearn: 0.5410916\ttest: 0.5400196\tbest: 0.5400275 (2629)\ttotal: 3m 35s\tremaining: 1m 19s\n",
            "2640:\tlearn: 0.5411189\ttest: 0.5400515\tbest: 0.5400536 (2636)\ttotal: 3m 36s\tremaining: 1m 18s\n",
            "2650:\tlearn: 0.5411225\ttest: 0.5400668\tbest: 0.5400691 (2649)\ttotal: 3m 36s\tremaining: 1m 17s\n",
            "2660:\tlearn: 0.5411293\ttest: 0.5400539\tbest: 0.5400691 (2649)\ttotal: 3m 37s\tremaining: 1m 16s\n",
            "2670:\tlearn: 0.5411380\ttest: 0.5400587\tbest: 0.5400738 (2665)\ttotal: 3m 38s\tremaining: 1m 15s\n",
            "2680:\tlearn: 0.5411595\ttest: 0.5400674\tbest: 0.5400738 (2665)\ttotal: 3m 38s\tremaining: 1m 15s\n",
            "2690:\tlearn: 0.5411701\ttest: 0.5400735\tbest: 0.5400768 (2689)\ttotal: 3m 39s\tremaining: 1m 14s\n",
            "2700:\tlearn: 0.5411730\ttest: 0.5400729\tbest: 0.5400768 (2689)\ttotal: 3m 40s\tremaining: 1m 13s\n",
            "2710:\tlearn: 0.5412042\ttest: 0.5400955\tbest: 0.5401040 (2707)\ttotal: 3m 41s\tremaining: 1m 12s\n",
            "2720:\tlearn: 0.5411979\ttest: 0.5400845\tbest: 0.5401059 (2714)\ttotal: 3m 41s\tremaining: 1m 11s\n",
            "2730:\tlearn: 0.5412087\ttest: 0.5400944\tbest: 0.5401059 (2714)\ttotal: 3m 42s\tremaining: 1m 10s\n",
            "2740:\tlearn: 0.5412351\ttest: 0.5400875\tbest: 0.5401059 (2714)\ttotal: 3m 43s\tremaining: 1m 10s\n",
            "2750:\tlearn: 0.5412340\ttest: 0.5400872\tbest: 0.5401059 (2714)\ttotal: 3m 44s\tremaining: 1m 9s\n",
            "2760:\tlearn: 0.5412626\ttest: 0.5401038\tbest: 0.5401122 (2757)\ttotal: 3m 44s\tremaining: 1m 8s\n",
            "2770:\tlearn: 0.5412743\ttest: 0.5401089\tbest: 0.5401122 (2757)\ttotal: 3m 45s\tremaining: 1m 7s\n",
            "2780:\tlearn: 0.5412925\ttest: 0.5401295\tbest: 0.5401306 (2777)\ttotal: 3m 46s\tremaining: 1m 6s\n",
            "2790:\tlearn: 0.5413045\ttest: 0.5401519\tbest: 0.5401519 (2790)\ttotal: 3m 48s\tremaining: 1m 6s\n",
            "2800:\tlearn: 0.5413195\ttest: 0.5401541\tbest: 0.5401601 (2798)\ttotal: 3m 48s\tremaining: 1m 5s\n",
            "2810:\tlearn: 0.5413539\ttest: 0.5401956\tbest: 0.5402064 (2806)\ttotal: 3m 49s\tremaining: 1m 4s\n",
            "2820:\tlearn: 0.5413611\ttest: 0.5401944\tbest: 0.5402064 (2806)\ttotal: 3m 50s\tremaining: 1m 3s\n",
            "2830:\tlearn: 0.5413834\ttest: 0.5402231\tbest: 0.5402235 (2829)\ttotal: 3m 51s\tremaining: 1m 2s\n",
            "2840:\tlearn: 0.5414072\ttest: 0.5402235\tbest: 0.5402337 (2838)\ttotal: 3m 51s\tremaining: 1m 1s\n",
            "2850:\tlearn: 0.5414207\ttest: 0.5402233\tbest: 0.5402338 (2845)\ttotal: 3m 52s\tremaining: 1m 1s\n",
            "2860:\tlearn: 0.5414419\ttest: 0.5402488\tbest: 0.5402488 (2860)\ttotal: 3m 53s\tremaining: 1m\n",
            "2870:\tlearn: 0.5414688\ttest: 0.5402622\tbest: 0.5402653 (2866)\ttotal: 3m 54s\tremaining: 59.5s\n",
            "2880:\tlearn: 0.5414963\ttest: 0.5402738\tbest: 0.5402773 (2877)\ttotal: 3m 54s\tremaining: 58.6s\n",
            "2890:\tlearn: 0.5415099\ttest: 0.5402724\tbest: 0.5402808 (2886)\ttotal: 3m 55s\tremaining: 57.8s\n",
            "2900:\tlearn: 0.5415213\ttest: 0.5402792\tbest: 0.5402820 (2894)\ttotal: 3m 56s\tremaining: 57s\n",
            "2910:\tlearn: 0.5415273\ttest: 0.5402880\tbest: 0.5402894 (2907)\ttotal: 3m 57s\tremaining: 56.1s\n",
            "2920:\tlearn: 0.5415329\ttest: 0.5402876\tbest: 0.5402900 (2914)\ttotal: 3m 57s\tremaining: 55.3s\n",
            "2930:\tlearn: 0.5415403\ttest: 0.5402919\tbest: 0.5402968 (2929)\ttotal: 3m 59s\tremaining: 54.6s\n",
            "2940:\tlearn: 0.5415551\ttest: 0.5403050\tbest: 0.5403053 (2933)\ttotal: 4m\tremaining: 53.9s\n",
            "2950:\tlearn: 0.5415597\ttest: 0.5402881\tbest: 0.5403053 (2933)\ttotal: 4m 1s\tremaining: 53.1s\n",
            "2960:\tlearn: 0.5415821\ttest: 0.5402998\tbest: 0.5403053 (2933)\ttotal: 4m 2s\tremaining: 52.3s\n",
            "2970:\tlearn: 0.5415816\ttest: 0.5403017\tbest: 0.5403053 (2933)\ttotal: 4m 2s\tremaining: 51.4s\n",
            "2980:\tlearn: 0.5415963\ttest: 0.5403059\tbest: 0.5403142 (2975)\ttotal: 4m 3s\tremaining: 50.6s\n",
            "2990:\tlearn: 0.5416028\ttest: 0.5403260\tbest: 0.5403302 (2989)\ttotal: 4m 4s\tremaining: 49.8s\n",
            "3000:\tlearn: 0.5416323\ttest: 0.5403391\tbest: 0.5403391 (3000)\ttotal: 4m 5s\tremaining: 48.9s\n",
            "3010:\tlearn: 0.5416458\ttest: 0.5403463\tbest: 0.5403536 (3003)\ttotal: 4m 5s\tremaining: 48.1s\n",
            "3020:\tlearn: 0.5416560\ttest: 0.5403308\tbest: 0.5403536 (3003)\ttotal: 4m 6s\tremaining: 47.3s\n",
            "3030:\tlearn: 0.5416505\ttest: 0.5403189\tbest: 0.5403536 (3003)\ttotal: 4m 7s\tremaining: 46.5s\n",
            "3040:\tlearn: 0.5416767\ttest: 0.5403486\tbest: 0.5403536 (3003)\ttotal: 4m 8s\tremaining: 45.6s\n",
            "3050:\tlearn: 0.5416857\ttest: 0.5403491\tbest: 0.5403536 (3003)\ttotal: 4m 8s\tremaining: 44.8s\n",
            "3060:\tlearn: 0.5416985\ttest: 0.5403584\tbest: 0.5403657 (3056)\ttotal: 4m 9s\tremaining: 44s\n",
            "3070:\tlearn: 0.5417092\ttest: 0.5403684\tbest: 0.5403729 (3065)\ttotal: 4m 10s\tremaining: 43.1s\n",
            "3080:\tlearn: 0.5417258\ttest: 0.5403818\tbest: 0.5403818 (3080)\ttotal: 4m 11s\tremaining: 42.3s\n",
            "3090:\tlearn: 0.5417592\ttest: 0.5404106\tbest: 0.5404106 (3090)\ttotal: 4m 12s\tremaining: 41.6s\n",
            "3100:\tlearn: 0.5417811\ttest: 0.5404299\tbest: 0.5404364 (3099)\ttotal: 4m 13s\tremaining: 40.8s\n",
            "3110:\tlearn: 0.5417923\ttest: 0.5404387\tbest: 0.5404387 (3110)\ttotal: 4m 14s\tremaining: 40s\n",
            "3120:\tlearn: 0.5417991\ttest: 0.5404411\tbest: 0.5404484 (3119)\ttotal: 4m 15s\tremaining: 39.2s\n",
            "3130:\tlearn: 0.5418088\ttest: 0.5404344\tbest: 0.5404484 (3119)\ttotal: 4m 16s\tremaining: 38.4s\n",
            "3140:\tlearn: 0.5418265\ttest: 0.5404439\tbest: 0.5404484 (3119)\ttotal: 4m 16s\tremaining: 37.5s\n",
            "3150:\tlearn: 0.5418315\ttest: 0.5404433\tbest: 0.5404497 (3143)\ttotal: 4m 17s\tremaining: 36.7s\n",
            "3160:\tlearn: 0.5418452\ttest: 0.5404579\tbest: 0.5404579 (3160)\ttotal: 4m 18s\tremaining: 35.9s\n",
            "3170:\tlearn: 0.5418668\ttest: 0.5404590\tbest: 0.5404618 (3169)\ttotal: 4m 18s\tremaining: 35s\n",
            "3180:\tlearn: 0.5418924\ttest: 0.5404790\tbest: 0.5404790 (3180)\ttotal: 4m 19s\tremaining: 34.2s\n",
            "3190:\tlearn: 0.5418873\ttest: 0.5404759\tbest: 0.5404824 (3189)\ttotal: 4m 20s\tremaining: 33.4s\n",
            "3200:\tlearn: 0.5419017\ttest: 0.5404889\tbest: 0.5404889 (3200)\ttotal: 4m 21s\tremaining: 32.6s\n",
            "3210:\tlearn: 0.5419048\ttest: 0.5404840\tbest: 0.5404889 (3200)\ttotal: 4m 21s\tremaining: 31.7s\n",
            "3220:\tlearn: 0.5419375\ttest: 0.5404984\tbest: 0.5404984 (3220)\ttotal: 4m 22s\tremaining: 30.9s\n",
            "3230:\tlearn: 0.5419386\ttest: 0.5405078\tbest: 0.5405081 (3223)\ttotal: 4m 23s\tremaining: 30.1s\n",
            "3240:\tlearn: 0.5419607\ttest: 0.5405254\tbest: 0.5405267 (3238)\ttotal: 4m 24s\tremaining: 29.3s\n",
            "3250:\tlearn: 0.5419597\ttest: 0.5405123\tbest: 0.5405267 (3238)\ttotal: 4m 25s\tremaining: 28.5s\n",
            "3260:\tlearn: 0.5419785\ttest: 0.5405209\tbest: 0.5405267 (3238)\ttotal: 4m 26s\tremaining: 27.7s\n",
            "3270:\tlearn: 0.5419899\ttest: 0.5404988\tbest: 0.5405267 (3238)\ttotal: 4m 27s\tremaining: 26.9s\n",
            "3280:\tlearn: 0.5420110\ttest: 0.5405275\tbest: 0.5405275 (3280)\ttotal: 4m 28s\tremaining: 26.1s\n",
            "3290:\tlearn: 0.5420140\ttest: 0.5405192\tbest: 0.5405276 (3281)\ttotal: 4m 29s\tremaining: 25.3s\n",
            "3300:\tlearn: 0.5420265\ttest: 0.5405273\tbest: 0.5405311 (3298)\ttotal: 4m 29s\tremaining: 24.4s\n",
            "3310:\tlearn: 0.5420391\ttest: 0.5405382\tbest: 0.5405382 (3310)\ttotal: 4m 30s\tremaining: 23.6s\n",
            "3320:\tlearn: 0.5420522\ttest: 0.5405427\tbest: 0.5405429 (3319)\ttotal: 4m 31s\tremaining: 22.8s\n",
            "3330:\tlearn: 0.5420754\ttest: 0.5405651\tbest: 0.5405696 (3326)\ttotal: 4m 31s\tremaining: 22s\n",
            "3340:\tlearn: 0.5420732\ttest: 0.5405625\tbest: 0.5405696 (3326)\ttotal: 4m 32s\tremaining: 21.1s\n",
            "3350:\tlearn: 0.5420895\ttest: 0.5405705\tbest: 0.5405757 (3345)\ttotal: 4m 33s\tremaining: 20.3s\n",
            "3360:\tlearn: 0.5421210\ttest: 0.5406009\tbest: 0.5406009 (3360)\ttotal: 4m 34s\tremaining: 19.5s\n",
            "3370:\tlearn: 0.5421351\ttest: 0.5406028\tbest: 0.5406113 (3369)\ttotal: 4m 34s\tremaining: 18.7s\n",
            "3380:\tlearn: 0.5421548\ttest: 0.5406182\tbest: 0.5406182 (3380)\ttotal: 4m 35s\tremaining: 17.9s\n",
            "3390:\tlearn: 0.5421722\ttest: 0.5406312\tbest: 0.5406312 (3390)\ttotal: 4m 36s\tremaining: 17s\n",
            "3400:\tlearn: 0.5421965\ttest: 0.5406306\tbest: 0.5406447 (3393)\ttotal: 4m 37s\tremaining: 16.2s\n",
            "3410:\tlearn: 0.5421942\ttest: 0.5406417\tbest: 0.5406447 (3393)\ttotal: 4m 38s\tremaining: 15.4s\n",
            "3420:\tlearn: 0.5422092\ttest: 0.5406412\tbest: 0.5406512 (3415)\ttotal: 4m 39s\tremaining: 14.6s\n",
            "3430:\tlearn: 0.5422267\ttest: 0.5406559\tbest: 0.5406589 (3429)\ttotal: 4m 40s\tremaining: 13.8s\n",
            "3440:\tlearn: 0.5422292\ttest: 0.5406525\tbest: 0.5406589 (3429)\ttotal: 4m 41s\tremaining: 13s\n",
            "3450:\tlearn: 0.5422546\ttest: 0.5406572\tbest: 0.5406673 (3443)\ttotal: 4m 42s\tremaining: 12.2s\n",
            "3460:\tlearn: 0.5422677\ttest: 0.5406630\tbest: 0.5406680 (3455)\ttotal: 4m 42s\tremaining: 11.4s\n",
            "3470:\tlearn: 0.5422758\ttest: 0.5406697\tbest: 0.5406697 (3470)\ttotal: 4m 43s\tremaining: 10.5s\n",
            "3480:\tlearn: 0.5422827\ttest: 0.5406742\tbest: 0.5406774 (3479)\ttotal: 4m 44s\tremaining: 9.72s\n",
            "3490:\tlearn: 0.5423032\ttest: 0.5406792\tbest: 0.5406792 (3490)\ttotal: 4m 44s\tremaining: 8.9s\n",
            "3500:\tlearn: 0.5423049\ttest: 0.5406763\tbest: 0.5406792 (3490)\ttotal: 4m 45s\tremaining: 8.08s\n",
            "3510:\tlearn: 0.5423221\ttest: 0.5406897\tbest: 0.5406897 (3510)\ttotal: 4m 46s\tremaining: 7.26s\n",
            "3520:\tlearn: 0.5423241\ttest: 0.5406835\tbest: 0.5406938 (3514)\ttotal: 4m 47s\tremaining: 6.44s\n",
            "3530:\tlearn: 0.5423381\ttest: 0.5406854\tbest: 0.5406938 (3514)\ttotal: 4m 47s\tremaining: 5.63s\n",
            "3540:\tlearn: 0.5423585\ttest: 0.5406967\tbest: 0.5406967 (3540)\ttotal: 4m 48s\tremaining: 4.81s\n",
            "3550:\tlearn: 0.5423696\ttest: 0.5406876\tbest: 0.5406967 (3540)\ttotal: 4m 49s\tremaining: 3.99s\n",
            "3560:\tlearn: 0.5423811\ttest: 0.5407054\tbest: 0.5407054 (3560)\ttotal: 4m 50s\tremaining: 3.18s\n",
            "3570:\tlearn: 0.5423940\ttest: 0.5407039\tbest: 0.5407072 (3562)\ttotal: 4m 51s\tremaining: 2.37s\n",
            "3580:\tlearn: 0.5424167\ttest: 0.5407187\tbest: 0.5407206 (3579)\ttotal: 4m 52s\tremaining: 1.55s\n",
            "3590:\tlearn: 0.5424266\ttest: 0.5407264\tbest: 0.5407264 (3590)\ttotal: 4m 53s\tremaining: 736ms\n",
            "3599:\tlearn: 0.5424348\ttest: 0.5407193\tbest: 0.5407264 (3590)\ttotal: 4m 54s\tremaining: 0us\n",
            "bestTest = 0.5407263817\n",
            "bestIteration = 3590\n",
            "Shrink model to first 3591 iterations.\n"
          ]
        }
      ]
    },
    {
      "cell_type": "code",
      "source": [
        "del train_data\n",
        "del test_data\n",
        "gc.collect()"
      ],
      "metadata": {
        "colab": {
          "base_uri": "https://localhost:8080/"
        },
        "id": "bfA6b9lcs3Ax",
        "outputId": "15cf7cdd-c66a-4174-f336-6b42e0ad976f"
      },
      "execution_count": 20,
      "outputs": [
        {
          "output_type": "execute_result",
          "data": {
            "text/plain": [
              "0"
            ]
          },
          "metadata": {},
          "execution_count": 20
        }
      ]
    },
    {
      "cell_type": "code",
      "source": [
        "booster = CatBoost()\n",
        "booster.load_model(f'./models/booster_{kfold_num}.model')\n",
        "print(f'./models/booster_{kfold_num}.model')\n",
        "#booster.get_best_score()['validation']['TotalF1']"
      ],
      "metadata": {
        "colab": {
          "base_uri": "https://localhost:8080/"
        },
        "id": "eTFVucLs21Yu",
        "outputId": "6f752407-d545-4d55-a181-4e3dd19fe16c"
      },
      "execution_count": 17,
      "outputs": [
        {
          "output_type": "stream",
          "name": "stdout",
          "text": [
            "./models/booster_1.model\n"
          ]
        }
      ]
    },
    {
      "cell_type": "code",
      "source": [
        "K = np.vstack((data_npz['K_train'][:,:4], data_upd_npz['K_train'][:,:4][id_vector]))\n",
        "line_dict = {'train':K[:,1:4][~kfold_vector], 'test':K[:,1:4][kfold_vector], 'holdout':data_upd_npz['K_train'][:, 1:4][~id_vector]}\n",
        "y_dict = {'train':y[~kfold_vector], 'test':y[kfold_vector], 'holdout':data_upd_npz['y_multi'][~id_vector]}\n",
        "X_dict = {'train':X[~kfold_vector], 'test':X[kfold_vector], 'holdout':data_upd_npz['X'][~id_vector]}\n",
        "\n",
        "active_rows_dict ={}\n",
        "active_rows_dict['train'] = ((K[:,0][~kfold_vector] == 1) & (K[:,1:4][~kfold_vector].sum(axis = 1) > 3))\n",
        "active_rows_dict['test'] = ((K[:,0][kfold_vector] == 1) & (K[:,1:4][kfold_vector].sum(axis = 1) > 3))\n",
        "active_rows_dict['holdout'] = ((data_upd_npz['K_train'][:, 0][~id_vector] == 1) & (data_upd_npz['K_train'][:, 1:4][~id_vector].sum(axis = 1) > 3))\n",
        "\n",
        "preds_dict = {}\n",
        "\n",
        "preds_dict['train'] = booster.predict(X[~kfold_vector], prediction_type=\"Probability\")\n",
        "preds_dict['test'] = booster.predict(X[kfold_vector], prediction_type=\"Probability\")\n",
        "preds_dict['holdout'] = booster.predict(data_upd_npz['X'][~id_vector], prediction_type=\"Probability\")\n",
        "\n",
        "#---------------\n",
        "process = psutil.Process(os.getpid())\n",
        "print('mem usage: ', round(process.memory_info().rss / 1024 ** 3, 2), 'GiB')  # in bytes \n",
        "#---------------"
      ],
      "metadata": {
        "colab": {
          "base_uri": "https://localhost:8080/"
        },
        "id": "nIX3u3My2u8o",
        "outputId": "58f1c5a6-033e-4b73-d859-d48e4221367f"
      },
      "execution_count": 21,
      "outputs": [
        {
          "output_type": "stream",
          "name": "stdout",
          "text": [
            "mem usage:  9.32 GiB\n"
          ]
        }
      ]
    },
    {
      "cell_type": "code",
      "source": [
        "fig = profit_validation_by_type(active_rows_dict, preds_dict, line_dict, y_dict)\n",
        "fig.show()"
      ],
      "metadata": {
        "id": "jKsa3Ipi2ZHy"
      },
      "execution_count": null,
      "outputs": []
    },
    {
      "cell_type": "code",
      "source": [
        "fts = ['Id', 'Score1', 'Score2', 'Active.1', 'W1', 'WX', 'W2', 'X1', 'X2',\n",
        "       'W12', 'TotalValue', 'Over', 'Under', 'Hand1Value', 'H1', 'H2',\n",
        "       'Result1', 'Result2', 'min_norm', 'Score1_norm', 'Score2_norm',\n",
        "       'Score_diff', 'Score_cat_1', 'Score_cat_2', 'Score_cat_3',\n",
        "       'Score_cat_4', 'Score_cat_5', 'Score_cat_6', 'Score_cat_7',\n",
        "       'Score_cat_8', 'Score_cat_9', 'A1_scaled', 'A2_scaled', 'A1perMIN',\n",
        "       'A2perMIN', 'A1relativ', 'A2relativ', 'DA1_scaled', 'DA2_scaled',\n",
        "       'DA1perMIN', 'DA2perMIN', 'DA1relativ', 'DA2relativ', 'Pos1_cleaned',\n",
        "       'Pos2_cleaned', 'Off1_norm', 'Off2_norm', 'On1_norm', 'On2_norm',\n",
        "       'YC1_transformed', 'YC2_transformed', 'RC1_transformed',\n",
        "       'RC2_transformed', 'Sub1_transformed', 'Sub2_transformed',\n",
        "       'Cor1_transformed', 'Cor2_transformed', 'P1_transformed',\n",
        "       'P2_transformed'][18:]\n",
        "for col in ['A1relativ', 'A2relativ', 'DA1relativ', 'DA2relativ']:  \n",
        "    fts.remove(col)"
      ],
      "metadata": {
        "id": "xTgMuiZg2WLJ"
      },
      "execution_count": null,
      "outputs": []
    },
    {
      "cell_type": "code",
      "source": [
        "importance_dict = {key:value for value, key in sorted(zip(booster.get_feature_importance(), fts), reverse = False)}\n",
        "fig1 = px.bar(\n",
        "    pd.DataFrame(importance_dict.items(), columns = ['features', 'value']),\n",
        "    x = 'value',\n",
        "    y = 'features',\n",
        "    orientation = 'h',\n",
        "    #title = 'feature importance multiclass',\n",
        "    title = 'feature importance binary classification away',\n",
        "    #title = 'feature importance regression team 2',\n",
        "    width = 600,\n",
        "    height = 800\n",
        ")\n",
        "fig1.show()"
      ],
      "metadata": {
        "id": "dJ-LhZAa2Sbb"
      },
      "execution_count": null,
      "outputs": []
    },
    {
      "cell_type": "code",
      "source": [
        "description_dict = {\n",
        "    'kfold_splits':kfold_splits,\n",
        "    'data_version':'football_live_main_part_npz_230510/',\n",
        "    'data_version_upd':'football_live_upd_230510/'\n",
        "}"
      ],
      "metadata": {
        "id": "NBqrrs5D2O9h"
      },
      "execution_count": 27,
      "outputs": []
    },
    {
      "cell_type": "code",
      "source": [
        "model_version = neptune.init_model_version(\n",
        "    model = 'FOOT-LIVEMC',\n",
        "    project = 'scomesse/football',\n",
        "    api_token = api_key # your credentials\n",
        ")\n",
        "model_sys = model_version['sys'].fetch()"
      ],
      "metadata": {
        "colab": {
          "base_uri": "https://localhost:8080/"
        },
        "id": "T1ION_zFC4oA",
        "outputId": "e39cc88c-eef0-4261-c1c3-16616c8a1de7"
      },
      "execution_count": 25,
      "outputs": [
        {
          "output_type": "stream",
          "name": "stdout",
          "text": [
            "https://app.neptune.ai/scomesse/football/m/FOOT-LIVEMC/v/FOOT-LIVEMC-4\n"
          ]
        }
      ]
    },
    {
      "cell_type": "code",
      "source": [
        "print(model_sys)"
      ],
      "metadata": {
        "colab": {
          "base_uri": "https://localhost:8080/"
        },
        "id": "oYkYmnDfC6hh",
        "outputId": "77ceadca-4674-4c8e-bb9f-364bfd757749"
      },
      "execution_count": 26,
      "outputs": [
        {
          "output_type": "stream",
          "name": "stdout",
          "text": [
            "{'creation_time': datetime.datetime(2023, 5, 13, 16, 58, 58, 995000, tzinfo=tzlocal()), 'id': 'FOOT-LIVEMC-4', 'model_id': 'FOOT-LIVEMC', 'modification_time': datetime.datetime(2023, 5, 13, 16, 58, 58, 995000, tzinfo=tzlocal()), 'monitoring_time': 0, 'owner': 'scomesse', 'ping_time': datetime.datetime(2023, 5, 13, 16, 58, 58, 995000, tzinfo=tzlocal()), 'running_time': 0.0, 'size': 0.0, 'stage': 'none', 'state': 'running', 'trashed': False}\n"
          ]
        }
      ]
    },
    {
      "cell_type": "code",
      "source": [
        "model_sys = {\n",
        "    'model_id':'FOOT-LIVEMC',\n",
        "    'id':'FOOT-LIVEMC-4'\n",
        "}"
      ],
      "metadata": {
        "id": "KxcRH3AcGWUz"
      },
      "execution_count": 28,
      "outputs": []
    },
    {
      "cell_type": "code",
      "source": [
        "model_version_params = dict(\n",
        "    project = 'scomesse/football',\n",
        "    model = model_sys['model_id'],\n",
        "    api_token = api_key,\n",
        "    with_id = model_sys['id']\n",
        ")\n",
        "model_version = neptune.init_model_version(**model_version_params)\n",
        "model_version[f'/models/model_{kfold_num}'].upload(f'./models/booster_{kfold_num}.model')\n",
        "model_version[f'/models/model_{kfold_num}_parameters'] = stringify_unsupported(cparams)\n",
        "model_version[f'/models/model_{kfold_num}_description'] = stringify_unsupported(description_dict)\n",
        "model_version.stop()"
      ],
      "metadata": {
        "colab": {
          "base_uri": "https://localhost:8080/"
        },
        "id": "EeUAMUt-2KHT",
        "outputId": "9011216c-8fcc-4ec0-aaf6-09f83b3845de"
      },
      "execution_count": 29,
      "outputs": [
        {
          "output_type": "stream",
          "name": "stdout",
          "text": [
            "https://app.neptune.ai/scomesse/football/m/FOOT-LIVEMC/v/FOOT-LIVEMC-4\n",
            "Shutting down background jobs, please wait a moment...\n",
            "Done!\n",
            "Waiting for the remaining 14 operations to synchronize with Neptune. Do not kill this process.\n",
            "All 14 operations synced, thanks for waiting!\n",
            "Explore the metadata in the Neptune app:\n",
            "https://app.neptune.ai/scomesse/football/m/FOOT-LIVEMC/v/FOOT-LIVEMC-4/metadata\n"
          ]
        }
      ]
    },
    {
      "cell_type": "code",
      "source": [
        "model_version = neptune.init_model_version(**model_version_params)\n",
        "model_version[f'threshold_model_{kfold_num}_fold'].upload(neptune.types.File.as_html(fig))\n",
        "model_version.stop()"
      ],
      "metadata": {
        "colab": {
          "base_uri": "https://localhost:8080/"
        },
        "id": "KX9QVypd6oGV",
        "outputId": "74350ac9-95d9-47d2-a8b9-949f16b086a7"
      },
      "execution_count": 30,
      "outputs": [
        {
          "output_type": "stream",
          "name": "stdout",
          "text": [
            "https://app.neptune.ai/scomesse/football/m/FOOT-LIVEMC/v/FOOT-LIVEMC-4\n",
            "Shutting down background jobs, please wait a moment...\n",
            "Done!\n",
            "Waiting for the remaining 1 operations to synchronize with Neptune. Do not kill this process.\n",
            "All 1 operations synced, thanks for waiting!\n",
            "Explore the metadata in the Neptune app:\n",
            "https://app.neptune.ai/scomesse/football/m/FOOT-LIVEMC/v/FOOT-LIVEMC-4/metadata\n"
          ]
        }
      ]
    },
    {
      "cell_type": "code",
      "source": [
        "model_version = neptune.init_model_version(**model_version_params)\n",
        "model_version[f'importance_model_{kfold_num}_fold'].upload(neptune.types.File.as_html(fig1))\n",
        "model_version.stop()"
      ],
      "metadata": {
        "colab": {
          "base_uri": "https://localhost:8080/"
        },
        "id": "mPm21jje7I9I",
        "outputId": "1b31aa51-1f16-42f5-9f8e-b63dacfcf1b5"
      },
      "execution_count": 31,
      "outputs": [
        {
          "output_type": "stream",
          "name": "stdout",
          "text": [
            "https://app.neptune.ai/scomesse/football/m/FOOT-LIVEMC/v/FOOT-LIVEMC-4\n",
            "Shutting down background jobs, please wait a moment...\n",
            "Done!\n",
            "Waiting for the remaining 1 operations to synchronize with Neptune. Do not kill this process.\n",
            "All 1 operations synced, thanks for waiting!\n",
            "Explore the metadata in the Neptune app:\n",
            "https://app.neptune.ai/scomesse/football/m/FOOT-LIVEMC/v/FOOT-LIVEMC-4/metadata\n"
          ]
        }
      ]
    }
  ]
}