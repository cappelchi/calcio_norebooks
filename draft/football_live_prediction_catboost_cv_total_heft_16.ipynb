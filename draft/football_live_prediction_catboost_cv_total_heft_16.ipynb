{
  "nbformat": 4,
  "nbformat_minor": 0,
  "metadata": {
    "colab": {
      "provenance": [],
      "collapsed_sections": [
        "5TmD4vhiscmr",
        "wKKP71QH5Nc_",
        "OBy3RQZy5Fs0",
        "y-aB2ZmG48Ob",
        "xXtEqwN74m4H"
      ],
      "gpuType": "T4",
      "authorship_tag": "ABX9TyNS7CRpKXRmuPRG67AkYmH8",
      "include_colab_link": true
    },
    "kernelspec": {
      "name": "python3",
      "display_name": "Python 3"
    },
    "language_info": {
      "name": "python"
    },
    "gpuClass": "standard"
  },
  "cells": [
    {
      "cell_type": "markdown",
      "metadata": {
        "id": "view-in-github",
        "colab_type": "text"
      },
      "source": [
        "<a href=\"https://colab.research.google.com/github/cappelchi/calcio_notebooks/blob/main/draft/football_live_prediction_catboost_cv_total_heft_16.ipynb\" target=\"_parent\"><img src=\"https://colab.research.google.com/assets/colab-badge.svg\" alt=\"Open In Colab\"/></a>"
      ]
    },
    {
      "cell_type": "markdown",
      "source": [
        "\n",
        "[CatBoost - An In-Depth Guide [Python API]](https://coderzcolumn.com/tutorials/machine-learning/catboost-an-in-depth-guide-python#9)<br>\n",
        "[Catboost](https://catboost.ai/en/docs/concepts/python-reference_pool)<br>\n",
        "[Cross-Validation Techniques](https://medium.com/geekculture/cross-validation-techniques-33d389897878)<br>\n",
        "[https://github.com/catboost/tutorials/blob/master/cross_validation/cv_tutorial.ipynb](https://github.com/catboost/tutorials/blob/master/cross_validation/cv_tutorial.ipynb)\n"
      ],
      "metadata": {
        "id": "PJdR9nm3sU58"
      }
    },
    {
      "cell_type": "markdown",
      "source": [
        "### Project config"
      ],
      "metadata": {
        "id": "5TmD4vhiscmr"
      }
    },
    {
      "cell_type": "code",
      "source": [
        "try:\n",
        "    import neptune.new as neptune\n",
        "except:\n",
        "    !pip install neptune-client >> None\n",
        "    import neptune.new as neptune\n"
      ],
      "metadata": {
        "id": "d4vPCODXs4GL",
        "colab": {
          "base_uri": "https://localhost:8080/"
        },
        "outputId": "6c0aba26-a054-4758-8abf-1d5993963903"
      },
      "execution_count": 6,
      "outputs": [
        {
          "output_type": "stream",
          "name": "stderr",
          "text": [
            "/usr/local/lib/python3.10/dist-packages/neptune/internal/backends/hosted_client.py:50: NeptuneDeprecationWarning: The 'neptune-client' package has been deprecated and will be removed in the future. Install the 'neptune' package instead. For more, see https://docs.neptune.ai/setup/upgrading/\n",
            "  from neptune.version import version as neptune_client_version\n",
            "<ipython-input-6-4771ddf98365>:5: NeptuneDeprecationWarning: You're importing the Neptune client library via the deprecated `neptune.new` module, which will be removed in a future release. Import directly from `neptune` instead.\n",
            "  import neptune.new as neptune\n"
          ]
        }
      ]
    },
    {
      "cell_type": "code",
      "source": [
        "def get_credential(frmwork = 'neptune_team'):\n",
        "    with open('credential.txt', 'r') as container:\n",
        "        for line in container:\n",
        "            if frmwork in line:\n",
        "                login, psw = line.split(' ')[1], line.split(' ')[2].split('\\n')[0]\n",
        "                return login, psw\n",
        "\n",
        "#@title Set API key for neptune.ai\n",
        "set_api = True #@param {type:\"boolean\"}\n",
        "if set_api:\n",
        "    username, api_key = get_credential()"
      ],
      "metadata": {
        "id": "k8ejW2lptEij",
        "cellView": "form"
      },
      "execution_count": 7,
      "outputs": []
    },
    {
      "cell_type": "markdown",
      "source": [
        "### Installations"
      ],
      "metadata": {
        "id": "wKKP71QH5Nc_"
      }
    },
    {
      "cell_type": "code",
      "source": [
        "!pip install catboost >> None\n",
        "!pip install deap >> None"
      ],
      "metadata": {
        "id": "L8IvJXwl5I9y"
      },
      "execution_count": 3,
      "outputs": []
    },
    {
      "cell_type": "markdown",
      "source": [
        "### Downloads"
      ],
      "metadata": {
        "id": "OBy3RQZy5Fs0"
      }
    },
    {
      "cell_type": "code",
      "source": [
        "project = neptune.init_project(\n",
        "    project=\"scomesse/football\", \n",
        "    api_token = api_key\n",
        "    )\n",
        "\n",
        "data_version = 'football_live_main_part_npz_230510/'\n",
        "project[data_version + 'dataset'].download('./dataset.npz')\n",
        "project[data_version + 'additional_data'].download('./additional_data.npz')\n",
        "project[data_version + 'time'].download('./time.csv')\n",
        "data_params = project[data_version + 'params'].fetch()\n",
        "\n",
        "data_version = 'football_live_upd_230510/'\n",
        "project[data_version + 'dataset'].download('./dataset_upd.npz')\n",
        "project[data_version + 'additional_data'].download('./additional_data_upd.npz')\n",
        "project[data_version + 'time'].download('./time_upd.csv')\n",
        "data_params_upd = project[data_version + 'params'].fetch()\n",
        "project.stop()"
      ],
      "metadata": {
        "id": "t6N_cpRZ4_sD",
        "colab": {
          "base_uri": "https://localhost:8080/"
        },
        "outputId": "93d2e69b-f0a5-48af-8d48-b61975ac7f7d"
      },
      "execution_count": 4,
      "outputs": [
        {
          "output_type": "stream",
          "name": "stdout",
          "text": [
            "https://app.neptune.ai/scomesse/football/\n",
            "Shutting down background jobs, please wait a moment...\n",
            "Done!\n",
            "All 0 operations synced, thanks for waiting!\n",
            "Explore the metadata in the Neptune app:\n",
            "https://app.neptune.ai/scomesse/football/metadata\n"
          ]
        }
      ]
    },
    {
      "cell_type": "markdown",
      "source": [
        "### Imports"
      ],
      "metadata": {
        "id": "y-aB2ZmG48Ob"
      }
    },
    {
      "cell_type": "code",
      "source": [
        "import pandas as pd\n",
        "import numpy as np\n",
        "pd.options.display.max_columns = 50\n",
        "pd.options.display.max_rows = 100\n",
        "print(pd.__version__)\n",
        "print(np.__version__)"
      ],
      "metadata": {
        "id": "15bNjVgR45yt",
        "colab": {
          "base_uri": "https://localhost:8080/"
        },
        "outputId": "f9fe12ee-29da-4515-8edd-b66de9a57220"
      },
      "execution_count": 8,
      "outputs": [
        {
          "output_type": "stream",
          "name": "stdout",
          "text": [
            "1.5.3\n",
            "1.22.4\n"
          ]
        }
      ]
    },
    {
      "cell_type": "code",
      "source": [
        "from tqdm import tqdm\n",
        "import plotly.express as px\n",
        "import os, psutil, time\n",
        "import gc"
      ],
      "metadata": {
        "id": "3ENZi1yP43bo"
      },
      "execution_count": 9,
      "outputs": []
    },
    {
      "cell_type": "code",
      "source": [
        "import plotly.graph_objects as go\n",
        "from plotly.subplots import make_subplots\n",
        "from scipy.stats import poisson\n",
        "from neptune.utils import stringify_unsupported"
      ],
      "metadata": {
        "id": "9l_wpOuu41dC"
      },
      "execution_count": 10,
      "outputs": []
    },
    {
      "cell_type": "code",
      "source": [
        "from catboost import CatBoost\n",
        "from catboost import utils\n",
        "from catboost import CatBoostClassifier, CatBoostRegressor\n",
        "from catboost import Pool, cv\n",
        "from catboost.utils import eval_metric\n",
        "np.random.seed(147)"
      ],
      "metadata": {
        "id": "Gm3uj2do4x0S"
      },
      "execution_count": null,
      "outputs": []
    },
    {
      "cell_type": "code",
      "source": [
        "import operator\n",
        "import random\n",
        "from deap import base\n",
        "from deap import creator\n",
        "from deap import tools\n",
        "from deap import algorithms"
      ],
      "metadata": {
        "id": "btyNZKwd4vfM"
      },
      "execution_count": null,
      "outputs": []
    },
    {
      "cell_type": "markdown",
      "source": [
        "### Code"
      ],
      "metadata": {
        "id": "-5ijAHfK4sRg"
      }
    },
    {
      "cell_type": "markdown",
      "source": [
        "#####Functions"
      ],
      "metadata": {
        "id": "xXtEqwN74m4H"
      }
    },
    {
      "cell_type": "code",
      "source": [
        "def calculate_multiclass(probability_2x:np.array, line_2x:np.array):\n",
        "    '''\n",
        "    input : 0 - over, 1 - under\n",
        "    output: 0 - over, 1 - under\n",
        "    '''\n",
        "    probability_adj = probability_2x / np.sum(probability_2x, axis = 1).reshape(-1, 1)\n",
        "    probline_adj = probability_adj * line_2x\n",
        "    probline = probability_2x * line_2x\n",
        "    best_odd_result = np.argmax(probline_adj, axis = 1)\n",
        "    best_odd_float_adj = np.take_along_axis(probline_adj, best_odd_result.reshape(-1, 1), axis = 1)\n",
        "    best_odd_float = np.take_along_axis(probline, best_odd_result.reshape(-1, 1), axis = 1)\n",
        "    return {\n",
        "        'argmax':best_odd_result,\n",
        "        'float':best_odd_float,\n",
        "        'float_adj':best_odd_float_adj\n",
        "    }"
      ],
      "metadata": {
        "id": "2Obf9rt2rfHB"
      },
      "execution_count": 10,
      "outputs": []
    },
    {
      "cell_type": "code",
      "source": [
        "def get_profit_curve(prob_dict, final_goal_sum, Line_production, bet_type = 'fixed'):\n",
        "    '''\n",
        "    Line_production -> line['total', 'over', 'under']\n",
        "    final_goal_sumv -> data_npz['result1'] + data_npz['result2']\n",
        "    '''\n",
        "    #fixed, divk, divk-1\n",
        "    #simple, complex\n",
        "    # считаем прдикты по исходу и вероятности умноженной на кэф (over, under)\n",
        "    preds_int, preds_float, preds_float_adj = calculate_multiclass(prob_dict, Line_production[:,1:3]).values()\n",
        "    preds_float_adj = preds_float_adj[:,0] \n",
        "    preds_vec = preds_int * (2) - 1 # -1:over, 1:under\n",
        "    # вектор результатов\n",
        "    res_vec = (final_goal_sum > Line_production[:, 0]) * (-1) + \\\n",
        "             (final_goal_sum < Line_production[:, 0]) * (1)\n",
        "    win_vec, lose_vec = (preds_vec * res_vec) == 1, (preds_vec * res_vec) == -1\n",
        "    line_vec = np.take_along_axis(Line_production[:,1:3], preds_int.reshape(-1, 1), axis = 1)[:, 0]\n",
        "    threshold = []\n",
        "    profit = []\n",
        "    bet_qty_list = []\n",
        "    for th in np.linspace(0.5, 2.0,101):\n",
        "        threshold.append(th)\n",
        "        vector_th = (preds_float_adj) > th\n",
        "        bet_qty_list.append(vector_th.sum())\n",
        "        if bet_type == 'divk':\n",
        "            #                       размер ставки                                   кэф\n",
        "            profit.append(np.sum((1/line_vec[win_vec & vector_th].astype(np.float32)) * \\\n",
        "                                (line_vec[win_vec & vector_th] - 1).astype(np.float32)) -\\\n",
        "                                np.sum((1/line_vec[lose_vec & vector_th].astype(np.float32))))\n",
        "        else:\n",
        "            profit.append(np.sum((line_vec[win_vec & vector_th] - 1).astype(np.float32)) - np.sum(lose_vec & vector_th))\n",
        "\n",
        "    return threshold, profit, bet_qty_list"
      ],
      "metadata": {
        "id": "JxzzvOeSrgmy"
      },
      "execution_count": 11,
      "outputs": []
    },
    {
      "cell_type": "code",
      "source": [
        "def make_filter(hda, preds_int):\n",
        "    hda_dict = {'over':0, 'under':1}\n",
        "    if hda == 'all':\n",
        "        return preds_int > -1\n",
        "    else:\n",
        "        return preds_int == hda_dict[hda]"
      ],
      "metadata": {
        "id": "7qUDOmserkZm"
      },
      "execution_count": 12,
      "outputs": []
    },
    {
      "cell_type": "code",
      "source": [
        "def profit_validation_by_type(prob_dict, active_rows_dict, preds_dict, line_dict, scores_dict): #active_rows_dict, preds_dict, line_dict, y_dict):\n",
        "    data_splits = ['holdout', 'test', 'train']\n",
        "    hda_list = ['all', 'over', 'under']\n",
        "    title_text = f'Profit & bet qty for validation model in neptune.ai: model_name'\n",
        "    colors = ['rgb(93, 164, 214)', 'rgb(255, 144, 14)',  'rgb(44, 160, 101)', 'rgb(255, 65, 54)']\n",
        "    fig = make_subplots(rows = 3, cols = 1,\n",
        "                        shared_xaxes = True, \n",
        "                        vertical_spacing = 0.02,\n",
        "                        subplot_titles = (\"holdout\", \"test\", \"train\")\n",
        "                        )\n",
        "    \n",
        "    for cnt_split, data_split in enumerate(data_splits):\n",
        "        final_goal_sum = scores_dict['result'][data_split]['1'] + scores_dict['result'][data_split]['2']\n",
        "        preds_int, _, _ = calculate_multiclass(\n",
        "            prob_dict[data_split],\n",
        "            line_dict[data_split][active_rows_dict[data_split]][:,1:3]\n",
        "                                                ).values()\n",
        "        for cnt_hda, hda in enumerate(hda_list):\n",
        "            sfilter = make_filter(hda, preds_int)\n",
        "            threshold, profit, bet_qty_list = get_profit_curve(\n",
        "                                                prob_dict[data_split][sfilter], \n",
        "                                                final_goal_sum[active_rows_dict[data_split]][sfilter], \n",
        "                                                line_dict[data_split][active_rows_dict[data_split]][sfilter],\n",
        "                                                bet_type = 'divk'\n",
        "                                                )\n",
        "            fig.append_trace(go.Scatter(\n",
        "                                    x = threshold,\n",
        "                                    y = profit,\n",
        "                                    name = hda,\n",
        "                                    line = dict(color = colors[cnt_hda], width = 4 - 3 * bool(cnt_hda))),\n",
        "                                    row = cnt_split + 1, col=1)\n",
        "            # Update yaxis properties\n",
        "            fig.update_yaxes(\n",
        "                   rangemode = 'nonnegative', \n",
        "                row = cnt_split + 1, col = 1)\n",
        "\n",
        "    return fig.update_layout(title = 'Total profit validation', height = 800, width = 900)"
      ],
      "metadata": {
        "id": "CxAyMk0wSLC1"
      },
      "execution_count": 13,
      "outputs": []
    },
    {
      "cell_type": "markdown",
      "source": [
        "##### Prepare Data\n",
        "\n",
        "1. регрессия\n",
        "2. мультиклассовая класификация {AWAY:2,DRAW:1, HOME:0} \n",
        "3. бинарная классификация: <br>\n",
        "    a. HOME vs (DRAW & AWAY)<br>\n",
        "    б. DRAW vs (HOME & AWAY)<br>\n",
        "    в. AWAY vs (HOME & DRAW)<br>"
      ],
      "metadata": {
        "id": "K3gsr1nv36Zj"
      }
    },
    {
      "cell_type": "code",
      "source": [
        "#2010: 145536\n",
        "#2021: 78600\n",
        "#2022: 114949\n",
        "#2023: 27456"
      ],
      "metadata": {
        "id": "pox37_kO3u0o"
      },
      "execution_count": 14,
      "outputs": []
    },
    {
      "cell_type": "code",
      "source": [
        "id_time_df = pd.read_csv('/content/time_upd.csv', parse_dates = ['StatTime'], dayfirst = True)\n",
        "ids_seq = id_time_df.sort_values(by = 'StatTime')['Id'].values[:int(len(id_time_df) / 2)]\n",
        "additional_data_upd = np.load('/content/additional_data_upd.npz')\n",
        "id_vector = np.isin(additional_data_upd['id'], ids_seq)\n",
        "\n",
        "data_npz = np.load('./dataset.npz')\n",
        "data_upd_npz = np.load('./dataset_upd.npz')\n",
        "X = np.vstack((data_npz['X'], data_upd_npz['X'][id_vector]))\n",
        "print(X.shape)\n"
      ],
      "metadata": {
        "id": "NmBqfhWR3rC_",
        "colab": {
          "base_uri": "https://localhost:8080/"
        },
        "outputId": "b26a9511-1ee0-4ba2-afa6-b9c1b1c9803b"
      },
      "execution_count": 15,
      "outputs": [
        {
          "output_type": "stream",
          "name": "stdout",
          "text": [
            "(14604604, 37)\n"
          ]
        }
      ]
    },
    {
      "cell_type": "code",
      "source": [
        "#@title Выбор таргета\n",
        "target_type = \"regression2\" #@param [\"regression1\", \"regression2\", \"multiclass\", \"binary_home\", \"binary_draw\", \"binary_away\"]\n",
        "if target_type == 'regression1':\n",
        "    y = np.hstack((data_npz['y_regression1'], data_upd_npz['y_regression1'][id_vector]))\n",
        "    reg_num = 1\n",
        "elif target_type == 'regression2':\n",
        "    y = np.hstack((data_npz['y_regression2'], data_upd_npz['y_regression2'][id_vector]))\n",
        "    reg_num = 2\n",
        "print(X.shape, y.shape)\n",
        "#---------------\n",
        "process = psutil.Process(os.getpid())\n",
        "print('mem usage: ', round(process.memory_info().rss / 1024 ** 3, 2), 'GiB')  # in bytes \n",
        "#---------------"
      ],
      "metadata": {
        "id": "Wl7i2R-a3mnc",
        "colab": {
          "base_uri": "https://localhost:8080/"
        },
        "outputId": "2a61e875-5802-4dd7-e6c8-b7b87ded571e"
      },
      "execution_count": 20,
      "outputs": [
        {
          "output_type": "stream",
          "name": "stdout",
          "text": [
            "(14604604, 37) (14604604,)\n",
            "mem usage:  5.8 GiB\n"
          ]
        }
      ]
    },
    {
      "cell_type": "code",
      "source": [
        "!mkdir -p ./models"
      ],
      "metadata": {
        "id": "dSS87xGX3hqr"
      },
      "execution_count": 1,
      "outputs": []
    },
    {
      "cell_type": "code",
      "source": [
        "#!tar -zxvf /content/models/models.tar.gz"
      ],
      "metadata": {
        "colab": {
          "base_uri": "https://localhost:8080/"
        },
        "id": "ZPgLcapZgR1q",
        "outputId": "a5bd4ee0-f0be-406c-af92-3be2a4abdfcb"
      },
      "execution_count": 2,
      "outputs": [
        {
          "output_type": "stream",
          "name": "stdout",
          "text": [
            "./models/booster_reg1_0.model\n",
            "./models/booster_reg1_1.model\n",
            "./models/booster_reg1_2.model\n",
            "./models/booster_reg2_0.model\n",
            "./models/booster_reg2_1.model\n",
            "./models/booster_reg2_2.model\n"
          ]
        }
      ]
    },
    {
      "cell_type": "markdown",
      "source": [
        "##### Folding"
      ],
      "metadata": {
        "id": "ph3ewOoB4Dqu"
      }
    },
    {
      "cell_type": "code",
      "source": [
        "kfold_splits = 3\n",
        "kfold_size = int(y.shape[0] / kfold_splits)\n",
        "kfold_num = 2\n",
        "kfold_start, kfold_end = kfold_size * kfold_num, kfold_size * (kfold_num + 1)\n",
        "kfold_vector = np.zeros(y.shape[0], dtype = np.bool_)\n",
        "kfold_vector[kfold_start:kfold_end] = True"
      ],
      "metadata": {
        "id": "zidD33Uq3fCl"
      },
      "execution_count": 14,
      "outputs": []
    },
    {
      "cell_type": "code",
      "source": [
        "train_data = Pool(X[~kfold_vector], y[~kfold_vector])\n",
        "test_data = Pool(X[kfold_vector], y[kfold_vector])\n",
        "#---------------\n",
        "process = psutil.Process(os.getpid())\n",
        "print('mem usage: ', round(process.memory_info().rss / 1024 ** 3, 2), 'GiB')  # in bytes \n",
        "#---------------"
      ],
      "metadata": {
        "id": "Y-4rL7g63bEb",
        "colab": {
          "base_uri": "https://localhost:8080/"
        },
        "outputId": "06480757-bc71-4f96-f47c-ba4cacd78e70"
      },
      "execution_count": 21,
      "outputs": [
        {
          "output_type": "stream",
          "name": "stdout",
          "text": [
            "mem usage:  6.43 GiB\n"
          ]
        }
      ]
    },
    {
      "cell_type": "code",
      "source": [
        "gpu_cnt = utils.get_gpu_device_count()\n",
        "print(\"Number of GPU Count : \",gpu_cnt)"
      ],
      "metadata": {
        "id": "6J_yDoRD3WoW",
        "colab": {
          "base_uri": "https://localhost:8080/"
        },
        "outputId": "507c09a8-ab34-455f-ef37-6b7a42e847c3"
      },
      "execution_count": 16,
      "outputs": [
        {
          "output_type": "stream",
          "name": "stdout",
          "text": [
            "Number of GPU Count :  1\n"
          ]
        }
      ]
    },
    {
      "cell_type": "markdown",
      "source": [
        "##### Train catboost model"
      ],
      "metadata": {
        "id": "bfdudmNm4Hwg"
      }
    },
    {
      "cell_type": "code",
      "source": [
        "cparams = {\n",
        "    'loss_function':'RMSE',\n",
        "    'learning_rate':0.02,\n",
        "    'l2_leaf_reg':0.9,\n",
        "    'max_depth':4,\n",
        "    'min_data_in_leaf':15,\n",
        "    #'leaf_estimation_method':leafmethod,\n",
        "    #'early_stopping_rounds':15,\n",
        "    'verbose':10,\n",
        "    'iterations':1500,\n",
        "    #\"eval_metric\" : 'TotalF1',\n",
        "    'task_type':\"GPU\", \n",
        "    'devices':'0'   \n",
        "}"
      ],
      "metadata": {
        "id": "XPurCat_V7Qf"
      },
      "execution_count": 22,
      "outputs": []
    },
    {
      "cell_type": "code",
      "source": [
        "booster = CatBoostRegressor(\n",
        "                **cparams        \n",
        "                )\n",
        "\n",
        "booster.fit(train_data, eval_set = test_data)\n",
        "\n",
        "booster.save_model(f'./models/booster_reg{reg_num}_{kfold_num}.model')"
      ],
      "metadata": {
        "id": "cvcA9mt6WuFS",
        "colab": {
          "base_uri": "https://localhost:8080/"
        },
        "outputId": "7977d36e-0e99-4107-e52e-c910f83e4502"
      },
      "execution_count": 22,
      "outputs": [
        {
          "output_type": "stream",
          "name": "stdout",
          "text": [
            "0:\tlearn: 0.0548089\ttest: 0.0542031\tbest: 0.0542031 (0)\ttotal: 104ms\tremaining: 2m 35s\n",
            "10:\tlearn: 0.0535530\ttest: 0.0529819\tbest: 0.0529819 (10)\ttotal: 796ms\tremaining: 1m 47s\n",
            "20:\tlearn: 0.0526553\ttest: 0.0521109\tbest: 0.0521109 (20)\ttotal: 1.44s\tremaining: 1m 41s\n",
            "30:\tlearn: 0.0520064\ttest: 0.0514795\tbest: 0.0514795 (30)\ttotal: 2.1s\tremaining: 1m 39s\n",
            "40:\tlearn: 0.0515352\ttest: 0.0510231\tbest: 0.0510231 (40)\ttotal: 2.75s\tremaining: 1m 37s\n",
            "50:\tlearn: 0.0511935\ttest: 0.0506908\tbest: 0.0506908 (50)\ttotal: 3.38s\tremaining: 1m 36s\n",
            "60:\tlearn: 0.0509408\ttest: 0.0504466\tbest: 0.0504466 (60)\ttotal: 4.05s\tremaining: 1m 35s\n",
            "70:\tlearn: 0.0507516\ttest: 0.0502627\tbest: 0.0502627 (70)\ttotal: 4.7s\tremaining: 1m 34s\n",
            "80:\tlearn: 0.0506078\ttest: 0.0501222\tbest: 0.0501222 (80)\ttotal: 5.34s\tremaining: 1m 33s\n",
            "90:\tlearn: 0.0504971\ttest: 0.0500170\tbest: 0.0500170 (90)\ttotal: 5.98s\tremaining: 1m 32s\n",
            "100:\tlearn: 0.0504110\ttest: 0.0499335\tbest: 0.0499335 (100)\ttotal: 6.85s\tremaining: 1m 34s\n",
            "110:\tlearn: 0.0503429\ttest: 0.0498687\tbest: 0.0498687 (110)\ttotal: 7.98s\tremaining: 1m 39s\n",
            "120:\tlearn: 0.0502876\ttest: 0.0498144\tbest: 0.0498144 (120)\ttotal: 9.07s\tremaining: 1m 43s\n",
            "130:\tlearn: 0.0502418\ttest: 0.0497675\tbest: 0.0497675 (130)\ttotal: 9.78s\tremaining: 1m 42s\n",
            "140:\tlearn: 0.0502051\ttest: 0.0497319\tbest: 0.0497319 (140)\ttotal: 10.4s\tremaining: 1m 40s\n",
            "150:\tlearn: 0.0501738\ttest: 0.0496999\tbest: 0.0496999 (150)\ttotal: 11.1s\tremaining: 1m 38s\n",
            "160:\tlearn: 0.0501464\ttest: 0.0496725\tbest: 0.0496725 (160)\ttotal: 11.7s\tremaining: 1m 37s\n",
            "170:\tlearn: 0.0501224\ttest: 0.0496503\tbest: 0.0496503 (170)\ttotal: 12.4s\tremaining: 1m 36s\n",
            "180:\tlearn: 0.0501019\ttest: 0.0496297\tbest: 0.0496297 (180)\ttotal: 13s\tremaining: 1m 34s\n",
            "190:\tlearn: 0.0500829\ttest: 0.0496106\tbest: 0.0496106 (190)\ttotal: 13.7s\tremaining: 1m 33s\n",
            "200:\tlearn: 0.0500661\ttest: 0.0495934\tbest: 0.0495934 (200)\ttotal: 14.3s\tremaining: 1m 32s\n",
            "210:\tlearn: 0.0500502\ttest: 0.0495774\tbest: 0.0495774 (210)\ttotal: 15s\tremaining: 1m 31s\n",
            "220:\tlearn: 0.0500364\ttest: 0.0495641\tbest: 0.0495641 (220)\ttotal: 15.7s\tremaining: 1m 30s\n",
            "230:\tlearn: 0.0500229\ttest: 0.0495511\tbest: 0.0495511 (230)\ttotal: 16.3s\tremaining: 1m 29s\n",
            "240:\tlearn: 0.0500104\ttest: 0.0495394\tbest: 0.0495394 (240)\ttotal: 17s\tremaining: 1m 28s\n",
            "250:\tlearn: 0.0499987\ttest: 0.0495274\tbest: 0.0495274 (250)\ttotal: 17.7s\tremaining: 1m 27s\n",
            "260:\tlearn: 0.0499878\ttest: 0.0495164\tbest: 0.0495164 (260)\ttotal: 18.3s\tremaining: 1m 27s\n",
            "270:\tlearn: 0.0499778\ttest: 0.0495073\tbest: 0.0495073 (270)\ttotal: 19s\tremaining: 1m 26s\n",
            "280:\tlearn: 0.0499686\ttest: 0.0494979\tbest: 0.0494979 (280)\ttotal: 19.9s\tremaining: 1m 26s\n",
            "290:\tlearn: 0.0499602\ttest: 0.0494901\tbest: 0.0494901 (290)\ttotal: 21.1s\tremaining: 1m 27s\n",
            "300:\tlearn: 0.0499504\ttest: 0.0494805\tbest: 0.0494805 (300)\ttotal: 22.1s\tremaining: 1m 28s\n",
            "310:\tlearn: 0.0499427\ttest: 0.0494737\tbest: 0.0494737 (310)\ttotal: 22.8s\tremaining: 1m 27s\n",
            "320:\tlearn: 0.0499346\ttest: 0.0494659\tbest: 0.0494659 (320)\ttotal: 23.5s\tremaining: 1m 26s\n",
            "330:\tlearn: 0.0499265\ttest: 0.0494583\tbest: 0.0494583 (330)\ttotal: 24.2s\tremaining: 1m 25s\n",
            "340:\tlearn: 0.0499198\ttest: 0.0494517\tbest: 0.0494517 (340)\ttotal: 24.8s\tremaining: 1m 24s\n",
            "350:\tlearn: 0.0499137\ttest: 0.0494465\tbest: 0.0494465 (350)\ttotal: 25.5s\tremaining: 1m 23s\n",
            "360:\tlearn: 0.0499067\ttest: 0.0494395\tbest: 0.0494395 (360)\ttotal: 26.2s\tremaining: 1m 22s\n",
            "370:\tlearn: 0.0499006\ttest: 0.0494343\tbest: 0.0494343 (370)\ttotal: 26.8s\tremaining: 1m 21s\n",
            "380:\tlearn: 0.0498934\ttest: 0.0494281\tbest: 0.0494281 (380)\ttotal: 27.5s\tremaining: 1m 20s\n",
            "390:\tlearn: 0.0498878\ttest: 0.0494235\tbest: 0.0494235 (390)\ttotal: 28.2s\tremaining: 1m 19s\n",
            "400:\tlearn: 0.0498817\ttest: 0.0494184\tbest: 0.0494184 (400)\ttotal: 28.8s\tremaining: 1m 19s\n",
            "410:\tlearn: 0.0498754\ttest: 0.0494127\tbest: 0.0494127 (410)\ttotal: 29.5s\tremaining: 1m 18s\n",
            "420:\tlearn: 0.0498704\ttest: 0.0494086\tbest: 0.0494086 (420)\ttotal: 30.2s\tremaining: 1m 17s\n",
            "430:\tlearn: 0.0498655\ttest: 0.0494046\tbest: 0.0494046 (430)\ttotal: 30.9s\tremaining: 1m 16s\n",
            "440:\tlearn: 0.0498599\ttest: 0.0493991\tbest: 0.0493991 (440)\ttotal: 32s\tremaining: 1m 16s\n",
            "450:\tlearn: 0.0498557\ttest: 0.0493965\tbest: 0.0493965 (450)\ttotal: 33.2s\tremaining: 1m 17s\n",
            "460:\tlearn: 0.0498502\ttest: 0.0493915\tbest: 0.0493915 (460)\ttotal: 34.4s\tremaining: 1m 17s\n",
            "470:\tlearn: 0.0498453\ttest: 0.0493876\tbest: 0.0493876 (470)\ttotal: 35.5s\tremaining: 1m 17s\n",
            "480:\tlearn: 0.0498406\ttest: 0.0493838\tbest: 0.0493838 (480)\ttotal: 36.6s\tremaining: 1m 17s\n",
            "490:\tlearn: 0.0498354\ttest: 0.0493793\tbest: 0.0493793 (490)\ttotal: 37.3s\tremaining: 1m 16s\n",
            "500:\tlearn: 0.0498300\ttest: 0.0493750\tbest: 0.0493750 (500)\ttotal: 37.9s\tremaining: 1m 15s\n",
            "510:\tlearn: 0.0498248\ttest: 0.0493712\tbest: 0.0493712 (510)\ttotal: 38.6s\tremaining: 1m 14s\n",
            "520:\tlearn: 0.0498207\ttest: 0.0493673\tbest: 0.0493673 (520)\ttotal: 39.2s\tremaining: 1m 13s\n",
            "530:\tlearn: 0.0498151\ttest: 0.0493626\tbest: 0.0493626 (530)\ttotal: 39.9s\tremaining: 1m 12s\n",
            "540:\tlearn: 0.0498095\ttest: 0.0493595\tbest: 0.0493595 (540)\ttotal: 40.6s\tremaining: 1m 11s\n",
            "550:\tlearn: 0.0498052\ttest: 0.0493554\tbest: 0.0493554 (550)\ttotal: 41.2s\tremaining: 1m 11s\n",
            "560:\tlearn: 0.0498010\ttest: 0.0493517\tbest: 0.0493517 (560)\ttotal: 41.9s\tremaining: 1m 10s\n",
            "570:\tlearn: 0.0497956\ttest: 0.0493482\tbest: 0.0493482 (570)\ttotal: 42.5s\tremaining: 1m 9s\n",
            "580:\tlearn: 0.0497924\ttest: 0.0493463\tbest: 0.0493463 (580)\ttotal: 43.2s\tremaining: 1m 8s\n",
            "590:\tlearn: 0.0497887\ttest: 0.0493439\tbest: 0.0493439 (590)\ttotal: 43.8s\tremaining: 1m 7s\n",
            "600:\tlearn: 0.0497837\ttest: 0.0493395\tbest: 0.0493395 (600)\ttotal: 44.5s\tremaining: 1m 6s\n",
            "610:\tlearn: 0.0497789\ttest: 0.0493356\tbest: 0.0493356 (610)\ttotal: 45.1s\tremaining: 1m 5s\n",
            "620:\tlearn: 0.0497748\ttest: 0.0493322\tbest: 0.0493322 (620)\ttotal: 45.8s\tremaining: 1m 4s\n",
            "630:\tlearn: 0.0497705\ttest: 0.0493286\tbest: 0.0493286 (630)\ttotal: 46.4s\tremaining: 1m 3s\n",
            "640:\tlearn: 0.0497672\ttest: 0.0493266\tbest: 0.0493265 (639)\ttotal: 47.4s\tremaining: 1m 3s\n",
            "650:\tlearn: 0.0497639\ttest: 0.0493249\tbest: 0.0493249 (650)\ttotal: 48.6s\tremaining: 1m 3s\n",
            "660:\tlearn: 0.0497599\ttest: 0.0493219\tbest: 0.0493219 (660)\ttotal: 49.5s\tremaining: 1m 2s\n",
            "670:\tlearn: 0.0497555\ttest: 0.0493188\tbest: 0.0493188 (670)\ttotal: 50.2s\tremaining: 1m 2s\n",
            "680:\tlearn: 0.0497520\ttest: 0.0493163\tbest: 0.0493163 (679)\ttotal: 50.9s\tremaining: 1m 1s\n",
            "690:\tlearn: 0.0497484\ttest: 0.0493143\tbest: 0.0493142 (689)\ttotal: 51.5s\tremaining: 1m\n",
            "700:\tlearn: 0.0497447\ttest: 0.0493121\tbest: 0.0493121 (700)\ttotal: 52.2s\tremaining: 59.5s\n",
            "710:\tlearn: 0.0497419\ttest: 0.0493101\tbest: 0.0493101 (710)\ttotal: 52.8s\tremaining: 58.6s\n",
            "720:\tlearn: 0.0497382\ttest: 0.0493076\tbest: 0.0493076 (720)\ttotal: 53.5s\tremaining: 57.8s\n",
            "730:\tlearn: 0.0497347\ttest: 0.0493053\tbest: 0.0493053 (730)\ttotal: 54.1s\tremaining: 56.9s\n",
            "740:\tlearn: 0.0497317\ttest: 0.0493029\tbest: 0.0493029 (740)\ttotal: 54.8s\tremaining: 56.1s\n",
            "750:\tlearn: 0.0497284\ttest: 0.0493002\tbest: 0.0493002 (750)\ttotal: 55.4s\tremaining: 55.3s\n",
            "760:\tlearn: 0.0497253\ttest: 0.0492984\tbest: 0.0492984 (760)\ttotal: 56.1s\tremaining: 54.5s\n",
            "770:\tlearn: 0.0497223\ttest: 0.0492965\tbest: 0.0492965 (770)\ttotal: 56.7s\tremaining: 53.7s\n",
            "780:\tlearn: 0.0497198\ttest: 0.0492954\tbest: 0.0492953 (778)\ttotal: 57.4s\tremaining: 52.8s\n",
            "790:\tlearn: 0.0497171\ttest: 0.0492937\tbest: 0.0492937 (790)\ttotal: 58.1s\tremaining: 52s\n",
            "800:\tlearn: 0.0497142\ttest: 0.0492917\tbest: 0.0492917 (800)\ttotal: 58.7s\tremaining: 51.2s\n",
            "810:\tlearn: 0.0497114\ttest: 0.0492902\tbest: 0.0492902 (810)\ttotal: 59.4s\tremaining: 50.4s\n",
            "820:\tlearn: 0.0497081\ttest: 0.0492878\tbest: 0.0492878 (820)\ttotal: 1m\tremaining: 50s\n",
            "830:\tlearn: 0.0497056\ttest: 0.0492869\tbest: 0.0492869 (830)\ttotal: 1m 1s\tremaining: 49.5s\n",
            "840:\tlearn: 0.0497027\ttest: 0.0492851\tbest: 0.0492851 (839)\ttotal: 1m 2s\tremaining: 49s\n",
            "850:\tlearn: 0.0496998\ttest: 0.0492834\tbest: 0.0492834 (850)\ttotal: 1m 3s\tremaining: 48.2s\n",
            "860:\tlearn: 0.0496970\ttest: 0.0492816\tbest: 0.0492816 (858)\ttotal: 1m 3s\tremaining: 47.4s\n",
            "870:\tlearn: 0.0496941\ttest: 0.0492800\tbest: 0.0492800 (870)\ttotal: 1m 4s\tremaining: 46.6s\n",
            "880:\tlearn: 0.0496916\ttest: 0.0492788\tbest: 0.0492788 (880)\ttotal: 1m 5s\tremaining: 45.8s\n",
            "890:\tlearn: 0.0496889\ttest: 0.0492774\tbest: 0.0492774 (890)\ttotal: 1m 5s\tremaining: 45s\n",
            "900:\tlearn: 0.0496865\ttest: 0.0492768\tbest: 0.0492766 (897)\ttotal: 1m 6s\tremaining: 44.2s\n",
            "910:\tlearn: 0.0496837\ttest: 0.0492749\tbest: 0.0492749 (910)\ttotal: 1m 7s\tremaining: 43.4s\n",
            "920:\tlearn: 0.0496814\ttest: 0.0492736\tbest: 0.0492736 (920)\ttotal: 1m 7s\tremaining: 42.6s\n",
            "930:\tlearn: 0.0496793\ttest: 0.0492723\tbest: 0.0492723 (930)\ttotal: 1m 8s\tremaining: 41.8s\n",
            "940:\tlearn: 0.0496769\ttest: 0.0492708\tbest: 0.0492708 (940)\ttotal: 1m 9s\tremaining: 41s\n",
            "950:\tlearn: 0.0496746\ttest: 0.0492696\tbest: 0.0492696 (950)\ttotal: 1m 9s\tremaining: 40.3s\n",
            "960:\tlearn: 0.0496722\ttest: 0.0492687\tbest: 0.0492687 (960)\ttotal: 1m 10s\tremaining: 39.5s\n",
            "970:\tlearn: 0.0496699\ttest: 0.0492670\tbest: 0.0492670 (970)\ttotal: 1m 11s\tremaining: 38.7s\n",
            "980:\tlearn: 0.0496677\ttest: 0.0492657\tbest: 0.0492657 (980)\ttotal: 1m 11s\tremaining: 37.9s\n",
            "990:\tlearn: 0.0496652\ttest: 0.0492650\tbest: 0.0492650 (988)\ttotal: 1m 12s\tremaining: 37.2s\n",
            "1000:\tlearn: 0.0496633\ttest: 0.0492641\tbest: 0.0492641 (1000)\ttotal: 1m 13s\tremaining: 36.6s\n",
            "1010:\tlearn: 0.0496611\ttest: 0.0492636\tbest: 0.0492636 (1010)\ttotal: 1m 14s\tremaining: 36s\n",
            "1020:\tlearn: 0.0496590\ttest: 0.0492633\tbest: 0.0492633 (1020)\ttotal: 1m 15s\tremaining: 35.4s\n",
            "1030:\tlearn: 0.0496569\ttest: 0.0492628\tbest: 0.0492628 (1030)\ttotal: 1m 16s\tremaining: 34.6s\n",
            "1040:\tlearn: 0.0496546\ttest: 0.0492610\tbest: 0.0492610 (1040)\ttotal: 1m 16s\tremaining: 33.9s\n",
            "1050:\tlearn: 0.0496522\ttest: 0.0492593\tbest: 0.0492593 (1050)\ttotal: 1m 17s\tremaining: 33.1s\n",
            "1060:\tlearn: 0.0496500\ttest: 0.0492584\tbest: 0.0492584 (1060)\ttotal: 1m 18s\tremaining: 32.3s\n",
            "1070:\tlearn: 0.0496483\ttest: 0.0492578\tbest: 0.0492578 (1070)\ttotal: 1m 18s\tremaining: 31.6s\n",
            "1080:\tlearn: 0.0496463\ttest: 0.0492571\tbest: 0.0492571 (1080)\ttotal: 1m 19s\tremaining: 30.8s\n",
            "1090:\tlearn: 0.0496445\ttest: 0.0492565\tbest: 0.0492565 (1089)\ttotal: 1m 20s\tremaining: 30s\n",
            "1100:\tlearn: 0.0496424\ttest: 0.0492554\tbest: 0.0492554 (1100)\ttotal: 1m 20s\tremaining: 29.3s\n",
            "1110:\tlearn: 0.0496406\ttest: 0.0492548\tbest: 0.0492548 (1110)\ttotal: 1m 21s\tremaining: 28.5s\n",
            "1120:\tlearn: 0.0496388\ttest: 0.0492541\tbest: 0.0492541 (1120)\ttotal: 1m 22s\tremaining: 27.7s\n",
            "1130:\tlearn: 0.0496366\ttest: 0.0492529\tbest: 0.0492529 (1130)\ttotal: 1m 22s\tremaining: 27s\n",
            "1140:\tlearn: 0.0496348\ttest: 0.0492521\tbest: 0.0492519 (1136)\ttotal: 1m 23s\tremaining: 26.2s\n",
            "1150:\tlearn: 0.0496331\ttest: 0.0492517\tbest: 0.0492516 (1149)\ttotal: 1m 24s\tremaining: 25.5s\n",
            "1160:\tlearn: 0.0496315\ttest: 0.0492511\tbest: 0.0492511 (1159)\ttotal: 1m 24s\tremaining: 24.7s\n",
            "1170:\tlearn: 0.0496293\ttest: 0.0492499\tbest: 0.0492499 (1170)\ttotal: 1m 25s\tremaining: 24s\n",
            "1180:\tlearn: 0.0496272\ttest: 0.0492488\tbest: 0.0492488 (1179)\ttotal: 1m 26s\tremaining: 23.3s\n",
            "1190:\tlearn: 0.0496253\ttest: 0.0492480\tbest: 0.0492480 (1190)\ttotal: 1m 27s\tremaining: 22.7s\n",
            "1200:\tlearn: 0.0496237\ttest: 0.0492475\tbest: 0.0492475 (1200)\ttotal: 1m 28s\tremaining: 22s\n",
            "1210:\tlearn: 0.0496220\ttest: 0.0492471\tbest: 0.0492471 (1210)\ttotal: 1m 29s\tremaining: 21.3s\n",
            "1220:\tlearn: 0.0496203\ttest: 0.0492466\tbest: 0.0492466 (1219)\ttotal: 1m 29s\tremaining: 20.5s\n",
            "1230:\tlearn: 0.0496187\ttest: 0.0492457\tbest: 0.0492457 (1230)\ttotal: 1m 30s\tremaining: 19.8s\n",
            "1240:\tlearn: 0.0496170\ttest: 0.0492448\tbest: 0.0492448 (1239)\ttotal: 1m 31s\tremaining: 19s\n",
            "1250:\tlearn: 0.0496155\ttest: 0.0492440\tbest: 0.0492440 (1250)\ttotal: 1m 31s\tremaining: 18.3s\n",
            "1260:\tlearn: 0.0496138\ttest: 0.0492433\tbest: 0.0492433 (1260)\ttotal: 1m 32s\tremaining: 17.5s\n",
            "1270:\tlearn: 0.0496122\ttest: 0.0492429\tbest: 0.0492429 (1270)\ttotal: 1m 33s\tremaining: 16.8s\n",
            "1280:\tlearn: 0.0496106\ttest: 0.0492421\tbest: 0.0492421 (1280)\ttotal: 1m 33s\tremaining: 16s\n",
            "1290:\tlearn: 0.0496092\ttest: 0.0492419\tbest: 0.0492419 (1288)\ttotal: 1m 34s\tremaining: 15.3s\n",
            "1300:\tlearn: 0.0496076\ttest: 0.0492415\tbest: 0.0492415 (1300)\ttotal: 1m 35s\tremaining: 14.6s\n",
            "1310:\tlearn: 0.0496059\ttest: 0.0492411\tbest: 0.0492411 (1310)\ttotal: 1m 35s\tremaining: 13.8s\n",
            "1320:\tlearn: 0.0496044\ttest: 0.0492409\tbest: 0.0492408 (1318)\ttotal: 1m 36s\tremaining: 13.1s\n",
            "1330:\tlearn: 0.0496031\ttest: 0.0492406\tbest: 0.0492405 (1327)\ttotal: 1m 37s\tremaining: 12.3s\n",
            "1340:\tlearn: 0.0496013\ttest: 0.0492401\tbest: 0.0492401 (1340)\ttotal: 1m 37s\tremaining: 11.6s\n",
            "1350:\tlearn: 0.0496001\ttest: 0.0492399\tbest: 0.0492399 (1350)\ttotal: 1m 38s\tremaining: 10.9s\n",
            "1360:\tlearn: 0.0495987\ttest: 0.0492393\tbest: 0.0492392 (1358)\ttotal: 1m 39s\tremaining: 10.2s\n",
            "1370:\tlearn: 0.0495970\ttest: 0.0492384\tbest: 0.0492384 (1370)\ttotal: 1m 40s\tremaining: 9.46s\n",
            "1380:\tlearn: 0.0495956\ttest: 0.0492381\tbest: 0.0492381 (1377)\ttotal: 1m 41s\tremaining: 8.76s\n",
            "1390:\tlearn: 0.0495940\ttest: 0.0492374\tbest: 0.0492374 (1390)\ttotal: 1m 42s\tremaining: 8.02s\n",
            "1400:\tlearn: 0.0495925\ttest: 0.0492369\tbest: 0.0492369 (1397)\ttotal: 1m 42s\tremaining: 7.28s\n",
            "1410:\tlearn: 0.0495913\ttest: 0.0492367\tbest: 0.0492366 (1409)\ttotal: 1m 43s\tremaining: 6.54s\n",
            "1420:\tlearn: 0.0495900\ttest: 0.0492365\tbest: 0.0492364 (1417)\ttotal: 1m 44s\tremaining: 5.8s\n",
            "1430:\tlearn: 0.0495884\ttest: 0.0492360\tbest: 0.0492359 (1427)\ttotal: 1m 44s\tremaining: 5.06s\n",
            "1440:\tlearn: 0.0495872\ttest: 0.0492357\tbest: 0.0492357 (1440)\ttotal: 1m 45s\tremaining: 4.32s\n",
            "1450:\tlearn: 0.0495857\ttest: 0.0492354\tbest: 0.0492353 (1449)\ttotal: 1m 46s\tremaining: 3.59s\n",
            "1460:\tlearn: 0.0495843\ttest: 0.0492349\tbest: 0.0492349 (1460)\ttotal: 1m 46s\tremaining: 2.85s\n",
            "1470:\tlearn: 0.0495830\ttest: 0.0492342\tbest: 0.0492342 (1469)\ttotal: 1m 47s\tremaining: 2.12s\n",
            "1480:\tlearn: 0.0495815\ttest: 0.0492336\tbest: 0.0492336 (1480)\ttotal: 1m 48s\tremaining: 1.39s\n",
            "1490:\tlearn: 0.0495802\ttest: 0.0492329\tbest: 0.0492329 (1490)\ttotal: 1m 48s\tremaining: 657ms\n",
            "1499:\tlearn: 0.0495788\ttest: 0.0492326\tbest: 0.0492326 (1499)\ttotal: 1m 49s\tremaining: 0us\n",
            "bestTest = 0.04923262758\n",
            "bestIteration = 1499\n"
          ]
        }
      ]
    },
    {
      "cell_type": "code",
      "source": [
        "del train_data\n",
        "del test_data\n",
        "gc.collect()"
      ],
      "metadata": {
        "id": "BqNDYZRRc_Dd",
        "colab": {
          "base_uri": "https://localhost:8080/"
        },
        "outputId": "50b91cc9-d403-4c11-8efb-13b509694078"
      },
      "execution_count": 19,
      "outputs": [
        {
          "output_type": "execute_result",
          "data": {
            "text/plain": [
              "0"
            ]
          },
          "metadata": {},
          "execution_count": 19
        }
      ]
    },
    {
      "cell_type": "code",
      "source": [
        "#!tar -zcvf ./models.tar.gz ./models/*.*\n",
        "!tar -xzvf ./models/models.tar.gz"
      ],
      "metadata": {
        "id": "giFi67ySPWu9",
        "colab": {
          "base_uri": "https://localhost:8080/"
        },
        "outputId": "7ad1bd6b-4bf3-47c6-a31b-905e3fcbf271"
      },
      "execution_count": 17,
      "outputs": [
        {
          "output_type": "stream",
          "name": "stdout",
          "text": [
            "./models/booster_reg1_0.model\n",
            "./models/booster_reg1_1.model\n",
            "./models/booster_reg1_2.model\n",
            "./models/booster_reg2_0.model\n",
            "./models/booster_reg2_1.model\n",
            "./models/booster_reg2_2.model\n"
          ]
        }
      ]
    },
    {
      "cell_type": "code",
      "source": [
        "preds_dict = {'train':{}, 'test':{}, 'holdout':{}}\n",
        "#kfold_num = 1\n",
        "div_num = 3\n",
        "for reg_num in range(1, 3):\n",
        "    preds_dict['train'][reg_num] = sum(\n",
        "            CatBoost().load_model(\n",
        "                f'./models/booster_reg{reg_num}_{kfold_num}.model'\n",
        "                    ).predict(X) * 21\n",
        "            for kfold_num in range(0, 3)\n",
        "                                ) / div_num #kfold_splits\n",
        "    preds_dict['test'][reg_num] = sum(\n",
        "            CatBoost().load_model(\n",
        "                f'./models/booster_reg{reg_num}_{kfold_num}.model'\n",
        "                    ).predict(data_upd_npz['X'][~id_vector]) * 21\n",
        "            for kfold_num in range(0, 3)\n",
        "                                ) / div_num #kfold_splits\n",
        "    preds_dict['holdout'][reg_num] = sum(\n",
        "            CatBoost().load_model(\n",
        "                f'./models/booster_reg{reg_num}_{kfold_num}.model'\n",
        "                    ).predict(data_upd_npz['X'][~id_vector]) * 21\n",
        "            for kfold_num in range(0, 3)\n",
        "                                ) / div_num #kfold_splits\n",
        "\n",
        "#---------------\n",
        "process = psutil.Process(os.getpid())\n",
        "print('mem usage: ', round(process.memory_info().rss / 1024 ** 3, 2), 'GiB')  # in bytes \n",
        "#---------------"
      ],
      "metadata": {
        "id": "_RYg9U2homW9",
        "colab": {
          "base_uri": "https://localhost:8080/"
        },
        "outputId": "5ee17ac0-1a3f-4716-8fe7-3cad5df3fa40"
      },
      "execution_count": 19,
      "outputs": [
        {
          "output_type": "stream",
          "name": "stdout",
          "text": [
            "mem usage:  5.48 GiB\n"
          ]
        }
      ]
    },
    {
      "cell_type": "code",
      "source": [
        "K = np.vstack((data_npz['K_train'][:,7:10], data_upd_npz['K_train'][:,7:10][id_vector]))\n",
        "line_dict = {'train':K, 'test':data_upd_npz['K_train'][:, 7:10][~id_vector], 'holdout':data_upd_npz['K_train'][:, 7:10][~id_vector]}\n",
        "#y_dict = {'train':y, 'test':data_upd_npz['y_multi'][~id_vector], 'holdout':data_upd_npz['y_multi'][~id_vector]}\n",
        "X_dict = {'train':X, 'test':data_upd_npz['X'][~id_vector], 'holdout':data_upd_npz['X'][~id_vector]}\n",
        "\n",
        "A = np.hstack((data_npz['K_train'][:,0], data_upd_npz['K_train'][:,0][id_vector]))\n",
        "active_rows_dict ={}\n",
        "active_rows_dict['train'] = ((A == 1) & (K[:,1:3].sum(axis = 1) > 2))\n",
        "active_rows_dict['holdout'] = ((data_upd_npz['K_train'][:, 0][~id_vector] == 1) & (data_upd_npz['K_train'][:, 7:9][~id_vector].sum(axis = 1) > 2))\n",
        "active_rows_dict['test'] = ((data_upd_npz['K_train'][:, 0][~id_vector] == 1) & (data_upd_npz['K_train'][:, 7:9][~id_vector].sum(axis = 1) > 2))\n",
        "\n",
        "#---------------\n",
        "process = psutil.Process(os.getpid())\n",
        "print('mem usage: ', round(process.memory_info().rss / 1024 ** 3, 2), 'GiB')  # in bytes \n",
        "#---------------"
      ],
      "metadata": {
        "id": "DhZLsJNvh9za",
        "colab": {
          "base_uri": "https://localhost:8080/"
        },
        "outputId": "49dc1d58-8393-4cc5-e946-a6a96a193053"
      },
      "execution_count": 18,
      "outputs": [
        {
          "output_type": "stream",
          "name": "stdout",
          "text": [
            "mem usage:  2.95 GiB\n"
          ]
        }
      ]
    },
    {
      "cell_type": "markdown",
      "source": [
        "#### Calculate probabilities"
      ],
      "metadata": {
        "id": "MUoqIhQIy5S_"
      }
    },
    {
      "cell_type": "code",
      "source": [
        "# Считаем Пуассона\n",
        "poisson_dict = {}\n",
        "for name in ['train', 'test', 'holdout']:\n",
        "    poisson_dict[name] = {}\n",
        "    poisson_dict[name][1] = {}\n",
        "    poisson_dict[name][2] = {}\n",
        "    for goal in range(7):\n",
        "        poisson_dict[name][1][goal] = poisson.pmf(goal, preds_dict[name][1][active_rows_dict[name]])\n",
        "        poisson_dict[name][2][goal] = poisson.pmf(goal, preds_dict[name][2][active_rows_dict[name]])\n",
        "\n",
        "# Считаем вероятности суммы забитых мячей\n",
        "total_matrix_dict = {}\n",
        "for name in ['train', 'test', 'holdout']:\n",
        "    total_matrix_dict[name] = np.zeros((np.sum(active_rows_dict[name]), 13))\n",
        "    for goal1 in range(7):\n",
        "        for goal2 in range(7):\n",
        "            total_matrix_dict[name][:, goal1 + goal2] = total_matrix_dict[name][:, goal1 + goal2] + \\\n",
        "            poisson_dict[name][1][goal1] * poisson_dict[name][2][goal2]\n",
        "\n",
        "# Считаем вероятности забить не менее определенного количества мячей\n",
        "over_matrix_dict = {}\n",
        "for name in ['train', 'test', 'holdout']:\n",
        "    over_matrix_dict[name] = np.hstack((\n",
        "        np.flip(np.cumsum(np.flip(total_matrix_dict[name], axis = 1), axis = 1), axis = 1), \n",
        "        np.zeros(np.sum(active_rows_dict[name])).reshape(-1,1)\n",
        "                                    ))[:, 1:]\n",
        "\n",
        "# Считаем вероятности забить не более определенного количества\n",
        "under_matrix_dict = {}\n",
        "for name in ['train', 'test', 'holdout']:\n",
        "    under_matrix_dict[name] = np.hstack((\n",
        "            np.zeros(np.sum(active_rows_dict[name])).reshape(-1,1), \n",
        "            np.cumsum(total_matrix_dict[name], axis = 1)\n",
        "                                            ))[:, :-1]\n",
        "\n",
        "# создаём словарь результатов\n",
        "scores_list = ['score', 'result']\n",
        "team_num_list = ['1', '2']\n",
        "scores_dict = {'score':{'train':{}, 'test':{}, 'holdout':{}},\n",
        "               'result':{'train':{}, 'test':{}, 'holdout':{}}}\n",
        "for key_type in scores_list:\n",
        "    for team_num in team_num_list: \n",
        "        scores_dict[key_type]['train'][team_num] = np.hstack((\n",
        "                                        data_npz[key_type + team_num], \n",
        "                                        data_upd_npz[key_type + team_num][id_vector]\n",
        "                                                            ))\n",
        "        scores_dict[key_type]['test'][team_num] = data_upd_npz[key_type + team_num][~id_vector]\n",
        "        scores_dict[key_type]['holdout'][team_num] = data_upd_npz[key_type + team_num][~id_vector]\n",
        "\n",
        "# Считаем текущей стэйт суммы забитых мячей\n",
        "total_state_dict = {}\n",
        "total_state_dict['train'] = line_dict['train'][:,0][active_rows_dict['train']] - \\\n",
        "                            scores_dict['score']['train']['1'][active_rows_dict['train']] - \\\n",
        "                            scores_dict['score']['train']['2'][active_rows_dict['train']]\n",
        "total_state_dict['train'][total_state_dict['train'] < 0] = 0\n",
        "total_state_dict['test'] =  line_dict['test'][:,0][active_rows_dict['test']] - \\\n",
        "                            scores_dict['score']['test']['1'][active_rows_dict['test']] - \\\n",
        "                            scores_dict['score']['test']['2'][active_rows_dict['test']]\n",
        "total_state_dict['test'][total_state_dict['test'] < 0] = 0\n",
        "total_state_dict['holdout'] = line_dict['holdout'][:,0][active_rows_dict['holdout']] - \\\n",
        "                            scores_dict['score']['holdout']['1'][active_rows_dict['holdout']] - \\\n",
        "                            scores_dict['score']['holdout']['2'][active_rows_dict['holdout']]\n",
        "total_state_dict['holdout'][total_state_dict['holdout'] < 0] = 0\n",
        "\n",
        "prob_dict = {}\n",
        "for name in ['train', 'test', 'holdout']:\n",
        "    prob_dict[name] = np.hstack((\n",
        "        np.take_along_axis(over_matrix_dict[name], total_state_dict[name].reshape(-1, 1).astype(np.int8), axis = 1),\n",
        "        np.take_along_axis(under_matrix_dict[name], (total_state_dict[name].reshape(-1, 1) + 0.5).astype(np.int8), axis = 1),\n",
        "    ))"
      ],
      "metadata": {
        "id": "udp9d4F4fxxB"
      },
      "execution_count": 23,
      "outputs": []
    },
    {
      "cell_type": "code",
      "source": [
        "fig = profit_validation_by_type(prob_dict, active_rows_dict, preds_dict, line_dict, scores_dict)\n",
        "fig.show()"
      ],
      "metadata": {
        "id": "OqqgLJJ_rFbJ",
        "colab": {
          "base_uri": "https://localhost:8080/",
          "height": 817
        },
        "outputId": "7f01d913-b0b9-4eea-9128-7392f465e67d"
      },
      "execution_count": 24,
      "outputs": [
        {
          "output_type": "display_data",
          "data": {
            "text/html": [
              "<html>\n",
              "<head><meta charset=\"utf-8\" /></head>\n",
              "<body>\n",
              "    <div>            <script src=\"https://cdnjs.cloudflare.com/ajax/libs/mathjax/2.7.5/MathJax.js?config=TeX-AMS-MML_SVG\"></script><script type=\"text/javascript\">if (window.MathJax && window.MathJax.Hub && window.MathJax.Hub.Config) {window.MathJax.Hub.Config({SVG: {font: \"STIX-Web\"}});}</script>                <script type=\"text/javascript\">window.PlotlyConfig = {MathJaxConfig: 'local'};</script>\n",
              "        <script src=\"https://cdn.plot.ly/plotly-2.18.2.min.js\"></script>                <div id=\"d2f2ce8d-f46d-4cc5-8f15-ed31308c7b52\" class=\"plotly-graph-div\" style=\"height:800px; width:900px;\"></div>            <script type=\"text/javascript\">                                    window.PLOTLYENV=window.PLOTLYENV || {};                                    if (document.getElementById(\"d2f2ce8d-f46d-4cc5-8f15-ed31308c7b52\")) {                    Plotly.newPlot(                        \"d2f2ce8d-f46d-4cc5-8f15-ed31308c7b52\",                        [{\"line\":{\"color\":\"rgb(93, 164, 214)\",\"width\":4},\"name\":\"all\",\"x\":[0.5,0.515,0.53,0.545,0.56,0.575,0.59,0.605,0.62,0.635,0.65,0.665,0.6799999999999999,0.6950000000000001,0.71,0.725,0.74,0.755,0.77,0.7849999999999999,0.8,0.815,0.83,0.845,0.86,0.875,0.89,0.905,0.9199999999999999,0.935,0.95,0.965,0.98,0.995,1.01,1.025,1.04,1.055,1.0699999999999998,1.085,1.1,1.115,1.13,1.145,1.16,1.1749999999999998,1.19,1.205,1.22,1.2349999999999999,1.25,1.2650000000000001,1.28,1.295,1.31,1.325,1.3399999999999999,1.355,1.37,1.385,1.4,1.415,1.43,1.4449999999999998,1.46,1.475,1.49,1.505,1.52,1.535,1.55,1.565,1.58,1.595,1.6099999999999999,1.625,1.64,1.655,1.67,1.685,1.7,1.7149999999999999,1.73,1.7449999999999999,1.76,1.775,1.79,1.805,1.8199999999999998,1.835,1.8499999999999999,1.865,1.88,1.895,1.91,1.925,1.94,1.9549999999999998,1.97,1.9849999999999999,2.0],\"y\":[-10287.34375,-10287.34375,-10287.34375,-10287.34375,-10287.34375,-10287.34375,-10287.34375,-10287.34375,-10287.34375,-10287.34375,-10287.34375,-10287.34375,-10287.34375,-10287.34375,-10287.34375,-10287.34375,-10287.34375,-10287.34375,-10287.34375,-10287.34375,-10287.34375,-10287.34375,-10287.34375,-10287.34375,-10287.34375,-10287.34375,-10287.34375,-10287.34375,-10286.75,-10283.296875,-9963.4140625,-8847.234375,-7640.515625,-6549.6875,-5609.953125,-4641.9921875,-3702.7734375,-2834.921875,-2127.3125,-1346.875,-664.61328125,71.21484375,471.81640625,899.861328125,1295.65625,1490.287109375,1593.94140625,1562.744140625,1398.60546875,1297.8056640625,1124.75732421875,889.267578125,748.35205078125,657.55712890625,612.56103515625,528.962646484375,453.84033203125,332.07373046875,264.3197021484375,220.422607421875,213.729248046875,184.71728515625,175.6859130859375,138.93060302734375,106.01470947265625,90.54147338867188,61.57342529296875,53.144500732421875,46.32472229003906,41.94020080566406,30.048538208007812,20.534454345703125,12.78570556640625,2.1161270141601562,5.43658447265625,6.5022735595703125,0.6737442016601562,-3.1883926391601562,-5.491558074951172,-2.3350753784179688,1.3911724090576172,0.22699737548828125,-0.4995841979980469,2.108473777770996,0.02742290496826172,-0.391357421875,-0.36651039123535156,-1.4029264450073242,0.09365200996398926,0.08402001857757568,0.06745237112045288,-0.956937849521637,-0.956937849521637,-0.956937849521637,-0.4784689247608185,-0.4784689247608185,0.0,0.0,0.0,0.0,0.0],\"type\":\"scatter\",\"xaxis\":\"x\",\"yaxis\":\"y\"},{\"line\":{\"color\":\"rgb(255, 144, 14)\",\"width\":1},\"name\":\"over\",\"x\":[0.5,0.515,0.53,0.545,0.56,0.575,0.59,0.605,0.62,0.635,0.65,0.665,0.6799999999999999,0.6950000000000001,0.71,0.725,0.74,0.755,0.77,0.7849999999999999,0.8,0.815,0.83,0.845,0.86,0.875,0.89,0.905,0.9199999999999999,0.935,0.95,0.965,0.98,0.995,1.01,1.025,1.04,1.055,1.0699999999999998,1.085,1.1,1.115,1.13,1.145,1.16,1.1749999999999998,1.19,1.205,1.22,1.2349999999999999,1.25,1.2650000000000001,1.28,1.295,1.31,1.325,1.3399999999999999,1.355,1.37,1.385,1.4,1.415,1.43,1.4449999999999998,1.46,1.475,1.49,1.505,1.52,1.535,1.55,1.565,1.58,1.595,1.6099999999999999,1.625,1.64,1.655,1.67,1.685,1.7,1.7149999999999999,1.73,1.7449999999999999,1.76,1.775,1.79,1.805,1.8199999999999998,1.835,1.8499999999999999,1.865,1.88,1.895,1.91,1.925,1.94,1.9549999999999998,1.97,1.9849999999999999,2.0],\"y\":[-6429.79296875,-6429.79296875,-6429.79296875,-6429.79296875,-6429.79296875,-6429.79296875,-6429.79296875,-6429.79296875,-6429.79296875,-6429.79296875,-6429.79296875,-6429.79296875,-6429.79296875,-6429.79296875,-6429.79296875,-6429.79296875,-6429.79296875,-6429.79296875,-6429.79296875,-6429.79296875,-6429.79296875,-6429.79296875,-6429.79296875,-6429.79296875,-6429.79296875,-6429.79296875,-6429.79296875,-6429.79296875,-6434.18359375,-6438.4140625,-6220.1953125,-5619.078125,-4874.43359375,-4157.56640625,-3429.5234375,-2739.876953125,-2130.916015625,-1586.5078125,-1223.2421875,-882.185546875,-510.87890625,-126.591796875,116.8447265625,298.111328125,487.98779296875,560.669921875,553.33984375,479.244384765625,426.17529296875,377.14501953125,299.3797607421875,223.3079833984375,185.4036865234375,170.844970703125,176.176025390625,150.9404296875,135.15008544921875,106.78897094726562,93.18093872070312,81.29972839355469,72.85472106933594,65.35330200195312,56.63212966918945,47.34560775756836,32.79106521606445,25.1549015045166,13.48391342163086,9.097963333129883,6.979275703430176,4.886035919189453,4.946737766265869,5.089641571044922,1.8781931400299072,0.015205860137939453,-0.06521034240722656,-0.6246817111968994,-1.7607145309448242,-0.42105263471603394,-0.42105263471603394,-0.42105263471603394,0.0,0.0,0.0,0.0,0.0,0.0,0.0,0.0,0.0,0.0,0.0,0.0,0.0,0.0,0.0,0.0,0.0,0.0,0.0,0.0,0.0],\"type\":\"scatter\",\"xaxis\":\"x\",\"yaxis\":\"y\"},{\"line\":{\"color\":\"rgb(44, 160, 101)\",\"width\":1},\"name\":\"under\",\"x\":[0.5,0.515,0.53,0.545,0.56,0.575,0.59,0.605,0.62,0.635,0.65,0.665,0.6799999999999999,0.6950000000000001,0.71,0.725,0.74,0.755,0.77,0.7849999999999999,0.8,0.815,0.83,0.845,0.86,0.875,0.89,0.905,0.9199999999999999,0.935,0.95,0.965,0.98,0.995,1.01,1.025,1.04,1.055,1.0699999999999998,1.085,1.1,1.115,1.13,1.145,1.16,1.1749999999999998,1.19,1.205,1.22,1.2349999999999999,1.25,1.2650000000000001,1.28,1.295,1.31,1.325,1.3399999999999999,1.355,1.37,1.385,1.4,1.415,1.43,1.4449999999999998,1.46,1.475,1.49,1.505,1.52,1.535,1.55,1.565,1.58,1.595,1.6099999999999999,1.625,1.64,1.655,1.67,1.685,1.7,1.7149999999999999,1.73,1.7449999999999999,1.76,1.775,1.79,1.805,1.8199999999999998,1.835,1.8499999999999999,1.865,1.88,1.895,1.91,1.925,1.94,1.9549999999999998,1.97,1.9849999999999999,2.0],\"y\":[-3857.5546875,-3857.5546875,-3857.5546875,-3857.5546875,-3857.5546875,-3857.5546875,-3857.5546875,-3857.5546875,-3857.5546875,-3857.5546875,-3857.5546875,-3857.5546875,-3857.5546875,-3857.5546875,-3857.5546875,-3857.5546875,-3857.5546875,-3857.5546875,-3857.5546875,-3857.5546875,-3857.5546875,-3857.5546875,-3857.5546875,-3857.5546875,-3857.5546875,-3857.5546875,-3857.5546875,-3857.5546875,-3852.546875,-3844.890625,-3743.2265625,-3228.16015625,-2766.0546875,-2392.1171875,-2180.4296875,-1902.1015625,-1571.86328125,-1248.416015625,-904.072265625,-464.69140625,-153.728515625,197.806640625,354.966796875,601.7490234375,807.66796875,929.615234375,1040.6015625,1083.5009765625,972.4296875,920.6611328125,825.3779296875,665.95947265625,562.9482421875,486.71240234375,436.384765625,378.02197265625,318.690185546875,225.2845458984375,171.1387939453125,139.1229248046875,140.8746337890625,119.364013671875,119.0538330078125,91.5849609375,73.22366333007812,65.38653564453125,48.0894775390625,44.0465087890625,39.345428466796875,37.054168701171875,25.101806640625,15.444778442382812,10.907501220703125,2.100921630859375,5.501792907714844,7.126953125,2.434459686279297,-2.7673377990722656,-5.070503234863281,-1.9140243530273438,1.3911724090576172,0.22699737548828125,-0.4995841979980469,2.108473777770996,0.02742290496826172,-0.391357421875,-0.36651039123535156,-1.4029264450073242,0.09365200996398926,0.08402001857757568,0.06745237112045288,-0.956937849521637,-0.956937849521637,-0.956937849521637,-0.4784689247608185,-0.4784689247608185,0.0,0.0,0.0,0.0,0.0],\"type\":\"scatter\",\"xaxis\":\"x\",\"yaxis\":\"y\"},{\"line\":{\"color\":\"rgb(93, 164, 214)\",\"width\":4},\"name\":\"all\",\"x\":[0.5,0.515,0.53,0.545,0.56,0.575,0.59,0.605,0.62,0.635,0.65,0.665,0.6799999999999999,0.6950000000000001,0.71,0.725,0.74,0.755,0.77,0.7849999999999999,0.8,0.815,0.83,0.845,0.86,0.875,0.89,0.905,0.9199999999999999,0.935,0.95,0.965,0.98,0.995,1.01,1.025,1.04,1.055,1.0699999999999998,1.085,1.1,1.115,1.13,1.145,1.16,1.1749999999999998,1.19,1.205,1.22,1.2349999999999999,1.25,1.2650000000000001,1.28,1.295,1.31,1.325,1.3399999999999999,1.355,1.37,1.385,1.4,1.415,1.43,1.4449999999999998,1.46,1.475,1.49,1.505,1.52,1.535,1.55,1.565,1.58,1.595,1.6099999999999999,1.625,1.64,1.655,1.67,1.685,1.7,1.7149999999999999,1.73,1.7449999999999999,1.76,1.775,1.79,1.805,1.8199999999999998,1.835,1.8499999999999999,1.865,1.88,1.895,1.91,1.925,1.94,1.9549999999999998,1.97,1.9849999999999999,2.0],\"y\":[-10287.34375,-10287.34375,-10287.34375,-10287.34375,-10287.34375,-10287.34375,-10287.34375,-10287.34375,-10287.34375,-10287.34375,-10287.34375,-10287.34375,-10287.34375,-10287.34375,-10287.34375,-10287.34375,-10287.34375,-10287.34375,-10287.34375,-10287.34375,-10287.34375,-10287.34375,-10287.34375,-10287.34375,-10287.34375,-10287.34375,-10287.34375,-10287.34375,-10286.75,-10283.296875,-9963.4140625,-8847.234375,-7640.515625,-6549.6875,-5609.953125,-4641.9921875,-3702.7734375,-2834.921875,-2127.3125,-1346.875,-664.61328125,71.21484375,471.81640625,899.861328125,1295.65625,1490.287109375,1593.94140625,1562.744140625,1398.60546875,1297.8056640625,1124.75732421875,889.267578125,748.35205078125,657.55712890625,612.56103515625,528.962646484375,453.84033203125,332.07373046875,264.3197021484375,220.422607421875,213.729248046875,184.71728515625,175.6859130859375,138.93060302734375,106.01470947265625,90.54147338867188,61.57342529296875,53.144500732421875,46.32472229003906,41.94020080566406,30.048538208007812,20.534454345703125,12.78570556640625,2.1161270141601562,5.43658447265625,6.5022735595703125,0.6737442016601562,-3.1883926391601562,-5.491558074951172,-2.3350753784179688,1.3911724090576172,0.22699737548828125,-0.4995841979980469,2.108473777770996,0.02742290496826172,-0.391357421875,-0.36651039123535156,-1.4029264450073242,0.09365200996398926,0.08402001857757568,0.06745237112045288,-0.956937849521637,-0.956937849521637,-0.956937849521637,-0.4784689247608185,-0.4784689247608185,0.0,0.0,0.0,0.0,0.0],\"type\":\"scatter\",\"xaxis\":\"x2\",\"yaxis\":\"y2\"},{\"line\":{\"color\":\"rgb(255, 144, 14)\",\"width\":1},\"name\":\"over\",\"x\":[0.5,0.515,0.53,0.545,0.56,0.575,0.59,0.605,0.62,0.635,0.65,0.665,0.6799999999999999,0.6950000000000001,0.71,0.725,0.74,0.755,0.77,0.7849999999999999,0.8,0.815,0.83,0.845,0.86,0.875,0.89,0.905,0.9199999999999999,0.935,0.95,0.965,0.98,0.995,1.01,1.025,1.04,1.055,1.0699999999999998,1.085,1.1,1.115,1.13,1.145,1.16,1.1749999999999998,1.19,1.205,1.22,1.2349999999999999,1.25,1.2650000000000001,1.28,1.295,1.31,1.325,1.3399999999999999,1.355,1.37,1.385,1.4,1.415,1.43,1.4449999999999998,1.46,1.475,1.49,1.505,1.52,1.535,1.55,1.565,1.58,1.595,1.6099999999999999,1.625,1.64,1.655,1.67,1.685,1.7,1.7149999999999999,1.73,1.7449999999999999,1.76,1.775,1.79,1.805,1.8199999999999998,1.835,1.8499999999999999,1.865,1.88,1.895,1.91,1.925,1.94,1.9549999999999998,1.97,1.9849999999999999,2.0],\"y\":[-6429.79296875,-6429.79296875,-6429.79296875,-6429.79296875,-6429.79296875,-6429.79296875,-6429.79296875,-6429.79296875,-6429.79296875,-6429.79296875,-6429.79296875,-6429.79296875,-6429.79296875,-6429.79296875,-6429.79296875,-6429.79296875,-6429.79296875,-6429.79296875,-6429.79296875,-6429.79296875,-6429.79296875,-6429.79296875,-6429.79296875,-6429.79296875,-6429.79296875,-6429.79296875,-6429.79296875,-6429.79296875,-6434.18359375,-6438.4140625,-6220.1953125,-5619.078125,-4874.43359375,-4157.56640625,-3429.5234375,-2739.876953125,-2130.916015625,-1586.5078125,-1223.2421875,-882.185546875,-510.87890625,-126.591796875,116.8447265625,298.111328125,487.98779296875,560.669921875,553.33984375,479.244384765625,426.17529296875,377.14501953125,299.3797607421875,223.3079833984375,185.4036865234375,170.844970703125,176.176025390625,150.9404296875,135.15008544921875,106.78897094726562,93.18093872070312,81.29972839355469,72.85472106933594,65.35330200195312,56.63212966918945,47.34560775756836,32.79106521606445,25.1549015045166,13.48391342163086,9.097963333129883,6.979275703430176,4.886035919189453,4.946737766265869,5.089641571044922,1.8781931400299072,0.015205860137939453,-0.06521034240722656,-0.6246817111968994,-1.7607145309448242,-0.42105263471603394,-0.42105263471603394,-0.42105263471603394,0.0,0.0,0.0,0.0,0.0,0.0,0.0,0.0,0.0,0.0,0.0,0.0,0.0,0.0,0.0,0.0,0.0,0.0,0.0,0.0,0.0],\"type\":\"scatter\",\"xaxis\":\"x2\",\"yaxis\":\"y2\"},{\"line\":{\"color\":\"rgb(44, 160, 101)\",\"width\":1},\"name\":\"under\",\"x\":[0.5,0.515,0.53,0.545,0.56,0.575,0.59,0.605,0.62,0.635,0.65,0.665,0.6799999999999999,0.6950000000000001,0.71,0.725,0.74,0.755,0.77,0.7849999999999999,0.8,0.815,0.83,0.845,0.86,0.875,0.89,0.905,0.9199999999999999,0.935,0.95,0.965,0.98,0.995,1.01,1.025,1.04,1.055,1.0699999999999998,1.085,1.1,1.115,1.13,1.145,1.16,1.1749999999999998,1.19,1.205,1.22,1.2349999999999999,1.25,1.2650000000000001,1.28,1.295,1.31,1.325,1.3399999999999999,1.355,1.37,1.385,1.4,1.415,1.43,1.4449999999999998,1.46,1.475,1.49,1.505,1.52,1.535,1.55,1.565,1.58,1.595,1.6099999999999999,1.625,1.64,1.655,1.67,1.685,1.7,1.7149999999999999,1.73,1.7449999999999999,1.76,1.775,1.79,1.805,1.8199999999999998,1.835,1.8499999999999999,1.865,1.88,1.895,1.91,1.925,1.94,1.9549999999999998,1.97,1.9849999999999999,2.0],\"y\":[-3857.5546875,-3857.5546875,-3857.5546875,-3857.5546875,-3857.5546875,-3857.5546875,-3857.5546875,-3857.5546875,-3857.5546875,-3857.5546875,-3857.5546875,-3857.5546875,-3857.5546875,-3857.5546875,-3857.5546875,-3857.5546875,-3857.5546875,-3857.5546875,-3857.5546875,-3857.5546875,-3857.5546875,-3857.5546875,-3857.5546875,-3857.5546875,-3857.5546875,-3857.5546875,-3857.5546875,-3857.5546875,-3852.546875,-3844.890625,-3743.2265625,-3228.16015625,-2766.0546875,-2392.1171875,-2180.4296875,-1902.1015625,-1571.86328125,-1248.416015625,-904.072265625,-464.69140625,-153.728515625,197.806640625,354.966796875,601.7490234375,807.66796875,929.615234375,1040.6015625,1083.5009765625,972.4296875,920.6611328125,825.3779296875,665.95947265625,562.9482421875,486.71240234375,436.384765625,378.02197265625,318.690185546875,225.2845458984375,171.1387939453125,139.1229248046875,140.8746337890625,119.364013671875,119.0538330078125,91.5849609375,73.22366333007812,65.38653564453125,48.0894775390625,44.0465087890625,39.345428466796875,37.054168701171875,25.101806640625,15.444778442382812,10.907501220703125,2.100921630859375,5.501792907714844,7.126953125,2.434459686279297,-2.7673377990722656,-5.070503234863281,-1.9140243530273438,1.3911724090576172,0.22699737548828125,-0.4995841979980469,2.108473777770996,0.02742290496826172,-0.391357421875,-0.36651039123535156,-1.4029264450073242,0.09365200996398926,0.08402001857757568,0.06745237112045288,-0.956937849521637,-0.956937849521637,-0.956937849521637,-0.4784689247608185,-0.4784689247608185,0.0,0.0,0.0,0.0,0.0],\"type\":\"scatter\",\"xaxis\":\"x2\",\"yaxis\":\"y2\"},{\"line\":{\"color\":\"rgb(93, 164, 214)\",\"width\":4},\"name\":\"all\",\"x\":[0.5,0.515,0.53,0.545,0.56,0.575,0.59,0.605,0.62,0.635,0.65,0.665,0.6799999999999999,0.6950000000000001,0.71,0.725,0.74,0.755,0.77,0.7849999999999999,0.8,0.815,0.83,0.845,0.86,0.875,0.89,0.905,0.9199999999999999,0.935,0.95,0.965,0.98,0.995,1.01,1.025,1.04,1.055,1.0699999999999998,1.085,1.1,1.115,1.13,1.145,1.16,1.1749999999999998,1.19,1.205,1.22,1.2349999999999999,1.25,1.2650000000000001,1.28,1.295,1.31,1.325,1.3399999999999999,1.355,1.37,1.385,1.4,1.415,1.43,1.4449999999999998,1.46,1.475,1.49,1.505,1.52,1.535,1.55,1.565,1.58,1.595,1.6099999999999999,1.625,1.64,1.655,1.67,1.685,1.7,1.7149999999999999,1.73,1.7449999999999999,1.76,1.775,1.79,1.805,1.8199999999999998,1.835,1.8499999999999999,1.865,1.88,1.895,1.91,1.925,1.94,1.9549999999999998,1.97,1.9849999999999999,2.0],\"y\":[-42958.5,-42958.5,-42958.5,-42958.5,-42958.5,-42958.5,-42958.5,-42958.5,-42958.5,-42958.5,-42958.5,-42958.5,-42958.5,-42958.5,-42958.5,-42958.5,-42958.5,-42958.5,-42958.5,-42958.5,-42958.5,-42958.5,-42958.5,-42958.5,-42958.5,-42958.5,-42958.5,-42958.5,-42936.0,-42764.4375,-40587.1875,-33722.0,-26741.8125,-20113.1875,-13926.6875,-7364.625,-2205.5,2450.9375,5956.09375,8637.5,10847.28125,12133.71875,12594.296875,12937.046875,12871.890625,12436.234375,11920.671875,11206.90625,10479.703125,9809.4921875,9126.0078125,8318.171875,7668.4140625,7094.265625,6567.90234375,5894.09375,5401.828125,4911.787109375,4538.48046875,4080.8681640625,3596.494140625,3179.6123046875,2871.908203125,2531.1591796875,2268.5859375,2039.43212890625,1830.46630859375,1651.58154296875,1460.56005859375,1316.427001953125,1172.2216796875,1030.71923828125,903.7005615234375,778.599609375,702.3175048828125,588.38037109375,514.198486328125,437.12261962890625,385.80084228515625,331.304443359375,282.47369384765625,245.75701904296875,212.79400634765625,196.83380126953125,178.87396240234375,157.44580078125,134.0789794921875,121.72834777832031,95.21150207519531,78.67391967773438,61.61297607421875,54.28619384765625,45.52049255371094,40.000152587890625,27.111576080322266,26.587390899658203,21.805233001708984,21.476295471191406,15.019526481628418,7.921744346618652,4.817720890045166],\"type\":\"scatter\",\"xaxis\":\"x3\",\"yaxis\":\"y3\"},{\"line\":{\"color\":\"rgb(255, 144, 14)\",\"width\":1},\"name\":\"over\",\"x\":[0.5,0.515,0.53,0.545,0.56,0.575,0.59,0.605,0.62,0.635,0.65,0.665,0.6799999999999999,0.6950000000000001,0.71,0.725,0.74,0.755,0.77,0.7849999999999999,0.8,0.815,0.83,0.845,0.86,0.875,0.89,0.905,0.9199999999999999,0.935,0.95,0.965,0.98,0.995,1.01,1.025,1.04,1.055,1.0699999999999998,1.085,1.1,1.115,1.13,1.145,1.16,1.1749999999999998,1.19,1.205,1.22,1.2349999999999999,1.25,1.2650000000000001,1.28,1.295,1.31,1.325,1.3399999999999999,1.355,1.37,1.385,1.4,1.415,1.43,1.4449999999999998,1.46,1.475,1.49,1.505,1.52,1.535,1.55,1.565,1.58,1.595,1.6099999999999999,1.625,1.64,1.655,1.67,1.685,1.7,1.7149999999999999,1.73,1.7449999999999999,1.76,1.775,1.79,1.805,1.8199999999999998,1.835,1.8499999999999999,1.865,1.88,1.895,1.91,1.925,1.94,1.9549999999999998,1.97,1.9849999999999999,2.0],\"y\":[-56121.03125,-56121.03125,-56121.03125,-56121.03125,-56121.03125,-56121.03125,-56121.03125,-56121.03125,-56121.03125,-56121.03125,-56121.03125,-56121.03125,-56121.03125,-56121.03125,-56121.03125,-56121.03125,-56121.03125,-56121.03125,-56121.03125,-56121.03125,-56121.03125,-56121.03125,-56121.03125,-56121.03125,-56121.03125,-56121.03125,-56121.03125,-56121.03125,-56105.09375,-56005.96875,-53884.09375,-47729.21875,-41684.8125,-36178.78125,-30776.96875,-25180.40625,-20489.234375,-16065.28125,-12115.421875,-9040.703125,-6194.375,-3986.953125,-2578.140625,-1266.171875,-422.63671875,29.796875,385.03515625,462.40234375,455.03125,506.681640625,650.287109375,638.9521484375,573.4462890625,581.384765625,526.203125,532.2392578125,454.761962890625,395.31298828125,346.5556640625,263.8724365234375,204.944580078125,170.6778564453125,117.98870849609375,101.30133056640625,81.06640625,61.91253662109375,48.6229248046875,31.287155151367188,9.991928100585938,10.102752685546875,13.063507080078125,9.964736938476562,1.6072006225585938,-2.9270477294921875,-6.588520050048828,-3.8468894958496094,-1.6819782257080078,-3.272388458251953,-1.4790287017822266,0.6192855834960938,-0.6831374168395996,-0.448087215423584,-0.4945354461669922,-1.2351548671722412,-0.335712194442749,0.984082818031311,0.40513527393341064,0.26736021041870117,0.7240952253341675,0.1587301790714264,0.5555555820465088,0.5555555820465088,0.5555555820465088,0.0,0.0,0.0,0.0,0.0,0.0,0.0,0.0],\"type\":\"scatter\",\"xaxis\":\"x3\",\"yaxis\":\"y3\"},{\"line\":{\"color\":\"rgb(44, 160, 101)\",\"width\":1},\"name\":\"under\",\"x\":[0.5,0.515,0.53,0.545,0.56,0.575,0.59,0.605,0.62,0.635,0.65,0.665,0.6799999999999999,0.6950000000000001,0.71,0.725,0.74,0.755,0.77,0.7849999999999999,0.8,0.815,0.83,0.845,0.86,0.875,0.89,0.905,0.9199999999999999,0.935,0.95,0.965,0.98,0.995,1.01,1.025,1.04,1.055,1.0699999999999998,1.085,1.1,1.115,1.13,1.145,1.16,1.1749999999999998,1.19,1.205,1.22,1.2349999999999999,1.25,1.2650000000000001,1.28,1.295,1.31,1.325,1.3399999999999999,1.355,1.37,1.385,1.4,1.415,1.43,1.4449999999999998,1.46,1.475,1.49,1.505,1.52,1.535,1.55,1.565,1.58,1.595,1.6099999999999999,1.625,1.64,1.655,1.67,1.685,1.7,1.7149999999999999,1.73,1.7449999999999999,1.76,1.775,1.79,1.805,1.8199999999999998,1.835,1.8499999999999999,1.865,1.88,1.895,1.91,1.925,1.94,1.9549999999999998,1.97,1.9849999999999999,2.0],\"y\":[13162.5625,13162.5625,13162.5625,13162.5625,13162.5625,13162.5625,13162.5625,13162.5625,13162.5625,13162.5625,13162.5625,13162.5625,13162.5625,13162.5625,13162.5625,13162.5625,13162.5625,13162.5625,13162.5625,13162.5625,13162.5625,13162.5625,13162.5625,13162.5625,13162.5625,13162.5625,13162.5625,13162.5625,13168.8125,13242.125,13296.4375,14007.21875,14942.6875,16065.5625,16850.25,17815.75,18284.0,18516.21875,18071.40625,17678.21875,17041.6875,16120.78125,15172.421875,14203.25,13294.5703125,12406.3984375,11535.6171875,10744.4765625,10024.6796875,9302.8125,8475.73046875,7679.21875,7094.96484375,6512.88671875,6041.6953125,5361.859375,4947.068359375,4516.47265625,4191.92578125,3816.998046875,3391.548828125,3008.93359375,2753.919921875,2429.8583984375,2187.51953125,1977.51904296875,1781.84375,1620.294677734375,1450.568359375,1306.32421875,1159.157958984375,1020.754638671875,902.093505859375,781.5262451171875,708.9061279296875,592.22705078125,515.88037109375,440.39501953125,387.2799072265625,330.685302734375,283.1568603515625,246.20510864257812,213.28851318359375,198.06900024414062,179.20962524414062,156.46173095703125,133.67379760742188,121.46096801757812,94.4874267578125,78.51519775390625,61.05741882324219,53.73063659667969,44.96495056152344,40.000152587890625,27.111576080322266,26.587390899658203,21.805233001708984,21.476295471191406,15.019526481628418,7.921744346618652,4.817720890045166],\"type\":\"scatter\",\"xaxis\":\"x3\",\"yaxis\":\"y3\"}],                        {\"template\":{\"data\":{\"histogram2dcontour\":[{\"type\":\"histogram2dcontour\",\"colorbar\":{\"outlinewidth\":0,\"ticks\":\"\"},\"colorscale\":[[0.0,\"#0d0887\"],[0.1111111111111111,\"#46039f\"],[0.2222222222222222,\"#7201a8\"],[0.3333333333333333,\"#9c179e\"],[0.4444444444444444,\"#bd3786\"],[0.5555555555555556,\"#d8576b\"],[0.6666666666666666,\"#ed7953\"],[0.7777777777777778,\"#fb9f3a\"],[0.8888888888888888,\"#fdca26\"],[1.0,\"#f0f921\"]]}],\"choropleth\":[{\"type\":\"choropleth\",\"colorbar\":{\"outlinewidth\":0,\"ticks\":\"\"}}],\"histogram2d\":[{\"type\":\"histogram2d\",\"colorbar\":{\"outlinewidth\":0,\"ticks\":\"\"},\"colorscale\":[[0.0,\"#0d0887\"],[0.1111111111111111,\"#46039f\"],[0.2222222222222222,\"#7201a8\"],[0.3333333333333333,\"#9c179e\"],[0.4444444444444444,\"#bd3786\"],[0.5555555555555556,\"#d8576b\"],[0.6666666666666666,\"#ed7953\"],[0.7777777777777778,\"#fb9f3a\"],[0.8888888888888888,\"#fdca26\"],[1.0,\"#f0f921\"]]}],\"heatmap\":[{\"type\":\"heatmap\",\"colorbar\":{\"outlinewidth\":0,\"ticks\":\"\"},\"colorscale\":[[0.0,\"#0d0887\"],[0.1111111111111111,\"#46039f\"],[0.2222222222222222,\"#7201a8\"],[0.3333333333333333,\"#9c179e\"],[0.4444444444444444,\"#bd3786\"],[0.5555555555555556,\"#d8576b\"],[0.6666666666666666,\"#ed7953\"],[0.7777777777777778,\"#fb9f3a\"],[0.8888888888888888,\"#fdca26\"],[1.0,\"#f0f921\"]]}],\"heatmapgl\":[{\"type\":\"heatmapgl\",\"colorbar\":{\"outlinewidth\":0,\"ticks\":\"\"},\"colorscale\":[[0.0,\"#0d0887\"],[0.1111111111111111,\"#46039f\"],[0.2222222222222222,\"#7201a8\"],[0.3333333333333333,\"#9c179e\"],[0.4444444444444444,\"#bd3786\"],[0.5555555555555556,\"#d8576b\"],[0.6666666666666666,\"#ed7953\"],[0.7777777777777778,\"#fb9f3a\"],[0.8888888888888888,\"#fdca26\"],[1.0,\"#f0f921\"]]}],\"contourcarpet\":[{\"type\":\"contourcarpet\",\"colorbar\":{\"outlinewidth\":0,\"ticks\":\"\"}}],\"contour\":[{\"type\":\"contour\",\"colorbar\":{\"outlinewidth\":0,\"ticks\":\"\"},\"colorscale\":[[0.0,\"#0d0887\"],[0.1111111111111111,\"#46039f\"],[0.2222222222222222,\"#7201a8\"],[0.3333333333333333,\"#9c179e\"],[0.4444444444444444,\"#bd3786\"],[0.5555555555555556,\"#d8576b\"],[0.6666666666666666,\"#ed7953\"],[0.7777777777777778,\"#fb9f3a\"],[0.8888888888888888,\"#fdca26\"],[1.0,\"#f0f921\"]]}],\"surface\":[{\"type\":\"surface\",\"colorbar\":{\"outlinewidth\":0,\"ticks\":\"\"},\"colorscale\":[[0.0,\"#0d0887\"],[0.1111111111111111,\"#46039f\"],[0.2222222222222222,\"#7201a8\"],[0.3333333333333333,\"#9c179e\"],[0.4444444444444444,\"#bd3786\"],[0.5555555555555556,\"#d8576b\"],[0.6666666666666666,\"#ed7953\"],[0.7777777777777778,\"#fb9f3a\"],[0.8888888888888888,\"#fdca26\"],[1.0,\"#f0f921\"]]}],\"mesh3d\":[{\"type\":\"mesh3d\",\"colorbar\":{\"outlinewidth\":0,\"ticks\":\"\"}}],\"scatter\":[{\"fillpattern\":{\"fillmode\":\"overlay\",\"size\":10,\"solidity\":0.2},\"type\":\"scatter\"}],\"parcoords\":[{\"type\":\"parcoords\",\"line\":{\"colorbar\":{\"outlinewidth\":0,\"ticks\":\"\"}}}],\"scatterpolargl\":[{\"type\":\"scatterpolargl\",\"marker\":{\"colorbar\":{\"outlinewidth\":0,\"ticks\":\"\"}}}],\"bar\":[{\"error_x\":{\"color\":\"#2a3f5f\"},\"error_y\":{\"color\":\"#2a3f5f\"},\"marker\":{\"line\":{\"color\":\"#E5ECF6\",\"width\":0.5},\"pattern\":{\"fillmode\":\"overlay\",\"size\":10,\"solidity\":0.2}},\"type\":\"bar\"}],\"scattergeo\":[{\"type\":\"scattergeo\",\"marker\":{\"colorbar\":{\"outlinewidth\":0,\"ticks\":\"\"}}}],\"scatterpolar\":[{\"type\":\"scatterpolar\",\"marker\":{\"colorbar\":{\"outlinewidth\":0,\"ticks\":\"\"}}}],\"histogram\":[{\"marker\":{\"pattern\":{\"fillmode\":\"overlay\",\"size\":10,\"solidity\":0.2}},\"type\":\"histogram\"}],\"scattergl\":[{\"type\":\"scattergl\",\"marker\":{\"colorbar\":{\"outlinewidth\":0,\"ticks\":\"\"}}}],\"scatter3d\":[{\"type\":\"scatter3d\",\"line\":{\"colorbar\":{\"outlinewidth\":0,\"ticks\":\"\"}},\"marker\":{\"colorbar\":{\"outlinewidth\":0,\"ticks\":\"\"}}}],\"scattermapbox\":[{\"type\":\"scattermapbox\",\"marker\":{\"colorbar\":{\"outlinewidth\":0,\"ticks\":\"\"}}}],\"scatterternary\":[{\"type\":\"scatterternary\",\"marker\":{\"colorbar\":{\"outlinewidth\":0,\"ticks\":\"\"}}}],\"scattercarpet\":[{\"type\":\"scattercarpet\",\"marker\":{\"colorbar\":{\"outlinewidth\":0,\"ticks\":\"\"}}}],\"carpet\":[{\"aaxis\":{\"endlinecolor\":\"#2a3f5f\",\"gridcolor\":\"white\",\"linecolor\":\"white\",\"minorgridcolor\":\"white\",\"startlinecolor\":\"#2a3f5f\"},\"baxis\":{\"endlinecolor\":\"#2a3f5f\",\"gridcolor\":\"white\",\"linecolor\":\"white\",\"minorgridcolor\":\"white\",\"startlinecolor\":\"#2a3f5f\"},\"type\":\"carpet\"}],\"table\":[{\"cells\":{\"fill\":{\"color\":\"#EBF0F8\"},\"line\":{\"color\":\"white\"}},\"header\":{\"fill\":{\"color\":\"#C8D4E3\"},\"line\":{\"color\":\"white\"}},\"type\":\"table\"}],\"barpolar\":[{\"marker\":{\"line\":{\"color\":\"#E5ECF6\",\"width\":0.5},\"pattern\":{\"fillmode\":\"overlay\",\"size\":10,\"solidity\":0.2}},\"type\":\"barpolar\"}],\"pie\":[{\"automargin\":true,\"type\":\"pie\"}]},\"layout\":{\"autotypenumbers\":\"strict\",\"colorway\":[\"#636efa\",\"#EF553B\",\"#00cc96\",\"#ab63fa\",\"#FFA15A\",\"#19d3f3\",\"#FF6692\",\"#B6E880\",\"#FF97FF\",\"#FECB52\"],\"font\":{\"color\":\"#2a3f5f\"},\"hovermode\":\"closest\",\"hoverlabel\":{\"align\":\"left\"},\"paper_bgcolor\":\"white\",\"plot_bgcolor\":\"#E5ECF6\",\"polar\":{\"bgcolor\":\"#E5ECF6\",\"angularaxis\":{\"gridcolor\":\"white\",\"linecolor\":\"white\",\"ticks\":\"\"},\"radialaxis\":{\"gridcolor\":\"white\",\"linecolor\":\"white\",\"ticks\":\"\"}},\"ternary\":{\"bgcolor\":\"#E5ECF6\",\"aaxis\":{\"gridcolor\":\"white\",\"linecolor\":\"white\",\"ticks\":\"\"},\"baxis\":{\"gridcolor\":\"white\",\"linecolor\":\"white\",\"ticks\":\"\"},\"caxis\":{\"gridcolor\":\"white\",\"linecolor\":\"white\",\"ticks\":\"\"}},\"coloraxis\":{\"colorbar\":{\"outlinewidth\":0,\"ticks\":\"\"}},\"colorscale\":{\"sequential\":[[0.0,\"#0d0887\"],[0.1111111111111111,\"#46039f\"],[0.2222222222222222,\"#7201a8\"],[0.3333333333333333,\"#9c179e\"],[0.4444444444444444,\"#bd3786\"],[0.5555555555555556,\"#d8576b\"],[0.6666666666666666,\"#ed7953\"],[0.7777777777777778,\"#fb9f3a\"],[0.8888888888888888,\"#fdca26\"],[1.0,\"#f0f921\"]],\"sequentialminus\":[[0.0,\"#0d0887\"],[0.1111111111111111,\"#46039f\"],[0.2222222222222222,\"#7201a8\"],[0.3333333333333333,\"#9c179e\"],[0.4444444444444444,\"#bd3786\"],[0.5555555555555556,\"#d8576b\"],[0.6666666666666666,\"#ed7953\"],[0.7777777777777778,\"#fb9f3a\"],[0.8888888888888888,\"#fdca26\"],[1.0,\"#f0f921\"]],\"diverging\":[[0,\"#8e0152\"],[0.1,\"#c51b7d\"],[0.2,\"#de77ae\"],[0.3,\"#f1b6da\"],[0.4,\"#fde0ef\"],[0.5,\"#f7f7f7\"],[0.6,\"#e6f5d0\"],[0.7,\"#b8e186\"],[0.8,\"#7fbc41\"],[0.9,\"#4d9221\"],[1,\"#276419\"]]},\"xaxis\":{\"gridcolor\":\"white\",\"linecolor\":\"white\",\"ticks\":\"\",\"title\":{\"standoff\":15},\"zerolinecolor\":\"white\",\"automargin\":true,\"zerolinewidth\":2},\"yaxis\":{\"gridcolor\":\"white\",\"linecolor\":\"white\",\"ticks\":\"\",\"title\":{\"standoff\":15},\"zerolinecolor\":\"white\",\"automargin\":true,\"zerolinewidth\":2},\"scene\":{\"xaxis\":{\"backgroundcolor\":\"#E5ECF6\",\"gridcolor\":\"white\",\"linecolor\":\"white\",\"showbackground\":true,\"ticks\":\"\",\"zerolinecolor\":\"white\",\"gridwidth\":2},\"yaxis\":{\"backgroundcolor\":\"#E5ECF6\",\"gridcolor\":\"white\",\"linecolor\":\"white\",\"showbackground\":true,\"ticks\":\"\",\"zerolinecolor\":\"white\",\"gridwidth\":2},\"zaxis\":{\"backgroundcolor\":\"#E5ECF6\",\"gridcolor\":\"white\",\"linecolor\":\"white\",\"showbackground\":true,\"ticks\":\"\",\"zerolinecolor\":\"white\",\"gridwidth\":2}},\"shapedefaults\":{\"line\":{\"color\":\"#2a3f5f\"}},\"annotationdefaults\":{\"arrowcolor\":\"#2a3f5f\",\"arrowhead\":0,\"arrowwidth\":1},\"geo\":{\"bgcolor\":\"white\",\"landcolor\":\"#E5ECF6\",\"subunitcolor\":\"white\",\"showland\":true,\"showlakes\":true,\"lakecolor\":\"white\"},\"title\":{\"x\":0.05},\"mapbox\":{\"style\":\"light\"}}},\"xaxis\":{\"anchor\":\"y\",\"domain\":[0.0,1.0],\"matches\":\"x3\",\"showticklabels\":false},\"yaxis\":{\"anchor\":\"x\",\"domain\":[0.68,1.0],\"rangemode\":\"nonnegative\"},\"xaxis2\":{\"anchor\":\"y2\",\"domain\":[0.0,1.0],\"matches\":\"x3\",\"showticklabels\":false},\"yaxis2\":{\"anchor\":\"x2\",\"domain\":[0.34,0.66],\"rangemode\":\"nonnegative\"},\"xaxis3\":{\"anchor\":\"y3\",\"domain\":[0.0,1.0]},\"yaxis3\":{\"anchor\":\"x3\",\"domain\":[0.0,0.32],\"rangemode\":\"nonnegative\"},\"annotations\":[{\"font\":{\"size\":16},\"showarrow\":false,\"text\":\"holdout\",\"x\":0.5,\"xanchor\":\"center\",\"xref\":\"paper\",\"y\":1.0,\"yanchor\":\"bottom\",\"yref\":\"paper\"},{\"font\":{\"size\":16},\"showarrow\":false,\"text\":\"test\",\"x\":0.5,\"xanchor\":\"center\",\"xref\":\"paper\",\"y\":0.66,\"yanchor\":\"bottom\",\"yref\":\"paper\"},{\"font\":{\"size\":16},\"showarrow\":false,\"text\":\"train\",\"x\":0.5,\"xanchor\":\"center\",\"xref\":\"paper\",\"y\":0.32,\"yanchor\":\"bottom\",\"yref\":\"paper\"}],\"title\":{\"text\":\"Total profit validation\"},\"height\":800,\"width\":900},                        {\"responsive\": true}                    ).then(function(){\n",
              "                            \n",
              "var gd = document.getElementById('d2f2ce8d-f46d-4cc5-8f15-ed31308c7b52');\n",
              "var x = new MutationObserver(function (mutations, observer) {{\n",
              "        var display = window.getComputedStyle(gd).display;\n",
              "        if (!display || display === 'none') {{\n",
              "            console.log([gd, 'removed!']);\n",
              "            Plotly.purge(gd);\n",
              "            observer.disconnect();\n",
              "        }}\n",
              "}});\n",
              "\n",
              "// Listen for the removal of the full notebook cells\n",
              "var notebookContainer = gd.closest('#notebook-container');\n",
              "if (notebookContainer) {{\n",
              "    x.observe(notebookContainer, {childList: true});\n",
              "}}\n",
              "\n",
              "// Listen for the clearing of the current output cell\n",
              "var outputEl = gd.closest('.output');\n",
              "if (outputEl) {{\n",
              "    x.observe(outputEl, {childList: true});\n",
              "}}\n",
              "\n",
              "                        })                };                            </script>        </div>\n",
              "</body>\n",
              "</html>"
            ]
          },
          "metadata": {}
        }
      ]
    },
    {
      "cell_type": "code",
      "source": [
        "description_dict = {\n",
        "    'kfold_splits':kfold_splits,\n",
        "    'data_version':'football_live_main_part_npz_230510/',\n",
        "    'data_version_upd':'football_live_upd_230510/'\n",
        "}"
      ],
      "metadata": {
        "id": "HT-WIinR4k1N"
      },
      "execution_count": 4,
      "outputs": []
    },
    {
      "cell_type": "code",
      "source": [
        "reg_num = 2\n",
        "model_version = neptune.init_model_version(\n",
        "    model = f'FOOT-LIVEBST{reg_num}',\n",
        "    project = 'scomesse/football',\n",
        "    api_token = api_key # your credentials\n",
        ")\n",
        "model_sys = model_version['sys'].fetch()"
      ],
      "metadata": {
        "colab": {
          "base_uri": "https://localhost:8080/"
        },
        "id": "6gjjPFEu4oIz",
        "outputId": "4f240376-3368-4d83-9146-3ba24e494969"
      },
      "execution_count": 12,
      "outputs": [
        {
          "output_type": "stream",
          "name": "stdout",
          "text": [
            "https://app.neptune.ai/scomesse/football/m/FOOT-LIVEBST2/v/FOOT-LIVEBST2-6\n"
          ]
        }
      ]
    },
    {
      "cell_type": "code",
      "source": [
        "print(model_sys)"
      ],
      "metadata": {
        "colab": {
          "base_uri": "https://localhost:8080/"
        },
        "id": "0LwOmAde6axv",
        "outputId": "750026e9-c871-43cb-c67a-12f78e14d2e9"
      },
      "execution_count": 13,
      "outputs": [
        {
          "output_type": "stream",
          "name": "stdout",
          "text": [
            "{'creation_time': datetime.datetime(2023, 5, 19, 14, 58, 59, 601000, tzinfo=tzlocal()), 'id': 'FOOT-LIVEBST2-6', 'model_id': 'FOOT-LIVEBST2', 'modification_time': datetime.datetime(2023, 5, 19, 14, 58, 59, 601000, tzinfo=tzlocal()), 'monitoring_time': 0, 'owner': 'scomesse', 'ping_time': datetime.datetime(2023, 5, 19, 14, 58, 59, 601000, tzinfo=tzlocal()), 'running_time': 0.0, 'size': 0.0, 'stage': 'none', 'state': 'running', 'trashed': False}\n"
          ]
        }
      ]
    },
    {
      "cell_type": "code",
      "source": [
        "model_version_params = dict(\n",
        "    project = 'scomesse/football',\n",
        "    model = model_sys['model_id'],\n",
        "    api_token = api_key,\n",
        "    with_id = model_sys['id']\n",
        ")\n",
        "model_version = neptune.init_model_version(**model_version_params)\n",
        "for kfold_num in range(kfold_splits):\n",
        "    model_version[f'/models/model_reg{reg_num}_{kfold_num}'].upload(f'./models/booster_reg{reg_num}_{kfold_num}.model')\n",
        "model_version[f'/model_reg{reg_num}_parameters'] = stringify_unsupported(cparams)\n",
        "model_version[f'/model_reg{reg_num}_description'] = stringify_unsupported(description_dict)\n",
        "model_version.stop()"
      ],
      "metadata": {
        "colab": {
          "base_uri": "https://localhost:8080/"
        },
        "id": "kXeUDFD85Qzd",
        "outputId": "1dc30de7-b74e-47d3-e892-90f1b6a69b2b"
      },
      "execution_count": 32,
      "outputs": [
        {
          "output_type": "stream",
          "name": "stdout",
          "text": [
            "https://app.neptune.ai/scomesse/football/m/FOOT-LIVEBST2/v/FOOT-LIVEBST2-5\n",
            "Shutting down background jobs, please wait a moment...\n",
            "Done!\n",
            "Waiting for the remaining 15 operations to synchronize with Neptune. Do not kill this process.\n",
            "All 15 operations synced, thanks for waiting!\n",
            "Explore the metadata in the Neptune app:\n",
            "https://app.neptune.ai/scomesse/football/m/FOOT-LIVEBST2/v/FOOT-LIVEBST2-5/metadata\n"
          ]
        }
      ]
    },
    {
      "cell_type": "code",
      "source": [
        "model_version = neptune.init_model_version(**model_version_params)\n",
        "model_version[f'threshold_model_all_fold'].upload(neptune.types.File.as_html(fig))\n",
        "model_version.stop()"
      ],
      "metadata": {
        "colab": {
          "base_uri": "https://localhost:8080/"
        },
        "id": "KbE5YSXn6qDT",
        "outputId": "d8b20dca-5f47-4546-ad74-fc0e4a4a58f6"
      },
      "execution_count": 33,
      "outputs": [
        {
          "output_type": "stream",
          "name": "stdout",
          "text": [
            "https://app.neptune.ai/scomesse/football/m/FOOT-LIVEBST2/v/FOOT-LIVEBST2-5\n",
            "Shutting down background jobs, please wait a moment...\n",
            "Done!\n",
            "Waiting for the remaining 1 operations to synchronize with Neptune. Do not kill this process.\n",
            "All 1 operations synced, thanks for waiting!\n",
            "Explore the metadata in the Neptune app:\n",
            "https://app.neptune.ai/scomesse/football/m/FOOT-LIVEBST2/v/FOOT-LIVEBST2-5/metadata\n"
          ]
        }
      ]
    }
  ]
}