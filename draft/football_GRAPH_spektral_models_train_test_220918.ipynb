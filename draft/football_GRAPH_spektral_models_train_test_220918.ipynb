{
  "nbformat": 4,
  "nbformat_minor": 0,
  "metadata": {
    "colab": {
      "provenance": [],
      "collapsed_sections": [
        "JnoakdYG0WIm",
        "7dEcqW_jH4pw",
        "X69hHEsFix4n",
        "RocnM6a5lPkc"
      ],
      "authorship_tag": "ABX9TyPPsc3oF/8B2tqpY5VJbji8",
      "include_colab_link": true
    },
    "kernelspec": {
      "name": "python3",
      "display_name": "Python 3"
    },
    "language_info": {
      "name": "python"
    }
  },
  "cells": [
    {
      "cell_type": "markdown",
      "metadata": {
        "id": "view-in-github",
        "colab_type": "text"
      },
      "source": [
        "<a href=\"https://colab.research.google.com/github/cappelchi/calcio_notebooks/blob/main/draft/football_GRAPH_spektral_models_train_test_220918.ipynb\" target=\"_parent\"><img src=\"https://colab.research.google.com/assets/colab-badge.svg\" alt=\"Open In Colab\"/></a>"
      ]
    },
    {
      "cell_type": "markdown",
      "source": [
        "### Project config"
      ],
      "metadata": {
        "id": "JnoakdYG0WIm"
      }
    },
    {
      "cell_type": "code",
      "source": [
        "!pip install neptune-client neptune-tensorflow-keras"
      ],
      "metadata": {
        "id": "qJoD3JIX0x58"
      },
      "execution_count": null,
      "outputs": []
    },
    {
      "cell_type": "code",
      "source": [
        "import neptune.new as neptune\n",
        "#from neptune.new.integrations.tensorflow_keras import NeptuneCallback\n",
        "def get_credential(frmwork = 'neptune_team'):\n",
        "    with open('cred_andrey.txt', 'r') as container:\n",
        "        for line in container:\n",
        "            if frmwork in line:\n",
        "                login, psw = line.split(' ')[1], line.split(' ')[2].split('\\n')[0]\n",
        "                return login, psw"
      ],
      "metadata": {
        "id": "O9bCK_dx0QSM"
      },
      "execution_count": null,
      "outputs": []
    },
    {
      "cell_type": "code",
      "source": [
        "#@title Set API key for neptune.ai\n",
        "set_api = True #@param {type:\"boolean\"}\n",
        "if set_api:\n",
        "    username, api_key = get_credential()"
      ],
      "metadata": {
        "id": "oDK6n6CVQidT"
      },
      "execution_count": null,
      "outputs": []
    },
    {
      "cell_type": "markdown",
      "metadata": {
        "id": "7dEcqW_jH4pw"
      },
      "source": [
        "### Installations"
      ]
    },
    {
      "cell_type": "code",
      "source": [
        "!pip install spektral"
      ],
      "metadata": {
        "id": "dP-bo_CB7GgI",
        "colab": {
          "base_uri": "https://localhost:8080/"
        },
        "outputId": "e134d942-7a5f-41bf-827f-582f81fb5d97"
      },
      "execution_count": null,
      "outputs": [
        {
          "output_type": "stream",
          "name": "stdout",
          "text": [
            "Looking in indexes: https://pypi.org/simple, https://us-python.pkg.dev/colab-wheels/public/simple/\n",
            "Collecting spektral\n",
            "  Downloading spektral-1.2.0-py3-none-any.whl (140 kB)\n",
            "\u001b[K     |████████████████████████████████| 140 kB 5.1 MB/s \n",
            "\u001b[?25hRequirement already satisfied: requests in /usr/local/lib/python3.7/dist-packages (from spektral) (2.23.0)\n",
            "Requirement already satisfied: scikit-learn in /usr/local/lib/python3.7/dist-packages (from spektral) (1.0.2)\n",
            "Requirement already satisfied: pandas in /usr/local/lib/python3.7/dist-packages (from spektral) (1.3.5)\n",
            "Requirement already satisfied: tqdm in /usr/local/lib/python3.7/dist-packages (from spektral) (4.64.1)\n",
            "Requirement already satisfied: scipy in /usr/local/lib/python3.7/dist-packages (from spektral) (1.7.3)\n",
            "Requirement already satisfied: numpy in /usr/local/lib/python3.7/dist-packages (from spektral) (1.21.6)\n",
            "Requirement already satisfied: tensorflow>=2.2.0 in /usr/local/lib/python3.7/dist-packages (from spektral) (2.9.2)\n",
            "Requirement already satisfied: lxml in /usr/local/lib/python3.7/dist-packages (from spektral) (4.9.1)\n",
            "Requirement already satisfied: joblib in /usr/local/lib/python3.7/dist-packages (from spektral) (1.2.0)\n",
            "Requirement already satisfied: networkx in /usr/local/lib/python3.7/dist-packages (from spektral) (2.6.3)\n",
            "Requirement already satisfied: protobuf<3.20,>=3.9.2 in /usr/local/lib/python3.7/dist-packages (from tensorflow>=2.2.0->spektral) (3.17.3)\n",
            "Requirement already satisfied: tensorflow-estimator<2.10.0,>=2.9.0rc0 in /usr/local/lib/python3.7/dist-packages (from tensorflow>=2.2.0->spektral) (2.9.0)\n",
            "Requirement already satisfied: packaging in /usr/local/lib/python3.7/dist-packages (from tensorflow>=2.2.0->spektral) (21.3)\n",
            "Requirement already satisfied: absl-py>=1.0.0 in /usr/local/lib/python3.7/dist-packages (from tensorflow>=2.2.0->spektral) (1.3.0)\n",
            "Requirement already satisfied: typing-extensions>=3.6.6 in /usr/local/lib/python3.7/dist-packages (from tensorflow>=2.2.0->spektral) (4.1.1)\n",
            "Requirement already satisfied: wrapt>=1.11.0 in /usr/local/lib/python3.7/dist-packages (from tensorflow>=2.2.0->spektral) (1.14.1)\n",
            "Requirement already satisfied: setuptools in /usr/local/lib/python3.7/dist-packages (from tensorflow>=2.2.0->spektral) (57.4.0)\n",
            "Requirement already satisfied: opt-einsum>=2.3.2 in /usr/local/lib/python3.7/dist-packages (from tensorflow>=2.2.0->spektral) (3.3.0)\n",
            "Requirement already satisfied: tensorboard<2.10,>=2.9 in /usr/local/lib/python3.7/dist-packages (from tensorflow>=2.2.0->spektral) (2.9.1)\n",
            "Requirement already satisfied: termcolor>=1.1.0 in /usr/local/lib/python3.7/dist-packages (from tensorflow>=2.2.0->spektral) (2.0.1)\n",
            "Requirement already satisfied: tensorflow-io-gcs-filesystem>=0.23.1 in /usr/local/lib/python3.7/dist-packages (from tensorflow>=2.2.0->spektral) (0.27.0)\n",
            "Requirement already satisfied: six>=1.12.0 in /usr/local/lib/python3.7/dist-packages (from tensorflow>=2.2.0->spektral) (1.15.0)\n",
            "Requirement already satisfied: h5py>=2.9.0 in /usr/local/lib/python3.7/dist-packages (from tensorflow>=2.2.0->spektral) (3.1.0)\n",
            "Requirement already satisfied: keras-preprocessing>=1.1.1 in /usr/local/lib/python3.7/dist-packages (from tensorflow>=2.2.0->spektral) (1.1.2)\n",
            "Requirement already satisfied: google-pasta>=0.1.1 in /usr/local/lib/python3.7/dist-packages (from tensorflow>=2.2.0->spektral) (0.2.0)\n",
            "Requirement already satisfied: astunparse>=1.6.0 in /usr/local/lib/python3.7/dist-packages (from tensorflow>=2.2.0->spektral) (1.6.3)\n",
            "Requirement already satisfied: grpcio<2.0,>=1.24.3 in /usr/local/lib/python3.7/dist-packages (from tensorflow>=2.2.0->spektral) (1.50.0)\n",
            "Requirement already satisfied: keras<2.10.0,>=2.9.0rc0 in /usr/local/lib/python3.7/dist-packages (from tensorflow>=2.2.0->spektral) (2.9.0)\n",
            "Requirement already satisfied: flatbuffers<2,>=1.12 in /usr/local/lib/python3.7/dist-packages (from tensorflow>=2.2.0->spektral) (1.12)\n",
            "Requirement already satisfied: libclang>=13.0.0 in /usr/local/lib/python3.7/dist-packages (from tensorflow>=2.2.0->spektral) (14.0.6)\n",
            "Requirement already satisfied: gast<=0.4.0,>=0.2.1 in /usr/local/lib/python3.7/dist-packages (from tensorflow>=2.2.0->spektral) (0.4.0)\n",
            "Requirement already satisfied: wheel<1.0,>=0.23.0 in /usr/local/lib/python3.7/dist-packages (from astunparse>=1.6.0->tensorflow>=2.2.0->spektral) (0.37.1)\n",
            "Requirement already satisfied: cached-property in /usr/local/lib/python3.7/dist-packages (from h5py>=2.9.0->tensorflow>=2.2.0->spektral) (1.5.2)\n",
            "Requirement already satisfied: werkzeug>=1.0.1 in /usr/local/lib/python3.7/dist-packages (from tensorboard<2.10,>=2.9->tensorflow>=2.2.0->spektral) (1.0.1)\n",
            "Requirement already satisfied: markdown>=2.6.8 in /usr/local/lib/python3.7/dist-packages (from tensorboard<2.10,>=2.9->tensorflow>=2.2.0->spektral) (3.3.4)\n",
            "Requirement already satisfied: google-auth<3,>=1.6.3 in /usr/local/lib/python3.7/dist-packages (from tensorboard<2.10,>=2.9->tensorflow>=2.2.0->spektral) (1.35.0)\n",
            "Requirement already satisfied: tensorboard-data-server<0.7.0,>=0.6.0 in /usr/local/lib/python3.7/dist-packages (from tensorboard<2.10,>=2.9->tensorflow>=2.2.0->spektral) (0.6.1)\n",
            "Requirement already satisfied: google-auth-oauthlib<0.5,>=0.4.1 in /usr/local/lib/python3.7/dist-packages (from tensorboard<2.10,>=2.9->tensorflow>=2.2.0->spektral) (0.4.6)\n",
            "Requirement already satisfied: tensorboard-plugin-wit>=1.6.0 in /usr/local/lib/python3.7/dist-packages (from tensorboard<2.10,>=2.9->tensorflow>=2.2.0->spektral) (1.8.1)\n",
            "Requirement already satisfied: rsa<5,>=3.1.4 in /usr/local/lib/python3.7/dist-packages (from google-auth<3,>=1.6.3->tensorboard<2.10,>=2.9->tensorflow>=2.2.0->spektral) (4.9)\n",
            "Requirement already satisfied: pyasn1-modules>=0.2.1 in /usr/local/lib/python3.7/dist-packages (from google-auth<3,>=1.6.3->tensorboard<2.10,>=2.9->tensorflow>=2.2.0->spektral) (0.2.8)\n",
            "Requirement already satisfied: cachetools<5.0,>=2.0.0 in /usr/local/lib/python3.7/dist-packages (from google-auth<3,>=1.6.3->tensorboard<2.10,>=2.9->tensorflow>=2.2.0->spektral) (4.2.4)\n",
            "Requirement already satisfied: requests-oauthlib>=0.7.0 in /usr/local/lib/python3.7/dist-packages (from google-auth-oauthlib<0.5,>=0.4.1->tensorboard<2.10,>=2.9->tensorflow>=2.2.0->spektral) (1.3.1)\n",
            "Requirement already satisfied: importlib-metadata in /usr/local/lib/python3.7/dist-packages (from markdown>=2.6.8->tensorboard<2.10,>=2.9->tensorflow>=2.2.0->spektral) (3.10.1)\n",
            "Requirement already satisfied: pyasn1<0.5.0,>=0.4.6 in /usr/local/lib/python3.7/dist-packages (from pyasn1-modules>=0.2.1->google-auth<3,>=1.6.3->tensorboard<2.10,>=2.9->tensorflow>=2.2.0->spektral) (0.4.8)\n",
            "Requirement already satisfied: certifi>=2017.4.17 in /usr/local/lib/python3.7/dist-packages (from requests->spektral) (2022.9.24)\n",
            "Requirement already satisfied: urllib3!=1.25.0,!=1.25.1,<1.26,>=1.21.1 in /usr/local/lib/python3.7/dist-packages (from requests->spektral) (1.25.11)\n",
            "Requirement already satisfied: idna<3,>=2.5 in /usr/local/lib/python3.7/dist-packages (from requests->spektral) (2.10)\n",
            "Requirement already satisfied: chardet<4,>=3.0.2 in /usr/local/lib/python3.7/dist-packages (from requests->spektral) (3.0.4)\n",
            "Requirement already satisfied: oauthlib>=3.0.0 in /usr/local/lib/python3.7/dist-packages (from requests-oauthlib>=0.7.0->google-auth-oauthlib<0.5,>=0.4.1->tensorboard<2.10,>=2.9->tensorflow>=2.2.0->spektral) (3.2.2)\n",
            "Requirement already satisfied: zipp>=0.5 in /usr/local/lib/python3.7/dist-packages (from importlib-metadata->markdown>=2.6.8->tensorboard<2.10,>=2.9->tensorflow>=2.2.0->spektral) (3.10.0)\n",
            "Requirement already satisfied: pyparsing!=3.0.5,>=2.0.2 in /usr/local/lib/python3.7/dist-packages (from packaging->tensorflow>=2.2.0->spektral) (3.0.9)\n",
            "Requirement already satisfied: pytz>=2017.3 in /usr/local/lib/python3.7/dist-packages (from pandas->spektral) (2022.5)\n",
            "Requirement already satisfied: python-dateutil>=2.7.3 in /usr/local/lib/python3.7/dist-packages (from pandas->spektral) (2.8.2)\n",
            "Requirement already satisfied: threadpoolctl>=2.0.0 in /usr/local/lib/python3.7/dist-packages (from scikit-learn->spektral) (3.1.0)\n",
            "Installing collected packages: spektral\n",
            "Successfully installed spektral-1.2.0\n"
          ]
        }
      ]
    },
    {
      "cell_type": "markdown",
      "metadata": {
        "id": "X69hHEsFix4n"
      },
      "source": [
        "### Downloads"
      ]
    },
    {
      "cell_type": "code",
      "source": [
        "data_version = 'data_graph_221019/'\n",
        "validation_dataset_name = './prem_validation.csv'\n",
        "dataset_version = 'data/dataset_val_prod_0818'\n",
        "project = neptune.init_project(\n",
        "    name=\"scomesse/football\", \n",
        "    api_token = api_key\n",
        "    )\n",
        "\n",
        "project[data_version + 'nodes'].download('./nodes.csv.gz')\n",
        "project[data_version + 'edges'].download('./edges.csv.gz')\n",
        "project[data_version + 'edges_rev'].download('./edges_rev.csv.gz')\n",
        "project[data_version + 'conversion'].download('./conversion.csv.gz')\n",
        "project.stop()"
      ],
      "metadata": {
        "colab": {
          "base_uri": "https://localhost:8080/"
        },
        "id": "ccFhlCBt1jw8",
        "outputId": "e2a913ae-c480-463d-dfe4-3a67c25d1adc"
      },
      "execution_count": null,
      "outputs": [
        {
          "output_type": "stream",
          "name": "stdout",
          "text": [
            "https://app.neptune.ai/scomesse/football/\n",
            "Remember to stop your project once you’ve finished logging your metadata (https://docs.neptune.ai/api/project#stop). It will be stopped automatically only when the notebook kernel/interactive console is terminated.\n",
            "Shutting down background jobs, please wait a moment...\n",
            "Done!\n",
            "All 0 operations synced, thanks for waiting!\n",
            "Explore the metadata in the Neptune app:\n",
            "https://app.neptune.ai/scomesse/football/metadata\n"
          ]
        }
      ]
    },
    {
      "cell_type": "markdown",
      "metadata": {
        "id": "RocnM6a5lPkc"
      },
      "source": [
        "### Imports"
      ]
    },
    {
      "cell_type": "code",
      "execution_count": null,
      "metadata": {
        "colab": {
          "base_uri": "https://localhost:8080/"
        },
        "id": "6kyCzUjbzRuA",
        "outputId": "a596a61d-c756-4025-f9c9-02c7163e24b3"
      },
      "outputs": [
        {
          "output_type": "stream",
          "name": "stdout",
          "text": [
            "1.3.5\n",
            "1.21.6\n"
          ]
        }
      ],
      "source": [
        "import pandas as pd\n",
        "import numpy as np\n",
        "pd.options.display.max_columns = 50\n",
        "pd.options.display.max_rows = 100\n",
        "print(pd.__version__)\n",
        "print(np.__version__)\n",
        "import subprocess\n",
        "from tqdm import tqdm\n",
        "from scipy import sparse as sp"
      ]
    },
    {
      "cell_type": "code",
      "execution_count": null,
      "metadata": {
        "id": "XbfhlbNrIf2v"
      },
      "outputs": [],
      "source": [
        "import tensorflow as tf\n",
        "from tensorflow.keras.losses import BinaryCrossentropy, CategoricalCrossentropy"
      ]
    },
    {
      "cell_type": "code",
      "source": [
        "from tensorflow.keras.callbacks import ModelCheckpoint, LearningRateScheduler\n",
        "from tensorflow.keras.layers import Dropout, Input\n",
        "from tensorflow.keras.models import Model, load_model\n",
        "from tensorflow.keras.optimizers import Adam\n",
        "from tensorflow.keras.regularizers import l2"
      ],
      "metadata": {
        "id": "5-uRpl6v6u87"
      },
      "execution_count": null,
      "outputs": []
    },
    {
      "cell_type": "code",
      "source": [
        "from spektral.data.loaders import SingleLoader, DisjointLoader\n",
        "from spektral.datasets.citation import Citation\n",
        "from spektral.layers import GCNConv\n",
        "from spektral.transforms import LayerPreprocess"
      ],
      "metadata": {
        "id": "GJrptVxI76Rp"
      },
      "execution_count": null,
      "outputs": []
    },
    {
      "cell_type": "code",
      "source": [
        "from spektral.data import Dataset, Graph\n",
        "from spektral.transforms.normalize_adj import NormalizeAdj\n",
        "from spektral.layers import ARMAConv\n",
        "from spektral.transforms import LayerPreprocess"
      ],
      "metadata": {
        "id": "6NqujUkhOmrz"
      },
      "execution_count": null,
      "outputs": []
    },
    {
      "cell_type": "markdown",
      "metadata": {
        "id": "umm53OS2Ljgg"
      },
      "source": [
        "### Code"
      ]
    },
    {
      "cell_type": "markdown",
      "source": [
        "##### Functions"
      ],
      "metadata": {
        "id": "mn6-PtdCFbC-"
      }
    },
    {
      "cell_type": "code",
      "source": [
        "def run_bash(bashCommand:str, nameCommand = ''):\n",
        "        process = subprocess.Popen([bashCommand], \n",
        "                           shell=True)\n",
        "        _, error = process.communicate()\n",
        "        if error:\n",
        "            print(f'{nameCommand} error:\\n', error)"
      ],
      "metadata": {
        "id": "WdzqKyRUFaA4"
      },
      "execution_count": null,
      "outputs": []
    },
    {
      "cell_type": "markdown",
      "source": [
        "#####Neural models architectures"
      ],
      "metadata": {
        "id": "BPewaVtkblX3"
      }
    },
    {
      "cell_type": "code",
      "source": [],
      "metadata": {
        "id": "m1LTFaWUXg6p"
      },
      "execution_count": null,
      "outputs": []
    },
    {
      "cell_type": "code",
      "source": [
        "class ARMAConv_net(Model):\n",
        "    '''\n",
        "    This example implements the experiments on citation networks from the paper:\n",
        "    Graph Neural Networks with convolutional ARMA filters (https://arxiv.org/abs/1901.01343)\n",
        "    Filippo Maria Bianchi, Daniele Grattarola, Cesare Alippi, Lorenzo Livi\n",
        "    '''\n",
        "    def __init__(self):\n",
        "        super().__init__()\n",
        "        self.ARMAConv1 = ARMAConv(\n",
        "                params['channels'],\n",
        "                iterations=params['iterations'],\n",
        "                order=params['order'],\n",
        "                share_weights=params['share_weights'],\n",
        "                dropout_rate=params['dropout_skip'],\n",
        "                activation=\"elu\",\n",
        "                gcn_activation=\"elu\",\n",
        "                kernel_regularizer=l2(params['l2_reg'])\n",
        "                        )\n",
        "        self.Dropout = Dropout(params['dropout'])\n",
        "        self.ARMAConv2 = ARMAConv(\n",
        "                params['n_out'],\n",
        "                iterations=1,\n",
        "                order=1,\n",
        "                share_weights=params['share_weights'],\n",
        "                dropout_rate=params['dropout_skip'],\n",
        "                activation=\"sigmoid\",\n",
        "                gcn_activation=None,\n",
        "                kernel_regularizer=l2(params['l2_reg'])\n",
        "                        )        \n",
        "\n",
        "    def call(self, inputs):\n",
        "        x, a = inputs\n",
        "        x1 = self.ARMAConv1([x, a])\n",
        "        x2 = self.Dropout()(x1)\n",
        "        output = self.ARMAConv2([x2, a])\n",
        "        return output"
      ],
      "metadata": {
        "id": "QdKvpyr8WweR"
      },
      "execution_count": null,
      "outputs": []
    },
    {
      "cell_type": "code",
      "source": [
        "class GCNConv_net(Model):\n",
        "    '''\n",
        "    Простая GCNConv архитектура\n",
        "    '''\n",
        "    def __init__(self):\n",
        "        super().__init__()\n",
        "\n",
        "        self.GCNConv = GCNConv(\n",
        "            params['n_out'], \n",
        "            activation = \"sigmoid\", \n",
        "            kernel_regularizer=l2(params['l2_reg']), \n",
        "            use_bias=False)\n",
        "\n",
        "    def call(self, inputs):\n",
        "        x, a = inputs\n",
        "        output = self.GCNConv([x, a])\n",
        "        return output"
      ],
      "metadata": {
        "id": "fZCowhWD0Boi"
      },
      "execution_count": null,
      "outputs": []
    },
    {
      "cell_type": "markdown",
      "source": [
        "#####Training"
      ],
      "metadata": {
        "id": "d2l6l1y60IEz"
      }
    },
    {
      "cell_type": "code",
      "source": [
        "class calcio_graph(Dataset):\n",
        "    def __init__(self, amount = 700_000, left = 0, train = 500_000, validation = 100_000, **kwargs):\n",
        "        self.amount = amount\n",
        "        self.left = left\n",
        "        self.train = train\n",
        "        self.validation = validation\n",
        "        self.mask_tr = self.mask_va = self.mask_te = None\n",
        "        super().__init__(**kwargs)\n",
        "    def read(self):\n",
        "        print('Load nodes...')\n",
        "        x_df = pd.read_csv('./nodes.csv.gz', usecols = [0, 1, 2], header = 0, names = ['idx','feat', 'y'])\n",
        "        lower_slice = -self.left\n",
        "        if self.left == 0:\n",
        "            lower_slice = None            \n",
        "        x_df = x_df.iloc[-self.amount - self.left:lower_slice, :].set_index('idx').sort_index()\n",
        "        x = np.zeros((len(x_df), max(x_df.feat) + 1)).astype(np.float32)\n",
        "        for cnt, feat in enumerate(x_df.feat):\n",
        "            x[cnt, feat] = 1\n",
        "        print('Load edges...')\n",
        "        start_row = x_df.index.min()\n",
        "        end_row = x_df.index.max()\n",
        "        #edges_df = pd.read_csv('./edges.csv.gz')\n",
        "        edges_df = pd.read_csv('./edges_rev.csv.gz')\n",
        "        #edges_df = edges_df[(edges_df.source < self.amount) & (edges_df.target < self.amount)]\n",
        "        edges_df = edges_df[(edges_df.source >= start_row) & \\\n",
        "                            (edges_df.source <= end_row) & \\\n",
        "                            (edges_df.target >= start_row) & \\\n",
        "                            (edges_df.target <= end_row)]\n",
        "        edges_df.source = edges_df.source - start_row\n",
        "        edges_df.target = edges_df.target - start_row\n",
        "        a = sp.csr_matrix((\n",
        "            np.ones(len(edges_df)), \n",
        "            (edges_df.source.values, edges_df.target.values)\n",
        "                            ), shape=None).astype(np.float32)\n",
        "        y = x_df.y.values.reshape(-1,1).astype(np.float32)\n",
        "        self.mask_tr = np.arange(self.amount) < int(self.train)\n",
        "        self.mask_va = (np.arange(self.amount) >= int(self.train)) & \\\n",
        "                        (np.arange(self.amount) < int(self.amount - self.validation))\n",
        "        self.mask_te = np.arange(self.amount) >= int(self.amount - self.validation)\n",
        "        return [Graph(x = x, a = a, y = y)]"
      ],
      "metadata": {
        "id": "LdcMR1-bKY0M"
      },
      "execution_count": null,
      "outputs": []
    },
    {
      "cell_type": "code",
      "source": [
        "class SGCN:\n",
        "    def __init__(self, K):\n",
        "        self.K = K\n",
        "\n",
        "    def __call__(self, graph):\n",
        "        out = graph.a\n",
        "        for _ in range(self.K - 1):\n",
        "            out = out.dot(out)\n",
        "        out.sort_indices()\n",
        "        graph.a = out\n",
        "        return graph"
      ],
      "metadata": {
        "id": "Scl-Qp_zYDk5"
      },
      "execution_count": null,
      "outputs": []
    },
    {
      "cell_type": "code",
      "source": [
        "nodes_amount = 700_000\n",
        "nodes_left = 10_000\n",
        "nodes_start = nodes_amount + nodes_left\n",
        "dataset = calcio_graph(\n",
        "                    amount = nodes_amount,\n",
        "                    left = nodes_left,\n",
        "                    #transforms=[LayerPreprocess(GCNConv)]#, SGCN(K)]\n",
        "                    #transforms=[SGCN(K)]\n",
        "                    #transforms=[LayerPreprocess(GCNConv), AdjToSpTensor()]\n",
        "                    transforms=[LayerPreprocess(ARMAConv)]\n",
        "                    #transforms=[NormalizeAdj()]\n",
        "                    )"
      ],
      "metadata": {
        "colab": {
          "base_uri": "https://localhost:8080/"
        },
        "id": "QOj3rdNVOG56",
        "outputId": "48f4bd77-a133-4beb-bf37-fafe484a6857"
      },
      "execution_count": null,
      "outputs": [
        {
          "output_type": "stream",
          "name": "stdout",
          "text": [
            "Load nodes...\n",
            "Load edges...\n"
          ]
        }
      ]
    },
    {
      "cell_type": "code",
      "source": [
        "dataset[0]"
      ],
      "metadata": {
        "colab": {
          "base_uri": "https://localhost:8080/"
        },
        "id": "qzc35k4-4Ykp",
        "outputId": "75f9aa95-50f8-4d46-bde0-913a4ada6184"
      },
      "execution_count": null,
      "outputs": [
        {
          "output_type": "execute_result",
          "data": {
            "text/plain": [
              "Graph(n_nodes=700000, n_node_features=793, n_edge_features=None, n_labels=1)"
            ]
          },
          "metadata": {},
          "execution_count": 14
        }
      ]
    },
    {
      "cell_type": "code",
      "source": [
        "print(dataset[0].a)"
      ],
      "metadata": {
        "id": "1Cv9vjKZRc3c"
      },
      "execution_count": null,
      "outputs": []
    },
    {
      "cell_type": "code",
      "source": [
        "mask_tr, mask_va, mask_te = dataset.mask_tr, dataset.mask_va, dataset.mask_te"
      ],
      "metadata": {
        "id": "yjZ7gx5WPuyg"
      },
      "execution_count": null,
      "outputs": []
    },
    {
      "cell_type": "code",
      "source": [
        "mask_tr.sum(), mask_va.sum(), mask_te.sum()"
      ],
      "metadata": {
        "colab": {
          "base_uri": "https://localhost:8080/"
        },
        "id": "tQwHEMpBNS_f",
        "outputId": "ef58dd8f-cf78-4a43-c192-a0ca317d3604"
      },
      "execution_count": null,
      "outputs": [
        {
          "output_type": "execute_result",
          "data": {
            "text/plain": [
              "(500000, 100000, 100000)"
            ]
          },
          "metadata": {},
          "execution_count": 12
        }
      ]
    },
    {
      "cell_type": "code",
      "source": [
        "# Parameters\n",
        "params = {}\n",
        "params['l2_reg'] = 5e-5  # L2 regularization rate\n",
        "params['n_out'] = dataset.n_labels\n",
        "#n_out = dataset.n_labels  # Number of classes"
      ],
      "metadata": {
        "id": "oBm-44LAVEEh"
      },
      "execution_count": null,
      "outputs": []
    },
    {
      "cell_type": "code",
      "source": [
        "# Parameters\n",
        "params['channels'] = 16  # Number of channels in the first layer\n",
        "params['iterations'] = 1  # Number of iterations to approximate each ARMA(1)\n",
        "params['order'] = 2  # Order of the ARMA filter (number of parallel stacks)\n",
        "params['share_weights'] = True  # Share weights in each ARMA stack\n",
        "params['dropout_skip'] = 0.75  # Dropout rate for the internal skip connection of ARMA\n",
        "params['dropout'] = 0.5  # Dropout rate for the features\n",
        "params['learning_rate'] = 1e-2  # Learning rate\n",
        "params['epochs'] = 20000  # Number of training epochs\n",
        "params['patience'] = 100  # Patience for early stopping"
      ],
      "metadata": {
        "id": "dA5Fivpfa9Tf"
      },
      "execution_count": null,
      "outputs": []
    },
    {
      "cell_type": "code",
      "source": [
        "params['learning_rate'] = 0.005\n",
        "#learning_rate = 0.005 \n",
        "params.update(\n",
        "    {'compile':{\n",
        "    'optimizer':Adam(learning_rate = params['learning_rate']),\n",
        "    'loss':BinaryCrossentropy(),\n",
        "    'weighted_metrics':[\"acc\"]\n",
        "            }})"
      ],
      "metadata": {
        "id": "-ECggpjRJWDI"
      },
      "execution_count": null,
      "outputs": []
    },
    {
      "cell_type": "code",
      "source": [
        "############################\n",
        "#model = GCNConv_net()\n",
        "#model.compile(\n",
        "#        **params['compile']\n",
        "#                )\n",
        "############################\n",
        "# Build model\n",
        "model = ARMAConv_net()\n",
        "model.compile(\n",
        "        **params['compile']\n",
        "                )"
      ],
      "metadata": {
        "id": "iU-4NDH8Isqu"
      },
      "execution_count": null,
      "outputs": []
    },
    {
      "cell_type": "code",
      "source": [
        "# Train model\n",
        "loader_tr = SingleLoader(dataset, sample_weights=mask_tr)\n",
        "loader_va = SingleLoader(dataset, sample_weights=mask_va)"
      ],
      "metadata": {
        "id": "zob9Vz1XoKVo"
      },
      "execution_count": null,
      "outputs": []
    },
    {
      "cell_type": "code",
      "source": [
        "def scheduler(epoch, lr):\n",
        "    lr_dict = {0:5e-2, 1:4e-2, 2:2e-2, 3:1e-2, 4:8e-3,5:4e-3,6:2e-3,7:1e-3,8:8e-4,9:4e-4, 10:2e-4, 11:1e-4, 12:1e-4}\n",
        "    #lr_dict = {0:1e-5, 1:6e-6, 2:1e-6, 3:9e-7, 4:8e-7,5:7e-7,6:6e-7,7:5e-7,8:4e-7,9:1e-7}\n",
        "    if epoch in lr_dict:\n",
        "        return lr_dict[epoch]\n",
        "    else:\n",
        "        return 1e-4\n",
        "LRS_callback = LearningRateScheduler(scheduler)"
      ],
      "metadata": {
        "id": "Z0xGnUiSrPkt"
      },
      "execution_count": null,
      "outputs": []
    },
    {
      "cell_type": "code",
      "source": [
        "params.update(\n",
        "{'MCh_params':{'filepath':'./models_weights','monitor':'val_acc', 'verbose':1,\n",
        "                   'save_best_only':True, 'save_weights_only':False,\n",
        "                   }})\n",
        "ModelCheckpoint_callback = ModelCheckpoint(**params['MCh_params'])"
      ],
      "metadata": {
        "id": "Aimoiji_rQ7w"
      },
      "execution_count": null,
      "outputs": []
    },
    {
      "cell_type": "code",
      "source": [
        "# Parameters\n",
        "channels = 16  # Number of channels in the first layer\n",
        "iterations = 1  # Number of iterations to approximate each ARMA(1)\n",
        "order = 2  # Order of the ARMA filter (number of parallel stacks)\n",
        "share_weights = True  # Share weights in each ARMA stack\n",
        "dropout_skip = 0.75  # Dropout rate for the internal skip connection of ARMA\n",
        "dropout = 0.5  # Dropout rate for the features\n",
        "l2_reg = 5e-5  # L2 regularization rate\n",
        "learning_rate = 1e-2  # Learning rate\n",
        "epochs = 20000  # Number of training epochs\n",
        "patience = 100  # Patience for early stopping\n",
        "a_dtype = dataset[0].a.dtype  # Only needed for TF 2.1"
      ],
      "metadata": {
        "id": "ECNNj9YtfZbE"
      },
      "execution_count": null,
      "outputs": []
    },
    {
      "cell_type": "code",
      "source": [
        "a_dtype = dataset[0].a.dtype  # Only needed for TF 2.1\n",
        "\n",
        "N = dataset.n_nodes  # Number of nodes in the graph\n",
        "F = dataset.n_node_features  # Original size of node features\n",
        "n_out = dataset.n_labels  # Number of classes\n",
        "\n",
        "# Model definition\n",
        "x_in = Input(shape=(F,))\n",
        "a_in = Input((N,), sparse=True, dtype=a_dtype)\n",
        "\n",
        "gc_1 = ARMAConv(\n",
        "    channels,\n",
        "    iterations=iterations,\n",
        "    order=order,\n",
        "    share_weights=share_weights,\n",
        "    dropout_rate=dropout_skip,\n",
        "    activation=\"elu\",\n",
        "    gcn_activation=\"elu\",\n",
        "    kernel_regularizer=l2(l2_reg),\n",
        ")([x_in, a_in])\n",
        "gc_2 = Dropout(dropout)(gc_1)\n",
        "gc_2 = ARMAConv(\n",
        "    n_out,\n",
        "    iterations=1,\n",
        "    order=1,\n",
        "    share_weights=share_weights,\n",
        "    dropout_rate=dropout_skip,\n",
        "    activation=\"sigmoid\",\n",
        "    gcn_activation=None,\n",
        "    kernel_regularizer=l2(l2_reg),\n",
        ")([gc_2, a_in])\n"
      ],
      "metadata": {
        "id": "HeFjNff6fTJa"
      },
      "execution_count": null,
      "outputs": []
    },
    {
      "cell_type": "code",
      "source": [
        "# Build model\n",
        "model = Model(inputs=[x_in, a_in], outputs=gc_2)\n",
        "optimizer = Adam(learning_rate=learning_rate)\n",
        "model.compile(\n",
        "    optimizer=optimizer, loss=BinaryCrossentropy(), weighted_metrics=[\"acc\"]\n",
        ")\n",
        "model.summary()"
      ],
      "metadata": {
        "colab": {
          "base_uri": "https://localhost:8080/"
        },
        "id": "rKDhYSTLfmTF",
        "outputId": "8630d9bb-bbda-4a01-ab94-665be26585c5"
      },
      "execution_count": null,
      "outputs": [
        {
          "output_type": "stream",
          "name": "stdout",
          "text": [
            "Model: \"model\"\n",
            "__________________________________________________________________________________________________\n",
            " Layer (type)                   Output Shape         Param #     Connected to                     \n",
            "==================================================================================================\n",
            " input_1 (InputLayer)           [(None, 793)]        0           []                               \n",
            "                                                                                                  \n",
            " input_2 (InputLayer)           [(None, 700000)]     0           []                               \n",
            "                                                                                                  \n",
            " arma_conv (ARMAConv)           (None, 16)           50784       ['input_1[0][0]',                \n",
            "                                                                  'input_2[0][0]']                \n",
            "                                                                                                  \n",
            " dropout (Dropout)              (None, 16)           0           ['arma_conv[0][0]']              \n",
            "                                                                                                  \n",
            " arma_conv_1 (ARMAConv)         (None, 1)            33          ['dropout[0][0]',                \n",
            "                                                                  'input_2[0][0]']                \n",
            "                                                                                                  \n",
            "==================================================================================================\n",
            "Total params: 50,817\n",
            "Trainable params: 50,817\n",
            "Non-trainable params: 0\n",
            "__________________________________________________________________________________________________\n"
          ]
        }
      ]
    },
    {
      "cell_type": "code",
      "source": [
        "epochs = 2\n",
        "history = model.fit(\n",
        "    loader_tr.load(),\n",
        "    steps_per_epoch=loader_tr.steps_per_epoch,\n",
        "    validation_data=loader_va.load(),\n",
        "    validation_steps=loader_va.steps_per_epoch,\n",
        "    epochs=epochs,\n",
        "    #callbacks=[\n",
        "        #EarlyStopping(patience=patience, restore_best_weights=True),\n",
        "        #ModelCheckpoint_callback,\n",
        "        #LRS_callback\n",
        "        #],\n",
        ")"
      ],
      "metadata": {
        "colab": {
          "base_uri": "https://localhost:8080/"
        },
        "id": "JDWUhb2VoAHQ",
        "outputId": "d80276e6-7f53-4090-8529-564164cbf33a"
      },
      "execution_count": null,
      "outputs": [
        {
          "output_type": "stream",
          "name": "stdout",
          "text": [
            "Epoch 1/2\n",
            "1/1 [==============================] - 14s 14s/step - loss: 0.4918 - acc: 0.5510 - val_loss: 0.0996 - val_acc: 0.5436\n",
            "Epoch 2/2\n",
            "1/1 [==============================] - 13s 13s/step - loss: 0.4917 - acc: 0.5508 - val_loss: 0.0996 - val_acc: 0.5432\n"
          ]
        }
      ]
    },
    {
      "cell_type": "code",
      "source": [
        "PATH_TO_MODEL = './model.tar.gz'\n",
        "bashCommand = f\"\"\"\n",
        "tar -zxvf {PATH_TO_MODEL}\n",
        "\"\"\"\n",
        "run_bash(bashCommand, 'tar_model')"
      ],
      "metadata": {
        "id": "tkNbIL2iI70w"
      },
      "execution_count": null,
      "outputs": []
    },
    {
      "cell_type": "code",
      "source": [
        "model = load_model('./models_weights')"
      ],
      "metadata": {
        "id": "1_xasLBOJFCF"
      },
      "execution_count": null,
      "outputs": []
    },
    {
      "cell_type": "code",
      "source": [
        "eval_results = model.evaluate(loader_tr.load(), steps=loader_tr.steps_per_epoch)\n",
        "print(\"Done.\\n\" \"Val loss: {}\\n\" \"Val accuracy: {}\".format(*eval_results))\n",
        "eval_results = model.evaluate(loader_va.load(), steps=loader_va.steps_per_epoch)\n",
        "print(\"Done.\\n\" \"Val loss: {}\\n\" \"Val accuracy: {}\".format(*eval_results))"
      ],
      "metadata": {
        "colab": {
          "base_uri": "https://localhost:8080/"
        },
        "id": "MoB2LWGRyU2w",
        "outputId": "06eba878-71b7-4c36-91ae-6331f292ce07"
      },
      "execution_count": null,
      "outputs": [
        {
          "output_type": "stream",
          "name": "stdout",
          "text": [
            "1/1 [==============================] - 4s 4s/step - loss: 0.4904 - acc: 0.5598\n",
            "Done.\n",
            "Val loss: 0.4904237985610962\n",
            "Val accuracy: 0.5597839951515198\n",
            "1/1 [==============================] - 4s 4s/step - loss: 0.0996 - acc: 0.5432\n",
            "Done.\n",
            "Val loss: 0.09960535913705826\n",
            "Val accuracy: 0.543150007724762\n"
          ]
        }
      ]
    },
    {
      "cell_type": "code",
      "source": [
        "# Evaluate model\n",
        "print(\"Evaluating model.\")\n",
        "loader_te = SingleLoader(dataset, sample_weights=mask_te)\n",
        "eval_results = model.evaluate(loader_te.load(), steps=loader_te.steps_per_epoch)\n",
        "print(\"Done.\\n\" \"Test loss: {}\\n\" \"Test accuracy: {}\".format(*eval_results))"
      ],
      "metadata": {
        "colab": {
          "base_uri": "https://localhost:8080/"
        },
        "id": "ejrSzctpyUyS",
        "outputId": "a8377880-6e52-42a5-c44f-f7406eb5ebc0"
      },
      "execution_count": null,
      "outputs": [
        {
          "output_type": "stream",
          "name": "stdout",
          "text": [
            "Evaluating model.\n",
            "1/1 [==============================] - 4s 4s/step - loss: 0.0993 - acc: 0.5528\n",
            "Done.\n",
            "Test loss: 0.09933696687221527\n",
            "Test accuracy: 0.5528200268745422\n"
          ]
        }
      ]
    },
    {
      "cell_type": "code",
      "source": [
        "predict_production = model.predict(loader_tr.load(), steps=loader_tr.steps_per_epoch)"
      ],
      "metadata": {
        "colab": {
          "base_uri": "https://localhost:8080/"
        },
        "id": "5-4ee9Rlmbwa",
        "outputId": "5d221d7b-9c0c-4fde-e421-cac941b558f6"
      },
      "execution_count": null,
      "outputs": [
        {
          "output_type": "stream",
          "name": "stdout",
          "text": [
            "1/1 [==============================] - 4s 4s/step\n"
          ]
        }
      ]
    },
    {
      "cell_type": "code",
      "source": [
        "print('nodes_start = ', nodes_start, 'nodes_left = ', nodes_left)\n",
        "nodes_df = pd.read_csv(\n",
        "    './nodes.csv.gz', \n",
        "    usecols = [0, 2, 6], \n",
        "    header = 0, \n",
        "    names = ['idx', 'y', 'match_id']\n",
        "    ).iloc[-nodes_start:-nodes_left, :].set_index('idx').sort_index()"
      ],
      "metadata": {
        "colab": {
          "base_uri": "https://localhost:8080/"
        },
        "id": "bWGNlD8vnk-g",
        "outputId": "9b32930c-4f4f-4c41-b466-33c0c335f9b8"
      },
      "execution_count": null,
      "outputs": [
        {
          "output_type": "stream",
          "name": "stdout",
          "text": [
            "nodes_start =  710000 nodes_left =  10000\n"
          ]
        }
      ]
    },
    {
      "cell_type": "code",
      "source": [
        "mask_tr_match = mask_tr[::2]\n",
        "mask_va_match = mask_va[::2]\n",
        "mask_te_match = mask_te[::2]"
      ],
      "metadata": {
        "id": "8MfkrQoXpKD_"
      },
      "execution_count": null,
      "outputs": []
    },
    {
      "cell_type": "code",
      "source": [
        "predict_df = pd.DataFrame(columns = ['home', 'not_home'])\n",
        "predict_df['home'] = nodes_df.y.values[::2]\n",
        "predict_df['not_home'] = nodes_df.y.values[1::2]\n",
        "predict_df['pred_home'] = predict_production[::2]\n",
        "predict_df['pred_not_home'] = predict_production[1::2]\n",
        "predict_df['result'] = (predict_df['pred_home'] > predict_df['pred_not_home']).astype(int)"
      ],
      "metadata": {
        "id": "4jy-InlHoUEr"
      },
      "execution_count": null,
      "outputs": []
    },
    {
      "cell_type": "code",
      "source": [
        "train_wins = (predict_df['home'] == predict_df['result'])[mask_tr_match].sum()\n",
        "val_wins = (predict_df['home'] == predict_df['result'])[mask_va_match].sum()\n",
        "test_wins = (predict_df['home'] == predict_df['result'])[mask_te_match].sum()\n",
        "last_day_wins = (predict_df['home'] == predict_df['result'])[-1000:].sum()\n",
        "print('Train wins: ', train_wins, ' ',  round(train_wins / mask_tr_match.sum(), 2), '%')\n",
        "print('Val wins: ', val_wins, ' ',  round(val_wins / mask_va_match.sum(), 2), '%')\n",
        "print('Test wins: ', test_wins, ' ',  round(test_wins / mask_te_match.sum(), 2), '%')\n",
        "print('Last day wins: ', last_day_wins, ' ',  round(last_day_wins / 1000, 2), '%')"
      ],
      "metadata": {
        "colab": {
          "base_uri": "https://localhost:8080/"
        },
        "id": "vIDVKghOosQc",
        "outputId": "7f339374-a011-4cb6-a947-25960c353fc1"
      },
      "execution_count": null,
      "outputs": [
        {
          "output_type": "stream",
          "name": "stdout",
          "text": [
            "Train wins:  140611   0.56 %\n",
            "Val wins:  27175   0.54 %\n",
            "Test wins:  27907   0.56 %\n",
            "Last day wins:  563   0.56 %\n"
          ]
        }
      ]
    },
    {
      "cell_type": "code",
      "source": [
        "last_day_wins = (predict_df['home'] == predict_df['result'])[-5000:].sum()\n",
        "print('Last day wins: ', last_day_wins, ' ',  round(last_day_wins / 5000, 2), '%')"
      ],
      "metadata": {
        "colab": {
          "base_uri": "https://localhost:8080/"
        },
        "id": "u7mwTFPhOWOh",
        "outputId": "d273e2dc-5b97-4366-862d-74471f275edf"
      },
      "execution_count": null,
      "outputs": [
        {
          "output_type": "stream",
          "name": "stdout",
          "text": [
            "Last day wins:  2754   0.55 %\n"
          ]
        }
      ]
    },
    {
      "cell_type": "code",
      "source": [
        "predict_df.tail(50)"
      ],
      "metadata": {
        "colab": {
          "base_uri": "https://localhost:8080/",
          "height": 1000
        },
        "id": "l-vklsMwoDK7",
        "outputId": "f14facaf-5fdf-4bb9-9175-a59e373920de"
      },
      "execution_count": null,
      "outputs": [
        {
          "output_type": "execute_result",
          "data": {
            "text/plain": [
              "        home  not_home  pred_home  pred_not_home  result\n",
              "349950     0         1   0.460829       0.572726       0\n",
              "349951     1         0   0.431599       0.556822       0\n",
              "349952     1         0   0.461068       0.559404       0\n",
              "349953     1         0   0.469211       0.532149       0\n",
              "349954     1         0   0.480084       0.519506       0\n",
              "349955     1         0   0.472737       0.536153       0\n",
              "349956     0         1   0.487741       0.509877       0\n",
              "349957     1         0   0.461005       0.549776       0\n",
              "349958     1         0   0.486183       0.559036       0\n",
              "349959     1         0   0.523636       0.523059       1\n",
              "349960     1         0   0.498112       0.518197       0\n",
              "349961     0         1   0.441306       0.497993       0\n",
              "349962     0         1   0.407696       0.544182       0\n",
              "349963     0         1   0.476776       0.494439       0\n",
              "349964     0         1   0.501218       0.541607       0\n",
              "349965     0         1   0.483353       0.547334       0\n",
              "349966     0         1   0.455227       0.562025       0\n",
              "349967     0         1   0.483821       0.533391       0\n",
              "349968     0         1   0.478241       0.501984       0\n",
              "349969     1         0   0.441397       0.503129       0\n",
              "349970     0         1   0.461443       0.534329       0\n",
              "349971     0         1   0.458007       0.581228       0\n",
              "349972     0         1   0.424376       0.545659       0\n",
              "349973     1         0   0.496732       0.500847       0\n",
              "349974     0         1   0.490769       0.501660       0\n",
              "349975     0         1   0.455561       0.569757       0\n",
              "349976     0         1   0.418876       0.531799       0\n",
              "349977     1         0   0.478413       0.519869       0\n",
              "349978     1         0   0.506506       0.532782       0\n",
              "349979     1         0   0.459340       0.573518       0\n",
              "349980     0         1   0.457135       0.532406       0\n",
              "349981     1         0   0.462056       0.535698       0\n",
              "349982     1         0   0.432624       0.542312       0\n",
              "349983     1         0   0.483496       0.540994       0\n",
              "349984     1         0   0.427363       0.499233       0\n",
              "349985     1         0   0.497830       0.531572       0\n",
              "349986     1         0   0.466296       0.547240       0\n",
              "349987     0         1   0.431982       0.538197       0\n",
              "349988     0         1   0.479981       0.530084       0\n",
              "349989     0         1   0.453179       0.538594       0\n",
              "349990     0         1   0.481249       0.540518       0\n",
              "349991     0         1   0.481495       0.538632       0\n",
              "349992     1         0   0.420667       0.534588       0\n",
              "349993     0         1   0.494400       0.544629       0\n",
              "349994     1         0   0.462763       0.523969       0\n",
              "349995     1         0   0.440182       0.520655       0\n",
              "349996     1         0   0.471955       0.589331       0\n",
              "349997     0         1   0.521023       0.452700       1\n",
              "349998     1         0   0.433209       0.547240       0\n",
              "349999     1         0   0.492178       0.500820       0"
            ],
            "text/html": [
              "\n",
              "  <div id=\"df-2fd0ec29-68da-4cda-8a67-038086b51221\">\n",
              "    <div class=\"colab-df-container\">\n",
              "      <div>\n",
              "<style scoped>\n",
              "    .dataframe tbody tr th:only-of-type {\n",
              "        vertical-align: middle;\n",
              "    }\n",
              "\n",
              "    .dataframe tbody tr th {\n",
              "        vertical-align: top;\n",
              "    }\n",
              "\n",
              "    .dataframe thead th {\n",
              "        text-align: right;\n",
              "    }\n",
              "</style>\n",
              "<table border=\"1\" class=\"dataframe\">\n",
              "  <thead>\n",
              "    <tr style=\"text-align: right;\">\n",
              "      <th></th>\n",
              "      <th>home</th>\n",
              "      <th>not_home</th>\n",
              "      <th>pred_home</th>\n",
              "      <th>pred_not_home</th>\n",
              "      <th>result</th>\n",
              "    </tr>\n",
              "  </thead>\n",
              "  <tbody>\n",
              "    <tr>\n",
              "      <th>349950</th>\n",
              "      <td>0</td>\n",
              "      <td>1</td>\n",
              "      <td>0.460829</td>\n",
              "      <td>0.572726</td>\n",
              "      <td>0</td>\n",
              "    </tr>\n",
              "    <tr>\n",
              "      <th>349951</th>\n",
              "      <td>1</td>\n",
              "      <td>0</td>\n",
              "      <td>0.431599</td>\n",
              "      <td>0.556822</td>\n",
              "      <td>0</td>\n",
              "    </tr>\n",
              "    <tr>\n",
              "      <th>349952</th>\n",
              "      <td>1</td>\n",
              "      <td>0</td>\n",
              "      <td>0.461068</td>\n",
              "      <td>0.559404</td>\n",
              "      <td>0</td>\n",
              "    </tr>\n",
              "    <tr>\n",
              "      <th>349953</th>\n",
              "      <td>1</td>\n",
              "      <td>0</td>\n",
              "      <td>0.469211</td>\n",
              "      <td>0.532149</td>\n",
              "      <td>0</td>\n",
              "    </tr>\n",
              "    <tr>\n",
              "      <th>349954</th>\n",
              "      <td>1</td>\n",
              "      <td>0</td>\n",
              "      <td>0.480084</td>\n",
              "      <td>0.519506</td>\n",
              "      <td>0</td>\n",
              "    </tr>\n",
              "    <tr>\n",
              "      <th>349955</th>\n",
              "      <td>1</td>\n",
              "      <td>0</td>\n",
              "      <td>0.472737</td>\n",
              "      <td>0.536153</td>\n",
              "      <td>0</td>\n",
              "    </tr>\n",
              "    <tr>\n",
              "      <th>349956</th>\n",
              "      <td>0</td>\n",
              "      <td>1</td>\n",
              "      <td>0.487741</td>\n",
              "      <td>0.509877</td>\n",
              "      <td>0</td>\n",
              "    </tr>\n",
              "    <tr>\n",
              "      <th>349957</th>\n",
              "      <td>1</td>\n",
              "      <td>0</td>\n",
              "      <td>0.461005</td>\n",
              "      <td>0.549776</td>\n",
              "      <td>0</td>\n",
              "    </tr>\n",
              "    <tr>\n",
              "      <th>349958</th>\n",
              "      <td>1</td>\n",
              "      <td>0</td>\n",
              "      <td>0.486183</td>\n",
              "      <td>0.559036</td>\n",
              "      <td>0</td>\n",
              "    </tr>\n",
              "    <tr>\n",
              "      <th>349959</th>\n",
              "      <td>1</td>\n",
              "      <td>0</td>\n",
              "      <td>0.523636</td>\n",
              "      <td>0.523059</td>\n",
              "      <td>1</td>\n",
              "    </tr>\n",
              "    <tr>\n",
              "      <th>349960</th>\n",
              "      <td>1</td>\n",
              "      <td>0</td>\n",
              "      <td>0.498112</td>\n",
              "      <td>0.518197</td>\n",
              "      <td>0</td>\n",
              "    </tr>\n",
              "    <tr>\n",
              "      <th>349961</th>\n",
              "      <td>0</td>\n",
              "      <td>1</td>\n",
              "      <td>0.441306</td>\n",
              "      <td>0.497993</td>\n",
              "      <td>0</td>\n",
              "    </tr>\n",
              "    <tr>\n",
              "      <th>349962</th>\n",
              "      <td>0</td>\n",
              "      <td>1</td>\n",
              "      <td>0.407696</td>\n",
              "      <td>0.544182</td>\n",
              "      <td>0</td>\n",
              "    </tr>\n",
              "    <tr>\n",
              "      <th>349963</th>\n",
              "      <td>0</td>\n",
              "      <td>1</td>\n",
              "      <td>0.476776</td>\n",
              "      <td>0.494439</td>\n",
              "      <td>0</td>\n",
              "    </tr>\n",
              "    <tr>\n",
              "      <th>349964</th>\n",
              "      <td>0</td>\n",
              "      <td>1</td>\n",
              "      <td>0.501218</td>\n",
              "      <td>0.541607</td>\n",
              "      <td>0</td>\n",
              "    </tr>\n",
              "    <tr>\n",
              "      <th>349965</th>\n",
              "      <td>0</td>\n",
              "      <td>1</td>\n",
              "      <td>0.483353</td>\n",
              "      <td>0.547334</td>\n",
              "      <td>0</td>\n",
              "    </tr>\n",
              "    <tr>\n",
              "      <th>349966</th>\n",
              "      <td>0</td>\n",
              "      <td>1</td>\n",
              "      <td>0.455227</td>\n",
              "      <td>0.562025</td>\n",
              "      <td>0</td>\n",
              "    </tr>\n",
              "    <tr>\n",
              "      <th>349967</th>\n",
              "      <td>0</td>\n",
              "      <td>1</td>\n",
              "      <td>0.483821</td>\n",
              "      <td>0.533391</td>\n",
              "      <td>0</td>\n",
              "    </tr>\n",
              "    <tr>\n",
              "      <th>349968</th>\n",
              "      <td>0</td>\n",
              "      <td>1</td>\n",
              "      <td>0.478241</td>\n",
              "      <td>0.501984</td>\n",
              "      <td>0</td>\n",
              "    </tr>\n",
              "    <tr>\n",
              "      <th>349969</th>\n",
              "      <td>1</td>\n",
              "      <td>0</td>\n",
              "      <td>0.441397</td>\n",
              "      <td>0.503129</td>\n",
              "      <td>0</td>\n",
              "    </tr>\n",
              "    <tr>\n",
              "      <th>349970</th>\n",
              "      <td>0</td>\n",
              "      <td>1</td>\n",
              "      <td>0.461443</td>\n",
              "      <td>0.534329</td>\n",
              "      <td>0</td>\n",
              "    </tr>\n",
              "    <tr>\n",
              "      <th>349971</th>\n",
              "      <td>0</td>\n",
              "      <td>1</td>\n",
              "      <td>0.458007</td>\n",
              "      <td>0.581228</td>\n",
              "      <td>0</td>\n",
              "    </tr>\n",
              "    <tr>\n",
              "      <th>349972</th>\n",
              "      <td>0</td>\n",
              "      <td>1</td>\n",
              "      <td>0.424376</td>\n",
              "      <td>0.545659</td>\n",
              "      <td>0</td>\n",
              "    </tr>\n",
              "    <tr>\n",
              "      <th>349973</th>\n",
              "      <td>1</td>\n",
              "      <td>0</td>\n",
              "      <td>0.496732</td>\n",
              "      <td>0.500847</td>\n",
              "      <td>0</td>\n",
              "    </tr>\n",
              "    <tr>\n",
              "      <th>349974</th>\n",
              "      <td>0</td>\n",
              "      <td>1</td>\n",
              "      <td>0.490769</td>\n",
              "      <td>0.501660</td>\n",
              "      <td>0</td>\n",
              "    </tr>\n",
              "    <tr>\n",
              "      <th>349975</th>\n",
              "      <td>0</td>\n",
              "      <td>1</td>\n",
              "      <td>0.455561</td>\n",
              "      <td>0.569757</td>\n",
              "      <td>0</td>\n",
              "    </tr>\n",
              "    <tr>\n",
              "      <th>349976</th>\n",
              "      <td>0</td>\n",
              "      <td>1</td>\n",
              "      <td>0.418876</td>\n",
              "      <td>0.531799</td>\n",
              "      <td>0</td>\n",
              "    </tr>\n",
              "    <tr>\n",
              "      <th>349977</th>\n",
              "      <td>1</td>\n",
              "      <td>0</td>\n",
              "      <td>0.478413</td>\n",
              "      <td>0.519869</td>\n",
              "      <td>0</td>\n",
              "    </tr>\n",
              "    <tr>\n",
              "      <th>349978</th>\n",
              "      <td>1</td>\n",
              "      <td>0</td>\n",
              "      <td>0.506506</td>\n",
              "      <td>0.532782</td>\n",
              "      <td>0</td>\n",
              "    </tr>\n",
              "    <tr>\n",
              "      <th>349979</th>\n",
              "      <td>1</td>\n",
              "      <td>0</td>\n",
              "      <td>0.459340</td>\n",
              "      <td>0.573518</td>\n",
              "      <td>0</td>\n",
              "    </tr>\n",
              "    <tr>\n",
              "      <th>349980</th>\n",
              "      <td>0</td>\n",
              "      <td>1</td>\n",
              "      <td>0.457135</td>\n",
              "      <td>0.532406</td>\n",
              "      <td>0</td>\n",
              "    </tr>\n",
              "    <tr>\n",
              "      <th>349981</th>\n",
              "      <td>1</td>\n",
              "      <td>0</td>\n",
              "      <td>0.462056</td>\n",
              "      <td>0.535698</td>\n",
              "      <td>0</td>\n",
              "    </tr>\n",
              "    <tr>\n",
              "      <th>349982</th>\n",
              "      <td>1</td>\n",
              "      <td>0</td>\n",
              "      <td>0.432624</td>\n",
              "      <td>0.542312</td>\n",
              "      <td>0</td>\n",
              "    </tr>\n",
              "    <tr>\n",
              "      <th>349983</th>\n",
              "      <td>1</td>\n",
              "      <td>0</td>\n",
              "      <td>0.483496</td>\n",
              "      <td>0.540994</td>\n",
              "      <td>0</td>\n",
              "    </tr>\n",
              "    <tr>\n",
              "      <th>349984</th>\n",
              "      <td>1</td>\n",
              "      <td>0</td>\n",
              "      <td>0.427363</td>\n",
              "      <td>0.499233</td>\n",
              "      <td>0</td>\n",
              "    </tr>\n",
              "    <tr>\n",
              "      <th>349985</th>\n",
              "      <td>1</td>\n",
              "      <td>0</td>\n",
              "      <td>0.497830</td>\n",
              "      <td>0.531572</td>\n",
              "      <td>0</td>\n",
              "    </tr>\n",
              "    <tr>\n",
              "      <th>349986</th>\n",
              "      <td>1</td>\n",
              "      <td>0</td>\n",
              "      <td>0.466296</td>\n",
              "      <td>0.547240</td>\n",
              "      <td>0</td>\n",
              "    </tr>\n",
              "    <tr>\n",
              "      <th>349987</th>\n",
              "      <td>0</td>\n",
              "      <td>1</td>\n",
              "      <td>0.431982</td>\n",
              "      <td>0.538197</td>\n",
              "      <td>0</td>\n",
              "    </tr>\n",
              "    <tr>\n",
              "      <th>349988</th>\n",
              "      <td>0</td>\n",
              "      <td>1</td>\n",
              "      <td>0.479981</td>\n",
              "      <td>0.530084</td>\n",
              "      <td>0</td>\n",
              "    </tr>\n",
              "    <tr>\n",
              "      <th>349989</th>\n",
              "      <td>0</td>\n",
              "      <td>1</td>\n",
              "      <td>0.453179</td>\n",
              "      <td>0.538594</td>\n",
              "      <td>0</td>\n",
              "    </tr>\n",
              "    <tr>\n",
              "      <th>349990</th>\n",
              "      <td>0</td>\n",
              "      <td>1</td>\n",
              "      <td>0.481249</td>\n",
              "      <td>0.540518</td>\n",
              "      <td>0</td>\n",
              "    </tr>\n",
              "    <tr>\n",
              "      <th>349991</th>\n",
              "      <td>0</td>\n",
              "      <td>1</td>\n",
              "      <td>0.481495</td>\n",
              "      <td>0.538632</td>\n",
              "      <td>0</td>\n",
              "    </tr>\n",
              "    <tr>\n",
              "      <th>349992</th>\n",
              "      <td>1</td>\n",
              "      <td>0</td>\n",
              "      <td>0.420667</td>\n",
              "      <td>0.534588</td>\n",
              "      <td>0</td>\n",
              "    </tr>\n",
              "    <tr>\n",
              "      <th>349993</th>\n",
              "      <td>0</td>\n",
              "      <td>1</td>\n",
              "      <td>0.494400</td>\n",
              "      <td>0.544629</td>\n",
              "      <td>0</td>\n",
              "    </tr>\n",
              "    <tr>\n",
              "      <th>349994</th>\n",
              "      <td>1</td>\n",
              "      <td>0</td>\n",
              "      <td>0.462763</td>\n",
              "      <td>0.523969</td>\n",
              "      <td>0</td>\n",
              "    </tr>\n",
              "    <tr>\n",
              "      <th>349995</th>\n",
              "      <td>1</td>\n",
              "      <td>0</td>\n",
              "      <td>0.440182</td>\n",
              "      <td>0.520655</td>\n",
              "      <td>0</td>\n",
              "    </tr>\n",
              "    <tr>\n",
              "      <th>349996</th>\n",
              "      <td>1</td>\n",
              "      <td>0</td>\n",
              "      <td>0.471955</td>\n",
              "      <td>0.589331</td>\n",
              "      <td>0</td>\n",
              "    </tr>\n",
              "    <tr>\n",
              "      <th>349997</th>\n",
              "      <td>0</td>\n",
              "      <td>1</td>\n",
              "      <td>0.521023</td>\n",
              "      <td>0.452700</td>\n",
              "      <td>1</td>\n",
              "    </tr>\n",
              "    <tr>\n",
              "      <th>349998</th>\n",
              "      <td>1</td>\n",
              "      <td>0</td>\n",
              "      <td>0.433209</td>\n",
              "      <td>0.547240</td>\n",
              "      <td>0</td>\n",
              "    </tr>\n",
              "    <tr>\n",
              "      <th>349999</th>\n",
              "      <td>1</td>\n",
              "      <td>0</td>\n",
              "      <td>0.492178</td>\n",
              "      <td>0.500820</td>\n",
              "      <td>0</td>\n",
              "    </tr>\n",
              "  </tbody>\n",
              "</table>\n",
              "</div>\n",
              "      <button class=\"colab-df-convert\" onclick=\"convertToInteractive('df-2fd0ec29-68da-4cda-8a67-038086b51221')\"\n",
              "              title=\"Convert this dataframe to an interactive table.\"\n",
              "              style=\"display:none;\">\n",
              "        \n",
              "  <svg xmlns=\"http://www.w3.org/2000/svg\" height=\"24px\"viewBox=\"0 0 24 24\"\n",
              "       width=\"24px\">\n",
              "    <path d=\"M0 0h24v24H0V0z\" fill=\"none\"/>\n",
              "    <path d=\"M18.56 5.44l.94 2.06.94-2.06 2.06-.94-2.06-.94-.94-2.06-.94 2.06-2.06.94zm-11 1L8.5 8.5l.94-2.06 2.06-.94-2.06-.94L8.5 2.5l-.94 2.06-2.06.94zm10 10l.94 2.06.94-2.06 2.06-.94-2.06-.94-.94-2.06-.94 2.06-2.06.94z\"/><path d=\"M17.41 7.96l-1.37-1.37c-.4-.4-.92-.59-1.43-.59-.52 0-1.04.2-1.43.59L10.3 9.45l-7.72 7.72c-.78.78-.78 2.05 0 2.83L4 21.41c.39.39.9.59 1.41.59.51 0 1.02-.2 1.41-.59l7.78-7.78 2.81-2.81c.8-.78.8-2.07 0-2.86zM5.41 20L4 18.59l7.72-7.72 1.47 1.35L5.41 20z\"/>\n",
              "  </svg>\n",
              "      </button>\n",
              "      \n",
              "  <style>\n",
              "    .colab-df-container {\n",
              "      display:flex;\n",
              "      flex-wrap:wrap;\n",
              "      gap: 12px;\n",
              "    }\n",
              "\n",
              "    .colab-df-convert {\n",
              "      background-color: #E8F0FE;\n",
              "      border: none;\n",
              "      border-radius: 50%;\n",
              "      cursor: pointer;\n",
              "      display: none;\n",
              "      fill: #1967D2;\n",
              "      height: 32px;\n",
              "      padding: 0 0 0 0;\n",
              "      width: 32px;\n",
              "    }\n",
              "\n",
              "    .colab-df-convert:hover {\n",
              "      background-color: #E2EBFA;\n",
              "      box-shadow: 0px 1px 2px rgba(60, 64, 67, 0.3), 0px 1px 3px 1px rgba(60, 64, 67, 0.15);\n",
              "      fill: #174EA6;\n",
              "    }\n",
              "\n",
              "    [theme=dark] .colab-df-convert {\n",
              "      background-color: #3B4455;\n",
              "      fill: #D2E3FC;\n",
              "    }\n",
              "\n",
              "    [theme=dark] .colab-df-convert:hover {\n",
              "      background-color: #434B5C;\n",
              "      box-shadow: 0px 1px 3px 1px rgba(0, 0, 0, 0.15);\n",
              "      filter: drop-shadow(0px 1px 2px rgba(0, 0, 0, 0.3));\n",
              "      fill: #FFFFFF;\n",
              "    }\n",
              "  </style>\n",
              "\n",
              "      <script>\n",
              "        const buttonEl =\n",
              "          document.querySelector('#df-2fd0ec29-68da-4cda-8a67-038086b51221 button.colab-df-convert');\n",
              "        buttonEl.style.display =\n",
              "          google.colab.kernel.accessAllowed ? 'block' : 'none';\n",
              "\n",
              "        async function convertToInteractive(key) {\n",
              "          const element = document.querySelector('#df-2fd0ec29-68da-4cda-8a67-038086b51221');\n",
              "          const dataTable =\n",
              "            await google.colab.kernel.invokeFunction('convertToInteractive',\n",
              "                                                     [key], {});\n",
              "          if (!dataTable) return;\n",
              "\n",
              "          const docLinkHtml = 'Like what you see? Visit the ' +\n",
              "            '<a target=\"_blank\" href=https://colab.research.google.com/notebooks/data_table.ipynb>data table notebook</a>'\n",
              "            + ' to learn more about interactive tables.';\n",
              "          element.innerHTML = '';\n",
              "          dataTable['output_type'] = 'display_data';\n",
              "          await google.colab.output.renderOutput(dataTable, element);\n",
              "          const docLink = document.createElement('div');\n",
              "          docLink.innerHTML = docLinkHtml;\n",
              "          element.appendChild(docLink);\n",
              "        }\n",
              "      </script>\n",
              "    </div>\n",
              "  </div>\n",
              "  "
            ]
          },
          "metadata": {},
          "execution_count": 35
        }
      ]
    },
    {
      "cell_type": "code",
      "source": [
        "pd.read_csv('./edges.csv.gz')"
      ],
      "metadata": {
        "colab": {
          "base_uri": "https://localhost:8080/",
          "height": 423
        },
        "id": "rIo7nULnUzJA",
        "outputId": "1895490d-2df8-410c-f6e5-e236b57802d0"
      },
      "execution_count": null,
      "outputs": [
        {
          "output_type": "execute_result",
          "data": {
            "text/plain": [
              "           source   target\n",
              "0               0        1\n",
              "1               2        3\n",
              "2               4        5\n",
              "3               6        7\n",
              "4               8        9\n",
              "...           ...      ...\n",
              "10680340  5352195  5364729\n",
              "10680341  5352196  5364683\n",
              "10680342  5352459  5354673\n",
              "10680343  5352625  5359158\n",
              "10680344  5353875  5362316\n",
              "\n",
              "[10680345 rows x 2 columns]"
            ],
            "text/html": [
              "\n",
              "  <div id=\"df-898db7b2-c326-4291-b9e6-346822454c46\">\n",
              "    <div class=\"colab-df-container\">\n",
              "      <div>\n",
              "<style scoped>\n",
              "    .dataframe tbody tr th:only-of-type {\n",
              "        vertical-align: middle;\n",
              "    }\n",
              "\n",
              "    .dataframe tbody tr th {\n",
              "        vertical-align: top;\n",
              "    }\n",
              "\n",
              "    .dataframe thead th {\n",
              "        text-align: right;\n",
              "    }\n",
              "</style>\n",
              "<table border=\"1\" class=\"dataframe\">\n",
              "  <thead>\n",
              "    <tr style=\"text-align: right;\">\n",
              "      <th></th>\n",
              "      <th>source</th>\n",
              "      <th>target</th>\n",
              "    </tr>\n",
              "  </thead>\n",
              "  <tbody>\n",
              "    <tr>\n",
              "      <th>0</th>\n",
              "      <td>0</td>\n",
              "      <td>1</td>\n",
              "    </tr>\n",
              "    <tr>\n",
              "      <th>1</th>\n",
              "      <td>2</td>\n",
              "      <td>3</td>\n",
              "    </tr>\n",
              "    <tr>\n",
              "      <th>2</th>\n",
              "      <td>4</td>\n",
              "      <td>5</td>\n",
              "    </tr>\n",
              "    <tr>\n",
              "      <th>3</th>\n",
              "      <td>6</td>\n",
              "      <td>7</td>\n",
              "    </tr>\n",
              "    <tr>\n",
              "      <th>4</th>\n",
              "      <td>8</td>\n",
              "      <td>9</td>\n",
              "    </tr>\n",
              "    <tr>\n",
              "      <th>...</th>\n",
              "      <td>...</td>\n",
              "      <td>...</td>\n",
              "    </tr>\n",
              "    <tr>\n",
              "      <th>10680340</th>\n",
              "      <td>5352195</td>\n",
              "      <td>5364729</td>\n",
              "    </tr>\n",
              "    <tr>\n",
              "      <th>10680341</th>\n",
              "      <td>5352196</td>\n",
              "      <td>5364683</td>\n",
              "    </tr>\n",
              "    <tr>\n",
              "      <th>10680342</th>\n",
              "      <td>5352459</td>\n",
              "      <td>5354673</td>\n",
              "    </tr>\n",
              "    <tr>\n",
              "      <th>10680343</th>\n",
              "      <td>5352625</td>\n",
              "      <td>5359158</td>\n",
              "    </tr>\n",
              "    <tr>\n",
              "      <th>10680344</th>\n",
              "      <td>5353875</td>\n",
              "      <td>5362316</td>\n",
              "    </tr>\n",
              "  </tbody>\n",
              "</table>\n",
              "<p>10680345 rows × 2 columns</p>\n",
              "</div>\n",
              "      <button class=\"colab-df-convert\" onclick=\"convertToInteractive('df-898db7b2-c326-4291-b9e6-346822454c46')\"\n",
              "              title=\"Convert this dataframe to an interactive table.\"\n",
              "              style=\"display:none;\">\n",
              "        \n",
              "  <svg xmlns=\"http://www.w3.org/2000/svg\" height=\"24px\"viewBox=\"0 0 24 24\"\n",
              "       width=\"24px\">\n",
              "    <path d=\"M0 0h24v24H0V0z\" fill=\"none\"/>\n",
              "    <path d=\"M18.56 5.44l.94 2.06.94-2.06 2.06-.94-2.06-.94-.94-2.06-.94 2.06-2.06.94zm-11 1L8.5 8.5l.94-2.06 2.06-.94-2.06-.94L8.5 2.5l-.94 2.06-2.06.94zm10 10l.94 2.06.94-2.06 2.06-.94-2.06-.94-.94-2.06-.94 2.06-2.06.94z\"/><path d=\"M17.41 7.96l-1.37-1.37c-.4-.4-.92-.59-1.43-.59-.52 0-1.04.2-1.43.59L10.3 9.45l-7.72 7.72c-.78.78-.78 2.05 0 2.83L4 21.41c.39.39.9.59 1.41.59.51 0 1.02-.2 1.41-.59l7.78-7.78 2.81-2.81c.8-.78.8-2.07 0-2.86zM5.41 20L4 18.59l7.72-7.72 1.47 1.35L5.41 20z\"/>\n",
              "  </svg>\n",
              "      </button>\n",
              "      \n",
              "  <style>\n",
              "    .colab-df-container {\n",
              "      display:flex;\n",
              "      flex-wrap:wrap;\n",
              "      gap: 12px;\n",
              "    }\n",
              "\n",
              "    .colab-df-convert {\n",
              "      background-color: #E8F0FE;\n",
              "      border: none;\n",
              "      border-radius: 50%;\n",
              "      cursor: pointer;\n",
              "      display: none;\n",
              "      fill: #1967D2;\n",
              "      height: 32px;\n",
              "      padding: 0 0 0 0;\n",
              "      width: 32px;\n",
              "    }\n",
              "\n",
              "    .colab-df-convert:hover {\n",
              "      background-color: #E2EBFA;\n",
              "      box-shadow: 0px 1px 2px rgba(60, 64, 67, 0.3), 0px 1px 3px 1px rgba(60, 64, 67, 0.15);\n",
              "      fill: #174EA6;\n",
              "    }\n",
              "\n",
              "    [theme=dark] .colab-df-convert {\n",
              "      background-color: #3B4455;\n",
              "      fill: #D2E3FC;\n",
              "    }\n",
              "\n",
              "    [theme=dark] .colab-df-convert:hover {\n",
              "      background-color: #434B5C;\n",
              "      box-shadow: 0px 1px 3px 1px rgba(0, 0, 0, 0.15);\n",
              "      filter: drop-shadow(0px 1px 2px rgba(0, 0, 0, 0.3));\n",
              "      fill: #FFFFFF;\n",
              "    }\n",
              "  </style>\n",
              "\n",
              "      <script>\n",
              "        const buttonEl =\n",
              "          document.querySelector('#df-898db7b2-c326-4291-b9e6-346822454c46 button.colab-df-convert');\n",
              "        buttonEl.style.display =\n",
              "          google.colab.kernel.accessAllowed ? 'block' : 'none';\n",
              "\n",
              "        async function convertToInteractive(key) {\n",
              "          const element = document.querySelector('#df-898db7b2-c326-4291-b9e6-346822454c46');\n",
              "          const dataTable =\n",
              "            await google.colab.kernel.invokeFunction('convertToInteractive',\n",
              "                                                     [key], {});\n",
              "          if (!dataTable) return;\n",
              "\n",
              "          const docLinkHtml = 'Like what you see? Visit the ' +\n",
              "            '<a target=\"_blank\" href=https://colab.research.google.com/notebooks/data_table.ipynb>data table notebook</a>'\n",
              "            + ' to learn more about interactive tables.';\n",
              "          element.innerHTML = '';\n",
              "          dataTable['output_type'] = 'display_data';\n",
              "          await google.colab.output.renderOutput(dataTable, element);\n",
              "          const docLink = document.createElement('div');\n",
              "          docLink.innerHTML = docLinkHtml;\n",
              "          element.appendChild(docLink);\n",
              "        }\n",
              "      </script>\n",
              "    </div>\n",
              "  </div>\n",
              "  "
            ]
          },
          "metadata": {},
          "execution_count": 37
        }
      ]
    },
    {
      "cell_type": "code",
      "source": [],
      "metadata": {
        "id": "y8OJNX12Uy_W"
      },
      "execution_count": null,
      "outputs": []
    },
    {
      "cell_type": "code",
      "source": [],
      "metadata": {
        "id": "TFvphf1BmbsR"
      },
      "execution_count": null,
      "outputs": []
    },
    {
      "cell_type": "code",
      "source": [],
      "metadata": {
        "id": "86x9b_qLmbo7"
      },
      "execution_count": null,
      "outputs": []
    },
    {
      "cell_type": "code",
      "source": [
        "eval_results = model.evaluate(loader_va.load(), steps=loader_va.steps_per_epoch)\n",
        "print(\"Done.\\n\" \"Val loss: {}\\n\" \"Val accuracy: {}\".format(*eval_results))"
      ],
      "metadata": {
        "colab": {
          "base_uri": "https://localhost:8080/"
        },
        "id": "6_u8p3YR6u5U",
        "outputId": "ae05f6ba-224d-4a61-e006-9269aa0ffc02"
      },
      "execution_count": null,
      "outputs": [
        {
          "output_type": "stream",
          "name": "stdout",
          "text": [
            "1/1 [==============================] - 4s 4s/step - loss: 0.0838 - acc: 0.7184\n",
            "Done.\n",
            "Val loss: 0.08375976234674454\n",
            "Val accuracy: 0.7184399962425232\n"
          ]
        }
      ]
    },
    {
      "cell_type": "code",
      "source": [
        "# Evaluate model\n",
        "print(\"Evaluating model.\")\n",
        "loader_te = SingleLoader(dataset, sample_weights=mask_te)\n",
        "eval_results = model.evaluate(loader_te.load(), steps=loader_te.steps_per_epoch)\n",
        "print(\"Done.\\n\" \"Test loss: {}\\n\" \"Test accuracy: {}\".format(*eval_results))"
      ],
      "metadata": {
        "colab": {
          "base_uri": "https://localhost:8080/"
        },
        "id": "5eTH1GBPl-6I",
        "outputId": "1a13ef1b-60b9-446b-ebf7-5bba23aa95d1"
      },
      "execution_count": null,
      "outputs": [
        {
          "output_type": "stream",
          "name": "stdout",
          "text": [
            "Evaluating model.\n",
            "1/1 [==============================] - 3s 3s/step - loss: 0.0854 - acc: 0.6975\n",
            "Done.\n",
            "Test loss: 0.08535648137331009\n",
            "Test accuracy: 0.6975100040435791\n"
          ]
        }
      ]
    },
    {
      "cell_type": "code",
      "source": [
        "predict_production = model.predict(loader_va.load(), steps=loader_va.steps_per_epoch)"
      ],
      "metadata": {
        "colab": {
          "base_uri": "https://localhost:8080/"
        },
        "id": "-C8wXbeZjCxD",
        "outputId": "2c932536-c044-4979-8734-426e1811f564"
      },
      "execution_count": null,
      "outputs": [
        {
          "output_type": "stream",
          "name": "stdout",
          "text": [
            "1/1 [==============================] - 2s 2s/step\n"
          ]
        }
      ]
    },
    {
      "cell_type": "code",
      "source": [
        "predict_production.shape"
      ],
      "metadata": {
        "colab": {
          "base_uri": "https://localhost:8080/"
        },
        "id": "7vn0KOJL8zFO",
        "outputId": "c6c8a375-abdc-41c9-cfc8-a09bca6dad95"
      },
      "execution_count": null,
      "outputs": [
        {
          "output_type": "execute_result",
          "data": {
            "text/plain": [
              "(700000, 1)"
            ]
          },
          "metadata": {},
          "execution_count": 48
        }
      ]
    },
    {
      "cell_type": "code",
      "source": [
        "nodes_df = pd.read_csv(\n",
        "    './nodes.csv.gz', \n",
        "    usecols = [0, 2, 6], \n",
        "    header = 0, \n",
        "    names = ['idx', 'y', 'match_id']\n",
        "    ).iloc[-nodes_start:-nodes_left, :].set_index('idx').sort_index()"
      ],
      "metadata": {
        "id": "CZJquo8M8cVW"
      },
      "execution_count": null,
      "outputs": []
    },
    {
      "cell_type": "markdown",
      "source": [
        "#### Calculate validation"
      ],
      "metadata": {
        "id": "u3FduJT3N25e"
      }
    },
    {
      "cell_type": "code",
      "source": [
        "predict_df = pd.DataFrame(columns = ['home', 'not_home'])\n",
        "predict_df['home'] = nodes_df[mask_va].y.values[::2]\n",
        "predict_df['not_home'] = nodes_df[mask_va].y.values[1::2]\n",
        "predict_df['pred_home'] = predict_production[mask_va][::2]\n",
        "predict_df['pred_not_home'] = predict_production[mask_va][1::2]\n",
        "predict_df['result'] = (predict_df['pred_home'] > predict_df['pred_not_home']).astype(int)\n",
        "(predict_df['home'] == predict_df['result']).sum()"
      ],
      "metadata": {
        "colab": {
          "base_uri": "https://localhost:8080/"
        },
        "id": "Qv549qxeIq9P",
        "outputId": "47ff69ee-3324-40e7-9a42-3937102f192d"
      },
      "execution_count": null,
      "outputs": [
        {
          "output_type": "execute_result",
          "data": {
            "text/plain": [
              "42219"
            ]
          },
          "metadata": {},
          "execution_count": 50
        }
      ]
    },
    {
      "cell_type": "code",
      "source": [
        "predict_df"
      ],
      "metadata": {
        "colab": {
          "base_uri": "https://localhost:8080/",
          "height": 423
        },
        "id": "vyqk0lR7tSbD",
        "outputId": "42daea8b-a2d4-43ea-f096-49e01b71c38e"
      },
      "execution_count": null,
      "outputs": [
        {
          "output_type": "execute_result",
          "data": {
            "text/plain": [
              "       home  not_home  pred_home  pred_not_home  result\n",
              "0         0         1   0.402605       0.493420       0\n",
              "1         1         0   0.467355       0.509141       0\n",
              "2         0         1   0.476668       0.546723       0\n",
              "3         0         1   0.516562       0.605974       0\n",
              "4         1         0   0.595249       0.442725       1\n",
              "...     ...       ...        ...            ...     ...\n",
              "49995     0         1   0.492508       0.513929       0\n",
              "49996     0         1   0.406367       0.561839       0\n",
              "49997     0         1   0.482784       0.573863       0\n",
              "49998     0         1   0.499893       0.516207       0\n",
              "49999     0         1   0.442022       0.507859       0\n",
              "\n",
              "[50000 rows x 5 columns]"
            ],
            "text/html": [
              "\n",
              "  <div id=\"df-c4e152c7-d481-49cd-b375-6975fdd751dc\">\n",
              "    <div class=\"colab-df-container\">\n",
              "      <div>\n",
              "<style scoped>\n",
              "    .dataframe tbody tr th:only-of-type {\n",
              "        vertical-align: middle;\n",
              "    }\n",
              "\n",
              "    .dataframe tbody tr th {\n",
              "        vertical-align: top;\n",
              "    }\n",
              "\n",
              "    .dataframe thead th {\n",
              "        text-align: right;\n",
              "    }\n",
              "</style>\n",
              "<table border=\"1\" class=\"dataframe\">\n",
              "  <thead>\n",
              "    <tr style=\"text-align: right;\">\n",
              "      <th></th>\n",
              "      <th>home</th>\n",
              "      <th>not_home</th>\n",
              "      <th>pred_home</th>\n",
              "      <th>pred_not_home</th>\n",
              "      <th>result</th>\n",
              "    </tr>\n",
              "  </thead>\n",
              "  <tbody>\n",
              "    <tr>\n",
              "      <th>0</th>\n",
              "      <td>0</td>\n",
              "      <td>1</td>\n",
              "      <td>0.402605</td>\n",
              "      <td>0.493420</td>\n",
              "      <td>0</td>\n",
              "    </tr>\n",
              "    <tr>\n",
              "      <th>1</th>\n",
              "      <td>1</td>\n",
              "      <td>0</td>\n",
              "      <td>0.467355</td>\n",
              "      <td>0.509141</td>\n",
              "      <td>0</td>\n",
              "    </tr>\n",
              "    <tr>\n",
              "      <th>2</th>\n",
              "      <td>0</td>\n",
              "      <td>1</td>\n",
              "      <td>0.476668</td>\n",
              "      <td>0.546723</td>\n",
              "      <td>0</td>\n",
              "    </tr>\n",
              "    <tr>\n",
              "      <th>3</th>\n",
              "      <td>0</td>\n",
              "      <td>1</td>\n",
              "      <td>0.516562</td>\n",
              "      <td>0.605974</td>\n",
              "      <td>0</td>\n",
              "    </tr>\n",
              "    <tr>\n",
              "      <th>4</th>\n",
              "      <td>1</td>\n",
              "      <td>0</td>\n",
              "      <td>0.595249</td>\n",
              "      <td>0.442725</td>\n",
              "      <td>1</td>\n",
              "    </tr>\n",
              "    <tr>\n",
              "      <th>...</th>\n",
              "      <td>...</td>\n",
              "      <td>...</td>\n",
              "      <td>...</td>\n",
              "      <td>...</td>\n",
              "      <td>...</td>\n",
              "    </tr>\n",
              "    <tr>\n",
              "      <th>49995</th>\n",
              "      <td>0</td>\n",
              "      <td>1</td>\n",
              "      <td>0.492508</td>\n",
              "      <td>0.513929</td>\n",
              "      <td>0</td>\n",
              "    </tr>\n",
              "    <tr>\n",
              "      <th>49996</th>\n",
              "      <td>0</td>\n",
              "      <td>1</td>\n",
              "      <td>0.406367</td>\n",
              "      <td>0.561839</td>\n",
              "      <td>0</td>\n",
              "    </tr>\n",
              "    <tr>\n",
              "      <th>49997</th>\n",
              "      <td>0</td>\n",
              "      <td>1</td>\n",
              "      <td>0.482784</td>\n",
              "      <td>0.573863</td>\n",
              "      <td>0</td>\n",
              "    </tr>\n",
              "    <tr>\n",
              "      <th>49998</th>\n",
              "      <td>0</td>\n",
              "      <td>1</td>\n",
              "      <td>0.499893</td>\n",
              "      <td>0.516207</td>\n",
              "      <td>0</td>\n",
              "    </tr>\n",
              "    <tr>\n",
              "      <th>49999</th>\n",
              "      <td>0</td>\n",
              "      <td>1</td>\n",
              "      <td>0.442022</td>\n",
              "      <td>0.507859</td>\n",
              "      <td>0</td>\n",
              "    </tr>\n",
              "  </tbody>\n",
              "</table>\n",
              "<p>50000 rows × 5 columns</p>\n",
              "</div>\n",
              "      <button class=\"colab-df-convert\" onclick=\"convertToInteractive('df-c4e152c7-d481-49cd-b375-6975fdd751dc')\"\n",
              "              title=\"Convert this dataframe to an interactive table.\"\n",
              "              style=\"display:none;\">\n",
              "        \n",
              "  <svg xmlns=\"http://www.w3.org/2000/svg\" height=\"24px\"viewBox=\"0 0 24 24\"\n",
              "       width=\"24px\">\n",
              "    <path d=\"M0 0h24v24H0V0z\" fill=\"none\"/>\n",
              "    <path d=\"M18.56 5.44l.94 2.06.94-2.06 2.06-.94-2.06-.94-.94-2.06-.94 2.06-2.06.94zm-11 1L8.5 8.5l.94-2.06 2.06-.94-2.06-.94L8.5 2.5l-.94 2.06-2.06.94zm10 10l.94 2.06.94-2.06 2.06-.94-2.06-.94-.94-2.06-.94 2.06-2.06.94z\"/><path d=\"M17.41 7.96l-1.37-1.37c-.4-.4-.92-.59-1.43-.59-.52 0-1.04.2-1.43.59L10.3 9.45l-7.72 7.72c-.78.78-.78 2.05 0 2.83L4 21.41c.39.39.9.59 1.41.59.51 0 1.02-.2 1.41-.59l7.78-7.78 2.81-2.81c.8-.78.8-2.07 0-2.86zM5.41 20L4 18.59l7.72-7.72 1.47 1.35L5.41 20z\"/>\n",
              "  </svg>\n",
              "      </button>\n",
              "      \n",
              "  <style>\n",
              "    .colab-df-container {\n",
              "      display:flex;\n",
              "      flex-wrap:wrap;\n",
              "      gap: 12px;\n",
              "    }\n",
              "\n",
              "    .colab-df-convert {\n",
              "      background-color: #E8F0FE;\n",
              "      border: none;\n",
              "      border-radius: 50%;\n",
              "      cursor: pointer;\n",
              "      display: none;\n",
              "      fill: #1967D2;\n",
              "      height: 32px;\n",
              "      padding: 0 0 0 0;\n",
              "      width: 32px;\n",
              "    }\n",
              "\n",
              "    .colab-df-convert:hover {\n",
              "      background-color: #E2EBFA;\n",
              "      box-shadow: 0px 1px 2px rgba(60, 64, 67, 0.3), 0px 1px 3px 1px rgba(60, 64, 67, 0.15);\n",
              "      fill: #174EA6;\n",
              "    }\n",
              "\n",
              "    [theme=dark] .colab-df-convert {\n",
              "      background-color: #3B4455;\n",
              "      fill: #D2E3FC;\n",
              "    }\n",
              "\n",
              "    [theme=dark] .colab-df-convert:hover {\n",
              "      background-color: #434B5C;\n",
              "      box-shadow: 0px 1px 3px 1px rgba(0, 0, 0, 0.15);\n",
              "      filter: drop-shadow(0px 1px 2px rgba(0, 0, 0, 0.3));\n",
              "      fill: #FFFFFF;\n",
              "    }\n",
              "  </style>\n",
              "\n",
              "      <script>\n",
              "        const buttonEl =\n",
              "          document.querySelector('#df-c4e152c7-d481-49cd-b375-6975fdd751dc button.colab-df-convert');\n",
              "        buttonEl.style.display =\n",
              "          google.colab.kernel.accessAllowed ? 'block' : 'none';\n",
              "\n",
              "        async function convertToInteractive(key) {\n",
              "          const element = document.querySelector('#df-c4e152c7-d481-49cd-b375-6975fdd751dc');\n",
              "          const dataTable =\n",
              "            await google.colab.kernel.invokeFunction('convertToInteractive',\n",
              "                                                     [key], {});\n",
              "          if (!dataTable) return;\n",
              "\n",
              "          const docLinkHtml = 'Like what you see? Visit the ' +\n",
              "            '<a target=\"_blank\" href=https://colab.research.google.com/notebooks/data_table.ipynb>data table notebook</a>'\n",
              "            + ' to learn more about interactive tables.';\n",
              "          element.innerHTML = '';\n",
              "          dataTable['output_type'] = 'display_data';\n",
              "          await google.colab.output.renderOutput(dataTable, element);\n",
              "          const docLink = document.createElement('div');\n",
              "          docLink.innerHTML = docLinkHtml;\n",
              "          element.appendChild(docLink);\n",
              "        }\n",
              "      </script>\n",
              "    </div>\n",
              "  </div>\n",
              "  "
            ]
          },
          "metadata": {},
          "execution_count": 52
        }
      ]
    },
    {
      "cell_type": "markdown",
      "source": [
        "#### Calculate test"
      ],
      "metadata": {
        "id": "SbSAAsDTNzd9"
      }
    },
    {
      "cell_type": "code",
      "source": [
        "#predict_production = model.predict(loader_te.load(), steps=loader_te.steps_per_epoch)"
      ],
      "metadata": {
        "colab": {
          "base_uri": "https://localhost:8080/"
        },
        "id": "yxqpW7JnVcwe",
        "outputId": "5cdb9879-b92b-4ed1-df23-b5ce3fbb5b3f"
      },
      "execution_count": null,
      "outputs": [
        {
          "output_type": "stream",
          "name": "stdout",
          "text": [
            "1/1 [==============================] - 2s 2s/step\n"
          ]
        }
      ]
    },
    {
      "cell_type": "code",
      "source": [
        "predict_df = pd.DataFrame(columns = ['home', 'not_home'])\n",
        "predict_df['home'] = nodes_df[mask_te].y.values[::2]\n",
        "predict_df['not_home'] = nodes_df[mask_te].y.values[1::2]\n",
        "predict_df['pred_home'] = predict_production[mask_te][::2]\n",
        "predict_df['pred_not_home'] = predict_production[mask_te][1::2]\n",
        "predict_df['result'] = (predict_df['pred_home'] > predict_df['pred_not_home']).astype(int)\n",
        "(predict_df['home'] == predict_df['result']).sum()"
      ],
      "metadata": {
        "colab": {
          "base_uri": "https://localhost:8080/"
        },
        "id": "YqzYbc_BJlAn",
        "outputId": "28870bce-d8ff-4663-e929-ef0e50c19141"
      },
      "execution_count": null,
      "outputs": [
        {
          "output_type": "execute_result",
          "data": {
            "text/plain": [
              "40222"
            ]
          },
          "metadata": {},
          "execution_count": 52
        }
      ]
    },
    {
      "cell_type": "code",
      "source": [
        "PATH_TO_MODEL = './model.tar.gz'\n",
        "bashCommand = f\"\"\"\n",
        "tar -czvf {PATH_TO_MODEL} {params['MCh_params']['filepath']}\n",
        "\"\"\"\n",
        "run_bash(bashCommand, 'tar_model')"
      ],
      "metadata": {
        "id": "PJTTWMFrLSyn"
      },
      "execution_count": null,
      "outputs": []
    },
    {
      "cell_type": "code",
      "source": [],
      "metadata": {
        "id": "SolLiYqwVXkk"
      },
      "execution_count": null,
      "outputs": []
    },
    {
      "cell_type": "code",
      "source": [],
      "metadata": {
        "colab": {
          "base_uri": "https://localhost:8080/"
        },
        "id": "HPb0dWz_JGF0",
        "outputId": "945eea49-3966-4e97-c011-8c4070b937de"
      },
      "execution_count": null,
      "outputs": [
        {
          "output_type": "execute_result",
          "data": {
            "text/plain": [
              "42073"
            ]
          },
          "metadata": {},
          "execution_count": 31
        }
      ]
    },
    {
      "cell_type": "code",
      "source": [
        "predict_df['idx_home'] = nodes_df.index[mask_te][::2]\n",
        "predict_df['idx_not_home'] = nodes_df.index[mask_te][1::2]"
      ],
      "metadata": {
        "id": "006cO_8M5h9-"
      },
      "execution_count": null,
      "outputs": []
    },
    {
      "cell_type": "code",
      "source": [
        "predict_df['match_id_home'] = nodes_df[mask_te].match_id.values[::2]\n",
        "predict_df['match_id_not_home'] = nodes_df[mask_te].match_id.values[1::2]"
      ],
      "metadata": {
        "id": "NUmYzj1cBDiF"
      },
      "execution_count": null,
      "outputs": []
    },
    {
      "cell_type": "code",
      "source": [
        "predict_df[predict_df.match_id_home != predict_df.match_id_not_home]"
      ],
      "metadata": {
        "colab": {
          "base_uri": "https://localhost:8080/",
          "height": 49
        },
        "id": "Z2FZHkB6Blul",
        "outputId": "33ba1cb6-290b-486a-fd63-723e36dd5d50"
      },
      "execution_count": null,
      "outputs": [
        {
          "output_type": "execute_result",
          "data": {
            "text/plain": [
              "Empty DataFrame\n",
              "Columns: [home, not_home, pred_home, pred_not_home, result, idx_home, idx_not_home, match_id_home, match_id_not_home]\n",
              "Index: []"
            ],
            "text/html": [
              "\n",
              "  <div id=\"df-d6ad4968-79e3-4bb7-8c65-df1c1e1efb2e\">\n",
              "    <div class=\"colab-df-container\">\n",
              "      <div>\n",
              "<style scoped>\n",
              "    .dataframe tbody tr th:only-of-type {\n",
              "        vertical-align: middle;\n",
              "    }\n",
              "\n",
              "    .dataframe tbody tr th {\n",
              "        vertical-align: top;\n",
              "    }\n",
              "\n",
              "    .dataframe thead th {\n",
              "        text-align: right;\n",
              "    }\n",
              "</style>\n",
              "<table border=\"1\" class=\"dataframe\">\n",
              "  <thead>\n",
              "    <tr style=\"text-align: right;\">\n",
              "      <th></th>\n",
              "      <th>home</th>\n",
              "      <th>not_home</th>\n",
              "      <th>pred_home</th>\n",
              "      <th>pred_not_home</th>\n",
              "      <th>result</th>\n",
              "      <th>idx_home</th>\n",
              "      <th>idx_not_home</th>\n",
              "      <th>match_id_home</th>\n",
              "      <th>match_id_not_home</th>\n",
              "    </tr>\n",
              "  </thead>\n",
              "  <tbody>\n",
              "  </tbody>\n",
              "</table>\n",
              "</div>\n",
              "      <button class=\"colab-df-convert\" onclick=\"convertToInteractive('df-d6ad4968-79e3-4bb7-8c65-df1c1e1efb2e')\"\n",
              "              title=\"Convert this dataframe to an interactive table.\"\n",
              "              style=\"display:none;\">\n",
              "        \n",
              "  <svg xmlns=\"http://www.w3.org/2000/svg\" height=\"24px\"viewBox=\"0 0 24 24\"\n",
              "       width=\"24px\">\n",
              "    <path d=\"M0 0h24v24H0V0z\" fill=\"none\"/>\n",
              "    <path d=\"M18.56 5.44l.94 2.06.94-2.06 2.06-.94-2.06-.94-.94-2.06-.94 2.06-2.06.94zm-11 1L8.5 8.5l.94-2.06 2.06-.94-2.06-.94L8.5 2.5l-.94 2.06-2.06.94zm10 10l.94 2.06.94-2.06 2.06-.94-2.06-.94-.94-2.06-.94 2.06-2.06.94z\"/><path d=\"M17.41 7.96l-1.37-1.37c-.4-.4-.92-.59-1.43-.59-.52 0-1.04.2-1.43.59L10.3 9.45l-7.72 7.72c-.78.78-.78 2.05 0 2.83L4 21.41c.39.39.9.59 1.41.59.51 0 1.02-.2 1.41-.59l7.78-7.78 2.81-2.81c.8-.78.8-2.07 0-2.86zM5.41 20L4 18.59l7.72-7.72 1.47 1.35L5.41 20z\"/>\n",
              "  </svg>\n",
              "      </button>\n",
              "      \n",
              "  <style>\n",
              "    .colab-df-container {\n",
              "      display:flex;\n",
              "      flex-wrap:wrap;\n",
              "      gap: 12px;\n",
              "    }\n",
              "\n",
              "    .colab-df-convert {\n",
              "      background-color: #E8F0FE;\n",
              "      border: none;\n",
              "      border-radius: 50%;\n",
              "      cursor: pointer;\n",
              "      display: none;\n",
              "      fill: #1967D2;\n",
              "      height: 32px;\n",
              "      padding: 0 0 0 0;\n",
              "      width: 32px;\n",
              "    }\n",
              "\n",
              "    .colab-df-convert:hover {\n",
              "      background-color: #E2EBFA;\n",
              "      box-shadow: 0px 1px 2px rgba(60, 64, 67, 0.3), 0px 1px 3px 1px rgba(60, 64, 67, 0.15);\n",
              "      fill: #174EA6;\n",
              "    }\n",
              "\n",
              "    [theme=dark] .colab-df-convert {\n",
              "      background-color: #3B4455;\n",
              "      fill: #D2E3FC;\n",
              "    }\n",
              "\n",
              "    [theme=dark] .colab-df-convert:hover {\n",
              "      background-color: #434B5C;\n",
              "      box-shadow: 0px 1px 3px 1px rgba(0, 0, 0, 0.15);\n",
              "      filter: drop-shadow(0px 1px 2px rgba(0, 0, 0, 0.3));\n",
              "      fill: #FFFFFF;\n",
              "    }\n",
              "  </style>\n",
              "\n",
              "      <script>\n",
              "        const buttonEl =\n",
              "          document.querySelector('#df-d6ad4968-79e3-4bb7-8c65-df1c1e1efb2e button.colab-df-convert');\n",
              "        buttonEl.style.display =\n",
              "          google.colab.kernel.accessAllowed ? 'block' : 'none';\n",
              "\n",
              "        async function convertToInteractive(key) {\n",
              "          const element = document.querySelector('#df-d6ad4968-79e3-4bb7-8c65-df1c1e1efb2e');\n",
              "          const dataTable =\n",
              "            await google.colab.kernel.invokeFunction('convertToInteractive',\n",
              "                                                     [key], {});\n",
              "          if (!dataTable) return;\n",
              "\n",
              "          const docLinkHtml = 'Like what you see? Visit the ' +\n",
              "            '<a target=\"_blank\" href=https://colab.research.google.com/notebooks/data_table.ipynb>data table notebook</a>'\n",
              "            + ' to learn more about interactive tables.';\n",
              "          element.innerHTML = '';\n",
              "          dataTable['output_type'] = 'display_data';\n",
              "          await google.colab.output.renderOutput(dataTable, element);\n",
              "          const docLink = document.createElement('div');\n",
              "          docLink.innerHTML = docLinkHtml;\n",
              "          element.appendChild(docLink);\n",
              "        }\n",
              "      </script>\n",
              "    </div>\n",
              "  </div>\n",
              "  "
            ]
          },
          "metadata": {},
          "execution_count": 37
        }
      ]
    },
    {
      "cell_type": "code",
      "source": [
        "predict_df"
      ],
      "metadata": {
        "colab": {
          "base_uri": "https://localhost:8080/",
          "height": 423
        },
        "id": "EVQog2acdgeR",
        "outputId": "e930c020-4ac5-4162-950a-b284380c4973"
      },
      "execution_count": null,
      "outputs": [
        {
          "output_type": "execute_result",
          "data": {
            "text/plain": [
              "       home  not_home  pred_home  pred_not_home  result\n",
              "0         0         1   0.817898       0.496136       1\n",
              "1         0         1   0.181242       0.487676       0\n",
              "2         1         0   0.478412       0.515747       0\n",
              "3         1         0   0.153708       0.828872       0\n",
              "4         1         0   0.509116       0.504974       1\n",
              "...     ...       ...        ...            ...     ...\n",
              "69995     1         0   0.314261       0.688905       0\n",
              "69996     1         0   0.689033       0.312998       1\n",
              "69997     0         1   0.310236       0.325164       0\n",
              "69998     1         0   0.326383       0.326463       0\n",
              "69999     1         0   0.315417       0.680577       0\n",
              "\n",
              "[70000 rows x 5 columns]"
            ],
            "text/html": [
              "\n",
              "  <div id=\"df-de1ea036-2609-46f5-b546-c4265a154a68\">\n",
              "    <div class=\"colab-df-container\">\n",
              "      <div>\n",
              "<style scoped>\n",
              "    .dataframe tbody tr th:only-of-type {\n",
              "        vertical-align: middle;\n",
              "    }\n",
              "\n",
              "    .dataframe tbody tr th {\n",
              "        vertical-align: top;\n",
              "    }\n",
              "\n",
              "    .dataframe thead th {\n",
              "        text-align: right;\n",
              "    }\n",
              "</style>\n",
              "<table border=\"1\" class=\"dataframe\">\n",
              "  <thead>\n",
              "    <tr style=\"text-align: right;\">\n",
              "      <th></th>\n",
              "      <th>home</th>\n",
              "      <th>not_home</th>\n",
              "      <th>pred_home</th>\n",
              "      <th>pred_not_home</th>\n",
              "      <th>result</th>\n",
              "    </tr>\n",
              "  </thead>\n",
              "  <tbody>\n",
              "    <tr>\n",
              "      <th>0</th>\n",
              "      <td>0</td>\n",
              "      <td>1</td>\n",
              "      <td>0.817898</td>\n",
              "      <td>0.496136</td>\n",
              "      <td>1</td>\n",
              "    </tr>\n",
              "    <tr>\n",
              "      <th>1</th>\n",
              "      <td>0</td>\n",
              "      <td>1</td>\n",
              "      <td>0.181242</td>\n",
              "      <td>0.487676</td>\n",
              "      <td>0</td>\n",
              "    </tr>\n",
              "    <tr>\n",
              "      <th>2</th>\n",
              "      <td>1</td>\n",
              "      <td>0</td>\n",
              "      <td>0.478412</td>\n",
              "      <td>0.515747</td>\n",
              "      <td>0</td>\n",
              "    </tr>\n",
              "    <tr>\n",
              "      <th>3</th>\n",
              "      <td>1</td>\n",
              "      <td>0</td>\n",
              "      <td>0.153708</td>\n",
              "      <td>0.828872</td>\n",
              "      <td>0</td>\n",
              "    </tr>\n",
              "    <tr>\n",
              "      <th>4</th>\n",
              "      <td>1</td>\n",
              "      <td>0</td>\n",
              "      <td>0.509116</td>\n",
              "      <td>0.504974</td>\n",
              "      <td>1</td>\n",
              "    </tr>\n",
              "    <tr>\n",
              "      <th>...</th>\n",
              "      <td>...</td>\n",
              "      <td>...</td>\n",
              "      <td>...</td>\n",
              "      <td>...</td>\n",
              "      <td>...</td>\n",
              "    </tr>\n",
              "    <tr>\n",
              "      <th>69995</th>\n",
              "      <td>1</td>\n",
              "      <td>0</td>\n",
              "      <td>0.314261</td>\n",
              "      <td>0.688905</td>\n",
              "      <td>0</td>\n",
              "    </tr>\n",
              "    <tr>\n",
              "      <th>69996</th>\n",
              "      <td>1</td>\n",
              "      <td>0</td>\n",
              "      <td>0.689033</td>\n",
              "      <td>0.312998</td>\n",
              "      <td>1</td>\n",
              "    </tr>\n",
              "    <tr>\n",
              "      <th>69997</th>\n",
              "      <td>0</td>\n",
              "      <td>1</td>\n",
              "      <td>0.310236</td>\n",
              "      <td>0.325164</td>\n",
              "      <td>0</td>\n",
              "    </tr>\n",
              "    <tr>\n",
              "      <th>69998</th>\n",
              "      <td>1</td>\n",
              "      <td>0</td>\n",
              "      <td>0.326383</td>\n",
              "      <td>0.326463</td>\n",
              "      <td>0</td>\n",
              "    </tr>\n",
              "    <tr>\n",
              "      <th>69999</th>\n",
              "      <td>1</td>\n",
              "      <td>0</td>\n",
              "      <td>0.315417</td>\n",
              "      <td>0.680577</td>\n",
              "      <td>0</td>\n",
              "    </tr>\n",
              "  </tbody>\n",
              "</table>\n",
              "<p>70000 rows × 5 columns</p>\n",
              "</div>\n",
              "      <button class=\"colab-df-convert\" onclick=\"convertToInteractive('df-de1ea036-2609-46f5-b546-c4265a154a68')\"\n",
              "              title=\"Convert this dataframe to an interactive table.\"\n",
              "              style=\"display:none;\">\n",
              "        \n",
              "  <svg xmlns=\"http://www.w3.org/2000/svg\" height=\"24px\"viewBox=\"0 0 24 24\"\n",
              "       width=\"24px\">\n",
              "    <path d=\"M0 0h24v24H0V0z\" fill=\"none\"/>\n",
              "    <path d=\"M18.56 5.44l.94 2.06.94-2.06 2.06-.94-2.06-.94-.94-2.06-.94 2.06-2.06.94zm-11 1L8.5 8.5l.94-2.06 2.06-.94-2.06-.94L8.5 2.5l-.94 2.06-2.06.94zm10 10l.94 2.06.94-2.06 2.06-.94-2.06-.94-.94-2.06-.94 2.06-2.06.94z\"/><path d=\"M17.41 7.96l-1.37-1.37c-.4-.4-.92-.59-1.43-.59-.52 0-1.04.2-1.43.59L10.3 9.45l-7.72 7.72c-.78.78-.78 2.05 0 2.83L4 21.41c.39.39.9.59 1.41.59.51 0 1.02-.2 1.41-.59l7.78-7.78 2.81-2.81c.8-.78.8-2.07 0-2.86zM5.41 20L4 18.59l7.72-7.72 1.47 1.35L5.41 20z\"/>\n",
              "  </svg>\n",
              "      </button>\n",
              "      \n",
              "  <style>\n",
              "    .colab-df-container {\n",
              "      display:flex;\n",
              "      flex-wrap:wrap;\n",
              "      gap: 12px;\n",
              "    }\n",
              "\n",
              "    .colab-df-convert {\n",
              "      background-color: #E8F0FE;\n",
              "      border: none;\n",
              "      border-radius: 50%;\n",
              "      cursor: pointer;\n",
              "      display: none;\n",
              "      fill: #1967D2;\n",
              "      height: 32px;\n",
              "      padding: 0 0 0 0;\n",
              "      width: 32px;\n",
              "    }\n",
              "\n",
              "    .colab-df-convert:hover {\n",
              "      background-color: #E2EBFA;\n",
              "      box-shadow: 0px 1px 2px rgba(60, 64, 67, 0.3), 0px 1px 3px 1px rgba(60, 64, 67, 0.15);\n",
              "      fill: #174EA6;\n",
              "    }\n",
              "\n",
              "    [theme=dark] .colab-df-convert {\n",
              "      background-color: #3B4455;\n",
              "      fill: #D2E3FC;\n",
              "    }\n",
              "\n",
              "    [theme=dark] .colab-df-convert:hover {\n",
              "      background-color: #434B5C;\n",
              "      box-shadow: 0px 1px 3px 1px rgba(0, 0, 0, 0.15);\n",
              "      filter: drop-shadow(0px 1px 2px rgba(0, 0, 0, 0.3));\n",
              "      fill: #FFFFFF;\n",
              "    }\n",
              "  </style>\n",
              "\n",
              "      <script>\n",
              "        const buttonEl =\n",
              "          document.querySelector('#df-de1ea036-2609-46f5-b546-c4265a154a68 button.colab-df-convert');\n",
              "        buttonEl.style.display =\n",
              "          google.colab.kernel.accessAllowed ? 'block' : 'none';\n",
              "\n",
              "        async function convertToInteractive(key) {\n",
              "          const element = document.querySelector('#df-de1ea036-2609-46f5-b546-c4265a154a68');\n",
              "          const dataTable =\n",
              "            await google.colab.kernel.invokeFunction('convertToInteractive',\n",
              "                                                     [key], {});\n",
              "          if (!dataTable) return;\n",
              "\n",
              "          const docLinkHtml = 'Like what you see? Visit the ' +\n",
              "            '<a target=\"_blank\" href=https://colab.research.google.com/notebooks/data_table.ipynb>data table notebook</a>'\n",
              "            + ' to learn more about interactive tables.';\n",
              "          element.innerHTML = '';\n",
              "          dataTable['output_type'] = 'display_data';\n",
              "          await google.colab.output.renderOutput(dataTable, element);\n",
              "          const docLink = document.createElement('div');\n",
              "          docLink.innerHTML = docLinkHtml;\n",
              "          element.appendChild(docLink);\n",
              "        }\n",
              "      </script>\n",
              "    </div>\n",
              "  </div>\n",
              "  "
            ]
          },
          "metadata": {},
          "execution_count": 84
        }
      ]
    },
    {
      "cell_type": "code",
      "source": [
        "validation_dataset_name = './prem_validation.csv'\n",
        "project = neptune.init_project(\n",
        "    name=\"scomesse/football\", \n",
        "    api_token = api_key\n",
        "    )\n",
        "project['data/validation_prem_220818'].download(validation_dataset_name)\n",
        "project.stop()"
      ],
      "metadata": {
        "id": "gEKFIkF4dgUS"
      },
      "execution_count": null,
      "outputs": []
    },
    {
      "cell_type": "code",
      "source": [
        "prem_df = pd.read_csv('./prem_validation.csv')"
      ],
      "metadata": {
        "id": "Sobdd_9Rdfd4"
      },
      "execution_count": null,
      "outputs": []
    },
    {
      "cell_type": "code",
      "source": [
        "prem_df = prem_df[prem_df.Id.isin(list(predict_df.match_id_home))]"
      ],
      "metadata": {
        "id": "hStrG0pJCA7Z"
      },
      "execution_count": null,
      "outputs": []
    },
    {
      "cell_type": "code",
      "source": [
        "predict_dict = predict_df[predict_df.match_id_home.isin(list(prem_df.Id))].set_index('match_id_home')[['home', 'result']].to_dict(orient = 'index')"
      ],
      "metadata": {
        "id": "tiVzpJN2KbMs"
      },
      "execution_count": null,
      "outputs": []
    },
    {
      "cell_type": "code",
      "source": [
        "prem_df[['result', 'predict']] = [[predict_dict[key]['home'], predict_dict[key]['result']] for key in prem_df.Id.values]"
      ],
      "metadata": {
        "colab": {
          "base_uri": "https://localhost:8080/"
        },
        "id": "i31t9O0OJ1q4",
        "outputId": "1aaad21d-f2c5-40ee-8791-b6bd5b1bb96c"
      },
      "execution_count": null,
      "outputs": [
        {
          "output_type": "stream",
          "name": "stderr",
          "text": [
            "/usr/local/lib/python3.7/dist-packages/pandas/core/frame.py:3678: SettingWithCopyWarning: \n",
            "A value is trying to be set on a copy of a slice from a DataFrame.\n",
            "Try using .loc[row_indexer,col_indexer] = value instead\n",
            "\n",
            "See the caveats in the documentation: https://pandas.pydata.org/pandas-docs/stable/user_guide/indexing.html#returning-a-view-versus-a-copy\n",
            "  self[col] = igetitem(value, i)\n"
          ]
        }
      ]
    },
    {
      "cell_type": "code",
      "source": [
        "prem_df"
      ],
      "metadata": {
        "colab": {
          "base_uri": "https://localhost:8080/",
          "height": 423
        },
        "id": "4dRQX-R3rqV-",
        "outputId": "8aa10c68-3558-4f68-b46c-97e5dabebf60"
      },
      "execution_count": null,
      "outputs": [
        {
          "output_type": "execute_result",
          "data": {
            "text/plain": [
              "                             Id    Idbook      W1     X      W2  W1live  \\\n",
              "7614  2eqn3i74041ragwpuzow7gbo4  13812880   3.600  4.65   1.700   3.600   \n",
              "7615  59i869it1synl0z3di62wss9g  13812877   2.880  4.15   2.030   2.880   \n",
              "7616  dj1uww92e3x26gg2gw79r6g44  13812875   1.116  8.80  14.000   1.116   \n",
              "7618  4hkznpu6g79a8h32ionlfagpg  13813781   1.760  4.10   3.720   1.760   \n",
              "7619  b232tm66r4b7jsi881a6mo6qc  13813779   2.550  3.92   2.300   2.420   \n",
              "...                         ...       ...     ...   ...     ...     ...   \n",
              "7987  dgtvqq4bwqkgnal8dx3zwccgk  13857861   3.700  3.42   1.930   3.700   \n",
              "7988  1nb3ab0vbihddp9qh2qviix3o  13857924   2.240  4.25   2.510   2.240   \n",
              "7989  9q0423juf175stwpppkxi9kic  13857923   1.250  5.80   9.200   1.250   \n",
              "7990  3y4e7iany0lgbj75cp30g8t90  13857930   8.700  7.10   1.210   8.700   \n",
              "7991  2ju6pbauusfneayoz42b03nkk  13862399  15.750  8.30   1.114  15.750   \n",
              "\n",
              "      Xlive  W2live  result  predict  \n",
              "7614   4.65   1.700       0        0  \n",
              "7615   4.15   2.030       1        1  \n",
              "7616   8.80  14.000       1        0  \n",
              "7618   4.10   3.720       1        1  \n",
              "7619   3.94   2.410       0        0  \n",
              "...     ...     ...     ...      ...  \n",
              "7987   3.42   1.930       1        1  \n",
              "7988   4.25   2.510       0        0  \n",
              "7989   5.80   9.200       1        1  \n",
              "7990   7.10   1.210       0        0  \n",
              "7991   8.30   1.114       0        0  \n",
              "\n",
              "[375 rows x 10 columns]"
            ],
            "text/html": [
              "\n",
              "  <div id=\"df-1a0851c6-05e0-4513-a70e-7b5906f4f741\">\n",
              "    <div class=\"colab-df-container\">\n",
              "      <div>\n",
              "<style scoped>\n",
              "    .dataframe tbody tr th:only-of-type {\n",
              "        vertical-align: middle;\n",
              "    }\n",
              "\n",
              "    .dataframe tbody tr th {\n",
              "        vertical-align: top;\n",
              "    }\n",
              "\n",
              "    .dataframe thead th {\n",
              "        text-align: right;\n",
              "    }\n",
              "</style>\n",
              "<table border=\"1\" class=\"dataframe\">\n",
              "  <thead>\n",
              "    <tr style=\"text-align: right;\">\n",
              "      <th></th>\n",
              "      <th>Id</th>\n",
              "      <th>Idbook</th>\n",
              "      <th>W1</th>\n",
              "      <th>X</th>\n",
              "      <th>W2</th>\n",
              "      <th>W1live</th>\n",
              "      <th>Xlive</th>\n",
              "      <th>W2live</th>\n",
              "      <th>result</th>\n",
              "      <th>predict</th>\n",
              "    </tr>\n",
              "  </thead>\n",
              "  <tbody>\n",
              "    <tr>\n",
              "      <th>7614</th>\n",
              "      <td>2eqn3i74041ragwpuzow7gbo4</td>\n",
              "      <td>13812880</td>\n",
              "      <td>3.600</td>\n",
              "      <td>4.65</td>\n",
              "      <td>1.700</td>\n",
              "      <td>3.600</td>\n",
              "      <td>4.65</td>\n",
              "      <td>1.700</td>\n",
              "      <td>0</td>\n",
              "      <td>0</td>\n",
              "    </tr>\n",
              "    <tr>\n",
              "      <th>7615</th>\n",
              "      <td>59i869it1synl0z3di62wss9g</td>\n",
              "      <td>13812877</td>\n",
              "      <td>2.880</td>\n",
              "      <td>4.15</td>\n",
              "      <td>2.030</td>\n",
              "      <td>2.880</td>\n",
              "      <td>4.15</td>\n",
              "      <td>2.030</td>\n",
              "      <td>1</td>\n",
              "      <td>1</td>\n",
              "    </tr>\n",
              "    <tr>\n",
              "      <th>7616</th>\n",
              "      <td>dj1uww92e3x26gg2gw79r6g44</td>\n",
              "      <td>13812875</td>\n",
              "      <td>1.116</td>\n",
              "      <td>8.80</td>\n",
              "      <td>14.000</td>\n",
              "      <td>1.116</td>\n",
              "      <td>8.80</td>\n",
              "      <td>14.000</td>\n",
              "      <td>1</td>\n",
              "      <td>0</td>\n",
              "    </tr>\n",
              "    <tr>\n",
              "      <th>7618</th>\n",
              "      <td>4hkznpu6g79a8h32ionlfagpg</td>\n",
              "      <td>13813781</td>\n",
              "      <td>1.760</td>\n",
              "      <td>4.10</td>\n",
              "      <td>3.720</td>\n",
              "      <td>1.760</td>\n",
              "      <td>4.10</td>\n",
              "      <td>3.720</td>\n",
              "      <td>1</td>\n",
              "      <td>1</td>\n",
              "    </tr>\n",
              "    <tr>\n",
              "      <th>7619</th>\n",
              "      <td>b232tm66r4b7jsi881a6mo6qc</td>\n",
              "      <td>13813779</td>\n",
              "      <td>2.550</td>\n",
              "      <td>3.92</td>\n",
              "      <td>2.300</td>\n",
              "      <td>2.420</td>\n",
              "      <td>3.94</td>\n",
              "      <td>2.410</td>\n",
              "      <td>0</td>\n",
              "      <td>0</td>\n",
              "    </tr>\n",
              "    <tr>\n",
              "      <th>...</th>\n",
              "      <td>...</td>\n",
              "      <td>...</td>\n",
              "      <td>...</td>\n",
              "      <td>...</td>\n",
              "      <td>...</td>\n",
              "      <td>...</td>\n",
              "      <td>...</td>\n",
              "      <td>...</td>\n",
              "      <td>...</td>\n",
              "      <td>...</td>\n",
              "    </tr>\n",
              "    <tr>\n",
              "      <th>7987</th>\n",
              "      <td>dgtvqq4bwqkgnal8dx3zwccgk</td>\n",
              "      <td>13857861</td>\n",
              "      <td>3.700</td>\n",
              "      <td>3.42</td>\n",
              "      <td>1.930</td>\n",
              "      <td>3.700</td>\n",
              "      <td>3.42</td>\n",
              "      <td>1.930</td>\n",
              "      <td>1</td>\n",
              "      <td>1</td>\n",
              "    </tr>\n",
              "    <tr>\n",
              "      <th>7988</th>\n",
              "      <td>1nb3ab0vbihddp9qh2qviix3o</td>\n",
              "      <td>13857924</td>\n",
              "      <td>2.240</td>\n",
              "      <td>4.25</td>\n",
              "      <td>2.510</td>\n",
              "      <td>2.240</td>\n",
              "      <td>4.25</td>\n",
              "      <td>2.510</td>\n",
              "      <td>0</td>\n",
              "      <td>0</td>\n",
              "    </tr>\n",
              "    <tr>\n",
              "      <th>7989</th>\n",
              "      <td>9q0423juf175stwpppkxi9kic</td>\n",
              "      <td>13857923</td>\n",
              "      <td>1.250</td>\n",
              "      <td>5.80</td>\n",
              "      <td>9.200</td>\n",
              "      <td>1.250</td>\n",
              "      <td>5.80</td>\n",
              "      <td>9.200</td>\n",
              "      <td>1</td>\n",
              "      <td>1</td>\n",
              "    </tr>\n",
              "    <tr>\n",
              "      <th>7990</th>\n",
              "      <td>3y4e7iany0lgbj75cp30g8t90</td>\n",
              "      <td>13857930</td>\n",
              "      <td>8.700</td>\n",
              "      <td>7.10</td>\n",
              "      <td>1.210</td>\n",
              "      <td>8.700</td>\n",
              "      <td>7.10</td>\n",
              "      <td>1.210</td>\n",
              "      <td>0</td>\n",
              "      <td>0</td>\n",
              "    </tr>\n",
              "    <tr>\n",
              "      <th>7991</th>\n",
              "      <td>2ju6pbauusfneayoz42b03nkk</td>\n",
              "      <td>13862399</td>\n",
              "      <td>15.750</td>\n",
              "      <td>8.30</td>\n",
              "      <td>1.114</td>\n",
              "      <td>15.750</td>\n",
              "      <td>8.30</td>\n",
              "      <td>1.114</td>\n",
              "      <td>0</td>\n",
              "      <td>0</td>\n",
              "    </tr>\n",
              "  </tbody>\n",
              "</table>\n",
              "<p>375 rows × 10 columns</p>\n",
              "</div>\n",
              "      <button class=\"colab-df-convert\" onclick=\"convertToInteractive('df-1a0851c6-05e0-4513-a70e-7b5906f4f741')\"\n",
              "              title=\"Convert this dataframe to an interactive table.\"\n",
              "              style=\"display:none;\">\n",
              "        \n",
              "  <svg xmlns=\"http://www.w3.org/2000/svg\" height=\"24px\"viewBox=\"0 0 24 24\"\n",
              "       width=\"24px\">\n",
              "    <path d=\"M0 0h24v24H0V0z\" fill=\"none\"/>\n",
              "    <path d=\"M18.56 5.44l.94 2.06.94-2.06 2.06-.94-2.06-.94-.94-2.06-.94 2.06-2.06.94zm-11 1L8.5 8.5l.94-2.06 2.06-.94-2.06-.94L8.5 2.5l-.94 2.06-2.06.94zm10 10l.94 2.06.94-2.06 2.06-.94-2.06-.94-.94-2.06-.94 2.06-2.06.94z\"/><path d=\"M17.41 7.96l-1.37-1.37c-.4-.4-.92-.59-1.43-.59-.52 0-1.04.2-1.43.59L10.3 9.45l-7.72 7.72c-.78.78-.78 2.05 0 2.83L4 21.41c.39.39.9.59 1.41.59.51 0 1.02-.2 1.41-.59l7.78-7.78 2.81-2.81c.8-.78.8-2.07 0-2.86zM5.41 20L4 18.59l7.72-7.72 1.47 1.35L5.41 20z\"/>\n",
              "  </svg>\n",
              "      </button>\n",
              "      \n",
              "  <style>\n",
              "    .colab-df-container {\n",
              "      display:flex;\n",
              "      flex-wrap:wrap;\n",
              "      gap: 12px;\n",
              "    }\n",
              "\n",
              "    .colab-df-convert {\n",
              "      background-color: #E8F0FE;\n",
              "      border: none;\n",
              "      border-radius: 50%;\n",
              "      cursor: pointer;\n",
              "      display: none;\n",
              "      fill: #1967D2;\n",
              "      height: 32px;\n",
              "      padding: 0 0 0 0;\n",
              "      width: 32px;\n",
              "    }\n",
              "\n",
              "    .colab-df-convert:hover {\n",
              "      background-color: #E2EBFA;\n",
              "      box-shadow: 0px 1px 2px rgba(60, 64, 67, 0.3), 0px 1px 3px 1px rgba(60, 64, 67, 0.15);\n",
              "      fill: #174EA6;\n",
              "    }\n",
              "\n",
              "    [theme=dark] .colab-df-convert {\n",
              "      background-color: #3B4455;\n",
              "      fill: #D2E3FC;\n",
              "    }\n",
              "\n",
              "    [theme=dark] .colab-df-convert:hover {\n",
              "      background-color: #434B5C;\n",
              "      box-shadow: 0px 1px 3px 1px rgba(0, 0, 0, 0.15);\n",
              "      filter: drop-shadow(0px 1px 2px rgba(0, 0, 0, 0.3));\n",
              "      fill: #FFFFFF;\n",
              "    }\n",
              "  </style>\n",
              "\n",
              "      <script>\n",
              "        const buttonEl =\n",
              "          document.querySelector('#df-1a0851c6-05e0-4513-a70e-7b5906f4f741 button.colab-df-convert');\n",
              "        buttonEl.style.display =\n",
              "          google.colab.kernel.accessAllowed ? 'block' : 'none';\n",
              "\n",
              "        async function convertToInteractive(key) {\n",
              "          const element = document.querySelector('#df-1a0851c6-05e0-4513-a70e-7b5906f4f741');\n",
              "          const dataTable =\n",
              "            await google.colab.kernel.invokeFunction('convertToInteractive',\n",
              "                                                     [key], {});\n",
              "          if (!dataTable) return;\n",
              "\n",
              "          const docLinkHtml = 'Like what you see? Visit the ' +\n",
              "            '<a target=\"_blank\" href=https://colab.research.google.com/notebooks/data_table.ipynb>data table notebook</a>'\n",
              "            + ' to learn more about interactive tables.';\n",
              "          element.innerHTML = '';\n",
              "          dataTable['output_type'] = 'display_data';\n",
              "          await google.colab.output.renderOutput(dataTable, element);\n",
              "          const docLink = document.createElement('div');\n",
              "          docLink.innerHTML = docLinkHtml;\n",
              "          element.appendChild(docLink);\n",
              "        }\n",
              "      </script>\n",
              "    </div>\n",
              "  </div>\n",
              "  "
            ]
          },
          "metadata": {},
          "execution_count": 67
        }
      ]
    },
    {
      "cell_type": "code",
      "source": [
        "k1_win_list = []\n",
        "bet_cnt = 0\n",
        "bet_win = 0\n",
        "for k1, res, pred in zip(prem_df.W1live, prem_df.result, prem_df.predict):\n",
        "    if pred == 1:\n",
        "        bet_cnt += 1\n",
        "        if res == 1:\n",
        "            k1_win_list.append(k1 - 1)\n",
        "            bet_win += 1\n",
        "        else:\n",
        "            k1_win_list.append(-1)\n",
        "    else:\n",
        "        k1_win_list.append(0)\n",
        "print('Sum: ', round(sum(k1_win_list), 2))\n",
        "print('Bet count:', bet_cnt)\n",
        "print('Bet wins:', bet_win, ' - bet/win = ', round(bet_win / bet_cnt, 2))"
      ],
      "metadata": {
        "colab": {
          "base_uri": "https://localhost:8080/"
        },
        "id": "3x-GwanMMueS",
        "outputId": "2b94a253-8fca-4039-b0e0-0f1a3d76a5c5"
      },
      "execution_count": null,
      "outputs": [
        {
          "output_type": "stream",
          "name": "stdout",
          "text": [
            "Sum:  164.69\n",
            "Bet count: 177\n",
            "Bet wins: 147  - bet/win =  0.83\n"
          ]
        }
      ]
    },
    {
      "cell_type": "code",
      "source": [
        "k1_win_list = []\n",
        "bet_cnt = 0\n",
        "bet_win = 0\n",
        "for k1, res, pred in zip(prem_df.W1live, prem_df.result, prem_df.predict):\n",
        "    if pred == 0:\n",
        "        bet_cnt += 1\n",
        "        if res == 0:\n",
        "            k1_win_list.append(0.95 / (k1 - 1))\n",
        "            bet_win += 1\n",
        "        else:\n",
        "            k1_win_list.append(-1)\n",
        "    else:\n",
        "        k1_win_list.append(0)\n",
        "print('Sum: ', round(sum(k1_win_list), 2))\n",
        "print('Bet count:', bet_cnt)\n",
        "print('Bet wins:', bet_win, ' - bet/win = ', round(bet_win / bet_cnt, 2))"
      ],
      "metadata": {
        "colab": {
          "base_uri": "https://localhost:8080/"
        },
        "id": "wBjWKIhHNxQk",
        "outputId": "225ab29a-9410-4553-b461-a6d62d28d1c1"
      },
      "execution_count": null,
      "outputs": [
        {
          "output_type": "stream",
          "name": "stdout",
          "text": [
            "Sum:  104.81\n",
            "Bet count: 198\n",
            "Bet wins: 166  - bet/win =  0.84\n"
          ]
        }
      ]
    },
    {
      "cell_type": "code",
      "source": [
        "loader_te = SingleLoader(dataset, sample_weights=mask_te)"
      ],
      "metadata": {
        "id": "xNb84Y7-H1XA"
      },
      "execution_count": null,
      "outputs": []
    },
    {
      "cell_type": "code",
      "source": [
        "for x in loader_te.load():\n",
        "    print(x)\n",
        "    break"
      ],
      "metadata": {
        "colab": {
          "base_uri": "https://localhost:8080/"
        },
        "id": "nmeqwyltmpMZ",
        "outputId": "54b17a3c-8b78-4cdf-bada-58d56570374b"
      },
      "execution_count": null,
      "outputs": [
        {
          "output_type": "stream",
          "name": "stdout",
          "text": [
            "((<tf.Tensor: shape=(500100, 793), dtype=float32, numpy=\n",
            "array([[0., 0., 0., ..., 0., 0., 0.],\n",
            "       [0., 0., 0., ..., 0., 0., 0.],\n",
            "       [0., 0., 0., ..., 0., 0., 0.],\n",
            "       ...,\n",
            "       [0., 0., 0., ..., 0., 0., 0.],\n",
            "       [0., 0., 0., ..., 0., 0., 0.],\n",
            "       [0., 0., 0., ..., 0., 0., 0.]], dtype=float32)>, <tensorflow.python.framework.sparse_tensor.SparseTensor object at 0x7fe6f118a290>), <tf.Tensor: shape=(500100, 1), dtype=float32, numpy=\n",
            "array([[1.],\n",
            "       [0.],\n",
            "       [0.],\n",
            "       ...,\n",
            "       [0.],\n",
            "       [1.],\n",
            "       [0.]], dtype=float32)>, <tf.Tensor: shape=(500100,), dtype=bool, numpy=array([ True,  True,  True, ..., False, False, False])>)\n"
          ]
        }
      ]
    }
  ]
}