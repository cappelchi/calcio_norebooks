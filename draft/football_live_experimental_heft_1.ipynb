{
  "nbformat": 4,
  "nbformat_minor": 0,
  "metadata": {
    "colab": {
      "provenance": [],
      "collapsed_sections": [
        "JnoakdYG0WIm",
        "7dEcqW_jH4pw",
        "X69hHEsFix4n",
        "RocnM6a5lPkc",
        "F7qL3Au-nbm0",
        "8d0WuYBbZ2ok",
        "vyGmzdvMGFen",
        "MlSvKgNkGtlX"
      ],
      "authorship_tag": "ABX9TyNi8TIn88cSAoExXhl+u4Zq",
      "include_colab_link": true
    },
    "kernelspec": {
      "name": "python3",
      "display_name": "Python 3"
    },
    "language_info": {
      "name": "python"
    }
  },
  "cells": [
    {
      "cell_type": "markdown",
      "metadata": {
        "id": "view-in-github",
        "colab_type": "text"
      },
      "source": [
        "<a href=\"https://colab.research.google.com/github/cappelchi/calcio_notebooks/blob/main/draft/football_live_experimental_heft_1.ipynb\" target=\"_parent\"><img src=\"https://colab.research.google.com/assets/colab-badge.svg\" alt=\"Open In Colab\"/></a>"
      ]
    },
    {
      "cell_type": "markdown",
      "source": [
        "### Project config"
      ],
      "metadata": {
        "id": "JnoakdYG0WIm"
      }
    },
    {
      "cell_type": "code",
      "source": [
        "try:\n",
        "    import neptune.new as neptune\n",
        "except:\n",
        "    !pip install neptune-client >> None\n",
        "    import neptune.new as neptune\n",
        "#from neptune.new.integrations.tensorflow_keras import NeptuneCallback\n",
        "def get_credential(frmwork = 'neptune_team'):\n",
        "    with open('credential.txt', 'r') as container:\n",
        "        for line in container:\n",
        "            if frmwork in line:\n",
        "                login, psw = line.split(' ')[1], line.split(' ')[2].split('\\n')[0]\n",
        "                return login, psw"
      ],
      "metadata": {
        "id": "O9bCK_dx0QSM"
      },
      "execution_count": 1,
      "outputs": []
    },
    {
      "cell_type": "code",
      "source": [
        "#@title Set API key for neptune.ai\n",
        "set_api = True #@param {type:\"boolean\"}\n",
        "if set_api:\n",
        "    username, api_key = get_credential()"
      ],
      "metadata": {
        "id": "oDK6n6CVQidT"
      },
      "execution_count": 2,
      "outputs": []
    },
    {
      "cell_type": "markdown",
      "metadata": {
        "id": "7dEcqW_jH4pw"
      },
      "source": [
        "### Installations"
      ]
    },
    {
      "cell_type": "code",
      "source": [
        "!pip install --upgrade gensim"
      ],
      "metadata": {
        "id": "dP-bo_CB7GgI",
        "colab": {
          "base_uri": "https://localhost:8080/"
        },
        "outputId": "f89d5634-7fd0-4d6d-cfd7-a8ed6b83e0c1"
      },
      "execution_count": 3,
      "outputs": [
        {
          "output_type": "stream",
          "name": "stdout",
          "text": [
            "Looking in indexes: https://pypi.org/simple, https://us-python.pkg.dev/colab-wheels/public/simple/\n",
            "Requirement already satisfied: gensim in /usr/local/lib/python3.8/dist-packages (3.6.0)\n",
            "Collecting gensim\n",
            "  Downloading gensim-4.3.0-cp38-cp38-manylinux_2_12_x86_64.manylinux2010_x86_64.whl (24.1 MB)\n",
            "\u001b[2K     \u001b[90m━━━━━━━━━━━━━━━━━━━━━━━━━━━━━━━━━━━━━━━━\u001b[0m \u001b[32m24.1/24.1 MB\u001b[0m \u001b[31m84.0 MB/s\u001b[0m eta \u001b[36m0:00:00\u001b[0m\n",
            "\u001b[?25hCollecting FuzzyTM>=0.4.0\n",
            "  Downloading FuzzyTM-2.0.5-py3-none-any.whl (29 kB)\n",
            "Requirement already satisfied: smart-open>=1.8.1 in /usr/local/lib/python3.8/dist-packages (from gensim) (6.3.0)\n",
            "Requirement already satisfied: numpy>=1.18.5 in /usr/local/lib/python3.8/dist-packages (from gensim) (1.21.6)\n",
            "Requirement already satisfied: scipy>=1.7.0 in /usr/local/lib/python3.8/dist-packages (from gensim) (1.7.3)\n",
            "Requirement already satisfied: pandas in /usr/local/lib/python3.8/dist-packages (from FuzzyTM>=0.4.0->gensim) (1.3.5)\n",
            "Collecting pyfume\n",
            "  Downloading pyFUME-0.2.25-py3-none-any.whl (67 kB)\n",
            "\u001b[2K     \u001b[90m━━━━━━━━━━━━━━━━━━━━━━━━━━━━━━━━━━━━━━━━\u001b[0m \u001b[32m67.1/67.1 KB\u001b[0m \u001b[31m8.9 MB/s\u001b[0m eta \u001b[36m0:00:00\u001b[0m\n",
            "\u001b[?25hRequirement already satisfied: pytz>=2017.3 in /usr/local/lib/python3.8/dist-packages (from pandas->FuzzyTM>=0.4.0->gensim) (2022.7)\n",
            "Requirement already satisfied: python-dateutil>=2.7.3 in /usr/local/lib/python3.8/dist-packages (from pandas->FuzzyTM>=0.4.0->gensim) (2.8.2)\n",
            "Collecting simpful\n",
            "  Downloading simpful-2.9.0-py3-none-any.whl (30 kB)\n",
            "Collecting fst-pso\n",
            "  Downloading fst-pso-1.8.1.tar.gz (18 kB)\n",
            "  Preparing metadata (setup.py) ... \u001b[?25l\u001b[?25hdone\n",
            "Requirement already satisfied: six>=1.5 in /usr/local/lib/python3.8/dist-packages (from python-dateutil>=2.7.3->pandas->FuzzyTM>=0.4.0->gensim) (1.15.0)\n",
            "Collecting miniful\n",
            "  Downloading miniful-0.0.6.tar.gz (2.8 kB)\n",
            "  Preparing metadata (setup.py) ... \u001b[?25l\u001b[?25hdone\n",
            "Requirement already satisfied: requests in /usr/local/lib/python3.8/dist-packages (from simpful->pyfume->FuzzyTM>=0.4.0->gensim) (2.25.1)\n",
            "Requirement already satisfied: chardet<5,>=3.0.2 in /usr/local/lib/python3.8/dist-packages (from requests->simpful->pyfume->FuzzyTM>=0.4.0->gensim) (4.0.0)\n",
            "Requirement already satisfied: certifi>=2017.4.17 in /usr/local/lib/python3.8/dist-packages (from requests->simpful->pyfume->FuzzyTM>=0.4.0->gensim) (2022.12.7)\n",
            "Requirement already satisfied: urllib3<1.27,>=1.21.1 in /usr/local/lib/python3.8/dist-packages (from requests->simpful->pyfume->FuzzyTM>=0.4.0->gensim) (1.26.13)\n",
            "Requirement already satisfied: idna<3,>=2.5 in /usr/local/lib/python3.8/dist-packages (from requests->simpful->pyfume->FuzzyTM>=0.4.0->gensim) (2.10)\n",
            "Building wheels for collected packages: fst-pso, miniful\n",
            "  Building wheel for fst-pso (setup.py) ... \u001b[?25l\u001b[?25hdone\n",
            "  Created wheel for fst-pso: filename=fst_pso-1.8.1-py3-none-any.whl size=20443 sha256=39f8b42967f2108ff4a5a7371f1a21f2fcf001df2c1ddd6eec413407e49aeaf4\n",
            "  Stored in directory: /root/.cache/pip/wheels/6a/65/c4/d27eeee9ba3fc150a0dae150519591103b9e0dbffde3ae77dc\n",
            "  Building wheel for miniful (setup.py) ... \u001b[?25l\u001b[?25hdone\n",
            "  Created wheel for miniful: filename=miniful-0.0.6-py3-none-any.whl size=3530 sha256=c04cebe8fd280dbf42a926da29267166372b9b368a1d4087276a852ad15fd304\n",
            "  Stored in directory: /root/.cache/pip/wheels/ba/d9/a0/ddd93af16d5855dd9bad417623e70948fdac119d1d34fb17c8\n",
            "Successfully built fst-pso miniful\n",
            "Installing collected packages: simpful, miniful, fst-pso, pyfume, FuzzyTM, gensim\n",
            "  Attempting uninstall: gensim\n",
            "    Found existing installation: gensim 3.6.0\n",
            "    Uninstalling gensim-3.6.0:\n",
            "      Successfully uninstalled gensim-3.6.0\n",
            "Successfully installed FuzzyTM-2.0.5 fst-pso-1.8.1 gensim-4.3.0 miniful-0.0.6 pyfume-0.2.25 simpful-2.9.0\n"
          ]
        }
      ]
    },
    {
      "cell_type": "markdown",
      "metadata": {
        "id": "X69hHEsFix4n"
      },
      "source": [
        "### Downloads"
      ]
    },
    {
      "cell_type": "code",
      "source": [
        "data_version = 'football_live_221229/'\n",
        "project = neptune.init_project(\n",
        "    name=\"scomesse/football\", \n",
        "    api_token = api_key\n",
        "    )\n",
        "project[data_version + 'data.rar'].download('./data.rar')\n",
        "project[data_version + 'info.rar'].download('./info.rar')\n",
        "project[data_version + 'prem.rar'].download('./prem.rar')\n",
        "project[data_version + 'train_id.csv'].download('./train_id.csv')\n",
        "project[data_version + 'test_id.csv'].download('./test_id.csv')\n",
        "project[data_version + 'holdout_id.csv'].download('./holdout_id.csv')\n",
        "project[data_version + 'data_train.csv.gz'].download('./data_train.csv.gz')\n",
        "project[data_version + 'data_test.csv.gz'].download('./data_test.csv.gz')\n",
        "project[data_version + 'data_hold.csv.gz'].download('./data_hold.csv.gz')\n",
        "\n",
        "#del project[data_version]\n",
        "project.stop()"
      ],
      "metadata": {
        "colab": {
          "base_uri": "https://localhost:8080/"
        },
        "id": "ccFhlCBt1jw8",
        "outputId": "51a79681-3398-4b84-9b9f-ae761ae195ff"
      },
      "execution_count": 4,
      "outputs": [
        {
          "output_type": "stream",
          "name": "stdout",
          "text": [
            "https://app.neptune.ai/scomesse/football/\n",
            "Remember to stop your project once you’ve finished logging your metadata (https://docs.neptune.ai/api/project#stop). It will be stopped automatically only when the notebook kernel/interactive console is terminated.\n",
            "Shutting down background jobs, please wait a moment...\n",
            "Done!\n",
            "All 0 operations synced, thanks for waiting!\n",
            "Explore the metadata in the Neptune app:\n",
            "https://app.neptune.ai/scomesse/football/metadata\n"
          ]
        }
      ]
    },
    {
      "cell_type": "markdown",
      "metadata": {
        "id": "RocnM6a5lPkc"
      },
      "source": [
        "### Imports"
      ]
    },
    {
      "cell_type": "code",
      "source": [
        "import pandas as pd\n",
        "import numpy as np\n",
        "pd.options.display.max_columns = 50\n",
        "pd.options.display.max_rows = 100\n",
        "print(pd.__version__)\n",
        "print(np.__version__)\n",
        "\n",
        "#import dask.dataframe as dd\n",
        "import subprocess\n",
        "import sys\n",
        "from glob import glob\n",
        "from tqdm import tqdm"
      ],
      "metadata": {
        "colab": {
          "base_uri": "https://localhost:8080/"
        },
        "id": "EWwYvlK9ZKpg",
        "outputId": "bba4c278-04c7-480b-c250-1232cb335275"
      },
      "execution_count": 3,
      "outputs": [
        {
          "output_type": "stream",
          "name": "stdout",
          "text": [
            "1.3.5\n",
            "1.21.6\n"
          ]
        }
      ]
    },
    {
      "cell_type": "code",
      "source": [
        "import plotly.express as px"
      ],
      "metadata": {
        "id": "lZfysmuzW4XD"
      },
      "execution_count": 4,
      "outputs": []
    },
    {
      "cell_type": "code",
      "source": [
        "from sklearn.preprocessing import StandardScaler, MinMaxScaler, RobustScaler\n",
        "from sklearn.preprocessing import PowerTransformer, QuantileTransformer"
      ],
      "metadata": {
        "id": "2RJZ4eSygIDl"
      },
      "execution_count": 5,
      "outputs": []
    },
    {
      "cell_type": "markdown",
      "metadata": {
        "id": "umm53OS2Ljgg"
      },
      "source": [
        "### Code"
      ]
    },
    {
      "cell_type": "markdown",
      "source": [
        "#####Functions"
      ],
      "metadata": {
        "id": "F7qL3Au-nbm0"
      }
    },
    {
      "cell_type": "code",
      "source": [
        "def run_bash(bashCommand:str, nameCommand = ''):\n",
        "        process = subprocess.Popen([bashCommand], \n",
        "                           shell=True)\n",
        "        _, error = process.communicate()\n",
        "        if error:\n",
        "            print(f'{nameCommand} error:\\n', error)"
      ],
      "metadata": {
        "id": "6xkKvRZwZPeg"
      },
      "execution_count": 6,
      "outputs": []
    },
    {
      "cell_type": "code",
      "source": [
        "# Присоединяем итоговый результат и по первому тайму\n",
        "def add_match_results (data_df:pd.DataFrame, cols = ['Id', 'Result1', 'Result2', 'Periods'], info_path = './info.csv'):\n",
        "    info_df = pd.read_csv(info_path, sep = ';', usecols = cols)\n",
        "    info_df[['Period1', 'Period2', 'Period3', 'Period4']] = info_df['Periods'].str.split(',', expand = True)\n",
        "    info_df[['Time1Res1', 'Time1Res2']] = info_df['Period1'].str.split(':', expand = True)\n",
        "    info_df = info_df[~info_df['Id'].duplicated(keep = False)]\n",
        "    period1_result_dict = info_df.set_index('Id')[['Time1Res1', 'Time1Res2', 'Result1', 'Result2']].to_dict(orient = 'index')\n",
        "    #data_df.loc[:, ['Time1Res1', 'Time1Res2', 'Result1', 'Result2']] =  \\\n",
        "    return [[period1_result_dict[id]['Time1Res1'], period1_result_dict[id]['Time1Res1'], \n",
        "    period1_result_dict[id]['Result1'], period1_result_dict[id]['Result2']] \n",
        "    if id in period1_result_dict else [None, None, None, None] for id in tqdm(data_df['Id'].values, total = len(data_df))]\n",
        "    "
      ],
      "metadata": {
        "id": "S0Ejtg1MgCLt"
      },
      "execution_count": 7,
      "outputs": []
    },
    {
      "cell_type": "code",
      "source": [
        "# Добавляем прематчевые линии\n",
        "def add_match_lines (data_df:pd.DataFrame, cols = ['P1', 'PX', 'P2', 'PR'], prem_path = './prem.csv'):\n",
        "    prem_df = pd.read_csv(prem_path, sep = ';')\n",
        "    prem_df = prem_df[~prem_df['Id'].duplicated(keep = False)]\n",
        "    prem_dict = prem_df.set_index('Id')[cols].to_dict(orient = 'index')\n",
        "    #data_df.loc[:,['P1', 'PX', 'P2', 'PR']] =  \\\n",
        "    return [[prem_dict[id]['P1'], prem_dict[id]['PX'], prem_dict[id]['P2'], prem_dict[id]['PR']] \n",
        "    if id in prem_dict else [None, None, None, None] for id in tqdm(data_df['Id'].values, total = len(data_df))]"
      ],
      "metadata": {
        "id": "5qtEkVIt86Ur"
      },
      "execution_count": 8,
      "outputs": []
    },
    {
      "cell_type": "code",
      "source": [
        "def transform_dataset(data_df:pd.DataFrame, remain = []):\n",
        "\n",
        "    # трансформируем минуты\n",
        "    data_df['min_norm'] = data_df['Minute'].astype(np.float32) / 50\n",
        "    print('1. Минуты посчитаны...')\n",
        "    # трансформируем голы\n",
        "    data_df['Score1_norm'] = data_df['Score1'].fillna(method = 'ffill').astype(np.float32) / 4\n",
        "    data_df.loc[data_df['Score1'] > 3, ['Score1_norm']] = 1.0\n",
        "    data_df['Score2_norm'] = data_df['Score2'].fillna(method = 'ffill').astype(np.float32) / 4\n",
        "    data_df.loc[data_df['Score2'] > 3, ['Score2_norm']] = 1.0\n",
        "\n",
        "    data_df['Score_diff'] = data_df['Score1'].astype(np.int16) - data_df['Score2'].astype(np.int16)\n",
        "    data_df.loc[data_df['Score_diff'] < -4, ['Score_diff']] = -4\n",
        "    data_df.loc[data_df['Score_diff'] > 4, ['Score_diff']] = 4\n",
        "    data_df[[f'Score_cat_{n}' for n in range(1, 10)]] = pd.get_dummies(data_df['Score_diff']).values\n",
        "    data_df['Score_diff'] = data_df['Score_diff'].astype(np.float32) / np.float32(4.0)\n",
        "    if 'Score1' not in remain:\n",
        "        data_df = data_df.drop(['Score1', 'Score2'], axis = 1)\n",
        "    print('2. Голы посчитаны...')\n",
        "    #трансформируем атаки\n",
        "    data_df['A1_scaled'] = data_df['A1'].astype(np.float32) / 75\n",
        "    data_df.loc[data_df['A1'] >= 60, ['A1_scaled']] = (60 + (data_df['A1'] - 60) / 4) / 75\n",
        "    data_df['A2_scaled'] = data_df['A2'].astype(np.float32) / 75\n",
        "    data_df.loc[data_df['A2'] >= 60, ['A2_scaled']] = (60 + (data_df['A2'] - 60) / 4) / 75\n",
        "    # атаки в минуту\n",
        "    data_df['A1perMIN'] = data_df['A1'].astype(np.float32) / data_df['Minute'].astype(np.float32)\n",
        "    data_df.loc[data_df['A1perMIN'] > 4, ['A1perMIN']] = np.float32(4.0)\n",
        "    data_df['A2perMIN'] = data_df['A2'].astype(np.float32) / data_df['Minute'].astype(np.float32)\n",
        "    data_df.loc[data_df['A2perMIN'] > 4, ['A2perMIN']] = np.float32(4.0)\n",
        "    # динамика атак\n",
        "    data_df['A1relativ'] = data_df['A1'].astype(np.float32) - data_df['A1'].shift(5).astype(np.float32)\n",
        "    data_df.loc[data_df['A1relativ'] < 0, ['A1relativ']] = np.float32(0.0)\n",
        "    data_df['A1relativ'] = data_df['A1relativ'].fillna(0)\n",
        "    data_df.loc[data_df['A1relativ'] > 15, ['A1relativ']] = np.float32(15.)\n",
        "    data_df['A2relativ'] = data_df['A2'].astype(np.float32) - data_df['A2'].shift(5).astype(np.float32)\n",
        "    data_df.loc[data_df['A2relativ'] < 0, ['A2relativ']] =  np.float32(0.0)\n",
        "    data_df['A2relativ'] = data_df['A2relativ'].fillna(0)\n",
        "    data_df.loc[data_df['A2relativ'] > 15, ['A2relativ']] = np.float32(15.)\n",
        "    if 'A1' not in remain:\n",
        "        data_df = data_df.drop(['A1', 'A2'], axis = 1)\n",
        "    print('3. Атаки посчитаны...')\n",
        "    # трансформируем опасные атаки\n",
        "    data_df['DA1_scaled'] = data_df['DA1'].astype(np.float32) / 50\n",
        "    data_df.loc[data_df['DA1'] >= 40, ['DA1_scaled']] = (80 + (data_df['DA1'] - 40) / 3) / 100\n",
        "    data_df['DA2_scaled'] = data_df['DA2'].astype(np.float32) / 50\n",
        "    data_df.loc[data_df['DA2'] >= 40, ['DA2_scaled']] = (80 + (data_df['DA2'] - 40) / 3) / 100\n",
        "    # опасные атаки в минуту    \n",
        "    data_df['DA1perMIN'] = data_df['DA1'].astype(np.float32) / data_df['Minute'].astype(np.float32)\n",
        "    data_df.loc[data_df['DA1perMIN'] > 3, ['DA1perMIN']] = np.float32(3.0)\n",
        "    data_df['DA2perMIN'] = data_df['DA2'].astype(np.float32) / data_df['Minute'].astype(np.float32)\n",
        "    data_df.loc[data_df['DA2perMIN'] > 3, ['DA2perMIN']] = np.float32(3.0)\n",
        "    # динамика опасных атак\n",
        "    data_df['DA1relativ'] = data_df['DA1'].astype(np.float32) - data_df['DA1'].shift(5).astype(np.float32)\n",
        "    data_df.loc[data_df['DA1relativ'] < 0, ['DA1relativ']] = np.float32(0.0)\n",
        "    data_df['DA1relativ'] = data_df['DA1relativ'].fillna(0)\n",
        "    data_df.loc[data_df['DA1relativ'] > 10, ['DA1relativ']] = np.float32(10.)\n",
        "    data_df['DA2relativ'] = data_df['DA2'].astype(np.float32) - data_df['DA2'].shift(5).astype(np.float32)\n",
        "    data_df.loc[data_df['DA2relativ'] < 0, ['DA2relativ']] = np.float32(0.0)\n",
        "    data_df['DA2relativ'] = data_df['DA2relativ'].fillna(0)\n",
        "    data_df.loc[data_df['DA2relativ'] > 10, ['DA2relativ']] = np.float32(10.)\n",
        "    if 'DA1' not in remain:\n",
        "        data_df = data_df.drop(['DA1', 'DA2'], axis = 1)\n",
        "    if 'Minute' not in remain:\n",
        "        data_df = data_df.drop(['Minute'], axis = 1)\n",
        "    print('4. Опасные атаки посчитаны...')\n",
        "    # трансформируем владение мячом\n",
        "    data_df['Pos1_cleaned'] = data_df['Pos1'].fillna(method = 'ffill').astype(np.float32) /  np.float32(100.0)\n",
        "    data_df.loc[data_df['Pos1_cleaned'] < 0.2, ['Pos1_cleaned']] = np.float32(0.2)\n",
        "    data_df.loc[data_df['Pos1_cleaned'] > 0.8, ['Pos1_cleaned']] = np.float32(0.8)\n",
        "    data_df['Pos2_cleaned'] = data_df['Pos2'].fillna(method = 'ffill').astype(np.float32) /  np.float32(100.0)\n",
        "    data_df.loc[data_df['Pos2_cleaned'] < 0.2, ['Pos2_cleaned']] = np.float32(0.2)\n",
        "    data_df.loc[data_df['Pos2_cleaned'] > 0.8, ['Pos2_cleaned']] = np.float32(0.8)\n",
        "    if 'Pos1' not in remain:\n",
        "        data_df = data_df.drop(['Pos1', 'Pos2'], axis = 1)\n",
        "    print('5. Владение мячом посчитпно...')\n",
        "    # трансформируем удары\n",
        "    data_df['Off1_norm'] = data_df['Off1'].fillna(method = 'ffill').astype(np.float32) / np.float32(10.0)\n",
        "    data_df.loc[data_df['Off1_norm'] > 1.0, ['Off1_norm']] = np.float32(1.0)\n",
        "    data_df['Off2_norm'] = data_df['Off2'].fillna(method = 'ffill').astype(np.float32) / np.float32(10.0)\n",
        "    data_df.loc[data_df['Off2_norm'] > 1.0, ['Off2_norm']] = np.float32(1.0)\n",
        "    if 'Off1' not in remain:\n",
        "        data_df = data_df.drop(['Off1', 'Off2'], axis = 1)\n",
        "    print('6. Удары посчитаны...')\n",
        "    # трансформируем удары в створ\n",
        "    data_df['On1_norm'] = data_df['On1'].fillna(method = 'ffill').astype(np.float32) / np.float32(5.0)\n",
        "    data_df.loc[data_df['On1_norm'] > 1.0, ['On1_norm']] = np.float32(1.0)\n",
        "    data_df['On2_norm'] = data_df['On2'].fillna(method = 'ffill').astype(np.float32) / np.float32(5.0)\n",
        "    data_df.loc[data_df['On2_norm'] > 1.0, ['On2_norm']] = np.float32(1.0)\n",
        "    if 'On1' not in remain:\n",
        "        data_df = data_df.drop(['On1', 'On2'], axis = 1)    \n",
        "    print('7. Удары в створ посчитаны...')\n",
        "    # трансформируем желтые карточки\n",
        "    data_df['YC1_transformed'] = data_df['YC1'].fillna(0).astype(np.float32) / np.float32(2.0)\n",
        "    data_df.loc[data_df['YC1_transformed'] > 1.0, ['YC1_transformed']] = np.float32(1.0)\n",
        "    data_df['YC2_transformed'] = data_df['YC2'].fillna(0).astype(np.float32) / np.float32(2.0)\n",
        "    data_df.loc[data_df['YC2_transformed'] > 1.0, ['YC2_transformed']] = np.float32(1.0)\n",
        "    if 'YC1' not in remain:\n",
        "        data_df = data_df.drop(['YC1', 'YC2'], axis = 1)\n",
        "    print('8. Жёлтые карточки посчитаны...')\n",
        "    # трансформируем красные карточки\n",
        "    data_df['RC1_transformed'] = data_df['RC1'].fillna(0).astype(np.int8)\n",
        "    data_df.loc[data_df['RC1_transformed'] > 1, ['RC1_transformed']] = np.int8(1)\n",
        "    data_df['RC2_transformed'] = data_df['RC2'].fillna(0).astype(np.int8)\n",
        "    data_df.loc[data_df['RC2_transformed'] > 1, ['RC2_transformed']] = np.int8(1)\n",
        "    if 'RC1' not in remain:\n",
        "        data_df = data_df.drop(['RC1', 'RC2'], axis = 1)\n",
        "    print('9. Красные карточки посчитаны...')\n",
        "    # трансформируем замены\n",
        "    data_df['Sub1_transformed'] = data_df['Sub1'].fillna(0).astype(np.int8)\n",
        "    data_df.loc[data_df['Sub1_transformed'] > 1, ['Sub1_transformed']] = np.int8(1)\n",
        "    data_df['Sub2_transformed'] = data_df['Sub2'].fillna(0).astype(np.int8)\n",
        "    data_df.loc[data_df['Sub2_transformed'] > 1, ['Sub2_transformed']] = np.int8(1)\n",
        "    if 'Sub1' not in remain:\n",
        "        data_df = data_df.drop(['Sub1', 'Sub2'], axis = 1)\n",
        "    print('10. Замены посчитаны...')\n",
        "    # трансформируем угловык\n",
        "    data_df['Cor1_transformed'] = data_df['Cor1'].fillna(0).astype(np.float32) / np.float32(6.0)\n",
        "    data_df.loc[data_df['Cor1_transformed'] > 1.0, ['Cor1_transformed']] = np.float32(1.0)\n",
        "    data_df['Cor2_transformed'] = data_df['Cor2'].fillna(0).astype(np.float32) / np.float32(6.0)\n",
        "    data_df.loc[data_df['Cor2_transformed'] > 1.0, ['Cor2_transformed']] = np.float32(1.0)\n",
        "    if 'Cor1' not in remain:\n",
        "        data_df = data_df.drop(['Cor1', 'Cor2'], axis = 1)\n",
        "    print('11. Угловые посчитаны...')\n",
        "    # трансформируем линию\n",
        "    data_df['P1_transformed'] = np.log(data_df['P1'], dtype = np.float32) / 2\n",
        "    data_df['P2_transformed'] = np.log(data_df['P2'], dtype = np.float32) / 2\n",
        "    if 'P1' not in remain:\n",
        "        data_df = data_df.drop(['P1', 'P2'], axis = 1)\n",
        "    print('12. Линии посчитаны...')\n",
        "    if 'Pen1' not in remain:\n",
        "        data_df = data_df.drop(['Pen1', 'Pen2'], axis = 1)\n",
        "    if 'Active' not in remain:\n",
        "        data_df = data_df.drop(['Active'], axis = 1)\n",
        "    return data_df"
      ],
      "metadata": {
        "id": "9bdxnVfzJb0g"
      },
      "execution_count": 12,
      "outputs": []
    },
    {
      "cell_type": "markdown",
      "source": [
        "#### Unpack"
      ],
      "metadata": {
        "id": "8d0WuYBbZ2ok"
      }
    },
    {
      "cell_type": "code",
      "source": [
        "for file in glob('./*'):    \n",
        "    if '.rar' in file:\n",
        "        print(file)\n",
        "        bash = f'unrar e {file} && rm {file}'\n",
        "        run_bash(bash)"
      ],
      "metadata": {
        "colab": {
          "base_uri": "https://localhost:8080/"
        },
        "id": "y2MvM5xqZ4JJ",
        "outputId": "c10f3768-1631-4128-8ba3-c2e02b3eac59"
      },
      "execution_count": 9,
      "outputs": [
        {
          "output_type": "stream",
          "name": "stdout",
          "text": [
            "./prem.rar\n",
            "./info.rar\n",
            "./data.rar\n"
          ]
        }
      ]
    },
    {
      "cell_type": "markdown",
      "source": [
        "### Preprocessing & Feature engineering"
      ],
      "metadata": {
        "id": "IZHNQL_7Gvie"
      }
    },
    {
      "cell_type": "markdown",
      "source": [
        "#### Test set"
      ],
      "metadata": {
        "id": "S6bX5IB5VdzN"
      }
    },
    {
      "cell_type": "code",
      "source": [
        "data_df = pd.read_csv(\n",
        "    './data_test.csv.gz', \n",
        "    dtype = {\n",
        "        'Id':np.int32, 'Minute':np.int16, 'Active':np.int8,\n",
        "        'Score1':np.int16, 'Score2':np.int16, 'A1':np.int16, 'A2':np.int16,\n",
        "        'DA1':np.int16, 'DA2':np.int16,'Pos1':np.float32, 'Pos2':np.float32,\n",
        "        'Off1':np.int16, 'Off2':np.int16,'On1':np.int16, 'On2':np.int16,\n",
        "        'YC1':np.float32, 'YC2':np.float32, 'RC1':np.float32, 'RC2':np.float32,\n",
        "        'Sub1':np.float32, 'Sub2':np.float32, 'Pen1':np.float32, 'Pen2':np.float32,\n",
        "        'Cor1':np.float32, 'Cor2':np.float32,\n",
        "        }\n",
        "    )"
      ],
      "metadata": {
        "id": "1dtxjj66Vbrw"
      },
      "execution_count": 9,
      "outputs": []
    },
    {
      "cell_type": "code",
      "source": [
        "## Добавляем финальный результатк тесту\n",
        "data_df.loc[:, ['Time1Res1', 'Time1Res2', 'Result1', 'Result2']] = add_match_results (data_df)\n",
        "isdigit = [str(a) for a in range(20)]\n",
        "data_df.loc[~data_df['Time1Res1'].isin(isdigit), ['Time1Res1']] = -1\n",
        "data_df.loc[~data_df['Time1Res2'].isin(isdigit), ['Time1Res2']] = -1\n",
        "data_df[['Time1Res1', 'Time1Res2']] = data_df[['Time1Res1', 'Time1Res2']].astype(np.int16)\n",
        "data_df[['Result1', 'Result2']] = data_df[['Result1', 'Result2']].astype(np.int16)\n",
        "data_df = data_df.drop(['Time1Res1', 'Time1Res2'], axis = 1)"
      ],
      "metadata": {
        "colab": {
          "base_uri": "https://localhost:8080/"
        },
        "id": "Co_LfAfDVqeP",
        "outputId": "63fa1000-225c-4b5d-e238-1ca924b4f9f7"
      },
      "execution_count": 10,
      "outputs": [
        {
          "output_type": "stream",
          "name": "stderr",
          "text": [
            "100%|██████████| 2598283/2598283 [00:29<00:00, 86647.81it/s] \n"
          ]
        }
      ]
    },
    {
      "cell_type": "code",
      "source": [
        "## Добавляем линии к тесту\n",
        "data_df.loc[:,['P1', 'PX', 'P2', 'PR']] = add_match_lines (data_df)\n",
        "data_df[['P1', 'PX', 'P2', 'PR']] = data_df[['P1', 'PX', 'P2', 'PR']].astype(np.float32)\n",
        "data_df = data_df.drop(['PX', 'PR'], axis = 1)"
      ],
      "metadata": {
        "colab": {
          "base_uri": "https://localhost:8080/"
        },
        "id": "oqk8tIKYVrF0",
        "outputId": "f07d3186-ae7e-4170-b0a6-3b5135eeec11"
      },
      "execution_count": 11,
      "outputs": [
        {
          "output_type": "stream",
          "name": "stderr",
          "text": [
            "100%|██████████| 2598283/2598283 [00:21<00:00, 118852.31it/s]\n"
          ]
        }
      ]
    },
    {
      "cell_type": "code",
      "source": [
        "data_df = transform_dataset(data_df) \n",
        "    #remain = \n",
        "    #    ['Id', 'Minute', 'Active', 'Score1', 'Score2', 'A1', 'A2', 'DA1', 'DA2',\n",
        "    #   'Pos1', 'Pos2', 'Off1', 'Off2', 'On1', 'On2', 'YC1', 'YC2', 'RC1',\n",
        "    #   'RC2', 'Sub1', 'Sub2', 'Pen1', 'Pen2', 'Cor1', 'Cor2', 'P1', 'P2']\n",
        "    #   )"
      ],
      "metadata": {
        "colab": {
          "base_uri": "https://localhost:8080/"
        },
        "id": "FG5sZen4VxnJ",
        "outputId": "92f547b7-26b8-4f1b-c846-398ea6ce361d"
      },
      "execution_count": 13,
      "outputs": [
        {
          "output_type": "stream",
          "name": "stdout",
          "text": [
            "1. Минуты посчитаны...\n",
            "2. Голы посчитаны...\n",
            "3. Атаки посчитаны...\n",
            "4. Опасные атаки посчитаны...\n",
            "5. Владение мячом посчитпно...\n",
            "6. Удары посчитаны...\n",
            "7. Удары в створ посчитаны...\n",
            "8. Жёлтые карточки посчитаны...\n",
            "9. Красные карточки посчитаны...\n",
            "10. Замены посчитаны...\n",
            "11. Угловые посчитаны...\n",
            "12. Линии посчитаны...\n"
          ]
        }
      ]
    },
    {
      "cell_type": "code",
      "source": [
        "test_df = data_df.copy(deep = True)"
      ],
      "metadata": {
        "id": "YS8MbouUWeBl"
      },
      "execution_count": 14,
      "outputs": []
    },
    {
      "cell_type": "markdown",
      "source": [
        "#### Train set"
      ],
      "metadata": {
        "id": "wjoxL2ZuWoQC"
      }
    },
    {
      "cell_type": "code",
      "source": [
        "data_df = pd.read_csv(\n",
        "    './data_train.csv.gz', \n",
        "    dtype = {\n",
        "        'Id':np.int32, 'Minute':np.int16, 'Active':np.int8,\n",
        "        'Score1':np.int16, 'Score2':np.int16, 'A1':np.int16, 'A2':np.int16,\n",
        "        'DA1':np.int16, 'DA2':np.int16,'Pos1':np.float32, 'Pos2':np.float32,\n",
        "        'Off1':np.int16, 'Off2':np.int16,'On1':np.int16, 'On2':np.int16,\n",
        "        'YC1':np.float32, 'YC2':np.float32, 'RC1':np.float32, 'RC2':np.float32,\n",
        "        'Sub1':np.float32, 'Sub2':np.float32, 'Pen1':np.float32, 'Pen2':np.float32,\n",
        "        'Cor1':np.float32, 'Cor2':np.float32,\n",
        "        }\n",
        "    )"
      ],
      "metadata": {
        "id": "kIWpijErfPW7"
      },
      "execution_count": 15,
      "outputs": []
    },
    {
      "cell_type": "code",
      "source": [
        "data_df.loc[:, ['Time1Res1', 'Time1Res2', 'Result1', 'Result2']] = add_match_results (data_df)\n",
        "isdigit = [str(a) for a in range(20)]\n",
        "data_df.loc[~data_df['Time1Res1'].isin(isdigit), ['Time1Res1']] = -1\n",
        "data_df.loc[~data_df['Time1Res2'].isin(isdigit), ['Time1Res2']] = -1\n",
        "data_df[['Time1Res1', 'Time1Res2']] = data_df[['Time1Res1', 'Time1Res2']].astype(np.int16)\n",
        "data_df[['Result1', 'Result2']] = data_df[['Result1', 'Result2']].astype(np.int16)\n",
        "data_df = data_df.drop(['Time1Res1', 'Time1Res2'], axis = 1)"
      ],
      "metadata": {
        "colab": {
          "base_uri": "https://localhost:8080/"
        },
        "id": "16oQygGIxted",
        "outputId": "fa5ecf45-53ea-4cc6-b15d-465bf8f203f8"
      },
      "execution_count": 16,
      "outputs": [
        {
          "output_type": "stream",
          "name": "stderr",
          "text": [
            "100%|██████████| 10392040/10392040 [01:32<00:00, 112636.89it/s]\n"
          ]
        }
      ]
    },
    {
      "cell_type": "code",
      "source": [
        "data_df.loc[:,['P1', 'PX', 'P2', 'PR']] = add_match_lines (data_df)\n",
        "data_df[['P1', 'PX', 'P2', 'PR']] = data_df[['P1', 'PX', 'P2', 'PR']].astype(np.float32)\n",
        "data_df = data_df.drop(['PX', 'PR'], axis = 1)"
      ],
      "metadata": {
        "colab": {
          "base_uri": "https://localhost:8080/"
        },
        "id": "KMK32uQD9rvA",
        "outputId": "00377843-946a-45e3-fc89-fdbc56affd42"
      },
      "execution_count": 17,
      "outputs": [
        {
          "output_type": "stream",
          "name": "stderr",
          "text": [
            "100%|██████████| 10392040/10392040 [01:25<00:00, 121072.90it/s]\n"
          ]
        }
      ]
    },
    {
      "cell_type": "code",
      "source": [
        "if 1898989 in data_df['Id']:\n",
        "    data_df = data_df[data_df['Id'] != 1898989]"
      ],
      "metadata": {
        "id": "UpzT6sc5VoUG"
      },
      "execution_count": 18,
      "outputs": []
    },
    {
      "cell_type": "code",
      "source": [
        "data_df = transform_dataset(data_df)\n",
        "    #data_df, \n",
        "    #remain = \n",
        "    #    ['Id', 'Minute', 'Active', 'Score1', 'Score2', 'A1', 'A2', 'DA1', 'DA2',\n",
        "    #   'Pos1', 'Pos2', 'Off1', 'Off2', 'On1', 'On2', 'YC1', 'YC2', 'RC1',\n",
        "    #   'RC2', 'Sub1', 'Sub2', 'Pen1', 'Pen2', 'Cor1', 'Cor2', 'P1', 'P2']\n",
        "    #   )"
      ],
      "metadata": {
        "colab": {
          "base_uri": "https://localhost:8080/"
        },
        "id": "152u_6H_B765",
        "outputId": "8239f875-1d18-401a-94a9-80129c92dc98"
      },
      "execution_count": 19,
      "outputs": [
        {
          "output_type": "stream",
          "name": "stdout",
          "text": [
            "1. Минуты посчитаны...\n",
            "2. Голы посчитаны...\n",
            "3. Атаки посчитаны...\n",
            "4. Опасные атаки посчитаны...\n",
            "5. Владение мячом посчитпно...\n",
            "6. Удары посчитаны...\n",
            "7. Удары в створ посчитаны...\n",
            "8. Жёлтые карточки посчитаны...\n",
            "9. Красные карточки посчитаны...\n",
            "10. Замены посчитаны...\n",
            "11. Угловые посчитаны...\n",
            "12. Линии посчитаны...\n"
          ]
        }
      ]
    },
    {
      "cell_type": "code",
      "source": [
        "data_df.info()"
      ],
      "metadata": {
        "colab": {
          "base_uri": "https://localhost:8080/"
        },
        "id": "AzVKcCXgbKSS",
        "outputId": "8612f3a0-0858-4bdd-8de0-ca67c545d584"
      },
      "execution_count": 20,
      "outputs": [
        {
          "output_type": "stream",
          "name": "stdout",
          "text": [
            "<class 'pandas.core.frame.DataFrame'>\n",
            "Int64Index: 10391998 entries, 0 to 10392039\n",
            "Data columns (total 44 columns):\n",
            " #   Column            Dtype  \n",
            "---  ------            -----  \n",
            " 0   Id                int32  \n",
            " 1   Result1           int16  \n",
            " 2   Result2           int16  \n",
            " 3   min_norm          float32\n",
            " 4   Score1_norm       float32\n",
            " 5   Score2_norm       float32\n",
            " 6   Score_diff        float32\n",
            " 7   Score_cat_1       uint8  \n",
            " 8   Score_cat_2       uint8  \n",
            " 9   Score_cat_3       uint8  \n",
            " 10  Score_cat_4       uint8  \n",
            " 11  Score_cat_5       uint8  \n",
            " 12  Score_cat_6       uint8  \n",
            " 13  Score_cat_7       uint8  \n",
            " 14  Score_cat_8       uint8  \n",
            " 15  Score_cat_9       uint8  \n",
            " 16  A1_scaled         float32\n",
            " 17  A2_scaled         float32\n",
            " 18  A1perMIN          float32\n",
            " 19  A2perMIN          float32\n",
            " 20  A1relativ         float32\n",
            " 21  A2relativ         float32\n",
            " 22  DA1_scaled        float32\n",
            " 23  DA2_scaled        float32\n",
            " 24  DA1perMIN         float32\n",
            " 25  DA2perMIN         float32\n",
            " 26  DA1relativ        float32\n",
            " 27  DA2relativ        float32\n",
            " 28  Pos1_cleaned      float32\n",
            " 29  Pos2_cleaned      float32\n",
            " 30  Off1_norm         float32\n",
            " 31  Off2_norm         float32\n",
            " 32  On1_norm          float32\n",
            " 33  On2_norm          float32\n",
            " 34  YC1_transformed   float32\n",
            " 35  YC2_transformed   float32\n",
            " 36  RC1_transformed   int8   \n",
            " 37  RC2_transformed   int8   \n",
            " 38  Sub1_transformed  int8   \n",
            " 39  Sub2_transformed  int8   \n",
            " 40  Cor1_transformed  float32\n",
            " 41  Cor2_transformed  float32\n",
            " 42  P1_transformed    float32\n",
            " 43  P2_transformed    float32\n",
            "dtypes: float32(28), int16(2), int32(1), int8(4), uint8(9)\n",
            "memory usage: 1.6 GB\n"
          ]
        }
      ]
    },
    {
      "cell_type": "markdown",
      "source": [
        "#### простое Версионирование под бусты"
      ],
      "metadata": {
        "id": "PmFA3DfDX7-W"
      }
    },
    {
      "cell_type": "markdown",
      "source": [
        "##### Home vs Away + Draw"
      ],
      "metadata": {
        "id": "wNMVn7XXYV6z"
      }
    },
    {
      "cell_type": "code",
      "source": [
        "id_train = data_df['Id'].values\n",
        "id_test = test_df['Id'].values"
      ],
      "metadata": {
        "id": "qDX9DNxDY3df"
      },
      "execution_count": 21,
      "outputs": []
    },
    {
      "cell_type": "code",
      "source": [
        "y_train = np.array((data_df['Result1'] > data_df['Result2']) *1, dtype = np.int8)\n",
        "y_test = np.array((test_df['Result1'] > test_df['Result2']) *1, dtype = np.int8)"
      ],
      "metadata": {
        "id": "-Wc9yaxWVHkg"
      },
      "execution_count": 22,
      "outputs": []
    },
    {
      "cell_type": "code",
      "source": [
        "X_train = data_df.drop(['Id', 'Result1', 'Result2'], axis = 1).values\n",
        "X_test = test_df.drop(['Id', 'Result1', 'Result2'], axis = 1).values"
      ],
      "metadata": {
        "id": "XyPjmT8WYDqi"
      },
      "execution_count": 24,
      "outputs": []
    },
    {
      "cell_type": "code",
      "source": [
        "X_train.shape, X_test.shape, y_train.shape, y_test.shape"
      ],
      "metadata": {
        "colab": {
          "base_uri": "https://localhost:8080/"
        },
        "id": "RROg6O7rdz5q",
        "outputId": "0ef6b065-b7cb-41e8-e61c-5ee79b66d1fb"
      },
      "execution_count": 26,
      "outputs": [
        {
          "output_type": "execute_result",
          "data": {
            "text/plain": [
              "((10391998, 41), (2598283, 41), (10391998,), (2598283,))"
            ]
          },
          "metadata": {},
          "execution_count": 26
        }
      ]
    },
    {
      "cell_type": "code",
      "source": [
        "np.savez_compressed('./dataset', \n",
        "                    id_train = id_train,\n",
        "                    id_test = id_test,\n",
        "                    y_train = y_train,\n",
        "                    y_test = y_test,\n",
        "                    X_train = X_train,\n",
        "                    X_test = X_test\n",
        "                )"
      ],
      "metadata": {
        "id": "P5Mdc4kfYDen"
      },
      "execution_count": 25,
      "outputs": []
    },
    {
      "cell_type": "code",
      "source": [
        "#data_df.to_csv('data_df.csv.gz', index = False, compression={'method': 'gzip'})"
      ],
      "metadata": {
        "id": "8-ufRh7ebBMp"
      },
      "execution_count": null,
      "outputs": []
    },
    {
      "cell_type": "code",
      "source": [
        "params = {}\n",
        "params['description'] = 'Первый датасет под бусты простые фичи'"
      ],
      "metadata": {
        "id": "0DTMVx2SekKf"
      },
      "execution_count": 27,
      "outputs": []
    },
    {
      "cell_type": "code",
      "source": [
        "data_version = 'football_live_npz_230105/'\n",
        "project = neptune.init_project(\n",
        "    name=\"scomesse/football\", \n",
        "    api_token = api_key\n",
        "    )\n",
        "project[data_version + 'dataset'].upload('./dataset.npz')\n",
        "project[data_version + 'params'] = params\n",
        "project.stop()"
      ],
      "metadata": {
        "colab": {
          "base_uri": "https://localhost:8080/"
        },
        "id": "eFODE-nJTcgo",
        "outputId": "d02a9834-69cb-4da2-8ab8-f0b85b8f5336"
      },
      "execution_count": 28,
      "outputs": [
        {
          "output_type": "stream",
          "name": "stdout",
          "text": [
            "https://app.neptune.ai/scomesse/football/\n",
            "Remember to stop your project once you’ve finished logging your metadata (https://docs.neptune.ai/api/project#stop). It will be stopped automatically only when the notebook kernel/interactive console is terminated.\n",
            "Shutting down background jobs, please wait a moment...\n",
            "Done!\n",
            "Waiting for the remaining 2 operations to synchronize with Neptune. Do not kill this process.\n",
            "All 2 operations synced, thanks for waiting!\n",
            "Explore the metadata in the Neptune app:\n",
            "https://app.neptune.ai/scomesse/football/metadata\n"
          ]
        }
      ]
    },
    {
      "cell_type": "markdown",
      "source": [
        "### Catboost"
      ],
      "metadata": {
        "id": "s2fIGwwIFwdk"
      }
    },
    {
      "cell_type": "markdown",
      "source": [
        "#### Installation"
      ],
      "metadata": {
        "id": "vyGmzdvMGFen"
      }
    },
    {
      "cell_type": "code",
      "source": [
        "!pip install catboost >> None"
      ],
      "metadata": {
        "id": "QSNNEvxPbGwY"
      },
      "execution_count": 29,
      "outputs": []
    },
    {
      "cell_type": "markdown",
      "source": [
        "#### Imports"
      ],
      "metadata": {
        "id": "MlSvKgNkGtlX"
      }
    },
    {
      "cell_type": "code",
      "source": [
        "from catboost import CatBoost\n",
        "from catboost import CatBoostClassifier, Pool\n",
        "from catboost.utils import eval_metric\n",
        "np.random.seed(147)"
      ],
      "metadata": {
        "id": "JXCeB6UQCR5h"
      },
      "execution_count": 30,
      "outputs": []
    },
    {
      "cell_type": "markdown",
      "source": [
        "#### Create Tensors"
      ],
      "metadata": {
        "id": "DU3GPlaDG3gH"
      }
    },
    {
      "cell_type": "code",
      "source": [
        "train_data = Pool(X_train, y_train)\n",
        "test_data = Pool(X_test, y_test)"
      ],
      "metadata": {
        "id": "nKIZZOfHbBJe"
      },
      "execution_count": 31,
      "outputs": []
    },
    {
      "cell_type": "code",
      "source": [
        "booster = CatBoostClassifier(iterations=10)"
      ],
      "metadata": {
        "id": "sv1D9-CLJ99Z"
      },
      "execution_count": 32,
      "outputs": []
    },
    {
      "cell_type": "code",
      "source": [
        "booster.fit(train_data, eval_set=test_data)"
      ],
      "metadata": {
        "colab": {
          "base_uri": "https://localhost:8080/"
        },
        "id": "44zpWzxxJ964",
        "outputId": "44a57ab8-9c08-4f71-8505-ade9c5c5dd46"
      },
      "execution_count": 33,
      "outputs": [
        {
          "output_type": "stream",
          "name": "stdout",
          "text": [
            "Learning rate set to 0.5\n",
            "0:\tlearn: 0.5837773\ttest: 0.5838870\tbest: 0.5838870 (0)\ttotal: 2.65s\tremaining: 23.8s\n",
            "1:\tlearn: 0.5604733\ttest: 0.5590931\tbest: 0.5590931 (1)\ttotal: 4.67s\tremaining: 18.7s\n",
            "2:\tlearn: 0.5508504\ttest: 0.5508177\tbest: 0.5508177 (2)\ttotal: 6.51s\tremaining: 15.2s\n",
            "3:\tlearn: 0.5480869\ttest: 0.5477653\tbest: 0.5477653 (3)\ttotal: 8.48s\tremaining: 12.7s\n",
            "4:\tlearn: 0.5461828\ttest: 0.5462240\tbest: 0.5462240 (4)\ttotal: 10.4s\tremaining: 10.4s\n",
            "5:\tlearn: 0.5454131\ttest: 0.5455072\tbest: 0.5455072 (5)\ttotal: 12.3s\tremaining: 8.2s\n",
            "6:\tlearn: 0.5445616\ttest: 0.5449140\tbest: 0.5449140 (6)\ttotal: 14s\tremaining: 5.99s\n",
            "7:\tlearn: 0.5442970\ttest: 0.5445947\tbest: 0.5445947 (7)\ttotal: 15.9s\tremaining: 3.97s\n",
            "8:\tlearn: 0.5438550\ttest: 0.5442128\tbest: 0.5442128 (8)\ttotal: 17.8s\tremaining: 1.98s\n",
            "9:\tlearn: 0.5435059\ttest: 0.5438959\tbest: 0.5438959 (9)\ttotal: 19.6s\tremaining: 0us\n",
            "\n",
            "bestTest = 0.5438958907\n",
            "bestIteration = 9\n",
            "\n"
          ]
        },
        {
          "output_type": "execute_result",
          "data": {
            "text/plain": [
              "<catboost.core.CatBoostClassifier at 0x7f974f2737f0>"
            ]
          },
          "metadata": {},
          "execution_count": 33
        }
      ]
    },
    {
      "cell_type": "code",
      "source": [
        "print(\"Test  Accuracy : %.4f\"%booster.score(train_data))\n",
        "print(\"Train Accuracy : %.4f\"%booster.score(test_data))"
      ],
      "metadata": {
        "colab": {
          "base_uri": "https://localhost:8080/"
        },
        "id": "czkX_CjlJ94G",
        "outputId": "1baab1f6-5aa9-4341-b251-7a36f7cafb19"
      },
      "execution_count": 36,
      "outputs": [
        {
          "output_type": "stream",
          "name": "stdout",
          "text": [
            "Test  Accuracy : 0.7160\n",
            "Train Accuracy : 0.7157\n"
          ]
        }
      ]
    },
    {
      "cell_type": "code",
      "source": [],
      "metadata": {
        "id": "37JIBSh6J91d"
      },
      "execution_count": null,
      "outputs": []
    },
    {
      "cell_type": "code",
      "source": [],
      "metadata": {
        "id": "EmrfauyJJ9t-"
      },
      "execution_count": null,
      "outputs": []
    },
    {
      "cell_type": "code",
      "source": [],
      "metadata": {
        "id": "1j1uUwjhbBGU"
      },
      "execution_count": null,
      "outputs": []
    },
    {
      "cell_type": "markdown",
      "source": [
        "### DEBUG PART"
      ],
      "metadata": {
        "id": "8CL95xrPfpeZ"
      }
    },
    {
      "cell_type": "code",
      "source": [
        "drop_transformed = True"
      ],
      "metadata": {
        "id": "vCm7w_knw8Pb"
      },
      "execution_count": null,
      "outputs": []
    },
    {
      "cell_type": "code",
      "source": [
        "data_df['min_norm'] = data_df['Minute'].astype(np.float32) / 50"
      ],
      "metadata": {
        "id": "8KD42O9VvAiW"
      },
      "execution_count": null,
      "outputs": []
    },
    {
      "cell_type": "code",
      "source": [
        "data_df['Score1_norm'] = data_df['Score1'].fillna(method = 'ffill').astype(np.float32) / 4\n",
        "data_df.loc[data_df['Score1'] > 3, ['Score1_norm']] = 1.0\n",
        "data_df['Score2_norm'] = data_df['Score2'].fillna(method = 'ffill').astype(np.float32) / 4\n",
        "data_df.loc[data_df['Score2'] > 3, ['Score2_norm']] = 1.0\n",
        "\n",
        "data_df['Score_diff'] = data_df['Score1'].astype(np.float32) - data_df['Score2'].astype(np.float32)\n",
        "data_df.loc[data_df['Score_diff'] < -4, ['Score_diff']] = -4\n",
        "data_df.loc[data_df['Score_diff'] > 4, ['Score_diff']] = 4\n",
        "data_df[[f'Score_cat_{n}' for n in range(1, 10)]] = pd.get_dummies(data_df['Score_diff']).values\n",
        "data_df['Score_diff'] = data_df['Score_diff'].astype(np.float32) / np.float32(4.0)\n",
        "\n",
        "if drop_transformed:\n",
        "    data_df = data_df.drop(['Score1', 'Score2'], axis = 1)"
      ],
      "metadata": {
        "id": "2LH5Fn5x5jXP"
      },
      "execution_count": null,
      "outputs": []
    },
    {
      "cell_type": "code",
      "source": [
        "data_df['A1_scaled'] = data_df['A1'].astype(np.float32) / 100\n",
        "data_df.loc[data_df['A1'] >= 80, ['A1_scaled']] = (80 + (data_df['A1'] - 80) / 5) / 100\n",
        "data_df['A2_scaled'] = data_df['A2'].astype(np.float32) / 100\n",
        "data_df.loc[data_df['A2'] >= 80, ['A2_scaled']] = (80 + (data_df['A2'] - 80) / 5) / 100\n",
        "\n",
        "data_df['A1perMIN'] = data_df['A1'].astype(np.float32) / data_df['Minute'].astype(np.float32)\n",
        "data_df.loc[data_df['A1perMIN'] > 4, ['A1perMIN']] = np.float32(4.0)\n",
        "data_df['A2perMIN'] = data_df['A2'].astype(np.float32) / data_df['Minute'].astype(np.float32)\n",
        "data_df.loc[data_df['A2perMIN'] > 4, ['A2perMIN']] = np.float32(4.0)\n",
        "\n",
        "data_df['A1relativ'] = data_df['A1'].astype(np.float32) - data_df['A1'].shift(5).astype(np.float32)\n",
        "data_df.loc[data_df['A1relativ'] < 0, ['A1relativ']] = np.float32(0.0)\n",
        "data_df['A1relativ'] = data_df['A1relativ'].fillna(0)\n",
        "data_df.loc[data_df['A1relativ'] > 15, ['A1relativ']] = np.float32(15.)\n",
        "data_df['A2relativ'] = data_df['A2'].astype(np.float32) - data_df['A2'].shift(5).astype(np.float32)\n",
        "data_df.loc[data_df['A2relativ'] < 0, ['A2relativ']] =  np.float32(0.0)\n",
        "data_df['A2relativ'] = data_df['A2relativ'].fillna(0)\n",
        "data_df.loc[data_df['A2relativ'] > 15, ['A2relativ']] = np.float32(15.)\n",
        "\n",
        "if drop_transformed:\n",
        "    data_df = data_df.drop(['A1', 'A2'], axis = 1)"
      ],
      "metadata": {
        "id": "QvcgrgZi51Am"
      },
      "execution_count": null,
      "outputs": []
    },
    {
      "cell_type": "code",
      "source": [
        "data_df['DA1_scaled'] = data_df['DA1'].astype(np.float32) / 100\n",
        "data_df.loc[data_df['DA1'] >= 80, ['DA1_scaled']] = (80 + (data_df['DA1'] - 80) / 5) / 100\n",
        "data_df['DA2_scaled'] = data_df['DA2'].astype(np.float32) / 100\n",
        "data_df.loc[data_df['DA2'] >= 80, ['DA2_scaled']] = (80 + (data_df['DA2'] - 80) / 5) / 100\n",
        "\n",
        "data_df['DA1perMIN'] = data_df['DA1'].astype(np.float32) / data_df['Minute'].astype(np.float32)\n",
        "data_df.loc[data_df['DA1perMIN'] > 3, ['DA1perMIN']] = np.float32(3.0)\n",
        "data_df['DA2perMIN'] = data_df['DA2'].astype(np.float32) / data_df['Minute'].astype(np.float32)\n",
        "data_df.loc[data_df['DA2perMIN'] > 3, ['DA2perMIN']] = np.float32(3.0)\n",
        "\n",
        "data_df['DA1relativ'] = data_df['DA1'].astype(np.float32) - data_df['DA1'].shift(5).astype(np.float32)\n",
        "data_df.loc[data_df['DA1relativ'] < 0, ['DA1relativ']] = np.float32(0.0)\n",
        "data_df['DA1relativ'] = data_df['DA1relativ'].fillna(0)\n",
        "data_df.loc[data_df['DA1relativ'] > 10, ['DA1relativ']] = np.float32(10.)\n",
        "data_df['DA2relativ'] = data_df['DA2'].astype(np.float32) - data_df['DA2'].shift(5).astype(np.float32)\n",
        "data_df.loc[data_df['DA2relativ'] < 0, ['DA2relativ']] = np.float32(0.0)\n",
        "data_df['DA2relativ'] = data_df['DA2relativ'].fillna(0)\n",
        "data_df.loc[data_df['DA2relativ'] > 10, ['DA2relativ']] = np.float32(10.)\n",
        "\n",
        "if drop_transformed:\n",
        "    data_df = data_df.drop(['DA1', 'DA2'], axis = 1)"
      ],
      "metadata": {
        "id": "UqATXQr99xd2"
      },
      "execution_count": null,
      "outputs": []
    },
    {
      "cell_type": "code",
      "source": [
        "data_df['Pos1_cleaned'] = data_df['Pos1'].fillna(method = 'ffill').astype(np.float32) /  np.float32(100.0)\n",
        "data_df.loc[data_df['Pos1_cleaned'] < 0.2, ['Pos1_cleaned']] = np.float32(0.2)\n",
        "data_df.loc[data_df['Pos1_cleaned'] > 0.8, ['Pos1_cleaned']] = np.float32(0.8)\n",
        "data_df['Pos2_cleaned'] = data_df['Pos2'].fillna(method = 'ffill').astype(np.float32) /  np.float32(100.0)\n",
        "data_df.loc[data_df['Pos2_cleaned'] < 0.2, ['Pos2_cleaned']] = np.float32(0.2)\n",
        "data_df.loc[data_df['Pos2_cleaned'] > 0.8, ['Pos2_cleaned']] = np.float32(0.8)\n",
        "\n",
        "if drop_transformed:\n",
        "    data_df = data_df.drop(['Pos1', 'Pos2'], axis = 1)"
      ],
      "metadata": {
        "id": "E2gWQl5zjfGt"
      },
      "execution_count": null,
      "outputs": []
    },
    {
      "cell_type": "code",
      "source": [
        "data_df['Off1_norm'] = data_df['Off1'].fillna(method = 'ffill').astype(np.float32) / np.float32(10.0)\n",
        "data_df.loc[data_df['Off1_norm'] > 1.0, ['Off1_norm']] = np.float32(1.0)\n",
        "data_df['Off2_norm'] = data_df['Off2'].fillna(method = 'ffill').astype(np.float32) / np.float32(10.0)\n",
        "data_df.loc[data_df['Off2_norm'] > 1.0, ['Off2_norm']] = np.float32(1.0)\n",
        "\n",
        "if drop_transformed:\n",
        "    data_df = data_df.drop(['Off1', 'Off2'], axis = 1)"
      ],
      "metadata": {
        "id": "y-i1z701uFjz"
      },
      "execution_count": null,
      "outputs": []
    },
    {
      "cell_type": "code",
      "source": [
        "data_df['On1_norm'] = data_df['On1'].fillna(method = 'ffill').astype(np.float32) / np.float32(5.0)\n",
        "data_df.loc[data_df['On1_norm'] > 1.0, ['On1_norm']] = np.float32(1.0)\n",
        "data_df['On2_norm'] = data_df['On2'].fillna(method = 'ffill').astype(np.float32) / np.float32(5.0)\n",
        "data_df.loc[data_df['On2_norm'] > 1.0, ['On2_norm']] = np.float32(1.0)\n",
        "\n",
        "if drop_transformed:\n",
        "    data_df = data_df.drop(['On1', 'On2'], axis = 1)"
      ],
      "metadata": {
        "id": "VdsP8N4SJYGU"
      },
      "execution_count": 39,
      "outputs": []
    },
    {
      "cell_type": "code",
      "source": [
        "data_df['YC1_transformed'] = data_df['YC1'].fillna(0).astype(np.float32) / np.float32(2.0)\n",
        "data_df.loc[data_df['YC1_transformed'] > 1.0, ['YC1_transformed']] = np.float32(1.0)\n",
        "data_df['YC2_transformed'] = data_df['YC2'].fillna(0).astype(np.float32) / np.float32(2.0)\n",
        "data_df.loc[data_df['YC2_transformed'] > 1.0, ['YC2_transformed']] = np.float32(1.0)\n",
        "\n",
        "if drop_transformed:\n",
        "    data_df = data_df.drop(['YC1', 'YC2'], axis = 1)"
      ],
      "metadata": {
        "id": "IVcw8ggHKG47"
      },
      "execution_count": null,
      "outputs": []
    },
    {
      "cell_type": "code",
      "source": [
        "data_df['RC1_transformed'] = data_df['RC1'].fillna(0).astype(np.int8)\n",
        "data_df.loc[data_df['RC1_transformed'] > 1, ['RC1_transformed']] = np.int8(1)\n",
        "data_df['RC2_transformed'] = data_df['RC2'].fillna(0).astype(np.int8)\n",
        "data_df.loc[data_df['RC2_transformed'] > 1, ['RC2_transformed']] = np.int8(1)\n",
        "\n",
        "if drop_transformed:\n",
        "    data_df = data_df.drop(['RC1', 'RC2'], axis = 1)"
      ],
      "metadata": {
        "id": "7piZZiGXK5PJ"
      },
      "execution_count": null,
      "outputs": []
    },
    {
      "cell_type": "code",
      "source": [
        "data_df['Sub1_transformed'] = data_df['Sub1'].fillna(0).astype(np.int8)\n",
        "data_df.loc[data_df['Sub1_transformed'] > 1, ['Sub1_transformed']] = np.int8(1)\n",
        "data_df['Sub2_transformed'] = data_df['Sub2'].fillna(0).astype(np.int8)\n",
        "data_df.loc[data_df['Sub2_transformed'] > 1, ['Sub2_transformed']] = np.int8(1)\n",
        "\n",
        "if drop_transformed:\n",
        "    data_df = data_df.drop(['Sub1', 'Sub2'], axis = 1)"
      ],
      "metadata": {
        "id": "Q9QnYgnbL2Lf"
      },
      "execution_count": null,
      "outputs": []
    },
    {
      "cell_type": "code",
      "source": [
        "data_df['Cor1_transformed'] = data_df['Cor1'].fillna(0).astype(np.float32) / np.float32(6.0)\n",
        "data_df.loc[data_df['Cor1_transformed'] > 1.0, ['Cor1_transformed']] = np.float32(1.0)\n",
        "data_df['Cor2_transformed'] = data_df['Cor2'].fillna(0).astype(np.float32) / np.float32(6.0)\n",
        "data_df.loc[data_df['Cor2_transformed'] > 1.0, ['Cor2_transformed']] = np.float32(1.0)\n",
        "\n",
        "if drop_transformed:\n",
        "    data_df = data_df.drop(['Cor1', 'Cor2'], axis = 1)"
      ],
      "metadata": {
        "id": "8_dntM6VMhLU"
      },
      "execution_count": null,
      "outputs": []
    },
    {
      "cell_type": "code",
      "source": [
        "data_df['P1_transformed'] = np.log(data_df['P1'], dtype = np.float32) / 2\n",
        "data_df['P2_transformed'] = np.log(data_df['P2'], dtype = np.float32) / 2\n",
        "\n",
        "if drop_transformed:\n",
        "    data_df = data_df.drop(['P1', 'P2'], axis = 1)"
      ],
      "metadata": {
        "id": "Bf2l2TAS-fO6"
      },
      "execution_count": null,
      "outputs": []
    },
    {
      "cell_type": "code",
      "source": [
        "data_df.to_csv('data_train_transformed.csv.gz', index = False, compression={'method': 'gzip'})"
      ],
      "metadata": {
        "id": "kMO8r-g2pF2C"
      },
      "execution_count": null,
      "outputs": []
    },
    {
      "cell_type": "code",
      "source": [
        "px.histogram(np.log(data_df['P2'].iloc[:1_000_000]) / 2)"
      ],
      "metadata": {
        "id": "vrjWPNctqmWT"
      },
      "execution_count": null,
      "outputs": []
    },
    {
      "cell_type": "code",
      "source": [
        "px.histogram(np.log(data_df['P1'].iloc[:1_000_000]))"
      ],
      "metadata": {
        "id": "kLG0wrfFqmPW"
      },
      "execution_count": null,
      "outputs": []
    },
    {
      "cell_type": "code",
      "source": [
        "data_df = pd.read_csv('./data.csv', sep = ';',\n",
        "                      #nrows = 10_000_000, \n",
        "                      usecols = ['Id', 'Minute', 'Score1', 'Score2', \n",
        "                                 'A1', 'A2', 'DA1', 'DA2', 'Pos1', 'Pos2', 'Off1', \n",
        "                                 'Off2', 'On1', 'On2', 'YC1', 'YC2', 'RC1', 'RC2', \n",
        "                                 'Sub1', 'Sub2', 'Pen1', 'Pen2', 'Cor1', 'Cor2'])"
      ],
      "metadata": {
        "id": "51SDhcOXuRRe"
      },
      "execution_count": null,
      "outputs": []
    },
    {
      "cell_type": "code",
      "source": [
        "data_df.head(100)"
      ],
      "metadata": {
        "id": "DI3LhniuvyZ1"
      },
      "execution_count": null,
      "outputs": []
    },
    {
      "cell_type": "code",
      "source": [
        "!head /content/info.csv"
      ],
      "metadata": {
        "colab": {
          "base_uri": "https://localhost:8080/"
        },
        "id": "5ODN36udaNVZ",
        "outputId": "820d75bc-96d2-4c09-9b62-e40db5f05a1d"
      },
      "execution_count": null,
      "outputs": [
        {
          "output_type": "stream",
          "name": "stdout",
          "text": [
            "Id;BeginTime;Home;Away;League;Country;Type;Result1;Result2;Periods;HomeId;AwayId;LeagueId;Season;Round\r\n",
            "358904;01.01.2018 22:45:00;Bromley;Ebbsfleet United;England National League;gb;;4;2;3:1,4:2;;;;;\r\n",
            "330509;01.01.2018 22:00:00;Hapoel Bnei Sakhnin;Maccabi Tel Aviv;Israel Premier League;il;;0;1;0:0,0:1;;;;;\r\n",
            "575487;01.01.2018 20:30:00;Aston Villa;Bristol City;England Championship;gb;;5;0;2:0,5:0;;;;;\r\n",
            "338563;01.01.2018 20:30:00;Everton;Man Utd;England Premier League;gb;;0;2;0:0,0:2;;;;;\r\n",
            "340310;01.01.2018 20:15:00;Bangor City;Llandudno;Wales Premier League;gb;;0;1;0:0,0:1;;;;;\r\n",
            "577973;01.01.2018 20:13:49;JKU FC;Taifa Jang’ombe;World Club Friendlies;;;0;0;0:0,0:0;;;;;\r\n",
            "577112;01.01.2018 20:00:00;Hapoel Kfar Saba;Hapoel Ramat Gan;Israel Leumit Liga;il;;0;0;0:0,0:0;;;;;\r\n",
            "571744;01.01.2018 20:00:00;Maccabi Achi Nazareth;Beitar Tel Aviv Bat Yam;Israel Leumit Liga;il;;0;0;0:0,0:0;;;;;\r\n",
            "571518;01.01.2018 20:00:00;Ironi Ramat Hasharon;Hapoel Hadera;Israel Leumit Liga;il;;0;4;0:2,0:4;;;;;\r\n"
          ]
        }
      ]
    },
    {
      "cell_type": "code",
      "source": [
        "info_df = pd.read_csv('./info.csv', sep = ';', usecols = ['Id', 'Result1', 'Result2', 'Periods'])"
      ],
      "metadata": {
        "id": "QQCpe7b7ikHs"
      },
      "execution_count": null,
      "outputs": []
    },
    {
      "cell_type": "code",
      "source": [
        "info_df[['Period1', 'Period2', 'Period3', 'Period4']] = info_df['Periods'].str.split(',', expand = True)"
      ],
      "metadata": {
        "id": "x4wRzewfirWW"
      },
      "execution_count": null,
      "outputs": []
    },
    {
      "cell_type": "code",
      "source": [
        "miss_p1_list = list(info_df[info_df['Period1'] == '']['Id'])"
      ],
      "metadata": {
        "id": "4uh2T2HJq9xF"
      },
      "execution_count": null,
      "outputs": []
    },
    {
      "cell_type": "code",
      "source": [
        "period1_result_dict = info_df.set_index('Id')['Period1'].to_dict()"
      ],
      "metadata": {
        "id": "swO-mgWmpVcY"
      },
      "execution_count": null,
      "outputs": []
    },
    {
      "cell_type": "code",
      "source": [
        "data_df.loc[:, 'periods1'] =  [period1_result_dict[id] if id in period1_result_dict else '' for id in data_df['Id'].values]\n"
      ],
      "metadata": {
        "id": "hDxFe-fYyGJp"
      },
      "execution_count": null,
      "outputs": []
    },
    {
      "cell_type": "code",
      "source": [
        "(data_df['periods1'] == '').sum()"
      ],
      "metadata": {
        "colab": {
          "base_uri": "https://localhost:8080/"
        },
        "id": "SqI-VONCxXp1",
        "outputId": "86ced29d-0952-4e27-a481-5dd53c9c4d67"
      },
      "execution_count": null,
      "outputs": [
        {
          "output_type": "execute_result",
          "data": {
            "text/plain": [
              "4247"
            ]
          },
          "metadata": {},
          "execution_count": 42
        }
      ]
    },
    {
      "cell_type": "code",
      "source": [
        "!head /content/prem.csv"
      ],
      "metadata": {
        "colab": {
          "base_uri": "https://localhost:8080/"
        },
        "id": "ObkXdsjgaRkR",
        "outputId": "da3f470a-1242-4e1a-955c-607844bc787b"
      },
      "execution_count": null,
      "outputs": [
        {
          "output_type": "stream",
          "name": "stdout",
          "text": [
            "Id;IsPrem;P1;PX;P2;PR;PRTime;IsKO;KO1;KOX;KO2;KOR;KOTime;KOminute;KOscore\r\n",
            "358904;1;2.6;3.2;2.8;0.0543;01.01.2018 22:20:17;0;;;;;;;\r\n",
            "330509;1;9.5;4.5;1.364;0.0606;01.01.2018 21:58:29;0;;;;;;;\r\n",
            "575487;1;2.4;3.3;3.3;0.0227;01.01.2018 20:09:47;0;;;;;;;\r\n",
            "338563;1;5.75;3.75;1.7;0.0288;01.01.2018 19:51:18;0;;;;;;;\r\n",
            "340310;1;1.571;4;5.75;0.0605;01.01.2018 20:03:11;0;;;;;;;\r\n",
            "577973;1;2;3.25;3.3;0.1107;31.12.2017 20:10:35;0;;;;;;;\r\n",
            "577112;1;1.8;3.4;4.333;0.0805;01.01.2018 18:14:51;0;;;;;;;\r\n",
            "571744;1;2.45;3.2;2.7;0.091;01.01.2018 12:36:33;0;;;;;;;\r\n",
            "571518;1;1.909;3.3;3.75;0.0935;01.01.2018 19:37:02;0;;;;;;;\r\n"
          ]
        }
      ]
    },
    {
      "cell_type": "code",
      "source": [
        "prem_df = pd.read_csv('./prem.csv', sep = ';')"
      ],
      "metadata": {
        "id": "5uV9Y0OqhvBY"
      },
      "execution_count": null,
      "outputs": []
    },
    {
      "cell_type": "code",
      "source": [
        "prem_df"
      ],
      "metadata": {
        "colab": {
          "base_uri": "https://localhost:8080/",
          "height": 423
        },
        "id": "2Fq4ylJcib1D",
        "outputId": "218670c2-a3b6-415f-b959-cf87daf6ffcb"
      },
      "execution_count": null,
      "outputs": [
        {
          "output_type": "execute_result",
          "data": {
            "text/plain": [
              "             Id  IsPrem     P1     PX      P2      PR               PRTime  \\\n",
              "0        358904       1  2.600  3.200   2.800  0.0543  01.01.2018 22:20:17   \n",
              "1        330509       1  9.500  4.500   1.364  0.0606  01.01.2018 21:58:29   \n",
              "2        575487       1  2.400  3.300   3.300  0.0227  01.01.2018 20:09:47   \n",
              "3        338563       1  5.750  3.750   1.700  0.0288  01.01.2018 19:51:18   \n",
              "4        340310       1  1.571  4.000   5.750  0.0605  01.01.2018 20:03:11   \n",
              "...         ...     ...    ...    ...     ...     ...                  ...   \n",
              "749195  6058161       1  2.750  4.000   2.000  0.1136   26.12.2022 9:54:23   \n",
              "749196  5404664       1  2.800  3.600   2.450  0.0431   26.12.2022 9:59:53   \n",
              "749197  6063457       1  1.166  6.000  11.000  0.1152   26.12.2022 7:39:37   \n",
              "749198  6063456       1  1.083  8.500  23.000  0.0845   26.12.2022 0:36:08   \n",
              "749199  6063455       1  1.400  4.333   6.000  0.1117   26.12.2022 2:29:41   \n",
              "\n",
              "        IsKO    KO1  KOX   KO2     KOR               KOTime  KOminute  KOscore  \n",
              "0        0.0    NaN  NaN   NaN     NaN                  NaN       NaN      NaN  \n",
              "1        0.0    NaN  NaN   NaN     NaN                  NaN       NaN      NaN  \n",
              "2        0.0    NaN  NaN   NaN     NaN                  NaN       NaN      NaN  \n",
              "3        0.0    NaN  NaN   NaN     NaN                  NaN       NaN      NaN  \n",
              "4        0.0    NaN  NaN   NaN     NaN                  NaN       NaN      NaN  \n",
              "...      ...    ...  ...   ...     ...                  ...       ...      ...  \n",
              "749195   1.0  2.875  4.0   2.0  0.0978  26.12.2022 10:01:18       1.0      0.0  \n",
              "749196   1.0  2.750  3.6   2.5  0.0414  26.12.2022 10:01:30       1.0      0.0  \n",
              "749197   1.0  1.181  6.0  10.0  0.1134   26.12.2022 7:42:01       1.0      0.0  \n",
              "749198   1.0  1.090  8.5  21.0  0.0827   26.12.2022 5:01:48       1.0      0.0  \n",
              "749199   1.0  1.400  4.5   6.5  0.0904   26.12.2022 5:02:50       2.0      0.0  \n",
              "\n",
              "[749200 rows x 15 columns]"
            ],
            "text/html": [
              "\n",
              "  <div id=\"df-1805ba24-7d62-4e7d-8afa-e32943bb9afd\">\n",
              "    <div class=\"colab-df-container\">\n",
              "      <div>\n",
              "<style scoped>\n",
              "    .dataframe tbody tr th:only-of-type {\n",
              "        vertical-align: middle;\n",
              "    }\n",
              "\n",
              "    .dataframe tbody tr th {\n",
              "        vertical-align: top;\n",
              "    }\n",
              "\n",
              "    .dataframe thead th {\n",
              "        text-align: right;\n",
              "    }\n",
              "</style>\n",
              "<table border=\"1\" class=\"dataframe\">\n",
              "  <thead>\n",
              "    <tr style=\"text-align: right;\">\n",
              "      <th></th>\n",
              "      <th>Id</th>\n",
              "      <th>IsPrem</th>\n",
              "      <th>P1</th>\n",
              "      <th>PX</th>\n",
              "      <th>P2</th>\n",
              "      <th>PR</th>\n",
              "      <th>PRTime</th>\n",
              "      <th>IsKO</th>\n",
              "      <th>KO1</th>\n",
              "      <th>KOX</th>\n",
              "      <th>KO2</th>\n",
              "      <th>KOR</th>\n",
              "      <th>KOTime</th>\n",
              "      <th>KOminute</th>\n",
              "      <th>KOscore</th>\n",
              "    </tr>\n",
              "  </thead>\n",
              "  <tbody>\n",
              "    <tr>\n",
              "      <th>0</th>\n",
              "      <td>358904</td>\n",
              "      <td>1</td>\n",
              "      <td>2.600</td>\n",
              "      <td>3.200</td>\n",
              "      <td>2.800</td>\n",
              "      <td>0.0543</td>\n",
              "      <td>01.01.2018 22:20:17</td>\n",
              "      <td>0.0</td>\n",
              "      <td>NaN</td>\n",
              "      <td>NaN</td>\n",
              "      <td>NaN</td>\n",
              "      <td>NaN</td>\n",
              "      <td>NaN</td>\n",
              "      <td>NaN</td>\n",
              "      <td>NaN</td>\n",
              "    </tr>\n",
              "    <tr>\n",
              "      <th>1</th>\n",
              "      <td>330509</td>\n",
              "      <td>1</td>\n",
              "      <td>9.500</td>\n",
              "      <td>4.500</td>\n",
              "      <td>1.364</td>\n",
              "      <td>0.0606</td>\n",
              "      <td>01.01.2018 21:58:29</td>\n",
              "      <td>0.0</td>\n",
              "      <td>NaN</td>\n",
              "      <td>NaN</td>\n",
              "      <td>NaN</td>\n",
              "      <td>NaN</td>\n",
              "      <td>NaN</td>\n",
              "      <td>NaN</td>\n",
              "      <td>NaN</td>\n",
              "    </tr>\n",
              "    <tr>\n",
              "      <th>2</th>\n",
              "      <td>575487</td>\n",
              "      <td>1</td>\n",
              "      <td>2.400</td>\n",
              "      <td>3.300</td>\n",
              "      <td>3.300</td>\n",
              "      <td>0.0227</td>\n",
              "      <td>01.01.2018 20:09:47</td>\n",
              "      <td>0.0</td>\n",
              "      <td>NaN</td>\n",
              "      <td>NaN</td>\n",
              "      <td>NaN</td>\n",
              "      <td>NaN</td>\n",
              "      <td>NaN</td>\n",
              "      <td>NaN</td>\n",
              "      <td>NaN</td>\n",
              "    </tr>\n",
              "    <tr>\n",
              "      <th>3</th>\n",
              "      <td>338563</td>\n",
              "      <td>1</td>\n",
              "      <td>5.750</td>\n",
              "      <td>3.750</td>\n",
              "      <td>1.700</td>\n",
              "      <td>0.0288</td>\n",
              "      <td>01.01.2018 19:51:18</td>\n",
              "      <td>0.0</td>\n",
              "      <td>NaN</td>\n",
              "      <td>NaN</td>\n",
              "      <td>NaN</td>\n",
              "      <td>NaN</td>\n",
              "      <td>NaN</td>\n",
              "      <td>NaN</td>\n",
              "      <td>NaN</td>\n",
              "    </tr>\n",
              "    <tr>\n",
              "      <th>4</th>\n",
              "      <td>340310</td>\n",
              "      <td>1</td>\n",
              "      <td>1.571</td>\n",
              "      <td>4.000</td>\n",
              "      <td>5.750</td>\n",
              "      <td>0.0605</td>\n",
              "      <td>01.01.2018 20:03:11</td>\n",
              "      <td>0.0</td>\n",
              "      <td>NaN</td>\n",
              "      <td>NaN</td>\n",
              "      <td>NaN</td>\n",
              "      <td>NaN</td>\n",
              "      <td>NaN</td>\n",
              "      <td>NaN</td>\n",
              "      <td>NaN</td>\n",
              "    </tr>\n",
              "    <tr>\n",
              "      <th>...</th>\n",
              "      <td>...</td>\n",
              "      <td>...</td>\n",
              "      <td>...</td>\n",
              "      <td>...</td>\n",
              "      <td>...</td>\n",
              "      <td>...</td>\n",
              "      <td>...</td>\n",
              "      <td>...</td>\n",
              "      <td>...</td>\n",
              "      <td>...</td>\n",
              "      <td>...</td>\n",
              "      <td>...</td>\n",
              "      <td>...</td>\n",
              "      <td>...</td>\n",
              "      <td>...</td>\n",
              "    </tr>\n",
              "    <tr>\n",
              "      <th>749195</th>\n",
              "      <td>6058161</td>\n",
              "      <td>1</td>\n",
              "      <td>2.750</td>\n",
              "      <td>4.000</td>\n",
              "      <td>2.000</td>\n",
              "      <td>0.1136</td>\n",
              "      <td>26.12.2022 9:54:23</td>\n",
              "      <td>1.0</td>\n",
              "      <td>2.875</td>\n",
              "      <td>4.0</td>\n",
              "      <td>2.0</td>\n",
              "      <td>0.0978</td>\n",
              "      <td>26.12.2022 10:01:18</td>\n",
              "      <td>1.0</td>\n",
              "      <td>0.0</td>\n",
              "    </tr>\n",
              "    <tr>\n",
              "      <th>749196</th>\n",
              "      <td>5404664</td>\n",
              "      <td>1</td>\n",
              "      <td>2.800</td>\n",
              "      <td>3.600</td>\n",
              "      <td>2.450</td>\n",
              "      <td>0.0431</td>\n",
              "      <td>26.12.2022 9:59:53</td>\n",
              "      <td>1.0</td>\n",
              "      <td>2.750</td>\n",
              "      <td>3.6</td>\n",
              "      <td>2.5</td>\n",
              "      <td>0.0414</td>\n",
              "      <td>26.12.2022 10:01:30</td>\n",
              "      <td>1.0</td>\n",
              "      <td>0.0</td>\n",
              "    </tr>\n",
              "    <tr>\n",
              "      <th>749197</th>\n",
              "      <td>6063457</td>\n",
              "      <td>1</td>\n",
              "      <td>1.166</td>\n",
              "      <td>6.000</td>\n",
              "      <td>11.000</td>\n",
              "      <td>0.1152</td>\n",
              "      <td>26.12.2022 7:39:37</td>\n",
              "      <td>1.0</td>\n",
              "      <td>1.181</td>\n",
              "      <td>6.0</td>\n",
              "      <td>10.0</td>\n",
              "      <td>0.1134</td>\n",
              "      <td>26.12.2022 7:42:01</td>\n",
              "      <td>1.0</td>\n",
              "      <td>0.0</td>\n",
              "    </tr>\n",
              "    <tr>\n",
              "      <th>749198</th>\n",
              "      <td>6063456</td>\n",
              "      <td>1</td>\n",
              "      <td>1.083</td>\n",
              "      <td>8.500</td>\n",
              "      <td>23.000</td>\n",
              "      <td>0.0845</td>\n",
              "      <td>26.12.2022 0:36:08</td>\n",
              "      <td>1.0</td>\n",
              "      <td>1.090</td>\n",
              "      <td>8.5</td>\n",
              "      <td>21.0</td>\n",
              "      <td>0.0827</td>\n",
              "      <td>26.12.2022 5:01:48</td>\n",
              "      <td>1.0</td>\n",
              "      <td>0.0</td>\n",
              "    </tr>\n",
              "    <tr>\n",
              "      <th>749199</th>\n",
              "      <td>6063455</td>\n",
              "      <td>1</td>\n",
              "      <td>1.400</td>\n",
              "      <td>4.333</td>\n",
              "      <td>6.000</td>\n",
              "      <td>0.1117</td>\n",
              "      <td>26.12.2022 2:29:41</td>\n",
              "      <td>1.0</td>\n",
              "      <td>1.400</td>\n",
              "      <td>4.5</td>\n",
              "      <td>6.5</td>\n",
              "      <td>0.0904</td>\n",
              "      <td>26.12.2022 5:02:50</td>\n",
              "      <td>2.0</td>\n",
              "      <td>0.0</td>\n",
              "    </tr>\n",
              "  </tbody>\n",
              "</table>\n",
              "<p>749200 rows × 15 columns</p>\n",
              "</div>\n",
              "      <button class=\"colab-df-convert\" onclick=\"convertToInteractive('df-1805ba24-7d62-4e7d-8afa-e32943bb9afd')\"\n",
              "              title=\"Convert this dataframe to an interactive table.\"\n",
              "              style=\"display:none;\">\n",
              "        \n",
              "  <svg xmlns=\"http://www.w3.org/2000/svg\" height=\"24px\"viewBox=\"0 0 24 24\"\n",
              "       width=\"24px\">\n",
              "    <path d=\"M0 0h24v24H0V0z\" fill=\"none\"/>\n",
              "    <path d=\"M18.56 5.44l.94 2.06.94-2.06 2.06-.94-2.06-.94-.94-2.06-.94 2.06-2.06.94zm-11 1L8.5 8.5l.94-2.06 2.06-.94-2.06-.94L8.5 2.5l-.94 2.06-2.06.94zm10 10l.94 2.06.94-2.06 2.06-.94-2.06-.94-.94-2.06-.94 2.06-2.06.94z\"/><path d=\"M17.41 7.96l-1.37-1.37c-.4-.4-.92-.59-1.43-.59-.52 0-1.04.2-1.43.59L10.3 9.45l-7.72 7.72c-.78.78-.78 2.05 0 2.83L4 21.41c.39.39.9.59 1.41.59.51 0 1.02-.2 1.41-.59l7.78-7.78 2.81-2.81c.8-.78.8-2.07 0-2.86zM5.41 20L4 18.59l7.72-7.72 1.47 1.35L5.41 20z\"/>\n",
              "  </svg>\n",
              "      </button>\n",
              "      \n",
              "  <style>\n",
              "    .colab-df-container {\n",
              "      display:flex;\n",
              "      flex-wrap:wrap;\n",
              "      gap: 12px;\n",
              "    }\n",
              "\n",
              "    .colab-df-convert {\n",
              "      background-color: #E8F0FE;\n",
              "      border: none;\n",
              "      border-radius: 50%;\n",
              "      cursor: pointer;\n",
              "      display: none;\n",
              "      fill: #1967D2;\n",
              "      height: 32px;\n",
              "      padding: 0 0 0 0;\n",
              "      width: 32px;\n",
              "    }\n",
              "\n",
              "    .colab-df-convert:hover {\n",
              "      background-color: #E2EBFA;\n",
              "      box-shadow: 0px 1px 2px rgba(60, 64, 67, 0.3), 0px 1px 3px 1px rgba(60, 64, 67, 0.15);\n",
              "      fill: #174EA6;\n",
              "    }\n",
              "\n",
              "    [theme=dark] .colab-df-convert {\n",
              "      background-color: #3B4455;\n",
              "      fill: #D2E3FC;\n",
              "    }\n",
              "\n",
              "    [theme=dark] .colab-df-convert:hover {\n",
              "      background-color: #434B5C;\n",
              "      box-shadow: 0px 1px 3px 1px rgba(0, 0, 0, 0.15);\n",
              "      filter: drop-shadow(0px 1px 2px rgba(0, 0, 0, 0.3));\n",
              "      fill: #FFFFFF;\n",
              "    }\n",
              "  </style>\n",
              "\n",
              "      <script>\n",
              "        const buttonEl =\n",
              "          document.querySelector('#df-1805ba24-7d62-4e7d-8afa-e32943bb9afd button.colab-df-convert');\n",
              "        buttonEl.style.display =\n",
              "          google.colab.kernel.accessAllowed ? 'block' : 'none';\n",
              "\n",
              "        async function convertToInteractive(key) {\n",
              "          const element = document.querySelector('#df-1805ba24-7d62-4e7d-8afa-e32943bb9afd');\n",
              "          const dataTable =\n",
              "            await google.colab.kernel.invokeFunction('convertToInteractive',\n",
              "                                                     [key], {});\n",
              "          if (!dataTable) return;\n",
              "\n",
              "          const docLinkHtml = 'Like what you see? Visit the ' +\n",
              "            '<a target=\"_blank\" href=https://colab.research.google.com/notebooks/data_table.ipynb>data table notebook</a>'\n",
              "            + ' to learn more about interactive tables.';\n",
              "          element.innerHTML = '';\n",
              "          dataTable['output_type'] = 'display_data';\n",
              "          await google.colab.output.renderOutput(dataTable, element);\n",
              "          const docLink = document.createElement('div');\n",
              "          docLink.innerHTML = docLinkHtml;\n",
              "          element.appendChild(docLink);\n",
              "        }\n",
              "      </script>\n",
              "    </div>\n",
              "  </div>\n",
              "  "
            ]
          },
          "metadata": {},
          "execution_count": 45
        }
      ]
    },
    {
      "cell_type": "code",
      "source": [
        "prem_df[prem_df['IsPrem'] != 1]"
      ],
      "metadata": {
        "id": "RTzmNQq2h2iF"
      },
      "execution_count": null,
      "outputs": []
    }
  ]
}