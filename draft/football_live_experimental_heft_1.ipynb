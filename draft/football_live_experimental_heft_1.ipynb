{
  "nbformat": 4,
  "nbformat_minor": 0,
  "metadata": {
    "colab": {
      "provenance": [],
      "collapsed_sections": [
        "JnoakdYG0WIm",
        "X69hHEsFix4n",
        "RocnM6a5lPkc",
        "8d0WuYBbZ2ok",
        "vyGmzdvMGFen",
        "MlSvKgNkGtlX",
        "8CL95xrPfpeZ"
      ],
      "authorship_tag": "ABX9TyOxtsZlI9drx5Hhtjccs+xG",
      "include_colab_link": true
    },
    "kernelspec": {
      "name": "python3",
      "display_name": "Python 3"
    },
    "language_info": {
      "name": "python"
    }
  },
  "cells": [
    {
      "cell_type": "markdown",
      "metadata": {
        "id": "view-in-github",
        "colab_type": "text"
      },
      "source": [
        "<a href=\"https://colab.research.google.com/github/cappelchi/calcio_notebooks/blob/main/draft/football_live_experimental_heft_1.ipynb\" target=\"_parent\"><img src=\"https://colab.research.google.com/assets/colab-badge.svg\" alt=\"Open In Colab\"/></a>"
      ]
    },
    {
      "cell_type": "markdown",
      "source": [
        "### Project config"
      ],
      "metadata": {
        "id": "JnoakdYG0WIm"
      }
    },
    {
      "cell_type": "code",
      "source": [
        "try:\n",
        "    import neptune.new as neptune\n",
        "except:\n",
        "    !pip install neptune-client >> None\n",
        "    import neptune.new as neptune\n",
        "#from neptune.new.integrations.tensorflow_keras import NeptuneCallback\n",
        "def get_credential(frmwork = 'neptune_team'):\n",
        "    with open('credential.txt', 'r') as container:\n",
        "        for line in container:\n",
        "            if frmwork in line:\n",
        "                login, psw = line.split(' ')[1], line.split(' ')[2].split('\\n')[0]\n",
        "                return login, psw"
      ],
      "metadata": {
        "id": "O9bCK_dx0QSM"
      },
      "execution_count": 1,
      "outputs": []
    },
    {
      "cell_type": "code",
      "source": [
        "#@title Set API key for neptune.ai\n",
        "set_api = True #@param {type:\"boolean\"}\n",
        "if set_api:\n",
        "    username, api_key = get_credential()"
      ],
      "metadata": {
        "id": "oDK6n6CVQidT"
      },
      "execution_count": 2,
      "outputs": []
    },
    {
      "cell_type": "markdown",
      "metadata": {
        "id": "7dEcqW_jH4pw"
      },
      "source": [
        "### Installations"
      ]
    },
    {
      "cell_type": "code",
      "source": [],
      "metadata": {
        "id": "dP-bo_CB7GgI"
      },
      "execution_count": 2,
      "outputs": []
    },
    {
      "cell_type": "markdown",
      "metadata": {
        "id": "X69hHEsFix4n"
      },
      "source": [
        "### Downloads"
      ]
    },
    {
      "cell_type": "code",
      "source": [
        "data_version = 'football_live_221229/'\n",
        "project = neptune.init_project(\n",
        "    name=\"scomesse/football\", \n",
        "    api_token = api_key\n",
        "    )\n",
        "project[data_version + 'data.rar'].download('./data.rar')\n",
        "project[data_version + 'info.rar'].download('./info.rar')\n",
        "project[data_version + 'prem.rar'].download('./prem.rar')\n",
        "project[data_version + 'train_id.csv'].download('./train_id.csv')\n",
        "project[data_version + 'test_id.csv'].download('./test_id.csv')\n",
        "project[data_version + 'holdout_id.csv'].download('./holdout_id.csv')\n",
        "project[data_version + 'data_train.csv.gz'].download('./data_train.csv.gz')\n",
        "project[data_version + 'data_test.csv.gz'].download('./data_test.csv.gz')\n",
        "project[data_version + 'data_hold.csv.gz'].download('./data_hold.csv.gz')\n",
        "\n",
        "#del project[data_version]\n",
        "project.stop()"
      ],
      "metadata": {
        "colab": {
          "base_uri": "https://localhost:8080/"
        },
        "id": "ccFhlCBt1jw8",
        "outputId": "ed6474b0-f7f5-4d6e-ea6c-6ec4dd2d956c"
      },
      "execution_count": 3,
      "outputs": [
        {
          "output_type": "stream",
          "name": "stdout",
          "text": [
            "https://app.neptune.ai/scomesse/football/\n",
            "Remember to stop your project once you’ve finished logging your metadata (https://docs.neptune.ai/api/project#stop). It will be stopped automatically only when the notebook kernel/interactive console is terminated.\n",
            "Shutting down background jobs, please wait a moment...\n",
            "Done!\n",
            "All 0 operations synced, thanks for waiting!\n",
            "Explore the metadata in the Neptune app:\n",
            "https://app.neptune.ai/scomesse/football/metadata\n"
          ]
        }
      ]
    },
    {
      "cell_type": "markdown",
      "metadata": {
        "id": "RocnM6a5lPkc"
      },
      "source": [
        "### Imports"
      ]
    },
    {
      "cell_type": "code",
      "source": [
        "import pandas as pd\n",
        "import numpy as np\n",
        "pd.options.display.max_columns = 50\n",
        "pd.options.display.max_rows = 100\n",
        "print(pd.__version__)\n",
        "print(np.__version__)\n",
        "\n",
        "#import dask.dataframe as dd\n",
        "import subprocess\n",
        "import sys\n",
        "from glob import glob\n",
        "from tqdm import tqdm"
      ],
      "metadata": {
        "colab": {
          "base_uri": "https://localhost:8080/"
        },
        "id": "EWwYvlK9ZKpg",
        "outputId": "a8e4e79f-d287-433a-8db5-35e6d4c96da0"
      },
      "execution_count": 4,
      "outputs": [
        {
          "output_type": "stream",
          "name": "stdout",
          "text": [
            "1.3.5\n",
            "1.21.6\n"
          ]
        }
      ]
    },
    {
      "cell_type": "code",
      "source": [
        "import plotly.express as px"
      ],
      "metadata": {
        "id": "lZfysmuzW4XD"
      },
      "execution_count": 5,
      "outputs": []
    },
    {
      "cell_type": "code",
      "source": [
        "from sklearn.preprocessing import StandardScaler, MinMaxScaler, RobustScaler\n",
        "from sklearn.preprocessing import PowerTransformer, QuantileTransformer"
      ],
      "metadata": {
        "id": "2RJZ4eSygIDl"
      },
      "execution_count": 6,
      "outputs": []
    },
    {
      "cell_type": "markdown",
      "metadata": {
        "id": "umm53OS2Ljgg"
      },
      "source": [
        "### Code"
      ]
    },
    {
      "cell_type": "markdown",
      "source": [
        "#####Functions"
      ],
      "metadata": {
        "id": "F7qL3Au-nbm0"
      }
    },
    {
      "cell_type": "code",
      "source": [
        "def run_bash(bashCommand:str, nameCommand = ''):\n",
        "        process = subprocess.Popen([bashCommand], \n",
        "                           shell=True)\n",
        "        _, error = process.communicate()\n",
        "        if error:\n",
        "            print(f'{nameCommand} error:\\n', error)"
      ],
      "metadata": {
        "id": "6xkKvRZwZPeg"
      },
      "execution_count": 7,
      "outputs": []
    },
    {
      "cell_type": "code",
      "source": [
        "# Присоединяем итоговый результат и по первому тайму\n",
        "def add_match_results (data_df:pd.DataFrame, cols = ['Id', 'Result1', 'Result2', 'Periods'], info_path = './info.csv'):\n",
        "    info_df = pd.read_csv(info_path, sep = ';', usecols = cols)\n",
        "    info_df[['Period1', 'Period2', 'Period3', 'Period4']] = info_df['Periods'].str.split(',', expand = True)\n",
        "    info_df[['Time1Res1', 'Time1Res2']] = info_df['Period1'].str.split(':', expand = True)\n",
        "    info_df = info_df[~info_df['Id'].duplicated(keep = False)]\n",
        "    period1_result_dict = info_df.set_index('Id')[['Time1Res1', 'Time1Res2', 'Result1', 'Result2']].to_dict(orient = 'index')\n",
        "    #data_df.loc[:, ['Time1Res1', 'Time1Res2', 'Result1', 'Result2']] =  \\\n",
        "    return [[period1_result_dict[id]['Time1Res1'], period1_result_dict[id]['Time1Res1'], \n",
        "    period1_result_dict[id]['Result1'], period1_result_dict[id]['Result2']] \n",
        "    if id in period1_result_dict else [None, None, None, None] for id in tqdm(data_df['Id'].values, total = len(data_df))]\n",
        "    "
      ],
      "metadata": {
        "id": "S0Ejtg1MgCLt"
      },
      "execution_count": 8,
      "outputs": []
    },
    {
      "cell_type": "code",
      "source": [
        "# Добавляем прематчевые линии\n",
        "def add_match_lines (data_df:pd.DataFrame, cols = ['P1', 'PX', 'P2', 'PR'], prem_path = './prem.csv'):\n",
        "    prem_df = pd.read_csv(prem_path, sep = ';')\n",
        "    prem_df = prem_df[~prem_df['Id'].duplicated(keep = False)]\n",
        "    prem_dict = prem_df.set_index('Id')[cols].to_dict(orient = 'index')\n",
        "    #data_df.loc[:,['P1', 'PX', 'P2', 'PR']] =  \\\n",
        "    return [[prem_dict[id]['P1'], prem_dict[id]['PX'], prem_dict[id]['P2'], prem_dict[id]['PR']] \n",
        "    if id in prem_dict else [None, None, None, None] for id in tqdm(data_df['Id'].values, total = len(data_df))]"
      ],
      "metadata": {
        "id": "5qtEkVIt86Ur"
      },
      "execution_count": 9,
      "outputs": []
    },
    {
      "cell_type": "code",
      "source": [
        "def transform_dataset(data_df:pd.DataFrame, remain = []):\n",
        "\n",
        "    # трансформируем минуты\n",
        "    data_df['min_norm'] = data_df['Minute'].astype(np.float32) / 50\n",
        "    print('1. Минуты посчитаны...')\n",
        "    # трансформируем голы\n",
        "    data_df['Score1_norm'] = data_df['Score1'].fillna(method = 'ffill').astype(np.float32) / 4\n",
        "    data_df.loc[data_df['Score1'] > 3, ['Score1_norm']] = 1.0\n",
        "    data_df['Score2_norm'] = data_df['Score2'].fillna(method = 'ffill').astype(np.float32) / 4\n",
        "    data_df.loc[data_df['Score2'] > 3, ['Score2_norm']] = 1.0\n",
        "\n",
        "    data_df['Score_diff'] = data_df['Score1'].astype(np.int16) - data_df['Score2'].astype(np.int16)\n",
        "    data_df.loc[data_df['Score_diff'] < -4, ['Score_diff']] = -4\n",
        "    data_df.loc[data_df['Score_diff'] > 4, ['Score_diff']] = 4\n",
        "    data_df[[f'Score_cat_{n}' for n in range(1, 10)]] = pd.get_dummies(data_df['Score_diff']).values\n",
        "    data_df['Score_diff'] = data_df['Score_diff'].astype(np.float32) / np.float32(4.0)\n",
        "    if 'Score1' not in remain:\n",
        "        data_df = data_df.drop(['Score1', 'Score2'], axis = 1)\n",
        "    print('2. Голы посчитаны...')\n",
        "    #трансформируем атаки\n",
        "    data_df['A1_scaled'] = data_df['A1'].astype(np.float32) / 75\n",
        "    data_df.loc[data_df['A1'] >= 60, ['A1_scaled']] = (60 + (data_df['A1'] - 60) / 4) / 75\n",
        "    data_df['A2_scaled'] = data_df['A2'].astype(np.float32) / 75\n",
        "    data_df.loc[data_df['A2'] >= 60, ['A2_scaled']] = (60 + (data_df['A2'] - 60) / 4) / 75\n",
        "    # атаки в минуту\n",
        "    data_df['A1perMIN'] = data_df['A1'].astype(np.float32) / data_df['Minute'].astype(np.float32)\n",
        "    data_df.loc[data_df['A1perMIN'] > 4, ['A1perMIN']] = np.float32(4.0)\n",
        "    data_df['A2perMIN'] = data_df['A2'].astype(np.float32) / data_df['Minute'].astype(np.float32)\n",
        "    data_df.loc[data_df['A2perMIN'] > 4, ['A2perMIN']] = np.float32(4.0)\n",
        "    # динамика атак\n",
        "    data_df['A1relativ'] = data_df['A1'].astype(np.float32) - data_df['A1'].shift(5).astype(np.float32)\n",
        "    data_df.loc[data_df['A1relativ'] < 0, ['A1relativ']] = np.float32(0.0)\n",
        "    data_df['A1relativ'] = data_df['A1relativ'].fillna(0)\n",
        "    data_df.loc[data_df['A1relativ'] > 15, ['A1relativ']] = np.float32(15.)\n",
        "    data_df['A2relativ'] = data_df['A2'].astype(np.float32) - data_df['A2'].shift(5).astype(np.float32)\n",
        "    data_df.loc[data_df['A2relativ'] < 0, ['A2relativ']] =  np.float32(0.0)\n",
        "    data_df['A2relativ'] = data_df['A2relativ'].fillna(0)\n",
        "    data_df.loc[data_df['A2relativ'] > 15, ['A2relativ']] = np.float32(15.)\n",
        "    if 'A1' not in remain:\n",
        "        data_df = data_df.drop(['A1', 'A2'], axis = 1)\n",
        "    print('3. Атаки посчитаны...')\n",
        "    # трансформируем опасные атаки\n",
        "    data_df['DA1_scaled'] = data_df['DA1'].astype(np.float32) / 50\n",
        "    data_df.loc[data_df['DA1'] >= 40, ['DA1_scaled']] = (80 + (data_df['DA1'] - 40) / 3) / 100\n",
        "    data_df['DA2_scaled'] = data_df['DA2'].astype(np.float32) / 50\n",
        "    data_df.loc[data_df['DA2'] >= 40, ['DA2_scaled']] = (80 + (data_df['DA2'] - 40) / 3) / 100\n",
        "    # опасные атаки в минуту    \n",
        "    data_df['DA1perMIN'] = data_df['DA1'].astype(np.float32) / data_df['Minute'].astype(np.float32)\n",
        "    data_df.loc[data_df['DA1perMIN'] > 3, ['DA1perMIN']] = np.float32(3.0)\n",
        "    data_df['DA2perMIN'] = data_df['DA2'].astype(np.float32) / data_df['Minute'].astype(np.float32)\n",
        "    data_df.loc[data_df['DA2perMIN'] > 3, ['DA2perMIN']] = np.float32(3.0)\n",
        "    # динамика опасных атак\n",
        "    data_df['DA1relativ'] = data_df['DA1'].astype(np.float32) - data_df['DA1'].shift(5).astype(np.float32)\n",
        "    data_df.loc[data_df['DA1relativ'] < 0, ['DA1relativ']] = np.float32(0.0)\n",
        "    data_df['DA1relativ'] = data_df['DA1relativ'].fillna(0)\n",
        "    data_df.loc[data_df['DA1relativ'] > 10, ['DA1relativ']] = np.float32(10.)\n",
        "    data_df['DA2relativ'] = data_df['DA2'].astype(np.float32) - data_df['DA2'].shift(5).astype(np.float32)\n",
        "    data_df.loc[data_df['DA2relativ'] < 0, ['DA2relativ']] = np.float32(0.0)\n",
        "    data_df['DA2relativ'] = data_df['DA2relativ'].fillna(0)\n",
        "    data_df.loc[data_df['DA2relativ'] > 10, ['DA2relativ']] = np.float32(10.)\n",
        "    if 'DA1' not in remain:\n",
        "        data_df = data_df.drop(['DA1', 'DA2'], axis = 1)\n",
        "    if 'Minute' not in remain:\n",
        "        data_df = data_df.drop(['Minute'], axis = 1)\n",
        "    print('4. Опасные атаки посчитаны...')\n",
        "    # трансформируем владение мячом\n",
        "    data_df['Pos1_cleaned'] = data_df['Pos1'].fillna(method = 'ffill').astype(np.float32) /  np.float32(100.0)\n",
        "    data_df.loc[data_df['Pos1_cleaned'] < 0.2, ['Pos1_cleaned']] = np.float32(0.2)\n",
        "    data_df.loc[data_df['Pos1_cleaned'] > 0.8, ['Pos1_cleaned']] = np.float32(0.8)\n",
        "    data_df['Pos2_cleaned'] = data_df['Pos2'].fillna(method = 'ffill').astype(np.float32) /  np.float32(100.0)\n",
        "    data_df.loc[data_df['Pos2_cleaned'] < 0.2, ['Pos2_cleaned']] = np.float32(0.2)\n",
        "    data_df.loc[data_df['Pos2_cleaned'] > 0.8, ['Pos2_cleaned']] = np.float32(0.8)\n",
        "    if 'Pos1' not in remain:\n",
        "        data_df = data_df.drop(['Pos1', 'Pos2'], axis = 1)\n",
        "    print('5. Владение мячом посчитпно...')\n",
        "    # трансформируем удары\n",
        "    data_df['Off1_norm'] = data_df['Off1'].fillna(method = 'ffill').astype(np.float32) / np.float32(10.0)\n",
        "    data_df.loc[data_df['Off1_norm'] > 1.0, ['Off1_norm']] = np.float32(1.0)\n",
        "    data_df['Off2_norm'] = data_df['Off2'].fillna(method = 'ffill').astype(np.float32) / np.float32(10.0)\n",
        "    data_df.loc[data_df['Off2_norm'] > 1.0, ['Off2_norm']] = np.float32(1.0)\n",
        "    if 'Off1' not in remain:\n",
        "        data_df = data_df.drop(['Off1', 'Off2'], axis = 1)\n",
        "    print('6. Удары посчитаны...')\n",
        "    # трансформируем удары в створ\n",
        "    data_df['On1_norm'] = data_df['On1'].fillna(method = 'ffill').astype(np.float32) / np.float32(5.0)\n",
        "    data_df.loc[data_df['On1_norm'] > 1.0, ['On1_norm']] = np.float32(1.0)\n",
        "    data_df['On2_norm'] = data_df['On2'].fillna(method = 'ffill').astype(np.float32) / np.float32(5.0)\n",
        "    data_df.loc[data_df['On2_norm'] > 1.0, ['On2_norm']] = np.float32(1.0)\n",
        "    if 'On1' not in remain:\n",
        "        data_df = data_df.drop(['On1', 'On2'], axis = 1)    \n",
        "    print('7. Удары в створ посчитаны...')\n",
        "    # трансформируем желтые карточки\n",
        "    data_df['YC1_transformed'] = data_df['YC1'].fillna(0).astype(np.float32) / np.float32(2.0)\n",
        "    data_df.loc[data_df['YC1_transformed'] > 1.0, ['YC1_transformed']] = np.float32(1.0)\n",
        "    data_df['YC2_transformed'] = data_df['YC2'].fillna(0).astype(np.float32) / np.float32(2.0)\n",
        "    data_df.loc[data_df['YC2_transformed'] > 1.0, ['YC2_transformed']] = np.float32(1.0)\n",
        "    if 'YC1' not in remain:\n",
        "        data_df = data_df.drop(['YC1', 'YC2'], axis = 1)\n",
        "    print('8. Жёлтые карточки посчитаны...')\n",
        "    # трансформируем красные карточки\n",
        "    data_df['RC1_transformed'] = data_df['RC1'].fillna(0).astype(np.int8)\n",
        "    data_df.loc[data_df['RC1_transformed'] > 1, ['RC1_transformed']] = np.int8(1)\n",
        "    data_df['RC2_transformed'] = data_df['RC2'].fillna(0).astype(np.int8)\n",
        "    data_df.loc[data_df['RC2_transformed'] > 1, ['RC2_transformed']] = np.int8(1)\n",
        "    if 'RC1' not in remain:\n",
        "        data_df = data_df.drop(['RC1', 'RC2'], axis = 1)\n",
        "    print('9. Красные карточки посчитаны...')\n",
        "    # трансформируем замены\n",
        "    data_df['Sub1_transformed'] = data_df['Sub1'].fillna(0).astype(np.int8)\n",
        "    data_df.loc[data_df['Sub1_transformed'] > 1, ['Sub1_transformed']] = np.int8(1)\n",
        "    data_df['Sub2_transformed'] = data_df['Sub2'].fillna(0).astype(np.int8)\n",
        "    data_df.loc[data_df['Sub2_transformed'] > 1, ['Sub2_transformed']] = np.int8(1)\n",
        "    if 'Sub1' not in remain:\n",
        "        data_df = data_df.drop(['Sub1', 'Sub2'], axis = 1)\n",
        "    print('10. Замены посчитаны...')\n",
        "    # трансформируем угловык\n",
        "    data_df['Cor1_transformed'] = data_df['Cor1'].fillna(0).astype(np.float32) / np.float32(6.0)\n",
        "    data_df.loc[data_df['Cor1_transformed'] > 1.0, ['Cor1_transformed']] = np.float32(1.0)\n",
        "    data_df['Cor2_transformed'] = data_df['Cor2'].fillna(0).astype(np.float32) / np.float32(6.0)\n",
        "    data_df.loc[data_df['Cor2_transformed'] > 1.0, ['Cor2_transformed']] = np.float32(1.0)\n",
        "    if 'Cor1' not in remain:\n",
        "        data_df = data_df.drop(['Cor1', 'Cor2'], axis = 1)\n",
        "    print('11. Угловые посчитаны...')\n",
        "    # трансформируем линию\n",
        "    data_df['P1_transformed'] = np.log(data_df['P1'], dtype = np.float32) / 2\n",
        "    data_df['P2_transformed'] = np.log(data_df['P2'], dtype = np.float32) / 2\n",
        "    if 'P1' not in remain:\n",
        "        data_df = data_df.drop(['P1', 'P2'], axis = 1)\n",
        "    print('12. Линии посчитаны...')\n",
        "    if 'Pen1' not in remain:\n",
        "        data_df = data_df.drop(['Pen1', 'Pen2'], axis = 1)\n",
        "    if 'Active' not in remain:\n",
        "        data_df = data_df.drop(['Active'], axis = 1)\n",
        "    return data_df"
      ],
      "metadata": {
        "id": "9bdxnVfzJb0g"
      },
      "execution_count": 10,
      "outputs": []
    },
    {
      "cell_type": "markdown",
      "source": [
        "#### Unpack"
      ],
      "metadata": {
        "id": "8d0WuYBbZ2ok"
      }
    },
    {
      "cell_type": "code",
      "source": [
        "for file in glob('./*'):    \n",
        "    if '.rar' in file:\n",
        "        print(file)\n",
        "        bash = f'unrar e {file} && rm {file}'\n",
        "        run_bash(bash)"
      ],
      "metadata": {
        "colab": {
          "base_uri": "https://localhost:8080/"
        },
        "id": "y2MvM5xqZ4JJ",
        "outputId": "0dd93d0b-bb59-4605-fd97-b0f9c08d422c"
      },
      "execution_count": 11,
      "outputs": [
        {
          "output_type": "stream",
          "name": "stdout",
          "text": [
            "./data.rar\n",
            "./info.rar\n",
            "./prem.rar\n"
          ]
        }
      ]
    },
    {
      "cell_type": "markdown",
      "source": [
        "### Preprocessing & Feature engineering"
      ],
      "metadata": {
        "id": "IZHNQL_7Gvie"
      }
    },
    {
      "cell_type": "markdown",
      "source": [
        "#### Test set"
      ],
      "metadata": {
        "id": "S6bX5IB5VdzN"
      }
    },
    {
      "cell_type": "code",
      "source": [
        "data_df = pd.read_csv(\n",
        "    './data_test.csv.gz', \n",
        "    dtype = {\n",
        "        'Id':np.int32, 'Minute':np.int16, 'Active':np.int8,\n",
        "        'Score1':np.int16, 'Score2':np.int16, 'A1':np.int16, 'A2':np.int16,\n",
        "        'DA1':np.int16, 'DA2':np.int16,'Pos1':np.float32, 'Pos2':np.float32,\n",
        "        'Off1':np.int16, 'Off2':np.int16,'On1':np.int16, 'On2':np.int16,\n",
        "        'YC1':np.float32, 'YC2':np.float32, 'RC1':np.float32, 'RC2':np.float32,\n",
        "        'Sub1':np.float32, 'Sub2':np.float32, 'Pen1':np.float32, 'Pen2':np.float32,\n",
        "        'Cor1':np.float32, 'Cor2':np.float32,\n",
        "        }\n",
        "    )"
      ],
      "metadata": {
        "id": "1dtxjj66Vbrw"
      },
      "execution_count": 12,
      "outputs": []
    },
    {
      "cell_type": "code",
      "source": [
        "## Добавляем финальный результатк тесту\n",
        "data_df.loc[:, ['Time1Res1', 'Time1Res2', 'Result1', 'Result2']] = add_match_results (data_df)\n",
        "isdigit = [str(a) for a in range(20)]\n",
        "data_df.loc[~data_df['Time1Res1'].isin(isdigit), ['Time1Res1']] = -1\n",
        "data_df.loc[~data_df['Time1Res2'].isin(isdigit), ['Time1Res2']] = -1\n",
        "data_df[['Time1Res1', 'Time1Res2']] = data_df[['Time1Res1', 'Time1Res2']].astype(np.int16)\n",
        "data_df[['Result1', 'Result2']] = data_df[['Result1', 'Result2']].astype(np.int16)\n",
        "data_df = data_df.drop(['Time1Res1', 'Time1Res2'], axis = 1)"
      ],
      "metadata": {
        "colab": {
          "base_uri": "https://localhost:8080/"
        },
        "id": "Co_LfAfDVqeP",
        "outputId": "7ec4e831-8817-41b8-e386-bd0944ca4225"
      },
      "execution_count": 13,
      "outputs": [
        {
          "output_type": "stream",
          "name": "stderr",
          "text": [
            "100%|██████████| 2598283/2598283 [00:27<00:00, 93644.65it/s] \n"
          ]
        }
      ]
    },
    {
      "cell_type": "code",
      "source": [
        "## Добавляем линии к тесту\n",
        "data_df.loc[:,['P1', 'PX', 'P2', 'PR']] = add_match_lines (data_df)\n",
        "data_df[['P1', 'PX', 'P2', 'PR']] = data_df[['P1', 'PX', 'P2', 'PR']].astype(np.float32)\n",
        "data_df = data_df.drop(['PX', 'PR'], axis = 1)"
      ],
      "metadata": {
        "colab": {
          "base_uri": "https://localhost:8080/"
        },
        "id": "oqk8tIKYVrF0",
        "outputId": "533b6fe1-c236-41b4-e9d8-c8cc677c5ee9"
      },
      "execution_count": 14,
      "outputs": [
        {
          "output_type": "stream",
          "name": "stderr",
          "text": [
            "100%|██████████| 2598283/2598283 [00:28<00:00, 89875.62it/s] \n"
          ]
        }
      ]
    },
    {
      "cell_type": "code",
      "source": [
        "data_df = transform_dataset(data_df, #) \n",
        "    remain = ['Score1', 'Score2'])\n",
        "    #    ['Id', 'Minute', 'Active', 'Score1', 'Score2', 'A1', 'A2', 'DA1', 'DA2',\n",
        "    #   'Pos1', 'Pos2', 'Off1', 'Off2', 'On1', 'On2', 'YC1', 'YC2', 'RC1',\n",
        "    #   'RC2', 'Sub1', 'Sub2', 'Pen1', 'Pen2', 'Cor1', 'Cor2', 'P1', 'P2']\n",
        "    #   )"
      ],
      "metadata": {
        "colab": {
          "base_uri": "https://localhost:8080/"
        },
        "id": "FG5sZen4VxnJ",
        "outputId": "9436c06f-f82f-450e-e53c-35d3b2699c7f"
      },
      "execution_count": 15,
      "outputs": [
        {
          "output_type": "stream",
          "name": "stdout",
          "text": [
            "1. Минуты посчитаны...\n",
            "2. Голы посчитаны...\n",
            "3. Атаки посчитаны...\n",
            "4. Опасные атаки посчитаны...\n",
            "5. Владение мячом посчитпно...\n",
            "6. Удары посчитаны...\n",
            "7. Удары в створ посчитаны...\n",
            "8. Жёлтые карточки посчитаны...\n",
            "9. Красные карточки посчитаны...\n",
            "10. Замены посчитаны...\n",
            "11. Угловые посчитаны...\n",
            "12. Линии посчитаны...\n"
          ]
        }
      ]
    },
    {
      "cell_type": "code",
      "source": [
        "test_df = data_df.copy(deep = True)"
      ],
      "metadata": {
        "id": "YS8MbouUWeBl"
      },
      "execution_count": 16,
      "outputs": []
    },
    {
      "cell_type": "markdown",
      "source": [
        "#### Train set"
      ],
      "metadata": {
        "id": "wjoxL2ZuWoQC"
      }
    },
    {
      "cell_type": "code",
      "source": [
        "data_df = pd.read_csv(\n",
        "    './data_train.csv.gz', \n",
        "    dtype = {\n",
        "        'Id':np.int32, 'Minute':np.int16, 'Active':np.int8,\n",
        "        'Score1':np.int16, 'Score2':np.int16, 'A1':np.int16, 'A2':np.int16,\n",
        "        'DA1':np.int16, 'DA2':np.int16,'Pos1':np.float32, 'Pos2':np.float32,\n",
        "        'Off1':np.int16, 'Off2':np.int16,'On1':np.int16, 'On2':np.int16,\n",
        "        'YC1':np.float32, 'YC2':np.float32, 'RC1':np.float32, 'RC2':np.float32,\n",
        "        'Sub1':np.float32, 'Sub2':np.float32, 'Pen1':np.float32, 'Pen2':np.float32,\n",
        "        'Cor1':np.float32, 'Cor2':np.float32,\n",
        "        }\n",
        "    )"
      ],
      "metadata": {
        "id": "kIWpijErfPW7"
      },
      "execution_count": 17,
      "outputs": []
    },
    {
      "cell_type": "code",
      "source": [
        "data_df.loc[:, ['Time1Res1', 'Time1Res2', 'Result1', 'Result2']] = add_match_results (data_df)\n",
        "isdigit = [str(a) for a in range(20)]\n",
        "data_df.loc[~data_df['Time1Res1'].isin(isdigit), ['Time1Res1']] = -1\n",
        "data_df.loc[~data_df['Time1Res2'].isin(isdigit), ['Time1Res2']] = -1\n",
        "data_df[['Time1Res1', 'Time1Res2']] = data_df[['Time1Res1', 'Time1Res2']].astype(np.int16)\n",
        "data_df[['Result1', 'Result2']] = data_df[['Result1', 'Result2']].astype(np.int16)\n",
        "data_df = data_df.drop(['Time1Res1', 'Time1Res2'], axis = 1)"
      ],
      "metadata": {
        "colab": {
          "base_uri": "https://localhost:8080/"
        },
        "id": "16oQygGIxted",
        "outputId": "7e5aeff1-140c-4b69-987e-b732992790e7"
      },
      "execution_count": 18,
      "outputs": [
        {
          "output_type": "stream",
          "name": "stderr",
          "text": [
            "100%|██████████| 10392040/10392040 [01:46<00:00, 97740.21it/s]\n"
          ]
        }
      ]
    },
    {
      "cell_type": "code",
      "source": [
        "data_df.loc[:,['P1', 'PX', 'P2', 'PR']] = add_match_lines (data_df)\n",
        "data_df[['P1', 'PX', 'P2', 'PR']] = data_df[['P1', 'PX', 'P2', 'PR']].astype(np.float32)\n",
        "data_df = data_df.drop(['PX', 'PR'], axis = 1)"
      ],
      "metadata": {
        "colab": {
          "base_uri": "https://localhost:8080/"
        },
        "id": "KMK32uQD9rvA",
        "outputId": "bad3083e-7840-47ed-dd83-3280d2b592e5"
      },
      "execution_count": 19,
      "outputs": [
        {
          "output_type": "stream",
          "name": "stderr",
          "text": [
            "100%|██████████| 10392040/10392040 [01:47<00:00, 96860.01it/s] \n"
          ]
        }
      ]
    },
    {
      "cell_type": "code",
      "source": [
        "if 1898989 in data_df['Id']:\n",
        "    data_df = data_df[data_df['Id'] != 1898989]"
      ],
      "metadata": {
        "id": "UpzT6sc5VoUG"
      },
      "execution_count": 20,
      "outputs": []
    },
    {
      "cell_type": "code",
      "source": [
        "data_df = transform_dataset(data_df, #)\n",
        "    remain = ['Score1', 'Score2'])\n",
        "    #data_df, \n",
        "    #remain = \n",
        "    #    ['Id', 'Minute', 'Active', 'Score1', 'Score2', 'A1', 'A2', 'DA1', 'DA2',\n",
        "    #   'Pos1', 'Pos2', 'Off1', 'Off2', 'On1', 'On2', 'YC1', 'YC2', 'RC1',\n",
        "    #   'RC2', 'Sub1', 'Sub2', 'Pen1', 'Pen2', 'Cor1', 'Cor2', 'P1', 'P2']\n",
        "    #   )"
      ],
      "metadata": {
        "colab": {
          "base_uri": "https://localhost:8080/"
        },
        "id": "152u_6H_B765",
        "outputId": "9394a236-cb48-4664-a062-6662a05aa232"
      },
      "execution_count": 21,
      "outputs": [
        {
          "output_type": "stream",
          "name": "stdout",
          "text": [
            "1. Минуты посчитаны...\n",
            "2. Голы посчитаны...\n",
            "3. Атаки посчитаны...\n",
            "4. Опасные атаки посчитаны...\n",
            "5. Владение мячом посчитпно...\n",
            "6. Удары посчитаны...\n",
            "7. Удары в створ посчитаны...\n",
            "8. Жёлтые карточки посчитаны...\n",
            "9. Красные карточки посчитаны...\n",
            "10. Замены посчитаны...\n",
            "11. Угловые посчитаны...\n",
            "12. Линии посчитаны...\n"
          ]
        }
      ]
    },
    {
      "cell_type": "code",
      "source": [
        "data_df.info()"
      ],
      "metadata": {
        "colab": {
          "base_uri": "https://localhost:8080/"
        },
        "id": "AzVKcCXgbKSS",
        "outputId": "52b5b23f-9f83-4a85-9226-ac6f911f06c7"
      },
      "execution_count": 22,
      "outputs": [
        {
          "output_type": "stream",
          "name": "stdout",
          "text": [
            "<class 'pandas.core.frame.DataFrame'>\n",
            "Int64Index: 10391998 entries, 0 to 10392039\n",
            "Data columns (total 46 columns):\n",
            " #   Column            Dtype  \n",
            "---  ------            -----  \n",
            " 0   Id                int32  \n",
            " 1   Score1            int16  \n",
            " 2   Score2            int16  \n",
            " 3   Result1           int16  \n",
            " 4   Result2           int16  \n",
            " 5   min_norm          float32\n",
            " 6   Score1_norm       float32\n",
            " 7   Score2_norm       float32\n",
            " 8   Score_diff        float32\n",
            " 9   Score_cat_1       uint8  \n",
            " 10  Score_cat_2       uint8  \n",
            " 11  Score_cat_3       uint8  \n",
            " 12  Score_cat_4       uint8  \n",
            " 13  Score_cat_5       uint8  \n",
            " 14  Score_cat_6       uint8  \n",
            " 15  Score_cat_7       uint8  \n",
            " 16  Score_cat_8       uint8  \n",
            " 17  Score_cat_9       uint8  \n",
            " 18  A1_scaled         float32\n",
            " 19  A2_scaled         float32\n",
            " 20  A1perMIN          float32\n",
            " 21  A2perMIN          float32\n",
            " 22  A1relativ         float32\n",
            " 23  A2relativ         float32\n",
            " 24  DA1_scaled        float32\n",
            " 25  DA2_scaled        float32\n",
            " 26  DA1perMIN         float32\n",
            " 27  DA2perMIN         float32\n",
            " 28  DA1relativ        float32\n",
            " 29  DA2relativ        float32\n",
            " 30  Pos1_cleaned      float32\n",
            " 31  Pos2_cleaned      float32\n",
            " 32  Off1_norm         float32\n",
            " 33  Off2_norm         float32\n",
            " 34  On1_norm          float32\n",
            " 35  On2_norm          float32\n",
            " 36  YC1_transformed   float32\n",
            " 37  YC2_transformed   float32\n",
            " 38  RC1_transformed   int8   \n",
            " 39  RC2_transformed   int8   \n",
            " 40  Sub1_transformed  int8   \n",
            " 41  Sub2_transformed  int8   \n",
            " 42  Cor1_transformed  float32\n",
            " 43  Cor2_transformed  float32\n",
            " 44  P1_transformed    float32\n",
            " 45  P2_transformed    float32\n",
            "dtypes: float32(28), int16(4), int32(1), int8(4), uint8(9)\n",
            "memory usage: 1.7 GB\n"
          ]
        }
      ]
    },
    {
      "cell_type": "code",
      "source": [
        "data_df = data_df[~data_df['P1_transformed'].isna()]\n",
        "data_df = data_df[~data_df['P2_transformed'].isna()]"
      ],
      "metadata": {
        "id": "1lxMSI3Q1s9e"
      },
      "execution_count": 23,
      "outputs": []
    },
    {
      "cell_type": "code",
      "source": [
        "data_df = data_df.loc[(data_df['Result1'] - data_df['Score1']) >= 0]\n",
        "data_df = data_df.loc[(data_df['Result2'] - data_df['Score2']) >= 0]"
      ],
      "metadata": {
        "id": "VQz4VLNaLp3R"
      },
      "execution_count": 24,
      "outputs": []
    },
    {
      "cell_type": "code",
      "source": [
        "test_df = test_df[~test_df['P1_transformed'].isna()]\n",
        "test_df = test_df[~test_df['P2_transformed'].isna()]"
      ],
      "metadata": {
        "id": "2-hmXFGu24Zf"
      },
      "execution_count": 25,
      "outputs": []
    },
    {
      "cell_type": "code",
      "source": [
        "test_df = test_df.loc[(test_df['Result1'] - test_df['Score1']) >= 0]\n",
        "test_df = test_df.loc[(test_df['Result2'] - test_df['Score2']) >= 0]"
      ],
      "metadata": {
        "id": "qw956WT0Vd4z"
      },
      "execution_count": 26,
      "outputs": []
    },
    {
      "cell_type": "markdown",
      "source": [
        "#### простое Версионирование под бусты"
      ],
      "metadata": {
        "id": "PmFA3DfDX7-W"
      }
    },
    {
      "cell_type": "markdown",
      "source": [
        "##### Home vs Away + Draw"
      ],
      "metadata": {
        "id": "wNMVn7XXYV6z"
      }
    },
    {
      "cell_type": "code",
      "source": [
        "id_train = data_df['Id'].values\n",
        "id_test = test_df['Id'].values"
      ],
      "metadata": {
        "id": "qDX9DNxDY3df"
      },
      "execution_count": 27,
      "outputs": []
    },
    {
      "cell_type": "code",
      "source": [
        "X_train = data_df.drop(['Id', 'Score1', 'Score2', 'Result1', 'Result2'], axis = 1).values\n",
        "X_test = test_df.drop(['Id', 'Score1', 'Score2', 'Result1', 'Result2'], axis = 1).values"
      ],
      "metadata": {
        "id": "XyPjmT8WYDqi"
      },
      "execution_count": 28,
      "outputs": []
    },
    {
      "cell_type": "code",
      "source": [
        "y_train_bin = np.array((data_df['Result1'] > data_df['Result2']) *1, dtype = np.int8)\n",
        "y_test_bin = np.array((test_df['Result1'] > test_df['Result2']) *1, dtype = np.int8)"
      ],
      "metadata": {
        "id": "-Wc9yaxWVHkg"
      },
      "execution_count": 29,
      "outputs": []
    },
    {
      "cell_type": "code",
      "source": [
        "X_train.shape, X_test.shape, y_train_bin.shape, y_test_bin.shape, "
      ],
      "metadata": {
        "colab": {
          "base_uri": "https://localhost:8080/"
        },
        "id": "jxhnXVgqHg-q",
        "outputId": "c22688be-fbc2-4b45-8ff8-079d6739c41e"
      },
      "execution_count": 30,
      "outputs": [
        {
          "output_type": "execute_result",
          "data": {
            "text/plain": [
              "((10310810, 41), (2576417, 41), (10310810,), (2576417,))"
            ]
          },
          "metadata": {},
          "execution_count": 30
        }
      ]
    },
    {
      "cell_type": "code",
      "source": [
        "y_train_multi = np.sign((data_df['Result1'] - data_df['Result2']).values) + 1\n",
        "y_test_multi = np.sign((test_df['Result1'] - test_df['Result2']).values) + 1"
      ],
      "metadata": {
        "id": "JnsDOY0xEbCt"
      },
      "execution_count": 31,
      "outputs": []
    },
    {
      "cell_type": "code",
      "source": [
        "y_train_multi.shape, y_test_multi.shape"
      ],
      "metadata": {
        "colab": {
          "base_uri": "https://localhost:8080/"
        },
        "id": "lKfU6coqHfUZ",
        "outputId": "9dcce3bf-0e54-4559-cc3e-ac3402344d2e"
      },
      "execution_count": 32,
      "outputs": [
        {
          "output_type": "execute_result",
          "data": {
            "text/plain": [
              "((10310810,), (2576417,))"
            ]
          },
          "metadata": {},
          "execution_count": 32
        }
      ]
    },
    {
      "cell_type": "code",
      "source": [
        "y_train_diff = (data_df['Result1'] - data_df['Result2']).values\n",
        "y_test_diff = (test_df['Result1'] - test_df['Result2']).values"
      ],
      "metadata": {
        "id": "9Dj9rRosG_x0"
      },
      "execution_count": 33,
      "outputs": []
    },
    {
      "cell_type": "code",
      "source": [
        "y_train_diff.shape, y_test_diff.shape"
      ],
      "metadata": {
        "colab": {
          "base_uri": "https://localhost:8080/"
        },
        "id": "JWuyDa2eHLvw",
        "outputId": "27c8862d-7430-4347-a1c8-7bdac2372a83"
      },
      "execution_count": 34,
      "outputs": [
        {
          "output_type": "execute_result",
          "data": {
            "text/plain": [
              "((10310810,), (2576417,))"
            ]
          },
          "metadata": {},
          "execution_count": 34
        }
      ]
    },
    {
      "cell_type": "code",
      "source": [
        "y_train_regression1 = ((data_df['Result1'] - data_df['Score1']) / 21).values\n",
        "y_train_regression2 = ((data_df['Result2'] - data_df['Score2']) / 21).values\n",
        "y_test_regression1 = ((test_df['Result1'] - test_df['Score1']) / 21).values\n",
        "y_test_regression2 = ((test_df['Result2'] - test_df['Score2']) / 21).values"
      ],
      "metadata": {
        "id": "VSkvziNbLC0a"
      },
      "execution_count": 35,
      "outputs": []
    },
    {
      "cell_type": "code",
      "source": [
        "np.savez_compressed('./dataset', \n",
        "                    id_train = id_train,\n",
        "                    id_test = id_test,\n",
        "                    X_train = X_train,\n",
        "                    X_test = X_test,\n",
        "                    y_train_bin = y_train_bin,\n",
        "                    y_test_bin = y_test_bin,\n",
        "                    y_train_multi = y_train_multi,\n",
        "                    y_test_multi = y_test_multi,\n",
        "                    y_train_diff = y_train_diff,\n",
        "                    y_test_diff = y_test_diff,\n",
        "                    y_train_regression1 =y_train_regression1,\n",
        "                    y_train_regression2 = y_train_regression2,\n",
        "                    y_test_regression1 = y_test_regression1,\n",
        "                    y_test_regression2 = y_test_regression2,\n",
        "                    score1_train = data_df['Score1'].values,\n",
        "                    score2_train = data_df['Score2'].values,\n",
        "                    result1_train = data_df['Result1'].values,\n",
        "                    result2_train = data_df['Result2'].values,\n",
        "                    score1_test = test_df['Score1'].values,\n",
        "                    score2_test = test_df['Score2'].values,\n",
        "                    result1_test = test_df['Result1'].values,\n",
        "                    result2_test = test_df['Result2'].values\n",
        "                )"
      ],
      "metadata": {
        "id": "P5Mdc4kfYDen"
      },
      "execution_count": 37,
      "outputs": []
    },
    {
      "cell_type": "code",
      "source": [
        "#data_df.to_csv('data_df.csv.gz', index = False, compression={'method': 'gzip'})"
      ],
      "metadata": {
        "id": "8-ufRh7ebBMp"
      },
      "execution_count": null,
      "outputs": []
    },
    {
      "cell_type": "code",
      "source": [
        "params = {}\n",
        "params['description'] = 'датасет под бусты \\n' + \\\n",
        "'удалены строки с nan в P1, P2 \\n' + \\\n",
        "'простые фичи, \\n' + \\\n",
        "'4 класса задач, бинарная классификация и мультикласс, и под регрессию 2 варианта '\n",
        "params['features'] = list(data_df.columns)[5:]"
      ],
      "metadata": {
        "id": "0DTMVx2SekKf"
      },
      "execution_count": 38,
      "outputs": []
    },
    {
      "cell_type": "code",
      "source": [
        "data_version = 'football_live_npz_230105/'\n",
        "project = neptune.init_project(\n",
        "    name=\"scomesse/football\", \n",
        "    api_token = api_key\n",
        "    )\n",
        "project[data_version + 'dataset'].upload('./dataset.npz')\n",
        "project[data_version + 'params'] = params\n",
        "project.stop()"
      ],
      "metadata": {
        "colab": {
          "base_uri": "https://localhost:8080/"
        },
        "id": "eFODE-nJTcgo",
        "outputId": "8bc10527-97ee-4fa7-e7a1-e38d2ac45586"
      },
      "execution_count": 39,
      "outputs": [
        {
          "output_type": "stream",
          "name": "stdout",
          "text": [
            "https://app.neptune.ai/scomesse/football/\n",
            "Remember to stop your project once you’ve finished logging your metadata (https://docs.neptune.ai/api/project#stop). It will be stopped automatically only when the notebook kernel/interactive console is terminated.\n",
            "Shutting down background jobs, please wait a moment...\n",
            "Done!\n",
            "Waiting for the remaining 3 operations to synchronize with Neptune. Do not kill this process.\n"
          ]
        },
        {
          "output_type": "stream",
          "name": "stderr",
          "text": [
            "/usr/local/lib/python3.8/dist-packages/neptune/new/attributes/atoms/string.py:54: NeptuneDeprecationWarning: The object you're logging will be implicitly cast to a string. We'll end support of this behavior in `neptune-client==1.0.0`. To log the object as a string, use `String(str(object))` instead.\n",
            "  value = StringVal(value)\n"
          ]
        },
        {
          "output_type": "stream",
          "name": "stdout",
          "text": [
            "All 3 operations synced, thanks for waiting!\n",
            "Explore the metadata in the Neptune app:\n",
            "https://app.neptune.ai/scomesse/football/metadata\n"
          ]
        }
      ]
    },
    {
      "cell_type": "markdown",
      "source": [
        "### Catboost"
      ],
      "metadata": {
        "id": "s2fIGwwIFwdk"
      }
    },
    {
      "cell_type": "markdown",
      "source": [
        "#### Installation"
      ],
      "metadata": {
        "id": "vyGmzdvMGFen"
      }
    },
    {
      "cell_type": "code",
      "source": [
        "!pip install catboost >> None"
      ],
      "metadata": {
        "id": "QSNNEvxPbGwY"
      },
      "execution_count": null,
      "outputs": []
    },
    {
      "cell_type": "markdown",
      "source": [
        "#### Imports"
      ],
      "metadata": {
        "id": "MlSvKgNkGtlX"
      }
    },
    {
      "cell_type": "code",
      "source": [
        "from catboost import CatBoost\n",
        "from catboost import CatBoostClassifier, Pool\n",
        "from catboost.utils import eval_metric\n",
        "np.random.seed(147)"
      ],
      "metadata": {
        "id": "JXCeB6UQCR5h"
      },
      "execution_count": null,
      "outputs": []
    },
    {
      "cell_type": "markdown",
      "source": [
        "#### Create Tensors"
      ],
      "metadata": {
        "id": "DU3GPlaDG3gH"
      }
    },
    {
      "cell_type": "code",
      "source": [
        "train_data = Pool(X_train, y_train_bin)\n",
        "test_data = Pool(X_test, y_test_bin)"
      ],
      "metadata": {
        "id": "nKIZZOfHbBJe"
      },
      "execution_count": null,
      "outputs": []
    },
    {
      "cell_type": "code",
      "source": [
        "booster = CatBoostClassifier(iterations=25)"
      ],
      "metadata": {
        "id": "sv1D9-CLJ99Z"
      },
      "execution_count": null,
      "outputs": []
    },
    {
      "cell_type": "code",
      "source": [
        "booster.fit(train_data, eval_set=test_data)"
      ],
      "metadata": {
        "colab": {
          "base_uri": "https://localhost:8080/"
        },
        "id": "44zpWzxxJ964",
        "outputId": "6c698499-af83-406c-e814-7cbb8d56830e"
      },
      "execution_count": null,
      "outputs": [
        {
          "output_type": "stream",
          "name": "stdout",
          "text": [
            "Learning rate set to 0.5\n",
            "0:\tlearn: 0.5837773\ttest: 0.5838870\tbest: 0.5838870 (0)\ttotal: 3.69s\tremaining: 1m 28s\n",
            "1:\tlearn: 0.5604733\ttest: 0.5590931\tbest: 0.5590931 (1)\ttotal: 6.71s\tremaining: 1m 17s\n",
            "2:\tlearn: 0.5508504\ttest: 0.5508177\tbest: 0.5508177 (2)\ttotal: 9.45s\tremaining: 1m 9s\n",
            "3:\tlearn: 0.5480869\ttest: 0.5477653\tbest: 0.5477653 (3)\ttotal: 12.4s\tremaining: 1m 5s\n",
            "4:\tlearn: 0.5461828\ttest: 0.5462240\tbest: 0.5462240 (4)\ttotal: 15.3s\tremaining: 1m 1s\n",
            "5:\tlearn: 0.5454131\ttest: 0.5455072\tbest: 0.5455072 (5)\ttotal: 18.1s\tremaining: 57.4s\n",
            "6:\tlearn: 0.5445616\ttest: 0.5449140\tbest: 0.5449140 (6)\ttotal: 20.6s\tremaining: 52.9s\n",
            "7:\tlearn: 0.5442970\ttest: 0.5445947\tbest: 0.5445947 (7)\ttotal: 23.4s\tremaining: 49.7s\n",
            "8:\tlearn: 0.5438550\ttest: 0.5442128\tbest: 0.5442128 (8)\ttotal: 26.3s\tremaining: 46.8s\n",
            "9:\tlearn: 0.5435059\ttest: 0.5438959\tbest: 0.5438959 (9)\ttotal: 29.1s\tremaining: 43.6s\n",
            "10:\tlearn: 0.5431863\ttest: 0.5436360\tbest: 0.5436360 (10)\ttotal: 31.8s\tremaining: 40.5s\n",
            "11:\tlearn: 0.5429340\ttest: 0.5433809\tbest: 0.5433809 (11)\ttotal: 34.5s\tremaining: 37.4s\n",
            "12:\tlearn: 0.5427952\ttest: 0.5432883\tbest: 0.5432883 (12)\ttotal: 37.2s\tremaining: 34.4s\n",
            "13:\tlearn: 0.5426122\ttest: 0.5431855\tbest: 0.5431855 (13)\ttotal: 39.9s\tremaining: 31.4s\n",
            "14:\tlearn: 0.5424619\ttest: 0.5430925\tbest: 0.5430925 (14)\ttotal: 42.9s\tremaining: 28.6s\n",
            "15:\tlearn: 0.5423911\ttest: 0.5430488\tbest: 0.5430488 (15)\ttotal: 45.7s\tremaining: 25.7s\n",
            "16:\tlearn: 0.5422402\ttest: 0.5429374\tbest: 0.5429374 (16)\ttotal: 49.2s\tremaining: 23.1s\n",
            "17:\tlearn: 0.5421780\ttest: 0.5429212\tbest: 0.5429212 (17)\ttotal: 52.3s\tremaining: 20.3s\n",
            "18:\tlearn: 0.5420592\ttest: 0.5427582\tbest: 0.5427582 (18)\ttotal: 55s\tremaining: 17.4s\n",
            "19:\tlearn: 0.5419379\ttest: 0.5427346\tbest: 0.5427346 (19)\ttotal: 57.7s\tremaining: 14.4s\n",
            "20:\tlearn: 0.5418852\ttest: 0.5426918\tbest: 0.5426918 (20)\ttotal: 1m\tremaining: 11.6s\n",
            "21:\tlearn: 0.5418249\ttest: 0.5426579\tbest: 0.5426579 (21)\ttotal: 1m 3s\tremaining: 8.62s\n",
            "22:\tlearn: 0.5417503\ttest: 0.5426553\tbest: 0.5426553 (22)\ttotal: 1m 5s\tremaining: 5.73s\n",
            "23:\tlearn: 0.5416646\ttest: 0.5426504\tbest: 0.5426504 (23)\ttotal: 1m 8s\tremaining: 2.86s\n",
            "24:\tlearn: 0.5415585\ttest: 0.5425807\tbest: 0.5425807 (24)\ttotal: 1m 11s\tremaining: 0us\n",
            "\n",
            "bestTest = 0.5425807338\n",
            "bestIteration = 24\n",
            "\n"
          ]
        },
        {
          "output_type": "execute_result",
          "data": {
            "text/plain": [
              "<catboost.core.CatBoostClassifier at 0x7fbdcb3883a0>"
            ]
          },
          "metadata": {},
          "execution_count": 53
        }
      ]
    },
    {
      "cell_type": "code",
      "source": [
        "print(\"Test  Accuracy : %.4f\"%booster.score(train_data))\n",
        "print(\"Train Accuracy : %.4f\"%booster.score(test_data))"
      ],
      "metadata": {
        "colab": {
          "base_uri": "https://localhost:8080/"
        },
        "id": "czkX_CjlJ94G",
        "outputId": "a590318c-cee0-4efc-8a8f-dc38fcea555d"
      },
      "execution_count": null,
      "outputs": [
        {
          "output_type": "stream",
          "name": "stdout",
          "text": [
            "Test  Accuracy : 0.7169\n",
            "Train Accuracy : 0.7164\n"
          ]
        }
      ]
    },
    {
      "cell_type": "markdown",
      "source": [
        "### DEBUG PART"
      ],
      "metadata": {
        "id": "8CL95xrPfpeZ"
      }
    },
    {
      "cell_type": "code",
      "source": [
        "drop_transformed = True"
      ],
      "metadata": {
        "id": "vCm7w_knw8Pb"
      },
      "execution_count": null,
      "outputs": []
    },
    {
      "cell_type": "code",
      "source": [
        "data_df"
      ],
      "metadata": {
        "colab": {
          "base_uri": "https://localhost:8080/",
          "height": 423
        },
        "id": "b_jLv-0qWbfF",
        "outputId": "362d0ed7-c34e-44d3-ccdd-b09c2dd7f3dd"
      },
      "execution_count": null,
      "outputs": [
        {
          "output_type": "execute_result",
          "data": {
            "text/plain": [
              "              Id  Minute  Active  Score1  Score2  A1  A2  DA1  DA2  Pos1  \\\n",
              "0         333041       1       1       0       0   0   1    0    1   0.0   \n",
              "1         333041       2       1       0       0   1   2    1    2  20.0   \n",
              "2         333041       3       1       0       0   2   2    1    2  28.0   \n",
              "3         333041       4       1       0       0   2   3    2    3  49.0   \n",
              "4         333041       5       1       0       0   2   3    2    3  40.0   \n",
              "...          ...     ...     ...     ...     ...  ..  ..  ...  ...   ...   \n",
              "2598278  5196533      40       1       0       0  34  22   19   15   NaN   \n",
              "2598279  5196533      41       1       0       0  34  25   19   15   NaN   \n",
              "2598280  5196533      42       1       0       0  34  26   19   15   NaN   \n",
              "2598281  5196533      43       1       0       0  34  27   19   16   NaN   \n",
              "2598282  5196533      45       1       0       0  36  27   20   16   NaN   \n",
              "\n",
              "          Pos2  Off1  Off2  On1  On2  YC1  YC2  RC1  RC2  Sub1  Sub2  Pen1  \\\n",
              "0        100.0     0     0    0    0  0.0  0.0  0.0  0.0   0.0   0.0   0.0   \n",
              "1         80.0     0     0    0    0  0.0  0.0  0.0  0.0   0.0   0.0   0.0   \n",
              "2         72.0     0     0    0    0  0.0  0.0  0.0  0.0   0.0   0.0   0.0   \n",
              "3         51.0     1     0    0    0  0.0  0.0  0.0  0.0   0.0   0.0   0.0   \n",
              "4         60.0     1     0    0    0  0.0  0.0  0.0  0.0   0.0   0.0   0.0   \n",
              "...        ...   ...   ...  ...  ...  ...  ...  ...  ...   ...   ...   ...   \n",
              "2598278    NaN     0     0    1    0  1.0  1.0  0.0  0.0   0.0   1.0   0.0   \n",
              "2598279    NaN     0     0    1    0  1.0  1.0  0.0  0.0   0.0   1.0   0.0   \n",
              "2598280    NaN     0     0    1    0  1.0  1.0  0.0  0.0   0.0   1.0   0.0   \n",
              "2598281    NaN     0     0    1    0  1.0  1.0  0.0  0.0   0.0   1.0   0.0   \n",
              "2598282    NaN     0     0    1    0  1.0  1.0  0.0  0.0   0.0   1.0   0.0   \n",
              "\n",
              "         Pen2  Cor1  Cor2  Result1  Result2   P1   P2  \n",
              "0         0.0   0.0   1.0        2        1  2.1  3.8  \n",
              "1         0.0   0.0   1.0        2        1  2.1  3.8  \n",
              "2         0.0   0.0   1.0        2        1  2.1  3.8  \n",
              "3         0.0   0.0   1.0        2        1  2.1  3.8  \n",
              "4         0.0   0.0   2.0        2        1  2.1  3.8  \n",
              "...       ...   ...   ...      ...      ...  ...  ...  \n",
              "2598278   0.0   1.0   2.0        1        0  2.3  3.3  \n",
              "2598279   0.0   1.0   2.0        1        0  2.3  3.3  \n",
              "2598280   0.0   1.0   2.0        1        0  2.3  3.3  \n",
              "2598281   0.0   1.0   2.0        1        0  2.3  3.3  \n",
              "2598282   0.0   1.0   2.0        1        0  2.3  3.3  \n",
              "\n",
              "[2598283 rows x 29 columns]"
            ],
            "text/html": [
              "\n",
              "  <div id=\"df-9a9168ed-6bed-4430-816c-7c3ada24c35a\">\n",
              "    <div class=\"colab-df-container\">\n",
              "      <div>\n",
              "<style scoped>\n",
              "    .dataframe tbody tr th:only-of-type {\n",
              "        vertical-align: middle;\n",
              "    }\n",
              "\n",
              "    .dataframe tbody tr th {\n",
              "        vertical-align: top;\n",
              "    }\n",
              "\n",
              "    .dataframe thead th {\n",
              "        text-align: right;\n",
              "    }\n",
              "</style>\n",
              "<table border=\"1\" class=\"dataframe\">\n",
              "  <thead>\n",
              "    <tr style=\"text-align: right;\">\n",
              "      <th></th>\n",
              "      <th>Id</th>\n",
              "      <th>Minute</th>\n",
              "      <th>Active</th>\n",
              "      <th>Score1</th>\n",
              "      <th>Score2</th>\n",
              "      <th>A1</th>\n",
              "      <th>A2</th>\n",
              "      <th>DA1</th>\n",
              "      <th>DA2</th>\n",
              "      <th>Pos1</th>\n",
              "      <th>Pos2</th>\n",
              "      <th>Off1</th>\n",
              "      <th>Off2</th>\n",
              "      <th>On1</th>\n",
              "      <th>On2</th>\n",
              "      <th>YC1</th>\n",
              "      <th>YC2</th>\n",
              "      <th>RC1</th>\n",
              "      <th>RC2</th>\n",
              "      <th>Sub1</th>\n",
              "      <th>Sub2</th>\n",
              "      <th>Pen1</th>\n",
              "      <th>Pen2</th>\n",
              "      <th>Cor1</th>\n",
              "      <th>Cor2</th>\n",
              "      <th>Result1</th>\n",
              "      <th>Result2</th>\n",
              "      <th>P1</th>\n",
              "      <th>P2</th>\n",
              "    </tr>\n",
              "  </thead>\n",
              "  <tbody>\n",
              "    <tr>\n",
              "      <th>0</th>\n",
              "      <td>333041</td>\n",
              "      <td>1</td>\n",
              "      <td>1</td>\n",
              "      <td>0</td>\n",
              "      <td>0</td>\n",
              "      <td>0</td>\n",
              "      <td>1</td>\n",
              "      <td>0</td>\n",
              "      <td>1</td>\n",
              "      <td>0.0</td>\n",
              "      <td>100.0</td>\n",
              "      <td>0</td>\n",
              "      <td>0</td>\n",
              "      <td>0</td>\n",
              "      <td>0</td>\n",
              "      <td>0.0</td>\n",
              "      <td>0.0</td>\n",
              "      <td>0.0</td>\n",
              "      <td>0.0</td>\n",
              "      <td>0.0</td>\n",
              "      <td>0.0</td>\n",
              "      <td>0.0</td>\n",
              "      <td>0.0</td>\n",
              "      <td>0.0</td>\n",
              "      <td>1.0</td>\n",
              "      <td>2</td>\n",
              "      <td>1</td>\n",
              "      <td>2.1</td>\n",
              "      <td>3.8</td>\n",
              "    </tr>\n",
              "    <tr>\n",
              "      <th>1</th>\n",
              "      <td>333041</td>\n",
              "      <td>2</td>\n",
              "      <td>1</td>\n",
              "      <td>0</td>\n",
              "      <td>0</td>\n",
              "      <td>1</td>\n",
              "      <td>2</td>\n",
              "      <td>1</td>\n",
              "      <td>2</td>\n",
              "      <td>20.0</td>\n",
              "      <td>80.0</td>\n",
              "      <td>0</td>\n",
              "      <td>0</td>\n",
              "      <td>0</td>\n",
              "      <td>0</td>\n",
              "      <td>0.0</td>\n",
              "      <td>0.0</td>\n",
              "      <td>0.0</td>\n",
              "      <td>0.0</td>\n",
              "      <td>0.0</td>\n",
              "      <td>0.0</td>\n",
              "      <td>0.0</td>\n",
              "      <td>0.0</td>\n",
              "      <td>0.0</td>\n",
              "      <td>1.0</td>\n",
              "      <td>2</td>\n",
              "      <td>1</td>\n",
              "      <td>2.1</td>\n",
              "      <td>3.8</td>\n",
              "    </tr>\n",
              "    <tr>\n",
              "      <th>2</th>\n",
              "      <td>333041</td>\n",
              "      <td>3</td>\n",
              "      <td>1</td>\n",
              "      <td>0</td>\n",
              "      <td>0</td>\n",
              "      <td>2</td>\n",
              "      <td>2</td>\n",
              "      <td>1</td>\n",
              "      <td>2</td>\n",
              "      <td>28.0</td>\n",
              "      <td>72.0</td>\n",
              "      <td>0</td>\n",
              "      <td>0</td>\n",
              "      <td>0</td>\n",
              "      <td>0</td>\n",
              "      <td>0.0</td>\n",
              "      <td>0.0</td>\n",
              "      <td>0.0</td>\n",
              "      <td>0.0</td>\n",
              "      <td>0.0</td>\n",
              "      <td>0.0</td>\n",
              "      <td>0.0</td>\n",
              "      <td>0.0</td>\n",
              "      <td>0.0</td>\n",
              "      <td>1.0</td>\n",
              "      <td>2</td>\n",
              "      <td>1</td>\n",
              "      <td>2.1</td>\n",
              "      <td>3.8</td>\n",
              "    </tr>\n",
              "    <tr>\n",
              "      <th>3</th>\n",
              "      <td>333041</td>\n",
              "      <td>4</td>\n",
              "      <td>1</td>\n",
              "      <td>0</td>\n",
              "      <td>0</td>\n",
              "      <td>2</td>\n",
              "      <td>3</td>\n",
              "      <td>2</td>\n",
              "      <td>3</td>\n",
              "      <td>49.0</td>\n",
              "      <td>51.0</td>\n",
              "      <td>1</td>\n",
              "      <td>0</td>\n",
              "      <td>0</td>\n",
              "      <td>0</td>\n",
              "      <td>0.0</td>\n",
              "      <td>0.0</td>\n",
              "      <td>0.0</td>\n",
              "      <td>0.0</td>\n",
              "      <td>0.0</td>\n",
              "      <td>0.0</td>\n",
              "      <td>0.0</td>\n",
              "      <td>0.0</td>\n",
              "      <td>0.0</td>\n",
              "      <td>1.0</td>\n",
              "      <td>2</td>\n",
              "      <td>1</td>\n",
              "      <td>2.1</td>\n",
              "      <td>3.8</td>\n",
              "    </tr>\n",
              "    <tr>\n",
              "      <th>4</th>\n",
              "      <td>333041</td>\n",
              "      <td>5</td>\n",
              "      <td>1</td>\n",
              "      <td>0</td>\n",
              "      <td>0</td>\n",
              "      <td>2</td>\n",
              "      <td>3</td>\n",
              "      <td>2</td>\n",
              "      <td>3</td>\n",
              "      <td>40.0</td>\n",
              "      <td>60.0</td>\n",
              "      <td>1</td>\n",
              "      <td>0</td>\n",
              "      <td>0</td>\n",
              "      <td>0</td>\n",
              "      <td>0.0</td>\n",
              "      <td>0.0</td>\n",
              "      <td>0.0</td>\n",
              "      <td>0.0</td>\n",
              "      <td>0.0</td>\n",
              "      <td>0.0</td>\n",
              "      <td>0.0</td>\n",
              "      <td>0.0</td>\n",
              "      <td>0.0</td>\n",
              "      <td>2.0</td>\n",
              "      <td>2</td>\n",
              "      <td>1</td>\n",
              "      <td>2.1</td>\n",
              "      <td>3.8</td>\n",
              "    </tr>\n",
              "    <tr>\n",
              "      <th>...</th>\n",
              "      <td>...</td>\n",
              "      <td>...</td>\n",
              "      <td>...</td>\n",
              "      <td>...</td>\n",
              "      <td>...</td>\n",
              "      <td>...</td>\n",
              "      <td>...</td>\n",
              "      <td>...</td>\n",
              "      <td>...</td>\n",
              "      <td>...</td>\n",
              "      <td>...</td>\n",
              "      <td>...</td>\n",
              "      <td>...</td>\n",
              "      <td>...</td>\n",
              "      <td>...</td>\n",
              "      <td>...</td>\n",
              "      <td>...</td>\n",
              "      <td>...</td>\n",
              "      <td>...</td>\n",
              "      <td>...</td>\n",
              "      <td>...</td>\n",
              "      <td>...</td>\n",
              "      <td>...</td>\n",
              "      <td>...</td>\n",
              "      <td>...</td>\n",
              "      <td>...</td>\n",
              "      <td>...</td>\n",
              "      <td>...</td>\n",
              "      <td>...</td>\n",
              "    </tr>\n",
              "    <tr>\n",
              "      <th>2598278</th>\n",
              "      <td>5196533</td>\n",
              "      <td>40</td>\n",
              "      <td>1</td>\n",
              "      <td>0</td>\n",
              "      <td>0</td>\n",
              "      <td>34</td>\n",
              "      <td>22</td>\n",
              "      <td>19</td>\n",
              "      <td>15</td>\n",
              "      <td>NaN</td>\n",
              "      <td>NaN</td>\n",
              "      <td>0</td>\n",
              "      <td>0</td>\n",
              "      <td>1</td>\n",
              "      <td>0</td>\n",
              "      <td>1.0</td>\n",
              "      <td>1.0</td>\n",
              "      <td>0.0</td>\n",
              "      <td>0.0</td>\n",
              "      <td>0.0</td>\n",
              "      <td>1.0</td>\n",
              "      <td>0.0</td>\n",
              "      <td>0.0</td>\n",
              "      <td>1.0</td>\n",
              "      <td>2.0</td>\n",
              "      <td>1</td>\n",
              "      <td>0</td>\n",
              "      <td>2.3</td>\n",
              "      <td>3.3</td>\n",
              "    </tr>\n",
              "    <tr>\n",
              "      <th>2598279</th>\n",
              "      <td>5196533</td>\n",
              "      <td>41</td>\n",
              "      <td>1</td>\n",
              "      <td>0</td>\n",
              "      <td>0</td>\n",
              "      <td>34</td>\n",
              "      <td>25</td>\n",
              "      <td>19</td>\n",
              "      <td>15</td>\n",
              "      <td>NaN</td>\n",
              "      <td>NaN</td>\n",
              "      <td>0</td>\n",
              "      <td>0</td>\n",
              "      <td>1</td>\n",
              "      <td>0</td>\n",
              "      <td>1.0</td>\n",
              "      <td>1.0</td>\n",
              "      <td>0.0</td>\n",
              "      <td>0.0</td>\n",
              "      <td>0.0</td>\n",
              "      <td>1.0</td>\n",
              "      <td>0.0</td>\n",
              "      <td>0.0</td>\n",
              "      <td>1.0</td>\n",
              "      <td>2.0</td>\n",
              "      <td>1</td>\n",
              "      <td>0</td>\n",
              "      <td>2.3</td>\n",
              "      <td>3.3</td>\n",
              "    </tr>\n",
              "    <tr>\n",
              "      <th>2598280</th>\n",
              "      <td>5196533</td>\n",
              "      <td>42</td>\n",
              "      <td>1</td>\n",
              "      <td>0</td>\n",
              "      <td>0</td>\n",
              "      <td>34</td>\n",
              "      <td>26</td>\n",
              "      <td>19</td>\n",
              "      <td>15</td>\n",
              "      <td>NaN</td>\n",
              "      <td>NaN</td>\n",
              "      <td>0</td>\n",
              "      <td>0</td>\n",
              "      <td>1</td>\n",
              "      <td>0</td>\n",
              "      <td>1.0</td>\n",
              "      <td>1.0</td>\n",
              "      <td>0.0</td>\n",
              "      <td>0.0</td>\n",
              "      <td>0.0</td>\n",
              "      <td>1.0</td>\n",
              "      <td>0.0</td>\n",
              "      <td>0.0</td>\n",
              "      <td>1.0</td>\n",
              "      <td>2.0</td>\n",
              "      <td>1</td>\n",
              "      <td>0</td>\n",
              "      <td>2.3</td>\n",
              "      <td>3.3</td>\n",
              "    </tr>\n",
              "    <tr>\n",
              "      <th>2598281</th>\n",
              "      <td>5196533</td>\n",
              "      <td>43</td>\n",
              "      <td>1</td>\n",
              "      <td>0</td>\n",
              "      <td>0</td>\n",
              "      <td>34</td>\n",
              "      <td>27</td>\n",
              "      <td>19</td>\n",
              "      <td>16</td>\n",
              "      <td>NaN</td>\n",
              "      <td>NaN</td>\n",
              "      <td>0</td>\n",
              "      <td>0</td>\n",
              "      <td>1</td>\n",
              "      <td>0</td>\n",
              "      <td>1.0</td>\n",
              "      <td>1.0</td>\n",
              "      <td>0.0</td>\n",
              "      <td>0.0</td>\n",
              "      <td>0.0</td>\n",
              "      <td>1.0</td>\n",
              "      <td>0.0</td>\n",
              "      <td>0.0</td>\n",
              "      <td>1.0</td>\n",
              "      <td>2.0</td>\n",
              "      <td>1</td>\n",
              "      <td>0</td>\n",
              "      <td>2.3</td>\n",
              "      <td>3.3</td>\n",
              "    </tr>\n",
              "    <tr>\n",
              "      <th>2598282</th>\n",
              "      <td>5196533</td>\n",
              "      <td>45</td>\n",
              "      <td>1</td>\n",
              "      <td>0</td>\n",
              "      <td>0</td>\n",
              "      <td>36</td>\n",
              "      <td>27</td>\n",
              "      <td>20</td>\n",
              "      <td>16</td>\n",
              "      <td>NaN</td>\n",
              "      <td>NaN</td>\n",
              "      <td>0</td>\n",
              "      <td>0</td>\n",
              "      <td>1</td>\n",
              "      <td>0</td>\n",
              "      <td>1.0</td>\n",
              "      <td>1.0</td>\n",
              "      <td>0.0</td>\n",
              "      <td>0.0</td>\n",
              "      <td>0.0</td>\n",
              "      <td>1.0</td>\n",
              "      <td>0.0</td>\n",
              "      <td>0.0</td>\n",
              "      <td>1.0</td>\n",
              "      <td>2.0</td>\n",
              "      <td>1</td>\n",
              "      <td>0</td>\n",
              "      <td>2.3</td>\n",
              "      <td>3.3</td>\n",
              "    </tr>\n",
              "  </tbody>\n",
              "</table>\n",
              "<p>2598283 rows × 29 columns</p>\n",
              "</div>\n",
              "      <button class=\"colab-df-convert\" onclick=\"convertToInteractive('df-9a9168ed-6bed-4430-816c-7c3ada24c35a')\"\n",
              "              title=\"Convert this dataframe to an interactive table.\"\n",
              "              style=\"display:none;\">\n",
              "        \n",
              "  <svg xmlns=\"http://www.w3.org/2000/svg\" height=\"24px\"viewBox=\"0 0 24 24\"\n",
              "       width=\"24px\">\n",
              "    <path d=\"M0 0h24v24H0V0z\" fill=\"none\"/>\n",
              "    <path d=\"M18.56 5.44l.94 2.06.94-2.06 2.06-.94-2.06-.94-.94-2.06-.94 2.06-2.06.94zm-11 1L8.5 8.5l.94-2.06 2.06-.94-2.06-.94L8.5 2.5l-.94 2.06-2.06.94zm10 10l.94 2.06.94-2.06 2.06-.94-2.06-.94-.94-2.06-.94 2.06-2.06.94z\"/><path d=\"M17.41 7.96l-1.37-1.37c-.4-.4-.92-.59-1.43-.59-.52 0-1.04.2-1.43.59L10.3 9.45l-7.72 7.72c-.78.78-.78 2.05 0 2.83L4 21.41c.39.39.9.59 1.41.59.51 0 1.02-.2 1.41-.59l7.78-7.78 2.81-2.81c.8-.78.8-2.07 0-2.86zM5.41 20L4 18.59l7.72-7.72 1.47 1.35L5.41 20z\"/>\n",
              "  </svg>\n",
              "      </button>\n",
              "      \n",
              "  <style>\n",
              "    .colab-df-container {\n",
              "      display:flex;\n",
              "      flex-wrap:wrap;\n",
              "      gap: 12px;\n",
              "    }\n",
              "\n",
              "    .colab-df-convert {\n",
              "      background-color: #E8F0FE;\n",
              "      border: none;\n",
              "      border-radius: 50%;\n",
              "      cursor: pointer;\n",
              "      display: none;\n",
              "      fill: #1967D2;\n",
              "      height: 32px;\n",
              "      padding: 0 0 0 0;\n",
              "      width: 32px;\n",
              "    }\n",
              "\n",
              "    .colab-df-convert:hover {\n",
              "      background-color: #E2EBFA;\n",
              "      box-shadow: 0px 1px 2px rgba(60, 64, 67, 0.3), 0px 1px 3px 1px rgba(60, 64, 67, 0.15);\n",
              "      fill: #174EA6;\n",
              "    }\n",
              "\n",
              "    [theme=dark] .colab-df-convert {\n",
              "      background-color: #3B4455;\n",
              "      fill: #D2E3FC;\n",
              "    }\n",
              "\n",
              "    [theme=dark] .colab-df-convert:hover {\n",
              "      background-color: #434B5C;\n",
              "      box-shadow: 0px 1px 3px 1px rgba(0, 0, 0, 0.15);\n",
              "      filter: drop-shadow(0px 1px 2px rgba(0, 0, 0, 0.3));\n",
              "      fill: #FFFFFF;\n",
              "    }\n",
              "  </style>\n",
              "\n",
              "      <script>\n",
              "        const buttonEl =\n",
              "          document.querySelector('#df-9a9168ed-6bed-4430-816c-7c3ada24c35a button.colab-df-convert');\n",
              "        buttonEl.style.display =\n",
              "          google.colab.kernel.accessAllowed ? 'block' : 'none';\n",
              "\n",
              "        async function convertToInteractive(key) {\n",
              "          const element = document.querySelector('#df-9a9168ed-6bed-4430-816c-7c3ada24c35a');\n",
              "          const dataTable =\n",
              "            await google.colab.kernel.invokeFunction('convertToInteractive',\n",
              "                                                     [key], {});\n",
              "          if (!dataTable) return;\n",
              "\n",
              "          const docLinkHtml = 'Like what you see? Visit the ' +\n",
              "            '<a target=\"_blank\" href=https://colab.research.google.com/notebooks/data_table.ipynb>data table notebook</a>'\n",
              "            + ' to learn more about interactive tables.';\n",
              "          element.innerHTML = '';\n",
              "          dataTable['output_type'] = 'display_data';\n",
              "          await google.colab.output.renderOutput(dataTable, element);\n",
              "          const docLink = document.createElement('div');\n",
              "          docLink.innerHTML = docLinkHtml;\n",
              "          element.appendChild(docLink);\n",
              "        }\n",
              "      </script>\n",
              "    </div>\n",
              "  </div>\n",
              "  "
            ]
          },
          "metadata": {},
          "execution_count": 13
        }
      ]
    },
    {
      "cell_type": "code",
      "source": [
        "data_df['min_norm'] = data_df['Minute'].astype(np.float32) / 50"
      ],
      "metadata": {
        "id": "8KD42O9VvAiW"
      },
      "execution_count": null,
      "outputs": []
    },
    {
      "cell_type": "code",
      "source": [
        "data_df['Score1_norm'] = data_df['Score1'].fillna(method = 'ffill').astype(np.float32) / 4\n",
        "data_df.loc[data_df['Score1'] > 3, ['Score1_norm']] = 1.0\n",
        "data_df['Score2_norm'] = data_df['Score2'].fillna(method = 'ffill').astype(np.float32) / 4\n",
        "data_df.loc[data_df['Score2'] > 3, ['Score2_norm']] = 1.0\n",
        "\n",
        "data_df['Score_diff'] = data_df['Score1'].astype(np.float32) - data_df['Score2'].astype(np.float32)\n",
        "data_df.loc[data_df['Score_diff'] < -4, ['Score_diff']] = -4\n",
        "data_df.loc[data_df['Score_diff'] > 4, ['Score_diff']] = 4\n",
        "data_df[[f'Score_cat_{n}' for n in range(1, 10)]] = pd.get_dummies(data_df['Score_diff']).values\n",
        "data_df['Score_diff'] = data_df['Score_diff'].astype(np.float32) / np.float32(4.0)\n",
        "\n",
        "if drop_transformed:\n",
        "    data_df = data_df.drop(['Score1', 'Score2'], axis = 1)"
      ],
      "metadata": {
        "id": "2LH5Fn5x5jXP"
      },
      "execution_count": null,
      "outputs": []
    },
    {
      "cell_type": "code",
      "source": [
        "data_df['A1_scaled'] = data_df['A1'].astype(np.float32) / 100\n",
        "data_df.loc[data_df['A1'] >= 80, ['A1_scaled']] = (80 + (data_df['A1'] - 80) / 5) / 100\n",
        "data_df['A2_scaled'] = data_df['A2'].astype(np.float32) / 100\n",
        "data_df.loc[data_df['A2'] >= 80, ['A2_scaled']] = (80 + (data_df['A2'] - 80) / 5) / 100\n",
        "\n",
        "data_df['A1perMIN'] = data_df['A1'].astype(np.float32) / data_df['Minute'].astype(np.float32)\n",
        "data_df.loc[data_df['A1perMIN'] > 4, ['A1perMIN']] = np.float32(4.0)\n",
        "data_df['A2perMIN'] = data_df['A2'].astype(np.float32) / data_df['Minute'].astype(np.float32)\n",
        "data_df.loc[data_df['A2perMIN'] > 4, ['A2perMIN']] = np.float32(4.0)\n",
        "\n",
        "data_df['A1relativ'] = data_df['A1'].astype(np.float32) - data_df['A1'].shift(5).astype(np.float32)\n",
        "data_df.loc[data_df['A1relativ'] < 0, ['A1relativ']] = np.float32(0.0)\n",
        "data_df['A1relativ'] = data_df['A1relativ'].fillna(0)\n",
        "data_df.loc[data_df['A1relativ'] > 15, ['A1relativ']] = np.float32(15.)\n",
        "data_df['A2relativ'] = data_df['A2'].astype(np.float32) - data_df['A2'].shift(5).astype(np.float32)\n",
        "data_df.loc[data_df['A2relativ'] < 0, ['A2relativ']] =  np.float32(0.0)\n",
        "data_df['A2relativ'] = data_df['A2relativ'].fillna(0)\n",
        "data_df.loc[data_df['A2relativ'] > 15, ['A2relativ']] = np.float32(15.)\n",
        "\n",
        "if drop_transformed:\n",
        "    data_df = data_df.drop(['A1', 'A2'], axis = 1)"
      ],
      "metadata": {
        "id": "QvcgrgZi51Am"
      },
      "execution_count": null,
      "outputs": []
    },
    {
      "cell_type": "code",
      "source": [
        "data_df['DA1_scaled'] = data_df['DA1'].astype(np.float32) / 100\n",
        "data_df.loc[data_df['DA1'] >= 80, ['DA1_scaled']] = (80 + (data_df['DA1'] - 80) / 5) / 100\n",
        "data_df['DA2_scaled'] = data_df['DA2'].astype(np.float32) / 100\n",
        "data_df.loc[data_df['DA2'] >= 80, ['DA2_scaled']] = (80 + (data_df['DA2'] - 80) / 5) / 100\n",
        "\n",
        "data_df['DA1perMIN'] = data_df['DA1'].astype(np.float32) / data_df['Minute'].astype(np.float32)\n",
        "data_df.loc[data_df['DA1perMIN'] > 3, ['DA1perMIN']] = np.float32(3.0)\n",
        "data_df['DA2perMIN'] = data_df['DA2'].astype(np.float32) / data_df['Minute'].astype(np.float32)\n",
        "data_df.loc[data_df['DA2perMIN'] > 3, ['DA2perMIN']] = np.float32(3.0)\n",
        "\n",
        "data_df['DA1relativ'] = data_df['DA1'].astype(np.float32) - data_df['DA1'].shift(5).astype(np.float32)\n",
        "data_df.loc[data_df['DA1relativ'] < 0, ['DA1relativ']] = np.float32(0.0)\n",
        "data_df['DA1relativ'] = data_df['DA1relativ'].fillna(0)\n",
        "data_df.loc[data_df['DA1relativ'] > 10, ['DA1relativ']] = np.float32(10.)\n",
        "data_df['DA2relativ'] = data_df['DA2'].astype(np.float32) - data_df['DA2'].shift(5).astype(np.float32)\n",
        "data_df.loc[data_df['DA2relativ'] < 0, ['DA2relativ']] = np.float32(0.0)\n",
        "data_df['DA2relativ'] = data_df['DA2relativ'].fillna(0)\n",
        "data_df.loc[data_df['DA2relativ'] > 10, ['DA2relativ']] = np.float32(10.)\n",
        "\n",
        "if drop_transformed:\n",
        "    data_df = data_df.drop(['DA1', 'DA2'], axis = 1)"
      ],
      "metadata": {
        "id": "UqATXQr99xd2"
      },
      "execution_count": null,
      "outputs": []
    },
    {
      "cell_type": "code",
      "source": [
        "data_df['Pos1_cleaned'] = data_df['Pos1'].fillna(method = 'ffill').astype(np.float32) /  np.float32(100.0)\n",
        "data_df.loc[data_df['Pos1_cleaned'] < 0.2, ['Pos1_cleaned']] = np.float32(0.2)\n",
        "data_df.loc[data_df['Pos1_cleaned'] > 0.8, ['Pos1_cleaned']] = np.float32(0.8)\n",
        "data_df['Pos2_cleaned'] = data_df['Pos2'].fillna(method = 'ffill').astype(np.float32) /  np.float32(100.0)\n",
        "data_df.loc[data_df['Pos2_cleaned'] < 0.2, ['Pos2_cleaned']] = np.float32(0.2)\n",
        "data_df.loc[data_df['Pos2_cleaned'] > 0.8, ['Pos2_cleaned']] = np.float32(0.8)\n",
        "\n",
        "if drop_transformed:\n",
        "    data_df = data_df.drop(['Pos1', 'Pos2'], axis = 1)"
      ],
      "metadata": {
        "id": "E2gWQl5zjfGt"
      },
      "execution_count": null,
      "outputs": []
    },
    {
      "cell_type": "code",
      "source": [
        "data_df['Off1_norm'] = data_df['Off1'].fillna(method = 'ffill').astype(np.float32) / np.float32(10.0)\n",
        "data_df.loc[data_df['Off1_norm'] > 1.0, ['Off1_norm']] = np.float32(1.0)\n",
        "data_df['Off2_norm'] = data_df['Off2'].fillna(method = 'ffill').astype(np.float32) / np.float32(10.0)\n",
        "data_df.loc[data_df['Off2_norm'] > 1.0, ['Off2_norm']] = np.float32(1.0)\n",
        "\n",
        "if drop_transformed:\n",
        "    data_df = data_df.drop(['Off1', 'Off2'], axis = 1)"
      ],
      "metadata": {
        "id": "y-i1z701uFjz"
      },
      "execution_count": null,
      "outputs": []
    },
    {
      "cell_type": "code",
      "source": [
        "data_df['On1_norm'] = data_df['On1'].fillna(method = 'ffill').astype(np.float32) / np.float32(5.0)\n",
        "data_df.loc[data_df['On1_norm'] > 1.0, ['On1_norm']] = np.float32(1.0)\n",
        "data_df['On2_norm'] = data_df['On2'].fillna(method = 'ffill').astype(np.float32) / np.float32(5.0)\n",
        "data_df.loc[data_df['On2_norm'] > 1.0, ['On2_norm']] = np.float32(1.0)\n",
        "\n",
        "if drop_transformed:\n",
        "    data_df = data_df.drop(['On1', 'On2'], axis = 1)"
      ],
      "metadata": {
        "id": "VdsP8N4SJYGU"
      },
      "execution_count": null,
      "outputs": []
    },
    {
      "cell_type": "code",
      "source": [
        "data_df['YC1_transformed'] = data_df['YC1'].fillna(0).astype(np.float32) / np.float32(2.0)\n",
        "data_df.loc[data_df['YC1_transformed'] > 1.0, ['YC1_transformed']] = np.float32(1.0)\n",
        "data_df['YC2_transformed'] = data_df['YC2'].fillna(0).astype(np.float32) / np.float32(2.0)\n",
        "data_df.loc[data_df['YC2_transformed'] > 1.0, ['YC2_transformed']] = np.float32(1.0)\n",
        "\n",
        "if drop_transformed:\n",
        "    data_df = data_df.drop(['YC1', 'YC2'], axis = 1)"
      ],
      "metadata": {
        "id": "IVcw8ggHKG47"
      },
      "execution_count": null,
      "outputs": []
    },
    {
      "cell_type": "code",
      "source": [
        "data_df['RC1_transformed'] = data_df['RC1'].fillna(0).astype(np.int8)\n",
        "data_df.loc[data_df['RC1_transformed'] > 1, ['RC1_transformed']] = np.int8(1)\n",
        "data_df['RC2_transformed'] = data_df['RC2'].fillna(0).astype(np.int8)\n",
        "data_df.loc[data_df['RC2_transformed'] > 1, ['RC2_transformed']] = np.int8(1)\n",
        "\n",
        "if drop_transformed:\n",
        "    data_df = data_df.drop(['RC1', 'RC2'], axis = 1)"
      ],
      "metadata": {
        "id": "7piZZiGXK5PJ"
      },
      "execution_count": null,
      "outputs": []
    },
    {
      "cell_type": "code",
      "source": [
        "data_df['Sub1_transformed'] = data_df['Sub1'].fillna(0).astype(np.int8)\n",
        "data_df.loc[data_df['Sub1_transformed'] > 1, ['Sub1_transformed']] = np.int8(1)\n",
        "data_df['Sub2_transformed'] = data_df['Sub2'].fillna(0).astype(np.int8)\n",
        "data_df.loc[data_df['Sub2_transformed'] > 1, ['Sub2_transformed']] = np.int8(1)\n",
        "\n",
        "if drop_transformed:\n",
        "    data_df = data_df.drop(['Sub1', 'Sub2'], axis = 1)"
      ],
      "metadata": {
        "id": "Q9QnYgnbL2Lf"
      },
      "execution_count": null,
      "outputs": []
    },
    {
      "cell_type": "code",
      "source": [
        "data_df['Cor1_transformed'] = data_df['Cor1'].fillna(0).astype(np.float32) / np.float32(6.0)\n",
        "data_df.loc[data_df['Cor1_transformed'] > 1.0, ['Cor1_transformed']] = np.float32(1.0)\n",
        "data_df['Cor2_transformed'] = data_df['Cor2'].fillna(0).astype(np.float32) / np.float32(6.0)\n",
        "data_df.loc[data_df['Cor2_transformed'] > 1.0, ['Cor2_transformed']] = np.float32(1.0)\n",
        "\n",
        "if drop_transformed:\n",
        "    data_df = data_df.drop(['Cor1', 'Cor2'], axis = 1)"
      ],
      "metadata": {
        "id": "8_dntM6VMhLU"
      },
      "execution_count": null,
      "outputs": []
    },
    {
      "cell_type": "code",
      "source": [
        "data_df['P1_transformed'] = np.log(data_df['P1'], dtype = np.float32) / 2\n",
        "data_df['P2_transformed'] = np.log(data_df['P2'], dtype = np.float32) / 2\n",
        "\n",
        "if drop_transformed:\n",
        "    data_df = data_df.drop(['P1', 'P2'], axis = 1)"
      ],
      "metadata": {
        "id": "Bf2l2TAS-fO6"
      },
      "execution_count": null,
      "outputs": []
    },
    {
      "cell_type": "code",
      "source": [
        "data_df.to_csv('data_train_transformed.csv.gz', index = False, compression={'method': 'gzip'})"
      ],
      "metadata": {
        "id": "kMO8r-g2pF2C"
      },
      "execution_count": null,
      "outputs": []
    },
    {
      "cell_type": "code",
      "source": [
        "px.histogram(np.log(data_df['P2'].iloc[:1_000_000]) / 2)"
      ],
      "metadata": {
        "id": "vrjWPNctqmWT"
      },
      "execution_count": null,
      "outputs": []
    },
    {
      "cell_type": "code",
      "source": [
        "px.histogram(np.log(data_df['P1'].iloc[:1_000_000]))"
      ],
      "metadata": {
        "id": "kLG0wrfFqmPW"
      },
      "execution_count": null,
      "outputs": []
    },
    {
      "cell_type": "code",
      "source": [
        "data_df = pd.read_csv('./data.csv', sep = ';',\n",
        "                      #nrows = 10_000_000, \n",
        "                      usecols = ['Id', 'Minute', 'Score1', 'Score2', \n",
        "                                 'A1', 'A2', 'DA1', 'DA2', 'Pos1', 'Pos2', 'Off1', \n",
        "                                 'Off2', 'On1', 'On2', 'YC1', 'YC2', 'RC1', 'RC2', \n",
        "                                 'Sub1', 'Sub2', 'Pen1', 'Pen2', 'Cor1', 'Cor2'])"
      ],
      "metadata": {
        "id": "51SDhcOXuRRe"
      },
      "execution_count": null,
      "outputs": []
    },
    {
      "cell_type": "code",
      "source": [
        "data_df.head(100)"
      ],
      "metadata": {
        "id": "DI3LhniuvyZ1"
      },
      "execution_count": null,
      "outputs": []
    },
    {
      "cell_type": "code",
      "source": [
        "!head /content/info.csv"
      ],
      "metadata": {
        "colab": {
          "base_uri": "https://localhost:8080/"
        },
        "id": "5ODN36udaNVZ",
        "outputId": "820d75bc-96d2-4c09-9b62-e40db5f05a1d"
      },
      "execution_count": null,
      "outputs": [
        {
          "output_type": "stream",
          "name": "stdout",
          "text": [
            "Id;BeginTime;Home;Away;League;Country;Type;Result1;Result2;Periods;HomeId;AwayId;LeagueId;Season;Round\r\n",
            "358904;01.01.2018 22:45:00;Bromley;Ebbsfleet United;England National League;gb;;4;2;3:1,4:2;;;;;\r\n",
            "330509;01.01.2018 22:00:00;Hapoel Bnei Sakhnin;Maccabi Tel Aviv;Israel Premier League;il;;0;1;0:0,0:1;;;;;\r\n",
            "575487;01.01.2018 20:30:00;Aston Villa;Bristol City;England Championship;gb;;5;0;2:0,5:0;;;;;\r\n",
            "338563;01.01.2018 20:30:00;Everton;Man Utd;England Premier League;gb;;0;2;0:0,0:2;;;;;\r\n",
            "340310;01.01.2018 20:15:00;Bangor City;Llandudno;Wales Premier League;gb;;0;1;0:0,0:1;;;;;\r\n",
            "577973;01.01.2018 20:13:49;JKU FC;Taifa Jang’ombe;World Club Friendlies;;;0;0;0:0,0:0;;;;;\r\n",
            "577112;01.01.2018 20:00:00;Hapoel Kfar Saba;Hapoel Ramat Gan;Israel Leumit Liga;il;;0;0;0:0,0:0;;;;;\r\n",
            "571744;01.01.2018 20:00:00;Maccabi Achi Nazareth;Beitar Tel Aviv Bat Yam;Israel Leumit Liga;il;;0;0;0:0,0:0;;;;;\r\n",
            "571518;01.01.2018 20:00:00;Ironi Ramat Hasharon;Hapoel Hadera;Israel Leumit Liga;il;;0;4;0:2,0:4;;;;;\r\n"
          ]
        }
      ]
    },
    {
      "cell_type": "code",
      "source": [
        "info_df = pd.read_csv('./info.csv', sep = ';', usecols = ['Id', 'Result1', 'Result2', 'Periods'])"
      ],
      "metadata": {
        "id": "QQCpe7b7ikHs"
      },
      "execution_count": null,
      "outputs": []
    },
    {
      "cell_type": "code",
      "source": [
        "info_df[['Period1', 'Period2', 'Period3', 'Period4']] = info_df['Periods'].str.split(',', expand = True)"
      ],
      "metadata": {
        "id": "x4wRzewfirWW"
      },
      "execution_count": null,
      "outputs": []
    },
    {
      "cell_type": "code",
      "source": [
        "miss_p1_list = list(info_df[info_df['Period1'] == '']['Id'])"
      ],
      "metadata": {
        "id": "4uh2T2HJq9xF"
      },
      "execution_count": null,
      "outputs": []
    },
    {
      "cell_type": "code",
      "source": [
        "period1_result_dict = info_df.set_index('Id')['Period1'].to_dict()"
      ],
      "metadata": {
        "id": "swO-mgWmpVcY"
      },
      "execution_count": null,
      "outputs": []
    },
    {
      "cell_type": "code",
      "source": [
        "data_df.loc[:, 'periods1'] =  [period1_result_dict[id] if id in period1_result_dict else '' for id in data_df['Id'].values]\n"
      ],
      "metadata": {
        "id": "hDxFe-fYyGJp"
      },
      "execution_count": null,
      "outputs": []
    },
    {
      "cell_type": "code",
      "source": [
        "(data_df['periods1'] == '').sum()"
      ],
      "metadata": {
        "colab": {
          "base_uri": "https://localhost:8080/"
        },
        "id": "SqI-VONCxXp1",
        "outputId": "86ced29d-0952-4e27-a481-5dd53c9c4d67"
      },
      "execution_count": null,
      "outputs": [
        {
          "output_type": "execute_result",
          "data": {
            "text/plain": [
              "4247"
            ]
          },
          "metadata": {},
          "execution_count": 42
        }
      ]
    },
    {
      "cell_type": "code",
      "source": [
        "!head /content/prem.csv"
      ],
      "metadata": {
        "colab": {
          "base_uri": "https://localhost:8080/"
        },
        "id": "ObkXdsjgaRkR",
        "outputId": "da3f470a-1242-4e1a-955c-607844bc787b"
      },
      "execution_count": null,
      "outputs": [
        {
          "output_type": "stream",
          "name": "stdout",
          "text": [
            "Id;IsPrem;P1;PX;P2;PR;PRTime;IsKO;KO1;KOX;KO2;KOR;KOTime;KOminute;KOscore\r\n",
            "358904;1;2.6;3.2;2.8;0.0543;01.01.2018 22:20:17;0;;;;;;;\r\n",
            "330509;1;9.5;4.5;1.364;0.0606;01.01.2018 21:58:29;0;;;;;;;\r\n",
            "575487;1;2.4;3.3;3.3;0.0227;01.01.2018 20:09:47;0;;;;;;;\r\n",
            "338563;1;5.75;3.75;1.7;0.0288;01.01.2018 19:51:18;0;;;;;;;\r\n",
            "340310;1;1.571;4;5.75;0.0605;01.01.2018 20:03:11;0;;;;;;;\r\n",
            "577973;1;2;3.25;3.3;0.1107;31.12.2017 20:10:35;0;;;;;;;\r\n",
            "577112;1;1.8;3.4;4.333;0.0805;01.01.2018 18:14:51;0;;;;;;;\r\n",
            "571744;1;2.45;3.2;2.7;0.091;01.01.2018 12:36:33;0;;;;;;;\r\n",
            "571518;1;1.909;3.3;3.75;0.0935;01.01.2018 19:37:02;0;;;;;;;\r\n"
          ]
        }
      ]
    },
    {
      "cell_type": "code",
      "source": [
        "prem_df = pd.read_csv('./prem.csv', sep = ';')"
      ],
      "metadata": {
        "id": "5uV9Y0OqhvBY"
      },
      "execution_count": null,
      "outputs": []
    },
    {
      "cell_type": "code",
      "source": [
        "prem_df"
      ],
      "metadata": {
        "colab": {
          "base_uri": "https://localhost:8080/",
          "height": 423
        },
        "id": "2Fq4ylJcib1D",
        "outputId": "218670c2-a3b6-415f-b959-cf87daf6ffcb"
      },
      "execution_count": null,
      "outputs": [
        {
          "output_type": "execute_result",
          "data": {
            "text/plain": [
              "             Id  IsPrem     P1     PX      P2      PR               PRTime  \\\n",
              "0        358904       1  2.600  3.200   2.800  0.0543  01.01.2018 22:20:17   \n",
              "1        330509       1  9.500  4.500   1.364  0.0606  01.01.2018 21:58:29   \n",
              "2        575487       1  2.400  3.300   3.300  0.0227  01.01.2018 20:09:47   \n",
              "3        338563       1  5.750  3.750   1.700  0.0288  01.01.2018 19:51:18   \n",
              "4        340310       1  1.571  4.000   5.750  0.0605  01.01.2018 20:03:11   \n",
              "...         ...     ...    ...    ...     ...     ...                  ...   \n",
              "749195  6058161       1  2.750  4.000   2.000  0.1136   26.12.2022 9:54:23   \n",
              "749196  5404664       1  2.800  3.600   2.450  0.0431   26.12.2022 9:59:53   \n",
              "749197  6063457       1  1.166  6.000  11.000  0.1152   26.12.2022 7:39:37   \n",
              "749198  6063456       1  1.083  8.500  23.000  0.0845   26.12.2022 0:36:08   \n",
              "749199  6063455       1  1.400  4.333   6.000  0.1117   26.12.2022 2:29:41   \n",
              "\n",
              "        IsKO    KO1  KOX   KO2     KOR               KOTime  KOminute  KOscore  \n",
              "0        0.0    NaN  NaN   NaN     NaN                  NaN       NaN      NaN  \n",
              "1        0.0    NaN  NaN   NaN     NaN                  NaN       NaN      NaN  \n",
              "2        0.0    NaN  NaN   NaN     NaN                  NaN       NaN      NaN  \n",
              "3        0.0    NaN  NaN   NaN     NaN                  NaN       NaN      NaN  \n",
              "4        0.0    NaN  NaN   NaN     NaN                  NaN       NaN      NaN  \n",
              "...      ...    ...  ...   ...     ...                  ...       ...      ...  \n",
              "749195   1.0  2.875  4.0   2.0  0.0978  26.12.2022 10:01:18       1.0      0.0  \n",
              "749196   1.0  2.750  3.6   2.5  0.0414  26.12.2022 10:01:30       1.0      0.0  \n",
              "749197   1.0  1.181  6.0  10.0  0.1134   26.12.2022 7:42:01       1.0      0.0  \n",
              "749198   1.0  1.090  8.5  21.0  0.0827   26.12.2022 5:01:48       1.0      0.0  \n",
              "749199   1.0  1.400  4.5   6.5  0.0904   26.12.2022 5:02:50       2.0      0.0  \n",
              "\n",
              "[749200 rows x 15 columns]"
            ],
            "text/html": [
              "\n",
              "  <div id=\"df-1805ba24-7d62-4e7d-8afa-e32943bb9afd\">\n",
              "    <div class=\"colab-df-container\">\n",
              "      <div>\n",
              "<style scoped>\n",
              "    .dataframe tbody tr th:only-of-type {\n",
              "        vertical-align: middle;\n",
              "    }\n",
              "\n",
              "    .dataframe tbody tr th {\n",
              "        vertical-align: top;\n",
              "    }\n",
              "\n",
              "    .dataframe thead th {\n",
              "        text-align: right;\n",
              "    }\n",
              "</style>\n",
              "<table border=\"1\" class=\"dataframe\">\n",
              "  <thead>\n",
              "    <tr style=\"text-align: right;\">\n",
              "      <th></th>\n",
              "      <th>Id</th>\n",
              "      <th>IsPrem</th>\n",
              "      <th>P1</th>\n",
              "      <th>PX</th>\n",
              "      <th>P2</th>\n",
              "      <th>PR</th>\n",
              "      <th>PRTime</th>\n",
              "      <th>IsKO</th>\n",
              "      <th>KO1</th>\n",
              "      <th>KOX</th>\n",
              "      <th>KO2</th>\n",
              "      <th>KOR</th>\n",
              "      <th>KOTime</th>\n",
              "      <th>KOminute</th>\n",
              "      <th>KOscore</th>\n",
              "    </tr>\n",
              "  </thead>\n",
              "  <tbody>\n",
              "    <tr>\n",
              "      <th>0</th>\n",
              "      <td>358904</td>\n",
              "      <td>1</td>\n",
              "      <td>2.600</td>\n",
              "      <td>3.200</td>\n",
              "      <td>2.800</td>\n",
              "      <td>0.0543</td>\n",
              "      <td>01.01.2018 22:20:17</td>\n",
              "      <td>0.0</td>\n",
              "      <td>NaN</td>\n",
              "      <td>NaN</td>\n",
              "      <td>NaN</td>\n",
              "      <td>NaN</td>\n",
              "      <td>NaN</td>\n",
              "      <td>NaN</td>\n",
              "      <td>NaN</td>\n",
              "    </tr>\n",
              "    <tr>\n",
              "      <th>1</th>\n",
              "      <td>330509</td>\n",
              "      <td>1</td>\n",
              "      <td>9.500</td>\n",
              "      <td>4.500</td>\n",
              "      <td>1.364</td>\n",
              "      <td>0.0606</td>\n",
              "      <td>01.01.2018 21:58:29</td>\n",
              "      <td>0.0</td>\n",
              "      <td>NaN</td>\n",
              "      <td>NaN</td>\n",
              "      <td>NaN</td>\n",
              "      <td>NaN</td>\n",
              "      <td>NaN</td>\n",
              "      <td>NaN</td>\n",
              "      <td>NaN</td>\n",
              "    </tr>\n",
              "    <tr>\n",
              "      <th>2</th>\n",
              "      <td>575487</td>\n",
              "      <td>1</td>\n",
              "      <td>2.400</td>\n",
              "      <td>3.300</td>\n",
              "      <td>3.300</td>\n",
              "      <td>0.0227</td>\n",
              "      <td>01.01.2018 20:09:47</td>\n",
              "      <td>0.0</td>\n",
              "      <td>NaN</td>\n",
              "      <td>NaN</td>\n",
              "      <td>NaN</td>\n",
              "      <td>NaN</td>\n",
              "      <td>NaN</td>\n",
              "      <td>NaN</td>\n",
              "      <td>NaN</td>\n",
              "    </tr>\n",
              "    <tr>\n",
              "      <th>3</th>\n",
              "      <td>338563</td>\n",
              "      <td>1</td>\n",
              "      <td>5.750</td>\n",
              "      <td>3.750</td>\n",
              "      <td>1.700</td>\n",
              "      <td>0.0288</td>\n",
              "      <td>01.01.2018 19:51:18</td>\n",
              "      <td>0.0</td>\n",
              "      <td>NaN</td>\n",
              "      <td>NaN</td>\n",
              "      <td>NaN</td>\n",
              "      <td>NaN</td>\n",
              "      <td>NaN</td>\n",
              "      <td>NaN</td>\n",
              "      <td>NaN</td>\n",
              "    </tr>\n",
              "    <tr>\n",
              "      <th>4</th>\n",
              "      <td>340310</td>\n",
              "      <td>1</td>\n",
              "      <td>1.571</td>\n",
              "      <td>4.000</td>\n",
              "      <td>5.750</td>\n",
              "      <td>0.0605</td>\n",
              "      <td>01.01.2018 20:03:11</td>\n",
              "      <td>0.0</td>\n",
              "      <td>NaN</td>\n",
              "      <td>NaN</td>\n",
              "      <td>NaN</td>\n",
              "      <td>NaN</td>\n",
              "      <td>NaN</td>\n",
              "      <td>NaN</td>\n",
              "      <td>NaN</td>\n",
              "    </tr>\n",
              "    <tr>\n",
              "      <th>...</th>\n",
              "      <td>...</td>\n",
              "      <td>...</td>\n",
              "      <td>...</td>\n",
              "      <td>...</td>\n",
              "      <td>...</td>\n",
              "      <td>...</td>\n",
              "      <td>...</td>\n",
              "      <td>...</td>\n",
              "      <td>...</td>\n",
              "      <td>...</td>\n",
              "      <td>...</td>\n",
              "      <td>...</td>\n",
              "      <td>...</td>\n",
              "      <td>...</td>\n",
              "      <td>...</td>\n",
              "    </tr>\n",
              "    <tr>\n",
              "      <th>749195</th>\n",
              "      <td>6058161</td>\n",
              "      <td>1</td>\n",
              "      <td>2.750</td>\n",
              "      <td>4.000</td>\n",
              "      <td>2.000</td>\n",
              "      <td>0.1136</td>\n",
              "      <td>26.12.2022 9:54:23</td>\n",
              "      <td>1.0</td>\n",
              "      <td>2.875</td>\n",
              "      <td>4.0</td>\n",
              "      <td>2.0</td>\n",
              "      <td>0.0978</td>\n",
              "      <td>26.12.2022 10:01:18</td>\n",
              "      <td>1.0</td>\n",
              "      <td>0.0</td>\n",
              "    </tr>\n",
              "    <tr>\n",
              "      <th>749196</th>\n",
              "      <td>5404664</td>\n",
              "      <td>1</td>\n",
              "      <td>2.800</td>\n",
              "      <td>3.600</td>\n",
              "      <td>2.450</td>\n",
              "      <td>0.0431</td>\n",
              "      <td>26.12.2022 9:59:53</td>\n",
              "      <td>1.0</td>\n",
              "      <td>2.750</td>\n",
              "      <td>3.6</td>\n",
              "      <td>2.5</td>\n",
              "      <td>0.0414</td>\n",
              "      <td>26.12.2022 10:01:30</td>\n",
              "      <td>1.0</td>\n",
              "      <td>0.0</td>\n",
              "    </tr>\n",
              "    <tr>\n",
              "      <th>749197</th>\n",
              "      <td>6063457</td>\n",
              "      <td>1</td>\n",
              "      <td>1.166</td>\n",
              "      <td>6.000</td>\n",
              "      <td>11.000</td>\n",
              "      <td>0.1152</td>\n",
              "      <td>26.12.2022 7:39:37</td>\n",
              "      <td>1.0</td>\n",
              "      <td>1.181</td>\n",
              "      <td>6.0</td>\n",
              "      <td>10.0</td>\n",
              "      <td>0.1134</td>\n",
              "      <td>26.12.2022 7:42:01</td>\n",
              "      <td>1.0</td>\n",
              "      <td>0.0</td>\n",
              "    </tr>\n",
              "    <tr>\n",
              "      <th>749198</th>\n",
              "      <td>6063456</td>\n",
              "      <td>1</td>\n",
              "      <td>1.083</td>\n",
              "      <td>8.500</td>\n",
              "      <td>23.000</td>\n",
              "      <td>0.0845</td>\n",
              "      <td>26.12.2022 0:36:08</td>\n",
              "      <td>1.0</td>\n",
              "      <td>1.090</td>\n",
              "      <td>8.5</td>\n",
              "      <td>21.0</td>\n",
              "      <td>0.0827</td>\n",
              "      <td>26.12.2022 5:01:48</td>\n",
              "      <td>1.0</td>\n",
              "      <td>0.0</td>\n",
              "    </tr>\n",
              "    <tr>\n",
              "      <th>749199</th>\n",
              "      <td>6063455</td>\n",
              "      <td>1</td>\n",
              "      <td>1.400</td>\n",
              "      <td>4.333</td>\n",
              "      <td>6.000</td>\n",
              "      <td>0.1117</td>\n",
              "      <td>26.12.2022 2:29:41</td>\n",
              "      <td>1.0</td>\n",
              "      <td>1.400</td>\n",
              "      <td>4.5</td>\n",
              "      <td>6.5</td>\n",
              "      <td>0.0904</td>\n",
              "      <td>26.12.2022 5:02:50</td>\n",
              "      <td>2.0</td>\n",
              "      <td>0.0</td>\n",
              "    </tr>\n",
              "  </tbody>\n",
              "</table>\n",
              "<p>749200 rows × 15 columns</p>\n",
              "</div>\n",
              "      <button class=\"colab-df-convert\" onclick=\"convertToInteractive('df-1805ba24-7d62-4e7d-8afa-e32943bb9afd')\"\n",
              "              title=\"Convert this dataframe to an interactive table.\"\n",
              "              style=\"display:none;\">\n",
              "        \n",
              "  <svg xmlns=\"http://www.w3.org/2000/svg\" height=\"24px\"viewBox=\"0 0 24 24\"\n",
              "       width=\"24px\">\n",
              "    <path d=\"M0 0h24v24H0V0z\" fill=\"none\"/>\n",
              "    <path d=\"M18.56 5.44l.94 2.06.94-2.06 2.06-.94-2.06-.94-.94-2.06-.94 2.06-2.06.94zm-11 1L8.5 8.5l.94-2.06 2.06-.94-2.06-.94L8.5 2.5l-.94 2.06-2.06.94zm10 10l.94 2.06.94-2.06 2.06-.94-2.06-.94-.94-2.06-.94 2.06-2.06.94z\"/><path d=\"M17.41 7.96l-1.37-1.37c-.4-.4-.92-.59-1.43-.59-.52 0-1.04.2-1.43.59L10.3 9.45l-7.72 7.72c-.78.78-.78 2.05 0 2.83L4 21.41c.39.39.9.59 1.41.59.51 0 1.02-.2 1.41-.59l7.78-7.78 2.81-2.81c.8-.78.8-2.07 0-2.86zM5.41 20L4 18.59l7.72-7.72 1.47 1.35L5.41 20z\"/>\n",
              "  </svg>\n",
              "      </button>\n",
              "      \n",
              "  <style>\n",
              "    .colab-df-container {\n",
              "      display:flex;\n",
              "      flex-wrap:wrap;\n",
              "      gap: 12px;\n",
              "    }\n",
              "\n",
              "    .colab-df-convert {\n",
              "      background-color: #E8F0FE;\n",
              "      border: none;\n",
              "      border-radius: 50%;\n",
              "      cursor: pointer;\n",
              "      display: none;\n",
              "      fill: #1967D2;\n",
              "      height: 32px;\n",
              "      padding: 0 0 0 0;\n",
              "      width: 32px;\n",
              "    }\n",
              "\n",
              "    .colab-df-convert:hover {\n",
              "      background-color: #E2EBFA;\n",
              "      box-shadow: 0px 1px 2px rgba(60, 64, 67, 0.3), 0px 1px 3px 1px rgba(60, 64, 67, 0.15);\n",
              "      fill: #174EA6;\n",
              "    }\n",
              "\n",
              "    [theme=dark] .colab-df-convert {\n",
              "      background-color: #3B4455;\n",
              "      fill: #D2E3FC;\n",
              "    }\n",
              "\n",
              "    [theme=dark] .colab-df-convert:hover {\n",
              "      background-color: #434B5C;\n",
              "      box-shadow: 0px 1px 3px 1px rgba(0, 0, 0, 0.15);\n",
              "      filter: drop-shadow(0px 1px 2px rgba(0, 0, 0, 0.3));\n",
              "      fill: #FFFFFF;\n",
              "    }\n",
              "  </style>\n",
              "\n",
              "      <script>\n",
              "        const buttonEl =\n",
              "          document.querySelector('#df-1805ba24-7d62-4e7d-8afa-e32943bb9afd button.colab-df-convert');\n",
              "        buttonEl.style.display =\n",
              "          google.colab.kernel.accessAllowed ? 'block' : 'none';\n",
              "\n",
              "        async function convertToInteractive(key) {\n",
              "          const element = document.querySelector('#df-1805ba24-7d62-4e7d-8afa-e32943bb9afd');\n",
              "          const dataTable =\n",
              "            await google.colab.kernel.invokeFunction('convertToInteractive',\n",
              "                                                     [key], {});\n",
              "          if (!dataTable) return;\n",
              "\n",
              "          const docLinkHtml = 'Like what you see? Visit the ' +\n",
              "            '<a target=\"_blank\" href=https://colab.research.google.com/notebooks/data_table.ipynb>data table notebook</a>'\n",
              "            + ' to learn more about interactive tables.';\n",
              "          element.innerHTML = '';\n",
              "          dataTable['output_type'] = 'display_data';\n",
              "          await google.colab.output.renderOutput(dataTable, element);\n",
              "          const docLink = document.createElement('div');\n",
              "          docLink.innerHTML = docLinkHtml;\n",
              "          element.appendChild(docLink);\n",
              "        }\n",
              "      </script>\n",
              "    </div>\n",
              "  </div>\n",
              "  "
            ]
          },
          "metadata": {},
          "execution_count": 45
        }
      ]
    },
    {
      "cell_type": "code",
      "source": [
        "prem_df[prem_df['IsPrem'] != 1]"
      ],
      "metadata": {
        "id": "RTzmNQq2h2iF"
      },
      "execution_count": null,
      "outputs": []
    }
  ]
}