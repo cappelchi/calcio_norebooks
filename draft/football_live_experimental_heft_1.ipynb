{
  "nbformat": 4,
  "nbformat_minor": 0,
  "metadata": {
    "colab": {
      "provenance": [],
      "collapsed_sections": [
        "JnoakdYG0WIm",
        "7dEcqW_jH4pw",
        "X69hHEsFix4n",
        "RocnM6a5lPkc",
        "F7qL3Au-nbm0",
        "8d0WuYBbZ2ok"
      ],
      "authorship_tag": "ABX9TyMV/14LtkvvEfZ91IpruBhV",
      "include_colab_link": true
    },
    "kernelspec": {
      "name": "python3",
      "display_name": "Python 3"
    },
    "language_info": {
      "name": "python"
    }
  },
  "cells": [
    {
      "cell_type": "markdown",
      "metadata": {
        "id": "view-in-github",
        "colab_type": "text"
      },
      "source": [
        "<a href=\"https://colab.research.google.com/github/cappelchi/calcio_notebooks/blob/main/draft/football_live_experimental_heft_1.ipynb\" target=\"_parent\"><img src=\"https://colab.research.google.com/assets/colab-badge.svg\" alt=\"Open In Colab\"/></a>"
      ]
    },
    {
      "cell_type": "markdown",
      "source": [
        "### Project config"
      ],
      "metadata": {
        "id": "JnoakdYG0WIm"
      }
    },
    {
      "cell_type": "code",
      "source": [
        "try:\n",
        "    import neptune.new as neptune\n",
        "except:\n",
        "    !pip install neptune-client >> None\n",
        "    import neptune.new as neptune\n",
        "#from neptune.new.integrations.tensorflow_keras import NeptuneCallback\n",
        "def get_credential(frmwork = 'neptune_team'):\n",
        "    with open('credential.txt', 'r') as container:\n",
        "        for line in container:\n",
        "            if frmwork in line:\n",
        "                login, psw = line.split(' ')[1], line.split(' ')[2].split('\\n')[0]\n",
        "                return login, psw"
      ],
      "metadata": {
        "id": "O9bCK_dx0QSM"
      },
      "execution_count": 1,
      "outputs": []
    },
    {
      "cell_type": "code",
      "source": [
        "#@title Set API key for neptune.ai\n",
        "set_api = True #@param {type:\"boolean\"}\n",
        "if set_api:\n",
        "    username, api_key = get_credential()"
      ],
      "metadata": {
        "id": "oDK6n6CVQidT"
      },
      "execution_count": 2,
      "outputs": []
    },
    {
      "cell_type": "markdown",
      "metadata": {
        "id": "7dEcqW_jH4pw"
      },
      "source": [
        "### Installations"
      ]
    },
    {
      "cell_type": "code",
      "source": [
        "!pip install --upgrade gensim"
      ],
      "metadata": {
        "id": "dP-bo_CB7GgI",
        "colab": {
          "base_uri": "https://localhost:8080/"
        },
        "outputId": "8c8d957e-16f1-4179-a6ee-769713cca8dc"
      },
      "execution_count": 3,
      "outputs": [
        {
          "output_type": "stream",
          "name": "stdout",
          "text": [
            "Looking in indexes: https://pypi.org/simple, https://us-python.pkg.dev/colab-wheels/public/simple/\n",
            "Requirement already satisfied: gensim in /usr/local/lib/python3.8/dist-packages (3.6.0)\n",
            "Collecting gensim\n",
            "  Downloading gensim-4.3.0-cp38-cp38-manylinux_2_12_x86_64.manylinux2010_x86_64.whl (24.1 MB)\n",
            "\u001b[K     |████████████████████████████████| 24.1 MB 83.8 MB/s \n",
            "\u001b[?25hCollecting FuzzyTM>=0.4.0\n",
            "  Downloading FuzzyTM-2.0.5-py3-none-any.whl (29 kB)\n",
            "Requirement already satisfied: scipy>=1.7.0 in /usr/local/lib/python3.8/dist-packages (from gensim) (1.7.3)\n",
            "Requirement already satisfied: numpy>=1.18.5 in /usr/local/lib/python3.8/dist-packages (from gensim) (1.21.6)\n",
            "Requirement already satisfied: smart-open>=1.8.1 in /usr/local/lib/python3.8/dist-packages (from gensim) (6.3.0)\n",
            "Requirement already satisfied: pandas in /usr/local/lib/python3.8/dist-packages (from FuzzyTM>=0.4.0->gensim) (1.3.5)\n",
            "Collecting pyfume\n",
            "  Downloading pyFUME-0.2.25-py3-none-any.whl (67 kB)\n",
            "\u001b[K     |████████████████████████████████| 67 kB 4.7 MB/s \n",
            "\u001b[?25hRequirement already satisfied: python-dateutil>=2.7.3 in /usr/local/lib/python3.8/dist-packages (from pandas->FuzzyTM>=0.4.0->gensim) (2.8.2)\n",
            "Requirement already satisfied: pytz>=2017.3 in /usr/local/lib/python3.8/dist-packages (from pandas->FuzzyTM>=0.4.0->gensim) (2022.6)\n",
            "Requirement already satisfied: six>=1.5 in /usr/local/lib/python3.8/dist-packages (from python-dateutil>=2.7.3->pandas->FuzzyTM>=0.4.0->gensim) (1.15.0)\n",
            "Collecting fst-pso\n",
            "  Downloading fst-pso-1.8.1.tar.gz (18 kB)\n",
            "Collecting simpful\n",
            "  Downloading simpful-2.9.0-py3-none-any.whl (30 kB)\n",
            "Collecting miniful\n",
            "  Downloading miniful-0.0.6.tar.gz (2.8 kB)\n",
            "Requirement already satisfied: requests in /usr/local/lib/python3.8/dist-packages (from simpful->pyfume->FuzzyTM>=0.4.0->gensim) (2.23.0)\n",
            "Requirement already satisfied: urllib3!=1.25.0,!=1.25.1,<1.26,>=1.21.1 in /usr/local/lib/python3.8/dist-packages (from requests->simpful->pyfume->FuzzyTM>=0.4.0->gensim) (1.25.11)\n",
            "Requirement already satisfied: chardet<4,>=3.0.2 in /usr/local/lib/python3.8/dist-packages (from requests->simpful->pyfume->FuzzyTM>=0.4.0->gensim) (3.0.4)\n",
            "Requirement already satisfied: certifi>=2017.4.17 in /usr/local/lib/python3.8/dist-packages (from requests->simpful->pyfume->FuzzyTM>=0.4.0->gensim) (2022.12.7)\n",
            "Requirement already satisfied: idna<3,>=2.5 in /usr/local/lib/python3.8/dist-packages (from requests->simpful->pyfume->FuzzyTM>=0.4.0->gensim) (2.10)\n",
            "Building wheels for collected packages: fst-pso, miniful\n",
            "  Building wheel for fst-pso (setup.py) ... \u001b[?25l\u001b[?25hdone\n",
            "  Created wheel for fst-pso: filename=fst_pso-1.8.1-py3-none-any.whl size=20443 sha256=d65d4fa86ab8a5ea8b2ec6a2f2bfa6c80ddfe1c8b9af3c145e86f88551d14637\n",
            "  Stored in directory: /root/.cache/pip/wheels/6a/65/c4/d27eeee9ba3fc150a0dae150519591103b9e0dbffde3ae77dc\n",
            "  Building wheel for miniful (setup.py) ... \u001b[?25l\u001b[?25hdone\n",
            "  Created wheel for miniful: filename=miniful-0.0.6-py3-none-any.whl size=3530 sha256=2f0e03ade6c66ae72ca4350b89efec0ab650023e431d16594caab5d9ed5b2693\n",
            "  Stored in directory: /root/.cache/pip/wheels/ba/d9/a0/ddd93af16d5855dd9bad417623e70948fdac119d1d34fb17c8\n",
            "Successfully built fst-pso miniful\n",
            "Installing collected packages: miniful, simpful, fst-pso, pyfume, FuzzyTM, gensim\n",
            "  Attempting uninstall: gensim\n",
            "    Found existing installation: gensim 3.6.0\n",
            "    Uninstalling gensim-3.6.0:\n",
            "      Successfully uninstalled gensim-3.6.0\n",
            "Successfully installed FuzzyTM-2.0.5 fst-pso-1.8.1 gensim-4.3.0 miniful-0.0.6 pyfume-0.2.25 simpful-2.9.0\n"
          ]
        }
      ]
    },
    {
      "cell_type": "markdown",
      "metadata": {
        "id": "X69hHEsFix4n"
      },
      "source": [
        "### Downloads"
      ]
    },
    {
      "cell_type": "code",
      "source": [
        "data_version = 'football_live_221229/'\n",
        "project = neptune.init_project(\n",
        "    name=\"scomesse/football\", \n",
        "    api_token = api_key\n",
        "    )\n",
        "project[data_version + 'data.rar'].download('./data.rar')\n",
        "project[data_version + 'info.rar'].download('./info.rar')\n",
        "project[data_version + 'prem.rar'].download('./prem.rar')\n",
        "project[data_version + 'train_id.csv'].download('./train_id.csv')\n",
        "project[data_version + 'test_id.csv'].download('./test_id.csv')\n",
        "project[data_version + 'holdout_id.csv'].download('./holdout_id.csv')\n",
        "project[data_version + 'data_train.csv.gz'].download('./data_train.csv.gz')\n",
        "project[data_version + 'data_test.csv.gz'].download('./data_test.csv.gz')\n",
        "project[data_version + 'data_hold.csv.gz'].download('./data_hold.csv.gz')\n",
        "\n",
        "#del project[data_version]\n",
        "project.stop()"
      ],
      "metadata": {
        "colab": {
          "base_uri": "https://localhost:8080/"
        },
        "id": "ccFhlCBt1jw8",
        "outputId": "875ab0d7-d3ae-483b-f8a4-104e42e74a0e"
      },
      "execution_count": 3,
      "outputs": [
        {
          "output_type": "stream",
          "name": "stdout",
          "text": [
            "https://app.neptune.ai/scomesse/football/\n",
            "Remember to stop your project once you’ve finished logging your metadata (https://docs.neptune.ai/api/project#stop). It will be stopped automatically only when the notebook kernel/interactive console is terminated.\n",
            "Shutting down background jobs, please wait a moment...\n",
            "Done!\n",
            "All 0 operations synced, thanks for waiting!\n",
            "Explore the metadata in the Neptune app:\n",
            "https://app.neptune.ai/scomesse/football/metadata\n"
          ]
        }
      ]
    },
    {
      "cell_type": "markdown",
      "metadata": {
        "id": "RocnM6a5lPkc"
      },
      "source": [
        "### Imports"
      ]
    },
    {
      "cell_type": "code",
      "source": [
        "import pandas as pd\n",
        "import numpy as np\n",
        "pd.options.display.max_columns = 50\n",
        "pd.options.display.max_rows = 100\n",
        "print(pd.__version__)\n",
        "print(np.__version__)\n",
        "\n",
        "#import dask.dataframe as dd\n",
        "import subprocess\n",
        "import sys\n",
        "from glob import glob\n",
        "from tqdm import tqdm"
      ],
      "metadata": {
        "colab": {
          "base_uri": "https://localhost:8080/"
        },
        "id": "EWwYvlK9ZKpg",
        "outputId": "91d83de0-fa2f-4058-dbe2-b04b19974c52"
      },
      "execution_count": 3,
      "outputs": [
        {
          "output_type": "stream",
          "name": "stdout",
          "text": [
            "1.3.5\n",
            "1.21.6\n"
          ]
        }
      ]
    },
    {
      "cell_type": "code",
      "source": [
        "import plotly.express as px"
      ],
      "metadata": {
        "id": "lZfysmuzW4XD"
      },
      "execution_count": 4,
      "outputs": []
    },
    {
      "cell_type": "code",
      "source": [
        "from sklearn.preprocessing import StandardScaler, MinMaxScaler, RobustScaler\n",
        "from sklearn.preprocessing import PowerTransformer, QuantileTransformer"
      ],
      "metadata": {
        "id": "2RJZ4eSygIDl"
      },
      "execution_count": 5,
      "outputs": []
    },
    {
      "cell_type": "markdown",
      "metadata": {
        "id": "umm53OS2Ljgg"
      },
      "source": [
        "### Code"
      ]
    },
    {
      "cell_type": "markdown",
      "source": [
        "#####Functions"
      ],
      "metadata": {
        "id": "F7qL3Au-nbm0"
      }
    },
    {
      "cell_type": "code",
      "source": [
        "def run_bash(bashCommand:str, nameCommand = ''):\n",
        "        process = subprocess.Popen([bashCommand], \n",
        "                           shell=True)\n",
        "        _, error = process.communicate()\n",
        "        if error:\n",
        "            print(f'{nameCommand} error:\\n', error)"
      ],
      "metadata": {
        "id": "6xkKvRZwZPeg"
      },
      "execution_count": 6,
      "outputs": []
    },
    {
      "cell_type": "markdown",
      "source": [
        "#### Unpack"
      ],
      "metadata": {
        "id": "8d0WuYBbZ2ok"
      }
    },
    {
      "cell_type": "code",
      "source": [
        "for file in glob('./*'):    \n",
        "    if '.rar' in file:\n",
        "        print(file)\n",
        "        bash = f'unrar e {file} && rm {file}'\n",
        "        run_bash(bash)"
      ],
      "metadata": {
        "colab": {
          "base_uri": "https://localhost:8080/"
        },
        "id": "y2MvM5xqZ4JJ",
        "outputId": "aa60e672-b404-4def-877e-9fe4e692f107"
      },
      "execution_count": 8,
      "outputs": [
        {
          "output_type": "stream",
          "name": "stdout",
          "text": [
            "./data.rar\n",
            "./prem.rar\n",
            "./info.rar\n"
          ]
        }
      ]
    },
    {
      "cell_type": "markdown",
      "source": [
        "### _"
      ],
      "metadata": {
        "id": "IZHNQL_7Gvie"
      }
    },
    {
      "cell_type": "code",
      "source": [
        "data_df = pd.read_csv(\n",
        "    './data_train.csv.gz', \n",
        "    dtype = {\n",
        "        'Id':np.int32, 'Minute':np.int16, 'Active':np.int8,\n",
        "        'Score1':np.int16, 'Score2':np.int16, 'A1':np.int16, 'A2':np.int16,\n",
        "        'DA1':np.int16, 'DA2':np.int16,'Pos1':np.float32, 'Pos2':np.float32,\n",
        "        'Off1':np.int16, 'Off2':np.int16,'On1':np.int16, 'On2':np.int16,\n",
        "        'YC1':np.float32, 'YC2':np.float32, 'RC1':np.float32, 'RC2':np.float32,\n",
        "        'Sub1':np.float32, 'Sub2':np.float32, 'Pen1':np.float32, 'Pen2':np.float32,\n",
        "        'Cor1':np.float32, 'Cor2':np.float32,\n",
        "        }\n",
        "    )"
      ],
      "metadata": {
        "id": "kIWpijErfPW7"
      },
      "execution_count": 51,
      "outputs": []
    },
    {
      "cell_type": "code",
      "source": [
        "data_df = data_df[data_df['Id'] != 1898989]"
      ],
      "metadata": {
        "id": "UpzT6sc5VoUG"
      },
      "execution_count": 53,
      "outputs": []
    },
    {
      "cell_type": "code",
      "source": [
        "# Присоединяем итоговый результат и по первому тайму\n",
        "def add_match_results (data_df:pd.DataFrame, cols = ['Id', 'Result1', 'Result2', 'Periods'], info_path = './info.csv'):\n",
        "    info_df = pd.read_csv(info_path, sep = ';', usecols = cols)\n",
        "    info_df[['Period1', 'Period2', 'Period3', 'Period4']] = info_df['Periods'].str.split(',', expand = True)\n",
        "    info_df[['Time1Res1', 'Time1Res2']] = info_df['Period1'].str.split(':', expand = True)\n",
        "    info_df = info_df[~info_df['Id'].duplicated(keep = False)]\n",
        "    period1_result_dict = info_df.set_index('Id')[['Time1Res1', 'Time1Res2', 'Result1', 'Result2']].to_dict(orient = 'index')\n",
        "    #data_df.loc[:, ['Time1Res1', 'Time1Res2', 'Result1', 'Result2']] =  \\\n",
        "    return [[period1_result_dict[id]['Time1Res1'], period1_result_dict[id]['Time1Res1'], \n",
        "    period1_result_dict[id]['Result1'], period1_result_dict[id]['Result2']] \n",
        "    if id in period1_result_dict else [None, None, None, None] for id in tqdm(data_df['Id'].values, total = len(data_df))]\n",
        "    "
      ],
      "metadata": {
        "id": "S0Ejtg1MgCLt"
      },
      "execution_count": 14,
      "outputs": []
    },
    {
      "cell_type": "code",
      "source": [
        "data_df.loc[:, ['Time1Res1', 'Time1Res2', 'Result1', 'Result2']] = add_match_results (data_df)\n",
        "isdigit = [str(a) for a in range(100)]\n",
        "data_df[~data_df['Time1Res1'].isin(isdigit)] = -1\n",
        "data_df[~data_df['Time1Res2'].isin(isdigit)] = -1\n",
        "data_df[['Time1Res1', 'Time1Res2']] = data_df[['Time1Res1', 'Time1Res2']].astype(np.int16)\n",
        "data_df[['Result1', 'Result2']] = data_df[['Result1', 'Result2']].astype(np.int16)\n",
        "data_df = data_df.drop(['Time1Res1', 'Time1Res2'], axis = 1)"
      ],
      "metadata": {
        "colab": {
          "base_uri": "https://localhost:8080/"
        },
        "id": "16oQygGIxted",
        "outputId": "71509c9e-a22c-4e50-98eb-e7557d18c97c"
      },
      "execution_count": 55,
      "outputs": [
        {
          "output_type": "stream",
          "name": "stderr",
          "text": [
            "100%|██████████| 10391998/10391998 [00:25<00:00, 402261.70it/s]\n"
          ]
        }
      ]
    },
    {
      "cell_type": "code",
      "source": [
        "# Добавляем прематчевые линии\n",
        "def add_match_lines (data_df:pd.DataFrame, cols = ['P1', 'PX', 'P2', 'PR'], prem_path = './prem.csv'):\n",
        "    prem_df = pd.read_csv(prem_path, sep = ';')\n",
        "    prem_df = prem_df[~prem_df['Id'].duplicated(keep = False)]\n",
        "    prem_dict = prem_df.set_index('Id')[cols].to_dict(orient = 'index')\n",
        "    #data_df.loc[:,['P1', 'PX', 'P2', 'PR']] =  \\\n",
        "    return [[prem_dict[id]['P1'], prem_dict[id]['PX'], prem_dict[id]['P2'], prem_dict[id]['PR']] \n",
        "    if id in prem_dict else [None, None, None, None] for id in tqdm(data_df['Id'].values, total = len(data_df))]"
      ],
      "metadata": {
        "id": "5qtEkVIt86Ur"
      },
      "execution_count": 38,
      "outputs": []
    },
    {
      "cell_type": "code",
      "source": [
        "data_df.loc[:,['P1', 'PX', 'P2', 'PR']] = add_match_lines (data_df)\n",
        "data_df[['P1', 'PX', 'P2', 'PR']] = data_df[['P1', 'PX', 'P2', 'PR']].astype(np.float32)\n",
        "data_df = data_df.drop(['PX', 'PR'], axis = 1)"
      ],
      "metadata": {
        "colab": {
          "base_uri": "https://localhost:8080/"
        },
        "id": "KMK32uQD9rvA",
        "outputId": "a9601ff2-5e1a-460f-e839-40bf0dfa46c8"
      },
      "execution_count": 57,
      "outputs": [
        {
          "output_type": "stream",
          "name": "stderr",
          "text": [
            "100%|██████████| 10391998/10391998 [00:23<00:00, 447923.26it/s]\n"
          ]
        }
      ]
    },
    {
      "cell_type": "code",
      "source": [
        "def transform_dataset(data_df:pd.DataFrame, remain = []]):\n",
        "    input_cols_set = set(data_df.columns)\n",
        "    # трансформируем минуты\n",
        "    data_df['min_norm'] = data_df['Minute'] / 50\n",
        "    print('1. Минуты посчитаны...')\n",
        "    # трансформируем голы\n",
        "    data_df['Score1_norm'] = data_df['Score1'].fillna(method = 'ffill')\n",
        "    data_df['Score1_norm'] = [f / 4 if f < 4 else 1.0 for f in data_df['Score1_norm'].values]\n",
        "    data_df['Score2_norm'] = data_df['Score2'].fillna(method = 'ffill')\n",
        "    data_df['Score2_norm'] = [f / 4 if f < 4 else 1.0 for f in data_df['Score2_norm'].values]\n",
        "\n",
        "    data_df['Score_diff'] = data_df['Score1'] - data_df['Score2']\n",
        "    data_df['Score_diff'] = [-4 if d < -4 else 4 if d > 4 else d for d in data_df['Score_diff']]\n",
        "    data_df[[f'Score_cat_{n}' for n in range(1, 10)]] = pd.get_dummies(data_df['Score_diff']).values\n",
        "    data_df['Score_diff'] = [d / 4 for d in data_df['Score_diff'].values]\n",
        "    if 'Score1' not in remain:\n",
        "        data_df = data_df.drop(['Score1', 'Score2'], axis = 1)\n",
        "    print('2. Голы посчитаны...')\n",
        "    #трансформируем атаки\n",
        "    data_df['A1_scaled'] = [x /100 if x < 80 else (80 + (x - 80) / 5) / 100 for x in data_df['A1'].values]\n",
        "    data_df['A2_scaled'] = [x /100 if x < 80 else (80 + (x - 80) / 5) / 100 for x in data_df['A2'].values]\n",
        "    # атаки в минуту\n",
        "    data_df['A1perMIN'] = data_df['A1'] / data_df['Minute']\n",
        "    data_df['A1perMIN'] = [a1 if a1 < 4 else 4 for a1 in data_df['A1perMIN'].values]\n",
        "    data_df['A2perMIN'] = data_df['A2'] / data_df['Minute']\n",
        "    data_df['A2perMIN'] = [a2 if a2 < 4 else 4 for a2 in data_df['A2perMIN'].values]\n",
        "    # динамика атак\n",
        "    data_df['A1relativ'] = data_df['A1'] - data_df['A1'].shift(5)\n",
        "    data_df.loc[data_df['A1relativ'] < 0, ['A1relativ']] = 0\n",
        "    data_df['A1relativ'] = data_df['A1relativ'].fillna(0)\n",
        "    data_df['A1relativ'] = [a if a < 15 else 15 for a in data_df['A1relativ'].values]\n",
        "    data_df['A2relativ'] = data_df['A2'] - data_df['A2'].shift(5)\n",
        "    data_df.loc[data_df['A2relativ'] < 0, ['A2relativ']] = 0\n",
        "    data_df['A2relativ'] = data_df['A2relativ'].fillna(0)\n",
        "    data_df['A2relativ'] = [a if a < 15 else 15 for a in data_df['A2relativ'].values]\n",
        "    if 'A1' not in remain:\n",
        "        data_df = data_df.drop(['A1', 'A2'], axis = 1)\n",
        "    print('3. Атаки посчитаны...')\n",
        "    # трансформируем опасные атаки\n",
        "    data_df['DA1_scaled'] = [x /100 if x < 80 else (80 + (x - 80) / 5) / 100 for x in data_df['DA1'].values]\n",
        "    data_df['DA2_scaled'] = [x /100 if x < 80 else (80 + (x - 80) / 5) / 100 for x in data_df['DA2'].values]\n",
        "    # опасные атаки в минуту    \n",
        "    data_df['DA1perMIN'] = data_df['DA1'] / data_df['Minute']\n",
        "    data_df['DA1perMIN'] = [da1 if da1 < 3 else 3 for da1 in data_df['DA1perMIN'].values]\n",
        "    data_df['DA2perMIN'] = data_df['DA2'] / data_df['Minute']\n",
        "    data_df['DA2perMIN'] = [da2 if da2 < 3 else 3 for da2 in data_df['DA2perMIN'].values]\n",
        "    # динамика опасных атак\n",
        "    data_df['DA1relativ'] = data_df['DA1'] - data_df['DA1'].shift(5)\n",
        "    data_df.loc[data_df['DA1relativ'] < 0, ['DA1relativ']] = 0\n",
        "    data_df['DA1relativ'] = data_df['DA1relativ'].fillna(0)\n",
        "    data_df['DA1relativ'] = [a if a < 10 else 10 for a in data_df['DA1relativ'].values]\n",
        "    data_df['DA2relativ'] = data_df['DA2'] - data_df['DA2'].shift(5)\n",
        "    data_df.loc[data_df['DA2relativ'] < 0, ['DA2relativ']] = 0\n",
        "    data_df['DA2relativ'] = data_df['DA2relativ'].fillna(0)\n",
        "    data_df['DA2relativ'] = [a if a < 10 else 10 for a in data_df['DA2relativ'].values]\n",
        "    print('4. Опасные атаки посчитаны...')\n",
        "    # трансформируем владение мячом\n",
        "    data_df['Pos1_cleaned'] = data_df['Pos1'].fillna(method = 'ffill')\n",
        "    data_df['Pos1_cleaned'] = [0.2 if p < 20 else 0.8 if p > 80 else p / 100 for p in data_df['Pos1_cleaned'].values]\n",
        "    data_df['Pos2_cleaned'] = data_df['Pos2'].fillna(method = 'ffill')\n",
        "    data_df['Pos2_cleaned'] = [0.2 if p < 20 else 0.8 if p > 80 else p / 100 for p in data_df['Pos2_cleaned'].values]\n",
        "    print('5. Владение мячом посчитпно...')\n",
        "    # трансформируем удары\n",
        "    data_df['Off1_norm'] = data_df['Off1'].fillna(method = 'ffill')\n",
        "    data_df['Off1_norm'] = [f / 10 if f < 10 else 1.0 for f in data_df['Off1_norm'].values]\n",
        "    data_df['Off2_norm'] = data_df['Off2'].fillna(method = 'ffill')\n",
        "    data_df['Off2_norm'] = [f / 10 if f < 10 else 1.0 for f in data_df['Off2_norm'].values]\n",
        "    print('6. Удары посчитаны...')\n",
        "    # трансформируем удары в створ\n",
        "    data_df['On1_norm'] = data_df['On1'].fillna(method = 'ffill')\n",
        "    data_df['On1_norm'] = [f / 5 if f < 5 else 1.0 for f in data_df['On1_norm'].values]\n",
        "    data_df['On2_norm'] = data_df['On2'].fillna(method = 'ffill')\n",
        "    data_df['On2_norm'] = [f / 5 if f < 5 else 1.0 for f in data_df['On2_norm'].values]\n",
        "    print('7. Удары в створ посчитаны...')\n",
        "    # трансформируем желтые карточки\n",
        "    data_df['YC1_transformed'] = [y / 2 if y < 2 else 1.0 for y in data_df['YC1'].values]\n",
        "    data_df['YC2_transformed'] = [y / 2 if y < 2 else 1.0 for y in data_df['YC2'].values]\n",
        "    print('8. Жёлтые карточки посчитаны...')\n",
        "    # трансформируем красные карточки\n",
        "    data_df['RC1_transformed'] = [y if y < 1 else 1 for y in data_df['RC1'].values]\n",
        "    data_df['RC2_transformed'] = [y if y < 1 else 1 for y in data_df['RC2'].values]\n",
        "    print('9. Красные карточки посчитаны...')\n",
        "    # трансформируем замены\n",
        "    data_df['Sub1_transformed'] = [y if y < 1 else 1 for y in data_df['Sub1'].values]\n",
        "    data_df['Sub2_transformed'] = [y if y < 1 else 1 for y in data_df['Sub2'].values]\n",
        "    print('10. Замены посчитаны...')\n",
        "    # трансформируем угловык\n",
        "    data_df['Cor1_transformed'] = [y / 6 if y < 6 else 1.0 for y in data_df['Cor1'].values]\n",
        "    data_df['Cor2_transformed'] = [y / 6 if y < 6 else 1.0 for y in data_df['Cor2'].values]\n",
        "    print('11. Угловые посчитаны...')\n",
        "    # трансформируем линию\n",
        "    data_df['P1_transformed'] = np.log(data_df['P1'])\n",
        "    data_df['P2_transformed'] = np.log(data_df['P2']) / 2\n",
        "    print('12. Линии посчитаны...')\n",
        "    if remain != 'all':\n",
        "        output_cols_list = remain + list(set(data_df.columns) - input_cols_set)\n",
        "        return data_df[output_cols_list]\n",
        "\n",
        "    return data_df"
      ],
      "metadata": {
        "id": "9bdxnVfzJb0g"
      },
      "execution_count": 52,
      "outputs": []
    },
    {
      "cell_type": "code",
      "source": [
        "data_df = transform_dataset(data_df) #, remain = ['Id', 'Time1Res1', 'Time1Res2', 'Result1', 'Result2'])"
      ],
      "metadata": {
        "colab": {
          "base_uri": "https://localhost:8080/"
        },
        "id": "152u_6H_B765",
        "outputId": "ba58f3f0-9739-48a3-ee17-8ad7fbe16a43"
      },
      "execution_count": 14,
      "outputs": [
        {
          "output_type": "stream",
          "name": "stdout",
          "text": [
            "1. Минуты посчитаны...\n",
            "2. Голы посчитаны...\n",
            "3. Атаки посчитаны...\n",
            "4. Опасные атаки посчитаны...\n",
            "5. Владение мячом посчитпно...\n",
            "6. Удары посчитаны...\n",
            "7. Удары в створ посчитаны...\n",
            "8. Жёлтые карточки посчитаны...\n",
            "9. Красные карточки посчитаны...\n",
            "10. Замены посчитаны...\n",
            "11. Угловые посчитаны...\n"
          ]
        }
      ]
    },
    {
      "cell_type": "code",
      "source": [
        "data_df['P1_transformed'] = np.log(data_df['P1'])\n",
        "data_df['P2_transformed'] = np.log(data_df['P2']) / 2"
      ],
      "metadata": {
        "colab": {
          "base_uri": "https://localhost:8080/"
        },
        "id": "Q542NZOIK9yU",
        "outputId": "174d842c-25df-4f59-fea6-72ec7d30b79a"
      },
      "execution_count": 14,
      "outputs": [
        {
          "output_type": "stream",
          "name": "stderr",
          "text": [
            "/usr/local/lib/python3.8/dist-packages/pandas/core/arraylike.py:364: RuntimeWarning: divide by zero encountered in log\n",
            "  result = getattr(ufunc, method)(*inputs, **kwargs)\n"
          ]
        }
      ]
    },
    {
      "cell_type": "code",
      "source": [
        "drop_transformed = True"
      ],
      "metadata": {
        "id": "vCm7w_knw8Pb"
      },
      "execution_count": 80,
      "outputs": []
    },
    {
      "cell_type": "code",
      "source": [
        "data_df['min_norm'] = data_df['Minute'].astype(np.float32) / 50"
      ],
      "metadata": {
        "id": "8KD42O9VvAiW"
      },
      "execution_count": 59,
      "outputs": []
    },
    {
      "cell_type": "code",
      "source": [
        "data_df.info()"
      ],
      "metadata": {
        "colab": {
          "base_uri": "https://localhost:8080/"
        },
        "id": "AS0MDXcFrH-m",
        "outputId": "bc54c208-2993-4366-9782-a296a0a9f296"
      },
      "execution_count": 82,
      "outputs": [
        {
          "output_type": "stream",
          "name": "stdout",
          "text": [
            "<class 'pandas.core.frame.DataFrame'>\n",
            "Int64Index: 10391998 entries, 0 to 10392039\n",
            "Data columns (total 40 columns):\n",
            " #   Column       Dtype  \n",
            "---  ------       -----  \n",
            " 0   Id           int64  \n",
            " 1   Minute       int16  \n",
            " 2   Active       int8   \n",
            " 3   A1           int16  \n",
            " 4   A2           int16  \n",
            " 5   DA1          int16  \n",
            " 6   DA2          int16  \n",
            " 7   Pos1         float32\n",
            " 8   Pos2         float32\n",
            " 9   Off1         int16  \n",
            " 10  Off2         int16  \n",
            " 11  On1          int16  \n",
            " 12  On2          int16  \n",
            " 13  YC1          float32\n",
            " 14  YC2          float32\n",
            " 15  RC1          float32\n",
            " 16  RC2          float32\n",
            " 17  Sub1         float32\n",
            " 18  Sub2         float32\n",
            " 19  Pen1         float32\n",
            " 20  Pen2         float32\n",
            " 21  Cor1         float32\n",
            " 22  Cor2         float32\n",
            " 23  Result1      int16  \n",
            " 24  Result2      int16  \n",
            " 25  P1           float32\n",
            " 26  P2           float32\n",
            " 27  min_norm     float32\n",
            " 28  Score1_norm  float32\n",
            " 29  Score2_norm  float32\n",
            " 30  Score_diff   float32\n",
            " 31  Score_cat_1  uint8  \n",
            " 32  Score_cat_2  uint8  \n",
            " 33  Score_cat_3  uint8  \n",
            " 34  Score_cat_4  uint8  \n",
            " 35  Score_cat_5  uint8  \n",
            " 36  Score_cat_6  uint8  \n",
            " 37  Score_cat_7  uint8  \n",
            " 38  Score_cat_8  uint8  \n",
            " 39  Score_cat_9  uint8  \n",
            "dtypes: float32(18), int16(11), int64(1), int8(1), uint8(9)\n",
            "memory usage: 1.2 GB\n"
          ]
        }
      ]
    },
    {
      "cell_type": "code",
      "source": [
        "data_df['Score1_norm'] = data_df['Score1'].fillna(method = 'ffill').astype(np.float32) / 4\n",
        "data_df.loc[data_df['Score1'] > 3, ['Score1_norm']] = 1.0\n",
        "data_df['Score2_norm'] = data_df['Score2'].fillna(method = 'ffill').astype(np.float32) / 4\n",
        "data_df.loc[data_df['Score2'] > 3, ['Score2_norm']] = 1.0"
      ],
      "metadata": {
        "id": "2LH5Fn5x5jXP"
      },
      "execution_count": 68,
      "outputs": []
    },
    {
      "cell_type": "code",
      "source": [
        "data_df['Score_diff'] = data_df['Score1'].astype(np.float32) - data_df['Score2'].astype(np.float32)\n",
        "data_df.loc[data_df['Score_diff'] < -4, ['Score_diff']] = -4\n",
        "data_df.loc[data_df['Score_diff'] > 4, ['Score_diff']] = 4\n",
        "data_df[[f'Score_cat_{n}' for n in range(1, 10)]] = pd.get_dummies(data_df['Score_diff']).values\n",
        "data_df['Score_diff'] = data_df['Score_diff'].astype(np.float32) / np.float32(4.0)"
      ],
      "metadata": {
        "id": "HaolGW2cgOXN"
      },
      "execution_count": 77,
      "outputs": []
    },
    {
      "cell_type": "code",
      "source": [
        "if drop_transformed:\n",
        "    data_df = data_df.drop(['Score1', 'Score2'], axis = 1)"
      ],
      "metadata": {
        "id": "_Pme-Il6yUEq"
      },
      "execution_count": 81,
      "outputs": []
    },
    {
      "cell_type": "code",
      "source": [
        "data_df['A1_scaled'] = [x /100 if x < 80 else (80 + (x - 80) / 5) / 100 for x in data_df['A1'].values]\n",
        "data_df['A2_scaled'] = [x /100 if x < 80 else (80 + (x - 80) / 5) / 100 for x in data_df['A2'].values]"
      ],
      "metadata": {
        "id": "NcmcHGqWp5mB"
      },
      "execution_count": 18,
      "outputs": []
    },
    {
      "cell_type": "code",
      "source": [
        "data_df['A1perMIN'] = data_df['A1'] / data_df['Minute']\n",
        "data_df['A1perMIN'] = [a1 if a1 < 4 else 4 for a1 in data_df['A1perMIN'].values]\n",
        "data_df['A2perMIN'] = data_df['A2'] / data_df['Minute']\n",
        "data_df['A2perMIN'] = [a2 if a2 < 4 else 4 for a2 in data_df['A2perMIN'].values]"
      ],
      "metadata": {
        "id": "ri5KOJUNCfkX"
      },
      "execution_count": 19,
      "outputs": []
    },
    {
      "cell_type": "code",
      "source": [
        "data_df['A1relativ'] = data_df['A1'] - data_df['A1'].shift(5)\n",
        "data_df.loc[data_df['A1relativ'] < 0, ['A1relativ']] = 0\n",
        "data_df['A1relativ'] = data_df['A1relativ'].fillna(0)\n",
        "data_df['A1relativ'] = [a if a < 15 else 15 for a in data_df['A1relativ'].values]\n",
        "data_df['A2relativ'] = data_df['A2'] - data_df['A2'].shift(5)\n",
        "data_df.loc[data_df['A2relativ'] < 0, ['A2relativ']] = 0\n",
        "data_df['A2relativ'] = data_df['A2relativ'].fillna(0)\n",
        "data_df['A2relativ'] = [a if a < 15 else 15 for a in data_df['A2relativ'].values]"
      ],
      "metadata": {
        "id": "hHSmMWM4JixZ"
      },
      "execution_count": 20,
      "outputs": []
    },
    {
      "cell_type": "code",
      "source": [
        "if drop_transformed:\n",
        "    data_df = data_df.drop(['A1', 'A2'], axis = 1)"
      ],
      "metadata": {
        "id": "oGJ_KtCAzMZ-"
      },
      "execution_count": 21,
      "outputs": []
    },
    {
      "cell_type": "code",
      "source": [
        "data_df['DA1_scaled'] = [x /100 if x < 80 else (80 + (x - 80) / 5) / 100 for x in data_df['DA1'].values]\n",
        "data_df['DA2_scaled'] = [x /100 if x < 80 else (80 + (x - 80) / 5) / 100 for x in data_df['DA2'].values]"
      ],
      "metadata": {
        "id": "IyV03Jdhp8W5"
      },
      "execution_count": 22,
      "outputs": []
    },
    {
      "cell_type": "code",
      "source": [
        "data_df['DA1perMIN'] = data_df['DA1'] / data_df['Minute']\n",
        "data_df['DA1perMIN'] = [da1 if da1 < 3 else 3 for da1 in data_df['DA1perMIN'].values]\n",
        "data_df['DA2perMIN'] = data_df['DA2'] / data_df['Minute']\n",
        "data_df['DA2perMIN'] = [da2 if da2 < 3 else 3 for da2 in data_df['DA2perMIN'].values]"
      ],
      "metadata": {
        "id": "t9DryWhgH1Kx"
      },
      "execution_count": 23,
      "outputs": []
    },
    {
      "cell_type": "code",
      "source": [
        "data_df['DA1relativ'] = data_df['DA1'] - data_df['DA1'].shift(5)\n",
        "data_df.loc[data_df['DA1relativ'] < 0, ['DA1relativ']] = 0\n",
        "data_df['DA1relativ'] = data_df['DA1relativ'].fillna(0)\n",
        "data_df['DA1relativ'] = [a if a < 10 else 10 for a in data_df['DA1relativ'].values]\n",
        "data_df['DA2relativ'] = data_df['DA2'] - data_df['DA2'].shift(5)\n",
        "data_df.loc[data_df['DA2relativ'] < 0, ['DA2relativ']] = 0\n",
        "data_df['DA2relativ'] = data_df['DA2relativ'].fillna(0)\n",
        "data_df['DA2relativ'] = [a if a < 10 else 10 for a in data_df['DA2relativ'].values]"
      ],
      "metadata": {
        "id": "-GpAwvdBeepK"
      },
      "execution_count": 24,
      "outputs": []
    },
    {
      "cell_type": "code",
      "source": [
        "if drop_transformed:\n",
        "    data_df = data_df.drop(['DA1', 'DA2'], axis = 1)"
      ],
      "metadata": {
        "id": "vo3r8F2MeLyH"
      },
      "execution_count": 25,
      "outputs": []
    },
    {
      "cell_type": "code",
      "source": [
        "data_df['Pos1_cleaned'] = data_df['Pos1'].fillna(method = 'ffill')\n",
        "data_df['Pos1_cleaned'] = [0.2 if p < 20 else 0.8 if p > 80 else p / 100 for p in data_df['Pos1_cleaned'].values]\n",
        "data_df['Pos2_cleaned'] = data_df['Pos2'].fillna(method = 'ffill')\n",
        "data_df['Pos2_cleaned'] = [0.2 if p < 20 else 0.8 if p > 80 else p / 100 for p in data_df['Pos2_cleaned'].values]"
      ],
      "metadata": {
        "id": "E2gWQl5zjfGt"
      },
      "execution_count": 26,
      "outputs": []
    },
    {
      "cell_type": "code",
      "source": [
        "if drop_transformed:\n",
        "    data_df = data_df.drop(['Pos1', 'Pos2'], axis = 1)"
      ],
      "metadata": {
        "id": "A3eikbD-f4Dl"
      },
      "execution_count": 27,
      "outputs": []
    },
    {
      "cell_type": "code",
      "source": [
        "data_df['Off1_norm'] = data_df['Off1'].fillna(method = 'ffill')\n",
        "data_df['Off1_norm'] = [f / 10 if f < 10 else 1.0 for f in data_df['Off1_norm'].values]\n",
        "data_df['Off2_norm'] = data_df['Off2'].fillna(method = 'ffill')\n",
        "data_df['Off2_norm'] = [f / 10 if f < 10 else 1.0 for f in data_df['Off2_norm'].values]"
      ],
      "metadata": {
        "id": "y-i1z701uFjz"
      },
      "execution_count": 28,
      "outputs": []
    },
    {
      "cell_type": "code",
      "source": [
        "if drop_transformed:\n",
        "    data_df = data_df.drop(['Off1', 'Off2'], axis = 1)"
      ],
      "metadata": {
        "id": "NRLFZpbSgCZH"
      },
      "execution_count": 29,
      "outputs": []
    },
    {
      "cell_type": "code",
      "source": [
        "data_df['On1_norm'] = data_df['On1'].fillna(method = 'ffill')\n",
        "data_df['On1_norm'] = [f / 5 if f < 5 else 1.0 for f in data_df['On1_norm'].values]\n",
        "data_df['On2_norm'] = data_df['On2'].fillna(method = 'ffill')\n",
        "data_df['On2_norm'] = [f / 5 if f < 5 else 1.0 for f in data_df['On2_norm'].values]"
      ],
      "metadata": {
        "id": "v1ncLPC6w8wu"
      },
      "execution_count": 30,
      "outputs": []
    },
    {
      "cell_type": "code",
      "source": [
        "if drop_transformed:\n",
        "    data_df = data_df.drop(['On1', 'On2'], axis = 1)"
      ],
      "metadata": {
        "id": "eDgor4vDgKei"
      },
      "execution_count": 31,
      "outputs": []
    },
    {
      "cell_type": "code",
      "source": [
        "data_df['YC1_transformed'] = [y / 2 if y < 2 else 1.0 for y in data_df['YC1'].values]\n",
        "data_df['YC2_transformed'] = [y / 2 if y < 2 else 1.0 for y in data_df['YC2'].values]"
      ],
      "metadata": {
        "id": "EP2qLK1OMT0J"
      },
      "execution_count": 32,
      "outputs": []
    },
    {
      "cell_type": "code",
      "source": [
        "if drop_transformed:\n",
        "    data_df = data_df.drop(['YC1', 'YC2'], axis = 1)"
      ],
      "metadata": {
        "id": "3n6C219FhTGg"
      },
      "execution_count": null,
      "outputs": []
    },
    {
      "cell_type": "code",
      "source": [
        "data_df['RC1_transformed'] = [y if y < 1 else 1 for y in data_df['RC1'].values]\n",
        "data_df['RC2_transformed'] = [y if y < 1 else 1 for y in data_df['RC2'].values]"
      ],
      "metadata": {
        "id": "DJXx0fj5ltkf"
      },
      "execution_count": 33,
      "outputs": []
    },
    {
      "cell_type": "code",
      "source": [
        "if drop_transformed:\n",
        "    data_df = data_df.drop(['RC1', 'RC2'], axis = 1)"
      ],
      "metadata": {
        "id": "7EKvMi7vhcTD"
      },
      "execution_count": 34,
      "outputs": []
    },
    {
      "cell_type": "code",
      "source": [
        "data_df['Sub1_transformed'] = [y if y < 1 else 1 for y in data_df['Sub1'].values]\n",
        "data_df['Sub2_transformed'] = [y if y < 1 else 1 for y in data_df['Sub2'].values]"
      ],
      "metadata": {
        "id": "QHbjqlOWmmyu"
      },
      "execution_count": 35,
      "outputs": []
    },
    {
      "cell_type": "code",
      "source": [
        "if drop_transformed:\n",
        "    data_df = data_df.drop(['Sub1', 'Sub2'], axis = 1)"
      ],
      "metadata": {
        "id": "y-_inZprhjFl"
      },
      "execution_count": 36,
      "outputs": []
    },
    {
      "cell_type": "code",
      "source": [
        "data_df['Cor1_transformed'] = [y / 6 if y < 6 else 1.0 for y in data_df['Cor1'].values]\n",
        "data_df['Cor2_transformed'] = [y / 6 if y < 6 else 1.0 for y in data_df['Cor2'].values]"
      ],
      "metadata": {
        "id": "qeTQtIOpm8SO"
      },
      "execution_count": 37,
      "outputs": []
    },
    {
      "cell_type": "code",
      "source": [
        "if drop_transformed:\n",
        "    data_df = data_df.drop(['Cor1', 'Cor2'], axis = 1)"
      ],
      "metadata": {
        "id": "ydz3TChGhrC8"
      },
      "execution_count": 38,
      "outputs": []
    },
    {
      "cell_type": "code",
      "source": [
        "data_df['P1_transformed'] = np.log(data_df['P1'], dtype = np.float32)\n",
        "data_df['P2_transformed'] = np.log(data_df['P2'], dtype = np.float32) / 2"
      ],
      "metadata": {
        "id": "Bf2l2TAS-fO6"
      },
      "execution_count": 39,
      "outputs": []
    },
    {
      "cell_type": "code",
      "source": [
        "if drop_transformed:\n",
        "    data_df = data_df.drop(['P1', 'PX', 'P2', 'PR'], axis = 1)"
      ],
      "metadata": {
        "id": "Sa7bKkFsh1qZ"
      },
      "execution_count": 40,
      "outputs": []
    },
    {
      "cell_type": "code",
      "source": [
        "data_df.to_csv('./train_transformed.csv.gz', index = False, compression = {'method':'gzip'})"
      ],
      "metadata": {
        "id": "2qsWLwZes5n6"
      },
      "execution_count": 41,
      "outputs": []
    },
    {
      "cell_type": "code",
      "source": [
        "data_df.to_csv('data_train_transformed.csv.gz', index = False, compression={'method': 'gzip'})"
      ],
      "metadata": {
        "id": "kMO8r-g2pF2C"
      },
      "execution_count": 34,
      "outputs": []
    },
    {
      "cell_type": "code",
      "source": [
        "px.histogram(np.log(data_df['P2'].iloc[:1_000_000]) / 2)"
      ],
      "metadata": {
        "id": "vrjWPNctqmWT"
      },
      "execution_count": null,
      "outputs": []
    },
    {
      "cell_type": "code",
      "source": [
        "px.histogram(np.log(data_df['P1'].iloc[:1_000_000]))"
      ],
      "metadata": {
        "id": "kLG0wrfFqmPW"
      },
      "execution_count": null,
      "outputs": []
    },
    {
      "cell_type": "code",
      "source": [
        "data_df = pd.read_csv('./data.csv', sep = ';',\n",
        "                      #nrows = 10_000_000, \n",
        "                      usecols = ['Id', 'Minute', 'Score1', 'Score2', \n",
        "                                 'A1', 'A2', 'DA1', 'DA2', 'Pos1', 'Pos2', 'Off1', \n",
        "                                 'Off2', 'On1', 'On2', 'YC1', 'YC2', 'RC1', 'RC2', \n",
        "                                 'Sub1', 'Sub2', 'Pen1', 'Pen2', 'Cor1', 'Cor2'])"
      ],
      "metadata": {
        "id": "51SDhcOXuRRe"
      },
      "execution_count": 7,
      "outputs": []
    },
    {
      "cell_type": "code",
      "source": [
        "data_df.head(100)"
      ],
      "metadata": {
        "id": "DI3LhniuvyZ1"
      },
      "execution_count": null,
      "outputs": []
    },
    {
      "cell_type": "code",
      "source": [
        "!head /content/info.csv"
      ],
      "metadata": {
        "colab": {
          "base_uri": "https://localhost:8080/"
        },
        "id": "5ODN36udaNVZ",
        "outputId": "820d75bc-96d2-4c09-9b62-e40db5f05a1d"
      },
      "execution_count": 39,
      "outputs": [
        {
          "output_type": "stream",
          "name": "stdout",
          "text": [
            "Id;BeginTime;Home;Away;League;Country;Type;Result1;Result2;Periods;HomeId;AwayId;LeagueId;Season;Round\r\n",
            "358904;01.01.2018 22:45:00;Bromley;Ebbsfleet United;England National League;gb;;4;2;3:1,4:2;;;;;\r\n",
            "330509;01.01.2018 22:00:00;Hapoel Bnei Sakhnin;Maccabi Tel Aviv;Israel Premier League;il;;0;1;0:0,0:1;;;;;\r\n",
            "575487;01.01.2018 20:30:00;Aston Villa;Bristol City;England Championship;gb;;5;0;2:0,5:0;;;;;\r\n",
            "338563;01.01.2018 20:30:00;Everton;Man Utd;England Premier League;gb;;0;2;0:0,0:2;;;;;\r\n",
            "340310;01.01.2018 20:15:00;Bangor City;Llandudno;Wales Premier League;gb;;0;1;0:0,0:1;;;;;\r\n",
            "577973;01.01.2018 20:13:49;JKU FC;Taifa Jang’ombe;World Club Friendlies;;;0;0;0:0,0:0;;;;;\r\n",
            "577112;01.01.2018 20:00:00;Hapoel Kfar Saba;Hapoel Ramat Gan;Israel Leumit Liga;il;;0;0;0:0,0:0;;;;;\r\n",
            "571744;01.01.2018 20:00:00;Maccabi Achi Nazareth;Beitar Tel Aviv Bat Yam;Israel Leumit Liga;il;;0;0;0:0,0:0;;;;;\r\n",
            "571518;01.01.2018 20:00:00;Ironi Ramat Hasharon;Hapoel Hadera;Israel Leumit Liga;il;;0;4;0:2,0:4;;;;;\r\n"
          ]
        }
      ]
    },
    {
      "cell_type": "code",
      "source": [
        "info_df = pd.read_csv('./info.csv', sep = ';', usecols = ['Id', 'Result1', 'Result2', 'Periods'])"
      ],
      "metadata": {
        "id": "QQCpe7b7ikHs"
      },
      "execution_count": 9,
      "outputs": []
    },
    {
      "cell_type": "code",
      "source": [
        "info_df[['Period1', 'Period2', 'Period3', 'Period4']] = info_df['Periods'].str.split(',', expand = True)"
      ],
      "metadata": {
        "id": "x4wRzewfirWW"
      },
      "execution_count": 15,
      "outputs": []
    },
    {
      "cell_type": "code",
      "source": [
        "miss_p1_list = list(info_df[info_df['Period1'] == '']['Id'])"
      ],
      "metadata": {
        "id": "4uh2T2HJq9xF"
      },
      "execution_count": 29,
      "outputs": []
    },
    {
      "cell_type": "code",
      "source": [
        "period1_result_dict = info_df.set_index('Id')['Period1'].to_dict()"
      ],
      "metadata": {
        "id": "swO-mgWmpVcY"
      },
      "execution_count": 35,
      "outputs": []
    },
    {
      "cell_type": "code",
      "source": [
        "data_df.loc[:, 'periods1'] =  [period1_result_dict[id] if id in period1_result_dict else '' for id in data_df['Id'].values]\n"
      ],
      "metadata": {
        "id": "hDxFe-fYyGJp"
      },
      "execution_count": 36,
      "outputs": []
    },
    {
      "cell_type": "code",
      "source": [
        "(data_df['periods1'] == '').sum()"
      ],
      "metadata": {
        "colab": {
          "base_uri": "https://localhost:8080/"
        },
        "id": "SqI-VONCxXp1",
        "outputId": "86ced29d-0952-4e27-a481-5dd53c9c4d67"
      },
      "execution_count": 42,
      "outputs": [
        {
          "output_type": "execute_result",
          "data": {
            "text/plain": [
              "4247"
            ]
          },
          "metadata": {},
          "execution_count": 42
        }
      ]
    },
    {
      "cell_type": "code",
      "source": [
        "!head /content/prem.csv"
      ],
      "metadata": {
        "colab": {
          "base_uri": "https://localhost:8080/"
        },
        "id": "ObkXdsjgaRkR",
        "outputId": "da3f470a-1242-4e1a-955c-607844bc787b"
      },
      "execution_count": 40,
      "outputs": [
        {
          "output_type": "stream",
          "name": "stdout",
          "text": [
            "Id;IsPrem;P1;PX;P2;PR;PRTime;IsKO;KO1;KOX;KO2;KOR;KOTime;KOminute;KOscore\r\n",
            "358904;1;2.6;3.2;2.8;0.0543;01.01.2018 22:20:17;0;;;;;;;\r\n",
            "330509;1;9.5;4.5;1.364;0.0606;01.01.2018 21:58:29;0;;;;;;;\r\n",
            "575487;1;2.4;3.3;3.3;0.0227;01.01.2018 20:09:47;0;;;;;;;\r\n",
            "338563;1;5.75;3.75;1.7;0.0288;01.01.2018 19:51:18;0;;;;;;;\r\n",
            "340310;1;1.571;4;5.75;0.0605;01.01.2018 20:03:11;0;;;;;;;\r\n",
            "577973;1;2;3.25;3.3;0.1107;31.12.2017 20:10:35;0;;;;;;;\r\n",
            "577112;1;1.8;3.4;4.333;0.0805;01.01.2018 18:14:51;0;;;;;;;\r\n",
            "571744;1;2.45;3.2;2.7;0.091;01.01.2018 12:36:33;0;;;;;;;\r\n",
            "571518;1;1.909;3.3;3.75;0.0935;01.01.2018 19:37:02;0;;;;;;;\r\n"
          ]
        }
      ]
    },
    {
      "cell_type": "code",
      "source": [
        "prem_df = pd.read_csv('./prem.csv', sep = ';')"
      ],
      "metadata": {
        "id": "5uV9Y0OqhvBY"
      },
      "execution_count": 10,
      "outputs": []
    },
    {
      "cell_type": "code",
      "source": [
        "prem_df"
      ],
      "metadata": {
        "colab": {
          "base_uri": "https://localhost:8080/",
          "height": 423
        },
        "id": "2Fq4ylJcib1D",
        "outputId": "218670c2-a3b6-415f-b959-cf87daf6ffcb"
      },
      "execution_count": 45,
      "outputs": [
        {
          "output_type": "execute_result",
          "data": {
            "text/plain": [
              "             Id  IsPrem     P1     PX      P2      PR               PRTime  \\\n",
              "0        358904       1  2.600  3.200   2.800  0.0543  01.01.2018 22:20:17   \n",
              "1        330509       1  9.500  4.500   1.364  0.0606  01.01.2018 21:58:29   \n",
              "2        575487       1  2.400  3.300   3.300  0.0227  01.01.2018 20:09:47   \n",
              "3        338563       1  5.750  3.750   1.700  0.0288  01.01.2018 19:51:18   \n",
              "4        340310       1  1.571  4.000   5.750  0.0605  01.01.2018 20:03:11   \n",
              "...         ...     ...    ...    ...     ...     ...                  ...   \n",
              "749195  6058161       1  2.750  4.000   2.000  0.1136   26.12.2022 9:54:23   \n",
              "749196  5404664       1  2.800  3.600   2.450  0.0431   26.12.2022 9:59:53   \n",
              "749197  6063457       1  1.166  6.000  11.000  0.1152   26.12.2022 7:39:37   \n",
              "749198  6063456       1  1.083  8.500  23.000  0.0845   26.12.2022 0:36:08   \n",
              "749199  6063455       1  1.400  4.333   6.000  0.1117   26.12.2022 2:29:41   \n",
              "\n",
              "        IsKO    KO1  KOX   KO2     KOR               KOTime  KOminute  KOscore  \n",
              "0        0.0    NaN  NaN   NaN     NaN                  NaN       NaN      NaN  \n",
              "1        0.0    NaN  NaN   NaN     NaN                  NaN       NaN      NaN  \n",
              "2        0.0    NaN  NaN   NaN     NaN                  NaN       NaN      NaN  \n",
              "3        0.0    NaN  NaN   NaN     NaN                  NaN       NaN      NaN  \n",
              "4        0.0    NaN  NaN   NaN     NaN                  NaN       NaN      NaN  \n",
              "...      ...    ...  ...   ...     ...                  ...       ...      ...  \n",
              "749195   1.0  2.875  4.0   2.0  0.0978  26.12.2022 10:01:18       1.0      0.0  \n",
              "749196   1.0  2.750  3.6   2.5  0.0414  26.12.2022 10:01:30       1.0      0.0  \n",
              "749197   1.0  1.181  6.0  10.0  0.1134   26.12.2022 7:42:01       1.0      0.0  \n",
              "749198   1.0  1.090  8.5  21.0  0.0827   26.12.2022 5:01:48       1.0      0.0  \n",
              "749199   1.0  1.400  4.5   6.5  0.0904   26.12.2022 5:02:50       2.0      0.0  \n",
              "\n",
              "[749200 rows x 15 columns]"
            ],
            "text/html": [
              "\n",
              "  <div id=\"df-1805ba24-7d62-4e7d-8afa-e32943bb9afd\">\n",
              "    <div class=\"colab-df-container\">\n",
              "      <div>\n",
              "<style scoped>\n",
              "    .dataframe tbody tr th:only-of-type {\n",
              "        vertical-align: middle;\n",
              "    }\n",
              "\n",
              "    .dataframe tbody tr th {\n",
              "        vertical-align: top;\n",
              "    }\n",
              "\n",
              "    .dataframe thead th {\n",
              "        text-align: right;\n",
              "    }\n",
              "</style>\n",
              "<table border=\"1\" class=\"dataframe\">\n",
              "  <thead>\n",
              "    <tr style=\"text-align: right;\">\n",
              "      <th></th>\n",
              "      <th>Id</th>\n",
              "      <th>IsPrem</th>\n",
              "      <th>P1</th>\n",
              "      <th>PX</th>\n",
              "      <th>P2</th>\n",
              "      <th>PR</th>\n",
              "      <th>PRTime</th>\n",
              "      <th>IsKO</th>\n",
              "      <th>KO1</th>\n",
              "      <th>KOX</th>\n",
              "      <th>KO2</th>\n",
              "      <th>KOR</th>\n",
              "      <th>KOTime</th>\n",
              "      <th>KOminute</th>\n",
              "      <th>KOscore</th>\n",
              "    </tr>\n",
              "  </thead>\n",
              "  <tbody>\n",
              "    <tr>\n",
              "      <th>0</th>\n",
              "      <td>358904</td>\n",
              "      <td>1</td>\n",
              "      <td>2.600</td>\n",
              "      <td>3.200</td>\n",
              "      <td>2.800</td>\n",
              "      <td>0.0543</td>\n",
              "      <td>01.01.2018 22:20:17</td>\n",
              "      <td>0.0</td>\n",
              "      <td>NaN</td>\n",
              "      <td>NaN</td>\n",
              "      <td>NaN</td>\n",
              "      <td>NaN</td>\n",
              "      <td>NaN</td>\n",
              "      <td>NaN</td>\n",
              "      <td>NaN</td>\n",
              "    </tr>\n",
              "    <tr>\n",
              "      <th>1</th>\n",
              "      <td>330509</td>\n",
              "      <td>1</td>\n",
              "      <td>9.500</td>\n",
              "      <td>4.500</td>\n",
              "      <td>1.364</td>\n",
              "      <td>0.0606</td>\n",
              "      <td>01.01.2018 21:58:29</td>\n",
              "      <td>0.0</td>\n",
              "      <td>NaN</td>\n",
              "      <td>NaN</td>\n",
              "      <td>NaN</td>\n",
              "      <td>NaN</td>\n",
              "      <td>NaN</td>\n",
              "      <td>NaN</td>\n",
              "      <td>NaN</td>\n",
              "    </tr>\n",
              "    <tr>\n",
              "      <th>2</th>\n",
              "      <td>575487</td>\n",
              "      <td>1</td>\n",
              "      <td>2.400</td>\n",
              "      <td>3.300</td>\n",
              "      <td>3.300</td>\n",
              "      <td>0.0227</td>\n",
              "      <td>01.01.2018 20:09:47</td>\n",
              "      <td>0.0</td>\n",
              "      <td>NaN</td>\n",
              "      <td>NaN</td>\n",
              "      <td>NaN</td>\n",
              "      <td>NaN</td>\n",
              "      <td>NaN</td>\n",
              "      <td>NaN</td>\n",
              "      <td>NaN</td>\n",
              "    </tr>\n",
              "    <tr>\n",
              "      <th>3</th>\n",
              "      <td>338563</td>\n",
              "      <td>1</td>\n",
              "      <td>5.750</td>\n",
              "      <td>3.750</td>\n",
              "      <td>1.700</td>\n",
              "      <td>0.0288</td>\n",
              "      <td>01.01.2018 19:51:18</td>\n",
              "      <td>0.0</td>\n",
              "      <td>NaN</td>\n",
              "      <td>NaN</td>\n",
              "      <td>NaN</td>\n",
              "      <td>NaN</td>\n",
              "      <td>NaN</td>\n",
              "      <td>NaN</td>\n",
              "      <td>NaN</td>\n",
              "    </tr>\n",
              "    <tr>\n",
              "      <th>4</th>\n",
              "      <td>340310</td>\n",
              "      <td>1</td>\n",
              "      <td>1.571</td>\n",
              "      <td>4.000</td>\n",
              "      <td>5.750</td>\n",
              "      <td>0.0605</td>\n",
              "      <td>01.01.2018 20:03:11</td>\n",
              "      <td>0.0</td>\n",
              "      <td>NaN</td>\n",
              "      <td>NaN</td>\n",
              "      <td>NaN</td>\n",
              "      <td>NaN</td>\n",
              "      <td>NaN</td>\n",
              "      <td>NaN</td>\n",
              "      <td>NaN</td>\n",
              "    </tr>\n",
              "    <tr>\n",
              "      <th>...</th>\n",
              "      <td>...</td>\n",
              "      <td>...</td>\n",
              "      <td>...</td>\n",
              "      <td>...</td>\n",
              "      <td>...</td>\n",
              "      <td>...</td>\n",
              "      <td>...</td>\n",
              "      <td>...</td>\n",
              "      <td>...</td>\n",
              "      <td>...</td>\n",
              "      <td>...</td>\n",
              "      <td>...</td>\n",
              "      <td>...</td>\n",
              "      <td>...</td>\n",
              "      <td>...</td>\n",
              "    </tr>\n",
              "    <tr>\n",
              "      <th>749195</th>\n",
              "      <td>6058161</td>\n",
              "      <td>1</td>\n",
              "      <td>2.750</td>\n",
              "      <td>4.000</td>\n",
              "      <td>2.000</td>\n",
              "      <td>0.1136</td>\n",
              "      <td>26.12.2022 9:54:23</td>\n",
              "      <td>1.0</td>\n",
              "      <td>2.875</td>\n",
              "      <td>4.0</td>\n",
              "      <td>2.0</td>\n",
              "      <td>0.0978</td>\n",
              "      <td>26.12.2022 10:01:18</td>\n",
              "      <td>1.0</td>\n",
              "      <td>0.0</td>\n",
              "    </tr>\n",
              "    <tr>\n",
              "      <th>749196</th>\n",
              "      <td>5404664</td>\n",
              "      <td>1</td>\n",
              "      <td>2.800</td>\n",
              "      <td>3.600</td>\n",
              "      <td>2.450</td>\n",
              "      <td>0.0431</td>\n",
              "      <td>26.12.2022 9:59:53</td>\n",
              "      <td>1.0</td>\n",
              "      <td>2.750</td>\n",
              "      <td>3.6</td>\n",
              "      <td>2.5</td>\n",
              "      <td>0.0414</td>\n",
              "      <td>26.12.2022 10:01:30</td>\n",
              "      <td>1.0</td>\n",
              "      <td>0.0</td>\n",
              "    </tr>\n",
              "    <tr>\n",
              "      <th>749197</th>\n",
              "      <td>6063457</td>\n",
              "      <td>1</td>\n",
              "      <td>1.166</td>\n",
              "      <td>6.000</td>\n",
              "      <td>11.000</td>\n",
              "      <td>0.1152</td>\n",
              "      <td>26.12.2022 7:39:37</td>\n",
              "      <td>1.0</td>\n",
              "      <td>1.181</td>\n",
              "      <td>6.0</td>\n",
              "      <td>10.0</td>\n",
              "      <td>0.1134</td>\n",
              "      <td>26.12.2022 7:42:01</td>\n",
              "      <td>1.0</td>\n",
              "      <td>0.0</td>\n",
              "    </tr>\n",
              "    <tr>\n",
              "      <th>749198</th>\n",
              "      <td>6063456</td>\n",
              "      <td>1</td>\n",
              "      <td>1.083</td>\n",
              "      <td>8.500</td>\n",
              "      <td>23.000</td>\n",
              "      <td>0.0845</td>\n",
              "      <td>26.12.2022 0:36:08</td>\n",
              "      <td>1.0</td>\n",
              "      <td>1.090</td>\n",
              "      <td>8.5</td>\n",
              "      <td>21.0</td>\n",
              "      <td>0.0827</td>\n",
              "      <td>26.12.2022 5:01:48</td>\n",
              "      <td>1.0</td>\n",
              "      <td>0.0</td>\n",
              "    </tr>\n",
              "    <tr>\n",
              "      <th>749199</th>\n",
              "      <td>6063455</td>\n",
              "      <td>1</td>\n",
              "      <td>1.400</td>\n",
              "      <td>4.333</td>\n",
              "      <td>6.000</td>\n",
              "      <td>0.1117</td>\n",
              "      <td>26.12.2022 2:29:41</td>\n",
              "      <td>1.0</td>\n",
              "      <td>1.400</td>\n",
              "      <td>4.5</td>\n",
              "      <td>6.5</td>\n",
              "      <td>0.0904</td>\n",
              "      <td>26.12.2022 5:02:50</td>\n",
              "      <td>2.0</td>\n",
              "      <td>0.0</td>\n",
              "    </tr>\n",
              "  </tbody>\n",
              "</table>\n",
              "<p>749200 rows × 15 columns</p>\n",
              "</div>\n",
              "      <button class=\"colab-df-convert\" onclick=\"convertToInteractive('df-1805ba24-7d62-4e7d-8afa-e32943bb9afd')\"\n",
              "              title=\"Convert this dataframe to an interactive table.\"\n",
              "              style=\"display:none;\">\n",
              "        \n",
              "  <svg xmlns=\"http://www.w3.org/2000/svg\" height=\"24px\"viewBox=\"0 0 24 24\"\n",
              "       width=\"24px\">\n",
              "    <path d=\"M0 0h24v24H0V0z\" fill=\"none\"/>\n",
              "    <path d=\"M18.56 5.44l.94 2.06.94-2.06 2.06-.94-2.06-.94-.94-2.06-.94 2.06-2.06.94zm-11 1L8.5 8.5l.94-2.06 2.06-.94-2.06-.94L8.5 2.5l-.94 2.06-2.06.94zm10 10l.94 2.06.94-2.06 2.06-.94-2.06-.94-.94-2.06-.94 2.06-2.06.94z\"/><path d=\"M17.41 7.96l-1.37-1.37c-.4-.4-.92-.59-1.43-.59-.52 0-1.04.2-1.43.59L10.3 9.45l-7.72 7.72c-.78.78-.78 2.05 0 2.83L4 21.41c.39.39.9.59 1.41.59.51 0 1.02-.2 1.41-.59l7.78-7.78 2.81-2.81c.8-.78.8-2.07 0-2.86zM5.41 20L4 18.59l7.72-7.72 1.47 1.35L5.41 20z\"/>\n",
              "  </svg>\n",
              "      </button>\n",
              "      \n",
              "  <style>\n",
              "    .colab-df-container {\n",
              "      display:flex;\n",
              "      flex-wrap:wrap;\n",
              "      gap: 12px;\n",
              "    }\n",
              "\n",
              "    .colab-df-convert {\n",
              "      background-color: #E8F0FE;\n",
              "      border: none;\n",
              "      border-radius: 50%;\n",
              "      cursor: pointer;\n",
              "      display: none;\n",
              "      fill: #1967D2;\n",
              "      height: 32px;\n",
              "      padding: 0 0 0 0;\n",
              "      width: 32px;\n",
              "    }\n",
              "\n",
              "    .colab-df-convert:hover {\n",
              "      background-color: #E2EBFA;\n",
              "      box-shadow: 0px 1px 2px rgba(60, 64, 67, 0.3), 0px 1px 3px 1px rgba(60, 64, 67, 0.15);\n",
              "      fill: #174EA6;\n",
              "    }\n",
              "\n",
              "    [theme=dark] .colab-df-convert {\n",
              "      background-color: #3B4455;\n",
              "      fill: #D2E3FC;\n",
              "    }\n",
              "\n",
              "    [theme=dark] .colab-df-convert:hover {\n",
              "      background-color: #434B5C;\n",
              "      box-shadow: 0px 1px 3px 1px rgba(0, 0, 0, 0.15);\n",
              "      filter: drop-shadow(0px 1px 2px rgba(0, 0, 0, 0.3));\n",
              "      fill: #FFFFFF;\n",
              "    }\n",
              "  </style>\n",
              "\n",
              "      <script>\n",
              "        const buttonEl =\n",
              "          document.querySelector('#df-1805ba24-7d62-4e7d-8afa-e32943bb9afd button.colab-df-convert');\n",
              "        buttonEl.style.display =\n",
              "          google.colab.kernel.accessAllowed ? 'block' : 'none';\n",
              "\n",
              "        async function convertToInteractive(key) {\n",
              "          const element = document.querySelector('#df-1805ba24-7d62-4e7d-8afa-e32943bb9afd');\n",
              "          const dataTable =\n",
              "            await google.colab.kernel.invokeFunction('convertToInteractive',\n",
              "                                                     [key], {});\n",
              "          if (!dataTable) return;\n",
              "\n",
              "          const docLinkHtml = 'Like what you see? Visit the ' +\n",
              "            '<a target=\"_blank\" href=https://colab.research.google.com/notebooks/data_table.ipynb>data table notebook</a>'\n",
              "            + ' to learn more about interactive tables.';\n",
              "          element.innerHTML = '';\n",
              "          dataTable['output_type'] = 'display_data';\n",
              "          await google.colab.output.renderOutput(dataTable, element);\n",
              "          const docLink = document.createElement('div');\n",
              "          docLink.innerHTML = docLinkHtml;\n",
              "          element.appendChild(docLink);\n",
              "        }\n",
              "      </script>\n",
              "    </div>\n",
              "  </div>\n",
              "  "
            ]
          },
          "metadata": {},
          "execution_count": 45
        }
      ]
    },
    {
      "cell_type": "code",
      "source": [
        "prem_df[prem_df['IsPrem'] != 1]"
      ],
      "metadata": {
        "id": "RTzmNQq2h2iF"
      },
      "execution_count": null,
      "outputs": []
    }
  ]
}