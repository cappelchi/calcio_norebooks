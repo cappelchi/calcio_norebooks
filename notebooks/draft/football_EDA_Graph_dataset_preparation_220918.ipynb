{
  "cells": [
    {
      "cell_type": "markdown",
      "metadata": {
        "id": "view-in-github",
        "colab_type": "text"
      },
      "source": [
        "<a href=\"https://colab.research.google.com/github/cappelchi/calcio_notebooks/blob/main/notebooks/draft/football_EDA_Graph_dataset_preparation_220918.ipynb\" target=\"_parent\"><img src=\"https://colab.research.google.com/assets/colab-badge.svg\" alt=\"Open In Colab\"/></a>"
      ]
    },
    {
      "cell_type": "markdown",
      "metadata": {
        "id": "X69hHEsFix4n"
      },
      "source": [
        "### Downloads"
      ]
    },
    {
      "cell_type": "code",
      "source": [],
      "metadata": {
        "id": "DkdiNaWs0p-C"
      },
      "execution_count": null,
      "outputs": []
    },
    {
      "cell_type": "markdown",
      "metadata": {
        "id": "5kLzRO1P0xJE"
      },
      "source": [
        "### Installations"
      ]
    },
    {
      "cell_type": "code",
      "execution_count": null,
      "metadata": {
        "id": "Q2_y6mui0xJR"
      },
      "outputs": [],
      "source": [
        "#!pip install chart_studio"
      ]
    },
    {
      "cell_type": "markdown",
      "metadata": {
        "id": "RocnM6a5lPkc"
      },
      "source": [
        "### Imports"
      ]
    },
    {
      "cell_type": "code",
      "execution_count": null,
      "metadata": {
        "colab": {
          "base_uri": "https://localhost:8080/"
        },
        "id": "Hj0B52SelRC1",
        "outputId": "b5476b5d-29eb-40da-86c3-ce9ab726b308"
      },
      "outputs": [
        {
          "output_type": "stream",
          "name": "stdout",
          "text": [
            "1.3.5\n"
          ]
        }
      ],
      "source": [
        "import pandas as pd\n",
        "import numpy as np\n",
        "pd.options.display.max_columns = 50\n",
        "pd.options.display.max_rows = 100\n",
        "print(pd.__version__)\n",
        "\n",
        "from glob import glob\n",
        "from tqdm import tqdm\n",
        "import pickle\n",
        "import functools"
      ]
    },
    {
      "cell_type": "markdown",
      "metadata": {
        "id": "BI_F4KBy4gIF"
      },
      "source": [
        "### Code"
      ]
    },
    {
      "cell_type": "markdown",
      "metadata": {
        "id": "5bGo7IzE4lhj"
      },
      "source": [
        "#### Load Dataset in DataFrame"
      ]
    },
    {
      "cell_type": "code",
      "source": [
        "%%time\n",
        "start_date = '2008-01-01'\n",
        "end_date = '2022-09-05'\n",
        "data_csv_list = ['./calcio/results_221002/' + str(dd).replace('-', '') + '.csv' \n",
        "                 for dd in pd.date_range(start=start_date, end=end_date).date]\n",
        "data_df = pd.concat(map(functools.partial(pd.read_csv, sep=';', compression=None),data_csv_list), ignore_index = True)"
      ],
      "metadata": {
        "colab": {
          "base_uri": "https://localhost:8080/"
        },
        "id": "jHzZRsf-gtUo",
        "outputId": "dc1429e8-8fed-4e80-f3d7-7ae47a03841c"
      },
      "execution_count": null,
      "outputs": [
        {
          "output_type": "stream",
          "name": "stdout",
          "text": [
            "CPU times: user 32.6 s, sys: 2.81 s, total: 35.5 s\n",
            "Wall time: 35.4 s\n"
          ]
        }
      ]
    },
    {
      "cell_type": "code",
      "source": [
        "data_df.Id[data_df.Id == '4xtqmstjixo8392sildh47g9g'] = [id + str(cnt) for cnt, id in enumerate(data_df.Id[data_df.Id == '4xtqmstjixo8392sildh47g9g'])]\n",
        "data_df.Id[data_df.Id == 'eaib9fp2qivl5t5jf5u5h3v9w'] = [id + str(cnt) for cnt, id in enumerate(data_df.Id[data_df.Id == 'eaib9fp2qivl5t5jf5u5h3v9w'])]"
      ],
      "metadata": {
        "id": "ceKiXbRz40wr"
      },
      "execution_count": null,
      "outputs": []
    },
    {
      "cell_type": "code",
      "source": [
        "data_df['timestamp'] = pd.to_datetime(data_df['BeginTime'], dayfirst = True).astype('int64') // 10**9"
      ],
      "metadata": {
        "colab": {
          "base_uri": "https://localhost:8080/"
        },
        "id": "d8TFxAEYajSo",
        "outputId": "6f9994af-682a-474c-cca5-45ccbdd61285"
      },
      "execution_count": null,
      "outputs": [
        {
          "output_type": "stream",
          "name": "stderr",
          "text": [
            "/usr/local/lib/python3.7/dist-packages/ipykernel_launcher.py:1: FutureWarning: casting datetime64[ns] values to int64 with .astype(...) is deprecated and will raise in a future version. Use .view(...) instead.\n",
            "  \"\"\"Entry point for launching an IPython kernel.\n"
          ]
        }
      ]
    },
    {
      "cell_type": "code",
      "execution_count": null,
      "metadata": {
        "id": "LnC6gAvB4lhl"
      },
      "outputs": [],
      "source": [
        "data_df[['date', 'times_ext']] = data_df['BeginTime'].str.split(expand = True)\n",
        "data_df = data_df.drop(['BeginTime', 'times_ext'], axis = 'columns')"
      ]
    },
    {
      "cell_type": "markdown",
      "metadata": {
        "id": "5WXZU5A-4yCm"
      },
      "source": [
        "#### Refactoring DataFrame"
      ]
    },
    {
      "cell_type": "code",
      "execution_count": null,
      "metadata": {
        "id": "sUa0c8NN4yCn"
      },
      "outputs": [],
      "source": [
        "data_df['sum_score'] = data_df['Result1'] + data_df['Result2'] # Сумма голов в матче\n",
        "# Приводим все счета к сумме мячей в матче не больше 10 (adj)\n",
        "data_df['sum_score_k'] = [1 if score_k < 11 else score_k / 10 for score_k in data_df['sum_score']]\n",
        "data_df['home_score_adj'] = (data_df['Result1'] / data_df['sum_score_k']).astype(int)\n",
        "data_df['away_score_adj'] = (data_df['Result2'] / data_df['sum_score_k']).astype(int)\n",
        "data_df['score_adj'] = data_df['home_score_adj'].astype(str) + '-' + data_df['away_score_adj'].astype(str)"
      ]
    },
    {
      "cell_type": "markdown",
      "source": [
        "### Code_dataset refactoring"
      ],
      "metadata": {
        "id": "IRJW2uEts-qQ"
      }
    },
    {
      "cell_type": "markdown",
      "metadata": {
        "id": "aXATMwtGJTRO"
      },
      "source": [
        "#### Refactoring DataFrame"
      ]
    },
    {
      "cell_type": "code",
      "execution_count": null,
      "metadata": {
        "colab": {
          "base_uri": "https://localhost:8080/"
        },
        "id": "32yMhcwLwITF",
        "outputId": "a75297d7-d8c5-4c7f-f77f-83bf0478c537"
      },
      "outputs": [
        {
          "output_type": "stream",
          "name": "stderr",
          "text": [
            "100%|██████████| 2682527/2682527 [00:03<00:00, 705480.36it/s]\n"
          ]
        }
      ],
      "source": [
        "winners_list = []\n",
        "for hm, aw in tqdm(data_df[['Result1', 'Result2']].values):\n",
        "    if hm > aw:\n",
        "        winners_list.append('H')\n",
        "    elif hm < aw:\n",
        "        winners_list.append('A')\n",
        "    else:\n",
        "        winners_list.append('D')\n",
        "data_df['Winner'] = winners_list"
      ]
    },
    {
      "cell_type": "code",
      "source": [
        "data_df.HomeId = data_df.HomeId.astype(int)\n",
        "data_df.AwayId = data_df.AwayId.astype(int)"
      ],
      "metadata": {
        "id": "AqmBjr-3jSqj"
      },
      "execution_count": null,
      "outputs": []
    },
    {
      "cell_type": "markdown",
      "metadata": {
        "id": "YjC-GPlnMwKr"
      },
      "source": [
        "#### Расчитываем время прошедшее от прошлого матча и делаем словарик связей матчей"
      ]
    },
    {
      "cell_type": "code",
      "source": [
        "#data_df['date'] = pd.to_datetime(data_df['date'])\n",
        "data_df = data_df.sort_values(by = 'timestamp').reset_index(drop = True)\n",
        "timestamp7days = 7 * 24 * 60 * 60"
      ],
      "metadata": {
        "id": "9PMOA3edlR8d"
      },
      "execution_count": null,
      "outputs": []
    },
    {
      "cell_type": "code",
      "source": [
        "team_GId_dict = {}\n",
        "zero_diff = 0\n",
        "for info in tqdm(\n",
        "    zip(\n",
        "        data_df.timestamp,\n",
        "        data_df.HomeId,\n",
        "        data_df.AwayId,\n",
        "        data_df.Id,\n",
        "    ),\n",
        "    total=len(data_df),\n",
        "                    ):\n",
        "    time_stamp = info[0]\n",
        "    homeID = info[1]\n",
        "    awayID = info[2]\n",
        "    matchID = info[3]\n",
        "    # 1. Проверить если ID команды в словаре, если нет перейти к добавлению\n",
        "    if homeID in team_GId_dict:\n",
        "        # 2. Проверить время, если время позднее последнего добаления,\n",
        "        # то можно просто присоединить снизу, инфо о последнем матче команды,\n",
        "        # иначе перейти во вставку матча между матчами\n",
        "        if matchID not in team_GId_dict[homeID]:\n",
        "            if time_stamp >= team_GId_dict[homeID][\"last_time\"]:\n",
        "                # 3. Добавление матча для команды в словарь\n",
        "                previous_num = team_GId_dict[homeID][\"last_index\"]\n",
        "                previous_time = team_GId_dict[homeID][\"last_time\"]\n",
        "                # 4. Обновление блока последнего матча для команды\n",
        "                team_GId_dict[homeID][\"last_index\"] = matchID\n",
        "                team_GId_dict[homeID][\"last_time\"] = time_stamp\n",
        "                # 3. Добавление матча для команды в словарь\n",
        "                team_GId_dict[homeID].update(\n",
        "                    {\n",
        "                        matchID: [\n",
        "                            previous_num,\n",
        "                            time_stamp,\n",
        "                        ]\n",
        "                    }\n",
        "                )\n",
        "            else:\n",
        "                zero_diff += 1\n",
        "                # 5. Поиск точки вхождение для матча, который оказался не новым\n",
        "                current_index = team_GId_dict[homeID][\"last_index\"]\n",
        "                previous_match_time = team_GId_dict[homeID][current_index][1]\n",
        "                previous_index = team_GId_dict[homeID][current_index][0]\n",
        "                while (info[0] < previous_match_time) & (previous_index != -1):\n",
        "                    current_index = previous_index\n",
        "                    previous_index = team_GId_dict[homeID][previous_index][0]\n",
        "                    previous_match_time = team_GId_dict[homeID][current_index][1]\n",
        "                # 6. Вставка матча и обновление соседних 2 матчей\n",
        "                team_GId_dict[homeID].update(\n",
        "                    {matchID: [team_GId_dict[homeID][current_index][0], time_stamp]}\n",
        "                )\n",
        "                team_GId_dict[homeID].update(\n",
        "                    {current_index: [matchID, time_stamp]}\n",
        "                )\n",
        "\n",
        "    else:\n",
        "        # 3. Добавление матча для команды в словарь. Новая команда\n",
        "        team_GId_dict[homeID] = {\"last_index\": info[3]}\n",
        "        team_GId_dict[homeID].update({\"last_time\": time_stamp})\n",
        "        team_GId_dict[homeID].update(\n",
        "            {\n",
        "                matchID: [\n",
        "                    -1,\n",
        "                    time_stamp - timestamp7days\n",
        "                ]\n",
        "            }\n",
        "        )\n",
        "\n",
        "    #############################################################################\n",
        "    #############################################################################\n",
        "\n",
        "    if awayID in team_GId_dict:\n",
        "        # 2. Проверить время, если время позднее последнего добаления,\n",
        "        # то можно просто присоединить снизу, инфо о последнем матче команды,\n",
        "        # иначе перейти во вставку матча между матчами\n",
        "        if matchID not in team_GId_dict[awayID]:\n",
        "            if time_stamp >= team_GId_dict[awayID][\"last_time\"]:\n",
        "                # 3. Добавление матча для команды в словарь\n",
        "                previous_num = team_GId_dict[awayID][\"last_index\"]\n",
        "                previous_time = team_GId_dict[awayID][\"last_time\"]\n",
        "                # 4. Обновление блока последнего матча для команды\n",
        "                team_GId_dict[awayID][\"last_index\"] = matchID\n",
        "                team_GId_dict[awayID][\"last_time\"] = time_stamp\n",
        "                # 3. Добавление матча для команды в словарь\n",
        "                team_GId_dict[awayID].update(\n",
        "                    {\n",
        "                        matchID: [\n",
        "                            previous_num,\n",
        "                            time_stamp,\n",
        "                        ]\n",
        "                    }\n",
        "                )\n",
        "            else:\n",
        "                zero_diff += 1\n",
        "                # 5. Поиск точки вхождение для матча, который оказался не новым\n",
        "                current_index = team_GId_dict[awayID][\"last_index\"]\n",
        "                previous_match_time = team_GId_dict[awayID][current_index][1]\n",
        "                previous_index = team_GId_dict[awayID][current_index][0]\n",
        "                while (time_stamp < previous_match_time) & (previous_index != -1):\n",
        "                    current_index = previous_index\n",
        "                    previous_index = team_GId_dict[awayID][previous_index][0]\n",
        "                    previous_match_time = team_GId_dict[awayID][current_index][1]\n",
        "                # 6. Вставка матча и обновление соседних 2 матчей\n",
        "                team_GId_dict[awayID].update(\n",
        "                    {matchID: [team_GId_dict[awayID][current_index][0], time_stamp]}\n",
        "                )\n",
        "                team_GId_dict[awayID].update(\n",
        "                    {current_index: [matchID, time_stamp]}\n",
        "                )\n",
        "\n",
        "    else:\n",
        "        # 3. Добавление матча для команды в словарь. Новая команда\n",
        "        team_GId_dict[awayID] = {\"last_index\": info[3]}\n",
        "        team_GId_dict[awayID].update({\"last_time\": time_stamp})\n",
        "        team_GId_dict[awayID].update(\n",
        "            {\n",
        "                matchID: [\n",
        "                    -1,\n",
        "                    time_stamp - timestamp7days\n",
        "                ]\n",
        "            }\n",
        "        )\n"
      ],
      "metadata": {
        "colab": {
          "base_uri": "https://localhost:8080/"
        },
        "id": "9O26JQWJmD_S",
        "outputId": "7b0ae6a3-fc46-4941-a0de-baeaec0eb624"
      },
      "execution_count": null,
      "outputs": [
        {
          "output_type": "stream",
          "name": "stderr",
          "text": [
            "100%|██████████| 2682527/2682527 [00:28<00:00, 94979.29it/s]\n"
          ]
        }
      ]
    },
    {
      "cell_type": "markdown",
      "source": [
        "#### Рассчитываем паузу между матчами"
      ],
      "metadata": {
        "id": "_TYL-n6JjZlJ"
      }
    },
    {
      "cell_type": "code",
      "source": [
        "data_df['team_rest_home'] = [team_GId_dict[team][idx][1] - team_GId_dict[team][team_GId_dict[team][idx][0]][1]\n",
        "                             if team_GId_dict[team][idx][0] != -1 else timestamp7days\n",
        "                             for team, idx in tqdm(zip(data_df.HomeId, data_df.Id), total = len(data_df))]\n",
        "data_df['team_rest_away'] = [team_GId_dict[team][idx][1] - team_GId_dict[team][team_GId_dict[team][idx][0]][1]\n",
        "                             if team_GId_dict[team][idx][0] != -1 else timestamp7days\n",
        "                             for team, idx in tqdm(zip(data_df.AwayId, data_df.Id), total = len(data_df))]"
      ],
      "metadata": {
        "colab": {
          "base_uri": "https://localhost:8080/"
        },
        "id": "Tw_DJHK8nyMM",
        "outputId": "eb9f3683-eb19-4112-8943-50ecec4b7067"
      },
      "execution_count": null,
      "outputs": [
        {
          "output_type": "stream",
          "name": "stderr",
          "text": [
            "100%|██████████| 2682527/2682527 [00:08<00:00, 312209.74it/s]\n",
            "100%|██████████| 2682527/2682527 [00:08<00:00, 306756.08it/s]\n"
          ]
        }
      ]
    },
    {
      "cell_type": "code",
      "source": [
        "# Отдых команд разделяем на 3 группы\n",
        "data_df['team_rest_home_adj'] = [0 if tm < 500_000 else 1 if tm < 1_000_000 else 2 for tm in data_df['team_rest_home']]\n",
        "data_df['team_rest_away_adj'] = [0 if tm < 500_000 else 1 if tm < 1_000_000 else 2 for tm in data_df['team_rest_away']]"
      ],
      "metadata": {
        "id": "_LoDc063n4Pa"
      },
      "execution_count": null,
      "outputs": []
    },
    {
      "cell_type": "markdown",
      "source": [
        "####Создание токенов-фичей score-home_away-пауза"
      ],
      "metadata": {
        "id": "mPjSMcTnjkbJ"
      }
    },
    {
      "cell_type": "code",
      "source": [
        "match_cat_dict = {}\n",
        "cnt = 1\n",
        "\n",
        "for home_score in range(11):\n",
        "    for away_score in range(11):\n",
        "        for home_place in range(2):\n",
        "            for rest_time in range(3):\n",
        "                for curr_home in range(2):\n",
        "                    if (home_score + away_score) < 11:\n",
        "                        match_cat_dict[\n",
        "                            str(home_score) + '-' + \\\n",
        "                            str(away_score) + ':' + \\\n",
        "                            str(home_place) + ':' + \\\n",
        "                            str(rest_time) + ':' + \\\n",
        "                            str(curr_home)\n",
        "                                        ] = cnt\n",
        "                        cnt += 1\n",
        "\n",
        "none_idx = 0 #max(match_cat_dict.values())\n",
        "\n",
        "print(match_cat_dict)\n",
        "print(len(match_cat_dict))\n",
        "print('none_idx: ', none_idx)"
      ],
      "metadata": {
        "colab": {
          "base_uri": "https://localhost:8080/"
        },
        "id": "fSRX5lwhoHkl",
        "outputId": "8c61b80a-8702-4f41-fb99-39012026c453"
      },
      "execution_count": null,
      "outputs": [
        {
          "output_type": "stream",
          "name": "stdout",
          "text": [
            "{'0-0:0:0:0': 1, '0-0:0:0:1': 2, '0-0:0:1:0': 3, '0-0:0:1:1': 4, '0-0:0:2:0': 5, '0-0:0:2:1': 6, '0-0:1:0:0': 7, '0-0:1:0:1': 8, '0-0:1:1:0': 9, '0-0:1:1:1': 10, '0-0:1:2:0': 11, '0-0:1:2:1': 12, '0-1:0:0:0': 13, '0-1:0:0:1': 14, '0-1:0:1:0': 15, '0-1:0:1:1': 16, '0-1:0:2:0': 17, '0-1:0:2:1': 18, '0-1:1:0:0': 19, '0-1:1:0:1': 20, '0-1:1:1:0': 21, '0-1:1:1:1': 22, '0-1:1:2:0': 23, '0-1:1:2:1': 24, '0-2:0:0:0': 25, '0-2:0:0:1': 26, '0-2:0:1:0': 27, '0-2:0:1:1': 28, '0-2:0:2:0': 29, '0-2:0:2:1': 30, '0-2:1:0:0': 31, '0-2:1:0:1': 32, '0-2:1:1:0': 33, '0-2:1:1:1': 34, '0-2:1:2:0': 35, '0-2:1:2:1': 36, '0-3:0:0:0': 37, '0-3:0:0:1': 38, '0-3:0:1:0': 39, '0-3:0:1:1': 40, '0-3:0:2:0': 41, '0-3:0:2:1': 42, '0-3:1:0:0': 43, '0-3:1:0:1': 44, '0-3:1:1:0': 45, '0-3:1:1:1': 46, '0-3:1:2:0': 47, '0-3:1:2:1': 48, '0-4:0:0:0': 49, '0-4:0:0:1': 50, '0-4:0:1:0': 51, '0-4:0:1:1': 52, '0-4:0:2:0': 53, '0-4:0:2:1': 54, '0-4:1:0:0': 55, '0-4:1:0:1': 56, '0-4:1:1:0': 57, '0-4:1:1:1': 58, '0-4:1:2:0': 59, '0-4:1:2:1': 60, '0-5:0:0:0': 61, '0-5:0:0:1': 62, '0-5:0:1:0': 63, '0-5:0:1:1': 64, '0-5:0:2:0': 65, '0-5:0:2:1': 66, '0-5:1:0:0': 67, '0-5:1:0:1': 68, '0-5:1:1:0': 69, '0-5:1:1:1': 70, '0-5:1:2:0': 71, '0-5:1:2:1': 72, '0-6:0:0:0': 73, '0-6:0:0:1': 74, '0-6:0:1:0': 75, '0-6:0:1:1': 76, '0-6:0:2:0': 77, '0-6:0:2:1': 78, '0-6:1:0:0': 79, '0-6:1:0:1': 80, '0-6:1:1:0': 81, '0-6:1:1:1': 82, '0-6:1:2:0': 83, '0-6:1:2:1': 84, '0-7:0:0:0': 85, '0-7:0:0:1': 86, '0-7:0:1:0': 87, '0-7:0:1:1': 88, '0-7:0:2:0': 89, '0-7:0:2:1': 90, '0-7:1:0:0': 91, '0-7:1:0:1': 92, '0-7:1:1:0': 93, '0-7:1:1:1': 94, '0-7:1:2:0': 95, '0-7:1:2:1': 96, '0-8:0:0:0': 97, '0-8:0:0:1': 98, '0-8:0:1:0': 99, '0-8:0:1:1': 100, '0-8:0:2:0': 101, '0-8:0:2:1': 102, '0-8:1:0:0': 103, '0-8:1:0:1': 104, '0-8:1:1:0': 105, '0-8:1:1:1': 106, '0-8:1:2:0': 107, '0-8:1:2:1': 108, '0-9:0:0:0': 109, '0-9:0:0:1': 110, '0-9:0:1:0': 111, '0-9:0:1:1': 112, '0-9:0:2:0': 113, '0-9:0:2:1': 114, '0-9:1:0:0': 115, '0-9:1:0:1': 116, '0-9:1:1:0': 117, '0-9:1:1:1': 118, '0-9:1:2:0': 119, '0-9:1:2:1': 120, '0-10:0:0:0': 121, '0-10:0:0:1': 122, '0-10:0:1:0': 123, '0-10:0:1:1': 124, '0-10:0:2:0': 125, '0-10:0:2:1': 126, '0-10:1:0:0': 127, '0-10:1:0:1': 128, '0-10:1:1:0': 129, '0-10:1:1:1': 130, '0-10:1:2:0': 131, '0-10:1:2:1': 132, '1-0:0:0:0': 133, '1-0:0:0:1': 134, '1-0:0:1:0': 135, '1-0:0:1:1': 136, '1-0:0:2:0': 137, '1-0:0:2:1': 138, '1-0:1:0:0': 139, '1-0:1:0:1': 140, '1-0:1:1:0': 141, '1-0:1:1:1': 142, '1-0:1:2:0': 143, '1-0:1:2:1': 144, '1-1:0:0:0': 145, '1-1:0:0:1': 146, '1-1:0:1:0': 147, '1-1:0:1:1': 148, '1-1:0:2:0': 149, '1-1:0:2:1': 150, '1-1:1:0:0': 151, '1-1:1:0:1': 152, '1-1:1:1:0': 153, '1-1:1:1:1': 154, '1-1:1:2:0': 155, '1-1:1:2:1': 156, '1-2:0:0:0': 157, '1-2:0:0:1': 158, '1-2:0:1:0': 159, '1-2:0:1:1': 160, '1-2:0:2:0': 161, '1-2:0:2:1': 162, '1-2:1:0:0': 163, '1-2:1:0:1': 164, '1-2:1:1:0': 165, '1-2:1:1:1': 166, '1-2:1:2:0': 167, '1-2:1:2:1': 168, '1-3:0:0:0': 169, '1-3:0:0:1': 170, '1-3:0:1:0': 171, '1-3:0:1:1': 172, '1-3:0:2:0': 173, '1-3:0:2:1': 174, '1-3:1:0:0': 175, '1-3:1:0:1': 176, '1-3:1:1:0': 177, '1-3:1:1:1': 178, '1-3:1:2:0': 179, '1-3:1:2:1': 180, '1-4:0:0:0': 181, '1-4:0:0:1': 182, '1-4:0:1:0': 183, '1-4:0:1:1': 184, '1-4:0:2:0': 185, '1-4:0:2:1': 186, '1-4:1:0:0': 187, '1-4:1:0:1': 188, '1-4:1:1:0': 189, '1-4:1:1:1': 190, '1-4:1:2:0': 191, '1-4:1:2:1': 192, '1-5:0:0:0': 193, '1-5:0:0:1': 194, '1-5:0:1:0': 195, '1-5:0:1:1': 196, '1-5:0:2:0': 197, '1-5:0:2:1': 198, '1-5:1:0:0': 199, '1-5:1:0:1': 200, '1-5:1:1:0': 201, '1-5:1:1:1': 202, '1-5:1:2:0': 203, '1-5:1:2:1': 204, '1-6:0:0:0': 205, '1-6:0:0:1': 206, '1-6:0:1:0': 207, '1-6:0:1:1': 208, '1-6:0:2:0': 209, '1-6:0:2:1': 210, '1-6:1:0:0': 211, '1-6:1:0:1': 212, '1-6:1:1:0': 213, '1-6:1:1:1': 214, '1-6:1:2:0': 215, '1-6:1:2:1': 216, '1-7:0:0:0': 217, '1-7:0:0:1': 218, '1-7:0:1:0': 219, '1-7:0:1:1': 220, '1-7:0:2:0': 221, '1-7:0:2:1': 222, '1-7:1:0:0': 223, '1-7:1:0:1': 224, '1-7:1:1:0': 225, '1-7:1:1:1': 226, '1-7:1:2:0': 227, '1-7:1:2:1': 228, '1-8:0:0:0': 229, '1-8:0:0:1': 230, '1-8:0:1:0': 231, '1-8:0:1:1': 232, '1-8:0:2:0': 233, '1-8:0:2:1': 234, '1-8:1:0:0': 235, '1-8:1:0:1': 236, '1-8:1:1:0': 237, '1-8:1:1:1': 238, '1-8:1:2:0': 239, '1-8:1:2:1': 240, '1-9:0:0:0': 241, '1-9:0:0:1': 242, '1-9:0:1:0': 243, '1-9:0:1:1': 244, '1-9:0:2:0': 245, '1-9:0:2:1': 246, '1-9:1:0:0': 247, '1-9:1:0:1': 248, '1-9:1:1:0': 249, '1-9:1:1:1': 250, '1-9:1:2:0': 251, '1-9:1:2:1': 252, '2-0:0:0:0': 253, '2-0:0:0:1': 254, '2-0:0:1:0': 255, '2-0:0:1:1': 256, '2-0:0:2:0': 257, '2-0:0:2:1': 258, '2-0:1:0:0': 259, '2-0:1:0:1': 260, '2-0:1:1:0': 261, '2-0:1:1:1': 262, '2-0:1:2:0': 263, '2-0:1:2:1': 264, '2-1:0:0:0': 265, '2-1:0:0:1': 266, '2-1:0:1:0': 267, '2-1:0:1:1': 268, '2-1:0:2:0': 269, '2-1:0:2:1': 270, '2-1:1:0:0': 271, '2-1:1:0:1': 272, '2-1:1:1:0': 273, '2-1:1:1:1': 274, '2-1:1:2:0': 275, '2-1:1:2:1': 276, '2-2:0:0:0': 277, '2-2:0:0:1': 278, '2-2:0:1:0': 279, '2-2:0:1:1': 280, '2-2:0:2:0': 281, '2-2:0:2:1': 282, '2-2:1:0:0': 283, '2-2:1:0:1': 284, '2-2:1:1:0': 285, '2-2:1:1:1': 286, '2-2:1:2:0': 287, '2-2:1:2:1': 288, '2-3:0:0:0': 289, '2-3:0:0:1': 290, '2-3:0:1:0': 291, '2-3:0:1:1': 292, '2-3:0:2:0': 293, '2-3:0:2:1': 294, '2-3:1:0:0': 295, '2-3:1:0:1': 296, '2-3:1:1:0': 297, '2-3:1:1:1': 298, '2-3:1:2:0': 299, '2-3:1:2:1': 300, '2-4:0:0:0': 301, '2-4:0:0:1': 302, '2-4:0:1:0': 303, '2-4:0:1:1': 304, '2-4:0:2:0': 305, '2-4:0:2:1': 306, '2-4:1:0:0': 307, '2-4:1:0:1': 308, '2-4:1:1:0': 309, '2-4:1:1:1': 310, '2-4:1:2:0': 311, '2-4:1:2:1': 312, '2-5:0:0:0': 313, '2-5:0:0:1': 314, '2-5:0:1:0': 315, '2-5:0:1:1': 316, '2-5:0:2:0': 317, '2-5:0:2:1': 318, '2-5:1:0:0': 319, '2-5:1:0:1': 320, '2-5:1:1:0': 321, '2-5:1:1:1': 322, '2-5:1:2:0': 323, '2-5:1:2:1': 324, '2-6:0:0:0': 325, '2-6:0:0:1': 326, '2-6:0:1:0': 327, '2-6:0:1:1': 328, '2-6:0:2:0': 329, '2-6:0:2:1': 330, '2-6:1:0:0': 331, '2-6:1:0:1': 332, '2-6:1:1:0': 333, '2-6:1:1:1': 334, '2-6:1:2:0': 335, '2-6:1:2:1': 336, '2-7:0:0:0': 337, '2-7:0:0:1': 338, '2-7:0:1:0': 339, '2-7:0:1:1': 340, '2-7:0:2:0': 341, '2-7:0:2:1': 342, '2-7:1:0:0': 343, '2-7:1:0:1': 344, '2-7:1:1:0': 345, '2-7:1:1:1': 346, '2-7:1:2:0': 347, '2-7:1:2:1': 348, '2-8:0:0:0': 349, '2-8:0:0:1': 350, '2-8:0:1:0': 351, '2-8:0:1:1': 352, '2-8:0:2:0': 353, '2-8:0:2:1': 354, '2-8:1:0:0': 355, '2-8:1:0:1': 356, '2-8:1:1:0': 357, '2-8:1:1:1': 358, '2-8:1:2:0': 359, '2-8:1:2:1': 360, '3-0:0:0:0': 361, '3-0:0:0:1': 362, '3-0:0:1:0': 363, '3-0:0:1:1': 364, '3-0:0:2:0': 365, '3-0:0:2:1': 366, '3-0:1:0:0': 367, '3-0:1:0:1': 368, '3-0:1:1:0': 369, '3-0:1:1:1': 370, '3-0:1:2:0': 371, '3-0:1:2:1': 372, '3-1:0:0:0': 373, '3-1:0:0:1': 374, '3-1:0:1:0': 375, '3-1:0:1:1': 376, '3-1:0:2:0': 377, '3-1:0:2:1': 378, '3-1:1:0:0': 379, '3-1:1:0:1': 380, '3-1:1:1:0': 381, '3-1:1:1:1': 382, '3-1:1:2:0': 383, '3-1:1:2:1': 384, '3-2:0:0:0': 385, '3-2:0:0:1': 386, '3-2:0:1:0': 387, '3-2:0:1:1': 388, '3-2:0:2:0': 389, '3-2:0:2:1': 390, '3-2:1:0:0': 391, '3-2:1:0:1': 392, '3-2:1:1:0': 393, '3-2:1:1:1': 394, '3-2:1:2:0': 395, '3-2:1:2:1': 396, '3-3:0:0:0': 397, '3-3:0:0:1': 398, '3-3:0:1:0': 399, '3-3:0:1:1': 400, '3-3:0:2:0': 401, '3-3:0:2:1': 402, '3-3:1:0:0': 403, '3-3:1:0:1': 404, '3-3:1:1:0': 405, '3-3:1:1:1': 406, '3-3:1:2:0': 407, '3-3:1:2:1': 408, '3-4:0:0:0': 409, '3-4:0:0:1': 410, '3-4:0:1:0': 411, '3-4:0:1:1': 412, '3-4:0:2:0': 413, '3-4:0:2:1': 414, '3-4:1:0:0': 415, '3-4:1:0:1': 416, '3-4:1:1:0': 417, '3-4:1:1:1': 418, '3-4:1:2:0': 419, '3-4:1:2:1': 420, '3-5:0:0:0': 421, '3-5:0:0:1': 422, '3-5:0:1:0': 423, '3-5:0:1:1': 424, '3-5:0:2:0': 425, '3-5:0:2:1': 426, '3-5:1:0:0': 427, '3-5:1:0:1': 428, '3-5:1:1:0': 429, '3-5:1:1:1': 430, '3-5:1:2:0': 431, '3-5:1:2:1': 432, '3-6:0:0:0': 433, '3-6:0:0:1': 434, '3-6:0:1:0': 435, '3-6:0:1:1': 436, '3-6:0:2:0': 437, '3-6:0:2:1': 438, '3-6:1:0:0': 439, '3-6:1:0:1': 440, '3-6:1:1:0': 441, '3-6:1:1:1': 442, '3-6:1:2:0': 443, '3-6:1:2:1': 444, '3-7:0:0:0': 445, '3-7:0:0:1': 446, '3-7:0:1:0': 447, '3-7:0:1:1': 448, '3-7:0:2:0': 449, '3-7:0:2:1': 450, '3-7:1:0:0': 451, '3-7:1:0:1': 452, '3-7:1:1:0': 453, '3-7:1:1:1': 454, '3-7:1:2:0': 455, '3-7:1:2:1': 456, '4-0:0:0:0': 457, '4-0:0:0:1': 458, '4-0:0:1:0': 459, '4-0:0:1:1': 460, '4-0:0:2:0': 461, '4-0:0:2:1': 462, '4-0:1:0:0': 463, '4-0:1:0:1': 464, '4-0:1:1:0': 465, '4-0:1:1:1': 466, '4-0:1:2:0': 467, '4-0:1:2:1': 468, '4-1:0:0:0': 469, '4-1:0:0:1': 470, '4-1:0:1:0': 471, '4-1:0:1:1': 472, '4-1:0:2:0': 473, '4-1:0:2:1': 474, '4-1:1:0:0': 475, '4-1:1:0:1': 476, '4-1:1:1:0': 477, '4-1:1:1:1': 478, '4-1:1:2:0': 479, '4-1:1:2:1': 480, '4-2:0:0:0': 481, '4-2:0:0:1': 482, '4-2:0:1:0': 483, '4-2:0:1:1': 484, '4-2:0:2:0': 485, '4-2:0:2:1': 486, '4-2:1:0:0': 487, '4-2:1:0:1': 488, '4-2:1:1:0': 489, '4-2:1:1:1': 490, '4-2:1:2:0': 491, '4-2:1:2:1': 492, '4-3:0:0:0': 493, '4-3:0:0:1': 494, '4-3:0:1:0': 495, '4-3:0:1:1': 496, '4-3:0:2:0': 497, '4-3:0:2:1': 498, '4-3:1:0:0': 499, '4-3:1:0:1': 500, '4-3:1:1:0': 501, '4-3:1:1:1': 502, '4-3:1:2:0': 503, '4-3:1:2:1': 504, '4-4:0:0:0': 505, '4-4:0:0:1': 506, '4-4:0:1:0': 507, '4-4:0:1:1': 508, '4-4:0:2:0': 509, '4-4:0:2:1': 510, '4-4:1:0:0': 511, '4-4:1:0:1': 512, '4-4:1:1:0': 513, '4-4:1:1:1': 514, '4-4:1:2:0': 515, '4-4:1:2:1': 516, '4-5:0:0:0': 517, '4-5:0:0:1': 518, '4-5:0:1:0': 519, '4-5:0:1:1': 520, '4-5:0:2:0': 521, '4-5:0:2:1': 522, '4-5:1:0:0': 523, '4-5:1:0:1': 524, '4-5:1:1:0': 525, '4-5:1:1:1': 526, '4-5:1:2:0': 527, '4-5:1:2:1': 528, '4-6:0:0:0': 529, '4-6:0:0:1': 530, '4-6:0:1:0': 531, '4-6:0:1:1': 532, '4-6:0:2:0': 533, '4-6:0:2:1': 534, '4-6:1:0:0': 535, '4-6:1:0:1': 536, '4-6:1:1:0': 537, '4-6:1:1:1': 538, '4-6:1:2:0': 539, '4-6:1:2:1': 540, '5-0:0:0:0': 541, '5-0:0:0:1': 542, '5-0:0:1:0': 543, '5-0:0:1:1': 544, '5-0:0:2:0': 545, '5-0:0:2:1': 546, '5-0:1:0:0': 547, '5-0:1:0:1': 548, '5-0:1:1:0': 549, '5-0:1:1:1': 550, '5-0:1:2:0': 551, '5-0:1:2:1': 552, '5-1:0:0:0': 553, '5-1:0:0:1': 554, '5-1:0:1:0': 555, '5-1:0:1:1': 556, '5-1:0:2:0': 557, '5-1:0:2:1': 558, '5-1:1:0:0': 559, '5-1:1:0:1': 560, '5-1:1:1:0': 561, '5-1:1:1:1': 562, '5-1:1:2:0': 563, '5-1:1:2:1': 564, '5-2:0:0:0': 565, '5-2:0:0:1': 566, '5-2:0:1:0': 567, '5-2:0:1:1': 568, '5-2:0:2:0': 569, '5-2:0:2:1': 570, '5-2:1:0:0': 571, '5-2:1:0:1': 572, '5-2:1:1:0': 573, '5-2:1:1:1': 574, '5-2:1:2:0': 575, '5-2:1:2:1': 576, '5-3:0:0:0': 577, '5-3:0:0:1': 578, '5-3:0:1:0': 579, '5-3:0:1:1': 580, '5-3:0:2:0': 581, '5-3:0:2:1': 582, '5-3:1:0:0': 583, '5-3:1:0:1': 584, '5-3:1:1:0': 585, '5-3:1:1:1': 586, '5-3:1:2:0': 587, '5-3:1:2:1': 588, '5-4:0:0:0': 589, '5-4:0:0:1': 590, '5-4:0:1:0': 591, '5-4:0:1:1': 592, '5-4:0:2:0': 593, '5-4:0:2:1': 594, '5-4:1:0:0': 595, '5-4:1:0:1': 596, '5-4:1:1:0': 597, '5-4:1:1:1': 598, '5-4:1:2:0': 599, '5-4:1:2:1': 600, '5-5:0:0:0': 601, '5-5:0:0:1': 602, '5-5:0:1:0': 603, '5-5:0:1:1': 604, '5-5:0:2:0': 605, '5-5:0:2:1': 606, '5-5:1:0:0': 607, '5-5:1:0:1': 608, '5-5:1:1:0': 609, '5-5:1:1:1': 610, '5-5:1:2:0': 611, '5-5:1:2:1': 612, '6-0:0:0:0': 613, '6-0:0:0:1': 614, '6-0:0:1:0': 615, '6-0:0:1:1': 616, '6-0:0:2:0': 617, '6-0:0:2:1': 618, '6-0:1:0:0': 619, '6-0:1:0:1': 620, '6-0:1:1:0': 621, '6-0:1:1:1': 622, '6-0:1:2:0': 623, '6-0:1:2:1': 624, '6-1:0:0:0': 625, '6-1:0:0:1': 626, '6-1:0:1:0': 627, '6-1:0:1:1': 628, '6-1:0:2:0': 629, '6-1:0:2:1': 630, '6-1:1:0:0': 631, '6-1:1:0:1': 632, '6-1:1:1:0': 633, '6-1:1:1:1': 634, '6-1:1:2:0': 635, '6-1:1:2:1': 636, '6-2:0:0:0': 637, '6-2:0:0:1': 638, '6-2:0:1:0': 639, '6-2:0:1:1': 640, '6-2:0:2:0': 641, '6-2:0:2:1': 642, '6-2:1:0:0': 643, '6-2:1:0:1': 644, '6-2:1:1:0': 645, '6-2:1:1:1': 646, '6-2:1:2:0': 647, '6-2:1:2:1': 648, '6-3:0:0:0': 649, '6-3:0:0:1': 650, '6-3:0:1:0': 651, '6-3:0:1:1': 652, '6-3:0:2:0': 653, '6-3:0:2:1': 654, '6-3:1:0:0': 655, '6-3:1:0:1': 656, '6-3:1:1:0': 657, '6-3:1:1:1': 658, '6-3:1:2:0': 659, '6-3:1:2:1': 660, '6-4:0:0:0': 661, '6-4:0:0:1': 662, '6-4:0:1:0': 663, '6-4:0:1:1': 664, '6-4:0:2:0': 665, '6-4:0:2:1': 666, '6-4:1:0:0': 667, '6-4:1:0:1': 668, '6-4:1:1:0': 669, '6-4:1:1:1': 670, '6-4:1:2:0': 671, '6-4:1:2:1': 672, '7-0:0:0:0': 673, '7-0:0:0:1': 674, '7-0:0:1:0': 675, '7-0:0:1:1': 676, '7-0:0:2:0': 677, '7-0:0:2:1': 678, '7-0:1:0:0': 679, '7-0:1:0:1': 680, '7-0:1:1:0': 681, '7-0:1:1:1': 682, '7-0:1:2:0': 683, '7-0:1:2:1': 684, '7-1:0:0:0': 685, '7-1:0:0:1': 686, '7-1:0:1:0': 687, '7-1:0:1:1': 688, '7-1:0:2:0': 689, '7-1:0:2:1': 690, '7-1:1:0:0': 691, '7-1:1:0:1': 692, '7-1:1:1:0': 693, '7-1:1:1:1': 694, '7-1:1:2:0': 695, '7-1:1:2:1': 696, '7-2:0:0:0': 697, '7-2:0:0:1': 698, '7-2:0:1:0': 699, '7-2:0:1:1': 700, '7-2:0:2:0': 701, '7-2:0:2:1': 702, '7-2:1:0:0': 703, '7-2:1:0:1': 704, '7-2:1:1:0': 705, '7-2:1:1:1': 706, '7-2:1:2:0': 707, '7-2:1:2:1': 708, '7-3:0:0:0': 709, '7-3:0:0:1': 710, '7-3:0:1:0': 711, '7-3:0:1:1': 712, '7-3:0:2:0': 713, '7-3:0:2:1': 714, '7-3:1:0:0': 715, '7-3:1:0:1': 716, '7-3:1:1:0': 717, '7-3:1:1:1': 718, '7-3:1:2:0': 719, '7-3:1:2:1': 720, '8-0:0:0:0': 721, '8-0:0:0:1': 722, '8-0:0:1:0': 723, '8-0:0:1:1': 724, '8-0:0:2:0': 725, '8-0:0:2:1': 726, '8-0:1:0:0': 727, '8-0:1:0:1': 728, '8-0:1:1:0': 729, '8-0:1:1:1': 730, '8-0:1:2:0': 731, '8-0:1:2:1': 732, '8-1:0:0:0': 733, '8-1:0:0:1': 734, '8-1:0:1:0': 735, '8-1:0:1:1': 736, '8-1:0:2:0': 737, '8-1:0:2:1': 738, '8-1:1:0:0': 739, '8-1:1:0:1': 740, '8-1:1:1:0': 741, '8-1:1:1:1': 742, '8-1:1:2:0': 743, '8-1:1:2:1': 744, '8-2:0:0:0': 745, '8-2:0:0:1': 746, '8-2:0:1:0': 747, '8-2:0:1:1': 748, '8-2:0:2:0': 749, '8-2:0:2:1': 750, '8-2:1:0:0': 751, '8-2:1:0:1': 752, '8-2:1:1:0': 753, '8-2:1:1:1': 754, '8-2:1:2:0': 755, '8-2:1:2:1': 756, '9-0:0:0:0': 757, '9-0:0:0:1': 758, '9-0:0:1:0': 759, '9-0:0:1:1': 760, '9-0:0:2:0': 761, '9-0:0:2:1': 762, '9-0:1:0:0': 763, '9-0:1:0:1': 764, '9-0:1:1:0': 765, '9-0:1:1:1': 766, '9-0:1:2:0': 767, '9-0:1:2:1': 768, '9-1:0:0:0': 769, '9-1:0:0:1': 770, '9-1:0:1:0': 771, '9-1:0:1:1': 772, '9-1:0:2:0': 773, '9-1:0:2:1': 774, '9-1:1:0:0': 775, '9-1:1:0:1': 776, '9-1:1:1:0': 777, '9-1:1:1:1': 778, '9-1:1:2:0': 779, '9-1:1:2:1': 780, '10-0:0:0:0': 781, '10-0:0:0:1': 782, '10-0:0:1:0': 783, '10-0:0:1:1': 784, '10-0:0:2:0': 785, '10-0:0:2:1': 786, '10-0:1:0:0': 787, '10-0:1:0:1': 788, '10-0:1:1:0': 789, '10-0:1:1:1': 790, '10-0:1:2:0': 791, '10-0:1:2:1': 792}\n",
            "792\n",
            "none_idx:  0\n"
          ]
        }
      ]
    },
    {
      "cell_type": "code",
      "source": [
        "input_list = []\n",
        "for info in tqdm(data_df['score_adj'], total = len(data_df)):\n",
        "    cat_key = info + ':' + '0'\n",
        "    input_list.append(cat_key)\n",
        "data_df['home_idx'] = input_list"
      ],
      "metadata": {
        "colab": {
          "base_uri": "https://localhost:8080/"
        },
        "id": "-LjwGY_mqbwm",
        "outputId": "39fca3b6-1812-4d25-e4d0-c4aeab70e5eb"
      },
      "execution_count": null,
      "outputs": [
        {
          "output_type": "stream",
          "name": "stderr",
          "text": [
            "100%|██████████| 2682527/2682527 [00:01<00:00, 1445353.45it/s]\n"
          ]
        }
      ]
    },
    {
      "cell_type": "code",
      "source": [
        "input_list = []\n",
        "for info in tqdm(data_df['score_adj'], total = len(data_df)):\n",
        "    cat_key = info + ':' + '1'\n",
        "    input_list.append(cat_key)\n",
        "data_df['away_idx'] = input_list"
      ],
      "metadata": {
        "colab": {
          "base_uri": "https://localhost:8080/"
        },
        "id": "wNTHo-ptrNJm",
        "outputId": "06a85d89-689d-43af-fe7f-5d6ede7ca736"
      },
      "execution_count": null,
      "outputs": [
        {
          "output_type": "stream",
          "name": "stderr",
          "text": [
            "100%|██████████| 2682527/2682527 [00:01<00:00, 1411118.92it/s]\n"
          ]
        }
      ]
    },
    {
      "cell_type": "code",
      "source": [
        "for info in tqdm(zip(data_df.HomeId, data_df.AwayId, data_df.Id, data_df.home_idx, data_df.away_idx), total = len(data_df)):\n",
        "    homeID = info[0]\n",
        "    awayID = info[1]\n",
        "    matchID = info[2]\n",
        "    homeIDX = info[3]\n",
        "    awayIDX = info[4]\n",
        "    team_GId_dict[homeID][matchID] += [homeIDX]\n",
        "    team_GId_dict[awayID][matchID] += [awayIDX]"
      ],
      "metadata": {
        "colab": {
          "base_uri": "https://localhost:8080/"
        },
        "id": "1syqhEojRE7p",
        "outputId": "e1f33046-e6bf-422e-9241-c6d479ba6958"
      },
      "execution_count": null,
      "outputs": [
        {
          "output_type": "stream",
          "name": "stderr",
          "text": [
            "100%|██████████| 2682527/2682527 [00:12<00:00, 221125.18it/s]\n"
          ]
        }
      ]
    },
    {
      "cell_type": "markdown",
      "source": [
        "#### Шифтуем токен на один уровень вверх"
      ],
      "metadata": {
        "id": "p4muITJ8j14-"
      }
    },
    {
      "cell_type": "code",
      "source": [
        "input_list = []\n",
        "for gid, haid, rest in tqdm(\n",
        "    zip(data_df.Id.values, data_df.HomeId, data_df.team_rest_home_adj),\n",
        "    total = len(data_df)):\n",
        "    prev_id = team_GId_dict[haid][gid][0]\n",
        "    if prev_id == -1:\n",
        "        input_list.append(none_idx)\n",
        "    else:\n",
        "        key = team_GId_dict[haid][prev_id][2] + ':' + \\\n",
        "        str(rest) + ':' + '0'\n",
        "        input_list.append(match_cat_dict[key])\n",
        "data_df['home_token'] = input_list"
      ],
      "metadata": {
        "colab": {
          "base_uri": "https://localhost:8080/"
        },
        "id": "TgaY7qqVFMnZ",
        "outputId": "6c5861e3-ff02-4748-b391-9ddbebb0d384"
      },
      "execution_count": null,
      "outputs": [
        {
          "output_type": "stream",
          "name": "stderr",
          "text": [
            "100%|██████████| 2682527/2682527 [00:10<00:00, 259709.63it/s]\n"
          ]
        }
      ]
    },
    {
      "cell_type": "code",
      "source": [
        "input_list = []\n",
        "for gid, haid, rest in tqdm(\n",
        "    zip(data_df.Id.values, data_df.AwayId, data_df.team_rest_away_adj),\n",
        "    total = len(data_df)):\n",
        "    prev_id = team_GId_dict[haid][gid][0]\n",
        "    if prev_id == -1:\n",
        "        input_list.append(none_idx)\n",
        "    else:\n",
        "        key = team_GId_dict[haid][prev_id][2] + ':' + \\\n",
        "        str(rest) + ':' + '1' \n",
        "        input_list.append(match_cat_dict[key])\n",
        "data_df['away_token'] = input_list"
      ],
      "metadata": {
        "colab": {
          "base_uri": "https://localhost:8080/"
        },
        "id": "pAeNg4hKUpkn",
        "outputId": "47aaa2bd-ef50-4176-fba1-d4cdddf0a69e"
      },
      "execution_count": null,
      "outputs": [
        {
          "output_type": "stream",
          "name": "stderr",
          "text": [
            "100%|██████████| 2682527/2682527 [00:10<00:00, 258148.34it/s]\n"
          ]
        }
      ]
    },
    {
      "cell_type": "code",
      "source": [
        "#node_df_columns = ['id'] + [str(x) for x in range(none_idx + 1)]\n",
        "#node_df = pd.DataFrame(columns = node_df_columns)"
      ],
      "metadata": {
        "id": "N-7T-2xRVqSx"
      },
      "execution_count": null,
      "outputs": []
    },
    {
      "cell_type": "markdown",
      "source": [
        "####Создаем файлы вершин, рёбер и конверсий"
      ],
      "metadata": {
        "id": "DhrF5O77kVPx"
      }
    },
    {
      "cell_type": "code",
      "source": [
        "id_dict = {}\n",
        "#cnt = len(data_df) - 1 #обратный порядок\n",
        "cnt = 0\n",
        "for id, hid, aid, ts in tqdm(zip(\n",
        "    data_df['Id'].values, \n",
        "    data_df['HomeId'].values, \n",
        "    data_df['AwayId'].values,\n",
        "    data_df['timestamp'].values\n",
        "                                ), total = len(data_df)):\n",
        "    hidx = str(hid) + '_' + id\n",
        "    aidx = str(aid) + '_' + id\n",
        "    id_dict[hidx] = [cnt * 2, ts]\n",
        "    id_dict[aidx] = [cnt * 2 + 1, ts]\n",
        "    #cnt -= 1 #обратный порядок\n",
        "    cnt +=1"
      ],
      "metadata": {
        "colab": {
          "base_uri": "https://localhost:8080/"
        },
        "id": "mWEGG92YL8TR",
        "outputId": "3510487e-d1ce-4116-8eca-832adb81a8e4"
      },
      "execution_count": null,
      "outputs": [
        {
          "output_type": "stream",
          "name": "stderr",
          "text": [
            "100%|██████████| 2682527/2682527 [00:19<00:00, 137893.44it/s]\n"
          ]
        }
      ]
    },
    {
      "cell_type": "code",
      "source": [
        "edges_df = pd.DataFrame(columns = ['source', 'target'])"
      ],
      "metadata": {
        "id": "T-hLhcgbrowZ"
      },
      "execution_count": null,
      "outputs": []
    },
    {
      "cell_type": "code",
      "source": [
        "#обратный порядок\n",
        "#edges_df['source'] = [edge * 2 for edge in range(len(data_df) - 1, -1, -1)] #data_df['HomeId'].astype(str) + '_' + data_df['Id']\n",
        "#edges_df['target'] = [edge * 2 + 1 for edge in range(len(data_df) - 1, -1, -1)] #data_df['AwayId'].astype(str) + '_' + data_df['Id']\n",
        "#прямой порядок\n",
        "edges_df['source'] = [edge * 2 for edge in range(len(data_df))]\n",
        "edges_df['target'] = [edge * 2 + 1 for edge in range(len(data_df))]"
      ],
      "metadata": {
        "id": "w83HDVKi7vWj"
      },
      "execution_count": null,
      "outputs": []
    },
    {
      "cell_type": "code",
      "source": [
        "match_conection_list = []\n",
        "for team, team_dict in tqdm(team_GId_dict.items(), total = len(team_GId_dict)):\n",
        "    #print(team)\n",
        "    #print(team_dict)\n",
        "    last_index = team_dict['last_index']\n",
        "    cnt = 0\n",
        "    while team_dict[last_index][0] != -1:\n",
        "        #print(str(team) + '_' + team_dict[last_index][0] + '_:_' +  str(team) + '_' + last_index)\n",
        "        source_team = str(team) + '_' + team_dict[last_index][0]\n",
        "        target_team = str(team) + '_' + last_index\n",
        "        source_team_idx = id_dict[source_team][0]\n",
        "        target_team_idx = id_dict[target_team][0]\n",
        "        match_conection_list.append([source_team_idx, target_team_idx])\n",
        "        #match_conection_list.append([target_team_idx, source_team_idx])\n",
        "        last_index = team_dict[last_index][0]\n",
        "        cnt +=1\n",
        "        if cnt > 1_100:\n",
        "            print('Cycled_graph')\n",
        "            print('Team: ', team)"
      ],
      "metadata": {
        "colab": {
          "base_uri": "https://localhost:8080/"
        },
        "id": "CMK_2G1hE8zg",
        "outputId": "103548c8-5cdd-4f28-dc10-ab2d86140b1d"
      },
      "execution_count": null,
      "outputs": [
        {
          "output_type": "stream",
          "name": "stderr",
          "text": [
            "100%|██████████| 49761/49761 [00:27<00:00, 1801.24it/s] \n"
          ]
        }
      ]
    },
    {
      "cell_type": "code",
      "source": [
        "pd.concat([\n",
        "    edges_df, \n",
        "    pd.DataFrame(np.flip(edges_df.values, axis = 1), columns = ['source', 'target']),\n",
        "    pd.DataFrame(match_conection_list, columns = ['source', 'target'])\n",
        "    ]).to_csv('edges.csv.gz', index = False, compression ={'method':'gzip'})"
      ],
      "metadata": {
        "id": "BYuDyIUODvTe"
      },
      "execution_count": null,
      "outputs": []
    },
    {
      "cell_type": "code",
      "source": [
        "data_df['binary_output'] = 0\n",
        "data_df['binary_output'][data_df['Winner'] == 'H'] = 1\n",
        "data_df['class_H'] = 0\n",
        "data_df['class_D'] = 0\n",
        "data_df['class_A'] = 0\n",
        "data_df['class_H'][data_df['Winner'] == 'H'] = 1\n",
        "data_df['class_D'][data_df['Winner'] == 'D'] = 1\n",
        "data_df['class_A'][data_df['Winner'] == 'A'] = 1"
      ],
      "metadata": {
        "id": "fyywndi9wxLj",
        "colab": {
          "base_uri": "https://localhost:8080/"
        },
        "outputId": "4ab794be-9ea5-4726-fce9-98352d1dda71"
      },
      "execution_count": null,
      "outputs": [
        {
          "output_type": "stream",
          "name": "stderr",
          "text": [
            "/usr/local/lib/python3.7/dist-packages/ipykernel_launcher.py:2: SettingWithCopyWarning: \n",
            "A value is trying to be set on a copy of a slice from a DataFrame\n",
            "\n",
            "See the caveats in the documentation: https://pandas.pydata.org/pandas-docs/stable/user_guide/indexing.html#returning-a-view-versus-a-copy\n",
            "  \n",
            "/usr/local/lib/python3.7/dist-packages/ipykernel_launcher.py:6: SettingWithCopyWarning: \n",
            "A value is trying to be set on a copy of a slice from a DataFrame\n",
            "\n",
            "See the caveats in the documentation: https://pandas.pydata.org/pandas-docs/stable/user_guide/indexing.html#returning-a-view-versus-a-copy\n",
            "  \n",
            "/usr/local/lib/python3.7/dist-packages/ipykernel_launcher.py:7: SettingWithCopyWarning: \n",
            "A value is trying to be set on a copy of a slice from a DataFrame\n",
            "\n",
            "See the caveats in the documentation: https://pandas.pydata.org/pandas-docs/stable/user_guide/indexing.html#returning-a-view-versus-a-copy\n",
            "  import sys\n",
            "/usr/local/lib/python3.7/dist-packages/ipykernel_launcher.py:8: SettingWithCopyWarning: \n",
            "A value is trying to be set on a copy of a slice from a DataFrame\n",
            "\n",
            "See the caveats in the documentation: https://pandas.pydata.org/pandas-docs/stable/user_guide/indexing.html#returning-a-view-versus-a-copy\n",
            "  \n"
          ]
        }
      ]
    },
    {
      "cell_type": "code",
      "source": [
        "data_df"
      ],
      "metadata": {
        "colab": {
          "base_uri": "https://localhost:8080/",
          "height": 782
        },
        "id": "-9z05UbwxJB7",
        "outputId": "9c2e5593-3adc-4856-fa1a-1970a1d6633c"
      },
      "execution_count": null,
      "outputs": [
        {
          "output_type": "execute_result",
          "data": {
            "text/plain": [
              "                                Id                      Home  \\\n",
              "0        2rxecbv07olakwt1zbh52dihh                Al Zawra'a   \n",
              "1        4l0rplzz4qo3zinjb6umuetw5                Bnot Tivon   \n",
              "2        4kr1zx14kau8doo5fgkh2dc5x  Maccabi Kishronot Hadera   \n",
              "3        4kiofd3uilp1k12wrmblq2o5x      Hapoel Rishon LeZion   \n",
              "4        4k9mtsryqbsxeydo4h5sm97md    Maccabi Be'er Sheva Li   \n",
              "...                            ...                       ...   \n",
              "2682522  9llqpuftwy5k4f20kwi7v2cd0        Zabbar St. Patrick   \n",
              "2682523  5rfb10yome9157s22g4cax2qc                 FAR Rabat   \n",
              "2682524   rmc4gmil9oi8fn8cvh5f8vtg              CDC Manicoré   \n",
              "2682525  bfc93t0bmbrpxsan16rjzitqs                    Chaves   \n",
              "2682526  3fmmcgjiymodqyymxevutxjis      Deportivo Binacional   \n",
              "\n",
              "                         Away                           League   Country Type  \\\n",
              "0                   Al Sinaah              iraq - iraqi league      iraq  NaN   \n",
              "1         Hapoel Petach Tikva          israel - ligat al women    israel    w   \n",
              "2                ASA Tel Aviv          israel - ligat al women    israel    w   \n",
              "3        Ironi Ramat HaSharon          israel - ligat al women    israel    w   \n",
              "4                Bnot Sakhnin          israel - ligat al women    israel    w   \n",
              "...                       ...                              ...       ...  ...   \n",
              "2682522               Kalkara  malta - national amateur league     malta  NaN   \n",
              "2682523           RSB Berkane             morocco - botola pro   morocco  NaN   \n",
              "2682524   Atlético Amazonense        brazil - amazonense women    brazil    w   \n",
              "2682525               Rio Ave         portugal - primeira liga  portugal  NaN   \n",
              "2682526      Alianza Atlético          peru - primera división      peru  NaN   \n",
              "\n",
              "        Result1 Result2 Periods  HomeId  AwayId LeagueId     Season  \\\n",
              "0             1       0     NaN    3848    8382    r5750  2007-2008   \n",
              "1             0       0     NaN   10064   10063    r5721  2007-2008   \n",
              "2             0       3     NaN   10065   10059    r5721  2007-2008   \n",
              "3             0       5     NaN   10061   23303    r5721  2007-2008   \n",
              "4             4       0     NaN   10060   10057    r5721  2007-2008   \n",
              "...         ...     ...     ...     ...     ...      ...        ...   \n",
              "2682522       1       0     NaN    3056   22648   r68592   20222023   \n",
              "2682523       1       1     NaN    3463    7512   r71423   20222023   \n",
              "2682524       2       2     NaN   57046   59567   r67381       2022   \n",
              "2682525       1       1     NaN    1704    1683   r69322   20222023   \n",
              "2682526       2       0     NaN   23494    1632   r66955       2022   \n",
              "\n",
              "                  Round   timestamp        date sum_score  sum_score_k  \\\n",
              "0           group-stage  1199152800  01.01.2008         1          1.0   \n",
              "1        regular-season  1199152800  01.01.2008         0          1.0   \n",
              "2        regular-season  1199152800  01.01.2008         3          1.0   \n",
              "3        regular-season  1199152800  01.01.2008         5          1.0   \n",
              "4        regular-season  1199152800  01.01.2008         4          1.0   \n",
              "...                 ...         ...         ...       ...          ...   \n",
              "2682522  regular-season  1662416100  05.09.2022         1          1.0   \n",
              "2682523  regular-season  1662417000  05.09.2022         2          1.0   \n",
              "2682524       1st-phase  1662418800  05.09.2022         4          1.0   \n",
              "2682525  regular-season  1662419700  05.09.2022         2          1.0   \n",
              "2682526        clausura  1662420600  05.09.2022         2          1.0   \n",
              "\n",
              "         home_score_adj  away_score_adj score_adj Winner  team_rest_home  \\\n",
              "0                     1               0       1-0      H          604800   \n",
              "1                     0               0       0-0      D          604800   \n",
              "2                     0               3       0-3      A          604800   \n",
              "3                     0               5       0-5      A          604800   \n",
              "4                     4               0       4-0      H          604800   \n",
              "...                 ...             ...       ...    ...             ...   \n",
              "2682522               1               0       1-0      H          787500   \n",
              "2682523               1               1       1-1      D          263700   \n",
              "2682524               2               2       2-2      D          781200   \n",
              "2682525               1               1       1-1      D          780300   \n",
              "2682526               2               0       2-0      H          700200   \n",
              "\n",
              "         team_rest_away  team_rest_home_adj  team_rest_away_adj home_idx  \\\n",
              "0                604800                   1                   1    1-0:0   \n",
              "1                604800                   1                   1    0-0:0   \n",
              "2                604800                   1                   1    0-3:0   \n",
              "3                604800                   1                   1    0-5:0   \n",
              "4                604800                   1                   1    4-0:0   \n",
              "...                 ...                 ...                 ...      ...   \n",
              "2682522          778500                   1                   1    1-0:0   \n",
              "2682523          345600                   0                   0    1-1:0   \n",
              "2682524          802800                   1                   1    2-2:0   \n",
              "2682525          693900                   1                   1    1-1:0   \n",
              "2682526          707400                   1                   1    2-0:0   \n",
              "\n",
              "        away_idx  home_token  away_token  binary_output  class_H  class_D  \\\n",
              "0          1-0:1           0           0              1        1        0   \n",
              "1          0-0:1           0           0              0        0        1   \n",
              "2          0-3:1           0           0              0        0        0   \n",
              "3          0-5:1           0           0              0        0        0   \n",
              "4          4-0:1           0           0              1        1        0   \n",
              "...          ...         ...         ...            ...      ...      ...   \n",
              "2682522    1-0:1          57         256              1        1        0   \n",
              "2682523    1-1:1          19          14              0        0        1   \n",
              "2682524    2-2:1         765          40              0        0        1   \n",
              "2682525    1-1:1          33         376              0        0        1   \n",
              "2682526    2-0:1         381         136              1        1        0   \n",
              "\n",
              "         class_A  \n",
              "0              0  \n",
              "1              0  \n",
              "2              1  \n",
              "3              1  \n",
              "4              0  \n",
              "...          ...  \n",
              "2682522        0  \n",
              "2682523        0  \n",
              "2682524        0  \n",
              "2682525        0  \n",
              "2682526        0  \n",
              "\n",
              "[2682527 rows x 34 columns]"
            ],
            "text/html": [
              "\n",
              "  <div id=\"df-c8bb70aa-ff11-4f43-9724-aa38e5cb0ffc\">\n",
              "    <div class=\"colab-df-container\">\n",
              "      <div>\n",
              "<style scoped>\n",
              "    .dataframe tbody tr th:only-of-type {\n",
              "        vertical-align: middle;\n",
              "    }\n",
              "\n",
              "    .dataframe tbody tr th {\n",
              "        vertical-align: top;\n",
              "    }\n",
              "\n",
              "    .dataframe thead th {\n",
              "        text-align: right;\n",
              "    }\n",
              "</style>\n",
              "<table border=\"1\" class=\"dataframe\">\n",
              "  <thead>\n",
              "    <tr style=\"text-align: right;\">\n",
              "      <th></th>\n",
              "      <th>Id</th>\n",
              "      <th>Home</th>\n",
              "      <th>Away</th>\n",
              "      <th>League</th>\n",
              "      <th>Country</th>\n",
              "      <th>Type</th>\n",
              "      <th>Result1</th>\n",
              "      <th>Result2</th>\n",
              "      <th>Periods</th>\n",
              "      <th>HomeId</th>\n",
              "      <th>AwayId</th>\n",
              "      <th>LeagueId</th>\n",
              "      <th>Season</th>\n",
              "      <th>Round</th>\n",
              "      <th>timestamp</th>\n",
              "      <th>date</th>\n",
              "      <th>sum_score</th>\n",
              "      <th>sum_score_k</th>\n",
              "      <th>home_score_adj</th>\n",
              "      <th>away_score_adj</th>\n",
              "      <th>score_adj</th>\n",
              "      <th>Winner</th>\n",
              "      <th>team_rest_home</th>\n",
              "      <th>team_rest_away</th>\n",
              "      <th>team_rest_home_adj</th>\n",
              "      <th>team_rest_away_adj</th>\n",
              "      <th>home_idx</th>\n",
              "      <th>away_idx</th>\n",
              "      <th>home_token</th>\n",
              "      <th>away_token</th>\n",
              "      <th>binary_output</th>\n",
              "      <th>class_H</th>\n",
              "      <th>class_D</th>\n",
              "      <th>class_A</th>\n",
              "    </tr>\n",
              "  </thead>\n",
              "  <tbody>\n",
              "    <tr>\n",
              "      <th>0</th>\n",
              "      <td>2rxecbv07olakwt1zbh52dihh</td>\n",
              "      <td>Al Zawra'a</td>\n",
              "      <td>Al Sinaah</td>\n",
              "      <td>iraq - iraqi league</td>\n",
              "      <td>iraq</td>\n",
              "      <td>NaN</td>\n",
              "      <td>1</td>\n",
              "      <td>0</td>\n",
              "      <td>NaN</td>\n",
              "      <td>3848</td>\n",
              "      <td>8382</td>\n",
              "      <td>r5750</td>\n",
              "      <td>2007-2008</td>\n",
              "      <td>group-stage</td>\n",
              "      <td>1199152800</td>\n",
              "      <td>01.01.2008</td>\n",
              "      <td>1</td>\n",
              "      <td>1.0</td>\n",
              "      <td>1</td>\n",
              "      <td>0</td>\n",
              "      <td>1-0</td>\n",
              "      <td>H</td>\n",
              "      <td>604800</td>\n",
              "      <td>604800</td>\n",
              "      <td>1</td>\n",
              "      <td>1</td>\n",
              "      <td>1-0:0</td>\n",
              "      <td>1-0:1</td>\n",
              "      <td>0</td>\n",
              "      <td>0</td>\n",
              "      <td>1</td>\n",
              "      <td>1</td>\n",
              "      <td>0</td>\n",
              "      <td>0</td>\n",
              "    </tr>\n",
              "    <tr>\n",
              "      <th>1</th>\n",
              "      <td>4l0rplzz4qo3zinjb6umuetw5</td>\n",
              "      <td>Bnot Tivon</td>\n",
              "      <td>Hapoel Petach Tikva</td>\n",
              "      <td>israel - ligat al women</td>\n",
              "      <td>israel</td>\n",
              "      <td>w</td>\n",
              "      <td>0</td>\n",
              "      <td>0</td>\n",
              "      <td>NaN</td>\n",
              "      <td>10064</td>\n",
              "      <td>10063</td>\n",
              "      <td>r5721</td>\n",
              "      <td>2007-2008</td>\n",
              "      <td>regular-season</td>\n",
              "      <td>1199152800</td>\n",
              "      <td>01.01.2008</td>\n",
              "      <td>0</td>\n",
              "      <td>1.0</td>\n",
              "      <td>0</td>\n",
              "      <td>0</td>\n",
              "      <td>0-0</td>\n",
              "      <td>D</td>\n",
              "      <td>604800</td>\n",
              "      <td>604800</td>\n",
              "      <td>1</td>\n",
              "      <td>1</td>\n",
              "      <td>0-0:0</td>\n",
              "      <td>0-0:1</td>\n",
              "      <td>0</td>\n",
              "      <td>0</td>\n",
              "      <td>0</td>\n",
              "      <td>0</td>\n",
              "      <td>1</td>\n",
              "      <td>0</td>\n",
              "    </tr>\n",
              "    <tr>\n",
              "      <th>2</th>\n",
              "      <td>4kr1zx14kau8doo5fgkh2dc5x</td>\n",
              "      <td>Maccabi Kishronot Hadera</td>\n",
              "      <td>ASA Tel Aviv</td>\n",
              "      <td>israel - ligat al women</td>\n",
              "      <td>israel</td>\n",
              "      <td>w</td>\n",
              "      <td>0</td>\n",
              "      <td>3</td>\n",
              "      <td>NaN</td>\n",
              "      <td>10065</td>\n",
              "      <td>10059</td>\n",
              "      <td>r5721</td>\n",
              "      <td>2007-2008</td>\n",
              "      <td>regular-season</td>\n",
              "      <td>1199152800</td>\n",
              "      <td>01.01.2008</td>\n",
              "      <td>3</td>\n",
              "      <td>1.0</td>\n",
              "      <td>0</td>\n",
              "      <td>3</td>\n",
              "      <td>0-3</td>\n",
              "      <td>A</td>\n",
              "      <td>604800</td>\n",
              "      <td>604800</td>\n",
              "      <td>1</td>\n",
              "      <td>1</td>\n",
              "      <td>0-3:0</td>\n",
              "      <td>0-3:1</td>\n",
              "      <td>0</td>\n",
              "      <td>0</td>\n",
              "      <td>0</td>\n",
              "      <td>0</td>\n",
              "      <td>0</td>\n",
              "      <td>1</td>\n",
              "    </tr>\n",
              "    <tr>\n",
              "      <th>3</th>\n",
              "      <td>4kiofd3uilp1k12wrmblq2o5x</td>\n",
              "      <td>Hapoel Rishon LeZion</td>\n",
              "      <td>Ironi Ramat HaSharon</td>\n",
              "      <td>israel - ligat al women</td>\n",
              "      <td>israel</td>\n",
              "      <td>w</td>\n",
              "      <td>0</td>\n",
              "      <td>5</td>\n",
              "      <td>NaN</td>\n",
              "      <td>10061</td>\n",
              "      <td>23303</td>\n",
              "      <td>r5721</td>\n",
              "      <td>2007-2008</td>\n",
              "      <td>regular-season</td>\n",
              "      <td>1199152800</td>\n",
              "      <td>01.01.2008</td>\n",
              "      <td>5</td>\n",
              "      <td>1.0</td>\n",
              "      <td>0</td>\n",
              "      <td>5</td>\n",
              "      <td>0-5</td>\n",
              "      <td>A</td>\n",
              "      <td>604800</td>\n",
              "      <td>604800</td>\n",
              "      <td>1</td>\n",
              "      <td>1</td>\n",
              "      <td>0-5:0</td>\n",
              "      <td>0-5:1</td>\n",
              "      <td>0</td>\n",
              "      <td>0</td>\n",
              "      <td>0</td>\n",
              "      <td>0</td>\n",
              "      <td>0</td>\n",
              "      <td>1</td>\n",
              "    </tr>\n",
              "    <tr>\n",
              "      <th>4</th>\n",
              "      <td>4k9mtsryqbsxeydo4h5sm97md</td>\n",
              "      <td>Maccabi Be'er Sheva Li</td>\n",
              "      <td>Bnot Sakhnin</td>\n",
              "      <td>israel - ligat al women</td>\n",
              "      <td>israel</td>\n",
              "      <td>w</td>\n",
              "      <td>4</td>\n",
              "      <td>0</td>\n",
              "      <td>NaN</td>\n",
              "      <td>10060</td>\n",
              "      <td>10057</td>\n",
              "      <td>r5721</td>\n",
              "      <td>2007-2008</td>\n",
              "      <td>regular-season</td>\n",
              "      <td>1199152800</td>\n",
              "      <td>01.01.2008</td>\n",
              "      <td>4</td>\n",
              "      <td>1.0</td>\n",
              "      <td>4</td>\n",
              "      <td>0</td>\n",
              "      <td>4-0</td>\n",
              "      <td>H</td>\n",
              "      <td>604800</td>\n",
              "      <td>604800</td>\n",
              "      <td>1</td>\n",
              "      <td>1</td>\n",
              "      <td>4-0:0</td>\n",
              "      <td>4-0:1</td>\n",
              "      <td>0</td>\n",
              "      <td>0</td>\n",
              "      <td>1</td>\n",
              "      <td>1</td>\n",
              "      <td>0</td>\n",
              "      <td>0</td>\n",
              "    </tr>\n",
              "    <tr>\n",
              "      <th>...</th>\n",
              "      <td>...</td>\n",
              "      <td>...</td>\n",
              "      <td>...</td>\n",
              "      <td>...</td>\n",
              "      <td>...</td>\n",
              "      <td>...</td>\n",
              "      <td>...</td>\n",
              "      <td>...</td>\n",
              "      <td>...</td>\n",
              "      <td>...</td>\n",
              "      <td>...</td>\n",
              "      <td>...</td>\n",
              "      <td>...</td>\n",
              "      <td>...</td>\n",
              "      <td>...</td>\n",
              "      <td>...</td>\n",
              "      <td>...</td>\n",
              "      <td>...</td>\n",
              "      <td>...</td>\n",
              "      <td>...</td>\n",
              "      <td>...</td>\n",
              "      <td>...</td>\n",
              "      <td>...</td>\n",
              "      <td>...</td>\n",
              "      <td>...</td>\n",
              "      <td>...</td>\n",
              "      <td>...</td>\n",
              "      <td>...</td>\n",
              "      <td>...</td>\n",
              "      <td>...</td>\n",
              "      <td>...</td>\n",
              "      <td>...</td>\n",
              "      <td>...</td>\n",
              "      <td>...</td>\n",
              "    </tr>\n",
              "    <tr>\n",
              "      <th>2682522</th>\n",
              "      <td>9llqpuftwy5k4f20kwi7v2cd0</td>\n",
              "      <td>Zabbar St. Patrick</td>\n",
              "      <td>Kalkara</td>\n",
              "      <td>malta - national amateur league</td>\n",
              "      <td>malta</td>\n",
              "      <td>NaN</td>\n",
              "      <td>1</td>\n",
              "      <td>0</td>\n",
              "      <td>NaN</td>\n",
              "      <td>3056</td>\n",
              "      <td>22648</td>\n",
              "      <td>r68592</td>\n",
              "      <td>20222023</td>\n",
              "      <td>regular-season</td>\n",
              "      <td>1662416100</td>\n",
              "      <td>05.09.2022</td>\n",
              "      <td>1</td>\n",
              "      <td>1.0</td>\n",
              "      <td>1</td>\n",
              "      <td>0</td>\n",
              "      <td>1-0</td>\n",
              "      <td>H</td>\n",
              "      <td>787500</td>\n",
              "      <td>778500</td>\n",
              "      <td>1</td>\n",
              "      <td>1</td>\n",
              "      <td>1-0:0</td>\n",
              "      <td>1-0:1</td>\n",
              "      <td>57</td>\n",
              "      <td>256</td>\n",
              "      <td>1</td>\n",
              "      <td>1</td>\n",
              "      <td>0</td>\n",
              "      <td>0</td>\n",
              "    </tr>\n",
              "    <tr>\n",
              "      <th>2682523</th>\n",
              "      <td>5rfb10yome9157s22g4cax2qc</td>\n",
              "      <td>FAR Rabat</td>\n",
              "      <td>RSB Berkane</td>\n",
              "      <td>morocco - botola pro</td>\n",
              "      <td>morocco</td>\n",
              "      <td>NaN</td>\n",
              "      <td>1</td>\n",
              "      <td>1</td>\n",
              "      <td>NaN</td>\n",
              "      <td>3463</td>\n",
              "      <td>7512</td>\n",
              "      <td>r71423</td>\n",
              "      <td>20222023</td>\n",
              "      <td>regular-season</td>\n",
              "      <td>1662417000</td>\n",
              "      <td>05.09.2022</td>\n",
              "      <td>2</td>\n",
              "      <td>1.0</td>\n",
              "      <td>1</td>\n",
              "      <td>1</td>\n",
              "      <td>1-1</td>\n",
              "      <td>D</td>\n",
              "      <td>263700</td>\n",
              "      <td>345600</td>\n",
              "      <td>0</td>\n",
              "      <td>0</td>\n",
              "      <td>1-1:0</td>\n",
              "      <td>1-1:1</td>\n",
              "      <td>19</td>\n",
              "      <td>14</td>\n",
              "      <td>0</td>\n",
              "      <td>0</td>\n",
              "      <td>1</td>\n",
              "      <td>0</td>\n",
              "    </tr>\n",
              "    <tr>\n",
              "      <th>2682524</th>\n",
              "      <td>rmc4gmil9oi8fn8cvh5f8vtg</td>\n",
              "      <td>CDC Manicoré</td>\n",
              "      <td>Atlético Amazonense</td>\n",
              "      <td>brazil - amazonense women</td>\n",
              "      <td>brazil</td>\n",
              "      <td>w</td>\n",
              "      <td>2</td>\n",
              "      <td>2</td>\n",
              "      <td>NaN</td>\n",
              "      <td>57046</td>\n",
              "      <td>59567</td>\n",
              "      <td>r67381</td>\n",
              "      <td>2022</td>\n",
              "      <td>1st-phase</td>\n",
              "      <td>1662418800</td>\n",
              "      <td>05.09.2022</td>\n",
              "      <td>4</td>\n",
              "      <td>1.0</td>\n",
              "      <td>2</td>\n",
              "      <td>2</td>\n",
              "      <td>2-2</td>\n",
              "      <td>D</td>\n",
              "      <td>781200</td>\n",
              "      <td>802800</td>\n",
              "      <td>1</td>\n",
              "      <td>1</td>\n",
              "      <td>2-2:0</td>\n",
              "      <td>2-2:1</td>\n",
              "      <td>765</td>\n",
              "      <td>40</td>\n",
              "      <td>0</td>\n",
              "      <td>0</td>\n",
              "      <td>1</td>\n",
              "      <td>0</td>\n",
              "    </tr>\n",
              "    <tr>\n",
              "      <th>2682525</th>\n",
              "      <td>bfc93t0bmbrpxsan16rjzitqs</td>\n",
              "      <td>Chaves</td>\n",
              "      <td>Rio Ave</td>\n",
              "      <td>portugal - primeira liga</td>\n",
              "      <td>portugal</td>\n",
              "      <td>NaN</td>\n",
              "      <td>1</td>\n",
              "      <td>1</td>\n",
              "      <td>NaN</td>\n",
              "      <td>1704</td>\n",
              "      <td>1683</td>\n",
              "      <td>r69322</td>\n",
              "      <td>20222023</td>\n",
              "      <td>regular-season</td>\n",
              "      <td>1662419700</td>\n",
              "      <td>05.09.2022</td>\n",
              "      <td>2</td>\n",
              "      <td>1.0</td>\n",
              "      <td>1</td>\n",
              "      <td>1</td>\n",
              "      <td>1-1</td>\n",
              "      <td>D</td>\n",
              "      <td>780300</td>\n",
              "      <td>693900</td>\n",
              "      <td>1</td>\n",
              "      <td>1</td>\n",
              "      <td>1-1:0</td>\n",
              "      <td>1-1:1</td>\n",
              "      <td>33</td>\n",
              "      <td>376</td>\n",
              "      <td>0</td>\n",
              "      <td>0</td>\n",
              "      <td>1</td>\n",
              "      <td>0</td>\n",
              "    </tr>\n",
              "    <tr>\n",
              "      <th>2682526</th>\n",
              "      <td>3fmmcgjiymodqyymxevutxjis</td>\n",
              "      <td>Deportivo Binacional</td>\n",
              "      <td>Alianza Atlético</td>\n",
              "      <td>peru - primera división</td>\n",
              "      <td>peru</td>\n",
              "      <td>NaN</td>\n",
              "      <td>2</td>\n",
              "      <td>0</td>\n",
              "      <td>NaN</td>\n",
              "      <td>23494</td>\n",
              "      <td>1632</td>\n",
              "      <td>r66955</td>\n",
              "      <td>2022</td>\n",
              "      <td>clausura</td>\n",
              "      <td>1662420600</td>\n",
              "      <td>05.09.2022</td>\n",
              "      <td>2</td>\n",
              "      <td>1.0</td>\n",
              "      <td>2</td>\n",
              "      <td>0</td>\n",
              "      <td>2-0</td>\n",
              "      <td>H</td>\n",
              "      <td>700200</td>\n",
              "      <td>707400</td>\n",
              "      <td>1</td>\n",
              "      <td>1</td>\n",
              "      <td>2-0:0</td>\n",
              "      <td>2-0:1</td>\n",
              "      <td>381</td>\n",
              "      <td>136</td>\n",
              "      <td>1</td>\n",
              "      <td>1</td>\n",
              "      <td>0</td>\n",
              "      <td>0</td>\n",
              "    </tr>\n",
              "  </tbody>\n",
              "</table>\n",
              "<p>2682527 rows × 34 columns</p>\n",
              "</div>\n",
              "      <button class=\"colab-df-convert\" onclick=\"convertToInteractive('df-c8bb70aa-ff11-4f43-9724-aa38e5cb0ffc')\"\n",
              "              title=\"Convert this dataframe to an interactive table.\"\n",
              "              style=\"display:none;\">\n",
              "        \n",
              "  <svg xmlns=\"http://www.w3.org/2000/svg\" height=\"24px\"viewBox=\"0 0 24 24\"\n",
              "       width=\"24px\">\n",
              "    <path d=\"M0 0h24v24H0V0z\" fill=\"none\"/>\n",
              "    <path d=\"M18.56 5.44l.94 2.06.94-2.06 2.06-.94-2.06-.94-.94-2.06-.94 2.06-2.06.94zm-11 1L8.5 8.5l.94-2.06 2.06-.94-2.06-.94L8.5 2.5l-.94 2.06-2.06.94zm10 10l.94 2.06.94-2.06 2.06-.94-2.06-.94-.94-2.06-.94 2.06-2.06.94z\"/><path d=\"M17.41 7.96l-1.37-1.37c-.4-.4-.92-.59-1.43-.59-.52 0-1.04.2-1.43.59L10.3 9.45l-7.72 7.72c-.78.78-.78 2.05 0 2.83L4 21.41c.39.39.9.59 1.41.59.51 0 1.02-.2 1.41-.59l7.78-7.78 2.81-2.81c.8-.78.8-2.07 0-2.86zM5.41 20L4 18.59l7.72-7.72 1.47 1.35L5.41 20z\"/>\n",
              "  </svg>\n",
              "      </button>\n",
              "      \n",
              "  <style>\n",
              "    .colab-df-container {\n",
              "      display:flex;\n",
              "      flex-wrap:wrap;\n",
              "      gap: 12px;\n",
              "    }\n",
              "\n",
              "    .colab-df-convert {\n",
              "      background-color: #E8F0FE;\n",
              "      border: none;\n",
              "      border-radius: 50%;\n",
              "      cursor: pointer;\n",
              "      display: none;\n",
              "      fill: #1967D2;\n",
              "      height: 32px;\n",
              "      padding: 0 0 0 0;\n",
              "      width: 32px;\n",
              "    }\n",
              "\n",
              "    .colab-df-convert:hover {\n",
              "      background-color: #E2EBFA;\n",
              "      box-shadow: 0px 1px 2px rgba(60, 64, 67, 0.3), 0px 1px 3px 1px rgba(60, 64, 67, 0.15);\n",
              "      fill: #174EA6;\n",
              "    }\n",
              "\n",
              "    [theme=dark] .colab-df-convert {\n",
              "      background-color: #3B4455;\n",
              "      fill: #D2E3FC;\n",
              "    }\n",
              "\n",
              "    [theme=dark] .colab-df-convert:hover {\n",
              "      background-color: #434B5C;\n",
              "      box-shadow: 0px 1px 3px 1px rgba(0, 0, 0, 0.15);\n",
              "      filter: drop-shadow(0px 1px 2px rgba(0, 0, 0, 0.3));\n",
              "      fill: #FFFFFF;\n",
              "    }\n",
              "  </style>\n",
              "\n",
              "      <script>\n",
              "        const buttonEl =\n",
              "          document.querySelector('#df-c8bb70aa-ff11-4f43-9724-aa38e5cb0ffc button.colab-df-convert');\n",
              "        buttonEl.style.display =\n",
              "          google.colab.kernel.accessAllowed ? 'block' : 'none';\n",
              "\n",
              "        async function convertToInteractive(key) {\n",
              "          const element = document.querySelector('#df-c8bb70aa-ff11-4f43-9724-aa38e5cb0ffc');\n",
              "          const dataTable =\n",
              "            await google.colab.kernel.invokeFunction('convertToInteractive',\n",
              "                                                     [key], {});\n",
              "          if (!dataTable) return;\n",
              "\n",
              "          const docLinkHtml = 'Like what you see? Visit the ' +\n",
              "            '<a target=\"_blank\" href=https://colab.research.google.com/notebooks/data_table.ipynb>data table notebook</a>'\n",
              "            + ' to learn more about interactive tables.';\n",
              "          element.innerHTML = '';\n",
              "          dataTable['output_type'] = 'display_data';\n",
              "          await google.colab.output.renderOutput(dataTable, element);\n",
              "          const docLink = document.createElement('div');\n",
              "          docLink.innerHTML = docLinkHtml;\n",
              "          element.appendChild(docLink);\n",
              "        }\n",
              "      </script>\n",
              "    </div>\n",
              "  </div>\n",
              "  "
            ]
          },
          "metadata": {},
          "execution_count": 45
        }
      ]
    },
    {
      "cell_type": "code",
      "source": [
        "#cnt = 0\n",
        "#cnt = len(data_df) - 1 #обратный порядок\n",
        "cnt = 0\n",
        "node_list = []\n",
        "for htoken, atoken, bo, h, d, a, id in tqdm(zip(\n",
        "    data_df['home_token'], \n",
        "    data_df['away_token'],\n",
        "    data_df['binary_output'],\n",
        "    data_df['class_H'],\n",
        "    data_df['class_D'],\n",
        "    data_df['class_A'],\n",
        "    data_df['Id']\n",
        "                                ), total = len(data_df)):\n",
        "    node_list.append([cnt * 2, htoken, bo, h, d, a, id])\n",
        "    node_list.append([cnt * 2 + 1, atoken, int(not(bo)), a, d, h, id])\n",
        "    #cnt -= 1 #обратны порядок\n",
        "    cnt +=1\n",
        "pd.DataFrame(node_list).to_csv('nodes.csv.gz', index = False, compression ={'method':'gzip'})"
      ],
      "metadata": {
        "colab": {
          "base_uri": "https://localhost:8080/"
        },
        "id": "To5ZjIeNe-ja",
        "outputId": "1f775c41-3372-4db9-c899-fdfb81205690"
      },
      "execution_count": null,
      "outputs": [
        {
          "output_type": "stream",
          "name": "stderr",
          "text": [
            "100%|██████████| 2682527/2682527 [00:12<00:00, 213322.44it/s]\n"
          ]
        }
      ]
    },
    {
      "cell_type": "code",
      "source": [
        "pd.DataFrame.from_dict(\n",
        "            id_dict, \n",
        "            orient = 'index', \n",
        "            columns = ['token', 'timestamp']\n",
        "                        ).reset_index().to_csv(\n",
        "                'conversion.csv.gz', \n",
        "                index = False, \n",
        "                compression ={'method':'gzip'}\n",
        "                                                )"
      ],
      "metadata": {
        "id": "AmtvNzODLnxZ"
      },
      "execution_count": null,
      "outputs": []
    },
    {
      "cell_type": "markdown",
      "source": [
        "####Выгружаем в Нептун"
      ],
      "metadata": {
        "id": "Q5cqxsq48-7a"
      }
    },
    {
      "cell_type": "code",
      "source": [
        "!pip install neptune-client"
      ],
      "metadata": {
        "id": "jUKz0FAc9Qrx"
      },
      "execution_count": null,
      "outputs": []
    },
    {
      "cell_type": "code",
      "source": [
        "import neptune.new as neptune\n",
        "#from neptune.new.integrations.tensorflow_keras import NeptuneCallback\n",
        "def get_credential(frmwork = 'neptune_team'):\n",
        "    with open('cred_andrey.txt', 'r') as container:\n",
        "        for line in container:\n",
        "            if frmwork in line:\n",
        "                login, psw = line.split(' ')[1], line.split(' ')[2].split('\\n')[0]\n",
        "                return login, psw"
      ],
      "metadata": {
        "id": "Gr9fxpc7wkZE"
      },
      "execution_count": null,
      "outputs": []
    },
    {
      "cell_type": "code",
      "source": [
        "data_version = 'data_graph_221019/'\n",
        "username, api_key = get_credential()\n",
        "upload = True\n",
        "if upload:\n",
        "    project = neptune.init_project(\n",
        "        name=\"scomesse/football\", \n",
        "        api_token = api_key\n",
        "        )\n",
        "    \n",
        "    #project[data_version + 'nodes'].upload('./nodes.csv.gz')\n",
        "    project[data_version + 'edges_rev'].upload('./edges_rev.csv.gz')\n",
        "    #project[data_version + 'conversion'].upload('./conversion.csv.gz')\n",
        "\n",
        "    project.stop()"
      ],
      "metadata": {
        "colab": {
          "base_uri": "https://localhost:8080/"
        },
        "id": "PseZIrB186uW",
        "outputId": "1fde6b29-0576-4523-984b-a2abfc7eac5d"
      },
      "execution_count": null,
      "outputs": [
        {
          "output_type": "stream",
          "name": "stdout",
          "text": [
            "https://app.neptune.ai/scomesse/football/\n",
            "Remember to stop your project once you’ve finished logging your metadata (https://docs.neptune.ai/api/project#stop). It will be stopped automatically only when the notebook kernel/interactive console is terminated.\n",
            "Shutting down background jobs, please wait a moment...\n",
            "Done!\n",
            "Waiting for the remaining 1 operations to synchronize with Neptune. Do not kill this process.\n",
            "All 1 operations synced, thanks for waiting!\n",
            "Explore the metadata in the Neptune app:\n",
            "https://app.neptune.ai/scomesse/football/metadata\n"
          ]
        }
      ]
    },
    {
      "cell_type": "markdown",
      "source": [
        "####snap-stanford"
      ],
      "metadata": {
        "id": "zwg8FR-zkmp6"
      }
    },
    {
      "cell_type": "code",
      "source": [
        "#!pip install snap-stanford"
      ],
      "metadata": {
        "id": "rpTsK6n3fb48"
      },
      "execution_count": null,
      "outputs": []
    },
    {
      "cell_type": "code",
      "source": [
        "import snap\n",
        "S = snap.TNGraph.New()"
      ],
      "metadata": {
        "id": "p9GfOsP2fiqv"
      },
      "execution_count": null,
      "outputs": []
    },
    {
      "cell_type": "code",
      "source": [
        "nodes_qty = 500_000\n",
        "for node in range(nodes_qty):\n",
        "    S.AddNode(node)"
      ],
      "metadata": {
        "id": "KRC2-GcCfkT4"
      },
      "execution_count": null,
      "outputs": []
    },
    {
      "cell_type": "code",
      "source": [
        "edges_df = pd.read_csv('./edges.csv.gz')"
      ],
      "metadata": {
        "id": "m90lElkAflQt"
      },
      "execution_count": null,
      "outputs": []
    },
    {
      "cell_type": "code",
      "source": [
        "for row in tqdm(edges_df.values, total = len(edges_df)):\n",
        "    if S.IsNode(int(row[0])) & S.IsNode(int(row[1])):\n",
        "        if not(S.IsEdge(int(row[0]), int(row[1]))):\n",
        "            S.AddEdge(int(row[0]), int(row[1]))"
      ],
      "metadata": {
        "id": "2U_0Wpmtfq1J"
      },
      "execution_count": null,
      "outputs": []
    },
    {
      "cell_type": "code",
      "source": [
        "%%time\n",
        "snap.PrintInfo(S, 'Commutes', 'output.txt', False)\n",
        "for line in open('output.txt').readlines():\n",
        "    print (line.strip())"
      ],
      "metadata": {
        "id": "xSon-o9lfrOI"
      },
      "execution_count": null,
      "outputs": []
    },
    {
      "cell_type": "markdown",
      "source": [
        "####spektral"
      ],
      "metadata": {
        "id": "dqRC_wPPfbiR"
      }
    },
    {
      "cell_type": "code",
      "source": [
        "#!pip install spektral"
      ],
      "metadata": {
        "id": "R7s9tQxLfL3x"
      },
      "execution_count": null,
      "outputs": []
    },
    {
      "cell_type": "code",
      "source": [
        "import pandas as pd\n",
        "from sys import getsizeof\n",
        "import numpy as np\n",
        "from tqdm import tqdm\n",
        "import gc\n",
        "from scipy import sparse as sp"
      ],
      "metadata": {
        "id": "LaSpgDZO_ciC"
      },
      "execution_count": null,
      "outputs": []
    },
    {
      "cell_type": "code",
      "source": [
        "from spektral.data import Dataset, Graph"
      ],
      "metadata": {
        "id": "n2KopXtPPQUj"
      },
      "execution_count": null,
      "outputs": []
    },
    {
      "cell_type": "code",
      "source": [
        "class calcio_graph(Dataset):\n",
        "    def __init__(self, amount = 500_000, train = 0.5, validation = 0.3, **kwargs):\n",
        "        self.amount = amount\n",
        "        self.train = train\n",
        "        self.validation = validation\n",
        "        self.mask_tr = self.mask_va = self.mask_te = None\n",
        "        super().__init__(**kwargs)\n",
        "    def read(self):\n",
        "        x_df = pd.read_csv('./nodes.csv.gz', usecols = [0, 1, 2], header = 0, names = ['idx','feat', 'y'])\n",
        "        x_df = x_df.iloc[-self.amount:, :].set_index('idx').sort_index()\n",
        "        x = np.zeros((len(x_df), max(x_df.feat) + 1))\n",
        "        for cnt, feat in enumerate(x_df.feat):\n",
        "            x[cnt, feat] = 1\n",
        "        edges_df = pd.read_csv('./edges.csv.gz')\n",
        "        edges_df = edges_df[(edges_df.source < self.amount) & (edges_df.target < self.amount)]\n",
        "        a = sp.csr_matrix((\n",
        "            np.ones(len(edges_df)), \n",
        "            (edges_df.source.values, edges_df.target.values)\n",
        "                            ), shape=None).astype(np.float32)\n",
        "        y = x_df.y.values\n",
        "        self.mask_tr = np.arange(len(x_df)) < int(len(x_df) * self.train)\n",
        "        self.mask_va = (np.arange(len(x_df)) > int(len(x_df) * self.train)) & \\\n",
        "                        (np.arange(len(x_df)) < int(len(x_df) * (self.train + self.validation)))\n",
        "        self.mask_te = np.arange(len(x_df)) > int(len(x_df) * (self.train + self.validation))\n",
        "        return [Graph(x = x, a = a, y = y)]"
      ],
      "metadata": {
        "id": "M94dX-BrjMfZ"
      },
      "execution_count": null,
      "outputs": []
    },
    {
      "cell_type": "code",
      "source": [
        "dataset = calcio_graph(\n",
        "                    #transforms=[NormalizeAdj()]\n",
        "                    )"
      ],
      "metadata": {
        "id": "EFHxTn2ojFPc"
      },
      "execution_count": null,
      "outputs": []
    },
    {
      "cell_type": "code",
      "source": [
        "dataset[0].y"
      ],
      "metadata": {
        "colab": {
          "base_uri": "https://localhost:8080/"
        },
        "id": "AWQ-LgxZ12F3",
        "outputId": "e09b43a6-a0df-4554-974e-e1376cffb583"
      },
      "execution_count": null,
      "outputs": [
        {
          "output_type": "execute_result",
          "data": {
            "text/plain": [
              "array([1, 0, 0, ..., 1, 1, 0])"
            ]
          },
          "metadata": {},
          "execution_count": 46
        }
      ]
    },
    {
      "cell_type": "code",
      "source": [
        "(np.arange(10) > 4) & (np.arange(10) < 8) "
      ],
      "metadata": {
        "colab": {
          "base_uri": "https://localhost:8080/"
        },
        "id": "-otDQaJmOriS",
        "outputId": "225888af-e37d-4b5a-d3d0-f312fe3066df"
      },
      "execution_count": null,
      "outputs": [
        {
          "output_type": "execute_result",
          "data": {
            "text/plain": [
              "array([False, False, False, False, False,  True,  True,  True, False,\n",
              "       False])"
            ]
          },
          "metadata": {},
          "execution_count": 31
        }
      ]
    },
    {
      "cell_type": "code",
      "source": [],
      "metadata": {
        "id": "4VEGsAPwQhW5"
      },
      "execution_count": null,
      "outputs": []
    },
    {
      "cell_type": "code",
      "source": [],
      "metadata": {
        "colab": {
          "base_uri": "https://localhost:8080/"
        },
        "id": "IH-z6tbEjMi9",
        "outputId": "05600994-84f2-4379-ae06-efd0695350e1"
      },
      "execution_count": null,
      "outputs": [
        {
          "output_type": "stream",
          "name": "stderr",
          "text": [
            "100%|██████████| 10680345/10680345 [00:21<00:00, 504042.08it/s]\n"
          ]
        }
      ]
    },
    {
      "cell_type": "code",
      "source": [],
      "metadata": {
        "id": "RB8M5Vv-nybv"
      },
      "execution_count": null,
      "outputs": []
    },
    {
      "cell_type": "code",
      "source": [
        "x_df = pd.read_csv('./nodes.csv.gz', usecols = [0, 1], header = 0, names = ['idx','feat'])"
      ],
      "metadata": {
        "id": "SkGiuRQlt7Qq"
      },
      "execution_count": null,
      "outputs": []
    },
    {
      "cell_type": "code",
      "source": [
        "x_df = x_df.iloc[-500_000:, :].set_index('idx').sort_index()"
      ],
      "metadata": {
        "id": "m_aLW7oiGth5"
      },
      "execution_count": null,
      "outputs": []
    },
    {
      "cell_type": "code",
      "source": [
        "x_df"
      ],
      "metadata": {
        "colab": {
          "base_uri": "https://localhost:8080/",
          "height": 455
        },
        "id": "OQbC_YftgIFw",
        "outputId": "e7bc8011-3bb9-4c9d-f33f-1654ea147f41"
      },
      "execution_count": null,
      "outputs": [
        {
          "output_type": "execute_result",
          "data": {
            "text/plain": [
              "        feat\n",
              "idx         \n",
              "0        381\n",
              "1        136\n",
              "2         33\n",
              "3        376\n",
              "4        765\n",
              "...      ...\n",
              "499995   138\n",
              "499996   691\n",
              "499997    14\n",
              "499998   253\n",
              "499999    18\n",
              "\n",
              "[500000 rows x 1 columns]"
            ],
            "text/html": [
              "\n",
              "  <div id=\"df-76f5e81c-0474-407d-ab9c-14f1ee91f3c9\">\n",
              "    <div class=\"colab-df-container\">\n",
              "      <div>\n",
              "<style scoped>\n",
              "    .dataframe tbody tr th:only-of-type {\n",
              "        vertical-align: middle;\n",
              "    }\n",
              "\n",
              "    .dataframe tbody tr th {\n",
              "        vertical-align: top;\n",
              "    }\n",
              "\n",
              "    .dataframe thead th {\n",
              "        text-align: right;\n",
              "    }\n",
              "</style>\n",
              "<table border=\"1\" class=\"dataframe\">\n",
              "  <thead>\n",
              "    <tr style=\"text-align: right;\">\n",
              "      <th></th>\n",
              "      <th>feat</th>\n",
              "    </tr>\n",
              "    <tr>\n",
              "      <th>idx</th>\n",
              "      <th></th>\n",
              "    </tr>\n",
              "  </thead>\n",
              "  <tbody>\n",
              "    <tr>\n",
              "      <th>0</th>\n",
              "      <td>381</td>\n",
              "    </tr>\n",
              "    <tr>\n",
              "      <th>1</th>\n",
              "      <td>136</td>\n",
              "    </tr>\n",
              "    <tr>\n",
              "      <th>2</th>\n",
              "      <td>33</td>\n",
              "    </tr>\n",
              "    <tr>\n",
              "      <th>3</th>\n",
              "      <td>376</td>\n",
              "    </tr>\n",
              "    <tr>\n",
              "      <th>4</th>\n",
              "      <td>765</td>\n",
              "    </tr>\n",
              "    <tr>\n",
              "      <th>...</th>\n",
              "      <td>...</td>\n",
              "    </tr>\n",
              "    <tr>\n",
              "      <th>499995</th>\n",
              "      <td>138</td>\n",
              "    </tr>\n",
              "    <tr>\n",
              "      <th>499996</th>\n",
              "      <td>691</td>\n",
              "    </tr>\n",
              "    <tr>\n",
              "      <th>499997</th>\n",
              "      <td>14</td>\n",
              "    </tr>\n",
              "    <tr>\n",
              "      <th>499998</th>\n",
              "      <td>253</td>\n",
              "    </tr>\n",
              "    <tr>\n",
              "      <th>499999</th>\n",
              "      <td>18</td>\n",
              "    </tr>\n",
              "  </tbody>\n",
              "</table>\n",
              "<p>500000 rows × 1 columns</p>\n",
              "</div>\n",
              "      <button class=\"colab-df-convert\" onclick=\"convertToInteractive('df-76f5e81c-0474-407d-ab9c-14f1ee91f3c9')\"\n",
              "              title=\"Convert this dataframe to an interactive table.\"\n",
              "              style=\"display:none;\">\n",
              "        \n",
              "  <svg xmlns=\"http://www.w3.org/2000/svg\" height=\"24px\"viewBox=\"0 0 24 24\"\n",
              "       width=\"24px\">\n",
              "    <path d=\"M0 0h24v24H0V0z\" fill=\"none\"/>\n",
              "    <path d=\"M18.56 5.44l.94 2.06.94-2.06 2.06-.94-2.06-.94-.94-2.06-.94 2.06-2.06.94zm-11 1L8.5 8.5l.94-2.06 2.06-.94-2.06-.94L8.5 2.5l-.94 2.06-2.06.94zm10 10l.94 2.06.94-2.06 2.06-.94-2.06-.94-.94-2.06-.94 2.06-2.06.94z\"/><path d=\"M17.41 7.96l-1.37-1.37c-.4-.4-.92-.59-1.43-.59-.52 0-1.04.2-1.43.59L10.3 9.45l-7.72 7.72c-.78.78-.78 2.05 0 2.83L4 21.41c.39.39.9.59 1.41.59.51 0 1.02-.2 1.41-.59l7.78-7.78 2.81-2.81c.8-.78.8-2.07 0-2.86zM5.41 20L4 18.59l7.72-7.72 1.47 1.35L5.41 20z\"/>\n",
              "  </svg>\n",
              "      </button>\n",
              "      \n",
              "  <style>\n",
              "    .colab-df-container {\n",
              "      display:flex;\n",
              "      flex-wrap:wrap;\n",
              "      gap: 12px;\n",
              "    }\n",
              "\n",
              "    .colab-df-convert {\n",
              "      background-color: #E8F0FE;\n",
              "      border: none;\n",
              "      border-radius: 50%;\n",
              "      cursor: pointer;\n",
              "      display: none;\n",
              "      fill: #1967D2;\n",
              "      height: 32px;\n",
              "      padding: 0 0 0 0;\n",
              "      width: 32px;\n",
              "    }\n",
              "\n",
              "    .colab-df-convert:hover {\n",
              "      background-color: #E2EBFA;\n",
              "      box-shadow: 0px 1px 2px rgba(60, 64, 67, 0.3), 0px 1px 3px 1px rgba(60, 64, 67, 0.15);\n",
              "      fill: #174EA6;\n",
              "    }\n",
              "\n",
              "    [theme=dark] .colab-df-convert {\n",
              "      background-color: #3B4455;\n",
              "      fill: #D2E3FC;\n",
              "    }\n",
              "\n",
              "    [theme=dark] .colab-df-convert:hover {\n",
              "      background-color: #434B5C;\n",
              "      box-shadow: 0px 1px 3px 1px rgba(0, 0, 0, 0.15);\n",
              "      filter: drop-shadow(0px 1px 2px rgba(0, 0, 0, 0.3));\n",
              "      fill: #FFFFFF;\n",
              "    }\n",
              "  </style>\n",
              "\n",
              "      <script>\n",
              "        const buttonEl =\n",
              "          document.querySelector('#df-76f5e81c-0474-407d-ab9c-14f1ee91f3c9 button.colab-df-convert');\n",
              "        buttonEl.style.display =\n",
              "          google.colab.kernel.accessAllowed ? 'block' : 'none';\n",
              "\n",
              "        async function convertToInteractive(key) {\n",
              "          const element = document.querySelector('#df-76f5e81c-0474-407d-ab9c-14f1ee91f3c9');\n",
              "          const dataTable =\n",
              "            await google.colab.kernel.invokeFunction('convertToInteractive',\n",
              "                                                     [key], {});\n",
              "          if (!dataTable) return;\n",
              "\n",
              "          const docLinkHtml = 'Like what you see? Visit the ' +\n",
              "            '<a target=\"_blank\" href=https://colab.research.google.com/notebooks/data_table.ipynb>data table notebook</a>'\n",
              "            + ' to learn more about interactive tables.';\n",
              "          element.innerHTML = '';\n",
              "          dataTable['output_type'] = 'display_data';\n",
              "          await google.colab.output.renderOutput(dataTable, element);\n",
              "          const docLink = document.createElement('div');\n",
              "          docLink.innerHTML = docLinkHtml;\n",
              "          element.appendChild(docLink);\n",
              "        }\n",
              "      </script>\n",
              "    </div>\n",
              "  </div>\n",
              "  "
            ]
          },
          "metadata": {},
          "execution_count": 8
        }
      ]
    },
    {
      "cell_type": "code",
      "source": [
        "x_arr = np.zeros((len(x_df), max(x_df.feat) + 1))"
      ],
      "metadata": {
        "id": "vwpL8veWHh3Y"
      },
      "execution_count": null,
      "outputs": []
    },
    {
      "cell_type": "code",
      "source": [
        "x_arr.shape"
      ],
      "metadata": {
        "colab": {
          "base_uri": "https://localhost:8080/"
        },
        "id": "nRy2NlCObCNM",
        "outputId": "339908c9-aa0f-436c-b89f-f921a82f4bc4"
      },
      "execution_count": null,
      "outputs": [
        {
          "output_type": "execute_result",
          "data": {
            "text/plain": [
              "(500000, 793)"
            ]
          },
          "metadata": {},
          "execution_count": 99
        }
      ]
    },
    {
      "cell_type": "code",
      "source": [
        "for cnt, feat in enumerate(x_df.feat):\n",
        "    x_arr[cnt, feat] = 1"
      ],
      "metadata": {
        "id": "q1MO1r-xIFAQ"
      },
      "execution_count": null,
      "outputs": []
    },
    {
      "cell_type": "code",
      "source": [
        "edges_df = pd.read_csv('./edges.csv.gz')\n",
        "edges_df = edges_df[(edges_df.source < 500_000) & (edges_df.target < 500_000)]"
      ],
      "metadata": {
        "id": "8X2GNU7Egljk"
      },
      "execution_count": null,
      "outputs": []
    },
    {
      "cell_type": "code",
      "source": [],
      "metadata": {
        "id": "vTM5E_jygoZW"
      },
      "execution_count": null,
      "outputs": []
    },
    {
      "cell_type": "code",
      "source": [
        "adj = np.ones(len(edges_df))"
      ],
      "metadata": {
        "id": "dc_xUEyijMId"
      },
      "execution_count": null,
      "outputs": []
    },
    {
      "cell_type": "code",
      "source": [
        "a = sp.csr_matrix((adj, (edges_df.source.values, edges_df.target.values)), shape=None).astype(np.float32)"
      ],
      "metadata": {
        "id": "9c0Ettv5jjhI"
      },
      "execution_count": null,
      "outputs": []
    },
    {
      "cell_type": "code",
      "source": [
        "csr_index = np.arange(len(edges_df))"
      ],
      "metadata": {
        "id": "iHYiN12pjyh3"
      },
      "execution_count": null,
      "outputs": []
    },
    {
      "cell_type": "code",
      "source": [
        "a_idx = sp.csr_matrix((csr_index, (edges_df.source.values, edges_df.target.values)), shape=None).astype(np.float32)"
      ],
      "metadata": {
        "id": "amtT8Sr-kNoX"
      },
      "execution_count": null,
      "outputs": []
    },
    {
      "cell_type": "code",
      "source": [
        "cx = sp.coo_matrix(a_idx)"
      ],
      "metadata": {
        "id": "X49CkZ9jkcGh"
      },
      "execution_count": null,
      "outputs": []
    },
    {
      "cell_type": "code",
      "source": [
        "cx.row"
      ],
      "metadata": {
        "colab": {
          "base_uri": "https://localhost:8080/"
        },
        "id": "vMCi0JIglNzb",
        "outputId": "c4800c77-43f4-4f13-8a75-88d8e04dd15b"
      },
      "execution_count": null,
      "outputs": [
        {
          "output_type": "execute_result",
          "data": {
            "text/plain": [
              "array([     0,      1,      2, ..., 499998, 499999, 499999], dtype=int32)"
            ]
          },
          "metadata": {},
          "execution_count": 26
        }
      ]
    },
    {
      "cell_type": "code",
      "source": [
        "cx.col"
      ],
      "metadata": {
        "colab": {
          "base_uri": "https://localhost:8080/"
        },
        "id": "9AIOmf42lQVv",
        "outputId": "e7ba0371-f2ad-4b87-c518-b80c3e2ce725"
      },
      "execution_count": null,
      "outputs": [
        {
          "output_type": "execute_result",
          "data": {
            "text/plain": [
              "array([     1,      0,      3, ..., 499999, 458776, 499998], dtype=int32)"
            ]
          },
          "metadata": {},
          "execution_count": 27
        }
      ]
    },
    {
      "cell_type": "code",
      "source": [
        "for i, j, v in zip(cx.row, cx.col, cx.data):\n",
        "            index_list.append(int(v))"
      ],
      "metadata": {
        "id": "gli6sFMXlIOB"
      },
      "execution_count": null,
      "outputs": []
    },
    {
      "cell_type": "code",
      "source": [
        "#del data_df\n",
        "gc.collect()"
      ],
      "metadata": {
        "colab": {
          "base_uri": "https://localhost:8080/"
        },
        "id": "3fDS4feyboiZ",
        "outputId": "f83d9ee2-d206-422c-eb3b-dcb3a825ecc4"
      },
      "execution_count": null,
      "outputs": [
        {
          "output_type": "execute_result",
          "data": {
            "text/plain": [
              "44"
            ]
          },
          "metadata": {},
          "execution_count": 117
        }
      ]
    },
    {
      "cell_type": "code",
      "source": [
        "round(getsizeof(data_df) / 1024 / 1024, 2)"
      ],
      "metadata": {
        "colab": {
          "base_uri": "https://localhost:8080/"
        },
        "id": "9o7Td1ZK_Nmm",
        "outputId": "3ca54c2d-4e3c-4127-9057-0d16a7bb4a53"
      },
      "execution_count": null,
      "outputs": [
        {
          "output_type": "execute_result",
          "data": {
            "text/plain": [
              "3002.32"
            ]
          },
          "metadata": {},
          "execution_count": 106
        }
      ]
    }
  ],
  "metadata": {
    "colab": {
      "collapsed_sections": [
        "X69hHEsFix4n",
        "5kLzRO1P0xJE",
        "RocnM6a5lPkc",
        "5bGo7IzE4lhj",
        "5WXZU5A-4yCm",
        "aXATMwtGJTRO",
        "YjC-GPlnMwKr",
        "_TYL-n6JjZlJ"
      ],
      "provenance": [],
      "authorship_tag": "ABX9TyOp+wPSFvWHnCBAQoGmDuBL",
      "include_colab_link": true
    },
    "kernelspec": {
      "display_name": "Python 3",
      "name": "python3"
    },
    "language_info": {
      "name": "python"
    }
  },
  "nbformat": 4,
  "nbformat_minor": 0
}