{
  "cells": [
    {
      "cell_type": "markdown",
      "metadata": {
        "id": "view-in-github",
        "colab_type": "text"
      },
      "source": [
        "<a href=\"https://colab.research.google.com/github/cappelchi/calcio_notebooks/blob/main/EDA/football_Dataset_preparation_for_TF.ipynb\" target=\"_parent\"><img src=\"https://colab.research.google.com/assets/colab-badge.svg\" alt=\"Open In Colab\"/></a>"
      ]
    },
    {
      "cell_type": "markdown",
      "metadata": {
        "id": "djZrPUmsapaC"
      },
      "source": [
        "#Data from 31.10.2022"
      ]
    },
    {
      "cell_type": "markdown",
      "metadata": {
        "id": "7dEcqW_jH4pw"
      },
      "source": [
        "### Installations"
      ]
    },
    {
      "cell_type": "code",
      "execution_count": 1,
      "metadata": {
        "id": "r28X_apIH7fV"
      },
      "outputs": [],
      "source": [
        "try:\n",
        "    import neptune.new as neptune\n",
        "except:\n",
        "    !pip install neptune-client >> None\n",
        "    import neptune.new as neptune\n",
        "\n",
        "def get_credential(frmwork = 'neptune_team'):\n",
        "    with open('credential.txt', 'r') as container:\n",
        "        for line in container:\n",
        "            if frmwork in line:\n",
        "                login, psw = line.split(' ')[1], line.split(' ')[2].split('\\n')[0]\n",
        "                return login, psw"
      ]
    },
    {
      "cell_type": "code",
      "execution_count": 2,
      "metadata": {
        "id": "lbLGj6xH9pw3",
        "colab": {
          "base_uri": "https://localhost:8080/"
        },
        "outputId": "1f47c253-7e68-4af6-e597-e3f689f6a711"
      },
      "outputs": [
        {
          "output_type": "stream",
          "name": "stdout",
          "text": [
            "Looking in indexes: https://pypi.org/simple, https://us-python.pkg.dev/colab-wheels/public/simple/\n",
            "Requirement already satisfied: gensim in /usr/local/lib/python3.8/dist-packages (3.6.0)\n",
            "Collecting gensim\n",
            "  Downloading gensim-4.2.0-cp38-cp38-manylinux_2_12_x86_64.manylinux2010_x86_64.whl (24.1 MB)\n",
            "\u001b[K     |████████████████████████████████| 24.1 MB 1.3 MB/s \n",
            "\u001b[?25hRequirement already satisfied: smart-open>=1.8.1 in /usr/local/lib/python3.8/dist-packages (from gensim) (6.3.0)\n",
            "Requirement already satisfied: scipy>=0.18.1 in /usr/local/lib/python3.8/dist-packages (from gensim) (1.7.3)\n",
            "Requirement already satisfied: numpy>=1.17.0 in /usr/local/lib/python3.8/dist-packages (from gensim) (1.21.6)\n",
            "Installing collected packages: gensim\n",
            "  Attempting uninstall: gensim\n",
            "    Found existing installation: gensim 3.6.0\n",
            "    Uninstalling gensim-3.6.0:\n",
            "      Successfully uninstalled gensim-3.6.0\n",
            "Successfully installed gensim-4.2.0\n"
          ]
        }
      ],
      "source": [
        "!pip install --upgrade gensim"
      ]
    },
    {
      "cell_type": "markdown",
      "metadata": {
        "id": "X69hHEsFix4n"
      },
      "source": [
        "### Downloads"
      ]
    },
    {
      "cell_type": "code",
      "source": [
        "data_version = 'data_221101/'\n",
        "username, api_key = get_credential()\n",
        "project = neptune.init_project(\n",
        "    name=\"scomesse/football\", \n",
        "    api_token = api_key\n",
        "    )\n",
        "project[data_version + 'raw_data'].download('./results.rar')\n",
        "project.stop()"
      ],
      "metadata": {
        "colab": {
          "base_uri": "https://localhost:8080/"
        },
        "id": "408z2UIl0YlY",
        "outputId": "22f4b802-f370-4aef-85d5-cf144a1f1886"
      },
      "execution_count": 3,
      "outputs": [
        {
          "output_type": "stream",
          "name": "stdout",
          "text": [
            "https://app.neptune.ai/scomesse/football/\n",
            "Remember to stop your project once you’ve finished logging your metadata (https://docs.neptune.ai/api/project#stop). It will be stopped automatically only when the notebook kernel/interactive console is terminated.\n",
            "Shutting down background jobs, please wait a moment...\n",
            "Done!\n",
            "All 0 operations synced, thanks for waiting!\n",
            "Explore the metadata in the Neptune app:\n",
            "https://app.neptune.ai/scomesse/football/metadata\n"
          ]
        }
      ]
    },
    {
      "cell_type": "markdown",
      "metadata": {
        "id": "RocnM6a5lPkc"
      },
      "source": [
        "### Imports"
      ]
    },
    {
      "cell_type": "code",
      "execution_count": 4,
      "metadata": {
        "colab": {
          "base_uri": "https://localhost:8080/"
        },
        "id": "Hj0B52SelRC1",
        "outputId": "5f44831a-4c87-4ace-ffee-c5c10df07b3e"
      },
      "outputs": [
        {
          "output_type": "stream",
          "name": "stdout",
          "text": [
            "1.3.5\n"
          ]
        }
      ],
      "source": [
        "import pandas as pd\n",
        "import numpy as np\n",
        "pd.options.display.max_columns = 50\n",
        "pd.options.display.max_rows = 100\n",
        "print(pd.__version__)\n",
        "\n",
        "from glob import glob\n",
        "from tqdm import tqdm\n",
        "import functools\n",
        "import subprocess"
      ]
    },
    {
      "cell_type": "code",
      "execution_count": 6,
      "metadata": {
        "colab": {
          "base_uri": "https://localhost:8080/"
        },
        "id": "OUPuOvxtIe0t",
        "outputId": "272b8552-8992-41ea-a99f-b8a4a89fd2e4"
      },
      "outputs": [
        {
          "output_type": "stream",
          "name": "stdout",
          "text": [
            "4.2.0\n"
          ]
        }
      ],
      "source": [
        "import gensim\n",
        "from gensim.models import Word2Vec\n",
        "print(gensim.__version__)"
      ]
    },
    {
      "cell_type": "markdown",
      "metadata": {
        "id": "umm53OS2Ljgg"
      },
      "source": [
        "### Code"
      ]
    },
    {
      "cell_type": "markdown",
      "metadata": {
        "id": "iQYi3DugHTw0"
      },
      "source": [
        "#### Load Dataset in DataFrame"
      ]
    },
    {
      "cell_type": "code",
      "source": [
        "def run_bash(bashCommand:str, nameCommand = ''):\n",
        "        process = subprocess.Popen([bashCommand], \n",
        "                           shell=True)\n",
        "        _, error = process.communicate()\n",
        "        if error:\n",
        "            print(f'{nameCommand} error:\\n', error)"
      ],
      "metadata": {
        "id": "9ul7fQpn1ERI"
      },
      "execution_count": 7,
      "outputs": []
    },
    {
      "cell_type": "code",
      "source": [
        "bashCommand = f\"\"\"\n",
        "mkdir -p ./calcio/results\n",
        "unrar e ./results.rar ./calcio/results/\n",
        "\"\"\"\n",
        "run_bash(bashCommand, 'tar_wv') #word2vec_vs16_sg1.wordvectors.tar.gz"
      ],
      "metadata": {
        "id": "lRLcLhXY820w"
      },
      "execution_count": 9,
      "outputs": []
    },
    {
      "cell_type": "code",
      "execution_count": 10,
      "metadata": {
        "colab": {
          "base_uri": "https://localhost:8080/"
        },
        "id": "jHzZRsf-gtUo",
        "outputId": "0e1c053b-c5fa-439a-e3a8-6727e7dc49bf"
      },
      "outputs": [
        {
          "output_type": "stream",
          "name": "stdout",
          "text": [
            "CPU times: user 29.3 s, sys: 3.81 s, total: 33.1 s\n",
            "Wall time: 34.2 s\n"
          ]
        }
      ],
      "source": [
        "%%time\n",
        "start_date = '2008-01-01'\n",
        "end_date = '2022-09-30'\n",
        "data_csv_list = ['./calcio/results/' + str(dd).replace('-', '') + '.csv' \n",
        "                 for dd in pd.date_range(start=start_date, end=end_date).date]\n",
        "data_df = pd.concat(map(functools.partial(pd.read_csv, sep=';', compression=None),data_csv_list), ignore_index = True)"
      ]
    },
    {
      "cell_type": "code",
      "execution_count": 11,
      "metadata": {
        "id": "tHrN0IUueAHp"
      },
      "outputs": [],
      "source": [
        "dups_list = list(data_df.Id.value_counts().index[data_df.Id.value_counts() > 1])"
      ]
    },
    {
      "cell_type": "code",
      "execution_count": 12,
      "metadata": {
        "id": "xO7a83hKhCNQ"
      },
      "outputs": [],
      "source": [
        "for dup in dups_list:\n",
        "    data_df.Id[data_df.Id == dup] = [id + str(cnt) for cnt, id in enumerate(data_df.Id[data_df.Id == dup])]"
      ]
    },
    {
      "cell_type": "code",
      "execution_count": 13,
      "metadata": {
        "colab": {
          "base_uri": "https://localhost:8080/"
        },
        "id": "d8TFxAEYajSo",
        "outputId": "ef107115-b4b8-4e10-dd5b-107c9a7de33e"
      },
      "outputs": [
        {
          "output_type": "stream",
          "name": "stderr",
          "text": [
            "<ipython-input-13-89294fdc2798>:1: FutureWarning: casting datetime64[ns] values to int64 with .astype(...) is deprecated and will raise in a future version. Use .view(...) instead.\n",
            "  data_df['timestamp'] = pd.to_datetime(data_df['BeginTime'], dayfirst = True).astype('int64') // 10**9\n"
          ]
        }
      ],
      "source": [
        "data_df['timestamp'] = pd.to_datetime(data_df['BeginTime'], dayfirst = True).astype('int64') // 10**9"
      ]
    },
    {
      "cell_type": "code",
      "execution_count": 14,
      "metadata": {
        "id": "NcrDt-KRYQkn"
      },
      "outputs": [],
      "source": [
        "data_df[['date', 'times_ext']] = data_df['BeginTime'].str.split(expand = True)\n",
        "data_df = data_df.drop(['BeginTime', 'times_ext'], axis = 'columns')"
      ]
    },
    {
      "cell_type": "markdown",
      "metadata": {
        "id": "BW_LqudwHbKQ"
      },
      "source": [
        "#### Refactoring DataFrame"
      ]
    },
    {
      "cell_type": "code",
      "execution_count": 15,
      "metadata": {
        "id": "hyJgri2YZVQR"
      },
      "outputs": [],
      "source": [
        "data_df['sum_score'] = data_df['Result1'] + data_df['Result2'] # Сумма голов в матче\n",
        "# Приводим все счета к сумме мячей в матче не больше 10 (adj)\n",
        "data_df['sum_score_k'] = [1 if score_k < 11 else score_k / 10 for score_k in data_df['sum_score']]\n",
        "data_df['home_score_adj'] = (data_df['Result1'] / data_df['sum_score_k']).astype(int)\n",
        "data_df['away_score_adj'] = (data_df['Result2'] / data_df['sum_score_k']).astype(int)\n",
        "data_df['score_adj'] = data_df['home_score_adj'].astype(str) + '-' + data_df['away_score_adj'].astype(str)"
      ]
    },
    {
      "cell_type": "markdown",
      "metadata": {
        "id": "aXATMwtGJTRO"
      },
      "source": [
        "#### Refactoring DataFrame"
      ]
    },
    {
      "cell_type": "code",
      "execution_count": 16,
      "metadata": {
        "colab": {
          "base_uri": "https://localhost:8080/"
        },
        "id": "32yMhcwLwITF",
        "outputId": "fe0444c8-ee2f-4499-fb65-6292db979097"
      },
      "outputs": [
        {
          "output_type": "stream",
          "name": "stderr",
          "text": [
            "100%|██████████| 2703623/2703623 [00:03<00:00, 697868.20it/s]\n"
          ]
        }
      ],
      "source": [
        "winners_list = []\n",
        "for hm, aw in tqdm(data_df[['Result1', 'Result2']].values):\n",
        "    if hm > aw:\n",
        "        winners_list.append('H')\n",
        "    elif hm < aw:\n",
        "        winners_list.append('A')\n",
        "    else:\n",
        "        winners_list.append('D')\n",
        "data_df['Winner'] = winners_list"
      ]
    },
    {
      "cell_type": "code",
      "execution_count": 17,
      "metadata": {
        "id": "xQDS-NYQvlAd"
      },
      "outputs": [],
      "source": [
        "data_df.HomeId = data_df.HomeId.astype(int)\n",
        "data_df.AwayId = data_df.AwayId.astype(int)"
      ]
    },
    {
      "cell_type": "code",
      "execution_count": 18,
      "metadata": {
        "id": "AYGnZrMgTZlZ"
      },
      "outputs": [],
      "source": [
        "data_df = data_df.reset_index(drop = True)"
      ]
    },
    {
      "cell_type": "code",
      "execution_count": 19,
      "metadata": {
        "colab": {
          "base_uri": "https://localhost:8080/"
        },
        "id": "_ZWMwlZuPRl8",
        "outputId": "0c6a9668-e586-4ae5-c8fa-6b17e9a5e9f7"
      },
      "outputs": [
        {
          "output_type": "stream",
          "name": "stdout",
          "text": [
            "Разнообразие результатов: 66\n",
            "Количество лиг: 1968\n",
            "Количество сезонов: 263\n",
            "Разнообразие типов встреч: 2403\n",
            "Количество стран: 202\n",
            "Повторно лиги: 1968\n"
          ]
        }
      ],
      "source": [
        "print(f'Разнообразие результатов: {len(data_df.score_adj.value_counts())}')\n",
        "print(f'Количество лиг: {len(data_df.League.value_counts())}')\n",
        "print(f'Количество сезонов: {len(data_df.Season.value_counts())}')\n",
        "print(f'Разнообразие типов встреч: {len(data_df.Round.value_counts())}')\n",
        "print(f'Количество стран: {len(data_df.Country.value_counts())}')\n",
        "print(f'Повторно лиги: {len(data_df.League.value_counts())}')"
      ]
    },
    {
      "cell_type": "markdown",
      "metadata": {
        "id": "YjC-GPlnMwKr"
      },
      "source": [
        "#### Расчитываем время прошедшее от прошлого матча и делаем словарик связей матчей"
      ]
    },
    {
      "cell_type": "code",
      "execution_count": 20,
      "metadata": {
        "id": "AqmBjr-3jSqj"
      },
      "outputs": [],
      "source": [
        "data_df = data_df.sort_values(by = 'timestamp').reset_index(drop = True)\n",
        "timestamp7days = 7 * 24 * 60 * 60"
      ]
    },
    {
      "cell_type": "code",
      "execution_count": 21,
      "metadata": {
        "colab": {
          "base_uri": "https://localhost:8080/"
        },
        "id": "W_BSc9e_7ZIw",
        "outputId": "6069f2b7-cc4e-44ef-f046-b045e54fa1c0"
      },
      "outputs": [
        {
          "output_type": "stream",
          "name": "stderr",
          "text": [
            "100%|██████████| 2703623/2703623 [00:28<00:00, 93561.11it/s] \n"
          ]
        }
      ],
      "source": [
        "team_GId_dict = {}\n",
        "zero_diff = 0\n",
        "for info in tqdm(\n",
        "    zip(\n",
        "        data_df.timestamp,\n",
        "        data_df.HomeId,\n",
        "        data_df.AwayId,\n",
        "        data_df.Id,\n",
        "    ),\n",
        "    total=len(data_df),\n",
        "                    ):\n",
        "    time_stamp = info[0]\n",
        "    homeID = info[1]\n",
        "    awayID = info[2]\n",
        "    matchID = info[3]\n",
        "    # 1. Проверить если ID команды в словаре, если нет перейти к добавлению\n",
        "    if homeID in team_GId_dict:\n",
        "        # 2. Проверить время, если время позднее последнего добаления,\n",
        "        # то можно просто присоединить снизу, инфо о последнем матче команды,\n",
        "        # иначе перейти во вставку матча между матчами\n",
        "        if matchID not in team_GId_dict[homeID]:\n",
        "            if time_stamp >= team_GId_dict[homeID][\"last_time\"]:\n",
        "                # 3. Добавление матча для команды в словарь\n",
        "                previous_num = team_GId_dict[homeID][\"last_index\"]\n",
        "                previous_time = team_GId_dict[homeID][\"last_time\"]\n",
        "                # 4. Обновление блока последнего матча для команды\n",
        "                team_GId_dict[homeID][\"last_index\"] = matchID\n",
        "                team_GId_dict[homeID][\"last_time\"] = time_stamp\n",
        "                # 3. Добавление матча для команды в словарь\n",
        "                team_GId_dict[homeID].update(\n",
        "                    {\n",
        "                        matchID: [\n",
        "                            previous_num,\n",
        "                            time_stamp,\n",
        "                        ]\n",
        "                    }\n",
        "                )\n",
        "            else:\n",
        "                zero_diff += 1\n",
        "                # 5. Поиск точки вхождение для матча, который оказался не новым\n",
        "                current_index = team_GId_dict[homeID][\"last_index\"]\n",
        "                previous_match_time = team_GId_dict[homeID][current_index][1]\n",
        "                previous_index = team_GId_dict[homeID][current_index][0]\n",
        "                while (info[0] < previous_match_time) & (previous_index != -1):\n",
        "                    current_index = previous_index\n",
        "                    previous_index = team_GId_dict[homeID][previous_index][0]\n",
        "                    previous_match_time = team_GId_dict[homeID][current_index][1]\n",
        "                # 6. Вставка матча и обновление соседних 2 матчей\n",
        "                team_GId_dict[homeID].update(\n",
        "                    {matchID: [team_GId_dict[homeID][current_index][0], time_stamp]}\n",
        "                )\n",
        "                team_GId_dict[homeID].update(\n",
        "                    {current_index: [matchID, time_stamp]}\n",
        "                )\n",
        "\n",
        "    else:\n",
        "        # 3. Добавление матча для команды в словарь. Новая команда\n",
        "        team_GId_dict[homeID] = {\"last_index\": info[3]}\n",
        "        team_GId_dict[homeID].update({\"last_time\": time_stamp})\n",
        "        team_GId_dict[homeID].update(\n",
        "            {\n",
        "                matchID: [\n",
        "                    -1,\n",
        "                    time_stamp - timestamp7days\n",
        "                ]\n",
        "            }\n",
        "        )\n",
        "\n",
        "    #############################################################################\n",
        "    #############################################################################\n",
        "\n",
        "    if awayID in team_GId_dict:\n",
        "        # 2. Проверить время, если время позднее последнего добаления,\n",
        "        # то можно просто присоединить снизу, инфо о последнем матче команды,\n",
        "        # иначе перейти во вставку матча между матчами\n",
        "        if matchID not in team_GId_dict[awayID]:\n",
        "            if time_stamp >= team_GId_dict[awayID][\"last_time\"]:\n",
        "                # 3. Добавление матча для команды в словарь\n",
        "                previous_num = team_GId_dict[awayID][\"last_index\"]\n",
        "                previous_time = team_GId_dict[awayID][\"last_time\"]\n",
        "                # 4. Обновление блока последнего матча для команды\n",
        "                team_GId_dict[awayID][\"last_index\"] = matchID\n",
        "                team_GId_dict[awayID][\"last_time\"] = time_stamp\n",
        "                # 3. Добавление матча для команды в словарь\n",
        "                team_GId_dict[awayID].update(\n",
        "                    {\n",
        "                        matchID: [\n",
        "                            previous_num,\n",
        "                            time_stamp,\n",
        "                        ]\n",
        "                    }\n",
        "                )\n",
        "            else:\n",
        "                zero_diff += 1\n",
        "                # 5. Поиск точки вхождение для матча, который оказался не новым\n",
        "                current_index = team_GId_dict[awayID][\"last_index\"]\n",
        "                previous_match_time = team_GId_dict[awayID][current_index][1]\n",
        "                previous_index = team_GId_dict[awayID][current_index][0]\n",
        "                while (time_stamp < previous_match_time) & (previous_index != -1):\n",
        "                    current_index = previous_index\n",
        "                    previous_index = team_GId_dict[awayID][previous_index][0]\n",
        "                    previous_match_time = team_GId_dict[awayID][current_index][1]\n",
        "                # 6. Вставка матча и обновление соседних 2 матчей\n",
        "                team_GId_dict[awayID].update(\n",
        "                    {matchID: [team_GId_dict[awayID][current_index][0], time_stamp]}\n",
        "                )\n",
        "                team_GId_dict[awayID].update(\n",
        "                    {current_index: [matchID, time_stamp]}\n",
        "                )\n",
        "\n",
        "    else:\n",
        "        # 3. Добавление матча для команды в словарь. Новая команда\n",
        "        team_GId_dict[awayID] = {\"last_index\": info[3]}\n",
        "        team_GId_dict[awayID].update({\"last_time\": time_stamp})\n",
        "        team_GId_dict[awayID].update(\n",
        "            {\n",
        "                matchID: [\n",
        "                    -1,\n",
        "                    time_stamp - timestamp7days\n",
        "                ]\n",
        "            }\n",
        "        )\n"
      ]
    },
    {
      "cell_type": "code",
      "execution_count": 22,
      "metadata": {
        "colab": {
          "base_uri": "https://localhost:8080/"
        },
        "id": "kkav57hyF4Aj",
        "outputId": "fc815bd8-5852-428d-d5d2-fdc9bdddb45e"
      },
      "outputs": [
        {
          "output_type": "stream",
          "name": "stderr",
          "text": [
            "100%|██████████| 2703623/2703623 [00:07<00:00, 378542.02it/s]\n",
            "100%|██████████| 2703623/2703623 [00:07<00:00, 380970.16it/s]\n"
          ]
        }
      ],
      "source": [
        "data_df['team_rest_home'] = [team_GId_dict[team][idx][1] - team_GId_dict[team][team_GId_dict[team][idx][0]][1]\n",
        "                             if team_GId_dict[team][idx][0] != -1 else timestamp7days\n",
        "                             for team, idx in tqdm(zip(data_df.HomeId, data_df.Id), total = len(data_df))]\n",
        "data_df['team_rest_away'] = [team_GId_dict[team][idx][1] - team_GId_dict[team][team_GId_dict[team][idx][0]][1]\n",
        "                             if team_GId_dict[team][idx][0] != -1 else timestamp7days\n",
        "                             for team, idx in tqdm(zip(data_df.AwayId, data_df.Id), total = len(data_df))]"
      ]
    },
    {
      "cell_type": "code",
      "execution_count": 23,
      "metadata": {
        "id": "GxqxJ6ty0Jb8"
      },
      "outputs": [],
      "source": [
        "# Отдых команд разделяем на 3 группы\n",
        "data_df['team_rest_home_adj'] = [0 if tm < 500_000 else 1 if tm < 1_000_000 else 2 for tm in data_df['team_rest_home']]\n",
        "data_df['team_rest_away_adj'] = [0 if tm < 500_000 else 1 if tm < 1_000_000 else 2 for tm in data_df['team_rest_away']]"
      ]
    },
    {
      "cell_type": "code",
      "execution_count": 24,
      "metadata": {
        "id": "jSlMDhZr7WdP"
      },
      "outputs": [],
      "source": [
        "non_regular_slice = \\\n",
        "(data_df.League.str.contains('copa')) | \\\n",
        "(data_df.League.str.contains('coppa')) | \\\n",
        "(data_df.League.str.contains('cup')) | \\\n",
        "(data_df.League.str.contains('final')) | \\\n",
        "(data_df.League.str.contains('friend')) | \\\n",
        "(data_df.League.str.contains('play-off')) | \\\n",
        "(data_df.League.str.contains('qual')) | \\\n",
        "(data_df.League.str.contains('tourn')) | \\\n",
        "(data_df.League.str.contains('pokal'))"
      ]
    },
    {
      "cell_type": "code",
      "execution_count": 25,
      "metadata": {
        "id": "nYe7GS1ANdbs"
      },
      "outputs": [],
      "source": [
        "data_df['local_match'] = 1\n",
        "data_df['local_match'][non_regular_slice] = 0"
      ]
    },
    {
      "cell_type": "code",
      "execution_count": 26,
      "metadata": {
        "colab": {
          "base_uri": "https://localhost:8080/"
        },
        "id": "TZcoQED__rwf",
        "outputId": "b55fdb8e-c23b-490f-98ba-5bfb7b852687"
      },
      "outputs": [
        {
          "output_type": "stream",
          "name": "stdout",
          "text": [
            "{'0-0:0:0': 1, '0-0:0:1': 2, '0-0:1:0': 3, '0-0:1:1': 4, '0-1:0:0': 5, '0-1:0:1': 6, '0-1:1:0': 7, '0-1:1:1': 8, '0-2:0:0': 9, '0-2:0:1': 10, '0-2:1:0': 11, '0-2:1:1': 12, '0-3:0:0': 13, '0-3:0:1': 14, '0-3:1:0': 15, '0-3:1:1': 16, '0-4:0:0': 17, '0-4:0:1': 18, '0-4:1:0': 19, '0-4:1:1': 20, '0-5:0:0': 21, '0-5:0:1': 22, '0-5:1:0': 23, '0-5:1:1': 24, '0-6:0:0': 25, '0-6:0:1': 26, '0-6:1:0': 27, '0-6:1:1': 28, '0-7:0:0': 29, '0-7:0:1': 30, '0-7:1:0': 31, '0-7:1:1': 32, '0-8:0:0': 33, '0-8:0:1': 34, '0-8:1:0': 35, '0-8:1:1': 36, '0-9:0:0': 37, '0-9:0:1': 38, '0-9:1:0': 39, '0-9:1:1': 40, '0-10:0:0': 41, '0-10:0:1': 42, '0-10:1:0': 43, '0-10:1:1': 44, '1-0:0:0': 45, '1-0:0:1': 46, '1-0:1:0': 47, '1-0:1:1': 48, '1-1:0:0': 49, '1-1:0:1': 50, '1-1:1:0': 51, '1-1:1:1': 52, '1-2:0:0': 53, '1-2:0:1': 54, '1-2:1:0': 55, '1-2:1:1': 56, '1-3:0:0': 57, '1-3:0:1': 58, '1-3:1:0': 59, '1-3:1:1': 60, '1-4:0:0': 61, '1-4:0:1': 62, '1-4:1:0': 63, '1-4:1:1': 64, '1-5:0:0': 65, '1-5:0:1': 66, '1-5:1:0': 67, '1-5:1:1': 68, '1-6:0:0': 69, '1-6:0:1': 70, '1-6:1:0': 71, '1-6:1:1': 72, '1-7:0:0': 73, '1-7:0:1': 74, '1-7:1:0': 75, '1-7:1:1': 76, '1-8:0:0': 77, '1-8:0:1': 78, '1-8:1:0': 79, '1-8:1:1': 80, '1-9:0:0': 81, '1-9:0:1': 82, '1-9:1:0': 83, '1-9:1:1': 84, '2-0:0:0': 85, '2-0:0:1': 86, '2-0:1:0': 87, '2-0:1:1': 88, '2-1:0:0': 89, '2-1:0:1': 90, '2-1:1:0': 91, '2-1:1:1': 92, '2-2:0:0': 93, '2-2:0:1': 94, '2-2:1:0': 95, '2-2:1:1': 96, '2-3:0:0': 97, '2-3:0:1': 98, '2-3:1:0': 99, '2-3:1:1': 100, '2-4:0:0': 101, '2-4:0:1': 102, '2-4:1:0': 103, '2-4:1:1': 104, '2-5:0:0': 105, '2-5:0:1': 106, '2-5:1:0': 107, '2-5:1:1': 108, '2-6:0:0': 109, '2-6:0:1': 110, '2-6:1:0': 111, '2-6:1:1': 112, '2-7:0:0': 113, '2-7:0:1': 114, '2-7:1:0': 115, '2-7:1:1': 116, '2-8:0:0': 117, '2-8:0:1': 118, '2-8:1:0': 119, '2-8:1:1': 120, '3-0:0:0': 121, '3-0:0:1': 122, '3-0:1:0': 123, '3-0:1:1': 124, '3-1:0:0': 125, '3-1:0:1': 126, '3-1:1:0': 127, '3-1:1:1': 128, '3-2:0:0': 129, '3-2:0:1': 130, '3-2:1:0': 131, '3-2:1:1': 132, '3-3:0:0': 133, '3-3:0:1': 134, '3-3:1:0': 135, '3-3:1:1': 136, '3-4:0:0': 137, '3-4:0:1': 138, '3-4:1:0': 139, '3-4:1:1': 140, '3-5:0:0': 141, '3-5:0:1': 142, '3-5:1:0': 143, '3-5:1:1': 144, '3-6:0:0': 145, '3-6:0:1': 146, '3-6:1:0': 147, '3-6:1:1': 148, '3-7:0:0': 149, '3-7:0:1': 150, '3-7:1:0': 151, '3-7:1:1': 152, '4-0:0:0': 153, '4-0:0:1': 154, '4-0:1:0': 155, '4-0:1:1': 156, '4-1:0:0': 157, '4-1:0:1': 158, '4-1:1:0': 159, '4-1:1:1': 160, '4-2:0:0': 161, '4-2:0:1': 162, '4-2:1:0': 163, '4-2:1:1': 164, '4-3:0:0': 165, '4-3:0:1': 166, '4-3:1:0': 167, '4-3:1:1': 168, '4-4:0:0': 169, '4-4:0:1': 170, '4-4:1:0': 171, '4-4:1:1': 172, '4-5:0:0': 173, '4-5:0:1': 174, '4-5:1:0': 175, '4-5:1:1': 176, '4-6:0:0': 177, '4-6:0:1': 178, '4-6:1:0': 179, '4-6:1:1': 180, '5-0:0:0': 181, '5-0:0:1': 182, '5-0:1:0': 183, '5-0:1:1': 184, '5-1:0:0': 185, '5-1:0:1': 186, '5-1:1:0': 187, '5-1:1:1': 188, '5-2:0:0': 189, '5-2:0:1': 190, '5-2:1:0': 191, '5-2:1:1': 192, '5-3:0:0': 193, '5-3:0:1': 194, '5-3:1:0': 195, '5-3:1:1': 196, '5-4:0:0': 197, '5-4:0:1': 198, '5-4:1:0': 199, '5-4:1:1': 200, '5-5:0:0': 201, '5-5:0:1': 202, '5-5:1:0': 203, '5-5:1:1': 204, '6-0:0:0': 205, '6-0:0:1': 206, '6-0:1:0': 207, '6-0:1:1': 208, '6-1:0:0': 209, '6-1:0:1': 210, '6-1:1:0': 211, '6-1:1:1': 212, '6-2:0:0': 213, '6-2:0:1': 214, '6-2:1:0': 215, '6-2:1:1': 216, '6-3:0:0': 217, '6-3:0:1': 218, '6-3:1:0': 219, '6-3:1:1': 220, '6-4:0:0': 221, '6-4:0:1': 222, '6-4:1:0': 223, '6-4:1:1': 224, '7-0:0:0': 225, '7-0:0:1': 226, '7-0:1:0': 227, '7-0:1:1': 228, '7-1:0:0': 229, '7-1:0:1': 230, '7-1:1:0': 231, '7-1:1:1': 232, '7-2:0:0': 233, '7-2:0:1': 234, '7-2:1:0': 235, '7-2:1:1': 236, '7-3:0:0': 237, '7-3:0:1': 238, '7-3:1:0': 239, '7-3:1:1': 240, '8-0:0:0': 241, '8-0:0:1': 242, '8-0:1:0': 243, '8-0:1:1': 244, '8-1:0:0': 245, '8-1:0:1': 246, '8-1:1:0': 247, '8-1:1:1': 248, '8-2:0:0': 249, '8-2:0:1': 250, '8-2:1:0': 251, '8-2:1:1': 252, '9-0:0:0': 253, '9-0:0:1': 254, '9-0:1:0': 255, '9-0:1:1': 256, '9-1:0:0': 257, '9-1:0:1': 258, '9-1:1:0': 259, '9-1:1:1': 260, '10-0:0:0': 261, '10-0:0:1': 262, '10-0:1:0': 263, '10-0:1:1': 264}\n",
            "264\n",
            "{'0-0:0:0:0': 1, '0-0:0:0:1': 2, '0-0:0:0:2': 3, '0-0:0:1:0': 4, '0-0:0:1:1': 5, '0-0:0:1:2': 6, '0-0:1:0:0': 7, '0-0:1:0:1': 8, '0-0:1:0:2': 9, '0-0:1:1:0': 10, '0-0:1:1:1': 11, '0-0:1:1:2': 12, '0-1:0:0:0': 13, '0-1:0:0:1': 14, '0-1:0:0:2': 15, '0-1:0:1:0': 16, '0-1:0:1:1': 17, '0-1:0:1:2': 18, '0-1:1:0:0': 19, '0-1:1:0:1': 20, '0-1:1:0:2': 21, '0-1:1:1:0': 22, '0-1:1:1:1': 23, '0-1:1:1:2': 24, '0-2:0:0:0': 25, '0-2:0:0:1': 26, '0-2:0:0:2': 27, '0-2:0:1:0': 28, '0-2:0:1:1': 29, '0-2:0:1:2': 30, '0-2:1:0:0': 31, '0-2:1:0:1': 32, '0-2:1:0:2': 33, '0-2:1:1:0': 34, '0-2:1:1:1': 35, '0-2:1:1:2': 36, '0-3:0:0:0': 37, '0-3:0:0:1': 38, '0-3:0:0:2': 39, '0-3:0:1:0': 40, '0-3:0:1:1': 41, '0-3:0:1:2': 42, '0-3:1:0:0': 43, '0-3:1:0:1': 44, '0-3:1:0:2': 45, '0-3:1:1:0': 46, '0-3:1:1:1': 47, '0-3:1:1:2': 48, '0-4:0:0:0': 49, '0-4:0:0:1': 50, '0-4:0:0:2': 51, '0-4:0:1:0': 52, '0-4:0:1:1': 53, '0-4:0:1:2': 54, '0-4:1:0:0': 55, '0-4:1:0:1': 56, '0-4:1:0:2': 57, '0-4:1:1:0': 58, '0-4:1:1:1': 59, '0-4:1:1:2': 60, '0-5:0:0:0': 61, '0-5:0:0:1': 62, '0-5:0:0:2': 63, '0-5:0:1:0': 64, '0-5:0:1:1': 65, '0-5:0:1:2': 66, '0-5:1:0:0': 67, '0-5:1:0:1': 68, '0-5:1:0:2': 69, '0-5:1:1:0': 70, '0-5:1:1:1': 71, '0-5:1:1:2': 72, '0-6:0:0:0': 73, '0-6:0:0:1': 74, '0-6:0:0:2': 75, '0-6:0:1:0': 76, '0-6:0:1:1': 77, '0-6:0:1:2': 78, '0-6:1:0:0': 79, '0-6:1:0:1': 80, '0-6:1:0:2': 81, '0-6:1:1:0': 82, '0-6:1:1:1': 83, '0-6:1:1:2': 84, '0-7:0:0:0': 85, '0-7:0:0:1': 86, '0-7:0:0:2': 87, '0-7:0:1:0': 88, '0-7:0:1:1': 89, '0-7:0:1:2': 90, '0-7:1:0:0': 91, '0-7:1:0:1': 92, '0-7:1:0:2': 93, '0-7:1:1:0': 94, '0-7:1:1:1': 95, '0-7:1:1:2': 96, '0-8:0:0:0': 97, '0-8:0:0:1': 98, '0-8:0:0:2': 99, '0-8:0:1:0': 100, '0-8:0:1:1': 101, '0-8:0:1:2': 102, '0-8:1:0:0': 103, '0-8:1:0:1': 104, '0-8:1:0:2': 105, '0-8:1:1:0': 106, '0-8:1:1:1': 107, '0-8:1:1:2': 108, '0-9:0:0:0': 109, '0-9:0:0:1': 110, '0-9:0:0:2': 111, '0-9:0:1:0': 112, '0-9:0:1:1': 113, '0-9:0:1:2': 114, '0-9:1:0:0': 115, '0-9:1:0:1': 116, '0-9:1:0:2': 117, '0-9:1:1:0': 118, '0-9:1:1:1': 119, '0-9:1:1:2': 120, '0-10:0:0:0': 121, '0-10:0:0:1': 122, '0-10:0:0:2': 123, '0-10:0:1:0': 124, '0-10:0:1:1': 125, '0-10:0:1:2': 126, '0-10:1:0:0': 127, '0-10:1:0:1': 128, '0-10:1:0:2': 129, '0-10:1:1:0': 130, '0-10:1:1:1': 131, '0-10:1:1:2': 132, '1-0:0:0:0': 133, '1-0:0:0:1': 134, '1-0:0:0:2': 135, '1-0:0:1:0': 136, '1-0:0:1:1': 137, '1-0:0:1:2': 138, '1-0:1:0:0': 139, '1-0:1:0:1': 140, '1-0:1:0:2': 141, '1-0:1:1:0': 142, '1-0:1:1:1': 143, '1-0:1:1:2': 144, '1-1:0:0:0': 145, '1-1:0:0:1': 146, '1-1:0:0:2': 147, '1-1:0:1:0': 148, '1-1:0:1:1': 149, '1-1:0:1:2': 150, '1-1:1:0:0': 151, '1-1:1:0:1': 152, '1-1:1:0:2': 153, '1-1:1:1:0': 154, '1-1:1:1:1': 155, '1-1:1:1:2': 156, '1-2:0:0:0': 157, '1-2:0:0:1': 158, '1-2:0:0:2': 159, '1-2:0:1:0': 160, '1-2:0:1:1': 161, '1-2:0:1:2': 162, '1-2:1:0:0': 163, '1-2:1:0:1': 164, '1-2:1:0:2': 165, '1-2:1:1:0': 166, '1-2:1:1:1': 167, '1-2:1:1:2': 168, '1-3:0:0:0': 169, '1-3:0:0:1': 170, '1-3:0:0:2': 171, '1-3:0:1:0': 172, '1-3:0:1:1': 173, '1-3:0:1:2': 174, '1-3:1:0:0': 175, '1-3:1:0:1': 176, '1-3:1:0:2': 177, '1-3:1:1:0': 178, '1-3:1:1:1': 179, '1-3:1:1:2': 180, '1-4:0:0:0': 181, '1-4:0:0:1': 182, '1-4:0:0:2': 183, '1-4:0:1:0': 184, '1-4:0:1:1': 185, '1-4:0:1:2': 186, '1-4:1:0:0': 187, '1-4:1:0:1': 188, '1-4:1:0:2': 189, '1-4:1:1:0': 190, '1-4:1:1:1': 191, '1-4:1:1:2': 192, '1-5:0:0:0': 193, '1-5:0:0:1': 194, '1-5:0:0:2': 195, '1-5:0:1:0': 196, '1-5:0:1:1': 197, '1-5:0:1:2': 198, '1-5:1:0:0': 199, '1-5:1:0:1': 200, '1-5:1:0:2': 201, '1-5:1:1:0': 202, '1-5:1:1:1': 203, '1-5:1:1:2': 204, '1-6:0:0:0': 205, '1-6:0:0:1': 206, '1-6:0:0:2': 207, '1-6:0:1:0': 208, '1-6:0:1:1': 209, '1-6:0:1:2': 210, '1-6:1:0:0': 211, '1-6:1:0:1': 212, '1-6:1:0:2': 213, '1-6:1:1:0': 214, '1-6:1:1:1': 215, '1-6:1:1:2': 216, '1-7:0:0:0': 217, '1-7:0:0:1': 218, '1-7:0:0:2': 219, '1-7:0:1:0': 220, '1-7:0:1:1': 221, '1-7:0:1:2': 222, '1-7:1:0:0': 223, '1-7:1:0:1': 224, '1-7:1:0:2': 225, '1-7:1:1:0': 226, '1-7:1:1:1': 227, '1-7:1:1:2': 228, '1-8:0:0:0': 229, '1-8:0:0:1': 230, '1-8:0:0:2': 231, '1-8:0:1:0': 232, '1-8:0:1:1': 233, '1-8:0:1:2': 234, '1-8:1:0:0': 235, '1-8:1:0:1': 236, '1-8:1:0:2': 237, '1-8:1:1:0': 238, '1-8:1:1:1': 239, '1-8:1:1:2': 240, '1-9:0:0:0': 241, '1-9:0:0:1': 242, '1-9:0:0:2': 243, '1-9:0:1:0': 244, '1-9:0:1:1': 245, '1-9:0:1:2': 246, '1-9:1:0:0': 247, '1-9:1:0:1': 248, '1-9:1:0:2': 249, '1-9:1:1:0': 250, '1-9:1:1:1': 251, '1-9:1:1:2': 252, '2-0:0:0:0': 253, '2-0:0:0:1': 254, '2-0:0:0:2': 255, '2-0:0:1:0': 256, '2-0:0:1:1': 257, '2-0:0:1:2': 258, '2-0:1:0:0': 259, '2-0:1:0:1': 260, '2-0:1:0:2': 261, '2-0:1:1:0': 262, '2-0:1:1:1': 263, '2-0:1:1:2': 264, '2-1:0:0:0': 265, '2-1:0:0:1': 266, '2-1:0:0:2': 267, '2-1:0:1:0': 268, '2-1:0:1:1': 269, '2-1:0:1:2': 270, '2-1:1:0:0': 271, '2-1:1:0:1': 272, '2-1:1:0:2': 273, '2-1:1:1:0': 274, '2-1:1:1:1': 275, '2-1:1:1:2': 276, '2-2:0:0:0': 277, '2-2:0:0:1': 278, '2-2:0:0:2': 279, '2-2:0:1:0': 280, '2-2:0:1:1': 281, '2-2:0:1:2': 282, '2-2:1:0:0': 283, '2-2:1:0:1': 284, '2-2:1:0:2': 285, '2-2:1:1:0': 286, '2-2:1:1:1': 287, '2-2:1:1:2': 288, '2-3:0:0:0': 289, '2-3:0:0:1': 290, '2-3:0:0:2': 291, '2-3:0:1:0': 292, '2-3:0:1:1': 293, '2-3:0:1:2': 294, '2-3:1:0:0': 295, '2-3:1:0:1': 296, '2-3:1:0:2': 297, '2-3:1:1:0': 298, '2-3:1:1:1': 299, '2-3:1:1:2': 300, '2-4:0:0:0': 301, '2-4:0:0:1': 302, '2-4:0:0:2': 303, '2-4:0:1:0': 304, '2-4:0:1:1': 305, '2-4:0:1:2': 306, '2-4:1:0:0': 307, '2-4:1:0:1': 308, '2-4:1:0:2': 309, '2-4:1:1:0': 310, '2-4:1:1:1': 311, '2-4:1:1:2': 312, '2-5:0:0:0': 313, '2-5:0:0:1': 314, '2-5:0:0:2': 315, '2-5:0:1:0': 316, '2-5:0:1:1': 317, '2-5:0:1:2': 318, '2-5:1:0:0': 319, '2-5:1:0:1': 320, '2-5:1:0:2': 321, '2-5:1:1:0': 322, '2-5:1:1:1': 323, '2-5:1:1:2': 324, '2-6:0:0:0': 325, '2-6:0:0:1': 326, '2-6:0:0:2': 327, '2-6:0:1:0': 328, '2-6:0:1:1': 329, '2-6:0:1:2': 330, '2-6:1:0:0': 331, '2-6:1:0:1': 332, '2-6:1:0:2': 333, '2-6:1:1:0': 334, '2-6:1:1:1': 335, '2-6:1:1:2': 336, '2-7:0:0:0': 337, '2-7:0:0:1': 338, '2-7:0:0:2': 339, '2-7:0:1:0': 340, '2-7:0:1:1': 341, '2-7:0:1:2': 342, '2-7:1:0:0': 343, '2-7:1:0:1': 344, '2-7:1:0:2': 345, '2-7:1:1:0': 346, '2-7:1:1:1': 347, '2-7:1:1:2': 348, '2-8:0:0:0': 349, '2-8:0:0:1': 350, '2-8:0:0:2': 351, '2-8:0:1:0': 352, '2-8:0:1:1': 353, '2-8:0:1:2': 354, '2-8:1:0:0': 355, '2-8:1:0:1': 356, '2-8:1:0:2': 357, '2-8:1:1:0': 358, '2-8:1:1:1': 359, '2-8:1:1:2': 360, '3-0:0:0:0': 361, '3-0:0:0:1': 362, '3-0:0:0:2': 363, '3-0:0:1:0': 364, '3-0:0:1:1': 365, '3-0:0:1:2': 366, '3-0:1:0:0': 367, '3-0:1:0:1': 368, '3-0:1:0:2': 369, '3-0:1:1:0': 370, '3-0:1:1:1': 371, '3-0:1:1:2': 372, '3-1:0:0:0': 373, '3-1:0:0:1': 374, '3-1:0:0:2': 375, '3-1:0:1:0': 376, '3-1:0:1:1': 377, '3-1:0:1:2': 378, '3-1:1:0:0': 379, '3-1:1:0:1': 380, '3-1:1:0:2': 381, '3-1:1:1:0': 382, '3-1:1:1:1': 383, '3-1:1:1:2': 384, '3-2:0:0:0': 385, '3-2:0:0:1': 386, '3-2:0:0:2': 387, '3-2:0:1:0': 388, '3-2:0:1:1': 389, '3-2:0:1:2': 390, '3-2:1:0:0': 391, '3-2:1:0:1': 392, '3-2:1:0:2': 393, '3-2:1:1:0': 394, '3-2:1:1:1': 395, '3-2:1:1:2': 396, '3-3:0:0:0': 397, '3-3:0:0:1': 398, '3-3:0:0:2': 399, '3-3:0:1:0': 400, '3-3:0:1:1': 401, '3-3:0:1:2': 402, '3-3:1:0:0': 403, '3-3:1:0:1': 404, '3-3:1:0:2': 405, '3-3:1:1:0': 406, '3-3:1:1:1': 407, '3-3:1:1:2': 408, '3-4:0:0:0': 409, '3-4:0:0:1': 410, '3-4:0:0:2': 411, '3-4:0:1:0': 412, '3-4:0:1:1': 413, '3-4:0:1:2': 414, '3-4:1:0:0': 415, '3-4:1:0:1': 416, '3-4:1:0:2': 417, '3-4:1:1:0': 418, '3-4:1:1:1': 419, '3-4:1:1:2': 420, '3-5:0:0:0': 421, '3-5:0:0:1': 422, '3-5:0:0:2': 423, '3-5:0:1:0': 424, '3-5:0:1:1': 425, '3-5:0:1:2': 426, '3-5:1:0:0': 427, '3-5:1:0:1': 428, '3-5:1:0:2': 429, '3-5:1:1:0': 430, '3-5:1:1:1': 431, '3-5:1:1:2': 432, '3-6:0:0:0': 433, '3-6:0:0:1': 434, '3-6:0:0:2': 435, '3-6:0:1:0': 436, '3-6:0:1:1': 437, '3-6:0:1:2': 438, '3-6:1:0:0': 439, '3-6:1:0:1': 440, '3-6:1:0:2': 441, '3-6:1:1:0': 442, '3-6:1:1:1': 443, '3-6:1:1:2': 444, '3-7:0:0:0': 445, '3-7:0:0:1': 446, '3-7:0:0:2': 447, '3-7:0:1:0': 448, '3-7:0:1:1': 449, '3-7:0:1:2': 450, '3-7:1:0:0': 451, '3-7:1:0:1': 452, '3-7:1:0:2': 453, '3-7:1:1:0': 454, '3-7:1:1:1': 455, '3-7:1:1:2': 456, '4-0:0:0:0': 457, '4-0:0:0:1': 458, '4-0:0:0:2': 459, '4-0:0:1:0': 460, '4-0:0:1:1': 461, '4-0:0:1:2': 462, '4-0:1:0:0': 463, '4-0:1:0:1': 464, '4-0:1:0:2': 465, '4-0:1:1:0': 466, '4-0:1:1:1': 467, '4-0:1:1:2': 468, '4-1:0:0:0': 469, '4-1:0:0:1': 470, '4-1:0:0:2': 471, '4-1:0:1:0': 472, '4-1:0:1:1': 473, '4-1:0:1:2': 474, '4-1:1:0:0': 475, '4-1:1:0:1': 476, '4-1:1:0:2': 477, '4-1:1:1:0': 478, '4-1:1:1:1': 479, '4-1:1:1:2': 480, '4-2:0:0:0': 481, '4-2:0:0:1': 482, '4-2:0:0:2': 483, '4-2:0:1:0': 484, '4-2:0:1:1': 485, '4-2:0:1:2': 486, '4-2:1:0:0': 487, '4-2:1:0:1': 488, '4-2:1:0:2': 489, '4-2:1:1:0': 490, '4-2:1:1:1': 491, '4-2:1:1:2': 492, '4-3:0:0:0': 493, '4-3:0:0:1': 494, '4-3:0:0:2': 495, '4-3:0:1:0': 496, '4-3:0:1:1': 497, '4-3:0:1:2': 498, '4-3:1:0:0': 499, '4-3:1:0:1': 500, '4-3:1:0:2': 501, '4-3:1:1:0': 502, '4-3:1:1:1': 503, '4-3:1:1:2': 504, '4-4:0:0:0': 505, '4-4:0:0:1': 506, '4-4:0:0:2': 507, '4-4:0:1:0': 508, '4-4:0:1:1': 509, '4-4:0:1:2': 510, '4-4:1:0:0': 511, '4-4:1:0:1': 512, '4-4:1:0:2': 513, '4-4:1:1:0': 514, '4-4:1:1:1': 515, '4-4:1:1:2': 516, '4-5:0:0:0': 517, '4-5:0:0:1': 518, '4-5:0:0:2': 519, '4-5:0:1:0': 520, '4-5:0:1:1': 521, '4-5:0:1:2': 522, '4-5:1:0:0': 523, '4-5:1:0:1': 524, '4-5:1:0:2': 525, '4-5:1:1:0': 526, '4-5:1:1:1': 527, '4-5:1:1:2': 528, '4-6:0:0:0': 529, '4-6:0:0:1': 530, '4-6:0:0:2': 531, '4-6:0:1:0': 532, '4-6:0:1:1': 533, '4-6:0:1:2': 534, '4-6:1:0:0': 535, '4-6:1:0:1': 536, '4-6:1:0:2': 537, '4-6:1:1:0': 538, '4-6:1:1:1': 539, '4-6:1:1:2': 540, '5-0:0:0:0': 541, '5-0:0:0:1': 542, '5-0:0:0:2': 543, '5-0:0:1:0': 544, '5-0:0:1:1': 545, '5-0:0:1:2': 546, '5-0:1:0:0': 547, '5-0:1:0:1': 548, '5-0:1:0:2': 549, '5-0:1:1:0': 550, '5-0:1:1:1': 551, '5-0:1:1:2': 552, '5-1:0:0:0': 553, '5-1:0:0:1': 554, '5-1:0:0:2': 555, '5-1:0:1:0': 556, '5-1:0:1:1': 557, '5-1:0:1:2': 558, '5-1:1:0:0': 559, '5-1:1:0:1': 560, '5-1:1:0:2': 561, '5-1:1:1:0': 562, '5-1:1:1:1': 563, '5-1:1:1:2': 564, '5-2:0:0:0': 565, '5-2:0:0:1': 566, '5-2:0:0:2': 567, '5-2:0:1:0': 568, '5-2:0:1:1': 569, '5-2:0:1:2': 570, '5-2:1:0:0': 571, '5-2:1:0:1': 572, '5-2:1:0:2': 573, '5-2:1:1:0': 574, '5-2:1:1:1': 575, '5-2:1:1:2': 576, '5-3:0:0:0': 577, '5-3:0:0:1': 578, '5-3:0:0:2': 579, '5-3:0:1:0': 580, '5-3:0:1:1': 581, '5-3:0:1:2': 582, '5-3:1:0:0': 583, '5-3:1:0:1': 584, '5-3:1:0:2': 585, '5-3:1:1:0': 586, '5-3:1:1:1': 587, '5-3:1:1:2': 588, '5-4:0:0:0': 589, '5-4:0:0:1': 590, '5-4:0:0:2': 591, '5-4:0:1:0': 592, '5-4:0:1:1': 593, '5-4:0:1:2': 594, '5-4:1:0:0': 595, '5-4:1:0:1': 596, '5-4:1:0:2': 597, '5-4:1:1:0': 598, '5-4:1:1:1': 599, '5-4:1:1:2': 600, '5-5:0:0:0': 601, '5-5:0:0:1': 602, '5-5:0:0:2': 603, '5-5:0:1:0': 604, '5-5:0:1:1': 605, '5-5:0:1:2': 606, '5-5:1:0:0': 607, '5-5:1:0:1': 608, '5-5:1:0:2': 609, '5-5:1:1:0': 610, '5-5:1:1:1': 611, '5-5:1:1:2': 612, '6-0:0:0:0': 613, '6-0:0:0:1': 614, '6-0:0:0:2': 615, '6-0:0:1:0': 616, '6-0:0:1:1': 617, '6-0:0:1:2': 618, '6-0:1:0:0': 619, '6-0:1:0:1': 620, '6-0:1:0:2': 621, '6-0:1:1:0': 622, '6-0:1:1:1': 623, '6-0:1:1:2': 624, '6-1:0:0:0': 625, '6-1:0:0:1': 626, '6-1:0:0:2': 627, '6-1:0:1:0': 628, '6-1:0:1:1': 629, '6-1:0:1:2': 630, '6-1:1:0:0': 631, '6-1:1:0:1': 632, '6-1:1:0:2': 633, '6-1:1:1:0': 634, '6-1:1:1:1': 635, '6-1:1:1:2': 636, '6-2:0:0:0': 637, '6-2:0:0:1': 638, '6-2:0:0:2': 639, '6-2:0:1:0': 640, '6-2:0:1:1': 641, '6-2:0:1:2': 642, '6-2:1:0:0': 643, '6-2:1:0:1': 644, '6-2:1:0:2': 645, '6-2:1:1:0': 646, '6-2:1:1:1': 647, '6-2:1:1:2': 648, '6-3:0:0:0': 649, '6-3:0:0:1': 650, '6-3:0:0:2': 651, '6-3:0:1:0': 652, '6-3:0:1:1': 653, '6-3:0:1:2': 654, '6-3:1:0:0': 655, '6-3:1:0:1': 656, '6-3:1:0:2': 657, '6-3:1:1:0': 658, '6-3:1:1:1': 659, '6-3:1:1:2': 660, '6-4:0:0:0': 661, '6-4:0:0:1': 662, '6-4:0:0:2': 663, '6-4:0:1:0': 664, '6-4:0:1:1': 665, '6-4:0:1:2': 666, '6-4:1:0:0': 667, '6-4:1:0:1': 668, '6-4:1:0:2': 669, '6-4:1:1:0': 670, '6-4:1:1:1': 671, '6-4:1:1:2': 672, '7-0:0:0:0': 673, '7-0:0:0:1': 674, '7-0:0:0:2': 675, '7-0:0:1:0': 676, '7-0:0:1:1': 677, '7-0:0:1:2': 678, '7-0:1:0:0': 679, '7-0:1:0:1': 680, '7-0:1:0:2': 681, '7-0:1:1:0': 682, '7-0:1:1:1': 683, '7-0:1:1:2': 684, '7-1:0:0:0': 685, '7-1:0:0:1': 686, '7-1:0:0:2': 687, '7-1:0:1:0': 688, '7-1:0:1:1': 689, '7-1:0:1:2': 690, '7-1:1:0:0': 691, '7-1:1:0:1': 692, '7-1:1:0:2': 693, '7-1:1:1:0': 694, '7-1:1:1:1': 695, '7-1:1:1:2': 696, '7-2:0:0:0': 697, '7-2:0:0:1': 698, '7-2:0:0:2': 699, '7-2:0:1:0': 700, '7-2:0:1:1': 701, '7-2:0:1:2': 702, '7-2:1:0:0': 703, '7-2:1:0:1': 704, '7-2:1:0:2': 705, '7-2:1:1:0': 706, '7-2:1:1:1': 707, '7-2:1:1:2': 708, '7-3:0:0:0': 709, '7-3:0:0:1': 710, '7-3:0:0:2': 711, '7-3:0:1:0': 712, '7-3:0:1:1': 713, '7-3:0:1:2': 714, '7-3:1:0:0': 715, '7-3:1:0:1': 716, '7-3:1:0:2': 717, '7-3:1:1:0': 718, '7-3:1:1:1': 719, '7-3:1:1:2': 720, '8-0:0:0:0': 721, '8-0:0:0:1': 722, '8-0:0:0:2': 723, '8-0:0:1:0': 724, '8-0:0:1:1': 725, '8-0:0:1:2': 726, '8-0:1:0:0': 727, '8-0:1:0:1': 728, '8-0:1:0:2': 729, '8-0:1:1:0': 730, '8-0:1:1:1': 731, '8-0:1:1:2': 732, '8-1:0:0:0': 733, '8-1:0:0:1': 734, '8-1:0:0:2': 735, '8-1:0:1:0': 736, '8-1:0:1:1': 737, '8-1:0:1:2': 738, '8-1:1:0:0': 739, '8-1:1:0:1': 740, '8-1:1:0:2': 741, '8-1:1:1:0': 742, '8-1:1:1:1': 743, '8-1:1:1:2': 744, '8-2:0:0:0': 745, '8-2:0:0:1': 746, '8-2:0:0:2': 747, '8-2:0:1:0': 748, '8-2:0:1:1': 749, '8-2:0:1:2': 750, '8-2:1:0:0': 751, '8-2:1:0:1': 752, '8-2:1:0:2': 753, '8-2:1:1:0': 754, '8-2:1:1:1': 755, '8-2:1:1:2': 756, '9-0:0:0:0': 757, '9-0:0:0:1': 758, '9-0:0:0:2': 759, '9-0:0:1:0': 760, '9-0:0:1:1': 761, '9-0:0:1:2': 762, '9-0:1:0:0': 763, '9-0:1:0:1': 764, '9-0:1:0:2': 765, '9-0:1:1:0': 766, '9-0:1:1:1': 767, '9-0:1:1:2': 768, '9-1:0:0:0': 769, '9-1:0:0:1': 770, '9-1:0:0:2': 771, '9-1:0:1:0': 772, '9-1:0:1:1': 773, '9-1:0:1:2': 774, '9-1:1:0:0': 775, '9-1:1:0:1': 776, '9-1:1:0:2': 777, '9-1:1:1:0': 778, '9-1:1:1:1': 779, '9-1:1:1:2': 780, '10-0:0:0:0': 781, '10-0:0:0:1': 782, '10-0:0:0:2': 783, '10-0:0:1:0': 784, '10-0:0:1:1': 785, '10-0:0:1:2': 786, '10-0:1:0:0': 787, '10-0:1:0:1': 788, '10-0:1:0:2': 789, '10-0:1:1:0': 790, '10-0:1:1:1': 791, '10-0:1:1:2': 792}\n",
            "len_match_cat_dict4:  792\n",
            "(none_idx3, none_idx4):  264 792\n"
          ]
        }
      ],
      "source": [
        "match_cat_dict4 = {}\n",
        "match_cat_dict3 = {}\n",
        "cnt3 = 1\n",
        "cnt4 = 1\n",
        "for home_score in range(11):\n",
        "    for away_score in range(11):\n",
        "        for home_place in range(2):\n",
        "            for regular_match in range(2):\n",
        "                if (home_score + away_score) < 11:\n",
        "                    match_cat_dict3[\n",
        "                        str(home_score) + '-' + \\\n",
        "                        str(away_score) + ':' + \\\n",
        "                        str(home_place) + ':' + \\\n",
        "                        str(regular_match)\n",
        "                                    ] = cnt3\n",
        "                    cnt3 += 1\n",
        "                for rest_time in range(3):\n",
        "                    if (home_score + away_score) < 11:\n",
        "                        match_cat_dict4[\n",
        "                            str(home_score) + '-' + \\\n",
        "                            str(away_score) + ':' + \\\n",
        "                            str(home_place) + ':' + \\\n",
        "                            str(regular_match) + ':' + \\\n",
        "                            str(rest_time)\n",
        "                                    ] = cnt4\n",
        "                        cnt4 += 1\n",
        "\n",
        "none_idx3 = max(match_cat_dict3.values())\n",
        "none_idx4 = max(match_cat_dict4.values())\n",
        "\n",
        "print(match_cat_dict3)\n",
        "print(len(match_cat_dict3))\n",
        "print(match_cat_dict4)\n",
        "print('len_match_cat_dict4: ', len(match_cat_dict4))\n",
        "print('(none_idx3, none_idx4): ', none_idx3, none_idx4)"
      ]
    },
    {
      "cell_type": "code",
      "execution_count": 27,
      "metadata": {
        "colab": {
          "base_uri": "https://localhost:8080/"
        },
        "id": "55dzOFoVNV0w",
        "outputId": "9f675d7e-1a86-4a19-a957-6947acef8d8d"
      },
      "outputs": [
        {
          "output_type": "stream",
          "name": "stderr",
          "text": [
            "100%|██████████| 2703623/2703623 [00:04<00:00, 595079.23it/s]\n"
          ]
        }
      ],
      "source": [
        "input_list = []\n",
        "for info in tqdm(zip(data_df['score_adj'], data_df['local_match'],   data_df['team_rest_home_adj']), total = len(data_df)):\n",
        "    cat_key = info[0] + ':' + '0' + ':' + str(info[1]) + ':' + str(info[2])\n",
        "    input_list.append(cat_key)\n",
        "#data_df['home_token3'] = input_list\n",
        "data_df['home_token4'] = input_list #data_df['home_token3'] + ':' +  data_df['team_rest_home_adj'].astype(str)"
      ]
    },
    {
      "cell_type": "code",
      "execution_count": 28,
      "metadata": {
        "colab": {
          "base_uri": "https://localhost:8080/"
        },
        "id": "N4kozJI5NaK_",
        "outputId": "bd48206d-a47b-4e5b-dc84-c1e9b5bcd045"
      },
      "outputs": [
        {
          "output_type": "stream",
          "name": "stderr",
          "text": [
            "100%|██████████| 2703623/2703623 [00:04<00:00, 615789.24it/s]\n"
          ]
        }
      ],
      "source": [
        "input_list = []\n",
        "for info in tqdm(zip(data_df['score_adj'], data_df['local_match'],  data_df['team_rest_away_adj']), total = len(data_df)):\n",
        "    cat_key = info[0] + ':' + '1' + ':' + str(info[1]) + ':' + str(info[2])\n",
        "    input_list.append(cat_key)\n",
        "data_df['away_token4'] = input_list"
      ]
    },
    {
      "cell_type": "code",
      "execution_count": 29,
      "metadata": {
        "colab": {
          "base_uri": "https://localhost:8080/"
        },
        "id": "ppnlWS91ztwK",
        "outputId": "ace7e3c1-de56-46c3-fa44-0b9613845fcd"
      },
      "outputs": [
        {
          "output_type": "stream",
          "name": "stderr",
          "text": [
            "100%|██████████| 2703623/2703623 [00:01<00:00, 2238850.24it/s]\n",
            "100%|██████████| 2703623/2703623 [00:01<00:00, 1579334.39it/s]\n"
          ]
        }
      ],
      "source": [
        "data_df['home_idx'] = [match_cat_dict4[idx] for idx in tqdm(data_df['home_token4'], total = len(data_df))]\n",
        "data_df['away_idx'] = [match_cat_dict4[idx] for idx in tqdm(data_df['away_token4'], total = len(data_df))]"
      ]
    },
    {
      "cell_type": "code",
      "execution_count": 30,
      "metadata": {
        "colab": {
          "base_uri": "https://localhost:8080/"
        },
        "id": "64i-IrHsoCUg",
        "outputId": "091ebd7f-35cf-49ee-93d1-4e48f9d3e1e2"
      },
      "outputs": [
        {
          "output_type": "stream",
          "name": "stderr",
          "text": [
            "100%|██████████| 2703623/2703623 [00:10<00:00, 263158.31it/s]\n"
          ]
        }
      ],
      "source": [
        "for info in tqdm(zip(data_df.HomeId, data_df.AwayId, data_df.Id, data_df.home_idx, data_df.away_idx), total = len(data_df)):\n",
        "    homeID = info[0]\n",
        "    awayID = info[1]\n",
        "    matchID = info[2]\n",
        "    homeIDX = info[3]\n",
        "    awayIDX = info[4]\n",
        "    team_GId_dict[homeID][matchID] += [homeIDX]\n",
        "    team_GId_dict[awayID][matchID] += [awayIDX]"
      ]
    },
    {
      "cell_type": "markdown",
      "metadata": {
        "id": "VgLE25W5Nsuh"
      },
      "source": [
        "#### Кодируем вектор истории произвольной глубины"
      ]
    },
    {
      "cell_type": "code",
      "execution_count": 31,
      "metadata": {
        "id": "ULj3r9CZqtMN"
      },
      "outputs": [],
      "source": [
        "def idx_recursive(current_team:int, \n",
        "                  current_index:int,\n",
        "                  loop_back:int,\n",
        "                  main_dict = team_GId_dict,\n",
        "                  final_list = None) -> list:\n",
        "    if final_list is None:\n",
        "        final_list = []\n",
        "    previous_index = main_dict[current_team][current_index][0]\n",
        "    if previous_index == -1:\n",
        "        final_list = [0] * loop_back\n",
        "        return final_list\n",
        "        \n",
        "    previous_idx = main_dict[current_team][previous_index][2]\n",
        "    loop_back -=1\n",
        "    if loop_back > 0:    \n",
        "        final_list = idx_recursive(current_team,\n",
        "                                   previous_index,\n",
        "                                   loop_back,\n",
        "                                   main_dict = main_dict,\n",
        "                                   final_list = final_list)\n",
        "    final_list.append(previous_idx)\n",
        "    return final_list"
      ]
    },
    {
      "cell_type": "code",
      "execution_count": 32,
      "metadata": {
        "colab": {
          "base_uri": "https://localhost:8080/"
        },
        "id": "jESyCLlHUVhG",
        "outputId": "7bacf996-b8d3-406d-ca9e-ae496eb20fc6"
      },
      "outputs": [
        {
          "output_type": "stream",
          "name": "stderr",
          "text": [
            "100%|██████████| 2703623/2703623 [00:42<00:00, 64152.50it/s]\n"
          ]
        }
      ],
      "source": [
        "look_back = 10\n",
        "input_list = []\n",
        "for idx in tqdm(zip(data_df.Id, data_df['HomeId']),\n",
        "                total = len(data_df)):\n",
        "\n",
        "    input_list.append(  \n",
        "        idx_recursive(\n",
        "            idx[1], \n",
        "            idx[0],\n",
        "            look_back,\n",
        "                      )[::-1])\n",
        "data_df[[f'home_input_{num}' for num in range(1, 1 + look_back)]] = input_list"
      ]
    },
    {
      "cell_type": "code",
      "execution_count": 33,
      "metadata": {
        "colab": {
          "base_uri": "https://localhost:8080/"
        },
        "id": "mNDfK7wLtYpc",
        "outputId": "68aa6718-cd48-42e0-d8fb-379d53b0f716"
      },
      "outputs": [
        {
          "output_type": "stream",
          "name": "stderr",
          "text": [
            "100%|██████████| 2703623/2703623 [00:47<00:00, 56983.40it/s]\n"
          ]
        }
      ],
      "source": [
        "look_back = 10\n",
        "input_list = []\n",
        "for idx in tqdm(zip(data_df.Id, data_df['AwayId']),\n",
        "                total = len(data_df)):\n",
        "\n",
        "    input_list.append(  \n",
        "        idx_recursive(\n",
        "            idx[1], \n",
        "            idx[0],\n",
        "            look_back,\n",
        "                      )[::-1])\n",
        "data_df[[f'away_input_{num}' for num in range(1, 1 + look_back)]] = input_list"
      ]
    },
    {
      "cell_type": "markdown",
      "metadata": {
        "id": "O_Tb2e0AOZjp"
      },
      "source": [
        "#### Encoding output"
      ]
    },
    {
      "cell_type": "code",
      "execution_count": 34,
      "metadata": {
        "id": "O9UggXA-Roz5"
      },
      "outputs": [],
      "source": [
        "data_df['binary_output'] = 0\n",
        "data_df['binary_output'][data_df['Winner'] == 'H'] = 1"
      ]
    },
    {
      "cell_type": "code",
      "execution_count": 35,
      "metadata": {
        "id": "tn95_Yi1RR3I"
      },
      "outputs": [],
      "source": [
        "data_df['class_H'] = 0\n",
        "data_df['class_D'] = 0\n",
        "data_df['class_A'] = 0\n",
        "data_df['class_H'][data_df['Winner'] == 'H'] = 1\n",
        "data_df['class_D'][data_df['Winner'] == 'D'] = 1\n",
        "data_df['class_A'][data_df['Winner'] == 'A'] = 1"
      ]
    },
    {
      "cell_type": "code",
      "execution_count": 36,
      "metadata": {
        "id": "pcvaXXpJhktx"
      },
      "outputs": [],
      "source": [
        "data_ready_columns = [\n",
        "         'date',\n",
        "         'timestamp',\n",
        "         'Id',\n",
        "         'local_match',\n",
        "         'team_rest_home_adj',  \n",
        "         'home_input_1', \n",
        "         'home_input_2', \n",
        "         'home_input_3', \n",
        "         'home_input_4', \n",
        "         'home_input_5', \n",
        "         'home_input_6', \n",
        "         'home_input_7', \n",
        "         'home_input_8', \n",
        "         'home_input_9', \n",
        "         'home_input_10', \n",
        "         'team_rest_away_adj', \n",
        "         'away_input_1', \n",
        "         'away_input_2', \n",
        "         'away_input_3', \n",
        "         'away_input_4', \n",
        "         'away_input_5', \n",
        "         'away_input_6', \n",
        "         'away_input_7', \n",
        "         'away_input_8', \n",
        "         'away_input_9', \n",
        "         'away_input_10',\n",
        "         'binary_output', \n",
        "         'class_H',\n",
        "         'class_D', \n",
        "         'class_A']"
      ]
    },
    {
      "cell_type": "code",
      "execution_count": 37,
      "metadata": {
        "id": "ODwS3mnpelNu"
      },
      "outputs": [],
      "source": [
        "data_version = 'data_221101/'\n",
        "username, api_key = get_credential()\n",
        "upload = False\n",
        "if upload:\n",
        "    import pickle\n",
        "    with open(\"./team_GId_dict.pickle\", \"wb\") as f:\n",
        "        pickle.dump(team_GId_dict, f, protocol=pickle.HIGHEST_PROTOCOL)\n",
        "    with open(\"./match_cat_dict4.pickle\", \"wb\") as f:\n",
        "        pickle.dump(match_cat_dict4, f, protocol=pickle.HIGHEST_PROTOCOL)\n",
        "    data_df[data_ready_columns].to_csv('./data_ready.csv.gz', compression ={'method':'gzip'}, index = None)\n",
        "    dataset_params = {}\n",
        "    dataset_params['description'] = ''\n",
        "    project = neptune.init_project(\n",
        "        name=\"scomesse/football\", \n",
        "        api_token = api_key\n",
        "        )\n",
        "    project[data_version + 'team_GId_dict'].upload('./team_GId_dict.pickle')\n",
        "    project[data_version + 'match_cat_dict4'].upload('./match_cat_dict4.pickle')\n",
        "    project[data_version + 'data_ready'].upload('./data_ready.csv.gz')\n",
        "    project[data_version + 'params'] = dataset_params\n",
        "    project.stop()"
      ]
    },
    {
      "cell_type": "markdown",
      "metadata": {
        "id": "a8O1i22K12Es"
      },
      "source": [
        "####Create new Word2Vec model"
      ]
    },
    {
      "cell_type": "code",
      "execution_count": 38,
      "metadata": {
        "colab": {
          "base_uri": "https://localhost:8080/"
        },
        "id": "vQrjajRlOtsv",
        "outputId": "2e891044-37b6-490f-fcf1-f48c30388f34"
      },
      "outputs": [
        {
          "output_type": "stream",
          "name": "stdout",
          "text": [
            "https://app.neptune.ai/scomesse/football/\n",
            "Remember to stop your project once you’ve finished logging your metadata (https://docs.neptune.ai/api/project#stop). It will be stopped automatically only when the notebook kernel/interactive console is terminated.\n",
            "Shutting down background jobs, please wait a moment...\n",
            "Done!\n",
            "All 0 operations synced, thanks for waiting!\n",
            "Explore the metadata in the Neptune app:\n",
            "https://app.neptune.ai/scomesse/football/metadata\n"
          ]
        }
      ],
      "source": [
        "word2vec_is_ready = True\n",
        "if word2vec_is_ready:\n",
        "    data_version = 'data_221101/'\n",
        "    username, api_key = get_credential()\n",
        "    project = neptune.init_project(\n",
        "        name=\"scomesse/football\", \n",
        "        api_token = api_key\n",
        "        )\n",
        "    project[data_version + 'word2vec'].download('./word2vec.wordvectors.tar.gz')\n",
        "    word2vec_params = project[data_version + 'word2vec_params'].fetch()\n",
        "    project.stop()\n",
        "\n",
        "    def run_bash(bashCommand:str, nameCommand = ''):\n",
        "            process = subprocess.Popen([bashCommand], \n",
        "                            shell=True)\n",
        "            _, error = process.communicate()\n",
        "            if error:\n",
        "                print(f'{nameCommand} error:\\n', error)\n",
        "    bashCommand = f\"\"\"\n",
        "    tar -zxvf ./word2vec.wordvectors.tar.gz \n",
        "    \"\"\"\n",
        "    run_bash(bashCommand, 'tar_wv')\n",
        "    from gensim.models import KeyedVectors\n",
        "    wv = KeyedVectors.load('./word2vec_vs16_sg1.wordvectors', mmap='r')"
      ]
    },
    {
      "cell_type": "code",
      "execution_count": 42,
      "metadata": {
        "id": "A7PF9uHs5txz"
      },
      "outputs": [],
      "source": [
        "names =['home_input_1', \n",
        "         'home_input_2', \n",
        "         'home_input_3', \n",
        "         'home_input_4', \n",
        "         'home_input_5', \n",
        "         'home_input_6', \n",
        "         'home_input_7', \n",
        "         'home_input_8', \n",
        "         'home_input_9', \n",
        "         'home_input_10',\n",
        "         'away_input_1', \n",
        "         'away_input_2', \n",
        "         'away_input_3', \n",
        "         'away_input_4', \n",
        "         'away_input_5', \n",
        "         'away_input_6', \n",
        "         'away_input_7', \n",
        "         'away_input_8', \n",
        "         'away_input_9', \n",
        "         'away_input_10']"
      ]
    },
    {
      "cell_type": "code",
      "execution_count": 43,
      "metadata": {
        "colab": {
          "base_uri": "https://localhost:8080/"
        },
        "id": "PZa1SuU655vN",
        "outputId": "340d8452-2f23-419b-b8d7-f18616844d87"
      },
      "outputs": [
        {
          "output_type": "stream",
          "name": "stderr",
          "text": [
            "100%|██████████| 2703623/2703623 [00:30<00:00, 87248.39it/s] \n"
          ]
        }
      ],
      "source": [
        "# каждый и строку историй для каждой команды в матче переводим в list, условное строковое предложение\n",
        "# далее для этих предложений или корпуса предложений создаём word2vec модель\n",
        "corpus = []\n",
        "for document in tqdm(data_df[names].values, total = len(data_df)):\n",
        "    #words = [tokenizer[word] for word in document if word != 0]\n",
        "    words = [word for word in document if word != 0]\n",
        "    if words:\n",
        "        corpus.append(words)"
      ]
    },
    {
      "cell_type": "markdown",
      "metadata": {
        "id": "hBX10YRj6_9B"
      },
      "source": [
        "<img src=\"https://api.monosnap.com/file/download?id=lq8rws2WsGIDPxadAfE9VA5lqv5VvK\"/>"
      ]
    },
    {
      "cell_type": "code",
      "execution_count": null,
      "metadata": {
        "colab": {
          "base_uri": "https://localhost:8080/"
        },
        "id": "G51W25RS6pr6",
        "outputId": "c9eab7f1-2a9c-4406-827c-13b653ce9996"
      },
      "outputs": [
        {
          "output_type": "stream",
          "name": "stdout",
          "text": [
            "Word2Vec trained model KeyedVectors<vector_size=16, 792 keys>\n",
            "./word2vec.wordvectors\n"
          ]
        }
      ],
      "source": [
        "#@title Create new Word2Vec model\n",
        "create_model = False #@param {type:\"boolean\"}\n",
        "\n",
        "if create_model:\n",
        "    # Using params from Word2Vec_FastText_Comparison\n",
        "    #EMBEDDING_DIM = 256\n",
        "    word2vec_params = {\n",
        "        #'alpha': 0.05,\n",
        "        'vector_size': 16,\n",
        "        'window': 20,\n",
        "        'epochs': 5,\n",
        "        'min_count': 1,\n",
        "        #'sample': 1e-4,\n",
        "        'sg': 1,\n",
        "        'hs': 0,\n",
        "        #'negative': 5,\n",
        "    }\n",
        "    model = Word2Vec(corpus, **word2vec_params)\n",
        "    wv = model.wv\n",
        "    print(\"Word2Vec trained model\", wv)\n",
        "    vectors_path = './word2vec.wordvectors'\n",
        "    wv.save(vectors_path)\n",
        "    !tar -zcvf {vectors_path}.tar.gz {vectors_path}*"
      ]
    },
    {
      "cell_type": "code",
      "execution_count": null,
      "metadata": {
        "colab": {
          "base_uri": "https://localhost:8080/"
        },
        "id": "H3byZTqXUdOB",
        "outputId": "dc9b9a9a-3232-4f7d-8c30-9dcd07127365"
      },
      "outputs": [
        {
          "output_type": "stream",
          "name": "stdout",
          "text": [
            "https://app.neptune.ai/scomesse/football/\n",
            "Remember to stop your project once you’ve finished logging your metadata (https://docs.neptune.ai/api/project#stop). It will be stopped automatically only when the notebook kernel/interactive console is terminated.\n",
            "Shutting down background jobs, please wait a moment...\n",
            "Done!\n",
            "Waiting for the remaining 7 operations to synchronize with Neptune. Do not kill this process.\n",
            "All 7 operations synced, thanks for waiting!\n",
            "Explore the metadata in the Neptune app:\n",
            "https://app.neptune.ai/scomesse/football/metadata\n"
          ]
        }
      ],
      "source": [
        "if create_model:\n",
        "    data_version = 'data_221101/'\n",
        "    vectors_path = './word2vec_vs16_sg1.wordvectors'\n",
        "\n",
        "    username, api_key = get_credential()\n",
        "    upload = True\n",
        "    if upload:\n",
        "        project = neptune.init_project(\n",
        "            name=\"scomesse/football\", \n",
        "            api_token = api_key\n",
        "            )\n",
        "        project[data_version + 'word2vec'].upload(f'{vectors_path}.tar.gz')\n",
        "        project[data_version+ 'word2vec_params'] = word2vec_params\n",
        "        project.stop()"
      ]
    },
    {
      "cell_type": "code",
      "source": [
        "# создаём матрицу векторов слов из word2vec модели\n",
        "# а потом вектор слова будем индексировать по словарю из след. ячейки\n",
        "# (wv.index_to_key) или word ->  слово у нас представлено цифрой\n",
        "embedding_matrix = np.zeros((len(wv.index_to_key) + 1, word2vec_params['vector_size']))\n",
        "for num in tqdm(range(len(wv.index_to_key)), total = len(wv.index_to_key)):\n",
        "    embedding_matrix[num + 1] = wv[wv.index_to_key[num]]"
      ],
      "metadata": {
        "colab": {
          "base_uri": "https://localhost:8080/"
        },
        "id": "kXSLJnDJ4LCr",
        "outputId": "5bc0742f-0420-40a4-b4f2-22d586db0376"
      },
      "execution_count": 44,
      "outputs": [
        {
          "output_type": "stream",
          "name": "stderr",
          "text": [
            "100%|██████████| 792/792 [00:00<00:00, 123835.56it/s]\n"
          ]
        }
      ]
    },
    {
      "cell_type": "code",
      "execution_count": 45,
      "metadata": {
        "id": "KAdOsapYY-ZO"
      },
      "outputs": [],
      "source": [
        "idx_arr = np.zeros(max(wv.key_to_index) + 1)\n",
        "for key, value in wv.key_to_index.items():\n",
        "    idx_arr[key] = value + 1"
      ]
    },
    {
      "cell_type": "code",
      "execution_count": 46,
      "metadata": {
        "id": "NCZFEMGPN5-h"
      },
      "outputs": [],
      "source": [
        "val_date = pd.to_datetime('2022-01-01').timestamp()\n",
        "train_date = pd.to_datetime('2019-01-01').timestamp()"
      ]
    },
    {
      "cell_type": "code",
      "execution_count": 47,
      "metadata": {
        "colab": {
          "base_uri": "https://localhost:8080/"
        },
        "id": "o0VAuEKaZrWx",
        "outputId": "f7ea22dc-e961-4d3f-b711-9bab346efb3d"
      },
      "outputs": [
        {
          "output_type": "stream",
          "name": "stdout",
          "text": [
            "1923326 582753 197544\n"
          ]
        }
      ],
      "source": [
        "val_date = pd.to_datetime('2022-01-01').timestamp()\n",
        "train_date = pd.to_datetime('2019-01-01').timestamp()\n",
        "validation_vector = (data_df['timestamp'] > val_date).values\n",
        "test_vector = ((data_df['timestamp'] < val_date) & (data_df['timestamp'] > train_date)).values\n",
        "train_vector = (data_df['timestamp'] < train_date).values\n",
        "print(train_vector.sum(), test_vector.sum(), validation_vector.sum())"
      ]
    },
    {
      "cell_type": "code",
      "execution_count": 48,
      "metadata": {
        "id": "SEZz6AatZImr"
      },
      "outputs": [],
      "source": [
        "# Делим трейн -тест - валидация\n",
        "X_train = idx_arr[data_df[names][train_vector].values].astype(int)\n",
        "X_test = idx_arr[data_df[names][test_vector].values].astype(int)\n",
        "X_validation = idx_arr[data_df[names][validation_vector].values].astype(int)\n",
        "\n",
        "# Our target variable\n",
        "y_train = data_df['binary_output'][train_vector].values\n",
        "y_test = data_df['binary_output'][test_vector].values\n",
        "y_validation = data_df['binary_output'][validation_vector].values\n",
        "\n",
        "# Our target variable\n",
        "y_class_train = data_df[['class_H', 'class_D', 'class_A']][train_vector].values\n",
        "y_class_test = data_df[['class_H', 'class_D', 'class_A']][test_vector].values\n",
        "y_class_validation = data_df[['class_H', 'class_D', 'class_A']][validation_vector].values"
      ]
    },
    {
      "cell_type": "code",
      "execution_count": 50,
      "metadata": {
        "colab": {
          "base_uri": "https://localhost:8080/"
        },
        "id": "czlLCgPY1fxB",
        "outputId": "e191f8f9-f58c-43bb-d909-7d0dfce6c448"
      },
      "outputs": [
        {
          "output_type": "stream",
          "name": "stdout",
          "text": [
            "https://app.neptune.ai/scomesse/football/\n",
            "Remember to stop your project once you’ve finished logging your metadata (https://docs.neptune.ai/api/project#stop). It will be stopped automatically only when the notebook kernel/interactive console is terminated.\n",
            "Shutting down background jobs, please wait a moment...\n",
            "Done!\n",
            "All 0 operations synced, thanks for waiting!\n",
            "Explore the metadata in the Neptune app:\n",
            "https://app.neptune.ai/scomesse/football/metadata\n"
          ]
        }
      ],
      "source": [
        "# Обрабатываем кэфы, для последующих валидаций\n",
        "data_version = 'data_221101/'\n",
        "project = neptune.init_project(\n",
        "    name=\"scomesse/football\", \n",
        "    api_token = api_key\n",
        "    )\n",
        "project[data_version + 'SwCoefs'].download('./SwCoefs.csv')\n",
        "project.stop()"
      ]
    },
    {
      "cell_type": "code",
      "source": [
        "file_path = './SwCoefs.csv'"
      ],
      "metadata": {
        "id": "OJJsDLbDH2zU"
      },
      "execution_count": 51,
      "outputs": []
    },
    {
      "cell_type": "code",
      "execution_count": 52,
      "metadata": {
        "id": "mnn3Dy2A2ojV"
      },
      "outputs": [],
      "source": [
        "perm_df = pd.read_csv(file_path , sep = ';')\n",
        "perm_df = perm_df.drop_duplicates(subset = ['Id'], keep = False)\n",
        "perm_df = perm_df[perm_df[['LW1', 'LX', 'LW2']].notna().all(axis = 1)]\n"
      ]
    },
    {
      "cell_type": "code",
      "execution_count": 53,
      "metadata": {
        "id": "nII5jUGo5cTN"
      },
      "outputs": [],
      "source": [
        "production_vector = data_df.Id.isin(perm_df.Id)\n",
        "X_production = idx_arr[data_df[names][production_vector].values].astype(int)\n",
        "y_production = data_df['binary_output'][production_vector].values\n",
        "y_class_production = data_df[['class_H', 'class_D', 'class_A']][production_vector].values"
      ]
    },
    {
      "cell_type": "code",
      "execution_count": 54,
      "metadata": {
        "id": "5tNap8vJOCt9"
      },
      "outputs": [],
      "source": [
        "perm_df.set_index('Id').reindex(\n",
        "                data_df['Id'][production_vector]\n",
        "                                ).to_csv(f'{file_path.replace(\".csv\", \"\")}_filtered.csv')"
      ]
    },
    {
      "cell_type": "code",
      "execution_count": 55,
      "metadata": {
        "id": "K5_X29x5P5Z1"
      },
      "outputs": [],
      "source": [
        "line_array = perm_df.set_index('Id')[\n",
        "    ['LW1', 'LX', 'LW2']\n",
        "            ].reindex(\n",
        "                data_df['Id'][production_vector]\n",
        "                                ).values"
      ]
    },
    {
      "cell_type": "code",
      "execution_count": 56,
      "metadata": {
        "id": "jm_twr-m0awh"
      },
      "outputs": [],
      "source": [
        "npz_name = 'dataset'\n",
        "np.savez_compressed('./' + npz_name, \n",
        "                    X_train = X_train, X_test = X_test, X_validation = X_validation,\n",
        "                    X_production = X_production,\n",
        "                    y_train = y_train, y_test = y_test, y_validation = y_validation,\n",
        "                    y_production = y_production,\n",
        "                    y_class_train = y_class_train, y_class_test = y_class_test,\n",
        "                    y_class_validation = y_class_validation,\n",
        "                    y_class_production = y_class_production,\n",
        "                    Line_production = line_array,\n",
        "                    embedding_matrix = embedding_matrix\n",
        "                    )"
      ]
    },
    {
      "cell_type": "code",
      "execution_count": null,
      "metadata": {
        "colab": {
          "base_uri": "https://localhost:8080/"
        },
        "id": "IGR0FpP2EyA0",
        "outputId": "b279aec4-4869-4577-9033-3d082be416db"
      },
      "outputs": [
        {
          "output_type": "stream",
          "name": "stdout",
          "text": [
            "https://app.neptune.ai/scomesse/football/\n",
            "Remember to stop your project once you’ve finished logging your metadata (https://docs.neptune.ai/api/project#stop). It will be stopped automatically only when the notebook kernel/interactive console is terminated.\n",
            "Shutting down background jobs, please wait a moment...\n",
            "Done!\n",
            "Waiting for the remaining 1 operations to synchronize with Neptune. Do not kill this process.\n",
            "All 1 operations synced, thanks for waiting!\n",
            "Explore the metadata in the Neptune app:\n",
            "https://app.neptune.ai/scomesse/football/metadata\n"
          ]
        }
      ],
      "source": [
        "npz_upload = False\n",
        "if npz_upload:\n",
        "    data_version = 'data_221212/'\n",
        "    project = neptune.init_project(\n",
        "        name=\"scomesse/football\", \n",
        "        api_token = api_key\n",
        "        )\n",
        "    project[data_version + npz_name +'_npz'].upload('./' + npz_name + '.npz')\n",
        "    project.stop()"
      ]
    },
    {
      "cell_type": "code",
      "execution_count": 57,
      "metadata": {
        "id": "wxw_SnriNPF2"
      },
      "outputs": [],
      "source": [
        "perm_df = perm_df.set_index('Id').reindex(\n",
        "                data_df['Id'][production_vector]\n",
        "                                )\n",
        "hasprem_vector = (perm_df.HasPrem.values == 'F')\n",
        "tier2_vector = (perm_df.Tier.values == 2)\n",
        "tier3_vector = (perm_df.Tier.values == 3)"
      ]
    },
    {
      "cell_type": "code",
      "execution_count": 58,
      "metadata": {
        "id": "6m5ZFk6QQw65"
      },
      "outputs": [],
      "source": [
        "vector_name = 'vectors'\n",
        "np.savez_compressed('./' + vector_name, \n",
        "                    hasprem_vector = hasprem_vector,\n",
        "                    tier2_vector = tier2_vector,\n",
        "                    tier3_vector = tier3_vector\n",
        "                    )"
      ]
    },
    {
      "cell_type": "code",
      "execution_count": null,
      "metadata": {
        "colab": {
          "base_uri": "https://localhost:8080/"
        },
        "id": "79LkMb3yQkLa",
        "outputId": "9d82506b-f8ce-474b-9986-57b6beed1d30"
      },
      "outputs": [
        {
          "output_type": "stream",
          "name": "stdout",
          "text": [
            "https://app.neptune.ai/scomesse/football/\n",
            "Remember to stop your project once you’ve finished logging your metadata (https://docs.neptune.ai/api/project#stop). It will be stopped automatically only when the notebook kernel/interactive console is terminated.\n",
            "Shutting down background jobs, please wait a moment...\n",
            "Done!\n",
            "Waiting for the remaining 1 operations to synchronize with Neptune. Do not kill this process.\n",
            "All 1 operations synced, thanks for waiting!\n",
            "Explore the metadata in the Neptune app:\n",
            "https://app.neptune.ai/scomesse/football/metadata\n"
          ]
        }
      ],
      "source": [
        "special_vectors_upload = False:\n",
        "if special_vectors_upload:\n",
        "    data_version = 'data_221212/'\n",
        "    project = neptune.init_project(\n",
        "        name=\"scomesse/football\", \n",
        "        api_token = api_key\n",
        "        )\n",
        "    project[data_version + vector_name].upload('./' + vector_name + '.npz')\n",
        "    project.stop()"
      ]
    }
  ],
  "metadata": {
    "colab": {
      "collapsed_sections": [
        "7dEcqW_jH4pw",
        "X69hHEsFix4n",
        "RocnM6a5lPkc",
        "iQYi3DugHTw0",
        "BW_LqudwHbKQ",
        "aXATMwtGJTRO",
        "YjC-GPlnMwKr",
        "VgLE25W5Nsuh",
        "O_Tb2e0AOZjp"
      ],
      "provenance": [],
      "authorship_tag": "ABX9TyPvSFLIkc/7acYzfmDxdASH",
      "include_colab_link": true
    },
    "kernelspec": {
      "display_name": "Python 3",
      "name": "python3"
    },
    "language_info": {
      "name": "python"
    }
  },
  "nbformat": 4,
  "nbformat_minor": 0
}