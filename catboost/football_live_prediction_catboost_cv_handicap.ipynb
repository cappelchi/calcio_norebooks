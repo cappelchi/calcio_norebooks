{
  "nbformat": 4,
  "nbformat_minor": 0,
  "metadata": {
    "colab": {
      "provenance": [],
      "collapsed_sections": [
        "5TmD4vhiscmr",
        "wKKP71QH5Nc_",
        "OBy3RQZy5Fs0",
        "y-aB2ZmG48Ob",
        "xXtEqwN74m4H"
      ],
      "gpuType": "T4",
      "authorship_tag": "ABX9TyMAcvD5zGRBy1x/ynVJ64TZ",
      "include_colab_link": true
    },
    "kernelspec": {
      "name": "python3",
      "display_name": "Python 3"
    },
    "language_info": {
      "name": "python"
    },
    "gpuClass": "standard"
  },
  "cells": [
    {
      "cell_type": "markdown",
      "metadata": {
        "id": "view-in-github",
        "colab_type": "text"
      },
      "source": [
        "<a href=\"https://colab.research.google.com/github/cappelchi/calcio_notebooks/blob/main/catboost/football_live_prediction_catboost_cv_handicap.ipynb\" target=\"_parent\"><img src=\"https://colab.research.google.com/assets/colab-badge.svg\" alt=\"Open In Colab\"/></a>"
      ]
    },
    {
      "cell_type": "markdown",
      "source": [
        "\n",
        "[CatBoost - An In-Depth Guide [Python API]](https://coderzcolumn.com/tutorials/machine-learning/catboost-an-in-depth-guide-python#9)<br>\n",
        "[Catboost](https://catboost.ai/en/docs/concepts/python-reference_pool)<br>\n",
        "[Cross-Validation Techniques](https://medium.com/geekculture/cross-validation-techniques-33d389897878)<br>\n",
        "[https://github.com/catboost/tutorials/blob/master/cross_validation/cv_tutorial.ipynb](https://github.com/catboost/tutorials/blob/master/cross_validation/cv_tutorial.ipynb)\n"
      ],
      "metadata": {
        "id": "PJdR9nm3sU58"
      }
    },
    {
      "cell_type": "markdown",
      "source": [
        "### Project config"
      ],
      "metadata": {
        "id": "5TmD4vhiscmr"
      }
    },
    {
      "cell_type": "code",
      "source": [
        "try:\n",
        "    import neptune.new as neptune\n",
        "except:\n",
        "    !pip install neptune-client >> None\n",
        "    import neptune.new as neptune\n"
      ],
      "metadata": {
        "id": "d4vPCODXs4GL",
        "colab": {
          "base_uri": "https://localhost:8080/"
        },
        "outputId": "89ab1bbb-c8fa-4d52-f472-50714643a184"
      },
      "execution_count": null,
      "outputs": [
        {
          "output_type": "stream",
          "name": "stderr",
          "text": [
            "/usr/local/lib/python3.10/dist-packages/neptune/internal/backends/hosted_client.py:50: NeptuneDeprecationWarning: The 'neptune-client' package has been deprecated and will be removed in the future. Install the 'neptune' package instead. For more, see https://docs.neptune.ai/setup/upgrading/\n",
            "  from neptune.version import version as neptune_client_version\n",
            "<ipython-input-1-4771ddf98365>:5: NeptuneDeprecationWarning: You're importing the Neptune client library via the deprecated `neptune.new` module, which will be removed in a future release. Import directly from `neptune` instead.\n",
            "  import neptune.new as neptune\n"
          ]
        }
      ]
    },
    {
      "cell_type": "code",
      "source": [
        "def get_credential(frmwork = 'neptune_team'):\n",
        "    with open('credential.txt', 'r') as container:\n",
        "        for line in container:\n",
        "            if frmwork in line:\n",
        "                login, psw = line.split(' ')[1], line.split(' ')[2].split('\\n')[0]\n",
        "                return login, psw\n",
        "\n",
        "#@title Set API key for neptune.ai\n",
        "set_api = True #@param {type:\"boolean\"}\n",
        "if set_api:\n",
        "    username, api_key = get_credential()"
      ],
      "metadata": {
        "id": "k8ejW2lptEij",
        "cellView": "form"
      },
      "execution_count": null,
      "outputs": []
    },
    {
      "cell_type": "markdown",
      "source": [
        "### Installations"
      ],
      "metadata": {
        "id": "wKKP71QH5Nc_"
      }
    },
    {
      "cell_type": "code",
      "source": [
        "!pip install catboost >> None\n",
        "!pip install deap >> None"
      ],
      "metadata": {
        "id": "L8IvJXwl5I9y"
      },
      "execution_count": null,
      "outputs": []
    },
    {
      "cell_type": "markdown",
      "source": [
        "### Downloads"
      ],
      "metadata": {
        "id": "OBy3RQZy5Fs0"
      }
    },
    {
      "cell_type": "code",
      "source": [
        "project = neptune.init_project(\n",
        "    project=\"scomesse/football\",\n",
        "    api_token = api_key\n",
        "    )\n",
        "\n",
        "data_version = 'football_live_main_part_npz_230510/'\n",
        "project[data_version + 'dataset'].download('./dataset.npz')\n",
        "project[data_version + 'additional_data'].download('./additional_data.npz')\n",
        "project[data_version + 'time'].download('./time.csv')\n",
        "data_params = project[data_version + 'params'].fetch()\n",
        "\n",
        "data_version = 'football_live_upd_230510/'\n",
        "project[data_version + 'dataset'].download('./dataset_upd.npz')\n",
        "project[data_version + 'additional_data'].download('./additional_data_upd.npz')\n",
        "project[data_version + 'time'].download('./time_upd.csv')\n",
        "data_params_upd = project[data_version + 'params'].fetch()\n",
        "project.stop()"
      ],
      "metadata": {
        "id": "t6N_cpRZ4_sD",
        "colab": {
          "base_uri": "https://localhost:8080/"
        },
        "outputId": "79b97be5-3ed0-4bd9-a45b-d4f368f0685f"
      },
      "execution_count": null,
      "outputs": [
        {
          "output_type": "stream",
          "name": "stdout",
          "text": [
            "https://app.neptune.ai/scomesse/football/\n",
            "Shutting down background jobs, please wait a moment...\n",
            "Done!\n",
            "All 0 operations synced, thanks for waiting!\n",
            "Explore the metadata in the Neptune app:\n",
            "https://app.neptune.ai/scomesse/football/metadata\n"
          ]
        }
      ]
    },
    {
      "cell_type": "markdown",
      "source": [
        "### Imports"
      ],
      "metadata": {
        "id": "y-aB2ZmG48Ob"
      }
    },
    {
      "cell_type": "code",
      "source": [
        "import pandas as pd\n",
        "import numpy as np\n",
        "pd.options.display.max_columns = 50\n",
        "pd.options.display.max_rows = 100\n",
        "print(pd.__version__)\n",
        "print(np.__version__)"
      ],
      "metadata": {
        "id": "15bNjVgR45yt",
        "colab": {
          "base_uri": "https://localhost:8080/"
        },
        "outputId": "10883a76-e653-4cad-8d13-a77c5a47da34"
      },
      "execution_count": null,
      "outputs": [
        {
          "output_type": "stream",
          "name": "stdout",
          "text": [
            "1.5.3\n",
            "1.22.4\n"
          ]
        }
      ]
    },
    {
      "cell_type": "code",
      "source": [
        "from tqdm import tqdm\n",
        "import plotly.express as px\n",
        "import os, psutil, time\n",
        "import gc"
      ],
      "metadata": {
        "id": "3ENZi1yP43bo"
      },
      "execution_count": null,
      "outputs": []
    },
    {
      "cell_type": "code",
      "source": [
        "import plotly.graph_objects as go\n",
        "from plotly.subplots import make_subplots\n",
        "from scipy.stats import poisson\n",
        "from neptune.utils import stringify_unsupported"
      ],
      "metadata": {
        "id": "9l_wpOuu41dC"
      },
      "execution_count": null,
      "outputs": []
    },
    {
      "cell_type": "code",
      "source": [
        "from catboost import CatBoost\n",
        "from catboost import utils\n",
        "from catboost import CatBoostClassifier, CatBoostRegressor\n",
        "from catboost import Pool, cv\n",
        "from catboost.utils import eval_metric\n",
        "np.random.seed(147)"
      ],
      "metadata": {
        "id": "Gm3uj2do4x0S"
      },
      "execution_count": null,
      "outputs": []
    },
    {
      "cell_type": "code",
      "source": [
        "import operator\n",
        "import random\n",
        "from deap import base\n",
        "from deap import creator\n",
        "from deap import tools\n",
        "from deap import algorithms"
      ],
      "metadata": {
        "id": "btyNZKwd4vfM"
      },
      "execution_count": null,
      "outputs": []
    },
    {
      "cell_type": "markdown",
      "source": [
        "### Code"
      ],
      "metadata": {
        "id": "-5ijAHfK4sRg"
      }
    },
    {
      "cell_type": "markdown",
      "source": [
        "#####Functions"
      ],
      "metadata": {
        "id": "xXtEqwN74m4H"
      }
    },
    {
      "cell_type": "code",
      "source": [
        "def calculate_multiclass(probability_2x:np.array, line_2x:np.array):\n",
        "    '''\n",
        "    input : 0 - over, 1 - under\n",
        "    output: 0 - over, 1 - under\n",
        "    '''\n",
        "    probability_adj = probability_2x / np.sum(probability_2x, axis = 1).reshape(-1, 1)\n",
        "    probline_adj = probability_adj * line_2x\n",
        "    probline = probability_2x * line_2x\n",
        "    best_odd_result = np.argmax(probline_adj, axis = 1)\n",
        "    best_odd_float_adj = np.take_along_axis(probline_adj, best_odd_result.reshape(-1, 1), axis = 1)\n",
        "    best_odd_float = np.take_along_axis(probline, best_odd_result.reshape(-1, 1), axis = 1)\n",
        "    return {\n",
        "        'argmax':best_odd_result,\n",
        "        'float':best_odd_float,\n",
        "        'float_adj':best_odd_float_adj\n",
        "    }"
      ],
      "metadata": {
        "id": "2Obf9rt2rfHB"
      },
      "execution_count": null,
      "outputs": []
    },
    {
      "cell_type": "code",
      "source": [
        "def get_profit_curve(prob_dict, final_goal_sum, Line_production, bet_type = 'fixed'):\n",
        "    '''\n",
        "    Line_production -> line['total', 'over', 'under']\n",
        "    final_goal_sumv -> data_npz['result1'] + data_npz['result2']\n",
        "    '''\n",
        "    #fixed, divk, divk-1\n",
        "    #simple, complex\n",
        "    # считаем прдикты по исходу и вероятности умноженной на кэф (over, under)\n",
        "    preds_int, preds_float, preds_float_adj = calculate_multiclass(prob_dict, Line_production[:,1:3]).values()\n",
        "    preds_float_adj = preds_float_adj[:,0]\n",
        "    preds_vec = preds_int * (2) - 1 # -1:over, 1:under\n",
        "    # вектор результатов\n",
        "    res_vec = ((final_goal_sum + Line_production[:, 0]) > 0) * (-1) + \\\n",
        "             ((final_goal_sum + Line_production[:, 0]) < 0) * (1)\n",
        "\n",
        "    win_vec, lose_vec = (preds_vec * res_vec) == 1, (preds_vec * res_vec) == -1\n",
        "    line_vec = np.take_along_axis(Line_production[:,1:3], preds_int.reshape(-1, 1), axis = 1)[:, 0]\n",
        "    threshold = []\n",
        "    profit = []\n",
        "    bet_qty_list = []\n",
        "    for th in np.linspace(0.5, 2.0,101):\n",
        "        threshold.append(th)\n",
        "        vector_th = (preds_float_adj) > th\n",
        "        bet_qty_list.append(vector_th.sum())\n",
        "        if bet_type == 'divk':\n",
        "            #                       размер ставки                                   кэф\n",
        "            profit.append(np.sum((1/line_vec[win_vec & vector_th].astype(np.float32)) * \\\n",
        "                                (line_vec[win_vec & vector_th] - 1).astype(np.float32)) -\\\n",
        "                                np.sum((1/line_vec[lose_vec & vector_th].astype(np.float32))))\n",
        "        else:\n",
        "            profit.append(np.sum((line_vec[win_vec & vector_th] - 1).astype(np.float32)) - np.sum(lose_vec & vector_th))\n",
        "\n",
        "    return threshold, profit, bet_qty_list"
      ],
      "metadata": {
        "id": "JxzzvOeSrgmy"
      },
      "execution_count": null,
      "outputs": []
    },
    {
      "cell_type": "code",
      "source": [
        "def make_filter(hda, preds_int):\n",
        "    hda_dict = {'home':0, 'away':1}\n",
        "    if hda == 'all':\n",
        "        return preds_int > -1\n",
        "    else:\n",
        "        return preds_int == hda_dict[hda]"
      ],
      "metadata": {
        "id": "7qUDOmserkZm"
      },
      "execution_count": null,
      "outputs": []
    },
    {
      "cell_type": "code",
      "source": [
        "def profit_validation_by_type(prob_dict, active_rows_dict, preds_dict, line_dict, scores_dict): #active_rows_dict, preds_dict, line_dict, y_dict):\n",
        "    data_splits = ['holdout', 'test', 'train']\n",
        "    hda_list = ['all', 'home', 'away']\n",
        "    title_text = f'Profit & bet qty for validation model in neptune.ai: model_name'\n",
        "    colors = ['rgb(93, 164, 214)', 'rgb(255, 144, 14)',  'rgb(44, 160, 101)', 'rgb(255, 65, 54)']\n",
        "    fig = make_subplots(rows = 3, cols = 1,\n",
        "                        shared_xaxes = True,\n",
        "                        vertical_spacing = 0.02,\n",
        "                        subplot_titles = (\"holdout\", \"test\", \"train\")\n",
        "                        )\n",
        "\n",
        "    for cnt_split, data_split in enumerate(data_splits):\n",
        "        final_goal_sum = scores_dict['result'][data_split]['1'] - scores_dict['result'][data_split]['2']\n",
        "        preds_int, _, _ = calculate_multiclass(\n",
        "            prob_dict[data_split],\n",
        "            line_dict[data_split][active_rows_dict[data_split]][:,1:3]\n",
        "                                                ).values()\n",
        "        for cnt_hda, hda in enumerate(hda_list):\n",
        "            sfilter = make_filter(hda, preds_int)\n",
        "            threshold, profit, bet_qty_list = get_profit_curve(\n",
        "                                                prob_dict[data_split][sfilter],\n",
        "                                                final_goal_sum[active_rows_dict[data_split]][sfilter],\n",
        "                                                line_dict[data_split][active_rows_dict[data_split]][sfilter],\n",
        "                                                bet_type = 'divk'\n",
        "                                                )\n",
        "            fig.append_trace(go.Scatter(\n",
        "                                    x = threshold,\n",
        "                                    y = profit,\n",
        "                                    name = hda,\n",
        "                                    line = dict(color = colors[cnt_hda], width = 4 - 3 * bool(cnt_hda))),\n",
        "                                    row = cnt_split + 1, col=1)\n",
        "            # Update yaxis properties\n",
        "            fig.update_yaxes(\n",
        "                   rangemode = 'nonnegative',\n",
        "                row = cnt_split + 1, col = 1)\n",
        "\n",
        "    return fig.update_layout(title = '<b>Handicap</b> profit validation', height = 800, width = 900)"
      ],
      "metadata": {
        "id": "CxAyMk0wSLC1"
      },
      "execution_count": null,
      "outputs": []
    },
    {
      "cell_type": "markdown",
      "source": [
        "##### Prepare Data\n",
        "\n",
        "1. регрессия\n"
      ],
      "metadata": {
        "id": "K3gsr1nv36Zj"
      }
    },
    {
      "cell_type": "code",
      "source": [
        "id_time_df = pd.read_csv('/content/time_upd.csv', parse_dates = ['StatTime'], dayfirst = True)\n",
        "ids_seq = id_time_df.sort_values(by = 'StatTime')['Id'].values[:int(len(id_time_df) / 2)]\n",
        "additional_data_upd = np.load('/content/additional_data_upd.npz')\n",
        "id_vector = np.isin(additional_data_upd['id'], ids_seq)\n",
        "\n",
        "data_npz = np.load('./dataset.npz')\n",
        "data_upd_npz = np.load('./dataset_upd.npz')\n",
        "X = np.vstack((data_npz['X'], data_upd_npz['X'][id_vector]))\n",
        "print(X.shape)\n"
      ],
      "metadata": {
        "id": "NmBqfhWR3rC_",
        "colab": {
          "base_uri": "https://localhost:8080/"
        },
        "outputId": "c3a3dd15-bc04-4053-81c0-d55de6a54d80"
      },
      "execution_count": null,
      "outputs": [
        {
          "output_type": "stream",
          "name": "stdout",
          "text": [
            "(14604604, 37)\n"
          ]
        }
      ]
    },
    {
      "cell_type": "code",
      "source": [
        "#@title Выбор таргета\n",
        "target_type = \"regression2\" #@param [\"regression1\", \"regression2\"]\n",
        "if target_type == 'regression1':\n",
        "    y = np.hstack((data_npz['y_regression1'], data_upd_npz['y_regression1'][id_vector]))\n",
        "    reg_num = 1\n",
        "elif target_type == 'regression2':\n",
        "    y = np.hstack((data_npz['y_regression2'], data_upd_npz['y_regression2'][id_vector]))\n",
        "    reg_num = 2\n",
        "print(X.shape, y.shape)\n",
        "#---------------\n",
        "process = psutil.Process(os.getpid())\n",
        "print('mem usage: ', round(process.memory_info().rss / 1024 ** 3, 2), 'GiB')  # in bytes\n",
        "#---------------"
      ],
      "metadata": {
        "id": "Wl7i2R-a3mnc",
        "colab": {
          "base_uri": "https://localhost:8080/"
        },
        "outputId": "8b5afcbc-64e9-4e48-a204-7d4bba8cf27b"
      },
      "execution_count": null,
      "outputs": [
        {
          "output_type": "stream",
          "name": "stdout",
          "text": [
            "(14604604, 37) (14604604,)\n",
            "mem usage:  2.4 GiB\n"
          ]
        }
      ]
    },
    {
      "cell_type": "code",
      "source": [
        "!mkdir -p ./models"
      ],
      "metadata": {
        "id": "dSS87xGX3hqr"
      },
      "execution_count": null,
      "outputs": []
    },
    {
      "cell_type": "markdown",
      "source": [
        "##### Folding"
      ],
      "metadata": {
        "id": "ph3ewOoB4Dqu"
      }
    },
    {
      "cell_type": "code",
      "source": [
        "kfold_splits = 3\n",
        "kfold_size = int(y.shape[0] / kfold_splits)\n",
        "kfold_num = 0\n",
        "kfold_start, kfold_end = kfold_size * kfold_num, kfold_size * (kfold_num + 1)\n",
        "kfold_vector = np.zeros(y.shape[0], dtype = np.bool_)\n",
        "kfold_vector[kfold_start:kfold_end] = True"
      ],
      "metadata": {
        "id": "zidD33Uq3fCl"
      },
      "execution_count": null,
      "outputs": []
    },
    {
      "cell_type": "code",
      "source": [
        "train_data = Pool(X[~kfold_vector], y[~kfold_vector])\n",
        "test_data = Pool(X[kfold_vector], y[kfold_vector])\n",
        "#---------------\n",
        "process = psutil.Process(os.getpid())\n",
        "print('mem usage: ', round(process.memory_info().rss / 1024 ** 3, 2), 'GiB')  # in bytes\n",
        "#---------------"
      ],
      "metadata": {
        "id": "Y-4rL7g63bEb",
        "colab": {
          "base_uri": "https://localhost:8080/"
        },
        "outputId": "c51721a0-0eb7-4fa4-cd8c-6d8c9a3cdfeb"
      },
      "execution_count": null,
      "outputs": [
        {
          "output_type": "stream",
          "name": "stdout",
          "text": [
            "mem usage:  6.45 GiB\n"
          ]
        }
      ]
    },
    {
      "cell_type": "code",
      "source": [
        "gpu_cnt = utils.get_gpu_device_count()\n",
        "print(\"Number of GPU Count : \",gpu_cnt)"
      ],
      "metadata": {
        "id": "6J_yDoRD3WoW",
        "colab": {
          "base_uri": "https://localhost:8080/"
        },
        "outputId": "c9a4a96d-68a3-4def-a0a4-ac94fdb92c7a"
      },
      "execution_count": null,
      "outputs": [
        {
          "output_type": "stream",
          "name": "stdout",
          "text": [
            "Number of GPU Count :  1\n"
          ]
        }
      ]
    },
    {
      "cell_type": "markdown",
      "source": [
        "##### Train catboost model"
      ],
      "metadata": {
        "id": "bfdudmNm4Hwg"
      }
    },
    {
      "cell_type": "code",
      "source": [
        "cparams = {\n",
        "    'loss_function':'RMSE',\n",
        "    'learning_rate':0.3,\n",
        "    'l2_leaf_reg':0.9,\n",
        "    'max_depth':8,\n",
        "    'min_data_in_leaf':12,\n",
        "    #'leaf_estimation_method':leafmethod,\n",
        "    #'early_stopping_rounds':15,\n",
        "    'verbose':10,\n",
        "    'iterations':350,\n",
        "    #\"eval_metric\" : 'TotalF1',\n",
        "    'task_type':\"GPU\",\n",
        "    'devices':'0'\n",
        "}"
      ],
      "metadata": {
        "id": "XPurCat_V7Qf"
      },
      "execution_count": null,
      "outputs": []
    },
    {
      "cell_type": "code",
      "source": [
        "booster = CatBoostRegressor(\n",
        "                **cparams\n",
        "                )\n",
        "\n",
        "booster.fit(train_data, eval_set = test_data)\n",
        "\n",
        "booster.save_model(f'./models/booster_reg{reg_num}_{kfold_num}.model')"
      ],
      "metadata": {
        "id": "cvcA9mt6WuFS",
        "colab": {
          "base_uri": "https://localhost:8080/"
        },
        "outputId": "5d6228a4-9979-467f-d457-fd31b7a5c893"
      },
      "execution_count": null,
      "outputs": [
        {
          "output_type": "stream",
          "name": "stdout",
          "text": [
            "0:\tlearn: 0.0522288\ttest: 0.0533151\tbest: 0.0533151 (0)\ttotal: 240ms\tremaining: 1m 23s\n",
            "10:\tlearn: 0.0494051\ttest: 0.0504136\tbest: 0.0504136 (10)\ttotal: 1.63s\tremaining: 50.1s\n",
            "20:\tlearn: 0.0492479\ttest: 0.0502750\tbest: 0.0502750 (20)\ttotal: 2.71s\tremaining: 42.4s\n",
            "30:\tlearn: 0.0491465\ttest: 0.0502342\tbest: 0.0502342 (30)\ttotal: 3.8s\tremaining: 39.1s\n",
            "40:\tlearn: 0.0490639\ttest: 0.0502096\tbest: 0.0502096 (40)\ttotal: 4.87s\tremaining: 36.7s\n",
            "50:\tlearn: 0.0489906\ttest: 0.0501968\tbest: 0.0501968 (50)\ttotal: 5.95s\tremaining: 34.9s\n",
            "60:\tlearn: 0.0489360\ttest: 0.0501936\tbest: 0.0501920 (59)\ttotal: 7.04s\tremaining: 33.4s\n",
            "70:\tlearn: 0.0488793\ttest: 0.0501983\tbest: 0.0501917 (61)\ttotal: 8.1s\tremaining: 31.8s\n",
            "80:\tlearn: 0.0488223\ttest: 0.0502056\tbest: 0.0501917 (61)\ttotal: 9.17s\tremaining: 30.4s\n",
            "90:\tlearn: 0.0487647\ttest: 0.0502091\tbest: 0.0501917 (61)\ttotal: 10.2s\tremaining: 29.2s\n",
            "100:\tlearn: 0.0487134\ttest: 0.0502194\tbest: 0.0501917 (61)\ttotal: 11.4s\tremaining: 28.1s\n",
            "110:\tlearn: 0.0486599\ttest: 0.0502272\tbest: 0.0501917 (61)\ttotal: 13.3s\tremaining: 28.6s\n",
            "120:\tlearn: 0.0486045\ttest: 0.0502383\tbest: 0.0501917 (61)\ttotal: 14.7s\tremaining: 27.9s\n",
            "130:\tlearn: 0.0485600\ttest: 0.0502467\tbest: 0.0501917 (61)\ttotal: 15.8s\tremaining: 26.4s\n",
            "140:\tlearn: 0.0485259\ttest: 0.0502545\tbest: 0.0501917 (61)\ttotal: 16.9s\tremaining: 25s\n",
            "150:\tlearn: 0.0484797\ttest: 0.0502643\tbest: 0.0501917 (61)\ttotal: 18s\tremaining: 23.7s\n",
            "160:\tlearn: 0.0484394\ttest: 0.0502699\tbest: 0.0501917 (61)\ttotal: 19s\tremaining: 22.4s\n",
            "170:\tlearn: 0.0484004\ttest: 0.0502765\tbest: 0.0501917 (61)\ttotal: 20.1s\tremaining: 21.1s\n",
            "180:\tlearn: 0.0483637\ttest: 0.0502869\tbest: 0.0501917 (61)\ttotal: 21.2s\tremaining: 19.8s\n",
            "190:\tlearn: 0.0483223\ttest: 0.0502965\tbest: 0.0501917 (61)\ttotal: 22.3s\tremaining: 18.6s\n",
            "200:\tlearn: 0.0482843\ttest: 0.0503059\tbest: 0.0501917 (61)\ttotal: 23.4s\tremaining: 17.3s\n",
            "210:\tlearn: 0.0482527\ttest: 0.0503142\tbest: 0.0501917 (61)\ttotal: 24.5s\tremaining: 16.1s\n",
            "220:\tlearn: 0.0482170\ttest: 0.0503228\tbest: 0.0501917 (61)\ttotal: 26.3s\tremaining: 15.4s\n",
            "230:\tlearn: 0.0481833\ttest: 0.0503313\tbest: 0.0501917 (61)\ttotal: 27.8s\tremaining: 14.3s\n",
            "240:\tlearn: 0.0481527\ttest: 0.0503378\tbest: 0.0501917 (61)\ttotal: 28.9s\tremaining: 13.1s\n",
            "250:\tlearn: 0.0481142\ttest: 0.0503504\tbest: 0.0501917 (61)\ttotal: 30s\tremaining: 11.8s\n",
            "260:\tlearn: 0.0480811\ttest: 0.0503623\tbest: 0.0501917 (61)\ttotal: 31.1s\tremaining: 10.6s\n",
            "270:\tlearn: 0.0480474\ttest: 0.0503708\tbest: 0.0501917 (61)\ttotal: 32.1s\tremaining: 9.37s\n",
            "280:\tlearn: 0.0480189\ttest: 0.0503801\tbest: 0.0501917 (61)\ttotal: 33.2s\tremaining: 8.16s\n",
            "290:\tlearn: 0.0479885\ttest: 0.0503859\tbest: 0.0501917 (61)\ttotal: 34.3s\tremaining: 6.96s\n",
            "300:\tlearn: 0.0479597\ttest: 0.0503921\tbest: 0.0501917 (61)\ttotal: 35.4s\tremaining: 5.76s\n",
            "310:\tlearn: 0.0479302\ttest: 0.0503983\tbest: 0.0501917 (61)\ttotal: 36.5s\tremaining: 4.57s\n",
            "320:\tlearn: 0.0478979\ttest: 0.0504059\tbest: 0.0501917 (61)\ttotal: 37.7s\tremaining: 3.41s\n",
            "330:\tlearn: 0.0478693\ttest: 0.0504146\tbest: 0.0501917 (61)\ttotal: 39.6s\tremaining: 2.27s\n",
            "340:\tlearn: 0.0478360\ttest: 0.0504222\tbest: 0.0501917 (61)\ttotal: 41s\tremaining: 1.08s\n",
            "349:\tlearn: 0.0478093\ttest: 0.0504279\tbest: 0.0501917 (61)\ttotal: 42s\tremaining: 0us\n",
            "bestTest = 0.05019168815\n",
            "bestIteration = 61\n",
            "Shrink model to first 62 iterations.\n"
          ]
        }
      ]
    },
    {
      "cell_type": "code",
      "source": [
        "del train_data\n",
        "del test_data\n",
        "gc.collect()"
      ],
      "metadata": {
        "id": "BqNDYZRRc_Dd",
        "colab": {
          "base_uri": "https://localhost:8080/"
        },
        "outputId": "c85ceb99-af2e-42bb-cd94-e65658a82f29"
      },
      "execution_count": null,
      "outputs": [
        {
          "output_type": "execute_result",
          "data": {
            "text/plain": [
              "0"
            ]
          },
          "metadata": {},
          "execution_count": 23
        }
      ]
    },
    {
      "cell_type": "code",
      "source": [
        "#!tar -zcvf ./models.tar.gz ./models/*.*\n",
        "!tar -xzvf ./models/models.tar.gz\n",
        "#!cp ./booster.model ./models/booster_reg1_0.model\n",
        "#!cp ./booster2.model ./models/booster_reg2_0.model\n",
        "#!rm ./models/*"
      ],
      "metadata": {
        "id": "giFi67ySPWu9",
        "colab": {
          "base_uri": "https://localhost:8080/"
        },
        "outputId": "1f02d676-91ff-48ed-b30f-91d4cd8c7ebc"
      },
      "execution_count": null,
      "outputs": [
        {
          "output_type": "stream",
          "name": "stdout",
          "text": [
            "./models/booster_reg1_0.model\n",
            "./models/booster_reg1_1.model\n",
            "./models/booster_reg1_2.model\n",
            "./models/booster_reg2_0.model\n",
            "./models/booster_reg2_1.model\n",
            "./models/booster_reg2_2.model\n"
          ]
        }
      ]
    },
    {
      "cell_type": "code",
      "source": [
        "preds_dict = {'train':{}, 'test':{}, 'holdout':{}}\n",
        "#kfold_num = 1\n",
        "div_num = 3\n",
        "for reg_num in range(1, 3):\n",
        "    preds_dict['train'][reg_num] = CatBoost().load_model(\n",
        "                f'./models/booster_reg{reg_num}_{kfold_num}.model'\n",
        "                    ).predict(X) * 21\n",
        "\n",
        "    preds_dict['test'][reg_num] = CatBoost().load_model(\n",
        "                f'./models/booster_reg{reg_num}_{kfold_num}.model'\n",
        "                    ).predict(data_upd_npz['X'][~id_vector]) * 21\n",
        "\n",
        "    preds_dict['holdout'][reg_num] = CatBoost().load_model(\n",
        "                f'./models/booster_reg{reg_num}_{kfold_num}.model'\n",
        "                    ).predict(data_upd_npz['X'][~id_vector]) * 21\n",
        "\n",
        "#---------------\n",
        "process = psutil.Process(os.getpid())\n",
        "print('mem usage: ', round(process.memory_info().rss / 1024 ** 3, 2), 'GiB')  # in bytes\n",
        "#---------------"
      ],
      "metadata": {
        "colab": {
          "base_uri": "https://localhost:8080/"
        },
        "id": "oI1jLZkCGxID",
        "outputId": "970edd84-b6ae-41ab-c201-be0ca2918826"
      },
      "execution_count": null,
      "outputs": [
        {
          "output_type": "stream",
          "name": "stdout",
          "text": [
            "mem usage:  6.48 GiB\n"
          ]
        }
      ]
    },
    {
      "cell_type": "code",
      "source": [
        "preds_dict = {'train':{}, 'test':{}, 'holdout':{}}\n",
        "#kfold_num = 1\n",
        "div_num = 3\n",
        "for reg_num in range(1, 3):\n",
        "    preds_dict['train'][reg_num] = sum(\n",
        "            CatBoost().load_model(\n",
        "                f'./models/booster_reg{reg_num}_{kfold_num}.model'\n",
        "                    ).predict(X) * 21\n",
        "            for kfold_num in range(0, 3)\n",
        "                                ) / div_num #kfold_splits\n",
        "    preds_dict['test'][reg_num] = sum(\n",
        "            CatBoost().load_model(\n",
        "                f'./models/booster_reg{reg_num}_{kfold_num}.model'\n",
        "                    ).predict(data_upd_npz['X'][~id_vector]) * 21\n",
        "            for kfold_num in range(0, 3)\n",
        "                                ) / div_num #kfold_splits\n",
        "    preds_dict['holdout'][reg_num] = sum(\n",
        "            CatBoost().load_model(\n",
        "                f'./models/booster_reg{reg_num}_{kfold_num}.model'\n",
        "                    ).predict(data_upd_npz['X'][~id_vector]) * 21\n",
        "            for kfold_num in range(0, 3)\n",
        "                                ) / div_num #kfold_splits\n",
        "\n",
        "#---------------\n",
        "process = psutil.Process(os.getpid())\n",
        "print('mem usage: ', round(process.memory_info().rss / 1024 ** 3, 2), 'GiB')  # in bytes\n",
        "#---------------"
      ],
      "metadata": {
        "id": "_RYg9U2homW9",
        "colab": {
          "base_uri": "https://localhost:8080/"
        },
        "outputId": "6b6f79a1-9736-4b6a-b10a-dbed95d89575"
      },
      "execution_count": null,
      "outputs": [
        {
          "output_type": "stream",
          "name": "stdout",
          "text": [
            "mem usage:  4.94 GiB\n"
          ]
        }
      ]
    },
    {
      "cell_type": "code",
      "source": [
        "preds_dict['holdout']"
      ],
      "metadata": {
        "colab": {
          "base_uri": "https://localhost:8080/"
        },
        "id": "Ek5raKG8IN-K",
        "outputId": "829daf21-2f35-44a6-83bd-3a803ee743c9"
      },
      "execution_count": null,
      "outputs": [
        {
          "output_type": "execute_result",
          "data": {
            "text/plain": [
              "{1: array([1.20753088, 1.17642642, 1.16575435, ..., 0.52568328, 0.51120993,\n",
              "        0.48787503]),\n",
              " 2: array([1.38474816, 1.40526863, 1.36047703, ..., 1.31576274, 1.29699041,\n",
              "        1.23460783])}"
            ]
          },
          "metadata": {},
          "execution_count": 23
        }
      ]
    },
    {
      "cell_type": "code",
      "source": [
        "K = np.vstack((data_npz['K_train'][:,10:13], data_upd_npz['K_train'][:,10:13][id_vector]))\n",
        "line_dict = {'train':K, 'test':data_upd_npz['K_train'][:, 10:13][~id_vector], 'holdout':data_upd_npz['K_train'][:, 10:13][~id_vector]}\n",
        "#y_dict = {'train':y, 'test':data_upd_npz['y_multi'][~id_vector], 'holdout':data_upd_npz['y_multi'][~id_vector]}\n",
        "X_dict = {'train':X, 'test':data_upd_npz['X'][~id_vector], 'holdout':data_upd_npz['X'][~id_vector]}\n",
        "\n",
        "A = np.hstack((data_npz['K_train'][:,0], data_upd_npz['K_train'][:,0][id_vector]))\n",
        "active_rows_dict ={}\n",
        "active_rows_dict['train'] = ((A == 1) & (K[:,1:3].sum(axis = 1) > 2))\n",
        "active_rows_dict['holdout'] = ((data_upd_npz['K_train'][:, 0][~id_vector] == 1) & (data_upd_npz['K_train'][:, 11:13][~id_vector].sum(axis = 1) > 2))\n",
        "active_rows_dict['test'] = ((data_upd_npz['K_train'][:, 0][~id_vector] == 1) & (data_upd_npz['K_train'][:, 11:13][~id_vector].sum(axis = 1) > 2))\n",
        "\n",
        "#---------------\n",
        "process = psutil.Process(os.getpid())\n",
        "print('mem usage: ', round(process.memory_info().rss / 1024 ** 3, 2), 'GiB')  # in bytes\n",
        "#---------------"
      ],
      "metadata": {
        "id": "DhZLsJNvh9za",
        "colab": {
          "base_uri": "https://localhost:8080/"
        },
        "outputId": "ac60e777-4c1a-4800-e4d5-8047ebea386e"
      },
      "execution_count": null,
      "outputs": [
        {
          "output_type": "stream",
          "name": "stdout",
          "text": [
            "mem usage:  8.57 GiB\n"
          ]
        }
      ]
    },
    {
      "cell_type": "markdown",
      "source": [
        "#### Calculate probabilities"
      ],
      "metadata": {
        "id": "MUoqIhQIy5S_"
      }
    },
    {
      "cell_type": "code",
      "source": [
        "# Считаем Пуассона\n",
        "poisson_dict = {}\n",
        "for name in ['train', 'test', 'holdout']:\n",
        "    poisson_dict[name] = {}\n",
        "    poisson_dict[name][1] = {}\n",
        "    poisson_dict[name][2] = {}\n",
        "    for goal in range(7):\n",
        "        poisson_dict[name][1][goal] = poisson.pmf(goal, preds_dict[name][1][active_rows_dict[name]])\n",
        "        poisson_dict[name][2][goal] = poisson.pmf(goal, preds_dict[name][2][active_rows_dict[name]])\n",
        "\n",
        "# Считаем вероятности разности забитых мячей\n",
        "total_matrix_dict = {}\n",
        "for name in ['train', 'test', 'holdout']:\n",
        "    total_matrix_dict[name] = np.zeros((np.sum(active_rows_dict[name]), 13))\n",
        "    for goal1 in range(7):\n",
        "        for goal2 in range(7):\n",
        "            total_matrix_dict[name][:, goal1 - goal2 + 6] = total_matrix_dict[name][:, goal1 - goal2 + 6] + \\\n",
        "            poisson_dict[name][1][goal1] * poisson_dict[name][2][goal2]\n",
        "\n",
        "# Считаем вероятности победы дома over = home_win\n",
        "over_matrix_dict = {}\n",
        "for name in ['train', 'test', 'holdout']:\n",
        "    #over_matrix_dict[name] = np.cumsum(np.flip(total_matrix_dict[name], axis = 1), axis = 1)[:,:-1]\n",
        "    over_matrix_dict[name] = np.hstack((\n",
        "        np.zeros(np.sum(active_rows_dict[name])).reshape(-1,1),\n",
        "        np.cumsum(np.flip(total_matrix_dict[name], axis = 1), axis = 1)\n",
        "                                    ))#[:, 1:]\n",
        "\n",
        "# Считаем вероятности победы гостей under = away_win\n",
        "under_matrix_dict = {}\n",
        "for name in ['train', 'test', 'holdout']:\n",
        "    #under_matrix_dict[name] = np.flip(np.cumsum(total_matrix_dict[name], axis = 1), axis = 1)[:,1:]\n",
        "    under_matrix_dict[name] = np.hstack((\n",
        "        np.flip(np.cumsum(total_matrix_dict[name], axis = 1), axis = 1),\n",
        "        np.zeros(np.sum(active_rows_dict[name])).reshape(-1,1)\n",
        "                                        ))#[:, :-1]\n",
        "\n",
        "# создаём словарь результатов\n",
        "scores_list = ['score', 'result']\n",
        "team_num_list = ['1', '2']\n",
        "scores_dict = {'score':{'train':{}, 'test':{}, 'holdout':{}},\n",
        "               'result':{'train':{}, 'test':{}, 'holdout':{}}}\n",
        "for key_type in scores_list:\n",
        "    for team_num in team_num_list:\n",
        "        scores_dict[key_type]['train'][team_num] = np.hstack((\n",
        "                                        data_npz[key_type + team_num],\n",
        "                                        data_upd_npz[key_type + team_num][id_vector]\n",
        "                                                            ))\n",
        "        scores_dict[key_type]['test'][team_num] = data_upd_npz[key_type + team_num][~id_vector]\n",
        "        scores_dict[key_type]['holdout'][team_num] = data_upd_npz[key_type + team_num][~id_vector]\n",
        "\n",
        "# Считаем текущей стэйт суммы забитых мячей\n",
        "total_state_dict = {}\n",
        "total_state_dict['train'] = line_dict['train'][:,0][active_rows_dict['train']] + \\\n",
        "                            scores_dict['score']['train']['1'][active_rows_dict['train']] - \\\n",
        "                            scores_dict['score']['train']['2'][active_rows_dict['train']] + 6\n",
        "total_state_dict['train'][total_state_dict['train'] < 0] = 0\n",
        "total_state_dict['train'][total_state_dict['train'] > 12] = 12\n",
        "total_state_dict['test'] =  line_dict['test'][:,0][active_rows_dict['test']] + \\\n",
        "                            scores_dict['score']['test']['1'][active_rows_dict['test']] - \\\n",
        "                            scores_dict['score']['test']['2'][active_rows_dict['test']] + 6\n",
        "total_state_dict['test'][total_state_dict['test'] < 0] = 0\n",
        "total_state_dict['test'][total_state_dict['test'] > 12] = 12\n",
        "total_state_dict['holdout'] = line_dict['holdout'][:,0][active_rows_dict['holdout']] + \\\n",
        "                            scores_dict['score']['holdout']['1'][active_rows_dict['holdout']] - \\\n",
        "                            scores_dict['score']['holdout']['2'][active_rows_dict['holdout']] + 6\n",
        "total_state_dict['holdout'][total_state_dict['holdout'] < 0] = 0\n",
        "total_state_dict['holdout'][total_state_dict['holdout'] > 12] = 12\n",
        "\n",
        "prob_dict = {} #clmn - 0:over(home_win) ||| clmn - 1:under (away_win)\n",
        "for name in ['train', 'test', 'holdout']:\n",
        "    prob_dict[name] = np.hstack((\n",
        "        np.take_along_axis(over_matrix_dict[name], (total_state_dict[name].reshape(-1, 1) + 0.5).reshape(-1, 1).astype(np.int8), axis = 1),\n",
        "        np.take_along_axis(under_matrix_dict[name], (total_state_dict[name].reshape(-1, 1) + 1).astype(np.int8), axis = 1),\n",
        "    ))"
      ],
      "metadata": {
        "id": "udp9d4F4fxxB"
      },
      "execution_count": null,
      "outputs": []
    },
    {
      "cell_type": "markdown",
      "source": [
        "#### Visualization"
      ],
      "metadata": {
        "id": "5moJdwp9CBwX"
      }
    },
    {
      "cell_type": "code",
      "source": [
        "fig = profit_validation_by_type(prob_dict, active_rows_dict, preds_dict, line_dict, scores_dict)\n",
        "fig.show()"
      ],
      "metadata": {
        "id": "OqqgLJJ_rFbJ"
      },
      "execution_count": null,
      "outputs": []
    },
    {
      "cell_type": "code",
      "source": [
        "description_dict = {\n",
        "    'kfold_splits':kfold_splits,\n",
        "    'data_version':'football_live_main_part_npz_230510/',\n",
        "    'data_version_upd':'football_live_upd_230510/'\n",
        "}"
      ],
      "metadata": {
        "id": "HT-WIinR4k1N"
      },
      "execution_count": null,
      "outputs": []
    },
    {
      "cell_type": "code",
      "source": [
        "reg_num = 2\n",
        "model_version = neptune.init_model_version(\n",
        "    model = f'FOOT-LIVEBST{reg_num}',\n",
        "    project = 'scomesse/football',\n",
        "    api_token = api_key # your credentials\n",
        ")\n",
        "model_sys = model_version['sys'].fetch()"
      ],
      "metadata": {
        "colab": {
          "base_uri": "https://localhost:8080/"
        },
        "id": "6gjjPFEu4oIz",
        "outputId": "4f240376-3368-4d83-9146-3ba24e494969"
      },
      "execution_count": null,
      "outputs": [
        {
          "output_type": "stream",
          "name": "stdout",
          "text": [
            "https://app.neptune.ai/scomesse/football/m/FOOT-LIVEBST2/v/FOOT-LIVEBST2-6\n"
          ]
        }
      ]
    },
    {
      "cell_type": "code",
      "source": [
        "print(model_sys)"
      ],
      "metadata": {
        "colab": {
          "base_uri": "https://localhost:8080/"
        },
        "id": "0LwOmAde6axv",
        "outputId": "750026e9-c871-43cb-c67a-12f78e14d2e9"
      },
      "execution_count": null,
      "outputs": [
        {
          "output_type": "stream",
          "name": "stdout",
          "text": [
            "{'creation_time': datetime.datetime(2023, 5, 19, 14, 58, 59, 601000, tzinfo=tzlocal()), 'id': 'FOOT-LIVEBST2-6', 'model_id': 'FOOT-LIVEBST2', 'modification_time': datetime.datetime(2023, 5, 19, 14, 58, 59, 601000, tzinfo=tzlocal()), 'monitoring_time': 0, 'owner': 'scomesse', 'ping_time': datetime.datetime(2023, 5, 19, 14, 58, 59, 601000, tzinfo=tzlocal()), 'running_time': 0.0, 'size': 0.0, 'stage': 'none', 'state': 'running', 'trashed': False}\n"
          ]
        }
      ]
    },
    {
      "cell_type": "code",
      "source": [
        "model_version_params = dict(\n",
        "    project = 'scomesse/football',\n",
        "    model = model_sys['model_id'],\n",
        "    api_token = api_key,\n",
        "    with_id = model_sys['id']\n",
        ")\n",
        "model_version = neptune.init_model_version(**model_version_params)\n",
        "for kfold_num in range(kfold_splits):\n",
        "    model_version[f'/models/model_reg{reg_num}_{kfold_num}'].upload(f'./models/booster_reg{reg_num}_{kfold_num}.model')\n",
        "model_version[f'/model_reg{reg_num}_parameters'] = stringify_unsupported(cparams)\n",
        "model_version[f'/model_reg{reg_num}_description'] = stringify_unsupported(description_dict)\n",
        "model_version.stop()"
      ],
      "metadata": {
        "colab": {
          "base_uri": "https://localhost:8080/"
        },
        "id": "kXeUDFD85Qzd",
        "outputId": "1dc30de7-b74e-47d3-e892-90f1b6a69b2b"
      },
      "execution_count": null,
      "outputs": [
        {
          "output_type": "stream",
          "name": "stdout",
          "text": [
            "https://app.neptune.ai/scomesse/football/m/FOOT-LIVEBST2/v/FOOT-LIVEBST2-5\n",
            "Shutting down background jobs, please wait a moment...\n",
            "Done!\n",
            "Waiting for the remaining 15 operations to synchronize with Neptune. Do not kill this process.\n",
            "All 15 operations synced, thanks for waiting!\n",
            "Explore the metadata in the Neptune app:\n",
            "https://app.neptune.ai/scomesse/football/m/FOOT-LIVEBST2/v/FOOT-LIVEBST2-5/metadata\n"
          ]
        }
      ]
    },
    {
      "cell_type": "code",
      "source": [
        "model_version = neptune.init_model_version(**model_version_params)\n",
        "model_version[f'threshold_model_all_fold'].upload(neptune.types.File.as_html(fig))\n",
        "model_version.stop()"
      ],
      "metadata": {
        "colab": {
          "base_uri": "https://localhost:8080/"
        },
        "id": "KbE5YSXn6qDT",
        "outputId": "d8b20dca-5f47-4546-ad74-fc0e4a4a58f6"
      },
      "execution_count": null,
      "outputs": [
        {
          "output_type": "stream",
          "name": "stdout",
          "text": [
            "https://app.neptune.ai/scomesse/football/m/FOOT-LIVEBST2/v/FOOT-LIVEBST2-5\n",
            "Shutting down background jobs, please wait a moment...\n",
            "Done!\n",
            "Waiting for the remaining 1 operations to synchronize with Neptune. Do not kill this process.\n",
            "All 1 operations synced, thanks for waiting!\n",
            "Explore the metadata in the Neptune app:\n",
            "https://app.neptune.ai/scomesse/football/m/FOOT-LIVEBST2/v/FOOT-LIVEBST2-5/metadata\n"
          ]
        }
      ]
    }
  ]
}