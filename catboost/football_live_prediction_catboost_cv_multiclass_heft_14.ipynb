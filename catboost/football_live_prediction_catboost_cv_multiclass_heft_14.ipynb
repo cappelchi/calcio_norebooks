{
  "nbformat": 4,
  "nbformat_minor": 0,
  "metadata": {
    "colab": {
      "provenance": [],
      "collapsed_sections": [
        "5TmD4vhiscmr",
        "wKKP71QH5Nc_",
        "OBy3RQZy5Fs0",
        "y-aB2ZmG48Ob",
        "xXtEqwN74m4H"
      ],
      "gpuType": "T4",
      "authorship_tag": "ABX9TyM6gTbAWSGMBKl40zD7dWFG",
      "include_colab_link": true
    },
    "kernelspec": {
      "name": "python3",
      "display_name": "Python 3"
    },
    "language_info": {
      "name": "python"
    },
    "gpuClass": "standard"
  },
  "cells": [
    {
      "cell_type": "markdown",
      "metadata": {
        "id": "view-in-github",
        "colab_type": "text"
      },
      "source": [
        "<a href=\"https://colab.research.google.com/github/cappelchi/calcio_notebooks/blob/main/catboost/football_live_prediction_catboost_cv_multiclass_heft_14.ipynb\" target=\"_parent\"><img src=\"https://colab.research.google.com/assets/colab-badge.svg\" alt=\"Open In Colab\"/></a>"
      ]
    },
    {
      "cell_type": "markdown",
      "source": [
        "\n",
        "[CatBoost - An In-Depth Guide [Python API]](https://coderzcolumn.com/tutorials/machine-learning/catboost-an-in-depth-guide-python#9)<br>\n",
        "[Catboost](https://catboost.ai/en/docs/concepts/python-reference_pool)<br>\n",
        "[Cross-Validation Techniques](https://medium.com/geekculture/cross-validation-techniques-33d389897878)<br>\n",
        "[https://github.com/catboost/tutorials/blob/master/cross_validation/cv_tutorial.ipynb](https://github.com/catboost/tutorials/blob/master/cross_validation/cv_tutorial.ipynb)\n"
      ],
      "metadata": {
        "id": "PJdR9nm3sU58"
      }
    },
    {
      "cell_type": "markdown",
      "source": [
        "### Project config"
      ],
      "metadata": {
        "id": "5TmD4vhiscmr"
      }
    },
    {
      "cell_type": "code",
      "source": [
        "try:\n",
        "    import neptune\n",
        "except:\n",
        "    !pip install neptune >> None\n",
        "    import neptune"
      ],
      "metadata": {
        "id": "d4vPCODXs4GL"
      },
      "execution_count": null,
      "outputs": []
    },
    {
      "cell_type": "code",
      "source": [
        "def get_credential(frmwork = 'neptune_team'):\n",
        "    with open('credential.txt', 'r') as container:\n",
        "        for line in container:\n",
        "            if frmwork in line:\n",
        "                login, psw = line.split(' ')[1], line.split(' ')[2].split('\\n')[0]\n",
        "                return login, psw\n",
        "\n",
        "#@title Set API key for neptune.ai\n",
        "set_api = True #@param {type:\"boolean\"}\n",
        "if set_api:\n",
        "    username, api_key = get_credential()"
      ],
      "metadata": {
        "id": "k8ejW2lptEij"
      },
      "execution_count": null,
      "outputs": []
    },
    {
      "cell_type": "markdown",
      "source": [
        "### Installations"
      ],
      "metadata": {
        "id": "wKKP71QH5Nc_"
      }
    },
    {
      "cell_type": "code",
      "source": [
        "!pip install catboost >> None\n",
        "!pip install deap >> None"
      ],
      "metadata": {
        "id": "L8IvJXwl5I9y"
      },
      "execution_count": null,
      "outputs": []
    },
    {
      "cell_type": "markdown",
      "source": [
        "### Downloads"
      ],
      "metadata": {
        "id": "OBy3RQZy5Fs0"
      }
    },
    {
      "cell_type": "code",
      "source": [
        "project = neptune.init_project(\n",
        "    project=\"scomesse/football\",\n",
        "    api_token = api_key\n",
        "    )\n",
        "\n",
        "data_version = 'football_live_main_part_npz_230510/'\n",
        "project[data_version + 'dataset'].download('./dataset.npz')\n",
        "project[data_version + 'additional_data'].download('./additional_data.npz')\n",
        "project[data_version + 'time'].download('./time.csv')\n",
        "data_params = project[data_version + 'params'].fetch()\n",
        "\n",
        "data_version = 'football_live_upd_230510/'\n",
        "project[data_version + 'dataset'].download('./dataset_upd.npz')\n",
        "project[data_version + 'additional_data'].download('./additional_data_upd.npz')\n",
        "project[data_version + 'time'].download('./time_upd.csv')\n",
        "data_params_upd = project[data_version + 'params'].fetch()\n",
        "project.stop()"
      ],
      "metadata": {
        "colab": {
          "base_uri": "https://localhost:8080/"
        },
        "id": "t6N_cpRZ4_sD",
        "outputId": "4c4e1d3f-e5ce-4334-83a3-0c5aa4445487"
      },
      "execution_count": null,
      "outputs": [
        {
          "output_type": "stream",
          "name": "stdout",
          "text": [
            "https://app.neptune.ai/scomesse/football/\n",
            "Shutting down background jobs, please wait a moment...\n",
            "Done!\n",
            "All 0 operations synced, thanks for waiting!\n",
            "Explore the metadata in the Neptune app:\n",
            "https://app.neptune.ai/scomesse/football/metadata\n"
          ]
        }
      ]
    },
    {
      "cell_type": "markdown",
      "source": [
        "### Imports"
      ],
      "metadata": {
        "id": "y-aB2ZmG48Ob"
      }
    },
    {
      "cell_type": "code",
      "source": [
        "import pandas as pd\n",
        "import numpy as np\n",
        "pd.options.display.max_columns = 50\n",
        "pd.options.display.max_rows = 100\n",
        "print(pd.__version__)\n",
        "print(np.__version__)"
      ],
      "metadata": {
        "colab": {
          "base_uri": "https://localhost:8080/"
        },
        "id": "15bNjVgR45yt",
        "outputId": "3a773548-d925-4e9b-ced1-48e2bb320907"
      },
      "execution_count": null,
      "outputs": [
        {
          "output_type": "stream",
          "name": "stdout",
          "text": [
            "1.5.3\n",
            "1.22.4\n"
          ]
        }
      ]
    },
    {
      "cell_type": "code",
      "source": [
        "from tqdm import tqdm\n",
        "import plotly.express as px\n",
        "import os, psutil, time\n",
        "import gc"
      ],
      "metadata": {
        "id": "3ENZi1yP43bo"
      },
      "execution_count": null,
      "outputs": []
    },
    {
      "cell_type": "code",
      "source": [
        "import plotly.graph_objects as go\n",
        "from plotly.subplots import make_subplots\n",
        "\n",
        "from neptune.utils import stringify_unsupported"
      ],
      "metadata": {
        "id": "9l_wpOuu41dC"
      },
      "execution_count": null,
      "outputs": []
    },
    {
      "cell_type": "code",
      "source": [
        "from catboost import CatBoost\n",
        "from catboost import utils\n",
        "from catboost import CatBoostClassifier, CatBoostRegressor\n",
        "from catboost import Pool, cv\n",
        "from catboost.utils import eval_metric\n",
        "np.random.seed(147)"
      ],
      "metadata": {
        "id": "Gm3uj2do4x0S"
      },
      "execution_count": null,
      "outputs": []
    },
    {
      "cell_type": "code",
      "source": [
        "import operator\n",
        "import random\n",
        "from deap import base\n",
        "from deap import creator\n",
        "from deap import tools\n",
        "from deap import algorithms"
      ],
      "metadata": {
        "id": "btyNZKwd4vfM"
      },
      "execution_count": null,
      "outputs": []
    },
    {
      "cell_type": "markdown",
      "source": [
        "### Code"
      ],
      "metadata": {
        "id": "-5ijAHfK4sRg"
      }
    },
    {
      "cell_type": "markdown",
      "source": [
        "#####Functions"
      ],
      "metadata": {
        "id": "xXtEqwN74m4H"
      }
    },
    {
      "cell_type": "code",
      "source": [
        "def calculate_multiclass(probability_2x:np.array, line_2x:np.array):\n",
        "\n",
        "    probline = probability_2x * line_2x\n",
        "    best_odd_result = np.argmax(probline, axis = 1)\n",
        "    best_odd_float = np.take_along_axis(probline, best_odd_result.reshape(-1, 1), axis = 1)\n",
        "    return {\n",
        "        'argmax':best_odd_result,\n",
        "        'float':best_odd_float[:,0],\n",
        "    }"
      ],
      "metadata": {
        "id": "4rVmvIN84kqr"
      },
      "execution_count": null,
      "outputs": []
    },
    {
      "cell_type": "code",
      "source": [
        "def precalculate_validation(data_split, active_rows_dict, preds_dict, line_dict, y_dict):\n",
        "    preds_int, preds_float = calculate_multiclass(\n",
        "        preds_dict[data_split][active_rows_dict[data_split]],\n",
        "        line_dict[data_split][active_rows_dict[data_split]]\n",
        "                                                ).values()\n",
        "    y_prof = (y_dict[data_split][active_rows_dict[data_split]] == preds_int) * 1\n",
        "    Line_production = np.take_along_axis(line_dict[data_split][active_rows_dict[data_split]], preds_int.reshape(-1,1), axis = 1)[:, 0]\n",
        "    return y_prof, preds_int, preds_float, Line_production"
      ],
      "metadata": {
        "id": "p3sME3pA4i5-"
      },
      "execution_count": null,
      "outputs": []
    },
    {
      "cell_type": "code",
      "source": [
        "def make_filter(hda, preds_int):\n",
        "    hda_dict = {'home':0, 'draw':1, 'away':2}\n",
        "    if hda == 'all':\n",
        "        return preds_int > -1\n",
        "    else:\n",
        "        return preds_int == hda_dict[hda]\n"
      ],
      "metadata": {
        "id": "8gzMpOxz4hQF"
      },
      "execution_count": null,
      "outputs": []
    },
    {
      "cell_type": "code",
      "source": [
        "def get_profit_curve(y, y_pred, Line_production, bet_type = 'fixed', strategy = 'simple'):\n",
        "    #fixed, divk, divk-1\n",
        "    #simple, complex\n",
        "    threshold = []\n",
        "    profit = []\n",
        "    bet_qty_list = []\n",
        "    if bet_type == 'divk':\n",
        "        profit_size = (Line_production - 1) / Line_production\n",
        "        bet_size = Line_production\n",
        "    else:\n",
        "        profit_size = (Line_production - 1)\n",
        "        bet_size = Line_production /Line_production\n",
        "    for th in np.linspace(0.9,1.4,101):\n",
        "        threshold.append(th)\n",
        "        if strategy == 'simple':\n",
        "            vector_th = y_pred > th\n",
        "        if strategy == 'complex':\n",
        "            vector_th = (y_pred * Line_production / 10) > th\n",
        "        bet_qty_list.append(vector_th.sum())\n",
        "        profit.append((y[vector_th] * profit_size[vector_th] + (y[vector_th] - 1) / bet_size[vector_th]).sum())\n",
        "\n",
        "    return threshold, profit, bet_qty_list"
      ],
      "metadata": {
        "id": "TGf0DDz24Z-a"
      },
      "execution_count": null,
      "outputs": []
    },
    {
      "cell_type": "code",
      "source": [
        "def profit_validation_by_type(active_rows_dict, preds_dict, line_dict, y_dict):\n",
        "    data_splits = ['holdout', 'test', 'train']\n",
        "    hda_list = ['all', 'home', 'draw', 'away']\n",
        "    title_text = f'Profit & bet qty for validation model in neptune.ai: model_name'\n",
        "    colors = ['rgb(93, 164, 214)', 'rgb(255, 144, 14)',  'rgb(44, 160, 101)', 'rgb(255, 65, 54)']\n",
        "    fig = make_subplots(rows = 3, cols = 1,\n",
        "                        shared_xaxes = True,\n",
        "                        vertical_spacing = 0.02,\n",
        "                        subplot_titles = (\"holdout\", \"test\", \"train\")\n",
        "                        )\n",
        "    for cnt_split, data_split in enumerate(data_splits):\n",
        "        y_prof, preds_int, preds_float, Line_production = precalculate_validation(\n",
        "                        data_split, active_rows_dict, preds_dict, line_dict, y_dict\n",
        "                        )\n",
        "        for cnt_hda, hda in enumerate(hda_list):\n",
        "            sfilter = make_filter(hda, preds_int)\n",
        "            threshold, profit, bet_qty_list = get_profit_curve(\n",
        "                                                y_prof[sfilter],\n",
        "                                                preds_float[sfilter],\n",
        "                                                Line_production[sfilter],\n",
        "                                                bet_type = 'divk'\n",
        "                                                            )\n",
        "            fig.append_trace(go.Scatter(\n",
        "                                    x = threshold,\n",
        "                                    y = profit,\n",
        "                                    name = hda,\n",
        "                                    line = dict(color = colors[cnt_hda], width = 4 - 3 * bool(cnt_hda))),\n",
        "                                    row = cnt_split + 1, col=1)\n",
        "            # Update yaxis properties\n",
        "            fig.update_yaxes(rangemode = 'nonnegative', row = cnt_split + 1, col = 1)\n",
        "\n",
        "    return fig.update_layout(title = 'profit validation', height = 800, width = 900)"
      ],
      "metadata": {
        "id": "2vlVMjd-4W3c"
      },
      "execution_count": null,
      "outputs": []
    },
    {
      "cell_type": "markdown",
      "source": [
        "##### Prepare Data\n",
        "\n",
        "2. мультиклассовая класификация"
      ],
      "metadata": {
        "id": "K3gsr1nv36Zj"
      }
    },
    {
      "cell_type": "code",
      "source": [
        "id_time_df = pd.read_csv('/content/time_upd.csv', parse_dates = ['StatTime'], dayfirst = True)\n",
        "ids_seq = id_time_df.sort_values(by = 'StatTime')['Id'].values[:int(len(id_time_df) / 2)]\n",
        "additional_data_upd = np.load('/content/additional_data_upd.npz')\n",
        "id_vector = np.isin(additional_data_upd['id'], ids_seq)\n",
        "\n",
        "data_npz = np.load('./dataset.npz')\n",
        "data_upd_npz = np.load('./dataset_upd.npz')\n",
        "\n",
        "incollare = False\n",
        "if incollare:\n",
        "    X = np.vstack((data_npz['X'], data_upd_npz['X'][id_vector]))\n",
        "    X_holdout  = data_upd_npz['X'][~id_vector]\n",
        "else:\n",
        "    X = data_npz['X']\n",
        "    X_holdout  = data_upd_npz['X']\n",
        "print(X.shape)\n"
      ],
      "metadata": {
        "colab": {
          "base_uri": "https://localhost:8080/"
        },
        "id": "NmBqfhWR3rC_",
        "outputId": "b292b57f-dee1-446f-9dd5-403cedc489a7"
      },
      "execution_count": null,
      "outputs": [
        {
          "output_type": "stream",
          "name": "stdout",
          "text": [
            "(13996696, 37)\n"
          ]
        }
      ]
    },
    {
      "cell_type": "code",
      "source": [
        "target_type = \"multiclass\"\n",
        "if incollare:\n",
        "    y = np.hstack((data_npz['y_multi'], data_upd_npz['y_multi'][id_vector]))\n",
        "    y_holdout = data_upd_npz['y_multi'][~id_vector]\n",
        "else:\n",
        "    y = data_npz['y_multi']\n",
        "    y_holdout = data_upd_npz['y_multi']\n",
        "print(X.shape, y.shape)\n",
        "#---------------\n",
        "process = psutil.Process(os.getpid())\n",
        "print('mem usage: ', round(process.memory_info().rss / 1024 ** 3, 2), 'GiB')  # in bytes\n",
        "#---------------"
      ],
      "metadata": {
        "colab": {
          "base_uri": "https://localhost:8080/"
        },
        "id": "OhTyTzENpdc-",
        "outputId": "cb2b6eb5-3ce5-4b09-a6fc-ae9616a1d379"
      },
      "execution_count": null,
      "outputs": [
        {
          "output_type": "stream",
          "name": "stdout",
          "text": [
            "(13996696, 37) (13996696,)\n",
            "mem usage:  2.39 GiB\n"
          ]
        }
      ]
    },
    {
      "cell_type": "code",
      "source": [
        "!mkdir -p ./models"
      ],
      "metadata": {
        "id": "dSS87xGX3hqr"
      },
      "execution_count": null,
      "outputs": []
    },
    {
      "cell_type": "markdown",
      "source": [
        "##### Folding"
      ],
      "metadata": {
        "id": "ph3ewOoB4Dqu"
      }
    },
    {
      "cell_type": "code",
      "source": [
        "kfold_splits = 3\n",
        "kfold_size = int(y.shape[0] / kfold_splits)\n",
        "kfold_num = 2\n",
        "kfold_start, kfold_end = kfold_size * kfold_num, kfold_size * (kfold_num + 1)\n",
        "kfold_vector = np.zeros(y.shape[0], dtype = np.bool_)\n",
        "kfold_vector[kfold_start:kfold_end] = True"
      ],
      "metadata": {
        "id": "zidD33Uq3fCl"
      },
      "execution_count": null,
      "outputs": []
    },
    {
      "cell_type": "code",
      "source": [
        "train_data = Pool(X[~kfold_vector], y[~kfold_vector])\n",
        "test_data = Pool(X[kfold_vector], y[kfold_vector])\n",
        "#---------------\n",
        "process = psutil.Process(os.getpid())\n",
        "print('mem usage: ', round(process.memory_info().rss / 1024 ** 3, 2), 'GiB')  # in bytes\n",
        "#---------------"
      ],
      "metadata": {
        "colab": {
          "base_uri": "https://localhost:8080/"
        },
        "id": "Y-4rL7g63bEb",
        "outputId": "7df95b5b-d62f-46d7-b752-f39326b2413e"
      },
      "execution_count": null,
      "outputs": [
        {
          "output_type": "stream",
          "name": "stdout",
          "text": [
            "mem usage:  5.02 GiB\n"
          ]
        }
      ]
    },
    {
      "cell_type": "code",
      "source": [
        "gpu_cnt = utils.get_gpu_device_count()\n",
        "print(\"Number of GPU Count : \",gpu_cnt)"
      ],
      "metadata": {
        "colab": {
          "base_uri": "https://localhost:8080/"
        },
        "id": "6J_yDoRD3WoW",
        "outputId": "403b14e0-863f-4c7e-d947-493e5ef9f3bc"
      },
      "execution_count": null,
      "outputs": [
        {
          "output_type": "stream",
          "name": "stdout",
          "text": [
            "Number of GPU Count :  1\n"
          ]
        }
      ]
    },
    {
      "cell_type": "markdown",
      "source": [
        "##### Train catboost model"
      ],
      "metadata": {
        "id": "bfdudmNm4Hwg"
      }
    },
    {
      "cell_type": "code",
      "source": [
        "cparams = {\n",
        "    'loss_function': 'MultiClass',\n",
        "    'learning_rate':0.25,\n",
        "    'l2_leaf_reg':0.3,\n",
        "    'max_depth':2,\n",
        "    'min_data_in_leaf':500,\n",
        "    #'leaf_estimation_method':leafmethod,\n",
        "    #'early_stopping_rounds':15,\n",
        "    'verbose':10,\n",
        "    'iterations':3000,\n",
        "    \"eval_metric\" : 'TotalF1',\n",
        "    'task_type':\"GPU\",\n",
        "    'devices':'0'\n",
        "}"
      ],
      "metadata": {
        "id": "DmX9ynZn3DB0"
      },
      "execution_count": null,
      "outputs": []
    },
    {
      "cell_type": "code",
      "source": [
        "booster = CatBoostClassifier(\n",
        "                **cparams\n",
        "                )\n",
        "\n",
        "booster.fit(train_data, eval_set = test_data)\n",
        "\n",
        "booster.save_model(f'./models/booster_{kfold_num}.model')"
      ],
      "metadata": {
        "id": "5Jfp2ERt3AMI",
        "colab": {
          "base_uri": "https://localhost:8080/"
        },
        "outputId": "4878a479-427a-439b-b694-d66cd37673a1"
      },
      "execution_count": null,
      "outputs": [
        {
          "output_type": "stream",
          "name": "stdout",
          "text": [
            "0:\tlearn: 0.4766053\ttest: 0.4767504\tbest: 0.4767504 (0)\ttotal: 81.1ms\tremaining: 4m 3s\n",
            "10:\tlearn: 0.4951422\ttest: 0.4963130\tbest: 0.4963130 (10)\ttotal: 621ms\tremaining: 2m 48s\n",
            "20:\tlearn: 0.4980457\ttest: 0.4992170\tbest: 0.4992170 (20)\ttotal: 1.14s\tremaining: 2m 41s\n",
            "30:\tlearn: 0.5069935\ttest: 0.5078051\tbest: 0.5078051 (30)\ttotal: 1.64s\tremaining: 2m 36s\n",
            "40:\tlearn: 0.5126425\ttest: 0.5129313\tbest: 0.5129313 (40)\ttotal: 2.15s\tremaining: 2m 35s\n",
            "50:\tlearn: 0.5185034\ttest: 0.5182704\tbest: 0.5183637 (49)\ttotal: 2.65s\tremaining: 2m 33s\n",
            "60:\tlearn: 0.5240006\ttest: 0.5236820\tbest: 0.5236820 (60)\ttotal: 3.16s\tremaining: 2m 32s\n",
            "70:\tlearn: 0.5265445\ttest: 0.5259468\tbest: 0.5259468 (70)\ttotal: 3.65s\tremaining: 2m 30s\n",
            "80:\tlearn: 0.5283081\ttest: 0.5276228\tbest: 0.5276228 (80)\ttotal: 4.16s\tremaining: 2m 29s\n",
            "90:\tlearn: 0.5304369\ttest: 0.5297085\tbest: 0.5297085 (90)\ttotal: 4.67s\tremaining: 2m 29s\n",
            "100:\tlearn: 0.5317304\ttest: 0.5310730\tbest: 0.5311039 (99)\ttotal: 5.19s\tremaining: 2m 28s\n",
            "110:\tlearn: 0.5332083\ttest: 0.5326521\tbest: 0.5326521 (110)\ttotal: 5.72s\tremaining: 2m 28s\n",
            "120:\tlearn: 0.5335299\ttest: 0.5329443\tbest: 0.5330254 (119)\ttotal: 6.22s\tremaining: 2m 28s\n",
            "130:\tlearn: 0.5347072\ttest: 0.5340422\tbest: 0.5340422 (130)\ttotal: 6.73s\tremaining: 2m 27s\n",
            "140:\tlearn: 0.5346615\ttest: 0.5341401\tbest: 0.5341401 (140)\ttotal: 7.26s\tremaining: 2m 27s\n",
            "150:\tlearn: 0.5352467\ttest: 0.5347091\tbest: 0.5348233 (147)\ttotal: 7.77s\tremaining: 2m 26s\n",
            "160:\tlearn: 0.5357914\ttest: 0.5354257\tbest: 0.5355089 (158)\ttotal: 8.29s\tremaining: 2m 26s\n",
            "170:\tlearn: 0.5360466\ttest: 0.5356007\tbest: 0.5356007 (170)\ttotal: 8.8s\tremaining: 2m 25s\n",
            "180:\tlearn: 0.5369058\ttest: 0.5364654\tbest: 0.5364850 (179)\ttotal: 9.31s\tremaining: 2m 25s\n",
            "190:\tlearn: 0.5368326\ttest: 0.5364015\tbest: 0.5365157 (181)\ttotal: 9.87s\tremaining: 2m 25s\n",
            "200:\tlearn: 0.5370998\ttest: 0.5367499\tbest: 0.5368063 (195)\ttotal: 10.9s\tremaining: 2m 31s\n",
            "210:\tlearn: 0.5374607\ttest: 0.5370487\tbest: 0.5370487 (210)\ttotal: 11.9s\tremaining: 2m 37s\n",
            "220:\tlearn: 0.5377687\ttest: 0.5373128\tbest: 0.5373128 (220)\ttotal: 12.8s\tremaining: 2m 41s\n",
            "230:\tlearn: 0.5379884\ttest: 0.5375838\tbest: 0.5375872 (229)\ttotal: 13.3s\tremaining: 2m 39s\n",
            "240:\tlearn: 0.5379728\ttest: 0.5375274\tbest: 0.5375983 (231)\ttotal: 13.9s\tremaining: 2m 38s\n",
            "250:\tlearn: 0.5382204\ttest: 0.5377657\tbest: 0.5379960 (245)\ttotal: 14.4s\tremaining: 2m 37s\n",
            "260:\tlearn: 0.5381765\ttest: 0.5377441\tbest: 0.5379960 (245)\ttotal: 14.9s\tremaining: 2m 36s\n",
            "270:\tlearn: 0.5381136\ttest: 0.5377464\tbest: 0.5379960 (245)\ttotal: 15.4s\tremaining: 2m 34s\n",
            "280:\tlearn: 0.5382838\ttest: 0.5379195\tbest: 0.5380953 (278)\ttotal: 15.9s\tremaining: 2m 34s\n",
            "290:\tlearn: 0.5384598\ttest: 0.5380862\tbest: 0.5380953 (278)\ttotal: 16.4s\tremaining: 2m 33s\n",
            "300:\tlearn: 0.5384926\ttest: 0.5381202\tbest: 0.5382811 (295)\ttotal: 17s\tremaining: 2m 32s\n",
            "310:\tlearn: 0.5387007\ttest: 0.5382132\tbest: 0.5382811 (295)\ttotal: 17.5s\tremaining: 2m 31s\n",
            "320:\tlearn: 0.5389059\ttest: 0.5384700\tbest: 0.5384700 (320)\ttotal: 18s\tremaining: 2m 30s\n",
            "330:\tlearn: 0.5388159\ttest: 0.5383532\tbest: 0.5384876 (322)\ttotal: 18.5s\tremaining: 2m 29s\n",
            "340:\tlearn: 0.5391070\ttest: 0.5386165\tbest: 0.5386165 (340)\ttotal: 19s\tremaining: 2m 28s\n",
            "350:\tlearn: 0.5391036\ttest: 0.5386121\tbest: 0.5386575 (344)\ttotal: 19.6s\tremaining: 2m 27s\n",
            "360:\tlearn: 0.5391141\ttest: 0.5386912\tbest: 0.5387403 (355)\ttotal: 20.1s\tremaining: 2m 26s\n",
            "370:\tlearn: 0.5394002\ttest: 0.5389747\tbest: 0.5389747 (370)\ttotal: 20.6s\tremaining: 2m 25s\n",
            "380:\tlearn: 0.5394992\ttest: 0.5390445\tbest: 0.5390523 (379)\ttotal: 21.1s\tremaining: 2m 25s\n",
            "390:\tlearn: 0.5395712\ttest: 0.5391786\tbest: 0.5391793 (389)\ttotal: 21.6s\tremaining: 2m 24s\n",
            "400:\tlearn: 0.5395838\ttest: 0.5392512\tbest: 0.5392512 (400)\ttotal: 22.2s\tremaining: 2m 23s\n",
            "410:\tlearn: 0.5396644\ttest: 0.5393287\tbest: 0.5393350 (408)\ttotal: 22.7s\tremaining: 2m 22s\n",
            "420:\tlearn: 0.5396876\ttest: 0.5392880\tbest: 0.5393350 (408)\ttotal: 23.7s\tremaining: 2m 24s\n",
            "430:\tlearn: 0.5399881\ttest: 0.5395166\tbest: 0.5395373 (429)\ttotal: 24.7s\tremaining: 2m 27s\n",
            "440:\tlearn: 0.5399561\ttest: 0.5395426\tbest: 0.5395426 (440)\ttotal: 25.7s\tremaining: 2m 28s\n",
            "450:\tlearn: 0.5400879\ttest: 0.5396343\tbest: 0.5396688 (445)\ttotal: 26.2s\tremaining: 2m 28s\n",
            "460:\tlearn: 0.5400861\ttest: 0.5396081\tbest: 0.5396688 (445)\ttotal: 26.7s\tremaining: 2m 27s\n",
            "470:\tlearn: 0.5400448\ttest: 0.5395478\tbest: 0.5396688 (445)\ttotal: 27.2s\tremaining: 2m 26s\n",
            "480:\tlearn: 0.5400844\ttest: 0.5395812\tbest: 0.5396688 (445)\ttotal: 27.7s\tremaining: 2m 25s\n",
            "490:\tlearn: 0.5401661\ttest: 0.5396689\tbest: 0.5397465 (488)\ttotal: 28.3s\tremaining: 2m 24s\n",
            "500:\tlearn: 0.5403139\ttest: 0.5398114\tbest: 0.5398114 (500)\ttotal: 28.8s\tremaining: 2m 23s\n",
            "510:\tlearn: 0.5403985\ttest: 0.5398805\tbest: 0.5399175 (501)\ttotal: 29.3s\tremaining: 2m 22s\n",
            "520:\tlearn: 0.5404707\ttest: 0.5398509\tbest: 0.5399175 (501)\ttotal: 29.8s\tremaining: 2m 21s\n",
            "530:\tlearn: 0.5405192\ttest: 0.5399034\tbest: 0.5399175 (501)\ttotal: 30.3s\tremaining: 2m 21s\n",
            "540:\tlearn: 0.5405523\ttest: 0.5399339\tbest: 0.5399511 (536)\ttotal: 30.9s\tremaining: 2m 20s\n",
            "550:\tlearn: 0.5405708\ttest: 0.5399511\tbest: 0.5399592 (541)\ttotal: 31.4s\tremaining: 2m 19s\n",
            "560:\tlearn: 0.5406031\ttest: 0.5399746\tbest: 0.5399746 (560)\ttotal: 31.9s\tremaining: 2m 18s\n",
            "570:\tlearn: 0.5406026\ttest: 0.5399597\tbest: 0.5400067 (563)\ttotal: 32.4s\tremaining: 2m 17s\n",
            "580:\tlearn: 0.5406737\ttest: 0.5400136\tbest: 0.5400339 (576)\ttotal: 32.9s\tremaining: 2m 17s\n",
            "590:\tlearn: 0.5408062\ttest: 0.5400768\tbest: 0.5400768 (590)\ttotal: 33.5s\tremaining: 2m 16s\n",
            "600:\tlearn: 0.5409469\ttest: 0.5401884\tbest: 0.5401884 (600)\ttotal: 34s\tremaining: 2m 15s\n",
            "610:\tlearn: 0.5409738\ttest: 0.5402284\tbest: 0.5402605 (606)\ttotal: 34.5s\tremaining: 2m 14s\n",
            "620:\tlearn: 0.5411111\ttest: 0.5403359\tbest: 0.5403612 (618)\ttotal: 35s\tremaining: 2m 14s\n",
            "630:\tlearn: 0.5411199\ttest: 0.5402811\tbest: 0.5403840 (625)\ttotal: 35.5s\tremaining: 2m 13s\n",
            "640:\tlearn: 0.5412153\ttest: 0.5403698\tbest: 0.5403840 (625)\ttotal: 36.4s\tremaining: 2m 14s\n",
            "650:\tlearn: 0.5412812\ttest: 0.5404540\tbest: 0.5404540 (650)\ttotal: 37.4s\tremaining: 2m 15s\n",
            "660:\tlearn: 0.5412432\ttest: 0.5404200\tbest: 0.5405366 (655)\ttotal: 38.4s\tremaining: 2m 15s\n",
            "670:\tlearn: 0.5412189\ttest: 0.5403925\tbest: 0.5405366 (655)\ttotal: 39s\tremaining: 2m 15s\n",
            "680:\tlearn: 0.5413335\ttest: 0.5404840\tbest: 0.5405366 (655)\ttotal: 39.5s\tremaining: 2m 14s\n",
            "690:\tlearn: 0.5412147\ttest: 0.5403826\tbest: 0.5405366 (655)\ttotal: 40s\tremaining: 2m 13s\n",
            "700:\tlearn: 0.5412764\ttest: 0.5404190\tbest: 0.5405366 (655)\ttotal: 40.6s\tremaining: 2m 13s\n",
            "710:\tlearn: 0.5413511\ttest: 0.5404967\tbest: 0.5405366 (655)\ttotal: 41.1s\tremaining: 2m 12s\n",
            "720:\tlearn: 0.5414529\ttest: 0.5405729\tbest: 0.5406049 (717)\ttotal: 41.6s\tremaining: 2m 11s\n",
            "730:\tlearn: 0.5414429\ttest: 0.5405447\tbest: 0.5406135 (727)\ttotal: 42.1s\tremaining: 2m 10s\n",
            "740:\tlearn: 0.5415028\ttest: 0.5405975\tbest: 0.5406135 (727)\ttotal: 42.6s\tremaining: 2m 10s\n",
            "750:\tlearn: 0.5414492\ttest: 0.5405275\tbest: 0.5406135 (727)\ttotal: 43.2s\tremaining: 2m 9s\n",
            "760:\tlearn: 0.5415000\ttest: 0.5405674\tbest: 0.5406135 (727)\ttotal: 43.7s\tremaining: 2m 8s\n",
            "770:\tlearn: 0.5417170\ttest: 0.5407261\tbest: 0.5407261 (770)\ttotal: 44.2s\tremaining: 2m 7s\n",
            "780:\tlearn: 0.5417738\ttest: 0.5407634\tbest: 0.5407634 (780)\ttotal: 44.7s\tremaining: 2m 7s\n",
            "790:\tlearn: 0.5416906\ttest: 0.5407374\tbest: 0.5407971 (781)\ttotal: 45.3s\tremaining: 2m 6s\n",
            "800:\tlearn: 0.5416680\ttest: 0.5406683\tbest: 0.5408337 (794)\ttotal: 45.8s\tremaining: 2m 5s\n",
            "810:\tlearn: 0.5417725\ttest: 0.5407437\tbest: 0.5408337 (794)\ttotal: 46.3s\tremaining: 2m 5s\n",
            "820:\tlearn: 0.5418268\ttest: 0.5408003\tbest: 0.5408337 (794)\ttotal: 46.8s\tremaining: 2m 4s\n",
            "830:\tlearn: 0.5417770\ttest: 0.5407183\tbest: 0.5408337 (794)\ttotal: 47.3s\tremaining: 2m 3s\n",
            "840:\tlearn: 0.5417155\ttest: 0.5406758\tbest: 0.5408337 (794)\ttotal: 47.9s\tremaining: 2m 2s\n",
            "850:\tlearn: 0.5418248\ttest: 0.5407350\tbest: 0.5408337 (794)\ttotal: 48.4s\tremaining: 2m 2s\n",
            "860:\tlearn: 0.5417805\ttest: 0.5406893\tbest: 0.5408337 (794)\ttotal: 49.3s\tremaining: 2m 2s\n",
            "870:\tlearn: 0.5418312\ttest: 0.5406651\tbest: 0.5408337 (794)\ttotal: 50.3s\tremaining: 2m 2s\n",
            "880:\tlearn: 0.5418021\ttest: 0.5406862\tbest: 0.5408337 (794)\ttotal: 51.3s\tremaining: 2m 3s\n",
            "890:\tlearn: 0.5417634\ttest: 0.5405964\tbest: 0.5408337 (794)\ttotal: 51.9s\tremaining: 2m 2s\n",
            "900:\tlearn: 0.5418347\ttest: 0.5406578\tbest: 0.5408337 (794)\ttotal: 52.4s\tremaining: 2m 2s\n",
            "910:\tlearn: 0.5418156\ttest: 0.5406383\tbest: 0.5408337 (794)\ttotal: 52.9s\tremaining: 2m 1s\n",
            "920:\tlearn: 0.5419127\ttest: 0.5407175\tbest: 0.5408337 (794)\ttotal: 53.5s\tremaining: 2m\n",
            "930:\tlearn: 0.5418062\ttest: 0.5406538\tbest: 0.5408337 (794)\ttotal: 54s\tremaining: 1m 59s\n",
            "940:\tlearn: 0.5418262\ttest: 0.5406612\tbest: 0.5408337 (794)\ttotal: 54.5s\tremaining: 1m 59s\n",
            "950:\tlearn: 0.5419386\ttest: 0.5407774\tbest: 0.5408337 (794)\ttotal: 55s\tremaining: 1m 58s\n",
            "960:\tlearn: 0.5419722\ttest: 0.5407678\tbest: 0.5408337 (794)\ttotal: 55.5s\tremaining: 1m 57s\n",
            "970:\tlearn: 0.5419664\ttest: 0.5407570\tbest: 0.5408337 (794)\ttotal: 56s\tremaining: 1m 57s\n",
            "980:\tlearn: 0.5420165\ttest: 0.5407771\tbest: 0.5408337 (794)\ttotal: 56.5s\tremaining: 1m 56s\n",
            "990:\tlearn: 0.5420572\ttest: 0.5407832\tbest: 0.5408337 (794)\ttotal: 57.1s\tremaining: 1m 55s\n",
            "1000:\tlearn: 0.5420734\ttest: 0.5407691\tbest: 0.5408337 (794)\ttotal: 57.6s\tremaining: 1m 55s\n",
            "1010:\tlearn: 0.5421115\ttest: 0.5407841\tbest: 0.5408337 (794)\ttotal: 58.1s\tremaining: 1m 54s\n",
            "1020:\tlearn: 0.5421690\ttest: 0.5408325\tbest: 0.5408337 (794)\ttotal: 58.7s\tremaining: 1m 53s\n",
            "1030:\tlearn: 0.5422018\ttest: 0.5408197\tbest: 0.5408337 (794)\ttotal: 59.2s\tremaining: 1m 53s\n",
            "1040:\tlearn: 0.5421995\ttest: 0.5408101\tbest: 0.5408337 (794)\ttotal: 59.7s\tremaining: 1m 52s\n",
            "1050:\tlearn: 0.5422677\ttest: 0.5408185\tbest: 0.5408341 (1048)\ttotal: 1m\tremaining: 1m 51s\n",
            "1060:\tlearn: 0.5422679\ttest: 0.5408268\tbest: 0.5408536 (1058)\ttotal: 1m\tremaining: 1m 51s\n",
            "1070:\tlearn: 0.5422511\ttest: 0.5408110\tbest: 0.5409248 (1065)\ttotal: 1m 1s\tremaining: 1m 50s\n",
            "1080:\tlearn: 0.5422913\ttest: 0.5408726\tbest: 0.5409248 (1065)\ttotal: 1m 2s\tremaining: 1m 50s\n",
            "1090:\tlearn: 0.5423847\ttest: 0.5409615\tbest: 0.5409687 (1089)\ttotal: 1m 3s\tremaining: 1m 50s\n",
            "1100:\tlearn: 0.5424342\ttest: 0.5409817\tbest: 0.5410115 (1097)\ttotal: 1m 4s\tremaining: 1m 50s\n",
            "1110:\tlearn: 0.5424320\ttest: 0.5410317\tbest: 0.5410679 (1108)\ttotal: 1m 4s\tremaining: 1m 50s\n",
            "1120:\tlearn: 0.5424503\ttest: 0.5410347\tbest: 0.5410884 (1118)\ttotal: 1m 5s\tremaining: 1m 49s\n",
            "1130:\tlearn: 0.5424800\ttest: 0.5410794\tbest: 0.5411233 (1127)\ttotal: 1m 5s\tremaining: 1m 48s\n",
            "1140:\tlearn: 0.5424503\ttest: 0.5410442\tbest: 0.5411233 (1127)\ttotal: 1m 6s\tremaining: 1m 48s\n",
            "1150:\tlearn: 0.5424993\ttest: 0.5410844\tbest: 0.5411233 (1127)\ttotal: 1m 6s\tremaining: 1m 47s\n",
            "1160:\tlearn: 0.5424938\ttest: 0.5410775\tbest: 0.5411233 (1127)\ttotal: 1m 7s\tremaining: 1m 46s\n",
            "1170:\tlearn: 0.5425563\ttest: 0.5411022\tbest: 0.5411233 (1127)\ttotal: 1m 7s\tremaining: 1m 46s\n",
            "1180:\tlearn: 0.5424939\ttest: 0.5410724\tbest: 0.5411246 (1173)\ttotal: 1m 8s\tremaining: 1m 45s\n",
            "1190:\tlearn: 0.5424948\ttest: 0.5410585\tbest: 0.5411246 (1173)\ttotal: 1m 8s\tremaining: 1m 44s\n",
            "1200:\tlearn: 0.5424930\ttest: 0.5410179\tbest: 0.5411246 (1173)\ttotal: 1m 9s\tremaining: 1m 44s\n",
            "1210:\tlearn: 0.5424322\ttest: 0.5409678\tbest: 0.5411246 (1173)\ttotal: 1m 10s\tremaining: 1m 43s\n",
            "1220:\tlearn: 0.5425604\ttest: 0.5410847\tbest: 0.5411246 (1173)\ttotal: 1m 10s\tremaining: 1m 42s\n",
            "1230:\tlearn: 0.5425753\ttest: 0.5410861\tbest: 0.5411246 (1173)\ttotal: 1m 11s\tremaining: 1m 42s\n",
            "1240:\tlearn: 0.5426551\ttest: 0.5411542\tbest: 0.5411585 (1239)\ttotal: 1m 11s\tremaining: 1m 41s\n",
            "1250:\tlearn: 0.5426545\ttest: 0.5411676\tbest: 0.5411705 (1249)\ttotal: 1m 12s\tremaining: 1m 40s\n",
            "1260:\tlearn: 0.5426908\ttest: 0.5411515\tbest: 0.5411705 (1249)\ttotal: 1m 12s\tremaining: 1m 40s\n",
            "1270:\tlearn: 0.5426788\ttest: 0.5411115\tbest: 0.5411705 (1249)\ttotal: 1m 13s\tremaining: 1m 39s\n",
            "1280:\tlearn: 0.5426326\ttest: 0.5410380\tbest: 0.5411705 (1249)\ttotal: 1m 13s\tremaining: 1m 38s\n",
            "1290:\tlearn: 0.5426177\ttest: 0.5410146\tbest: 0.5411705 (1249)\ttotal: 1m 14s\tremaining: 1m 38s\n",
            "1300:\tlearn: 0.5426002\ttest: 0.5410077\tbest: 0.5411705 (1249)\ttotal: 1m 14s\tremaining: 1m 37s\n",
            "1310:\tlearn: 0.5426934\ttest: 0.5410861\tbest: 0.5411705 (1249)\ttotal: 1m 15s\tremaining: 1m 37s\n",
            "1320:\tlearn: 0.5427160\ttest: 0.5410809\tbest: 0.5411705 (1249)\ttotal: 1m 16s\tremaining: 1m 37s\n",
            "1330:\tlearn: 0.5427503\ttest: 0.5411044\tbest: 0.5411705 (1249)\ttotal: 1m 17s\tremaining: 1m 37s\n",
            "1340:\tlearn: 0.5427203\ttest: 0.5410572\tbest: 0.5411705 (1249)\ttotal: 1m 18s\tremaining: 1m 36s\n",
            "1350:\tlearn: 0.5426374\ttest: 0.5409220\tbest: 0.5411705 (1249)\ttotal: 1m 18s\tremaining: 1m 36s\n",
            "1360:\tlearn: 0.5426551\ttest: 0.5408912\tbest: 0.5411705 (1249)\ttotal: 1m 19s\tremaining: 1m 35s\n",
            "1370:\tlearn: 0.5426682\ttest: 0.5408887\tbest: 0.5411705 (1249)\ttotal: 1m 19s\tremaining: 1m 34s\n",
            "1380:\tlearn: 0.5427295\ttest: 0.5409547\tbest: 0.5411705 (1249)\ttotal: 1m 20s\tremaining: 1m 34s\n",
            "1390:\tlearn: 0.5428196\ttest: 0.5410258\tbest: 0.5411705 (1249)\ttotal: 1m 20s\tremaining: 1m 33s\n",
            "1400:\tlearn: 0.5428371\ttest: 0.5410555\tbest: 0.5411705 (1249)\ttotal: 1m 21s\tremaining: 1m 32s\n",
            "1410:\tlearn: 0.5428194\ttest: 0.5410608\tbest: 0.5411705 (1249)\ttotal: 1m 21s\tremaining: 1m 32s\n",
            "1420:\tlearn: 0.5428818\ttest: 0.5411214\tbest: 0.5411705 (1249)\ttotal: 1m 22s\tremaining: 1m 31s\n",
            "1430:\tlearn: 0.5429374\ttest: 0.5411497\tbest: 0.5411705 (1249)\ttotal: 1m 22s\tremaining: 1m 30s\n",
            "1440:\tlearn: 0.5429686\ttest: 0.5412090\tbest: 0.5412116 (1435)\ttotal: 1m 23s\tremaining: 1m 30s\n",
            "1450:\tlearn: 0.5429725\ttest: 0.5411949\tbest: 0.5412435 (1447)\ttotal: 1m 23s\tremaining: 1m 29s\n",
            "1460:\tlearn: 0.5429724\ttest: 0.5412032\tbest: 0.5412435 (1447)\ttotal: 1m 24s\tremaining: 1m 28s\n",
            "1470:\tlearn: 0.5430118\ttest: 0.5412175\tbest: 0.5412435 (1447)\ttotal: 1m 24s\tremaining: 1m 28s\n",
            "1480:\tlearn: 0.5429985\ttest: 0.5412286\tbest: 0.5412595 (1475)\ttotal: 1m 25s\tremaining: 1m 27s\n",
            "1490:\tlearn: 0.5431537\ttest: 0.5413395\tbest: 0.5413395 (1490)\ttotal: 1m 25s\tremaining: 1m 27s\n",
            "1500:\tlearn: 0.5431369\ttest: 0.5413188\tbest: 0.5413704 (1495)\ttotal: 1m 26s\tremaining: 1m 26s\n",
            "1510:\tlearn: 0.5431214\ttest: 0.5412877\tbest: 0.5413704 (1495)\ttotal: 1m 27s\tremaining: 1m 25s\n",
            "1520:\tlearn: 0.5430854\ttest: 0.5412629\tbest: 0.5413704 (1495)\ttotal: 1m 27s\tremaining: 1m 25s\n",
            "1530:\tlearn: 0.5431296\ttest: 0.5413112\tbest: 0.5413704 (1495)\ttotal: 1m 28s\tremaining: 1m 25s\n",
            "1540:\tlearn: 0.5431338\ttest: 0.5413356\tbest: 0.5413704 (1495)\ttotal: 1m 29s\tremaining: 1m 25s\n",
            "1550:\tlearn: 0.5431243\ttest: 0.5413364\tbest: 0.5413704 (1495)\ttotal: 1m 30s\tremaining: 1m 24s\n",
            "1560:\tlearn: 0.5430975\ttest: 0.5412940\tbest: 0.5413704 (1495)\ttotal: 1m 31s\tremaining: 1m 23s\n",
            "1570:\tlearn: 0.5431305\ttest: 0.5413174\tbest: 0.5413704 (1495)\ttotal: 1m 31s\tremaining: 1m 23s\n",
            "1580:\tlearn: 0.5431607\ttest: 0.5413173\tbest: 0.5413704 (1495)\ttotal: 1m 32s\tremaining: 1m 22s\n",
            "1590:\tlearn: 0.5432037\ttest: 0.5413771\tbest: 0.5414212 (1588)\ttotal: 1m 32s\tremaining: 1m 22s\n",
            "1600:\tlearn: 0.5432847\ttest: 0.5414596\tbest: 0.5414752 (1597)\ttotal: 1m 33s\tremaining: 1m 21s\n",
            "1610:\tlearn: 0.5433268\ttest: 0.5414802\tbest: 0.5415108 (1607)\ttotal: 1m 33s\tremaining: 1m 20s\n",
            "1620:\tlearn: 0.5432477\ttest: 0.5414180\tbest: 0.5415108 (1607)\ttotal: 1m 34s\tremaining: 1m 20s\n",
            "1630:\tlearn: 0.5432506\ttest: 0.5413999\tbest: 0.5415108 (1607)\ttotal: 1m 34s\tremaining: 1m 19s\n",
            "1640:\tlearn: 0.5432743\ttest: 0.5413954\tbest: 0.5415108 (1607)\ttotal: 1m 35s\tremaining: 1m 18s\n",
            "1650:\tlearn: 0.5433410\ttest: 0.5414432\tbest: 0.5415108 (1607)\ttotal: 1m 35s\tremaining: 1m 18s\n",
            "1660:\tlearn: 0.5432772\ttest: 0.5414052\tbest: 0.5415108 (1607)\ttotal: 1m 36s\tremaining: 1m 17s\n",
            "1670:\tlearn: 0.5432737\ttest: 0.5414177\tbest: 0.5415108 (1607)\ttotal: 1m 36s\tremaining: 1m 17s\n",
            "1680:\tlearn: 0.5432954\ttest: 0.5413901\tbest: 0.5415108 (1607)\ttotal: 1m 37s\tremaining: 1m 16s\n",
            "1690:\tlearn: 0.5432957\ttest: 0.5413984\tbest: 0.5415108 (1607)\ttotal: 1m 37s\tremaining: 1m 15s\n",
            "1700:\tlearn: 0.5432916\ttest: 0.5413929\tbest: 0.5415108 (1607)\ttotal: 1m 38s\tremaining: 1m 15s\n",
            "1710:\tlearn: 0.5433259\ttest: 0.5413836\tbest: 0.5415108 (1607)\ttotal: 1m 38s\tremaining: 1m 14s\n",
            "1720:\tlearn: 0.5433377\ttest: 0.5413639\tbest: 0.5415108 (1607)\ttotal: 1m 39s\tremaining: 1m 13s\n",
            "1730:\tlearn: 0.5433320\ttest: 0.5414115\tbest: 0.5415108 (1607)\ttotal: 1m 39s\tremaining: 1m 13s\n",
            "1740:\tlearn: 0.5433584\ttest: 0.5414067\tbest: 0.5415108 (1607)\ttotal: 1m 40s\tremaining: 1m 12s\n",
            "1750:\tlearn: 0.5432383\ttest: 0.5412650\tbest: 0.5415108 (1607)\ttotal: 1m 41s\tremaining: 1m 12s\n",
            "1760:\tlearn: 0.5432540\ttest: 0.5412936\tbest: 0.5415108 (1607)\ttotal: 1m 42s\tremaining: 1m 12s\n",
            "1770:\tlearn: 0.5432851\ttest: 0.5412877\tbest: 0.5415108 (1607)\ttotal: 1m 43s\tremaining: 1m 11s\n",
            "1780:\tlearn: 0.5433233\ttest: 0.5413397\tbest: 0.5415108 (1607)\ttotal: 1m 43s\tremaining: 1m 11s\n",
            "1790:\tlearn: 0.5433843\ttest: 0.5413930\tbest: 0.5415108 (1607)\ttotal: 1m 44s\tremaining: 1m 10s\n",
            "1800:\tlearn: 0.5433869\ttest: 0.5413822\tbest: 0.5415108 (1607)\ttotal: 1m 45s\tremaining: 1m 9s\n",
            "1810:\tlearn: 0.5434117\ttest: 0.5413857\tbest: 0.5415108 (1607)\ttotal: 1m 45s\tremaining: 1m 9s\n",
            "1820:\tlearn: 0.5434988\ttest: 0.5414907\tbest: 0.5415108 (1607)\ttotal: 1m 46s\tremaining: 1m 8s\n",
            "1830:\tlearn: 0.5434753\ttest: 0.5414584\tbest: 0.5415108 (1607)\ttotal: 1m 46s\tremaining: 1m 8s\n",
            "1840:\tlearn: 0.5435176\ttest: 0.5414796\tbest: 0.5415108 (1607)\ttotal: 1m 47s\tremaining: 1m 7s\n",
            "1850:\tlearn: 0.5434646\ttest: 0.5414202\tbest: 0.5415108 (1607)\ttotal: 1m 47s\tremaining: 1m 6s\n",
            "1860:\tlearn: 0.5434412\ttest: 0.5413843\tbest: 0.5415108 (1607)\ttotal: 1m 48s\tremaining: 1m 6s\n",
            "1870:\tlearn: 0.5434385\ttest: 0.5414336\tbest: 0.5415108 (1607)\ttotal: 1m 48s\tremaining: 1m 5s\n",
            "1880:\tlearn: 0.5434301\ttest: 0.5414482\tbest: 0.5415108 (1607)\ttotal: 1m 49s\tremaining: 1m 4s\n",
            "1890:\tlearn: 0.5434647\ttest: 0.5414995\tbest: 0.5415108 (1607)\ttotal: 1m 49s\tremaining: 1m 4s\n",
            "1900:\tlearn: 0.5434891\ttest: 0.5414789\tbest: 0.5415108 (1607)\ttotal: 1m 50s\tremaining: 1m 3s\n",
            "1910:\tlearn: 0.5435008\ttest: 0.5414580\tbest: 0.5415108 (1607)\ttotal: 1m 50s\tremaining: 1m 3s\n",
            "1920:\tlearn: 0.5435469\ttest: 0.5414724\tbest: 0.5415108 (1607)\ttotal: 1m 51s\tremaining: 1m 2s\n",
            "1930:\tlearn: 0.5435283\ttest: 0.5414691\tbest: 0.5415108 (1607)\ttotal: 1m 51s\tremaining: 1m 1s\n",
            "1940:\tlearn: 0.5435753\ttest: 0.5414864\tbest: 0.5415108 (1607)\ttotal: 1m 52s\tremaining: 1m 1s\n",
            "1950:\tlearn: 0.5435830\ttest: 0.5414960\tbest: 0.5415108 (1607)\ttotal: 1m 52s\tremaining: 1m\n",
            "1960:\tlearn: 0.5435572\ttest: 0.5414762\tbest: 0.5415108 (1607)\ttotal: 1m 53s\tremaining: 1m\n",
            "1970:\tlearn: 0.5435848\ttest: 0.5414817\tbest: 0.5415108 (1607)\ttotal: 1m 54s\tremaining: 59.6s\n",
            "1980:\tlearn: 0.5435912\ttest: 0.5414597\tbest: 0.5415108 (1607)\ttotal: 1m 55s\tremaining: 59.2s\n",
            "1990:\tlearn: 0.5436453\ttest: 0.5414849\tbest: 0.5415108 (1607)\ttotal: 1m 56s\tremaining: 58.8s\n",
            "2000:\tlearn: 0.5436815\ttest: 0.5415106\tbest: 0.5415370 (1998)\ttotal: 1m 56s\tremaining: 58.3s\n",
            "2010:\tlearn: 0.5437294\ttest: 0.5415443\tbest: 0.5415443 (2010)\ttotal: 1m 57s\tremaining: 57.6s\n",
            "2020:\tlearn: 0.5437046\ttest: 0.5415161\tbest: 0.5415577 (2012)\ttotal: 1m 57s\tremaining: 57s\n",
            "2030:\tlearn: 0.5437289\ttest: 0.5415272\tbest: 0.5415577 (2012)\ttotal: 1m 58s\tremaining: 56.4s\n",
            "2040:\tlearn: 0.5437570\ttest: 0.5415693\tbest: 0.5415693 (2040)\ttotal: 1m 58s\tremaining: 55.8s\n",
            "2050:\tlearn: 0.5437830\ttest: 0.5415768\tbest: 0.5415972 (2044)\ttotal: 1m 59s\tremaining: 55.2s\n",
            "2060:\tlearn: 0.5437697\ttest: 0.5415481\tbest: 0.5415972 (2044)\ttotal: 1m 59s\tremaining: 54.6s\n",
            "2070:\tlearn: 0.5437186\ttest: 0.5415604\tbest: 0.5415972 (2044)\ttotal: 2m\tremaining: 54s\n",
            "2080:\tlearn: 0.5438119\ttest: 0.5416575\tbest: 0.5416575 (2080)\ttotal: 2m\tremaining: 53.4s\n",
            "2090:\tlearn: 0.5438434\ttest: 0.5416310\tbest: 0.5416810 (2084)\ttotal: 2m 1s\tremaining: 52.8s\n",
            "2100:\tlearn: 0.5438257\ttest: 0.5415619\tbest: 0.5416810 (2084)\ttotal: 2m 1s\tremaining: 52.2s\n",
            "2110:\tlearn: 0.5437959\ttest: 0.5415593\tbest: 0.5416810 (2084)\ttotal: 2m 2s\tremaining: 51.6s\n",
            "2120:\tlearn: 0.5438048\ttest: 0.5415757\tbest: 0.5416810 (2084)\ttotal: 2m 3s\tremaining: 51s\n",
            "2130:\tlearn: 0.5438615\ttest: 0.5415881\tbest: 0.5416810 (2084)\ttotal: 2m 3s\tremaining: 50.4s\n",
            "2140:\tlearn: 0.5438914\ttest: 0.5415998\tbest: 0.5416810 (2084)\ttotal: 2m 4s\tremaining: 49.8s\n",
            "2150:\tlearn: 0.5439521\ttest: 0.5416432\tbest: 0.5416810 (2084)\ttotal: 2m 4s\tremaining: 49.2s\n",
            "2160:\tlearn: 0.5439761\ttest: 0.5416744\tbest: 0.5416810 (2084)\ttotal: 2m 5s\tremaining: 48.6s\n",
            "2170:\tlearn: 0.5439418\ttest: 0.5416323\tbest: 0.5416835 (2161)\ttotal: 2m 5s\tremaining: 48s\n",
            "2180:\tlearn: 0.5439421\ttest: 0.5416064\tbest: 0.5416835 (2161)\ttotal: 2m 6s\tremaining: 47.4s\n",
            "2190:\tlearn: 0.5439719\ttest: 0.5416444\tbest: 0.5416835 (2161)\ttotal: 2m 6s\tremaining: 46.9s\n",
            "2200:\tlearn: 0.5439908\ttest: 0.5416474\tbest: 0.5416835 (2161)\ttotal: 2m 7s\tremaining: 46.4s\n",
            "2210:\tlearn: 0.5440021\ttest: 0.5416535\tbest: 0.5416835 (2161)\ttotal: 2m 8s\tremaining: 46s\n",
            "2220:\tlearn: 0.5440184\ttest: 0.5416376\tbest: 0.5416835 (2161)\ttotal: 2m 9s\tremaining: 45.4s\n",
            "2230:\tlearn: 0.5440234\ttest: 0.5416248\tbest: 0.5416835 (2161)\ttotal: 2m 10s\tremaining: 44.8s\n",
            "2240:\tlearn: 0.5440635\ttest: 0.5416580\tbest: 0.5416835 (2161)\ttotal: 2m 10s\tremaining: 44.3s\n",
            "2250:\tlearn: 0.5441034\ttest: 0.5417140\tbest: 0.5417283 (2248)\ttotal: 2m 11s\tremaining: 43.6s\n",
            "2260:\tlearn: 0.5441209\ttest: 0.5417223\tbest: 0.5417384 (2256)\ttotal: 2m 11s\tremaining: 43s\n",
            "2270:\tlearn: 0.5441618\ttest: 0.5417496\tbest: 0.5417534 (2269)\ttotal: 2m 12s\tremaining: 42.4s\n",
            "2280:\tlearn: 0.5441426\ttest: 0.5416800\tbest: 0.5417707 (2272)\ttotal: 2m 12s\tremaining: 41.8s\n",
            "2290:\tlearn: 0.5441024\ttest: 0.5416258\tbest: 0.5417707 (2272)\ttotal: 2m 13s\tremaining: 41.3s\n",
            "2300:\tlearn: 0.5441188\ttest: 0.5416714\tbest: 0.5417707 (2272)\ttotal: 2m 13s\tremaining: 40.6s\n",
            "2310:\tlearn: 0.5441604\ttest: 0.5416947\tbest: 0.5417707 (2272)\ttotal: 2m 14s\tremaining: 40.1s\n",
            "2320:\tlearn: 0.5441198\ttest: 0.5416481\tbest: 0.5417707 (2272)\ttotal: 2m 14s\tremaining: 39.5s\n",
            "2330:\tlearn: 0.5441338\ttest: 0.5416756\tbest: 0.5417707 (2272)\ttotal: 2m 15s\tremaining: 38.9s\n",
            "2340:\tlearn: 0.5441548\ttest: 0.5416832\tbest: 0.5417707 (2272)\ttotal: 2m 15s\tremaining: 38.3s\n",
            "2350:\tlearn: 0.5441516\ttest: 0.5416578\tbest: 0.5417707 (2272)\ttotal: 2m 16s\tremaining: 37.7s\n",
            "2360:\tlearn: 0.5441985\ttest: 0.5417090\tbest: 0.5417707 (2272)\ttotal: 2m 17s\tremaining: 37.1s\n",
            "2370:\tlearn: 0.5442133\ttest: 0.5417016\tbest: 0.5417707 (2272)\ttotal: 2m 17s\tremaining: 36.5s\n",
            "2380:\tlearn: 0.5442471\ttest: 0.5417236\tbest: 0.5417707 (2272)\ttotal: 2m 18s\tremaining: 35.9s\n",
            "2390:\tlearn: 0.5442126\ttest: 0.5416663\tbest: 0.5417707 (2272)\ttotal: 2m 18s\tremaining: 35.3s\n",
            "2400:\tlearn: 0.5442219\ttest: 0.5416461\tbest: 0.5417707 (2272)\ttotal: 2m 19s\tremaining: 34.7s\n",
            "2410:\tlearn: 0.5442119\ttest: 0.5416347\tbest: 0.5417707 (2272)\ttotal: 2m 19s\tremaining: 34.2s\n",
            "2420:\tlearn: 0.5442369\ttest: 0.5416664\tbest: 0.5417707 (2272)\ttotal: 2m 20s\tremaining: 33.7s\n",
            "2430:\tlearn: 0.5442434\ttest: 0.5416606\tbest: 0.5417707 (2272)\ttotal: 2m 21s\tremaining: 33.2s\n",
            "2440:\tlearn: 0.5442795\ttest: 0.5416878\tbest: 0.5417707 (2272)\ttotal: 2m 22s\tremaining: 32.6s\n",
            "2450:\tlearn: 0.5442858\ttest: 0.5416904\tbest: 0.5417707 (2272)\ttotal: 2m 23s\tremaining: 32s\n",
            "2460:\tlearn: 0.5443149\ttest: 0.5417119\tbest: 0.5417707 (2272)\ttotal: 2m 23s\tremaining: 31.5s\n",
            "2470:\tlearn: 0.5443396\ttest: 0.5417412\tbest: 0.5417707 (2272)\ttotal: 2m 24s\tremaining: 30.9s\n",
            "2480:\tlearn: 0.5443225\ttest: 0.5416996\tbest: 0.5417707 (2272)\ttotal: 2m 24s\tremaining: 30.3s\n",
            "2490:\tlearn: 0.5442763\ttest: 0.5416616\tbest: 0.5417707 (2272)\ttotal: 2m 25s\tremaining: 29.7s\n",
            "2500:\tlearn: 0.5443288\ttest: 0.5416994\tbest: 0.5417707 (2272)\ttotal: 2m 25s\tremaining: 29.1s\n",
            "2510:\tlearn: 0.5443643\ttest: 0.5417201\tbest: 0.5417707 (2272)\ttotal: 2m 26s\tremaining: 28.5s\n",
            "2520:\tlearn: 0.5443604\ttest: 0.5417168\tbest: 0.5417707 (2272)\ttotal: 2m 26s\tremaining: 27.9s\n",
            "2530:\tlearn: 0.5443578\ttest: 0.5417040\tbest: 0.5417707 (2272)\ttotal: 2m 27s\tremaining: 27.3s\n",
            "2540:\tlearn: 0.5443476\ttest: 0.5416470\tbest: 0.5417707 (2272)\ttotal: 2m 27s\tremaining: 26.7s\n",
            "2550:\tlearn: 0.5443609\ttest: 0.5416549\tbest: 0.5417707 (2272)\ttotal: 2m 28s\tremaining: 26.1s\n",
            "2560:\tlearn: 0.5443874\ttest: 0.5416752\tbest: 0.5417707 (2272)\ttotal: 2m 28s\tremaining: 25.5s\n",
            "2570:\tlearn: 0.5443103\ttest: 0.5415767\tbest: 0.5417707 (2272)\ttotal: 2m 29s\tremaining: 24.9s\n",
            "2580:\tlearn: 0.5443040\ttest: 0.5415617\tbest: 0.5417707 (2272)\ttotal: 2m 29s\tremaining: 24.4s\n",
            "2590:\tlearn: 0.5442605\ttest: 0.5415180\tbest: 0.5417707 (2272)\ttotal: 2m 30s\tremaining: 23.8s\n",
            "2600:\tlearn: 0.5443096\ttest: 0.5415424\tbest: 0.5417707 (2272)\ttotal: 2m 31s\tremaining: 23.2s\n",
            "2610:\tlearn: 0.5443534\ttest: 0.5415604\tbest: 0.5417707 (2272)\ttotal: 2m 31s\tremaining: 22.6s\n",
            "2620:\tlearn: 0.5443314\ttest: 0.5415493\tbest: 0.5417707 (2272)\ttotal: 2m 32s\tremaining: 22s\n",
            "2630:\tlearn: 0.5443367\ttest: 0.5415270\tbest: 0.5417707 (2272)\ttotal: 2m 32s\tremaining: 21.4s\n",
            "2640:\tlearn: 0.5443451\ttest: 0.5415347\tbest: 0.5417707 (2272)\ttotal: 2m 33s\tremaining: 20.9s\n",
            "2650:\tlearn: 0.5443208\ttest: 0.5415368\tbest: 0.5417707 (2272)\ttotal: 2m 34s\tremaining: 20.3s\n",
            "2660:\tlearn: 0.5443708\ttest: 0.5415706\tbest: 0.5417707 (2272)\ttotal: 2m 35s\tremaining: 19.8s\n",
            "2670:\tlearn: 0.5443903\ttest: 0.5415987\tbest: 0.5417707 (2272)\ttotal: 2m 35s\tremaining: 19.2s\n",
            "2680:\tlearn: 0.5443821\ttest: 0.5415669\tbest: 0.5417707 (2272)\ttotal: 2m 36s\tremaining: 18.6s\n",
            "2690:\tlearn: 0.5443587\ttest: 0.5415467\tbest: 0.5417707 (2272)\ttotal: 2m 36s\tremaining: 18s\n",
            "2700:\tlearn: 0.5443692\ttest: 0.5415208\tbest: 0.5417707 (2272)\ttotal: 2m 37s\tremaining: 17.4s\n",
            "2710:\tlearn: 0.5444272\ttest: 0.5415840\tbest: 0.5417707 (2272)\ttotal: 2m 38s\tremaining: 16.9s\n",
            "2720:\tlearn: 0.5444976\ttest: 0.5416237\tbest: 0.5417707 (2272)\ttotal: 2m 38s\tremaining: 16.3s\n",
            "2730:\tlearn: 0.5444492\ttest: 0.5415908\tbest: 0.5417707 (2272)\ttotal: 2m 39s\tremaining: 15.7s\n",
            "2740:\tlearn: 0.5444024\ttest: 0.5415260\tbest: 0.5417707 (2272)\ttotal: 2m 39s\tremaining: 15.1s\n",
            "2750:\tlearn: 0.5444322\ttest: 0.5415324\tbest: 0.5417707 (2272)\ttotal: 2m 40s\tremaining: 14.5s\n",
            "2760:\tlearn: 0.5444222\ttest: 0.5415591\tbest: 0.5417707 (2272)\ttotal: 2m 40s\tremaining: 13.9s\n",
            "2770:\tlearn: 0.5444182\ttest: 0.5415903\tbest: 0.5417707 (2272)\ttotal: 2m 41s\tremaining: 13.3s\n",
            "2780:\tlearn: 0.5443665\ttest: 0.5415460\tbest: 0.5417707 (2272)\ttotal: 2m 41s\tremaining: 12.7s\n",
            "2790:\tlearn: 0.5443634\ttest: 0.5415335\tbest: 0.5417707 (2272)\ttotal: 2m 42s\tremaining: 12.2s\n",
            "2800:\tlearn: 0.5443428\ttest: 0.5414789\tbest: 0.5417707 (2272)\ttotal: 2m 42s\tremaining: 11.6s\n",
            "2810:\tlearn: 0.5443758\ttest: 0.5414822\tbest: 0.5417707 (2272)\ttotal: 2m 43s\tremaining: 11s\n",
            "2820:\tlearn: 0.5444005\ttest: 0.5415094\tbest: 0.5417707 (2272)\ttotal: 2m 43s\tremaining: 10.4s\n",
            "2830:\tlearn: 0.5444321\ttest: 0.5415529\tbest: 0.5417707 (2272)\ttotal: 2m 44s\tremaining: 9.82s\n",
            "2840:\tlearn: 0.5444339\ttest: 0.5415391\tbest: 0.5417707 (2272)\ttotal: 2m 45s\tremaining: 9.24s\n",
            "2850:\tlearn: 0.5445329\ttest: 0.5415593\tbest: 0.5417707 (2272)\ttotal: 2m 45s\tremaining: 8.66s\n",
            "2860:\tlearn: 0.5445244\ttest: 0.5415376\tbest: 0.5417707 (2272)\ttotal: 2m 46s\tremaining: 8.1s\n",
            "2870:\tlearn: 0.5445339\ttest: 0.5415380\tbest: 0.5417707 (2272)\ttotal: 2m 47s\tremaining: 7.53s\n",
            "2880:\tlearn: 0.5445189\ttest: 0.5415121\tbest: 0.5417707 (2272)\ttotal: 2m 48s\tremaining: 6.96s\n",
            "2890:\tlearn: 0.5444975\ttest: 0.5415069\tbest: 0.5417707 (2272)\ttotal: 2m 48s\tremaining: 6.37s\n",
            "2900:\tlearn: 0.5445006\ttest: 0.5414973\tbest: 0.5417707 (2272)\ttotal: 2m 49s\tremaining: 5.79s\n",
            "2910:\tlearn: 0.5445220\ttest: 0.5414858\tbest: 0.5417707 (2272)\ttotal: 2m 50s\tremaining: 5.2s\n",
            "2920:\tlearn: 0.5445299\ttest: 0.5414882\tbest: 0.5417707 (2272)\ttotal: 2m 50s\tremaining: 4.61s\n",
            "2930:\tlearn: 0.5444898\ttest: 0.5414258\tbest: 0.5417707 (2272)\ttotal: 2m 51s\tremaining: 4.03s\n",
            "2940:\tlearn: 0.5444875\ttest: 0.5413877\tbest: 0.5417707 (2272)\ttotal: 2m 51s\tremaining: 3.44s\n",
            "2950:\tlearn: 0.5444911\ttest: 0.5413977\tbest: 0.5417707 (2272)\ttotal: 2m 52s\tremaining: 2.86s\n",
            "2960:\tlearn: 0.5445005\ttest: 0.5414032\tbest: 0.5417707 (2272)\ttotal: 2m 52s\tremaining: 2.27s\n",
            "2970:\tlearn: 0.5444680\ttest: 0.5413726\tbest: 0.5417707 (2272)\ttotal: 2m 53s\tremaining: 1.69s\n",
            "2980:\tlearn: 0.5445032\ttest: 0.5414043\tbest: 0.5417707 (2272)\ttotal: 2m 53s\tremaining: 1.11s\n",
            "2990:\tlearn: 0.5445269\ttest: 0.5414296\tbest: 0.5417707 (2272)\ttotal: 2m 54s\tremaining: 525ms\n",
            "2999:\tlearn: 0.5445302\ttest: 0.5414283\tbest: 0.5417707 (2272)\ttotal: 2m 54s\tremaining: 0us\n",
            "bestTest = 0.5417706538\n",
            "bestIteration = 2272\n",
            "Shrink model to first 2273 iterations.\n"
          ]
        }
      ]
    },
    {
      "cell_type": "code",
      "source": [
        "del train_data\n",
        "del test_data\n",
        "gc.collect()"
      ],
      "metadata": {
        "colab": {
          "base_uri": "https://localhost:8080/"
        },
        "id": "bfA6b9lcs3Ax",
        "outputId": "0d2ca242-b684-41ce-fe6c-cc419e7b2495"
      },
      "execution_count": null,
      "outputs": [
        {
          "output_type": "execute_result",
          "data": {
            "text/plain": [
              "33"
            ]
          },
          "metadata": {},
          "execution_count": 22
        }
      ]
    },
    {
      "cell_type": "code",
      "source": [
        "booster = CatBoost()\n",
        "booster.load_model(f'./models/booster_{kfold_num}.model')\n",
        "print(f'./models/booster_{kfold_num}.model')\n",
        "#booster.get_best_score()['validation']['TotalF1']"
      ],
      "metadata": {
        "colab": {
          "base_uri": "https://localhost:8080/"
        },
        "id": "eTFVucLs21Yu",
        "outputId": "9785f757-3c89-4e66-cd9d-195e00f69405"
      },
      "execution_count": null,
      "outputs": [
        {
          "output_type": "stream",
          "name": "stdout",
          "text": [
            "./models/booster_0.model\n"
          ]
        }
      ]
    },
    {
      "cell_type": "code",
      "source": [
        "if incollare:\n",
        "    K = np.vstack((data_npz['K_train'][:,:4], data_upd_npz['K_train'][:,:4][id_vector]))\n",
        "    K_holdout = data_upd_npz['K_train'][:,:4][~id_vector]\n",
        "else:\n",
        "    K = data_npz['K_train'][:,:4]\n",
        "    K_holdout = data_upd_npz['K_train'][:,:4]\n",
        "line_dict = {'train':K[:,1:4][~kfold_vector], 'test':K[:,1:4][kfold_vector], 'holdout':K_holdout[:,1:4]}\n",
        "y_dict = {'train':y[~kfold_vector], 'test':y[kfold_vector], 'holdout':y_holdout}\n",
        "X_dict = {'train':X[~kfold_vector], 'test':X[kfold_vector], 'holdout':X_holdout}\n",
        "\n",
        "active_rows_dict ={}\n",
        "active_rows_dict['train'] = ((K[:,0][~kfold_vector] == 1) & (K[:,1:4][~kfold_vector].sum(axis = 1) > 3))\n",
        "active_rows_dict['test'] = ((K[:,0][kfold_vector] == 1) & (K[:,1:4][kfold_vector].sum(axis = 1) > 3))\n",
        "active_rows_dict['holdout'] = ((K_holdout[:,0] == 1) & (K_holdout[:, 1:4].sum(axis = 1) > 3))\n",
        "#---------------\n",
        "process = psutil.Process(os.getpid())\n",
        "print('mem usage: ', round(process.memory_info().rss / 1024 ** 3, 2), 'GiB')  # in bytes\n",
        "#---------------"
      ],
      "metadata": {
        "colab": {
          "base_uri": "https://localhost:8080/"
        },
        "id": "iM_r6lBNsY7t",
        "outputId": "064effbc-63b5-42f8-dc7f-2969470362f4"
      },
      "execution_count": null,
      "outputs": [
        {
          "output_type": "stream",
          "name": "stdout",
          "text": [
            "mem usage:  8.42 GiB\n"
          ]
        }
      ]
    },
    {
      "cell_type": "code",
      "source": [
        "preds_dict = {}\n",
        "\n",
        "preds_dict['train'] = booster.predict(X[~kfold_vector], prediction_type=\"Probability\")\n",
        "preds_dict['test'] = booster.predict(X[kfold_vector], prediction_type=\"Probability\")\n",
        "preds_dict['holdout'] = booster.predict(X_holdout, prediction_type=\"Probability\")\n",
        "\n",
        "#---------------\n",
        "process = psutil.Process(os.getpid())\n",
        "print('mem usage: ', round(process.memory_info().rss / 1024 ** 3, 2), 'GiB')  # in bytes\n",
        "#---------------"
      ],
      "metadata": {
        "colab": {
          "base_uri": "https://localhost:8080/"
        },
        "id": "jbf68hrEXkpp",
        "outputId": "f90bf6b7-e413-4a22-9213-0d6e42aea590"
      },
      "execution_count": null,
      "outputs": [
        {
          "output_type": "stream",
          "name": "stdout",
          "text": [
            "mem usage:  9.22 GiB\n"
          ]
        }
      ]
    },
    {
      "cell_type": "code",
      "source": [
        "preds_dict['holdout'].shape, line_dict['holdout'].shape"
      ],
      "metadata": {
        "colab": {
          "base_uri": "https://localhost:8080/"
        },
        "id": "nL8zVhz9ULgh",
        "outputId": "195ba1e8-62e1-44e2-fc46-5ec8195f1a14"
      },
      "execution_count": null,
      "outputs": [
        {
          "output_type": "execute_result",
          "data": {
            "text/plain": [
              "((1223240, 3), (1223240, 3))"
            ]
          },
          "metadata": {},
          "execution_count": 28
        }
      ]
    },
    {
      "cell_type": "code",
      "source": [
        "fig = profit_validation_by_type(active_rows_dict, preds_dict, line_dict, y_dict)\n",
        "fig.show()"
      ],
      "metadata": {
        "colab": {
          "base_uri": "https://localhost:8080/",
          "height": 817
        },
        "id": "tSUqslTvgobu",
        "outputId": "dbba7039-385c-4c0e-d171-c794802d6bc2"
      },
      "execution_count": null,
      "outputs": [
        {
          "output_type": "display_data",
          "data": {
            "text/html": [
              "<html>\n",
              "<head><meta charset=\"utf-8\" /></head>\n",
              "<body>\n",
              "    <div>            <script src=\"https://cdnjs.cloudflare.com/ajax/libs/mathjax/2.7.5/MathJax.js?config=TeX-AMS-MML_SVG\"></script><script type=\"text/javascript\">if (window.MathJax && window.MathJax.Hub && window.MathJax.Hub.Config) {window.MathJax.Hub.Config({SVG: {font: \"STIX-Web\"}});}</script>                <script type=\"text/javascript\">window.PlotlyConfig = {MathJaxConfig: 'local'};</script>\n",
              "        <script src=\"https://cdn.plot.ly/plotly-2.18.2.min.js\"></script>                <div id=\"8f146d42-1548-46ca-af24-8a4175669881\" class=\"plotly-graph-div\" style=\"height:800px; width:900px;\"></div>            <script type=\"text/javascript\">                                    window.PLOTLYENV=window.PLOTLYENV || {};                                    if (document.getElementById(\"8f146d42-1548-46ca-af24-8a4175669881\")) {                    Plotly.newPlot(                        \"8f146d42-1548-46ca-af24-8a4175669881\",                        [{\"line\":{\"color\":\"rgb(93, 164, 214)\",\"width\":4},\"name\":\"all\",\"x\":[0.9,0.905,0.91,0.915,0.92,0.925,0.93,0.935,0.9400000000000001,0.9450000000000001,0.95,0.9550000000000001,0.96,0.965,0.97,0.975,0.98,0.985,0.99,0.995,1.0,1.005,1.01,1.015,1.02,1.025,1.03,1.035,1.04,1.045,1.05,1.055,1.06,1.065,1.07,1.075,1.08,1.085,1.09,1.095,1.1,1.105,1.1099999999999999,1.115,1.12,1.125,1.13,1.135,1.14,1.145,1.15,1.155,1.16,1.165,1.17,1.175,1.18,1.185,1.19,1.1949999999999998,1.2,1.205,1.21,1.2149999999999999,1.22,1.225,1.23,1.2349999999999999,1.24,1.245,1.25,1.255,1.26,1.265,1.27,1.275,1.28,1.285,1.29,1.295,1.2999999999999998,1.305,1.31,1.315,1.3199999999999998,1.325,1.33,1.335,1.3399999999999999,1.345,1.35,1.355,1.3599999999999999,1.365,1.3699999999999999,1.375,1.38,1.385,1.39,1.395,1.4],\"y\":[-15209.499310204426,-15209.499310204426,-15209.499310204426,-15208.563230339396,-15154.46210671407,-15067.220981850094,-14717.656163058537,-14270.744675897071,-13627.274766713655,-12865.336475156657,-12090.839677914535,-11177.27876963175,-10226.927274367896,-9263.95712250825,-8254.292409247444,-7219.746817703162,-6241.832093978735,-5555.668129357024,-4873.783003852432,-4214.438283316828,-3546.798915436507,-2849.0593044991056,-2208.3274171168946,-1550.4831689824223,-991.9372402676788,-649.8035651062457,-326.91984460930826,181.58382695524054,425.8851410578924,536.8560662769669,733.8469278403311,851.7995846549916,908.7402452285886,897.5097084584911,897.8600732943846,969.2894366827879,902.663518802824,945.4936017154787,1010.7880666159692,1082.0113320123235,1114.987697831748,1169.6993190352032,1135.7977766249564,1172.6185224902608,1182.888682480257,1167.4777998432835,1166.4451354045723,1188.6291658040664,1226.5970700301098,1199.980933674004,1245.9863885652474,1239.509121206494,1208.7074401905534,1215.8186141338065,1217.9432810161097,1198.833855177792,1141.0849462101369,1182.1895150826217,1153.5567595678313,1152.4540772495893,1135.7208905058674,1118.8033469237344,1111.0958112389565,1062.4387124222774,1018.9609750572631,967.6969230601921,974.6742326766065,979.2574517645533,965.7580083182706,956.8628559325055,927.1551710228993,913.3137752407387,874.1117854559457,850.6062462124848,866.1709913775828,879.1001707124699,844.2526340493462,815.0917313060045,801.5966326008959,794.0566690588141,781.4988262915322,740.5536290001496,731.6119550318139,720.4191999924957,679.5515879619918,647.7052275722529,620.300883046556,605.6156233458544,601.4535388740088,565.5043321187109,563.6543615065634,567.7761945417325,558.071952640914,540.6650622500118,530.2156968306821,541.7384110793962,532.8104825852837,520.3103151331027,514.6369391217584,483.590898034325,479.305174869855],\"type\":\"scatter\",\"xaxis\":\"x\",\"yaxis\":\"y\"},{\"line\":{\"color\":\"rgb(255, 144, 14)\",\"width\":1},\"name\":\"home\",\"x\":[0.9,0.905,0.91,0.915,0.92,0.925,0.93,0.935,0.9400000000000001,0.9450000000000001,0.95,0.9550000000000001,0.96,0.965,0.97,0.975,0.98,0.985,0.99,0.995,1.0,1.005,1.01,1.015,1.02,1.025,1.03,1.035,1.04,1.045,1.05,1.055,1.06,1.065,1.07,1.075,1.08,1.085,1.09,1.095,1.1,1.105,1.1099999999999999,1.115,1.12,1.125,1.13,1.135,1.14,1.145,1.15,1.155,1.16,1.165,1.17,1.175,1.18,1.185,1.19,1.1949999999999998,1.2,1.205,1.21,1.2149999999999999,1.22,1.225,1.23,1.2349999999999999,1.24,1.245,1.25,1.255,1.26,1.265,1.27,1.275,1.28,1.285,1.29,1.295,1.2999999999999998,1.305,1.31,1.315,1.3199999999999998,1.325,1.33,1.335,1.3399999999999999,1.345,1.35,1.355,1.3599999999999999,1.365,1.3699999999999999,1.375,1.38,1.385,1.39,1.395,1.4],\"y\":[-8216.69573230156,-8216.69573230156,-8216.69573230156,-8215.25069198545,-8181.787607268503,-8123.021595686484,-7928.097981166561,-7668.03133731609,-7222.20716749554,-6739.996720855268,-6245.0434588228445,-5596.498833608785,-4980.510854507804,-4385.878958429268,-3737.4191706452775,-3111.2112231693864,-2531.913512624363,-2106.2564105933143,-1740.4611577446651,-1373.9742139536538,-1054.761054607762,-724.5357344974934,-462.6642261390266,-234.22695584731204,-7.96668714108668,164.71921580125883,282.7751985323076,475.38444920632764,510.94268531944647,545.9270446734536,624.3676435565887,721.6030430633414,725.6343837083912,732.3284384305853,769.7810907997791,808.2901359615529,754.04374672019,738.4412894258405,717.1714189124459,718.050025826268,712.0175949386954,710.0390859151655,692.4631839425181,714.5142808959985,740.4001643317008,737.1744195792318,777.0378387030473,810.4044102807925,837.3919723822115,824.9811000998081,840.378370210617,828.9846713803735,807.4429024395595,825.2443004867351,824.353188934653,798.9771853432529,757.2350738665145,761.0489039106468,772.3644362936695,743.4722342818261,740.8294507073106,735.705649987987,720.3405485544207,692.054381621127,659.8064440350051,631.5406060073715,627.0860914355806,597.0712158631869,582.4544783721453,558.2778464838609,540.5935439963522,524.6247102585405,502.5168065187409,479.0551226071567,479.65471290088715,476.31546382224684,446.98976269945854,428.9601888952831,416.45912396028393,415.09520262898343,408.8335575489746,384.87474014847044,384.70271138008286,370.7858920663965,361.8643119091248,349.82290495083976,331.7677929515579,316.15169238731016,313.11809831725645,284.43188534482505,278.85838415375116,283.41112503625993,280.52734126443875,270.13556151723355,264.76759441850015,270.0950171598507,274.54089864850494,269.2582468114241,269.0267840858958,257.0617913145734,263.0987823740307],\"type\":\"scatter\",\"xaxis\":\"x\",\"yaxis\":\"y\"},{\"line\":{\"color\":\"rgb(44, 160, 101)\",\"width\":1},\"name\":\"draw\",\"x\":[0.9,0.905,0.91,0.915,0.92,0.925,0.93,0.935,0.9400000000000001,0.9450000000000001,0.95,0.9550000000000001,0.96,0.965,0.97,0.975,0.98,0.985,0.99,0.995,1.0,1.005,1.01,1.015,1.02,1.025,1.03,1.035,1.04,1.045,1.05,1.055,1.06,1.065,1.07,1.075,1.08,1.085,1.09,1.095,1.1,1.105,1.1099999999999999,1.115,1.12,1.125,1.13,1.135,1.14,1.145,1.15,1.155,1.16,1.165,1.17,1.175,1.18,1.185,1.19,1.1949999999999998,1.2,1.205,1.21,1.2149999999999999,1.22,1.225,1.23,1.2349999999999999,1.24,1.245,1.25,1.255,1.26,1.265,1.27,1.275,1.28,1.285,1.29,1.295,1.2999999999999998,1.305,1.31,1.315,1.3199999999999998,1.325,1.33,1.335,1.3399999999999999,1.345,1.35,1.355,1.3599999999999999,1.365,1.3699999999999999,1.375,1.38,1.385,1.39,1.395,1.4],\"y\":[-1790.351653905878,-1790.351653905878,-1790.351653905878,-1790.9814977462484,-1782.2107132527585,-1763.0561866735356,-1731.9688776346377,-1660.3014248752256,-1633.7954249007612,-1591.333993083063,-1581.5990263181031,-1578.0709551959844,-1572.9544715516238,-1542.928881541175,-1550.5892584047908,-1492.3750241853254,-1411.2576471043017,-1423.5222340942103,-1373.1234285979835,-1286.636578190275,-1217.4070007234452,-1133.099626978143,-1002.6941551490168,-768.2041308649909,-551.7875427953759,-424.8035419470226,-288.716864883492,-103.10574850194945,-20.949244513372804,21.502012764558117,117.95488002167046,122.74001513511674,141.05521962596475,126.03931766073795,78.23624557971915,104.96362303761737,79.32144313276979,111.63904442165574,184.80475069175662,218.40925236072954,211.2380245203163,191.6128582907328,137.73836980600802,114.45817556988864,74.80023734338798,70.38992396552456,32.788186014065516,3.9656182606091193,12.17694514068367,7.2202727691774555,31.811401859801542,41.70374055452444,32.48299659987053,34.081216242430614,45.42535608178838,43.735837669749635,23.598230642025182,32.68890394047911,13.523042747099279,15.056957385384223,-1.5785341258781322,-2.4902556173883212,-14.425071682182509,-36.74163108861495,-41.75139639996293,-51.35155760528599,-47.03883928785645,-27.474411507307423,-34.975027271344544,-21.429367600054547,-21.35568457435842,-17.12891819965158,-14.794369175163538,-23.568023688108575,-19.793293789312166,-14.820975044952647,-17.515693878097835,-26.22029263640573,-18.051615058709118,-18.713137391404757,-16.383781911948446,-17.624709404914057,-22.125102360921616,-15.055161226228147,-25.913788652771082,-22.2441630287421,-19.80536126762746,-15.972385244613235,-18.85357458131716,-23.21649923867517,-20.135175626890046,-14.838856541946729,-12.086966879318318,-15.497134065340866,-14.046961893256906,-11.019911194516187,-10.884232566570748,-9.080917653785274,-8.952608761970716,-9.135001427475828,-11.905914207207623],\"type\":\"scatter\",\"xaxis\":\"x\",\"yaxis\":\"y\"},{\"line\":{\"color\":\"rgb(255, 65, 54)\",\"width\":1},\"name\":\"away\",\"x\":[0.9,0.905,0.91,0.915,0.92,0.925,0.93,0.935,0.9400000000000001,0.9450000000000001,0.95,0.9550000000000001,0.96,0.965,0.97,0.975,0.98,0.985,0.99,0.995,1.0,1.005,1.01,1.015,1.02,1.025,1.03,1.035,1.04,1.045,1.05,1.055,1.06,1.065,1.07,1.075,1.08,1.085,1.09,1.095,1.1,1.105,1.1099999999999999,1.115,1.12,1.125,1.13,1.135,1.14,1.145,1.15,1.155,1.16,1.165,1.17,1.175,1.18,1.185,1.19,1.1949999999999998,1.2,1.205,1.21,1.2149999999999999,1.22,1.225,1.23,1.2349999999999999,1.24,1.245,1.25,1.255,1.26,1.265,1.27,1.275,1.28,1.285,1.29,1.295,1.2999999999999998,1.305,1.31,1.315,1.3199999999999998,1.325,1.33,1.335,1.3399999999999999,1.345,1.35,1.355,1.3599999999999999,1.365,1.3699999999999999,1.375,1.38,1.385,1.39,1.395,1.4],\"y\":[-5202.451923996983,-5202.451923996983,-5202.451923996983,-5202.331040607698,-5190.463786192807,-5181.143199490071,-5057.5893042573425,-4942.411913705757,-4771.272174317351,-4534.005761218321,-4264.197192773583,-4002.708980826988,-3673.461948308469,-3335.149282537811,-2966.283980197377,-2616.1605703484524,-2298.660934250069,-2025.8894846694982,-1760.1984175097823,-1553.8274911728997,-1274.6308601053001,-991.4239430234686,-742.9690358288507,-548.0520822701195,-432.183010331216,-389.7192389604819,-320.97817825812353,-190.69487374913737,-64.10829974818118,-30.572991161044307,-8.475595737928145,7.456526456533595,42.05064189423261,39.14195236716782,49.84273691488616,56.03567768361718,69.29832894986414,95.41326786798223,108.81189701176682,145.55205382532625,191.73207837273623,268.0473748293048,305.59622287643043,343.646066024374,367.68828080516823,359.91345629852714,356.6191106874594,374.259137262665,377.02815250721443,367.7795608050186,373.79661649482864,368.82070927159594,368.78154115112346,356.4930974046409,348.1647359996687,356.12083216478936,360.25164170159724,388.4517072314959,367.6692805270624,393.92488558237903,396.46997392443484,385.5879525531355,405.1803343667183,407.12596188976534,400.9059274222209,387.5078746581068,394.6269805288824,409.6606474086737,418.2785572174698,420.0143770486991,407.9173116009057,405.8179831818496,386.38934811236845,395.11914729343687,406.30957226600793,417.60568193517565,414.77856522798544,412.351835047127,403.18912369932116,397.67460382123545,389.04905065450583,373.3035982565933,369.03434601265275,364.6884691523274,343.6010647056381,320.1264856501553,308.3384513626255,305.4363162031574,307.1890151380695,304.2889460125609,304.9311529797023,299.20392604741915,289.6315782557936,286.02663479811906,279.4950643054389,282.6633051140617,269.15381650334956,260.13298597546395,254.56276379783324,235.66410814722747,228.11230670303195],\"type\":\"scatter\",\"xaxis\":\"x\",\"yaxis\":\"y\"},{\"line\":{\"color\":\"rgb(93, 164, 214)\",\"width\":4},\"name\":\"all\",\"x\":[0.9,0.905,0.91,0.915,0.92,0.925,0.93,0.935,0.9400000000000001,0.9450000000000001,0.95,0.9550000000000001,0.96,0.965,0.97,0.975,0.98,0.985,0.99,0.995,1.0,1.005,1.01,1.015,1.02,1.025,1.03,1.035,1.04,1.045,1.05,1.055,1.06,1.065,1.07,1.075,1.08,1.085,1.09,1.095,1.1,1.105,1.1099999999999999,1.115,1.12,1.125,1.13,1.135,1.14,1.145,1.15,1.155,1.16,1.165,1.17,1.175,1.18,1.185,1.19,1.1949999999999998,1.2,1.205,1.21,1.2149999999999999,1.22,1.225,1.23,1.2349999999999999,1.24,1.245,1.25,1.255,1.26,1.265,1.27,1.275,1.28,1.285,1.29,1.295,1.2999999999999998,1.305,1.31,1.315,1.3199999999999998,1.325,1.33,1.335,1.3399999999999999,1.345,1.35,1.355,1.3599999999999999,1.365,1.3699999999999999,1.375,1.38,1.385,1.39,1.395,1.4],\"y\":[0.0,0.0,0.0,0.0,0.0,0.0,0.0,0.0,0.0,0.0,0.0,0.0,0.0,0.0,0.0,0.0,0.0,0.0,0.0,0.0,0.0,0.0,0.0,0.0,0.0,0.0,0.0,0.0,0.0,0.0,0.0,0.0,0.0,0.0,0.0,0.0,0.0,0.0,0.0,0.0,0.0,0.0,0.0,0.0,0.0,0.0,0.0,0.0,0.0,0.0,0.0,0.0,0.0,0.0,0.0,0.0,0.0,0.0,0.0,0.0,0.0,0.0,0.0,0.0,0.0,0.0,0.0,0.0,0.0,0.0,0.0,0.0,0.0,0.0,0.0,0.0,0.0,0.0,0.0,0.0,0.0,0.0,0.0,0.0,0.0,0.0,0.0,0.0,0.0,0.0,0.0,0.0,0.0,0.0,0.0,0.0,0.0,0.0,0.0,0.0,0.0],\"type\":\"scatter\",\"xaxis\":\"x2\",\"yaxis\":\"y2\"},{\"line\":{\"color\":\"rgb(255, 144, 14)\",\"width\":1},\"name\":\"home\",\"x\":[0.9,0.905,0.91,0.915,0.92,0.925,0.93,0.935,0.9400000000000001,0.9450000000000001,0.95,0.9550000000000001,0.96,0.965,0.97,0.975,0.98,0.985,0.99,0.995,1.0,1.005,1.01,1.015,1.02,1.025,1.03,1.035,1.04,1.045,1.05,1.055,1.06,1.065,1.07,1.075,1.08,1.085,1.09,1.095,1.1,1.105,1.1099999999999999,1.115,1.12,1.125,1.13,1.135,1.14,1.145,1.15,1.155,1.16,1.165,1.17,1.175,1.18,1.185,1.19,1.1949999999999998,1.2,1.205,1.21,1.2149999999999999,1.22,1.225,1.23,1.2349999999999999,1.24,1.245,1.25,1.255,1.26,1.265,1.27,1.275,1.28,1.285,1.29,1.295,1.2999999999999998,1.305,1.31,1.315,1.3199999999999998,1.325,1.33,1.335,1.3399999999999999,1.345,1.35,1.355,1.3599999999999999,1.365,1.3699999999999999,1.375,1.38,1.385,1.39,1.395,1.4],\"y\":[0.0,0.0,0.0,0.0,0.0,0.0,0.0,0.0,0.0,0.0,0.0,0.0,0.0,0.0,0.0,0.0,0.0,0.0,0.0,0.0,0.0,0.0,0.0,0.0,0.0,0.0,0.0,0.0,0.0,0.0,0.0,0.0,0.0,0.0,0.0,0.0,0.0,0.0,0.0,0.0,0.0,0.0,0.0,0.0,0.0,0.0,0.0,0.0,0.0,0.0,0.0,0.0,0.0,0.0,0.0,0.0,0.0,0.0,0.0,0.0,0.0,0.0,0.0,0.0,0.0,0.0,0.0,0.0,0.0,0.0,0.0,0.0,0.0,0.0,0.0,0.0,0.0,0.0,0.0,0.0,0.0,0.0,0.0,0.0,0.0,0.0,0.0,0.0,0.0,0.0,0.0,0.0,0.0,0.0,0.0,0.0,0.0,0.0,0.0,0.0,0.0],\"type\":\"scatter\",\"xaxis\":\"x2\",\"yaxis\":\"y2\"},{\"line\":{\"color\":\"rgb(44, 160, 101)\",\"width\":1},\"name\":\"draw\",\"x\":[0.9,0.905,0.91,0.915,0.92,0.925,0.93,0.935,0.9400000000000001,0.9450000000000001,0.95,0.9550000000000001,0.96,0.965,0.97,0.975,0.98,0.985,0.99,0.995,1.0,1.005,1.01,1.015,1.02,1.025,1.03,1.035,1.04,1.045,1.05,1.055,1.06,1.065,1.07,1.075,1.08,1.085,1.09,1.095,1.1,1.105,1.1099999999999999,1.115,1.12,1.125,1.13,1.135,1.14,1.145,1.15,1.155,1.16,1.165,1.17,1.175,1.18,1.185,1.19,1.1949999999999998,1.2,1.205,1.21,1.2149999999999999,1.22,1.225,1.23,1.2349999999999999,1.24,1.245,1.25,1.255,1.26,1.265,1.27,1.275,1.28,1.285,1.29,1.295,1.2999999999999998,1.305,1.31,1.315,1.3199999999999998,1.325,1.33,1.335,1.3399999999999999,1.345,1.35,1.355,1.3599999999999999,1.365,1.3699999999999999,1.375,1.38,1.385,1.39,1.395,1.4],\"y\":[0.0,0.0,0.0,0.0,0.0,0.0,0.0,0.0,0.0,0.0,0.0,0.0,0.0,0.0,0.0,0.0,0.0,0.0,0.0,0.0,0.0,0.0,0.0,0.0,0.0,0.0,0.0,0.0,0.0,0.0,0.0,0.0,0.0,0.0,0.0,0.0,0.0,0.0,0.0,0.0,0.0,0.0,0.0,0.0,0.0,0.0,0.0,0.0,0.0,0.0,0.0,0.0,0.0,0.0,0.0,0.0,0.0,0.0,0.0,0.0,0.0,0.0,0.0,0.0,0.0,0.0,0.0,0.0,0.0,0.0,0.0,0.0,0.0,0.0,0.0,0.0,0.0,0.0,0.0,0.0,0.0,0.0,0.0,0.0,0.0,0.0,0.0,0.0,0.0,0.0,0.0,0.0,0.0,0.0,0.0,0.0,0.0,0.0,0.0,0.0,0.0],\"type\":\"scatter\",\"xaxis\":\"x2\",\"yaxis\":\"y2\"},{\"line\":{\"color\":\"rgb(255, 65, 54)\",\"width\":1},\"name\":\"away\",\"x\":[0.9,0.905,0.91,0.915,0.92,0.925,0.93,0.935,0.9400000000000001,0.9450000000000001,0.95,0.9550000000000001,0.96,0.965,0.97,0.975,0.98,0.985,0.99,0.995,1.0,1.005,1.01,1.015,1.02,1.025,1.03,1.035,1.04,1.045,1.05,1.055,1.06,1.065,1.07,1.075,1.08,1.085,1.09,1.095,1.1,1.105,1.1099999999999999,1.115,1.12,1.125,1.13,1.135,1.14,1.145,1.15,1.155,1.16,1.165,1.17,1.175,1.18,1.185,1.19,1.1949999999999998,1.2,1.205,1.21,1.2149999999999999,1.22,1.225,1.23,1.2349999999999999,1.24,1.245,1.25,1.255,1.26,1.265,1.27,1.275,1.28,1.285,1.29,1.295,1.2999999999999998,1.305,1.31,1.315,1.3199999999999998,1.325,1.33,1.335,1.3399999999999999,1.345,1.35,1.355,1.3599999999999999,1.365,1.3699999999999999,1.375,1.38,1.385,1.39,1.395,1.4],\"y\":[0.0,0.0,0.0,0.0,0.0,0.0,0.0,0.0,0.0,0.0,0.0,0.0,0.0,0.0,0.0,0.0,0.0,0.0,0.0,0.0,0.0,0.0,0.0,0.0,0.0,0.0,0.0,0.0,0.0,0.0,0.0,0.0,0.0,0.0,0.0,0.0,0.0,0.0,0.0,0.0,0.0,0.0,0.0,0.0,0.0,0.0,0.0,0.0,0.0,0.0,0.0,0.0,0.0,0.0,0.0,0.0,0.0,0.0,0.0,0.0,0.0,0.0,0.0,0.0,0.0,0.0,0.0,0.0,0.0,0.0,0.0,0.0,0.0,0.0,0.0,0.0,0.0,0.0,0.0,0.0,0.0,0.0,0.0,0.0,0.0,0.0,0.0,0.0,0.0,0.0,0.0,0.0,0.0,0.0,0.0,0.0,0.0,0.0,0.0,0.0,0.0],\"type\":\"scatter\",\"xaxis\":\"x2\",\"yaxis\":\"y2\"},{\"line\":{\"color\":\"rgb(93, 164, 214)\",\"width\":4},\"name\":\"all\",\"x\":[0.9,0.905,0.91,0.915,0.92,0.925,0.93,0.935,0.9400000000000001,0.9450000000000001,0.95,0.9550000000000001,0.96,0.965,0.97,0.975,0.98,0.985,0.99,0.995,1.0,1.005,1.01,1.015,1.02,1.025,1.03,1.035,1.04,1.045,1.05,1.055,1.06,1.065,1.07,1.075,1.08,1.085,1.09,1.095,1.1,1.105,1.1099999999999999,1.115,1.12,1.125,1.13,1.135,1.14,1.145,1.15,1.155,1.16,1.165,1.17,1.175,1.18,1.185,1.19,1.1949999999999998,1.2,1.205,1.21,1.2149999999999999,1.22,1.225,1.23,1.2349999999999999,1.24,1.245,1.25,1.255,1.26,1.265,1.27,1.275,1.28,1.285,1.29,1.295,1.2999999999999998,1.305,1.31,1.315,1.3199999999999998,1.325,1.33,1.335,1.3399999999999999,1.345,1.35,1.355,1.3599999999999999,1.365,1.3699999999999999,1.375,1.38,1.385,1.39,1.395,1.4],\"y\":[-13608.494971845563,-13608.494971845563,-13608.494971845563,-13608.064342488653,-13492.116904713614,-13068.922886766117,-12177.448217260462,-10719.985533610028,-8431.821660752674,-5712.831307597914,-2334.2284234612102,708.6825029418246,3651.273206105428,6612.901209004211,9547.004391377051,12184.65386349765,14780.448343798422,16852.19698043852,18613.515283280965,20088.065162830386,21497.321334196182,22430.53169791931,22964.227697487764,23518.516476294448,23883.86345389321,24741.217672733026,25202.388716814006,25676.630972311137,25546.54557228322,25349.861353472203,24929.18433580893,24671.679235567437,24301.978171466242,23792.553140670763,23337.98950371808,22903.538261648824,22487.98298140712,22003.422154650907,21503.093342422435,21200.22059278195,20939.226651014495,20335.967570077348,19861.561028800497,19195.274090743824,18644.13876230932,18164.56981770101,17656.227016237255,17148.360018857726,16575.607221319915,16272.220929235875,15799.635855480143,15419.015714316856,14969.652523644874,14506.381889204114,14239.259444688925,13834.283003497712,13424.143391347485,13149.661489986878,12824.732055242832,12555.622879986724,12296.835592949941,12071.177828223206,11875.492548309194,11619.627195908579,11413.579084841245,11097.923640979232,10849.832097001936,10658.071223623194,10413.708744551972,10140.061736334072,9837.721403467931,9632.498887709493,9374.40181018595,9181.075327807035,8952.828980466424,8759.01975155175,8566.723730395055,8358.0488683217,8187.0488935641315,8016.161761344755,7838.933718144186,7707.96648269338,7563.4056753481555,7382.567827464497,7226.942005829432,7082.840476886776,6937.386873581271,6804.369529433718,6658.3978735815335,6482.375190132488,6383.111046193582,6240.699434941241,6088.921222689965,5966.208668716833,5836.7242017889785,5704.512175047259,5593.166227957819,5481.889929258917,5368.604707239453,5284.575518945557,5183.825852057745],\"type\":\"scatter\",\"xaxis\":\"x3\",\"yaxis\":\"y3\"},{\"line\":{\"color\":\"rgb(255, 144, 14)\",\"width\":1},\"name\":\"home\",\"x\":[0.9,0.905,0.91,0.915,0.92,0.925,0.93,0.935,0.9400000000000001,0.9450000000000001,0.95,0.9550000000000001,0.96,0.965,0.97,0.975,0.98,0.985,0.99,0.995,1.0,1.005,1.01,1.015,1.02,1.025,1.03,1.035,1.04,1.045,1.05,1.055,1.06,1.065,1.07,1.075,1.08,1.085,1.09,1.095,1.1,1.105,1.1099999999999999,1.115,1.12,1.125,1.13,1.135,1.14,1.145,1.15,1.155,1.16,1.165,1.17,1.175,1.18,1.185,1.19,1.1949999999999998,1.2,1.205,1.21,1.2149999999999999,1.22,1.225,1.23,1.2349999999999999,1.24,1.245,1.25,1.255,1.26,1.265,1.27,1.275,1.28,1.285,1.29,1.295,1.2999999999999998,1.305,1.31,1.315,1.3199999999999998,1.325,1.33,1.335,1.3399999999999999,1.345,1.35,1.355,1.3599999999999999,1.365,1.3699999999999999,1.375,1.38,1.385,1.39,1.395,1.4],\"y\":[-8091.286102237649,-8091.286102237649,-8091.286102237649,-8092.256417086971,-8014.962003446831,-7768.518985851989,-7265.717511863055,-6303.149144326946,-4878.097682201392,-3333.0658520581364,-1443.9043681465216,324.6084169334519,1944.7170045052178,3718.765526709724,5245.307790534533,6690.216558417676,8004.125683876334,8964.908134162648,9981.608747242351,10707.835826365694,11462.31772621645,11857.924051394786,11982.458793490643,12120.710171728597,12162.499435030064,12396.047741181337,12562.347436587406,12636.943709568917,12406.523387071215,12310.435332800229,12101.102967104414,11980.010185242176,11830.14254200216,11477.049741982435,11291.07788873452,11123.303801112417,10855.248158747794,10521.877013466552,10247.857111097366,9986.050397949171,9866.24103036948,9654.621014853066,9441.8946143642,9146.648389444563,8879.72353813482,8597.859509245762,8312.255910465607,8105.381850948109,7841.357604365605,7670.3409895872555,7443.473707845632,7276.171069473347,7075.19943301698,6855.7746735813425,6725.268925015603,6541.536737656177,6343.238228517839,6248.804974183668,6080.092877439664,5933.530075765707,5821.115746287432,5675.11417495948,5586.5767140393045,5485.151202582181,5389.900060722612,5261.995326252853,5138.888259996703,5063.849288422074,4943.688294832772,4800.199231740995,4636.1355151950875,4536.18093275814,4445.849515046076,4376.5674471320335,4320.431952269401,4260.254289484151,4168.294492650117,4068.5355648640993,4013.4369780269653,3954.8604025871723,3911.297959516979,3868.1111306495764,3796.0731485238734,3723.808063327392,3648.815522289705,3579.3684669418817,3535.2850487316614,3478.881065461247,3422.0244571932208,3351.577653224664,3324.168028218166,3273.0470433382725,3216.1273835439374,3190.25408066588,3123.5249260710953,3058.6255916657183,3011.1310466563887,2941.5013381557374,2867.063222790966,2821.4913385660016,2767.188144104143],\"type\":\"scatter\",\"xaxis\":\"x3\",\"yaxis\":\"y3\"},{\"line\":{\"color\":\"rgb(44, 160, 101)\",\"width\":1},\"name\":\"draw\",\"x\":[0.9,0.905,0.91,0.915,0.92,0.925,0.93,0.935,0.9400000000000001,0.9450000000000001,0.95,0.9550000000000001,0.96,0.965,0.97,0.975,0.98,0.985,0.99,0.995,1.0,1.005,1.01,1.015,1.02,1.025,1.03,1.035,1.04,1.045,1.05,1.055,1.06,1.065,1.07,1.075,1.08,1.085,1.09,1.095,1.1,1.105,1.1099999999999999,1.115,1.12,1.125,1.13,1.135,1.14,1.145,1.15,1.155,1.16,1.165,1.17,1.175,1.18,1.185,1.19,1.1949999999999998,1.2,1.205,1.21,1.2149999999999999,1.22,1.225,1.23,1.2349999999999999,1.24,1.245,1.25,1.255,1.26,1.265,1.27,1.275,1.28,1.285,1.29,1.295,1.2999999999999998,1.305,1.31,1.315,1.3199999999999998,1.325,1.33,1.335,1.3399999999999999,1.345,1.35,1.355,1.3599999999999999,1.365,1.3699999999999999,1.375,1.38,1.385,1.39,1.395,1.4],\"y\":[2015.6607790009314,2015.6607790009314,2015.6607790009314,2015.4462964161921,2022.0590229202771,2099.26853417533,2201.9515305179266,2295.5883598182813,2535.933365898787,2837.7201971054938,3290.0756244837607,3639.178597017635,3939.012819824072,4212.8807904464575,4630.411802261736,4980.924373283455,5510.783140127072,5863.634862933342,6114.432518133633,6362.102465910106,6716.297879954349,6924.348246882137,7135.37147569932,7312.3977917361535,7483.300529775113,7719.560892654898,7840.518069420851,8012.327574303754,8077.224072679425,7990.358196138306,7823.126192787626,7690.007321224175,7405.259387075298,7253.852091524031,7008.969031369104,6783.022525161974,6687.41350756787,6573.530544545793,6313.181626108261,6253.195863450559,6219.605767244651,6021.76802950037,5885.873687921227,5685.505113045104,5470.579333989006,5312.381541328683,5083.535555946633,4853.968855772098,4624.147275779598,4495.806394266718,4281.181208411344,4113.916049979317,3957.4272553684673,3766.1982188203215,3694.9316543709892,3567.9514595386454,3354.502109743151,3247.378824600503,3127.0305298847816,3057.447170581943,2966.1172572511646,2912.4632048133285,2870.113576769671,2815.5948513701587,2776.173654902518,2697.3059545905644,2644.5461669820147,2615.553829690157,2572.6443390322306,2511.775661419417,2427.7296085875887,2385.3484205278082,2308.9178746095267,2243.832782399848,2185.0944463323112,2119.4335254132984,2066.52535287812,2016.4162730713617,1959.1508607649246,1900.7647836985334,1856.9601197060315,1810.2297654555928,1770.8699771870215,1731.7396157763321,1698.0356463168719,1665.1161635114943,1624.5861639992243,1585.9109892919519,1564.2135518426935,1524.846817745631,1498.4464926439987,1476.356869443246,1439.0877892255066,1425.826443597888,1400.5799637994448,1366.6805085112583,1345.9488805965452,1327.7631981570185,1307.6821403069328,1278.3926958491395,1265.4442887808914],\"type\":\"scatter\",\"xaxis\":\"x3\",\"yaxis\":\"y3\"},{\"line\":{\"color\":\"rgb(255, 65, 54)\",\"width\":1},\"name\":\"away\",\"x\":[0.9,0.905,0.91,0.915,0.92,0.925,0.93,0.935,0.9400000000000001,0.9450000000000001,0.95,0.9550000000000001,0.96,0.965,0.97,0.975,0.98,0.985,0.99,0.995,1.0,1.005,1.01,1.015,1.02,1.025,1.03,1.035,1.04,1.045,1.05,1.055,1.06,1.065,1.07,1.075,1.08,1.085,1.09,1.095,1.1,1.105,1.1099999999999999,1.115,1.12,1.125,1.13,1.135,1.14,1.145,1.15,1.155,1.16,1.165,1.17,1.175,1.18,1.185,1.19,1.1949999999999998,1.2,1.205,1.21,1.2149999999999999,1.22,1.225,1.23,1.2349999999999999,1.24,1.245,1.25,1.255,1.26,1.265,1.27,1.275,1.28,1.285,1.29,1.295,1.2999999999999998,1.305,1.31,1.315,1.3199999999999998,1.325,1.33,1.335,1.3399999999999999,1.345,1.35,1.355,1.3599999999999999,1.365,1.3699999999999999,1.375,1.38,1.385,1.39,1.395,1.4],\"y\":[-7532.869648608848,-7532.869648608848,-7532.869648608848,-7531.2542218178705,-7499.213924187055,-7399.672435089459,-7113.682235915348,-6712.4247491013675,-6089.657344450064,-5217.485652645275,-4180.399679798446,-3255.1045110092587,-2232.4566182238636,-1318.7451081519707,-328.7152014192171,513.5129317965175,1265.5395197950108,2023.6539833425345,2517.4740179049586,3018.126870554582,3318.7057280254085,3648.2593996423966,3846.3974282977947,4085.4085128296965,4238.063489088039,4625.609038896807,4799.5232108057435,5027.359688438431,5062.798112532582,5049.067824533677,5004.955175916906,5001.661729101108,5066.5762423887845,5061.651307164305,5037.9425836144665,4997.211935374427,4945.321315091451,4908.014596638566,4942.054605216822,4960.974331382219,4853.3798534003545,4659.57852572391,4533.792726515066,4363.120588254148,4293.8358901855045,4254.328767126567,4260.4355498250125,4189.009312137512,4110.102341174713,4106.073545381899,4074.9809392231723,4028.928594864191,3937.025835259428,3884.4089968024496,3819.058865302333,3724.7948063028844,3726.4030530864925,3653.477691202705,3617.608647918384,3564.6456336390734,3509.602589411346,3483.600448450398,3418.802257500223,3318.8811419562376,3247.5053692161146,3138.622360135815,3066.397670023219,2978.668105510964,2897.3761106869697,2828.08684317366,2773.8562796852552,2710.9695344235447,2619.634420530349,2560.6750982751555,2447.3025818647106,2379.331936654303,2331.903884866819,2273.0970303862405,2214.4610547722423,2160.5365750590504,2070.675638921176,2029.6255865882108,1996.4625496372605,1927.0201483607711,1880.090837222856,1838.3558464333985,1777.5156608503871,1739.5774746805182,1672.1598645456193,1605.9507191621917,1560.4965253314188,1491.2955221597226,1433.7060499205195,1350.1281444530655,1312.6193119184393,1279.206074870283,1236.086300704884,1212.6253929461611,1193.8593441415546,1184.6914845304145,1151.1934191727114],\"type\":\"scatter\",\"xaxis\":\"x3\",\"yaxis\":\"y3\"}],                        {\"template\":{\"data\":{\"histogram2dcontour\":[{\"type\":\"histogram2dcontour\",\"colorbar\":{\"outlinewidth\":0,\"ticks\":\"\"},\"colorscale\":[[0.0,\"#0d0887\"],[0.1111111111111111,\"#46039f\"],[0.2222222222222222,\"#7201a8\"],[0.3333333333333333,\"#9c179e\"],[0.4444444444444444,\"#bd3786\"],[0.5555555555555556,\"#d8576b\"],[0.6666666666666666,\"#ed7953\"],[0.7777777777777778,\"#fb9f3a\"],[0.8888888888888888,\"#fdca26\"],[1.0,\"#f0f921\"]]}],\"choropleth\":[{\"type\":\"choropleth\",\"colorbar\":{\"outlinewidth\":0,\"ticks\":\"\"}}],\"histogram2d\":[{\"type\":\"histogram2d\",\"colorbar\":{\"outlinewidth\":0,\"ticks\":\"\"},\"colorscale\":[[0.0,\"#0d0887\"],[0.1111111111111111,\"#46039f\"],[0.2222222222222222,\"#7201a8\"],[0.3333333333333333,\"#9c179e\"],[0.4444444444444444,\"#bd3786\"],[0.5555555555555556,\"#d8576b\"],[0.6666666666666666,\"#ed7953\"],[0.7777777777777778,\"#fb9f3a\"],[0.8888888888888888,\"#fdca26\"],[1.0,\"#f0f921\"]]}],\"heatmap\":[{\"type\":\"heatmap\",\"colorbar\":{\"outlinewidth\":0,\"ticks\":\"\"},\"colorscale\":[[0.0,\"#0d0887\"],[0.1111111111111111,\"#46039f\"],[0.2222222222222222,\"#7201a8\"],[0.3333333333333333,\"#9c179e\"],[0.4444444444444444,\"#bd3786\"],[0.5555555555555556,\"#d8576b\"],[0.6666666666666666,\"#ed7953\"],[0.7777777777777778,\"#fb9f3a\"],[0.8888888888888888,\"#fdca26\"],[1.0,\"#f0f921\"]]}],\"heatmapgl\":[{\"type\":\"heatmapgl\",\"colorbar\":{\"outlinewidth\":0,\"ticks\":\"\"},\"colorscale\":[[0.0,\"#0d0887\"],[0.1111111111111111,\"#46039f\"],[0.2222222222222222,\"#7201a8\"],[0.3333333333333333,\"#9c179e\"],[0.4444444444444444,\"#bd3786\"],[0.5555555555555556,\"#d8576b\"],[0.6666666666666666,\"#ed7953\"],[0.7777777777777778,\"#fb9f3a\"],[0.8888888888888888,\"#fdca26\"],[1.0,\"#f0f921\"]]}],\"contourcarpet\":[{\"type\":\"contourcarpet\",\"colorbar\":{\"outlinewidth\":0,\"ticks\":\"\"}}],\"contour\":[{\"type\":\"contour\",\"colorbar\":{\"outlinewidth\":0,\"ticks\":\"\"},\"colorscale\":[[0.0,\"#0d0887\"],[0.1111111111111111,\"#46039f\"],[0.2222222222222222,\"#7201a8\"],[0.3333333333333333,\"#9c179e\"],[0.4444444444444444,\"#bd3786\"],[0.5555555555555556,\"#d8576b\"],[0.6666666666666666,\"#ed7953\"],[0.7777777777777778,\"#fb9f3a\"],[0.8888888888888888,\"#fdca26\"],[1.0,\"#f0f921\"]]}],\"surface\":[{\"type\":\"surface\",\"colorbar\":{\"outlinewidth\":0,\"ticks\":\"\"},\"colorscale\":[[0.0,\"#0d0887\"],[0.1111111111111111,\"#46039f\"],[0.2222222222222222,\"#7201a8\"],[0.3333333333333333,\"#9c179e\"],[0.4444444444444444,\"#bd3786\"],[0.5555555555555556,\"#d8576b\"],[0.6666666666666666,\"#ed7953\"],[0.7777777777777778,\"#fb9f3a\"],[0.8888888888888888,\"#fdca26\"],[1.0,\"#f0f921\"]]}],\"mesh3d\":[{\"type\":\"mesh3d\",\"colorbar\":{\"outlinewidth\":0,\"ticks\":\"\"}}],\"scatter\":[{\"fillpattern\":{\"fillmode\":\"overlay\",\"size\":10,\"solidity\":0.2},\"type\":\"scatter\"}],\"parcoords\":[{\"type\":\"parcoords\",\"line\":{\"colorbar\":{\"outlinewidth\":0,\"ticks\":\"\"}}}],\"scatterpolargl\":[{\"type\":\"scatterpolargl\",\"marker\":{\"colorbar\":{\"outlinewidth\":0,\"ticks\":\"\"}}}],\"bar\":[{\"error_x\":{\"color\":\"#2a3f5f\"},\"error_y\":{\"color\":\"#2a3f5f\"},\"marker\":{\"line\":{\"color\":\"#E5ECF6\",\"width\":0.5},\"pattern\":{\"fillmode\":\"overlay\",\"size\":10,\"solidity\":0.2}},\"type\":\"bar\"}],\"scattergeo\":[{\"type\":\"scattergeo\",\"marker\":{\"colorbar\":{\"outlinewidth\":0,\"ticks\":\"\"}}}],\"scatterpolar\":[{\"type\":\"scatterpolar\",\"marker\":{\"colorbar\":{\"outlinewidth\":0,\"ticks\":\"\"}}}],\"histogram\":[{\"marker\":{\"pattern\":{\"fillmode\":\"overlay\",\"size\":10,\"solidity\":0.2}},\"type\":\"histogram\"}],\"scattergl\":[{\"type\":\"scattergl\",\"marker\":{\"colorbar\":{\"outlinewidth\":0,\"ticks\":\"\"}}}],\"scatter3d\":[{\"type\":\"scatter3d\",\"line\":{\"colorbar\":{\"outlinewidth\":0,\"ticks\":\"\"}},\"marker\":{\"colorbar\":{\"outlinewidth\":0,\"ticks\":\"\"}}}],\"scattermapbox\":[{\"type\":\"scattermapbox\",\"marker\":{\"colorbar\":{\"outlinewidth\":0,\"ticks\":\"\"}}}],\"scatterternary\":[{\"type\":\"scatterternary\",\"marker\":{\"colorbar\":{\"outlinewidth\":0,\"ticks\":\"\"}}}],\"scattercarpet\":[{\"type\":\"scattercarpet\",\"marker\":{\"colorbar\":{\"outlinewidth\":0,\"ticks\":\"\"}}}],\"carpet\":[{\"aaxis\":{\"endlinecolor\":\"#2a3f5f\",\"gridcolor\":\"white\",\"linecolor\":\"white\",\"minorgridcolor\":\"white\",\"startlinecolor\":\"#2a3f5f\"},\"baxis\":{\"endlinecolor\":\"#2a3f5f\",\"gridcolor\":\"white\",\"linecolor\":\"white\",\"minorgridcolor\":\"white\",\"startlinecolor\":\"#2a3f5f\"},\"type\":\"carpet\"}],\"table\":[{\"cells\":{\"fill\":{\"color\":\"#EBF0F8\"},\"line\":{\"color\":\"white\"}},\"header\":{\"fill\":{\"color\":\"#C8D4E3\"},\"line\":{\"color\":\"white\"}},\"type\":\"table\"}],\"barpolar\":[{\"marker\":{\"line\":{\"color\":\"#E5ECF6\",\"width\":0.5},\"pattern\":{\"fillmode\":\"overlay\",\"size\":10,\"solidity\":0.2}},\"type\":\"barpolar\"}],\"pie\":[{\"automargin\":true,\"type\":\"pie\"}]},\"layout\":{\"autotypenumbers\":\"strict\",\"colorway\":[\"#636efa\",\"#EF553B\",\"#00cc96\",\"#ab63fa\",\"#FFA15A\",\"#19d3f3\",\"#FF6692\",\"#B6E880\",\"#FF97FF\",\"#FECB52\"],\"font\":{\"color\":\"#2a3f5f\"},\"hovermode\":\"closest\",\"hoverlabel\":{\"align\":\"left\"},\"paper_bgcolor\":\"white\",\"plot_bgcolor\":\"#E5ECF6\",\"polar\":{\"bgcolor\":\"#E5ECF6\",\"angularaxis\":{\"gridcolor\":\"white\",\"linecolor\":\"white\",\"ticks\":\"\"},\"radialaxis\":{\"gridcolor\":\"white\",\"linecolor\":\"white\",\"ticks\":\"\"}},\"ternary\":{\"bgcolor\":\"#E5ECF6\",\"aaxis\":{\"gridcolor\":\"white\",\"linecolor\":\"white\",\"ticks\":\"\"},\"baxis\":{\"gridcolor\":\"white\",\"linecolor\":\"white\",\"ticks\":\"\"},\"caxis\":{\"gridcolor\":\"white\",\"linecolor\":\"white\",\"ticks\":\"\"}},\"coloraxis\":{\"colorbar\":{\"outlinewidth\":0,\"ticks\":\"\"}},\"colorscale\":{\"sequential\":[[0.0,\"#0d0887\"],[0.1111111111111111,\"#46039f\"],[0.2222222222222222,\"#7201a8\"],[0.3333333333333333,\"#9c179e\"],[0.4444444444444444,\"#bd3786\"],[0.5555555555555556,\"#d8576b\"],[0.6666666666666666,\"#ed7953\"],[0.7777777777777778,\"#fb9f3a\"],[0.8888888888888888,\"#fdca26\"],[1.0,\"#f0f921\"]],\"sequentialminus\":[[0.0,\"#0d0887\"],[0.1111111111111111,\"#46039f\"],[0.2222222222222222,\"#7201a8\"],[0.3333333333333333,\"#9c179e\"],[0.4444444444444444,\"#bd3786\"],[0.5555555555555556,\"#d8576b\"],[0.6666666666666666,\"#ed7953\"],[0.7777777777777778,\"#fb9f3a\"],[0.8888888888888888,\"#fdca26\"],[1.0,\"#f0f921\"]],\"diverging\":[[0,\"#8e0152\"],[0.1,\"#c51b7d\"],[0.2,\"#de77ae\"],[0.3,\"#f1b6da\"],[0.4,\"#fde0ef\"],[0.5,\"#f7f7f7\"],[0.6,\"#e6f5d0\"],[0.7,\"#b8e186\"],[0.8,\"#7fbc41\"],[0.9,\"#4d9221\"],[1,\"#276419\"]]},\"xaxis\":{\"gridcolor\":\"white\",\"linecolor\":\"white\",\"ticks\":\"\",\"title\":{\"standoff\":15},\"zerolinecolor\":\"white\",\"automargin\":true,\"zerolinewidth\":2},\"yaxis\":{\"gridcolor\":\"white\",\"linecolor\":\"white\",\"ticks\":\"\",\"title\":{\"standoff\":15},\"zerolinecolor\":\"white\",\"automargin\":true,\"zerolinewidth\":2},\"scene\":{\"xaxis\":{\"backgroundcolor\":\"#E5ECF6\",\"gridcolor\":\"white\",\"linecolor\":\"white\",\"showbackground\":true,\"ticks\":\"\",\"zerolinecolor\":\"white\",\"gridwidth\":2},\"yaxis\":{\"backgroundcolor\":\"#E5ECF6\",\"gridcolor\":\"white\",\"linecolor\":\"white\",\"showbackground\":true,\"ticks\":\"\",\"zerolinecolor\":\"white\",\"gridwidth\":2},\"zaxis\":{\"backgroundcolor\":\"#E5ECF6\",\"gridcolor\":\"white\",\"linecolor\":\"white\",\"showbackground\":true,\"ticks\":\"\",\"zerolinecolor\":\"white\",\"gridwidth\":2}},\"shapedefaults\":{\"line\":{\"color\":\"#2a3f5f\"}},\"annotationdefaults\":{\"arrowcolor\":\"#2a3f5f\",\"arrowhead\":0,\"arrowwidth\":1},\"geo\":{\"bgcolor\":\"white\",\"landcolor\":\"#E5ECF6\",\"subunitcolor\":\"white\",\"showland\":true,\"showlakes\":true,\"lakecolor\":\"white\"},\"title\":{\"x\":0.05},\"mapbox\":{\"style\":\"light\"}}},\"xaxis\":{\"anchor\":\"y\",\"domain\":[0.0,1.0],\"matches\":\"x3\",\"showticklabels\":false},\"yaxis\":{\"anchor\":\"x\",\"domain\":[0.68,1.0],\"rangemode\":\"nonnegative\"},\"xaxis2\":{\"anchor\":\"y2\",\"domain\":[0.0,1.0],\"matches\":\"x3\",\"showticklabels\":false},\"yaxis2\":{\"anchor\":\"x2\",\"domain\":[0.34,0.66],\"rangemode\":\"nonnegative\"},\"xaxis3\":{\"anchor\":\"y3\",\"domain\":[0.0,1.0]},\"yaxis3\":{\"anchor\":\"x3\",\"domain\":[0.0,0.32],\"rangemode\":\"nonnegative\"},\"annotations\":[{\"font\":{\"size\":16},\"showarrow\":false,\"text\":\"holdout\",\"x\":0.5,\"xanchor\":\"center\",\"xref\":\"paper\",\"y\":1.0,\"yanchor\":\"bottom\",\"yref\":\"paper\"},{\"font\":{\"size\":16},\"showarrow\":false,\"text\":\"test\",\"x\":0.5,\"xanchor\":\"center\",\"xref\":\"paper\",\"y\":0.66,\"yanchor\":\"bottom\",\"yref\":\"paper\"},{\"font\":{\"size\":16},\"showarrow\":false,\"text\":\"train\",\"x\":0.5,\"xanchor\":\"center\",\"xref\":\"paper\",\"y\":0.32,\"yanchor\":\"bottom\",\"yref\":\"paper\"}],\"title\":{\"text\":\"profit validation\"},\"height\":800,\"width\":900},                        {\"responsive\": true}                    ).then(function(){\n",
              "                            \n",
              "var gd = document.getElementById('8f146d42-1548-46ca-af24-8a4175669881');\n",
              "var x = new MutationObserver(function (mutations, observer) {{\n",
              "        var display = window.getComputedStyle(gd).display;\n",
              "        if (!display || display === 'none') {{\n",
              "            console.log([gd, 'removed!']);\n",
              "            Plotly.purge(gd);\n",
              "            observer.disconnect();\n",
              "        }}\n",
              "}});\n",
              "\n",
              "// Listen for the removal of the full notebook cells\n",
              "var notebookContainer = gd.closest('#notebook-container');\n",
              "if (notebookContainer) {{\n",
              "    x.observe(notebookContainer, {childList: true});\n",
              "}}\n",
              "\n",
              "// Listen for the clearing of the current output cell\n",
              "var outputEl = gd.closest('.output');\n",
              "if (outputEl) {{\n",
              "    x.observe(outputEl, {childList: true});\n",
              "}}\n",
              "\n",
              "                        })                };                            </script>        </div>\n",
              "</body>\n",
              "</html>"
            ]
          },
          "metadata": {}
        }
      ]
    },
    {
      "cell_type": "code",
      "source": [
        "fig = profit_validation_by_type(active_rows_dict, preds_dict, line_dict, y_dict)\n",
        "fig.show()"
      ],
      "metadata": {
        "id": "jKsa3Ipi2ZHy",
        "colab": {
          "base_uri": "https://localhost:8080/",
          "height": 817
        },
        "outputId": "b2117ab8-941a-4c4b-a00f-3e91efbd8414"
      },
      "execution_count": null,
      "outputs": [
        {
          "output_type": "display_data",
          "data": {
            "text/html": [
              "<html>\n",
              "<head><meta charset=\"utf-8\" /></head>\n",
              "<body>\n",
              "    <div>            <script src=\"https://cdnjs.cloudflare.com/ajax/libs/mathjax/2.7.5/MathJax.js?config=TeX-AMS-MML_SVG\"></script><script type=\"text/javascript\">if (window.MathJax && window.MathJax.Hub && window.MathJax.Hub.Config) {window.MathJax.Hub.Config({SVG: {font: \"STIX-Web\"}});}</script>                <script type=\"text/javascript\">window.PlotlyConfig = {MathJaxConfig: 'local'};</script>\n",
              "        <script src=\"https://cdn.plot.ly/plotly-2.18.2.min.js\"></script>                <div id=\"aaf71c1c-6413-4693-aea2-c7679e2ceff3\" class=\"plotly-graph-div\" style=\"height:800px; width:900px;\"></div>            <script type=\"text/javascript\">                                    window.PLOTLYENV=window.PLOTLYENV || {};                                    if (document.getElementById(\"aaf71c1c-6413-4693-aea2-c7679e2ceff3\")) {                    Plotly.newPlot(                        \"aaf71c1c-6413-4693-aea2-c7679e2ceff3\",                        [{\"line\":{\"color\":\"rgb(93, 164, 214)\",\"width\":4},\"name\":\"all\",\"x\":[0.9,0.905,0.91,0.915,0.92,0.925,0.93,0.935,0.9400000000000001,0.9450000000000001,0.95,0.9550000000000001,0.96,0.965,0.97,0.975,0.98,0.985,0.99,0.995,1.0,1.005,1.01,1.015,1.02,1.025,1.03,1.035,1.04,1.045,1.05,1.055,1.06,1.065,1.07,1.075,1.08,1.085,1.09,1.095,1.1,1.105,1.1099999999999999,1.115,1.12,1.125,1.13,1.135,1.14,1.145,1.15,1.155,1.16,1.165,1.17,1.175,1.18,1.185,1.19,1.1949999999999998,1.2,1.205,1.21,1.2149999999999999,1.22,1.225,1.23,1.2349999999999999,1.24,1.245,1.25,1.255,1.26,1.265,1.27,1.275,1.28,1.285,1.29,1.295,1.2999999999999998,1.305,1.31,1.315,1.3199999999999998,1.325,1.33,1.335,1.3399999999999999,1.345,1.35,1.355,1.3599999999999999,1.365,1.3699999999999999,1.375,1.38,1.385,1.39,1.395,1.4],\"y\":[-14809.794228175848,-14809.794228175848,-14809.794228175848,-14809.829063441834,-14761.384702817315,-14691.726795736171,-14441.040543139818,-14038.368223654588,-13480.635004197897,-12756.829340486087,-11912.700456176286,-10988.560596737208,-10070.115878331071,-9029.598161963417,-8034.186819729288,-7269.733650028155,-6411.190747663029,-5544.128101482124,-4807.36719249581,-4147.12816989779,-3725.6542967946366,-3338.508119141025,-2785.9838168600368,-2288.292431920913,-1869.4743655861157,-1495.9815420628324,-1161.2594321844654,-944.298441661029,-572.7739508158951,-456.5135479939704,-244.22679255640685,-76.50725799297345,13.506752565705028,215.97097210889538,279.73439929378185,422.35401883920184,528.2508491345727,607.3550978194075,691.6384294758261,822.3093061315742,850.8895628126721,913.5399154438518,1002.3918647994503,1089.1350987553706,1093.3303743873191,1071.1018438722408,1111.6754388519635,1169.4175361883053,1223.6938114856048,1153.4936818561973,1170.319526810999,1199.5771962706433,1207.2452003300325,1207.848042895249,1238.6738438982577,1229.00282998875,1306.7946914930412,1341.3157021265881,1341.8658990049535,1290.1457774325697,1250.8346506142138,1225.2013980865918,1254.0365352837782,1222.439092282674,1216.8828099885607,1177.1978607252033,1141.423833831527,1098.1357449995546,1084.8337771827719,1096.2403203797014,1063.383481319635,1004.9682664165204,980.4253087634737,951.06779889569,936.6999963106093,940.5023323857746,894.7636559063874,836.3474046343983,842.5755281560739,821.870898982751,794.4874664275767,791.7959537152979,775.0380429388039,735.2151663664217,700.1886775736139,683.390586330587,674.184714953572,634.1915208678138,611.9679748849425,604.9200864791117,586.0638631976486,565.0643446247628,568.4301717877419,539.859593173494,510.08014879389947,507.088950731659,469.14034027362806,464.82947046954604,457.12891629160424,456.0236396978802,455.70879837893074],\"type\":\"scatter\",\"xaxis\":\"x\",\"yaxis\":\"y\"},{\"line\":{\"color\":\"rgb(255, 144, 14)\",\"width\":1},\"name\":\"home\",\"x\":[0.9,0.905,0.91,0.915,0.92,0.925,0.93,0.935,0.9400000000000001,0.9450000000000001,0.95,0.9550000000000001,0.96,0.965,0.97,0.975,0.98,0.985,0.99,0.995,1.0,1.005,1.01,1.015,1.02,1.025,1.03,1.035,1.04,1.045,1.05,1.055,1.06,1.065,1.07,1.075,1.08,1.085,1.09,1.095,1.1,1.105,1.1099999999999999,1.115,1.12,1.125,1.13,1.135,1.14,1.145,1.15,1.155,1.16,1.165,1.17,1.175,1.18,1.185,1.19,1.1949999999999998,1.2,1.205,1.21,1.2149999999999999,1.22,1.225,1.23,1.2349999999999999,1.24,1.245,1.25,1.255,1.26,1.265,1.27,1.275,1.28,1.285,1.29,1.295,1.2999999999999998,1.305,1.31,1.315,1.3199999999999998,1.325,1.33,1.335,1.3399999999999999,1.345,1.35,1.355,1.3599999999999999,1.365,1.3699999999999999,1.375,1.38,1.385,1.39,1.395,1.4],\"y\":[-7704.371447698618,-7704.371447698618,-7704.371447698618,-7704.214709699771,-7676.3929073012605,-7635.8195269733915,-7509.535525325379,-7263.011247619965,-6872.212886225104,-6395.195119254128,-5835.552294792168,-5256.165551832895,-4682.243169090311,-4048.3381153598984,-3508.019569029923,-3033.859409312423,-2515.5499114672675,-1996.1327018163115,-1626.519869093537,-1319.5696942159166,-1028.1083972583895,-813.1227428571078,-513.889344488789,-348.12116411728584,-221.23056045878312,-22.079099112344522,108.9729270808337,198.09127068887594,346.57363025000836,411.6315420556998,558.6192438208549,670.4965381637962,753.9491477602865,867.1249300047907,892.2288660654267,952.0944558507496,985.851726099167,1033.1096438053698,1113.1519154948999,1151.4693681612755,1148.173183160406,1162.7274465848373,1145.073228094651,1150.591592999836,1168.1669564985343,1151.5151828346636,1132.871755586267,1079.7662276252315,1083.426840553984,1042.4649140898596,1021.2601817079026,1015.7729940817662,969.3283995600782,928.6765734043506,904.0793224724903,878.5566984120507,872.1266433374594,850.2352845176855,828.4129239321262,786.4891364181251,749.2091480227259,711.4472358454136,710.557263493401,672.858571509084,649.9846481160025,611.5033951148469,592.1474925522225,550.6503558926194,538.015013944012,542.7377150733414,530.8599615418676,501.9105334507792,486.1602167816487,477.2575655067752,472.3579323344321,465.890671092536,441.22683428352303,403.6159439987683,406.6788793667485,389.83107017072194,363.87914281601036,357.03152438315175,353.12081687164687,339.63332465553754,335.2640566770127,319.07220958245904,323.7502678675263,307.4797749086863,294.21884730544735,291.3268037180691,293.3547133535775,289.9097368144595,294.58807289536804,276.22065520999695,268.97484867261505,268.32981208061074,248.23871328408097,234.9946379778067,227.54403804265306,220.7014615915136,211.91271455584396],\"type\":\"scatter\",\"xaxis\":\"x\",\"yaxis\":\"y\"},{\"line\":{\"color\":\"rgb(44, 160, 101)\",\"width\":1},\"name\":\"draw\",\"x\":[0.9,0.905,0.91,0.915,0.92,0.925,0.93,0.935,0.9400000000000001,0.9450000000000001,0.95,0.9550000000000001,0.96,0.965,0.97,0.975,0.98,0.985,0.99,0.995,1.0,1.005,1.01,1.015,1.02,1.025,1.03,1.035,1.04,1.045,1.05,1.055,1.06,1.065,1.07,1.075,1.08,1.085,1.09,1.095,1.1,1.105,1.1099999999999999,1.115,1.12,1.125,1.13,1.135,1.14,1.145,1.15,1.155,1.16,1.165,1.17,1.175,1.18,1.185,1.19,1.1949999999999998,1.2,1.205,1.21,1.2149999999999999,1.22,1.225,1.23,1.2349999999999999,1.24,1.245,1.25,1.255,1.26,1.265,1.27,1.275,1.28,1.285,1.29,1.295,1.2999999999999998,1.305,1.31,1.315,1.3199999999999998,1.325,1.33,1.335,1.3399999999999999,1.345,1.35,1.355,1.3599999999999999,1.365,1.3699999999999999,1.375,1.38,1.385,1.39,1.395,1.4],\"y\":[-1377.9523706155933,-1377.9523706155933,-1377.9523706155933,-1377.7215836319788,-1368.7174227071241,-1363.3302299932761,-1337.378119535815,-1347.6087112901118,-1365.2350223764545,-1357.4362846503159,-1304.9078929745947,-1260.317821797311,-1248.8720857209378,-1158.052487317255,-1053.5341241041167,-1023.8958009628694,-976.967042561223,-842.6404268782863,-740.8000092800229,-658.1371075863333,-675.3934499167292,-662.4805852523939,-577.6101032594792,-488.3622063311588,-411.37814266844487,-417.16219230466106,-374.9450723488185,-360.2446532974293,-240.60200759243952,-260.82744569910744,-285.2906636663425,-270.2709013831018,-298.24761250120304,-283.8252883328846,-308.9258440689607,-294.43234665992503,-266.64461255943263,-235.6244211975147,-233.16957074116064,-168.57840237516504,-182.572250653999,-171.78232462471576,-134.63947978806848,-95.81761041069484,-105.97867380937424,-105.10625070114858,-90.14140721364481,-26.526453385467704,-11.031479562388625,-1.6305420502933998,5.0085600916574755,-3.3163753712398716,11.83242628704106,38.3446192455398,52.725236772850366,59.221602451128575,78.24851125391166,93.44877425030387,107.12323060241023,84.1764151501581,92.51992888864338,118.64220971708716,118.59994413541992,134.64884291310258,142.90137283070763,143.32566577219848,148.43811918547217,132.53779052240137,127.67032265583026,126.72069594523438,118.43876180491861,113.99668466379816,104.37759914563429,88.46845667606524,92.35379017311092,93.20865621400392,85.12068179898961,79.05307957883615,77.06386963380292,74.81610516308909,72.53733629188935,68.27915916867192,62.41000883431242,57.290004097965785,52.057774561533925,51.154568995224565,47.09550989336608,39.39783049450453,32.82881184107879,36.23202627056595,26.329433550788917,19.189831020597456,21.092232882472704,15.515892942221807,5.395244246138944,0.20528421960241516,-4.624143869638814,-6.705342614084671,-11.359063784735909,-12.5813962926484,-10.990999653090931],\"type\":\"scatter\",\"xaxis\":\"x\",\"yaxis\":\"y\"},{\"line\":{\"color\":\"rgb(255, 65, 54)\",\"width\":1},\"name\":\"away\",\"x\":[0.9,0.905,0.91,0.915,0.92,0.925,0.93,0.935,0.9400000000000001,0.9450000000000001,0.95,0.9550000000000001,0.96,0.965,0.97,0.975,0.98,0.985,0.99,0.995,1.0,1.005,1.01,1.015,1.02,1.025,1.03,1.035,1.04,1.045,1.05,1.055,1.06,1.065,1.07,1.075,1.08,1.085,1.09,1.095,1.1,1.105,1.1099999999999999,1.115,1.12,1.125,1.13,1.135,1.14,1.145,1.15,1.155,1.16,1.165,1.17,1.175,1.18,1.185,1.19,1.1949999999999998,1.2,1.205,1.21,1.2149999999999999,1.22,1.225,1.23,1.2349999999999999,1.24,1.245,1.25,1.255,1.26,1.265,1.27,1.275,1.28,1.285,1.29,1.295,1.2999999999999998,1.305,1.31,1.315,1.3199999999999998,1.325,1.33,1.335,1.3399999999999999,1.345,1.35,1.355,1.3599999999999999,1.365,1.3699999999999999,1.375,1.38,1.385,1.39,1.395,1.4],\"y\":[-5727.470409861639,-5727.470409861639,-5727.470409861639,-5727.892770110086,-5716.274372808935,-5692.577038769504,-5594.12689827862,-5427.748264744518,-5243.187095596337,-5004.197936581649,-4772.240268409518,-4472.077223107007,-4139.000623519825,-3823.2075592862593,-3472.6331265952454,-3211.978439752862,-2918.6737936345385,-2705.3549727875256,-2440.0473141222496,-2169.4213680955404,-2022.1524496195182,-1862.904791031523,-1694.48436911177,-1451.8090614724692,-1236.865662458888,-1056.7402506458277,-895.2872869164798,-782.1450590524751,-678.7455734734641,-607.3176443505629,-517.5553727109186,-476.7328947736682,-442.19478269337856,-367.3286695630111,-303.5686227026843,-235.3080903516232,-190.95626440516156,-190.13012478844792,-188.34391527791294,-160.58165965453645,-114.71136969373482,-77.40520651626933,-8.0418835071321,34.36111616622969,31.14209169815913,24.692911738725996,68.94509047934127,116.17776194854157,151.29845049400973,112.65930981663135,144.0507850114389,187.12057756011677,226.08437448291284,240.82685024535854,281.8692846529169,291.2245291255711,356.4195369016702,397.63164335859875,406.32974447041744,419.4802258642863,409.10557370284437,395.11195252409095,424.87932765495714,414.9316778604875,423.9967890418505,422.36879983815805,400.8382220938323,414.9475985845337,419.14844058292965,426.7819093611256,414.08475797284865,389.06104830194295,389.8874928361905,385.3417767128495,371.9882738030662,381.40300507923473,368.41613982387486,353.6783810567939,358.83277915552253,357.2237236489399,358.07098731967704,366.48527016347407,359.5072172328445,338.29183761291836,312.86684633506735,313.16380775290344,303.33893719267974,287.313915464623,284.9203157384163,277.36125649047665,266.3797162932822,255.96477678970595,252.74986600990115,248.12304502127512,235.71005587514543,238.5538544314459,225.52577085918597,236.54017510582406,240.9439420336871,247.90357439901499,254.7870834761777],\"type\":\"scatter\",\"xaxis\":\"x\",\"yaxis\":\"y\"},{\"line\":{\"color\":\"rgb(93, 164, 214)\",\"width\":4},\"name\":\"all\",\"x\":[0.9,0.905,0.91,0.915,0.92,0.925,0.93,0.935,0.9400000000000001,0.9450000000000001,0.95,0.9550000000000001,0.96,0.965,0.97,0.975,0.98,0.985,0.99,0.995,1.0,1.005,1.01,1.015,1.02,1.025,1.03,1.035,1.04,1.045,1.05,1.055,1.06,1.065,1.07,1.075,1.08,1.085,1.09,1.095,1.1,1.105,1.1099999999999999,1.115,1.12,1.125,1.13,1.135,1.14,1.145,1.15,1.155,1.16,1.165,1.17,1.175,1.18,1.185,1.19,1.1949999999999998,1.2,1.205,1.21,1.2149999999999999,1.22,1.225,1.23,1.2349999999999999,1.24,1.245,1.25,1.255,1.26,1.265,1.27,1.275,1.28,1.285,1.29,1.295,1.2999999999999998,1.305,1.31,1.315,1.3199999999999998,1.325,1.33,1.335,1.3399999999999999,1.345,1.35,1.355,1.3599999999999999,1.365,1.3699999999999999,1.375,1.38,1.385,1.39,1.395,1.4],\"y\":[-2328.409752707186,-2328.409752707186,-2328.409752707186,-2328.409752707186,-2328.409752707186,-2328.564171652498,-2329.555729244207,-2300.358465551387,-2255.430447261968,-2167.557194606834,-2077.3910509014286,-1973.541216682411,-1898.9388186868734,-1768.5695245934965,-1677.6423078190442,-1573.9321925168233,-1468.48658122098,-1340.32984540061,-1233.0577676382459,-1100.327960985612,-990.1381152896738,-864.6292789105431,-739.245340273689,-641.9143717516988,-546.6208844825346,-441.2311582551428,-358.4782297126583,-256.29257800218727,-223.10910866217188,-149.4425919829523,-109.28901149962712,-83.1592156844721,-56.95593104570193,-37.33891576351405,-55.70879578692336,-37.154307328600865,-17.613294962536315,-15.789946352523621,3.5802966906069855,18.138736587951684,21.50875163806562,31.936866765552566,60.33936866091197,73.37995470128357,84.58234998798115,104.87568696691196,106.91432808093896,83.660016008097,77.56576947642606,84.78540207212772,73.00016648977356,87.08597199090428,109.19794106217068,102.76338690197184,95.58499020964155,93.76765842585093,93.32168790526285,79.86815944906468,84.42863429809192,85.80689969399971,80.83334812227125,87.03013889340326,80.78382932630018,90.51956542204145,96.0954162927036,98.5697302679867,100.54811188518659,94.67850173943998,92.20027816741953,86.57089064443971,84.86262621830079,76.13815990778706,81.1650151333877,77.36610497034641,76.69939663671512,74.82978972046061,72.47019152582209,55.66765735002838,52.96903580932434,56.255867911967655,58.66671451063623,53.962305195786136,57.932438160987424,62.66834913184894,61.50547773034665,56.60336660427711,53.08743438559935,50.103418906979634,51.10854219945258,48.31762492444592,48.28372125309523,47.672489759701776,45.72579860894669,43.99927558814409,40.98705264771468,41.23708553088933,41.479322097590725,47.99869219236908,44.72749259564969,41.02822959949505,30.298106044347556],\"type\":\"scatter\",\"xaxis\":\"x2\",\"yaxis\":\"y2\"},{\"line\":{\"color\":\"rgb(255, 144, 14)\",\"width\":1},\"name\":\"home\",\"x\":[0.9,0.905,0.91,0.915,0.92,0.925,0.93,0.935,0.9400000000000001,0.9450000000000001,0.95,0.9550000000000001,0.96,0.965,0.97,0.975,0.98,0.985,0.99,0.995,1.0,1.005,1.01,1.015,1.02,1.025,1.03,1.035,1.04,1.045,1.05,1.055,1.06,1.065,1.07,1.075,1.08,1.085,1.09,1.095,1.1,1.105,1.1099999999999999,1.115,1.12,1.125,1.13,1.135,1.14,1.145,1.15,1.155,1.16,1.165,1.17,1.175,1.18,1.185,1.19,1.1949999999999998,1.2,1.205,1.21,1.2149999999999999,1.22,1.225,1.23,1.2349999999999999,1.24,1.245,1.25,1.255,1.26,1.265,1.27,1.275,1.28,1.285,1.29,1.295,1.2999999999999998,1.305,1.31,1.315,1.3199999999999998,1.325,1.33,1.335,1.3399999999999999,1.345,1.35,1.355,1.3599999999999999,1.365,1.3699999999999999,1.375,1.38,1.385,1.39,1.395,1.4],\"y\":[-1056.0269472197651,-1056.0269472197651,-1056.0269472197651,-1056.0269472197651,-1056.0269472197651,-1056.1813661650776,-1060.772841674729,-1046.4641641416697,-1036.764949472859,-1003.8160891271116,-969.6666485864178,-928.3390324169,-893.4524178141069,-814.6113929219943,-763.069230434869,-716.9583902108359,-659.5115290210294,-597.5967155220218,-529.7321290940497,-432.92728900969234,-343.4438845000549,-297.92815152848533,-231.60825110013644,-181.44404769251452,-152.65863551665782,-99.64580703178747,-51.07737760412937,9.550261364170495,15.4158549457282,36.97807834602477,52.22591419557888,53.59346360733139,56.531708351410714,92.37445930491839,101.99244251908496,101.68018277152784,100.6086252808233,106.86242040512023,118.7530157120985,123.11225586126514,122.39493728095857,118.97351156252726,140.35688192744806,137.81626444868238,135.8741728396589,137.78654759885296,134.7316321392188,118.20198031563305,96.43662865406561,86.70563891679018,81.68130452989642,80.43437988286485,86.11699439941206,80.41819497449066,70.39132591520243,64.85673463096923,59.876490703811896,47.64982493142267,46.15351937661759,39.08344882089342,34.73136677367933,33.16076269010243,29.916432396038196,34.59221282458357,29.68323611623652,26.436634425714928,26.796925017594027,24.583074678715548,18.502894781908367,15.298641380437935,15.443555322193092,16.232403194490015,20.24120963608351,17.458077958872103,14.973567103161894,16.841661568848167,16.593652620995307,12.099740869362746,9.492328595457243,13.651987710619164,18.0645579512127,19.83275013788405,24.81848679579342,25.39786056671076,24.52001787952559,23.209574329507646,24.354117060704326,24.522538083423186,24.745973848999327,21.475462226666938,21.135868467828637,20.49160553261068,18.386729595292366,19.309187137054565,21.8706493575694,20.423598394960365,22.71290531914321,27.4298906489484,21.98371130711112,24.39750734413623,19.813640942054082],\"type\":\"scatter\",\"xaxis\":\"x2\",\"yaxis\":\"y2\"},{\"line\":{\"color\":\"rgb(44, 160, 101)\",\"width\":1},\"name\":\"draw\",\"x\":[0.9,0.905,0.91,0.915,0.92,0.925,0.93,0.935,0.9400000000000001,0.9450000000000001,0.95,0.9550000000000001,0.96,0.965,0.97,0.975,0.98,0.985,0.99,0.995,1.0,1.005,1.01,1.015,1.02,1.025,1.03,1.035,1.04,1.045,1.05,1.055,1.06,1.065,1.07,1.075,1.08,1.085,1.09,1.095,1.1,1.105,1.1099999999999999,1.115,1.12,1.125,1.13,1.135,1.14,1.145,1.15,1.155,1.16,1.165,1.17,1.175,1.18,1.185,1.19,1.1949999999999998,1.2,1.205,1.21,1.2149999999999999,1.22,1.225,1.23,1.2349999999999999,1.24,1.245,1.25,1.255,1.26,1.265,1.27,1.275,1.28,1.285,1.29,1.295,1.2999999999999998,1.305,1.31,1.315,1.3199999999999998,1.325,1.33,1.335,1.3399999999999999,1.345,1.35,1.355,1.3599999999999999,1.365,1.3699999999999999,1.375,1.38,1.385,1.39,1.395,1.4],\"y\":[-341.9645597158633,-341.9645597158633,-341.9645597158633,-341.9645597158633,-341.9645597158633,-341.9645597158633,-341.8345896118177,-345.7435381493122,-333.8867109719655,-324.41134906353386,-314.1432700568196,-306.3052252641273,-290.3389154263722,-274.6672834150626,-241.80372160853943,-241.94574248672518,-220.07822384677397,-202.91393346794413,-195.55432006319668,-204.51412290425364,-213.2213596306719,-181.06913580704355,-153.09655739472342,-127.9736445986599,-95.87836901951643,-78.23781282844718,-57.88082481888547,-29.935821007471333,-6.440240559557147,25.109669556299707,41.69020186113855,44.29683855716935,59.711717823538805,34.28047288512456,14.678538163076652,2.816328958276763,14.580452582235893,4.566427602104113,6.037585332191256,4.368940966544486,8.496364942212281,7.267721890926268,3.7625339744711113,12.936565187635019,29.638850512564517,41.98521419019964,40.92391640011715,33.76375716534876,42.89909948233117,56.70781348865182,50.79334462908105,61.02732247612808,55.55296321168704,51.084180199922045,47.06333317468205,38.0573343968981,34.80202556492216,39.676228575423515,43.48250008059877,42.55557672339144,39.80085148096278,42.18703779761089,38.165689446949905,40.44166455852654,39.993301987718795,39.65206889479832,35.07251492323457,28.64584269295833,29.99381223456278,23.59207801756054,22.0674817500852,17.360348684283373,17.010978180884614,15.893401202372623,14.736110852888327,8.663773717460442,6.742660785288114,0.5803720711993643,-0.8518430413532752,0.15701988340046036,-2.2249997017733065,-5.649281387513218,-6.282988984124515,-5.909171784582446,-7.731721318339962,-8.720060423382934,-8.174893134672141,-7.8188112774437535,-7.404797535025928,-5.694984785474437,-3.757892126785058,-3.8621185910993607,-2.435699228339841,-1.4237411363365053,-2.8585006065214036,-0.031356292279481224,0.05347379149007159,1.1099069529991277,0.7434004849378892,-0.7054036934492816,0.6340740822228272],\"type\":\"scatter\",\"xaxis\":\"x2\",\"yaxis\":\"y2\"},{\"line\":{\"color\":\"rgb(255, 65, 54)\",\"width\":1},\"name\":\"away\",\"x\":[0.9,0.905,0.91,0.915,0.92,0.925,0.93,0.935,0.9400000000000001,0.9450000000000001,0.95,0.9550000000000001,0.96,0.965,0.97,0.975,0.98,0.985,0.99,0.995,1.0,1.005,1.01,1.015,1.02,1.025,1.03,1.035,1.04,1.045,1.05,1.055,1.06,1.065,1.07,1.075,1.08,1.085,1.09,1.095,1.1,1.105,1.1099999999999999,1.115,1.12,1.125,1.13,1.135,1.14,1.145,1.15,1.155,1.16,1.165,1.17,1.175,1.18,1.185,1.19,1.1949999999999998,1.2,1.205,1.21,1.2149999999999999,1.22,1.225,1.23,1.2349999999999999,1.24,1.245,1.25,1.255,1.26,1.265,1.27,1.275,1.28,1.285,1.29,1.295,1.2999999999999998,1.305,1.31,1.315,1.3199999999999998,1.325,1.33,1.335,1.3399999999999999,1.345,1.35,1.355,1.3599999999999999,1.365,1.3699999999999999,1.375,1.38,1.385,1.39,1.395,1.4],\"y\":[-930.4182457715573,-930.4182457715573,-930.4182457715573,-930.4182457715573,-930.4182457715573,-930.4182457715573,-926.9482979576607,-908.1507632604047,-884.7787868171426,-839.3297564161884,-793.5811322581912,-738.8969590013835,-715.1474854463943,-679.2908482564396,-672.7693557756357,-615.028059819262,-588.8968283531767,-539.8191964106445,-507.7713184809993,-462.8865490716662,-433.4728711589469,-385.6319915750142,-354.54053177882906,-332.4966794605242,-298.0838799463604,-263.34753839490816,-249.52002728964356,-235.90701835888646,-232.084723048343,-211.53033988527667,-203.20512755634462,-181.0495178489728,-173.19935722065154,-163.99384795355704,-172.37977646908513,-141.65081905840543,-132.8023728255956,-127.21879435974797,-121.21030435368276,-109.34246023985796,-109.38255058510526,-94.30436668790084,-83.78004724100722,-77.37287493503383,-80.93067336424227,-74.89607482214065,-68.74122045839697,-68.30572147288476,-61.76995865997064,-58.62805033331421,-59.47448266920398,-54.375730368088625,-32.47201654892844,-28.738988272440878,-21.86966888024292,-9.146410602016388,-1.3568283634711946,-7.457894057781484,-5.207385159124456,4.167874149714869,6.301129867629108,11.682338405689954,12.70170748331206,15.485688038931352,26.41887818874829,32.48102694747344,38.678671944357994,41.44958436776611,43.703571150948385,47.68017124644126,47.35158914602249,42.54540802901366,43.91282731641958,44.01462580910166,46.98971868066489,49.324354434152,49.13387811953864,42.987544409466274,44.32855025522038,42.44686031794805,42.82715626119688,39.7788364454153,39.396940349318506,43.179660349720635,44.71718116916102,42.113852698152385,36.90821045956719,33.399692101000205,33.767365885479165,32.53714748325342,30.90574491205164,31.043002818190452,29.774768241994174,26.113829587426014,21.974903896666667,20.84484342820845,18.71294298695745,19.458894590421572,22.00038080360067,17.336125948808093,9.850391020070639],\"type\":\"scatter\",\"xaxis\":\"x2\",\"yaxis\":\"y2\"},{\"line\":{\"color\":\"rgb(93, 164, 214)\",\"width\":4},\"name\":\"all\",\"x\":[0.9,0.905,0.91,0.915,0.92,0.925,0.93,0.935,0.9400000000000001,0.9450000000000001,0.95,0.9550000000000001,0.96,0.965,0.97,0.975,0.98,0.985,0.99,0.995,1.0,1.005,1.01,1.015,1.02,1.025,1.03,1.035,1.04,1.045,1.05,1.055,1.06,1.065,1.07,1.075,1.08,1.085,1.09,1.095,1.1,1.105,1.1099999999999999,1.115,1.12,1.125,1.13,1.135,1.14,1.145,1.15,1.155,1.16,1.165,1.17,1.175,1.18,1.185,1.19,1.1949999999999998,1.2,1.205,1.21,1.2149999999999999,1.22,1.225,1.23,1.2349999999999999,1.24,1.245,1.25,1.255,1.26,1.265,1.27,1.275,1.28,1.285,1.29,1.295,1.2999999999999998,1.305,1.31,1.315,1.3199999999999998,1.325,1.33,1.335,1.3399999999999999,1.345,1.35,1.355,1.3599999999999999,1.365,1.3699999999999999,1.375,1.38,1.385,1.39,1.395,1.4],\"y\":[3070.263354921,3070.263354921,3070.263354921,3068.354994471177,3219.1111752071733,3563.9756963336085,4585.575494750049,5911.698464594102,7911.484951955829,10420.443870023064,13076.720912974175,16148.397402452349,19026.02362757325,22074.322353504005,24665.211374186107,27036.802711792418,28943.43211257591,30524.772840165293,31865.932652666597,33147.85453880507,34019.152743635015,34350.30308456886,34912.66443549573,35087.21648391992,35037.56539376482,34705.81385810585,34451.485704461855,33851.38144079006,33445.740901884936,32669.378306869407,31967.459201869526,31506.111022812856,30866.971612691825,30306.03903696735,29771.444871999,29259.600979713927,28670.49856933051,27956.091728613243,27211.949634333923,26593.39906213597,26076.255177001764,25525.44248208189,24868.92796689706,24167.3453141825,23567.70252646223,22884.072382735034,22369.526939833486,21731.504649282153,21299.921842187483,20699.422396420494,20309.28464834795,19801.087195710643,19313.97823390869,18810.081005711207,18313.952619707405,17907.917943325832,17426.782545896185,16945.56687209983,16465.732419001866,16072.79137406508,15551.333628800416,15151.482338339854,14808.736593576547,14396.34596585258,13974.561636529212,13589.140449394725,13295.947207390624,12886.847703785685,12618.032295192977,12317.324475849513,12010.567197466204,11736.31736107536,11436.86233280223,11130.587668678876,10875.459963153575,10659.85816121278,10456.02560379313,10269.4596746137,10042.305508348336,9862.210270068475,9622.360861069881,9418.584809513291,9237.744379008684,9090.540963929268,8896.695388045327,8754.7719564528,8541.340838677752,8359.673151021592,8156.173176816624,7960.705551580779,7842.095054319047,7650.169935923107,7457.114738424139,7322.930429228629,7169.65925914249,7023.578212396014,6888.719230269769,6747.601173843652,6637.955452805979,6503.546980463143,6380.080935685089],\"type\":\"scatter\",\"xaxis\":\"x3\",\"yaxis\":\"y3\"},{\"line\":{\"color\":\"rgb(255, 144, 14)\",\"width\":1},\"name\":\"home\",\"x\":[0.9,0.905,0.91,0.915,0.92,0.925,0.93,0.935,0.9400000000000001,0.9450000000000001,0.95,0.9550000000000001,0.96,0.965,0.97,0.975,0.98,0.985,0.99,0.995,1.0,1.005,1.01,1.015,1.02,1.025,1.03,1.035,1.04,1.045,1.05,1.055,1.06,1.065,1.07,1.075,1.08,1.085,1.09,1.095,1.1,1.105,1.1099999999999999,1.115,1.12,1.125,1.13,1.135,1.14,1.145,1.15,1.155,1.16,1.165,1.17,1.175,1.18,1.185,1.19,1.1949999999999998,1.2,1.205,1.21,1.2149999999999999,1.22,1.225,1.23,1.2349999999999999,1.24,1.245,1.25,1.255,1.26,1.265,1.27,1.275,1.28,1.285,1.29,1.295,1.2999999999999998,1.305,1.31,1.315,1.3199999999999998,1.325,1.33,1.335,1.3399999999999999,1.345,1.35,1.355,1.3599999999999999,1.365,1.3699999999999999,1.375,1.38,1.385,1.39,1.395,1.4],\"y\":[-2252.698269620867,-2252.698269620867,-2252.698269620867,-2255.6174048148273,-2158.159353407655,-1986.1140104210501,-1456.508611644309,-638.9337577445019,527.6948861198966,1885.5097351418526,3487.7895379515144,5294.159369786277,6839.94425592444,8523.838417571193,9917.235010790639,11023.438259098348,12025.08929065619,12903.333163509391,13622.924801126212,14234.396232040172,14675.97707520238,14739.669051435245,14889.724380445876,14995.173359007978,15042.639215105177,14805.623954737683,14606.408712730457,14222.955002583147,14025.570688002132,13625.069201793782,13402.772848293414,13085.6177025186,12967.304366823182,12750.123471527706,12471.927202311681,12286.735043249117,12015.449061120284,11794.787910956951,11483.186533860318,11238.944918505606,11013.96728647102,10823.244700154923,10594.092960703147,10310.16063772027,10091.936426813158,9800.638312766274,9574.622594546738,9310.13408304896,9078.328779994712,8828.598365044912,8605.880670183336,8333.326619165084,8093.266907690321,7863.249909132088,7710.43256413835,7577.449377567442,7360.5756121749,7201.650649351873,7030.166034769793,6886.3375351304385,6696.803344150942,6561.511589075139,6391.081982011788,6225.240128353439,6062.137450428737,5907.438194745173,5771.217711247809,5629.280767826071,5531.226396090968,5391.633535336729,5246.308018372633,5145.8974750020425,5014.056565169913,4887.237477248175,4782.622757150737,4701.593091509766,4600.723237504043,4535.18268561525,4437.90505981146,4360.716032424405,4281.994513381187,4218.175838503773,4115.0211661702715,4051.8145820892505,3981.881771840176,3925.6321825747095,3826.8872911789344,3770.1828048388456,3679.663855762557,3600.3644063772535,3572.7136107406877,3496.43686308188,3407.2622818862937,3359.5456149140623,3314.252796380633,3238.77217331256,3179.5767232050734,3139.603130375192,3092.3249729653994,3041.631096312859,2983.331309891134],\"type\":\"scatter\",\"xaxis\":\"x3\",\"yaxis\":\"y3\"},{\"line\":{\"color\":\"rgb(44, 160, 101)\",\"width\":1},\"name\":\"draw\",\"x\":[0.9,0.905,0.91,0.915,0.92,0.925,0.93,0.935,0.9400000000000001,0.9450000000000001,0.95,0.9550000000000001,0.96,0.965,0.97,0.975,0.98,0.985,0.99,0.995,1.0,1.005,1.01,1.015,1.02,1.025,1.03,1.035,1.04,1.045,1.05,1.055,1.06,1.065,1.07,1.075,1.08,1.085,1.09,1.095,1.1,1.105,1.1099999999999999,1.115,1.12,1.125,1.13,1.135,1.14,1.145,1.15,1.155,1.16,1.165,1.17,1.175,1.18,1.185,1.19,1.1949999999999998,1.2,1.205,1.21,1.2149999999999999,1.22,1.225,1.23,1.2349999999999999,1.24,1.245,1.25,1.255,1.26,1.265,1.27,1.275,1.28,1.285,1.29,1.295,1.2999999999999998,1.305,1.31,1.315,1.3199999999999998,1.325,1.33,1.335,1.3399999999999999,1.345,1.35,1.355,1.3599999999999999,1.365,1.3699999999999999,1.375,1.38,1.385,1.39,1.395,1.4],\"y\":[8337.152006500868,8337.152006500868,8337.152006500868,8339.193476490582,8345.909680822388,8394.600818456393,8535.13500012927,8671.647963707468,8842.23555604181,9023.873058554662,9178.547501475436,9420.58808493559,9719.915948766293,10034.569063530327,10282.411899235884,10676.258619729198,10958.63929544384,11083.262440126695,11212.115390471967,11444.900080771682,11458.289533679941,11440.711989768088,11611.443736704701,11522.478717572887,11469.439821198559,11327.77613267015,11362.971419774482,11190.896698597197,11020.08011029144,10855.706151150256,10570.062958046314,10338.82192271233,10055.57111092718,9781.656549571,9560.202990731006,9396.147453512238,9238.867709924216,8910.662659241058,8638.579880213061,8462.549571775084,8332.39127250069,8067.605095029619,7710.5630756474375,7465.461269561368,7252.964466302254,7007.630021173662,6850.521600954209,6638.221580039206,6556.274953770974,6330.783567972662,6189.235139191987,6075.067341242142,5903.176064352553,5732.976199818655,5512.753608889719,5369.413567938201,5197.712819678269,5020.033542470407,4844.68550785602,4682.766834197397,4509.238799856583,4363.865234081622,4234.85985142122,4099.035512455617,3928.969525571805,3811.6004120592543,3697.627635832636,3548.5318832510734,3457.1521867866086,3347.14329783163,3231.8340860587705,3121.604355135399,3045.2601662017064,2940.1025927972046,2857.8566869751007,2783.2979304538694,2717.482309661758,2660.9532012767686,2589.7931604377864,2543.4158886057357,2485.347277378707,2434.4431289637773,2415.8222573086487,2390.6798905440032,2349.904921684391,2337.631513957588,2306.513545734907,2287.2495525648583,2266.9507461038193,2251.8052938018873,2216.831631591002,2189.2208823615892,2151.280029422728,2123.365437004462,2097.1964696750956,2075.233817439932,2061.081792452454,2040.7040969670818,2021.2612244167142,1990.8946069868257,1973.3362799325957],\"type\":\"scatter\",\"xaxis\":\"x3\",\"yaxis\":\"y3\"},{\"line\":{\"color\":\"rgb(255, 65, 54)\",\"width\":1},\"name\":\"away\",\"x\":[0.9,0.905,0.91,0.915,0.92,0.925,0.93,0.935,0.9400000000000001,0.9450000000000001,0.95,0.9550000000000001,0.96,0.965,0.97,0.975,0.98,0.985,0.99,0.995,1.0,1.005,1.01,1.015,1.02,1.025,1.03,1.035,1.04,1.045,1.05,1.055,1.06,1.065,1.07,1.075,1.08,1.085,1.09,1.095,1.1,1.105,1.1099999999999999,1.115,1.12,1.125,1.13,1.135,1.14,1.145,1.15,1.155,1.16,1.165,1.17,1.175,1.18,1.185,1.19,1.1949999999999998,1.2,1.205,1.21,1.2149999999999999,1.22,1.225,1.23,1.2349999999999999,1.24,1.245,1.25,1.255,1.26,1.265,1.27,1.275,1.28,1.285,1.29,1.295,1.2999999999999998,1.305,1.31,1.315,1.3199999999999998,1.325,1.33,1.335,1.3399999999999999,1.345,1.35,1.355,1.3599999999999999,1.365,1.3699999999999999,1.375,1.38,1.385,1.39,1.395,1.4],\"y\":[-3014.1903819590007,-3014.1903819590007,-3014.1903819590007,-3015.221077204576,-2968.6391522075583,-2844.5111117017373,-2493.0508937349136,-2121.015741368865,-1458.4454902058758,-488.93892367345154,410.3838735472193,1433.6499477304903,2466.16342288252,3515.9148724024817,4465.564464159593,5337.105832964877,5959.703526475873,6538.177236529222,7030.892461068428,7468.5582259932235,7884.886134752714,8169.922043365545,8411.496318345167,8569.564407339049,8525.486357461092,8572.413770698022,8482.105571956914,8437.529739609716,8400.09010359139,8188.602953925375,7994.623395529812,8081.67139758194,7844.096134941477,7774.259015868627,7739.3146789563125,7576.71848295257,7416.181798286007,7250.641158415229,7090.183220260538,6891.904571855284,6729.896618030052,6634.59268689735,6564.271930546474,6391.723406900852,6222.801633346818,6075.804048795085,5944.382744332536,5783.148986193984,5665.3181084217995,5540.040463402925,5514.168838972631,5392.693235303424,5317.535261865817,5213.854896760449,5090.766446679333,4961.054997820182,4868.494114043012,4723.882680277555,4590.880876376056,4503.687004737248,4345.291484792887,4226.105515183092,4182.794760143543,4072.070325043529,3983.4546605286682,3870.1018425903,3827.101860310182,3709.0350527085434,3629.653712315403,3578.5476426811547,3532.4250930348007,3468.8155309379213,3377.545601430611,3303.247598633497,3234.9805190277366,3174.9671392491464,3137.820056627331,3073.3237877216807,3014.60728809909,2958.0783490383355,2855.0190703099884,2765.9658420457417,2706.9009555297625,2648.046491296015,2564.90869452076,2491.5082599205034,2407.94000176391,2302.2407936178865,2209.5585749502484,2108.5358514016393,2052.5498119873573,1964.5121904796379,1898.572427115118,1840.0193773101053,1758.20999308676,1709.572221643524,1648.0607146122413,1567.2939465013765,1524.3692554238653,1471.021277163458,1423.4133458613583],\"type\":\"scatter\",\"xaxis\":\"x3\",\"yaxis\":\"y3\"}],                        {\"template\":{\"data\":{\"histogram2dcontour\":[{\"type\":\"histogram2dcontour\",\"colorbar\":{\"outlinewidth\":0,\"ticks\":\"\"},\"colorscale\":[[0.0,\"#0d0887\"],[0.1111111111111111,\"#46039f\"],[0.2222222222222222,\"#7201a8\"],[0.3333333333333333,\"#9c179e\"],[0.4444444444444444,\"#bd3786\"],[0.5555555555555556,\"#d8576b\"],[0.6666666666666666,\"#ed7953\"],[0.7777777777777778,\"#fb9f3a\"],[0.8888888888888888,\"#fdca26\"],[1.0,\"#f0f921\"]]}],\"choropleth\":[{\"type\":\"choropleth\",\"colorbar\":{\"outlinewidth\":0,\"ticks\":\"\"}}],\"histogram2d\":[{\"type\":\"histogram2d\",\"colorbar\":{\"outlinewidth\":0,\"ticks\":\"\"},\"colorscale\":[[0.0,\"#0d0887\"],[0.1111111111111111,\"#46039f\"],[0.2222222222222222,\"#7201a8\"],[0.3333333333333333,\"#9c179e\"],[0.4444444444444444,\"#bd3786\"],[0.5555555555555556,\"#d8576b\"],[0.6666666666666666,\"#ed7953\"],[0.7777777777777778,\"#fb9f3a\"],[0.8888888888888888,\"#fdca26\"],[1.0,\"#f0f921\"]]}],\"heatmap\":[{\"type\":\"heatmap\",\"colorbar\":{\"outlinewidth\":0,\"ticks\":\"\"},\"colorscale\":[[0.0,\"#0d0887\"],[0.1111111111111111,\"#46039f\"],[0.2222222222222222,\"#7201a8\"],[0.3333333333333333,\"#9c179e\"],[0.4444444444444444,\"#bd3786\"],[0.5555555555555556,\"#d8576b\"],[0.6666666666666666,\"#ed7953\"],[0.7777777777777778,\"#fb9f3a\"],[0.8888888888888888,\"#fdca26\"],[1.0,\"#f0f921\"]]}],\"heatmapgl\":[{\"type\":\"heatmapgl\",\"colorbar\":{\"outlinewidth\":0,\"ticks\":\"\"},\"colorscale\":[[0.0,\"#0d0887\"],[0.1111111111111111,\"#46039f\"],[0.2222222222222222,\"#7201a8\"],[0.3333333333333333,\"#9c179e\"],[0.4444444444444444,\"#bd3786\"],[0.5555555555555556,\"#d8576b\"],[0.6666666666666666,\"#ed7953\"],[0.7777777777777778,\"#fb9f3a\"],[0.8888888888888888,\"#fdca26\"],[1.0,\"#f0f921\"]]}],\"contourcarpet\":[{\"type\":\"contourcarpet\",\"colorbar\":{\"outlinewidth\":0,\"ticks\":\"\"}}],\"contour\":[{\"type\":\"contour\",\"colorbar\":{\"outlinewidth\":0,\"ticks\":\"\"},\"colorscale\":[[0.0,\"#0d0887\"],[0.1111111111111111,\"#46039f\"],[0.2222222222222222,\"#7201a8\"],[0.3333333333333333,\"#9c179e\"],[0.4444444444444444,\"#bd3786\"],[0.5555555555555556,\"#d8576b\"],[0.6666666666666666,\"#ed7953\"],[0.7777777777777778,\"#fb9f3a\"],[0.8888888888888888,\"#fdca26\"],[1.0,\"#f0f921\"]]}],\"surface\":[{\"type\":\"surface\",\"colorbar\":{\"outlinewidth\":0,\"ticks\":\"\"},\"colorscale\":[[0.0,\"#0d0887\"],[0.1111111111111111,\"#46039f\"],[0.2222222222222222,\"#7201a8\"],[0.3333333333333333,\"#9c179e\"],[0.4444444444444444,\"#bd3786\"],[0.5555555555555556,\"#d8576b\"],[0.6666666666666666,\"#ed7953\"],[0.7777777777777778,\"#fb9f3a\"],[0.8888888888888888,\"#fdca26\"],[1.0,\"#f0f921\"]]}],\"mesh3d\":[{\"type\":\"mesh3d\",\"colorbar\":{\"outlinewidth\":0,\"ticks\":\"\"}}],\"scatter\":[{\"fillpattern\":{\"fillmode\":\"overlay\",\"size\":10,\"solidity\":0.2},\"type\":\"scatter\"}],\"parcoords\":[{\"type\":\"parcoords\",\"line\":{\"colorbar\":{\"outlinewidth\":0,\"ticks\":\"\"}}}],\"scatterpolargl\":[{\"type\":\"scatterpolargl\",\"marker\":{\"colorbar\":{\"outlinewidth\":0,\"ticks\":\"\"}}}],\"bar\":[{\"error_x\":{\"color\":\"#2a3f5f\"},\"error_y\":{\"color\":\"#2a3f5f\"},\"marker\":{\"line\":{\"color\":\"#E5ECF6\",\"width\":0.5},\"pattern\":{\"fillmode\":\"overlay\",\"size\":10,\"solidity\":0.2}},\"type\":\"bar\"}],\"scattergeo\":[{\"type\":\"scattergeo\",\"marker\":{\"colorbar\":{\"outlinewidth\":0,\"ticks\":\"\"}}}],\"scatterpolar\":[{\"type\":\"scatterpolar\",\"marker\":{\"colorbar\":{\"outlinewidth\":0,\"ticks\":\"\"}}}],\"histogram\":[{\"marker\":{\"pattern\":{\"fillmode\":\"overlay\",\"size\":10,\"solidity\":0.2}},\"type\":\"histogram\"}],\"scattergl\":[{\"type\":\"scattergl\",\"marker\":{\"colorbar\":{\"outlinewidth\":0,\"ticks\":\"\"}}}],\"scatter3d\":[{\"type\":\"scatter3d\",\"line\":{\"colorbar\":{\"outlinewidth\":0,\"ticks\":\"\"}},\"marker\":{\"colorbar\":{\"outlinewidth\":0,\"ticks\":\"\"}}}],\"scattermapbox\":[{\"type\":\"scattermapbox\",\"marker\":{\"colorbar\":{\"outlinewidth\":0,\"ticks\":\"\"}}}],\"scatterternary\":[{\"type\":\"scatterternary\",\"marker\":{\"colorbar\":{\"outlinewidth\":0,\"ticks\":\"\"}}}],\"scattercarpet\":[{\"type\":\"scattercarpet\",\"marker\":{\"colorbar\":{\"outlinewidth\":0,\"ticks\":\"\"}}}],\"carpet\":[{\"aaxis\":{\"endlinecolor\":\"#2a3f5f\",\"gridcolor\":\"white\",\"linecolor\":\"white\",\"minorgridcolor\":\"white\",\"startlinecolor\":\"#2a3f5f\"},\"baxis\":{\"endlinecolor\":\"#2a3f5f\",\"gridcolor\":\"white\",\"linecolor\":\"white\",\"minorgridcolor\":\"white\",\"startlinecolor\":\"#2a3f5f\"},\"type\":\"carpet\"}],\"table\":[{\"cells\":{\"fill\":{\"color\":\"#EBF0F8\"},\"line\":{\"color\":\"white\"}},\"header\":{\"fill\":{\"color\":\"#C8D4E3\"},\"line\":{\"color\":\"white\"}},\"type\":\"table\"}],\"barpolar\":[{\"marker\":{\"line\":{\"color\":\"#E5ECF6\",\"width\":0.5},\"pattern\":{\"fillmode\":\"overlay\",\"size\":10,\"solidity\":0.2}},\"type\":\"barpolar\"}],\"pie\":[{\"automargin\":true,\"type\":\"pie\"}]},\"layout\":{\"autotypenumbers\":\"strict\",\"colorway\":[\"#636efa\",\"#EF553B\",\"#00cc96\",\"#ab63fa\",\"#FFA15A\",\"#19d3f3\",\"#FF6692\",\"#B6E880\",\"#FF97FF\",\"#FECB52\"],\"font\":{\"color\":\"#2a3f5f\"},\"hovermode\":\"closest\",\"hoverlabel\":{\"align\":\"left\"},\"paper_bgcolor\":\"white\",\"plot_bgcolor\":\"#E5ECF6\",\"polar\":{\"bgcolor\":\"#E5ECF6\",\"angularaxis\":{\"gridcolor\":\"white\",\"linecolor\":\"white\",\"ticks\":\"\"},\"radialaxis\":{\"gridcolor\":\"white\",\"linecolor\":\"white\",\"ticks\":\"\"}},\"ternary\":{\"bgcolor\":\"#E5ECF6\",\"aaxis\":{\"gridcolor\":\"white\",\"linecolor\":\"white\",\"ticks\":\"\"},\"baxis\":{\"gridcolor\":\"white\",\"linecolor\":\"white\",\"ticks\":\"\"},\"caxis\":{\"gridcolor\":\"white\",\"linecolor\":\"white\",\"ticks\":\"\"}},\"coloraxis\":{\"colorbar\":{\"outlinewidth\":0,\"ticks\":\"\"}},\"colorscale\":{\"sequential\":[[0.0,\"#0d0887\"],[0.1111111111111111,\"#46039f\"],[0.2222222222222222,\"#7201a8\"],[0.3333333333333333,\"#9c179e\"],[0.4444444444444444,\"#bd3786\"],[0.5555555555555556,\"#d8576b\"],[0.6666666666666666,\"#ed7953\"],[0.7777777777777778,\"#fb9f3a\"],[0.8888888888888888,\"#fdca26\"],[1.0,\"#f0f921\"]],\"sequentialminus\":[[0.0,\"#0d0887\"],[0.1111111111111111,\"#46039f\"],[0.2222222222222222,\"#7201a8\"],[0.3333333333333333,\"#9c179e\"],[0.4444444444444444,\"#bd3786\"],[0.5555555555555556,\"#d8576b\"],[0.6666666666666666,\"#ed7953\"],[0.7777777777777778,\"#fb9f3a\"],[0.8888888888888888,\"#fdca26\"],[1.0,\"#f0f921\"]],\"diverging\":[[0,\"#8e0152\"],[0.1,\"#c51b7d\"],[0.2,\"#de77ae\"],[0.3,\"#f1b6da\"],[0.4,\"#fde0ef\"],[0.5,\"#f7f7f7\"],[0.6,\"#e6f5d0\"],[0.7,\"#b8e186\"],[0.8,\"#7fbc41\"],[0.9,\"#4d9221\"],[1,\"#276419\"]]},\"xaxis\":{\"gridcolor\":\"white\",\"linecolor\":\"white\",\"ticks\":\"\",\"title\":{\"standoff\":15},\"zerolinecolor\":\"white\",\"automargin\":true,\"zerolinewidth\":2},\"yaxis\":{\"gridcolor\":\"white\",\"linecolor\":\"white\",\"ticks\":\"\",\"title\":{\"standoff\":15},\"zerolinecolor\":\"white\",\"automargin\":true,\"zerolinewidth\":2},\"scene\":{\"xaxis\":{\"backgroundcolor\":\"#E5ECF6\",\"gridcolor\":\"white\",\"linecolor\":\"white\",\"showbackground\":true,\"ticks\":\"\",\"zerolinecolor\":\"white\",\"gridwidth\":2},\"yaxis\":{\"backgroundcolor\":\"#E5ECF6\",\"gridcolor\":\"white\",\"linecolor\":\"white\",\"showbackground\":true,\"ticks\":\"\",\"zerolinecolor\":\"white\",\"gridwidth\":2},\"zaxis\":{\"backgroundcolor\":\"#E5ECF6\",\"gridcolor\":\"white\",\"linecolor\":\"white\",\"showbackground\":true,\"ticks\":\"\",\"zerolinecolor\":\"white\",\"gridwidth\":2}},\"shapedefaults\":{\"line\":{\"color\":\"#2a3f5f\"}},\"annotationdefaults\":{\"arrowcolor\":\"#2a3f5f\",\"arrowhead\":0,\"arrowwidth\":1},\"geo\":{\"bgcolor\":\"white\",\"landcolor\":\"#E5ECF6\",\"subunitcolor\":\"white\",\"showland\":true,\"showlakes\":true,\"lakecolor\":\"white\"},\"title\":{\"x\":0.05},\"mapbox\":{\"style\":\"light\"}}},\"xaxis\":{\"anchor\":\"y\",\"domain\":[0.0,1.0],\"matches\":\"x3\",\"showticklabels\":false},\"yaxis\":{\"anchor\":\"x\",\"domain\":[0.68,1.0],\"rangemode\":\"nonnegative\"},\"xaxis2\":{\"anchor\":\"y2\",\"domain\":[0.0,1.0],\"matches\":\"x3\",\"showticklabels\":false},\"yaxis2\":{\"anchor\":\"x2\",\"domain\":[0.34,0.66],\"rangemode\":\"nonnegative\"},\"xaxis3\":{\"anchor\":\"y3\",\"domain\":[0.0,1.0]},\"yaxis3\":{\"anchor\":\"x3\",\"domain\":[0.0,0.32],\"rangemode\":\"nonnegative\"},\"annotations\":[{\"font\":{\"size\":16},\"showarrow\":false,\"text\":\"holdout\",\"x\":0.5,\"xanchor\":\"center\",\"xref\":\"paper\",\"y\":1.0,\"yanchor\":\"bottom\",\"yref\":\"paper\"},{\"font\":{\"size\":16},\"showarrow\":false,\"text\":\"test\",\"x\":0.5,\"xanchor\":\"center\",\"xref\":\"paper\",\"y\":0.66,\"yanchor\":\"bottom\",\"yref\":\"paper\"},{\"font\":{\"size\":16},\"showarrow\":false,\"text\":\"train\",\"x\":0.5,\"xanchor\":\"center\",\"xref\":\"paper\",\"y\":0.32,\"yanchor\":\"bottom\",\"yref\":\"paper\"}],\"title\":{\"text\":\"profit validation\"},\"height\":800,\"width\":900},                        {\"responsive\": true}                    ).then(function(){\n",
              "                            \n",
              "var gd = document.getElementById('aaf71c1c-6413-4693-aea2-c7679e2ceff3');\n",
              "var x = new MutationObserver(function (mutations, observer) {{\n",
              "        var display = window.getComputedStyle(gd).display;\n",
              "        if (!display || display === 'none') {{\n",
              "            console.log([gd, 'removed!']);\n",
              "            Plotly.purge(gd);\n",
              "            observer.disconnect();\n",
              "        }}\n",
              "}});\n",
              "\n",
              "// Listen for the removal of the full notebook cells\n",
              "var notebookContainer = gd.closest('#notebook-container');\n",
              "if (notebookContainer) {{\n",
              "    x.observe(notebookContainer, {childList: true});\n",
              "}}\n",
              "\n",
              "// Listen for the clearing of the current output cell\n",
              "var outputEl = gd.closest('.output');\n",
              "if (outputEl) {{\n",
              "    x.observe(outputEl, {childList: true});\n",
              "}}\n",
              "\n",
              "                        })                };                            </script>        </div>\n",
              "</body>\n",
              "</html>"
            ]
          },
          "metadata": {}
        }
      ]
    },
    {
      "cell_type": "code",
      "source": [
        "fig = profit_validation_by_type(active_rows_dict, preds_dict, line_dict, y_dict)\n",
        "fig.show()"
      ],
      "metadata": {
        "colab": {
          "base_uri": "https://localhost:8080/",
          "height": 817
        },
        "id": "M740xM31Z6ao",
        "outputId": "e35bfdf0-ffe6-47da-8bb6-ecda372ecfad"
      },
      "execution_count": null,
      "outputs": [
        {
          "output_type": "display_data",
          "data": {
            "text/html": [
              "<html>\n",
              "<head><meta charset=\"utf-8\" /></head>\n",
              "<body>\n",
              "    <div>            <script src=\"https://cdnjs.cloudflare.com/ajax/libs/mathjax/2.7.5/MathJax.js?config=TeX-AMS-MML_SVG\"></script><script type=\"text/javascript\">if (window.MathJax && window.MathJax.Hub && window.MathJax.Hub.Config) {window.MathJax.Hub.Config({SVG: {font: \"STIX-Web\"}});}</script>                <script type=\"text/javascript\">window.PlotlyConfig = {MathJaxConfig: 'local'};</script>\n",
              "        <script src=\"https://cdn.plot.ly/plotly-2.18.2.min.js\"></script>                <div id=\"856547a8-5a06-4d74-a74b-3440a4e4feee\" class=\"plotly-graph-div\" style=\"height:800px; width:900px;\"></div>            <script type=\"text/javascript\">                                    window.PLOTLYENV=window.PLOTLYENV || {};                                    if (document.getElementById(\"856547a8-5a06-4d74-a74b-3440a4e4feee\")) {                    Plotly.newPlot(                        \"856547a8-5a06-4d74-a74b-3440a4e4feee\",                        [{\"line\":{\"color\":\"rgb(93, 164, 214)\",\"width\":4},\"name\":\"all\",\"x\":[0.9,0.905,0.91,0.915,0.92,0.925,0.93,0.935,0.9400000000000001,0.9450000000000001,0.95,0.9550000000000001,0.96,0.965,0.97,0.975,0.98,0.985,0.99,0.995,1.0,1.005,1.01,1.015,1.02,1.025,1.03,1.035,1.04,1.045,1.05,1.055,1.06,1.065,1.07,1.075,1.08,1.085,1.09,1.095,1.1,1.105,1.1099999999999999,1.115,1.12,1.125,1.13,1.135,1.14,1.145,1.15,1.155,1.16,1.165,1.17,1.175,1.18,1.185,1.19,1.1949999999999998,1.2,1.205,1.21,1.2149999999999999,1.22,1.225,1.23,1.2349999999999999,1.24,1.245,1.25,1.255,1.26,1.265,1.27,1.275,1.28,1.285,1.29,1.295,1.2999999999999998,1.305,1.31,1.315,1.3199999999999998,1.325,1.33,1.335,1.3399999999999999,1.345,1.35,1.355,1.3599999999999999,1.365,1.3699999999999999,1.375,1.38,1.385,1.39,1.395,1.4],\"y\":[-15650.322433549572,-15650.322433549572,-15650.322433549572,-15648.705983305306,-15639.005755099328,-15520.652024059711,-15196.82784378173,-14737.140325784636,-14009.734128864638,-13191.4750407098,-12256.81633364561,-11304.4425852984,-10263.110636870862,-9130.7350779054,-8141.366871521893,-7211.5688148250665,-6392.619918239059,-5711.181945453543,-4919.79484668959,-4236.080332617036,-3651.4189170327063,-3159.6779893885564,-2611.765369757165,-2092.059725221394,-1675.8710176012219,-1338.422619655793,-965.0412184903877,-723.3655130310724,-372.20279099167703,-186.56861463651646,3.2956353600619366,257.7389366243086,496.0935314159098,628.739505256743,724.0556207674967,773.5687674270524,799.7000389906813,854.6078127268298,886.3409575617397,1012.1944141846831,1066.222727602454,1085.9022926496975,1189.9753327308104,1306.7428216983838,1421.479494043722,1437.1734165720516,1479.1602589649367,1489.0578867880072,1434.8387450876708,1441.6589844222717,1418.6964226813768,1468.2978800658543,1453.38710063024,1452.366241888946,1446.7067688687468,1486.6296280006525,1489.3858993697909,1468.7998343601662,1439.3249373345966,1412.683699061992,1410.7877854195838,1357.3453761878523,1359.0681504919207,1360.765659502774,1327.3495404515772,1332.6198414083246,1267.1510717774145,1246.107038567803,1207.368379446656,1195.7636590586726,1153.498683264038,1160.474065415571,1192.0191978527334,1173.9882885969307,1180.260006944142,1185.2433286152234,1163.2620301553902,1176.139847183026,1174.3077582319618,1165.0797351430326,1154.375840626893,1131.7374291135693,1131.4534787267269,1124.2959969936244,1098.659589198424,1104.5712453072238,1074.4053778412958,1030.6872870348664,1030.7484650483295,1008.009298321824,984.6974153358091,990.0112216810458,974.7800601714157,953.3810318155979,944.5732019415176,922.1568507603853,916.8005533463617,910.5689822931733,889.2613650386276,869.4812079330869,858.6296927894002],\"type\":\"scatter\",\"xaxis\":\"x\",\"yaxis\":\"y\"},{\"line\":{\"color\":\"rgb(255, 144, 14)\",\"width\":1},\"name\":\"home\",\"x\":[0.9,0.905,0.91,0.915,0.92,0.925,0.93,0.935,0.9400000000000001,0.9450000000000001,0.95,0.9550000000000001,0.96,0.965,0.97,0.975,0.98,0.985,0.99,0.995,1.0,1.005,1.01,1.015,1.02,1.025,1.03,1.035,1.04,1.045,1.05,1.055,1.06,1.065,1.07,1.075,1.08,1.085,1.09,1.095,1.1,1.105,1.1099999999999999,1.115,1.12,1.125,1.13,1.135,1.14,1.145,1.15,1.155,1.16,1.165,1.17,1.175,1.18,1.185,1.19,1.1949999999999998,1.2,1.205,1.21,1.2149999999999999,1.22,1.225,1.23,1.2349999999999999,1.24,1.245,1.25,1.255,1.26,1.265,1.27,1.275,1.28,1.285,1.29,1.295,1.2999999999999998,1.305,1.31,1.315,1.3199999999999998,1.325,1.33,1.335,1.3399999999999999,1.345,1.35,1.355,1.3599999999999999,1.365,1.3699999999999999,1.375,1.38,1.385,1.39,1.395,1.4],\"y\":[-7939.642100476525,-7939.642100476525,-7939.642100476525,-7939.372086062252,-7930.400279396732,-7858.150555926823,-7643.627358717789,-7350.460207698397,-6917.491844335637,-6407.410968406221,-5758.591463996209,-5120.5638373424335,-4443.638624532327,-3697.7736505950093,-3164.4456254917145,-2699.72799018185,-2329.95947543889,-2017.918255847299,-1684.455247496148,-1331.5829172855163,-990.6922188722572,-742.5473868872518,-537.7108941002525,-376.63157540103407,-201.78815253085017,-59.61402333350969,47.548202217640494,204.90149200688018,353.17431067107475,409.77964346033536,443.0467130432097,560.2180737267297,628.2490851799041,653.2235954220998,668.1133066108424,643.9004540768716,666.6374492726092,697.4102023184258,689.1663371717007,722.5996701481905,784.6224466634474,822.0856458701705,884.7758832169409,910.8728418448833,938.4434071741405,923.5910840709587,942.3770313369175,959.7165020095156,941.9291409075436,916.9968909925423,919.0576691691092,941.5965545515676,916.9294463716365,900.8338946116867,876.2366096490543,862.1926539456024,852.615180169867,825.1374235384933,796.7809530874379,768.216415797973,753.111211495642,722.1930459365767,704.1610446088362,700.4900423853369,687.8202159757884,674.042690806225,657.1730333450188,637.8538132606994,599.9525888602036,582.0790723940686,546.135221290223,532.7052976491469,556.7649943900055,558.6425423717149,548.4296902965559,533.86015340712,523.6758476985958,517.9106806625321,512.6974136287894,499.2673831479171,490.26598384713895,480.9694954082013,478.5606965849579,476.32597690967873,470.59649028628866,463.8298261544596,453.22132821055106,423.7085219589603,417.5087025389153,412.9014292259311,399.8169310261728,395.2097698029342,381.49414505699275,368.7272193174516,372.88984342776905,355.6098921284985,348.8023819992227,336.4622888411213,312.7153687422136,314.48846913187225,299.2185181590569],\"type\":\"scatter\",\"xaxis\":\"x\",\"yaxis\":\"y\"},{\"line\":{\"color\":\"rgb(44, 160, 101)\",\"width\":1},\"name\":\"draw\",\"x\":[0.9,0.905,0.91,0.915,0.92,0.925,0.93,0.935,0.9400000000000001,0.9450000000000001,0.95,0.9550000000000001,0.96,0.965,0.97,0.975,0.98,0.985,0.99,0.995,1.0,1.005,1.01,1.015,1.02,1.025,1.03,1.035,1.04,1.045,1.05,1.055,1.06,1.065,1.07,1.075,1.08,1.085,1.09,1.095,1.1,1.105,1.1099999999999999,1.115,1.12,1.125,1.13,1.135,1.14,1.145,1.15,1.155,1.16,1.165,1.17,1.175,1.18,1.185,1.19,1.1949999999999998,1.2,1.205,1.21,1.2149999999999999,1.22,1.225,1.23,1.2349999999999999,1.24,1.245,1.25,1.255,1.26,1.265,1.27,1.275,1.28,1.285,1.29,1.295,1.2999999999999998,1.305,1.31,1.315,1.3199999999999998,1.325,1.33,1.335,1.3399999999999999,1.345,1.35,1.355,1.3599999999999999,1.365,1.3699999999999999,1.375,1.38,1.385,1.39,1.395,1.4],\"y\":[-2481.8023584605457,-2481.8023584605457,-2481.8023584605457,-2481.4736946674425,-2487.6160987486483,-2470.7244068118976,-2451.428404234887,-2453.010169537668,-2402.771468416398,-2342.3546407137487,-2260.7317666153353,-2198.5666267499414,-2129.000194290237,-2057.7445770195986,-1984.5898330169123,-1871.9442494839186,-1793.1806407209756,-1718.969056256074,-1582.488011613302,-1561.9701985820861,-1519.9697535135526,-1491.7604439318613,-1378.3178281219405,-1273.1895386124588,-1147.630792275398,-1103.9886998768743,-1018.1894969757271,-1054.184893835325,-943.9193033034772,-928.5361428175077,-845.2169222942366,-780.7885008129676,-719.9653462717854,-680.3103894868354,-670.6746882472486,-601.9464042814885,-581.2735551663537,-556.3637709578078,-550.9477320789781,-455.29868961546515,-460.3247029424899,-468.8984197497509,-444.14133308182386,-387.24863590815715,-324.1768650788355,-272.97627546478736,-216.89568822432943,-206.33449145486128,-234.54387238464864,-174.6728695470647,-194.21085514643627,-164.85327223314818,-132.7083809492524,-119.56165067051447,-116.00553512011761,-96.07158875891399,-66.42992129183114,-79.67000751023875,-89.0550917935968,-87.22645852569943,-77.11444437735541,-67.11073782640106,-47.68818228359232,-35.40499593747322,-29.638188920454702,-20.8572252913307,-17.446185126313765,-23.291204263078935,-20.13211806513415,-11.026871155698913,-9.793788498653726,-1.8469624644410843,8.158178388060193,11.700640061525192,20.646536699022114,31.71832541884094,37.198741739566216,43.19845489125389,51.00037359886629,58.95393962896185,63.46021839839705,66.44744608890375,71.18716343373433,66.87762014112889,61.380374937253535,64.94643963702464,60.898954091652435,55.55003695087118,55.65076629330805,50.69404174521949,50.30737873279975,56.16858016726395,56.759634016908535,53.142220004966305,45.93140733707769,45.96187137096421,46.830072449556596,49.793237552649735,51.016091736752685,48.238890217754985,49.254780543155434],\"type\":\"scatter\",\"xaxis\":\"x\",\"yaxis\":\"y\"},{\"line\":{\"color\":\"rgb(255, 65, 54)\",\"width\":1},\"name\":\"away\",\"x\":[0.9,0.905,0.91,0.915,0.92,0.925,0.93,0.935,0.9400000000000001,0.9450000000000001,0.95,0.9550000000000001,0.96,0.965,0.97,0.975,0.98,0.985,0.99,0.995,1.0,1.005,1.01,1.015,1.02,1.025,1.03,1.035,1.04,1.045,1.05,1.055,1.06,1.065,1.07,1.075,1.08,1.085,1.09,1.095,1.1,1.105,1.1099999999999999,1.115,1.12,1.125,1.13,1.135,1.14,1.145,1.15,1.155,1.16,1.165,1.17,1.175,1.18,1.185,1.19,1.1949999999999998,1.2,1.205,1.21,1.2149999999999999,1.22,1.225,1.23,1.2349999999999999,1.24,1.245,1.25,1.255,1.26,1.265,1.27,1.275,1.28,1.285,1.29,1.295,1.2999999999999998,1.305,1.31,1.315,1.3199999999999998,1.325,1.33,1.335,1.3399999999999999,1.345,1.35,1.355,1.3599999999999999,1.365,1.3699999999999999,1.375,1.38,1.385,1.39,1.395,1.4],\"y\":[-5228.877974612505,-5228.877974612505,-5228.877974612505,-5227.860202575624,-5220.989376953943,-5191.777061320991,-5101.772080829051,-4933.669948548576,-4689.470816112602,-4441.709431589832,-4237.493103034067,-3985.3121212060223,-3690.471818048296,-3375.2168502907907,-2992.331413013263,-2639.896575159294,-2269.4798020791927,-1974.2946333501702,-1652.8515875801374,-1342.5272167494327,-1140.7569446468976,-925.370158569443,-695.7366475349725,-442.23861120790065,-326.4520727949743,-174.81989644540923,5.6000762676999045,125.91788879737247,218.5422016407251,332.1878847206554,405.4658446110891,478.30936371054696,587.8097925077914,655.8262993214785,726.6170024039035,731.6147176316692,714.3361448844261,713.5613813662123,748.1223524690173,744.8934336519577,741.9249838814962,732.7150665292778,749.3407825956937,783.1186157616576,807.2129519484168,786.55860796588,753.6789158523488,735.6758762333532,727.453476564776,699.3349629767943,693.8496086587045,691.5545977474345,669.1660352078554,671.0939979477736,686.4756943398099,720.5085628139645,703.2006404917546,723.3324183319118,731.5990760407557,731.6937417897183,734.7910183012971,702.2630680776766,702.5952881666772,695.6806130549103,669.1675133962435,679.4343758934303,627.4242235587092,631.5444295701826,627.5479086515868,624.711457820303,617.1572504724687,629.6157302308652,627.0960250746675,603.6451061636908,611.1837799485638,619.6648497892627,602.3874407172284,615.0307116292397,610.6099710043061,606.8584123661537,600.6496383813571,584.3204876164642,581.7056187080346,581.0923999428169,566.6827239748818,575.7949795157397,560.2850955390924,551.4287281250349,557.588996216106,544.4138273506735,534.5731055768365,538.6328717108477,536.5262810975145,531.5115924931798,525.7519511766709,520.5850872609226,521.1680988975824,524.3134558994025,525.5299045596613,506.75384858345956,510.1563940871879],\"type\":\"scatter\",\"xaxis\":\"x\",\"yaxis\":\"y\"},{\"line\":{\"color\":\"rgb(93, 164, 214)\",\"width\":4},\"name\":\"all\",\"x\":[0.9,0.905,0.91,0.915,0.92,0.925,0.93,0.935,0.9400000000000001,0.9450000000000001,0.95,0.9550000000000001,0.96,0.965,0.97,0.975,0.98,0.985,0.99,0.995,1.0,1.005,1.01,1.015,1.02,1.025,1.03,1.035,1.04,1.045,1.05,1.055,1.06,1.065,1.07,1.075,1.08,1.085,1.09,1.095,1.1,1.105,1.1099999999999999,1.115,1.12,1.125,1.13,1.135,1.14,1.145,1.15,1.155,1.16,1.165,1.17,1.175,1.18,1.185,1.19,1.1949999999999998,1.2,1.205,1.21,1.2149999999999999,1.22,1.225,1.23,1.2349999999999999,1.24,1.245,1.25,1.255,1.26,1.265,1.27,1.275,1.28,1.285,1.29,1.295,1.2999999999999998,1.305,1.31,1.315,1.3199999999999998,1.325,1.33,1.335,1.3399999999999999,1.345,1.35,1.355,1.3599999999999999,1.365,1.3699999999999999,1.375,1.38,1.385,1.39,1.395,1.4],\"y\":[-49337.29235836207,-49337.29235836207,-49337.29235836207,-49334.79660273945,-49262.898122195715,-48882.65881009014,-48101.38572482699,-46563.930508449725,-44589.496958282514,-41772.91392588445,-38699.99043853068,-35643.99559742919,-32659.576961747895,-29459.948417487565,-26013.94086736787,-22790.715908655533,-20111.466886464757,-17282.48339931341,-14614.385709375903,-12691.846248477712,-11173.838718175804,-9519.20423540332,-8074.487354973365,-6797.9001723280235,-5736.388548733925,-4671.740025067516,-3497.4659805169567,-2610.663395440998,-1856.7431340777684,-826.5623747611977,-146.5656010812517,640.9013287922803,1366.9818286687068,1849.4552538419725,2210.8039979398545,2503.2736477778285,3009.2135626355985,3407.9223884686826,3658.6318089075344,3774.774523428022,3721.616831417669,3990.647761474605,4048.110418182069,4110.478012355503,4155.164381445895,4131.51374895493,4239.960926762277,4260.483154673176,4316.887720445496,4411.412711706026,4559.375620363218,4550.008278777997,4556.438035697912,4562.922195255928,4553.3957146932535,4507.086237976684,4450.730042301994,4460.567791314006,4413.066662921853,4295.178684188635,4217.194809307614,4239.703888847014,4140.322632520942,4018.5557967975315,3934.3125437993426,3906.200357949598,3823.5852560015865,3731.5904754140533,3663.44619174394,3655.8499193593475,3570.2596227357435,3512.089681254566,3448.1173114949515,3346.8258911469834,3292.8832840370383,3254.578873510056,3219.786113625585,3151.3171918947482,3064.0357699223146,2989.4068342534647,2868.515378109957,2814.9713817568872,2794.3461136117703,2728.7064572794134,2654.7775962896167,2603.8516372659574,2535.9156377202908,2460.937168685218,2388.9482755383674,2314.075741579455,2236.845782918343,2164.33325382266,2130.2772534870214,2107.0314056878706,2053.940302728831,2023.2082451407166,1995.2857409316655,1978.512137929255,1964.8841404708182,1922.6328452992077,1884.6788416248512],\"type\":\"scatter\",\"xaxis\":\"x2\",\"yaxis\":\"y2\"},{\"line\":{\"color\":\"rgb(255, 144, 14)\",\"width\":1},\"name\":\"home\",\"x\":[0.9,0.905,0.91,0.915,0.92,0.925,0.93,0.935,0.9400000000000001,0.9450000000000001,0.95,0.9550000000000001,0.96,0.965,0.97,0.975,0.98,0.985,0.99,0.995,1.0,1.005,1.01,1.015,1.02,1.025,1.03,1.035,1.04,1.045,1.05,1.055,1.06,1.065,1.07,1.075,1.08,1.085,1.09,1.095,1.1,1.105,1.1099999999999999,1.115,1.12,1.125,1.13,1.135,1.14,1.145,1.15,1.155,1.16,1.165,1.17,1.175,1.18,1.185,1.19,1.1949999999999998,1.2,1.205,1.21,1.2149999999999999,1.22,1.225,1.23,1.2349999999999999,1.24,1.245,1.25,1.255,1.26,1.265,1.27,1.275,1.28,1.285,1.29,1.295,1.2999999999999998,1.305,1.31,1.315,1.3199999999999998,1.325,1.33,1.335,1.3399999999999999,1.345,1.35,1.355,1.3599999999999999,1.365,1.3699999999999999,1.375,1.38,1.385,1.39,1.395,1.4],\"y\":[-17669.452836913842,-17669.452836913842,-17669.452836913842,-17669.293817259728,-17619.877735422622,-17383.04529727542,-16970.42126138669,-16159.423182004484,-15119.26673733111,-13758.848805367144,-12099.09440223394,-10465.646068463024,-8806.624642123557,-7130.028296632673,-5360.607411248123,-3752.678479816133,-2427.4456627008917,-1175.3828889486444,-69.81237143249425,771.5501809926699,1368.7339020455786,2020.1523340725862,2509.2082842377317,2781.280947572003,3097.1028084208037,3446.493169008856,3755.759847284069,3995.4590799477883,4081.457104688523,4308.3167252364265,4350.9321560939425,4463.5688700016735,4540.112714329974,4516.190136765687,4508.140722232914,4514.991895184546,4514.549117293318,4542.070293868179,4531.6192901196955,4454.169018805504,4304.750729963266,4342.952090718034,4339.622906656804,4319.709387100627,4237.020472124434,4168.365608248926,4067.637163467536,3999.0151167109084,3974.7278642615715,3928.0823610257266,3896.9663567231005,3836.8046406635226,3751.645997691931,3693.05272926234,3615.6004767135255,3503.643833086613,3437.470061101966,3373.0031008369237,3315.271126061421,3229.8543134056054,3122.0918504833935,3086.657199289361,3020.149306599356,2968.540989037937,2890.1666662392163,2842.291455548679,2800.5930583985655,2724.577284413163,2642.719105894616,2623.2773964372554,2583.940058323567,2546.4078030508113,2520.633887802333,2451.817403075285,2433.951582959659,2409.7456883833647,2413.053539908014,2382.263870976815,2327.261165787474,2292.305949780838,2240.6619253682416,2209.290135821768,2179.4834538896494,2144.8835250272755,2128.1653074411215,2095.6708218901604,2045.4153003368522,2006.4246282976221,1950.895274409921,1895.2012394845924,1849.232424953418,1793.8142347150133,1753.6393882381883,1743.458205527267,1692.113624570263,1657.3158989671433,1632.6454220360365,1611.1945828435817,1585.746679714478,1540.7548272676074,1499.1528067860754],\"type\":\"scatter\",\"xaxis\":\"x2\",\"yaxis\":\"y2\"},{\"line\":{\"color\":\"rgb(44, 160, 101)\",\"width\":1},\"name\":\"draw\",\"x\":[0.9,0.905,0.91,0.915,0.92,0.925,0.93,0.935,0.9400000000000001,0.9450000000000001,0.95,0.9550000000000001,0.96,0.965,0.97,0.975,0.98,0.985,0.99,0.995,1.0,1.005,1.01,1.015,1.02,1.025,1.03,1.035,1.04,1.045,1.05,1.055,1.06,1.065,1.07,1.075,1.08,1.085,1.09,1.095,1.1,1.105,1.1099999999999999,1.115,1.12,1.125,1.13,1.135,1.14,1.145,1.15,1.155,1.16,1.165,1.17,1.175,1.18,1.185,1.19,1.1949999999999998,1.2,1.205,1.21,1.2149999999999999,1.22,1.225,1.23,1.2349999999999999,1.24,1.245,1.25,1.255,1.26,1.265,1.27,1.275,1.28,1.285,1.29,1.295,1.2999999999999998,1.305,1.31,1.315,1.3199999999999998,1.325,1.33,1.335,1.3399999999999999,1.345,1.35,1.355,1.3599999999999999,1.365,1.3699999999999999,1.375,1.38,1.385,1.39,1.395,1.4],\"y\":[-13218.425313918005,-13218.425313918005,-13218.425313918005,-13217.629484789308,-13218.356545195336,-13191.013349693825,-13129.055955176354,-12934.70057730101,-12560.790638224542,-12077.713028515613,-11599.491665484376,-11104.554677120663,-10749.712760918124,-10362.826004563856,-9752.121817866524,-9126.40702987225,-8648.199211645373,-8082.6861722421445,-7513.993185516578,-7197.200401067563,-6864.311188174538,-6511.552861168119,-6005.320366944864,-5535.106827994314,-5134.399893407344,-4722.12660730598,-4291.823498138477,-3950.6355198344527,-3679.2151234941402,-3262.717969973852,-2911.401636381755,-2495.836230340174,-2085.7374587174586,-1754.2660207620802,-1499.916282671236,-1361.1439753368873,-1022.1439944305375,-865.2936520813498,-785.9630750976079,-693.4723429834415,-612.4759190532785,-551.7682583298788,-502.12628766292517,-478.08778020122145,-404.2533849380885,-422.5143088490411,-309.12978135654595,-280.2231496432815,-218.54162124654178,-120.14390182158684,-19.618559195378964,51.891743478960294,130.25099973462602,150.88954232240658,188.64246101257316,220.87619582908673,219.49746085677327,298.33058600533275,332.56105441502405,339.2126320923152,323.63024868481193,370.60163233200956,361.82656329612297,354.69847448983603,361.11160599117795,379.1418247859295,371.31130212030314,345.36779310795276,332.4618275015295,304.3969478579995,298.23622598673114,263.0388009178467,247.56970503643447,228.67106949350662,219.8570645982636,208.18907705453955,167.82203666734128,159.15759909721442,151.12856092120222,123.22860315054677,94.30786191586583,80.861382694758,69.86048372782628,54.192843715250504,40.89066879057895,29.728951205206325,25.04450277615632,16.74281128018582,3.9694806588801868,-9.329318165552806,-30.534743449603276,-35.4557697190979,-35.30472159740406,-46.29973418879683,-48.878323135735215,-45.29309112324232,-40.88410258196529,-40.498379922678346,-35.48905886004053,-31.277091629585172,-32.43352865312211],\"type\":\"scatter\",\"xaxis\":\"x2\",\"yaxis\":\"y2\"},{\"line\":{\"color\":\"rgb(255, 65, 54)\",\"width\":1},\"name\":\"away\",\"x\":[0.9,0.905,0.91,0.915,0.92,0.925,0.93,0.935,0.9400000000000001,0.9450000000000001,0.95,0.9550000000000001,0.96,0.965,0.97,0.975,0.98,0.985,0.99,0.995,1.0,1.005,1.01,1.015,1.02,1.025,1.03,1.035,1.04,1.045,1.05,1.055,1.06,1.065,1.07,1.075,1.08,1.085,1.09,1.095,1.1,1.105,1.1099999999999999,1.115,1.12,1.125,1.13,1.135,1.14,1.145,1.15,1.155,1.16,1.165,1.17,1.175,1.18,1.185,1.19,1.1949999999999998,1.2,1.205,1.21,1.2149999999999999,1.22,1.225,1.23,1.2349999999999999,1.24,1.245,1.25,1.255,1.26,1.265,1.27,1.275,1.28,1.285,1.29,1.295,1.2999999999999998,1.305,1.31,1.315,1.3199999999999998,1.325,1.33,1.335,1.3399999999999999,1.345,1.35,1.355,1.3599999999999999,1.365,1.3699999999999999,1.375,1.38,1.385,1.39,1.395,1.4],\"y\":[-18449.414207530222,-18449.414207530222,-18449.414207530222,-18447.873300690415,-18424.663841577763,-18308.60016312088,-18001.90850826395,-17469.806749144234,-16909.43958272688,-15936.352092001716,-15001.404370812335,-14073.794851845427,-13103.239558706213,-11967.094116291035,-10901.211638253242,-9911.630398967129,-9035.822012118493,-8024.414338122602,-7030.58015242684,-6266.196028402823,-5678.261432046845,-5027.803708307788,-4578.375272266237,-4044.0742919057175,-3699.091463747381,-3396.1065867703956,-2961.4023296625483,-2655.4869555543305,-2258.9851152721517,-1872.161130023772,-1586.0961207934397,-1326.8313108692196,-1087.393426943809,-912.4688621616336,-797.4204416218258,-650.5742720698323,-483.19156022717925,-268.85425331814736,-87.02440611455224,14.077847605959917,29.342020507680253,199.46392908644927,210.61379918819276,268.8564054560996,322.3972942595474,385.6624495550448,481.45354465128656,541.6911876055465,560.7014774304658,603.474252501887,682.0278228354941,661.3118946355141,674.5410382713552,718.9799236711832,749.1527769671536,782.5662090609824,793.7625203432547,789.2341044717494,765.2344824454092,726.1117386907143,771.4727101394092,782.4450572256455,758.3467626254628,695.3163332697588,683.0342715689479,684.7670776149896,651.6808954827186,661.6453978929364,688.2652583477944,728.175575064093,688.0833384254449,702.6430772859075,679.9137186561843,666.3374185781925,639.074636479116,636.6441080721518,638.9105370502286,609.895721820719,585.646043213639,573.8722813220793,533.5455908258496,524.8198632403604,545.0021759942939,529.6300885368872,485.7216200579163,478.45186417058983,465.455834607283,437.7697291074099,434.08352046956605,428.2038202604152,418.1481014145282,405.97478882674477,411.942586846237,409.87293434940034,410.7050012943031,411.1854372968154,403.52442147759444,407.81593500835226,414.6265196163806,413.1551096611855,417.95956349189765],\"type\":\"scatter\",\"xaxis\":\"x2\",\"yaxis\":\"y2\"},{\"line\":{\"color\":\"rgb(93, 164, 214)\",\"width\":4},\"name\":\"all\",\"x\":[0.9,0.905,0.91,0.915,0.92,0.925,0.93,0.935,0.9400000000000001,0.9450000000000001,0.95,0.9550000000000001,0.96,0.965,0.97,0.975,0.98,0.985,0.99,0.995,1.0,1.005,1.01,1.015,1.02,1.025,1.03,1.035,1.04,1.045,1.05,1.055,1.06,1.065,1.07,1.075,1.08,1.085,1.09,1.095,1.1,1.105,1.1099999999999999,1.115,1.12,1.125,1.13,1.135,1.14,1.145,1.15,1.155,1.16,1.165,1.17,1.175,1.18,1.185,1.19,1.1949999999999998,1.2,1.205,1.21,1.2149999999999999,1.22,1.225,1.23,1.2349999999999999,1.24,1.245,1.25,1.255,1.26,1.265,1.27,1.275,1.28,1.285,1.29,1.295,1.2999999999999998,1.305,1.31,1.315,1.3199999999999998,1.325,1.33,1.335,1.3399999999999999,1.345,1.35,1.355,1.3599999999999999,1.365,1.3699999999999999,1.375,1.38,1.385,1.39,1.395,1.4],\"y\":[-812.0995704905172,-812.0995704905172,-812.0995704905172,-812.0995704905172,-812.0995704905172,-811.8760626374028,-807.9640382636308,-779.6529810229912,-751.5215134801268,-728.7784579006927,-644.6832566271947,-591.3517361628996,-507.4716866474972,-425.2294061851746,-354.78831179795986,-272.5954638806388,-188.77180401187124,-98.39036364468042,-43.11358723573127,51.232743715395884,117.91540067146434,174.86616682745301,236.87290030190826,259.8108925088782,271.1898951100134,304.3976441988357,310.73010972552123,333.9875943510312,326.6911065643772,374.5741329853141,405.0480598869416,423.1303401407624,440.06732174063427,482.5774649748565,468.08853663175546,480.73485963481573,481.8079778562553,504.2092103817678,525.5196841442398,522.3837012590811,514.7877636868177,535.0611277027472,526.33399535789,492.7153395379496,481.0309577533768,486.6638922815664,488.20157850100094,478.9551270562354,477.5638084281636,473.43587242059294,462.9634754760186,462.14044883501106,447.7528910244432,438.08010961045176,417.8828935859463,404.0962023593811,393.9850145960453,370.5838870307672,350.4721925915921,338.9707131036133,330.2866426678395,322.96808696818186,317.5324577864528,317.7770690927491,306.43275136211076,304.72724533966914,301.93413230208034,288.90656910437076,283.8585366929513,277.5518719091968,268.0270537166339,267.1730283319631,265.9681626870709,255.83605027353755,250.14883862178556,244.73080536854866,240.51056901116618,231.6424778509085,225.0905269143248,216.66355270454153,212.0058859037863,209.22762876819513,207.44588422562862,206.3841260979759,198.06607197350638,204.14048127845885,197.93143271293377,196.1019631515465,199.83410270106512,197.28535924280058,195.5312095636997,197.0004327022884,197.11884119609215,194.12617687117614,192.43160966987745,191.6039399514633,186.48227198767353,188.10068467126862,184.9598335600105,179.38528765105667,174.50982105745214],\"type\":\"scatter\",\"xaxis\":\"x3\",\"yaxis\":\"y3\"},{\"line\":{\"color\":\"rgb(255, 144, 14)\",\"width\":1},\"name\":\"home\",\"x\":[0.9,0.905,0.91,0.915,0.92,0.925,0.93,0.935,0.9400000000000001,0.9450000000000001,0.95,0.9550000000000001,0.96,0.965,0.97,0.975,0.98,0.985,0.99,0.995,1.0,1.005,1.01,1.015,1.02,1.025,1.03,1.035,1.04,1.045,1.05,1.055,1.06,1.065,1.07,1.075,1.08,1.085,1.09,1.095,1.1,1.105,1.1099999999999999,1.115,1.12,1.125,1.13,1.135,1.14,1.145,1.15,1.155,1.16,1.165,1.17,1.175,1.18,1.185,1.19,1.1949999999999998,1.2,1.205,1.21,1.2149999999999999,1.22,1.225,1.23,1.2349999999999999,1.24,1.245,1.25,1.255,1.26,1.265,1.27,1.275,1.28,1.285,1.29,1.295,1.2999999999999998,1.305,1.31,1.315,1.3199999999999998,1.325,1.33,1.335,1.3399999999999999,1.345,1.35,1.355,1.3599999999999999,1.365,1.3699999999999999,1.375,1.38,1.385,1.39,1.395,1.4],\"y\":[-507.1443588005154,-507.1443588005154,-507.1443588005154,-507.1443588005154,-507.1443588005154,-507.3750716911404,-506.93016612865745,-488.4890808846861,-473.6255835870164,-433.35729534180433,-376.1590443369738,-310.7527948429309,-248.18143338354997,-183.32551002894192,-122.67953694580302,-57.09806910239227,-3.2849474054120833,42.374914352205415,97.36789911365302,116.67096535915046,121.25646580586894,124.86520867634299,145.12294900707417,148.61619404773694,157.49302361796612,173.5902555315736,172.82094509452207,200.12768842573018,196.4961665918605,214.53559797699074,227.6324535121551,238.70441797304227,243.51029165711896,244.03942850357276,226.65756520600308,220.3285084079867,214.68239210470347,217.24536149784782,220.96653115465878,208.85245443648813,196.21233028746377,205.6326439271861,206.08955271824368,187.85178825423026,180.82512560169388,172.62701110220354,165.9608128342659,156.77145608359004,157.1910187922478,160.20987746211875,158.91970782618856,162.9724775483303,157.38039243810042,163.79676578758404,152.16221329675193,154.81713547202338,151.86049276768648,147.8132410273417,144.45332806477938,138.4638011796777,135.21935927058098,129.99123980477833,124.4163248977701,125.7527640150953,121.30455366663904,121.03812092803155,115.10063054375195,112.14615106561472,114.190345911875,111.79327681325962,104.5973586929907,105.18906461844142,113.97119351143253,109.89166345607742,107.51697771372423,101.26569583236426,95.95344505076453,94.77283703557616,92.63377701475312,89.28398615626465,84.96024700398132,81.83737651352988,80.42615073448427,78.1222591145395,75.44257790976518,76.62101580272272,75.1135840302859,74.25223244376245,76.63474441170328,75.85687120666317,75.8358039322958,77.71032558851215,78.17545092239605,74.84035909982036,74.13944014387744,76.36269899047824,73.87290067760233,74.88737523394519,75.42814277560764,70.79357250043284,68.9908066077105],\"type\":\"scatter\",\"xaxis\":\"x3\",\"yaxis\":\"y3\"},{\"line\":{\"color\":\"rgb(44, 160, 101)\",\"width\":1},\"name\":\"draw\",\"x\":[0.9,0.905,0.91,0.915,0.92,0.925,0.93,0.935,0.9400000000000001,0.9450000000000001,0.95,0.9550000000000001,0.96,0.965,0.97,0.975,0.98,0.985,0.99,0.995,1.0,1.005,1.01,1.015,1.02,1.025,1.03,1.035,1.04,1.045,1.05,1.055,1.06,1.065,1.07,1.075,1.08,1.085,1.09,1.095,1.1,1.105,1.1099999999999999,1.115,1.12,1.125,1.13,1.135,1.14,1.145,1.15,1.155,1.16,1.165,1.17,1.175,1.18,1.185,1.19,1.1949999999999998,1.2,1.205,1.21,1.2149999999999999,1.22,1.225,1.23,1.2349999999999999,1.24,1.245,1.25,1.255,1.26,1.265,1.27,1.275,1.28,1.285,1.29,1.295,1.2999999999999998,1.305,1.31,1.315,1.3199999999999998,1.325,1.33,1.335,1.3399999999999999,1.345,1.35,1.355,1.3599999999999999,1.365,1.3699999999999999,1.375,1.38,1.385,1.39,1.395,1.4],\"y\":[138.71991363526706,138.71991363526706,138.71991363526706,138.71991363526706,138.71991363526706,139.28833115635007,139.23827820530116,131.9348008331061,123.41251677372584,82.92475280994437,72.19341351998372,54.622764891637274,46.9613217372962,31.312477536789032,21.66044647336264,8.62221630676899,12.949542900289472,14.19857280219346,-0.2473753123178568,38.27040718363825,67.09541191548718,91.02666208260189,101.64084372079498,105.11192913999191,98.44023977559257,102.61922647897839,109.92234184571134,110.8814098963505,119.3594378711828,152.55077067499872,167.12879964956826,177.02692449048794,190.87017723840728,226.66458739491588,240.7817541685341,268.12334192971036,267.3672874754444,282.95098467165417,288.0482448648944,291.1499834204625,295.34342871563126,292.4012178612072,287.04754627632576,272.80921275850017,273.9179966857016,271.60938475110464,269.9824243919214,264.83468212845713,254.38482522875782,253.79177926241397,235.84043269179335,223.53627955073017,212.72351306300857,198.4470699343566,184.9189698570375,166.49109705646381,152.7811027519009,139.963462561961,129.31277406720875,122.468778860062,119.66011958158566,116.86653592170164,114.84292387622168,108.95462770345718,102.08459130114457,97.99593559293524,100.49537646765154,92.77904768518795,83.00493285256167,82.5130344080221,77.66896464274659,75.82049404363757,71.05159076336753,69.45473444834086,67.69030140556869,68.3847624708049,69.9741095377577,66.82309158688729,66.71847436249546,63.399879728883704,61.69540030404265,59.8915649669382,62.078775009273016,61.497145837051036,57.25898419300784,58.00965513931068,55.840403480171865,56.19880887327532,57.39710187676582,56.34035720675874,56.33040544196741,56.97873113245747,53.467099575542406,52.04597589503091,52.40545842541093,48.37642401716122,45.8268120343286,45.60148805623998,44.17746357549652,42.57867784578301,41.06265969690476],\"type\":\"scatter\",\"xaxis\":\"x3\",\"yaxis\":\"y3\"},{\"line\":{\"color\":\"rgb(255, 65, 54)\",\"width\":1},\"name\":\"away\",\"x\":[0.9,0.905,0.91,0.915,0.92,0.925,0.93,0.935,0.9400000000000001,0.9450000000000001,0.95,0.9550000000000001,0.96,0.965,0.97,0.975,0.98,0.985,0.99,0.995,1.0,1.005,1.01,1.015,1.02,1.025,1.03,1.035,1.04,1.045,1.05,1.055,1.06,1.065,1.07,1.075,1.08,1.085,1.09,1.095,1.1,1.105,1.1099999999999999,1.115,1.12,1.125,1.13,1.135,1.14,1.145,1.15,1.155,1.16,1.165,1.17,1.175,1.18,1.185,1.19,1.1949999999999998,1.2,1.205,1.21,1.2149999999999999,1.22,1.225,1.23,1.2349999999999999,1.24,1.245,1.25,1.255,1.26,1.265,1.27,1.275,1.28,1.285,1.29,1.295,1.2999999999999998,1.305,1.31,1.315,1.3199999999999998,1.325,1.33,1.335,1.3399999999999999,1.345,1.35,1.355,1.3599999999999999,1.365,1.3699999999999999,1.375,1.38,1.385,1.39,1.395,1.4],\"y\":[-443.67512532526877,-443.67512532526877,-443.67512532526877,-443.67512532526877,-443.67512532526877,-443.7893221026126,-440.2721503402745,-423.0987009714113,-401.30844666683606,-378.3459153688327,-340.7176258102045,-335.221706211606,-306.2515750012434,-273.21637369302175,-253.76922132551954,-224.11961108501558,-198.4363995067485,-154.96385079907913,-140.23411103706653,-103.70862882739287,-70.43647704989169,-41.025703931491876,-9.890892425960857,6.082769321149499,15.25663171645482,28.188162188283762,27.9868227852877,22.978496028950474,10.835502101333809,7.4877643333247335,10.286806725218213,7.398997677232259,5.686852845108149,11.873449076367962,0.6492172572182255,-7.716990702881333,-0.24170172389270306,4.012864212265875,16.504908124686704,22.38126340213061,23.232004683722764,37.027265914353855,33.19689636332063,32.05433852521918,26.287835465981217,42.42749642825821,52.25834127481366,57.34898884418823,65.9879644071579,59.434215696060285,68.20333495803663,75.63169173595057,77.64898552333422,75.83627388851104,80.80171043215694,82.78796983089393,89.34341907645795,82.80718344146453,76.70609045960398,78.03813306387364,75.40716381567283,76.11031124170191,78.27320901246105,83.06967737419662,83.04360639432713,85.69318881870228,86.33812529067686,83.98137035356808,86.66325792851467,83.2455606879151,85.76073038089658,86.16346966988408,80.94537841227081,76.48965236911928,74.94155950249265,75.0803470653795,74.583014422644,70.04654922844506,65.73827553707619,63.97968681939315,65.35023859576235,67.49868728772705,64.9409584818713,66.76472114638536,65.3645098707334,69.50981033642546,66.97744520247602,65.65092183450871,65.80225641259604,65.08813082937867,63.365000189436486,62.311375981318804,65.47629069815365,67.23984187632485,65.88671110058907,66.86481694382385,66.78255927574261,67.6118213810834,65.3542272089064,66.01303730484082,64.45635475283686],\"type\":\"scatter\",\"xaxis\":\"x3\",\"yaxis\":\"y3\"}],                        {\"template\":{\"data\":{\"histogram2dcontour\":[{\"type\":\"histogram2dcontour\",\"colorbar\":{\"outlinewidth\":0,\"ticks\":\"\"},\"colorscale\":[[0.0,\"#0d0887\"],[0.1111111111111111,\"#46039f\"],[0.2222222222222222,\"#7201a8\"],[0.3333333333333333,\"#9c179e\"],[0.4444444444444444,\"#bd3786\"],[0.5555555555555556,\"#d8576b\"],[0.6666666666666666,\"#ed7953\"],[0.7777777777777778,\"#fb9f3a\"],[0.8888888888888888,\"#fdca26\"],[1.0,\"#f0f921\"]]}],\"choropleth\":[{\"type\":\"choropleth\",\"colorbar\":{\"outlinewidth\":0,\"ticks\":\"\"}}],\"histogram2d\":[{\"type\":\"histogram2d\",\"colorbar\":{\"outlinewidth\":0,\"ticks\":\"\"},\"colorscale\":[[0.0,\"#0d0887\"],[0.1111111111111111,\"#46039f\"],[0.2222222222222222,\"#7201a8\"],[0.3333333333333333,\"#9c179e\"],[0.4444444444444444,\"#bd3786\"],[0.5555555555555556,\"#d8576b\"],[0.6666666666666666,\"#ed7953\"],[0.7777777777777778,\"#fb9f3a\"],[0.8888888888888888,\"#fdca26\"],[1.0,\"#f0f921\"]]}],\"heatmap\":[{\"type\":\"heatmap\",\"colorbar\":{\"outlinewidth\":0,\"ticks\":\"\"},\"colorscale\":[[0.0,\"#0d0887\"],[0.1111111111111111,\"#46039f\"],[0.2222222222222222,\"#7201a8\"],[0.3333333333333333,\"#9c179e\"],[0.4444444444444444,\"#bd3786\"],[0.5555555555555556,\"#d8576b\"],[0.6666666666666666,\"#ed7953\"],[0.7777777777777778,\"#fb9f3a\"],[0.8888888888888888,\"#fdca26\"],[1.0,\"#f0f921\"]]}],\"heatmapgl\":[{\"type\":\"heatmapgl\",\"colorbar\":{\"outlinewidth\":0,\"ticks\":\"\"},\"colorscale\":[[0.0,\"#0d0887\"],[0.1111111111111111,\"#46039f\"],[0.2222222222222222,\"#7201a8\"],[0.3333333333333333,\"#9c179e\"],[0.4444444444444444,\"#bd3786\"],[0.5555555555555556,\"#d8576b\"],[0.6666666666666666,\"#ed7953\"],[0.7777777777777778,\"#fb9f3a\"],[0.8888888888888888,\"#fdca26\"],[1.0,\"#f0f921\"]]}],\"contourcarpet\":[{\"type\":\"contourcarpet\",\"colorbar\":{\"outlinewidth\":0,\"ticks\":\"\"}}],\"contour\":[{\"type\":\"contour\",\"colorbar\":{\"outlinewidth\":0,\"ticks\":\"\"},\"colorscale\":[[0.0,\"#0d0887\"],[0.1111111111111111,\"#46039f\"],[0.2222222222222222,\"#7201a8\"],[0.3333333333333333,\"#9c179e\"],[0.4444444444444444,\"#bd3786\"],[0.5555555555555556,\"#d8576b\"],[0.6666666666666666,\"#ed7953\"],[0.7777777777777778,\"#fb9f3a\"],[0.8888888888888888,\"#fdca26\"],[1.0,\"#f0f921\"]]}],\"surface\":[{\"type\":\"surface\",\"colorbar\":{\"outlinewidth\":0,\"ticks\":\"\"},\"colorscale\":[[0.0,\"#0d0887\"],[0.1111111111111111,\"#46039f\"],[0.2222222222222222,\"#7201a8\"],[0.3333333333333333,\"#9c179e\"],[0.4444444444444444,\"#bd3786\"],[0.5555555555555556,\"#d8576b\"],[0.6666666666666666,\"#ed7953\"],[0.7777777777777778,\"#fb9f3a\"],[0.8888888888888888,\"#fdca26\"],[1.0,\"#f0f921\"]]}],\"mesh3d\":[{\"type\":\"mesh3d\",\"colorbar\":{\"outlinewidth\":0,\"ticks\":\"\"}}],\"scatter\":[{\"fillpattern\":{\"fillmode\":\"overlay\",\"size\":10,\"solidity\":0.2},\"type\":\"scatter\"}],\"parcoords\":[{\"type\":\"parcoords\",\"line\":{\"colorbar\":{\"outlinewidth\":0,\"ticks\":\"\"}}}],\"scatterpolargl\":[{\"type\":\"scatterpolargl\",\"marker\":{\"colorbar\":{\"outlinewidth\":0,\"ticks\":\"\"}}}],\"bar\":[{\"error_x\":{\"color\":\"#2a3f5f\"},\"error_y\":{\"color\":\"#2a3f5f\"},\"marker\":{\"line\":{\"color\":\"#E5ECF6\",\"width\":0.5},\"pattern\":{\"fillmode\":\"overlay\",\"size\":10,\"solidity\":0.2}},\"type\":\"bar\"}],\"scattergeo\":[{\"type\":\"scattergeo\",\"marker\":{\"colorbar\":{\"outlinewidth\":0,\"ticks\":\"\"}}}],\"scatterpolar\":[{\"type\":\"scatterpolar\",\"marker\":{\"colorbar\":{\"outlinewidth\":0,\"ticks\":\"\"}}}],\"histogram\":[{\"marker\":{\"pattern\":{\"fillmode\":\"overlay\",\"size\":10,\"solidity\":0.2}},\"type\":\"histogram\"}],\"scattergl\":[{\"type\":\"scattergl\",\"marker\":{\"colorbar\":{\"outlinewidth\":0,\"ticks\":\"\"}}}],\"scatter3d\":[{\"type\":\"scatter3d\",\"line\":{\"colorbar\":{\"outlinewidth\":0,\"ticks\":\"\"}},\"marker\":{\"colorbar\":{\"outlinewidth\":0,\"ticks\":\"\"}}}],\"scattermapbox\":[{\"type\":\"scattermapbox\",\"marker\":{\"colorbar\":{\"outlinewidth\":0,\"ticks\":\"\"}}}],\"scatterternary\":[{\"type\":\"scatterternary\",\"marker\":{\"colorbar\":{\"outlinewidth\":0,\"ticks\":\"\"}}}],\"scattercarpet\":[{\"type\":\"scattercarpet\",\"marker\":{\"colorbar\":{\"outlinewidth\":0,\"ticks\":\"\"}}}],\"carpet\":[{\"aaxis\":{\"endlinecolor\":\"#2a3f5f\",\"gridcolor\":\"white\",\"linecolor\":\"white\",\"minorgridcolor\":\"white\",\"startlinecolor\":\"#2a3f5f\"},\"baxis\":{\"endlinecolor\":\"#2a3f5f\",\"gridcolor\":\"white\",\"linecolor\":\"white\",\"minorgridcolor\":\"white\",\"startlinecolor\":\"#2a3f5f\"},\"type\":\"carpet\"}],\"table\":[{\"cells\":{\"fill\":{\"color\":\"#EBF0F8\"},\"line\":{\"color\":\"white\"}},\"header\":{\"fill\":{\"color\":\"#C8D4E3\"},\"line\":{\"color\":\"white\"}},\"type\":\"table\"}],\"barpolar\":[{\"marker\":{\"line\":{\"color\":\"#E5ECF6\",\"width\":0.5},\"pattern\":{\"fillmode\":\"overlay\",\"size\":10,\"solidity\":0.2}},\"type\":\"barpolar\"}],\"pie\":[{\"automargin\":true,\"type\":\"pie\"}]},\"layout\":{\"autotypenumbers\":\"strict\",\"colorway\":[\"#636efa\",\"#EF553B\",\"#00cc96\",\"#ab63fa\",\"#FFA15A\",\"#19d3f3\",\"#FF6692\",\"#B6E880\",\"#FF97FF\",\"#FECB52\"],\"font\":{\"color\":\"#2a3f5f\"},\"hovermode\":\"closest\",\"hoverlabel\":{\"align\":\"left\"},\"paper_bgcolor\":\"white\",\"plot_bgcolor\":\"#E5ECF6\",\"polar\":{\"bgcolor\":\"#E5ECF6\",\"angularaxis\":{\"gridcolor\":\"white\",\"linecolor\":\"white\",\"ticks\":\"\"},\"radialaxis\":{\"gridcolor\":\"white\",\"linecolor\":\"white\",\"ticks\":\"\"}},\"ternary\":{\"bgcolor\":\"#E5ECF6\",\"aaxis\":{\"gridcolor\":\"white\",\"linecolor\":\"white\",\"ticks\":\"\"},\"baxis\":{\"gridcolor\":\"white\",\"linecolor\":\"white\",\"ticks\":\"\"},\"caxis\":{\"gridcolor\":\"white\",\"linecolor\":\"white\",\"ticks\":\"\"}},\"coloraxis\":{\"colorbar\":{\"outlinewidth\":0,\"ticks\":\"\"}},\"colorscale\":{\"sequential\":[[0.0,\"#0d0887\"],[0.1111111111111111,\"#46039f\"],[0.2222222222222222,\"#7201a8\"],[0.3333333333333333,\"#9c179e\"],[0.4444444444444444,\"#bd3786\"],[0.5555555555555556,\"#d8576b\"],[0.6666666666666666,\"#ed7953\"],[0.7777777777777778,\"#fb9f3a\"],[0.8888888888888888,\"#fdca26\"],[1.0,\"#f0f921\"]],\"sequentialminus\":[[0.0,\"#0d0887\"],[0.1111111111111111,\"#46039f\"],[0.2222222222222222,\"#7201a8\"],[0.3333333333333333,\"#9c179e\"],[0.4444444444444444,\"#bd3786\"],[0.5555555555555556,\"#d8576b\"],[0.6666666666666666,\"#ed7953\"],[0.7777777777777778,\"#fb9f3a\"],[0.8888888888888888,\"#fdca26\"],[1.0,\"#f0f921\"]],\"diverging\":[[0,\"#8e0152\"],[0.1,\"#c51b7d\"],[0.2,\"#de77ae\"],[0.3,\"#f1b6da\"],[0.4,\"#fde0ef\"],[0.5,\"#f7f7f7\"],[0.6,\"#e6f5d0\"],[0.7,\"#b8e186\"],[0.8,\"#7fbc41\"],[0.9,\"#4d9221\"],[1,\"#276419\"]]},\"xaxis\":{\"gridcolor\":\"white\",\"linecolor\":\"white\",\"ticks\":\"\",\"title\":{\"standoff\":15},\"zerolinecolor\":\"white\",\"automargin\":true,\"zerolinewidth\":2},\"yaxis\":{\"gridcolor\":\"white\",\"linecolor\":\"white\",\"ticks\":\"\",\"title\":{\"standoff\":15},\"zerolinecolor\":\"white\",\"automargin\":true,\"zerolinewidth\":2},\"scene\":{\"xaxis\":{\"backgroundcolor\":\"#E5ECF6\",\"gridcolor\":\"white\",\"linecolor\":\"white\",\"showbackground\":true,\"ticks\":\"\",\"zerolinecolor\":\"white\",\"gridwidth\":2},\"yaxis\":{\"backgroundcolor\":\"#E5ECF6\",\"gridcolor\":\"white\",\"linecolor\":\"white\",\"showbackground\":true,\"ticks\":\"\",\"zerolinecolor\":\"white\",\"gridwidth\":2},\"zaxis\":{\"backgroundcolor\":\"#E5ECF6\",\"gridcolor\":\"white\",\"linecolor\":\"white\",\"showbackground\":true,\"ticks\":\"\",\"zerolinecolor\":\"white\",\"gridwidth\":2}},\"shapedefaults\":{\"line\":{\"color\":\"#2a3f5f\"}},\"annotationdefaults\":{\"arrowcolor\":\"#2a3f5f\",\"arrowhead\":0,\"arrowwidth\":1},\"geo\":{\"bgcolor\":\"white\",\"landcolor\":\"#E5ECF6\",\"subunitcolor\":\"white\",\"showland\":true,\"showlakes\":true,\"lakecolor\":\"white\"},\"title\":{\"x\":0.05},\"mapbox\":{\"style\":\"light\"}}},\"xaxis\":{\"anchor\":\"y\",\"domain\":[0.0,1.0],\"matches\":\"x3\",\"showticklabels\":false},\"yaxis\":{\"anchor\":\"x\",\"domain\":[0.68,1.0],\"rangemode\":\"nonnegative\"},\"xaxis2\":{\"anchor\":\"y2\",\"domain\":[0.0,1.0],\"matches\":\"x3\",\"showticklabels\":false},\"yaxis2\":{\"anchor\":\"x2\",\"domain\":[0.34,0.66],\"rangemode\":\"nonnegative\"},\"xaxis3\":{\"anchor\":\"y3\",\"domain\":[0.0,1.0]},\"yaxis3\":{\"anchor\":\"x3\",\"domain\":[0.0,0.32],\"rangemode\":\"nonnegative\"},\"annotations\":[{\"font\":{\"size\":16},\"showarrow\":false,\"text\":\"holdout\",\"x\":0.5,\"xanchor\":\"center\",\"xref\":\"paper\",\"y\":1.0,\"yanchor\":\"bottom\",\"yref\":\"paper\"},{\"font\":{\"size\":16},\"showarrow\":false,\"text\":\"test\",\"x\":0.5,\"xanchor\":\"center\",\"xref\":\"paper\",\"y\":0.66,\"yanchor\":\"bottom\",\"yref\":\"paper\"},{\"font\":{\"size\":16},\"showarrow\":false,\"text\":\"train\",\"x\":0.5,\"xanchor\":\"center\",\"xref\":\"paper\",\"y\":0.32,\"yanchor\":\"bottom\",\"yref\":\"paper\"}],\"title\":{\"text\":\"profit validation\"},\"height\":800,\"width\":900},                        {\"responsive\": true}                    ).then(function(){\n",
              "                            \n",
              "var gd = document.getElementById('856547a8-5a06-4d74-a74b-3440a4e4feee');\n",
              "var x = new MutationObserver(function (mutations, observer) {{\n",
              "        var display = window.getComputedStyle(gd).display;\n",
              "        if (!display || display === 'none') {{\n",
              "            console.log([gd, 'removed!']);\n",
              "            Plotly.purge(gd);\n",
              "            observer.disconnect();\n",
              "        }}\n",
              "}});\n",
              "\n",
              "// Listen for the removal of the full notebook cells\n",
              "var notebookContainer = gd.closest('#notebook-container');\n",
              "if (notebookContainer) {{\n",
              "    x.observe(notebookContainer, {childList: true});\n",
              "}}\n",
              "\n",
              "// Listen for the clearing of the current output cell\n",
              "var outputEl = gd.closest('.output');\n",
              "if (outputEl) {{\n",
              "    x.observe(outputEl, {childList: true});\n",
              "}}\n",
              "\n",
              "                        })                };                            </script>        </div>\n",
              "</body>\n",
              "</html>"
            ]
          },
          "metadata": {}
        }
      ]
    },
    {
      "cell_type": "code",
      "source": [
        "fts = ['Id', 'Score1', 'Score2', 'Active.1', 'W1', 'WX', 'W2', 'X1', 'X2',\n",
        "       'W12', 'TotalValue', 'Over', 'Under', 'Hand1Value', 'H1', 'H2',\n",
        "       'Result1', 'Result2', 'min_norm', 'Score1_norm', 'Score2_norm',\n",
        "       'Score_diff', 'Score_cat_1', 'Score_cat_2', 'Score_cat_3',\n",
        "       'Score_cat_4', 'Score_cat_5', 'Score_cat_6', 'Score_cat_7',\n",
        "       'Score_cat_8', 'Score_cat_9', 'A1_scaled', 'A2_scaled', 'A1perMIN',\n",
        "        'A2perMIN', 'A1relativ', 'A2relativ', 'DA1_scaled', 'DA2_scaled',\n",
        "       'DA1perMIN', 'DA2perMIN', 'DA1relativ', 'DA2relativ', 'Pos1_cleaned',\n",
        "       'Pos2_cleaned', 'Off1_norm', 'Off2_norm', 'On1_norm', 'On2_norm',\n",
        "       'YC1_transformed', 'YC2_transformed', 'RC1_transformed',\n",
        "       'RC2_transformed', 'Sub1_transformed', 'Sub2_transformed',\n",
        "       'Cor1_transformed', 'Cor2_transformed', 'P1_transformed',\n",
        "       'P2_transformed'][18:]\n",
        "for col in ['A1relativ', 'A2relativ', 'DA1relativ', 'DA2relativ']:\n",
        "    fts.remove(col)"
      ],
      "metadata": {
        "id": "xTgMuiZg2WLJ"
      },
      "execution_count": null,
      "outputs": []
    },
    {
      "cell_type": "code",
      "source": [
        "importance_dict = {key:value for value, key in sorted(zip(booster.get_feature_importance(), fts), reverse = False)}\n",
        "fig1 = px.bar(\n",
        "    pd.DataFrame(importance_dict.items(), columns = ['features', 'value']),\n",
        "    x = 'value',\n",
        "    y = 'features',\n",
        "    orientation = 'h',\n",
        "    #title = 'feature importance multiclass',\n",
        "    title = 'feature importance binary classification away',\n",
        "    #title = 'feature importance regression team 2',\n",
        "    width = 600,\n",
        "    height = 800\n",
        ")\n",
        "fig1.show()"
      ],
      "metadata": {
        "id": "dJ-LhZAa2Sbb",
        "colab": {
          "base_uri": "https://localhost:8080/",
          "height": 817
        },
        "outputId": "800de345-8db0-4fce-c91d-c1b8967c94f9"
      },
      "execution_count": null,
      "outputs": [
        {
          "output_type": "display_data",
          "data": {
            "text/html": [
              "<html>\n",
              "<head><meta charset=\"utf-8\" /></head>\n",
              "<body>\n",
              "    <div>            <script src=\"https://cdnjs.cloudflare.com/ajax/libs/mathjax/2.7.5/MathJax.js?config=TeX-AMS-MML_SVG\"></script><script type=\"text/javascript\">if (window.MathJax && window.MathJax.Hub && window.MathJax.Hub.Config) {window.MathJax.Hub.Config({SVG: {font: \"STIX-Web\"}});}</script>                <script type=\"text/javascript\">window.PlotlyConfig = {MathJaxConfig: 'local'};</script>\n",
              "        <script src=\"https://cdn.plot.ly/plotly-2.18.2.min.js\"></script>                <div id=\"6e873704-b59c-4f8b-a800-6fd37c4a3431\" class=\"plotly-graph-div\" style=\"height:800px; width:600px;\"></div>            <script type=\"text/javascript\">                                    window.PLOTLYENV=window.PLOTLYENV || {};                                    if (document.getElementById(\"6e873704-b59c-4f8b-a800-6fd37c4a3431\")) {                    Plotly.newPlot(                        \"6e873704-b59c-4f8b-a800-6fd37c4a3431\",                        [{\"alignmentgroup\":\"True\",\"hovertemplate\":\"value=%{x}<br>features=%{y}<extra></extra>\",\"legendgroup\":\"\",\"marker\":{\"color\":\"#636efa\",\"pattern\":{\"shape\":\"\"}},\"name\":\"\",\"offsetgroup\":\"\",\"orientation\":\"h\",\"showlegend\":false,\"textposition\":\"auto\",\"x\":[0.0,0.0,0.0,0.009697402601564053,0.023220152978588888,0.03182288612202084,0.038049218394014796,0.051944130572604906,0.052246802324719475,0.0523903807881073,0.05331527511068659,0.056505689080262544,0.0877194041270432,0.09092604301688827,0.09909026071516497,0.12118838108442324,0.13937098102488885,0.18090001108637407,0.19802591077485865,0.20229713899637963,0.22738464381355009,0.23355212159240749,0.2887954929304083,0.3127774102099196,0.3333271816184217,0.38789342184351283,0.4460320561565166,0.4521186986913766,0.4554770710920904,0.5067252860417252,0.5604837822626141,0.9209845180033238,1.370740068249059,1.39180870194483,14.82807732934243,31.64612113319985,44.148991014209386],\"xaxis\":\"x\",\"y\":[\"Score_cat_1\",\"Score_cat_2\",\"Score_cat_8\",\"Score_cat_3\",\"Sub2_transformed\",\"Score_cat_9\",\"Score_cat_4\",\"YC1_transformed\",\"Sub1_transformed\",\"Score_cat_7\",\"Score_cat_6\",\"Score_cat_5\",\"A1_scaled\",\"YC2_transformed\",\"Score2_norm\",\"Cor1_transformed\",\"Score1_norm\",\"A2_scaled\",\"Cor2_transformed\",\"A2perMIN\",\"A1perMIN\",\"DA1_scaled\",\"Pos1_cleaned\",\"RC1_transformed\",\"RC2_transformed\",\"Pos2_cleaned\",\"On1_norm\",\"Off2_norm\",\"DA2_scaled\",\"On2_norm\",\"Off1_norm\",\"min_norm\",\"DA2perMIN\",\"DA1perMIN\",\"P2_transformed\",\"P1_transformed\",\"Score_diff\"],\"yaxis\":\"y\",\"type\":\"bar\"}],                        {\"template\":{\"data\":{\"histogram2dcontour\":[{\"type\":\"histogram2dcontour\",\"colorbar\":{\"outlinewidth\":0,\"ticks\":\"\"},\"colorscale\":[[0.0,\"#0d0887\"],[0.1111111111111111,\"#46039f\"],[0.2222222222222222,\"#7201a8\"],[0.3333333333333333,\"#9c179e\"],[0.4444444444444444,\"#bd3786\"],[0.5555555555555556,\"#d8576b\"],[0.6666666666666666,\"#ed7953\"],[0.7777777777777778,\"#fb9f3a\"],[0.8888888888888888,\"#fdca26\"],[1.0,\"#f0f921\"]]}],\"choropleth\":[{\"type\":\"choropleth\",\"colorbar\":{\"outlinewidth\":0,\"ticks\":\"\"}}],\"histogram2d\":[{\"type\":\"histogram2d\",\"colorbar\":{\"outlinewidth\":0,\"ticks\":\"\"},\"colorscale\":[[0.0,\"#0d0887\"],[0.1111111111111111,\"#46039f\"],[0.2222222222222222,\"#7201a8\"],[0.3333333333333333,\"#9c179e\"],[0.4444444444444444,\"#bd3786\"],[0.5555555555555556,\"#d8576b\"],[0.6666666666666666,\"#ed7953\"],[0.7777777777777778,\"#fb9f3a\"],[0.8888888888888888,\"#fdca26\"],[1.0,\"#f0f921\"]]}],\"heatmap\":[{\"type\":\"heatmap\",\"colorbar\":{\"outlinewidth\":0,\"ticks\":\"\"},\"colorscale\":[[0.0,\"#0d0887\"],[0.1111111111111111,\"#46039f\"],[0.2222222222222222,\"#7201a8\"],[0.3333333333333333,\"#9c179e\"],[0.4444444444444444,\"#bd3786\"],[0.5555555555555556,\"#d8576b\"],[0.6666666666666666,\"#ed7953\"],[0.7777777777777778,\"#fb9f3a\"],[0.8888888888888888,\"#fdca26\"],[1.0,\"#f0f921\"]]}],\"heatmapgl\":[{\"type\":\"heatmapgl\",\"colorbar\":{\"outlinewidth\":0,\"ticks\":\"\"},\"colorscale\":[[0.0,\"#0d0887\"],[0.1111111111111111,\"#46039f\"],[0.2222222222222222,\"#7201a8\"],[0.3333333333333333,\"#9c179e\"],[0.4444444444444444,\"#bd3786\"],[0.5555555555555556,\"#d8576b\"],[0.6666666666666666,\"#ed7953\"],[0.7777777777777778,\"#fb9f3a\"],[0.8888888888888888,\"#fdca26\"],[1.0,\"#f0f921\"]]}],\"contourcarpet\":[{\"type\":\"contourcarpet\",\"colorbar\":{\"outlinewidth\":0,\"ticks\":\"\"}}],\"contour\":[{\"type\":\"contour\",\"colorbar\":{\"outlinewidth\":0,\"ticks\":\"\"},\"colorscale\":[[0.0,\"#0d0887\"],[0.1111111111111111,\"#46039f\"],[0.2222222222222222,\"#7201a8\"],[0.3333333333333333,\"#9c179e\"],[0.4444444444444444,\"#bd3786\"],[0.5555555555555556,\"#d8576b\"],[0.6666666666666666,\"#ed7953\"],[0.7777777777777778,\"#fb9f3a\"],[0.8888888888888888,\"#fdca26\"],[1.0,\"#f0f921\"]]}],\"surface\":[{\"type\":\"surface\",\"colorbar\":{\"outlinewidth\":0,\"ticks\":\"\"},\"colorscale\":[[0.0,\"#0d0887\"],[0.1111111111111111,\"#46039f\"],[0.2222222222222222,\"#7201a8\"],[0.3333333333333333,\"#9c179e\"],[0.4444444444444444,\"#bd3786\"],[0.5555555555555556,\"#d8576b\"],[0.6666666666666666,\"#ed7953\"],[0.7777777777777778,\"#fb9f3a\"],[0.8888888888888888,\"#fdca26\"],[1.0,\"#f0f921\"]]}],\"mesh3d\":[{\"type\":\"mesh3d\",\"colorbar\":{\"outlinewidth\":0,\"ticks\":\"\"}}],\"scatter\":[{\"fillpattern\":{\"fillmode\":\"overlay\",\"size\":10,\"solidity\":0.2},\"type\":\"scatter\"}],\"parcoords\":[{\"type\":\"parcoords\",\"line\":{\"colorbar\":{\"outlinewidth\":0,\"ticks\":\"\"}}}],\"scatterpolargl\":[{\"type\":\"scatterpolargl\",\"marker\":{\"colorbar\":{\"outlinewidth\":0,\"ticks\":\"\"}}}],\"bar\":[{\"error_x\":{\"color\":\"#2a3f5f\"},\"error_y\":{\"color\":\"#2a3f5f\"},\"marker\":{\"line\":{\"color\":\"#E5ECF6\",\"width\":0.5},\"pattern\":{\"fillmode\":\"overlay\",\"size\":10,\"solidity\":0.2}},\"type\":\"bar\"}],\"scattergeo\":[{\"type\":\"scattergeo\",\"marker\":{\"colorbar\":{\"outlinewidth\":0,\"ticks\":\"\"}}}],\"scatterpolar\":[{\"type\":\"scatterpolar\",\"marker\":{\"colorbar\":{\"outlinewidth\":0,\"ticks\":\"\"}}}],\"histogram\":[{\"marker\":{\"pattern\":{\"fillmode\":\"overlay\",\"size\":10,\"solidity\":0.2}},\"type\":\"histogram\"}],\"scattergl\":[{\"type\":\"scattergl\",\"marker\":{\"colorbar\":{\"outlinewidth\":0,\"ticks\":\"\"}}}],\"scatter3d\":[{\"type\":\"scatter3d\",\"line\":{\"colorbar\":{\"outlinewidth\":0,\"ticks\":\"\"}},\"marker\":{\"colorbar\":{\"outlinewidth\":0,\"ticks\":\"\"}}}],\"scattermapbox\":[{\"type\":\"scattermapbox\",\"marker\":{\"colorbar\":{\"outlinewidth\":0,\"ticks\":\"\"}}}],\"scatterternary\":[{\"type\":\"scatterternary\",\"marker\":{\"colorbar\":{\"outlinewidth\":0,\"ticks\":\"\"}}}],\"scattercarpet\":[{\"type\":\"scattercarpet\",\"marker\":{\"colorbar\":{\"outlinewidth\":0,\"ticks\":\"\"}}}],\"carpet\":[{\"aaxis\":{\"endlinecolor\":\"#2a3f5f\",\"gridcolor\":\"white\",\"linecolor\":\"white\",\"minorgridcolor\":\"white\",\"startlinecolor\":\"#2a3f5f\"},\"baxis\":{\"endlinecolor\":\"#2a3f5f\",\"gridcolor\":\"white\",\"linecolor\":\"white\",\"minorgridcolor\":\"white\",\"startlinecolor\":\"#2a3f5f\"},\"type\":\"carpet\"}],\"table\":[{\"cells\":{\"fill\":{\"color\":\"#EBF0F8\"},\"line\":{\"color\":\"white\"}},\"header\":{\"fill\":{\"color\":\"#C8D4E3\"},\"line\":{\"color\":\"white\"}},\"type\":\"table\"}],\"barpolar\":[{\"marker\":{\"line\":{\"color\":\"#E5ECF6\",\"width\":0.5},\"pattern\":{\"fillmode\":\"overlay\",\"size\":10,\"solidity\":0.2}},\"type\":\"barpolar\"}],\"pie\":[{\"automargin\":true,\"type\":\"pie\"}]},\"layout\":{\"autotypenumbers\":\"strict\",\"colorway\":[\"#636efa\",\"#EF553B\",\"#00cc96\",\"#ab63fa\",\"#FFA15A\",\"#19d3f3\",\"#FF6692\",\"#B6E880\",\"#FF97FF\",\"#FECB52\"],\"font\":{\"color\":\"#2a3f5f\"},\"hovermode\":\"closest\",\"hoverlabel\":{\"align\":\"left\"},\"paper_bgcolor\":\"white\",\"plot_bgcolor\":\"#E5ECF6\",\"polar\":{\"bgcolor\":\"#E5ECF6\",\"angularaxis\":{\"gridcolor\":\"white\",\"linecolor\":\"white\",\"ticks\":\"\"},\"radialaxis\":{\"gridcolor\":\"white\",\"linecolor\":\"white\",\"ticks\":\"\"}},\"ternary\":{\"bgcolor\":\"#E5ECF6\",\"aaxis\":{\"gridcolor\":\"white\",\"linecolor\":\"white\",\"ticks\":\"\"},\"baxis\":{\"gridcolor\":\"white\",\"linecolor\":\"white\",\"ticks\":\"\"},\"caxis\":{\"gridcolor\":\"white\",\"linecolor\":\"white\",\"ticks\":\"\"}},\"coloraxis\":{\"colorbar\":{\"outlinewidth\":0,\"ticks\":\"\"}},\"colorscale\":{\"sequential\":[[0.0,\"#0d0887\"],[0.1111111111111111,\"#46039f\"],[0.2222222222222222,\"#7201a8\"],[0.3333333333333333,\"#9c179e\"],[0.4444444444444444,\"#bd3786\"],[0.5555555555555556,\"#d8576b\"],[0.6666666666666666,\"#ed7953\"],[0.7777777777777778,\"#fb9f3a\"],[0.8888888888888888,\"#fdca26\"],[1.0,\"#f0f921\"]],\"sequentialminus\":[[0.0,\"#0d0887\"],[0.1111111111111111,\"#46039f\"],[0.2222222222222222,\"#7201a8\"],[0.3333333333333333,\"#9c179e\"],[0.4444444444444444,\"#bd3786\"],[0.5555555555555556,\"#d8576b\"],[0.6666666666666666,\"#ed7953\"],[0.7777777777777778,\"#fb9f3a\"],[0.8888888888888888,\"#fdca26\"],[1.0,\"#f0f921\"]],\"diverging\":[[0,\"#8e0152\"],[0.1,\"#c51b7d\"],[0.2,\"#de77ae\"],[0.3,\"#f1b6da\"],[0.4,\"#fde0ef\"],[0.5,\"#f7f7f7\"],[0.6,\"#e6f5d0\"],[0.7,\"#b8e186\"],[0.8,\"#7fbc41\"],[0.9,\"#4d9221\"],[1,\"#276419\"]]},\"xaxis\":{\"gridcolor\":\"white\",\"linecolor\":\"white\",\"ticks\":\"\",\"title\":{\"standoff\":15},\"zerolinecolor\":\"white\",\"automargin\":true,\"zerolinewidth\":2},\"yaxis\":{\"gridcolor\":\"white\",\"linecolor\":\"white\",\"ticks\":\"\",\"title\":{\"standoff\":15},\"zerolinecolor\":\"white\",\"automargin\":true,\"zerolinewidth\":2},\"scene\":{\"xaxis\":{\"backgroundcolor\":\"#E5ECF6\",\"gridcolor\":\"white\",\"linecolor\":\"white\",\"showbackground\":true,\"ticks\":\"\",\"zerolinecolor\":\"white\",\"gridwidth\":2},\"yaxis\":{\"backgroundcolor\":\"#E5ECF6\",\"gridcolor\":\"white\",\"linecolor\":\"white\",\"showbackground\":true,\"ticks\":\"\",\"zerolinecolor\":\"white\",\"gridwidth\":2},\"zaxis\":{\"backgroundcolor\":\"#E5ECF6\",\"gridcolor\":\"white\",\"linecolor\":\"white\",\"showbackground\":true,\"ticks\":\"\",\"zerolinecolor\":\"white\",\"gridwidth\":2}},\"shapedefaults\":{\"line\":{\"color\":\"#2a3f5f\"}},\"annotationdefaults\":{\"arrowcolor\":\"#2a3f5f\",\"arrowhead\":0,\"arrowwidth\":1},\"geo\":{\"bgcolor\":\"white\",\"landcolor\":\"#E5ECF6\",\"subunitcolor\":\"white\",\"showland\":true,\"showlakes\":true,\"lakecolor\":\"white\"},\"title\":{\"x\":0.05},\"mapbox\":{\"style\":\"light\"}}},\"xaxis\":{\"anchor\":\"y\",\"domain\":[0.0,1.0],\"title\":{\"text\":\"value\"}},\"yaxis\":{\"anchor\":\"x\",\"domain\":[0.0,1.0],\"title\":{\"text\":\"features\"}},\"legend\":{\"tracegroupgap\":0},\"title\":{\"text\":\"feature importance binary classification away\"},\"barmode\":\"relative\",\"height\":800,\"width\":600},                        {\"responsive\": true}                    ).then(function(){\n",
              "                            \n",
              "var gd = document.getElementById('6e873704-b59c-4f8b-a800-6fd37c4a3431');\n",
              "var x = new MutationObserver(function (mutations, observer) {{\n",
              "        var display = window.getComputedStyle(gd).display;\n",
              "        if (!display || display === 'none') {{\n",
              "            console.log([gd, 'removed!']);\n",
              "            Plotly.purge(gd);\n",
              "            observer.disconnect();\n",
              "        }}\n",
              "}});\n",
              "\n",
              "// Listen for the removal of the full notebook cells\n",
              "var notebookContainer = gd.closest('#notebook-container');\n",
              "if (notebookContainer) {{\n",
              "    x.observe(notebookContainer, {childList: true});\n",
              "}}\n",
              "\n",
              "// Listen for the clearing of the current output cell\n",
              "var outputEl = gd.closest('.output');\n",
              "if (outputEl) {{\n",
              "    x.observe(outputEl, {childList: true});\n",
              "}}\n",
              "\n",
              "                        })                };                            </script>        </div>\n",
              "</body>\n",
              "</html>"
            ]
          },
          "metadata": {}
        }
      ]
    },
    {
      "cell_type": "code",
      "source": [
        "description_dict = {\n",
        "    'kfold_splits':kfold_splits,\n",
        "    'data_version':'football_live_main_part_npz_230510/',\n",
        "    'data_version_upd':'football_live_upd_230510/',\n",
        "    'comments':'test fino 2022'\n",
        "}"
      ],
      "metadata": {
        "id": "NBqrrs5D2O9h"
      },
      "execution_count": null,
      "outputs": []
    },
    {
      "cell_type": "code",
      "source": [
        "model_version = neptune.init_model_version(\n",
        "    model = 'FOOT-LIVEMC',\n",
        "    project = 'scomesse/football',\n",
        "    api_token = api_key # your credentials\n",
        ")\n",
        "model_sys = model_version['sys'].fetch()"
      ],
      "metadata": {
        "colab": {
          "base_uri": "https://localhost:8080/"
        },
        "id": "T1ION_zFC4oA",
        "outputId": "46a18c85-0946-4f34-e12b-8400ebd128cc"
      },
      "execution_count": null,
      "outputs": [
        {
          "output_type": "stream",
          "name": "stdout",
          "text": [
            "https://app.neptune.ai/scomesse/football/m/FOOT-LIVEMC/v/FOOT-LIVEMC-6\n"
          ]
        }
      ]
    },
    {
      "cell_type": "code",
      "source": [
        "print(model_sys)"
      ],
      "metadata": {
        "id": "oYkYmnDfC6hh",
        "colab": {
          "base_uri": "https://localhost:8080/"
        },
        "outputId": "ef0368a2-9b4d-4594-9238-e1ad152f9444"
      },
      "execution_count": null,
      "outputs": [
        {
          "output_type": "stream",
          "name": "stdout",
          "text": [
            "{'creation_time': datetime.datetime(2023, 5, 22, 16, 9, 15, 782000, tzinfo=tzlocal()), 'id': 'FOOT-LIVEMC-6', 'model_id': 'FOOT-LIVEMC', 'modification_time': datetime.datetime(2023, 5, 22, 16, 9, 15, 782000, tzinfo=tzlocal()), 'monitoring_time': 0, 'owner': 'scomesse', 'ping_time': datetime.datetime(2023, 5, 22, 16, 9, 15, 782000, tzinfo=tzlocal()), 'running_time': 0.0, 'size': 0.0, 'stage': 'none', 'state': 'running', 'trashed': False}\n"
          ]
        }
      ]
    },
    {
      "cell_type": "code",
      "source": [
        "model_sys = {\n",
        "    'model_id':'FOOT-LIVEMC',\n",
        "    'id':'FOOT-LIVEMC-6'\n",
        "}"
      ],
      "metadata": {
        "id": "KxcRH3AcGWUz"
      },
      "execution_count": null,
      "outputs": []
    },
    {
      "cell_type": "code",
      "source": [
        "model_version_params = dict(\n",
        "    project = 'scomesse/football',\n",
        "    model = model_sys['model_id'],\n",
        "    api_token = api_key,\n",
        "    with_id = model_sys['id']\n",
        ")\n",
        "model_version = neptune.init_model_version(**model_version_params)\n",
        "model_version[f'/models/model_{kfold_num}'].upload(f'./models/booster_{kfold_num}.model')\n",
        "model_version[f'/models/model_{kfold_num}_parameters'] = stringify_unsupported(cparams)\n",
        "model_version[f'/models/model_{kfold_num}_description'] = stringify_unsupported(description_dict)\n",
        "model_version.stop()"
      ],
      "metadata": {
        "colab": {
          "base_uri": "https://localhost:8080/"
        },
        "id": "EeUAMUt-2KHT",
        "outputId": "72bce5ce-455a-4125-dd9a-6dcb260b2e92"
      },
      "execution_count": null,
      "outputs": [
        {
          "output_type": "stream",
          "name": "stdout",
          "text": [
            "https://app.neptune.ai/scomesse/football/m/FOOT-LIVEMC/v/FOOT-LIVEMC-6\n",
            "Shutting down background jobs, please wait a moment...\n",
            "Done!\n",
            "Waiting for the remaining 15 operations to synchronize with Neptune. Do not kill this process.\n",
            "All 15 operations synced, thanks for waiting!\n",
            "Explore the metadata in the Neptune app:\n",
            "https://app.neptune.ai/scomesse/football/m/FOOT-LIVEMC/v/FOOT-LIVEMC-6/metadata\n"
          ]
        }
      ]
    },
    {
      "cell_type": "code",
      "source": [
        "model_version = neptune.init_model_version(**model_version_params)\n",
        "model_version[f'threshold_model_{kfold_num}_fold'].upload(neptune.types.File.as_html(fig))\n",
        "model_version.stop()"
      ],
      "metadata": {
        "colab": {
          "base_uri": "https://localhost:8080/"
        },
        "id": "KX9QVypd6oGV",
        "outputId": "df7a9a82-0595-4300-e9e6-c7bb4ebabee0"
      },
      "execution_count": null,
      "outputs": [
        {
          "output_type": "stream",
          "name": "stdout",
          "text": [
            "https://app.neptune.ai/scomesse/football/m/FOOT-LIVEMC/v/FOOT-LIVEMC-6\n",
            "Shutting down background jobs, please wait a moment...\n",
            "Done!\n",
            "Waiting for the remaining 1 operations to synchronize with Neptune. Do not kill this process.\n",
            "All 1 operations synced, thanks for waiting!\n",
            "Explore the metadata in the Neptune app:\n",
            "https://app.neptune.ai/scomesse/football/m/FOOT-LIVEMC/v/FOOT-LIVEMC-6/metadata\n"
          ]
        }
      ]
    },
    {
      "cell_type": "code",
      "source": [
        "model_version = neptune.init_model_version(**model_version_params)\n",
        "model_version[f'importance_model_{kfold_num}_fold'].upload(neptune.types.File.as_html(fig1))\n",
        "model_version.stop()"
      ],
      "metadata": {
        "colab": {
          "base_uri": "https://localhost:8080/"
        },
        "id": "mPm21jje7I9I",
        "outputId": "5ffd7f92-a9f9-4645-b770-cd7012909531"
      },
      "execution_count": null,
      "outputs": [
        {
          "output_type": "stream",
          "name": "stdout",
          "text": [
            "https://app.neptune.ai/scomesse/football/m/FOOT-LIVEMC/v/FOOT-LIVEMC-6\n",
            "Shutting down background jobs, please wait a moment...\n",
            "Done!\n",
            "Waiting for the remaining 1 operations to synchronize with Neptune. Do not kill this process.\n",
            "All 1 operations synced, thanks for waiting!\n",
            "Explore the metadata in the Neptune app:\n",
            "https://app.neptune.ai/scomesse/football/m/FOOT-LIVEMC/v/FOOT-LIVEMC-6/metadata\n"
          ]
        }
      ]
    },
    {
      "cell_type": "code",
      "source": [
        "description_dict = {\n",
        "    'kfold_splits':kfold_splits,\n",
        "    'data_version':'football_live_main_part_npz_230510/',\n",
        "    'data_version_upd':'football_live_upd_230510/',\n",
        "    'comments':'test fino 2022'\n",
        "}"
      ],
      "metadata": {
        "id": "CEcJ4Oj8x1RB"
      },
      "execution_count": null,
      "outputs": []
    },
    {
      "cell_type": "code",
      "source": [
        "preds_dict = {}\n",
        "preds_dict['train'] = sum(\n",
        "    CatBoost().load_model(\n",
        "        f'./models/booster_{kfold_num}.model'\n",
        "            ).predict(\n",
        "                X,\n",
        "                prediction_type=\"Probability\"\n",
        "                )\n",
        "    for kfold_num in range(description_dict['kfold_splits'])\n",
        "                        ) / description_dict['kfold_splits']\n",
        "preds_dict['holdout'] = sum(\n",
        "    CatBoost().load_model(\n",
        "        f'./models/booster_{kfold_num}.model'\n",
        "            ).predict(\n",
        "                X_holdout,\n",
        "                prediction_type=\"Probability\"\n",
        "                )\n",
        "    for kfold_num in range(description_dict['kfold_splits'])\n",
        "                        ) / description_dict['kfold_splits']\n",
        "preds_dict['test'] = sum(\n",
        "    CatBoost().load_model(\n",
        "        f'./models/booster_{kfold_num}.model'\n",
        "            ).predict(\n",
        "                X_holdout,\n",
        "                prediction_type=\"Probability\"\n",
        "                )\n",
        "    for kfold_num in range(description_dict['kfold_splits'])\n",
        "                        ) / description_dict['kfold_splits']"
      ],
      "metadata": {
        "id": "wB70aCh-sCOX"
      },
      "execution_count": null,
      "outputs": []
    },
    {
      "cell_type": "code",
      "source": [
        "if incollare:\n",
        "    K = np.vstack((data_npz['K_train'][:,:4], data_upd_npz['K_train'][:,:4][id_vector]))\n",
        "    K_holdout = data_upd_npz['K_train'][:,:4][~id_vector]\n",
        "else:\n",
        "    K = data_npz['K_train'][:,:4]\n",
        "    K_holdout = data_upd_npz['K_train'][:,:4]\n",
        "line_dict = {'train':K[:, 1:4], 'test':K_holdout[:, 1:4], 'holdout':K_holdout[:, 1:4]}\n",
        "y_dict = {'train':y, 'test':y_holdout, 'holdout':y_holdout}\n",
        "X_dict = {'train':X, 'test':X_holdout, 'holdout':X_holdout}\n",
        "\n",
        "active_rows_dict ={}\n",
        "active_rows_dict['train'] = ((K[:,0] == 1) & (K[:,1:4].sum(axis = 1) > 3))\n",
        "active_rows_dict['holdout'] = ((K_holdout[:, 0] == 1) & (K_holdout[:, 1:4].sum(axis = 1) > 3))\n",
        "active_rows_dict['test'] = ((K_holdout[:, 0] == 1) & (K_holdout[:, 1:4].sum(axis = 1) > 3))\n",
        "\n",
        "#---------------\n",
        "process = psutil.Process(os.getpid())\n",
        "print('mem usage: ', round(process.memory_info().rss / 1024 ** 3, 2), 'GiB')  # in bytes\n",
        "#---------------"
      ],
      "metadata": {
        "colab": {
          "base_uri": "https://localhost:8080/"
        },
        "id": "v5TEiWiMyHe3",
        "outputId": "92769011-0533-4206-b933-762d3e8ecf73"
      },
      "execution_count": null,
      "outputs": [
        {
          "output_type": "stream",
          "name": "stdout",
          "text": [
            "mem usage:  7.31 GiB\n"
          ]
        }
      ]
    },
    {
      "cell_type": "code",
      "source": [
        "fig = profit_validation_by_type(active_rows_dict, preds_dict, line_dict, y_dict)\n",
        "fig.show()"
      ],
      "metadata": {
        "colab": {
          "base_uri": "https://localhost:8080/",
          "height": 817
        },
        "id": "c_-On1sNyNw8",
        "outputId": "6520d8fa-24a1-4fc6-c857-a49e746246e6"
      },
      "execution_count": null,
      "outputs": [
        {
          "output_type": "display_data",
          "data": {
            "text/html": [
              "<html>\n",
              "<head><meta charset=\"utf-8\" /></head>\n",
              "<body>\n",
              "    <div>            <script src=\"https://cdnjs.cloudflare.com/ajax/libs/mathjax/2.7.5/MathJax.js?config=TeX-AMS-MML_SVG\"></script><script type=\"text/javascript\">if (window.MathJax && window.MathJax.Hub && window.MathJax.Hub.Config) {window.MathJax.Hub.Config({SVG: {font: \"STIX-Web\"}});}</script>                <script type=\"text/javascript\">window.PlotlyConfig = {MathJaxConfig: 'local'};</script>\n",
              "        <script src=\"https://cdn.plot.ly/plotly-2.18.2.min.js\"></script>                <div id=\"ccfe0826-eb3a-4b89-b2c9-8ee7f4be90a1\" class=\"plotly-graph-div\" style=\"height:800px; width:900px;\"></div>            <script type=\"text/javascript\">                                    window.PLOTLYENV=window.PLOTLYENV || {};                                    if (document.getElementById(\"ccfe0826-eb3a-4b89-b2c9-8ee7f4be90a1\")) {                    Plotly.newPlot(                        \"ccfe0826-eb3a-4b89-b2c9-8ee7f4be90a1\",                        [{\"line\":{\"color\":\"rgb(93, 164, 214)\",\"width\":4},\"name\":\"all\",\"x\":[0.9,0.905,0.91,0.915,0.92,0.925,0.93,0.935,0.9400000000000001,0.9450000000000001,0.95,0.9550000000000001,0.96,0.965,0.97,0.975,0.98,0.985,0.99,0.995,1.0,1.005,1.01,1.015,1.02,1.025,1.03,1.035,1.04,1.045,1.05,1.055,1.06,1.065,1.07,1.075,1.08,1.085,1.09,1.095,1.1,1.105,1.1099999999999999,1.115,1.12,1.125,1.13,1.135,1.14,1.145,1.15,1.155,1.16,1.165,1.17,1.175,1.18,1.185,1.19,1.1949999999999998,1.2,1.205,1.21,1.2149999999999999,1.22,1.225,1.23,1.2349999999999999,1.24,1.245,1.25,1.255,1.26,1.265,1.27,1.275,1.28,1.285,1.29,1.295,1.2999999999999998,1.305,1.31,1.315,1.3199999999999998,1.325,1.33,1.335,1.3399999999999999,1.345,1.35,1.355,1.3599999999999999,1.365,1.3699999999999999,1.375,1.38,1.385,1.39,1.395,1.4],\"y\":[-14941.110597014167,-14941.110597014167,-14941.110597014167,-14940.625469880191,-14901.036488390351,-14765.667368658025,-14464.596411828385,-13904.481237057362,-13272.576873081467,-12399.99537338233,-11493.511054760334,-10474.522685759866,-9241.692656977715,-8135.37059769455,-7179.673967414029,-6248.786115388673,-5337.607183385245,-4483.450283020184,-3816.1969243532485,-3141.249200953943,-2730.990962802252,-2208.320891845897,-1799.22803854421,-1252.406143392107,-811.4433118462289,-342.0575724131007,-171.696432395415,121.10963317748882,335.90800630450366,528.3428185752957,729.2016039917747,801.4011551569931,816.5077520794425,878.6195435612624,1065.9890689671072,1136.8143947828119,1215.3869119389874,1299.0519255404647,1293.4728282566862,1347.8503696566863,1318.2439693488627,1418.3759028574327,1342.0083292413249,1407.3429959369282,1396.8832513047864,1445.3619575103628,1453.1983064368892,1467.0100103231607,1415.8407453565733,1374.7793740776106,1396.965131456576,1429.7141198912707,1445.4794215562436,1390.731832534743,1388.2600558448592,1367.8137768351216,1405.3076072224744,1378.864818162375,1308.6982312103335,1274.5046050614637,1259.9394862980146,1235.8364529729345,1243.8698707087901,1223.2980226043878,1184.495298723292,1150.231922228127,1127.3249176136094,1075.336455649149,1048.8614128960446,1038.627337403006,998.6233201108549,983.0224949211222,954.5336368447106,925.3671825233249,902.6756529230744,883.1299415460257,877.0977313302067,856.9038868073833,829.3369849863685,821.1626499520657,808.1911355032521,788.953457353736,764.559867117483,740.7633625735352,717.5092802764242,703.4849075064573,675.3323509535796,663.5979456817158,668.1768677645318,648.3447257016647,635.7570765963482,627.2396278465621,607.3969703471741,610.5603978354784,606.3230991730563,598.5506928387417,587.7585461214765,578.8259679661894,574.6384138739452,565.0213822217931,552.4521790134902],\"type\":\"scatter\",\"xaxis\":\"x\",\"yaxis\":\"y\"},{\"line\":{\"color\":\"rgb(255, 144, 14)\",\"width\":1},\"name\":\"home\",\"x\":[0.9,0.905,0.91,0.915,0.92,0.925,0.93,0.935,0.9400000000000001,0.9450000000000001,0.95,0.9550000000000001,0.96,0.965,0.97,0.975,0.98,0.985,0.99,0.995,1.0,1.005,1.01,1.015,1.02,1.025,1.03,1.035,1.04,1.045,1.05,1.055,1.06,1.065,1.07,1.075,1.08,1.085,1.09,1.095,1.1,1.105,1.1099999999999999,1.115,1.12,1.125,1.13,1.135,1.14,1.145,1.15,1.155,1.16,1.165,1.17,1.175,1.18,1.185,1.19,1.1949999999999998,1.2,1.205,1.21,1.2149999999999999,1.22,1.225,1.23,1.2349999999999999,1.24,1.245,1.25,1.255,1.26,1.265,1.27,1.275,1.28,1.285,1.29,1.295,1.2999999999999998,1.305,1.31,1.315,1.3199999999999998,1.325,1.33,1.335,1.3399999999999999,1.345,1.35,1.355,1.3599999999999999,1.365,1.3699999999999999,1.375,1.38,1.385,1.39,1.395,1.4],\"y\":[-7965.303547945192,-7965.303547945192,-7965.303547945192,-7964.799541799685,-7932.578280819127,-7866.616103688316,-7689.069815295128,-7375.140151014086,-6921.155041607149,-6387.876306634662,-5780.849713710113,-5146.071884305869,-4394.035474949039,-3740.4503536483976,-3234.4616960973017,-2664.0754852809578,-2192.257989077424,-1815.277888847114,-1501.3809776066253,-1159.8944610795086,-941.8697282743849,-608.1718528932117,-418.78825395130093,-125.9339589043517,27.84396043748444,251.38157793245048,374.6132437117087,491.90281455622824,604.8286293483291,667.7425273700469,731.1698986577354,798.0869130185852,772.9509556441229,826.2083803820483,862.1304225549663,840.1445422293754,814.6197826099863,842.1578091232929,852.1823034881814,812.5479386679579,797.4250858093402,837.405721836968,833.9728160346519,845.0280013768786,813.8222336805935,814.3710381477063,836.9482006161119,850.4260856960393,842.7714606732659,849.6349441276286,846.2137971806167,839.3328824072224,842.5690715779675,826.1354475069616,806.4643626007849,795.0434290485412,787.327434079356,766.9691422813212,732.8180242751716,690.0752465555477,662.1984612607937,637.3704728364014,647.8105442034737,623.7245031401767,593.5192228736041,564.13724672797,541.1389304447389,525.7086007843407,501.21412529084625,497.4392227094487,464.8514982625885,463.6653008316113,450.86255944199297,434.54091066326754,428.76797456358173,422.76745382036063,436.98935447474616,420.7921355299479,401.39398104401096,387.41751705706895,375.1909373322193,353.9044691517789,344.44706743178597,322.481029651718,316.27452103589957,308.3817899974397,282.3267698892827,285.91428785610856,276.1717222114615,273.76360146027275,265.56212291348936,254.59414575617336,252.1122841841709,255.372709971327,248.4068347312645,247.52098745362406,243.91459620895506,240.81609452837847,232.444489228735,228.2794715697414,221.90459268286372],\"type\":\"scatter\",\"xaxis\":\"x\",\"yaxis\":\"y\"},{\"line\":{\"color\":\"rgb(44, 160, 101)\",\"width\":1},\"name\":\"draw\",\"x\":[0.9,0.905,0.91,0.915,0.92,0.925,0.93,0.935,0.9400000000000001,0.9450000000000001,0.95,0.9550000000000001,0.96,0.965,0.97,0.975,0.98,0.985,0.99,0.995,1.0,1.005,1.01,1.015,1.02,1.025,1.03,1.035,1.04,1.045,1.05,1.055,1.06,1.065,1.07,1.075,1.08,1.085,1.09,1.095,1.1,1.105,1.1099999999999999,1.115,1.12,1.125,1.13,1.135,1.14,1.145,1.15,1.155,1.16,1.165,1.17,1.175,1.18,1.185,1.19,1.1949999999999998,1.2,1.205,1.21,1.2149999999999999,1.22,1.225,1.23,1.2349999999999999,1.24,1.245,1.25,1.255,1.26,1.265,1.27,1.275,1.28,1.285,1.29,1.295,1.2999999999999998,1.305,1.31,1.315,1.3199999999999998,1.325,1.33,1.335,1.3399999999999999,1.345,1.35,1.355,1.3599999999999999,1.365,1.3699999999999999,1.375,1.38,1.385,1.39,1.395,1.4],\"y\":[-1668.9133273428868,-1668.9133273428868,-1668.9133273428868,-1668.370340917547,-1664.749950016485,-1649.0182821403214,-1608.0576399669271,-1539.5699099890458,-1565.7169329944443,-1583.3238040118156,-1564.646057479712,-1514.8551537909802,-1417.4059235552536,-1336.9789057993326,-1250.84839518893,-1255.2481073198442,-1154.491575388691,-1036.2145300014533,-988.062422424796,-910.6740005782194,-967.4572838709726,-925.7640053953131,-913.0476509702163,-800.3165168338401,-667.7553163669548,-530.354026217534,-507.7688314779159,-419.11322488133885,-386.100676443196,-311.68646840569033,-232.36963692137476,-215.65551232942116,-211.2429543334646,-186.74395795798208,-86.1110749250546,-18.595914969947202,50.05040878308512,31.895698662357503,38.04909571033751,86.83348108965767,61.612811114877545,63.91805467322705,15.314325794733705,17.61521637463845,19.892187663821502,43.104148853409214,39.701804823147825,54.85017141434995,36.55182910859487,6.73056930494095,11.65714318861524,42.57868879378819,67.32931994529496,64.29586548636738,94.2180954170882,99.93075169629168,117.36272763161965,113.97884742919673,101.56144624403791,91.76413422600285,86.13786872235265,71.16737385676642,48.71774331809418,49.66638928879807,39.37325065333843,43.046831257733785,42.25594401767257,29.727856241240772,36.10993918908253,40.88297676271779,36.885053272283734,37.37628381196252,36.496230153311785,33.227657923725374,28.520318516352184,27.810786719211798,18.891991820493523,12.131069401536898,12.575351393716325,13.101867148842544,12.329763309383125,15.847924660362985,14.270682138454006,15.516653237158685,16.512470260024152,17.272016199901543,17.001119643962802,13.598247319699851,14.284435334720278,12.43630610985982,12.219330419045704,13.779187300579316,10.672475864289815,15.087944969659844,19.03110402791664,16.191205766976452,13.941507959752165,14.303396553064758,16.8825921328526,17.0086050140602,18.53753395534646],\"type\":\"scatter\",\"xaxis\":\"x\",\"yaxis\":\"y\"},{\"line\":{\"color\":\"rgb(255, 65, 54)\",\"width\":1},\"name\":\"away\",\"x\":[0.9,0.905,0.91,0.915,0.92,0.925,0.93,0.935,0.9400000000000001,0.9450000000000001,0.95,0.9550000000000001,0.96,0.965,0.97,0.975,0.98,0.985,0.99,0.995,1.0,1.005,1.01,1.015,1.02,1.025,1.03,1.035,1.04,1.045,1.05,1.055,1.06,1.065,1.07,1.075,1.08,1.085,1.09,1.095,1.1,1.105,1.1099999999999999,1.115,1.12,1.125,1.13,1.135,1.14,1.145,1.15,1.155,1.16,1.165,1.17,1.175,1.18,1.185,1.19,1.1949999999999998,1.2,1.205,1.21,1.2149999999999999,1.22,1.225,1.23,1.2349999999999999,1.24,1.245,1.25,1.255,1.26,1.265,1.27,1.275,1.28,1.285,1.29,1.295,1.2999999999999998,1.305,1.31,1.315,1.3199999999999998,1.325,1.33,1.335,1.3399999999999999,1.345,1.35,1.355,1.3599999999999999,1.365,1.3699999999999999,1.375,1.38,1.385,1.39,1.395,1.4],\"y\":[-5306.893721726091,-5306.893721726091,-5306.893721726091,-5307.455587162956,-5303.708257554737,-5250.032982829385,-5167.4689565663275,-4989.771176054223,-4785.704898479873,-4428.795262735853,-4148.0152835705085,-3813.595647663021,-3430.25125847342,-3057.941338246821,-2694.3638761277944,-2329.462522787874,-1990.8576189191297,-1631.9578641716175,-1326.7535243218279,-1070.6807392962137,-821.6639506568943,-674.3850335573719,-467.3921336226942,-326.15566765391515,-171.53195591675816,-63.085124128017576,-38.540844629207754,48.3200435026001,117.18005339937048,172.2867596109391,230.40134225541357,218.96975446782903,254.79975076878435,239.15512113719635,289.96972133719567,315.2657675233841,350.716720545916,424.99841775481457,403.2414290581673,448.4689498990708,459.20607242464484,517.0521263472376,492.72118741193935,544.6997781854112,563.1688299603719,587.8867705092474,576.548300997629,561.7337532127715,536.5174555747121,518.4138606450408,539.0941910873439,547.8025486902598,535.581030032981,500.30051954141425,487.5775978269863,472.83959609028915,500.6174455114988,497.91682845185704,474.31876069112406,492.66522427991333,511.60315631486867,527.2986062797668,547.3415831872226,549.9071301754128,551.6028251963496,543.0478442424233,543.9300431511979,519.8999986235677,511.5373484161159,500.3051379308396,496.8867685759826,481.9809102775481,467.1748472494062,457.5986139363321,445.3873598431406,432.55170100645324,421.21638503496695,423.9806818758986,415.3676525486413,420.6432657461544,420.67043486164954,419.20106354159407,405.842117547243,402.76567968465844,384.7222889805005,377.8311013091161,376.0044614203341,364.0854105059074,377.72071021834984,362.14481813153225,357.97562326381313,358.8662947898095,344.6122102987134,340.09974289449156,338.8851604138752,334.8384996181412,329.90244195276915,323.70647688474617,325.3113325123576,319.73330563799163,312.01005237528005],\"type\":\"scatter\",\"xaxis\":\"x\",\"yaxis\":\"y\"},{\"line\":{\"color\":\"rgb(93, 164, 214)\",\"width\":4},\"name\":\"all\",\"x\":[0.9,0.905,0.91,0.915,0.92,0.925,0.93,0.935,0.9400000000000001,0.9450000000000001,0.95,0.9550000000000001,0.96,0.965,0.97,0.975,0.98,0.985,0.99,0.995,1.0,1.005,1.01,1.015,1.02,1.025,1.03,1.035,1.04,1.045,1.05,1.055,1.06,1.065,1.07,1.075,1.08,1.085,1.09,1.095,1.1,1.105,1.1099999999999999,1.115,1.12,1.125,1.13,1.135,1.14,1.145,1.15,1.155,1.16,1.165,1.17,1.175,1.18,1.185,1.19,1.1949999999999998,1.2,1.205,1.21,1.2149999999999999,1.22,1.225,1.23,1.2349999999999999,1.24,1.245,1.25,1.255,1.26,1.265,1.27,1.275,1.28,1.285,1.29,1.295,1.2999999999999998,1.305,1.31,1.315,1.3199999999999998,1.325,1.33,1.335,1.3399999999999999,1.345,1.35,1.355,1.3599999999999999,1.365,1.3699999999999999,1.375,1.38,1.385,1.39,1.395,1.4],\"y\":[-14941.110597014167,-14941.110597014167,-14941.110597014167,-14940.625469880191,-14901.036488390351,-14765.667368658025,-14464.596411828385,-13904.481237057362,-13272.576873081467,-12399.99537338233,-11493.511054760334,-10474.522685759866,-9241.692656977715,-8135.37059769455,-7179.673967414029,-6248.786115388673,-5337.607183385245,-4483.450283020184,-3816.1969243532485,-3141.249200953943,-2730.990962802252,-2208.320891845897,-1799.22803854421,-1252.406143392107,-811.4433118462289,-342.0575724131007,-171.696432395415,121.10963317748882,335.90800630450366,528.3428185752957,729.2016039917747,801.4011551569931,816.5077520794425,878.6195435612624,1065.9890689671072,1136.8143947828119,1215.3869119389874,1299.0519255404647,1293.4728282566862,1347.8503696566863,1318.2439693488627,1418.3759028574327,1342.0083292413249,1407.3429959369282,1396.8832513047864,1445.3619575103628,1453.1983064368892,1467.0100103231607,1415.8407453565733,1374.7793740776106,1396.965131456576,1429.7141198912707,1445.4794215562436,1390.731832534743,1388.2600558448592,1367.8137768351216,1405.3076072224744,1378.864818162375,1308.6982312103335,1274.5046050614637,1259.9394862980146,1235.8364529729345,1243.8698707087901,1223.2980226043878,1184.495298723292,1150.231922228127,1127.3249176136094,1075.336455649149,1048.8614128960446,1038.627337403006,998.6233201108549,983.0224949211222,954.5336368447106,925.3671825233249,902.6756529230744,883.1299415460257,877.0977313302067,856.9038868073833,829.3369849863685,821.1626499520657,808.1911355032521,788.953457353736,764.559867117483,740.7633625735352,717.5092802764242,703.4849075064573,675.3323509535796,663.5979456817158,668.1768677645318,648.3447257016647,635.7570765963482,627.2396278465621,607.3969703471741,610.5603978354784,606.3230991730563,598.5506928387417,587.7585461214765,578.8259679661894,574.6384138739452,565.0213822217931,552.4521790134902],\"type\":\"scatter\",\"xaxis\":\"x2\",\"yaxis\":\"y2\"},{\"line\":{\"color\":\"rgb(255, 144, 14)\",\"width\":1},\"name\":\"home\",\"x\":[0.9,0.905,0.91,0.915,0.92,0.925,0.93,0.935,0.9400000000000001,0.9450000000000001,0.95,0.9550000000000001,0.96,0.965,0.97,0.975,0.98,0.985,0.99,0.995,1.0,1.005,1.01,1.015,1.02,1.025,1.03,1.035,1.04,1.045,1.05,1.055,1.06,1.065,1.07,1.075,1.08,1.085,1.09,1.095,1.1,1.105,1.1099999999999999,1.115,1.12,1.125,1.13,1.135,1.14,1.145,1.15,1.155,1.16,1.165,1.17,1.175,1.18,1.185,1.19,1.1949999999999998,1.2,1.205,1.21,1.2149999999999999,1.22,1.225,1.23,1.2349999999999999,1.24,1.245,1.25,1.255,1.26,1.265,1.27,1.275,1.28,1.285,1.29,1.295,1.2999999999999998,1.305,1.31,1.315,1.3199999999999998,1.325,1.33,1.335,1.3399999999999999,1.345,1.35,1.355,1.3599999999999999,1.365,1.3699999999999999,1.375,1.38,1.385,1.39,1.395,1.4],\"y\":[-7965.303547945192,-7965.303547945192,-7965.303547945192,-7964.799541799685,-7932.578280819127,-7866.616103688316,-7689.069815295128,-7375.140151014086,-6921.155041607149,-6387.876306634662,-5780.849713710113,-5146.071884305869,-4394.035474949039,-3740.4503536483976,-3234.4616960973017,-2664.0754852809578,-2192.257989077424,-1815.277888847114,-1501.3809776066253,-1159.8944610795086,-941.8697282743849,-608.1718528932117,-418.78825395130093,-125.9339589043517,27.84396043748444,251.38157793245048,374.6132437117087,491.90281455622824,604.8286293483291,667.7425273700469,731.1698986577354,798.0869130185852,772.9509556441229,826.2083803820483,862.1304225549663,840.1445422293754,814.6197826099863,842.1578091232929,852.1823034881814,812.5479386679579,797.4250858093402,837.405721836968,833.9728160346519,845.0280013768786,813.8222336805935,814.3710381477063,836.9482006161119,850.4260856960393,842.7714606732659,849.6349441276286,846.2137971806167,839.3328824072224,842.5690715779675,826.1354475069616,806.4643626007849,795.0434290485412,787.327434079356,766.9691422813212,732.8180242751716,690.0752465555477,662.1984612607937,637.3704728364014,647.8105442034737,623.7245031401767,593.5192228736041,564.13724672797,541.1389304447389,525.7086007843407,501.21412529084625,497.4392227094487,464.8514982625885,463.6653008316113,450.86255944199297,434.54091066326754,428.76797456358173,422.76745382036063,436.98935447474616,420.7921355299479,401.39398104401096,387.41751705706895,375.1909373322193,353.9044691517789,344.44706743178597,322.481029651718,316.27452103589957,308.3817899974397,282.3267698892827,285.91428785610856,276.1717222114615,273.76360146027275,265.56212291348936,254.59414575617336,252.1122841841709,255.372709971327,248.4068347312645,247.52098745362406,243.91459620895506,240.81609452837847,232.444489228735,228.2794715697414,221.90459268286372],\"type\":\"scatter\",\"xaxis\":\"x2\",\"yaxis\":\"y2\"},{\"line\":{\"color\":\"rgb(44, 160, 101)\",\"width\":1},\"name\":\"draw\",\"x\":[0.9,0.905,0.91,0.915,0.92,0.925,0.93,0.935,0.9400000000000001,0.9450000000000001,0.95,0.9550000000000001,0.96,0.965,0.97,0.975,0.98,0.985,0.99,0.995,1.0,1.005,1.01,1.015,1.02,1.025,1.03,1.035,1.04,1.045,1.05,1.055,1.06,1.065,1.07,1.075,1.08,1.085,1.09,1.095,1.1,1.105,1.1099999999999999,1.115,1.12,1.125,1.13,1.135,1.14,1.145,1.15,1.155,1.16,1.165,1.17,1.175,1.18,1.185,1.19,1.1949999999999998,1.2,1.205,1.21,1.2149999999999999,1.22,1.225,1.23,1.2349999999999999,1.24,1.245,1.25,1.255,1.26,1.265,1.27,1.275,1.28,1.285,1.29,1.295,1.2999999999999998,1.305,1.31,1.315,1.3199999999999998,1.325,1.33,1.335,1.3399999999999999,1.345,1.35,1.355,1.3599999999999999,1.365,1.3699999999999999,1.375,1.38,1.385,1.39,1.395,1.4],\"y\":[-1668.9133273428868,-1668.9133273428868,-1668.9133273428868,-1668.370340917547,-1664.749950016485,-1649.0182821403214,-1608.0576399669271,-1539.5699099890458,-1565.7169329944443,-1583.3238040118156,-1564.646057479712,-1514.8551537909802,-1417.4059235552536,-1336.9789057993326,-1250.84839518893,-1255.2481073198442,-1154.491575388691,-1036.2145300014533,-988.062422424796,-910.6740005782194,-967.4572838709726,-925.7640053953131,-913.0476509702163,-800.3165168338401,-667.7553163669548,-530.354026217534,-507.7688314779159,-419.11322488133885,-386.100676443196,-311.68646840569033,-232.36963692137476,-215.65551232942116,-211.2429543334646,-186.74395795798208,-86.1110749250546,-18.595914969947202,50.05040878308512,31.895698662357503,38.04909571033751,86.83348108965767,61.612811114877545,63.91805467322705,15.314325794733705,17.61521637463845,19.892187663821502,43.104148853409214,39.701804823147825,54.85017141434995,36.55182910859487,6.73056930494095,11.65714318861524,42.57868879378819,67.32931994529496,64.29586548636738,94.2180954170882,99.93075169629168,117.36272763161965,113.97884742919673,101.56144624403791,91.76413422600285,86.13786872235265,71.16737385676642,48.71774331809418,49.66638928879807,39.37325065333843,43.046831257733785,42.25594401767257,29.727856241240772,36.10993918908253,40.88297676271779,36.885053272283734,37.37628381196252,36.496230153311785,33.227657923725374,28.520318516352184,27.810786719211798,18.891991820493523,12.131069401536898,12.575351393716325,13.101867148842544,12.329763309383125,15.847924660362985,14.270682138454006,15.516653237158685,16.512470260024152,17.272016199901543,17.001119643962802,13.598247319699851,14.284435334720278,12.43630610985982,12.219330419045704,13.779187300579316,10.672475864289815,15.087944969659844,19.03110402791664,16.191205766976452,13.941507959752165,14.303396553064758,16.8825921328526,17.0086050140602,18.53753395534646],\"type\":\"scatter\",\"xaxis\":\"x2\",\"yaxis\":\"y2\"},{\"line\":{\"color\":\"rgb(255, 65, 54)\",\"width\":1},\"name\":\"away\",\"x\":[0.9,0.905,0.91,0.915,0.92,0.925,0.93,0.935,0.9400000000000001,0.9450000000000001,0.95,0.9550000000000001,0.96,0.965,0.97,0.975,0.98,0.985,0.99,0.995,1.0,1.005,1.01,1.015,1.02,1.025,1.03,1.035,1.04,1.045,1.05,1.055,1.06,1.065,1.07,1.075,1.08,1.085,1.09,1.095,1.1,1.105,1.1099999999999999,1.115,1.12,1.125,1.13,1.135,1.14,1.145,1.15,1.155,1.16,1.165,1.17,1.175,1.18,1.185,1.19,1.1949999999999998,1.2,1.205,1.21,1.2149999999999999,1.22,1.225,1.23,1.2349999999999999,1.24,1.245,1.25,1.255,1.26,1.265,1.27,1.275,1.28,1.285,1.29,1.295,1.2999999999999998,1.305,1.31,1.315,1.3199999999999998,1.325,1.33,1.335,1.3399999999999999,1.345,1.35,1.355,1.3599999999999999,1.365,1.3699999999999999,1.375,1.38,1.385,1.39,1.395,1.4],\"y\":[-5306.893721726091,-5306.893721726091,-5306.893721726091,-5307.455587162956,-5303.708257554737,-5250.032982829385,-5167.4689565663275,-4989.771176054223,-4785.704898479873,-4428.795262735853,-4148.0152835705085,-3813.595647663021,-3430.25125847342,-3057.941338246821,-2694.3638761277944,-2329.462522787874,-1990.8576189191297,-1631.9578641716175,-1326.7535243218279,-1070.6807392962137,-821.6639506568943,-674.3850335573719,-467.3921336226942,-326.15566765391515,-171.53195591675816,-63.085124128017576,-38.540844629207754,48.3200435026001,117.18005339937048,172.2867596109391,230.40134225541357,218.96975446782903,254.79975076878435,239.15512113719635,289.96972133719567,315.2657675233841,350.716720545916,424.99841775481457,403.2414290581673,448.4689498990708,459.20607242464484,517.0521263472376,492.72118741193935,544.6997781854112,563.1688299603719,587.8867705092474,576.548300997629,561.7337532127715,536.5174555747121,518.4138606450408,539.0941910873439,547.8025486902598,535.581030032981,500.30051954141425,487.5775978269863,472.83959609028915,500.6174455114988,497.91682845185704,474.31876069112406,492.66522427991333,511.60315631486867,527.2986062797668,547.3415831872226,549.9071301754128,551.6028251963496,543.0478442424233,543.9300431511979,519.8999986235677,511.5373484161159,500.3051379308396,496.8867685759826,481.9809102775481,467.1748472494062,457.5986139363321,445.3873598431406,432.55170100645324,421.21638503496695,423.9806818758986,415.3676525486413,420.6432657461544,420.67043486164954,419.20106354159407,405.842117547243,402.76567968465844,384.7222889805005,377.8311013091161,376.0044614203341,364.0854105059074,377.72071021834984,362.14481813153225,357.97562326381313,358.8662947898095,344.6122102987134,340.09974289449156,338.8851604138752,334.8384996181412,329.90244195276915,323.70647688474617,325.3113325123576,319.73330563799163,312.01005237528005],\"type\":\"scatter\",\"xaxis\":\"x2\",\"yaxis\":\"y2\"},{\"line\":{\"color\":\"rgb(93, 164, 214)\",\"width\":4},\"name\":\"all\",\"x\":[0.9,0.905,0.91,0.915,0.92,0.925,0.93,0.935,0.9400000000000001,0.9450000000000001,0.95,0.9550000000000001,0.96,0.965,0.97,0.975,0.98,0.985,0.99,0.995,1.0,1.005,1.01,1.015,1.02,1.025,1.03,1.035,1.04,1.045,1.05,1.055,1.06,1.065,1.07,1.075,1.08,1.085,1.09,1.095,1.1,1.105,1.1099999999999999,1.115,1.12,1.125,1.13,1.135,1.14,1.145,1.15,1.155,1.16,1.165,1.17,1.175,1.18,1.185,1.19,1.1949999999999998,1.2,1.205,1.21,1.2149999999999999,1.22,1.225,1.23,1.2349999999999999,1.24,1.245,1.25,1.255,1.26,1.265,1.27,1.275,1.28,1.285,1.29,1.295,1.2999999999999998,1.305,1.31,1.315,1.3199999999999998,1.325,1.33,1.335,1.3399999999999999,1.345,1.35,1.355,1.3599999999999999,1.365,1.3699999999999999,1.375,1.38,1.385,1.39,1.395,1.4],\"y\":[-24826.566441670722,-24826.566441670722,-24826.566441670722,-24828.72203588488,-24683.517222000813,-24242.574892845067,-23243.822864268794,-21584.8305359599,-19241.87974188477,-16194.446943074976,-12827.46552001131,-9490.028145657194,-6129.690241246756,-2801.4308618558994,125.90602145436247,2997.2411274494507,5490.190702387252,7764.304762911834,9509.174149645265,11287.661478919395,12503.809657859068,13584.30780846,14389.091631002108,15035.551243479287,15771.63539515646,16168.197789302718,16450.57313728466,16793.7655596885,16817.122781870716,16838.92833235036,16696.095237327692,16532.273513114174,16425.293747499745,16268.563446578277,15858.7946925884,15538.936652309076,15442.08516141787,15029.835626883778,14501.741476181014,14346.823709024471,14094.515641412665,13768.908527599177,13492.360677647188,13246.012349174169,12959.509707430354,12603.816335199292,12325.080642756378,11947.441631356303,11732.69021804937,11476.45470372612,11338.805248088465,10997.420983273974,10709.983054790915,10458.384393567309,10203.588086450356,9955.531361927799,9657.646410304142,9452.733254622442,9180.68193207523,8921.01458706825,8765.192059257104,8501.066798134443,8255.293824982697,8137.394468909802,7880.12688308026,7717.806249402209,7534.966294439835,7368.783476420499,7175.779836099097,7049.56580071732,6894.976528803497,6799.973774503309,6606.965529151905,6420.639296044285,6318.6437926782155,6200.449977281964,6064.43561456789,5945.7418704442525,5844.996584285269,5700.544563137675,5559.464460327975,5407.214676555534,5274.389686036428,5133.356730021055,5008.244362075169,4860.775236781074,4770.725318017983,4671.055058989944,4556.095941782523,4459.097609387926,4318.767440301175,4197.100504771196,4119.020318042325,3996.935923540545,3889.532981990642,3841.4813545523816,3730.4676229082706,3649.5028314571073,3574.048431218891,3537.4174302150514,3475.2366410903396],\"type\":\"scatter\",\"xaxis\":\"x3\",\"yaxis\":\"y3\"},{\"line\":{\"color\":\"rgb(255, 144, 14)\",\"width\":1},\"name\":\"home\",\"x\":[0.9,0.905,0.91,0.915,0.92,0.925,0.93,0.935,0.9400000000000001,0.9450000000000001,0.95,0.9550000000000001,0.96,0.965,0.97,0.975,0.98,0.985,0.99,0.995,1.0,1.005,1.01,1.015,1.02,1.025,1.03,1.035,1.04,1.045,1.05,1.055,1.06,1.065,1.07,1.075,1.08,1.085,1.09,1.095,1.1,1.105,1.1099999999999999,1.115,1.12,1.125,1.13,1.135,1.14,1.145,1.15,1.155,1.16,1.165,1.17,1.175,1.18,1.185,1.19,1.1949999999999998,1.2,1.205,1.21,1.2149999999999999,1.22,1.225,1.23,1.2349999999999999,1.24,1.245,1.25,1.255,1.26,1.265,1.27,1.275,1.28,1.285,1.29,1.295,1.2999999999999998,1.305,1.31,1.315,1.3199999999999998,1.325,1.33,1.335,1.3399999999999999,1.345,1.35,1.355,1.3599999999999999,1.365,1.3699999999999999,1.375,1.38,1.385,1.39,1.395,1.4],\"y\":[-10997.813811642765,-10997.813811642765,-10997.813811642765,-10996.466600952766,-10905.367770178244,-10611.5355453839,-10066.560355706393,-9248.048442857902,-7883.297310102756,-6218.521692265038,-4246.028547557132,-2449.0938101008405,-662.5971530644308,982.0441538608911,2553.9346540525385,3959.4486203565934,5255.2670298905305,6568.091263574897,7461.0573413878765,8268.186081312102,8796.127780709368,9224.6922939234,9473.991104448623,9634.237847169876,9770.719061319533,9788.312720320653,9666.339893746737,9671.531676722514,9543.692901669323,9568.31791550248,9467.478852094819,9348.662039534882,9212.299232859898,9041.91062797912,8859.89523879613,8571.360560453006,8433.623830202578,8215.627925753693,7964.86013777523,7830.280136080735,7573.547835895909,7398.856755304642,7202.013430131439,7019.099643244251,6799.632363331954,6609.9396473495835,6432.7014409267995,6200.796784402248,6102.060633514164,6016.7086407663,5902.492375542287,5725.064250264365,5576.812110778456,5450.798108231665,5289.093394325698,5173.454384613313,5034.130082009988,5012.422479553081,4892.550801398208,4746.778816006488,4679.624011909796,4550.39759791668,4413.811540280574,4345.513013023962,4224.727122071483,4121.008243498123,4054.312215414617,3988.7012969529364,3873.741361466257,3795.6614581505746,3705.9039394244,3675.1855097043813,3585.3272643250484,3523.7968826343485,3463.916177783295,3404.451802690371,3362.785541654485,3320.6771092160093,3275.8255170761086,3213.6905518429126,3164.2522103285746,3116.0932665329406,3059.340457913509,3008.144588899102,2915.1973831332284,2849.6774787256863,2798.439767364312,2748.317007770271,2676.114846273713,2610.696835329273,2550.933831211531,2499.2670918403,2469.7808209822742,2395.504542113864,2340.808556081266,2304.1628739260723,2221.7787835872973,2167.469882395243,2111.6055075178538,2090.3177182635363,2048.4793139225085],\"type\":\"scatter\",\"xaxis\":\"x3\",\"yaxis\":\"y3\"},{\"line\":{\"color\":\"rgb(44, 160, 101)\",\"width\":1},\"name\":\"draw\",\"x\":[0.9,0.905,0.91,0.915,0.92,0.925,0.93,0.935,0.9400000000000001,0.9450000000000001,0.95,0.9550000000000001,0.96,0.965,0.97,0.975,0.98,0.985,0.99,0.995,1.0,1.005,1.01,1.015,1.02,1.025,1.03,1.035,1.04,1.045,1.05,1.055,1.06,1.065,1.07,1.075,1.08,1.085,1.09,1.095,1.1,1.105,1.1099999999999999,1.115,1.12,1.125,1.13,1.135,1.14,1.145,1.15,1.155,1.16,1.165,1.17,1.175,1.18,1.185,1.19,1.1949999999999998,1.2,1.205,1.21,1.2149999999999999,1.22,1.225,1.23,1.2349999999999999,1.24,1.245,1.25,1.255,1.26,1.265,1.27,1.275,1.28,1.285,1.29,1.295,1.2999999999999998,1.305,1.31,1.315,1.3199999999999998,1.325,1.33,1.335,1.3399999999999999,1.345,1.35,1.355,1.3599999999999999,1.365,1.3699999999999999,1.375,1.38,1.385,1.39,1.395,1.4],\"y\":[-2403.2698744901027,-2403.2698744901027,-2403.2698744901027,-2405.5419652077826,-2377.6895109335082,-2352.037905996715,-2248.6505813758695,-1955.8146409082863,-1741.3305401569614,-1294.3674894197056,-933.2072053677406,-379.26303273931876,69.01116768980827,554.0414913967916,920.1417792897529,1287.60471142052,1574.4700343445877,1869.570558372761,2187.0794253605623,2583.9940049085803,2864.3227899793733,3084.9545621585826,3286.054890012066,3564.008669123311,3857.0376362675192,4110.648389182345,4374.002070163637,4548.02011094097,4567.082049102937,4524.54541034578,4414.45479445654,4421.202173014124,4448.267497698093,4406.30444830393,4164.51496166786,4061.276102315829,4035.1918843021613,3865.7470209037597,3713.730011092351,3667.5349306795592,3663.251361662636,3566.502043115107,3487.208224948387,3333.8061298948714,3215.9425973055245,3068.723456687018,2988.9288818044074,2891.765776462515,2844.9226230507147,2735.518919558542,2708.36539538657,2597.6822119558283,2476.3427663392604,2368.830904961094,2318.59486549718,2209.8888077413108,2072.8469510514765,1960.1557371165868,1835.2399296258418,1751.8966955920714,1693.6661206104432,1609.4348682039054,1502.5289472344612,1447.0507758525523,1364.320467907671,1323.6202405224844,1276.2630258505865,1219.2099030894165,1189.2896917667376,1154.734083635279,1126.1100758519674,1097.0165147120974,1055.9521573746267,1017.9542184454116,1007.381581935322,997.9623839061646,954.3363900912636,925.3029256476237,911.3479686767784,870.0376079267457,856.1207182305126,828.4310221334032,812.9405109987798,797.5221179737978,793.1257897542596,787.0909449026647,777.5833388278862,768.8416295518946,766.6961757811008,749.6560752677344,742.373872664147,721.1661822691294,700.7625996948535,677.1721810761853,675.4677960680071,670.988548304488,662.3364369810947,664.5094887492454,664.9946643505634,662.9363852317381,657.410684208447],\"type\":\"scatter\",\"xaxis\":\"x3\",\"yaxis\":\"y3\"},{\"line\":{\"color\":\"rgb(255, 65, 54)\",\"width\":1},\"name\":\"away\",\"x\":[0.9,0.905,0.91,0.915,0.92,0.925,0.93,0.935,0.9400000000000001,0.9450000000000001,0.95,0.9550000000000001,0.96,0.965,0.97,0.975,0.98,0.985,0.99,0.995,1.0,1.005,1.01,1.015,1.02,1.025,1.03,1.035,1.04,1.045,1.05,1.055,1.06,1.065,1.07,1.075,1.08,1.085,1.09,1.095,1.1,1.105,1.1099999999999999,1.115,1.12,1.125,1.13,1.135,1.14,1.145,1.15,1.155,1.16,1.165,1.17,1.175,1.18,1.185,1.19,1.1949999999999998,1.2,1.205,1.21,1.2149999999999999,1.22,1.225,1.23,1.2349999999999999,1.24,1.245,1.25,1.255,1.26,1.265,1.27,1.275,1.28,1.285,1.29,1.295,1.2999999999999998,1.305,1.31,1.315,1.3199999999999998,1.325,1.33,1.335,1.3399999999999999,1.345,1.35,1.355,1.3599999999999999,1.365,1.3699999999999999,1.375,1.38,1.385,1.39,1.395,1.4],\"y\":[-11425.482755537834,-11425.482755537834,-11425.482755537834,-11426.713469724318,-11400.459940889066,-11279.001441464445,-10928.611927186534,-10380.967452193734,-9617.251891625052,-8681.557761390246,-7648.229767086458,-6661.671302817036,-5536.104255872134,-4337.516507113583,-3348.1704118879306,-2249.812204327662,-1339.5463618478693,-673.3570590358277,-138.9626171031738,435.4813926987164,843.3590871703218,1274.660952378013,1629.0456365414095,1837.3047271860978,2143.8786975694006,2269.2366797997197,2410.2311733742968,2574.213772025019,2706.3478310984465,2746.0650065021036,2814.161590776327,2762.409300565172,2764.727016941763,2820.348370295229,2834.384492124408,2906.2999895402395,2973.2694469131297,2948.460680226329,2823.151327313429,2849.008642264176,2857.716443854115,2803.549729179429,2803.1390225673617,2893.1065760350457,2943.9347467928765,2925.1532311626843,2903.450320025176,2854.87907049154,2785.7069614844922,2724.2271434012773,2727.947477159607,2674.674521053778,2656.8281776731983,2638.755380374548,2595.8998266274784,2572.188169573173,2550.669377242676,2480.155037952775,2452.8912010511813,2422.339075469691,2391.9019267368662,2341.234332013855,2338.9533374676607,2344.830680033285,2291.0792931011056,2273.1777653816025,2204.3910531746305,2160.872276378148,2112.748782866103,2099.170258931466,2062.96251352713,2027.7717500868291,1965.6861074522317,1878.8881949645252,1847.3460329595982,1798.0357906854279,1747.313682822143,1699.7618355806185,1657.8230985323835,1616.8164033680166,1539.0915317688875,1462.6903878891899,1402.108717124139,1327.6900231481557,1299.9211891876803,1224.006813152724,1194.7022118257846,1153.8964216677778,1113.2849197277096,1098.7446987909195,1025.4597364254969,976.6672306617668,948.4768973651966,924.2592003504959,873.2566298413685,866.3299323218222,846.3524023398791,817.523460312619,797.4482593504738,784.163326719776,769.3466429593836],\"type\":\"scatter\",\"xaxis\":\"x3\",\"yaxis\":\"y3\"}],                        {\"template\":{\"data\":{\"histogram2dcontour\":[{\"type\":\"histogram2dcontour\",\"colorbar\":{\"outlinewidth\":0,\"ticks\":\"\"},\"colorscale\":[[0.0,\"#0d0887\"],[0.1111111111111111,\"#46039f\"],[0.2222222222222222,\"#7201a8\"],[0.3333333333333333,\"#9c179e\"],[0.4444444444444444,\"#bd3786\"],[0.5555555555555556,\"#d8576b\"],[0.6666666666666666,\"#ed7953\"],[0.7777777777777778,\"#fb9f3a\"],[0.8888888888888888,\"#fdca26\"],[1.0,\"#f0f921\"]]}],\"choropleth\":[{\"type\":\"choropleth\",\"colorbar\":{\"outlinewidth\":0,\"ticks\":\"\"}}],\"histogram2d\":[{\"type\":\"histogram2d\",\"colorbar\":{\"outlinewidth\":0,\"ticks\":\"\"},\"colorscale\":[[0.0,\"#0d0887\"],[0.1111111111111111,\"#46039f\"],[0.2222222222222222,\"#7201a8\"],[0.3333333333333333,\"#9c179e\"],[0.4444444444444444,\"#bd3786\"],[0.5555555555555556,\"#d8576b\"],[0.6666666666666666,\"#ed7953\"],[0.7777777777777778,\"#fb9f3a\"],[0.8888888888888888,\"#fdca26\"],[1.0,\"#f0f921\"]]}],\"heatmap\":[{\"type\":\"heatmap\",\"colorbar\":{\"outlinewidth\":0,\"ticks\":\"\"},\"colorscale\":[[0.0,\"#0d0887\"],[0.1111111111111111,\"#46039f\"],[0.2222222222222222,\"#7201a8\"],[0.3333333333333333,\"#9c179e\"],[0.4444444444444444,\"#bd3786\"],[0.5555555555555556,\"#d8576b\"],[0.6666666666666666,\"#ed7953\"],[0.7777777777777778,\"#fb9f3a\"],[0.8888888888888888,\"#fdca26\"],[1.0,\"#f0f921\"]]}],\"heatmapgl\":[{\"type\":\"heatmapgl\",\"colorbar\":{\"outlinewidth\":0,\"ticks\":\"\"},\"colorscale\":[[0.0,\"#0d0887\"],[0.1111111111111111,\"#46039f\"],[0.2222222222222222,\"#7201a8\"],[0.3333333333333333,\"#9c179e\"],[0.4444444444444444,\"#bd3786\"],[0.5555555555555556,\"#d8576b\"],[0.6666666666666666,\"#ed7953\"],[0.7777777777777778,\"#fb9f3a\"],[0.8888888888888888,\"#fdca26\"],[1.0,\"#f0f921\"]]}],\"contourcarpet\":[{\"type\":\"contourcarpet\",\"colorbar\":{\"outlinewidth\":0,\"ticks\":\"\"}}],\"contour\":[{\"type\":\"contour\",\"colorbar\":{\"outlinewidth\":0,\"ticks\":\"\"},\"colorscale\":[[0.0,\"#0d0887\"],[0.1111111111111111,\"#46039f\"],[0.2222222222222222,\"#7201a8\"],[0.3333333333333333,\"#9c179e\"],[0.4444444444444444,\"#bd3786\"],[0.5555555555555556,\"#d8576b\"],[0.6666666666666666,\"#ed7953\"],[0.7777777777777778,\"#fb9f3a\"],[0.8888888888888888,\"#fdca26\"],[1.0,\"#f0f921\"]]}],\"surface\":[{\"type\":\"surface\",\"colorbar\":{\"outlinewidth\":0,\"ticks\":\"\"},\"colorscale\":[[0.0,\"#0d0887\"],[0.1111111111111111,\"#46039f\"],[0.2222222222222222,\"#7201a8\"],[0.3333333333333333,\"#9c179e\"],[0.4444444444444444,\"#bd3786\"],[0.5555555555555556,\"#d8576b\"],[0.6666666666666666,\"#ed7953\"],[0.7777777777777778,\"#fb9f3a\"],[0.8888888888888888,\"#fdca26\"],[1.0,\"#f0f921\"]]}],\"mesh3d\":[{\"type\":\"mesh3d\",\"colorbar\":{\"outlinewidth\":0,\"ticks\":\"\"}}],\"scatter\":[{\"fillpattern\":{\"fillmode\":\"overlay\",\"size\":10,\"solidity\":0.2},\"type\":\"scatter\"}],\"parcoords\":[{\"type\":\"parcoords\",\"line\":{\"colorbar\":{\"outlinewidth\":0,\"ticks\":\"\"}}}],\"scatterpolargl\":[{\"type\":\"scatterpolargl\",\"marker\":{\"colorbar\":{\"outlinewidth\":0,\"ticks\":\"\"}}}],\"bar\":[{\"error_x\":{\"color\":\"#2a3f5f\"},\"error_y\":{\"color\":\"#2a3f5f\"},\"marker\":{\"line\":{\"color\":\"#E5ECF6\",\"width\":0.5},\"pattern\":{\"fillmode\":\"overlay\",\"size\":10,\"solidity\":0.2}},\"type\":\"bar\"}],\"scattergeo\":[{\"type\":\"scattergeo\",\"marker\":{\"colorbar\":{\"outlinewidth\":0,\"ticks\":\"\"}}}],\"scatterpolar\":[{\"type\":\"scatterpolar\",\"marker\":{\"colorbar\":{\"outlinewidth\":0,\"ticks\":\"\"}}}],\"histogram\":[{\"marker\":{\"pattern\":{\"fillmode\":\"overlay\",\"size\":10,\"solidity\":0.2}},\"type\":\"histogram\"}],\"scattergl\":[{\"type\":\"scattergl\",\"marker\":{\"colorbar\":{\"outlinewidth\":0,\"ticks\":\"\"}}}],\"scatter3d\":[{\"type\":\"scatter3d\",\"line\":{\"colorbar\":{\"outlinewidth\":0,\"ticks\":\"\"}},\"marker\":{\"colorbar\":{\"outlinewidth\":0,\"ticks\":\"\"}}}],\"scattermapbox\":[{\"type\":\"scattermapbox\",\"marker\":{\"colorbar\":{\"outlinewidth\":0,\"ticks\":\"\"}}}],\"scatterternary\":[{\"type\":\"scatterternary\",\"marker\":{\"colorbar\":{\"outlinewidth\":0,\"ticks\":\"\"}}}],\"scattercarpet\":[{\"type\":\"scattercarpet\",\"marker\":{\"colorbar\":{\"outlinewidth\":0,\"ticks\":\"\"}}}],\"carpet\":[{\"aaxis\":{\"endlinecolor\":\"#2a3f5f\",\"gridcolor\":\"white\",\"linecolor\":\"white\",\"minorgridcolor\":\"white\",\"startlinecolor\":\"#2a3f5f\"},\"baxis\":{\"endlinecolor\":\"#2a3f5f\",\"gridcolor\":\"white\",\"linecolor\":\"white\",\"minorgridcolor\":\"white\",\"startlinecolor\":\"#2a3f5f\"},\"type\":\"carpet\"}],\"table\":[{\"cells\":{\"fill\":{\"color\":\"#EBF0F8\"},\"line\":{\"color\":\"white\"}},\"header\":{\"fill\":{\"color\":\"#C8D4E3\"},\"line\":{\"color\":\"white\"}},\"type\":\"table\"}],\"barpolar\":[{\"marker\":{\"line\":{\"color\":\"#E5ECF6\",\"width\":0.5},\"pattern\":{\"fillmode\":\"overlay\",\"size\":10,\"solidity\":0.2}},\"type\":\"barpolar\"}],\"pie\":[{\"automargin\":true,\"type\":\"pie\"}]},\"layout\":{\"autotypenumbers\":\"strict\",\"colorway\":[\"#636efa\",\"#EF553B\",\"#00cc96\",\"#ab63fa\",\"#FFA15A\",\"#19d3f3\",\"#FF6692\",\"#B6E880\",\"#FF97FF\",\"#FECB52\"],\"font\":{\"color\":\"#2a3f5f\"},\"hovermode\":\"closest\",\"hoverlabel\":{\"align\":\"left\"},\"paper_bgcolor\":\"white\",\"plot_bgcolor\":\"#E5ECF6\",\"polar\":{\"bgcolor\":\"#E5ECF6\",\"angularaxis\":{\"gridcolor\":\"white\",\"linecolor\":\"white\",\"ticks\":\"\"},\"radialaxis\":{\"gridcolor\":\"white\",\"linecolor\":\"white\",\"ticks\":\"\"}},\"ternary\":{\"bgcolor\":\"#E5ECF6\",\"aaxis\":{\"gridcolor\":\"white\",\"linecolor\":\"white\",\"ticks\":\"\"},\"baxis\":{\"gridcolor\":\"white\",\"linecolor\":\"white\",\"ticks\":\"\"},\"caxis\":{\"gridcolor\":\"white\",\"linecolor\":\"white\",\"ticks\":\"\"}},\"coloraxis\":{\"colorbar\":{\"outlinewidth\":0,\"ticks\":\"\"}},\"colorscale\":{\"sequential\":[[0.0,\"#0d0887\"],[0.1111111111111111,\"#46039f\"],[0.2222222222222222,\"#7201a8\"],[0.3333333333333333,\"#9c179e\"],[0.4444444444444444,\"#bd3786\"],[0.5555555555555556,\"#d8576b\"],[0.6666666666666666,\"#ed7953\"],[0.7777777777777778,\"#fb9f3a\"],[0.8888888888888888,\"#fdca26\"],[1.0,\"#f0f921\"]],\"sequentialminus\":[[0.0,\"#0d0887\"],[0.1111111111111111,\"#46039f\"],[0.2222222222222222,\"#7201a8\"],[0.3333333333333333,\"#9c179e\"],[0.4444444444444444,\"#bd3786\"],[0.5555555555555556,\"#d8576b\"],[0.6666666666666666,\"#ed7953\"],[0.7777777777777778,\"#fb9f3a\"],[0.8888888888888888,\"#fdca26\"],[1.0,\"#f0f921\"]],\"diverging\":[[0,\"#8e0152\"],[0.1,\"#c51b7d\"],[0.2,\"#de77ae\"],[0.3,\"#f1b6da\"],[0.4,\"#fde0ef\"],[0.5,\"#f7f7f7\"],[0.6,\"#e6f5d0\"],[0.7,\"#b8e186\"],[0.8,\"#7fbc41\"],[0.9,\"#4d9221\"],[1,\"#276419\"]]},\"xaxis\":{\"gridcolor\":\"white\",\"linecolor\":\"white\",\"ticks\":\"\",\"title\":{\"standoff\":15},\"zerolinecolor\":\"white\",\"automargin\":true,\"zerolinewidth\":2},\"yaxis\":{\"gridcolor\":\"white\",\"linecolor\":\"white\",\"ticks\":\"\",\"title\":{\"standoff\":15},\"zerolinecolor\":\"white\",\"automargin\":true,\"zerolinewidth\":2},\"scene\":{\"xaxis\":{\"backgroundcolor\":\"#E5ECF6\",\"gridcolor\":\"white\",\"linecolor\":\"white\",\"showbackground\":true,\"ticks\":\"\",\"zerolinecolor\":\"white\",\"gridwidth\":2},\"yaxis\":{\"backgroundcolor\":\"#E5ECF6\",\"gridcolor\":\"white\",\"linecolor\":\"white\",\"showbackground\":true,\"ticks\":\"\",\"zerolinecolor\":\"white\",\"gridwidth\":2},\"zaxis\":{\"backgroundcolor\":\"#E5ECF6\",\"gridcolor\":\"white\",\"linecolor\":\"white\",\"showbackground\":true,\"ticks\":\"\",\"zerolinecolor\":\"white\",\"gridwidth\":2}},\"shapedefaults\":{\"line\":{\"color\":\"#2a3f5f\"}},\"annotationdefaults\":{\"arrowcolor\":\"#2a3f5f\",\"arrowhead\":0,\"arrowwidth\":1},\"geo\":{\"bgcolor\":\"white\",\"landcolor\":\"#E5ECF6\",\"subunitcolor\":\"white\",\"showland\":true,\"showlakes\":true,\"lakecolor\":\"white\"},\"title\":{\"x\":0.05},\"mapbox\":{\"style\":\"light\"}}},\"xaxis\":{\"anchor\":\"y\",\"domain\":[0.0,1.0],\"matches\":\"x3\",\"showticklabels\":false},\"yaxis\":{\"anchor\":\"x\",\"domain\":[0.68,1.0],\"rangemode\":\"nonnegative\"},\"xaxis2\":{\"anchor\":\"y2\",\"domain\":[0.0,1.0],\"matches\":\"x3\",\"showticklabels\":false},\"yaxis2\":{\"anchor\":\"x2\",\"domain\":[0.34,0.66],\"rangemode\":\"nonnegative\"},\"xaxis3\":{\"anchor\":\"y3\",\"domain\":[0.0,1.0]},\"yaxis3\":{\"anchor\":\"x3\",\"domain\":[0.0,0.32],\"rangemode\":\"nonnegative\"},\"annotations\":[{\"font\":{\"size\":16},\"showarrow\":false,\"text\":\"holdout\",\"x\":0.5,\"xanchor\":\"center\",\"xref\":\"paper\",\"y\":1.0,\"yanchor\":\"bottom\",\"yref\":\"paper\"},{\"font\":{\"size\":16},\"showarrow\":false,\"text\":\"test\",\"x\":0.5,\"xanchor\":\"center\",\"xref\":\"paper\",\"y\":0.66,\"yanchor\":\"bottom\",\"yref\":\"paper\"},{\"font\":{\"size\":16},\"showarrow\":false,\"text\":\"train\",\"x\":0.5,\"xanchor\":\"center\",\"xref\":\"paper\",\"y\":0.32,\"yanchor\":\"bottom\",\"yref\":\"paper\"}],\"title\":{\"text\":\"profit validation\"},\"height\":800,\"width\":900},                        {\"responsive\": true}                    ).then(function(){\n",
              "                            \n",
              "var gd = document.getElementById('ccfe0826-eb3a-4b89-b2c9-8ee7f4be90a1');\n",
              "var x = new MutationObserver(function (mutations, observer) {{\n",
              "        var display = window.getComputedStyle(gd).display;\n",
              "        if (!display || display === 'none') {{\n",
              "            console.log([gd, 'removed!']);\n",
              "            Plotly.purge(gd);\n",
              "            observer.disconnect();\n",
              "        }}\n",
              "}});\n",
              "\n",
              "// Listen for the removal of the full notebook cells\n",
              "var notebookContainer = gd.closest('#notebook-container');\n",
              "if (notebookContainer) {{\n",
              "    x.observe(notebookContainer, {childList: true});\n",
              "}}\n",
              "\n",
              "// Listen for the clearing of the current output cell\n",
              "var outputEl = gd.closest('.output');\n",
              "if (outputEl) {{\n",
              "    x.observe(outputEl, {childList: true});\n",
              "}}\n",
              "\n",
              "                        })                };                            </script>        </div>\n",
              "</body>\n",
              "</html>"
            ]
          },
          "metadata": {}
        }
      ]
    },
    {
      "cell_type": "code",
      "source": [
        "model_version = neptune.init_model_version(**model_version_params)\n",
        "model_version[f'threshold_model_final'].upload(neptune.types.File.as_html(fig))\n",
        "model_version.stop()"
      ],
      "metadata": {
        "id": "8ny5dcsT5CbH"
      },
      "execution_count": null,
      "outputs": []
    },
    {
      "cell_type": "code",
      "source": [
        "!tar -czvf ./models.tar.gz ./models/*"
      ],
      "metadata": {
        "colab": {
          "base_uri": "https://localhost:8080/"
        },
        "id": "G8fih0bvLgi1",
        "outputId": "03ed763f-0ac9-40e9-afae-fbd51a543c94"
      },
      "execution_count": null,
      "outputs": [
        {
          "output_type": "stream",
          "name": "stdout",
          "text": [
            "./models/booster_0.model\n",
            "./models/booster_1.model\n",
            "./models/booster_2.model\n"
          ]
        }
      ]
    }
  ]
}