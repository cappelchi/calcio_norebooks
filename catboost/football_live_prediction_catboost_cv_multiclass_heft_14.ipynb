{
  "nbformat": 4,
  "nbformat_minor": 0,
  "metadata": {
    "colab": {
      "provenance": [],
      "collapsed_sections": [
        "5TmD4vhiscmr",
        "wKKP71QH5Nc_",
        "OBy3RQZy5Fs0",
        "y-aB2ZmG48Ob",
        "xXtEqwN74m4H"
      ],
      "gpuType": "T4",
      "authorship_tag": "ABX9TyPlBDgrU2xTUvfB9j8a2IOY",
      "include_colab_link": true
    },
    "kernelspec": {
      "name": "python3",
      "display_name": "Python 3"
    },
    "language_info": {
      "name": "python"
    },
    "gpuClass": "standard",
    "accelerator": "GPU"
  },
  "cells": [
    {
      "cell_type": "markdown",
      "metadata": {
        "id": "view-in-github",
        "colab_type": "text"
      },
      "source": [
        "<a href=\"https://colab.research.google.com/github/cappelchi/calcio_notebooks/blob/main/catboost/football_live_prediction_catboost_cv_multiclass_heft_14.ipynb\" target=\"_parent\"><img src=\"https://colab.research.google.com/assets/colab-badge.svg\" alt=\"Open In Colab\"/></a>"
      ]
    },
    {
      "cell_type": "markdown",
      "source": [
        "\n",
        "[CatBoost - An In-Depth Guide [Python API]](https://coderzcolumn.com/tutorials/machine-learning/catboost-an-in-depth-guide-python#9)<br>\n",
        "[Catboost](https://catboost.ai/en/docs/concepts/python-reference_pool)<br>\n",
        "[Cross-Validation Techniques](https://medium.com/geekculture/cross-validation-techniques-33d389897878)<br>\n",
        "[https://github.com/catboost/tutorials/blob/master/cross_validation/cv_tutorial.ipynb](https://github.com/catboost/tutorials/blob/master/cross_validation/cv_tutorial.ipynb)\n"
      ],
      "metadata": {
        "id": "PJdR9nm3sU58"
      }
    },
    {
      "cell_type": "markdown",
      "source": [
        "### Project config"
      ],
      "metadata": {
        "id": "5TmD4vhiscmr"
      }
    },
    {
      "cell_type": "code",
      "source": [
        "try:\n",
        "    import neptune.new as neptune\n",
        "except:\n",
        "    !pip install neptune-client >> None\n",
        "    import neptune.new as neptune\n"
      ],
      "metadata": {
        "colab": {
          "base_uri": "https://localhost:8080/"
        },
        "id": "d4vPCODXs4GL",
        "outputId": "2653455a-0caf-4258-82fb-54df12039c61"
      },
      "execution_count": 1,
      "outputs": [
        {
          "output_type": "stream",
          "name": "stderr",
          "text": [
            "/usr/local/lib/python3.10/dist-packages/neptune/internal/backends/hosted_client.py:50: NeptuneDeprecationWarning: The 'neptune-client' package has been deprecated and will be removed in the future. Install the 'neptune' package instead. For more, see https://docs.neptune.ai/setup/upgrading/\n",
            "  from neptune.version import version as neptune_client_version\n",
            "<ipython-input-1-4771ddf98365>:5: NeptuneDeprecationWarning: You're importing the Neptune client library via the deprecated `neptune.new` module, which will be removed in a future release. Import directly from `neptune` instead.\n",
            "  import neptune.new as neptune\n"
          ]
        }
      ]
    },
    {
      "cell_type": "code",
      "source": [
        "def get_credential(frmwork = 'neptune_team'):\n",
        "    with open('credential.txt', 'r') as container:\n",
        "        for line in container:\n",
        "            if frmwork in line:\n",
        "                login, psw = line.split(' ')[1], line.split(' ')[2].split('\\n')[0]\n",
        "                return login, psw\n",
        "\n",
        "#@title Set API key for neptune.ai\n",
        "set_api = True #@param {type:\"boolean\"}\n",
        "if set_api:\n",
        "    username, api_key = get_credential()"
      ],
      "metadata": {
        "id": "k8ejW2lptEij",
        "cellView": "form"
      },
      "execution_count": 2,
      "outputs": []
    },
    {
      "cell_type": "markdown",
      "source": [
        "### Installations"
      ],
      "metadata": {
        "id": "wKKP71QH5Nc_"
      }
    },
    {
      "cell_type": "code",
      "source": [
        "!pip install catboost >> None\n",
        "!pip install deap >> None"
      ],
      "metadata": {
        "id": "L8IvJXwl5I9y"
      },
      "execution_count": 3,
      "outputs": []
    },
    {
      "cell_type": "markdown",
      "source": [
        "### Downloads"
      ],
      "metadata": {
        "id": "OBy3RQZy5Fs0"
      }
    },
    {
      "cell_type": "code",
      "source": [
        "project = neptune.init_project(\n",
        "    project=\"scomesse/football\", \n",
        "    api_token = api_key\n",
        "    )\n",
        "\n",
        "data_version = 'football_live_main_part_npz_230510/'\n",
        "project[data_version + 'dataset'].download('./dataset.npz')\n",
        "project[data_version + 'additional_data'].download('./additional_data.npz')\n",
        "project[data_version + 'time'].download('./time.csv')\n",
        "data_params = project[data_version + 'params'].fetch()\n",
        "\n",
        "data_version = 'football_live_upd_230510/'\n",
        "project[data_version + 'dataset'].download('./dataset_upd.npz')\n",
        "project[data_version + 'additional_data'].download('./additional_data_upd.npz')\n",
        "project[data_version + 'time'].download('./time_upd.csv')\n",
        "data_params_upd = project[data_version + 'params'].fetch()\n",
        "project.stop()"
      ],
      "metadata": {
        "colab": {
          "base_uri": "https://localhost:8080/"
        },
        "id": "t6N_cpRZ4_sD",
        "outputId": "7ff84c17-cdae-44ce-d288-7d1c117ee55b"
      },
      "execution_count": 4,
      "outputs": [
        {
          "output_type": "stream",
          "name": "stdout",
          "text": [
            "https://app.neptune.ai/scomesse/football/\n",
            "Shutting down background jobs, please wait a moment...\n",
            "Done!\n",
            "All 0 operations synced, thanks for waiting!\n",
            "Explore the metadata in the Neptune app:\n",
            "https://app.neptune.ai/scomesse/football/metadata\n"
          ]
        }
      ]
    },
    {
      "cell_type": "markdown",
      "source": [
        "### Imports"
      ],
      "metadata": {
        "id": "y-aB2ZmG48Ob"
      }
    },
    {
      "cell_type": "code",
      "source": [
        "import pandas as pd\n",
        "import numpy as np\n",
        "pd.options.display.max_columns = 50\n",
        "pd.options.display.max_rows = 100\n",
        "print(pd.__version__)\n",
        "print(np.__version__)"
      ],
      "metadata": {
        "colab": {
          "base_uri": "https://localhost:8080/"
        },
        "id": "15bNjVgR45yt",
        "outputId": "7c0ed57e-2536-49c9-c3d8-2af59002a07e"
      },
      "execution_count": 5,
      "outputs": [
        {
          "output_type": "stream",
          "name": "stdout",
          "text": [
            "1.5.3\n",
            "1.22.4\n"
          ]
        }
      ]
    },
    {
      "cell_type": "code",
      "source": [
        "from tqdm import tqdm\n",
        "import plotly.express as px\n",
        "import os, psutil, time\n",
        "import gc"
      ],
      "metadata": {
        "id": "3ENZi1yP43bo"
      },
      "execution_count": 6,
      "outputs": []
    },
    {
      "cell_type": "code",
      "source": [
        "import plotly.graph_objects as go\n",
        "from plotly.subplots import make_subplots\n",
        "\n",
        "from neptune.utils import stringify_unsupported"
      ],
      "metadata": {
        "id": "9l_wpOuu41dC"
      },
      "execution_count": 7,
      "outputs": []
    },
    {
      "cell_type": "code",
      "source": [
        "from catboost import CatBoost\n",
        "from catboost import utils\n",
        "from catboost import CatBoostClassifier, CatBoostRegressor\n",
        "from catboost import Pool, cv\n",
        "from catboost.utils import eval_metric\n",
        "np.random.seed(147)"
      ],
      "metadata": {
        "id": "Gm3uj2do4x0S"
      },
      "execution_count": 8,
      "outputs": []
    },
    {
      "cell_type": "code",
      "source": [
        "import operator\n",
        "import random\n",
        "from deap import base\n",
        "from deap import creator\n",
        "from deap import tools\n",
        "from deap import algorithms"
      ],
      "metadata": {
        "id": "btyNZKwd4vfM"
      },
      "execution_count": 9,
      "outputs": []
    },
    {
      "cell_type": "markdown",
      "source": [
        "### Code"
      ],
      "metadata": {
        "id": "-5ijAHfK4sRg"
      }
    },
    {
      "cell_type": "markdown",
      "source": [
        "#####Functions"
      ],
      "metadata": {
        "id": "xXtEqwN74m4H"
      }
    },
    {
      "cell_type": "code",
      "source": [
        "def calculate_multiclass(probability_2x:np.array, line_2x:np.array):\n",
        "\n",
        "    probline = probability_2x * line_2x\n",
        "    best_odd_result = np.argmax(probline, axis = 1)\n",
        "    best_odd_float = np.take_along_axis(probline, best_odd_result.reshape(-1, 1), axis = 1)\n",
        "    return {\n",
        "        'argmax':best_odd_result,\n",
        "        'float':best_odd_float[:,0],\n",
        "    }"
      ],
      "metadata": {
        "id": "4rVmvIN84kqr"
      },
      "execution_count": 10,
      "outputs": []
    },
    {
      "cell_type": "code",
      "source": [
        "def precalculate_validation(data_split, active_rows_dict, preds_dict, line_dict, y_dict):\n",
        "    preds_int, preds_float = calculate_multiclass(\n",
        "        preds_dict[data_split][active_rows_dict[data_split]],\n",
        "        line_dict[data_split][active_rows_dict[data_split]]\n",
        "                                                ).values()\n",
        "    y_prof = (y_dict[data_split][active_rows_dict[data_split]] == preds_int) * 1\n",
        "    Line_production = np.take_along_axis(line_dict[data_split][active_rows_dict[data_split]], preds_int.reshape(-1,1), axis = 1)[:, 0]\n",
        "    return y_prof, preds_int, preds_float, Line_production"
      ],
      "metadata": {
        "id": "p3sME3pA4i5-"
      },
      "execution_count": 11,
      "outputs": []
    },
    {
      "cell_type": "code",
      "source": [
        "def make_filter(hda, preds_int):\n",
        "    hda_dict = {'home':0, 'draw':1, 'away':2}\n",
        "    if hda == 'all':\n",
        "        return preds_int > -1\n",
        "    else:\n",
        "        return preds_int == hda_dict[hda]\n"
      ],
      "metadata": {
        "id": "8gzMpOxz4hQF"
      },
      "execution_count": 12,
      "outputs": []
    },
    {
      "cell_type": "code",
      "source": [
        "def get_profit_curve(y, y_pred, Line_production, bet_type = 'fixed', strategy = 'simple'):\n",
        "    #fixed, divk, divk-1\n",
        "    #simple, complex\n",
        "    threshold = []\n",
        "    profit = []\n",
        "    bet_qty_list = []\n",
        "    if bet_type == 'divk':\n",
        "        profit_size = (Line_production - 1) / Line_production\n",
        "        bet_size = Line_production\n",
        "    else:\n",
        "        profit_size = (Line_production - 1)\n",
        "        bet_size = Line_production /Line_production\n",
        "    for th in np.linspace(0.9,1.4,101):\n",
        "        threshold.append(th)           \n",
        "        if strategy == 'simple':\n",
        "            vector_th = y_pred > th\n",
        "        if strategy == 'complex':\n",
        "            vector_th = (y_pred * Line_production / 10) > th\n",
        "        bet_qty_list.append(vector_th.sum())\n",
        "        profit.append((y[vector_th] * profit_size[vector_th] + (y[vector_th] - 1) / bet_size[vector_th]).sum())\n",
        "\n",
        "    return threshold, profit, bet_qty_list"
      ],
      "metadata": {
        "id": "TGf0DDz24Z-a"
      },
      "execution_count": 13,
      "outputs": []
    },
    {
      "cell_type": "code",
      "source": [
        "def profit_validation_by_type(active_rows_dict, preds_dict, line_dict, y_dict):\n",
        "    data_splits = ['holdout', 'test', 'train']\n",
        "    hda_list = ['all', 'home', 'draw', 'away']\n",
        "    title_text = f'Profit & bet qty for validation model in neptune.ai: model_name'\n",
        "    colors = ['rgb(93, 164, 214)', 'rgb(255, 144, 14)',  'rgb(44, 160, 101)', 'rgb(255, 65, 54)']\n",
        "    fig = make_subplots(rows = 3, cols = 1,\n",
        "                        shared_xaxes = True, \n",
        "                        vertical_spacing = 0.02,\n",
        "                        subplot_titles = (\"holdout\", \"test\", \"train\")\n",
        "                        )\n",
        "    for cnt_split, data_split in enumerate(data_splits):\n",
        "        y_prof, preds_int, preds_float, Line_production = precalculate_validation(\n",
        "                        data_split, active_rows_dict, preds_dict, line_dict, y_dict\n",
        "                        )\n",
        "        for cnt_hda, hda in enumerate(hda_list):\n",
        "            sfilter = make_filter(hda, preds_int)\n",
        "            threshold, profit, bet_qty_list = get_profit_curve(\n",
        "                                                y_prof[sfilter], \n",
        "                                                preds_float[sfilter], \n",
        "                                                Line_production[sfilter],\n",
        "                                                bet_type = 'divk'\n",
        "                                                            )\n",
        "            fig.append_trace(go.Scatter(\n",
        "                                    x = threshold,\n",
        "                                    y = profit,\n",
        "                                    name = hda,\n",
        "                                    line = dict(color = colors[cnt_hda], width = 4 - 3 * bool(cnt_hda))),\n",
        "                                    row = cnt_split + 1, col=1)\n",
        "            # Update yaxis properties\n",
        "            fig.update_yaxes(rangemode = 'nonnegative', row = cnt_split + 1, col = 1)\n",
        "\n",
        "    return fig.update_layout(title = 'profit validation', height = 800, width = 900)"
      ],
      "metadata": {
        "id": "2vlVMjd-4W3c"
      },
      "execution_count": 14,
      "outputs": []
    },
    {
      "cell_type": "markdown",
      "source": [
        "##### Prepare Data\n",
        "\n",
        "1. регрессия\n",
        "2. мультиклассовая класификация {AWAY:2,DRAW:1, HOME:0} \n",
        "3. бинарная классификация: <br>\n",
        "    a. HOME vs (DRAW & AWAY)<br>\n",
        "    б. DRAW vs (HOME & AWAY)<br>\n",
        "    в. AWAY vs (HOME & DRAW)<br>"
      ],
      "metadata": {
        "id": "K3gsr1nv36Zj"
      }
    },
    {
      "cell_type": "code",
      "source": [
        "#2010: 145536\n",
        "#2021: 78600\n",
        "#2022: 114949\n",
        "#2023: 27456"
      ],
      "metadata": {
        "id": "pox37_kO3u0o"
      },
      "execution_count": 15,
      "outputs": []
    },
    {
      "cell_type": "code",
      "source": [
        "id_time_df = pd.read_csv('/content/time_upd.csv', parse_dates = ['StatTime'], dayfirst = True)\n",
        "ids_seq = id_time_df.sort_values(by = 'StatTime')['Id'].values[:int(len(id_time_df) / 2)]\n",
        "additional_data_upd = np.load('/content/additional_data_upd.npz')\n",
        "id_vector = np.isin(additional_data_upd['id'], ids_seq)\n",
        "\n",
        "data_npz = np.load('./dataset.npz')\n",
        "data_upd_npz = np.load('./dataset_upd.npz')\n",
        "\n",
        "incollare = False\n",
        "if incollare:\n",
        "    X = np.vstack((data_npz['X'], data_upd_npz['X'][id_vector]))\n",
        "    X_holdout  = data_upd_npz['X'][~id_vector]\n",
        "else:\n",
        "    X = data_npz['X']\n",
        "    X_holdout  = data_upd_npz['X']\n",
        "print(X.shape)\n"
      ],
      "metadata": {
        "colab": {
          "base_uri": "https://localhost:8080/"
        },
        "id": "NmBqfhWR3rC_",
        "outputId": "bb02ac49-1bea-4da2-b816-c2f8a7a89a30"
      },
      "execution_count": 16,
      "outputs": [
        {
          "output_type": "stream",
          "name": "stdout",
          "text": [
            "(13996696, 37)\n"
          ]
        }
      ]
    },
    {
      "cell_type": "code",
      "source": [
        "target_type = \"multiclass\"\n",
        "if incollare:\n",
        "    y = np.hstack((data_npz['y_multi'], data_upd_npz['y_multi'][id_vector]))\n",
        "    y_holdout = data_upd_npz['y_multi'][~id_vector]\n",
        "else:\n",
        "    y = data_npz['y_multi']\n",
        "    y_holdout = data_upd_npz['y_multi']\n",
        "print(X.shape, y.shape)\n",
        "#---------------\n",
        "process = psutil.Process(os.getpid())\n",
        "print('mem usage: ', round(process.memory_info().rss / 1024 ** 3, 2), 'GiB')  # in bytes \n",
        "#---------------"
      ],
      "metadata": {
        "colab": {
          "base_uri": "https://localhost:8080/"
        },
        "id": "OhTyTzENpdc-",
        "outputId": "7fe6cc28-f66a-4f3d-aaa0-62cb8aebfb63"
      },
      "execution_count": 17,
      "outputs": [
        {
          "output_type": "stream",
          "name": "stdout",
          "text": [
            "(13996696, 37) (13996696,)\n",
            "mem usage:  2.39 GiB\n"
          ]
        }
      ]
    },
    {
      "cell_type": "code",
      "source": [
        "!mkdir -p ./models"
      ],
      "metadata": {
        "id": "dSS87xGX3hqr"
      },
      "execution_count": 18,
      "outputs": []
    },
    {
      "cell_type": "markdown",
      "source": [
        "##### Folding"
      ],
      "metadata": {
        "id": "ph3ewOoB4Dqu"
      }
    },
    {
      "cell_type": "code",
      "source": [
        "kfold_splits = 3\n",
        "kfold_size = int(y.shape[0] / kfold_splits)\n",
        "kfold_num = 1\n",
        "kfold_start, kfold_end = kfold_size * kfold_num, kfold_size * (kfold_num + 1)\n",
        "kfold_vector = np.zeros(y.shape[0], dtype = np.bool_)\n",
        "kfold_vector[kfold_start:kfold_end] = True"
      ],
      "metadata": {
        "id": "zidD33Uq3fCl"
      },
      "execution_count": 19,
      "outputs": []
    },
    {
      "cell_type": "code",
      "source": [
        "train_data = Pool(X[~kfold_vector], y[~kfold_vector])\n",
        "test_data = Pool(X[kfold_vector], y[kfold_vector])\n",
        "#---------------\n",
        "process = psutil.Process(os.getpid())\n",
        "print('mem usage: ', round(process.memory_info().rss / 1024 ** 3, 2), 'GiB')  # in bytes \n",
        "#---------------"
      ],
      "metadata": {
        "colab": {
          "base_uri": "https://localhost:8080/"
        },
        "id": "Y-4rL7g63bEb",
        "outputId": "8394a2ef-aa81-4966-def9-256258d151e8"
      },
      "execution_count": 20,
      "outputs": [
        {
          "output_type": "stream",
          "name": "stdout",
          "text": [
            "mem usage:  5.04 GiB\n"
          ]
        }
      ]
    },
    {
      "cell_type": "code",
      "source": [
        "gpu_cnt = utils.get_gpu_device_count()\n",
        "print(\"Number of GPU Count : \",gpu_cnt)"
      ],
      "metadata": {
        "colab": {
          "base_uri": "https://localhost:8080/"
        },
        "id": "6J_yDoRD3WoW",
        "outputId": "e70c985e-ae3a-4c0a-ea9e-2d39ef0d3ac1"
      },
      "execution_count": 21,
      "outputs": [
        {
          "output_type": "stream",
          "name": "stdout",
          "text": [
            "Number of GPU Count :  1\n"
          ]
        }
      ]
    },
    {
      "cell_type": "markdown",
      "source": [
        "##### Train catboost model"
      ],
      "metadata": {
        "id": "bfdudmNm4Hwg"
      }
    },
    {
      "cell_type": "code",
      "source": [
        "cparams = {\n",
        "    'loss_function': 'MultiClass',\n",
        "    'learning_rate':0.25,\n",
        "    'l2_leaf_reg':0.2,\n",
        "    'max_depth':2,\n",
        "    'min_data_in_leaf':50_000,\n",
        "    #'leaf_estimation_method':leafmethod,\n",
        "    #'early_stopping_rounds':15,\n",
        "    'verbose':10,\n",
        "    'iterations':4000,\n",
        "    \"eval_metric\" : 'TotalF1',\n",
        "    'task_type':\"GPU\", \n",
        "    'devices':'0'   \n",
        "}"
      ],
      "metadata": {
        "id": "DmX9ynZn3DB0"
      },
      "execution_count": 31,
      "outputs": []
    },
    {
      "cell_type": "code",
      "source": [
        "booster = CatBoostClassifier(\n",
        "                **cparams        \n",
        "                )\n",
        "\n",
        "booster.fit(train_data, eval_set = test_data)\n",
        "\n",
        "booster.save_model(f'./models/booster_{kfold_num}.model')"
      ],
      "metadata": {
        "id": "5Jfp2ERt3AMI",
        "colab": {
          "base_uri": "https://localhost:8080/"
        },
        "outputId": "72d44ea0-56ca-4fd9-bb22-a2b33afb37fb"
      },
      "execution_count": 32,
      "outputs": [
        {
          "output_type": "stream",
          "name": "stdout",
          "text": [
            "0:\tlearn: 0.4798437\ttest: 0.4788889\tbest: 0.4788889 (0)\ttotal: 82.2ms\tremaining: 5m 28s\n",
            "10:\tlearn: 0.4976144\ttest: 0.4950746\tbest: 0.4950746 (10)\ttotal: 647ms\tremaining: 3m 54s\n",
            "20:\tlearn: 0.4987462\ttest: 0.4967059\tbest: 0.4967059 (20)\ttotal: 1.18s\tremaining: 3m 43s\n",
            "30:\tlearn: 0.5099236\ttest: 0.5081180\tbest: 0.5081180 (30)\ttotal: 1.7s\tremaining: 3m 37s\n",
            "40:\tlearn: 0.5165941\ttest: 0.5150901\tbest: 0.5150901 (40)\ttotal: 2.22s\tremaining: 3m 34s\n",
            "50:\tlearn: 0.5205295\ttest: 0.5193594\tbest: 0.5193594 (50)\ttotal: 2.75s\tremaining: 3m 32s\n",
            "60:\tlearn: 0.5232008\ttest: 0.5217841\tbest: 0.5217841 (60)\ttotal: 3.26s\tremaining: 3m 30s\n",
            "70:\tlearn: 0.5249643\ttest: 0.5236421\tbest: 0.5239260 (66)\ttotal: 3.78s\tremaining: 3m 29s\n",
            "80:\tlearn: 0.5268287\ttest: 0.5251362\tbest: 0.5251474 (79)\ttotal: 4.31s\tremaining: 3m 28s\n",
            "90:\tlearn: 0.5287467\ttest: 0.5270669\tbest: 0.5270669 (90)\ttotal: 4.84s\tremaining: 3m 28s\n",
            "100:\tlearn: 0.5300345\ttest: 0.5283589\tbest: 0.5283589 (100)\ttotal: 5.38s\tremaining: 3m 27s\n",
            "110:\tlearn: 0.5315619\ttest: 0.5299179\tbest: 0.5299179 (110)\ttotal: 5.92s\tremaining: 3m 27s\n",
            "120:\tlearn: 0.5325022\ttest: 0.5307934\tbest: 0.5307978 (118)\ttotal: 6.44s\tremaining: 3m 26s\n",
            "130:\tlearn: 0.5335061\ttest: 0.5318096\tbest: 0.5318096 (130)\ttotal: 7.2s\tremaining: 3m 32s\n",
            "140:\tlearn: 0.5341395\ttest: 0.5324860\tbest: 0.5324860 (140)\ttotal: 8.16s\tremaining: 3m 43s\n",
            "150:\tlearn: 0.5343620\ttest: 0.5327199\tbest: 0.5328666 (148)\ttotal: 9.13s\tremaining: 3m 52s\n",
            "160:\tlearn: 0.5350713\ttest: 0.5333587\tbest: 0.5333587 (160)\ttotal: 9.95s\tremaining: 3m 57s\n",
            "170:\tlearn: 0.5351439\ttest: 0.5333851\tbest: 0.5335596 (165)\ttotal: 10.5s\tremaining: 3m 54s\n",
            "180:\tlearn: 0.5356845\ttest: 0.5340088\tbest: 0.5340088 (180)\ttotal: 11s\tremaining: 3m 52s\n",
            "190:\tlearn: 0.5357280\ttest: 0.5340631\tbest: 0.5341237 (187)\ttotal: 11.6s\tremaining: 3m 50s\n",
            "200:\tlearn: 0.5362692\ttest: 0.5345256\tbest: 0.5345256 (200)\ttotal: 12.1s\tremaining: 3m 48s\n",
            "210:\tlearn: 0.5366845\ttest: 0.5349221\tbest: 0.5349221 (210)\ttotal: 12.6s\tremaining: 3m 47s\n",
            "220:\tlearn: 0.5369167\ttest: 0.5351433\tbest: 0.5351433 (220)\ttotal: 13.2s\tremaining: 3m 45s\n",
            "230:\tlearn: 0.5367186\ttest: 0.5348240\tbest: 0.5351433 (220)\ttotal: 13.7s\tremaining: 3m 43s\n",
            "240:\tlearn: 0.5369410\ttest: 0.5350603\tbest: 0.5351433 (220)\ttotal: 14.3s\tremaining: 3m 42s\n",
            "250:\tlearn: 0.5375442\ttest: 0.5356158\tbest: 0.5356158 (250)\ttotal: 14.8s\tremaining: 3m 41s\n",
            "260:\tlearn: 0.5374977\ttest: 0.5355543\tbest: 0.5356259 (253)\ttotal: 15.3s\tremaining: 3m 39s\n",
            "270:\tlearn: 0.5374125\ttest: 0.5354634\tbest: 0.5356259 (253)\ttotal: 15.9s\tremaining: 3m 38s\n",
            "280:\tlearn: 0.5376389\ttest: 0.5356593\tbest: 0.5357099 (278)\ttotal: 16.4s\tremaining: 3m 37s\n",
            "290:\tlearn: 0.5376946\ttest: 0.5356450\tbest: 0.5357099 (278)\ttotal: 16.9s\tremaining: 3m 35s\n",
            "300:\tlearn: 0.5379915\ttest: 0.5358449\tbest: 0.5359006 (295)\ttotal: 17.5s\tremaining: 3m 35s\n",
            "310:\tlearn: 0.5379988\ttest: 0.5358150\tbest: 0.5359006 (295)\ttotal: 18s\tremaining: 3m 33s\n",
            "320:\tlearn: 0.5381587\ttest: 0.5359612\tbest: 0.5359850 (317)\ttotal: 18.6s\tremaining: 3m 32s\n",
            "330:\tlearn: 0.5381972\ttest: 0.5359720\tbest: 0.5361148 (322)\ttotal: 19.1s\tremaining: 3m 31s\n",
            "340:\tlearn: 0.5384387\ttest: 0.5362325\tbest: 0.5362325 (340)\ttotal: 19.6s\tremaining: 3m 30s\n",
            "350:\tlearn: 0.5382078\ttest: 0.5359604\tbest: 0.5362815 (343)\ttotal: 20.3s\tremaining: 3m 31s\n",
            "360:\tlearn: 0.5383389\ttest: 0.5360559\tbest: 0.5362815 (343)\ttotal: 21.3s\tremaining: 3m 34s\n",
            "370:\tlearn: 0.5383400\ttest: 0.5360440\tbest: 0.5362815 (343)\ttotal: 22.3s\tremaining: 3m 37s\n",
            "380:\tlearn: 0.5385091\ttest: 0.5361346\tbest: 0.5362815 (343)\ttotal: 23.1s\tremaining: 3m 38s\n",
            "390:\tlearn: 0.5386046\ttest: 0.5361831\tbest: 0.5362815 (343)\ttotal: 23.6s\tremaining: 3m 37s\n",
            "400:\tlearn: 0.5386615\ttest: 0.5361883\tbest: 0.5362815 (343)\ttotal: 24.1s\tremaining: 3m 36s\n",
            "410:\tlearn: 0.5386639\ttest: 0.5361346\tbest: 0.5362815 (343)\ttotal: 24.7s\tremaining: 3m 35s\n",
            "420:\tlearn: 0.5387396\ttest: 0.5362444\tbest: 0.5362815 (343)\ttotal: 25.2s\tremaining: 3m 34s\n",
            "430:\tlearn: 0.5386546\ttest: 0.5361513\tbest: 0.5362815 (343)\ttotal: 25.8s\tremaining: 3m 33s\n",
            "440:\tlearn: 0.5388981\ttest: 0.5364103\tbest: 0.5364125 (439)\ttotal: 26.3s\tremaining: 3m 32s\n",
            "450:\tlearn: 0.5389763\ttest: 0.5365010\tbest: 0.5365208 (448)\ttotal: 26.8s\tremaining: 3m 31s\n",
            "460:\tlearn: 0.5389110\ttest: 0.5364189\tbest: 0.5365208 (448)\ttotal: 27.4s\tremaining: 3m 30s\n",
            "470:\tlearn: 0.5389327\ttest: 0.5363863\tbest: 0.5365208 (448)\ttotal: 27.9s\tremaining: 3m 29s\n",
            "480:\tlearn: 0.5390213\ttest: 0.5364249\tbest: 0.5365208 (448)\ttotal: 28.5s\tremaining: 3m 28s\n",
            "490:\tlearn: 0.5390998\ttest: 0.5365038\tbest: 0.5365208 (448)\ttotal: 29s\tremaining: 3m 27s\n",
            "500:\tlearn: 0.5391362\ttest: 0.5365182\tbest: 0.5365272 (491)\ttotal: 29.6s\tremaining: 3m 26s\n",
            "510:\tlearn: 0.5392137\ttest: 0.5365887\tbest: 0.5366618 (506)\ttotal: 30.1s\tremaining: 3m 25s\n",
            "520:\tlearn: 0.5392722\ttest: 0.5366198\tbest: 0.5366618 (506)\ttotal: 30.6s\tremaining: 3m 24s\n",
            "530:\tlearn: 0.5393105\ttest: 0.5365837\tbest: 0.5366618 (506)\ttotal: 31.2s\tremaining: 3m 23s\n",
            "540:\tlearn: 0.5394195\ttest: 0.5366434\tbest: 0.5366618 (506)\ttotal: 31.7s\tremaining: 3m 22s\n",
            "550:\tlearn: 0.5394121\ttest: 0.5365876\tbest: 0.5366618 (506)\ttotal: 32.3s\tremaining: 3m 21s\n",
            "560:\tlearn: 0.5395008\ttest: 0.5366508\tbest: 0.5366966 (554)\ttotal: 32.8s\tremaining: 3m 21s\n",
            "570:\tlearn: 0.5394777\ttest: 0.5365898\tbest: 0.5366966 (554)\ttotal: 33.7s\tremaining: 3m 22s\n",
            "580:\tlearn: 0.5393749\ttest: 0.5364785\tbest: 0.5366966 (554)\ttotal: 34.7s\tremaining: 3m 24s\n",
            "590:\tlearn: 0.5393804\ttest: 0.5364651\tbest: 0.5366966 (554)\ttotal: 35.7s\tremaining: 3m 26s\n",
            "600:\tlearn: 0.5394826\ttest: 0.5365692\tbest: 0.5366966 (554)\ttotal: 36.4s\tremaining: 3m 25s\n",
            "610:\tlearn: 0.5395325\ttest: 0.5366166\tbest: 0.5366966 (554)\ttotal: 36.9s\tremaining: 3m 24s\n",
            "620:\tlearn: 0.5396528\ttest: 0.5367052\tbest: 0.5367383 (617)\ttotal: 37.5s\tremaining: 3m 23s\n",
            "630:\tlearn: 0.5397438\ttest: 0.5367705\tbest: 0.5367923 (626)\ttotal: 38s\tremaining: 3m 22s\n",
            "640:\tlearn: 0.5397516\ttest: 0.5367560\tbest: 0.5367923 (626)\ttotal: 38.6s\tremaining: 3m 22s\n",
            "650:\tlearn: 0.5397836\ttest: 0.5368089\tbest: 0.5368089 (650)\ttotal: 39.1s\tremaining: 3m 21s\n",
            "660:\tlearn: 0.5397502\ttest: 0.5367327\tbest: 0.5368265 (651)\ttotal: 39.6s\tremaining: 3m 20s\n",
            "670:\tlearn: 0.5398337\ttest: 0.5367732\tbest: 0.5368265 (651)\ttotal: 40.2s\tremaining: 3m 19s\n",
            "680:\tlearn: 0.5397187\ttest: 0.5366367\tbest: 0.5368265 (651)\ttotal: 40.7s\tremaining: 3m 18s\n",
            "690:\tlearn: 0.5396833\ttest: 0.5365776\tbest: 0.5368265 (651)\ttotal: 41.3s\tremaining: 3m 17s\n",
            "700:\tlearn: 0.5397493\ttest: 0.5366632\tbest: 0.5368265 (651)\ttotal: 41.8s\tremaining: 3m 16s\n",
            "710:\tlearn: 0.5397945\ttest: 0.5366437\tbest: 0.5368265 (651)\ttotal: 42.4s\tremaining: 3m 15s\n",
            "720:\tlearn: 0.5398129\ttest: 0.5366538\tbest: 0.5368265 (651)\ttotal: 42.9s\tremaining: 3m 15s\n",
            "730:\tlearn: 0.5397786\ttest: 0.5366146\tbest: 0.5368265 (651)\ttotal: 43.5s\tremaining: 3m 14s\n",
            "740:\tlearn: 0.5397989\ttest: 0.5366104\tbest: 0.5368265 (651)\ttotal: 44s\tremaining: 3m 13s\n",
            "750:\tlearn: 0.5397938\ttest: 0.5366213\tbest: 0.5368265 (651)\ttotal: 44.5s\tremaining: 3m 12s\n",
            "760:\tlearn: 0.5397122\ttest: 0.5365270\tbest: 0.5368265 (651)\ttotal: 45.1s\tremaining: 3m 11s\n",
            "770:\tlearn: 0.5397667\ttest: 0.5366010\tbest: 0.5368265 (651)\ttotal: 45.6s\tremaining: 3m 11s\n",
            "780:\tlearn: 0.5398520\ttest: 0.5366811\tbest: 0.5368265 (651)\ttotal: 46.2s\tremaining: 3m 10s\n",
            "790:\tlearn: 0.5398819\ttest: 0.5367155\tbest: 0.5368265 (651)\ttotal: 47.2s\tremaining: 3m 11s\n",
            "800:\tlearn: 0.5399072\ttest: 0.5367443\tbest: 0.5368265 (651)\ttotal: 48.1s\tremaining: 3m 12s\n",
            "810:\tlearn: 0.5399444\ttest: 0.5367757\tbest: 0.5368265 (651)\ttotal: 49.1s\tremaining: 3m 12s\n",
            "820:\tlearn: 0.5398674\ttest: 0.5366505\tbest: 0.5368265 (651)\ttotal: 49.6s\tremaining: 3m 12s\n",
            "830:\tlearn: 0.5399510\ttest: 0.5366918\tbest: 0.5368265 (651)\ttotal: 50.1s\tremaining: 3m 11s\n",
            "840:\tlearn: 0.5399390\ttest: 0.5366497\tbest: 0.5368265 (651)\ttotal: 50.7s\tremaining: 3m 10s\n",
            "850:\tlearn: 0.5398874\ttest: 0.5365768\tbest: 0.5368265 (651)\ttotal: 51.2s\tremaining: 3m 9s\n",
            "860:\tlearn: 0.5400322\ttest: 0.5366992\tbest: 0.5368265 (651)\ttotal: 51.8s\tremaining: 3m 8s\n",
            "870:\tlearn: 0.5400156\ttest: 0.5366977\tbest: 0.5368265 (651)\ttotal: 52.3s\tremaining: 3m 7s\n",
            "880:\tlearn: 0.5400799\ttest: 0.5367339\tbest: 0.5368265 (651)\ttotal: 52.8s\tremaining: 3m 7s\n",
            "890:\tlearn: 0.5400016\ttest: 0.5366637\tbest: 0.5368265 (651)\ttotal: 53.4s\tremaining: 3m 6s\n",
            "900:\tlearn: 0.5399517\ttest: 0.5365897\tbest: 0.5368265 (651)\ttotal: 53.9s\tremaining: 3m 5s\n",
            "910:\tlearn: 0.5399592\ttest: 0.5365696\tbest: 0.5368265 (651)\ttotal: 54.5s\tremaining: 3m 4s\n",
            "920:\tlearn: 0.5399828\ttest: 0.5366086\tbest: 0.5368265 (651)\ttotal: 55s\tremaining: 3m 3s\n",
            "930:\tlearn: 0.5400484\ttest: 0.5366420\tbest: 0.5368265 (651)\ttotal: 55.5s\tremaining: 3m 3s\n",
            "940:\tlearn: 0.5400615\ttest: 0.5366668\tbest: 0.5368265 (651)\ttotal: 56.1s\tremaining: 3m 2s\n",
            "950:\tlearn: 0.5400425\ttest: 0.5366410\tbest: 0.5368265 (651)\ttotal: 56.6s\tremaining: 3m 1s\n",
            "960:\tlearn: 0.5401763\ttest: 0.5367503\tbest: 0.5368265 (651)\ttotal: 57.2s\tremaining: 3m\n",
            "970:\tlearn: 0.5401400\ttest: 0.5367194\tbest: 0.5368265 (651)\ttotal: 57.7s\tremaining: 3m\n",
            "980:\tlearn: 0.5402223\ttest: 0.5368109\tbest: 0.5368265 (651)\ttotal: 58.3s\tremaining: 2m 59s\n",
            "990:\tlearn: 0.5402470\ttest: 0.5368375\tbest: 0.5368456 (986)\ttotal: 58.8s\tremaining: 2m 58s\n",
            "1000:\tlearn: 0.5403016\ttest: 0.5368715\tbest: 0.5368866 (999)\ttotal: 59.5s\tremaining: 2m 58s\n",
            "1010:\tlearn: 0.5403485\ttest: 0.5369003\tbest: 0.5369003 (1010)\ttotal: 1m\tremaining: 2m 58s\n",
            "1020:\tlearn: 0.5403441\ttest: 0.5368763\tbest: 0.5369332 (1011)\ttotal: 1m 1s\tremaining: 2m 59s\n",
            "1030:\tlearn: 0.5404195\ttest: 0.5368767\tbest: 0.5369332 (1011)\ttotal: 1m 2s\tremaining: 2m 59s\n",
            "1040:\tlearn: 0.5403849\ttest: 0.5368065\tbest: 0.5369332 (1011)\ttotal: 1m 2s\tremaining: 2m 58s\n",
            "1050:\tlearn: 0.5404068\ttest: 0.5368397\tbest: 0.5369332 (1011)\ttotal: 1m 3s\tremaining: 2m 58s\n",
            "1060:\tlearn: 0.5404359\ttest: 0.5368728\tbest: 0.5369332 (1011)\ttotal: 1m 3s\tremaining: 2m 57s\n",
            "1070:\tlearn: 0.5404923\ttest: 0.5369408\tbest: 0.5369408 (1070)\ttotal: 1m 4s\tremaining: 2m 56s\n",
            "1080:\tlearn: 0.5406168\ttest: 0.5370290\tbest: 0.5370384 (1077)\ttotal: 1m 5s\tremaining: 2m 55s\n",
            "1090:\tlearn: 0.5405728\ttest: 0.5369458\tbest: 0.5370384 (1077)\ttotal: 1m 5s\tremaining: 2m 54s\n",
            "1100:\tlearn: 0.5405343\ttest: 0.5368899\tbest: 0.5370384 (1077)\ttotal: 1m 6s\tremaining: 2m 54s\n",
            "1110:\tlearn: 0.5405693\ttest: 0.5368934\tbest: 0.5370384 (1077)\ttotal: 1m 6s\tremaining: 2m 53s\n",
            "1120:\tlearn: 0.5405512\ttest: 0.5368501\tbest: 0.5370384 (1077)\ttotal: 1m 7s\tremaining: 2m 52s\n",
            "1130:\tlearn: 0.5405386\ttest: 0.5368566\tbest: 0.5370384 (1077)\ttotal: 1m 7s\tremaining: 2m 51s\n",
            "1140:\tlearn: 0.5405222\ttest: 0.5368220\tbest: 0.5370384 (1077)\ttotal: 1m 8s\tremaining: 2m 51s\n",
            "1150:\tlearn: 0.5405450\ttest: 0.5368785\tbest: 0.5370384 (1077)\ttotal: 1m 8s\tremaining: 2m 50s\n",
            "1160:\tlearn: 0.5405115\ttest: 0.5368527\tbest: 0.5370384 (1077)\ttotal: 1m 9s\tremaining: 2m 49s\n",
            "1170:\tlearn: 0.5405636\ttest: 0.5368667\tbest: 0.5370384 (1077)\ttotal: 1m 9s\tremaining: 2m 48s\n",
            "1180:\tlearn: 0.5406110\ttest: 0.5369050\tbest: 0.5370384 (1077)\ttotal: 1m 10s\tremaining: 2m 48s\n",
            "1190:\tlearn: 0.5405461\ttest: 0.5368109\tbest: 0.5370384 (1077)\ttotal: 1m 10s\tremaining: 2m 47s\n",
            "1200:\tlearn: 0.5404723\ttest: 0.5367275\tbest: 0.5370384 (1077)\ttotal: 1m 11s\tremaining: 2m 46s\n",
            "1210:\tlearn: 0.5405734\ttest: 0.5368069\tbest: 0.5370384 (1077)\ttotal: 1m 12s\tremaining: 2m 45s\n",
            "1220:\tlearn: 0.5405753\ttest: 0.5368233\tbest: 0.5370384 (1077)\ttotal: 1m 12s\tremaining: 2m 45s\n",
            "1230:\tlearn: 0.5407011\ttest: 0.5369447\tbest: 0.5370384 (1077)\ttotal: 1m 13s\tremaining: 2m 45s\n",
            "1240:\tlearn: 0.5406909\ttest: 0.5369518\tbest: 0.5370384 (1077)\ttotal: 1m 14s\tremaining: 2m 46s\n",
            "1250:\tlearn: 0.5406722\ttest: 0.5369284\tbest: 0.5370384 (1077)\ttotal: 1m 15s\tremaining: 2m 45s\n",
            "1260:\tlearn: 0.5407076\ttest: 0.5369221\tbest: 0.5370384 (1077)\ttotal: 1m 16s\tremaining: 2m 45s\n",
            "1270:\tlearn: 0.5407489\ttest: 0.5369606\tbest: 0.5370384 (1077)\ttotal: 1m 16s\tremaining: 2m 44s\n",
            "1280:\tlearn: 0.5407248\ttest: 0.5368855\tbest: 0.5370384 (1077)\ttotal: 1m 17s\tremaining: 2m 43s\n",
            "1290:\tlearn: 0.5406820\ttest: 0.5368225\tbest: 0.5370384 (1077)\ttotal: 1m 17s\tremaining: 2m 42s\n",
            "1300:\tlearn: 0.5407014\ttest: 0.5368380\tbest: 0.5370384 (1077)\ttotal: 1m 18s\tremaining: 2m 42s\n",
            "1310:\tlearn: 0.5408019\ttest: 0.5369314\tbest: 0.5370384 (1077)\ttotal: 1m 18s\tremaining: 2m 41s\n",
            "1320:\tlearn: 0.5408479\ttest: 0.5370144\tbest: 0.5370384 (1077)\ttotal: 1m 19s\tremaining: 2m 40s\n",
            "1330:\tlearn: 0.5407871\ttest: 0.5368859\tbest: 0.5370384 (1077)\ttotal: 1m 19s\tremaining: 2m 39s\n",
            "1340:\tlearn: 0.5407957\ttest: 0.5369050\tbest: 0.5370384 (1077)\ttotal: 1m 20s\tremaining: 2m 39s\n",
            "1350:\tlearn: 0.5408287\ttest: 0.5369395\tbest: 0.5370384 (1077)\ttotal: 1m 20s\tremaining: 2m 38s\n",
            "1360:\tlearn: 0.5408834\ttest: 0.5369636\tbest: 0.5370384 (1077)\ttotal: 1m 21s\tremaining: 2m 37s\n",
            "1370:\tlearn: 0.5409515\ttest: 0.5370261\tbest: 0.5370384 (1077)\ttotal: 1m 21s\tremaining: 2m 37s\n",
            "1380:\tlearn: 0.5409852\ttest: 0.5370423\tbest: 0.5370423 (1380)\ttotal: 1m 22s\tremaining: 2m 36s\n",
            "1390:\tlearn: 0.5409921\ttest: 0.5370175\tbest: 0.5370423 (1380)\ttotal: 1m 23s\tremaining: 2m 35s\n",
            "1400:\tlearn: 0.5410102\ttest: 0.5370163\tbest: 0.5370423 (1380)\ttotal: 1m 23s\tremaining: 2m 34s\n",
            "1410:\tlearn: 0.5410450\ttest: 0.5370526\tbest: 0.5370526 (1410)\ttotal: 1m 24s\tremaining: 2m 34s\n",
            "1420:\tlearn: 0.5410232\ttest: 0.5370525\tbest: 0.5370550 (1413)\ttotal: 1m 25s\tremaining: 2m 34s\n",
            "1430:\tlearn: 0.5410229\ttest: 0.5370344\tbest: 0.5370550 (1413)\ttotal: 1m 26s\tremaining: 2m 34s\n",
            "1440:\tlearn: 0.5409832\ttest: 0.5369975\tbest: 0.5370550 (1413)\ttotal: 1m 27s\tremaining: 2m 35s\n",
            "1450:\tlearn: 0.5411220\ttest: 0.5370885\tbest: 0.5370885 (1450)\ttotal: 1m 28s\tremaining: 2m 35s\n",
            "1460:\tlearn: 0.5410826\ttest: 0.5370333\tbest: 0.5370885 (1450)\ttotal: 1m 29s\tremaining: 2m 35s\n",
            "1470:\tlearn: 0.5411346\ttest: 0.5370518\tbest: 0.5370885 (1450)\ttotal: 1m 30s\tremaining: 2m 34s\n",
            "1480:\tlearn: 0.5411234\ttest: 0.5370079\tbest: 0.5370885 (1450)\ttotal: 1m 30s\tremaining: 2m 34s\n",
            "1490:\tlearn: 0.5411280\ttest: 0.5370061\tbest: 0.5370885 (1450)\ttotal: 1m 31s\tremaining: 2m 33s\n",
            "1500:\tlearn: 0.5412513\ttest: 0.5370862\tbest: 0.5370895 (1499)\ttotal: 1m 31s\tremaining: 2m 32s\n",
            "1510:\tlearn: 0.5412443\ttest: 0.5370743\tbest: 0.5371310 (1503)\ttotal: 1m 32s\tremaining: 2m 31s\n",
            "1520:\tlearn: 0.5412374\ttest: 0.5370749\tbest: 0.5371310 (1503)\ttotal: 1m 32s\tremaining: 2m 31s\n",
            "1530:\tlearn: 0.5412587\ttest: 0.5370539\tbest: 0.5371310 (1503)\ttotal: 1m 33s\tremaining: 2m 30s\n",
            "1540:\tlearn: 0.5412402\ttest: 0.5370393\tbest: 0.5371310 (1503)\ttotal: 1m 33s\tremaining: 2m 29s\n",
            "1550:\tlearn: 0.5412395\ttest: 0.5370375\tbest: 0.5371310 (1503)\ttotal: 1m 34s\tremaining: 2m 28s\n",
            "1560:\tlearn: 0.5412436\ttest: 0.5370537\tbest: 0.5371310 (1503)\ttotal: 1m 34s\tremaining: 2m 28s\n",
            "1570:\tlearn: 0.5412538\ttest: 0.5370859\tbest: 0.5371310 (1503)\ttotal: 1m 35s\tremaining: 2m 27s\n",
            "1580:\tlearn: 0.5413704\ttest: 0.5372170\tbest: 0.5372170 (1580)\ttotal: 1m 35s\tremaining: 2m 26s\n",
            "1590:\tlearn: 0.5413757\ttest: 0.5372349\tbest: 0.5372355 (1589)\ttotal: 1m 36s\tremaining: 2m 26s\n",
            "1600:\tlearn: 0.5413432\ttest: 0.5371651\tbest: 0.5372404 (1591)\ttotal: 1m 36s\tremaining: 2m 25s\n",
            "1610:\tlearn: 0.5413736\ttest: 0.5371892\tbest: 0.5372404 (1591)\ttotal: 1m 37s\tremaining: 2m 24s\n",
            "1620:\tlearn: 0.5413472\ttest: 0.5371466\tbest: 0.5372404 (1591)\ttotal: 1m 38s\tremaining: 2m 23s\n",
            "1630:\tlearn: 0.5413653\ttest: 0.5371520\tbest: 0.5372404 (1591)\ttotal: 1m 38s\tremaining: 2m 23s\n",
            "1640:\tlearn: 0.5414453\ttest: 0.5372133\tbest: 0.5372404 (1591)\ttotal: 1m 39s\tremaining: 2m 22s\n",
            "1650:\tlearn: 0.5414260\ttest: 0.5371777\tbest: 0.5372404 (1591)\ttotal: 1m 39s\tremaining: 2m 21s\n",
            "1660:\tlearn: 0.5413672\ttest: 0.5370850\tbest: 0.5372404 (1591)\ttotal: 1m 40s\tremaining: 2m 21s\n",
            "1670:\tlearn: 0.5414424\ttest: 0.5371544\tbest: 0.5372404 (1591)\ttotal: 1m 41s\tremaining: 2m 21s\n",
            "1680:\tlearn: 0.5415155\ttest: 0.5372286\tbest: 0.5372404 (1591)\ttotal: 1m 42s\tremaining: 2m 21s\n",
            "1690:\tlearn: 0.5414979\ttest: 0.5371915\tbest: 0.5372404 (1591)\ttotal: 1m 43s\tremaining: 2m 20s\n",
            "1700:\tlearn: 0.5415744\ttest: 0.5372614\tbest: 0.5372717 (1697)\ttotal: 1m 43s\tremaining: 2m 20s\n",
            "1710:\tlearn: 0.5415486\ttest: 0.5372446\tbest: 0.5372717 (1697)\ttotal: 1m 44s\tremaining: 2m 19s\n",
            "1720:\tlearn: 0.5415982\ttest: 0.5372943\tbest: 0.5372943 (1720)\ttotal: 1m 44s\tremaining: 2m 18s\n",
            "1730:\tlearn: 0.5415910\ttest: 0.5372834\tbest: 0.5373240 (1726)\ttotal: 1m 45s\tremaining: 2m 18s\n",
            "1740:\tlearn: 0.5416180\ttest: 0.5372995\tbest: 0.5373240 (1726)\ttotal: 1m 45s\tremaining: 2m 17s\n",
            "1750:\tlearn: 0.5416374\ttest: 0.5373185\tbest: 0.5373503 (1744)\ttotal: 1m 46s\tremaining: 2m 16s\n",
            "1760:\tlearn: 0.5416346\ttest: 0.5373016\tbest: 0.5373503 (1744)\ttotal: 1m 46s\tremaining: 2m 15s\n",
            "1770:\tlearn: 0.5416606\ttest: 0.5372967\tbest: 0.5373503 (1744)\ttotal: 1m 47s\tremaining: 2m 15s\n",
            "1780:\tlearn: 0.5415995\ttest: 0.5372286\tbest: 0.5373503 (1744)\ttotal: 1m 47s\tremaining: 2m 14s\n",
            "1790:\tlearn: 0.5416177\ttest: 0.5372314\tbest: 0.5373503 (1744)\ttotal: 1m 48s\tremaining: 2m 13s\n",
            "1800:\tlearn: 0.5416135\ttest: 0.5372015\tbest: 0.5373503 (1744)\ttotal: 1m 49s\tremaining: 2m 13s\n",
            "1810:\tlearn: 0.5417388\ttest: 0.5373560\tbest: 0.5373560 (1810)\ttotal: 1m 49s\tremaining: 2m 12s\n",
            "1820:\tlearn: 0.5417483\ttest: 0.5373522\tbest: 0.5373560 (1810)\ttotal: 1m 50s\tremaining: 2m 11s\n",
            "1830:\tlearn: 0.5417510\ttest: 0.5373366\tbest: 0.5373560 (1810)\ttotal: 1m 50s\tremaining: 2m 11s\n",
            "1840:\tlearn: 0.5417204\ttest: 0.5373121\tbest: 0.5373560 (1810)\ttotal: 1m 51s\tremaining: 2m 10s\n",
            "1850:\tlearn: 0.5417222\ttest: 0.5372971\tbest: 0.5373560 (1810)\ttotal: 1m 51s\tremaining: 2m 9s\n",
            "1860:\tlearn: 0.5416812\ttest: 0.5372609\tbest: 0.5373560 (1810)\ttotal: 1m 52s\tremaining: 2m 9s\n",
            "1870:\tlearn: 0.5416809\ttest: 0.5372443\tbest: 0.5373560 (1810)\ttotal: 1m 52s\tremaining: 2m 8s\n",
            "1880:\tlearn: 0.5416766\ttest: 0.5372480\tbest: 0.5373560 (1810)\ttotal: 1m 53s\tremaining: 2m 7s\n",
            "1890:\tlearn: 0.5417265\ttest: 0.5373144\tbest: 0.5373560 (1810)\ttotal: 1m 54s\tremaining: 2m 7s\n",
            "1900:\tlearn: 0.5417684\ttest: 0.5373204\tbest: 0.5373560 (1810)\ttotal: 1m 55s\tremaining: 2m 7s\n",
            "1910:\tlearn: 0.5418013\ttest: 0.5373349\tbest: 0.5373561 (1906)\ttotal: 1m 56s\tremaining: 2m 7s\n",
            "1920:\tlearn: 0.5417761\ttest: 0.5373295\tbest: 0.5373561 (1906)\ttotal: 1m 56s\tremaining: 2m 6s\n",
            "1930:\tlearn: 0.5417761\ttest: 0.5373282\tbest: 0.5373561 (1906)\ttotal: 1m 57s\tremaining: 2m 5s\n",
            "1940:\tlearn: 0.5417628\ttest: 0.5372978\tbest: 0.5373650 (1936)\ttotal: 1m 57s\tremaining: 2m 5s\n",
            "1950:\tlearn: 0.5417751\ttest: 0.5373125\tbest: 0.5373650 (1936)\ttotal: 1m 58s\tremaining: 2m 4s\n",
            "1960:\tlearn: 0.5417835\ttest: 0.5373281\tbest: 0.5373650 (1936)\ttotal: 1m 59s\tremaining: 2m 3s\n",
            "1970:\tlearn: 0.5417793\ttest: 0.5373527\tbest: 0.5373650 (1936)\ttotal: 1m 59s\tremaining: 2m 3s\n",
            "1980:\tlearn: 0.5418173\ttest: 0.5373592\tbest: 0.5373650 (1936)\ttotal: 2m\tremaining: 2m 2s\n",
            "1990:\tlearn: 0.5418283\ttest: 0.5373917\tbest: 0.5374040 (1986)\ttotal: 2m\tremaining: 2m 1s\n",
            "2000:\tlearn: 0.5419137\ttest: 0.5374621\tbest: 0.5374721 (1999)\ttotal: 2m 1s\tremaining: 2m 1s\n",
            "2010:\tlearn: 0.5419376\ttest: 0.5374781\tbest: 0.5374876 (2005)\ttotal: 2m 1s\tremaining: 2m\n",
            "2020:\tlearn: 0.5419664\ttest: 0.5374575\tbest: 0.5374876 (2005)\ttotal: 2m 2s\tremaining: 1m 59s\n",
            "2030:\tlearn: 0.5419179\ttest: 0.5374133\tbest: 0.5374876 (2005)\ttotal: 2m 2s\tremaining: 1m 59s\n",
            "2040:\tlearn: 0.5419557\ttest: 0.5374220\tbest: 0.5374876 (2005)\ttotal: 2m 3s\tremaining: 1m 58s\n",
            "2050:\tlearn: 0.5418780\ttest: 0.5373263\tbest: 0.5374876 (2005)\ttotal: 2m 3s\tremaining: 1m 57s\n",
            "2060:\tlearn: 0.5418814\ttest: 0.5373321\tbest: 0.5374876 (2005)\ttotal: 2m 4s\tremaining: 1m 57s\n",
            "2070:\tlearn: 0.5419441\ttest: 0.5373808\tbest: 0.5374876 (2005)\ttotal: 2m 4s\tremaining: 1m 56s\n",
            "2080:\tlearn: 0.5419650\ttest: 0.5373772\tbest: 0.5374876 (2005)\ttotal: 2m 5s\tremaining: 1m 55s\n",
            "2090:\tlearn: 0.5419682\ttest: 0.5373821\tbest: 0.5374876 (2005)\ttotal: 2m 6s\tremaining: 1m 55s\n",
            "2100:\tlearn: 0.5419929\ttest: 0.5374061\tbest: 0.5374876 (2005)\ttotal: 2m 6s\tremaining: 1m 54s\n",
            "2110:\tlearn: 0.5419403\ttest: 0.5373655\tbest: 0.5374876 (2005)\ttotal: 2m 7s\tremaining: 1m 54s\n",
            "2120:\tlearn: 0.5419473\ttest: 0.5373883\tbest: 0.5374876 (2005)\ttotal: 2m 8s\tremaining: 1m 54s\n",
            "2130:\tlearn: 0.5419309\ttest: 0.5373532\tbest: 0.5374876 (2005)\ttotal: 2m 9s\tremaining: 1m 53s\n",
            "2140:\tlearn: 0.5419256\ttest: 0.5373675\tbest: 0.5374876 (2005)\ttotal: 2m 10s\tremaining: 1m 52s\n",
            "2150:\tlearn: 0.5419150\ttest: 0.5373301\tbest: 0.5374876 (2005)\ttotal: 2m 10s\tremaining: 1m 52s\n",
            "2160:\tlearn: 0.5419095\ttest: 0.5372924\tbest: 0.5374876 (2005)\ttotal: 2m 11s\tremaining: 1m 51s\n",
            "2170:\tlearn: 0.5419264\ttest: 0.5373076\tbest: 0.5374876 (2005)\ttotal: 2m 11s\tremaining: 1m 50s\n",
            "2180:\tlearn: 0.5419623\ttest: 0.5373369\tbest: 0.5374876 (2005)\ttotal: 2m 12s\tremaining: 1m 50s\n",
            "2190:\tlearn: 0.5419699\ttest: 0.5373541\tbest: 0.5374876 (2005)\ttotal: 2m 12s\tremaining: 1m 49s\n",
            "2200:\tlearn: 0.5419610\ttest: 0.5373484\tbest: 0.5374876 (2005)\ttotal: 2m 13s\tremaining: 1m 48s\n",
            "2210:\tlearn: 0.5419910\ttest: 0.5373598\tbest: 0.5374876 (2005)\ttotal: 2m 13s\tremaining: 1m 48s\n",
            "2220:\tlearn: 0.5419744\ttest: 0.5373474\tbest: 0.5374876 (2005)\ttotal: 2m 14s\tremaining: 1m 47s\n",
            "2230:\tlearn: 0.5420381\ttest: 0.5374017\tbest: 0.5374876 (2005)\ttotal: 2m 14s\tremaining: 1m 47s\n",
            "2240:\tlearn: 0.5419957\ttest: 0.5373726\tbest: 0.5374876 (2005)\ttotal: 2m 15s\tremaining: 1m 46s\n",
            "2250:\tlearn: 0.5420509\ttest: 0.5374335\tbest: 0.5374876 (2005)\ttotal: 2m 16s\tremaining: 1m 45s\n",
            "2260:\tlearn: 0.5421304\ttest: 0.5374935\tbest: 0.5374935 (2260)\ttotal: 2m 16s\tremaining: 1m 45s\n",
            "2270:\tlearn: 0.5420458\ttest: 0.5374397\tbest: 0.5374935 (2260)\ttotal: 2m 17s\tremaining: 1m 44s\n",
            "2280:\tlearn: 0.5420345\ttest: 0.5373977\tbest: 0.5374935 (2260)\ttotal: 2m 17s\tremaining: 1m 43s\n",
            "2290:\tlearn: 0.5420012\ttest: 0.5373413\tbest: 0.5374935 (2260)\ttotal: 2m 18s\tremaining: 1m 43s\n",
            "2300:\tlearn: 0.5420181\ttest: 0.5373333\tbest: 0.5374935 (2260)\ttotal: 2m 18s\tremaining: 1m 42s\n",
            "2310:\tlearn: 0.5420579\ttest: 0.5373578\tbest: 0.5374935 (2260)\ttotal: 2m 19s\tremaining: 1m 41s\n",
            "2320:\tlearn: 0.5420984\ttest: 0.5373914\tbest: 0.5374935 (2260)\ttotal: 2m 20s\tremaining: 1m 41s\n",
            "2330:\tlearn: 0.5420950\ttest: 0.5374070\tbest: 0.5374935 (2260)\ttotal: 2m 21s\tremaining: 1m 41s\n",
            "2340:\tlearn: 0.5421343\ttest: 0.5374203\tbest: 0.5374935 (2260)\ttotal: 2m 22s\tremaining: 1m 40s\n",
            "2350:\tlearn: 0.5421121\ttest: 0.5374446\tbest: 0.5374935 (2260)\ttotal: 2m 22s\tremaining: 1m 40s\n",
            "2360:\tlearn: 0.5422053\ttest: 0.5375334\tbest: 0.5375334 (2360)\ttotal: 2m 23s\tremaining: 1m 39s\n",
            "2370:\tlearn: 0.5422041\ttest: 0.5375121\tbest: 0.5375548 (2366)\ttotal: 2m 23s\tremaining: 1m 38s\n",
            "2380:\tlearn: 0.5422141\ttest: 0.5375163\tbest: 0.5375548 (2366)\ttotal: 2m 24s\tremaining: 1m 38s\n",
            "2390:\tlearn: 0.5422405\ttest: 0.5375637\tbest: 0.5375739 (2387)\ttotal: 2m 25s\tremaining: 1m 37s\n",
            "2400:\tlearn: 0.5422849\ttest: 0.5375827\tbest: 0.5375827 (2400)\ttotal: 2m 25s\tremaining: 1m 36s\n",
            "2410:\tlearn: 0.5423248\ttest: 0.5376162\tbest: 0.5376300 (2409)\ttotal: 2m 26s\tremaining: 1m 36s\n",
            "2420:\tlearn: 0.5423730\ttest: 0.5376373\tbest: 0.5376500 (2418)\ttotal: 2m 26s\tremaining: 1m 35s\n",
            "2430:\tlearn: 0.5423995\ttest: 0.5376409\tbest: 0.5376585 (2424)\ttotal: 2m 27s\tremaining: 1m 34s\n",
            "2440:\tlearn: 0.5423882\ttest: 0.5376388\tbest: 0.5376585 (2424)\ttotal: 2m 27s\tremaining: 1m 34s\n",
            "2450:\tlearn: 0.5423490\ttest: 0.5375841\tbest: 0.5376585 (2424)\ttotal: 2m 28s\tremaining: 1m 33s\n",
            "2460:\tlearn: 0.5423943\ttest: 0.5376323\tbest: 0.5376585 (2424)\ttotal: 2m 28s\tremaining: 1m 33s\n",
            "2470:\tlearn: 0.5423076\ttest: 0.5375580\tbest: 0.5376585 (2424)\ttotal: 2m 29s\tremaining: 1m 32s\n",
            "2480:\tlearn: 0.5423400\ttest: 0.5375531\tbest: 0.5376585 (2424)\ttotal: 2m 29s\tremaining: 1m 31s\n",
            "2490:\tlearn: 0.5423599\ttest: 0.5375697\tbest: 0.5376585 (2424)\ttotal: 2m 30s\tremaining: 1m 31s\n",
            "2500:\tlearn: 0.5423601\ttest: 0.5375777\tbest: 0.5376585 (2424)\ttotal: 2m 30s\tremaining: 1m 30s\n",
            "2510:\tlearn: 0.5423636\ttest: 0.5375681\tbest: 0.5376585 (2424)\ttotal: 2m 31s\tremaining: 1m 29s\n",
            "2520:\tlearn: 0.5424231\ttest: 0.5376045\tbest: 0.5376585 (2424)\ttotal: 2m 32s\tremaining: 1m 29s\n",
            "2530:\tlearn: 0.5424077\ttest: 0.5376084\tbest: 0.5376585 (2424)\ttotal: 2m 32s\tremaining: 1m 28s\n",
            "2540:\tlearn: 0.5423793\ttest: 0.5375498\tbest: 0.5376585 (2424)\ttotal: 2m 33s\tremaining: 1m 28s\n",
            "2550:\tlearn: 0.5423669\ttest: 0.5375510\tbest: 0.5376585 (2424)\ttotal: 2m 34s\tremaining: 1m 27s\n",
            "2560:\tlearn: 0.5423655\ttest: 0.5375808\tbest: 0.5376585 (2424)\ttotal: 2m 35s\tremaining: 1m 27s\n",
            "2570:\tlearn: 0.5423912\ttest: 0.5376094\tbest: 0.5376585 (2424)\ttotal: 2m 36s\tremaining: 1m 26s\n",
            "2580:\tlearn: 0.5423407\ttest: 0.5375444\tbest: 0.5376585 (2424)\ttotal: 2m 36s\tremaining: 1m 26s\n",
            "2590:\tlearn: 0.5423795\ttest: 0.5375893\tbest: 0.5376585 (2424)\ttotal: 2m 37s\tremaining: 1m 25s\n",
            "2600:\tlearn: 0.5423816\ttest: 0.5375953\tbest: 0.5376585 (2424)\ttotal: 2m 37s\tremaining: 1m 24s\n",
            "2610:\tlearn: 0.5423765\ttest: 0.5375896\tbest: 0.5376585 (2424)\ttotal: 2m 38s\tremaining: 1m 24s\n",
            "2620:\tlearn: 0.5423749\ttest: 0.5375570\tbest: 0.5376585 (2424)\ttotal: 2m 38s\tremaining: 1m 23s\n",
            "2630:\tlearn: 0.5423649\ttest: 0.5375257\tbest: 0.5376585 (2424)\ttotal: 2m 39s\tremaining: 1m 22s\n",
            "2640:\tlearn: 0.5424174\ttest: 0.5375974\tbest: 0.5376585 (2424)\ttotal: 2m 39s\tremaining: 1m 22s\n",
            "2650:\tlearn: 0.5424402\ttest: 0.5376137\tbest: 0.5376585 (2424)\ttotal: 2m 40s\tremaining: 1m 21s\n",
            "2660:\tlearn: 0.5424942\ttest: 0.5376495\tbest: 0.5376585 (2424)\ttotal: 2m 41s\tremaining: 1m 21s\n",
            "2670:\tlearn: 0.5424763\ttest: 0.5376370\tbest: 0.5376585 (2424)\ttotal: 2m 41s\tremaining: 1m 20s\n",
            "2680:\tlearn: 0.5424904\ttest: 0.5376377\tbest: 0.5376585 (2424)\ttotal: 2m 42s\tremaining: 1m 19s\n",
            "2690:\tlearn: 0.5425715\ttest: 0.5376973\tbest: 0.5376979 (2689)\ttotal: 2m 42s\tremaining: 1m 19s\n",
            "2700:\tlearn: 0.5425660\ttest: 0.5377028\tbest: 0.5377184 (2694)\ttotal: 2m 43s\tremaining: 1m 18s\n",
            "2710:\tlearn: 0.5425548\ttest: 0.5376939\tbest: 0.5377184 (2694)\ttotal: 2m 43s\tremaining: 1m 17s\n",
            "2720:\tlearn: 0.5425955\ttest: 0.5377120\tbest: 0.5377315 (2715)\ttotal: 2m 44s\tremaining: 1m 17s\n",
            "2730:\tlearn: 0.5425917\ttest: 0.5377035\tbest: 0.5377315 (2715)\ttotal: 2m 44s\tremaining: 1m 16s\n",
            "2740:\tlearn: 0.5425281\ttest: 0.5376504\tbest: 0.5377315 (2715)\ttotal: 2m 45s\tremaining: 1m 15s\n",
            "2750:\tlearn: 0.5425542\ttest: 0.5376392\tbest: 0.5377315 (2715)\ttotal: 2m 46s\tremaining: 1m 15s\n",
            "2760:\tlearn: 0.5424988\ttest: 0.5375733\tbest: 0.5377315 (2715)\ttotal: 2m 47s\tremaining: 1m 14s\n",
            "2770:\tlearn: 0.5425399\ttest: 0.5376443\tbest: 0.5377315 (2715)\ttotal: 2m 48s\tremaining: 1m 14s\n",
            "2780:\tlearn: 0.5425519\ttest: 0.5376295\tbest: 0.5377315 (2715)\ttotal: 2m 48s\tremaining: 1m 14s\n",
            "2790:\tlearn: 0.5425488\ttest: 0.5376243\tbest: 0.5377315 (2715)\ttotal: 2m 49s\tremaining: 1m 13s\n",
            "2800:\tlearn: 0.5425617\ttest: 0.5376464\tbest: 0.5377315 (2715)\ttotal: 2m 49s\tremaining: 1m 12s\n",
            "2810:\tlearn: 0.5425517\ttest: 0.5376083\tbest: 0.5377315 (2715)\ttotal: 2m 50s\tremaining: 1m 12s\n",
            "2820:\tlearn: 0.5426277\ttest: 0.5376342\tbest: 0.5377315 (2715)\ttotal: 2m 51s\tremaining: 1m 11s\n",
            "2830:\tlearn: 0.5426505\ttest: 0.5376500\tbest: 0.5377315 (2715)\ttotal: 2m 51s\tremaining: 1m 10s\n",
            "2840:\tlearn: 0.5426481\ttest: 0.5376495\tbest: 0.5377315 (2715)\ttotal: 2m 52s\tremaining: 1m 10s\n",
            "2850:\tlearn: 0.5426635\ttest: 0.5376739\tbest: 0.5377315 (2715)\ttotal: 2m 52s\tremaining: 1m 9s\n",
            "2860:\tlearn: 0.5426753\ttest: 0.5376770\tbest: 0.5377315 (2715)\ttotal: 2m 53s\tremaining: 1m 8s\n",
            "2870:\tlearn: 0.5426811\ttest: 0.5377013\tbest: 0.5377315 (2715)\ttotal: 2m 53s\tremaining: 1m 8s\n",
            "2880:\tlearn: 0.5426620\ttest: 0.5376543\tbest: 0.5377315 (2715)\ttotal: 2m 54s\tremaining: 1m 7s\n",
            "2890:\tlearn: 0.5427009\ttest: 0.5376850\tbest: 0.5377315 (2715)\ttotal: 2m 54s\tremaining: 1m 7s\n",
            "2900:\tlearn: 0.5427149\ttest: 0.5376773\tbest: 0.5377315 (2715)\ttotal: 2m 55s\tremaining: 1m 6s\n",
            "2910:\tlearn: 0.5427401\ttest: 0.5377065\tbest: 0.5377315 (2715)\ttotal: 2m 55s\tremaining: 1m 5s\n",
            "2920:\tlearn: 0.5426656\ttest: 0.5376564\tbest: 0.5377315 (2715)\ttotal: 2m 56s\tremaining: 1m 5s\n",
            "2930:\tlearn: 0.5426992\ttest: 0.5376765\tbest: 0.5377315 (2715)\ttotal: 2m 56s\tremaining: 1m 4s\n",
            "2940:\tlearn: 0.5426805\ttest: 0.5376770\tbest: 0.5377315 (2715)\ttotal: 2m 57s\tremaining: 1m 3s\n",
            "2950:\tlearn: 0.5427113\ttest: 0.5377137\tbest: 0.5377315 (2715)\ttotal: 2m 58s\tremaining: 1m 3s\n",
            "2960:\tlearn: 0.5427276\ttest: 0.5377326\tbest: 0.5377326 (2960)\ttotal: 2m 58s\tremaining: 1m 2s\n",
            "2970:\tlearn: 0.5427406\ttest: 0.5377369\tbest: 0.5377549 (2968)\ttotal: 2m 59s\tremaining: 1m 2s\n",
            "2980:\tlearn: 0.5427808\ttest: 0.5377307\tbest: 0.5377656 (2975)\ttotal: 3m\tremaining: 1m 1s\n",
            "2990:\tlearn: 0.5427888\ttest: 0.5377567\tbest: 0.5377656 (2975)\ttotal: 3m 1s\tremaining: 1m 1s\n",
            "3000:\tlearn: 0.5427805\ttest: 0.5377314\tbest: 0.5377656 (2975)\ttotal: 3m 1s\tremaining: 1m\n",
            "3010:\tlearn: 0.5428211\ttest: 0.5377849\tbest: 0.5377849 (3010)\ttotal: 3m 2s\tremaining: 60s\n",
            "3020:\tlearn: 0.5428226\ttest: 0.5377566\tbest: 0.5377875 (3011)\ttotal: 3m 3s\tremaining: 59.3s\n",
            "3030:\tlearn: 0.5428004\ttest: 0.5377233\tbest: 0.5377875 (3011)\ttotal: 3m 3s\tremaining: 58.7s\n",
            "3040:\tlearn: 0.5427968\ttest: 0.5377310\tbest: 0.5377875 (3011)\ttotal: 3m 4s\tremaining: 58.1s\n",
            "3050:\tlearn: 0.5428327\ttest: 0.5377251\tbest: 0.5377875 (3011)\ttotal: 3m 4s\tremaining: 57.4s\n",
            "3060:\tlearn: 0.5428510\ttest: 0.5377269\tbest: 0.5377875 (3011)\ttotal: 3m 5s\tremaining: 56.8s\n",
            "3070:\tlearn: 0.5428749\ttest: 0.5377293\tbest: 0.5377875 (3011)\ttotal: 3m 5s\tremaining: 56.2s\n",
            "3080:\tlearn: 0.5428986\ttest: 0.5377285\tbest: 0.5377875 (3011)\ttotal: 3m 6s\tremaining: 55.6s\n",
            "3090:\tlearn: 0.5428912\ttest: 0.5377186\tbest: 0.5377875 (3011)\ttotal: 3m 6s\tremaining: 54.9s\n",
            "3100:\tlearn: 0.5428958\ttest: 0.5377402\tbest: 0.5377875 (3011)\ttotal: 3m 7s\tremaining: 54.3s\n",
            "3110:\tlearn: 0.5428893\ttest: 0.5377259\tbest: 0.5377875 (3011)\ttotal: 3m 7s\tremaining: 53.7s\n",
            "3120:\tlearn: 0.5429286\ttest: 0.5377516\tbest: 0.5377875 (3011)\ttotal: 3m 8s\tremaining: 53.1s\n",
            "3130:\tlearn: 0.5429677\ttest: 0.5377892\tbest: 0.5377917 (3128)\ttotal: 3m 8s\tremaining: 52.4s\n",
            "3140:\tlearn: 0.5429266\ttest: 0.5377381\tbest: 0.5377917 (3128)\ttotal: 3m 9s\tremaining: 51.8s\n",
            "3150:\tlearn: 0.5429511\ttest: 0.5377423\tbest: 0.5377917 (3128)\ttotal: 3m 10s\tremaining: 51.2s\n",
            "3160:\tlearn: 0.5429694\ttest: 0.5377382\tbest: 0.5377917 (3128)\ttotal: 3m 10s\tremaining: 50.6s\n",
            "3170:\tlearn: 0.5429814\ttest: 0.5377729\tbest: 0.5377917 (3128)\ttotal: 3m 11s\tremaining: 50s\n",
            "3180:\tlearn: 0.5430236\ttest: 0.5377727\tbest: 0.5377917 (3128)\ttotal: 3m 11s\tremaining: 49.3s\n",
            "3190:\tlearn: 0.5430181\ttest: 0.5377569\tbest: 0.5377917 (3128)\ttotal: 3m 12s\tremaining: 48.8s\n",
            "3200:\tlearn: 0.5430506\ttest: 0.5377922\tbest: 0.5378003 (3199)\ttotal: 3m 13s\tremaining: 48.3s\n",
            "3210:\tlearn: 0.5430345\ttest: 0.5378025\tbest: 0.5378056 (3203)\ttotal: 3m 14s\tremaining: 47.8s\n",
            "3220:\tlearn: 0.5430296\ttest: 0.5377706\tbest: 0.5378164 (3215)\ttotal: 3m 15s\tremaining: 47.2s\n",
            "3230:\tlearn: 0.5430168\ttest: 0.5377413\tbest: 0.5378164 (3215)\ttotal: 3m 15s\tremaining: 46.6s\n",
            "3240:\tlearn: 0.5430279\ttest: 0.5377526\tbest: 0.5378164 (3215)\ttotal: 3m 16s\tremaining: 46s\n",
            "3250:\tlearn: 0.5430525\ttest: 0.5377842\tbest: 0.5378164 (3215)\ttotal: 3m 16s\tremaining: 45.3s\n",
            "3260:\tlearn: 0.5430385\ttest: 0.5377920\tbest: 0.5378164 (3215)\ttotal: 3m 17s\tremaining: 44.7s\n",
            "3270:\tlearn: 0.5430752\ttest: 0.5378263\tbest: 0.5378263 (3270)\ttotal: 3m 17s\tremaining: 44.1s\n",
            "3280:\tlearn: 0.5430795\ttest: 0.5378050\tbest: 0.5378263 (3270)\ttotal: 3m 18s\tremaining: 43.5s\n",
            "3290:\tlearn: 0.5430350\ttest: 0.5377627\tbest: 0.5378263 (3270)\ttotal: 3m 18s\tremaining: 42.8s\n",
            "3300:\tlearn: 0.5430813\ttest: 0.5378013\tbest: 0.5378263 (3270)\ttotal: 3m 19s\tremaining: 42.2s\n",
            "3310:\tlearn: 0.5430818\ttest: 0.5377684\tbest: 0.5378263 (3270)\ttotal: 3m 19s\tremaining: 41.6s\n",
            "3320:\tlearn: 0.5430670\ttest: 0.5377714\tbest: 0.5378263 (3270)\ttotal: 3m 20s\tremaining: 41s\n",
            "3330:\tlearn: 0.5431223\ttest: 0.5378043\tbest: 0.5378263 (3270)\ttotal: 3m 21s\tremaining: 40.4s\n",
            "3340:\tlearn: 0.5431042\ttest: 0.5377982\tbest: 0.5378263 (3270)\ttotal: 3m 21s\tremaining: 39.8s\n",
            "3350:\tlearn: 0.5431103\ttest: 0.5377752\tbest: 0.5378263 (3270)\ttotal: 3m 22s\tremaining: 39.1s\n",
            "3360:\tlearn: 0.5431333\ttest: 0.5377863\tbest: 0.5378263 (3270)\ttotal: 3m 22s\tremaining: 38.5s\n",
            "3370:\tlearn: 0.5430985\ttest: 0.5377361\tbest: 0.5378263 (3270)\ttotal: 3m 23s\tremaining: 37.9s\n",
            "3380:\tlearn: 0.5431702\ttest: 0.5377980\tbest: 0.5378292 (3373)\ttotal: 3m 23s\tremaining: 37.3s\n",
            "3390:\tlearn: 0.5431570\ttest: 0.5377731\tbest: 0.5378292 (3373)\ttotal: 3m 24s\tremaining: 36.7s\n",
            "3400:\tlearn: 0.5432196\ttest: 0.5378571\tbest: 0.5378571 (3400)\ttotal: 3m 24s\tremaining: 36.1s\n",
            "3410:\tlearn: 0.5431971\ttest: 0.5378467\tbest: 0.5378638 (3405)\ttotal: 3m 25s\tremaining: 35.5s\n",
            "3420:\tlearn: 0.5432112\ttest: 0.5378409\tbest: 0.5378791 (3415)\ttotal: 3m 26s\tremaining: 34.9s\n",
            "3430:\tlearn: 0.5432102\ttest: 0.5378236\tbest: 0.5378791 (3415)\ttotal: 3m 27s\tremaining: 34.4s\n",
            "3440:\tlearn: 0.5432556\ttest: 0.5378604\tbest: 0.5378791 (3415)\ttotal: 3m 28s\tremaining: 33.8s\n",
            "3450:\tlearn: 0.5432993\ttest: 0.5379176\tbest: 0.5379176 (3450)\ttotal: 3m 28s\tremaining: 33.2s\n",
            "3460:\tlearn: 0.5432627\ttest: 0.5378791\tbest: 0.5379182 (3451)\ttotal: 3m 29s\tremaining: 32.6s\n",
            "3470:\tlearn: 0.5432384\ttest: 0.5378803\tbest: 0.5379182 (3451)\ttotal: 3m 29s\tremaining: 32s\n",
            "3480:\tlearn: 0.5432356\ttest: 0.5378836\tbest: 0.5379182 (3451)\ttotal: 3m 30s\tremaining: 31.4s\n",
            "3490:\tlearn: 0.5432714\ttest: 0.5378648\tbest: 0.5379182 (3451)\ttotal: 3m 30s\tremaining: 30.8s\n",
            "3500:\tlearn: 0.5432090\ttest: 0.5377972\tbest: 0.5379182 (3451)\ttotal: 3m 31s\tremaining: 30.1s\n",
            "3510:\tlearn: 0.5432184\ttest: 0.5378246\tbest: 0.5379182 (3451)\ttotal: 3m 31s\tremaining: 29.5s\n",
            "3520:\tlearn: 0.5432316\ttest: 0.5378178\tbest: 0.5379182 (3451)\ttotal: 3m 32s\tremaining: 28.9s\n",
            "3530:\tlearn: 0.5433196\ttest: 0.5378810\tbest: 0.5379182 (3451)\ttotal: 3m 33s\tremaining: 28.3s\n",
            "3540:\tlearn: 0.5433454\ttest: 0.5378806\tbest: 0.5379182 (3451)\ttotal: 3m 33s\tremaining: 27.7s\n",
            "3550:\tlearn: 0.5433572\ttest: 0.5378779\tbest: 0.5379182 (3451)\ttotal: 3m 34s\tremaining: 27.1s\n",
            "3560:\tlearn: 0.5433743\ttest: 0.5378927\tbest: 0.5379182 (3451)\ttotal: 3m 34s\tremaining: 26.5s\n",
            "3570:\tlearn: 0.5434043\ttest: 0.5379236\tbest: 0.5379236 (3570)\ttotal: 3m 35s\tremaining: 25.8s\n",
            "3580:\tlearn: 0.5434442\ttest: 0.5379429\tbest: 0.5379527 (3579)\ttotal: 3m 35s\tremaining: 25.2s\n",
            "3590:\tlearn: 0.5434182\ttest: 0.5379187\tbest: 0.5379527 (3579)\ttotal: 3m 36s\tremaining: 24.6s\n",
            "3600:\tlearn: 0.5434357\ttest: 0.5379319\tbest: 0.5379595 (3597)\ttotal: 3m 36s\tremaining: 24s\n",
            "3610:\tlearn: 0.5434528\ttest: 0.5379597\tbest: 0.5379597 (3610)\ttotal: 3m 37s\tremaining: 23.4s\n",
            "3620:\tlearn: 0.5434254\ttest: 0.5379149\tbest: 0.5379705 (3611)\ttotal: 3m 37s\tremaining: 22.8s\n",
            "3630:\tlearn: 0.5434359\ttest: 0.5379134\tbest: 0.5379705 (3611)\ttotal: 3m 38s\tremaining: 22.2s\n",
            "3640:\tlearn: 0.5434235\ttest: 0.5378983\tbest: 0.5379705 (3611)\ttotal: 3m 39s\tremaining: 21.6s\n",
            "3650:\tlearn: 0.5434303\ttest: 0.5379076\tbest: 0.5379705 (3611)\ttotal: 3m 40s\tremaining: 21.1s\n",
            "3660:\tlearn: 0.5434342\ttest: 0.5378805\tbest: 0.5379705 (3611)\ttotal: 3m 41s\tremaining: 20.5s\n",
            "3670:\tlearn: 0.5434456\ttest: 0.5378697\tbest: 0.5379705 (3611)\ttotal: 3m 41s\tremaining: 19.9s\n",
            "3680:\tlearn: 0.5434474\ttest: 0.5378611\tbest: 0.5379705 (3611)\ttotal: 3m 42s\tremaining: 19.3s\n",
            "3690:\tlearn: 0.5434580\ttest: 0.5378696\tbest: 0.5379705 (3611)\ttotal: 3m 43s\tremaining: 18.7s\n",
            "3700:\tlearn: 0.5434510\ttest: 0.5378747\tbest: 0.5379705 (3611)\ttotal: 3m 43s\tremaining: 18.1s\n",
            "3710:\tlearn: 0.5434304\ttest: 0.5378171\tbest: 0.5379705 (3611)\ttotal: 3m 44s\tremaining: 17.4s\n",
            "3720:\tlearn: 0.5434767\ttest: 0.5378456\tbest: 0.5379705 (3611)\ttotal: 3m 44s\tremaining: 16.8s\n",
            "3730:\tlearn: 0.5434301\ttest: 0.5377939\tbest: 0.5379705 (3611)\ttotal: 3m 45s\tremaining: 16.2s\n",
            "3740:\tlearn: 0.5434350\ttest: 0.5377591\tbest: 0.5379705 (3611)\ttotal: 3m 45s\tremaining: 15.6s\n",
            "3750:\tlearn: 0.5434397\ttest: 0.5377766\tbest: 0.5379705 (3611)\ttotal: 3m 46s\tremaining: 15s\n",
            "3760:\tlearn: 0.5434768\ttest: 0.5378219\tbest: 0.5379705 (3611)\ttotal: 3m 46s\tremaining: 14.4s\n",
            "3770:\tlearn: 0.5434855\ttest: 0.5378391\tbest: 0.5379705 (3611)\ttotal: 3m 47s\tremaining: 13.8s\n",
            "3780:\tlearn: 0.5434541\ttest: 0.5378117\tbest: 0.5379705 (3611)\ttotal: 3m 47s\tremaining: 13.2s\n",
            "3790:\tlearn: 0.5434739\ttest: 0.5377995\tbest: 0.5379705 (3611)\ttotal: 3m 48s\tremaining: 12.6s\n",
            "3800:\tlearn: 0.5434957\ttest: 0.5378064\tbest: 0.5379705 (3611)\ttotal: 3m 48s\tremaining: 12s\n",
            "3810:\tlearn: 0.5435441\ttest: 0.5378680\tbest: 0.5379705 (3611)\ttotal: 3m 49s\tremaining: 11.4s\n",
            "3820:\tlearn: 0.5435402\ttest: 0.5378686\tbest: 0.5379705 (3611)\ttotal: 3m 49s\tremaining: 10.8s\n",
            "3830:\tlearn: 0.5435389\ttest: 0.5378457\tbest: 0.5379705 (3611)\ttotal: 3m 50s\tremaining: 10.2s\n",
            "3840:\tlearn: 0.5435576\ttest: 0.5378437\tbest: 0.5379705 (3611)\ttotal: 3m 51s\tremaining: 9.56s\n",
            "3850:\tlearn: 0.5436193\ttest: 0.5379046\tbest: 0.5379705 (3611)\ttotal: 3m 51s\tremaining: 8.97s\n",
            "3860:\tlearn: 0.5436583\ttest: 0.5379012\tbest: 0.5379705 (3611)\ttotal: 3m 52s\tremaining: 8.38s\n",
            "3870:\tlearn: 0.5436729\ttest: 0.5379161\tbest: 0.5379705 (3611)\ttotal: 3m 53s\tremaining: 7.79s\n",
            "3880:\tlearn: 0.5436712\ttest: 0.5379273\tbest: 0.5379705 (3611)\ttotal: 3m 54s\tremaining: 7.19s\n",
            "3890:\tlearn: 0.5436838\ttest: 0.5379167\tbest: 0.5379705 (3611)\ttotal: 3m 54s\tremaining: 6.58s\n",
            "3900:\tlearn: 0.5436639\ttest: 0.5379057\tbest: 0.5379705 (3611)\ttotal: 3m 55s\tremaining: 5.98s\n",
            "3910:\tlearn: 0.5436499\ttest: 0.5378738\tbest: 0.5379705 (3611)\ttotal: 3m 56s\tremaining: 5.37s\n",
            "3920:\tlearn: 0.5436102\ttest: 0.5378138\tbest: 0.5379705 (3611)\ttotal: 3m 56s\tremaining: 4.77s\n",
            "3930:\tlearn: 0.5436484\ttest: 0.5378275\tbest: 0.5379705 (3611)\ttotal: 3m 57s\tremaining: 4.16s\n",
            "3940:\tlearn: 0.5436607\ttest: 0.5378511\tbest: 0.5379705 (3611)\ttotal: 3m 57s\tremaining: 3.56s\n",
            "3950:\tlearn: 0.5437304\ttest: 0.5378995\tbest: 0.5379705 (3611)\ttotal: 3m 58s\tremaining: 2.95s\n",
            "3960:\tlearn: 0.5437389\ttest: 0.5379227\tbest: 0.5379705 (3611)\ttotal: 3m 58s\tremaining: 2.35s\n",
            "3970:\tlearn: 0.5437346\ttest: 0.5379167\tbest: 0.5379705 (3611)\ttotal: 3m 59s\tremaining: 1.75s\n",
            "3980:\tlearn: 0.5437094\ttest: 0.5378842\tbest: 0.5379705 (3611)\ttotal: 3m 59s\tremaining: 1.14s\n",
            "3990:\tlearn: 0.5437058\ttest: 0.5378896\tbest: 0.5379705 (3611)\ttotal: 4m\tremaining: 542ms\n",
            "3999:\tlearn: 0.5436898\ttest: 0.5378440\tbest: 0.5379705 (3611)\ttotal: 4m\tremaining: 0us\n",
            "bestTest = 0.5379704709\n",
            "bestIteration = 3611\n",
            "Shrink model to first 3612 iterations.\n"
          ]
        }
      ]
    },
    {
      "cell_type": "code",
      "source": [
        "del train_data\n",
        "del test_data\n",
        "gc.collect()"
      ],
      "metadata": {
        "colab": {
          "base_uri": "https://localhost:8080/"
        },
        "id": "bfA6b9lcs3Ax",
        "outputId": "0d2ca242-b684-41ce-fe6c-cc419e7b2495"
      },
      "execution_count": 22,
      "outputs": [
        {
          "output_type": "execute_result",
          "data": {
            "text/plain": [
              "33"
            ]
          },
          "metadata": {},
          "execution_count": 22
        }
      ]
    },
    {
      "cell_type": "code",
      "source": [
        "booster = CatBoost()\n",
        "booster.load_model(f'./models/booster_{kfold_num}.model')\n",
        "print(f'./models/booster_{kfold_num}.model')\n",
        "#booster.get_best_score()['validation']['TotalF1']"
      ],
      "metadata": {
        "colab": {
          "base_uri": "https://localhost:8080/"
        },
        "id": "eTFVucLs21Yu",
        "outputId": "9785f757-3c89-4e66-cd9d-195e00f69405"
      },
      "execution_count": 26,
      "outputs": [
        {
          "output_type": "stream",
          "name": "stdout",
          "text": [
            "./models/booster_0.model\n"
          ]
        }
      ]
    },
    {
      "cell_type": "code",
      "source": [
        "if incollare:\n",
        "    K = np.vstack((data_npz['K_train'][:,:4], data_upd_npz['K_train'][:,:4][id_vector]))\n",
        "    K_holdout = data_upd_npz['K_train'][:,:4][~id_vector]\n",
        "else:\n",
        "    K = data_npz['K_train'][:,:4]\n",
        "    K_holdout = data_upd_npz['K_train'][:,:4]\n",
        "line_dict = {'train':K[:,1:4][~kfold_vector], 'test':K[:,1:4][kfold_vector], 'holdout':K_holdout[:,1:4]}\n",
        "y_dict = {'train':y[~kfold_vector], 'test':y[kfold_vector], 'holdout':y_holdout}\n",
        "X_dict = {'train':X[~kfold_vector], 'test':X[kfold_vector], 'holdout':X_holdout}\n",
        "\n",
        "active_rows_dict ={}\n",
        "active_rows_dict['train'] = ((K[:,0][~kfold_vector] == 1) & (K[:,1:4][~kfold_vector].sum(axis = 1) > 3))\n",
        "active_rows_dict['test'] = ((K[:,0][kfold_vector] == 1) & (K[:,1:4][kfold_vector].sum(axis = 1) > 3))\n",
        "active_rows_dict['holdout'] = ((K_holdout[:,0] == 1) & (K_holdout[:, 1:4].sum(axis = 1) > 3))\n",
        "#---------------\n",
        "process = psutil.Process(os.getpid())\n",
        "print('mem usage: ', round(process.memory_info().rss / 1024 ** 3, 2), 'GiB')  # in bytes \n",
        "#---------------"
      ],
      "metadata": {
        "colab": {
          "base_uri": "https://localhost:8080/"
        },
        "id": "iM_r6lBNsY7t",
        "outputId": "4a395c58-7dc8-439c-e49c-b912e044faaa"
      },
      "execution_count": 24,
      "outputs": [
        {
          "output_type": "stream",
          "name": "stdout",
          "text": [
            "mem usage:  8.43 GiB\n"
          ]
        }
      ]
    },
    {
      "cell_type": "code",
      "source": [
        "preds_dict = {}\n",
        "\n",
        "preds_dict['train'] = booster.predict(X[~kfold_vector], prediction_type=\"Probability\")\n",
        "preds_dict['test'] = booster.predict(X[kfold_vector], prediction_type=\"Probability\")\n",
        "preds_dict['holdout'] = booster.predict(X_holdout, prediction_type=\"Probability\")\n",
        "\n",
        "#---------------\n",
        "process = psutil.Process(os.getpid())\n",
        "print('mem usage: ', round(process.memory_info().rss / 1024 ** 3, 2), 'GiB')  # in bytes \n",
        "#---------------"
      ],
      "metadata": {
        "colab": {
          "base_uri": "https://localhost:8080/"
        },
        "id": "jbf68hrEXkpp",
        "outputId": "e92a8ff0-e0a8-4a8c-db25-d67902c28656"
      },
      "execution_count": 33,
      "outputs": [
        {
          "output_type": "stream",
          "name": "stdout",
          "text": [
            "mem usage:  9.23 GiB\n"
          ]
        }
      ]
    },
    {
      "cell_type": "code",
      "source": [
        "preds_dict['holdout'].shape, line_dict['holdout'].shape"
      ],
      "metadata": {
        "colab": {
          "base_uri": "https://localhost:8080/"
        },
        "id": "nL8zVhz9ULgh",
        "outputId": "195ba1e8-62e1-44e2-fc46-5ec8195f1a14"
      },
      "execution_count": 28,
      "outputs": [
        {
          "output_type": "execute_result",
          "data": {
            "text/plain": [
              "((1223240, 3), (1223240, 3))"
            ]
          },
          "metadata": {},
          "execution_count": 28
        }
      ]
    },
    {
      "cell_type": "code",
      "source": [
        "fig = profit_validation_by_type(active_rows_dict, preds_dict, line_dict, y_dict)\n",
        "fig.show()"
      ],
      "metadata": {
        "colab": {
          "base_uri": "https://localhost:8080/",
          "height": 817
        },
        "id": "tSUqslTvgobu",
        "outputId": "f3e3940d-8ce2-4584-d0a1-c7fcf5626fb7"
      },
      "execution_count": 29,
      "outputs": [
        {
          "output_type": "display_data",
          "data": {
            "text/html": [
              "<html>\n",
              "<head><meta charset=\"utf-8\" /></head>\n",
              "<body>\n",
              "    <div>            <script src=\"https://cdnjs.cloudflare.com/ajax/libs/mathjax/2.7.5/MathJax.js?config=TeX-AMS-MML_SVG\"></script><script type=\"text/javascript\">if (window.MathJax && window.MathJax.Hub && window.MathJax.Hub.Config) {window.MathJax.Hub.Config({SVG: {font: \"STIX-Web\"}});}</script>                <script type=\"text/javascript\">window.PlotlyConfig = {MathJaxConfig: 'local'};</script>\n",
              "        <script src=\"https://cdn.plot.ly/plotly-2.18.2.min.js\"></script>                <div id=\"016233ac-bff5-4ad4-a151-993e35fe86ec\" class=\"plotly-graph-div\" style=\"height:800px; width:900px;\"></div>            <script type=\"text/javascript\">                                    window.PLOTLYENV=window.PLOTLYENV || {};                                    if (document.getElementById(\"016233ac-bff5-4ad4-a151-993e35fe86ec\")) {                    Plotly.newPlot(                        \"016233ac-bff5-4ad4-a151-993e35fe86ec\",                        [{\"line\":{\"color\":\"rgb(93, 164, 214)\",\"width\":4},\"name\":\"all\",\"x\":[0.9,0.905,0.91,0.915,0.92,0.925,0.93,0.935,0.9400000000000001,0.9450000000000001,0.95,0.9550000000000001,0.96,0.965,0.97,0.975,0.98,0.985,0.99,0.995,1.0,1.005,1.01,1.015,1.02,1.025,1.03,1.035,1.04,1.045,1.05,1.055,1.06,1.065,1.07,1.075,1.08,1.085,1.09,1.095,1.1,1.105,1.1099999999999999,1.115,1.12,1.125,1.13,1.135,1.14,1.145,1.15,1.155,1.16,1.165,1.17,1.175,1.18,1.185,1.19,1.1949999999999998,1.2,1.205,1.21,1.2149999999999999,1.22,1.225,1.23,1.2349999999999999,1.24,1.245,1.25,1.255,1.26,1.265,1.27,1.275,1.28,1.285,1.29,1.295,1.2999999999999998,1.305,1.31,1.315,1.3199999999999998,1.325,1.33,1.335,1.3399999999999999,1.345,1.35,1.355,1.3599999999999999,1.365,1.3699999999999999,1.375,1.38,1.385,1.39,1.395,1.4],\"y\":[-15209.499310204426,-15209.499310204426,-15209.499310204426,-15208.563230339396,-15154.46210671407,-15067.220981850094,-14717.656163058537,-14270.744675897071,-13627.274766713655,-12865.336475156657,-12090.839677914535,-11177.27876963175,-10226.927274367896,-9263.95712250825,-8254.292409247444,-7219.746817703162,-6241.832093978735,-5555.668129357024,-4873.783003852432,-4214.438283316828,-3546.798915436507,-2849.0593044991056,-2208.3274171168946,-1550.4831689824223,-991.9372402676788,-649.8035651062457,-326.91984460930826,181.58382695524054,425.8851410578924,536.8560662769669,733.8469278403311,851.7995846549916,908.7402452285886,897.5097084584911,897.8600732943846,969.2894366827879,902.663518802824,945.4936017154787,1010.7880666159692,1082.0113320123235,1114.987697831748,1169.6993190352032,1135.7977766249564,1172.6185224902608,1182.888682480257,1167.4777998432835,1166.4451354045723,1188.6291658040664,1226.5970700301098,1199.980933674004,1245.9863885652474,1239.509121206494,1208.7074401905534,1215.8186141338065,1217.9432810161097,1198.833855177792,1141.0849462101369,1182.1895150826217,1153.5567595678313,1152.4540772495893,1135.7208905058674,1118.8033469237344,1111.0958112389565,1062.4387124222774,1018.9609750572631,967.6969230601921,974.6742326766065,979.2574517645533,965.7580083182706,956.8628559325055,927.1551710228993,913.3137752407387,874.1117854559457,850.6062462124848,866.1709913775828,879.1001707124699,844.2526340493462,815.0917313060045,801.5966326008959,794.0566690588141,781.4988262915322,740.5536290001496,731.6119550318139,720.4191999924957,679.5515879619918,647.7052275722529,620.300883046556,605.6156233458544,601.4535388740088,565.5043321187109,563.6543615065634,567.7761945417325,558.071952640914,540.6650622500118,530.2156968306821,541.7384110793962,532.8104825852837,520.3103151331027,514.6369391217584,483.590898034325,479.305174869855],\"type\":\"scatter\",\"xaxis\":\"x\",\"yaxis\":\"y\"},{\"line\":{\"color\":\"rgb(255, 144, 14)\",\"width\":1},\"name\":\"home\",\"x\":[0.9,0.905,0.91,0.915,0.92,0.925,0.93,0.935,0.9400000000000001,0.9450000000000001,0.95,0.9550000000000001,0.96,0.965,0.97,0.975,0.98,0.985,0.99,0.995,1.0,1.005,1.01,1.015,1.02,1.025,1.03,1.035,1.04,1.045,1.05,1.055,1.06,1.065,1.07,1.075,1.08,1.085,1.09,1.095,1.1,1.105,1.1099999999999999,1.115,1.12,1.125,1.13,1.135,1.14,1.145,1.15,1.155,1.16,1.165,1.17,1.175,1.18,1.185,1.19,1.1949999999999998,1.2,1.205,1.21,1.2149999999999999,1.22,1.225,1.23,1.2349999999999999,1.24,1.245,1.25,1.255,1.26,1.265,1.27,1.275,1.28,1.285,1.29,1.295,1.2999999999999998,1.305,1.31,1.315,1.3199999999999998,1.325,1.33,1.335,1.3399999999999999,1.345,1.35,1.355,1.3599999999999999,1.365,1.3699999999999999,1.375,1.38,1.385,1.39,1.395,1.4],\"y\":[-8216.69573230156,-8216.69573230156,-8216.69573230156,-8215.25069198545,-8181.787607268503,-8123.021595686484,-7928.097981166561,-7668.03133731609,-7222.20716749554,-6739.996720855268,-6245.0434588228445,-5596.498833608785,-4980.510854507804,-4385.878958429268,-3737.4191706452775,-3111.2112231693864,-2531.913512624363,-2106.2564105933143,-1740.4611577446651,-1373.9742139536538,-1054.761054607762,-724.5357344974934,-462.6642261390266,-234.22695584731204,-7.96668714108668,164.71921580125883,282.7751985323076,475.38444920632764,510.94268531944647,545.9270446734536,624.3676435565887,721.6030430633414,725.6343837083912,732.3284384305853,769.7810907997791,808.2901359615529,754.04374672019,738.4412894258405,717.1714189124459,718.050025826268,712.0175949386954,710.0390859151655,692.4631839425181,714.5142808959985,740.4001643317008,737.1744195792318,777.0378387030473,810.4044102807925,837.3919723822115,824.9811000998081,840.378370210617,828.9846713803735,807.4429024395595,825.2443004867351,824.353188934653,798.9771853432529,757.2350738665145,761.0489039106468,772.3644362936695,743.4722342818261,740.8294507073106,735.705649987987,720.3405485544207,692.054381621127,659.8064440350051,631.5406060073715,627.0860914355806,597.0712158631869,582.4544783721453,558.2778464838609,540.5935439963522,524.6247102585405,502.5168065187409,479.0551226071567,479.65471290088715,476.31546382224684,446.98976269945854,428.9601888952831,416.45912396028393,415.09520262898343,408.8335575489746,384.87474014847044,384.70271138008286,370.7858920663965,361.8643119091248,349.82290495083976,331.7677929515579,316.15169238731016,313.11809831725645,284.43188534482505,278.85838415375116,283.41112503625993,280.52734126443875,270.13556151723355,264.76759441850015,270.0950171598507,274.54089864850494,269.2582468114241,269.0267840858958,257.0617913145734,263.0987823740307],\"type\":\"scatter\",\"xaxis\":\"x\",\"yaxis\":\"y\"},{\"line\":{\"color\":\"rgb(44, 160, 101)\",\"width\":1},\"name\":\"draw\",\"x\":[0.9,0.905,0.91,0.915,0.92,0.925,0.93,0.935,0.9400000000000001,0.9450000000000001,0.95,0.9550000000000001,0.96,0.965,0.97,0.975,0.98,0.985,0.99,0.995,1.0,1.005,1.01,1.015,1.02,1.025,1.03,1.035,1.04,1.045,1.05,1.055,1.06,1.065,1.07,1.075,1.08,1.085,1.09,1.095,1.1,1.105,1.1099999999999999,1.115,1.12,1.125,1.13,1.135,1.14,1.145,1.15,1.155,1.16,1.165,1.17,1.175,1.18,1.185,1.19,1.1949999999999998,1.2,1.205,1.21,1.2149999999999999,1.22,1.225,1.23,1.2349999999999999,1.24,1.245,1.25,1.255,1.26,1.265,1.27,1.275,1.28,1.285,1.29,1.295,1.2999999999999998,1.305,1.31,1.315,1.3199999999999998,1.325,1.33,1.335,1.3399999999999999,1.345,1.35,1.355,1.3599999999999999,1.365,1.3699999999999999,1.375,1.38,1.385,1.39,1.395,1.4],\"y\":[-1790.351653905878,-1790.351653905878,-1790.351653905878,-1790.9814977462484,-1782.2107132527585,-1763.0561866735356,-1731.9688776346377,-1660.3014248752256,-1633.7954249007612,-1591.333993083063,-1581.5990263181031,-1578.0709551959844,-1572.9544715516238,-1542.928881541175,-1550.5892584047908,-1492.3750241853254,-1411.2576471043017,-1423.5222340942103,-1373.1234285979835,-1286.636578190275,-1217.4070007234452,-1133.099626978143,-1002.6941551490168,-768.2041308649909,-551.7875427953759,-424.8035419470226,-288.716864883492,-103.10574850194945,-20.949244513372804,21.502012764558117,117.95488002167046,122.74001513511674,141.05521962596475,126.03931766073795,78.23624557971915,104.96362303761737,79.32144313276979,111.63904442165574,184.80475069175662,218.40925236072954,211.2380245203163,191.6128582907328,137.73836980600802,114.45817556988864,74.80023734338798,70.38992396552456,32.788186014065516,3.9656182606091193,12.17694514068367,7.2202727691774555,31.811401859801542,41.70374055452444,32.48299659987053,34.081216242430614,45.42535608178838,43.735837669749635,23.598230642025182,32.68890394047911,13.523042747099279,15.056957385384223,-1.5785341258781322,-2.4902556173883212,-14.425071682182509,-36.74163108861495,-41.75139639996293,-51.35155760528599,-47.03883928785645,-27.474411507307423,-34.975027271344544,-21.429367600054547,-21.35568457435842,-17.12891819965158,-14.794369175163538,-23.568023688108575,-19.793293789312166,-14.820975044952647,-17.515693878097835,-26.22029263640573,-18.051615058709118,-18.713137391404757,-16.383781911948446,-17.624709404914057,-22.125102360921616,-15.055161226228147,-25.913788652771082,-22.2441630287421,-19.80536126762746,-15.972385244613235,-18.85357458131716,-23.21649923867517,-20.135175626890046,-14.838856541946729,-12.086966879318318,-15.497134065340866,-14.046961893256906,-11.019911194516187,-10.884232566570748,-9.080917653785274,-8.952608761970716,-9.135001427475828,-11.905914207207623],\"type\":\"scatter\",\"xaxis\":\"x\",\"yaxis\":\"y\"},{\"line\":{\"color\":\"rgb(255, 65, 54)\",\"width\":1},\"name\":\"away\",\"x\":[0.9,0.905,0.91,0.915,0.92,0.925,0.93,0.935,0.9400000000000001,0.9450000000000001,0.95,0.9550000000000001,0.96,0.965,0.97,0.975,0.98,0.985,0.99,0.995,1.0,1.005,1.01,1.015,1.02,1.025,1.03,1.035,1.04,1.045,1.05,1.055,1.06,1.065,1.07,1.075,1.08,1.085,1.09,1.095,1.1,1.105,1.1099999999999999,1.115,1.12,1.125,1.13,1.135,1.14,1.145,1.15,1.155,1.16,1.165,1.17,1.175,1.18,1.185,1.19,1.1949999999999998,1.2,1.205,1.21,1.2149999999999999,1.22,1.225,1.23,1.2349999999999999,1.24,1.245,1.25,1.255,1.26,1.265,1.27,1.275,1.28,1.285,1.29,1.295,1.2999999999999998,1.305,1.31,1.315,1.3199999999999998,1.325,1.33,1.335,1.3399999999999999,1.345,1.35,1.355,1.3599999999999999,1.365,1.3699999999999999,1.375,1.38,1.385,1.39,1.395,1.4],\"y\":[-5202.451923996983,-5202.451923996983,-5202.451923996983,-5202.331040607698,-5190.463786192807,-5181.143199490071,-5057.5893042573425,-4942.411913705757,-4771.272174317351,-4534.005761218321,-4264.197192773583,-4002.708980826988,-3673.461948308469,-3335.149282537811,-2966.283980197377,-2616.1605703484524,-2298.660934250069,-2025.8894846694982,-1760.1984175097823,-1553.8274911728997,-1274.6308601053001,-991.4239430234686,-742.9690358288507,-548.0520822701195,-432.183010331216,-389.7192389604819,-320.97817825812353,-190.69487374913737,-64.10829974818118,-30.572991161044307,-8.475595737928145,7.456526456533595,42.05064189423261,39.14195236716782,49.84273691488616,56.03567768361718,69.29832894986414,95.41326786798223,108.81189701176682,145.55205382532625,191.73207837273623,268.0473748293048,305.59622287643043,343.646066024374,367.68828080516823,359.91345629852714,356.6191106874594,374.259137262665,377.02815250721443,367.7795608050186,373.79661649482864,368.82070927159594,368.78154115112346,356.4930974046409,348.1647359996687,356.12083216478936,360.25164170159724,388.4517072314959,367.6692805270624,393.92488558237903,396.46997392443484,385.5879525531355,405.1803343667183,407.12596188976534,400.9059274222209,387.5078746581068,394.6269805288824,409.6606474086737,418.2785572174698,420.0143770486991,407.9173116009057,405.8179831818496,386.38934811236845,395.11914729343687,406.30957226600793,417.60568193517565,414.77856522798544,412.351835047127,403.18912369932116,397.67460382123545,389.04905065450583,373.3035982565933,369.03434601265275,364.6884691523274,343.6010647056381,320.1264856501553,308.3384513626255,305.4363162031574,307.1890151380695,304.2889460125609,304.9311529797023,299.20392604741915,289.6315782557936,286.02663479811906,279.4950643054389,282.6633051140617,269.15381650334956,260.13298597546395,254.56276379783324,235.66410814722747,228.11230670303195],\"type\":\"scatter\",\"xaxis\":\"x\",\"yaxis\":\"y\"},{\"line\":{\"color\":\"rgb(93, 164, 214)\",\"width\":4},\"name\":\"all\",\"x\":[0.9,0.905,0.91,0.915,0.92,0.925,0.93,0.935,0.9400000000000001,0.9450000000000001,0.95,0.9550000000000001,0.96,0.965,0.97,0.975,0.98,0.985,0.99,0.995,1.0,1.005,1.01,1.015,1.02,1.025,1.03,1.035,1.04,1.045,1.05,1.055,1.06,1.065,1.07,1.075,1.08,1.085,1.09,1.095,1.1,1.105,1.1099999999999999,1.115,1.12,1.125,1.13,1.135,1.14,1.145,1.15,1.155,1.16,1.165,1.17,1.175,1.18,1.185,1.19,1.1949999999999998,1.2,1.205,1.21,1.2149999999999999,1.22,1.225,1.23,1.2349999999999999,1.24,1.245,1.25,1.255,1.26,1.265,1.27,1.275,1.28,1.285,1.29,1.295,1.2999999999999998,1.305,1.31,1.315,1.3199999999999998,1.325,1.33,1.335,1.3399999999999999,1.345,1.35,1.355,1.3599999999999999,1.365,1.3699999999999999,1.375,1.38,1.385,1.39,1.395,1.4],\"y\":[0.0,0.0,0.0,0.0,0.0,0.0,0.0,0.0,0.0,0.0,0.0,0.0,0.0,0.0,0.0,0.0,0.0,0.0,0.0,0.0,0.0,0.0,0.0,0.0,0.0,0.0,0.0,0.0,0.0,0.0,0.0,0.0,0.0,0.0,0.0,0.0,0.0,0.0,0.0,0.0,0.0,0.0,0.0,0.0,0.0,0.0,0.0,0.0,0.0,0.0,0.0,0.0,0.0,0.0,0.0,0.0,0.0,0.0,0.0,0.0,0.0,0.0,0.0,0.0,0.0,0.0,0.0,0.0,0.0,0.0,0.0,0.0,0.0,0.0,0.0,0.0,0.0,0.0,0.0,0.0,0.0,0.0,0.0,0.0,0.0,0.0,0.0,0.0,0.0,0.0,0.0,0.0,0.0,0.0,0.0,0.0,0.0,0.0,0.0,0.0,0.0],\"type\":\"scatter\",\"xaxis\":\"x2\",\"yaxis\":\"y2\"},{\"line\":{\"color\":\"rgb(255, 144, 14)\",\"width\":1},\"name\":\"home\",\"x\":[0.9,0.905,0.91,0.915,0.92,0.925,0.93,0.935,0.9400000000000001,0.9450000000000001,0.95,0.9550000000000001,0.96,0.965,0.97,0.975,0.98,0.985,0.99,0.995,1.0,1.005,1.01,1.015,1.02,1.025,1.03,1.035,1.04,1.045,1.05,1.055,1.06,1.065,1.07,1.075,1.08,1.085,1.09,1.095,1.1,1.105,1.1099999999999999,1.115,1.12,1.125,1.13,1.135,1.14,1.145,1.15,1.155,1.16,1.165,1.17,1.175,1.18,1.185,1.19,1.1949999999999998,1.2,1.205,1.21,1.2149999999999999,1.22,1.225,1.23,1.2349999999999999,1.24,1.245,1.25,1.255,1.26,1.265,1.27,1.275,1.28,1.285,1.29,1.295,1.2999999999999998,1.305,1.31,1.315,1.3199999999999998,1.325,1.33,1.335,1.3399999999999999,1.345,1.35,1.355,1.3599999999999999,1.365,1.3699999999999999,1.375,1.38,1.385,1.39,1.395,1.4],\"y\":[0.0,0.0,0.0,0.0,0.0,0.0,0.0,0.0,0.0,0.0,0.0,0.0,0.0,0.0,0.0,0.0,0.0,0.0,0.0,0.0,0.0,0.0,0.0,0.0,0.0,0.0,0.0,0.0,0.0,0.0,0.0,0.0,0.0,0.0,0.0,0.0,0.0,0.0,0.0,0.0,0.0,0.0,0.0,0.0,0.0,0.0,0.0,0.0,0.0,0.0,0.0,0.0,0.0,0.0,0.0,0.0,0.0,0.0,0.0,0.0,0.0,0.0,0.0,0.0,0.0,0.0,0.0,0.0,0.0,0.0,0.0,0.0,0.0,0.0,0.0,0.0,0.0,0.0,0.0,0.0,0.0,0.0,0.0,0.0,0.0,0.0,0.0,0.0,0.0,0.0,0.0,0.0,0.0,0.0,0.0,0.0,0.0,0.0,0.0,0.0,0.0],\"type\":\"scatter\",\"xaxis\":\"x2\",\"yaxis\":\"y2\"},{\"line\":{\"color\":\"rgb(44, 160, 101)\",\"width\":1},\"name\":\"draw\",\"x\":[0.9,0.905,0.91,0.915,0.92,0.925,0.93,0.935,0.9400000000000001,0.9450000000000001,0.95,0.9550000000000001,0.96,0.965,0.97,0.975,0.98,0.985,0.99,0.995,1.0,1.005,1.01,1.015,1.02,1.025,1.03,1.035,1.04,1.045,1.05,1.055,1.06,1.065,1.07,1.075,1.08,1.085,1.09,1.095,1.1,1.105,1.1099999999999999,1.115,1.12,1.125,1.13,1.135,1.14,1.145,1.15,1.155,1.16,1.165,1.17,1.175,1.18,1.185,1.19,1.1949999999999998,1.2,1.205,1.21,1.2149999999999999,1.22,1.225,1.23,1.2349999999999999,1.24,1.245,1.25,1.255,1.26,1.265,1.27,1.275,1.28,1.285,1.29,1.295,1.2999999999999998,1.305,1.31,1.315,1.3199999999999998,1.325,1.33,1.335,1.3399999999999999,1.345,1.35,1.355,1.3599999999999999,1.365,1.3699999999999999,1.375,1.38,1.385,1.39,1.395,1.4],\"y\":[0.0,0.0,0.0,0.0,0.0,0.0,0.0,0.0,0.0,0.0,0.0,0.0,0.0,0.0,0.0,0.0,0.0,0.0,0.0,0.0,0.0,0.0,0.0,0.0,0.0,0.0,0.0,0.0,0.0,0.0,0.0,0.0,0.0,0.0,0.0,0.0,0.0,0.0,0.0,0.0,0.0,0.0,0.0,0.0,0.0,0.0,0.0,0.0,0.0,0.0,0.0,0.0,0.0,0.0,0.0,0.0,0.0,0.0,0.0,0.0,0.0,0.0,0.0,0.0,0.0,0.0,0.0,0.0,0.0,0.0,0.0,0.0,0.0,0.0,0.0,0.0,0.0,0.0,0.0,0.0,0.0,0.0,0.0,0.0,0.0,0.0,0.0,0.0,0.0,0.0,0.0,0.0,0.0,0.0,0.0,0.0,0.0,0.0,0.0,0.0,0.0],\"type\":\"scatter\",\"xaxis\":\"x2\",\"yaxis\":\"y2\"},{\"line\":{\"color\":\"rgb(255, 65, 54)\",\"width\":1},\"name\":\"away\",\"x\":[0.9,0.905,0.91,0.915,0.92,0.925,0.93,0.935,0.9400000000000001,0.9450000000000001,0.95,0.9550000000000001,0.96,0.965,0.97,0.975,0.98,0.985,0.99,0.995,1.0,1.005,1.01,1.015,1.02,1.025,1.03,1.035,1.04,1.045,1.05,1.055,1.06,1.065,1.07,1.075,1.08,1.085,1.09,1.095,1.1,1.105,1.1099999999999999,1.115,1.12,1.125,1.13,1.135,1.14,1.145,1.15,1.155,1.16,1.165,1.17,1.175,1.18,1.185,1.19,1.1949999999999998,1.2,1.205,1.21,1.2149999999999999,1.22,1.225,1.23,1.2349999999999999,1.24,1.245,1.25,1.255,1.26,1.265,1.27,1.275,1.28,1.285,1.29,1.295,1.2999999999999998,1.305,1.31,1.315,1.3199999999999998,1.325,1.33,1.335,1.3399999999999999,1.345,1.35,1.355,1.3599999999999999,1.365,1.3699999999999999,1.375,1.38,1.385,1.39,1.395,1.4],\"y\":[0.0,0.0,0.0,0.0,0.0,0.0,0.0,0.0,0.0,0.0,0.0,0.0,0.0,0.0,0.0,0.0,0.0,0.0,0.0,0.0,0.0,0.0,0.0,0.0,0.0,0.0,0.0,0.0,0.0,0.0,0.0,0.0,0.0,0.0,0.0,0.0,0.0,0.0,0.0,0.0,0.0,0.0,0.0,0.0,0.0,0.0,0.0,0.0,0.0,0.0,0.0,0.0,0.0,0.0,0.0,0.0,0.0,0.0,0.0,0.0,0.0,0.0,0.0,0.0,0.0,0.0,0.0,0.0,0.0,0.0,0.0,0.0,0.0,0.0,0.0,0.0,0.0,0.0,0.0,0.0,0.0,0.0,0.0,0.0,0.0,0.0,0.0,0.0,0.0,0.0,0.0,0.0,0.0,0.0,0.0,0.0,0.0,0.0,0.0,0.0,0.0],\"type\":\"scatter\",\"xaxis\":\"x2\",\"yaxis\":\"y2\"},{\"line\":{\"color\":\"rgb(93, 164, 214)\",\"width\":4},\"name\":\"all\",\"x\":[0.9,0.905,0.91,0.915,0.92,0.925,0.93,0.935,0.9400000000000001,0.9450000000000001,0.95,0.9550000000000001,0.96,0.965,0.97,0.975,0.98,0.985,0.99,0.995,1.0,1.005,1.01,1.015,1.02,1.025,1.03,1.035,1.04,1.045,1.05,1.055,1.06,1.065,1.07,1.075,1.08,1.085,1.09,1.095,1.1,1.105,1.1099999999999999,1.115,1.12,1.125,1.13,1.135,1.14,1.145,1.15,1.155,1.16,1.165,1.17,1.175,1.18,1.185,1.19,1.1949999999999998,1.2,1.205,1.21,1.2149999999999999,1.22,1.225,1.23,1.2349999999999999,1.24,1.245,1.25,1.255,1.26,1.265,1.27,1.275,1.28,1.285,1.29,1.295,1.2999999999999998,1.305,1.31,1.315,1.3199999999999998,1.325,1.33,1.335,1.3399999999999999,1.345,1.35,1.355,1.3599999999999999,1.365,1.3699999999999999,1.375,1.38,1.385,1.39,1.395,1.4],\"y\":[-13608.494971845563,-13608.494971845563,-13608.494971845563,-13608.064342488653,-13492.116904713614,-13068.922886766117,-12177.448217260462,-10719.985533610028,-8431.821660752674,-5712.831307597914,-2334.2284234612102,708.6825029418246,3651.273206105428,6612.901209004211,9547.004391377051,12184.65386349765,14780.448343798422,16852.19698043852,18613.515283280965,20088.065162830386,21497.321334196182,22430.53169791931,22964.227697487764,23518.516476294448,23883.86345389321,24741.217672733026,25202.388716814006,25676.630972311137,25546.54557228322,25349.861353472203,24929.18433580893,24671.679235567437,24301.978171466242,23792.553140670763,23337.98950371808,22903.538261648824,22487.98298140712,22003.422154650907,21503.093342422435,21200.22059278195,20939.226651014495,20335.967570077348,19861.561028800497,19195.274090743824,18644.13876230932,18164.56981770101,17656.227016237255,17148.360018857726,16575.607221319915,16272.220929235875,15799.635855480143,15419.015714316856,14969.652523644874,14506.381889204114,14239.259444688925,13834.283003497712,13424.143391347485,13149.661489986878,12824.732055242832,12555.622879986724,12296.835592949941,12071.177828223206,11875.492548309194,11619.627195908579,11413.579084841245,11097.923640979232,10849.832097001936,10658.071223623194,10413.708744551972,10140.061736334072,9837.721403467931,9632.498887709493,9374.40181018595,9181.075327807035,8952.828980466424,8759.01975155175,8566.723730395055,8358.0488683217,8187.0488935641315,8016.161761344755,7838.933718144186,7707.96648269338,7563.4056753481555,7382.567827464497,7226.942005829432,7082.840476886776,6937.386873581271,6804.369529433718,6658.3978735815335,6482.375190132488,6383.111046193582,6240.699434941241,6088.921222689965,5966.208668716833,5836.7242017889785,5704.512175047259,5593.166227957819,5481.889929258917,5368.604707239453,5284.575518945557,5183.825852057745],\"type\":\"scatter\",\"xaxis\":\"x3\",\"yaxis\":\"y3\"},{\"line\":{\"color\":\"rgb(255, 144, 14)\",\"width\":1},\"name\":\"home\",\"x\":[0.9,0.905,0.91,0.915,0.92,0.925,0.93,0.935,0.9400000000000001,0.9450000000000001,0.95,0.9550000000000001,0.96,0.965,0.97,0.975,0.98,0.985,0.99,0.995,1.0,1.005,1.01,1.015,1.02,1.025,1.03,1.035,1.04,1.045,1.05,1.055,1.06,1.065,1.07,1.075,1.08,1.085,1.09,1.095,1.1,1.105,1.1099999999999999,1.115,1.12,1.125,1.13,1.135,1.14,1.145,1.15,1.155,1.16,1.165,1.17,1.175,1.18,1.185,1.19,1.1949999999999998,1.2,1.205,1.21,1.2149999999999999,1.22,1.225,1.23,1.2349999999999999,1.24,1.245,1.25,1.255,1.26,1.265,1.27,1.275,1.28,1.285,1.29,1.295,1.2999999999999998,1.305,1.31,1.315,1.3199999999999998,1.325,1.33,1.335,1.3399999999999999,1.345,1.35,1.355,1.3599999999999999,1.365,1.3699999999999999,1.375,1.38,1.385,1.39,1.395,1.4],\"y\":[-8091.286102237649,-8091.286102237649,-8091.286102237649,-8092.256417086971,-8014.962003446831,-7768.518985851989,-7265.717511863055,-6303.149144326946,-4878.097682201392,-3333.0658520581364,-1443.9043681465216,324.6084169334519,1944.7170045052178,3718.765526709724,5245.307790534533,6690.216558417676,8004.125683876334,8964.908134162648,9981.608747242351,10707.835826365694,11462.31772621645,11857.924051394786,11982.458793490643,12120.710171728597,12162.499435030064,12396.047741181337,12562.347436587406,12636.943709568917,12406.523387071215,12310.435332800229,12101.102967104414,11980.010185242176,11830.14254200216,11477.049741982435,11291.07788873452,11123.303801112417,10855.248158747794,10521.877013466552,10247.857111097366,9986.050397949171,9866.24103036948,9654.621014853066,9441.8946143642,9146.648389444563,8879.72353813482,8597.859509245762,8312.255910465607,8105.381850948109,7841.357604365605,7670.3409895872555,7443.473707845632,7276.171069473347,7075.19943301698,6855.7746735813425,6725.268925015603,6541.536737656177,6343.238228517839,6248.804974183668,6080.092877439664,5933.530075765707,5821.115746287432,5675.11417495948,5586.5767140393045,5485.151202582181,5389.900060722612,5261.995326252853,5138.888259996703,5063.849288422074,4943.688294832772,4800.199231740995,4636.1355151950875,4536.18093275814,4445.849515046076,4376.5674471320335,4320.431952269401,4260.254289484151,4168.294492650117,4068.5355648640993,4013.4369780269653,3954.8604025871723,3911.297959516979,3868.1111306495764,3796.0731485238734,3723.808063327392,3648.815522289705,3579.3684669418817,3535.2850487316614,3478.881065461247,3422.0244571932208,3351.577653224664,3324.168028218166,3273.0470433382725,3216.1273835439374,3190.25408066588,3123.5249260710953,3058.6255916657183,3011.1310466563887,2941.5013381557374,2867.063222790966,2821.4913385660016,2767.188144104143],\"type\":\"scatter\",\"xaxis\":\"x3\",\"yaxis\":\"y3\"},{\"line\":{\"color\":\"rgb(44, 160, 101)\",\"width\":1},\"name\":\"draw\",\"x\":[0.9,0.905,0.91,0.915,0.92,0.925,0.93,0.935,0.9400000000000001,0.9450000000000001,0.95,0.9550000000000001,0.96,0.965,0.97,0.975,0.98,0.985,0.99,0.995,1.0,1.005,1.01,1.015,1.02,1.025,1.03,1.035,1.04,1.045,1.05,1.055,1.06,1.065,1.07,1.075,1.08,1.085,1.09,1.095,1.1,1.105,1.1099999999999999,1.115,1.12,1.125,1.13,1.135,1.14,1.145,1.15,1.155,1.16,1.165,1.17,1.175,1.18,1.185,1.19,1.1949999999999998,1.2,1.205,1.21,1.2149999999999999,1.22,1.225,1.23,1.2349999999999999,1.24,1.245,1.25,1.255,1.26,1.265,1.27,1.275,1.28,1.285,1.29,1.295,1.2999999999999998,1.305,1.31,1.315,1.3199999999999998,1.325,1.33,1.335,1.3399999999999999,1.345,1.35,1.355,1.3599999999999999,1.365,1.3699999999999999,1.375,1.38,1.385,1.39,1.395,1.4],\"y\":[2015.6607790009314,2015.6607790009314,2015.6607790009314,2015.4462964161921,2022.0590229202771,2099.26853417533,2201.9515305179266,2295.5883598182813,2535.933365898787,2837.7201971054938,3290.0756244837607,3639.178597017635,3939.012819824072,4212.8807904464575,4630.411802261736,4980.924373283455,5510.783140127072,5863.634862933342,6114.432518133633,6362.102465910106,6716.297879954349,6924.348246882137,7135.37147569932,7312.3977917361535,7483.300529775113,7719.560892654898,7840.518069420851,8012.327574303754,8077.224072679425,7990.358196138306,7823.126192787626,7690.007321224175,7405.259387075298,7253.852091524031,7008.969031369104,6783.022525161974,6687.41350756787,6573.530544545793,6313.181626108261,6253.195863450559,6219.605767244651,6021.76802950037,5885.873687921227,5685.505113045104,5470.579333989006,5312.381541328683,5083.535555946633,4853.968855772098,4624.147275779598,4495.806394266718,4281.181208411344,4113.916049979317,3957.4272553684673,3766.1982188203215,3694.9316543709892,3567.9514595386454,3354.502109743151,3247.378824600503,3127.0305298847816,3057.447170581943,2966.1172572511646,2912.4632048133285,2870.113576769671,2815.5948513701587,2776.173654902518,2697.3059545905644,2644.5461669820147,2615.553829690157,2572.6443390322306,2511.775661419417,2427.7296085875887,2385.3484205278082,2308.9178746095267,2243.832782399848,2185.0944463323112,2119.4335254132984,2066.52535287812,2016.4162730713617,1959.1508607649246,1900.7647836985334,1856.9601197060315,1810.2297654555928,1770.8699771870215,1731.7396157763321,1698.0356463168719,1665.1161635114943,1624.5861639992243,1585.9109892919519,1564.2135518426935,1524.846817745631,1498.4464926439987,1476.356869443246,1439.0877892255066,1425.826443597888,1400.5799637994448,1366.6805085112583,1345.9488805965452,1327.7631981570185,1307.6821403069328,1278.3926958491395,1265.4442887808914],\"type\":\"scatter\",\"xaxis\":\"x3\",\"yaxis\":\"y3\"},{\"line\":{\"color\":\"rgb(255, 65, 54)\",\"width\":1},\"name\":\"away\",\"x\":[0.9,0.905,0.91,0.915,0.92,0.925,0.93,0.935,0.9400000000000001,0.9450000000000001,0.95,0.9550000000000001,0.96,0.965,0.97,0.975,0.98,0.985,0.99,0.995,1.0,1.005,1.01,1.015,1.02,1.025,1.03,1.035,1.04,1.045,1.05,1.055,1.06,1.065,1.07,1.075,1.08,1.085,1.09,1.095,1.1,1.105,1.1099999999999999,1.115,1.12,1.125,1.13,1.135,1.14,1.145,1.15,1.155,1.16,1.165,1.17,1.175,1.18,1.185,1.19,1.1949999999999998,1.2,1.205,1.21,1.2149999999999999,1.22,1.225,1.23,1.2349999999999999,1.24,1.245,1.25,1.255,1.26,1.265,1.27,1.275,1.28,1.285,1.29,1.295,1.2999999999999998,1.305,1.31,1.315,1.3199999999999998,1.325,1.33,1.335,1.3399999999999999,1.345,1.35,1.355,1.3599999999999999,1.365,1.3699999999999999,1.375,1.38,1.385,1.39,1.395,1.4],\"y\":[-7532.869648608848,-7532.869648608848,-7532.869648608848,-7531.2542218178705,-7499.213924187055,-7399.672435089459,-7113.682235915348,-6712.4247491013675,-6089.657344450064,-5217.485652645275,-4180.399679798446,-3255.1045110092587,-2232.4566182238636,-1318.7451081519707,-328.7152014192171,513.5129317965175,1265.5395197950108,2023.6539833425345,2517.4740179049586,3018.126870554582,3318.7057280254085,3648.2593996423966,3846.3974282977947,4085.4085128296965,4238.063489088039,4625.609038896807,4799.5232108057435,5027.359688438431,5062.798112532582,5049.067824533677,5004.955175916906,5001.661729101108,5066.5762423887845,5061.651307164305,5037.9425836144665,4997.211935374427,4945.321315091451,4908.014596638566,4942.054605216822,4960.974331382219,4853.3798534003545,4659.57852572391,4533.792726515066,4363.120588254148,4293.8358901855045,4254.328767126567,4260.4355498250125,4189.009312137512,4110.102341174713,4106.073545381899,4074.9809392231723,4028.928594864191,3937.025835259428,3884.4089968024496,3819.058865302333,3724.7948063028844,3726.4030530864925,3653.477691202705,3617.608647918384,3564.6456336390734,3509.602589411346,3483.600448450398,3418.802257500223,3318.8811419562376,3247.5053692161146,3138.622360135815,3066.397670023219,2978.668105510964,2897.3761106869697,2828.08684317366,2773.8562796852552,2710.9695344235447,2619.634420530349,2560.6750982751555,2447.3025818647106,2379.331936654303,2331.903884866819,2273.0970303862405,2214.4610547722423,2160.5365750590504,2070.675638921176,2029.6255865882108,1996.4625496372605,1927.0201483607711,1880.090837222856,1838.3558464333985,1777.5156608503871,1739.5774746805182,1672.1598645456193,1605.9507191621917,1560.4965253314188,1491.2955221597226,1433.7060499205195,1350.1281444530655,1312.6193119184393,1279.206074870283,1236.086300704884,1212.6253929461611,1193.8593441415546,1184.6914845304145,1151.1934191727114],\"type\":\"scatter\",\"xaxis\":\"x3\",\"yaxis\":\"y3\"}],                        {\"template\":{\"data\":{\"histogram2dcontour\":[{\"type\":\"histogram2dcontour\",\"colorbar\":{\"outlinewidth\":0,\"ticks\":\"\"},\"colorscale\":[[0.0,\"#0d0887\"],[0.1111111111111111,\"#46039f\"],[0.2222222222222222,\"#7201a8\"],[0.3333333333333333,\"#9c179e\"],[0.4444444444444444,\"#bd3786\"],[0.5555555555555556,\"#d8576b\"],[0.6666666666666666,\"#ed7953\"],[0.7777777777777778,\"#fb9f3a\"],[0.8888888888888888,\"#fdca26\"],[1.0,\"#f0f921\"]]}],\"choropleth\":[{\"type\":\"choropleth\",\"colorbar\":{\"outlinewidth\":0,\"ticks\":\"\"}}],\"histogram2d\":[{\"type\":\"histogram2d\",\"colorbar\":{\"outlinewidth\":0,\"ticks\":\"\"},\"colorscale\":[[0.0,\"#0d0887\"],[0.1111111111111111,\"#46039f\"],[0.2222222222222222,\"#7201a8\"],[0.3333333333333333,\"#9c179e\"],[0.4444444444444444,\"#bd3786\"],[0.5555555555555556,\"#d8576b\"],[0.6666666666666666,\"#ed7953\"],[0.7777777777777778,\"#fb9f3a\"],[0.8888888888888888,\"#fdca26\"],[1.0,\"#f0f921\"]]}],\"heatmap\":[{\"type\":\"heatmap\",\"colorbar\":{\"outlinewidth\":0,\"ticks\":\"\"},\"colorscale\":[[0.0,\"#0d0887\"],[0.1111111111111111,\"#46039f\"],[0.2222222222222222,\"#7201a8\"],[0.3333333333333333,\"#9c179e\"],[0.4444444444444444,\"#bd3786\"],[0.5555555555555556,\"#d8576b\"],[0.6666666666666666,\"#ed7953\"],[0.7777777777777778,\"#fb9f3a\"],[0.8888888888888888,\"#fdca26\"],[1.0,\"#f0f921\"]]}],\"heatmapgl\":[{\"type\":\"heatmapgl\",\"colorbar\":{\"outlinewidth\":0,\"ticks\":\"\"},\"colorscale\":[[0.0,\"#0d0887\"],[0.1111111111111111,\"#46039f\"],[0.2222222222222222,\"#7201a8\"],[0.3333333333333333,\"#9c179e\"],[0.4444444444444444,\"#bd3786\"],[0.5555555555555556,\"#d8576b\"],[0.6666666666666666,\"#ed7953\"],[0.7777777777777778,\"#fb9f3a\"],[0.8888888888888888,\"#fdca26\"],[1.0,\"#f0f921\"]]}],\"contourcarpet\":[{\"type\":\"contourcarpet\",\"colorbar\":{\"outlinewidth\":0,\"ticks\":\"\"}}],\"contour\":[{\"type\":\"contour\",\"colorbar\":{\"outlinewidth\":0,\"ticks\":\"\"},\"colorscale\":[[0.0,\"#0d0887\"],[0.1111111111111111,\"#46039f\"],[0.2222222222222222,\"#7201a8\"],[0.3333333333333333,\"#9c179e\"],[0.4444444444444444,\"#bd3786\"],[0.5555555555555556,\"#d8576b\"],[0.6666666666666666,\"#ed7953\"],[0.7777777777777778,\"#fb9f3a\"],[0.8888888888888888,\"#fdca26\"],[1.0,\"#f0f921\"]]}],\"surface\":[{\"type\":\"surface\",\"colorbar\":{\"outlinewidth\":0,\"ticks\":\"\"},\"colorscale\":[[0.0,\"#0d0887\"],[0.1111111111111111,\"#46039f\"],[0.2222222222222222,\"#7201a8\"],[0.3333333333333333,\"#9c179e\"],[0.4444444444444444,\"#bd3786\"],[0.5555555555555556,\"#d8576b\"],[0.6666666666666666,\"#ed7953\"],[0.7777777777777778,\"#fb9f3a\"],[0.8888888888888888,\"#fdca26\"],[1.0,\"#f0f921\"]]}],\"mesh3d\":[{\"type\":\"mesh3d\",\"colorbar\":{\"outlinewidth\":0,\"ticks\":\"\"}}],\"scatter\":[{\"fillpattern\":{\"fillmode\":\"overlay\",\"size\":10,\"solidity\":0.2},\"type\":\"scatter\"}],\"parcoords\":[{\"type\":\"parcoords\",\"line\":{\"colorbar\":{\"outlinewidth\":0,\"ticks\":\"\"}}}],\"scatterpolargl\":[{\"type\":\"scatterpolargl\",\"marker\":{\"colorbar\":{\"outlinewidth\":0,\"ticks\":\"\"}}}],\"bar\":[{\"error_x\":{\"color\":\"#2a3f5f\"},\"error_y\":{\"color\":\"#2a3f5f\"},\"marker\":{\"line\":{\"color\":\"#E5ECF6\",\"width\":0.5},\"pattern\":{\"fillmode\":\"overlay\",\"size\":10,\"solidity\":0.2}},\"type\":\"bar\"}],\"scattergeo\":[{\"type\":\"scattergeo\",\"marker\":{\"colorbar\":{\"outlinewidth\":0,\"ticks\":\"\"}}}],\"scatterpolar\":[{\"type\":\"scatterpolar\",\"marker\":{\"colorbar\":{\"outlinewidth\":0,\"ticks\":\"\"}}}],\"histogram\":[{\"marker\":{\"pattern\":{\"fillmode\":\"overlay\",\"size\":10,\"solidity\":0.2}},\"type\":\"histogram\"}],\"scattergl\":[{\"type\":\"scattergl\",\"marker\":{\"colorbar\":{\"outlinewidth\":0,\"ticks\":\"\"}}}],\"scatter3d\":[{\"type\":\"scatter3d\",\"line\":{\"colorbar\":{\"outlinewidth\":0,\"ticks\":\"\"}},\"marker\":{\"colorbar\":{\"outlinewidth\":0,\"ticks\":\"\"}}}],\"scattermapbox\":[{\"type\":\"scattermapbox\",\"marker\":{\"colorbar\":{\"outlinewidth\":0,\"ticks\":\"\"}}}],\"scatterternary\":[{\"type\":\"scatterternary\",\"marker\":{\"colorbar\":{\"outlinewidth\":0,\"ticks\":\"\"}}}],\"scattercarpet\":[{\"type\":\"scattercarpet\",\"marker\":{\"colorbar\":{\"outlinewidth\":0,\"ticks\":\"\"}}}],\"carpet\":[{\"aaxis\":{\"endlinecolor\":\"#2a3f5f\",\"gridcolor\":\"white\",\"linecolor\":\"white\",\"minorgridcolor\":\"white\",\"startlinecolor\":\"#2a3f5f\"},\"baxis\":{\"endlinecolor\":\"#2a3f5f\",\"gridcolor\":\"white\",\"linecolor\":\"white\",\"minorgridcolor\":\"white\",\"startlinecolor\":\"#2a3f5f\"},\"type\":\"carpet\"}],\"table\":[{\"cells\":{\"fill\":{\"color\":\"#EBF0F8\"},\"line\":{\"color\":\"white\"}},\"header\":{\"fill\":{\"color\":\"#C8D4E3\"},\"line\":{\"color\":\"white\"}},\"type\":\"table\"}],\"barpolar\":[{\"marker\":{\"line\":{\"color\":\"#E5ECF6\",\"width\":0.5},\"pattern\":{\"fillmode\":\"overlay\",\"size\":10,\"solidity\":0.2}},\"type\":\"barpolar\"}],\"pie\":[{\"automargin\":true,\"type\":\"pie\"}]},\"layout\":{\"autotypenumbers\":\"strict\",\"colorway\":[\"#636efa\",\"#EF553B\",\"#00cc96\",\"#ab63fa\",\"#FFA15A\",\"#19d3f3\",\"#FF6692\",\"#B6E880\",\"#FF97FF\",\"#FECB52\"],\"font\":{\"color\":\"#2a3f5f\"},\"hovermode\":\"closest\",\"hoverlabel\":{\"align\":\"left\"},\"paper_bgcolor\":\"white\",\"plot_bgcolor\":\"#E5ECF6\",\"polar\":{\"bgcolor\":\"#E5ECF6\",\"angularaxis\":{\"gridcolor\":\"white\",\"linecolor\":\"white\",\"ticks\":\"\"},\"radialaxis\":{\"gridcolor\":\"white\",\"linecolor\":\"white\",\"ticks\":\"\"}},\"ternary\":{\"bgcolor\":\"#E5ECF6\",\"aaxis\":{\"gridcolor\":\"white\",\"linecolor\":\"white\",\"ticks\":\"\"},\"baxis\":{\"gridcolor\":\"white\",\"linecolor\":\"white\",\"ticks\":\"\"},\"caxis\":{\"gridcolor\":\"white\",\"linecolor\":\"white\",\"ticks\":\"\"}},\"coloraxis\":{\"colorbar\":{\"outlinewidth\":0,\"ticks\":\"\"}},\"colorscale\":{\"sequential\":[[0.0,\"#0d0887\"],[0.1111111111111111,\"#46039f\"],[0.2222222222222222,\"#7201a8\"],[0.3333333333333333,\"#9c179e\"],[0.4444444444444444,\"#bd3786\"],[0.5555555555555556,\"#d8576b\"],[0.6666666666666666,\"#ed7953\"],[0.7777777777777778,\"#fb9f3a\"],[0.8888888888888888,\"#fdca26\"],[1.0,\"#f0f921\"]],\"sequentialminus\":[[0.0,\"#0d0887\"],[0.1111111111111111,\"#46039f\"],[0.2222222222222222,\"#7201a8\"],[0.3333333333333333,\"#9c179e\"],[0.4444444444444444,\"#bd3786\"],[0.5555555555555556,\"#d8576b\"],[0.6666666666666666,\"#ed7953\"],[0.7777777777777778,\"#fb9f3a\"],[0.8888888888888888,\"#fdca26\"],[1.0,\"#f0f921\"]],\"diverging\":[[0,\"#8e0152\"],[0.1,\"#c51b7d\"],[0.2,\"#de77ae\"],[0.3,\"#f1b6da\"],[0.4,\"#fde0ef\"],[0.5,\"#f7f7f7\"],[0.6,\"#e6f5d0\"],[0.7,\"#b8e186\"],[0.8,\"#7fbc41\"],[0.9,\"#4d9221\"],[1,\"#276419\"]]},\"xaxis\":{\"gridcolor\":\"white\",\"linecolor\":\"white\",\"ticks\":\"\",\"title\":{\"standoff\":15},\"zerolinecolor\":\"white\",\"automargin\":true,\"zerolinewidth\":2},\"yaxis\":{\"gridcolor\":\"white\",\"linecolor\":\"white\",\"ticks\":\"\",\"title\":{\"standoff\":15},\"zerolinecolor\":\"white\",\"automargin\":true,\"zerolinewidth\":2},\"scene\":{\"xaxis\":{\"backgroundcolor\":\"#E5ECF6\",\"gridcolor\":\"white\",\"linecolor\":\"white\",\"showbackground\":true,\"ticks\":\"\",\"zerolinecolor\":\"white\",\"gridwidth\":2},\"yaxis\":{\"backgroundcolor\":\"#E5ECF6\",\"gridcolor\":\"white\",\"linecolor\":\"white\",\"showbackground\":true,\"ticks\":\"\",\"zerolinecolor\":\"white\",\"gridwidth\":2},\"zaxis\":{\"backgroundcolor\":\"#E5ECF6\",\"gridcolor\":\"white\",\"linecolor\":\"white\",\"showbackground\":true,\"ticks\":\"\",\"zerolinecolor\":\"white\",\"gridwidth\":2}},\"shapedefaults\":{\"line\":{\"color\":\"#2a3f5f\"}},\"annotationdefaults\":{\"arrowcolor\":\"#2a3f5f\",\"arrowhead\":0,\"arrowwidth\":1},\"geo\":{\"bgcolor\":\"white\",\"landcolor\":\"#E5ECF6\",\"subunitcolor\":\"white\",\"showland\":true,\"showlakes\":true,\"lakecolor\":\"white\"},\"title\":{\"x\":0.05},\"mapbox\":{\"style\":\"light\"}}},\"xaxis\":{\"anchor\":\"y\",\"domain\":[0.0,1.0],\"matches\":\"x3\",\"showticklabels\":false},\"yaxis\":{\"anchor\":\"x\",\"domain\":[0.68,1.0],\"rangemode\":\"nonnegative\"},\"xaxis2\":{\"anchor\":\"y2\",\"domain\":[0.0,1.0],\"matches\":\"x3\",\"showticklabels\":false},\"yaxis2\":{\"anchor\":\"x2\",\"domain\":[0.34,0.66],\"rangemode\":\"nonnegative\"},\"xaxis3\":{\"anchor\":\"y3\",\"domain\":[0.0,1.0]},\"yaxis3\":{\"anchor\":\"x3\",\"domain\":[0.0,0.32],\"rangemode\":\"nonnegative\"},\"annotations\":[{\"font\":{\"size\":16},\"showarrow\":false,\"text\":\"holdout\",\"x\":0.5,\"xanchor\":\"center\",\"xref\":\"paper\",\"y\":1.0,\"yanchor\":\"bottom\",\"yref\":\"paper\"},{\"font\":{\"size\":16},\"showarrow\":false,\"text\":\"test\",\"x\":0.5,\"xanchor\":\"center\",\"xref\":\"paper\",\"y\":0.66,\"yanchor\":\"bottom\",\"yref\":\"paper\"},{\"font\":{\"size\":16},\"showarrow\":false,\"text\":\"train\",\"x\":0.5,\"xanchor\":\"center\",\"xref\":\"paper\",\"y\":0.32,\"yanchor\":\"bottom\",\"yref\":\"paper\"}],\"title\":{\"text\":\"profit validation\"},\"height\":800,\"width\":900},                        {\"responsive\": true}                    ).then(function(){\n",
              "                            \n",
              "var gd = document.getElementById('016233ac-bff5-4ad4-a151-993e35fe86ec');\n",
              "var x = new MutationObserver(function (mutations, observer) {{\n",
              "        var display = window.getComputedStyle(gd).display;\n",
              "        if (!display || display === 'none') {{\n",
              "            console.log([gd, 'removed!']);\n",
              "            Plotly.purge(gd);\n",
              "            observer.disconnect();\n",
              "        }}\n",
              "}});\n",
              "\n",
              "// Listen for the removal of the full notebook cells\n",
              "var notebookContainer = gd.closest('#notebook-container');\n",
              "if (notebookContainer) {{\n",
              "    x.observe(notebookContainer, {childList: true});\n",
              "}}\n",
              "\n",
              "// Listen for the clearing of the current output cell\n",
              "var outputEl = gd.closest('.output');\n",
              "if (outputEl) {{\n",
              "    x.observe(outputEl, {childList: true});\n",
              "}}\n",
              "\n",
              "                        })                };                            </script>        </div>\n",
              "</body>\n",
              "</html>"
            ]
          },
          "metadata": {}
        }
      ]
    },
    {
      "cell_type": "code",
      "source": [
        "fig = profit_validation_by_type(active_rows_dict, preds_dict, line_dict, y_dict)\n",
        "fig.show()"
      ],
      "metadata": {
        "id": "jKsa3Ipi2ZHy",
        "colab": {
          "base_uri": "https://localhost:8080/",
          "height": 817
        },
        "outputId": "a4b34279-cb0a-4d48-931d-09df84ebb885"
      },
      "execution_count": 22,
      "outputs": [
        {
          "output_type": "display_data",
          "data": {
            "text/html": [
              "<html>\n",
              "<head><meta charset=\"utf-8\" /></head>\n",
              "<body>\n",
              "    <div>            <script src=\"https://cdnjs.cloudflare.com/ajax/libs/mathjax/2.7.5/MathJax.js?config=TeX-AMS-MML_SVG\"></script><script type=\"text/javascript\">if (window.MathJax && window.MathJax.Hub && window.MathJax.Hub.Config) {window.MathJax.Hub.Config({SVG: {font: \"STIX-Web\"}});}</script>                <script type=\"text/javascript\">window.PlotlyConfig = {MathJaxConfig: 'local'};</script>\n",
              "        <script src=\"https://cdn.plot.ly/plotly-2.18.2.min.js\"></script>                <div id=\"8f84e764-b083-407a-997a-6aa5c04d3957\" class=\"plotly-graph-div\" style=\"height:800px; width:900px;\"></div>            <script type=\"text/javascript\">                                    window.PLOTLYENV=window.PLOTLYENV || {};                                    if (document.getElementById(\"8f84e764-b083-407a-997a-6aa5c04d3957\")) {                    Plotly.newPlot(                        \"8f84e764-b083-407a-997a-6aa5c04d3957\",                        [{\"line\":{\"color\":\"rgb(93, 164, 214)\",\"width\":4},\"name\":\"all\",\"x\":[0.9,0.905,0.91,0.915,0.92,0.925,0.93,0.935,0.9400000000000001,0.9450000000000001,0.95,0.9550000000000001,0.96,0.965,0.97,0.975,0.98,0.985,0.99,0.995,1.0,1.005,1.01,1.015,1.02,1.025,1.03,1.035,1.04,1.045,1.05,1.055,1.06,1.065,1.07,1.075,1.08,1.085,1.09,1.095,1.1,1.105,1.1099999999999999,1.115,1.12,1.125,1.13,1.135,1.14,1.145,1.15,1.155,1.16,1.165,1.17,1.175,1.18,1.185,1.19,1.1949999999999998,1.2,1.205,1.21,1.2149999999999999,1.22,1.225,1.23,1.2349999999999999,1.24,1.245,1.25,1.255,1.26,1.265,1.27,1.275,1.28,1.285,1.29,1.295,1.2999999999999998,1.305,1.31,1.315,1.3199999999999998,1.325,1.33,1.335,1.3399999999999999,1.345,1.35,1.355,1.3599999999999999,1.365,1.3699999999999999,1.375,1.38,1.385,1.39,1.395,1.4],\"y\":[-14580.495222501217,-14580.495222501217,-14580.495222501217,-14577.512258897723,-14564.965438312589,-14490.186565580587,-14220.418408650563,-13809.832603376337,-13242.367027053577,-12513.370309094036,-11593.415444083683,-10575.594191195096,-9674.382729421262,-8684.62226303146,-7707.740897131348,-6818.609575553336,-5999.263140997489,-5240.142427428932,-4499.70880499418,-3887.1808861670543,-3330.7446365355486,-2827.0552063971745,-2255.53198935606,-1807.4130087677252,-1437.9569891294632,-1146.0275434070895,-840.7718503847962,-608.427646242366,-423.63782520203597,-154.41837860739355,31.838864011235273,268.3745491780395,380.3445189324869,552.4043632358574,658.8328444809973,731.8943097480719,773.6622208965921,809.6578150276453,935.461029106458,1157.9572698626969,1209.1950514499326,1249.5515843809778,1261.5990867783398,1312.1805647730814,1255.7542315457308,1318.9803079943256,1325.6700012168737,1333.4100687542891,1418.9783604320517,1423.871101546155,1423.6289347281893,1430.337412744651,1420.4122755355054,1433.6442914954082,1457.656626564454,1468.8685789743972,1491.7972314860835,1496.149940794882,1496.9105440314963,1498.8830339527694,1473.8194712778072,1437.997471139873,1434.4023589279986,1420.6252369677225,1373.885636286186,1314.1618345225597,1270.5934308820185,1206.1984592177469,1160.4432028975486,1144.7683109527081,1117.7765045851106,1090.841842562049,1034.033128436844,1008.9348842352617,975.7537189078938,903.8472689778102,878.4889135065999,858.4950707609993,849.8165819260364,800.4807741745033,789.3525382577075,782.7832874844291,746.7296569543006,695.4735768045499,679.9793194604556,651.8404098324347,641.5314371509396,631.2199418804773,609.9396241265523,599.7923520433965,589.1311533844334,582.9883205487236,553.1315781102306,552.6892084565428,533.0370326813887,522.9210948212327,520.532374809276,500.8563642766701,497.71864429060497,499.70906196954616,495.2095787905885],\"type\":\"scatter\",\"xaxis\":\"x\",\"yaxis\":\"y\"},{\"line\":{\"color\":\"rgb(255, 144, 14)\",\"width\":1},\"name\":\"home\",\"x\":[0.9,0.905,0.91,0.915,0.92,0.925,0.93,0.935,0.9400000000000001,0.9450000000000001,0.95,0.9550000000000001,0.96,0.965,0.97,0.975,0.98,0.985,0.99,0.995,1.0,1.005,1.01,1.015,1.02,1.025,1.03,1.035,1.04,1.045,1.05,1.055,1.06,1.065,1.07,1.075,1.08,1.085,1.09,1.095,1.1,1.105,1.1099999999999999,1.115,1.12,1.125,1.13,1.135,1.14,1.145,1.15,1.155,1.16,1.165,1.17,1.175,1.18,1.185,1.19,1.1949999999999998,1.2,1.205,1.21,1.2149999999999999,1.22,1.225,1.23,1.2349999999999999,1.24,1.245,1.25,1.255,1.26,1.265,1.27,1.275,1.28,1.285,1.29,1.295,1.2999999999999998,1.305,1.31,1.315,1.3199999999999998,1.325,1.33,1.335,1.3399999999999999,1.345,1.35,1.355,1.3599999999999999,1.365,1.3699999999999999,1.375,1.38,1.385,1.39,1.395,1.4],\"y\":[-7634.721208740897,-7634.721208740897,-7634.721208740897,-7633.335359662739,-7625.4370949607055,-7569.847024580201,-7370.856579685794,-7106.4327123920575,-6736.395361620419,-6255.118529561056,-5690.065972662165,-5080.28171802937,-4514.800667697054,-3910.365624717351,-3344.1635416459644,-2883.701558961332,-2413.50585266075,-2021.0367151579528,-1586.5394603322457,-1152.6154153698108,-832.4071660819639,-525.6932997319234,-326.2417502624993,-135.60466391333733,42.99654334634556,177.90190280292717,253.94961563290542,373.89219886869506,460.6127125615568,610.797227408573,732.4780707074221,812.2722076263708,886.2981726910282,908.0375718525659,951.8499411433943,998.923712956593,968.1679375171175,942.262476084005,1009.4951470422941,1089.488496375513,1075.1416602393178,1072.0120830654973,1097.512187452687,1113.8147181052582,1090.6962003655149,1089.166102372858,1089.6124810985089,1059.660587533556,1067.5233239249128,1060.5090085794138,1002.3836722539734,999.8696955889229,968.2448807554593,925.1654755979685,940.4661039731599,925.6515613242798,878.9258647889662,850.6859414415953,828.4089933646088,793.9108773036639,765.6810787145965,744.2015951954745,734.8641630437048,729.677317455092,689.5499020987174,649.9827492199506,616.0765443642366,565.9794468075531,542.3196967977722,523.2767872213843,503.33986938019234,500.1750084916247,463.0430303573516,448.39630229756415,434.83362725851134,399.23296206903444,382.9277998897044,366.25649042328365,366.33340679228394,354.32687720107333,350.13622485507756,356.6158288423532,344.9207348838564,324.1651399049003,308.01249583554664,283.9208884009852,284.8014732849756,276.69684630295285,271.48183881400274,275.7158406705031,275.01359440771535,264.2823411633716,250.0449641847048,238.1259555126157,233.13124914422747,229.55379485061138,231.82263895828288,217.5208353845203,214.07433353287436,218.64270175816367,214.53284750595603],\"type\":\"scatter\",\"xaxis\":\"x\",\"yaxis\":\"y\"},{\"line\":{\"color\":\"rgb(44, 160, 101)\",\"width\":1},\"name\":\"draw\",\"x\":[0.9,0.905,0.91,0.915,0.92,0.925,0.93,0.935,0.9400000000000001,0.9450000000000001,0.95,0.9550000000000001,0.96,0.965,0.97,0.975,0.98,0.985,0.99,0.995,1.0,1.005,1.01,1.015,1.02,1.025,1.03,1.035,1.04,1.045,1.05,1.055,1.06,1.065,1.07,1.075,1.08,1.085,1.09,1.095,1.1,1.105,1.1099999999999999,1.115,1.12,1.125,1.13,1.135,1.14,1.145,1.15,1.155,1.16,1.165,1.17,1.175,1.18,1.185,1.19,1.1949999999999998,1.2,1.205,1.21,1.2149999999999999,1.22,1.225,1.23,1.2349999999999999,1.24,1.245,1.25,1.255,1.26,1.265,1.27,1.275,1.28,1.285,1.29,1.295,1.2999999999999998,1.305,1.31,1.315,1.3199999999999998,1.325,1.33,1.335,1.3399999999999999,1.345,1.35,1.355,1.3599999999999999,1.365,1.3699999999999999,1.375,1.38,1.385,1.39,1.395,1.4],\"y\":[-1454.2138071992206,-1454.2138071992206,-1454.2138071992206,-1454.0054738658864,-1453.2496724662917,-1459.2461986971325,-1470.7860856834227,-1450.5595401296903,-1441.3533805490083,-1457.7050853333985,-1412.6745537389156,-1290.5898299804207,-1225.0428447498455,-1143.9330079189358,-1093.4950976004016,-978.2014738880298,-953.6328831757721,-783.6593234720797,-698.707096352613,-770.4828513379359,-754.5320759622199,-700.925084014294,-576.0491916664407,-516.2199671872175,-443.2776759260779,-414.6016306790633,-339.95335615798285,-357.7650869490786,-336.376912221946,-290.98714825916807,-289.8872696399117,-263.4677069026151,-313.0308932464542,-271.60548115722844,-257.00794508365937,-240.58331376033715,-197.40408665485805,-177.14094412555502,-148.56175254846698,-102.49881223461753,-68.25880290791109,-60.780103854676085,-112.80727039795934,-89.00788581185472,-83.33850494384448,-40.14106886740983,-30.696112535416646,4.060205090560359,56.946917745060546,77.47799438157378,98.41009391386568,104.31874244167032,123.96457998117197,148.46998484390116,150.8475498209658,157.94674099685506,189.6659159622291,186.84208069789162,190.0778062376993,199.4805220773228,208.1843114793168,191.7614925779026,189.63417438273092,176.59243910840325,178.14070750028796,176.32598622601364,160.49553939672035,143.56179336372952,127.09577573495196,120.68194427398299,113.88296487099586,109.00708191995983,98.60502189565653,84.96333576027737,74.76241897569622,70.79205818632498,73.21379000748648,73.09773365014163,65.56749729696115,54.96660415494157,53.65525345507298,55.77143895002164,48.34953208528169,38.92273142066557,39.54927606802549,36.39774827473635,26.32414728936468,21.354044226646167,22.178678384319866,24.3815454647592,24.734506951760615,26.875036200935305,26.034107352289492,21.688702768641242,13.11207039341447,7.813656360920245,3.4201100842161622,0.33639886211603454,-6.321316430042522,-7.6439761186342,-14.953600148668002],\"type\":\"scatter\",\"xaxis\":\"x\",\"yaxis\":\"y\"},{\"line\":{\"color\":\"rgb(255, 65, 54)\",\"width\":1},\"name\":\"away\",\"x\":[0.9,0.905,0.91,0.915,0.92,0.925,0.93,0.935,0.9400000000000001,0.9450000000000001,0.95,0.9550000000000001,0.96,0.965,0.97,0.975,0.98,0.985,0.99,0.995,1.0,1.005,1.01,1.015,1.02,1.025,1.03,1.035,1.04,1.045,1.05,1.055,1.06,1.065,1.07,1.075,1.08,1.085,1.09,1.095,1.1,1.105,1.1099999999999999,1.115,1.12,1.125,1.13,1.135,1.14,1.145,1.15,1.155,1.16,1.165,1.17,1.175,1.18,1.185,1.19,1.1949999999999998,1.2,1.205,1.21,1.2149999999999999,1.22,1.225,1.23,1.2349999999999999,1.24,1.245,1.25,1.255,1.26,1.265,1.27,1.275,1.28,1.285,1.29,1.295,1.2999999999999998,1.305,1.31,1.315,1.3199999999999998,1.325,1.33,1.335,1.3399999999999999,1.345,1.35,1.355,1.3599999999999999,1.365,1.3699999999999999,1.375,1.38,1.385,1.39,1.395,1.4],\"y\":[-5491.560206561098,-5491.560206561098,-5491.560206561098,-5490.171425369091,-5486.278670885598,-5461.093342303254,-5378.77574328135,-5252.840350854585,-5064.618284884145,-4800.5466941995855,-4490.674917682597,-4204.722643185298,-3934.5392169743673,-3630.323630395174,-3270.0822578849825,-2956.706542703977,-2632.1244051609656,-2435.446388798899,-2214.4622483093203,-1964.0826194593071,-1743.805394491366,-1600.436822650958,-1353.241047427121,-1155.5883776671694,-1037.6758565497312,-909.3278155309536,-754.7681098597177,-624.5547581619832,-547.8736255416471,-474.2284577567989,-410.75193705627515,-280.42995154571634,-192.92276051208717,-84.02772745947993,-36.00915157873732,-26.44608944818387,2.8983700343326717,44.536283069195164,74.52763461263065,170.96758572180156,202.3121941185259,238.31960517015696,276.89416972361244,287.3737324796779,248.39653612406053,269.95527448887754,266.7536326537817,269.68927613017314,294.5081187620786,285.88409858516746,322.8351685603504,326.1489747140579,328.2028147988741,360.0088310535389,366.3429727703285,385.2702766532626,423.20545073488813,458.6219186553952,478.42374442918833,505.49163457178236,499.9540810838939,502.03438336649583,509.9040215015632,514.3554804042273,506.1950266871804,487.85309907659524,494.0213471210616,496.65721904646387,491.0277303648244,500.809579457341,500.55367033392247,481.6597521504643,472.38507618383557,475.57524617742024,466.1576726736863,433.8222487224508,422.3473236094093,419.14084668757425,417.9156778367913,391.1872928184884,385.56105994755706,370.39601969205427,353.45938998516255,332.38570547898405,332.41754755688345,331.52177315671327,330.40581657659936,333.16905135087836,316.27910692822974,299.6949659081341,289.3830520249575,291.8309431844166,277.0525065732364,292.87455017528583,286.7937131437469,285.5536436097011,285.28962576677696,282.9991300300338,289.9656271877732,288.71033633001673,295.6303314333005],\"type\":\"scatter\",\"xaxis\":\"x\",\"yaxis\":\"y\"},{\"line\":{\"color\":\"rgb(93, 164, 214)\",\"width\":4},\"name\":\"all\",\"x\":[0.9,0.905,0.91,0.915,0.92,0.925,0.93,0.935,0.9400000000000001,0.9450000000000001,0.95,0.9550000000000001,0.96,0.965,0.97,0.975,0.98,0.985,0.99,0.995,1.0,1.005,1.01,1.015,1.02,1.025,1.03,1.035,1.04,1.045,1.05,1.055,1.06,1.065,1.07,1.075,1.08,1.085,1.09,1.095,1.1,1.105,1.1099999999999999,1.115,1.12,1.125,1.13,1.135,1.14,1.145,1.15,1.155,1.16,1.165,1.17,1.175,1.18,1.185,1.19,1.1949999999999998,1.2,1.205,1.21,1.2149999999999999,1.22,1.225,1.23,1.2349999999999999,1.24,1.245,1.25,1.255,1.26,1.265,1.27,1.275,1.28,1.285,1.29,1.295,1.2999999999999998,1.305,1.31,1.315,1.3199999999999998,1.325,1.33,1.335,1.3399999999999999,1.345,1.35,1.355,1.3599999999999999,1.365,1.3699999999999999,1.375,1.38,1.385,1.39,1.395,1.4],\"y\":[-2333.9210666806703,-2333.9210666806703,-2333.9210666806703,-2333.9210666806703,-2333.9210666806703,-2333.9210666806703,-2323.567143830286,-2294.8028943817358,-2237.588577486464,-2136.9420157071127,-2065.1942293730363,-1971.8851475057504,-1850.8544017530262,-1760.3858282777512,-1697.5024939467294,-1572.2950433320707,-1479.2661008652299,-1345.5074451206524,-1211.8449223200914,-1102.4856121515552,-956.183985260576,-823.0173051842388,-724.6409902621359,-606.6896144091492,-507.8976361960712,-417.3732078639087,-337.66928115297173,-224.0079810563538,-177.61668648024408,-161.70445605137596,-120.76271895010612,-84.56849451130033,-81.95645185992579,-83.02629567673155,-77.28831967363416,-52.841160630893796,-54.20475416643893,-46.64909743358004,-33.73861731549254,-24.56228631236762,2.6450930010208964,36.93273549843174,57.45084516103009,61.189394095937374,69.42984668280246,63.05376738975728,56.90389971904176,42.46893519320387,28.96706122732097,13.447139440106248,20.651882910925707,23.739133312095476,30.334676664663526,30.552024904283037,38.05687597533059,31.089405412910224,18.593812926086184,24.92360861230159,15.697544763779678,17.871708559860416,23.82536302811861,10.489646859872693,8.165104832382001,17.783638703903947,21.644325113575633,20.495744917645077,23.034581496594036,9.716400055519534,14.654591134108662,14.229877298803931,12.756333846158228,17.3064238387237,15.471235877346148,7.138074627033156,6.342562616693792,13.395524144132262,23.188187326791528,25.04646643898651,20.599268346442763,26.458606499350434,30.538848073908817,33.122274859860454,32.495039588753656,23.795737970757337,26.4366116111366,28.52563201354099,35.369237455629126,38.84298675390127,38.74313872765661,41.191569450881275,39.98803043724892,36.19367388306391,41.22968565895887,40.34533925211141,34.245923952733804,33.06394452576869,31.214625719811988,31.239896593708487,28.087402344451625,28.914178625655673,23.314664160703735],\"type\":\"scatter\",\"xaxis\":\"x2\",\"yaxis\":\"y2\"},{\"line\":{\"color\":\"rgb(255, 144, 14)\",\"width\":1},\"name\":\"home\",\"x\":[0.9,0.905,0.91,0.915,0.92,0.925,0.93,0.935,0.9400000000000001,0.9450000000000001,0.95,0.9550000000000001,0.96,0.965,0.97,0.975,0.98,0.985,0.99,0.995,1.0,1.005,1.01,1.015,1.02,1.025,1.03,1.035,1.04,1.045,1.05,1.055,1.06,1.065,1.07,1.075,1.08,1.085,1.09,1.095,1.1,1.105,1.1099999999999999,1.115,1.12,1.125,1.13,1.135,1.14,1.145,1.15,1.155,1.16,1.165,1.17,1.175,1.18,1.185,1.19,1.1949999999999998,1.2,1.205,1.21,1.2149999999999999,1.22,1.225,1.23,1.2349999999999999,1.24,1.245,1.25,1.255,1.26,1.265,1.27,1.275,1.28,1.285,1.29,1.295,1.2999999999999998,1.305,1.31,1.315,1.3199999999999998,1.325,1.33,1.335,1.3399999999999999,1.345,1.35,1.355,1.3599999999999999,1.365,1.3699999999999999,1.375,1.38,1.385,1.39,1.395,1.4],\"y\":[-1060.1002568858564,-1060.1002568858564,-1060.1002568858564,-1060.1002568858564,-1060.1002568858564,-1060.1002568858564,-1056.7141651721238,-1039.1716270976704,-1014.84702637179,-972.1915188853723,-937.4487178004503,-892.0550921503045,-821.2386304815378,-767.8929095393246,-713.7144948985568,-639.0667907425368,-598.6100912227549,-508.0661417755752,-443.8258007129842,-375.761763333592,-297.6429809457509,-233.3796183374514,-196.40533242822517,-137.4487256513384,-82.16160344085978,-58.525859543295624,-5.260761946715178,49.55380289436886,65.74759875724479,55.0542952074198,77.39164906785396,97.09988322474366,92.02954811217656,106.87505423338602,110.22257704560353,119.04641489433357,122.27543956245597,130.52372336908198,137.96453403450212,121.22662375763512,127.38356524672992,133.69008226595054,138.84522470271492,132.8165038291066,131.4851345535953,122.70789196463147,107.78842326446193,96.21111231295845,78.94406003182908,69.00146309763836,80.33443442084504,77.7550663346019,70.00288907103646,52.78223792331855,49.188623574284755,37.5373078011436,23.597379584369506,19.8089394524377,14.982430004172052,11.284844190440495,11.698639190486873,6.448115491976644,3.3152135732734784,4.990556830915175,2.4316049240752307,5.799781817583238,2.572446293703141,-0.11560968703311758,-0.736113428005293,-1.7405249790307096,0.5308181361611872,2.541682554162726,-1.0067046660375052,-1.0394031644430566,-2.5595497796879467,3.5485926677574646,8.028273481937386,12.478650041361318,12.859921842085999,14.71916449869531,17.471389076537378,16.781823127448824,17.976718209786995,12.72638662044033,14.351675286534185,13.894313903386774,15.795587201650303,15.40882371244555,18.72439612738244,20.249875770495436,20.946787828296674,16.552789440193777,18.51784636890234,21.565655382021713,18.528212699059353,20.1952251438313,17.110417101060325,16.647604414101757,14.354764160310406,14.60661972177282,11.75624118818855],\"type\":\"scatter\",\"xaxis\":\"x2\",\"yaxis\":\"y2\"},{\"line\":{\"color\":\"rgb(44, 160, 101)\",\"width\":1},\"name\":\"draw\",\"x\":[0.9,0.905,0.91,0.915,0.92,0.925,0.93,0.935,0.9400000000000001,0.9450000000000001,0.95,0.9550000000000001,0.96,0.965,0.97,0.975,0.98,0.985,0.99,0.995,1.0,1.005,1.01,1.015,1.02,1.025,1.03,1.035,1.04,1.045,1.05,1.055,1.06,1.065,1.07,1.075,1.08,1.085,1.09,1.095,1.1,1.105,1.1099999999999999,1.115,1.12,1.125,1.13,1.135,1.14,1.145,1.15,1.155,1.16,1.165,1.17,1.175,1.18,1.185,1.19,1.1949999999999998,1.2,1.205,1.21,1.2149999999999999,1.22,1.225,1.23,1.2349999999999999,1.24,1.245,1.25,1.255,1.26,1.265,1.27,1.275,1.28,1.285,1.29,1.295,1.2999999999999998,1.305,1.31,1.315,1.3199999999999998,1.325,1.33,1.335,1.3399999999999999,1.345,1.35,1.355,1.3599999999999999,1.365,1.3699999999999999,1.375,1.38,1.385,1.39,1.395,1.4],\"y\":[-334.0871243183878,-334.0871243183878,-334.0871243183878,-334.0871243183878,-334.0871243183878,-334.0871243183878,-330.0507669017784,-332.9949191715519,-333.63173281045226,-321.5047641473209,-315.4119309584264,-315.72042570398065,-307.0860621514632,-296.4940604978227,-295.7574881065052,-272.73980597671647,-241.88355010761222,-235.62477971153578,-215.3697922018853,-213.27324137739242,-197.4869449111228,-169.766622696563,-140.9954145972036,-132.915071222209,-112.29444751338146,-66.73398213971515,-42.224197804742545,-21.29444011534521,3.243980948130414,18.109743390833962,24.14032236282519,21.07686729839686,20.732635086738718,10.627054080388618,-0.060580830564589405,-3.5249382901957205,-9.297578258577303,-13.443822751069021,-16.79263724380648,-2.7311849060838114,7.478728234181986,26.436135657258923,35.608114200326824,39.645909939807,49.82336658605467,53.0001037282521,61.07286331116367,64.3781857058802,60.717061052382945,55.0677192248028,48.19841610469798,41.757588188653585,40.79691093120931,46.33836490049826,40.288142202861124,36.57784306195495,29.32988434584538,28.608631728668183,25.779021888542182,26.11361404971585,26.818202126343024,15.786109855153482,13.59096209773309,14.14044528778005,12.049860856632261,8.849622974374936,5.577933228555973,2.3926101574180656,4.404681607264473,-0.9566002390560451,-3.305344498283377,-3.5951038746171293,-3.485165003298359,-6.185003091903099,-8.256461513654946,-10.40628978691891,-8.486299985295679,-13.37444621716774,-13.228732004385765,-14.630580561899894,-14.90714273685685,-13.016215039348843,-13.118305503799832,-12.312619290140368,-11.5763115352525,-10.004137383110121,-7.5944759364619685,-8.329813784567412,-8.509833567252285,-8.576698489265569,-7.535861198691938,-6.795410191489928,-5.016588565355345,-4.675221916333079,-4.488088202383057,-2.8426538258645397,-3.600761363997842,-1.7105596173215591,-0.5597613535083887,1.2895013402186777,2.9240093320325347],\"type\":\"scatter\",\"xaxis\":\"x2\",\"yaxis\":\"y2\"},{\"line\":{\"color\":\"rgb(255, 65, 54)\",\"width\":1},\"name\":\"away\",\"x\":[0.9,0.905,0.91,0.915,0.92,0.925,0.93,0.935,0.9400000000000001,0.9450000000000001,0.95,0.9550000000000001,0.96,0.965,0.97,0.975,0.98,0.985,0.99,0.995,1.0,1.005,1.01,1.015,1.02,1.025,1.03,1.035,1.04,1.045,1.05,1.055,1.06,1.065,1.07,1.075,1.08,1.085,1.09,1.095,1.1,1.105,1.1099999999999999,1.115,1.12,1.125,1.13,1.135,1.14,1.145,1.15,1.155,1.16,1.165,1.17,1.175,1.18,1.185,1.19,1.1949999999999998,1.2,1.205,1.21,1.2149999999999999,1.22,1.225,1.23,1.2349999999999999,1.24,1.245,1.25,1.255,1.26,1.265,1.27,1.275,1.28,1.285,1.29,1.295,1.2999999999999998,1.305,1.31,1.315,1.3199999999999998,1.325,1.33,1.335,1.3399999999999999,1.345,1.35,1.355,1.3599999999999999,1.365,1.3699999999999999,1.375,1.38,1.385,1.39,1.395,1.4],\"y\":[-939.7336854764255,-939.7336854764255,-939.7336854764255,-939.7336854764255,-939.7336854764255,-939.7336854764255,-936.8022117563839,-922.6363481125139,-889.1098183042214,-843.2457326744196,-812.3335806141597,-764.1096296514652,-722.5297091200255,-695.998858240604,-688.0305109416672,-660.4884466128177,-638.7724595348625,-601.8165236335416,-552.6493294052221,-513.4506074405708,-461.0540594037024,-419.87106415022436,-387.240243236707,-336.3258175356016,-313.4415852418299,-292.1133661808979,-290.18432140151407,-252.2673438353773,-246.60826618561924,-234.86849464962972,-222.29469038078537,-202.74524503444087,-194.71863505884124,-200.52840399050612,-187.45031588867315,-168.36263723503157,-167.18261547031764,-163.72899805159307,-154.9105141061882,-143.05772516391892,-132.21720047989098,-123.19348242477776,-117.00249374201168,-111.27301967297626,-111.87865445684747,-112.65422830312627,-111.9573868565838,-118.12036282563479,-110.69405985689106,-110.62204288233488,-107.8809676146173,-95.77352121116004,-80.46512333758223,-68.56857791953381,-51.41988980181528,-43.025745450188296,-34.33345100412874,-23.49396256880427,-25.063907128934535,-19.526749680295932,-14.691478288711322,-11.744578487257392,-8.741070838624548,-1.3473634147912623,7.1628593328681465,5.846340125686897,14.884201974334909,7.439399585134595,10.986022954849465,16.927002516890663,15.530860208280394,18.359845159178114,19.963105546682023,14.362480883379291,17.15857391003668,20.253221263293703,23.646213830149833,25.94226261479291,20.96807850874252,26.37002256255502,27.974601734228287,29.356666771760462,27.636626882766492,23.381970640457368,23.66124785985491,24.63545549326434,27.168126190440802,31.763976826023125,28.528576167526456,29.51839216965142,26.577103807644193,26.436294634360035,27.72842785541187,23.454905786422763,20.20579945605749,15.711373207801902,17.704969982749517,16.302851796928277,14.292399537649604,13.018057563664165,8.634413640482643],\"type\":\"scatter\",\"xaxis\":\"x2\",\"yaxis\":\"y2\"},{\"line\":{\"color\":\"rgb(93, 164, 214)\",\"width\":4},\"name\":\"all\",\"x\":[0.9,0.905,0.91,0.915,0.92,0.925,0.93,0.935,0.9400000000000001,0.9450000000000001,0.95,0.9550000000000001,0.96,0.965,0.97,0.975,0.98,0.985,0.99,0.995,1.0,1.005,1.01,1.015,1.02,1.025,1.03,1.035,1.04,1.045,1.05,1.055,1.06,1.065,1.07,1.075,1.08,1.085,1.09,1.095,1.1,1.105,1.1099999999999999,1.115,1.12,1.125,1.13,1.135,1.14,1.145,1.15,1.155,1.16,1.165,1.17,1.175,1.18,1.185,1.19,1.1949999999999998,1.2,1.205,1.21,1.2149999999999999,1.22,1.225,1.23,1.2349999999999999,1.24,1.245,1.25,1.255,1.26,1.265,1.27,1.275,1.28,1.285,1.29,1.295,1.2999999999999998,1.305,1.31,1.315,1.3199999999999998,1.325,1.33,1.335,1.3399999999999999,1.345,1.35,1.355,1.3599999999999999,1.365,1.3699999999999999,1.375,1.38,1.385,1.39,1.395,1.4],\"y\":[-4852.899937165964,-4852.899937165964,-4852.899937165964,-4852.481127055025,-4691.67466213338,-4282.607990631269,-3401.04039273466,-1822.2761751647488,125.40185900892118,2490.2091791476714,5075.8817945235405,8246.771045888918,11326.858445540223,14306.326456087878,17202.501446064594,19594.899008511435,21699.160442211847,23220.452837360994,24712.897010669825,26244.40065549489,27191.343810516948,27921.897268948236,28301.54135020822,28567.20140875597,28855.57305744437,28911.426563393416,28672.57852805122,28589.084276368932,28317.956839029466,27820.246970638884,27294.915509980347,26936.46019831042,26357.550240589175,25734.423900980102,25093.938639026448,24568.493128589515,24145.771525470464,23662.592594109763,23169.81647710665,22664.275651933352,22144.112261187995,21591.31448779,20939.804031140015,20245.779499335567,19686.27353153128,19315.649309122768,18707.84417950069,18098.420841152965,17643.434963017742,17258.905537444407,16721.40171604801,16231.200611686196,15835.127052068927,15428.270653721334,14992.791315631102,14642.611767247958,14289.211845093367,13875.850221513807,13501.100772863954,13125.29856999792,12818.147375432784,12485.415181206787,12173.852251490238,11905.241195989747,11495.12017555452,11234.461367381049,10960.251447947026,10688.860510480969,10426.784020954336,10233.364761737217,9954.349447734216,9812.881065708772,9593.555590349126,9391.190904010798,9192.660709971573,9049.47861792575,8870.66741526108,8631.824806113915,8420.924788878681,8206.489771690945,8042.615397748077,7915.745010087508,7733.793876530279,7575.716592191785,7380.578098309319,7251.582093468093,7071.93132030166,6889.860531039154,6785.858340495284,6651.727670736348,6499.145117474735,6335.033608989248,6196.5077026759645,6056.272610196346,5909.81079844374,5784.979086703119,5652.706816660963,5566.753754950567,5454.64511605846,5366.109643518562,5259.5358865179405],\"type\":\"scatter\",\"xaxis\":\"x3\",\"yaxis\":\"y3\"},{\"line\":{\"color\":\"rgb(255, 144, 14)\",\"width\":1},\"name\":\"home\",\"x\":[0.9,0.905,0.91,0.915,0.92,0.925,0.93,0.935,0.9400000000000001,0.9450000000000001,0.95,0.9550000000000001,0.96,0.965,0.97,0.975,0.98,0.985,0.99,0.995,1.0,1.005,1.01,1.015,1.02,1.025,1.03,1.035,1.04,1.045,1.05,1.055,1.06,1.065,1.07,1.075,1.08,1.085,1.09,1.095,1.1,1.105,1.1099999999999999,1.115,1.12,1.125,1.13,1.135,1.14,1.145,1.15,1.155,1.16,1.165,1.17,1.175,1.18,1.185,1.19,1.1949999999999998,1.2,1.205,1.21,1.2149999999999999,1.22,1.225,1.23,1.2349999999999999,1.24,1.245,1.25,1.255,1.26,1.265,1.27,1.275,1.28,1.285,1.29,1.295,1.2999999999999998,1.305,1.31,1.315,1.3199999999999998,1.325,1.33,1.335,1.3399999999999999,1.345,1.35,1.355,1.3599999999999999,1.365,1.3699999999999999,1.375,1.38,1.385,1.39,1.395,1.4],\"y\":[-5065.1822659359605,-5065.1822659359605,-5065.1822659359605,-5066.66650299393,-4990.257060205585,-4721.1650343744,-4245.684552396206,-3308.883865682459,-2145.4301767349925,-778.1845682500744,746.9763531635812,2558.9957926568964,4309.612993103251,6007.3393207493755,7601.977306543938,8996.52800279654,9913.290780025396,10725.729258650184,11477.573083893223,12274.097571815077,12754.035195653332,13031.14789849827,13132.964500086444,13168.95764262642,13193.981157484335,13063.641655840473,12794.749725617323,12798.835192722972,12716.726658779062,12441.388022524325,12155.146811458219,12014.752774883493,11813.62049634946,11497.901259085611,11264.646588083406,11082.269528774095,10908.513360161245,10683.411329298428,10502.579363664014,10270.009716795374,9970.90316099528,9778.133657533039,9488.636482593565,9129.44615671665,8903.717348251786,8679.710888058951,8401.926477415314,8139.8147171750015,7876.365850846066,7698.779135689763,7477.8191180133435,7282.827909754933,7133.122506247043,6945.50124329832,6748.3310037163665,6595.8190864421185,6464.449032273436,6290.7427136712695,6144.880426979152,5968.608703869938,5858.331333717626,5697.934196989664,5545.007792408495,5439.871944996477,5273.370006672229,5147.955461859403,5004.8442007847025,4906.571430436617,4792.565326266694,4684.898881058934,4582.073189660553,4491.225938612193,4393.298752072739,4309.844647116935,4222.629851950681,4179.485300703092,4117.2847630264505,4020.1037894871915,3916.8401812657307,3823.885055539663,3739.0007792379934,3672.1364321235933,3600.0851707755905,3526.833073486906,3412.730606917213,3396.4198472752896,3332.003807640333,3250.464907989886,3215.560587002281,3144.7541876936934,3087.7417982212537,3020.792751597623,2971.6183668559283,2925.8478375161903,2853.079081177287,2818.3196342653305,2766.1087893255963,2719.287268674325,2658.578215198787,2617.042282081695,2575.0033013972898],\"type\":\"scatter\",\"xaxis\":\"x3\",\"yaxis\":\"y3\"},{\"line\":{\"color\":\"rgb(44, 160, 101)\",\"width\":1},\"name\":\"draw\",\"x\":[0.9,0.905,0.91,0.915,0.92,0.925,0.93,0.935,0.9400000000000001,0.9450000000000001,0.95,0.9550000000000001,0.96,0.965,0.97,0.975,0.98,0.985,0.99,0.995,1.0,1.005,1.01,1.015,1.02,1.025,1.03,1.035,1.04,1.045,1.05,1.055,1.06,1.065,1.07,1.075,1.08,1.085,1.09,1.095,1.1,1.105,1.1099999999999999,1.115,1.12,1.125,1.13,1.135,1.14,1.145,1.15,1.155,1.16,1.165,1.17,1.175,1.18,1.185,1.19,1.1949999999999998,1.2,1.205,1.21,1.2149999999999999,1.22,1.225,1.23,1.2349999999999999,1.24,1.245,1.25,1.255,1.26,1.265,1.27,1.275,1.28,1.285,1.29,1.295,1.2999999999999998,1.305,1.31,1.315,1.3199999999999998,1.325,1.33,1.335,1.3399999999999999,1.345,1.35,1.355,1.3599999999999999,1.365,1.3699999999999999,1.375,1.38,1.385,1.39,1.395,1.4],\"y\":[5608.6615776800545,5608.6615776800545,5608.6615776800545,5610.415455113601,5633.248647631539,5664.497120569781,5761.420053990205,5980.7375439000125,6059.188343237728,6207.922921558202,6316.491364812855,6625.831225782442,6855.829084549441,7138.984557637149,7372.353590599255,7581.7947913977205,7972.079991515322,8034.794728602261,8114.9686767982885,8327.498038166575,8416.813926306952,8521.84045683555,8653.54922981278,8731.273845219292,8769.007563570294,8842.80026512062,8781.037847027388,8792.40044961463,8667.066155456025,8551.255791815625,8408.93695951275,8249.2540805246,7965.6189059053895,7787.057867229236,7525.748277240751,7409.686529407776,7253.38955001719,7076.198401657774,6883.153003944457,6723.232404947238,6573.412628441458,6333.493385994918,6056.709019925078,5817.771538330586,5563.479582741793,5493.611959887262,5354.85224173868,5177.969858551281,5089.440207884576,5031.8868318206905,4842.904910273401,4646.226363109744,4461.6236201409165,4288.072742264806,4151.47462712131,4014.1043234090434,3835.557319406227,3663.0221324158397,3511.5669570376417,3370.15905271001,3289.7556652509265,3189.9684691844686,3077.4802384311743,2970.095808533147,2838.921061056751,2755.7341130780255,2675.2165364677894,2586.7863179785663,2512.146390621646,2448.5292454591063,2351.57422356931,2311.3634361551735,2248.7511000016148,2193.068493639592,2141.0696942951004,2098.2160777279087,2052.068718079256,2000.248309781385,1964.639411998061,1926.9283908193543,1905.5877671205672,1902.1192054075332,1871.5306278716123,1853.6211977987618,1833.7192644532392,1813.0967457329361,1804.3786094688494,1766.3706359566936,1748.781782595211,1736.189099626827,1716.9951063034182,1699.0078423335494,1681.9591760440817,1659.5865288227014,1632.2022826933942,1611.2052062400082,1588.4855003017503,1580.935101247509,1557.6291744179173,1544.917273998573,1526.4983270096213],\"type\":\"scatter\",\"xaxis\":\"x3\",\"yaxis\":\"y3\"},{\"line\":{\"color\":\"rgb(255, 65, 54)\",\"width\":1},\"name\":\"away\",\"x\":[0.9,0.905,0.91,0.915,0.92,0.925,0.93,0.935,0.9400000000000001,0.9450000000000001,0.95,0.9550000000000001,0.96,0.965,0.97,0.975,0.98,0.985,0.99,0.995,1.0,1.005,1.01,1.015,1.02,1.025,1.03,1.035,1.04,1.045,1.05,1.055,1.06,1.065,1.07,1.075,1.08,1.085,1.09,1.095,1.1,1.105,1.1099999999999999,1.115,1.12,1.125,1.13,1.135,1.14,1.145,1.15,1.155,1.16,1.165,1.17,1.175,1.18,1.185,1.19,1.1949999999999998,1.2,1.205,1.21,1.2149999999999999,1.22,1.225,1.23,1.2349999999999999,1.24,1.245,1.25,1.255,1.26,1.265,1.27,1.275,1.28,1.285,1.29,1.295,1.2999999999999998,1.305,1.31,1.315,1.3199999999999998,1.325,1.33,1.335,1.3399999999999999,1.345,1.35,1.355,1.3599999999999999,1.365,1.3699999999999999,1.375,1.38,1.385,1.39,1.395,1.4],\"y\":[-5396.37924891006,-5396.37924891006,-5396.37924891006,-5396.230079174702,-5334.6662495593355,-5225.940076826651,-4916.775894328659,-4494.129853382305,-3788.356307493822,-2939.5291741604537,-1987.5859234528984,-938.0559725504271,161.41636788752714,1160.0025777013664,2228.1705489214096,3016.5762143171564,3813.7896706711385,4459.9288501085375,5120.355249978323,5642.805045513233,6020.494688556651,6368.908913614426,6515.027620308999,6666.969920910272,6892.584336389727,7004.984642432324,7096.7909554064845,6997.848634031322,6934.164024794375,6827.603156298915,6730.831739009368,6672.453342902334,6578.310838334335,6449.464774665261,6303.543773702309,6076.537070407635,5983.868615292027,5902.982863153568,5784.084109498176,5671.033530190738,5599.796471751263,5479.687444262052,5394.4585286213805,5298.561804288334,5219.076600537713,5142.326461176566,4951.065460346693,4780.636265426683,4677.628904287094,4528.239569933954,4400.677687761259,4302.146338821519,4240.380925680966,4194.6966681582035,4092.9856847934243,4032.6883573967993,3989.2054934137054,3922.085375426702,3844.653388847157,3786.5308134179677,3670.060376464232,3597.512515032653,3551.364220650569,3495.273442460125,3382.8291078255415,3330.771792443622,3280.1907106945355,3195.5027620657834,3122.0723040659946,3099.9366352191773,3020.7020345043516,3010.2916909414057,2951.5057382747727,2888.2777632542716,2828.961163725792,2771.7772394947488,2701.3139341553715,2611.4727068453394,2539.4451956148887,2455.676325331928,2398.0268513895176,2341.48937255638,2262.178077883076,2195.2623209061194,2134.1282269388657,2042.0655004598675,1935.548903192478,1873.024987092575,1821.5159708977926,1770.784383415829,1694.4082129500653,1615.233015058076,1542.9301597759547,1470.8382438574554,1424.5294345730592,1355.4542461977812,1298.112527033617,1266.5313850287325,1238.4377264417558,1204.1500874382937,1158.0342581110303],\"type\":\"scatter\",\"xaxis\":\"x3\",\"yaxis\":\"y3\"}],                        {\"template\":{\"data\":{\"histogram2dcontour\":[{\"type\":\"histogram2dcontour\",\"colorbar\":{\"outlinewidth\":0,\"ticks\":\"\"},\"colorscale\":[[0.0,\"#0d0887\"],[0.1111111111111111,\"#46039f\"],[0.2222222222222222,\"#7201a8\"],[0.3333333333333333,\"#9c179e\"],[0.4444444444444444,\"#bd3786\"],[0.5555555555555556,\"#d8576b\"],[0.6666666666666666,\"#ed7953\"],[0.7777777777777778,\"#fb9f3a\"],[0.8888888888888888,\"#fdca26\"],[1.0,\"#f0f921\"]]}],\"choropleth\":[{\"type\":\"choropleth\",\"colorbar\":{\"outlinewidth\":0,\"ticks\":\"\"}}],\"histogram2d\":[{\"type\":\"histogram2d\",\"colorbar\":{\"outlinewidth\":0,\"ticks\":\"\"},\"colorscale\":[[0.0,\"#0d0887\"],[0.1111111111111111,\"#46039f\"],[0.2222222222222222,\"#7201a8\"],[0.3333333333333333,\"#9c179e\"],[0.4444444444444444,\"#bd3786\"],[0.5555555555555556,\"#d8576b\"],[0.6666666666666666,\"#ed7953\"],[0.7777777777777778,\"#fb9f3a\"],[0.8888888888888888,\"#fdca26\"],[1.0,\"#f0f921\"]]}],\"heatmap\":[{\"type\":\"heatmap\",\"colorbar\":{\"outlinewidth\":0,\"ticks\":\"\"},\"colorscale\":[[0.0,\"#0d0887\"],[0.1111111111111111,\"#46039f\"],[0.2222222222222222,\"#7201a8\"],[0.3333333333333333,\"#9c179e\"],[0.4444444444444444,\"#bd3786\"],[0.5555555555555556,\"#d8576b\"],[0.6666666666666666,\"#ed7953\"],[0.7777777777777778,\"#fb9f3a\"],[0.8888888888888888,\"#fdca26\"],[1.0,\"#f0f921\"]]}],\"heatmapgl\":[{\"type\":\"heatmapgl\",\"colorbar\":{\"outlinewidth\":0,\"ticks\":\"\"},\"colorscale\":[[0.0,\"#0d0887\"],[0.1111111111111111,\"#46039f\"],[0.2222222222222222,\"#7201a8\"],[0.3333333333333333,\"#9c179e\"],[0.4444444444444444,\"#bd3786\"],[0.5555555555555556,\"#d8576b\"],[0.6666666666666666,\"#ed7953\"],[0.7777777777777778,\"#fb9f3a\"],[0.8888888888888888,\"#fdca26\"],[1.0,\"#f0f921\"]]}],\"contourcarpet\":[{\"type\":\"contourcarpet\",\"colorbar\":{\"outlinewidth\":0,\"ticks\":\"\"}}],\"contour\":[{\"type\":\"contour\",\"colorbar\":{\"outlinewidth\":0,\"ticks\":\"\"},\"colorscale\":[[0.0,\"#0d0887\"],[0.1111111111111111,\"#46039f\"],[0.2222222222222222,\"#7201a8\"],[0.3333333333333333,\"#9c179e\"],[0.4444444444444444,\"#bd3786\"],[0.5555555555555556,\"#d8576b\"],[0.6666666666666666,\"#ed7953\"],[0.7777777777777778,\"#fb9f3a\"],[0.8888888888888888,\"#fdca26\"],[1.0,\"#f0f921\"]]}],\"surface\":[{\"type\":\"surface\",\"colorbar\":{\"outlinewidth\":0,\"ticks\":\"\"},\"colorscale\":[[0.0,\"#0d0887\"],[0.1111111111111111,\"#46039f\"],[0.2222222222222222,\"#7201a8\"],[0.3333333333333333,\"#9c179e\"],[0.4444444444444444,\"#bd3786\"],[0.5555555555555556,\"#d8576b\"],[0.6666666666666666,\"#ed7953\"],[0.7777777777777778,\"#fb9f3a\"],[0.8888888888888888,\"#fdca26\"],[1.0,\"#f0f921\"]]}],\"mesh3d\":[{\"type\":\"mesh3d\",\"colorbar\":{\"outlinewidth\":0,\"ticks\":\"\"}}],\"scatter\":[{\"fillpattern\":{\"fillmode\":\"overlay\",\"size\":10,\"solidity\":0.2},\"type\":\"scatter\"}],\"parcoords\":[{\"type\":\"parcoords\",\"line\":{\"colorbar\":{\"outlinewidth\":0,\"ticks\":\"\"}}}],\"scatterpolargl\":[{\"type\":\"scatterpolargl\",\"marker\":{\"colorbar\":{\"outlinewidth\":0,\"ticks\":\"\"}}}],\"bar\":[{\"error_x\":{\"color\":\"#2a3f5f\"},\"error_y\":{\"color\":\"#2a3f5f\"},\"marker\":{\"line\":{\"color\":\"#E5ECF6\",\"width\":0.5},\"pattern\":{\"fillmode\":\"overlay\",\"size\":10,\"solidity\":0.2}},\"type\":\"bar\"}],\"scattergeo\":[{\"type\":\"scattergeo\",\"marker\":{\"colorbar\":{\"outlinewidth\":0,\"ticks\":\"\"}}}],\"scatterpolar\":[{\"type\":\"scatterpolar\",\"marker\":{\"colorbar\":{\"outlinewidth\":0,\"ticks\":\"\"}}}],\"histogram\":[{\"marker\":{\"pattern\":{\"fillmode\":\"overlay\",\"size\":10,\"solidity\":0.2}},\"type\":\"histogram\"}],\"scattergl\":[{\"type\":\"scattergl\",\"marker\":{\"colorbar\":{\"outlinewidth\":0,\"ticks\":\"\"}}}],\"scatter3d\":[{\"type\":\"scatter3d\",\"line\":{\"colorbar\":{\"outlinewidth\":0,\"ticks\":\"\"}},\"marker\":{\"colorbar\":{\"outlinewidth\":0,\"ticks\":\"\"}}}],\"scattermapbox\":[{\"type\":\"scattermapbox\",\"marker\":{\"colorbar\":{\"outlinewidth\":0,\"ticks\":\"\"}}}],\"scatterternary\":[{\"type\":\"scatterternary\",\"marker\":{\"colorbar\":{\"outlinewidth\":0,\"ticks\":\"\"}}}],\"scattercarpet\":[{\"type\":\"scattercarpet\",\"marker\":{\"colorbar\":{\"outlinewidth\":0,\"ticks\":\"\"}}}],\"carpet\":[{\"aaxis\":{\"endlinecolor\":\"#2a3f5f\",\"gridcolor\":\"white\",\"linecolor\":\"white\",\"minorgridcolor\":\"white\",\"startlinecolor\":\"#2a3f5f\"},\"baxis\":{\"endlinecolor\":\"#2a3f5f\",\"gridcolor\":\"white\",\"linecolor\":\"white\",\"minorgridcolor\":\"white\",\"startlinecolor\":\"#2a3f5f\"},\"type\":\"carpet\"}],\"table\":[{\"cells\":{\"fill\":{\"color\":\"#EBF0F8\"},\"line\":{\"color\":\"white\"}},\"header\":{\"fill\":{\"color\":\"#C8D4E3\"},\"line\":{\"color\":\"white\"}},\"type\":\"table\"}],\"barpolar\":[{\"marker\":{\"line\":{\"color\":\"#E5ECF6\",\"width\":0.5},\"pattern\":{\"fillmode\":\"overlay\",\"size\":10,\"solidity\":0.2}},\"type\":\"barpolar\"}],\"pie\":[{\"automargin\":true,\"type\":\"pie\"}]},\"layout\":{\"autotypenumbers\":\"strict\",\"colorway\":[\"#636efa\",\"#EF553B\",\"#00cc96\",\"#ab63fa\",\"#FFA15A\",\"#19d3f3\",\"#FF6692\",\"#B6E880\",\"#FF97FF\",\"#FECB52\"],\"font\":{\"color\":\"#2a3f5f\"},\"hovermode\":\"closest\",\"hoverlabel\":{\"align\":\"left\"},\"paper_bgcolor\":\"white\",\"plot_bgcolor\":\"#E5ECF6\",\"polar\":{\"bgcolor\":\"#E5ECF6\",\"angularaxis\":{\"gridcolor\":\"white\",\"linecolor\":\"white\",\"ticks\":\"\"},\"radialaxis\":{\"gridcolor\":\"white\",\"linecolor\":\"white\",\"ticks\":\"\"}},\"ternary\":{\"bgcolor\":\"#E5ECF6\",\"aaxis\":{\"gridcolor\":\"white\",\"linecolor\":\"white\",\"ticks\":\"\"},\"baxis\":{\"gridcolor\":\"white\",\"linecolor\":\"white\",\"ticks\":\"\"},\"caxis\":{\"gridcolor\":\"white\",\"linecolor\":\"white\",\"ticks\":\"\"}},\"coloraxis\":{\"colorbar\":{\"outlinewidth\":0,\"ticks\":\"\"}},\"colorscale\":{\"sequential\":[[0.0,\"#0d0887\"],[0.1111111111111111,\"#46039f\"],[0.2222222222222222,\"#7201a8\"],[0.3333333333333333,\"#9c179e\"],[0.4444444444444444,\"#bd3786\"],[0.5555555555555556,\"#d8576b\"],[0.6666666666666666,\"#ed7953\"],[0.7777777777777778,\"#fb9f3a\"],[0.8888888888888888,\"#fdca26\"],[1.0,\"#f0f921\"]],\"sequentialminus\":[[0.0,\"#0d0887\"],[0.1111111111111111,\"#46039f\"],[0.2222222222222222,\"#7201a8\"],[0.3333333333333333,\"#9c179e\"],[0.4444444444444444,\"#bd3786\"],[0.5555555555555556,\"#d8576b\"],[0.6666666666666666,\"#ed7953\"],[0.7777777777777778,\"#fb9f3a\"],[0.8888888888888888,\"#fdca26\"],[1.0,\"#f0f921\"]],\"diverging\":[[0,\"#8e0152\"],[0.1,\"#c51b7d\"],[0.2,\"#de77ae\"],[0.3,\"#f1b6da\"],[0.4,\"#fde0ef\"],[0.5,\"#f7f7f7\"],[0.6,\"#e6f5d0\"],[0.7,\"#b8e186\"],[0.8,\"#7fbc41\"],[0.9,\"#4d9221\"],[1,\"#276419\"]]},\"xaxis\":{\"gridcolor\":\"white\",\"linecolor\":\"white\",\"ticks\":\"\",\"title\":{\"standoff\":15},\"zerolinecolor\":\"white\",\"automargin\":true,\"zerolinewidth\":2},\"yaxis\":{\"gridcolor\":\"white\",\"linecolor\":\"white\",\"ticks\":\"\",\"title\":{\"standoff\":15},\"zerolinecolor\":\"white\",\"automargin\":true,\"zerolinewidth\":2},\"scene\":{\"xaxis\":{\"backgroundcolor\":\"#E5ECF6\",\"gridcolor\":\"white\",\"linecolor\":\"white\",\"showbackground\":true,\"ticks\":\"\",\"zerolinecolor\":\"white\",\"gridwidth\":2},\"yaxis\":{\"backgroundcolor\":\"#E5ECF6\",\"gridcolor\":\"white\",\"linecolor\":\"white\",\"showbackground\":true,\"ticks\":\"\",\"zerolinecolor\":\"white\",\"gridwidth\":2},\"zaxis\":{\"backgroundcolor\":\"#E5ECF6\",\"gridcolor\":\"white\",\"linecolor\":\"white\",\"showbackground\":true,\"ticks\":\"\",\"zerolinecolor\":\"white\",\"gridwidth\":2}},\"shapedefaults\":{\"line\":{\"color\":\"#2a3f5f\"}},\"annotationdefaults\":{\"arrowcolor\":\"#2a3f5f\",\"arrowhead\":0,\"arrowwidth\":1},\"geo\":{\"bgcolor\":\"white\",\"landcolor\":\"#E5ECF6\",\"subunitcolor\":\"white\",\"showland\":true,\"showlakes\":true,\"lakecolor\":\"white\"},\"title\":{\"x\":0.05},\"mapbox\":{\"style\":\"light\"}}},\"xaxis\":{\"anchor\":\"y\",\"domain\":[0.0,1.0],\"matches\":\"x3\",\"showticklabels\":false},\"yaxis\":{\"anchor\":\"x\",\"domain\":[0.68,1.0],\"rangemode\":\"nonnegative\"},\"xaxis2\":{\"anchor\":\"y2\",\"domain\":[0.0,1.0],\"matches\":\"x3\",\"showticklabels\":false},\"yaxis2\":{\"anchor\":\"x2\",\"domain\":[0.34,0.66],\"rangemode\":\"nonnegative\"},\"xaxis3\":{\"anchor\":\"y3\",\"domain\":[0.0,1.0]},\"yaxis3\":{\"anchor\":\"x3\",\"domain\":[0.0,0.32],\"rangemode\":\"nonnegative\"},\"annotations\":[{\"font\":{\"size\":16},\"showarrow\":false,\"text\":\"holdout\",\"x\":0.5,\"xanchor\":\"center\",\"xref\":\"paper\",\"y\":1.0,\"yanchor\":\"bottom\",\"yref\":\"paper\"},{\"font\":{\"size\":16},\"showarrow\":false,\"text\":\"test\",\"x\":0.5,\"xanchor\":\"center\",\"xref\":\"paper\",\"y\":0.66,\"yanchor\":\"bottom\",\"yref\":\"paper\"},{\"font\":{\"size\":16},\"showarrow\":false,\"text\":\"train\",\"x\":0.5,\"xanchor\":\"center\",\"xref\":\"paper\",\"y\":0.32,\"yanchor\":\"bottom\",\"yref\":\"paper\"}],\"title\":{\"text\":\"profit validation\"},\"height\":800,\"width\":900},                        {\"responsive\": true}                    ).then(function(){\n",
              "                            \n",
              "var gd = document.getElementById('8f84e764-b083-407a-997a-6aa5c04d3957');\n",
              "var x = new MutationObserver(function (mutations, observer) {{\n",
              "        var display = window.getComputedStyle(gd).display;\n",
              "        if (!display || display === 'none') {{\n",
              "            console.log([gd, 'removed!']);\n",
              "            Plotly.purge(gd);\n",
              "            observer.disconnect();\n",
              "        }}\n",
              "}});\n",
              "\n",
              "// Listen for the removal of the full notebook cells\n",
              "var notebookContainer = gd.closest('#notebook-container');\n",
              "if (notebookContainer) {{\n",
              "    x.observe(notebookContainer, {childList: true});\n",
              "}}\n",
              "\n",
              "// Listen for the clearing of the current output cell\n",
              "var outputEl = gd.closest('.output');\n",
              "if (outputEl) {{\n",
              "    x.observe(outputEl, {childList: true});\n",
              "}}\n",
              "\n",
              "                        })                };                            </script>        </div>\n",
              "</body>\n",
              "</html>"
            ]
          },
          "metadata": {}
        }
      ]
    },
    {
      "cell_type": "code",
      "source": [
        "fig = profit_validation_by_type(active_rows_dict, preds_dict, line_dict, y_dict)\n",
        "fig.show()"
      ],
      "metadata": {
        "colab": {
          "base_uri": "https://localhost:8080/",
          "height": 817
        },
        "id": "M740xM31Z6ao",
        "outputId": "a889f730-ffe2-45ae-f802-d5657f84ac67"
      },
      "execution_count": 34,
      "outputs": [
        {
          "output_type": "display_data",
          "data": {
            "text/html": [
              "<html>\n",
              "<head><meta charset=\"utf-8\" /></head>\n",
              "<body>\n",
              "    <div>            <script src=\"https://cdnjs.cloudflare.com/ajax/libs/mathjax/2.7.5/MathJax.js?config=TeX-AMS-MML_SVG\"></script><script type=\"text/javascript\">if (window.MathJax && window.MathJax.Hub && window.MathJax.Hub.Config) {window.MathJax.Hub.Config({SVG: {font: \"STIX-Web\"}});}</script>                <script type=\"text/javascript\">window.PlotlyConfig = {MathJaxConfig: 'local'};</script>\n",
              "        <script src=\"https://cdn.plot.ly/plotly-2.18.2.min.js\"></script>                <div id=\"45bbf884-0525-4dac-a329-33bf251f4be0\" class=\"plotly-graph-div\" style=\"height:800px; width:900px;\"></div>            <script type=\"text/javascript\">                                    window.PLOTLYENV=window.PLOTLYENV || {};                                    if (document.getElementById(\"45bbf884-0525-4dac-a329-33bf251f4be0\")) {                    Plotly.newPlot(                        \"45bbf884-0525-4dac-a329-33bf251f4be0\",                        [{\"line\":{\"color\":\"rgb(93, 164, 214)\",\"width\":4},\"name\":\"all\",\"x\":[0.9,0.905,0.91,0.915,0.92,0.925,0.93,0.935,0.9400000000000001,0.9450000000000001,0.95,0.9550000000000001,0.96,0.965,0.97,0.975,0.98,0.985,0.99,0.995,1.0,1.005,1.01,1.015,1.02,1.025,1.03,1.035,1.04,1.045,1.05,1.055,1.06,1.065,1.07,1.075,1.08,1.085,1.09,1.095,1.1,1.105,1.1099999999999999,1.115,1.12,1.125,1.13,1.135,1.14,1.145,1.15,1.155,1.16,1.165,1.17,1.175,1.18,1.185,1.19,1.1949999999999998,1.2,1.205,1.21,1.2149999999999999,1.22,1.225,1.23,1.2349999999999999,1.24,1.245,1.25,1.255,1.26,1.265,1.27,1.275,1.28,1.285,1.29,1.295,1.2999999999999998,1.305,1.31,1.315,1.3199999999999998,1.325,1.33,1.335,1.3399999999999999,1.345,1.35,1.355,1.3599999999999999,1.365,1.3699999999999999,1.375,1.38,1.385,1.39,1.395,1.4],\"y\":[-14549.855314030068,-14549.855314030068,-14549.855314030068,-14552.418364136478,-14539.82734208022,-14491.658954572633,-14255.080680658175,-13842.88834359736,-13261.330105701258,-12482.08820304617,-11738.55667212353,-10881.938168178132,-9996.644605325266,-8965.240349699432,-8112.891822090891,-7184.752191275847,-6430.865792501171,-5667.401743836777,-4761.109184033198,-4149.602090286185,-3552.2123848259043,-2949.521274507439,-2581.0196994714356,-2114.8874612027403,-1805.519827711948,-1390.5625711320565,-1127.4226514641075,-911.0319219728235,-700.0391479964701,-538.7471852126065,-359.36843151415724,-118.41946876256091,37.821723272977806,145.61957301071192,377.1050929145,432.94194382926025,518.84918745919,614.9588594454262,739.520555685266,787.0002783833738,907.741399106427,946.8888190504408,852.912137250401,909.1264106474991,972.8786833362979,1024.9645141333585,1069.1401396382453,1111.032955150133,1159.442836812576,1150.3540235734065,1125.5051457510315,1168.8563263625397,1129.2138715202843,1175.3114416786486,1218.1609787272307,1203.9345148105706,1157.5754200338947,1183.609436599956,1214.2168615989542,1216.2817665967113,1246.540589199506,1252.11058142137,1227.2633330685076,1259.7295086624881,1224.9664434269505,1156.2485411721286,1184.530488748227,1143.6675284849223,1141.4707115989443,1145.9888113616676,1125.6695667413721,1099.9637709842582,1043.1620016573747,1034.989793997266,1000.0729536301023,954.4820514251801,938.6438165562156,920.0123881302723,887.3585266103076,859.6289692495452,850.7307229693766,824.302290185308,807.1602400315619,772.7096749463475,755.5675242249088,743.2390438132671,708.6200661158731,684.96456839956,654.9417497872232,619.3338731356916,602.3731487003264,571.3522638296481,554.4848073668564,550.3481282295772,524.5574955640096,512.9626240485885,515.2473774586776,494.99271036944106,473.77562634453375,473.1364272552348,455.3960505634083],\"type\":\"scatter\",\"xaxis\":\"x\",\"yaxis\":\"y\"},{\"line\":{\"color\":\"rgb(255, 144, 14)\",\"width\":1},\"name\":\"home\",\"x\":[0.9,0.905,0.91,0.915,0.92,0.925,0.93,0.935,0.9400000000000001,0.9450000000000001,0.95,0.9550000000000001,0.96,0.965,0.97,0.975,0.98,0.985,0.99,0.995,1.0,1.005,1.01,1.015,1.02,1.025,1.03,1.035,1.04,1.045,1.05,1.055,1.06,1.065,1.07,1.075,1.08,1.085,1.09,1.095,1.1,1.105,1.1099999999999999,1.115,1.12,1.125,1.13,1.135,1.14,1.145,1.15,1.155,1.16,1.165,1.17,1.175,1.18,1.185,1.19,1.1949999999999998,1.2,1.205,1.21,1.2149999999999999,1.22,1.225,1.23,1.2349999999999999,1.24,1.245,1.25,1.255,1.26,1.265,1.27,1.275,1.28,1.285,1.29,1.295,1.2999999999999998,1.305,1.31,1.315,1.3199999999999998,1.325,1.33,1.335,1.3399999999999999,1.345,1.35,1.355,1.3599999999999999,1.365,1.3699999999999999,1.375,1.38,1.385,1.39,1.395,1.4],\"y\":[-7564.041188175875,-7564.041188175875,-7564.041188175875,-7565.213521543624,-7552.866670998526,-7516.098581465745,-7330.755671522389,-7070.564391072457,-6721.603142066121,-6222.718942186396,-5724.98081104024,-5209.219691478078,-4711.04207937639,-4051.7338700973683,-3528.1851535246574,-2951.6305509436356,-2499.0091816788026,-2086.1920445146757,-1596.1897739963752,-1266.4868263018197,-1041.2598380715972,-788.0415892651763,-535.6785722903003,-410.2451790319122,-266.141631085,-86.470472845588,14.463659966607509,119.75024788558034,206.77376040154584,308.6303305805858,457.4556098386446,619.0787499918562,677.7164575187254,723.8458912370297,856.9150049231687,881.8569228549952,927.3505505762402,945.471771444513,978.746039352229,997.7801857928321,1060.4144513240149,1089.223219235303,1081.2577753249016,1113.914571993546,1131.4135431100804,1128.2584247518826,1126.8662904701798,1115.5294148647026,1103.3410947989662,1089.2096239846837,1067.1959415413758,1041.8521170883982,999.8333898080309,973.8155760223891,949.9687729398634,928.7250880130038,904.8171423652922,876.662094808777,875.3171049248324,839.8378041726369,845.9465967657131,812.9075912160257,779.7396687616229,774.3539515171592,719.0178928969353,670.8330222487197,664.2899441496718,616.5816238065363,592.6172803930002,581.8555138889523,554.5532443184345,546.9986393871415,512.6264409254809,502.9073320643682,479.41274279919446,444.80261190959976,428.71040703596316,421.3367144862454,406.61220581870333,397.2702395140026,387.56778199661824,385.235142905241,382.51428664169043,367.92358362624884,361.3812007364976,346.59482687998,341.12201502017376,331.7408890856749,324.2926255339645,301.8505767551522,290.13434196585234,277.1838828714295,267.1963474704844,255.43801138143135,253.81624989413223,251.89400731213073,242.00333551998284,233.48823621356635,226.7393543124076,223.08671876146764,209.5565092477275],\"type\":\"scatter\",\"xaxis\":\"x\",\"yaxis\":\"y\"},{\"line\":{\"color\":\"rgb(44, 160, 101)\",\"width\":1},\"name\":\"draw\",\"x\":[0.9,0.905,0.91,0.915,0.92,0.925,0.93,0.935,0.9400000000000001,0.9450000000000001,0.95,0.9550000000000001,0.96,0.965,0.97,0.975,0.98,0.985,0.99,0.995,1.0,1.005,1.01,1.015,1.02,1.025,1.03,1.035,1.04,1.045,1.05,1.055,1.06,1.065,1.07,1.075,1.08,1.085,1.09,1.095,1.1,1.105,1.1099999999999999,1.115,1.12,1.125,1.13,1.135,1.14,1.145,1.15,1.155,1.16,1.165,1.17,1.175,1.18,1.185,1.19,1.1949999999999998,1.2,1.205,1.21,1.2149999999999999,1.22,1.225,1.23,1.2349999999999999,1.24,1.245,1.25,1.255,1.26,1.265,1.27,1.275,1.28,1.285,1.29,1.295,1.2999999999999998,1.305,1.31,1.315,1.3199999999999998,1.325,1.33,1.335,1.3399999999999999,1.345,1.35,1.355,1.3599999999999999,1.365,1.3699999999999999,1.375,1.38,1.385,1.39,1.395,1.4],\"y\":[-1430.591402248606,-1430.591402248606,-1430.591402248606,-1431.982118987279,-1434.0193132593272,-1435.9851452524463,-1445.8337788287827,-1427.094768360214,-1416.317705969053,-1377.773075363998,-1341.5970159236526,-1300.8521060101743,-1206.687156840037,-1168.5883044648117,-1070.8617125610294,-1015.5312718042672,-956.0044100002922,-892.9082554414567,-750.450500703364,-741.3356238044086,-581.3128694355659,-450.51793971129354,-487.4889111531936,-389.7751477085609,-330.4618641476028,-251.17074373946753,-268.39386028595266,-246.5209195441653,-193.8991466474235,-203.1941250087037,-262.9938017143394,-257.20647399424297,-225.55187608888573,-198.79285534759748,-187.45989709908991,-212.0734074326301,-224.96592593379307,-185.07610241200624,-147.56483118737492,-154.86177812495015,-117.27031211218844,-127.08673135750232,-170.17827497892088,-185.66098672187434,-169.58486831648705,-167.74043917884399,-138.8614898517962,-99.4808286339293,-48.99514747270999,-42.49560764846288,-32.68680214568174,-5.205562186307304,-13.017291509150994,1.2599286594316013,20.27624546514494,2.746328899161533,-8.641374941405601,20.12505581656309,36.846538265947004,22.758289129121337,25.84829670989231,37.94824429509373,44.81933474177112,53.781233084494495,75.34143264599152,77.74966880076778,90.32886332891965,95.70744579030375,106.60722367272575,118.47055201284407,121.5784231073745,126.17896568865633,123.42072751330429,119.92394957180005,111.47181863212276,116.37963281940357,124.41397886295253,125.08996125577492,110.21215326837665,105.62400389179629,109.21048513343601,103.49416055925732,87.41088118454888,81.33551768389123,78.08508474868492,73.39290478431745,61.5300639298694,61.5100743683174,51.676989882284424,55.246670156868234,48.54267555558803,32.90107297532471,32.87166585058972,31.607998221315956,19.57959156312865,11.861528360099445,8.979134434536224,-2.386913959808222,-9.376234731080721,-11.373077561785053,-13.57556337250757],\"type\":\"scatter\",\"xaxis\":\"x\",\"yaxis\":\"y\"},{\"line\":{\"color\":\"rgb(255, 65, 54)\",\"width\":1},\"name\":\"away\",\"x\":[0.9,0.905,0.91,0.915,0.92,0.925,0.93,0.935,0.9400000000000001,0.9450000000000001,0.95,0.9550000000000001,0.96,0.965,0.97,0.975,0.98,0.985,0.99,0.995,1.0,1.005,1.01,1.015,1.02,1.025,1.03,1.035,1.04,1.045,1.05,1.055,1.06,1.065,1.07,1.075,1.08,1.085,1.09,1.095,1.1,1.105,1.1099999999999999,1.115,1.12,1.125,1.13,1.135,1.14,1.145,1.15,1.155,1.16,1.165,1.17,1.175,1.18,1.185,1.19,1.1949999999999998,1.2,1.205,1.21,1.2149999999999999,1.22,1.225,1.23,1.2349999999999999,1.24,1.245,1.25,1.255,1.26,1.265,1.27,1.275,1.28,1.285,1.29,1.295,1.2999999999999998,1.305,1.31,1.315,1.3199999999999998,1.325,1.33,1.335,1.3399999999999999,1.345,1.35,1.355,1.3599999999999999,1.365,1.3699999999999999,1.375,1.38,1.385,1.39,1.395,1.4],\"y\":[-5555.222723605583,-5555.222723605583,-5555.222723605583,-5555.222723605583,-5552.941357822372,-5539.575227854444,-5478.491230307,-5345.229184164679,-5123.409257666091,-4881.5961854957795,-4671.978845159641,-4371.866370689877,-4078.9153691088377,-3744.9181751372516,-3513.844956005202,-3217.5903685279422,-2975.8522008220784,-2688.301443880645,-2414.468909333459,-2141.7796401799583,-1929.6396773187412,-1710.9617455309688,-1557.8522160279406,-1314.8671344622671,-1208.9163324793442,-1052.9213545470016,-873.492451144762,-784.2612503142384,-712.9137617505927,-644.1833907844886,-553.8302396384632,-480.2917447601742,-414.34285815686167,-379.43346287872066,-292.35001490957893,-236.84157159310504,-183.53543718325722,-145.43680958708052,-91.66065247958781,-55.91812928450855,-35.40274010539932,-15.247668827360016,-58.16736309557962,-19.127174624172568,11.050008542704354,64.44652856031982,81.13533901986168,94.9843689193596,105.09688948631961,103.64000723718571,90.99600635533736,132.20977146044848,142.3977732214043,200.23593699682772,247.91596032222256,272.4630978984052,261.3996526100083,286.822285974616,302.05321840817476,353.68567329495306,374.7456957239006,401.2547459102505,402.70432956511354,431.5943240608342,430.60711788402375,407.665850122641,429.9116812696357,431.37845888808204,442.24620753321824,445.66274545987113,449.5378993155631,426.7861659084606,407.1148332185896,412.15851236109785,409.18839219878504,393.2998066961768,385.51943065730006,373.58571238825186,370.53416752322767,356.73472584374633,353.95245583932245,335.5729867208097,337.2350722053225,323.4505736362074,316.1012387397263,323.2513121489697,305.9679871658299,291.7136049455675,278.9721343709743,262.23662622367124,263.69613117888593,261.2673079828939,254.41679404578235,263.30211862682995,251.1616541067487,249.20708837635829,264.2649075041586,263.891388115683,256.4125067632068,261.4227860555522,259.4151046881885],\"type\":\"scatter\",\"xaxis\":\"x\",\"yaxis\":\"y\"},{\"line\":{\"color\":\"rgb(93, 164, 214)\",\"width\":4},\"name\":\"all\",\"x\":[0.9,0.905,0.91,0.915,0.92,0.925,0.93,0.935,0.9400000000000001,0.9450000000000001,0.95,0.9550000000000001,0.96,0.965,0.97,0.975,0.98,0.985,0.99,0.995,1.0,1.005,1.01,1.015,1.02,1.025,1.03,1.035,1.04,1.045,1.05,1.055,1.06,1.065,1.07,1.075,1.08,1.085,1.09,1.095,1.1,1.105,1.1099999999999999,1.115,1.12,1.125,1.13,1.135,1.14,1.145,1.15,1.155,1.16,1.165,1.17,1.175,1.18,1.185,1.19,1.1949999999999998,1.2,1.205,1.21,1.2149999999999999,1.22,1.225,1.23,1.2349999999999999,1.24,1.245,1.25,1.255,1.26,1.265,1.27,1.275,1.28,1.285,1.29,1.295,1.2999999999999998,1.305,1.31,1.315,1.3199999999999998,1.325,1.33,1.335,1.3399999999999999,1.345,1.35,1.355,1.3599999999999999,1.365,1.3699999999999999,1.375,1.38,1.385,1.39,1.395,1.4],\"y\":[-2318.1356549629504,-2318.1356549629504,-2318.1356549629504,-2318.1356549629504,-2318.1356549629504,-2319.8043561348254,-2310.9662793445364,-2283.961210744093,-2248.3726502743666,-2176.739964818201,-2097.264095324024,-2031.7891716043077,-1920.0562804701062,-1843.6059070338652,-1776.2274871751383,-1653.8073627859796,-1523.201549941751,-1381.0963687592978,-1224.131494671617,-1095.4043125741887,-986.965257468223,-851.5184064372426,-779.5749311025943,-638.0230500615503,-542.0341130615088,-443.09032269735616,-334.7458324922567,-237.30087848736036,-174.38699650361207,-161.63294463123833,-130.75614484201628,-74.4774774217208,-56.553641820443886,-40.31519502731357,7.878827910943386,13.09963814199834,26.857710494345156,36.92495627123295,54.42438073934197,40.850204003742306,48.7721861293398,56.56706719838462,66.98238631834101,56.509676156541474,60.967217282985004,62.794205316291105,57.51380520475992,70.56309122629914,54.36554832710698,48.63762908206489,55.15657272593043,64.28255215011544,77.11771695361108,79.14588652368366,83.04484106609092,91.7249433685962,92.1618616831945,87.84683703006566,90.84159354773008,98.37147808988334,96.73435366804895,92.89616563217524,93.11499167602645,92.66986015974962,95.3029900388897,94.03278931833285,104.39171422432416,106.78424476404561,106.99294907485461,114.05916097150035,105.50641609666401,92.39295476166853,99.29892146564751,93.50071905172148,90.67885791941623,86.63064410241319,88.71644072299974,64.15976813487428,64.03639108557793,63.85359188423524,65.92121084155886,58.167662512132566,60.04076498924814,55.27676602035261,61.42264225812465,63.684851730623684,69.59371920751911,74.1038835025729,74.73784958885159,68.64249860152464,64.81680710027757,61.52921122162601,62.39244712616286,61.97890789136235,63.0248400204369,60.0632734971389,50.840987409110255,47.07647873717985,47.71478387507583,43.47205126424368,45.52264706158095],\"type\":\"scatter\",\"xaxis\":\"x2\",\"yaxis\":\"y2\"},{\"line\":{\"color\":\"rgb(255, 144, 14)\",\"width\":1},\"name\":\"home\",\"x\":[0.9,0.905,0.91,0.915,0.92,0.925,0.93,0.935,0.9400000000000001,0.9450000000000001,0.95,0.9550000000000001,0.96,0.965,0.97,0.975,0.98,0.985,0.99,0.995,1.0,1.005,1.01,1.015,1.02,1.025,1.03,1.035,1.04,1.045,1.05,1.055,1.06,1.065,1.07,1.075,1.08,1.085,1.09,1.095,1.1,1.105,1.1099999999999999,1.115,1.12,1.125,1.13,1.135,1.14,1.145,1.15,1.155,1.16,1.165,1.17,1.175,1.18,1.185,1.19,1.1949999999999998,1.2,1.205,1.21,1.2149999999999999,1.22,1.225,1.23,1.2349999999999999,1.24,1.245,1.25,1.255,1.26,1.265,1.27,1.275,1.28,1.285,1.29,1.295,1.2999999999999998,1.305,1.31,1.315,1.3199999999999998,1.325,1.33,1.335,1.3399999999999999,1.345,1.35,1.355,1.3599999999999999,1.365,1.3699999999999999,1.375,1.38,1.385,1.39,1.395,1.4],\"y\":[-1023.9046995237264,-1023.9046995237264,-1023.9046995237264,-1023.9046995237264,-1023.9046995237264,-1024.4642698362265,-1022.5518749296732,-1013.9028183663174,-994.007185412868,-966.0272859505012,-941.0202402047537,-917.649247229304,-854.5117302642991,-822.7052230906716,-801.9331003917596,-750.0487978645538,-677.0369028184498,-591.9010400765259,-515.3290266353172,-439.0000332871978,-395.2106418648855,-324.6064977521372,-285.68707149705244,-232.39556201622554,-182.42036354229091,-134.54481165698894,-61.35282319890629,-14.397070710167355,31.18337481524935,41.56315364126348,52.68371030138934,68.71303289371997,87.07620119457715,97.98005775436597,111.33663595755849,125.17400412757274,112.55321788201724,120.65317210971182,118.56231027572002,122.74569708969557,135.65442145685174,137.90574988599826,143.72777046183256,141.8825531368903,130.98669614339732,124.68107213098509,121.57124053083345,116.6109965895103,98.78935275018918,88.69222534394044,78.29518402814904,76.2557077169239,74.29769843973239,68.20804534457851,74.09030169487018,72.90930743653067,66.36086414535666,56.59277960773775,45.17907170967821,46.065536902670445,40.35167653946948,31.94251613965372,25.946311159586216,19.016774389498103,14.793513967629373,5.575748405151984,9.91146784660954,9.40946780872293,6.302134142098691,14.82138165628254,9.599358711656688,8.77996238914982,10.418559884299434,8.450862774783882,7.683355238067634,10.484606701056002,8.68976554509221,1.1542600886968728,2.8271417469577784,4.8228060590733115,8.371800162501103,12.25346302478037,14.919358901456164,14.643256796461287,15.7459747431012,17.660990448362874,17.82222652028357,23.466493627551355,22.70941959133824,22.064609543977486,22.613326272059336,20.73382874269913,22.587370626686766,21.51136885429957,25.09725660385612,23.02389730618604,20.933201625807598,18.57565742795386,16.87533573472773,17.678472826725198,15.908318042933427],\"type\":\"scatter\",\"xaxis\":\"x2\",\"yaxis\":\"y2\"},{\"line\":{\"color\":\"rgb(44, 160, 101)\",\"width\":1},\"name\":\"draw\",\"x\":[0.9,0.905,0.91,0.915,0.92,0.925,0.93,0.935,0.9400000000000001,0.9450000000000001,0.95,0.9550000000000001,0.96,0.965,0.97,0.975,0.98,0.985,0.99,0.995,1.0,1.005,1.01,1.015,1.02,1.025,1.03,1.035,1.04,1.045,1.05,1.055,1.06,1.065,1.07,1.075,1.08,1.085,1.09,1.095,1.1,1.105,1.1099999999999999,1.115,1.12,1.125,1.13,1.135,1.14,1.145,1.15,1.155,1.16,1.165,1.17,1.175,1.18,1.185,1.19,1.1949999999999998,1.2,1.205,1.21,1.2149999999999999,1.22,1.225,1.23,1.2349999999999999,1.24,1.245,1.25,1.255,1.26,1.265,1.27,1.275,1.28,1.285,1.29,1.295,1.2999999999999998,1.305,1.31,1.315,1.3199999999999998,1.325,1.33,1.335,1.3399999999999999,1.345,1.35,1.355,1.3599999999999999,1.365,1.3699999999999999,1.375,1.38,1.385,1.39,1.395,1.4],\"y\":[-329.47087826650477,-329.47087826650477,-329.47087826650477,-329.47087826650477,-329.47087826650477,-329.47087826650477,-329.78464564788453,-327.61922121668556,-330.75211732000065,-331.39033452139125,-318.55970811308555,-311.2911326302227,-293.2485327913926,-270.1718104496225,-260.357665437032,-222.79496492243607,-202.75174848331494,-192.43148159761012,-158.96841009186133,-149.24364579540597,-135.9759707005773,-117.78180500399569,-110.06032246059797,-77.80594429918762,-60.79982472371336,-24.631006090491805,-17.531486128775523,13.765688594755375,22.299984990383567,21.599240087843576,32.04189184594232,49.69038085701592,43.80765195644342,44.63276220288615,56.691777582382336,41.27031073364034,55.38889538661268,50.099050874985345,59.61083244400307,34.83783578121027,30.264509235956297,26.20578401389315,20.291039040901587,10.041113471376264,26.70184366477816,24.18020824558186,25.94621629146348,32.27302721378841,29.84916456710354,33.62821557271438,41.07875095583957,43.85477624571764,49.74826067743479,47.858164017150074,41.49190277198964,41.91087932153313,35.230321111774145,35.34425303747546,41.34649402367515,44.22038710292287,45.47651313398106,45.34417627819824,44.58241150003475,46.101472041357624,45.6895815257328,48.11750583825281,46.814032597597176,45.11141673325815,44.20576718198434,41.79715834831032,33.81818526906672,26.01676007914189,28.417665794258568,29.396602929035144,27.355063271409968,22.636467204919743,21.797691198731815,15.380766305531608,12.14393986135581,9.054959200561534,8.510346994247842,3.8770352194848394,5.443632544328363,5.769281680767515,7.978219585859287,6.355926746921977,7.972065424431582,9.15270520775254,7.482015287333782,7.042340379232543,8.21554519562792,8.058060467233233,5.998525569769246,5.549964179270454,4.916438278876808,6.772708065620491,4.868809889643048,5.833150543090161,6.4167504750057756,5.067930722506176,9.521966471202099],\"type\":\"scatter\",\"xaxis\":\"x2\",\"yaxis\":\"y2\"},{\"line\":{\"color\":\"rgb(255, 65, 54)\",\"width\":1},\"name\":\"away\",\"x\":[0.9,0.905,0.91,0.915,0.92,0.925,0.93,0.935,0.9400000000000001,0.9450000000000001,0.95,0.9550000000000001,0.96,0.965,0.97,0.975,0.98,0.985,0.99,0.995,1.0,1.005,1.01,1.015,1.02,1.025,1.03,1.035,1.04,1.045,1.05,1.055,1.06,1.065,1.07,1.075,1.08,1.085,1.09,1.095,1.1,1.105,1.1099999999999999,1.115,1.12,1.125,1.13,1.135,1.14,1.145,1.15,1.155,1.16,1.165,1.17,1.175,1.18,1.185,1.19,1.1949999999999998,1.2,1.205,1.21,1.2149999999999999,1.22,1.225,1.23,1.2349999999999999,1.24,1.245,1.25,1.255,1.26,1.265,1.27,1.275,1.28,1.285,1.29,1.295,1.2999999999999998,1.305,1.31,1.315,1.3199999999999998,1.325,1.33,1.335,1.3399999999999999,1.345,1.35,1.355,1.3599999999999999,1.365,1.3699999999999999,1.375,1.38,1.385,1.39,1.395,1.4],\"y\":[-964.7600771727193,-964.7600771727193,-964.7600771727193,-964.7600771727193,-964.7600771727193,-965.8692080320943,-958.6297587669792,-942.4391711610898,-923.6133475414978,-879.3223443463082,-837.6841470061843,-802.8487917447812,-772.2960174144147,-750.7288734935711,-713.9367213463466,-680.9635999989902,-643.4128986399861,-596.7638470851621,-549.8340579444385,-507.1606334915851,-455.7786449027602,-409.1301036811095,-383.8275371449441,-327.82154374613714,-298.8139247955046,-283.91450494987544,-255.86152316457503,-236.6694963719484,-227.87035630924493,-224.7953383603454,-215.48174698934798,-192.88089117245656,-187.4374949714645,-182.92801498456572,-160.14958562899758,-153.34467671921493,-141.08440277428468,-133.8272667134643,-123.74876198038116,-116.73332886716362,-117.14674456346829,-107.54446670150682,-97.03642318439317,-95.41399045172516,-96.72132252519049,-86.06707506027578,-90.00365161753707,-78.32093257699954,-74.2729689901858,-73.68281183458993,-64.21736225805819,-55.8279318125261,-46.92824216355608,-36.92032283804495,-32.53736340076891,-23.095243389467626,-9.429323573936298,-4.0901956151475645,4.31602781437671,8.085554084289996,10.906163994598428,15.609473214323264,22.586269016405453,27.551613728893862,34.819894545527525,40.33953507492803,47.6662137801174,52.26336022206452,56.48504775077158,57.44062096690747,62.08887211594061,57.59623229337682,60.4626957870895,55.65325334790244,55.64043940993862,53.509570196437465,58.228983979175695,47.6247417406458,49.06530947726436,49.97582662460037,49.03906368480993,42.03716426786737,39.67777354346362,34.8642275431238,37.69844792916415,39.66793453533882,43.799427262803974,41.48468466726901,44.54641471017954,39.535548678314626,33.98793563259032,32.73732201169365,33.80655092970684,34.917574857792324,33.011145137703984,30.26666812533238,25.038975893659597,22.667670766135846,24.422697665342326,20.725647715012286,20.092362547445433],\"type\":\"scatter\",\"xaxis\":\"x2\",\"yaxis\":\"y2\"},{\"line\":{\"color\":\"rgb(93, 164, 214)\",\"width\":4},\"name\":\"all\",\"x\":[0.9,0.905,0.91,0.915,0.92,0.925,0.93,0.935,0.9400000000000001,0.9450000000000001,0.95,0.9550000000000001,0.96,0.965,0.97,0.975,0.98,0.985,0.99,0.995,1.0,1.005,1.01,1.015,1.02,1.025,1.03,1.035,1.04,1.045,1.05,1.055,1.06,1.065,1.07,1.075,1.08,1.085,1.09,1.095,1.1,1.105,1.1099999999999999,1.115,1.12,1.125,1.13,1.135,1.14,1.145,1.15,1.155,1.16,1.165,1.17,1.175,1.18,1.185,1.19,1.1949999999999998,1.2,1.205,1.21,1.2149999999999999,1.22,1.225,1.23,1.2349999999999999,1.24,1.245,1.25,1.255,1.26,1.265,1.27,1.275,1.28,1.285,1.29,1.295,1.2999999999999998,1.305,1.31,1.315,1.3199999999999998,1.325,1.33,1.335,1.3399999999999999,1.345,1.35,1.355,1.3599999999999999,1.365,1.3699999999999999,1.375,1.38,1.385,1.39,1.395,1.4],\"y\":[8198.347911032073,8198.347911032073,8198.347911032073,8196.648411843387,8292.539467040968,8695.958519303445,9626.302976048853,11053.550922005545,12992.130968401127,15381.164202509815,18047.8940155262,21114.500324797493,23815.027335408493,26592.687366920727,29109.576452099216,31192.36805452069,33071.95232975277,34590.796776324285,35897.91217269492,36867.56949926142,37798.59757109753,38585.00849281714,39083.16976883859,39256.292393129654,39176.804333520886,38981.647524599925,38405.10395827006,37777.03956446968,36873.52027929334,36484.44457739975,35876.92959233297,35042.243018869936,34471.59827450756,33732.168864287494,33019.295038770244,32323.650642625526,31653.647676865643,31032.027021467893,30424.094798012666,29694.046832968565,28930.797486904405,28367.39257175343,27610.297770092824,26855.747935555053,26107.101671801083,25337.181499269645,24725.274853097726,23952.881030160836,23205.58042548661,22524.101523098496,21862.983350092152,21336.355344585714,20910.609036315884,20420.971491075932,19927.38453653963,19354.512943666563,18751.49790323392,18155.645269975426,17667.72527610455,17194.36221984218,16752.299301669646,16267.410651731838,15804.329034785966,15393.198310586424,15022.83146869843,14619.955652036298,14209.641979708282,13920.581658715762,13510.290120854603,13180.014000349443,12875.08005174436,12548.966715405428,12267.985793383874,12035.640630921704,11787.864414152147,11482.559270250906,11257.570886314183,10968.356147440378,10768.403308842744,10583.534862687255,10366.052531918709,10203.831600850535,9998.784062272387,9764.202738371325,9547.492668477726,9346.775114292524,9160.651038539454,8916.578297527081,8732.397035140217,8527.690664996278,8414.125067799196,8219.307316802691,8075.773354796975,7946.629603565359,7764.6858216464925,7617.734532766711,7501.5653841022595,7363.026993065304,7204.21477930381,7055.813162308506,6959.684027324651],\"type\":\"scatter\",\"xaxis\":\"x3\",\"yaxis\":\"y3\"},{\"line\":{\"color\":\"rgb(255, 144, 14)\",\"width\":1},\"name\":\"home\",\"x\":[0.9,0.905,0.91,0.915,0.92,0.925,0.93,0.935,0.9400000000000001,0.9450000000000001,0.95,0.9550000000000001,0.96,0.965,0.97,0.975,0.98,0.985,0.99,0.995,1.0,1.005,1.01,1.015,1.02,1.025,1.03,1.035,1.04,1.045,1.05,1.055,1.06,1.065,1.07,1.075,1.08,1.085,1.09,1.095,1.1,1.105,1.1099999999999999,1.115,1.12,1.125,1.13,1.135,1.14,1.145,1.15,1.155,1.16,1.165,1.17,1.175,1.18,1.185,1.19,1.1949999999999998,1.2,1.205,1.21,1.2149999999999999,1.22,1.225,1.23,1.2349999999999999,1.24,1.245,1.25,1.255,1.26,1.265,1.27,1.275,1.28,1.285,1.29,1.295,1.2999999999999998,1.305,1.31,1.315,1.3199999999999998,1.325,1.33,1.335,1.3399999999999999,1.345,1.35,1.355,1.3599999999999999,1.365,1.3699999999999999,1.375,1.38,1.385,1.39,1.395,1.4],\"y\":[-617.867340360925,-617.867340360925,-617.867340360925,-619.2867993989614,-583.0890512883368,-363.75500839344636,195.6884237591644,961.7118450201657,2109.144985418331,3536.9384869619967,5104.341064905126,6786.592024867661,8246.751854470009,9775.479686455466,11253.082034643725,12334.343369578984,13342.956906547744,14083.483904797877,14734.15141471253,15237.660521680998,15596.630356229078,15996.505335195227,16251.58066250648,16124.468460924198,16024.66375021719,15937.622957124908,15689.686629105501,15413.358944023175,14981.674816702885,14759.98654022329,14536.386020133674,14242.298579451677,14059.554428123492,13776.206205451872,13581.080469609964,13333.352333250816,13013.178680366622,12792.46777903367,12553.974472669877,12258.05088753744,11978.50052549951,11768.94591353676,11457.103356661799,11088.182711881504,10856.482888559138,10597.51383351465,10367.125120889448,10016.630838017221,9725.618986002002,9419.339273035866,9126.276959140247,8890.168557037152,8662.895205928238,8456.645064962511,8309.012841822378,8080.883571644986,7831.68830364973,7623.180687064309,7442.414347697345,7268.574380226536,7127.598630195698,6944.365391243439,6755.632033012829,6571.881771113542,6412.384131471761,6247.514390286545,6113.670385274121,5996.706842126095,5872.729449038826,5734.8063482660855,5602.2901760328905,5492.768396459325,5336.584582989563,5255.794049881003,5140.764218308453,5002.032996034577,4908.794033890612,4794.720195352539,4728.799761239809,4653.088585350271,4551.476628897996,4474.5257281754675,4377.666618441834,4292.375798550031,4214.194372441044,4112.985595651815,4033.8333080525467,3939.836229316117,3860.0169585695903,3752.159254047093,3718.2212061605105,3651.857700988755,3595.3174201035627,3528.7134663024704,3461.0791891418394,3403.686508152795,3348.645030639745,3284.1039215209375,3221.8410011495744,3160.873886132724,3133.1113606583044],\"type\":\"scatter\",\"xaxis\":\"x3\",\"yaxis\":\"y3\"},{\"line\":{\"color\":\"rgb(44, 160, 101)\",\"width\":1},\"name\":\"draw\",\"x\":[0.9,0.905,0.91,0.915,0.92,0.925,0.93,0.935,0.9400000000000001,0.9450000000000001,0.95,0.9550000000000001,0.96,0.965,0.97,0.975,0.98,0.985,0.99,0.995,1.0,1.005,1.01,1.015,1.02,1.025,1.03,1.035,1.04,1.045,1.05,1.055,1.06,1.065,1.07,1.075,1.08,1.085,1.09,1.095,1.1,1.105,1.1099999999999999,1.115,1.12,1.125,1.13,1.135,1.14,1.145,1.15,1.155,1.16,1.165,1.17,1.175,1.18,1.185,1.19,1.1949999999999998,1.2,1.205,1.21,1.2149999999999999,1.22,1.225,1.23,1.2349999999999999,1.24,1.245,1.25,1.255,1.26,1.265,1.27,1.275,1.28,1.285,1.29,1.295,1.2999999999999998,1.305,1.31,1.315,1.3199999999999998,1.325,1.33,1.335,1.3399999999999999,1.345,1.35,1.355,1.3599999999999999,1.365,1.3699999999999999,1.375,1.38,1.385,1.39,1.395,1.4],\"y\":[10083.735759879875,10083.735759879875,10083.735759879875,10083.670484853368,10094.84294374357,10151.570154930689,10264.102935807237,10406.804307684624,10573.255158057284,10830.229633602745,11036.304910896493,11372.74455113536,11609.179339382821,11839.454266451598,12075.343918439772,12228.247161531883,12392.839025622356,12642.730934952737,12818.61667261368,12825.082121752723,12913.984017909428,13022.672974089317,13043.60244640633,13148.711322423698,13128.080511646016,13078.785779165952,12849.662324042145,12593.927092635515,12260.16412358412,12216.666777715305,12017.83228556813,11705.028187970203,11430.326532286179,11117.123993409352,10783.924240251927,10468.901444206522,10208.902072722462,10041.754620116873,9810.81853293887,9594.206764471568,9313.453337825704,9104.993267151054,8826.401259872464,8562.321296803866,8245.153673570443,7938.655861118472,7732.374193651283,7487.9274921763745,7262.824441642117,7036.117175018405,6763.048951052755,6611.066025359917,6447.295426462166,6242.974006020722,6029.091880646448,5798.549048577501,5577.386516756142,5280.542415110426,5063.006042929032,4875.7060234269975,4680.377270262496,4534.152122150742,4385.044362262296,4240.256606280575,4135.480415836979,4011.7842850343814,3853.739354941352,3742.215406246347,3610.276892118789,3501.1274314444054,3400.2137481214213,3320.3208133052985,3257.0679350002497,3204.4029003557716,3141.4461515358307,3070.567911668387,3017.606391795568,2943.3499774483244,2886.1470036624414,2819.49961622897,2762.9101436407664,2735.7511272419392,2689.8413345421286,2621.7826454692236,2575.2477524815017,2550.168082559706,2516.0010145059277,2491.7008903456062,2460.158177199944,2433.9045030170755,2403.950958061765,2371.649034663945,2343.893766068306,2331.226106804419,2306.350677518988,2274.853586133208,2253.45842507246,2233.891177482209,2203.0779324844057,2177.968347088019,2156.5231221938975],\"type\":\"scatter\",\"xaxis\":\"x3\",\"yaxis\":\"y3\"},{\"line\":{\"color\":\"rgb(255, 65, 54)\",\"width\":1},\"name\":\"away\",\"x\":[0.9,0.905,0.91,0.915,0.92,0.925,0.93,0.935,0.9400000000000001,0.9450000000000001,0.95,0.9550000000000001,0.96,0.965,0.97,0.975,0.98,0.985,0.99,0.995,1.0,1.005,1.01,1.015,1.02,1.025,1.03,1.035,1.04,1.045,1.05,1.055,1.06,1.065,1.07,1.075,1.08,1.085,1.09,1.095,1.1,1.105,1.1099999999999999,1.115,1.12,1.125,1.13,1.135,1.14,1.145,1.15,1.155,1.16,1.165,1.17,1.175,1.18,1.185,1.19,1.1949999999999998,1.2,1.205,1.21,1.2149999999999999,1.22,1.225,1.23,1.2349999999999999,1.24,1.245,1.25,1.255,1.26,1.265,1.27,1.275,1.28,1.285,1.29,1.295,1.2999999999999998,1.305,1.31,1.315,1.3199999999999998,1.325,1.33,1.335,1.3399999999999999,1.345,1.35,1.355,1.3599999999999999,1.365,1.3699999999999999,1.375,1.38,1.385,1.39,1.395,1.4],\"y\":[-1267.520508486878,-1267.520508486878,-1267.520508486878,-1267.7352736110174,-1219.2144254142697,-1091.8566272338062,-833.4883835175558,-314.9652306992317,309.73082492551106,1013.9960819450678,1907.2480397245777,2955.163748794512,3959.0961415556994,4977.753414013668,5781.150499015729,6629.77752340982,7336.156397582658,7864.581936573684,8345.14408536871,8804.826855827736,9287.983196959014,9565.830183532567,9787.986659925798,9983.112609781741,10024.060071657681,9965.238788309074,9865.755005122397,9769.753527810994,9631.68133900632,9507.791259461195,9322.711286631173,9094.91625144804,8981.717314097894,8838.838665426269,8654.290328908353,8521.396865168188,8431.566923776556,8197.804622317348,8059.301792403904,7841.789180959558,7638.843623579181,7493.453391065611,7326.793153558563,7205.243926869672,7005.465109671496,6801.011804636533,6625.775538556991,6448.322699967237,6217.136997842484,6068.64507504423,5973.657439899151,5835.120762188637,5800.418403925482,5721.352420092699,5589.279814070807,5475.080323444074,5342.423082828054,5251.922167800691,5162.3048854781755,5050.081816188646,4944.323401211456,4788.8931383376585,4663.652639510842,4581.0599331923095,4474.966921389696,4360.656976715371,4242.232239492812,4181.65941034332,4027.283779696986,3944.0802206389526,3872.5761275900422,3735.877505640802,3674.333275394064,3575.4436806849303,3505.6540443078625,3409.9583625479445,3331.1704606280005,3230.285974639514,3153.4565439404914,3110.946661108012,3051.6657593799478,2993.5547454331263,2931.276109288424,2850.04429435207,2758.0505435551777,2683.6214360810036,2610.8167159809814,2485.0411778653593,2412.2218993706842,2341.626907932109,2291.952903576918,2195.8005811499906,2136.562168625107,2086.6900304584697,1997.2559549856646,1939.1944384807093,1899.4619283900547,1845.031894062158,1779.2958456698295,1716.9709290877638,1670.0495444724488],\"type\":\"scatter\",\"xaxis\":\"x3\",\"yaxis\":\"y3\"}],                        {\"template\":{\"data\":{\"histogram2dcontour\":[{\"type\":\"histogram2dcontour\",\"colorbar\":{\"outlinewidth\":0,\"ticks\":\"\"},\"colorscale\":[[0.0,\"#0d0887\"],[0.1111111111111111,\"#46039f\"],[0.2222222222222222,\"#7201a8\"],[0.3333333333333333,\"#9c179e\"],[0.4444444444444444,\"#bd3786\"],[0.5555555555555556,\"#d8576b\"],[0.6666666666666666,\"#ed7953\"],[0.7777777777777778,\"#fb9f3a\"],[0.8888888888888888,\"#fdca26\"],[1.0,\"#f0f921\"]]}],\"choropleth\":[{\"type\":\"choropleth\",\"colorbar\":{\"outlinewidth\":0,\"ticks\":\"\"}}],\"histogram2d\":[{\"type\":\"histogram2d\",\"colorbar\":{\"outlinewidth\":0,\"ticks\":\"\"},\"colorscale\":[[0.0,\"#0d0887\"],[0.1111111111111111,\"#46039f\"],[0.2222222222222222,\"#7201a8\"],[0.3333333333333333,\"#9c179e\"],[0.4444444444444444,\"#bd3786\"],[0.5555555555555556,\"#d8576b\"],[0.6666666666666666,\"#ed7953\"],[0.7777777777777778,\"#fb9f3a\"],[0.8888888888888888,\"#fdca26\"],[1.0,\"#f0f921\"]]}],\"heatmap\":[{\"type\":\"heatmap\",\"colorbar\":{\"outlinewidth\":0,\"ticks\":\"\"},\"colorscale\":[[0.0,\"#0d0887\"],[0.1111111111111111,\"#46039f\"],[0.2222222222222222,\"#7201a8\"],[0.3333333333333333,\"#9c179e\"],[0.4444444444444444,\"#bd3786\"],[0.5555555555555556,\"#d8576b\"],[0.6666666666666666,\"#ed7953\"],[0.7777777777777778,\"#fb9f3a\"],[0.8888888888888888,\"#fdca26\"],[1.0,\"#f0f921\"]]}],\"heatmapgl\":[{\"type\":\"heatmapgl\",\"colorbar\":{\"outlinewidth\":0,\"ticks\":\"\"},\"colorscale\":[[0.0,\"#0d0887\"],[0.1111111111111111,\"#46039f\"],[0.2222222222222222,\"#7201a8\"],[0.3333333333333333,\"#9c179e\"],[0.4444444444444444,\"#bd3786\"],[0.5555555555555556,\"#d8576b\"],[0.6666666666666666,\"#ed7953\"],[0.7777777777777778,\"#fb9f3a\"],[0.8888888888888888,\"#fdca26\"],[1.0,\"#f0f921\"]]}],\"contourcarpet\":[{\"type\":\"contourcarpet\",\"colorbar\":{\"outlinewidth\":0,\"ticks\":\"\"}}],\"contour\":[{\"type\":\"contour\",\"colorbar\":{\"outlinewidth\":0,\"ticks\":\"\"},\"colorscale\":[[0.0,\"#0d0887\"],[0.1111111111111111,\"#46039f\"],[0.2222222222222222,\"#7201a8\"],[0.3333333333333333,\"#9c179e\"],[0.4444444444444444,\"#bd3786\"],[0.5555555555555556,\"#d8576b\"],[0.6666666666666666,\"#ed7953\"],[0.7777777777777778,\"#fb9f3a\"],[0.8888888888888888,\"#fdca26\"],[1.0,\"#f0f921\"]]}],\"surface\":[{\"type\":\"surface\",\"colorbar\":{\"outlinewidth\":0,\"ticks\":\"\"},\"colorscale\":[[0.0,\"#0d0887\"],[0.1111111111111111,\"#46039f\"],[0.2222222222222222,\"#7201a8\"],[0.3333333333333333,\"#9c179e\"],[0.4444444444444444,\"#bd3786\"],[0.5555555555555556,\"#d8576b\"],[0.6666666666666666,\"#ed7953\"],[0.7777777777777778,\"#fb9f3a\"],[0.8888888888888888,\"#fdca26\"],[1.0,\"#f0f921\"]]}],\"mesh3d\":[{\"type\":\"mesh3d\",\"colorbar\":{\"outlinewidth\":0,\"ticks\":\"\"}}],\"scatter\":[{\"fillpattern\":{\"fillmode\":\"overlay\",\"size\":10,\"solidity\":0.2},\"type\":\"scatter\"}],\"parcoords\":[{\"type\":\"parcoords\",\"line\":{\"colorbar\":{\"outlinewidth\":0,\"ticks\":\"\"}}}],\"scatterpolargl\":[{\"type\":\"scatterpolargl\",\"marker\":{\"colorbar\":{\"outlinewidth\":0,\"ticks\":\"\"}}}],\"bar\":[{\"error_x\":{\"color\":\"#2a3f5f\"},\"error_y\":{\"color\":\"#2a3f5f\"},\"marker\":{\"line\":{\"color\":\"#E5ECF6\",\"width\":0.5},\"pattern\":{\"fillmode\":\"overlay\",\"size\":10,\"solidity\":0.2}},\"type\":\"bar\"}],\"scattergeo\":[{\"type\":\"scattergeo\",\"marker\":{\"colorbar\":{\"outlinewidth\":0,\"ticks\":\"\"}}}],\"scatterpolar\":[{\"type\":\"scatterpolar\",\"marker\":{\"colorbar\":{\"outlinewidth\":0,\"ticks\":\"\"}}}],\"histogram\":[{\"marker\":{\"pattern\":{\"fillmode\":\"overlay\",\"size\":10,\"solidity\":0.2}},\"type\":\"histogram\"}],\"scattergl\":[{\"type\":\"scattergl\",\"marker\":{\"colorbar\":{\"outlinewidth\":0,\"ticks\":\"\"}}}],\"scatter3d\":[{\"type\":\"scatter3d\",\"line\":{\"colorbar\":{\"outlinewidth\":0,\"ticks\":\"\"}},\"marker\":{\"colorbar\":{\"outlinewidth\":0,\"ticks\":\"\"}}}],\"scattermapbox\":[{\"type\":\"scattermapbox\",\"marker\":{\"colorbar\":{\"outlinewidth\":0,\"ticks\":\"\"}}}],\"scatterternary\":[{\"type\":\"scatterternary\",\"marker\":{\"colorbar\":{\"outlinewidth\":0,\"ticks\":\"\"}}}],\"scattercarpet\":[{\"type\":\"scattercarpet\",\"marker\":{\"colorbar\":{\"outlinewidth\":0,\"ticks\":\"\"}}}],\"carpet\":[{\"aaxis\":{\"endlinecolor\":\"#2a3f5f\",\"gridcolor\":\"white\",\"linecolor\":\"white\",\"minorgridcolor\":\"white\",\"startlinecolor\":\"#2a3f5f\"},\"baxis\":{\"endlinecolor\":\"#2a3f5f\",\"gridcolor\":\"white\",\"linecolor\":\"white\",\"minorgridcolor\":\"white\",\"startlinecolor\":\"#2a3f5f\"},\"type\":\"carpet\"}],\"table\":[{\"cells\":{\"fill\":{\"color\":\"#EBF0F8\"},\"line\":{\"color\":\"white\"}},\"header\":{\"fill\":{\"color\":\"#C8D4E3\"},\"line\":{\"color\":\"white\"}},\"type\":\"table\"}],\"barpolar\":[{\"marker\":{\"line\":{\"color\":\"#E5ECF6\",\"width\":0.5},\"pattern\":{\"fillmode\":\"overlay\",\"size\":10,\"solidity\":0.2}},\"type\":\"barpolar\"}],\"pie\":[{\"automargin\":true,\"type\":\"pie\"}]},\"layout\":{\"autotypenumbers\":\"strict\",\"colorway\":[\"#636efa\",\"#EF553B\",\"#00cc96\",\"#ab63fa\",\"#FFA15A\",\"#19d3f3\",\"#FF6692\",\"#B6E880\",\"#FF97FF\",\"#FECB52\"],\"font\":{\"color\":\"#2a3f5f\"},\"hovermode\":\"closest\",\"hoverlabel\":{\"align\":\"left\"},\"paper_bgcolor\":\"white\",\"plot_bgcolor\":\"#E5ECF6\",\"polar\":{\"bgcolor\":\"#E5ECF6\",\"angularaxis\":{\"gridcolor\":\"white\",\"linecolor\":\"white\",\"ticks\":\"\"},\"radialaxis\":{\"gridcolor\":\"white\",\"linecolor\":\"white\",\"ticks\":\"\"}},\"ternary\":{\"bgcolor\":\"#E5ECF6\",\"aaxis\":{\"gridcolor\":\"white\",\"linecolor\":\"white\",\"ticks\":\"\"},\"baxis\":{\"gridcolor\":\"white\",\"linecolor\":\"white\",\"ticks\":\"\"},\"caxis\":{\"gridcolor\":\"white\",\"linecolor\":\"white\",\"ticks\":\"\"}},\"coloraxis\":{\"colorbar\":{\"outlinewidth\":0,\"ticks\":\"\"}},\"colorscale\":{\"sequential\":[[0.0,\"#0d0887\"],[0.1111111111111111,\"#46039f\"],[0.2222222222222222,\"#7201a8\"],[0.3333333333333333,\"#9c179e\"],[0.4444444444444444,\"#bd3786\"],[0.5555555555555556,\"#d8576b\"],[0.6666666666666666,\"#ed7953\"],[0.7777777777777778,\"#fb9f3a\"],[0.8888888888888888,\"#fdca26\"],[1.0,\"#f0f921\"]],\"sequentialminus\":[[0.0,\"#0d0887\"],[0.1111111111111111,\"#46039f\"],[0.2222222222222222,\"#7201a8\"],[0.3333333333333333,\"#9c179e\"],[0.4444444444444444,\"#bd3786\"],[0.5555555555555556,\"#d8576b\"],[0.6666666666666666,\"#ed7953\"],[0.7777777777777778,\"#fb9f3a\"],[0.8888888888888888,\"#fdca26\"],[1.0,\"#f0f921\"]],\"diverging\":[[0,\"#8e0152\"],[0.1,\"#c51b7d\"],[0.2,\"#de77ae\"],[0.3,\"#f1b6da\"],[0.4,\"#fde0ef\"],[0.5,\"#f7f7f7\"],[0.6,\"#e6f5d0\"],[0.7,\"#b8e186\"],[0.8,\"#7fbc41\"],[0.9,\"#4d9221\"],[1,\"#276419\"]]},\"xaxis\":{\"gridcolor\":\"white\",\"linecolor\":\"white\",\"ticks\":\"\",\"title\":{\"standoff\":15},\"zerolinecolor\":\"white\",\"automargin\":true,\"zerolinewidth\":2},\"yaxis\":{\"gridcolor\":\"white\",\"linecolor\":\"white\",\"ticks\":\"\",\"title\":{\"standoff\":15},\"zerolinecolor\":\"white\",\"automargin\":true,\"zerolinewidth\":2},\"scene\":{\"xaxis\":{\"backgroundcolor\":\"#E5ECF6\",\"gridcolor\":\"white\",\"linecolor\":\"white\",\"showbackground\":true,\"ticks\":\"\",\"zerolinecolor\":\"white\",\"gridwidth\":2},\"yaxis\":{\"backgroundcolor\":\"#E5ECF6\",\"gridcolor\":\"white\",\"linecolor\":\"white\",\"showbackground\":true,\"ticks\":\"\",\"zerolinecolor\":\"white\",\"gridwidth\":2},\"zaxis\":{\"backgroundcolor\":\"#E5ECF6\",\"gridcolor\":\"white\",\"linecolor\":\"white\",\"showbackground\":true,\"ticks\":\"\",\"zerolinecolor\":\"white\",\"gridwidth\":2}},\"shapedefaults\":{\"line\":{\"color\":\"#2a3f5f\"}},\"annotationdefaults\":{\"arrowcolor\":\"#2a3f5f\",\"arrowhead\":0,\"arrowwidth\":1},\"geo\":{\"bgcolor\":\"white\",\"landcolor\":\"#E5ECF6\",\"subunitcolor\":\"white\",\"showland\":true,\"showlakes\":true,\"lakecolor\":\"white\"},\"title\":{\"x\":0.05},\"mapbox\":{\"style\":\"light\"}}},\"xaxis\":{\"anchor\":\"y\",\"domain\":[0.0,1.0],\"matches\":\"x3\",\"showticklabels\":false},\"yaxis\":{\"anchor\":\"x\",\"domain\":[0.68,1.0],\"rangemode\":\"nonnegative\"},\"xaxis2\":{\"anchor\":\"y2\",\"domain\":[0.0,1.0],\"matches\":\"x3\",\"showticklabels\":false},\"yaxis2\":{\"anchor\":\"x2\",\"domain\":[0.34,0.66],\"rangemode\":\"nonnegative\"},\"xaxis3\":{\"anchor\":\"y3\",\"domain\":[0.0,1.0]},\"yaxis3\":{\"anchor\":\"x3\",\"domain\":[0.0,0.32],\"rangemode\":\"nonnegative\"},\"annotations\":[{\"font\":{\"size\":16},\"showarrow\":false,\"text\":\"holdout\",\"x\":0.5,\"xanchor\":\"center\",\"xref\":\"paper\",\"y\":1.0,\"yanchor\":\"bottom\",\"yref\":\"paper\"},{\"font\":{\"size\":16},\"showarrow\":false,\"text\":\"test\",\"x\":0.5,\"xanchor\":\"center\",\"xref\":\"paper\",\"y\":0.66,\"yanchor\":\"bottom\",\"yref\":\"paper\"},{\"font\":{\"size\":16},\"showarrow\":false,\"text\":\"train\",\"x\":0.5,\"xanchor\":\"center\",\"xref\":\"paper\",\"y\":0.32,\"yanchor\":\"bottom\",\"yref\":\"paper\"}],\"title\":{\"text\":\"profit validation\"},\"height\":800,\"width\":900},                        {\"responsive\": true}                    ).then(function(){\n",
              "                            \n",
              "var gd = document.getElementById('45bbf884-0525-4dac-a329-33bf251f4be0');\n",
              "var x = new MutationObserver(function (mutations, observer) {{\n",
              "        var display = window.getComputedStyle(gd).display;\n",
              "        if (!display || display === 'none') {{\n",
              "            console.log([gd, 'removed!']);\n",
              "            Plotly.purge(gd);\n",
              "            observer.disconnect();\n",
              "        }}\n",
              "}});\n",
              "\n",
              "// Listen for the removal of the full notebook cells\n",
              "var notebookContainer = gd.closest('#notebook-container');\n",
              "if (notebookContainer) {{\n",
              "    x.observe(notebookContainer, {childList: true});\n",
              "}}\n",
              "\n",
              "// Listen for the clearing of the current output cell\n",
              "var outputEl = gd.closest('.output');\n",
              "if (outputEl) {{\n",
              "    x.observe(outputEl, {childList: true});\n",
              "}}\n",
              "\n",
              "                        })                };                            </script>        </div>\n",
              "</body>\n",
              "</html>"
            ]
          },
          "metadata": {}
        }
      ]
    },
    {
      "cell_type": "code",
      "source": [
        "fts = ['Id', 'Score1', 'Score2', 'Active.1', 'W1', 'WX', 'W2', 'X1', 'X2',\n",
        "       'W12', 'TotalValue', 'Over', 'Under', 'Hand1Value', 'H1', 'H2',\n",
        "       'Result1', 'Result2', 'min_norm', 'Score1_norm', 'Score2_norm',\n",
        "       'Score_diff', 'Score_cat_1', 'Score_cat_2', 'Score_cat_3',\n",
        "       'Score_cat_4', 'Score_cat_5', 'Score_cat_6', 'Score_cat_7', \n",
        "       'Score_cat_8', 'Score_cat_9', 'A1_scaled', 'A2_scaled', 'A1perMIN',\n",
        "        'A2perMIN', 'A1relativ', 'A2relativ', 'DA1_scaled', 'DA2_scaled',\n",
        "       'DA1perMIN', 'DA2perMIN', 'DA1relativ', 'DA2relativ', 'Pos1_cleaned',\n",
        "       'Pos2_cleaned', 'Off1_norm', 'Off2_norm', 'On1_norm', 'On2_norm',\n",
        "       'YC1_transformed', 'YC2_transformed', 'RC1_transformed',\n",
        "       'RC2_transformed', 'Sub1_transformed', 'Sub2_transformed',\n",
        "       'Cor1_transformed', 'Cor2_transformed', 'P1_transformed',\n",
        "       'P2_transformed'][18:]\n",
        "for col in ['A1relativ', 'A2relativ', 'DA1relativ', 'DA2relativ']:  \n",
        "    fts.remove(col)"
      ],
      "metadata": {
        "id": "xTgMuiZg2WLJ"
      },
      "execution_count": 30,
      "outputs": []
    },
    {
      "cell_type": "code",
      "source": [
        "importance_dict = {key:value for value, key in sorted(zip(booster.get_feature_importance(), fts), reverse = False)}\n",
        "fig1 = px.bar(\n",
        "    pd.DataFrame(importance_dict.items(), columns = ['features', 'value']),\n",
        "    x = 'value',\n",
        "    y = 'features',\n",
        "    orientation = 'h',\n",
        "    #title = 'feature importance multiclass',\n",
        "    title = 'feature importance binary classification away',\n",
        "    #title = 'feature importance regression team 2',\n",
        "    width = 600,\n",
        "    height = 800\n",
        ")\n",
        "fig1.show()"
      ],
      "metadata": {
        "id": "dJ-LhZAa2Sbb",
        "colab": {
          "base_uri": "https://localhost:8080/",
          "height": 817
        },
        "outputId": "b02521af-bf2d-4473-d12c-303595f21d36"
      },
      "execution_count": 31,
      "outputs": [
        {
          "output_type": "display_data",
          "data": {
            "text/html": [
              "<html>\n",
              "<head><meta charset=\"utf-8\" /></head>\n",
              "<body>\n",
              "    <div>            <script src=\"https://cdnjs.cloudflare.com/ajax/libs/mathjax/2.7.5/MathJax.js?config=TeX-AMS-MML_SVG\"></script><script type=\"text/javascript\">if (window.MathJax && window.MathJax.Hub && window.MathJax.Hub.Config) {window.MathJax.Hub.Config({SVG: {font: \"STIX-Web\"}});}</script>                <script type=\"text/javascript\">window.PlotlyConfig = {MathJaxConfig: 'local'};</script>\n",
              "        <script src=\"https://cdn.plot.ly/plotly-2.18.2.min.js\"></script>                <div id=\"fc9858b4-7836-47a2-a4a8-71564d0a0571\" class=\"plotly-graph-div\" style=\"height:800px; width:600px;\"></div>            <script type=\"text/javascript\">                                    window.PLOTLYENV=window.PLOTLYENV || {};                                    if (document.getElementById(\"fc9858b4-7836-47a2-a4a8-71564d0a0571\")) {                    Plotly.newPlot(                        \"fc9858b4-7836-47a2-a4a8-71564d0a0571\",                        [{\"alignmentgroup\":\"True\",\"hovertemplate\":\"value=%{x}<br>features=%{y}<extra></extra>\",\"legendgroup\":\"\",\"marker\":{\"color\":\"#636efa\",\"pattern\":{\"shape\":\"\"}},\"name\":\"\",\"offsetgroup\":\"\",\"orientation\":\"h\",\"showlegend\":false,\"textposition\":\"auto\",\"x\":[0.0,0.0,0.0,0.011713558496072111,0.02877146383095712,0.028885762138628035,0.02965419623882032,0.03294715987115462,0.033942661751556184,0.05721009538139523,0.059475153280709334,0.05972061229446044,0.06869017887391117,0.08272806919526345,0.09952628511231197,0.100168663957119,0.10724336450358911,0.11926185620248674,0.13188476147132747,0.15156998351876821,0.15860071104653545,0.1867303550108677,0.31099250320587957,0.330205906028985,0.33442271860119605,0.3404073599623511,0.3611550255958956,0.37456138345712114,0.4783881658836129,0.4916686247410939,0.5290428313228267,0.8698036929397942,1.2640055213909487,1.3393311505173342,18.565841998740275,28.17985755978444,44.68159066565234],\"xaxis\":\"x\",\"y\":[\"Score_cat_1\",\"Score_cat_2\",\"Score_cat_8\",\"Score_cat_6\",\"Score_cat_9\",\"Score_cat_4\",\"Sub1_transformed\",\"Score_cat_3\",\"Sub2_transformed\",\"Score_cat_5\",\"YC1_transformed\",\"YC2_transformed\",\"Score_cat_7\",\"A2_scaled\",\"Score2_norm\",\"A1_scaled\",\"Score1_norm\",\"Cor1_transformed\",\"A1perMIN\",\"Cor2_transformed\",\"Pos1_cleaned\",\"A2perMIN\",\"RC1_transformed\",\"RC2_transformed\",\"On1_norm\",\"Pos2_cleaned\",\"DA2_scaled\",\"DA1_scaled\",\"On2_norm\",\"Off1_norm\",\"Off2_norm\",\"min_norm\",\"DA1perMIN\",\"DA2perMIN\",\"P2_transformed\",\"P1_transformed\",\"Score_diff\"],\"yaxis\":\"y\",\"type\":\"bar\"}],                        {\"template\":{\"data\":{\"histogram2dcontour\":[{\"type\":\"histogram2dcontour\",\"colorbar\":{\"outlinewidth\":0,\"ticks\":\"\"},\"colorscale\":[[0.0,\"#0d0887\"],[0.1111111111111111,\"#46039f\"],[0.2222222222222222,\"#7201a8\"],[0.3333333333333333,\"#9c179e\"],[0.4444444444444444,\"#bd3786\"],[0.5555555555555556,\"#d8576b\"],[0.6666666666666666,\"#ed7953\"],[0.7777777777777778,\"#fb9f3a\"],[0.8888888888888888,\"#fdca26\"],[1.0,\"#f0f921\"]]}],\"choropleth\":[{\"type\":\"choropleth\",\"colorbar\":{\"outlinewidth\":0,\"ticks\":\"\"}}],\"histogram2d\":[{\"type\":\"histogram2d\",\"colorbar\":{\"outlinewidth\":0,\"ticks\":\"\"},\"colorscale\":[[0.0,\"#0d0887\"],[0.1111111111111111,\"#46039f\"],[0.2222222222222222,\"#7201a8\"],[0.3333333333333333,\"#9c179e\"],[0.4444444444444444,\"#bd3786\"],[0.5555555555555556,\"#d8576b\"],[0.6666666666666666,\"#ed7953\"],[0.7777777777777778,\"#fb9f3a\"],[0.8888888888888888,\"#fdca26\"],[1.0,\"#f0f921\"]]}],\"heatmap\":[{\"type\":\"heatmap\",\"colorbar\":{\"outlinewidth\":0,\"ticks\":\"\"},\"colorscale\":[[0.0,\"#0d0887\"],[0.1111111111111111,\"#46039f\"],[0.2222222222222222,\"#7201a8\"],[0.3333333333333333,\"#9c179e\"],[0.4444444444444444,\"#bd3786\"],[0.5555555555555556,\"#d8576b\"],[0.6666666666666666,\"#ed7953\"],[0.7777777777777778,\"#fb9f3a\"],[0.8888888888888888,\"#fdca26\"],[1.0,\"#f0f921\"]]}],\"heatmapgl\":[{\"type\":\"heatmapgl\",\"colorbar\":{\"outlinewidth\":0,\"ticks\":\"\"},\"colorscale\":[[0.0,\"#0d0887\"],[0.1111111111111111,\"#46039f\"],[0.2222222222222222,\"#7201a8\"],[0.3333333333333333,\"#9c179e\"],[0.4444444444444444,\"#bd3786\"],[0.5555555555555556,\"#d8576b\"],[0.6666666666666666,\"#ed7953\"],[0.7777777777777778,\"#fb9f3a\"],[0.8888888888888888,\"#fdca26\"],[1.0,\"#f0f921\"]]}],\"contourcarpet\":[{\"type\":\"contourcarpet\",\"colorbar\":{\"outlinewidth\":0,\"ticks\":\"\"}}],\"contour\":[{\"type\":\"contour\",\"colorbar\":{\"outlinewidth\":0,\"ticks\":\"\"},\"colorscale\":[[0.0,\"#0d0887\"],[0.1111111111111111,\"#46039f\"],[0.2222222222222222,\"#7201a8\"],[0.3333333333333333,\"#9c179e\"],[0.4444444444444444,\"#bd3786\"],[0.5555555555555556,\"#d8576b\"],[0.6666666666666666,\"#ed7953\"],[0.7777777777777778,\"#fb9f3a\"],[0.8888888888888888,\"#fdca26\"],[1.0,\"#f0f921\"]]}],\"surface\":[{\"type\":\"surface\",\"colorbar\":{\"outlinewidth\":0,\"ticks\":\"\"},\"colorscale\":[[0.0,\"#0d0887\"],[0.1111111111111111,\"#46039f\"],[0.2222222222222222,\"#7201a8\"],[0.3333333333333333,\"#9c179e\"],[0.4444444444444444,\"#bd3786\"],[0.5555555555555556,\"#d8576b\"],[0.6666666666666666,\"#ed7953\"],[0.7777777777777778,\"#fb9f3a\"],[0.8888888888888888,\"#fdca26\"],[1.0,\"#f0f921\"]]}],\"mesh3d\":[{\"type\":\"mesh3d\",\"colorbar\":{\"outlinewidth\":0,\"ticks\":\"\"}}],\"scatter\":[{\"fillpattern\":{\"fillmode\":\"overlay\",\"size\":10,\"solidity\":0.2},\"type\":\"scatter\"}],\"parcoords\":[{\"type\":\"parcoords\",\"line\":{\"colorbar\":{\"outlinewidth\":0,\"ticks\":\"\"}}}],\"scatterpolargl\":[{\"type\":\"scatterpolargl\",\"marker\":{\"colorbar\":{\"outlinewidth\":0,\"ticks\":\"\"}}}],\"bar\":[{\"error_x\":{\"color\":\"#2a3f5f\"},\"error_y\":{\"color\":\"#2a3f5f\"},\"marker\":{\"line\":{\"color\":\"#E5ECF6\",\"width\":0.5},\"pattern\":{\"fillmode\":\"overlay\",\"size\":10,\"solidity\":0.2}},\"type\":\"bar\"}],\"scattergeo\":[{\"type\":\"scattergeo\",\"marker\":{\"colorbar\":{\"outlinewidth\":0,\"ticks\":\"\"}}}],\"scatterpolar\":[{\"type\":\"scatterpolar\",\"marker\":{\"colorbar\":{\"outlinewidth\":0,\"ticks\":\"\"}}}],\"histogram\":[{\"marker\":{\"pattern\":{\"fillmode\":\"overlay\",\"size\":10,\"solidity\":0.2}},\"type\":\"histogram\"}],\"scattergl\":[{\"type\":\"scattergl\",\"marker\":{\"colorbar\":{\"outlinewidth\":0,\"ticks\":\"\"}}}],\"scatter3d\":[{\"type\":\"scatter3d\",\"line\":{\"colorbar\":{\"outlinewidth\":0,\"ticks\":\"\"}},\"marker\":{\"colorbar\":{\"outlinewidth\":0,\"ticks\":\"\"}}}],\"scattermapbox\":[{\"type\":\"scattermapbox\",\"marker\":{\"colorbar\":{\"outlinewidth\":0,\"ticks\":\"\"}}}],\"scatterternary\":[{\"type\":\"scatterternary\",\"marker\":{\"colorbar\":{\"outlinewidth\":0,\"ticks\":\"\"}}}],\"scattercarpet\":[{\"type\":\"scattercarpet\",\"marker\":{\"colorbar\":{\"outlinewidth\":0,\"ticks\":\"\"}}}],\"carpet\":[{\"aaxis\":{\"endlinecolor\":\"#2a3f5f\",\"gridcolor\":\"white\",\"linecolor\":\"white\",\"minorgridcolor\":\"white\",\"startlinecolor\":\"#2a3f5f\"},\"baxis\":{\"endlinecolor\":\"#2a3f5f\",\"gridcolor\":\"white\",\"linecolor\":\"white\",\"minorgridcolor\":\"white\",\"startlinecolor\":\"#2a3f5f\"},\"type\":\"carpet\"}],\"table\":[{\"cells\":{\"fill\":{\"color\":\"#EBF0F8\"},\"line\":{\"color\":\"white\"}},\"header\":{\"fill\":{\"color\":\"#C8D4E3\"},\"line\":{\"color\":\"white\"}},\"type\":\"table\"}],\"barpolar\":[{\"marker\":{\"line\":{\"color\":\"#E5ECF6\",\"width\":0.5},\"pattern\":{\"fillmode\":\"overlay\",\"size\":10,\"solidity\":0.2}},\"type\":\"barpolar\"}],\"pie\":[{\"automargin\":true,\"type\":\"pie\"}]},\"layout\":{\"autotypenumbers\":\"strict\",\"colorway\":[\"#636efa\",\"#EF553B\",\"#00cc96\",\"#ab63fa\",\"#FFA15A\",\"#19d3f3\",\"#FF6692\",\"#B6E880\",\"#FF97FF\",\"#FECB52\"],\"font\":{\"color\":\"#2a3f5f\"},\"hovermode\":\"closest\",\"hoverlabel\":{\"align\":\"left\"},\"paper_bgcolor\":\"white\",\"plot_bgcolor\":\"#E5ECF6\",\"polar\":{\"bgcolor\":\"#E5ECF6\",\"angularaxis\":{\"gridcolor\":\"white\",\"linecolor\":\"white\",\"ticks\":\"\"},\"radialaxis\":{\"gridcolor\":\"white\",\"linecolor\":\"white\",\"ticks\":\"\"}},\"ternary\":{\"bgcolor\":\"#E5ECF6\",\"aaxis\":{\"gridcolor\":\"white\",\"linecolor\":\"white\",\"ticks\":\"\"},\"baxis\":{\"gridcolor\":\"white\",\"linecolor\":\"white\",\"ticks\":\"\"},\"caxis\":{\"gridcolor\":\"white\",\"linecolor\":\"white\",\"ticks\":\"\"}},\"coloraxis\":{\"colorbar\":{\"outlinewidth\":0,\"ticks\":\"\"}},\"colorscale\":{\"sequential\":[[0.0,\"#0d0887\"],[0.1111111111111111,\"#46039f\"],[0.2222222222222222,\"#7201a8\"],[0.3333333333333333,\"#9c179e\"],[0.4444444444444444,\"#bd3786\"],[0.5555555555555556,\"#d8576b\"],[0.6666666666666666,\"#ed7953\"],[0.7777777777777778,\"#fb9f3a\"],[0.8888888888888888,\"#fdca26\"],[1.0,\"#f0f921\"]],\"sequentialminus\":[[0.0,\"#0d0887\"],[0.1111111111111111,\"#46039f\"],[0.2222222222222222,\"#7201a8\"],[0.3333333333333333,\"#9c179e\"],[0.4444444444444444,\"#bd3786\"],[0.5555555555555556,\"#d8576b\"],[0.6666666666666666,\"#ed7953\"],[0.7777777777777778,\"#fb9f3a\"],[0.8888888888888888,\"#fdca26\"],[1.0,\"#f0f921\"]],\"diverging\":[[0,\"#8e0152\"],[0.1,\"#c51b7d\"],[0.2,\"#de77ae\"],[0.3,\"#f1b6da\"],[0.4,\"#fde0ef\"],[0.5,\"#f7f7f7\"],[0.6,\"#e6f5d0\"],[0.7,\"#b8e186\"],[0.8,\"#7fbc41\"],[0.9,\"#4d9221\"],[1,\"#276419\"]]},\"xaxis\":{\"gridcolor\":\"white\",\"linecolor\":\"white\",\"ticks\":\"\",\"title\":{\"standoff\":15},\"zerolinecolor\":\"white\",\"automargin\":true,\"zerolinewidth\":2},\"yaxis\":{\"gridcolor\":\"white\",\"linecolor\":\"white\",\"ticks\":\"\",\"title\":{\"standoff\":15},\"zerolinecolor\":\"white\",\"automargin\":true,\"zerolinewidth\":2},\"scene\":{\"xaxis\":{\"backgroundcolor\":\"#E5ECF6\",\"gridcolor\":\"white\",\"linecolor\":\"white\",\"showbackground\":true,\"ticks\":\"\",\"zerolinecolor\":\"white\",\"gridwidth\":2},\"yaxis\":{\"backgroundcolor\":\"#E5ECF6\",\"gridcolor\":\"white\",\"linecolor\":\"white\",\"showbackground\":true,\"ticks\":\"\",\"zerolinecolor\":\"white\",\"gridwidth\":2},\"zaxis\":{\"backgroundcolor\":\"#E5ECF6\",\"gridcolor\":\"white\",\"linecolor\":\"white\",\"showbackground\":true,\"ticks\":\"\",\"zerolinecolor\":\"white\",\"gridwidth\":2}},\"shapedefaults\":{\"line\":{\"color\":\"#2a3f5f\"}},\"annotationdefaults\":{\"arrowcolor\":\"#2a3f5f\",\"arrowhead\":0,\"arrowwidth\":1},\"geo\":{\"bgcolor\":\"white\",\"landcolor\":\"#E5ECF6\",\"subunitcolor\":\"white\",\"showland\":true,\"showlakes\":true,\"lakecolor\":\"white\"},\"title\":{\"x\":0.05},\"mapbox\":{\"style\":\"light\"}}},\"xaxis\":{\"anchor\":\"y\",\"domain\":[0.0,1.0],\"title\":{\"text\":\"value\"}},\"yaxis\":{\"anchor\":\"x\",\"domain\":[0.0,1.0],\"title\":{\"text\":\"features\"}},\"legend\":{\"tracegroupgap\":0},\"title\":{\"text\":\"feature importance binary classification away\"},\"barmode\":\"relative\",\"height\":800,\"width\":600},                        {\"responsive\": true}                    ).then(function(){\n",
              "                            \n",
              "var gd = document.getElementById('fc9858b4-7836-47a2-a4a8-71564d0a0571');\n",
              "var x = new MutationObserver(function (mutations, observer) {{\n",
              "        var display = window.getComputedStyle(gd).display;\n",
              "        if (!display || display === 'none') {{\n",
              "            console.log([gd, 'removed!']);\n",
              "            Plotly.purge(gd);\n",
              "            observer.disconnect();\n",
              "        }}\n",
              "}});\n",
              "\n",
              "// Listen for the removal of the full notebook cells\n",
              "var notebookContainer = gd.closest('#notebook-container');\n",
              "if (notebookContainer) {{\n",
              "    x.observe(notebookContainer, {childList: true});\n",
              "}}\n",
              "\n",
              "// Listen for the clearing of the current output cell\n",
              "var outputEl = gd.closest('.output');\n",
              "if (outputEl) {{\n",
              "    x.observe(outputEl, {childList: true});\n",
              "}}\n",
              "\n",
              "                        })                };                            </script>        </div>\n",
              "</body>\n",
              "</html>"
            ]
          },
          "metadata": {}
        }
      ]
    },
    {
      "cell_type": "code",
      "source": [
        "description_dict = {\n",
        "    'kfold_splits':kfold_splits,\n",
        "    'data_version':'football_live_main_part_npz_230510/',\n",
        "    'data_version_upd':'football_live_upd_230510/',\n",
        "    'comments':'test fino 2022'\n",
        "}"
      ],
      "metadata": {
        "id": "NBqrrs5D2O9h"
      },
      "execution_count": 32,
      "outputs": []
    },
    {
      "cell_type": "code",
      "source": [
        "model_version = neptune.init_model_version(\n",
        "    model = 'FOOT-LIVEMC',\n",
        "    project = 'scomesse/football',\n",
        "    api_token = api_key # your credentials\n",
        ")\n",
        "model_sys = model_version['sys'].fetch()"
      ],
      "metadata": {
        "colab": {
          "base_uri": "https://localhost:8080/"
        },
        "id": "T1ION_zFC4oA",
        "outputId": "46a18c85-0946-4f34-e12b-8400ebd128cc"
      },
      "execution_count": 33,
      "outputs": [
        {
          "output_type": "stream",
          "name": "stdout",
          "text": [
            "https://app.neptune.ai/scomesse/football/m/FOOT-LIVEMC/v/FOOT-LIVEMC-6\n"
          ]
        }
      ]
    },
    {
      "cell_type": "code",
      "source": [
        "print(model_sys)"
      ],
      "metadata": {
        "id": "oYkYmnDfC6hh",
        "colab": {
          "base_uri": "https://localhost:8080/"
        },
        "outputId": "ef0368a2-9b4d-4594-9238-e1ad152f9444"
      },
      "execution_count": 34,
      "outputs": [
        {
          "output_type": "stream",
          "name": "stdout",
          "text": [
            "{'creation_time': datetime.datetime(2023, 5, 22, 16, 9, 15, 782000, tzinfo=tzlocal()), 'id': 'FOOT-LIVEMC-6', 'model_id': 'FOOT-LIVEMC', 'modification_time': datetime.datetime(2023, 5, 22, 16, 9, 15, 782000, tzinfo=tzlocal()), 'monitoring_time': 0, 'owner': 'scomesse', 'ping_time': datetime.datetime(2023, 5, 22, 16, 9, 15, 782000, tzinfo=tzlocal()), 'running_time': 0.0, 'size': 0.0, 'stage': 'none', 'state': 'running', 'trashed': False}\n"
          ]
        }
      ]
    },
    {
      "cell_type": "code",
      "source": [
        "model_sys = {\n",
        "    'model_id':'FOOT-LIVEMC',\n",
        "    'id':'FOOT-LIVEMC-6'\n",
        "}"
      ],
      "metadata": {
        "id": "KxcRH3AcGWUz"
      },
      "execution_count": null,
      "outputs": []
    },
    {
      "cell_type": "code",
      "source": [
        "model_version_params = dict(\n",
        "    project = 'scomesse/football',\n",
        "    model = model_sys['model_id'],\n",
        "    api_token = api_key,\n",
        "    with_id = model_sys['id']\n",
        ")\n",
        "model_version = neptune.init_model_version(**model_version_params)\n",
        "model_version[f'/models/model_{kfold_num}'].upload(f'./models/booster_{kfold_num}.model')\n",
        "model_version[f'/models/model_{kfold_num}_parameters'] = stringify_unsupported(cparams)\n",
        "model_version[f'/models/model_{kfold_num}_description'] = stringify_unsupported(description_dict)\n",
        "model_version.stop()"
      ],
      "metadata": {
        "colab": {
          "base_uri": "https://localhost:8080/"
        },
        "id": "EeUAMUt-2KHT",
        "outputId": "44dc9849-27b5-4cf0-d0e6-d3a447b6ad0c"
      },
      "execution_count": 35,
      "outputs": [
        {
          "output_type": "stream",
          "name": "stdout",
          "text": [
            "https://app.neptune.ai/scomesse/football/m/FOOT-LIVEMC/v/FOOT-LIVEMC-6\n",
            "Shutting down background jobs, please wait a moment...\n",
            "Done!\n",
            "Waiting for the remaining 15 operations to synchronize with Neptune. Do not kill this process.\n",
            "All 15 operations synced, thanks for waiting!\n",
            "Explore the metadata in the Neptune app:\n",
            "https://app.neptune.ai/scomesse/football/m/FOOT-LIVEMC/v/FOOT-LIVEMC-6/metadata\n"
          ]
        }
      ]
    },
    {
      "cell_type": "code",
      "source": [
        "model_version = neptune.init_model_version(**model_version_params)\n",
        "model_version[f'threshold_model_{kfold_num}_fold'].upload(neptune.types.File.as_html(fig))\n",
        "model_version.stop()"
      ],
      "metadata": {
        "colab": {
          "base_uri": "https://localhost:8080/"
        },
        "id": "KX9QVypd6oGV",
        "outputId": "45d96506-b028-4275-c5b1-d93855feb9ef"
      },
      "execution_count": 36,
      "outputs": [
        {
          "output_type": "stream",
          "name": "stdout",
          "text": [
            "https://app.neptune.ai/scomesse/football/m/FOOT-LIVEMC/v/FOOT-LIVEMC-6\n",
            "Shutting down background jobs, please wait a moment...\n",
            "Done!\n",
            "Waiting for the remaining 1 operations to synchronize with Neptune. Do not kill this process.\n",
            "All 1 operations synced, thanks for waiting!\n",
            "Explore the metadata in the Neptune app:\n",
            "https://app.neptune.ai/scomesse/football/m/FOOT-LIVEMC/v/FOOT-LIVEMC-6/metadata\n"
          ]
        }
      ]
    },
    {
      "cell_type": "code",
      "source": [
        "model_version = neptune.init_model_version(**model_version_params)\n",
        "model_version[f'importance_model_{kfold_num}_fold'].upload(neptune.types.File.as_html(fig1))\n",
        "model_version.stop()"
      ],
      "metadata": {
        "colab": {
          "base_uri": "https://localhost:8080/"
        },
        "id": "mPm21jje7I9I",
        "outputId": "dc5a14f5-68e5-47ad-aacb-b899874ab5b0"
      },
      "execution_count": 37,
      "outputs": [
        {
          "output_type": "stream",
          "name": "stdout",
          "text": [
            "https://app.neptune.ai/scomesse/football/m/FOOT-LIVEMC/v/FOOT-LIVEMC-6\n",
            "Shutting down background jobs, please wait a moment...\n",
            "Done!\n",
            "Waiting for the remaining 1 operations to synchronize with Neptune. Do not kill this process.\n",
            "All 1 operations synced, thanks for waiting!\n",
            "Explore the metadata in the Neptune app:\n",
            "https://app.neptune.ai/scomesse/football/m/FOOT-LIVEMC/v/FOOT-LIVEMC-6/metadata\n"
          ]
        }
      ]
    },
    {
      "cell_type": "code",
      "source": [
        "description_dict = {\n",
        "    'kfold_splits':kfold_splits,\n",
        "    'data_version':'football_live_main_part_npz_230510/',\n",
        "    'data_version_upd':'football_live_upd_230510/',\n",
        "    'comments':'test fino 2022'\n",
        "}"
      ],
      "metadata": {
        "id": "CEcJ4Oj8x1RB"
      },
      "execution_count": 23,
      "outputs": []
    },
    {
      "cell_type": "code",
      "source": [
        "preds_dict = {}\n",
        "preds_dict['train'] = sum(\n",
        "    CatBoost().load_model(\n",
        "        f'./models/booster_{kfold_num}.model'\n",
        "            ).predict(\n",
        "                X, \n",
        "                prediction_type=\"Probability\"\n",
        "                )\n",
        "    for kfold_num in range(description_dict['kfold_splits'])\n",
        "                        ) / description_dict['kfold_splits']\n",
        "preds_dict['holdout'] = sum(\n",
        "    CatBoost().load_model(\n",
        "        f'./models/booster_{kfold_num}.model'\n",
        "            ).predict(\n",
        "                X_holdout, \n",
        "                prediction_type=\"Probability\"\n",
        "                )\n",
        "    for kfold_num in range(description_dict['kfold_splits'])\n",
        "                        ) / description_dict['kfold_splits']\n",
        "preds_dict['test'] = sum(\n",
        "    CatBoost().load_model(\n",
        "        f'./models/booster_{kfold_num}.model'\n",
        "            ).predict(\n",
        "                X_holdout, \n",
        "                prediction_type=\"Probability\"\n",
        "                )\n",
        "    for kfold_num in range(description_dict['kfold_splits'])\n",
        "                        ) / description_dict['kfold_splits']"
      ],
      "metadata": {
        "id": "wB70aCh-sCOX"
      },
      "execution_count": 24,
      "outputs": []
    },
    {
      "cell_type": "code",
      "source": [
        "if incollare:\n",
        "    K = np.vstack((data_npz['K_train'][:,:4], data_upd_npz['K_train'][:,:4][id_vector]))\n",
        "    K_holdout = data_upd_npz['K_train'][:,:4][~id_vector]\n",
        "else:\n",
        "    K = data_npz['K_train'][:,:4]\n",
        "    K_holdout = data_upd_npz['K_train'][:,:4]\n",
        "line_dict = {'train':K[:, 1:4], 'test':K_holdout[:, 1:4], 'holdout':K_holdout[:, 1:4]}\n",
        "y_dict = {'train':y, 'test':y_holdout, 'holdout':y_holdout}\n",
        "X_dict = {'train':X, 'test':X_holdout, 'holdout':X_holdout}\n",
        "\n",
        "active_rows_dict ={}\n",
        "active_rows_dict['train'] = ((K[:,0] == 1) & (K[:,1:4].sum(axis = 1) > 3))\n",
        "active_rows_dict['holdout'] = ((K_holdout[:, 0] == 1) & (K_holdout[:, 1:4].sum(axis = 1) > 3))\n",
        "active_rows_dict['test'] = ((K_holdout[:, 0] == 1) & (K_holdout[:, 1:4].sum(axis = 1) > 3))\n",
        "\n",
        "#---------------\n",
        "process = psutil.Process(os.getpid())\n",
        "print('mem usage: ', round(process.memory_info().rss / 1024 ** 3, 2), 'GiB')  # in bytes \n",
        "#---------------"
      ],
      "metadata": {
        "colab": {
          "base_uri": "https://localhost:8080/"
        },
        "id": "v5TEiWiMyHe3",
        "outputId": "3e9771de-9653-4af1-b114-f52b28b12d87"
      },
      "execution_count": 25,
      "outputs": [
        {
          "output_type": "stream",
          "name": "stdout",
          "text": [
            "mem usage:  7.31 GiB\n"
          ]
        }
      ]
    },
    {
      "cell_type": "code",
      "source": [
        "fig = profit_validation_by_type(active_rows_dict, preds_dict, line_dict, y_dict)\n",
        "fig.show()"
      ],
      "metadata": {
        "colab": {
          "base_uri": "https://localhost:8080/",
          "height": 817
        },
        "id": "c_-On1sNyNw8",
        "outputId": "6520d8fa-24a1-4fc6-c857-a49e746246e6"
      },
      "execution_count": 26,
      "outputs": [
        {
          "output_type": "display_data",
          "data": {
            "text/html": [
              "<html>\n",
              "<head><meta charset=\"utf-8\" /></head>\n",
              "<body>\n",
              "    <div>            <script src=\"https://cdnjs.cloudflare.com/ajax/libs/mathjax/2.7.5/MathJax.js?config=TeX-AMS-MML_SVG\"></script><script type=\"text/javascript\">if (window.MathJax && window.MathJax.Hub && window.MathJax.Hub.Config) {window.MathJax.Hub.Config({SVG: {font: \"STIX-Web\"}});}</script>                <script type=\"text/javascript\">window.PlotlyConfig = {MathJaxConfig: 'local'};</script>\n",
              "        <script src=\"https://cdn.plot.ly/plotly-2.18.2.min.js\"></script>                <div id=\"ccfe0826-eb3a-4b89-b2c9-8ee7f4be90a1\" class=\"plotly-graph-div\" style=\"height:800px; width:900px;\"></div>            <script type=\"text/javascript\">                                    window.PLOTLYENV=window.PLOTLYENV || {};                                    if (document.getElementById(\"ccfe0826-eb3a-4b89-b2c9-8ee7f4be90a1\")) {                    Plotly.newPlot(                        \"ccfe0826-eb3a-4b89-b2c9-8ee7f4be90a1\",                        [{\"line\":{\"color\":\"rgb(93, 164, 214)\",\"width\":4},\"name\":\"all\",\"x\":[0.9,0.905,0.91,0.915,0.92,0.925,0.93,0.935,0.9400000000000001,0.9450000000000001,0.95,0.9550000000000001,0.96,0.965,0.97,0.975,0.98,0.985,0.99,0.995,1.0,1.005,1.01,1.015,1.02,1.025,1.03,1.035,1.04,1.045,1.05,1.055,1.06,1.065,1.07,1.075,1.08,1.085,1.09,1.095,1.1,1.105,1.1099999999999999,1.115,1.12,1.125,1.13,1.135,1.14,1.145,1.15,1.155,1.16,1.165,1.17,1.175,1.18,1.185,1.19,1.1949999999999998,1.2,1.205,1.21,1.2149999999999999,1.22,1.225,1.23,1.2349999999999999,1.24,1.245,1.25,1.255,1.26,1.265,1.27,1.275,1.28,1.285,1.29,1.295,1.2999999999999998,1.305,1.31,1.315,1.3199999999999998,1.325,1.33,1.335,1.3399999999999999,1.345,1.35,1.355,1.3599999999999999,1.365,1.3699999999999999,1.375,1.38,1.385,1.39,1.395,1.4],\"y\":[-14941.110597014167,-14941.110597014167,-14941.110597014167,-14940.625469880191,-14901.036488390351,-14765.667368658025,-14464.596411828385,-13904.481237057362,-13272.576873081467,-12399.99537338233,-11493.511054760334,-10474.522685759866,-9241.692656977715,-8135.37059769455,-7179.673967414029,-6248.786115388673,-5337.607183385245,-4483.450283020184,-3816.1969243532485,-3141.249200953943,-2730.990962802252,-2208.320891845897,-1799.22803854421,-1252.406143392107,-811.4433118462289,-342.0575724131007,-171.696432395415,121.10963317748882,335.90800630450366,528.3428185752957,729.2016039917747,801.4011551569931,816.5077520794425,878.6195435612624,1065.9890689671072,1136.8143947828119,1215.3869119389874,1299.0519255404647,1293.4728282566862,1347.8503696566863,1318.2439693488627,1418.3759028574327,1342.0083292413249,1407.3429959369282,1396.8832513047864,1445.3619575103628,1453.1983064368892,1467.0100103231607,1415.8407453565733,1374.7793740776106,1396.965131456576,1429.7141198912707,1445.4794215562436,1390.731832534743,1388.2600558448592,1367.8137768351216,1405.3076072224744,1378.864818162375,1308.6982312103335,1274.5046050614637,1259.9394862980146,1235.8364529729345,1243.8698707087901,1223.2980226043878,1184.495298723292,1150.231922228127,1127.3249176136094,1075.336455649149,1048.8614128960446,1038.627337403006,998.6233201108549,983.0224949211222,954.5336368447106,925.3671825233249,902.6756529230744,883.1299415460257,877.0977313302067,856.9038868073833,829.3369849863685,821.1626499520657,808.1911355032521,788.953457353736,764.559867117483,740.7633625735352,717.5092802764242,703.4849075064573,675.3323509535796,663.5979456817158,668.1768677645318,648.3447257016647,635.7570765963482,627.2396278465621,607.3969703471741,610.5603978354784,606.3230991730563,598.5506928387417,587.7585461214765,578.8259679661894,574.6384138739452,565.0213822217931,552.4521790134902],\"type\":\"scatter\",\"xaxis\":\"x\",\"yaxis\":\"y\"},{\"line\":{\"color\":\"rgb(255, 144, 14)\",\"width\":1},\"name\":\"home\",\"x\":[0.9,0.905,0.91,0.915,0.92,0.925,0.93,0.935,0.9400000000000001,0.9450000000000001,0.95,0.9550000000000001,0.96,0.965,0.97,0.975,0.98,0.985,0.99,0.995,1.0,1.005,1.01,1.015,1.02,1.025,1.03,1.035,1.04,1.045,1.05,1.055,1.06,1.065,1.07,1.075,1.08,1.085,1.09,1.095,1.1,1.105,1.1099999999999999,1.115,1.12,1.125,1.13,1.135,1.14,1.145,1.15,1.155,1.16,1.165,1.17,1.175,1.18,1.185,1.19,1.1949999999999998,1.2,1.205,1.21,1.2149999999999999,1.22,1.225,1.23,1.2349999999999999,1.24,1.245,1.25,1.255,1.26,1.265,1.27,1.275,1.28,1.285,1.29,1.295,1.2999999999999998,1.305,1.31,1.315,1.3199999999999998,1.325,1.33,1.335,1.3399999999999999,1.345,1.35,1.355,1.3599999999999999,1.365,1.3699999999999999,1.375,1.38,1.385,1.39,1.395,1.4],\"y\":[-7965.303547945192,-7965.303547945192,-7965.303547945192,-7964.799541799685,-7932.578280819127,-7866.616103688316,-7689.069815295128,-7375.140151014086,-6921.155041607149,-6387.876306634662,-5780.849713710113,-5146.071884305869,-4394.035474949039,-3740.4503536483976,-3234.4616960973017,-2664.0754852809578,-2192.257989077424,-1815.277888847114,-1501.3809776066253,-1159.8944610795086,-941.8697282743849,-608.1718528932117,-418.78825395130093,-125.9339589043517,27.84396043748444,251.38157793245048,374.6132437117087,491.90281455622824,604.8286293483291,667.7425273700469,731.1698986577354,798.0869130185852,772.9509556441229,826.2083803820483,862.1304225549663,840.1445422293754,814.6197826099863,842.1578091232929,852.1823034881814,812.5479386679579,797.4250858093402,837.405721836968,833.9728160346519,845.0280013768786,813.8222336805935,814.3710381477063,836.9482006161119,850.4260856960393,842.7714606732659,849.6349441276286,846.2137971806167,839.3328824072224,842.5690715779675,826.1354475069616,806.4643626007849,795.0434290485412,787.327434079356,766.9691422813212,732.8180242751716,690.0752465555477,662.1984612607937,637.3704728364014,647.8105442034737,623.7245031401767,593.5192228736041,564.13724672797,541.1389304447389,525.7086007843407,501.21412529084625,497.4392227094487,464.8514982625885,463.6653008316113,450.86255944199297,434.54091066326754,428.76797456358173,422.76745382036063,436.98935447474616,420.7921355299479,401.39398104401096,387.41751705706895,375.1909373322193,353.9044691517789,344.44706743178597,322.481029651718,316.27452103589957,308.3817899974397,282.3267698892827,285.91428785610856,276.1717222114615,273.76360146027275,265.56212291348936,254.59414575617336,252.1122841841709,255.372709971327,248.4068347312645,247.52098745362406,243.91459620895506,240.81609452837847,232.444489228735,228.2794715697414,221.90459268286372],\"type\":\"scatter\",\"xaxis\":\"x\",\"yaxis\":\"y\"},{\"line\":{\"color\":\"rgb(44, 160, 101)\",\"width\":1},\"name\":\"draw\",\"x\":[0.9,0.905,0.91,0.915,0.92,0.925,0.93,0.935,0.9400000000000001,0.9450000000000001,0.95,0.9550000000000001,0.96,0.965,0.97,0.975,0.98,0.985,0.99,0.995,1.0,1.005,1.01,1.015,1.02,1.025,1.03,1.035,1.04,1.045,1.05,1.055,1.06,1.065,1.07,1.075,1.08,1.085,1.09,1.095,1.1,1.105,1.1099999999999999,1.115,1.12,1.125,1.13,1.135,1.14,1.145,1.15,1.155,1.16,1.165,1.17,1.175,1.18,1.185,1.19,1.1949999999999998,1.2,1.205,1.21,1.2149999999999999,1.22,1.225,1.23,1.2349999999999999,1.24,1.245,1.25,1.255,1.26,1.265,1.27,1.275,1.28,1.285,1.29,1.295,1.2999999999999998,1.305,1.31,1.315,1.3199999999999998,1.325,1.33,1.335,1.3399999999999999,1.345,1.35,1.355,1.3599999999999999,1.365,1.3699999999999999,1.375,1.38,1.385,1.39,1.395,1.4],\"y\":[-1668.9133273428868,-1668.9133273428868,-1668.9133273428868,-1668.370340917547,-1664.749950016485,-1649.0182821403214,-1608.0576399669271,-1539.5699099890458,-1565.7169329944443,-1583.3238040118156,-1564.646057479712,-1514.8551537909802,-1417.4059235552536,-1336.9789057993326,-1250.84839518893,-1255.2481073198442,-1154.491575388691,-1036.2145300014533,-988.062422424796,-910.6740005782194,-967.4572838709726,-925.7640053953131,-913.0476509702163,-800.3165168338401,-667.7553163669548,-530.354026217534,-507.7688314779159,-419.11322488133885,-386.100676443196,-311.68646840569033,-232.36963692137476,-215.65551232942116,-211.2429543334646,-186.74395795798208,-86.1110749250546,-18.595914969947202,50.05040878308512,31.895698662357503,38.04909571033751,86.83348108965767,61.612811114877545,63.91805467322705,15.314325794733705,17.61521637463845,19.892187663821502,43.104148853409214,39.701804823147825,54.85017141434995,36.55182910859487,6.73056930494095,11.65714318861524,42.57868879378819,67.32931994529496,64.29586548636738,94.2180954170882,99.93075169629168,117.36272763161965,113.97884742919673,101.56144624403791,91.76413422600285,86.13786872235265,71.16737385676642,48.71774331809418,49.66638928879807,39.37325065333843,43.046831257733785,42.25594401767257,29.727856241240772,36.10993918908253,40.88297676271779,36.885053272283734,37.37628381196252,36.496230153311785,33.227657923725374,28.520318516352184,27.810786719211798,18.891991820493523,12.131069401536898,12.575351393716325,13.101867148842544,12.329763309383125,15.847924660362985,14.270682138454006,15.516653237158685,16.512470260024152,17.272016199901543,17.001119643962802,13.598247319699851,14.284435334720278,12.43630610985982,12.219330419045704,13.779187300579316,10.672475864289815,15.087944969659844,19.03110402791664,16.191205766976452,13.941507959752165,14.303396553064758,16.8825921328526,17.0086050140602,18.53753395534646],\"type\":\"scatter\",\"xaxis\":\"x\",\"yaxis\":\"y\"},{\"line\":{\"color\":\"rgb(255, 65, 54)\",\"width\":1},\"name\":\"away\",\"x\":[0.9,0.905,0.91,0.915,0.92,0.925,0.93,0.935,0.9400000000000001,0.9450000000000001,0.95,0.9550000000000001,0.96,0.965,0.97,0.975,0.98,0.985,0.99,0.995,1.0,1.005,1.01,1.015,1.02,1.025,1.03,1.035,1.04,1.045,1.05,1.055,1.06,1.065,1.07,1.075,1.08,1.085,1.09,1.095,1.1,1.105,1.1099999999999999,1.115,1.12,1.125,1.13,1.135,1.14,1.145,1.15,1.155,1.16,1.165,1.17,1.175,1.18,1.185,1.19,1.1949999999999998,1.2,1.205,1.21,1.2149999999999999,1.22,1.225,1.23,1.2349999999999999,1.24,1.245,1.25,1.255,1.26,1.265,1.27,1.275,1.28,1.285,1.29,1.295,1.2999999999999998,1.305,1.31,1.315,1.3199999999999998,1.325,1.33,1.335,1.3399999999999999,1.345,1.35,1.355,1.3599999999999999,1.365,1.3699999999999999,1.375,1.38,1.385,1.39,1.395,1.4],\"y\":[-5306.893721726091,-5306.893721726091,-5306.893721726091,-5307.455587162956,-5303.708257554737,-5250.032982829385,-5167.4689565663275,-4989.771176054223,-4785.704898479873,-4428.795262735853,-4148.0152835705085,-3813.595647663021,-3430.25125847342,-3057.941338246821,-2694.3638761277944,-2329.462522787874,-1990.8576189191297,-1631.9578641716175,-1326.7535243218279,-1070.6807392962137,-821.6639506568943,-674.3850335573719,-467.3921336226942,-326.15566765391515,-171.53195591675816,-63.085124128017576,-38.540844629207754,48.3200435026001,117.18005339937048,172.2867596109391,230.40134225541357,218.96975446782903,254.79975076878435,239.15512113719635,289.96972133719567,315.2657675233841,350.716720545916,424.99841775481457,403.2414290581673,448.4689498990708,459.20607242464484,517.0521263472376,492.72118741193935,544.6997781854112,563.1688299603719,587.8867705092474,576.548300997629,561.7337532127715,536.5174555747121,518.4138606450408,539.0941910873439,547.8025486902598,535.581030032981,500.30051954141425,487.5775978269863,472.83959609028915,500.6174455114988,497.91682845185704,474.31876069112406,492.66522427991333,511.60315631486867,527.2986062797668,547.3415831872226,549.9071301754128,551.6028251963496,543.0478442424233,543.9300431511979,519.8999986235677,511.5373484161159,500.3051379308396,496.8867685759826,481.9809102775481,467.1748472494062,457.5986139363321,445.3873598431406,432.55170100645324,421.21638503496695,423.9806818758986,415.3676525486413,420.6432657461544,420.67043486164954,419.20106354159407,405.842117547243,402.76567968465844,384.7222889805005,377.8311013091161,376.0044614203341,364.0854105059074,377.72071021834984,362.14481813153225,357.97562326381313,358.8662947898095,344.6122102987134,340.09974289449156,338.8851604138752,334.8384996181412,329.90244195276915,323.70647688474617,325.3113325123576,319.73330563799163,312.01005237528005],\"type\":\"scatter\",\"xaxis\":\"x\",\"yaxis\":\"y\"},{\"line\":{\"color\":\"rgb(93, 164, 214)\",\"width\":4},\"name\":\"all\",\"x\":[0.9,0.905,0.91,0.915,0.92,0.925,0.93,0.935,0.9400000000000001,0.9450000000000001,0.95,0.9550000000000001,0.96,0.965,0.97,0.975,0.98,0.985,0.99,0.995,1.0,1.005,1.01,1.015,1.02,1.025,1.03,1.035,1.04,1.045,1.05,1.055,1.06,1.065,1.07,1.075,1.08,1.085,1.09,1.095,1.1,1.105,1.1099999999999999,1.115,1.12,1.125,1.13,1.135,1.14,1.145,1.15,1.155,1.16,1.165,1.17,1.175,1.18,1.185,1.19,1.1949999999999998,1.2,1.205,1.21,1.2149999999999999,1.22,1.225,1.23,1.2349999999999999,1.24,1.245,1.25,1.255,1.26,1.265,1.27,1.275,1.28,1.285,1.29,1.295,1.2999999999999998,1.305,1.31,1.315,1.3199999999999998,1.325,1.33,1.335,1.3399999999999999,1.345,1.35,1.355,1.3599999999999999,1.365,1.3699999999999999,1.375,1.38,1.385,1.39,1.395,1.4],\"y\":[-14941.110597014167,-14941.110597014167,-14941.110597014167,-14940.625469880191,-14901.036488390351,-14765.667368658025,-14464.596411828385,-13904.481237057362,-13272.576873081467,-12399.99537338233,-11493.511054760334,-10474.522685759866,-9241.692656977715,-8135.37059769455,-7179.673967414029,-6248.786115388673,-5337.607183385245,-4483.450283020184,-3816.1969243532485,-3141.249200953943,-2730.990962802252,-2208.320891845897,-1799.22803854421,-1252.406143392107,-811.4433118462289,-342.0575724131007,-171.696432395415,121.10963317748882,335.90800630450366,528.3428185752957,729.2016039917747,801.4011551569931,816.5077520794425,878.6195435612624,1065.9890689671072,1136.8143947828119,1215.3869119389874,1299.0519255404647,1293.4728282566862,1347.8503696566863,1318.2439693488627,1418.3759028574327,1342.0083292413249,1407.3429959369282,1396.8832513047864,1445.3619575103628,1453.1983064368892,1467.0100103231607,1415.8407453565733,1374.7793740776106,1396.965131456576,1429.7141198912707,1445.4794215562436,1390.731832534743,1388.2600558448592,1367.8137768351216,1405.3076072224744,1378.864818162375,1308.6982312103335,1274.5046050614637,1259.9394862980146,1235.8364529729345,1243.8698707087901,1223.2980226043878,1184.495298723292,1150.231922228127,1127.3249176136094,1075.336455649149,1048.8614128960446,1038.627337403006,998.6233201108549,983.0224949211222,954.5336368447106,925.3671825233249,902.6756529230744,883.1299415460257,877.0977313302067,856.9038868073833,829.3369849863685,821.1626499520657,808.1911355032521,788.953457353736,764.559867117483,740.7633625735352,717.5092802764242,703.4849075064573,675.3323509535796,663.5979456817158,668.1768677645318,648.3447257016647,635.7570765963482,627.2396278465621,607.3969703471741,610.5603978354784,606.3230991730563,598.5506928387417,587.7585461214765,578.8259679661894,574.6384138739452,565.0213822217931,552.4521790134902],\"type\":\"scatter\",\"xaxis\":\"x2\",\"yaxis\":\"y2\"},{\"line\":{\"color\":\"rgb(255, 144, 14)\",\"width\":1},\"name\":\"home\",\"x\":[0.9,0.905,0.91,0.915,0.92,0.925,0.93,0.935,0.9400000000000001,0.9450000000000001,0.95,0.9550000000000001,0.96,0.965,0.97,0.975,0.98,0.985,0.99,0.995,1.0,1.005,1.01,1.015,1.02,1.025,1.03,1.035,1.04,1.045,1.05,1.055,1.06,1.065,1.07,1.075,1.08,1.085,1.09,1.095,1.1,1.105,1.1099999999999999,1.115,1.12,1.125,1.13,1.135,1.14,1.145,1.15,1.155,1.16,1.165,1.17,1.175,1.18,1.185,1.19,1.1949999999999998,1.2,1.205,1.21,1.2149999999999999,1.22,1.225,1.23,1.2349999999999999,1.24,1.245,1.25,1.255,1.26,1.265,1.27,1.275,1.28,1.285,1.29,1.295,1.2999999999999998,1.305,1.31,1.315,1.3199999999999998,1.325,1.33,1.335,1.3399999999999999,1.345,1.35,1.355,1.3599999999999999,1.365,1.3699999999999999,1.375,1.38,1.385,1.39,1.395,1.4],\"y\":[-7965.303547945192,-7965.303547945192,-7965.303547945192,-7964.799541799685,-7932.578280819127,-7866.616103688316,-7689.069815295128,-7375.140151014086,-6921.155041607149,-6387.876306634662,-5780.849713710113,-5146.071884305869,-4394.035474949039,-3740.4503536483976,-3234.4616960973017,-2664.0754852809578,-2192.257989077424,-1815.277888847114,-1501.3809776066253,-1159.8944610795086,-941.8697282743849,-608.1718528932117,-418.78825395130093,-125.9339589043517,27.84396043748444,251.38157793245048,374.6132437117087,491.90281455622824,604.8286293483291,667.7425273700469,731.1698986577354,798.0869130185852,772.9509556441229,826.2083803820483,862.1304225549663,840.1445422293754,814.6197826099863,842.1578091232929,852.1823034881814,812.5479386679579,797.4250858093402,837.405721836968,833.9728160346519,845.0280013768786,813.8222336805935,814.3710381477063,836.9482006161119,850.4260856960393,842.7714606732659,849.6349441276286,846.2137971806167,839.3328824072224,842.5690715779675,826.1354475069616,806.4643626007849,795.0434290485412,787.327434079356,766.9691422813212,732.8180242751716,690.0752465555477,662.1984612607937,637.3704728364014,647.8105442034737,623.7245031401767,593.5192228736041,564.13724672797,541.1389304447389,525.7086007843407,501.21412529084625,497.4392227094487,464.8514982625885,463.6653008316113,450.86255944199297,434.54091066326754,428.76797456358173,422.76745382036063,436.98935447474616,420.7921355299479,401.39398104401096,387.41751705706895,375.1909373322193,353.9044691517789,344.44706743178597,322.481029651718,316.27452103589957,308.3817899974397,282.3267698892827,285.91428785610856,276.1717222114615,273.76360146027275,265.56212291348936,254.59414575617336,252.1122841841709,255.372709971327,248.4068347312645,247.52098745362406,243.91459620895506,240.81609452837847,232.444489228735,228.2794715697414,221.90459268286372],\"type\":\"scatter\",\"xaxis\":\"x2\",\"yaxis\":\"y2\"},{\"line\":{\"color\":\"rgb(44, 160, 101)\",\"width\":1},\"name\":\"draw\",\"x\":[0.9,0.905,0.91,0.915,0.92,0.925,0.93,0.935,0.9400000000000001,0.9450000000000001,0.95,0.9550000000000001,0.96,0.965,0.97,0.975,0.98,0.985,0.99,0.995,1.0,1.005,1.01,1.015,1.02,1.025,1.03,1.035,1.04,1.045,1.05,1.055,1.06,1.065,1.07,1.075,1.08,1.085,1.09,1.095,1.1,1.105,1.1099999999999999,1.115,1.12,1.125,1.13,1.135,1.14,1.145,1.15,1.155,1.16,1.165,1.17,1.175,1.18,1.185,1.19,1.1949999999999998,1.2,1.205,1.21,1.2149999999999999,1.22,1.225,1.23,1.2349999999999999,1.24,1.245,1.25,1.255,1.26,1.265,1.27,1.275,1.28,1.285,1.29,1.295,1.2999999999999998,1.305,1.31,1.315,1.3199999999999998,1.325,1.33,1.335,1.3399999999999999,1.345,1.35,1.355,1.3599999999999999,1.365,1.3699999999999999,1.375,1.38,1.385,1.39,1.395,1.4],\"y\":[-1668.9133273428868,-1668.9133273428868,-1668.9133273428868,-1668.370340917547,-1664.749950016485,-1649.0182821403214,-1608.0576399669271,-1539.5699099890458,-1565.7169329944443,-1583.3238040118156,-1564.646057479712,-1514.8551537909802,-1417.4059235552536,-1336.9789057993326,-1250.84839518893,-1255.2481073198442,-1154.491575388691,-1036.2145300014533,-988.062422424796,-910.6740005782194,-967.4572838709726,-925.7640053953131,-913.0476509702163,-800.3165168338401,-667.7553163669548,-530.354026217534,-507.7688314779159,-419.11322488133885,-386.100676443196,-311.68646840569033,-232.36963692137476,-215.65551232942116,-211.2429543334646,-186.74395795798208,-86.1110749250546,-18.595914969947202,50.05040878308512,31.895698662357503,38.04909571033751,86.83348108965767,61.612811114877545,63.91805467322705,15.314325794733705,17.61521637463845,19.892187663821502,43.104148853409214,39.701804823147825,54.85017141434995,36.55182910859487,6.73056930494095,11.65714318861524,42.57868879378819,67.32931994529496,64.29586548636738,94.2180954170882,99.93075169629168,117.36272763161965,113.97884742919673,101.56144624403791,91.76413422600285,86.13786872235265,71.16737385676642,48.71774331809418,49.66638928879807,39.37325065333843,43.046831257733785,42.25594401767257,29.727856241240772,36.10993918908253,40.88297676271779,36.885053272283734,37.37628381196252,36.496230153311785,33.227657923725374,28.520318516352184,27.810786719211798,18.891991820493523,12.131069401536898,12.575351393716325,13.101867148842544,12.329763309383125,15.847924660362985,14.270682138454006,15.516653237158685,16.512470260024152,17.272016199901543,17.001119643962802,13.598247319699851,14.284435334720278,12.43630610985982,12.219330419045704,13.779187300579316,10.672475864289815,15.087944969659844,19.03110402791664,16.191205766976452,13.941507959752165,14.303396553064758,16.8825921328526,17.0086050140602,18.53753395534646],\"type\":\"scatter\",\"xaxis\":\"x2\",\"yaxis\":\"y2\"},{\"line\":{\"color\":\"rgb(255, 65, 54)\",\"width\":1},\"name\":\"away\",\"x\":[0.9,0.905,0.91,0.915,0.92,0.925,0.93,0.935,0.9400000000000001,0.9450000000000001,0.95,0.9550000000000001,0.96,0.965,0.97,0.975,0.98,0.985,0.99,0.995,1.0,1.005,1.01,1.015,1.02,1.025,1.03,1.035,1.04,1.045,1.05,1.055,1.06,1.065,1.07,1.075,1.08,1.085,1.09,1.095,1.1,1.105,1.1099999999999999,1.115,1.12,1.125,1.13,1.135,1.14,1.145,1.15,1.155,1.16,1.165,1.17,1.175,1.18,1.185,1.19,1.1949999999999998,1.2,1.205,1.21,1.2149999999999999,1.22,1.225,1.23,1.2349999999999999,1.24,1.245,1.25,1.255,1.26,1.265,1.27,1.275,1.28,1.285,1.29,1.295,1.2999999999999998,1.305,1.31,1.315,1.3199999999999998,1.325,1.33,1.335,1.3399999999999999,1.345,1.35,1.355,1.3599999999999999,1.365,1.3699999999999999,1.375,1.38,1.385,1.39,1.395,1.4],\"y\":[-5306.893721726091,-5306.893721726091,-5306.893721726091,-5307.455587162956,-5303.708257554737,-5250.032982829385,-5167.4689565663275,-4989.771176054223,-4785.704898479873,-4428.795262735853,-4148.0152835705085,-3813.595647663021,-3430.25125847342,-3057.941338246821,-2694.3638761277944,-2329.462522787874,-1990.8576189191297,-1631.9578641716175,-1326.7535243218279,-1070.6807392962137,-821.6639506568943,-674.3850335573719,-467.3921336226942,-326.15566765391515,-171.53195591675816,-63.085124128017576,-38.540844629207754,48.3200435026001,117.18005339937048,172.2867596109391,230.40134225541357,218.96975446782903,254.79975076878435,239.15512113719635,289.96972133719567,315.2657675233841,350.716720545916,424.99841775481457,403.2414290581673,448.4689498990708,459.20607242464484,517.0521263472376,492.72118741193935,544.6997781854112,563.1688299603719,587.8867705092474,576.548300997629,561.7337532127715,536.5174555747121,518.4138606450408,539.0941910873439,547.8025486902598,535.581030032981,500.30051954141425,487.5775978269863,472.83959609028915,500.6174455114988,497.91682845185704,474.31876069112406,492.66522427991333,511.60315631486867,527.2986062797668,547.3415831872226,549.9071301754128,551.6028251963496,543.0478442424233,543.9300431511979,519.8999986235677,511.5373484161159,500.3051379308396,496.8867685759826,481.9809102775481,467.1748472494062,457.5986139363321,445.3873598431406,432.55170100645324,421.21638503496695,423.9806818758986,415.3676525486413,420.6432657461544,420.67043486164954,419.20106354159407,405.842117547243,402.76567968465844,384.7222889805005,377.8311013091161,376.0044614203341,364.0854105059074,377.72071021834984,362.14481813153225,357.97562326381313,358.8662947898095,344.6122102987134,340.09974289449156,338.8851604138752,334.8384996181412,329.90244195276915,323.70647688474617,325.3113325123576,319.73330563799163,312.01005237528005],\"type\":\"scatter\",\"xaxis\":\"x2\",\"yaxis\":\"y2\"},{\"line\":{\"color\":\"rgb(93, 164, 214)\",\"width\":4},\"name\":\"all\",\"x\":[0.9,0.905,0.91,0.915,0.92,0.925,0.93,0.935,0.9400000000000001,0.9450000000000001,0.95,0.9550000000000001,0.96,0.965,0.97,0.975,0.98,0.985,0.99,0.995,1.0,1.005,1.01,1.015,1.02,1.025,1.03,1.035,1.04,1.045,1.05,1.055,1.06,1.065,1.07,1.075,1.08,1.085,1.09,1.095,1.1,1.105,1.1099999999999999,1.115,1.12,1.125,1.13,1.135,1.14,1.145,1.15,1.155,1.16,1.165,1.17,1.175,1.18,1.185,1.19,1.1949999999999998,1.2,1.205,1.21,1.2149999999999999,1.22,1.225,1.23,1.2349999999999999,1.24,1.245,1.25,1.255,1.26,1.265,1.27,1.275,1.28,1.285,1.29,1.295,1.2999999999999998,1.305,1.31,1.315,1.3199999999999998,1.325,1.33,1.335,1.3399999999999999,1.345,1.35,1.355,1.3599999999999999,1.365,1.3699999999999999,1.375,1.38,1.385,1.39,1.395,1.4],\"y\":[-24826.566441670722,-24826.566441670722,-24826.566441670722,-24828.72203588488,-24683.517222000813,-24242.574892845067,-23243.822864268794,-21584.8305359599,-19241.87974188477,-16194.446943074976,-12827.46552001131,-9490.028145657194,-6129.690241246756,-2801.4308618558994,125.90602145436247,2997.2411274494507,5490.190702387252,7764.304762911834,9509.174149645265,11287.661478919395,12503.809657859068,13584.30780846,14389.091631002108,15035.551243479287,15771.63539515646,16168.197789302718,16450.57313728466,16793.7655596885,16817.122781870716,16838.92833235036,16696.095237327692,16532.273513114174,16425.293747499745,16268.563446578277,15858.7946925884,15538.936652309076,15442.08516141787,15029.835626883778,14501.741476181014,14346.823709024471,14094.515641412665,13768.908527599177,13492.360677647188,13246.012349174169,12959.509707430354,12603.816335199292,12325.080642756378,11947.441631356303,11732.69021804937,11476.45470372612,11338.805248088465,10997.420983273974,10709.983054790915,10458.384393567309,10203.588086450356,9955.531361927799,9657.646410304142,9452.733254622442,9180.68193207523,8921.01458706825,8765.192059257104,8501.066798134443,8255.293824982697,8137.394468909802,7880.12688308026,7717.806249402209,7534.966294439835,7368.783476420499,7175.779836099097,7049.56580071732,6894.976528803497,6799.973774503309,6606.965529151905,6420.639296044285,6318.6437926782155,6200.449977281964,6064.43561456789,5945.7418704442525,5844.996584285269,5700.544563137675,5559.464460327975,5407.214676555534,5274.389686036428,5133.356730021055,5008.244362075169,4860.775236781074,4770.725318017983,4671.055058989944,4556.095941782523,4459.097609387926,4318.767440301175,4197.100504771196,4119.020318042325,3996.935923540545,3889.532981990642,3841.4813545523816,3730.4676229082706,3649.5028314571073,3574.048431218891,3537.4174302150514,3475.2366410903396],\"type\":\"scatter\",\"xaxis\":\"x3\",\"yaxis\":\"y3\"},{\"line\":{\"color\":\"rgb(255, 144, 14)\",\"width\":1},\"name\":\"home\",\"x\":[0.9,0.905,0.91,0.915,0.92,0.925,0.93,0.935,0.9400000000000001,0.9450000000000001,0.95,0.9550000000000001,0.96,0.965,0.97,0.975,0.98,0.985,0.99,0.995,1.0,1.005,1.01,1.015,1.02,1.025,1.03,1.035,1.04,1.045,1.05,1.055,1.06,1.065,1.07,1.075,1.08,1.085,1.09,1.095,1.1,1.105,1.1099999999999999,1.115,1.12,1.125,1.13,1.135,1.14,1.145,1.15,1.155,1.16,1.165,1.17,1.175,1.18,1.185,1.19,1.1949999999999998,1.2,1.205,1.21,1.2149999999999999,1.22,1.225,1.23,1.2349999999999999,1.24,1.245,1.25,1.255,1.26,1.265,1.27,1.275,1.28,1.285,1.29,1.295,1.2999999999999998,1.305,1.31,1.315,1.3199999999999998,1.325,1.33,1.335,1.3399999999999999,1.345,1.35,1.355,1.3599999999999999,1.365,1.3699999999999999,1.375,1.38,1.385,1.39,1.395,1.4],\"y\":[-10997.813811642765,-10997.813811642765,-10997.813811642765,-10996.466600952766,-10905.367770178244,-10611.5355453839,-10066.560355706393,-9248.048442857902,-7883.297310102756,-6218.521692265038,-4246.028547557132,-2449.0938101008405,-662.5971530644308,982.0441538608911,2553.9346540525385,3959.4486203565934,5255.2670298905305,6568.091263574897,7461.0573413878765,8268.186081312102,8796.127780709368,9224.6922939234,9473.991104448623,9634.237847169876,9770.719061319533,9788.312720320653,9666.339893746737,9671.531676722514,9543.692901669323,9568.31791550248,9467.478852094819,9348.662039534882,9212.299232859898,9041.91062797912,8859.89523879613,8571.360560453006,8433.623830202578,8215.627925753693,7964.86013777523,7830.280136080735,7573.547835895909,7398.856755304642,7202.013430131439,7019.099643244251,6799.632363331954,6609.9396473495835,6432.7014409267995,6200.796784402248,6102.060633514164,6016.7086407663,5902.492375542287,5725.064250264365,5576.812110778456,5450.798108231665,5289.093394325698,5173.454384613313,5034.130082009988,5012.422479553081,4892.550801398208,4746.778816006488,4679.624011909796,4550.39759791668,4413.811540280574,4345.513013023962,4224.727122071483,4121.008243498123,4054.312215414617,3988.7012969529364,3873.741361466257,3795.6614581505746,3705.9039394244,3675.1855097043813,3585.3272643250484,3523.7968826343485,3463.916177783295,3404.451802690371,3362.785541654485,3320.6771092160093,3275.8255170761086,3213.6905518429126,3164.2522103285746,3116.0932665329406,3059.340457913509,3008.144588899102,2915.1973831332284,2849.6774787256863,2798.439767364312,2748.317007770271,2676.114846273713,2610.696835329273,2550.933831211531,2499.2670918403,2469.7808209822742,2395.504542113864,2340.808556081266,2304.1628739260723,2221.7787835872973,2167.469882395243,2111.6055075178538,2090.3177182635363,2048.4793139225085],\"type\":\"scatter\",\"xaxis\":\"x3\",\"yaxis\":\"y3\"},{\"line\":{\"color\":\"rgb(44, 160, 101)\",\"width\":1},\"name\":\"draw\",\"x\":[0.9,0.905,0.91,0.915,0.92,0.925,0.93,0.935,0.9400000000000001,0.9450000000000001,0.95,0.9550000000000001,0.96,0.965,0.97,0.975,0.98,0.985,0.99,0.995,1.0,1.005,1.01,1.015,1.02,1.025,1.03,1.035,1.04,1.045,1.05,1.055,1.06,1.065,1.07,1.075,1.08,1.085,1.09,1.095,1.1,1.105,1.1099999999999999,1.115,1.12,1.125,1.13,1.135,1.14,1.145,1.15,1.155,1.16,1.165,1.17,1.175,1.18,1.185,1.19,1.1949999999999998,1.2,1.205,1.21,1.2149999999999999,1.22,1.225,1.23,1.2349999999999999,1.24,1.245,1.25,1.255,1.26,1.265,1.27,1.275,1.28,1.285,1.29,1.295,1.2999999999999998,1.305,1.31,1.315,1.3199999999999998,1.325,1.33,1.335,1.3399999999999999,1.345,1.35,1.355,1.3599999999999999,1.365,1.3699999999999999,1.375,1.38,1.385,1.39,1.395,1.4],\"y\":[-2403.2698744901027,-2403.2698744901027,-2403.2698744901027,-2405.5419652077826,-2377.6895109335082,-2352.037905996715,-2248.6505813758695,-1955.8146409082863,-1741.3305401569614,-1294.3674894197056,-933.2072053677406,-379.26303273931876,69.01116768980827,554.0414913967916,920.1417792897529,1287.60471142052,1574.4700343445877,1869.570558372761,2187.0794253605623,2583.9940049085803,2864.3227899793733,3084.9545621585826,3286.054890012066,3564.008669123311,3857.0376362675192,4110.648389182345,4374.002070163637,4548.02011094097,4567.082049102937,4524.54541034578,4414.45479445654,4421.202173014124,4448.267497698093,4406.30444830393,4164.51496166786,4061.276102315829,4035.1918843021613,3865.7470209037597,3713.730011092351,3667.5349306795592,3663.251361662636,3566.502043115107,3487.208224948387,3333.8061298948714,3215.9425973055245,3068.723456687018,2988.9288818044074,2891.765776462515,2844.9226230507147,2735.518919558542,2708.36539538657,2597.6822119558283,2476.3427663392604,2368.830904961094,2318.59486549718,2209.8888077413108,2072.8469510514765,1960.1557371165868,1835.2399296258418,1751.8966955920714,1693.6661206104432,1609.4348682039054,1502.5289472344612,1447.0507758525523,1364.320467907671,1323.6202405224844,1276.2630258505865,1219.2099030894165,1189.2896917667376,1154.734083635279,1126.1100758519674,1097.0165147120974,1055.9521573746267,1017.9542184454116,1007.381581935322,997.9623839061646,954.3363900912636,925.3029256476237,911.3479686767784,870.0376079267457,856.1207182305126,828.4310221334032,812.9405109987798,797.5221179737978,793.1257897542596,787.0909449026647,777.5833388278862,768.8416295518946,766.6961757811008,749.6560752677344,742.373872664147,721.1661822691294,700.7625996948535,677.1721810761853,675.4677960680071,670.988548304488,662.3364369810947,664.5094887492454,664.9946643505634,662.9363852317381,657.410684208447],\"type\":\"scatter\",\"xaxis\":\"x3\",\"yaxis\":\"y3\"},{\"line\":{\"color\":\"rgb(255, 65, 54)\",\"width\":1},\"name\":\"away\",\"x\":[0.9,0.905,0.91,0.915,0.92,0.925,0.93,0.935,0.9400000000000001,0.9450000000000001,0.95,0.9550000000000001,0.96,0.965,0.97,0.975,0.98,0.985,0.99,0.995,1.0,1.005,1.01,1.015,1.02,1.025,1.03,1.035,1.04,1.045,1.05,1.055,1.06,1.065,1.07,1.075,1.08,1.085,1.09,1.095,1.1,1.105,1.1099999999999999,1.115,1.12,1.125,1.13,1.135,1.14,1.145,1.15,1.155,1.16,1.165,1.17,1.175,1.18,1.185,1.19,1.1949999999999998,1.2,1.205,1.21,1.2149999999999999,1.22,1.225,1.23,1.2349999999999999,1.24,1.245,1.25,1.255,1.26,1.265,1.27,1.275,1.28,1.285,1.29,1.295,1.2999999999999998,1.305,1.31,1.315,1.3199999999999998,1.325,1.33,1.335,1.3399999999999999,1.345,1.35,1.355,1.3599999999999999,1.365,1.3699999999999999,1.375,1.38,1.385,1.39,1.395,1.4],\"y\":[-11425.482755537834,-11425.482755537834,-11425.482755537834,-11426.713469724318,-11400.459940889066,-11279.001441464445,-10928.611927186534,-10380.967452193734,-9617.251891625052,-8681.557761390246,-7648.229767086458,-6661.671302817036,-5536.104255872134,-4337.516507113583,-3348.1704118879306,-2249.812204327662,-1339.5463618478693,-673.3570590358277,-138.9626171031738,435.4813926987164,843.3590871703218,1274.660952378013,1629.0456365414095,1837.3047271860978,2143.8786975694006,2269.2366797997197,2410.2311733742968,2574.213772025019,2706.3478310984465,2746.0650065021036,2814.161590776327,2762.409300565172,2764.727016941763,2820.348370295229,2834.384492124408,2906.2999895402395,2973.2694469131297,2948.460680226329,2823.151327313429,2849.008642264176,2857.716443854115,2803.549729179429,2803.1390225673617,2893.1065760350457,2943.9347467928765,2925.1532311626843,2903.450320025176,2854.87907049154,2785.7069614844922,2724.2271434012773,2727.947477159607,2674.674521053778,2656.8281776731983,2638.755380374548,2595.8998266274784,2572.188169573173,2550.669377242676,2480.155037952775,2452.8912010511813,2422.339075469691,2391.9019267368662,2341.234332013855,2338.9533374676607,2344.830680033285,2291.0792931011056,2273.1777653816025,2204.3910531746305,2160.872276378148,2112.748782866103,2099.170258931466,2062.96251352713,2027.7717500868291,1965.6861074522317,1878.8881949645252,1847.3460329595982,1798.0357906854279,1747.313682822143,1699.7618355806185,1657.8230985323835,1616.8164033680166,1539.0915317688875,1462.6903878891899,1402.108717124139,1327.6900231481557,1299.9211891876803,1224.006813152724,1194.7022118257846,1153.8964216677778,1113.2849197277096,1098.7446987909195,1025.4597364254969,976.6672306617668,948.4768973651966,924.2592003504959,873.2566298413685,866.3299323218222,846.3524023398791,817.523460312619,797.4482593504738,784.163326719776,769.3466429593836],\"type\":\"scatter\",\"xaxis\":\"x3\",\"yaxis\":\"y3\"}],                        {\"template\":{\"data\":{\"histogram2dcontour\":[{\"type\":\"histogram2dcontour\",\"colorbar\":{\"outlinewidth\":0,\"ticks\":\"\"},\"colorscale\":[[0.0,\"#0d0887\"],[0.1111111111111111,\"#46039f\"],[0.2222222222222222,\"#7201a8\"],[0.3333333333333333,\"#9c179e\"],[0.4444444444444444,\"#bd3786\"],[0.5555555555555556,\"#d8576b\"],[0.6666666666666666,\"#ed7953\"],[0.7777777777777778,\"#fb9f3a\"],[0.8888888888888888,\"#fdca26\"],[1.0,\"#f0f921\"]]}],\"choropleth\":[{\"type\":\"choropleth\",\"colorbar\":{\"outlinewidth\":0,\"ticks\":\"\"}}],\"histogram2d\":[{\"type\":\"histogram2d\",\"colorbar\":{\"outlinewidth\":0,\"ticks\":\"\"},\"colorscale\":[[0.0,\"#0d0887\"],[0.1111111111111111,\"#46039f\"],[0.2222222222222222,\"#7201a8\"],[0.3333333333333333,\"#9c179e\"],[0.4444444444444444,\"#bd3786\"],[0.5555555555555556,\"#d8576b\"],[0.6666666666666666,\"#ed7953\"],[0.7777777777777778,\"#fb9f3a\"],[0.8888888888888888,\"#fdca26\"],[1.0,\"#f0f921\"]]}],\"heatmap\":[{\"type\":\"heatmap\",\"colorbar\":{\"outlinewidth\":0,\"ticks\":\"\"},\"colorscale\":[[0.0,\"#0d0887\"],[0.1111111111111111,\"#46039f\"],[0.2222222222222222,\"#7201a8\"],[0.3333333333333333,\"#9c179e\"],[0.4444444444444444,\"#bd3786\"],[0.5555555555555556,\"#d8576b\"],[0.6666666666666666,\"#ed7953\"],[0.7777777777777778,\"#fb9f3a\"],[0.8888888888888888,\"#fdca26\"],[1.0,\"#f0f921\"]]}],\"heatmapgl\":[{\"type\":\"heatmapgl\",\"colorbar\":{\"outlinewidth\":0,\"ticks\":\"\"},\"colorscale\":[[0.0,\"#0d0887\"],[0.1111111111111111,\"#46039f\"],[0.2222222222222222,\"#7201a8\"],[0.3333333333333333,\"#9c179e\"],[0.4444444444444444,\"#bd3786\"],[0.5555555555555556,\"#d8576b\"],[0.6666666666666666,\"#ed7953\"],[0.7777777777777778,\"#fb9f3a\"],[0.8888888888888888,\"#fdca26\"],[1.0,\"#f0f921\"]]}],\"contourcarpet\":[{\"type\":\"contourcarpet\",\"colorbar\":{\"outlinewidth\":0,\"ticks\":\"\"}}],\"contour\":[{\"type\":\"contour\",\"colorbar\":{\"outlinewidth\":0,\"ticks\":\"\"},\"colorscale\":[[0.0,\"#0d0887\"],[0.1111111111111111,\"#46039f\"],[0.2222222222222222,\"#7201a8\"],[0.3333333333333333,\"#9c179e\"],[0.4444444444444444,\"#bd3786\"],[0.5555555555555556,\"#d8576b\"],[0.6666666666666666,\"#ed7953\"],[0.7777777777777778,\"#fb9f3a\"],[0.8888888888888888,\"#fdca26\"],[1.0,\"#f0f921\"]]}],\"surface\":[{\"type\":\"surface\",\"colorbar\":{\"outlinewidth\":0,\"ticks\":\"\"},\"colorscale\":[[0.0,\"#0d0887\"],[0.1111111111111111,\"#46039f\"],[0.2222222222222222,\"#7201a8\"],[0.3333333333333333,\"#9c179e\"],[0.4444444444444444,\"#bd3786\"],[0.5555555555555556,\"#d8576b\"],[0.6666666666666666,\"#ed7953\"],[0.7777777777777778,\"#fb9f3a\"],[0.8888888888888888,\"#fdca26\"],[1.0,\"#f0f921\"]]}],\"mesh3d\":[{\"type\":\"mesh3d\",\"colorbar\":{\"outlinewidth\":0,\"ticks\":\"\"}}],\"scatter\":[{\"fillpattern\":{\"fillmode\":\"overlay\",\"size\":10,\"solidity\":0.2},\"type\":\"scatter\"}],\"parcoords\":[{\"type\":\"parcoords\",\"line\":{\"colorbar\":{\"outlinewidth\":0,\"ticks\":\"\"}}}],\"scatterpolargl\":[{\"type\":\"scatterpolargl\",\"marker\":{\"colorbar\":{\"outlinewidth\":0,\"ticks\":\"\"}}}],\"bar\":[{\"error_x\":{\"color\":\"#2a3f5f\"},\"error_y\":{\"color\":\"#2a3f5f\"},\"marker\":{\"line\":{\"color\":\"#E5ECF6\",\"width\":0.5},\"pattern\":{\"fillmode\":\"overlay\",\"size\":10,\"solidity\":0.2}},\"type\":\"bar\"}],\"scattergeo\":[{\"type\":\"scattergeo\",\"marker\":{\"colorbar\":{\"outlinewidth\":0,\"ticks\":\"\"}}}],\"scatterpolar\":[{\"type\":\"scatterpolar\",\"marker\":{\"colorbar\":{\"outlinewidth\":0,\"ticks\":\"\"}}}],\"histogram\":[{\"marker\":{\"pattern\":{\"fillmode\":\"overlay\",\"size\":10,\"solidity\":0.2}},\"type\":\"histogram\"}],\"scattergl\":[{\"type\":\"scattergl\",\"marker\":{\"colorbar\":{\"outlinewidth\":0,\"ticks\":\"\"}}}],\"scatter3d\":[{\"type\":\"scatter3d\",\"line\":{\"colorbar\":{\"outlinewidth\":0,\"ticks\":\"\"}},\"marker\":{\"colorbar\":{\"outlinewidth\":0,\"ticks\":\"\"}}}],\"scattermapbox\":[{\"type\":\"scattermapbox\",\"marker\":{\"colorbar\":{\"outlinewidth\":0,\"ticks\":\"\"}}}],\"scatterternary\":[{\"type\":\"scatterternary\",\"marker\":{\"colorbar\":{\"outlinewidth\":0,\"ticks\":\"\"}}}],\"scattercarpet\":[{\"type\":\"scattercarpet\",\"marker\":{\"colorbar\":{\"outlinewidth\":0,\"ticks\":\"\"}}}],\"carpet\":[{\"aaxis\":{\"endlinecolor\":\"#2a3f5f\",\"gridcolor\":\"white\",\"linecolor\":\"white\",\"minorgridcolor\":\"white\",\"startlinecolor\":\"#2a3f5f\"},\"baxis\":{\"endlinecolor\":\"#2a3f5f\",\"gridcolor\":\"white\",\"linecolor\":\"white\",\"minorgridcolor\":\"white\",\"startlinecolor\":\"#2a3f5f\"},\"type\":\"carpet\"}],\"table\":[{\"cells\":{\"fill\":{\"color\":\"#EBF0F8\"},\"line\":{\"color\":\"white\"}},\"header\":{\"fill\":{\"color\":\"#C8D4E3\"},\"line\":{\"color\":\"white\"}},\"type\":\"table\"}],\"barpolar\":[{\"marker\":{\"line\":{\"color\":\"#E5ECF6\",\"width\":0.5},\"pattern\":{\"fillmode\":\"overlay\",\"size\":10,\"solidity\":0.2}},\"type\":\"barpolar\"}],\"pie\":[{\"automargin\":true,\"type\":\"pie\"}]},\"layout\":{\"autotypenumbers\":\"strict\",\"colorway\":[\"#636efa\",\"#EF553B\",\"#00cc96\",\"#ab63fa\",\"#FFA15A\",\"#19d3f3\",\"#FF6692\",\"#B6E880\",\"#FF97FF\",\"#FECB52\"],\"font\":{\"color\":\"#2a3f5f\"},\"hovermode\":\"closest\",\"hoverlabel\":{\"align\":\"left\"},\"paper_bgcolor\":\"white\",\"plot_bgcolor\":\"#E5ECF6\",\"polar\":{\"bgcolor\":\"#E5ECF6\",\"angularaxis\":{\"gridcolor\":\"white\",\"linecolor\":\"white\",\"ticks\":\"\"},\"radialaxis\":{\"gridcolor\":\"white\",\"linecolor\":\"white\",\"ticks\":\"\"}},\"ternary\":{\"bgcolor\":\"#E5ECF6\",\"aaxis\":{\"gridcolor\":\"white\",\"linecolor\":\"white\",\"ticks\":\"\"},\"baxis\":{\"gridcolor\":\"white\",\"linecolor\":\"white\",\"ticks\":\"\"},\"caxis\":{\"gridcolor\":\"white\",\"linecolor\":\"white\",\"ticks\":\"\"}},\"coloraxis\":{\"colorbar\":{\"outlinewidth\":0,\"ticks\":\"\"}},\"colorscale\":{\"sequential\":[[0.0,\"#0d0887\"],[0.1111111111111111,\"#46039f\"],[0.2222222222222222,\"#7201a8\"],[0.3333333333333333,\"#9c179e\"],[0.4444444444444444,\"#bd3786\"],[0.5555555555555556,\"#d8576b\"],[0.6666666666666666,\"#ed7953\"],[0.7777777777777778,\"#fb9f3a\"],[0.8888888888888888,\"#fdca26\"],[1.0,\"#f0f921\"]],\"sequentialminus\":[[0.0,\"#0d0887\"],[0.1111111111111111,\"#46039f\"],[0.2222222222222222,\"#7201a8\"],[0.3333333333333333,\"#9c179e\"],[0.4444444444444444,\"#bd3786\"],[0.5555555555555556,\"#d8576b\"],[0.6666666666666666,\"#ed7953\"],[0.7777777777777778,\"#fb9f3a\"],[0.8888888888888888,\"#fdca26\"],[1.0,\"#f0f921\"]],\"diverging\":[[0,\"#8e0152\"],[0.1,\"#c51b7d\"],[0.2,\"#de77ae\"],[0.3,\"#f1b6da\"],[0.4,\"#fde0ef\"],[0.5,\"#f7f7f7\"],[0.6,\"#e6f5d0\"],[0.7,\"#b8e186\"],[0.8,\"#7fbc41\"],[0.9,\"#4d9221\"],[1,\"#276419\"]]},\"xaxis\":{\"gridcolor\":\"white\",\"linecolor\":\"white\",\"ticks\":\"\",\"title\":{\"standoff\":15},\"zerolinecolor\":\"white\",\"automargin\":true,\"zerolinewidth\":2},\"yaxis\":{\"gridcolor\":\"white\",\"linecolor\":\"white\",\"ticks\":\"\",\"title\":{\"standoff\":15},\"zerolinecolor\":\"white\",\"automargin\":true,\"zerolinewidth\":2},\"scene\":{\"xaxis\":{\"backgroundcolor\":\"#E5ECF6\",\"gridcolor\":\"white\",\"linecolor\":\"white\",\"showbackground\":true,\"ticks\":\"\",\"zerolinecolor\":\"white\",\"gridwidth\":2},\"yaxis\":{\"backgroundcolor\":\"#E5ECF6\",\"gridcolor\":\"white\",\"linecolor\":\"white\",\"showbackground\":true,\"ticks\":\"\",\"zerolinecolor\":\"white\",\"gridwidth\":2},\"zaxis\":{\"backgroundcolor\":\"#E5ECF6\",\"gridcolor\":\"white\",\"linecolor\":\"white\",\"showbackground\":true,\"ticks\":\"\",\"zerolinecolor\":\"white\",\"gridwidth\":2}},\"shapedefaults\":{\"line\":{\"color\":\"#2a3f5f\"}},\"annotationdefaults\":{\"arrowcolor\":\"#2a3f5f\",\"arrowhead\":0,\"arrowwidth\":1},\"geo\":{\"bgcolor\":\"white\",\"landcolor\":\"#E5ECF6\",\"subunitcolor\":\"white\",\"showland\":true,\"showlakes\":true,\"lakecolor\":\"white\"},\"title\":{\"x\":0.05},\"mapbox\":{\"style\":\"light\"}}},\"xaxis\":{\"anchor\":\"y\",\"domain\":[0.0,1.0],\"matches\":\"x3\",\"showticklabels\":false},\"yaxis\":{\"anchor\":\"x\",\"domain\":[0.68,1.0],\"rangemode\":\"nonnegative\"},\"xaxis2\":{\"anchor\":\"y2\",\"domain\":[0.0,1.0],\"matches\":\"x3\",\"showticklabels\":false},\"yaxis2\":{\"anchor\":\"x2\",\"domain\":[0.34,0.66],\"rangemode\":\"nonnegative\"},\"xaxis3\":{\"anchor\":\"y3\",\"domain\":[0.0,1.0]},\"yaxis3\":{\"anchor\":\"x3\",\"domain\":[0.0,0.32],\"rangemode\":\"nonnegative\"},\"annotations\":[{\"font\":{\"size\":16},\"showarrow\":false,\"text\":\"holdout\",\"x\":0.5,\"xanchor\":\"center\",\"xref\":\"paper\",\"y\":1.0,\"yanchor\":\"bottom\",\"yref\":\"paper\"},{\"font\":{\"size\":16},\"showarrow\":false,\"text\":\"test\",\"x\":0.5,\"xanchor\":\"center\",\"xref\":\"paper\",\"y\":0.66,\"yanchor\":\"bottom\",\"yref\":\"paper\"},{\"font\":{\"size\":16},\"showarrow\":false,\"text\":\"train\",\"x\":0.5,\"xanchor\":\"center\",\"xref\":\"paper\",\"y\":0.32,\"yanchor\":\"bottom\",\"yref\":\"paper\"}],\"title\":{\"text\":\"profit validation\"},\"height\":800,\"width\":900},                        {\"responsive\": true}                    ).then(function(){\n",
              "                            \n",
              "var gd = document.getElementById('ccfe0826-eb3a-4b89-b2c9-8ee7f4be90a1');\n",
              "var x = new MutationObserver(function (mutations, observer) {{\n",
              "        var display = window.getComputedStyle(gd).display;\n",
              "        if (!display || display === 'none') {{\n",
              "            console.log([gd, 'removed!']);\n",
              "            Plotly.purge(gd);\n",
              "            observer.disconnect();\n",
              "        }}\n",
              "}});\n",
              "\n",
              "// Listen for the removal of the full notebook cells\n",
              "var notebookContainer = gd.closest('#notebook-container');\n",
              "if (notebookContainer) {{\n",
              "    x.observe(notebookContainer, {childList: true});\n",
              "}}\n",
              "\n",
              "// Listen for the clearing of the current output cell\n",
              "var outputEl = gd.closest('.output');\n",
              "if (outputEl) {{\n",
              "    x.observe(outputEl, {childList: true});\n",
              "}}\n",
              "\n",
              "                        })                };                            </script>        </div>\n",
              "</body>\n",
              "</html>"
            ]
          },
          "metadata": {}
        }
      ]
    },
    {
      "cell_type": "code",
      "source": [
        "!tar -czvf ./models.tar.gz ./models/*"
      ],
      "metadata": {
        "colab": {
          "base_uri": "https://localhost:8080/"
        },
        "id": "G8fih0bvLgi1",
        "outputId": "03ed763f-0ac9-40e9-afae-fbd51a543c94"
      },
      "execution_count": 6,
      "outputs": [
        {
          "output_type": "stream",
          "name": "stdout",
          "text": [
            "./models/booster_0.model\n",
            "./models/booster_1.model\n",
            "./models/booster_2.model\n"
          ]
        }
      ]
    }
  ]
}