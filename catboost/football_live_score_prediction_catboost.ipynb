{
  "cells": [
    {
      "cell_type": "markdown",
      "metadata": {
        "id": "view-in-github",
        "colab_type": "text"
      },
      "source": [
        "<a href=\"https://colab.research.google.com/github/cappelchi/calcio_notebooks/blob/main/catboost/football_live_score_prediction_catboost.ipynb\" target=\"_parent\"><img src=\"https://colab.research.google.com/assets/colab-badge.svg\" alt=\"Open In Colab\"/></a>"
      ]
    },
    {
      "cell_type": "markdown",
      "metadata": {
        "id": "02AGNPYKRvBC"
      },
      "source": [
        "[CatBoost - An In-Depth Guide [Python API]](https://coderzcolumn.com/tutorials/machine-learning/catboost-an-in-depth-guide-python#9)<br>\n",
        "[Catboost](https://catboost.ai/en/docs/concepts/python-reference_pool)<br>\n",
        "[Cross-Validation Techniques](https://medium.com/geekculture/cross-validation-techniques-33d389897878)"
      ]
    },
    {
      "cell_type": "markdown",
      "metadata": {
        "id": "JnoakdYG0WIm"
      },
      "source": [
        "### Project config"
      ]
    },
    {
      "cell_type": "code",
      "execution_count": null,
      "metadata": {
        "id": "O9bCK_dx0QSM",
        "colab": {
          "base_uri": "https://localhost:8080/"
        },
        "outputId": "bb9847c6-60a3-497a-d295-d4cdd0f54cfb"
      },
      "outputs": [
        {
          "output_type": "stream",
          "name": "stderr",
          "text": [
            "/usr/local/lib/python3.9/dist-packages/neptune/internal/backends/hosted_client.py:50: NeptuneDeprecationWarning: The 'neptune-client' package has been deprecated and will be removed in the future. Install the 'neptune' package instead. For more, see https://docs.neptune.ai/setup/upgrading/\n",
            "  from neptune.version import version as neptune_client_version\n",
            "<ipython-input-1-94b4efcbc4c0>:5: NeptuneDeprecationWarning: You're importing the Neptune client library via the deprecated `neptune.new` module, which will be removed in a future release. Import directly from `neptune` instead.\n",
            "  import neptune.new as neptune\n"
          ]
        }
      ],
      "source": [
        "try:\n",
        "    import neptune.new as neptune\n",
        "except:\n",
        "    !pip install neptune-client >> None\n",
        "    import neptune.new as neptune\n",
        "#from neptune.new.integrations.tensorflow_keras import NeptuneCallback\n",
        "def get_credential(frmwork = 'neptune_team'):\n",
        "    with open('credential.txt', 'r') as container:\n",
        "        for line in container:\n",
        "            if frmwork in line:\n",
        "                login, psw = line.split(' ')[1], line.split(' ')[2].split('\\n')[0]\n",
        "                return login, psw"
      ]
    },
    {
      "cell_type": "code",
      "execution_count": null,
      "metadata": {
        "id": "oDK6n6CVQidT"
      },
      "outputs": [],
      "source": [
        "#@title Set API key for neptune.ai\n",
        "set_api = True #@param {type:\"boolean\"}\n",
        "if set_api:\n",
        "    username, api_key = get_credential()"
      ]
    },
    {
      "cell_type": "markdown",
      "metadata": {
        "id": "7dEcqW_jH4pw"
      },
      "source": [
        "### Installations"
      ]
    },
    {
      "cell_type": "code",
      "execution_count": null,
      "metadata": {
        "id": "dP-bo_CB7GgI"
      },
      "outputs": [],
      "source": [
        "!pip install catboost >> None\n",
        "!pip install deap >> None"
      ]
    },
    {
      "cell_type": "markdown",
      "metadata": {
        "id": "X69hHEsFix4n"
      },
      "source": [
        "### Downloads"
      ]
    },
    {
      "cell_type": "code",
      "execution_count": null,
      "metadata": {
        "colab": {
          "base_uri": "https://localhost:8080/"
        },
        "id": "ccFhlCBt1jw8",
        "outputId": "e1a3801d-dffb-411d-c128-295ed46ba85d"
      },
      "outputs": [
        {
          "output_type": "stream",
          "name": "stdout",
          "text": [
            "https://app.neptune.ai/scomesse/football/\n",
            "Shutting down background jobs, please wait a moment...\n",
            "Done!\n",
            "All 0 operations synced, thanks for waiting!\n",
            "Explore the metadata in the Neptune app:\n",
            "https://app.neptune.ai/scomesse/football/metadata\n"
          ]
        }
      ],
      "source": [
        "data_version = 'football_live_npz_230316/'\n",
        "project = neptune.init_project(\n",
        "    project=\"scomesse/football\", \n",
        "    api_token = api_key\n",
        "    )\n",
        "project[data_version + 'dataset'].download('./dataset.npz')\n",
        "params = project[data_version + 'params'].fetch()\n",
        "project.stop()"
      ]
    },
    {
      "cell_type": "markdown",
      "metadata": {
        "id": "RocnM6a5lPkc"
      },
      "source": [
        "### Imports"
      ]
    },
    {
      "cell_type": "code",
      "execution_count": null,
      "metadata": {
        "colab": {
          "base_uri": "https://localhost:8080/"
        },
        "id": "EWwYvlK9ZKpg",
        "outputId": "d2bb9c5d-7f8f-4423-c09e-03c28edb30bd"
      },
      "outputs": [
        {
          "output_type": "stream",
          "name": "stdout",
          "text": [
            "1.4.4\n",
            "1.22.4\n"
          ]
        }
      ],
      "source": [
        "import pandas as pd\n",
        "import numpy as np\n",
        "pd.options.display.max_columns = 50\n",
        "pd.options.display.max_rows = 100\n",
        "print(pd.__version__)\n",
        "print(np.__version__)"
      ]
    },
    {
      "cell_type": "code",
      "execution_count": null,
      "metadata": {
        "id": "lZfysmuzW4XD"
      },
      "outputs": [],
      "source": [
        "from tqdm import tqdm\n",
        "import plotly.express as px\n",
        "from scipy.stats import poisson"
      ]
    },
    {
      "cell_type": "code",
      "execution_count": null,
      "metadata": {
        "id": "2RJZ4eSygIDl"
      },
      "outputs": [],
      "source": [
        "from catboost import CatBoost\n",
        "from catboost import utils\n",
        "from catboost import CatBoostClassifier, CatBoostRegressor\n",
        "from catboost import Pool, cv\n",
        "from catboost.utils import eval_metric\n",
        "np.random.seed(147)"
      ]
    },
    {
      "cell_type": "code",
      "execution_count": null,
      "metadata": {
        "id": "WVvWFBQVfBvO"
      },
      "outputs": [],
      "source": [
        "import operator\n",
        "import random\n",
        "from deap import base\n",
        "from deap import creator\n",
        "from deap import tools\n",
        "from deap import algorithms"
      ]
    },
    {
      "cell_type": "markdown",
      "metadata": {
        "id": "umm53OS2Ljgg"
      },
      "source": [
        "### Code"
      ]
    },
    {
      "cell_type": "markdown",
      "metadata": {
        "id": "F7qL3Au-nbm0"
      },
      "source": [
        "#####Functions"
      ]
    },
    {
      "cell_type": "code",
      "execution_count": null,
      "metadata": {
        "id": "MvlxY9v4EGv3"
      },
      "outputs": [],
      "source": [
        "def eaSimpleWithElitism(population, toolbox, cxpb, mutpb, ngen, stats=None,\n",
        "             halloffame=None, verbose=__debug__):\n",
        "    \"\"\"This algorithm is similar to DEAP eaSimple() algorithm, with the modification that\n",
        "    halloffame is used to implement an elitism mechanism. The individuals contained in the\n",
        "    halloffame are directly injected into the next generation and are not subject to the\n",
        "    genetic operators of selection, crossover and mutation.\n",
        "    \"\"\"\n",
        "    logbook = tools.Logbook()\n",
        "    logbook.header = ['gen', 'nevals'] + (stats.fields if stats else [])\n",
        "\n",
        "    # Evaluate the individuals with an invalid fitness\n",
        "    invalid_ind = [ind for ind in population if not ind.fitness.valid]\n",
        "    fitnesses = toolbox.map(toolbox.evaluate, invalid_ind)\n",
        "    for ind, fit in zip(invalid_ind, fitnesses):\n",
        "        ind.fitness.values = fit\n",
        "\n",
        "    if halloffame is None:\n",
        "        raise ValueError(\"halloffame parameter must not be empty!\")\n",
        "\n",
        "    halloffame.update(population)\n",
        "    hof_size = len(halloffame.items) if halloffame.items else 0\n",
        "\n",
        "    record = stats.compile(population) if stats else {}\n",
        "    logbook.record(gen=0, nevals=len(invalid_ind), **record)\n",
        "    if verbose:\n",
        "        print(logbook.stream)\n",
        "\n",
        "    # Begin the generational process\n",
        "    for gen in range(1, ngen + 1):\n",
        "\n",
        "        # Select the next generation individuals\n",
        "        offspring = toolbox.select(population, len(population) - hof_size)\n",
        "\n",
        "        # Vary the pool of individuals\n",
        "        offspring = algorithms.varAnd(offspring, toolbox, cxpb, mutpb)\n",
        "\n",
        "        # Evaluate the individuals with an invalid fitness\n",
        "        invalid_ind = [ind for ind in offspring if not ind.fitness.valid]\n",
        "        fitnesses = toolbox.map(toolbox.evaluate, invalid_ind)\n",
        "        for ind, fit in zip(invalid_ind, fitnesses):\n",
        "            ind.fitness.values = fit\n",
        "\n",
        "        # add the best back to population:\n",
        "        offspring.extend(halloffame.items)\n",
        "\n",
        "        # Update the hall of fame with the generated individuals\n",
        "        halloffame.update(offspring)\n",
        "\n",
        "        # Replace the current population by the offspring\n",
        "        population[:] = offspring\n",
        "\n",
        "        # Append the current generation statistics to the logbook\n",
        "        record = stats.compile(population) if stats else {}\n",
        "        logbook.record(gen=gen, nevals=len(invalid_ind), **record)\n",
        "        if verbose:\n",
        "            print(logbook.stream)\n",
        "\n",
        "    return population, logbook"
      ]
    },
    {
      "cell_type": "markdown",
      "metadata": {
        "id": "_Mux9N1MEOG0"
      },
      "source": [
        "#### Prepare Data"
      ]
    },
    {
      "cell_type": "markdown",
      "source": [
        "1. регрессия\n",
        "2. мультиклассовая класификация {AWAY:0,DRAW:1, HOME:2} \n",
        "3. бинарная классификация: <br>\n",
        "    a. HOME vs (DRAW & AWAY)<br>\n",
        "    б. DRAW vs (HOME & AWAY)<br>\n",
        "    в. AWAY vs (HOME & DRAW)<br>"
      ],
      "metadata": {
        "id": "_C_eihnpDGIn"
      }
    },
    {
      "cell_type": "code",
      "execution_count": null,
      "metadata": {
        "id": "8t3MevapEQS2"
      },
      "outputs": [],
      "source": [
        "dataset_name = './dataset.npz'\n",
        "data_npz = np.load(dataset_name)\n",
        "X_train, X_test = data_npz['X_train'], data_npz['X_test']"
      ]
    },
    {
      "cell_type": "code",
      "source": [
        "X_train = np.delete(X_train, [17, 18, 23, 24], axis = 1) \n",
        "X_test = np.delete(X_test, [17, 18, 23, 24], axis = 1)"
      ],
      "metadata": {
        "id": "xzdMYOAx2Vn4"
      },
      "execution_count": null,
      "outputs": []
    },
    {
      "cell_type": "code",
      "source": [
        "fts = ['Id', 'Score1', 'Score2', 'Active.1', 'W1', 'WX', 'W2', 'X1', 'X2',\n",
        "       'W12', 'TotalValue', 'Over', 'Under', 'Hand1Value', 'H1', 'H2',\n",
        "       'Result1', 'Result2', 'min_norm', 'Score1_norm', 'Score2_norm',\n",
        "       'Score_diff', 'Score_cat_1', 'Score_cat_2', 'Score_cat_3',\n",
        "       'Score_cat_4', 'Score_cat_5', 'Score_cat_6', 'Score_cat_7',\n",
        "       'Score_cat_8', 'Score_cat_9', 'A1_scaled', 'A2_scaled', 'A1perMIN',\n",
        "       'A2perMIN', 'A1relativ', 'A2relativ', 'DA1_scaled', 'DA2_scaled',\n",
        "       'DA1perMIN', 'DA2perMIN', 'DA1relativ', 'DA2relativ', 'Pos1_cleaned',\n",
        "       'Pos2_cleaned', 'Off1_norm', 'Off2_norm', 'On1_norm', 'On2_norm',\n",
        "       'YC1_transformed', 'YC2_transformed', 'RC1_transformed',\n",
        "       'RC2_transformed', 'Sub1_transformed', 'Sub2_transformed',\n",
        "       'Cor1_transformed', 'Cor2_transformed', 'P1_transformed',\n",
        "       'P2_transformed'][18:]\n",
        "for col in ['A1relativ', 'A2relativ', 'DA1relativ', 'DA2relativ']:  \n",
        "    fts.remove(col)"
      ],
      "metadata": {
        "id": "oo_37dVDYqUT"
      },
      "execution_count": null,
      "outputs": []
    },
    {
      "cell_type": "code",
      "source": [
        "#@title Выбор таргета\n",
        "target_type = \"multiclass\" #@param [\"regression1\", \"regression2\", \"multiclass\", \"binary_home\", \"binary_draw\", \"binary_away\"]\n",
        "if target_type == 'regression1':\n",
        "    y_train, y_test = data_npz['y_train_regression1'], data_npz['y_test_regression1']\n",
        "elif target_type == 'regression2':\n",
        "    y_train, y_test = data_npz['y_train_regression2'], data_npz['y_test_regression2']\n",
        "elif target_type == 'multiclass':\n",
        "    y_train, y_test =  data_npz['y_train_multi'], data_npz['y_test_multi']\n",
        "elif target_type == 'binary_home':\n",
        "    y_train, y_test =  1 * (data_npz['y_train_multi'] == 2), 1 * (data_npz['y_test_multi'] == 2)\n",
        "elif target_type == 'binary_draw':\n",
        "    y_train, y_test =  1 * (data_npz['y_train_multi'] == 1), 1 * (data_npz['y_test_multi'] == 1)\n",
        "elif target_type == 'binary_away':\n",
        "    y_train, y_test =  1 * (data_npz['y_train_multi'] == 0), 1 * (data_npz['y_test_multi'] == 0)\n"
      ],
      "metadata": {
        "id": "P6qUsJdVJ8Rx"
      },
      "execution_count": null,
      "outputs": []
    },
    {
      "cell_type": "code",
      "execution_count": null,
      "metadata": {
        "colab": {
          "base_uri": "https://localhost:8080/"
        },
        "id": "ocQ4LaYJFx35",
        "outputId": "b38be1d7-d41b-4f5b-b693-a32c51acc058"
      },
      "outputs": [
        {
          "output_type": "execute_result",
          "data": {
            "text/plain": [
              "((11197708, 37), (2798988, 37))"
            ]
          },
          "metadata": {},
          "execution_count": 13
        }
      ],
      "source": [
        "X_train.shape, X_test.shape"
      ]
    },
    {
      "cell_type": "code",
      "execution_count": null,
      "metadata": {
        "id": "DdYqi_HUvwbs"
      },
      "outputs": [],
      "source": [
        "#cols = [element for element in\n",
        "#    params['features'].replace('[', '').replace(']','').replace(' ','').replace(\"'\",\"\").split(',')]"
      ]
    },
    {
      "cell_type": "code",
      "execution_count": null,
      "metadata": {
        "id": "X0FGK2xrF7M4"
      },
      "outputs": [],
      "source": [
        "train_data = Pool(X_train, y_train)\n",
        "test_data = Pool(X_test, y_test)"
      ]
    },
    {
      "cell_type": "code",
      "execution_count": null,
      "metadata": {
        "colab": {
          "base_uri": "https://localhost:8080/"
        },
        "id": "l2XbnPOWG7Xn",
        "outputId": "45ddf10d-4616-47be-ddb5-9908948f32ee"
      },
      "outputs": [
        {
          "output_type": "stream",
          "name": "stdout",
          "text": [
            "Number of GPU Count :  1\n"
          ]
        }
      ],
      "source": [
        "gpu_cnt = utils.get_gpu_device_count()\n",
        "print(\"Number of GPU Count : \",gpu_cnt)"
      ]
    },
    {
      "cell_type": "markdown",
      "metadata": {
        "id": "_1MwacmNHZNa"
      },
      "source": [
        "#### GA"
      ]
    },
    {
      "cell_type": "code",
      "execution_count": null,
      "metadata": {
        "id": "Ho8x4etjHYm2"
      },
      "outputs": [],
      "source": [
        "def evaluate_score(\n",
        "    individual, train_data = train_data, test_data = test_data, \n",
        "    target_type = target_type, gpu_cnt = gpu_cnt\n",
        "                    ):\n",
        "    lr = individual[0]\n",
        "    l2 = 0.1 + individual[1]\n",
        "    mdepth = int(individual[2])\n",
        "    minleaf = int(individual[3])\n",
        "    #maxleaves = int(20 + individual[4] * 44)\n",
        "    #leafmethod = ['Newton', 'Gradient', 'Exact'][int(individual[4] * 2.9)]\n",
        "    params = {\n",
        "        'learning_rate':lr,\n",
        "        'l2_leaf_reg':l2,\n",
        "        'max_depth':mdepth,\n",
        "        'min_data_in_leaf':minleaf,\n",
        "        #'leaf_estimation_method':leafmethod,\n",
        "        'early_stopping_rounds':15,\n",
        "        'verbose':0,\n",
        "        'iterations':50        \n",
        "    }\n",
        "    if gpu_cnt > 0:\n",
        "        params.update({\n",
        "            'task_type':\"GPU\", \n",
        "            'devices':'0'\n",
        "        })\n",
        "    if target_type[:-1] == 'regression':\n",
        "        params.update({'loss_function':'RMSE'})\n",
        "        booster = CatBoostRegressor(\n",
        "                        **params        \n",
        "                        )\n",
        "    else:\n",
        "        booster = CatBoostClassifier(\n",
        "                        **params        \n",
        "                        )\n",
        "\n",
        "    booster.fit(train_data, eval_set = test_data)\n",
        "    #print(booster.get_best_score()['validation']['RMSE'])\n",
        "    if target_type[:-1] == 'regression':\n",
        "        #print(booster.get_best_score()['validation']['RMSE'], lr, l2, mdepth, minleaf)\n",
        "        return booster.get_best_score()['validation']['RMSE'],\n",
        "    elif target_type == 'multiclass':\n",
        "        return booster.get_best_score()['validation']['MultiClass'],\n",
        "    elif target_type == 'binary_home':\n",
        "        return booster.get_best_score()['validation']['Logloss'],\n",
        "    elif target_type == 'binary_draw':\n",
        "        return booster.get_best_score()['validation']['Logloss'],\n",
        "    elif target_type == 'binary_away':\n",
        "        return booster.get_best_score()['validation']['Logloss'],"
      ]
    },
    {
      "cell_type": "code",
      "execution_count": null,
      "metadata": {
        "id": "C5m9gB9XHylh",
        "colab": {
          "base_uri": "https://localhost:8080/"
        },
        "outputId": "abfb113b-6047-42b9-83fa-915dd037b261"
      },
      "outputs": [
        {
          "output_type": "stream",
          "name": "stdout",
          "text": [
            "lr {'rand': <bound method Random.uniform of <random.Random object at 0x19cc8a0>>, 'b_low': 0.01, 'b_high': 0.95} 0.01 0.95\n",
            "l2 {'rand': <bound method Random.uniform of <random.Random object at 0x19cc8a0>>, 'b_low': 0.01, 'b_high': 0.95} 0.01 0.95\n",
            "max_depth {'rand': <bound method Random.randint of <random.Random object at 0x19cc8a0>>, 'b_low': 1, 'b_high': 15} 1 15\n",
            "min_leaf {'rand': <bound method Random.randint of <random.Random object at 0x19cc8a0>>, 'b_low': 1, 'b_high': 16} 1 16\n",
            "lr\n",
            "l2\n",
            "max_depth\n",
            "min_leaf\n"
          ]
        }
      ],
      "source": [
        "hyper_parameters = {\n",
        "    'lr':{'rand':random.uniform, 'b_low':0.01, 'b_high':0.95},\n",
        "    'l2':{'rand':random.uniform,'b_low':0.01, 'b_high':0.95},\n",
        "    'max_depth':{'rand':random.randint,'b_low':1, 'b_high':15},\n",
        "    'min_leaf':{'rand':random.randint,'b_low':1, 'b_high':16}\n",
        "            }\n",
        "\n",
        "NUM_OF_PARAMS = len(hyper_parameters)\n",
        "CROWDING_FACTOR = 20.0  # crowding factor for crossover and mutation\n",
        "\n",
        "creator.create(\"FitnessMin\", base.Fitness, weights=(-1.0,))\n",
        "creator.create(\"Individual\", list, fitness=creator.FitnessMin)\n",
        "\n",
        "toolbox = base.Toolbox()\n",
        "# define the hyperparameter attributes individually:\n",
        "for name, param in hyper_parameters.items():\n",
        "    # \"hyperparameter_0\", \"hyperparameter_1\", ...\n",
        "    print(name, param, param['b_low'], param['b_high'])\n",
        "    toolbox.register(name,\n",
        "                     random.uniform,\n",
        "                     param['b_low'],\n",
        "                     param['b_high'])\n",
        "# create a tuple containing an attribute generator for each param searched:\n",
        "hyperparameters = ()\n",
        "for name, _ in hyper_parameters.items():\n",
        "    print(name)\n",
        "    hyperparameters = hyperparameters + \\\n",
        "                      (toolbox.__getattribute__(name),)\n",
        "\n",
        "# create the individual operator to fill up an Individual instance:\n",
        "toolbox.register(\"individualCreator\",\n",
        "                 tools.initCycle,\n",
        "                 creator.Individual,\n",
        "                 hyperparameters,\n",
        "                 n=1)\n",
        "\n",
        "# create the population operator to generate a list of individuals:\n",
        "toolbox.register(\"populationCreator\", tools.initRepeat, list, toolbox.individualCreator)\n",
        "\n",
        "toolbox.register(\"mate\",\n",
        "                 tools.cxSimulatedBinaryBounded,\n",
        "                 low = [value['b_low'] for key, value in hyper_parameters.items()],\n",
        "                 up = [value['b_high'] for key, value in hyper_parameters.items()],\n",
        "                 eta = CROWDING_FACTOR)\n",
        "toolbox.register(\"mutate\",\n",
        "                 tools.mutPolynomialBounded,\n",
        "                 low = [value['b_low'] for key, value in hyper_parameters.items()],\n",
        "                 up = [value['b_high'] for key, value in hyper_parameters.items()],\n",
        "                 eta = CROWDING_FACTOR,\n",
        "                 indpb = 2.0 / NUM_OF_PARAMS)\n",
        "toolbox.register('evaluate', evaluate_score) # регистрируем целевую функию\n",
        "toolbox.register('select', tools.selTournament, tournsize = 2) # регистрируем схему отбора\n",
        "\n",
        "fit_stats = tools.Statistics(key=operator.attrgetter(\"fitness.values\"))\n",
        "fit_stats.register(\"avg\", np.mean)\n",
        "fit_stats.register(\"std\", np.std)\n",
        "fit_stats.register(\"min\", np.min)\n",
        "fit_stats.register(\"max\", np.max)"
      ]
    },
    {
      "cell_type": "code",
      "source": [
        "# Genetic Algorithm constants:\n",
        "POPULATION_SIZE = 50\n",
        "P_CROSSOVER = 0.9  # probability for crossover\n",
        "P_MUTATION = 0.5   # probability for mutating an individual\n",
        "MAX_GENERATIONS = 10\n",
        "HALL_OF_FAME_SIZE = 4"
      ],
      "metadata": {
        "id": "Vm8bDOK5AI4K"
      },
      "execution_count": null,
      "outputs": []
    },
    {
      "cell_type": "code",
      "source": [
        "elitism = True\n",
        "if elitism:\n",
        "    pop = toolbox.populationCreator(n = POPULATION_SIZE) # количество популяций (прогонов) на эпоху(поколение)\n",
        "    hof = tools.HallOfFame(HALL_OF_FAME_SIZE)\n",
        "    pop, log = eaSimpleWithElitism(\n",
        "        pop, toolbox, stats=fit_stats, halloffame=hof, verbose=True,\n",
        "        cxpb = P_CROSSOVER, # скрещивание\n",
        "        mutpb = P_MUTATION,  # мутации\n",
        "        ngen = MAX_GENERATIONS, # количество эпох - поколений \n",
        "    )"
      ],
      "metadata": {
        "id": "yqYfNh3NALaC",
        "colab": {
          "base_uri": "https://localhost:8080/"
        },
        "outputId": "a6ddf788-aa9f-4d3d-c161-c2f414092182"
      },
      "execution_count": null,
      "outputs": [
        {
          "output_type": "stream",
          "name": "stdout",
          "text": [
            "gen\tnevals\tavg     \tstd       \tmin     \tmax     \n",
            "0  \t50    \t0.891447\t0.00912312\t0.888281\t0.953985\n",
            "1  \t46    \t0.88916 \t0.000925578\t0.888281\t0.892813\n",
            "2  \t43    \t0.888921\t0.00087727 \t0.888231\t0.892281\n",
            "3  \t39    \t0.888619\t0.000481875\t0.888231\t0.890989\n",
            "4  \t42    \t0.888413\t0.000311384\t0.888206\t0.889976\n",
            "5  \t43    \t0.888706\t0.00260974 \t0.888184\t0.906951\n",
            "6  \t39    \t0.888318\t0.000150211\t0.888144\t0.888815\n",
            "7  \t43    \t0.888312\t0.000282186\t0.88812 \t0.890002\n",
            "8  \t43    \t0.88827 \t0.000140099\t0.88812 \t0.888872\n",
            "9  \t45    \t0.888236\t0.000126818\t0.888119\t0.888947\n",
            "10 \t42    \t0.88827 \t0.00019097 \t0.888108\t0.889137\n"
          ]
        }
      ]
    },
    {
      "cell_type": "code",
      "execution_count": null,
      "metadata": {
        "id": "xKsxthQBH9Gv"
      },
      "outputs": [],
      "source": [
        "if not elitism:\n",
        "    pop = toolbox.populationCreator(n = POPULATION_SIZE) # количество популяций (прогонов) на эпоху(поколение)\n",
        "    hof = tools.HallOfFame(HALL_OF_FAME_SIZE)\n",
        "    pop, log = algorithms.eaSimple(\n",
        "        pop, toolbox, stats=fit_stats, halloffame=hof, verbose=True,\n",
        "        cxpb = P_CROSSOVER, # скрещивание\n",
        "        mutpb = P_MUTATION,  # мутации\n",
        "        ngen = MAX_GENERATIONS # количество эпох - поколений\n",
        "                        )"
      ]
    },
    {
      "cell_type": "code",
      "execution_count": null,
      "metadata": {
        "id": "KfBvFitzRyaW",
        "colab": {
          "base_uri": "https://localhost:8080/",
          "height": 542
        },
        "outputId": "a1aa6c2f-a4eb-44a5-f700-c5eee1bc8ab8"
      },
      "outputs": [
        {
          "output_type": "display_data",
          "data": {
            "text/html": [
              "<html>\n",
              "<head><meta charset=\"utf-8\" /></head>\n",
              "<body>\n",
              "    <div>            <script src=\"https://cdnjs.cloudflare.com/ajax/libs/mathjax/2.7.5/MathJax.js?config=TeX-AMS-MML_SVG\"></script><script type=\"text/javascript\">if (window.MathJax && window.MathJax.Hub && window.MathJax.Hub.Config) {window.MathJax.Hub.Config({SVG: {font: \"STIX-Web\"}});}</script>                <script type=\"text/javascript\">window.PlotlyConfig = {MathJaxConfig: 'local'};</script>\n",
              "        <script src=\"https://cdn.plot.ly/plotly-2.18.2.min.js\"></script>                <div id=\"52f13919-fd25-426c-8ab5-cd35a0345253\" class=\"plotly-graph-div\" style=\"height:525px; width:100%;\"></div>            <script type=\"text/javascript\">                                    window.PLOTLYENV=window.PLOTLYENV || {};                                    if (document.getElementById(\"52f13919-fd25-426c-8ab5-cd35a0345253\")) {                    Plotly.newPlot(                        \"52f13919-fd25-426c-8ab5-cd35a0345253\",                        [{\"hovertemplate\":\"variable=0<br>index=%{x}<br>value=%{y}<extra></extra>\",\"legendgroup\":\"0\",\"line\":{\"color\":\"#636efa\",\"dash\":\"solid\"},\"marker\":{\"symbol\":\"circle\"},\"mode\":\"lines\",\"name\":\"0\",\"orientation\":\"v\",\"showlegend\":true,\"x\":[0,1,2,3,4,5,6,7,8,9,10],\"xaxis\":\"x\",\"y\":[0.8882808715149905,0.8882808715149905,0.8882312107090135,0.8882312107090135,0.888206380306025,0.88818440807892,0.8881439470265682,0.8881199204855469,0.8881199204855469,0.8881194738955651,0.8881084877820127],\"yaxis\":\"y\",\"type\":\"scatter\"}],                        {\"template\":{\"data\":{\"histogram2dcontour\":[{\"type\":\"histogram2dcontour\",\"colorbar\":{\"outlinewidth\":0,\"ticks\":\"\"},\"colorscale\":[[0.0,\"#0d0887\"],[0.1111111111111111,\"#46039f\"],[0.2222222222222222,\"#7201a8\"],[0.3333333333333333,\"#9c179e\"],[0.4444444444444444,\"#bd3786\"],[0.5555555555555556,\"#d8576b\"],[0.6666666666666666,\"#ed7953\"],[0.7777777777777778,\"#fb9f3a\"],[0.8888888888888888,\"#fdca26\"],[1.0,\"#f0f921\"]]}],\"choropleth\":[{\"type\":\"choropleth\",\"colorbar\":{\"outlinewidth\":0,\"ticks\":\"\"}}],\"histogram2d\":[{\"type\":\"histogram2d\",\"colorbar\":{\"outlinewidth\":0,\"ticks\":\"\"},\"colorscale\":[[0.0,\"#0d0887\"],[0.1111111111111111,\"#46039f\"],[0.2222222222222222,\"#7201a8\"],[0.3333333333333333,\"#9c179e\"],[0.4444444444444444,\"#bd3786\"],[0.5555555555555556,\"#d8576b\"],[0.6666666666666666,\"#ed7953\"],[0.7777777777777778,\"#fb9f3a\"],[0.8888888888888888,\"#fdca26\"],[1.0,\"#f0f921\"]]}],\"heatmap\":[{\"type\":\"heatmap\",\"colorbar\":{\"outlinewidth\":0,\"ticks\":\"\"},\"colorscale\":[[0.0,\"#0d0887\"],[0.1111111111111111,\"#46039f\"],[0.2222222222222222,\"#7201a8\"],[0.3333333333333333,\"#9c179e\"],[0.4444444444444444,\"#bd3786\"],[0.5555555555555556,\"#d8576b\"],[0.6666666666666666,\"#ed7953\"],[0.7777777777777778,\"#fb9f3a\"],[0.8888888888888888,\"#fdca26\"],[1.0,\"#f0f921\"]]}],\"heatmapgl\":[{\"type\":\"heatmapgl\",\"colorbar\":{\"outlinewidth\":0,\"ticks\":\"\"},\"colorscale\":[[0.0,\"#0d0887\"],[0.1111111111111111,\"#46039f\"],[0.2222222222222222,\"#7201a8\"],[0.3333333333333333,\"#9c179e\"],[0.4444444444444444,\"#bd3786\"],[0.5555555555555556,\"#d8576b\"],[0.6666666666666666,\"#ed7953\"],[0.7777777777777778,\"#fb9f3a\"],[0.8888888888888888,\"#fdca26\"],[1.0,\"#f0f921\"]]}],\"contourcarpet\":[{\"type\":\"contourcarpet\",\"colorbar\":{\"outlinewidth\":0,\"ticks\":\"\"}}],\"contour\":[{\"type\":\"contour\",\"colorbar\":{\"outlinewidth\":0,\"ticks\":\"\"},\"colorscale\":[[0.0,\"#0d0887\"],[0.1111111111111111,\"#46039f\"],[0.2222222222222222,\"#7201a8\"],[0.3333333333333333,\"#9c179e\"],[0.4444444444444444,\"#bd3786\"],[0.5555555555555556,\"#d8576b\"],[0.6666666666666666,\"#ed7953\"],[0.7777777777777778,\"#fb9f3a\"],[0.8888888888888888,\"#fdca26\"],[1.0,\"#f0f921\"]]}],\"surface\":[{\"type\":\"surface\",\"colorbar\":{\"outlinewidth\":0,\"ticks\":\"\"},\"colorscale\":[[0.0,\"#0d0887\"],[0.1111111111111111,\"#46039f\"],[0.2222222222222222,\"#7201a8\"],[0.3333333333333333,\"#9c179e\"],[0.4444444444444444,\"#bd3786\"],[0.5555555555555556,\"#d8576b\"],[0.6666666666666666,\"#ed7953\"],[0.7777777777777778,\"#fb9f3a\"],[0.8888888888888888,\"#fdca26\"],[1.0,\"#f0f921\"]]}],\"mesh3d\":[{\"type\":\"mesh3d\",\"colorbar\":{\"outlinewidth\":0,\"ticks\":\"\"}}],\"scatter\":[{\"fillpattern\":{\"fillmode\":\"overlay\",\"size\":10,\"solidity\":0.2},\"type\":\"scatter\"}],\"parcoords\":[{\"type\":\"parcoords\",\"line\":{\"colorbar\":{\"outlinewidth\":0,\"ticks\":\"\"}}}],\"scatterpolargl\":[{\"type\":\"scatterpolargl\",\"marker\":{\"colorbar\":{\"outlinewidth\":0,\"ticks\":\"\"}}}],\"bar\":[{\"error_x\":{\"color\":\"#2a3f5f\"},\"error_y\":{\"color\":\"#2a3f5f\"},\"marker\":{\"line\":{\"color\":\"#E5ECF6\",\"width\":0.5},\"pattern\":{\"fillmode\":\"overlay\",\"size\":10,\"solidity\":0.2}},\"type\":\"bar\"}],\"scattergeo\":[{\"type\":\"scattergeo\",\"marker\":{\"colorbar\":{\"outlinewidth\":0,\"ticks\":\"\"}}}],\"scatterpolar\":[{\"type\":\"scatterpolar\",\"marker\":{\"colorbar\":{\"outlinewidth\":0,\"ticks\":\"\"}}}],\"histogram\":[{\"marker\":{\"pattern\":{\"fillmode\":\"overlay\",\"size\":10,\"solidity\":0.2}},\"type\":\"histogram\"}],\"scattergl\":[{\"type\":\"scattergl\",\"marker\":{\"colorbar\":{\"outlinewidth\":0,\"ticks\":\"\"}}}],\"scatter3d\":[{\"type\":\"scatter3d\",\"line\":{\"colorbar\":{\"outlinewidth\":0,\"ticks\":\"\"}},\"marker\":{\"colorbar\":{\"outlinewidth\":0,\"ticks\":\"\"}}}],\"scattermapbox\":[{\"type\":\"scattermapbox\",\"marker\":{\"colorbar\":{\"outlinewidth\":0,\"ticks\":\"\"}}}],\"scatterternary\":[{\"type\":\"scatterternary\",\"marker\":{\"colorbar\":{\"outlinewidth\":0,\"ticks\":\"\"}}}],\"scattercarpet\":[{\"type\":\"scattercarpet\",\"marker\":{\"colorbar\":{\"outlinewidth\":0,\"ticks\":\"\"}}}],\"carpet\":[{\"aaxis\":{\"endlinecolor\":\"#2a3f5f\",\"gridcolor\":\"white\",\"linecolor\":\"white\",\"minorgridcolor\":\"white\",\"startlinecolor\":\"#2a3f5f\"},\"baxis\":{\"endlinecolor\":\"#2a3f5f\",\"gridcolor\":\"white\",\"linecolor\":\"white\",\"minorgridcolor\":\"white\",\"startlinecolor\":\"#2a3f5f\"},\"type\":\"carpet\"}],\"table\":[{\"cells\":{\"fill\":{\"color\":\"#EBF0F8\"},\"line\":{\"color\":\"white\"}},\"header\":{\"fill\":{\"color\":\"#C8D4E3\"},\"line\":{\"color\":\"white\"}},\"type\":\"table\"}],\"barpolar\":[{\"marker\":{\"line\":{\"color\":\"#E5ECF6\",\"width\":0.5},\"pattern\":{\"fillmode\":\"overlay\",\"size\":10,\"solidity\":0.2}},\"type\":\"barpolar\"}],\"pie\":[{\"automargin\":true,\"type\":\"pie\"}]},\"layout\":{\"autotypenumbers\":\"strict\",\"colorway\":[\"#636efa\",\"#EF553B\",\"#00cc96\",\"#ab63fa\",\"#FFA15A\",\"#19d3f3\",\"#FF6692\",\"#B6E880\",\"#FF97FF\",\"#FECB52\"],\"font\":{\"color\":\"#2a3f5f\"},\"hovermode\":\"closest\",\"hoverlabel\":{\"align\":\"left\"},\"paper_bgcolor\":\"white\",\"plot_bgcolor\":\"#E5ECF6\",\"polar\":{\"bgcolor\":\"#E5ECF6\",\"angularaxis\":{\"gridcolor\":\"white\",\"linecolor\":\"white\",\"ticks\":\"\"},\"radialaxis\":{\"gridcolor\":\"white\",\"linecolor\":\"white\",\"ticks\":\"\"}},\"ternary\":{\"bgcolor\":\"#E5ECF6\",\"aaxis\":{\"gridcolor\":\"white\",\"linecolor\":\"white\",\"ticks\":\"\"},\"baxis\":{\"gridcolor\":\"white\",\"linecolor\":\"white\",\"ticks\":\"\"},\"caxis\":{\"gridcolor\":\"white\",\"linecolor\":\"white\",\"ticks\":\"\"}},\"coloraxis\":{\"colorbar\":{\"outlinewidth\":0,\"ticks\":\"\"}},\"colorscale\":{\"sequential\":[[0.0,\"#0d0887\"],[0.1111111111111111,\"#46039f\"],[0.2222222222222222,\"#7201a8\"],[0.3333333333333333,\"#9c179e\"],[0.4444444444444444,\"#bd3786\"],[0.5555555555555556,\"#d8576b\"],[0.6666666666666666,\"#ed7953\"],[0.7777777777777778,\"#fb9f3a\"],[0.8888888888888888,\"#fdca26\"],[1.0,\"#f0f921\"]],\"sequentialminus\":[[0.0,\"#0d0887\"],[0.1111111111111111,\"#46039f\"],[0.2222222222222222,\"#7201a8\"],[0.3333333333333333,\"#9c179e\"],[0.4444444444444444,\"#bd3786\"],[0.5555555555555556,\"#d8576b\"],[0.6666666666666666,\"#ed7953\"],[0.7777777777777778,\"#fb9f3a\"],[0.8888888888888888,\"#fdca26\"],[1.0,\"#f0f921\"]],\"diverging\":[[0,\"#8e0152\"],[0.1,\"#c51b7d\"],[0.2,\"#de77ae\"],[0.3,\"#f1b6da\"],[0.4,\"#fde0ef\"],[0.5,\"#f7f7f7\"],[0.6,\"#e6f5d0\"],[0.7,\"#b8e186\"],[0.8,\"#7fbc41\"],[0.9,\"#4d9221\"],[1,\"#276419\"]]},\"xaxis\":{\"gridcolor\":\"white\",\"linecolor\":\"white\",\"ticks\":\"\",\"title\":{\"standoff\":15},\"zerolinecolor\":\"white\",\"automargin\":true,\"zerolinewidth\":2},\"yaxis\":{\"gridcolor\":\"white\",\"linecolor\":\"white\",\"ticks\":\"\",\"title\":{\"standoff\":15},\"zerolinecolor\":\"white\",\"automargin\":true,\"zerolinewidth\":2},\"scene\":{\"xaxis\":{\"backgroundcolor\":\"#E5ECF6\",\"gridcolor\":\"white\",\"linecolor\":\"white\",\"showbackground\":true,\"ticks\":\"\",\"zerolinecolor\":\"white\",\"gridwidth\":2},\"yaxis\":{\"backgroundcolor\":\"#E5ECF6\",\"gridcolor\":\"white\",\"linecolor\":\"white\",\"showbackground\":true,\"ticks\":\"\",\"zerolinecolor\":\"white\",\"gridwidth\":2},\"zaxis\":{\"backgroundcolor\":\"#E5ECF6\",\"gridcolor\":\"white\",\"linecolor\":\"white\",\"showbackground\":true,\"ticks\":\"\",\"zerolinecolor\":\"white\",\"gridwidth\":2}},\"shapedefaults\":{\"line\":{\"color\":\"#2a3f5f\"}},\"annotationdefaults\":{\"arrowcolor\":\"#2a3f5f\",\"arrowhead\":0,\"arrowwidth\":1},\"geo\":{\"bgcolor\":\"white\",\"landcolor\":\"#E5ECF6\",\"subunitcolor\":\"white\",\"showland\":true,\"showlakes\":true,\"lakecolor\":\"white\"},\"title\":{\"x\":0.05},\"mapbox\":{\"style\":\"light\"}}},\"xaxis\":{\"anchor\":\"y\",\"domain\":[0.0,1.0],\"title\":{\"text\":\"index\"}},\"yaxis\":{\"anchor\":\"x\",\"domain\":[0.0,1.0],\"title\":{\"text\":\"value\"}},\"legend\":{\"title\":{\"text\":\"variable\"},\"tracegroupgap\":0},\"margin\":{\"t\":60}},                        {\"responsive\": true}                    ).then(function(){\n",
              "                            \n",
              "var gd = document.getElementById('52f13919-fd25-426c-8ab5-cd35a0345253');\n",
              "var x = new MutationObserver(function (mutations, observer) {{\n",
              "        var display = window.getComputedStyle(gd).display;\n",
              "        if (!display || display === 'none') {{\n",
              "            console.log([gd, 'removed!']);\n",
              "            Plotly.purge(gd);\n",
              "            observer.disconnect();\n",
              "        }}\n",
              "}});\n",
              "\n",
              "// Listen for the removal of the full notebook cells\n",
              "var notebookContainer = gd.closest('#notebook-container');\n",
              "if (notebookContainer) {{\n",
              "    x.observe(notebookContainer, {childList: true});\n",
              "}}\n",
              "\n",
              "// Listen for the clearing of the current output cell\n",
              "var outputEl = gd.closest('.output');\n",
              "if (outputEl) {{\n",
              "    x.observe(outputEl, {childList: true});\n",
              "}}\n",
              "\n",
              "                        })                };                            </script>        </div>\n",
              "</body>\n",
              "</html>"
            ]
          },
          "metadata": {}
        }
      ],
      "source": [
        "px.line(log.select('min'))"
      ]
    },
    {
      "cell_type": "code",
      "execution_count": null,
      "metadata": {
        "colab": {
          "base_uri": "https://localhost:8080/"
        },
        "id": "PBhEBPg35V4e",
        "outputId": "0d070bda-fa71-472e-a674-89ec44e7c707"
      },
      "outputs": [
        {
          "output_type": "execute_result",
          "data": {
            "text/plain": [
              "[[0.2774574715649442,\n",
              "  0.7867430092456973,\n",
              "  8.94435671705769,\n",
              "  13.331463138284303],\n",
              " [0.2772301456569561,\n",
              "  0.8966336057378197,\n",
              "  8.959848599490794,\n",
              "  7.900833655439443],\n",
              " [0.2771400936055593,\n",
              "  0.7860174165143166,\n",
              "  8.512051239568567,\n",
              "  13.220759960122457],\n",
              " [0.2771404401150132,\n",
              "  0.7860174165143166,\n",
              "  8.512051239568567,\n",
              "  13.220759960122457]]"
            ]
          },
          "metadata": {},
          "execution_count": 22
        }
      ],
      "source": [
        "tools.selBest(pop, k=4)"
      ]
    },
    {
      "cell_type": "code",
      "execution_count": null,
      "metadata": {
        "id": "m5EMS8Of_2yo"
      },
      "outputs": [],
      "source": [
        "best_individual = tools.selBest(pop, k=4)"
      ]
    },
    {
      "cell_type": "code",
      "execution_count": null,
      "metadata": {
        "id": "shUGt2EH_6qR"
      },
      "outputs": [],
      "source": [
        "best_individual = [[0.1739599025083567,\n",
        "  0.4978084699779165,\n",
        "  0.8263521520216448,\n",
        "  0.955552191452285]]"
      ]
    },
    {
      "cell_type": "code",
      "execution_count": null,
      "metadata": {
        "colab": {
          "base_uri": "https://localhost:8080/"
        },
        "id": "zpWl5973a1nR",
        "outputId": "e007dac2-c1fd-4c2e-fee5-a9083a9bc53d"
      },
      "outputs": [
        {
          "output_type": "stream",
          "name": "stdout",
          "text": [
            "{'learning_rate': 0.2774574715649442, 'l2_leaf_reg': 0.7867430092456973, 'max_depth': 8, 'min_data_in_leaf': 13, 'early_stopping_rounds': 25, 'verbose': 1, 'iterations': 200, 'task_type': 'GPU', 'devices': '0'}\n",
            "0:\tlearn: 1.0012420\ttest: 1.0030653\tbest: 1.0030653 (0)\ttotal: 166ms\tremaining: 33s\n",
            "1:\tlearn: 0.9548442\ttest: 0.9579248\tbest: 0.9579248 (1)\ttotal: 324ms\tremaining: 32.1s\n",
            "2:\tlearn: 0.9289934\ttest: 0.9327581\tbest: 0.9327581 (2)\ttotal: 461ms\tremaining: 30.3s\n",
            "3:\tlearn: 0.9135728\ttest: 0.9179702\tbest: 0.9179702 (3)\ttotal: 591ms\tremaining: 29s\n",
            "4:\tlearn: 0.9040876\ttest: 0.9089861\tbest: 0.9089861 (4)\ttotal: 722ms\tremaining: 28.1s\n",
            "5:\tlearn: 0.8977674\ttest: 0.9029008\tbest: 0.9029008 (5)\ttotal: 833ms\tremaining: 26.9s\n",
            "6:\tlearn: 0.8938197\ttest: 0.8994127\tbest: 0.8994127 (6)\ttotal: 955ms\tremaining: 26.3s\n",
            "7:\tlearn: 0.8908859\ttest: 0.8967485\tbest: 0.8967485 (7)\ttotal: 1.08s\tremaining: 26s\n",
            "8:\tlearn: 0.8889165\ttest: 0.8950170\tbest: 0.8950170 (8)\ttotal: 1.21s\tremaining: 25.6s\n",
            "9:\tlearn: 0.8873890\ttest: 0.8936063\tbest: 0.8936063 (9)\ttotal: 1.34s\tremaining: 25.4s\n",
            "10:\tlearn: 0.8861956\ttest: 0.8925100\tbest: 0.8925100 (10)\ttotal: 1.47s\tremaining: 25.3s\n",
            "11:\tlearn: 0.8853056\ttest: 0.8918682\tbest: 0.8918682 (11)\ttotal: 1.61s\tremaining: 25.3s\n",
            "12:\tlearn: 0.8846677\ttest: 0.8913901\tbest: 0.8913901 (12)\ttotal: 1.75s\tremaining: 25.2s\n",
            "13:\tlearn: 0.8840911\ttest: 0.8909274\tbest: 0.8909274 (13)\ttotal: 1.88s\tremaining: 25s\n",
            "14:\tlearn: 0.8835984\ttest: 0.8905785\tbest: 0.8905785 (14)\ttotal: 2.01s\tremaining: 24.8s\n",
            "15:\tlearn: 0.8832058\ttest: 0.8902429\tbest: 0.8902429 (15)\ttotal: 2.15s\tremaining: 24.7s\n",
            "16:\tlearn: 0.8827964\ttest: 0.8900262\tbest: 0.8900262 (16)\ttotal: 2.33s\tremaining: 25.1s\n",
            "17:\tlearn: 0.8825200\ttest: 0.8898869\tbest: 0.8898869 (17)\ttotal: 2.53s\tremaining: 25.6s\n",
            "18:\tlearn: 0.8822015\ttest: 0.8896246\tbest: 0.8896246 (18)\ttotal: 2.75s\tremaining: 26.2s\n",
            "19:\tlearn: 0.8819197\ttest: 0.8895236\tbest: 0.8895236 (19)\ttotal: 2.97s\tremaining: 26.7s\n",
            "20:\tlearn: 0.8816329\ttest: 0.8894700\tbest: 0.8894700 (20)\ttotal: 3.18s\tremaining: 27.1s\n",
            "21:\tlearn: 0.8813871\ttest: 0.8892702\tbest: 0.8892702 (21)\ttotal: 3.38s\tremaining: 27.4s\n",
            "22:\tlearn: 0.8811878\ttest: 0.8891462\tbest: 0.8891462 (22)\ttotal: 3.6s\tremaining: 27.7s\n",
            "23:\tlearn: 0.8809868\ttest: 0.8890627\tbest: 0.8890627 (23)\ttotal: 3.82s\tremaining: 28s\n",
            "24:\tlearn: 0.8807573\ttest: 0.8889051\tbest: 0.8889051 (24)\ttotal: 4.02s\tremaining: 28.1s\n",
            "25:\tlearn: 0.8805526\ttest: 0.8887617\tbest: 0.8887617 (25)\ttotal: 4.23s\tremaining: 28.3s\n",
            "26:\tlearn: 0.8803780\ttest: 0.8887319\tbest: 0.8887319 (26)\ttotal: 4.45s\tremaining: 28.5s\n",
            "27:\tlearn: 0.8801834\ttest: 0.8886671\tbest: 0.8886671 (27)\ttotal: 4.65s\tremaining: 28.5s\n",
            "28:\tlearn: 0.8799762\ttest: 0.8886430\tbest: 0.8886430 (28)\ttotal: 4.83s\tremaining: 28.5s\n",
            "29:\tlearn: 0.8798561\ttest: 0.8885958\tbest: 0.8885958 (29)\ttotal: 5s\tremaining: 28.4s\n",
            "30:\tlearn: 0.8797333\ttest: 0.8884771\tbest: 0.8884771 (30)\ttotal: 5.12s\tremaining: 27.9s\n",
            "31:\tlearn: 0.8795678\ttest: 0.8883925\tbest: 0.8883925 (31)\ttotal: 5.25s\tremaining: 27.6s\n",
            "32:\tlearn: 0.8794093\ttest: 0.8883681\tbest: 0.8883681 (32)\ttotal: 5.38s\tremaining: 27.2s\n",
            "33:\tlearn: 0.8792163\ttest: 0.8883007\tbest: 0.8883007 (33)\ttotal: 5.52s\tremaining: 26.9s\n",
            "34:\tlearn: 0.8790669\ttest: 0.8883237\tbest: 0.8883007 (33)\ttotal: 5.65s\tremaining: 26.6s\n",
            "35:\tlearn: 0.8789360\ttest: 0.8882891\tbest: 0.8882891 (35)\ttotal: 5.77s\tremaining: 26.3s\n",
            "36:\tlearn: 0.8787936\ttest: 0.8882452\tbest: 0.8882452 (36)\ttotal: 5.89s\tremaining: 26s\n",
            "37:\tlearn: 0.8786213\ttest: 0.8882083\tbest: 0.8882083 (37)\ttotal: 6.02s\tremaining: 25.7s\n",
            "38:\tlearn: 0.8784733\ttest: 0.8881672\tbest: 0.8881672 (38)\ttotal: 6.15s\tremaining: 25.4s\n",
            "39:\tlearn: 0.8783281\ttest: 0.8881712\tbest: 0.8881672 (38)\ttotal: 6.27s\tremaining: 25.1s\n",
            "40:\tlearn: 0.8781904\ttest: 0.8881464\tbest: 0.8881464 (40)\ttotal: 6.42s\tremaining: 24.9s\n",
            "41:\tlearn: 0.8780216\ttest: 0.8881394\tbest: 0.8881394 (41)\ttotal: 6.55s\tremaining: 24.6s\n",
            "42:\tlearn: 0.8778878\ttest: 0.8881099\tbest: 0.8881099 (42)\ttotal: 6.69s\tremaining: 24.4s\n",
            "43:\tlearn: 0.8777680\ttest: 0.8881359\tbest: 0.8881099 (42)\ttotal: 6.83s\tremaining: 24.2s\n",
            "44:\tlearn: 0.8776452\ttest: 0.8881508\tbest: 0.8881099 (42)\ttotal: 6.97s\tremaining: 24s\n",
            "45:\tlearn: 0.8775060\ttest: 0.8881370\tbest: 0.8881099 (42)\ttotal: 7.09s\tremaining: 23.7s\n",
            "46:\tlearn: 0.8773903\ttest: 0.8881326\tbest: 0.8881099 (42)\ttotal: 7.22s\tremaining: 23.5s\n",
            "47:\tlearn: 0.8772682\ttest: 0.8881333\tbest: 0.8881099 (42)\ttotal: 7.35s\tremaining: 23.3s\n",
            "48:\tlearn: 0.8771459\ttest: 0.8881257\tbest: 0.8881099 (42)\ttotal: 7.48s\tremaining: 23.1s\n",
            "49:\tlearn: 0.8770225\ttest: 0.8881498\tbest: 0.8881099 (42)\ttotal: 7.61s\tremaining: 22.8s\n",
            "50:\tlearn: 0.8769014\ttest: 0.8881283\tbest: 0.8881099 (42)\ttotal: 7.75s\tremaining: 22.6s\n",
            "51:\tlearn: 0.8768115\ttest: 0.8881375\tbest: 0.8881099 (42)\ttotal: 7.88s\tremaining: 22.4s\n",
            "52:\tlearn: 0.8766921\ttest: 0.8881264\tbest: 0.8881099 (42)\ttotal: 8.02s\tremaining: 22.3s\n",
            "53:\tlearn: 0.8765891\ttest: 0.8881106\tbest: 0.8881099 (42)\ttotal: 8.17s\tremaining: 22.1s\n",
            "54:\tlearn: 0.8765095\ttest: 0.8880863\tbest: 0.8880863 (54)\ttotal: 8.3s\tremaining: 21.9s\n",
            "55:\tlearn: 0.8764271\ttest: 0.8880623\tbest: 0.8880623 (55)\ttotal: 8.43s\tremaining: 21.7s\n",
            "56:\tlearn: 0.8762775\ttest: 0.8880860\tbest: 0.8880623 (55)\ttotal: 8.57s\tremaining: 21.5s\n",
            "57:\tlearn: 0.8761707\ttest: 0.8880836\tbest: 0.8880623 (55)\ttotal: 8.71s\tremaining: 21.3s\n",
            "58:\tlearn: 0.8760543\ttest: 0.8881167\tbest: 0.8880623 (55)\ttotal: 8.86s\tremaining: 21.2s\n",
            "59:\tlearn: 0.8759499\ttest: 0.8880917\tbest: 0.8880623 (55)\ttotal: 8.99s\tremaining: 21s\n",
            "60:\tlearn: 0.8758472\ttest: 0.8880837\tbest: 0.8880623 (55)\ttotal: 9.11s\tremaining: 20.8s\n",
            "61:\tlearn: 0.8757071\ttest: 0.8880777\tbest: 0.8880623 (55)\ttotal: 9.25s\tremaining: 20.6s\n",
            "62:\tlearn: 0.8756178\ttest: 0.8880620\tbest: 0.8880620 (62)\ttotal: 9.38s\tremaining: 20.4s\n",
            "63:\tlearn: 0.8755518\ttest: 0.8880708\tbest: 0.8880620 (62)\ttotal: 9.52s\tremaining: 20.2s\n",
            "64:\tlearn: 0.8754078\ttest: 0.8880856\tbest: 0.8880620 (62)\ttotal: 9.65s\tremaining: 20s\n",
            "65:\tlearn: 0.8752912\ttest: 0.8881251\tbest: 0.8880620 (62)\ttotal: 9.79s\tremaining: 19.9s\n",
            "66:\tlearn: 0.8751424\ttest: 0.8881526\tbest: 0.8880620 (62)\ttotal: 9.93s\tremaining: 19.7s\n",
            "67:\tlearn: 0.8750437\ttest: 0.8882018\tbest: 0.8880620 (62)\ttotal: 10.1s\tremaining: 19.5s\n",
            "68:\tlearn: 0.8749378\ttest: 0.8881921\tbest: 0.8880620 (62)\ttotal: 10.3s\tremaining: 19.5s\n",
            "69:\tlearn: 0.8748121\ttest: 0.8881866\tbest: 0.8880620 (62)\ttotal: 10.5s\tremaining: 19.5s\n",
            "70:\tlearn: 0.8747262\ttest: 0.8881825\tbest: 0.8880620 (62)\ttotal: 10.7s\tremaining: 19.4s\n",
            "71:\tlearn: 0.8746540\ttest: 0.8881848\tbest: 0.8880620 (62)\ttotal: 10.8s\tremaining: 19.2s\n",
            "72:\tlearn: 0.8745224\ttest: 0.8882265\tbest: 0.8880620 (62)\ttotal: 10.9s\tremaining: 19s\n",
            "73:\tlearn: 0.8744045\ttest: 0.8882399\tbest: 0.8880620 (62)\ttotal: 11.1s\tremaining: 18.9s\n",
            "74:\tlearn: 0.8743166\ttest: 0.8882277\tbest: 0.8880620 (62)\ttotal: 11.2s\tremaining: 18.7s\n",
            "75:\tlearn: 0.8742157\ttest: 0.8882434\tbest: 0.8880620 (62)\ttotal: 11.3s\tremaining: 18.5s\n",
            "76:\tlearn: 0.8740882\ttest: 0.8882385\tbest: 0.8880620 (62)\ttotal: 11.5s\tremaining: 18.3s\n",
            "77:\tlearn: 0.8740116\ttest: 0.8882339\tbest: 0.8880620 (62)\ttotal: 11.6s\tremaining: 18.2s\n",
            "78:\tlearn: 0.8739165\ttest: 0.8882252\tbest: 0.8880620 (62)\ttotal: 11.8s\tremaining: 18s\n",
            "79:\tlearn: 0.8738050\ttest: 0.8882439\tbest: 0.8880620 (62)\ttotal: 11.9s\tremaining: 17.9s\n",
            "80:\tlearn: 0.8736947\ttest: 0.8882535\tbest: 0.8880620 (62)\ttotal: 12s\tremaining: 17.7s\n",
            "81:\tlearn: 0.8735994\ttest: 0.8882535\tbest: 0.8880620 (62)\ttotal: 12.2s\tremaining: 17.5s\n",
            "82:\tlearn: 0.8735081\ttest: 0.8882926\tbest: 0.8880620 (62)\ttotal: 12.3s\tremaining: 17.4s\n",
            "83:\tlearn: 0.8734091\ttest: 0.8882896\tbest: 0.8880620 (62)\ttotal: 12.5s\tremaining: 17.2s\n",
            "84:\tlearn: 0.8732732\ttest: 0.8883071\tbest: 0.8880620 (62)\ttotal: 12.6s\tremaining: 17s\n",
            "85:\tlearn: 0.8732027\ttest: 0.8883144\tbest: 0.8880620 (62)\ttotal: 12.7s\tremaining: 16.9s\n",
            "86:\tlearn: 0.8731108\ttest: 0.8883301\tbest: 0.8880620 (62)\ttotal: 12.9s\tremaining: 16.7s\n",
            "87:\tlearn: 0.8730246\ttest: 0.8883589\tbest: 0.8880620 (62)\ttotal: 13s\tremaining: 16.5s\n",
            "bestTest = 0.8880619531\n",
            "bestIteration = 62\n",
            "Shrink model to first 63 iterations.\n"
          ]
        },
        {
          "output_type": "execute_result",
          "data": {
            "text/plain": [
              "<catboost.core.CatBoostClassifier at 0x7faebd157370>"
            ]
          },
          "metadata": {},
          "execution_count": 25
        }
      ],
      "source": [
        "num = 0\n",
        "lr = best_individual[num][0]\n",
        "l2 = best_individual[num][1]\n",
        "mdepth = int(best_individual[num][2])\n",
        "minleaf = int(best_individual[num][3])\n",
        "params = {\n",
        "    'learning_rate':lr,\n",
        "    'l2_leaf_reg':l2,\n",
        "    'max_depth':mdepth,\n",
        "    'min_data_in_leaf':minleaf,\n",
        "    #'leaf_estimation_method':leafmethod,\n",
        "    'early_stopping_rounds':25,\n",
        "    'verbose':1,\n",
        "    'iterations':200\n",
        "}\n",
        "if gpu_cnt > 0:\n",
        "    params.update({\n",
        "        'task_type':\"GPU\", \n",
        "        'devices':'0'\n",
        "    })\n",
        "if target_type[:-1] == 'regression':\n",
        "    params.update({'loss_function':'RMSE'})\n",
        "    booster = CatBoostRegressor(\n",
        "                    **params        \n",
        "                    )\n",
        "else:\n",
        "    booster = CatBoostClassifier(\n",
        "                    **params        \n",
        "                    )\n",
        "print(params)\n",
        "booster.fit(train_data, eval_set = test_data)"
      ]
    },
    {
      "cell_type": "code",
      "execution_count": null,
      "metadata": {
        "id": "lP6eLVwqcZob"
      },
      "outputs": [],
      "source": [
        "#-------------multiclass -------------\n",
        "if target_type == 'multiclass':\n",
        "    test_preds = booster.predict(X_test, prediction_type=\"Class\").flatten()\n",
        "    train_preds = booster.predict(X_train, prediction_type=\"Class\").flatten()\n",
        "#-------------regression & binary classification\n",
        "else:\n",
        "    test_preds = booster.predict(X_test)\n",
        "    train_preds = booster.predict(X_train)    \n",
        "#test_preds[:5], train_preds[:5]"
      ]
    },
    {
      "cell_type": "code",
      "execution_count": null,
      "metadata": {
        "colab": {
          "base_uri": "https://localhost:8080/"
        },
        "id": "82VgcxZocdhX",
        "outputId": "37b9e8e0-f4ff-4aea-8be7-5d05dcca242d"
      },
      "outputs": [
        {
          "output_type": "stream",
          "name": "stdout",
          "text": [
            "Train Accuracy Home: 0.6092\n",
            "Train Accuracy Draw: 0.4033\n",
            "Train Accuracy Away: 0.5846\n",
            "Test Accuracy Home: 0.6027\n",
            "Test Accuracy Draw: 0.3892\n",
            "Test Accuracy Away: 0.5723\n"
          ]
        }
      ],
      "source": [
        "#-------------multiclass classsification-------------\n",
        "if target_type == 'multiclass':\n",
        "    params['train_accuracy_home'] = np.sum((y_train == 2) & (train_preds == 2)) / np.sum(train_preds == 2)\n",
        "    params['train_accuracy_draw'] = np.sum((y_train == 1) & (train_preds == 1)) / np.sum(train_preds == 1)\n",
        "    params['train_accuracy_away'] = np.sum((y_train == 0) & (train_preds == 0)) / np.sum(train_preds == 0)\n",
        "\n",
        "    print(\"Train Accuracy Home: %.4f\"%params['train_accuracy_home'])\n",
        "    print(\"Train Accuracy Draw: %.4f\"%params['train_accuracy_draw'])\n",
        "    print(\"Train Accuracy Away: %.4f\"%params['train_accuracy_away'])\n",
        "\n",
        "    params['test_accuracy_home'] = np.sum((y_test == 2) & (test_preds == 2)) / np.sum(test_preds == 2)\n",
        "    params['test_accuracy_draw'] = np.sum((y_test == 1) & (test_preds == 1)) / np.sum(test_preds == 1)\n",
        "    params['test_accuracy_away'] = np.sum((y_test == 0) & (test_preds == 0)) / np.sum(test_preds == 0)\n",
        "\n",
        "    print(\"Test Accuracy Home: %.4f\"%params['test_accuracy_home'])\n",
        "    print(\"Test Accuracy Draw: %.4f\"%params['test_accuracy_draw'])\n",
        "    print(\"Test Accuracy Away: %.4f\"%params['test_accuracy_away'])\n",
        "    #print(\"Test  Accuracy : %.4f\"%params['train_accuracy'])"
      ]
    },
    {
      "cell_type": "code",
      "source": [
        "if target_type == 'multiclass':\n",
        "    z_train = np.zeros((3,3))\n",
        "    z_test = np.zeros((3,3))\n",
        "    for pred_class in range(3):\n",
        "        for true_class in range(3):\n",
        "            z_train[true_class, pred_class] = np.sum((train_preds == pred_class) & (y_train == true_class))\n",
        "            z_test[true_class, pred_class] = np.sum((test_preds == pred_class) & (y_test == true_class))"
      ],
      "metadata": {
        "id": "F8jdx6DvAtYC"
      },
      "execution_count": null,
      "outputs": []
    },
    {
      "cell_type": "code",
      "source": [
        "if target_type == 'multiclass':\n",
        "    title_text = 'confusion matrix train'\n",
        "\n",
        "    x = ['Away', 'Draw', 'Home']\n",
        "    y = ['Away', 'Draw', 'Home']\n",
        "\n",
        "    cm_train = px.imshow(z_train, x=x, y=y, color_continuous_scale='Purples', text_auto=True)\n",
        "    cm_train.update_xaxes(title_text = 'Predicted Label')\n",
        "    cm_train.update_yaxes(title_text = 'True Label')\n",
        "    cm_train.update_layout(\n",
        "        height = 400,\n",
        "        title_text = title_text,\n",
        "        title_font_size=20,\n",
        "        title_x=0.5,\n",
        "        paper_bgcolor='rgb(229, 237, 247)',\n",
        "        plot_bgcolor='rgb(229, 237, 247)',    \n",
        "        )\n",
        "    cm_train.update_coloraxes(showscale=False)\n",
        "    cm_train.show()"
      ],
      "metadata": {
        "id": "jqbboyUmAxi1",
        "colab": {
          "base_uri": "https://localhost:8080/",
          "height": 417
        },
        "outputId": "9ea60f4d-3298-417a-c3d1-1713135ce139"
      },
      "execution_count": null,
      "outputs": [
        {
          "output_type": "display_data",
          "data": {
            "text/html": [
              "<html>\n",
              "<head><meta charset=\"utf-8\" /></head>\n",
              "<body>\n",
              "    <div>            <script src=\"https://cdnjs.cloudflare.com/ajax/libs/mathjax/2.7.5/MathJax.js?config=TeX-AMS-MML_SVG\"></script><script type=\"text/javascript\">if (window.MathJax && window.MathJax.Hub && window.MathJax.Hub.Config) {window.MathJax.Hub.Config({SVG: {font: \"STIX-Web\"}});}</script>                <script type=\"text/javascript\">window.PlotlyConfig = {MathJaxConfig: 'local'};</script>\n",
              "        <script src=\"https://cdn.plot.ly/plotly-2.18.2.min.js\"></script>                <div id=\"e194f4ff-06cc-482c-a4a7-056216af9ffd\" class=\"plotly-graph-div\" style=\"height:400px; width:100%;\"></div>            <script type=\"text/javascript\">                                    window.PLOTLYENV=window.PLOTLYENV || {};                                    if (document.getElementById(\"e194f4ff-06cc-482c-a4a7-056216af9ffd\")) {                    Plotly.newPlot(                        \"e194f4ff-06cc-482c-a4a7-056216af9ffd\",                        [{\"coloraxis\":\"coloraxis\",\"name\":\"0\",\"texttemplate\":\"%{z}\",\"x\":[\"Away\",\"Draw\",\"Home\"],\"y\":[\"Away\",\"Draw\",\"Home\"],\"z\":[[2319938.0,201376.0,1075200.0],[914332.0,280694.0,1478109.0],[734477.0,213970.0,3979612.0]],\"type\":\"heatmap\",\"xaxis\":\"x\",\"yaxis\":\"y\",\"hovertemplate\":\"x: %{x}<br>y: %{y}<br>color: %{z}<extra></extra>\"}],                        {\"template\":{\"data\":{\"histogram2dcontour\":[{\"type\":\"histogram2dcontour\",\"colorbar\":{\"outlinewidth\":0,\"ticks\":\"\"},\"colorscale\":[[0.0,\"#0d0887\"],[0.1111111111111111,\"#46039f\"],[0.2222222222222222,\"#7201a8\"],[0.3333333333333333,\"#9c179e\"],[0.4444444444444444,\"#bd3786\"],[0.5555555555555556,\"#d8576b\"],[0.6666666666666666,\"#ed7953\"],[0.7777777777777778,\"#fb9f3a\"],[0.8888888888888888,\"#fdca26\"],[1.0,\"#f0f921\"]]}],\"choropleth\":[{\"type\":\"choropleth\",\"colorbar\":{\"outlinewidth\":0,\"ticks\":\"\"}}],\"histogram2d\":[{\"type\":\"histogram2d\",\"colorbar\":{\"outlinewidth\":0,\"ticks\":\"\"},\"colorscale\":[[0.0,\"#0d0887\"],[0.1111111111111111,\"#46039f\"],[0.2222222222222222,\"#7201a8\"],[0.3333333333333333,\"#9c179e\"],[0.4444444444444444,\"#bd3786\"],[0.5555555555555556,\"#d8576b\"],[0.6666666666666666,\"#ed7953\"],[0.7777777777777778,\"#fb9f3a\"],[0.8888888888888888,\"#fdca26\"],[1.0,\"#f0f921\"]]}],\"heatmap\":[{\"type\":\"heatmap\",\"colorbar\":{\"outlinewidth\":0,\"ticks\":\"\"},\"colorscale\":[[0.0,\"#0d0887\"],[0.1111111111111111,\"#46039f\"],[0.2222222222222222,\"#7201a8\"],[0.3333333333333333,\"#9c179e\"],[0.4444444444444444,\"#bd3786\"],[0.5555555555555556,\"#d8576b\"],[0.6666666666666666,\"#ed7953\"],[0.7777777777777778,\"#fb9f3a\"],[0.8888888888888888,\"#fdca26\"],[1.0,\"#f0f921\"]]}],\"heatmapgl\":[{\"type\":\"heatmapgl\",\"colorbar\":{\"outlinewidth\":0,\"ticks\":\"\"},\"colorscale\":[[0.0,\"#0d0887\"],[0.1111111111111111,\"#46039f\"],[0.2222222222222222,\"#7201a8\"],[0.3333333333333333,\"#9c179e\"],[0.4444444444444444,\"#bd3786\"],[0.5555555555555556,\"#d8576b\"],[0.6666666666666666,\"#ed7953\"],[0.7777777777777778,\"#fb9f3a\"],[0.8888888888888888,\"#fdca26\"],[1.0,\"#f0f921\"]]}],\"contourcarpet\":[{\"type\":\"contourcarpet\",\"colorbar\":{\"outlinewidth\":0,\"ticks\":\"\"}}],\"contour\":[{\"type\":\"contour\",\"colorbar\":{\"outlinewidth\":0,\"ticks\":\"\"},\"colorscale\":[[0.0,\"#0d0887\"],[0.1111111111111111,\"#46039f\"],[0.2222222222222222,\"#7201a8\"],[0.3333333333333333,\"#9c179e\"],[0.4444444444444444,\"#bd3786\"],[0.5555555555555556,\"#d8576b\"],[0.6666666666666666,\"#ed7953\"],[0.7777777777777778,\"#fb9f3a\"],[0.8888888888888888,\"#fdca26\"],[1.0,\"#f0f921\"]]}],\"surface\":[{\"type\":\"surface\",\"colorbar\":{\"outlinewidth\":0,\"ticks\":\"\"},\"colorscale\":[[0.0,\"#0d0887\"],[0.1111111111111111,\"#46039f\"],[0.2222222222222222,\"#7201a8\"],[0.3333333333333333,\"#9c179e\"],[0.4444444444444444,\"#bd3786\"],[0.5555555555555556,\"#d8576b\"],[0.6666666666666666,\"#ed7953\"],[0.7777777777777778,\"#fb9f3a\"],[0.8888888888888888,\"#fdca26\"],[1.0,\"#f0f921\"]]}],\"mesh3d\":[{\"type\":\"mesh3d\",\"colorbar\":{\"outlinewidth\":0,\"ticks\":\"\"}}],\"scatter\":[{\"fillpattern\":{\"fillmode\":\"overlay\",\"size\":10,\"solidity\":0.2},\"type\":\"scatter\"}],\"parcoords\":[{\"type\":\"parcoords\",\"line\":{\"colorbar\":{\"outlinewidth\":0,\"ticks\":\"\"}}}],\"scatterpolargl\":[{\"type\":\"scatterpolargl\",\"marker\":{\"colorbar\":{\"outlinewidth\":0,\"ticks\":\"\"}}}],\"bar\":[{\"error_x\":{\"color\":\"#2a3f5f\"},\"error_y\":{\"color\":\"#2a3f5f\"},\"marker\":{\"line\":{\"color\":\"#E5ECF6\",\"width\":0.5},\"pattern\":{\"fillmode\":\"overlay\",\"size\":10,\"solidity\":0.2}},\"type\":\"bar\"}],\"scattergeo\":[{\"type\":\"scattergeo\",\"marker\":{\"colorbar\":{\"outlinewidth\":0,\"ticks\":\"\"}}}],\"scatterpolar\":[{\"type\":\"scatterpolar\",\"marker\":{\"colorbar\":{\"outlinewidth\":0,\"ticks\":\"\"}}}],\"histogram\":[{\"marker\":{\"pattern\":{\"fillmode\":\"overlay\",\"size\":10,\"solidity\":0.2}},\"type\":\"histogram\"}],\"scattergl\":[{\"type\":\"scattergl\",\"marker\":{\"colorbar\":{\"outlinewidth\":0,\"ticks\":\"\"}}}],\"scatter3d\":[{\"type\":\"scatter3d\",\"line\":{\"colorbar\":{\"outlinewidth\":0,\"ticks\":\"\"}},\"marker\":{\"colorbar\":{\"outlinewidth\":0,\"ticks\":\"\"}}}],\"scattermapbox\":[{\"type\":\"scattermapbox\",\"marker\":{\"colorbar\":{\"outlinewidth\":0,\"ticks\":\"\"}}}],\"scatterternary\":[{\"type\":\"scatterternary\",\"marker\":{\"colorbar\":{\"outlinewidth\":0,\"ticks\":\"\"}}}],\"scattercarpet\":[{\"type\":\"scattercarpet\",\"marker\":{\"colorbar\":{\"outlinewidth\":0,\"ticks\":\"\"}}}],\"carpet\":[{\"aaxis\":{\"endlinecolor\":\"#2a3f5f\",\"gridcolor\":\"white\",\"linecolor\":\"white\",\"minorgridcolor\":\"white\",\"startlinecolor\":\"#2a3f5f\"},\"baxis\":{\"endlinecolor\":\"#2a3f5f\",\"gridcolor\":\"white\",\"linecolor\":\"white\",\"minorgridcolor\":\"white\",\"startlinecolor\":\"#2a3f5f\"},\"type\":\"carpet\"}],\"table\":[{\"cells\":{\"fill\":{\"color\":\"#EBF0F8\"},\"line\":{\"color\":\"white\"}},\"header\":{\"fill\":{\"color\":\"#C8D4E3\"},\"line\":{\"color\":\"white\"}},\"type\":\"table\"}],\"barpolar\":[{\"marker\":{\"line\":{\"color\":\"#E5ECF6\",\"width\":0.5},\"pattern\":{\"fillmode\":\"overlay\",\"size\":10,\"solidity\":0.2}},\"type\":\"barpolar\"}],\"pie\":[{\"automargin\":true,\"type\":\"pie\"}]},\"layout\":{\"autotypenumbers\":\"strict\",\"colorway\":[\"#636efa\",\"#EF553B\",\"#00cc96\",\"#ab63fa\",\"#FFA15A\",\"#19d3f3\",\"#FF6692\",\"#B6E880\",\"#FF97FF\",\"#FECB52\"],\"font\":{\"color\":\"#2a3f5f\"},\"hovermode\":\"closest\",\"hoverlabel\":{\"align\":\"left\"},\"paper_bgcolor\":\"white\",\"plot_bgcolor\":\"#E5ECF6\",\"polar\":{\"bgcolor\":\"#E5ECF6\",\"angularaxis\":{\"gridcolor\":\"white\",\"linecolor\":\"white\",\"ticks\":\"\"},\"radialaxis\":{\"gridcolor\":\"white\",\"linecolor\":\"white\",\"ticks\":\"\"}},\"ternary\":{\"bgcolor\":\"#E5ECF6\",\"aaxis\":{\"gridcolor\":\"white\",\"linecolor\":\"white\",\"ticks\":\"\"},\"baxis\":{\"gridcolor\":\"white\",\"linecolor\":\"white\",\"ticks\":\"\"},\"caxis\":{\"gridcolor\":\"white\",\"linecolor\":\"white\",\"ticks\":\"\"}},\"coloraxis\":{\"colorbar\":{\"outlinewidth\":0,\"ticks\":\"\"}},\"colorscale\":{\"sequential\":[[0.0,\"#0d0887\"],[0.1111111111111111,\"#46039f\"],[0.2222222222222222,\"#7201a8\"],[0.3333333333333333,\"#9c179e\"],[0.4444444444444444,\"#bd3786\"],[0.5555555555555556,\"#d8576b\"],[0.6666666666666666,\"#ed7953\"],[0.7777777777777778,\"#fb9f3a\"],[0.8888888888888888,\"#fdca26\"],[1.0,\"#f0f921\"]],\"sequentialminus\":[[0.0,\"#0d0887\"],[0.1111111111111111,\"#46039f\"],[0.2222222222222222,\"#7201a8\"],[0.3333333333333333,\"#9c179e\"],[0.4444444444444444,\"#bd3786\"],[0.5555555555555556,\"#d8576b\"],[0.6666666666666666,\"#ed7953\"],[0.7777777777777778,\"#fb9f3a\"],[0.8888888888888888,\"#fdca26\"],[1.0,\"#f0f921\"]],\"diverging\":[[0,\"#8e0152\"],[0.1,\"#c51b7d\"],[0.2,\"#de77ae\"],[0.3,\"#f1b6da\"],[0.4,\"#fde0ef\"],[0.5,\"#f7f7f7\"],[0.6,\"#e6f5d0\"],[0.7,\"#b8e186\"],[0.8,\"#7fbc41\"],[0.9,\"#4d9221\"],[1,\"#276419\"]]},\"xaxis\":{\"gridcolor\":\"white\",\"linecolor\":\"white\",\"ticks\":\"\",\"title\":{\"standoff\":15},\"zerolinecolor\":\"white\",\"automargin\":true,\"zerolinewidth\":2},\"yaxis\":{\"gridcolor\":\"white\",\"linecolor\":\"white\",\"ticks\":\"\",\"title\":{\"standoff\":15},\"zerolinecolor\":\"white\",\"automargin\":true,\"zerolinewidth\":2},\"scene\":{\"xaxis\":{\"backgroundcolor\":\"#E5ECF6\",\"gridcolor\":\"white\",\"linecolor\":\"white\",\"showbackground\":true,\"ticks\":\"\",\"zerolinecolor\":\"white\",\"gridwidth\":2},\"yaxis\":{\"backgroundcolor\":\"#E5ECF6\",\"gridcolor\":\"white\",\"linecolor\":\"white\",\"showbackground\":true,\"ticks\":\"\",\"zerolinecolor\":\"white\",\"gridwidth\":2},\"zaxis\":{\"backgroundcolor\":\"#E5ECF6\",\"gridcolor\":\"white\",\"linecolor\":\"white\",\"showbackground\":true,\"ticks\":\"\",\"zerolinecolor\":\"white\",\"gridwidth\":2}},\"shapedefaults\":{\"line\":{\"color\":\"#2a3f5f\"}},\"annotationdefaults\":{\"arrowcolor\":\"#2a3f5f\",\"arrowhead\":0,\"arrowwidth\":1},\"geo\":{\"bgcolor\":\"white\",\"landcolor\":\"#E5ECF6\",\"subunitcolor\":\"white\",\"showland\":true,\"showlakes\":true,\"lakecolor\":\"white\"},\"title\":{\"x\":0.05},\"mapbox\":{\"style\":\"light\"}}},\"xaxis\":{\"anchor\":\"y\",\"domain\":[0.0,1.0],\"scaleanchor\":\"y\",\"constrain\":\"domain\",\"title\":{\"text\":\"Predicted Label\"}},\"yaxis\":{\"anchor\":\"x\",\"domain\":[0.0,1.0],\"autorange\":\"reversed\",\"constrain\":\"domain\",\"title\":{\"text\":\"True Label\"}},\"coloraxis\":{\"colorscale\":[[0.0,\"rgb(252,251,253)\"],[0.125,\"rgb(239,237,245)\"],[0.25,\"rgb(218,218,235)\"],[0.375,\"rgb(188,189,220)\"],[0.5,\"rgb(158,154,200)\"],[0.625,\"rgb(128,125,186)\"],[0.75,\"rgb(106,81,163)\"],[0.875,\"rgb(84,39,143)\"],[1.0,\"rgb(63,0,125)\"]],\"showscale\":false},\"margin\":{\"t\":60},\"title\":{\"font\":{\"size\":20},\"text\":\"confusion matrix train\",\"x\":0.5},\"height\":400,\"paper_bgcolor\":\"rgb(229, 237, 247)\",\"plot_bgcolor\":\"rgb(229, 237, 247)\"},                        {\"responsive\": true}                    ).then(function(){\n",
              "                            \n",
              "var gd = document.getElementById('e194f4ff-06cc-482c-a4a7-056216af9ffd');\n",
              "var x = new MutationObserver(function (mutations, observer) {{\n",
              "        var display = window.getComputedStyle(gd).display;\n",
              "        if (!display || display === 'none') {{\n",
              "            console.log([gd, 'removed!']);\n",
              "            Plotly.purge(gd);\n",
              "            observer.disconnect();\n",
              "        }}\n",
              "}});\n",
              "\n",
              "// Listen for the removal of the full notebook cells\n",
              "var notebookContainer = gd.closest('#notebook-container');\n",
              "if (notebookContainer) {{\n",
              "    x.observe(notebookContainer, {childList: true});\n",
              "}}\n",
              "\n",
              "// Listen for the clearing of the current output cell\n",
              "var outputEl = gd.closest('.output');\n",
              "if (outputEl) {{\n",
              "    x.observe(outputEl, {childList: true});\n",
              "}}\n",
              "\n",
              "                        })                };                            </script>        </div>\n",
              "</body>\n",
              "</html>"
            ]
          },
          "metadata": {}
        }
      ]
    },
    {
      "cell_type": "code",
      "source": [
        "if target_type == 'multiclass':\n",
        "    title_text = 'confusion matrix test'\n",
        "\n",
        "    x = ['Away', 'Draw', 'Home']\n",
        "    y = ['Away', 'Draw', 'Home']\n",
        "\n",
        "    cm_test = px.imshow(z_test, x=x, y=y, color_continuous_scale='Purples', text_auto=True)\n",
        "    cm_test.update_xaxes(title_text = 'Predicted Label')\n",
        "    cm_test.update_yaxes(title_text = 'True Label')\n",
        "    cm_test.update_layout(\n",
        "        height = 400,\n",
        "        title_text = title_text,\n",
        "        title_font_size=20,\n",
        "        title_x=0.5,\n",
        "        paper_bgcolor='rgb(229, 237, 247)',\n",
        "        plot_bgcolor='rgb(229, 237, 247)',    \n",
        "        )\n",
        "    cm_test.update_coloraxes(showscale=False)\n",
        "    cm_test.show()"
      ],
      "metadata": {
        "id": "FcohEbp5AzyV",
        "colab": {
          "base_uri": "https://localhost:8080/",
          "height": 417
        },
        "outputId": "19119f53-b5e2-4d0d-c7e1-944774f80125"
      },
      "execution_count": null,
      "outputs": [
        {
          "output_type": "display_data",
          "data": {
            "text/html": [
              "<html>\n",
              "<head><meta charset=\"utf-8\" /></head>\n",
              "<body>\n",
              "    <div>            <script src=\"https://cdnjs.cloudflare.com/ajax/libs/mathjax/2.7.5/MathJax.js?config=TeX-AMS-MML_SVG\"></script><script type=\"text/javascript\">if (window.MathJax && window.MathJax.Hub && window.MathJax.Hub.Config) {window.MathJax.Hub.Config({SVG: {font: \"STIX-Web\"}});}</script>                <script type=\"text/javascript\">window.PlotlyConfig = {MathJaxConfig: 'local'};</script>\n",
              "        <script src=\"https://cdn.plot.ly/plotly-2.18.2.min.js\"></script>                <div id=\"bf98c561-d4a8-4e50-9f94-d0de4e5cf3e5\" class=\"plotly-graph-div\" style=\"height:400px; width:100%;\"></div>            <script type=\"text/javascript\">                                    window.PLOTLYENV=window.PLOTLYENV || {};                                    if (document.getElementById(\"bf98c561-d4a8-4e50-9f94-d0de4e5cf3e5\")) {                    Plotly.newPlot(                        \"bf98c561-d4a8-4e50-9f94-d0de4e5cf3e5\",                        [{\"coloraxis\":\"coloraxis\",\"name\":\"0\",\"texttemplate\":\"%{z}\",\"x\":[\"Away\",\"Draw\",\"Home\"],\"y\":[\"Away\",\"Draw\",\"Home\"],\"z\":[[568317.0,50376.0,273913.0],[235655.0,67289.0,374925.0],[188989.0,55247.0,984277.0]],\"type\":\"heatmap\",\"xaxis\":\"x\",\"yaxis\":\"y\",\"hovertemplate\":\"x: %{x}<br>y: %{y}<br>color: %{z}<extra></extra>\"}],                        {\"template\":{\"data\":{\"histogram2dcontour\":[{\"type\":\"histogram2dcontour\",\"colorbar\":{\"outlinewidth\":0,\"ticks\":\"\"},\"colorscale\":[[0.0,\"#0d0887\"],[0.1111111111111111,\"#46039f\"],[0.2222222222222222,\"#7201a8\"],[0.3333333333333333,\"#9c179e\"],[0.4444444444444444,\"#bd3786\"],[0.5555555555555556,\"#d8576b\"],[0.6666666666666666,\"#ed7953\"],[0.7777777777777778,\"#fb9f3a\"],[0.8888888888888888,\"#fdca26\"],[1.0,\"#f0f921\"]]}],\"choropleth\":[{\"type\":\"choropleth\",\"colorbar\":{\"outlinewidth\":0,\"ticks\":\"\"}}],\"histogram2d\":[{\"type\":\"histogram2d\",\"colorbar\":{\"outlinewidth\":0,\"ticks\":\"\"},\"colorscale\":[[0.0,\"#0d0887\"],[0.1111111111111111,\"#46039f\"],[0.2222222222222222,\"#7201a8\"],[0.3333333333333333,\"#9c179e\"],[0.4444444444444444,\"#bd3786\"],[0.5555555555555556,\"#d8576b\"],[0.6666666666666666,\"#ed7953\"],[0.7777777777777778,\"#fb9f3a\"],[0.8888888888888888,\"#fdca26\"],[1.0,\"#f0f921\"]]}],\"heatmap\":[{\"type\":\"heatmap\",\"colorbar\":{\"outlinewidth\":0,\"ticks\":\"\"},\"colorscale\":[[0.0,\"#0d0887\"],[0.1111111111111111,\"#46039f\"],[0.2222222222222222,\"#7201a8\"],[0.3333333333333333,\"#9c179e\"],[0.4444444444444444,\"#bd3786\"],[0.5555555555555556,\"#d8576b\"],[0.6666666666666666,\"#ed7953\"],[0.7777777777777778,\"#fb9f3a\"],[0.8888888888888888,\"#fdca26\"],[1.0,\"#f0f921\"]]}],\"heatmapgl\":[{\"type\":\"heatmapgl\",\"colorbar\":{\"outlinewidth\":0,\"ticks\":\"\"},\"colorscale\":[[0.0,\"#0d0887\"],[0.1111111111111111,\"#46039f\"],[0.2222222222222222,\"#7201a8\"],[0.3333333333333333,\"#9c179e\"],[0.4444444444444444,\"#bd3786\"],[0.5555555555555556,\"#d8576b\"],[0.6666666666666666,\"#ed7953\"],[0.7777777777777778,\"#fb9f3a\"],[0.8888888888888888,\"#fdca26\"],[1.0,\"#f0f921\"]]}],\"contourcarpet\":[{\"type\":\"contourcarpet\",\"colorbar\":{\"outlinewidth\":0,\"ticks\":\"\"}}],\"contour\":[{\"type\":\"contour\",\"colorbar\":{\"outlinewidth\":0,\"ticks\":\"\"},\"colorscale\":[[0.0,\"#0d0887\"],[0.1111111111111111,\"#46039f\"],[0.2222222222222222,\"#7201a8\"],[0.3333333333333333,\"#9c179e\"],[0.4444444444444444,\"#bd3786\"],[0.5555555555555556,\"#d8576b\"],[0.6666666666666666,\"#ed7953\"],[0.7777777777777778,\"#fb9f3a\"],[0.8888888888888888,\"#fdca26\"],[1.0,\"#f0f921\"]]}],\"surface\":[{\"type\":\"surface\",\"colorbar\":{\"outlinewidth\":0,\"ticks\":\"\"},\"colorscale\":[[0.0,\"#0d0887\"],[0.1111111111111111,\"#46039f\"],[0.2222222222222222,\"#7201a8\"],[0.3333333333333333,\"#9c179e\"],[0.4444444444444444,\"#bd3786\"],[0.5555555555555556,\"#d8576b\"],[0.6666666666666666,\"#ed7953\"],[0.7777777777777778,\"#fb9f3a\"],[0.8888888888888888,\"#fdca26\"],[1.0,\"#f0f921\"]]}],\"mesh3d\":[{\"type\":\"mesh3d\",\"colorbar\":{\"outlinewidth\":0,\"ticks\":\"\"}}],\"scatter\":[{\"fillpattern\":{\"fillmode\":\"overlay\",\"size\":10,\"solidity\":0.2},\"type\":\"scatter\"}],\"parcoords\":[{\"type\":\"parcoords\",\"line\":{\"colorbar\":{\"outlinewidth\":0,\"ticks\":\"\"}}}],\"scatterpolargl\":[{\"type\":\"scatterpolargl\",\"marker\":{\"colorbar\":{\"outlinewidth\":0,\"ticks\":\"\"}}}],\"bar\":[{\"error_x\":{\"color\":\"#2a3f5f\"},\"error_y\":{\"color\":\"#2a3f5f\"},\"marker\":{\"line\":{\"color\":\"#E5ECF6\",\"width\":0.5},\"pattern\":{\"fillmode\":\"overlay\",\"size\":10,\"solidity\":0.2}},\"type\":\"bar\"}],\"scattergeo\":[{\"type\":\"scattergeo\",\"marker\":{\"colorbar\":{\"outlinewidth\":0,\"ticks\":\"\"}}}],\"scatterpolar\":[{\"type\":\"scatterpolar\",\"marker\":{\"colorbar\":{\"outlinewidth\":0,\"ticks\":\"\"}}}],\"histogram\":[{\"marker\":{\"pattern\":{\"fillmode\":\"overlay\",\"size\":10,\"solidity\":0.2}},\"type\":\"histogram\"}],\"scattergl\":[{\"type\":\"scattergl\",\"marker\":{\"colorbar\":{\"outlinewidth\":0,\"ticks\":\"\"}}}],\"scatter3d\":[{\"type\":\"scatter3d\",\"line\":{\"colorbar\":{\"outlinewidth\":0,\"ticks\":\"\"}},\"marker\":{\"colorbar\":{\"outlinewidth\":0,\"ticks\":\"\"}}}],\"scattermapbox\":[{\"type\":\"scattermapbox\",\"marker\":{\"colorbar\":{\"outlinewidth\":0,\"ticks\":\"\"}}}],\"scatterternary\":[{\"type\":\"scatterternary\",\"marker\":{\"colorbar\":{\"outlinewidth\":0,\"ticks\":\"\"}}}],\"scattercarpet\":[{\"type\":\"scattercarpet\",\"marker\":{\"colorbar\":{\"outlinewidth\":0,\"ticks\":\"\"}}}],\"carpet\":[{\"aaxis\":{\"endlinecolor\":\"#2a3f5f\",\"gridcolor\":\"white\",\"linecolor\":\"white\",\"minorgridcolor\":\"white\",\"startlinecolor\":\"#2a3f5f\"},\"baxis\":{\"endlinecolor\":\"#2a3f5f\",\"gridcolor\":\"white\",\"linecolor\":\"white\",\"minorgridcolor\":\"white\",\"startlinecolor\":\"#2a3f5f\"},\"type\":\"carpet\"}],\"table\":[{\"cells\":{\"fill\":{\"color\":\"#EBF0F8\"},\"line\":{\"color\":\"white\"}},\"header\":{\"fill\":{\"color\":\"#C8D4E3\"},\"line\":{\"color\":\"white\"}},\"type\":\"table\"}],\"barpolar\":[{\"marker\":{\"line\":{\"color\":\"#E5ECF6\",\"width\":0.5},\"pattern\":{\"fillmode\":\"overlay\",\"size\":10,\"solidity\":0.2}},\"type\":\"barpolar\"}],\"pie\":[{\"automargin\":true,\"type\":\"pie\"}]},\"layout\":{\"autotypenumbers\":\"strict\",\"colorway\":[\"#636efa\",\"#EF553B\",\"#00cc96\",\"#ab63fa\",\"#FFA15A\",\"#19d3f3\",\"#FF6692\",\"#B6E880\",\"#FF97FF\",\"#FECB52\"],\"font\":{\"color\":\"#2a3f5f\"},\"hovermode\":\"closest\",\"hoverlabel\":{\"align\":\"left\"},\"paper_bgcolor\":\"white\",\"plot_bgcolor\":\"#E5ECF6\",\"polar\":{\"bgcolor\":\"#E5ECF6\",\"angularaxis\":{\"gridcolor\":\"white\",\"linecolor\":\"white\",\"ticks\":\"\"},\"radialaxis\":{\"gridcolor\":\"white\",\"linecolor\":\"white\",\"ticks\":\"\"}},\"ternary\":{\"bgcolor\":\"#E5ECF6\",\"aaxis\":{\"gridcolor\":\"white\",\"linecolor\":\"white\",\"ticks\":\"\"},\"baxis\":{\"gridcolor\":\"white\",\"linecolor\":\"white\",\"ticks\":\"\"},\"caxis\":{\"gridcolor\":\"white\",\"linecolor\":\"white\",\"ticks\":\"\"}},\"coloraxis\":{\"colorbar\":{\"outlinewidth\":0,\"ticks\":\"\"}},\"colorscale\":{\"sequential\":[[0.0,\"#0d0887\"],[0.1111111111111111,\"#46039f\"],[0.2222222222222222,\"#7201a8\"],[0.3333333333333333,\"#9c179e\"],[0.4444444444444444,\"#bd3786\"],[0.5555555555555556,\"#d8576b\"],[0.6666666666666666,\"#ed7953\"],[0.7777777777777778,\"#fb9f3a\"],[0.8888888888888888,\"#fdca26\"],[1.0,\"#f0f921\"]],\"sequentialminus\":[[0.0,\"#0d0887\"],[0.1111111111111111,\"#46039f\"],[0.2222222222222222,\"#7201a8\"],[0.3333333333333333,\"#9c179e\"],[0.4444444444444444,\"#bd3786\"],[0.5555555555555556,\"#d8576b\"],[0.6666666666666666,\"#ed7953\"],[0.7777777777777778,\"#fb9f3a\"],[0.8888888888888888,\"#fdca26\"],[1.0,\"#f0f921\"]],\"diverging\":[[0,\"#8e0152\"],[0.1,\"#c51b7d\"],[0.2,\"#de77ae\"],[0.3,\"#f1b6da\"],[0.4,\"#fde0ef\"],[0.5,\"#f7f7f7\"],[0.6,\"#e6f5d0\"],[0.7,\"#b8e186\"],[0.8,\"#7fbc41\"],[0.9,\"#4d9221\"],[1,\"#276419\"]]},\"xaxis\":{\"gridcolor\":\"white\",\"linecolor\":\"white\",\"ticks\":\"\",\"title\":{\"standoff\":15},\"zerolinecolor\":\"white\",\"automargin\":true,\"zerolinewidth\":2},\"yaxis\":{\"gridcolor\":\"white\",\"linecolor\":\"white\",\"ticks\":\"\",\"title\":{\"standoff\":15},\"zerolinecolor\":\"white\",\"automargin\":true,\"zerolinewidth\":2},\"scene\":{\"xaxis\":{\"backgroundcolor\":\"#E5ECF6\",\"gridcolor\":\"white\",\"linecolor\":\"white\",\"showbackground\":true,\"ticks\":\"\",\"zerolinecolor\":\"white\",\"gridwidth\":2},\"yaxis\":{\"backgroundcolor\":\"#E5ECF6\",\"gridcolor\":\"white\",\"linecolor\":\"white\",\"showbackground\":true,\"ticks\":\"\",\"zerolinecolor\":\"white\",\"gridwidth\":2},\"zaxis\":{\"backgroundcolor\":\"#E5ECF6\",\"gridcolor\":\"white\",\"linecolor\":\"white\",\"showbackground\":true,\"ticks\":\"\",\"zerolinecolor\":\"white\",\"gridwidth\":2}},\"shapedefaults\":{\"line\":{\"color\":\"#2a3f5f\"}},\"annotationdefaults\":{\"arrowcolor\":\"#2a3f5f\",\"arrowhead\":0,\"arrowwidth\":1},\"geo\":{\"bgcolor\":\"white\",\"landcolor\":\"#E5ECF6\",\"subunitcolor\":\"white\",\"showland\":true,\"showlakes\":true,\"lakecolor\":\"white\"},\"title\":{\"x\":0.05},\"mapbox\":{\"style\":\"light\"}}},\"xaxis\":{\"anchor\":\"y\",\"domain\":[0.0,1.0],\"scaleanchor\":\"y\",\"constrain\":\"domain\",\"title\":{\"text\":\"Predicted Label\"}},\"yaxis\":{\"anchor\":\"x\",\"domain\":[0.0,1.0],\"autorange\":\"reversed\",\"constrain\":\"domain\",\"title\":{\"text\":\"True Label\"}},\"coloraxis\":{\"colorscale\":[[0.0,\"rgb(252,251,253)\"],[0.125,\"rgb(239,237,245)\"],[0.25,\"rgb(218,218,235)\"],[0.375,\"rgb(188,189,220)\"],[0.5,\"rgb(158,154,200)\"],[0.625,\"rgb(128,125,186)\"],[0.75,\"rgb(106,81,163)\"],[0.875,\"rgb(84,39,143)\"],[1.0,\"rgb(63,0,125)\"]],\"showscale\":false},\"margin\":{\"t\":60},\"title\":{\"font\":{\"size\":20},\"text\":\"confusion matrix test\",\"x\":0.5},\"height\":400,\"paper_bgcolor\":\"rgb(229, 237, 247)\",\"plot_bgcolor\":\"rgb(229, 237, 247)\"},                        {\"responsive\": true}                    ).then(function(){\n",
              "                            \n",
              "var gd = document.getElementById('bf98c561-d4a8-4e50-9f94-d0de4e5cf3e5');\n",
              "var x = new MutationObserver(function (mutations, observer) {{\n",
              "        var display = window.getComputedStyle(gd).display;\n",
              "        if (!display || display === 'none') {{\n",
              "            console.log([gd, 'removed!']);\n",
              "            Plotly.purge(gd);\n",
              "            observer.disconnect();\n",
              "        }}\n",
              "}});\n",
              "\n",
              "// Listen for the removal of the full notebook cells\n",
              "var notebookContainer = gd.closest('#notebook-container');\n",
              "if (notebookContainer) {{\n",
              "    x.observe(notebookContainer, {childList: true});\n",
              "}}\n",
              "\n",
              "// Listen for the clearing of the current output cell\n",
              "var outputEl = gd.closest('.output');\n",
              "if (outputEl) {{\n",
              "    x.observe(outputEl, {childList: true});\n",
              "}}\n",
              "\n",
              "                        })                };                            </script>        </div>\n",
              "</body>\n",
              "</html>"
            ]
          },
          "metadata": {}
        }
      ]
    },
    {
      "cell_type": "code",
      "source": [
        "#-------------binary classsification-------------\n",
        "if 'binary' in target_type:\n",
        "    params['train_accuracy'] = booster.score(train_data)\n",
        "    params['test_accuracy'] = booster.score(test_data)\n",
        "    print(\"Test  Accuracy : %.4f\"%params['train_accuracy'])\n",
        "    print(\"Train Accuracy : %.4f\"%params['test_accuracy'])"
      ],
      "metadata": {
        "id": "PsjDBX5uA8AB"
      },
      "execution_count": null,
      "outputs": []
    },
    {
      "cell_type": "code",
      "source": [
        "#-------------binary classsification-------------\n",
        "if 'binary' in target_type:\n",
        "    tp = target_type.split('_')[1]\n",
        "    type = tp\n",
        "    params[f'train_accuracy_{type}'] = np.sum((y_train == 1) & (train_preds == 1)) / np.sum(train_preds == 1)\n",
        "    params['train_accuracy_rest'] = np.sum((y_train == 0) & (train_preds == 0)) / np.sum(train_preds == 0)\n",
        "\n",
        "    print(f\"Train Accuracy {type}: %.4f\"%params[f'train_accuracy_{type}'])\n",
        "    print(\"Train Accuracy Rest: %.4f\"%params['train_accuracy_rest'])\n",
        "\n",
        "    params[f'test_accuracy_{type}'] = np.sum((y_test == 1) & (test_preds == 1)) / np.sum(test_preds == 1)\n",
        "    params['test_accuracy_rest'] = np.sum((y_test == 0) & (test_preds == 0)) / np.sum(test_preds == 0)\n",
        "\n",
        "    print(f\"Test Accuracy {type}: %.4f\"%params[f'test_accuracy_{type}'])\n",
        "    print(f\"Test Accuracy Rest: %.4f\"%params['test_accuracy_rest'])\n",
        "\n",
        "    z_train = np.zeros((2,2))\n",
        "    z_test = np.zeros((2,2))\n",
        "    for pred_class in range(2):\n",
        "        for true_class in range(2):\n",
        "            z_train[true_class, pred_class] = np.sum((train_preds == pred_class) & (y_train == true_class))\n",
        "            z_test[true_class, pred_class] = np.sum((test_preds == pred_class) & (y_test == true_class))"
      ],
      "metadata": {
        "id": "rKdGWm3pA2Yg"
      },
      "execution_count": null,
      "outputs": []
    },
    {
      "cell_type": "code",
      "source": [
        "if 'binary' in target_type:\n",
        "    title_text = 'confusion matrix train'\n",
        "\n",
        "    x = ['rest', type]\n",
        "    y = ['rest', type]\n",
        "\n",
        "    cm_train = px.imshow(z_train, x=x, y=y, color_continuous_scale='Purples', text_auto=True)\n",
        "    cm_train.update_xaxes(title_text = 'Predicted Label')\n",
        "    cm_train.update_yaxes(title_text = 'True Label')\n",
        "    cm_train.update_layout(\n",
        "        height = 400,\n",
        "        title_text = title_text,\n",
        "        title_font_size=20,\n",
        "        title_x=0.5,\n",
        "        paper_bgcolor='rgb(229, 237, 247)',\n",
        "        plot_bgcolor='rgb(229, 237, 247)',    \n",
        "        )\n",
        "    cm_train.update_coloraxes(showscale=False)\n",
        "    cm_train.show()"
      ],
      "metadata": {
        "id": "sGJ4e1BWBErA"
      },
      "execution_count": null,
      "outputs": []
    },
    {
      "cell_type": "code",
      "source": [
        "if 'binary' in target_type:\n",
        "    title_text = 'confusion matrix test'\n",
        "\n",
        "    x = ['rest', type]\n",
        "    y = ['rest', type]\n",
        "\n",
        "    cm_test = px.imshow(z_test, x=x, y=y, color_continuous_scale='Purples', text_auto=True)\n",
        "    cm_test.update_xaxes(title_text = 'Predicted Label')\n",
        "    cm_test.update_yaxes(title_text = 'True Label')\n",
        "    cm_test.update_layout(\n",
        "        height = 400,\n",
        "        title_text = title_text,\n",
        "        title_font_size=20,\n",
        "        title_x=0.5,\n",
        "        paper_bgcolor='rgb(229, 237, 247)',\n",
        "        plot_bgcolor='rgb(229, 237, 247)',    \n",
        "        )\n",
        "    cm_test.update_coloraxes(showscale=False)\n",
        "    cm_test.show()"
      ],
      "metadata": {
        "id": "WQN_bVzxA_ZG"
      },
      "execution_count": null,
      "outputs": []
    },
    {
      "cell_type": "code",
      "source": [
        "#--------------regression -------------------\n",
        "if target_type[:-1] == 'regression':\n",
        "    params['test_RMSE'] = eval_metric(y_test, test_preds, \"RMSE\")[0]\n",
        "    params['train_RMSE'] = eval_metric(y_train, train_preds, \"RMSE\")[0]\n",
        "    params['test_R2'] = eval_metric(y_test, test_preds, \"R2\")[0]\n",
        "    params['train_R2'] = eval_metric(y_train, train_preds, \"R2\")[0]\n",
        "    print(\"Test  RMSE : %.4f\"%params['test_RMSE'])\n",
        "    print(\"Train RMSE : % 4f\"%params['train_RMSE'])\n",
        "\n",
        "    print(\"Test  R2 : %.4f\"%params['test_R2'])\n",
        "    print(\"Train R2 : % 4f\"%params['train_R2'])"
      ],
      "metadata": {
        "id": "ytdlAdZQBM7W"
      },
      "execution_count": null,
      "outputs": []
    },
    {
      "cell_type": "code",
      "execution_count": null,
      "metadata": {
        "id": "djpw3OtNcerO",
        "colab": {
          "base_uri": "https://localhost:8080/",
          "height": 817
        },
        "outputId": "1c1cdba1-4283-4131-ba05-d6124d1c95e2"
      },
      "outputs": [
        {
          "output_type": "display_data",
          "data": {
            "text/html": [
              "<html>\n",
              "<head><meta charset=\"utf-8\" /></head>\n",
              "<body>\n",
              "    <div>            <script src=\"https://cdnjs.cloudflare.com/ajax/libs/mathjax/2.7.5/MathJax.js?config=TeX-AMS-MML_SVG\"></script><script type=\"text/javascript\">if (window.MathJax && window.MathJax.Hub && window.MathJax.Hub.Config) {window.MathJax.Hub.Config({SVG: {font: \"STIX-Web\"}});}</script>                <script type=\"text/javascript\">window.PlotlyConfig = {MathJaxConfig: 'local'};</script>\n",
              "        <script src=\"https://cdn.plot.ly/plotly-2.18.2.min.js\"></script>                <div id=\"d06c8be3-7e9c-4725-8da2-afc2d2bb07b4\" class=\"plotly-graph-div\" style=\"height:800px; width:600px;\"></div>            <script type=\"text/javascript\">                                    window.PLOTLYENV=window.PLOTLYENV || {};                                    if (document.getElementById(\"d06c8be3-7e9c-4725-8da2-afc2d2bb07b4\")) {                    Plotly.newPlot(                        \"d06c8be3-7e9c-4725-8da2-afc2d2bb07b4\",                        [{\"alignmentgroup\":\"True\",\"hovertemplate\":\"value=%{x}<br>features=%{y}<extra></extra>\",\"legendgroup\":\"\",\"marker\":{\"color\":\"#636efa\",\"pattern\":{\"shape\":\"\"}},\"name\":\"\",\"offsetgroup\":\"\",\"orientation\":\"h\",\"showlegend\":false,\"textposition\":\"auto\",\"x\":[0.0,0.0,0.0,0.0,0.0,0.0,0.054038586015048115,0.06779841000204148,0.0976035993690825,0.13302537603859926,0.17869492371770168,0.2550545307822127,0.368092331801559,0.36894818949501135,0.3690903358180917,0.500039050406188,0.5101711565197372,0.536746759298007,0.5401224352165991,0.6537589762628359,0.6689449803738745,0.811605246952562,0.8163417495628977,0.9497193052573087,1.023217221210649,1.0532486167841455,1.0719978189083856,1.0993581610460708,1.2870518807792453,1.4093325797054599,1.4894342829030067,1.7387927402477579,2.2659106337852073,10.876532263069185,12.281826091919829,20.550504398654688,35.972997368097005],\"xaxis\":\"x\",\"y\":[\"Score_cat_1\",\"Score_cat_2\",\"Score_cat_3\",\"Score_cat_7\",\"Score_cat_8\",\"Score_cat_9\",\"A2_scaled\",\"A1_scaled\",\"Sub2_transformed\",\"Sub1_transformed\",\"YC2_transformed\",\"YC1_transformed\",\"Score2_norm\",\"Score1_norm\",\"Cor1_transformed\",\"A2perMIN\",\"Cor2_transformed\",\"RC1_transformed\",\"A1perMIN\",\"DA1_scaled\",\"RC2_transformed\",\"Pos1_cleaned\",\"On2_norm\",\"On1_norm\",\"Score_cat_4\",\"Pos2_cleaned\",\"Off2_norm\",\"Off1_norm\",\"min_norm\",\"DA2_scaled\",\"Score_cat_6\",\"DA2perMIN\",\"DA1perMIN\",\"Score_cat_5\",\"P2_transformed\",\"P1_transformed\",\"Score_diff\"],\"yaxis\":\"y\",\"type\":\"bar\"}],                        {\"template\":{\"data\":{\"histogram2dcontour\":[{\"type\":\"histogram2dcontour\",\"colorbar\":{\"outlinewidth\":0,\"ticks\":\"\"},\"colorscale\":[[0.0,\"#0d0887\"],[0.1111111111111111,\"#46039f\"],[0.2222222222222222,\"#7201a8\"],[0.3333333333333333,\"#9c179e\"],[0.4444444444444444,\"#bd3786\"],[0.5555555555555556,\"#d8576b\"],[0.6666666666666666,\"#ed7953\"],[0.7777777777777778,\"#fb9f3a\"],[0.8888888888888888,\"#fdca26\"],[1.0,\"#f0f921\"]]}],\"choropleth\":[{\"type\":\"choropleth\",\"colorbar\":{\"outlinewidth\":0,\"ticks\":\"\"}}],\"histogram2d\":[{\"type\":\"histogram2d\",\"colorbar\":{\"outlinewidth\":0,\"ticks\":\"\"},\"colorscale\":[[0.0,\"#0d0887\"],[0.1111111111111111,\"#46039f\"],[0.2222222222222222,\"#7201a8\"],[0.3333333333333333,\"#9c179e\"],[0.4444444444444444,\"#bd3786\"],[0.5555555555555556,\"#d8576b\"],[0.6666666666666666,\"#ed7953\"],[0.7777777777777778,\"#fb9f3a\"],[0.8888888888888888,\"#fdca26\"],[1.0,\"#f0f921\"]]}],\"heatmap\":[{\"type\":\"heatmap\",\"colorbar\":{\"outlinewidth\":0,\"ticks\":\"\"},\"colorscale\":[[0.0,\"#0d0887\"],[0.1111111111111111,\"#46039f\"],[0.2222222222222222,\"#7201a8\"],[0.3333333333333333,\"#9c179e\"],[0.4444444444444444,\"#bd3786\"],[0.5555555555555556,\"#d8576b\"],[0.6666666666666666,\"#ed7953\"],[0.7777777777777778,\"#fb9f3a\"],[0.8888888888888888,\"#fdca26\"],[1.0,\"#f0f921\"]]}],\"heatmapgl\":[{\"type\":\"heatmapgl\",\"colorbar\":{\"outlinewidth\":0,\"ticks\":\"\"},\"colorscale\":[[0.0,\"#0d0887\"],[0.1111111111111111,\"#46039f\"],[0.2222222222222222,\"#7201a8\"],[0.3333333333333333,\"#9c179e\"],[0.4444444444444444,\"#bd3786\"],[0.5555555555555556,\"#d8576b\"],[0.6666666666666666,\"#ed7953\"],[0.7777777777777778,\"#fb9f3a\"],[0.8888888888888888,\"#fdca26\"],[1.0,\"#f0f921\"]]}],\"contourcarpet\":[{\"type\":\"contourcarpet\",\"colorbar\":{\"outlinewidth\":0,\"ticks\":\"\"}}],\"contour\":[{\"type\":\"contour\",\"colorbar\":{\"outlinewidth\":0,\"ticks\":\"\"},\"colorscale\":[[0.0,\"#0d0887\"],[0.1111111111111111,\"#46039f\"],[0.2222222222222222,\"#7201a8\"],[0.3333333333333333,\"#9c179e\"],[0.4444444444444444,\"#bd3786\"],[0.5555555555555556,\"#d8576b\"],[0.6666666666666666,\"#ed7953\"],[0.7777777777777778,\"#fb9f3a\"],[0.8888888888888888,\"#fdca26\"],[1.0,\"#f0f921\"]]}],\"surface\":[{\"type\":\"surface\",\"colorbar\":{\"outlinewidth\":0,\"ticks\":\"\"},\"colorscale\":[[0.0,\"#0d0887\"],[0.1111111111111111,\"#46039f\"],[0.2222222222222222,\"#7201a8\"],[0.3333333333333333,\"#9c179e\"],[0.4444444444444444,\"#bd3786\"],[0.5555555555555556,\"#d8576b\"],[0.6666666666666666,\"#ed7953\"],[0.7777777777777778,\"#fb9f3a\"],[0.8888888888888888,\"#fdca26\"],[1.0,\"#f0f921\"]]}],\"mesh3d\":[{\"type\":\"mesh3d\",\"colorbar\":{\"outlinewidth\":0,\"ticks\":\"\"}}],\"scatter\":[{\"fillpattern\":{\"fillmode\":\"overlay\",\"size\":10,\"solidity\":0.2},\"type\":\"scatter\"}],\"parcoords\":[{\"type\":\"parcoords\",\"line\":{\"colorbar\":{\"outlinewidth\":0,\"ticks\":\"\"}}}],\"scatterpolargl\":[{\"type\":\"scatterpolargl\",\"marker\":{\"colorbar\":{\"outlinewidth\":0,\"ticks\":\"\"}}}],\"bar\":[{\"error_x\":{\"color\":\"#2a3f5f\"},\"error_y\":{\"color\":\"#2a3f5f\"},\"marker\":{\"line\":{\"color\":\"#E5ECF6\",\"width\":0.5},\"pattern\":{\"fillmode\":\"overlay\",\"size\":10,\"solidity\":0.2}},\"type\":\"bar\"}],\"scattergeo\":[{\"type\":\"scattergeo\",\"marker\":{\"colorbar\":{\"outlinewidth\":0,\"ticks\":\"\"}}}],\"scatterpolar\":[{\"type\":\"scatterpolar\",\"marker\":{\"colorbar\":{\"outlinewidth\":0,\"ticks\":\"\"}}}],\"histogram\":[{\"marker\":{\"pattern\":{\"fillmode\":\"overlay\",\"size\":10,\"solidity\":0.2}},\"type\":\"histogram\"}],\"scattergl\":[{\"type\":\"scattergl\",\"marker\":{\"colorbar\":{\"outlinewidth\":0,\"ticks\":\"\"}}}],\"scatter3d\":[{\"type\":\"scatter3d\",\"line\":{\"colorbar\":{\"outlinewidth\":0,\"ticks\":\"\"}},\"marker\":{\"colorbar\":{\"outlinewidth\":0,\"ticks\":\"\"}}}],\"scattermapbox\":[{\"type\":\"scattermapbox\",\"marker\":{\"colorbar\":{\"outlinewidth\":0,\"ticks\":\"\"}}}],\"scatterternary\":[{\"type\":\"scatterternary\",\"marker\":{\"colorbar\":{\"outlinewidth\":0,\"ticks\":\"\"}}}],\"scattercarpet\":[{\"type\":\"scattercarpet\",\"marker\":{\"colorbar\":{\"outlinewidth\":0,\"ticks\":\"\"}}}],\"carpet\":[{\"aaxis\":{\"endlinecolor\":\"#2a3f5f\",\"gridcolor\":\"white\",\"linecolor\":\"white\",\"minorgridcolor\":\"white\",\"startlinecolor\":\"#2a3f5f\"},\"baxis\":{\"endlinecolor\":\"#2a3f5f\",\"gridcolor\":\"white\",\"linecolor\":\"white\",\"minorgridcolor\":\"white\",\"startlinecolor\":\"#2a3f5f\"},\"type\":\"carpet\"}],\"table\":[{\"cells\":{\"fill\":{\"color\":\"#EBF0F8\"},\"line\":{\"color\":\"white\"}},\"header\":{\"fill\":{\"color\":\"#C8D4E3\"},\"line\":{\"color\":\"white\"}},\"type\":\"table\"}],\"barpolar\":[{\"marker\":{\"line\":{\"color\":\"#E5ECF6\",\"width\":0.5},\"pattern\":{\"fillmode\":\"overlay\",\"size\":10,\"solidity\":0.2}},\"type\":\"barpolar\"}],\"pie\":[{\"automargin\":true,\"type\":\"pie\"}]},\"layout\":{\"autotypenumbers\":\"strict\",\"colorway\":[\"#636efa\",\"#EF553B\",\"#00cc96\",\"#ab63fa\",\"#FFA15A\",\"#19d3f3\",\"#FF6692\",\"#B6E880\",\"#FF97FF\",\"#FECB52\"],\"font\":{\"color\":\"#2a3f5f\"},\"hovermode\":\"closest\",\"hoverlabel\":{\"align\":\"left\"},\"paper_bgcolor\":\"white\",\"plot_bgcolor\":\"#E5ECF6\",\"polar\":{\"bgcolor\":\"#E5ECF6\",\"angularaxis\":{\"gridcolor\":\"white\",\"linecolor\":\"white\",\"ticks\":\"\"},\"radialaxis\":{\"gridcolor\":\"white\",\"linecolor\":\"white\",\"ticks\":\"\"}},\"ternary\":{\"bgcolor\":\"#E5ECF6\",\"aaxis\":{\"gridcolor\":\"white\",\"linecolor\":\"white\",\"ticks\":\"\"},\"baxis\":{\"gridcolor\":\"white\",\"linecolor\":\"white\",\"ticks\":\"\"},\"caxis\":{\"gridcolor\":\"white\",\"linecolor\":\"white\",\"ticks\":\"\"}},\"coloraxis\":{\"colorbar\":{\"outlinewidth\":0,\"ticks\":\"\"}},\"colorscale\":{\"sequential\":[[0.0,\"#0d0887\"],[0.1111111111111111,\"#46039f\"],[0.2222222222222222,\"#7201a8\"],[0.3333333333333333,\"#9c179e\"],[0.4444444444444444,\"#bd3786\"],[0.5555555555555556,\"#d8576b\"],[0.6666666666666666,\"#ed7953\"],[0.7777777777777778,\"#fb9f3a\"],[0.8888888888888888,\"#fdca26\"],[1.0,\"#f0f921\"]],\"sequentialminus\":[[0.0,\"#0d0887\"],[0.1111111111111111,\"#46039f\"],[0.2222222222222222,\"#7201a8\"],[0.3333333333333333,\"#9c179e\"],[0.4444444444444444,\"#bd3786\"],[0.5555555555555556,\"#d8576b\"],[0.6666666666666666,\"#ed7953\"],[0.7777777777777778,\"#fb9f3a\"],[0.8888888888888888,\"#fdca26\"],[1.0,\"#f0f921\"]],\"diverging\":[[0,\"#8e0152\"],[0.1,\"#c51b7d\"],[0.2,\"#de77ae\"],[0.3,\"#f1b6da\"],[0.4,\"#fde0ef\"],[0.5,\"#f7f7f7\"],[0.6,\"#e6f5d0\"],[0.7,\"#b8e186\"],[0.8,\"#7fbc41\"],[0.9,\"#4d9221\"],[1,\"#276419\"]]},\"xaxis\":{\"gridcolor\":\"white\",\"linecolor\":\"white\",\"ticks\":\"\",\"title\":{\"standoff\":15},\"zerolinecolor\":\"white\",\"automargin\":true,\"zerolinewidth\":2},\"yaxis\":{\"gridcolor\":\"white\",\"linecolor\":\"white\",\"ticks\":\"\",\"title\":{\"standoff\":15},\"zerolinecolor\":\"white\",\"automargin\":true,\"zerolinewidth\":2},\"scene\":{\"xaxis\":{\"backgroundcolor\":\"#E5ECF6\",\"gridcolor\":\"white\",\"linecolor\":\"white\",\"showbackground\":true,\"ticks\":\"\",\"zerolinecolor\":\"white\",\"gridwidth\":2},\"yaxis\":{\"backgroundcolor\":\"#E5ECF6\",\"gridcolor\":\"white\",\"linecolor\":\"white\",\"showbackground\":true,\"ticks\":\"\",\"zerolinecolor\":\"white\",\"gridwidth\":2},\"zaxis\":{\"backgroundcolor\":\"#E5ECF6\",\"gridcolor\":\"white\",\"linecolor\":\"white\",\"showbackground\":true,\"ticks\":\"\",\"zerolinecolor\":\"white\",\"gridwidth\":2}},\"shapedefaults\":{\"line\":{\"color\":\"#2a3f5f\"}},\"annotationdefaults\":{\"arrowcolor\":\"#2a3f5f\",\"arrowhead\":0,\"arrowwidth\":1},\"geo\":{\"bgcolor\":\"white\",\"landcolor\":\"#E5ECF6\",\"subunitcolor\":\"white\",\"showland\":true,\"showlakes\":true,\"lakecolor\":\"white\"},\"title\":{\"x\":0.05},\"mapbox\":{\"style\":\"light\"}}},\"xaxis\":{\"anchor\":\"y\",\"domain\":[0.0,1.0],\"title\":{\"text\":\"value\"}},\"yaxis\":{\"anchor\":\"x\",\"domain\":[0.0,1.0],\"title\":{\"text\":\"features\"}},\"legend\":{\"tracegroupgap\":0},\"title\":{\"text\":\"feature importance binary classification away\"},\"barmode\":\"relative\",\"height\":800,\"width\":600},                        {\"responsive\": true}                    ).then(function(){\n",
              "                            \n",
              "var gd = document.getElementById('d06c8be3-7e9c-4725-8da2-afc2d2bb07b4');\n",
              "var x = new MutationObserver(function (mutations, observer) {{\n",
              "        var display = window.getComputedStyle(gd).display;\n",
              "        if (!display || display === 'none') {{\n",
              "            console.log([gd, 'removed!']);\n",
              "            Plotly.purge(gd);\n",
              "            observer.disconnect();\n",
              "        }}\n",
              "}});\n",
              "\n",
              "// Listen for the removal of the full notebook cells\n",
              "var notebookContainer = gd.closest('#notebook-container');\n",
              "if (notebookContainer) {{\n",
              "    x.observe(notebookContainer, {childList: true});\n",
              "}}\n",
              "\n",
              "// Listen for the clearing of the current output cell\n",
              "var outputEl = gd.closest('.output');\n",
              "if (outputEl) {{\n",
              "    x.observe(outputEl, {childList: true});\n",
              "}}\n",
              "\n",
              "                        })                };                            </script>        </div>\n",
              "</body>\n",
              "</html>"
            ]
          },
          "metadata": {}
        }
      ],
      "source": [
        "importance_dict = {key:value for value, key in sorted(zip(booster.get_feature_importance(), fts), reverse = False)}\n",
        "fig1 = px.bar(\n",
        "    pd.DataFrame(importance_dict.items(), columns = ['features', 'value']),\n",
        "    x = 'value',\n",
        "    y = 'features',\n",
        "    orientation = 'h',\n",
        "    #title = 'feature importance multiclass',\n",
        "    title = 'feature importance binary classification away',\n",
        "    #title = 'feature importance regression team 2',\n",
        "    width = 600,\n",
        "    height = 800\n",
        ")\n",
        "fig1.show()"
      ]
    },
    {
      "cell_type": "code",
      "execution_count": null,
      "metadata": {
        "colab": {
          "background_save": true
        },
        "id": "YbrriqTF58Ya"
      },
      "outputs": [],
      "source": [
        "if target_type[:-1] == 'regression':\n",
        "    fig2 = px.histogram(\n",
        "        21 * np.array(test_preds, dtype = np.float32)[:1_500_000],\n",
        "        title = 'score prediction destribution team 2',\n",
        "        width = 800,\n",
        "        height = 600\n",
        "                 )\n",
        "    fig2.show()"
      ]
    },
    {
      "cell_type": "code",
      "execution_count": null,
      "metadata": {
        "id": "P-wn8hgWmw3U"
      },
      "outputs": [],
      "source": [
        "params['description'] = 'Catboost Multiclass exclude dynamic relative features'\n",
        "params['dataset'] = data_version\n",
        "booster.save_model('./booster.model')"
      ]
    },
    {
      "cell_type": "code",
      "execution_count": null,
      "metadata": {
        "colab": {
          "base_uri": "https://localhost:8080/"
        },
        "id": "g6jROYHTm9ih",
        "outputId": "cf05566c-3cd5-4fce-df43-f17eb84e55f1"
      },
      "outputs": [
        {
          "output_type": "execute_result",
          "data": {
            "text/plain": [
              "{'learning_rate': 0.2774574715649442,\n",
              " 'l2_leaf_reg': 0.7867430092456973,\n",
              " 'max_depth': 8,\n",
              " 'min_data_in_leaf': 13,\n",
              " 'early_stopping_rounds': 25,\n",
              " 'verbose': 1,\n",
              " 'iterations': 200,\n",
              " 'task_type': 'GPU',\n",
              " 'devices': '0',\n",
              " 'train_accuracy_home': 0.6091627313417689,\n",
              " 'train_accuracy_draw': 0.40327280041376934,\n",
              " 'train_accuracy_away': 0.5845517489525032,\n",
              " 'test_accuracy_home': 0.6026991363131194,\n",
              " 'test_accuracy_draw': 0.3891517072267974,\n",
              " 'test_accuracy_away': 0.5723457416756549,\n",
              " 'description': 'Catboost Multiclass exclude dynamic relative features',\n",
              " 'dataset': 'football_live_npz_230316/'}"
            ]
          },
          "metadata": {},
          "execution_count": 48
        }
      ],
      "source": [
        "params"
      ]
    },
    {
      "cell_type": "markdown",
      "metadata": {
        "id": "VpnbsG_0yDwB"
      },
      "source": [
        "#### Versioning"
      ]
    },
    {
      "cell_type": "code",
      "execution_count": null,
      "metadata": {
        "colab": {
          "base_uri": "https://localhost:8080/"
        },
        "id": "g-Ep-CXPufA8",
        "outputId": "090c06e0-ff67-44b1-dfd7-ca5509f74d55"
      },
      "outputs": [
        {
          "output_type": "stream",
          "name": "stdout",
          "text": [
            "https://app.neptune.ai/scomesse/football/m/FOOT-LIVEMC/v/FOOT-LIVEMC-3\n",
            "https://app.neptune.ai/scomesse/football/m/FOOT-LIVEMC/v/FOOT-LIVEMC-3\n",
            "Shutting down background jobs, please wait a moment...\n",
            "Done!\n",
            "Waiting for the remaining 18 operations to synchronize with Neptune. Do not kill this process.\n",
            "All 18 operations synced, thanks for waiting!\n",
            "Explore the metadata in the Neptune app:\n",
            "https://app.neptune.ai/scomesse/football/m/FOOT-LIVEMC/v/FOOT-LIVEMC-3/metadata\n"
          ]
        }
      ],
      "source": [
        "target_dict = {'regression1':'FOOT-LIVEBST1',\n",
        "               'regression2':'FOOT-LIVEBST2',\n",
        "               'multiclass':'FOOT-LIVEMC', \n",
        "               'binary_home':'FOOT-LIVEBC', \n",
        "               'binary_draw':'FOOT-LIVEBCDRAW', \n",
        "               'binary_away':'FOOT-LIVEBCAWAY'\n",
        "              }\n",
        "model_version = neptune.init_model_version(\n",
        "    model=target_dict[target_type],\n",
        "    project = 'scomesse/football',\n",
        "    api_token = api_key # your credentials\n",
        ")\n",
        "model_sys = model_version['sys'].fetch()\n",
        "model_version_params = dict(\n",
        "    project = 'scomesse/football',\n",
        "    model = model_sys['model_id'],\n",
        "    api_token = api_key,\n",
        "    with_id = model_sys['id']\n",
        ")\n",
        "model_version = neptune.init_model_version(**model_version_params)\n",
        "#model_version['team2_model'].upload('./booster_team2.model')\n",
        "#model_version['model'].upload('./booster_classification.model')\n",
        "model_version['model'].upload('./booster.model')\n",
        "model_version['team_parameters'] = params\n",
        "model_version.stop()"
      ]
    },
    {
      "cell_type": "code",
      "execution_count": null,
      "metadata": {
        "colab": {
          "base_uri": "https://localhost:8080/"
        },
        "id": "1JCB7_Nuf2ip",
        "outputId": "88459d55-c452-49fe-b615-d53ab6ffacc4"
      },
      "outputs": [
        {
          "output_type": "stream",
          "name": "stdout",
          "text": [
            "https://app.neptune.ai/scomesse/football/m/FOOT-LIVEMC/v/FOOT-LIVEMC-3\n",
            "Shutting down background jobs, please wait a moment...\n",
            "Done!\n",
            "Waiting for the remaining 3 operations to synchronize with Neptune. Do not kill this process.\n",
            "All 3 operations synced, thanks for waiting!\n",
            "Explore the metadata in the Neptune app:\n",
            "https://app.neptune.ai/scomesse/football/m/FOOT-LIVEMC/v/FOOT-LIVEMC-3/metadata\n"
          ]
        }
      ],
      "source": [
        "model_version = neptune.init_model_version(**model_version_params)\n",
        "model_version[f'feature importance'].upload(neptune.types.File.as_html(fig1))\n",
        "if target_type[:-1] == 'regression':\n",
        "    model_version[f'score prediction destribution team 2'].upload(neptune.types.File.as_html(fig2))\n",
        "else:    \n",
        "    model_version[f'confusion matrix train'].upload(neptune.types.File.as_html(cm_train))\n",
        "    model_version[f'confusion matrix test'].upload(neptune.types.File.as_html(cm_test))\n",
        "model_version.stop()"
      ]
    },
    {
      "cell_type": "code",
      "source": [
        "poisson.pmf(7, mu = test_preds * 21, loc = 0)"
      ],
      "metadata": {
        "colab": {
          "base_uri": "https://localhost:8080/"
        },
        "id": "jPEAwuOTtaXo",
        "outputId": "9d344dd3-cddd-4649-b475-d3044c12bfe1"
      },
      "execution_count": null,
      "outputs": [
        {
          "output_type": "execute_result",
          "data": {
            "text/plain": [
              "array([3.56332403e-04, 3.04119560e-04, 2.65949632e-04, ...,\n",
              "       5.89714597e-06, 5.11175603e-06, 4.38099643e-06])"
            ]
          },
          "metadata": {},
          "execution_count": 47
        }
      ]
    }
  ],
  "metadata": {
    "colab": {
      "collapsed_sections": [
        "7dEcqW_jH4pw",
        "X69hHEsFix4n",
        "RocnM6a5lPkc",
        "F7qL3Au-nbm0"
      ],
      "provenance": [],
      "authorship_tag": "ABX9TyMtLu3vHJtQZQ0dho0wllRi",
      "include_colab_link": true
    },
    "gpuClass": "standard",
    "kernelspec": {
      "display_name": "Python 3",
      "name": "python3"
    },
    "language_info": {
      "name": "python"
    },
    "accelerator": "GPU"
  },
  "nbformat": 4,
  "nbformat_minor": 0
}