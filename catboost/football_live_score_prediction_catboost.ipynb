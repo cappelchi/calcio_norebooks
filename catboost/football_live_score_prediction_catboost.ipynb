{
  "cells": [
    {
      "cell_type": "markdown",
      "metadata": {
        "id": "view-in-github",
        "colab_type": "text"
      },
      "source": [
        "<a href=\"https://colab.research.google.com/github/cappelchi/calcio_notebooks/blob/main/catboost/football_live_score_prediction_catboost.ipynb\" target=\"_parent\"><img src=\"https://colab.research.google.com/assets/colab-badge.svg\" alt=\"Open In Colab\"/></a>"
      ]
    },
    {
      "cell_type": "markdown",
      "metadata": {
        "id": "02AGNPYKRvBC"
      },
      "source": [
        "[CatBoost - An In-Depth Guide [Python API]](https://coderzcolumn.com/tutorials/machine-learning/catboost-an-in-depth-guide-python#9)<br>\n",
        "[Catboost](https://catboost.ai/en/docs/concepts/python-reference_pool)<br>\n",
        "[Cross-Validation Techniques](https://medium.com/geekculture/cross-validation-techniques-33d389897878)"
      ]
    },
    {
      "cell_type": "markdown",
      "metadata": {
        "id": "JnoakdYG0WIm"
      },
      "source": [
        "### Project config"
      ]
    },
    {
      "cell_type": "code",
      "execution_count": 1,
      "metadata": {
        "id": "O9bCK_dx0QSM",
        "colab": {
          "base_uri": "https://localhost:8080/",
          "height": 565
        },
        "outputId": "e05ca3c3-3ab5-4a28-ca91-223e2fed3356"
      },
      "outputs": [
        {
          "output_type": "stream",
          "name": "stdout",
          "text": [
            "\u001b[31mERROR: Operation cancelled by user\u001b[0m\u001b[31m\n",
            "\u001b[0m"
          ]
        },
        {
          "output_type": "error",
          "ename": "ModuleNotFoundError",
          "evalue": "ignored",
          "traceback": [
            "\u001b[0;31m---------------------------------------------------------------------------\u001b[0m",
            "\u001b[0;31mModuleNotFoundError\u001b[0m                       Traceback (most recent call last)",
            "\u001b[0;32m<ipython-input-1-94b4efcbc4c0>\u001b[0m in \u001b[0;36m<module>\u001b[0;34m\u001b[0m\n\u001b[1;32m      1\u001b[0m \u001b[0;32mtry\u001b[0m\u001b[0;34m:\u001b[0m\u001b[0;34m\u001b[0m\u001b[0;34m\u001b[0m\u001b[0m\n\u001b[0;32m----> 2\u001b[0;31m     \u001b[0;32mimport\u001b[0m \u001b[0mneptune\u001b[0m\u001b[0;34m.\u001b[0m\u001b[0mnew\u001b[0m \u001b[0;32mas\u001b[0m \u001b[0mneptune\u001b[0m\u001b[0;34m\u001b[0m\u001b[0;34m\u001b[0m\u001b[0m\n\u001b[0m\u001b[1;32m      3\u001b[0m \u001b[0;32mexcept\u001b[0m\u001b[0;34m:\u001b[0m\u001b[0;34m\u001b[0m\u001b[0;34m\u001b[0m\u001b[0m\n",
            "\u001b[0;31mModuleNotFoundError\u001b[0m: No module named 'neptune'",
            "\nDuring handling of the above exception, another exception occurred:\n",
            "\u001b[0;31mModuleNotFoundError\u001b[0m                       Traceback (most recent call last)",
            "\u001b[0;32m<ipython-input-1-94b4efcbc4c0>\u001b[0m in \u001b[0;36m<module>\u001b[0;34m\u001b[0m\n\u001b[1;32m      3\u001b[0m \u001b[0;32mexcept\u001b[0m\u001b[0;34m:\u001b[0m\u001b[0;34m\u001b[0m\u001b[0;34m\u001b[0m\u001b[0m\n\u001b[1;32m      4\u001b[0m     \u001b[0mget_ipython\u001b[0m\u001b[0;34m(\u001b[0m\u001b[0;34m)\u001b[0m\u001b[0;34m.\u001b[0m\u001b[0msystem\u001b[0m\u001b[0;34m(\u001b[0m\u001b[0;34m'pip install neptune-client >> None'\u001b[0m\u001b[0;34m)\u001b[0m\u001b[0;34m\u001b[0m\u001b[0;34m\u001b[0m\u001b[0m\n\u001b[0;32m----> 5\u001b[0;31m     \u001b[0;32mimport\u001b[0m \u001b[0mneptune\u001b[0m\u001b[0;34m.\u001b[0m\u001b[0mnew\u001b[0m \u001b[0;32mas\u001b[0m \u001b[0mneptune\u001b[0m\u001b[0;34m\u001b[0m\u001b[0;34m\u001b[0m\u001b[0m\n\u001b[0m\u001b[1;32m      6\u001b[0m \u001b[0;31m#from neptune.new.integrations.tensorflow_keras import NeptuneCallback\u001b[0m\u001b[0;34m\u001b[0m\u001b[0;34m\u001b[0m\u001b[0;34m\u001b[0m\u001b[0m\n\u001b[1;32m      7\u001b[0m \u001b[0;32mdef\u001b[0m \u001b[0mget_credential\u001b[0m\u001b[0;34m(\u001b[0m\u001b[0mfrmwork\u001b[0m \u001b[0;34m=\u001b[0m \u001b[0;34m'neptune_team'\u001b[0m\u001b[0;34m)\u001b[0m\u001b[0;34m:\u001b[0m\u001b[0;34m\u001b[0m\u001b[0;34m\u001b[0m\u001b[0m\n",
            "\u001b[0;31mModuleNotFoundError\u001b[0m: No module named 'neptune'",
            "",
            "\u001b[0;31m---------------------------------------------------------------------------\u001b[0;32m\nNOTE: If your import is failing due to a missing package, you can\nmanually install dependencies using either !pip or !apt.\n\nTo view examples of installing some common dependencies, click the\n\"Open Examples\" button below.\n\u001b[0;31m---------------------------------------------------------------------------\u001b[0m\n"
          ],
          "errorDetails": {
            "actions": [
              {
                "action": "open_url",
                "actionText": "Open Examples",
                "url": "/notebooks/snippets/importing_libraries.ipynb"
              }
            ]
          }
        }
      ],
      "source": [
        "try:\n",
        "    import neptune.new as neptune\n",
        "except:\n",
        "    !pip install neptune-client >> None\n",
        "    import neptune.new as neptune\n",
        "#from neptune.new.integrations.tensorflow_keras import NeptuneCallback\n",
        "def get_credential(frmwork = 'neptune_team'):\n",
        "    with open('credential.txt', 'r') as container:\n",
        "        for line in container:\n",
        "            if frmwork in line:\n",
        "                login, psw = line.split(' ')[1], line.split(' ')[2].split('\\n')[0]\n",
        "                return login, psw"
      ]
    },
    {
      "cell_type": "code",
      "execution_count": null,
      "metadata": {
        "id": "oDK6n6CVQidT"
      },
      "outputs": [],
      "source": [
        "#@title Set API key for neptune.ai\n",
        "set_api = True #@param {type:\"boolean\"}\n",
        "if set_api:\n",
        "    username, api_key = get_credential()"
      ]
    },
    {
      "cell_type": "markdown",
      "metadata": {
        "id": "7dEcqW_jH4pw"
      },
      "source": [
        "### Installations"
      ]
    },
    {
      "cell_type": "code",
      "execution_count": null,
      "metadata": {
        "id": "dP-bo_CB7GgI"
      },
      "outputs": [],
      "source": [
        "!pip install catboost >> None\n",
        "!pip install deap >> None"
      ]
    },
    {
      "cell_type": "markdown",
      "metadata": {
        "id": "X69hHEsFix4n"
      },
      "source": [
        "### Downloads"
      ]
    },
    {
      "cell_type": "code",
      "execution_count": null,
      "metadata": {
        "id": "ccFhlCBt1jw8"
      },
      "outputs": [],
      "source": [
        "data_version = 'football_live_npz_230105/'\n",
        "project = neptune.init_project(\n",
        "    name=\"scomesse/football\", \n",
        "    api_token = api_key\n",
        "    )\n",
        "project[data_version + 'dataset'].download('./dataset.npz')\n",
        "params = project[data_version + 'params'].fetch()\n",
        "project.stop()"
      ]
    },
    {
      "cell_type": "markdown",
      "metadata": {
        "id": "RocnM6a5lPkc"
      },
      "source": [
        "### Imports"
      ]
    },
    {
      "cell_type": "code",
      "execution_count": null,
      "metadata": {
        "id": "EWwYvlK9ZKpg"
      },
      "outputs": [],
      "source": [
        "import pandas as pd\n",
        "import numpy as np\n",
        "pd.options.display.max_columns = 50\n",
        "pd.options.display.max_rows = 100\n",
        "print(pd.__version__)\n",
        "print(np.__version__)"
      ]
    },
    {
      "cell_type": "code",
      "execution_count": null,
      "metadata": {
        "id": "lZfysmuzW4XD"
      },
      "outputs": [],
      "source": [
        "from tqdm import tqdm\n",
        "import plotly.express as px\n",
        "from scipy.stats import poisson"
      ]
    },
    {
      "cell_type": "code",
      "execution_count": null,
      "metadata": {
        "id": "2RJZ4eSygIDl"
      },
      "outputs": [],
      "source": [
        "from catboost import CatBoost\n",
        "from catboost import utils\n",
        "from catboost import CatBoostClassifier, CatBoostRegressor\n",
        "from catboost import Pool, cv\n",
        "from catboost.utils import eval_metric\n",
        "np.random.seed(147)"
      ]
    },
    {
      "cell_type": "code",
      "execution_count": null,
      "metadata": {
        "id": "WVvWFBQVfBvO"
      },
      "outputs": [],
      "source": [
        "import operator\n",
        "import random\n",
        "from deap import base\n",
        "from deap import creator\n",
        "from deap import tools\n",
        "from deap import algorithms"
      ]
    },
    {
      "cell_type": "markdown",
      "metadata": {
        "id": "umm53OS2Ljgg"
      },
      "source": [
        "### Code"
      ]
    },
    {
      "cell_type": "markdown",
      "metadata": {
        "id": "F7qL3Au-nbm0"
      },
      "source": [
        "#####Functions"
      ]
    },
    {
      "cell_type": "code",
      "execution_count": null,
      "metadata": {
        "id": "MvlxY9v4EGv3"
      },
      "outputs": [],
      "source": [
        "def eaSimpleWithElitism(population, toolbox, cxpb, mutpb, ngen, stats=None,\n",
        "             halloffame=None, verbose=__debug__):\n",
        "    \"\"\"This algorithm is similar to DEAP eaSimple() algorithm, with the modification that\n",
        "    halloffame is used to implement an elitism mechanism. The individuals contained in the\n",
        "    halloffame are directly injected into the next generation and are not subject to the\n",
        "    genetic operators of selection, crossover and mutation.\n",
        "    \"\"\"\n",
        "    logbook = tools.Logbook()\n",
        "    logbook.header = ['gen', 'nevals'] + (stats.fields if stats else [])\n",
        "\n",
        "    # Evaluate the individuals with an invalid fitness\n",
        "    invalid_ind = [ind for ind in population if not ind.fitness.valid]\n",
        "    fitnesses = toolbox.map(toolbox.evaluate, invalid_ind)\n",
        "    for ind, fit in zip(invalid_ind, fitnesses):\n",
        "        ind.fitness.values = fit\n",
        "\n",
        "    if halloffame is None:\n",
        "        raise ValueError(\"halloffame parameter must not be empty!\")\n",
        "\n",
        "    halloffame.update(population)\n",
        "    hof_size = len(halloffame.items) if halloffame.items else 0\n",
        "\n",
        "    record = stats.compile(population) if stats else {}\n",
        "    logbook.record(gen=0, nevals=len(invalid_ind), **record)\n",
        "    if verbose:\n",
        "        print(logbook.stream)\n",
        "\n",
        "    # Begin the generational process\n",
        "    for gen in range(1, ngen + 1):\n",
        "\n",
        "        # Select the next generation individuals\n",
        "        offspring = toolbox.select(population, len(population) - hof_size)\n",
        "\n",
        "        # Vary the pool of individuals\n",
        "        offspring = algorithms.varAnd(offspring, toolbox, cxpb, mutpb)\n",
        "\n",
        "        # Evaluate the individuals with an invalid fitness\n",
        "        invalid_ind = [ind for ind in offspring if not ind.fitness.valid]\n",
        "        fitnesses = toolbox.map(toolbox.evaluate, invalid_ind)\n",
        "        for ind, fit in zip(invalid_ind, fitnesses):\n",
        "            ind.fitness.values = fit\n",
        "\n",
        "        # add the best back to population:\n",
        "        offspring.extend(halloffame.items)\n",
        "\n",
        "        # Update the hall of fame with the generated individuals\n",
        "        halloffame.update(offspring)\n",
        "\n",
        "        # Replace the current population by the offspring\n",
        "        population[:] = offspring\n",
        "\n",
        "        # Append the current generation statistics to the logbook\n",
        "        record = stats.compile(population) if stats else {}\n",
        "        logbook.record(gen=gen, nevals=len(invalid_ind), **record)\n",
        "        if verbose:\n",
        "            print(logbook.stream)\n",
        "\n",
        "    return population, logbook"
      ]
    },
    {
      "cell_type": "markdown",
      "metadata": {
        "id": "_Mux9N1MEOG0"
      },
      "source": [
        "#### Prepare Data"
      ]
    },
    {
      "cell_type": "markdown",
      "source": [
        "1. регрессия\n",
        "2. мультиклассовая класификация {AWAY:0,DRAW:1, HOME:2} \n",
        "3. бинарная классификация: <br>\n",
        "    a. HOME vs (DRAW & AWAY)<br>\n",
        "    б. DRAW vs (HOME & AWAY)<br>\n",
        "    в. AWAY vs (HOME & DRAW)<br>"
      ],
      "metadata": {
        "id": "_C_eihnpDGIn"
      }
    },
    {
      "cell_type": "code",
      "execution_count": null,
      "metadata": {
        "id": "8t3MevapEQS2"
      },
      "outputs": [],
      "source": [
        "dataset_name = './dataset.npz'\n",
        "data_npz = np.load(dataset_name)\n",
        "X_train, X_test = data_npz['X_train'], data_npz['X_test']"
      ]
    },
    {
      "cell_type": "code",
      "source": [
        "#@title Выбор таргета\n",
        "target_type = \"regression1\" #@param [\"regression1\", \"regression2\", \"multiclass\", \"binary_home\", \"binary_draw\", \"binary_away\"]\n",
        "if target_type == 'regression1':\n",
        "    y_train, y_test = data_npz['y_train_regression1'], data_npz['y_test_regression1']\n",
        "elif target_type == 'regression2':\n",
        "    y_train, y_test = data_npz['y_train_regression2'], data_npz['y_test_regression2']\n",
        "elif target_type == 'multiclass':\n",
        "    y_train, y_test =  data_npz['y_train_multi'], data_npz['y_test_multi']\n",
        "elif target_type == 'binary_home':\n",
        "    y_train, y_test =  1 * (data_npz['y_train_multi'] == 2), 1 * (data_npz['y_test_multi'] == 2)\n",
        "elif target_type == 'binary_draw':\n",
        "    y_train, y_test =  1 * (data_npz['y_train_multi'] == 1), 1 * (data_npz['y_test_multi'] == 1)\n",
        "elif target_type == 'binary_away':\n",
        "    y_train, y_test =  1 * (data_npz['y_train_multi'] == 0), 1 * (data_npz['y_test_multi'] == 0)\n"
      ],
      "metadata": {
        "id": "P6qUsJdVJ8Rx"
      },
      "execution_count": null,
      "outputs": []
    },
    {
      "cell_type": "code",
      "execution_count": null,
      "metadata": {
        "id": "ocQ4LaYJFx35"
      },
      "outputs": [],
      "source": [
        "X_train.shape, X_test.shape"
      ]
    },
    {
      "cell_type": "code",
      "execution_count": null,
      "metadata": {
        "id": "DdYqi_HUvwbs"
      },
      "outputs": [],
      "source": [
        "cols = [element for element in\n",
        "params['features'].replace('[', '').replace(']','').replace(' ','').replace(\"'\",\"\").split(',')]"
      ]
    },
    {
      "cell_type": "code",
      "execution_count": null,
      "metadata": {
        "id": "X0FGK2xrF7M4"
      },
      "outputs": [],
      "source": [
        "train_data = Pool(X_train, y_train)\n",
        "test_data = Pool(X_test, y_test)"
      ]
    },
    {
      "cell_type": "code",
      "execution_count": null,
      "metadata": {
        "id": "l2XbnPOWG7Xn"
      },
      "outputs": [],
      "source": [
        "gpu_cnt = utils.get_gpu_device_count()\n",
        "print(\"Number of GPU Count : \",gpu_cnt)"
      ]
    },
    {
      "cell_type": "markdown",
      "metadata": {
        "id": "_1MwacmNHZNa"
      },
      "source": [
        "#### GA"
      ]
    },
    {
      "cell_type": "code",
      "execution_count": null,
      "metadata": {
        "id": "Ho8x4etjHYm2"
      },
      "outputs": [],
      "source": [
        "def evaluate_score(\n",
        "    individual, train_data = train_data, test_data = test_data, \n",
        "    target_type = target_type, gpu_cnt = gpu_cnt\n",
        "                    ):\n",
        "    lr = individual[0]\n",
        "    l2 = 0.1 + individual[1]\n",
        "    mdepth = int(individual[2])\n",
        "    minleaf = int(individual[3])\n",
        "    #maxleaves = int(20 + individual[4] * 44)\n",
        "    #leafmethod = ['Newton', 'Gradient', 'Exact'][int(individual[4] * 2.9)]\n",
        "    params = {\n",
        "        'learning_rate':lr,\n",
        "        'l2_leaf_reg':l2,\n",
        "        'max_depth':mdepth,\n",
        "        'min_data_in_leaf':minleaf,\n",
        "        #'leaf_estimation_method':leafmethod,\n",
        "        'early_stopping_rounds':15,\n",
        "        'verbose':0,\n",
        "        'iterations':50        \n",
        "    }\n",
        "    if gpu_cnt > 0:\n",
        "        params.update({\n",
        "            'task_type':\"GPU\", \n",
        "            'devices':'0'\n",
        "        })\n",
        "    if target_type[:-1] == 'regression':\n",
        "        params.update({'loss_function':'RMSE'})\n",
        "        booster = CatBoostRegressor(\n",
        "                        **params        \n",
        "                        )\n",
        "    else:\n",
        "        booster = CatBoostClassifier(\n",
        "                        **params        \n",
        "                        )\n",
        "\n",
        "    booster.fit(train_data, eval_set = test_data)\n",
        "    #print(booster.get_best_score()['validation']['RMSE'])\n",
        "    if target_type[:-1] == 'regression':\n",
        "        #print(booster.get_best_score()['validation']['RMSE'], lr, l2, mdepth, minleaf)\n",
        "        return booster.get_best_score()['validation']['RMSE'],\n",
        "    elif target_type == 'multiclass':\n",
        "        return booster.get_best_score()['validation']['MultiClass'],\n",
        "    elif target_type == 'binary_home':\n",
        "        return booster.get_best_score()['validation']['Logloss'],\n",
        "    elif target_type == 'binary_draw':\n",
        "        return booster.get_best_score()['validation']['Logloss'],\n",
        "    elif target_type == 'binary_away':\n",
        "        return booster.get_best_score()['validation']['Logloss'],"
      ]
    },
    {
      "cell_type": "code",
      "execution_count": null,
      "metadata": {
        "id": "C5m9gB9XHylh"
      },
      "outputs": [],
      "source": [
        "hyper_parameters = {\n",
        "    'lr':{'rand':random.uniform, 'b_low':0.01, 'b_high':0.95},\n",
        "    'l2':{'rand':random.uniform,'b_low':0.01, 'b_high':0.95},\n",
        "    'max_depth':{'rand':random.randint,'b_low':1, 'b_high':15},\n",
        "    'min_leaf':{'rand':random.randint,'b_low':1, 'b_high':16}\n",
        "            }\n",
        "\n",
        "NUM_OF_PARAMS = len(hyper_parameters)\n",
        "CROWDING_FACTOR = 20.0  # crowding factor for crossover and mutation\n",
        "\n",
        "creator.create(\"FitnessMin\", base.Fitness, weights=(-1.0,))\n",
        "creator.create(\"Individual\", list, fitness=creator.FitnessMin)\n",
        "\n",
        "toolbox = base.Toolbox()\n",
        "# define the hyperparameter attributes individually:\n",
        "for name, param in hyper_parameters.items():\n",
        "    # \"hyperparameter_0\", \"hyperparameter_1\", ...\n",
        "    print(name, param, param['b_low'], param['b_high'])\n",
        "    toolbox.register(name,\n",
        "                     random.uniform,\n",
        "                     param['b_low'],\n",
        "                     param['b_high'])\n",
        "# create a tuple containing an attribute generator for each param searched:\n",
        "hyperparameters = ()\n",
        "for name, _ in hyper_parameters.items():\n",
        "    print(name)\n",
        "    hyperparameters = hyperparameters + \\\n",
        "                      (toolbox.__getattribute__(name),)\n",
        "\n",
        "# create the individual operator to fill up an Individual instance:\n",
        "toolbox.register(\"individualCreator\",\n",
        "                 tools.initCycle,\n",
        "                 creator.Individual,\n",
        "                 hyperparameters,\n",
        "                 n=1)\n",
        "\n",
        "# create the population operator to generate a list of individuals:\n",
        "toolbox.register(\"populationCreator\", tools.initRepeat, list, toolbox.individualCreator)\n",
        "\n",
        "toolbox.register(\"mate\",\n",
        "                 tools.cxSimulatedBinaryBounded,\n",
        "                 low = [value['b_low'] for key, value in hyper_parameters.items()],\n",
        "                 up = [value['b_high'] for key, value in hyper_parameters.items()],\n",
        "                 eta = CROWDING_FACTOR)\n",
        "toolbox.register(\"mutate\",\n",
        "                 tools.mutPolynomialBounded,\n",
        "                 low = [value['b_low'] for key, value in hyper_parameters.items()],\n",
        "                 up = [value['b_high'] for key, value in hyper_parameters.items()],\n",
        "                 eta = CROWDING_FACTOR,\n",
        "                 indpb = 2.0 / NUM_OF_PARAMS)\n",
        "toolbox.register('evaluate', evaluate_score) # регистрируем целевую функию\n",
        "toolbox.register('select', tools.selTournament, tournsize = 2) # регистрируем схему отбора\n",
        "\n",
        "fit_stats = tools.Statistics(key=operator.attrgetter(\"fitness.values\"))\n",
        "fit_stats.register(\"avg\", np.mean)\n",
        "fit_stats.register(\"std\", np.std)\n",
        "fit_stats.register(\"min\", np.min)\n",
        "fit_stats.register(\"max\", np.max)"
      ]
    },
    {
      "cell_type": "code",
      "source": [
        "# Genetic Algorithm constants:\n",
        "POPULATION_SIZE = 50\n",
        "P_CROSSOVER = 0.9  # probability for crossover\n",
        "P_MUTATION = 0.5   # probability for mutating an individual\n",
        "MAX_GENERATIONS = 10\n",
        "HALL_OF_FAME_SIZE = 4"
      ],
      "metadata": {
        "id": "Vm8bDOK5AI4K"
      },
      "execution_count": null,
      "outputs": []
    },
    {
      "cell_type": "code",
      "source": [
        "elitism = True\n",
        "if elitism:\n",
        "    pop = toolbox.populationCreator(n = POPULATION_SIZE) # количество популяций (прогонов) на эпоху(поколение)\n",
        "    hof = tools.HallOfFame(HALL_OF_FAME_SIZE)\n",
        "    pop, log = eaSimpleWithElitism(\n",
        "        pop, toolbox, stats=fit_stats, halloffame=hof, verbose=True,\n",
        "        cxpb = P_CROSSOVER, # скрещивание\n",
        "        mutpb = P_MUTATION,  # мутации\n",
        "        ngen = MAX_GENERATIONS, # количество эпох - поколений \n",
        "    )"
      ],
      "metadata": {
        "id": "yqYfNh3NALaC"
      },
      "execution_count": null,
      "outputs": []
    },
    {
      "cell_type": "code",
      "execution_count": null,
      "metadata": {
        "id": "xKsxthQBH9Gv"
      },
      "outputs": [],
      "source": [
        "if not elitism:\n",
        "    pop = toolbox.populationCreator(n = POPULATION_SIZE) # количество популяций (прогонов) на эпоху(поколение)\n",
        "    hof = tools.HallOfFame(HALL_OF_FAME_SIZE)\n",
        "    pop, log = algorithms.eaSimple(\n",
        "        pop, toolbox, stats=fit_stats, halloffame=hof, verbose=True,\n",
        "        cxpb = P_CROSSOVER, # скрещивание\n",
        "        mutpb = P_MUTATION,  # мутации\n",
        "        ngen = MAX_GENERATIONS # количество эпох - поколений\n",
        "                        )"
      ]
    },
    {
      "cell_type": "code",
      "execution_count": null,
      "metadata": {
        "id": "KfBvFitzRyaW"
      },
      "outputs": [],
      "source": [
        "px.line(log.select('min'))"
      ]
    },
    {
      "cell_type": "code",
      "execution_count": null,
      "metadata": {
        "colab": {
          "base_uri": "https://localhost:8080/"
        },
        "id": "PBhEBPg35V4e",
        "outputId": "171270b2-8e43-45a8-a29d-b18d5949d8b2"
      },
      "outputs": [
        {
          "data": {
            "text/plain": [
              "[[0.1739599025083567,\n",
              "  0.4978084699779165,\n",
              "  0.8263521520216448,\n",
              "  0.955552191452285],\n",
              " [0.1739599025083567,\n",
              "  0.4978084699779165,\n",
              "  0.8263521520216448,\n",
              "  0.955552191452285],\n",
              " [0.1739599025083567,\n",
              "  0.4978084699779165,\n",
              "  0.8263521520216448,\n",
              "  0.955552191452285],\n",
              " [0.1739599025083567,\n",
              "  0.4978084699779165,\n",
              "  0.8263521520216448,\n",
              "  0.7963850458524759]]"
            ]
          },
          "execution_count": 19,
          "metadata": {},
          "output_type": "execute_result"
        }
      ],
      "source": [
        "tools.selBest(pop, k=4)"
      ]
    },
    {
      "cell_type": "code",
      "execution_count": null,
      "metadata": {
        "id": "m5EMS8Of_2yo"
      },
      "outputs": [],
      "source": [
        "best_individual = tools.selBest(pop, k=4)"
      ]
    },
    {
      "cell_type": "code",
      "execution_count": null,
      "metadata": {
        "id": "shUGt2EH_6qR"
      },
      "outputs": [],
      "source": [
        "best_individual = [[0.1739599025083567,\n",
        "  0.4978084699779165,\n",
        "  0.8263521520216448,\n",
        "  0.955552191452285]]"
      ]
    },
    {
      "cell_type": "code",
      "execution_count": null,
      "metadata": {
        "colab": {
          "base_uri": "https://localhost:8080/"
        },
        "id": "zpWl5973a1nR",
        "outputId": "160bdf2b-9a92-4707-ca6f-3aa7eb611a9f"
      },
      "outputs": [
        {
          "name": "stdout",
          "output_type": "stream",
          "text": [
            "{'learning_rate': 0.16656391225752104, 'l2_leaf_reg': 0.2991233879911666, 'max_depth': 9, 'min_data_in_leaf': 15, 'early_stopping_rounds': 25, 'verbose': 10, 'iterations': 200, 'loss_function': 'RMSE'}\n",
            "0:\tlearn: 0.0597642\ttest: 0.0600099\tbest: 0.0600099 (0)\ttotal: 3.88s\tremaining: 12m 52s\n",
            "10:\tlearn: 0.0555031\ttest: 0.0557724\tbest: 0.0557724 (10)\ttotal: 33s\tremaining: 9m 27s\n",
            "20:\tlearn: 0.0551062\ttest: 0.0554163\tbest: 0.0554163 (20)\ttotal: 1m 2s\tremaining: 8m 55s\n",
            "30:\tlearn: 0.0549587\ttest: 0.0553253\tbest: 0.0553253 (30)\ttotal: 1m 26s\tremaining: 7m 49s\n",
            "40:\tlearn: 0.0548539\ttest: 0.0552724\tbest: 0.0552724 (40)\ttotal: 1m 52s\tremaining: 7m 14s\n",
            "50:\tlearn: 0.0547722\ttest: 0.0552358\tbest: 0.0552358 (50)\ttotal: 2m 18s\tremaining: 6m 44s\n",
            "60:\tlearn: 0.0547067\ttest: 0.0552192\tbest: 0.0552191 (58)\ttotal: 2m 44s\tremaining: 6m 13s\n",
            "70:\tlearn: 0.0546485\ttest: 0.0552042\tbest: 0.0552042 (70)\ttotal: 3m 12s\tremaining: 5m 49s\n",
            "80:\tlearn: 0.0545941\ttest: 0.0551948\tbest: 0.0551945 (79)\ttotal: 3m 39s\tremaining: 5m 21s\n",
            "90:\tlearn: 0.0545453\ttest: 0.0551877\tbest: 0.0551873 (89)\ttotal: 4m 6s\tremaining: 4m 55s\n",
            "100:\tlearn: 0.0544996\ttest: 0.0551831\tbest: 0.0551831 (100)\ttotal: 4m 31s\tremaining: 4m 26s\n",
            "110:\tlearn: 0.0544550\ttest: 0.0551835\tbest: 0.0551796 (107)\ttotal: 4m 58s\tremaining: 3m 59s\n",
            "120:\tlearn: 0.0544061\ttest: 0.0551830\tbest: 0.0551796 (107)\ttotal: 5m 28s\tremaining: 3m 34s\n",
            "130:\tlearn: 0.0543627\ttest: 0.0551810\tbest: 0.0551796 (107)\ttotal: 5m 54s\tremaining: 3m 6s\n",
            "Stopped by overfitting detector  (25 iterations wait)\n",
            "\n",
            "bestTest = 0.05517959517\n",
            "bestIteration = 107\n",
            "\n",
            "Shrink model to first 108 iterations.\n"
          ]
        },
        {
          "data": {
            "text/plain": [
              "<catboost.core.CatBoostRegressor at 0x7fb62fb65c70>"
            ]
          },
          "execution_count": 16,
          "metadata": {},
          "output_type": "execute_result"
        }
      ],
      "source": [
        "num = 0\n",
        "lr = best_individual[num][0]\n",
        "l2 = best_individual[num][1]\n",
        "mdepth = int(best_individual[num][2])\n",
        "minleaf = int(best_individual[num][3])\n",
        "params = {\n",
        "    'learning_rate':lr,\n",
        "    'l2_leaf_reg':l2,\n",
        "    'max_depth':mdepth,\n",
        "    'min_data_in_leaf':minleaf,\n",
        "    #'leaf_estimation_method':leafmethod,\n",
        "    'early_stopping_rounds':25,\n",
        "    'verbose':1,\n",
        "    'iterations':200\n",
        "}\n",
        "if gpu_cnt > 0:\n",
        "    params.update({\n",
        "        'task_type':\"GPU\", \n",
        "        'devices':'0'\n",
        "    })\n",
        "if target_type[:-1] == 'regression':\n",
        "    params.update({'loss_function':'RMSE'})\n",
        "    booster = CatBoostRegressor(\n",
        "                    **params        \n",
        "                    )\n",
        "else:\n",
        "    booster = CatBoostClassifier(\n",
        "                    **params        \n",
        "                    )\n",
        "print(params)\n",
        "booster.fit(train_data, eval_set = test_data)"
      ]
    },
    {
      "cell_type": "code",
      "execution_count": null,
      "metadata": {
        "colab": {
          "base_uri": "https://localhost:8080/"
        },
        "id": "lP6eLVwqcZob",
        "outputId": "bf27c2ce-4d89-4f51-faaa-69882dc0d81e"
      },
      "outputs": [
        {
          "data": {
            "text/plain": [
              "(array([1.31122664, 1.27532263, 1.24586766, 1.28241983, 1.26379012]),\n",
              " array([0.74926088, 0.7314404 , 0.67577904, 0.66547815, 0.7038123 ]))"
            ]
          },
          "execution_count": 17,
          "metadata": {},
          "output_type": "execute_result"
        }
      ],
      "source": [
        "#-------------multiclass -------------\n",
        "if target_type == 'multiclass':\n",
        "    test_preds = booster.predict(X_test, prediction_type=\"Class\").flatten()\n",
        "    train_preds = booster.predict(X_train, prediction_type=\"Class\").flatten()\n",
        "#-------------regression & binary classification\n",
        "else:\n",
        "    test_preds = booster.predict(X_test)\n",
        "    train_preds = booster.predict(X_train)    \n",
        "#test_preds[:5], train_preds[:5]"
      ]
    },
    {
      "cell_type": "code",
      "execution_count": null,
      "metadata": {
        "colab": {
          "base_uri": "https://localhost:8080/"
        },
        "id": "82VgcxZocdhX",
        "outputId": "324167c3-3e47-4654-9911-37b3c5457020"
      },
      "outputs": [
        {
          "name": "stdout",
          "output_type": "stream",
          "text": [
            "Test  RMSE : 0.0552\n",
            "Train RMSE :  0.054470\n",
            "Test  R2 : 0.1984\n",
            "Train R2 :  0.212063\n"
          ]
        }
      ],
      "source": [
        "#-------------multiclass classsification-------------\n",
        "if target_type == 'multiclass':\n",
        "    params['train_accuracy_home'] = np.sum((y_train == 2) & (train_preds == 2)) / np.sum(train_preds == 2)\n",
        "    params['train_accuracy_draw'] = np.sum((y_train == 1) & (train_preds == 1)) / np.sum(train_preds == 1)\n",
        "    params['train_accuracy_away'] = np.sum((y_train == 0) & (train_preds == 0)) / np.sum(train_preds == 0)\n",
        "\n",
        "    print(\"Train Accuracy Home: %.4f\"%params['train_accuracy_home'])\n",
        "    print(\"Train Accuracy Draw: %.4f\"%params['train_accuracy_draw'])\n",
        "    print(\"Train Accuracy Away: %.4f\"%params['train_accuracy_away'])\n",
        "\n",
        "    params['test_accuracy_home'] = np.sum((y_test == 2) & (test_preds == 2)) / np.sum(test_preds == 2)\n",
        "    params['test_accuracy_draw'] = np.sum((y_test == 1) & (test_preds == 1)) / np.sum(test_preds == 1)\n",
        "    params['test_accuracy_away'] = np.sum((y_test == 0) & (test_preds == 0)) / np.sum(test_preds == 0)\n",
        "\n",
        "    print(\"Test Accuracy Home: %.4f\"%params['test_accuracy_home'])\n",
        "    print(\"Test Accuracy Draw: %.4f\"%params['test_accuracy_draw'])\n",
        "    print(\"Test Accuracy Away: %.4f\"%params['test_accuracy_away'])\n",
        "    #print(\"Test  Accuracy : %.4f\"%params['train_accuracy'])"
      ]
    },
    {
      "cell_type": "code",
      "source": [
        "if target_type == 'multiclass':\n",
        "    z_train = np.zeros((3,3))\n",
        "    z_test = np.zeros((3,3))\n",
        "    for pred_class in range(3):\n",
        "        for true_class in range(3):\n",
        "            z_train[true_class, pred_class] = np.sum((train_preds == pred_class) & (y_train == true_class))\n",
        "            z_test[true_class, pred_class] = np.sum((test_preds == pred_class) & (y_test == true_class))"
      ],
      "metadata": {
        "id": "F8jdx6DvAtYC"
      },
      "execution_count": null,
      "outputs": []
    },
    {
      "cell_type": "code",
      "source": [
        "if target_type == 'multiclass':\n",
        "    title_text = 'confusion matrix train'\n",
        "\n",
        "    x = ['Away', 'Draw', 'Home']\n",
        "    y = ['Away', 'Draw', 'Home']\n",
        "\n",
        "    cm_train = px.imshow(z_train, x=x, y=y, color_continuous_scale='Purples', text_auto=True)\n",
        "    cm_train.update_xaxes(title_text = 'Predicted Label')\n",
        "    cm_train.update_yaxes(title_text = 'True Label')\n",
        "    cm_train.update_layout(\n",
        "        height = 400,\n",
        "        title_text = title_text,\n",
        "        title_font_size=20,\n",
        "        title_x=0.5,\n",
        "        paper_bgcolor='rgb(229, 237, 247)',\n",
        "        plot_bgcolor='rgb(229, 237, 247)',    \n",
        "        )\n",
        "    cm_train.update_coloraxes(showscale=False)\n",
        "    cm_train.show()"
      ],
      "metadata": {
        "id": "jqbboyUmAxi1"
      },
      "execution_count": null,
      "outputs": []
    },
    {
      "cell_type": "code",
      "source": [
        "if target_type == 'multiclass':\n",
        "    title_text = 'confusion matrix test'\n",
        "\n",
        "    x = ['Away', 'Draw', 'Home']\n",
        "    y = ['Away', 'Draw', 'Home']\n",
        "\n",
        "    cm_test = px.imshow(z_test, x=x, y=y, color_continuous_scale='Purples', text_auto=True)\n",
        "    cm_test.update_xaxes(title_text = 'Predicted Label')\n",
        "    cm_test.update_yaxes(title_text = 'True Label')\n",
        "    cm_test.update_layout(\n",
        "        height = 400,\n",
        "        title_text = title_text,\n",
        "        title_font_size=20,\n",
        "        title_x=0.5,\n",
        "        paper_bgcolor='rgb(229, 237, 247)',\n",
        "        plot_bgcolor='rgb(229, 237, 247)',    \n",
        "        )\n",
        "    cm_test.update_coloraxes(showscale=False)\n",
        "    cm_test.show()"
      ],
      "metadata": {
        "id": "FcohEbp5AzyV"
      },
      "execution_count": null,
      "outputs": []
    },
    {
      "cell_type": "code",
      "source": [
        "#-------------binary classsification-------------\n",
        "if 'binary' in target_type:\n",
        "    params['train_accuracy'] = booster.score(train_data)\n",
        "    params['test_accuracy'] = booster.score(test_data)\n",
        "    print(\"Test  Accuracy : %.4f\"%params['train_accuracy'])\n",
        "    print(\"Train Accuracy : %.4f\"%params['test_accuracy'])"
      ],
      "metadata": {
        "id": "PsjDBX5uA8AB"
      },
      "execution_count": null,
      "outputs": []
    },
    {
      "cell_type": "code",
      "source": [
        "#-------------binary classsification-------------\n",
        "if 'binary' in target_type:\n",
        "    tp = target_type.split('_')[1]\n",
        "    type = tp\n",
        "    params[f'train_accuracy_{type}'] = np.sum((y_train == 1) & (train_preds == 1)) / np.sum(train_preds == 1)\n",
        "    params['train_accuracy_rest'] = np.sum((y_train == 0) & (train_preds == 0)) / np.sum(train_preds == 0)\n",
        "\n",
        "    print(f\"Train Accuracy {type}: %.4f\"%params[f'train_accuracy_{type}'])\n",
        "    print(\"Train Accuracy Rest: %.4f\"%params['train_accuracy_rest'])\n",
        "\n",
        "    params[f'test_accuracy_{type}'] = np.sum((y_test == 1) & (test_preds == 1)) / np.sum(test_preds == 1)\n",
        "    params['test_accuracy_rest'] = np.sum((y_test == 0) & (test_preds == 0)) / np.sum(test_preds == 0)\n",
        "\n",
        "    print(f\"Test Accuracy {type}: %.4f\"%params[f'test_accuracy_{type}'])\n",
        "    print(f\"Test Accuracy Rest: %.4f\"%params['test_accuracy_rest'])\n",
        "\n",
        "    z_train = np.zeros((2,2))\n",
        "    z_test = np.zeros((2,2))\n",
        "    for pred_class in range(2):\n",
        "        for true_class in range(2):\n",
        "            z_train[true_class, pred_class] = np.sum((train_preds == pred_class) & (y_train == true_class))\n",
        "            z_test[true_class, pred_class] = np.sum((test_preds == pred_class) & (y_test == true_class))"
      ],
      "metadata": {
        "id": "rKdGWm3pA2Yg"
      },
      "execution_count": null,
      "outputs": []
    },
    {
      "cell_type": "code",
      "source": [
        "if 'binary' in target_type:\n",
        "    title_text = 'confusion matrix train'\n",
        "\n",
        "    x = ['rest', type]\n",
        "    y = ['rest', type]\n",
        "\n",
        "    cm_train = px.imshow(z_train, x=x, y=y, color_continuous_scale='Purples', text_auto=True)\n",
        "    cm_train.update_xaxes(title_text = 'Predicted Label')\n",
        "    cm_train.update_yaxes(title_text = 'True Label')\n",
        "    cm_train.update_layout(\n",
        "        height = 400,\n",
        "        title_text = title_text,\n",
        "        title_font_size=20,\n",
        "        title_x=0.5,\n",
        "        paper_bgcolor='rgb(229, 237, 247)',\n",
        "        plot_bgcolor='rgb(229, 237, 247)',    \n",
        "        )\n",
        "    cm_train.update_coloraxes(showscale=False)\n",
        "    cm_train.show()"
      ],
      "metadata": {
        "id": "sGJ4e1BWBErA"
      },
      "execution_count": null,
      "outputs": []
    },
    {
      "cell_type": "code",
      "source": [
        "if 'binary' in target_type:\n",
        "    title_text = 'confusion matrix test'\n",
        "\n",
        "    x = ['rest', type]\n",
        "    y = ['rest', type]\n",
        "\n",
        "    cm_test = px.imshow(z_test, x=x, y=y, color_continuous_scale='Purples', text_auto=True)\n",
        "    cm_test.update_xaxes(title_text = 'Predicted Label')\n",
        "    cm_test.update_yaxes(title_text = 'True Label')\n",
        "    cm_test.update_layout(\n",
        "        height = 400,\n",
        "        title_text = title_text,\n",
        "        title_font_size=20,\n",
        "        title_x=0.5,\n",
        "        paper_bgcolor='rgb(229, 237, 247)',\n",
        "        plot_bgcolor='rgb(229, 237, 247)',    \n",
        "        )\n",
        "    cm_test.update_coloraxes(showscale=False)\n",
        "    cm_test.show()"
      ],
      "metadata": {
        "id": "WQN_bVzxA_ZG"
      },
      "execution_count": null,
      "outputs": []
    },
    {
      "cell_type": "code",
      "source": [
        "#--------------regression -------------------\n",
        "if target_type[:-1] == 'regression':\n",
        "    params['test_RMSE'] = eval_metric(y_test, test_preds, \"RMSE\")[0]\n",
        "    params['train_RMSE'] = eval_metric(y_train, train_preds, \"RMSE\")[0]\n",
        "    params['test_R2'] = eval_metric(y_test, test_preds, \"R2\")[0]\n",
        "    params['train_R2'] = eval_metric(y_train, train_preds, \"R2\")[0]\n",
        "    print(\"Test  RMSE : %.4f\"%params['test_RMSE'])\n",
        "    print(\"Train RMSE : % 4f\"%params['train_RMSE'])\n",
        "\n",
        "    print(\"Test  R2 : %.4f\"%params['test_R2'])\n",
        "    print(\"Train R2 : % 4f\"%params['train_R2'])"
      ],
      "metadata": {
        "id": "ytdlAdZQBM7W"
      },
      "execution_count": null,
      "outputs": []
    },
    {
      "cell_type": "code",
      "execution_count": null,
      "metadata": {
        "id": "djpw3OtNcerO"
      },
      "outputs": [],
      "source": [
        "importance_dict = {key:value for value, key in sorted(zip(booster.get_feature_importance(), cols), reverse = False)}\n",
        "fig1 = px.bar(\n",
        "    pd.DataFrame(importance_dict.items(), columns = ['features', 'value']),\n",
        "    x = 'value',\n",
        "    y = 'features',\n",
        "    orientation = 'h',\n",
        "    #title = 'feature importance multiclass',\n",
        "    title = 'feature importance binary classification away',\n",
        "    #title = 'feature importance regression team 2',\n",
        "    width = 600,\n",
        "    height = 800\n",
        ")\n",
        "fig1.show()"
      ]
    },
    {
      "cell_type": "code",
      "execution_count": null,
      "metadata": {
        "colab": {
          "background_save": true
        },
        "id": "YbrriqTF58Ya"
      },
      "outputs": [],
      "source": [
        "if target_type[:-1] == 'regression':\n",
        "    fig2 = px.histogram(\n",
        "        21 * np.array(test_preds, dtype = np.float32)[:1_500_000],\n",
        "        title = 'score prediction destribution team 2',\n",
        "        width = 800,\n",
        "        height = 600\n",
        "                 )\n",
        "    fig2.show()"
      ]
    },
    {
      "cell_type": "code",
      "execution_count": 24,
      "metadata": {
        "id": "P-wn8hgWmw3U"
      },
      "outputs": [],
      "source": [
        "params['description'] = 'Catboost Binary Home'\n",
        "params['dataset'] = data_version\n",
        "booster.save_model('./booster.model')"
      ]
    },
    {
      "cell_type": "code",
      "execution_count": 25,
      "metadata": {
        "colab": {
          "base_uri": "https://localhost:8080/"
        },
        "id": "g6jROYHTm9ih",
        "outputId": "86423079-638e-4206-9034-2a7b81185840"
      },
      "outputs": [
        {
          "output_type": "execute_result",
          "data": {
            "text/plain": [
              "{'learning_rate': 0.16656391225752104,\n",
              " 'l2_leaf_reg': 0.2991233879911666,\n",
              " 'max_depth': 9,\n",
              " 'min_data_in_leaf': 15,\n",
              " 'early_stopping_rounds': 25,\n",
              " 'verbose': 10,\n",
              " 'iterations': 200,\n",
              " 'loss_function': 'RMSE',\n",
              " 'test_RMSE': 0.05517959516754629,\n",
              " 'train_RMSE': 0.05447031380292156,\n",
              " 'test_R2': 0.19840817974788938,\n",
              " 'train_R2': 0.2120632133214867,\n",
              " 'description': 'Catboost model team 1',\n",
              " 'dataset': 'football_live_npz_230105/'}"
            ]
          },
          "metadata": {},
          "execution_count": 25
        }
      ],
      "source": [
        "params"
      ]
    },
    {
      "cell_type": "markdown",
      "metadata": {
        "id": "VpnbsG_0yDwB"
      },
      "source": [
        "#### Versioning"
      ]
    },
    {
      "cell_type": "code",
      "execution_count": 28,
      "metadata": {
        "colab": {
          "base_uri": "https://localhost:8080/"
        },
        "id": "g-Ep-CXPufA8",
        "outputId": "fe7cedaf-ea97-4dbd-81b7-2beec958a160"
      },
      "outputs": [
        {
          "output_type": "stream",
          "name": "stdout",
          "text": [
            "https://app.neptune.ai/scomesse/football/m/FOOT-LIVEBST1/v/FOOT-LIVEBST1-2\n",
            "Remember to stop your model_version once you’ve finished logging your metadata (https://docs.neptune.ai/api/model_version#stop). It will be stopped automatically only when the notebook kernel/interactive console is terminated.\n",
            "Shutting down background jobs, please wait a moment...\n",
            "Done!\n",
            "Waiting for the remaining 15 operations to synchronize with Neptune. Do not kill this process.\n",
            "All 15 operations synced, thanks for waiting!\n",
            "Explore the metadata in the Neptune app:\n",
            "https://app.neptune.ai/scomesse/football/m/FOOT-LIVEBST1/v/FOOT-LIVEBST1-2/metadata\n"
          ]
        }
      ],
      "source": [
        "target_dict = {'regression1':'FOOT-LIVEBST1',\n",
        "               'regression2':'FOOT-LIVEBST2',\n",
        "               'multiclass':'FOOT-LIVEMC', \n",
        "               'binary_home':'FOOT-LIVEBC', \n",
        "               'binary_draw':'FOOT-LIVEBCDRAW', \n",
        "               'binary_away':'FOOT-LIVEBCAWAY'\n",
        "              }\n",
        "model_version = neptune.init_model_version(\n",
        "    model=target_dict[target_type],\n",
        "    project = 'scomesse/football',\n",
        "    api_token = api_key # your credentials\n",
        ")\n",
        "model_sys = model_version['sys'].fetch()\n",
        "model_version_params = dict(\n",
        "    project = 'scomesse/football',\n",
        "    model = model_sys['model_id'],\n",
        "    api_token = api_key,\n",
        "    with_id = model_sys['id']\n",
        ")\n",
        "model_version = neptune.init_model_version(**model_version_params)\n",
        "#model_version['team2_model'].upload('./booster_team2.model')\n",
        "#model_version['model'].upload('./booster_classification.model')\n",
        "model_version['model'].upload('./booster.model')\n",
        "model_version['team_parameters'] = params\n",
        "model_version.stop()"
      ]
    },
    {
      "cell_type": "code",
      "execution_count": 29,
      "metadata": {
        "colab": {
          "base_uri": "https://localhost:8080/"
        },
        "id": "1JCB7_Nuf2ip",
        "outputId": "73f95cc9-2124-4549-f46f-fe708ef3a443"
      },
      "outputs": [
        {
          "output_type": "stream",
          "name": "stdout",
          "text": [
            "https://app.neptune.ai/scomesse/football/m/FOOT-LIVEBST1/v/FOOT-LIVEBST1-2\n",
            "Remember to stop your model_version once you’ve finished logging your metadata (https://docs.neptune.ai/api/model_version#stop). It will be stopped automatically only when the notebook kernel/interactive console is terminated.\n",
            "Shutting down background jobs, please wait a moment...\n",
            "Done!\n",
            "Waiting for the remaining 2 operations to synchronize with Neptune. Do not kill this process.\n",
            "All 2 operations synced, thanks for waiting!\n",
            "Explore the metadata in the Neptune app:\n",
            "https://app.neptune.ai/scomesse/football/m/FOOT-LIVEBST1/v/FOOT-LIVEBST1-2/metadata\n"
          ]
        }
      ],
      "source": [
        "model_version = neptune.init_model_version(**model_version_params)\n",
        "model_version[f'feature importance'].upload(neptune.types.File.as_html(fig1))\n",
        "if target_type[:-1] == 'regression':\n",
        "    model_version[f'score prediction destribution team 2'].upload(neptune.types.File.as_html(fig2))\n",
        "else:    \n",
        "    model_version[f'confusion matrix train'].upload(neptune.types.File.as_html(cm_train))\n",
        "    model_version[f'confusion matrix test'].upload(neptune.types.File.as_html(cm_test))\n",
        "model_version.stop()"
      ]
    },
    {
      "cell_type": "code",
      "source": [
        "poisson.pmf(7, mu = test_preds * 21, loc = 0)"
      ],
      "metadata": {
        "colab": {
          "base_uri": "https://localhost:8080/"
        },
        "id": "jPEAwuOTtaXo",
        "outputId": "9d344dd3-cddd-4649-b475-d3044c12bfe1"
      },
      "execution_count": 47,
      "outputs": [
        {
          "output_type": "execute_result",
          "data": {
            "text/plain": [
              "array([3.56332403e-04, 3.04119560e-04, 2.65949632e-04, ...,\n",
              "       5.89714597e-06, 5.11175603e-06, 4.38099643e-06])"
            ]
          },
          "metadata": {},
          "execution_count": 47
        }
      ]
    }
  ],
  "metadata": {
    "colab": {
      "collapsed_sections": [
        "7dEcqW_jH4pw",
        "X69hHEsFix4n",
        "RocnM6a5lPkc",
        "F7qL3Au-nbm0"
      ],
      "provenance": [],
      "authorship_tag": "ABX9TyNofNxqto9OrtmmKf7qtdum",
      "include_colab_link": true
    },
    "gpuClass": "standard",
    "kernelspec": {
      "display_name": "Python 3",
      "name": "python3"
    },
    "language_info": {
      "name": "python"
    }
  },
  "nbformat": 4,
  "nbformat_minor": 0
}