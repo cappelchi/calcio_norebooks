{
  "cells": [
    {
      "cell_type": "markdown",
      "metadata": {
        "id": "view-in-github",
        "colab_type": "text"
      },
      "source": [
        "<a href=\"https://colab.research.google.com/github/cappelchi/calcio_notebooks/blob/main/report/football_live_cv_total_report.ipynb\" target=\"_parent\"><img src=\"https://colab.research.google.com/assets/colab-badge.svg\" alt=\"Open In Colab\"/></a>"
      ]
    },
    {
      "cell_type": "markdown",
      "metadata": {
        "id": "uaqQZgiFbJ4R"
      },
      "source": [
        "Делает отчет по предиктам в тоталах и визуализрует результат<br>\n",
        "Важные переменные"
      ]
    },
    {
      "cell_type": "code",
      "source": [
        "remove_list = ['A1relativ', 'A2relativ', 'DA1relativ', 'DA2relativ'] #Ненужные фичи для предикта\n",
        "selected_model1_version = 6 #3 #6 # Номер модели1\n",
        "selected_model2_version = 5 #4 #5 # Номер модели2\n",
        "folded = True #False #True # Модель на фолдах или нет"
      ],
      "metadata": {
        "id": "R5EqOqdJDeGU"
      },
      "execution_count": null,
      "outputs": []
    },
    {
      "cell_type": "markdown",
      "metadata": {
        "id": "JnoakdYG0WIm"
      },
      "source": [
        "### Project config"
      ]
    },
    {
      "cell_type": "code",
      "execution_count": null,
      "metadata": {
        "id": "O9bCK_dx0QSM"
      },
      "outputs": [],
      "source": [
        "try:\n",
        "    import neptune\n",
        "except:\n",
        "    !pip install neptune >> None\n",
        "    import neptune\n",
        "#from neptune.new.integrations.tensorflow_keras import NeptuneCallback\n",
        "def get_credential(frmwork = 'neptune_team'):\n",
        "    with open('credential.txt', 'r') as container:\n",
        "        for line in container:\n",
        "            if frmwork in line:\n",
        "                login, psw = line.split(' ')[1], line.split(' ')[2].split('\\n')[0]\n",
        "                return login, psw"
      ]
    },
    {
      "cell_type": "code",
      "execution_count": null,
      "metadata": {
        "id": "oDK6n6CVQidT"
      },
      "outputs": [],
      "source": [
        "#@title Set API key for neptune.ai\n",
        "set_api = True #@param {type:\"boolean\"}\n",
        "if set_api:\n",
        "    username, api_key = get_credential()"
      ]
    },
    {
      "cell_type": "markdown",
      "metadata": {
        "id": "THFvsIdI6Jr_"
      },
      "source": [
        "### Installations"
      ]
    },
    {
      "cell_type": "code",
      "execution_count": null,
      "metadata": {
        "id": "oW1B1cfQ6I1M"
      },
      "outputs": [],
      "source": [
        "!pip install catboost >> None"
      ]
    },
    {
      "cell_type": "markdown",
      "metadata": {
        "id": "AY2sCgPWqVuq"
      },
      "source": [
        "### Downloads"
      ]
    },
    {
      "cell_type": "code",
      "execution_count": null,
      "metadata": {
        "id": "fJwn4GmI5GGu"
      },
      "outputs": [],
      "source": [
        "!wget -q -O ./data.rar https://getfile.dokpub.com/yandex/get/https://disk.yandex.ru/d/LQQ0gE8WnirciQ\n",
        "!unrar x ./data.rar ./ >> None\n",
        "!mv ./FirstTime ./Result2"
      ]
    },
    {
      "cell_type": "code",
      "execution_count": null,
      "metadata": {
        "id": "96pWBMV33v29"
      },
      "outputs": [],
      "source": [
        "#!wget -q -O ./data.rar https://getfile.dokpub.com/yandex/get/https://disk.yandex.ru/d/bM4vbHBIY7wpoQ\n",
        "#!mkdir -p ./Result2\n",
        "#!unrar e ./data.rar ./Result2/"
      ]
    },
    {
      "cell_type": "code",
      "execution_count": null,
      "metadata": {
        "id": "qq76fQDMqVut"
      },
      "outputs": [],
      "source": [
        "#!wget -q -O ./Result2.rar https://getfile.dokpub.com/yandex/get/https://disk.yandex.ru/d/MwzjeVAGOZwJaw\n",
        "#!wget -q -O ./Prem.rar https://getfile.dokpub.com/yandex/get/https://disk.yandex.ru/d/oTq97titK56Y2A\n",
        "#!mkdir -p ./Prem\n",
        "#!unrar e ./Prem.rar ./Prem/"
      ]
    },
    {
      "cell_type": "code",
      "execution_count": null,
      "metadata": {
        "id": "2TAyXJBgOD48"
      },
      "outputs": [],
      "source": [
        "#!wget -q -O ./Index.rar https://getfile.dokpub.com/yandex/get/https://disk.yandex.ru/d/rVBc3eq2SG8Ppw\n",
        "#!mkdir -p ./Index\n",
        "#!unrar e ./Index.rar ./Index/"
      ]
    },
    {
      "cell_type": "markdown",
      "metadata": {
        "id": "3eJJjJHCyrNF"
      },
      "source": [
        "### Imports"
      ]
    },
    {
      "cell_type": "code",
      "execution_count": null,
      "metadata": {
        "colab": {
          "base_uri": "https://localhost:8080/"
        },
        "id": "iiFFa9gDyqpS",
        "outputId": "99a9f8f0-ee70-4648-923c-a5e532083ff6"
      },
      "outputs": [
        {
          "output_type": "stream",
          "name": "stdout",
          "text": [
            "1.5.3\n",
            "1.22.4\n"
          ]
        }
      ],
      "source": [
        "import pandas as pd\n",
        "import numpy as np\n",
        "pd.options.display.max_columns = 100\n",
        "pd.options.display.max_rows = 100\n",
        "print(pd.__version__)\n",
        "print(np.__version__)"
      ]
    },
    {
      "cell_type": "code",
      "execution_count": null,
      "metadata": {
        "colab": {
          "base_uri": "https://localhost:8080/"
        },
        "id": "-vnHnF0g4Eg6",
        "outputId": "90023cc6-249c-4784-bbe1-29301b50ab71"
      },
      "outputs": [
        {
          "output_type": "execute_result",
          "data": {
            "text/plain": [
              "(127, 32767, 2147483647)"
            ]
          },
          "metadata": {},
          "execution_count": 10
        }
      ],
      "source": [
        "np.iinfo(np.int8).max, np.iinfo(np.int16).max, np.iinfo(np.int32).max"
      ]
    },
    {
      "cell_type": "code",
      "execution_count": null,
      "metadata": {
        "colab": {
          "base_uri": "https://localhost:8080/"
        },
        "id": "O24b3ZHi4SJi",
        "outputId": "f7015805-b16a-4995-d15c-6ff7f44ac576"
      },
      "outputs": [
        {
          "output_type": "execute_result",
          "data": {
            "text/plain": [
              "(3, 6, 15)"
            ]
          },
          "metadata": {},
          "execution_count": 11
        }
      ],
      "source": [
        "np.finfo(np.float16).precision, np.finfo(np.float32).precision, np.finfo(np.float64).precision"
      ]
    },
    {
      "cell_type": "code",
      "execution_count": null,
      "metadata": {
        "id": "beX-335s9PO_"
      },
      "outputs": [],
      "source": [
        "import os, psutil, time\n",
        "from glob import glob\n",
        "from neptune.utils import stringify_unsupported\n",
        "from tqdm import tqdm\n",
        "import functools\n",
        "import gc"
      ]
    },
    {
      "cell_type": "code",
      "execution_count": null,
      "metadata": {
        "id": "MnbaKkivEQBH"
      },
      "outputs": [],
      "source": [
        "from catboost import CatBoost\n",
        "from scipy.stats import poisson"
      ]
    },
    {
      "cell_type": "markdown",
      "metadata": {
        "id": "kJ0rN-QRzFTA"
      },
      "source": [
        "### Code"
      ]
    },
    {
      "cell_type": "markdown",
      "metadata": {
        "id": "F7qL3Au-nbm0"
      },
      "source": [
        "#####Functions"
      ]
    },
    {
      "cell_type": "code",
      "execution_count": null,
      "metadata": {
        "id": "x60YMEVObK5Y"
      },
      "outputs": [],
      "source": [
        "def define_files_list(data_start:str, folder:str, date_end = '') -> list:\n",
        "    '''\n",
        "    data_start, data_end\n",
        "    folder: ./folder/\n",
        "    '''\n",
        "    if date_end == '':\n",
        "        return sorted(\n",
        "            [file\n",
        "            for file in glob(folder + '*')\n",
        "            if int(file.split('/')[-1].split('.csv')[0]) >= int(date_start)]\n",
        "            )\n",
        "    else:\n",
        "        return sorted(\n",
        "            [file\n",
        "            for file in glob(folder + '*')\n",
        "            if int(file.split('/')[-1].split('.csv')[0]) >= int(date_start) & \\\n",
        "                int(file.split('/')[-1].split('.csv')[0]) <= int(date_end)]\n",
        "            )"
      ]
    },
    {
      "cell_type": "code",
      "execution_count": null,
      "metadata": {
        "id": "ONZygQtsdxVx"
      },
      "outputs": [],
      "source": [
        "def create_id_dict(date_start, folder, cols, date_end = '') -> dict:\n",
        "    '''\n",
        "    '''\n",
        "    return pd.concat(map(\n",
        "        functools.partial(\n",
        "            pd.read_csv, sep=';', usecols =  cols\n",
        "                            ),\n",
        "                    define_files_list(date_start, folder, date_end = date_end)\n",
        "                    ), ignore_index=True).drop_duplicates(subset = ['Id'], keep = 'last').set_index('Id').to_dict(orient = 'index')"
      ]
    },
    {
      "cell_type": "code",
      "execution_count": null,
      "metadata": {
        "id": "fS1TEuATxNYb"
      },
      "outputs": [],
      "source": [
        "def transform_dataset(data_df:pd.DataFrame, remain = []):\n",
        "    new_match_vector = data_df['Id'] != data_df['Id'].shift(1)\n",
        "    # трансформируем минуты\n",
        "    data_df['min_norm'] = data_df['Minute'].astype(np.float32) / 50\n",
        "    print('1. Минуты посчитаны...')\n",
        "    # трансформируем голы\n",
        "    data_df[data_df['Score1'].isna() & new_match_vector] = 0\n",
        "    data_df['Score1_norm'] = data_df['Score1'].fillna(method = 'ffill').astype(np.float32) / 4\n",
        "    data_df.loc[data_df['Score1'] > 3, ['Score1_norm']] = 1.0\n",
        "    data_df[data_df['Score2'].isna() & new_match_vector] = 0\n",
        "    data_df['Score2_norm'] = data_df['Score2'].fillna(method = 'ffill').astype(np.float32) / 4\n",
        "    data_df.loc[data_df['Score2'] > 3, ['Score2_norm']] = 1.0\n",
        "\n",
        "    data_df['Score_diff'] = data_df['Score1'].astype(np.int16) - data_df['Score2'].astype(np.int16)\n",
        "    data_df.loc[data_df['Score_diff'] < -4, ['Score_diff']] = -4\n",
        "    data_df.loc[data_df['Score_diff'] > 4, ['Score_diff']] = 4\n",
        "    data_df[[f'Score_cat_{n}' for n in range(1, 10)]] = pd.get_dummies(data_df['Score_diff']).values\n",
        "    data_df['Score_diff'] = data_df['Score_diff'].astype(np.float32) / np.float32(4.0)\n",
        "    if 'Score1' not in remain:\n",
        "        data_df = data_df.drop(['Score1', 'Score2'], axis = 1)\n",
        "    print('2. Голы посчитаны...')\n",
        "    #трансформируем атаки\n",
        "    data_df['A1_scaled'] = data_df['A1'].astype(np.float32) / 75\n",
        "    data_df.loc[data_df['A1'] >= 60, ['A1_scaled']] = (60 + (data_df['A1'] - 60) / 4) / 75\n",
        "    data_df['A2_scaled'] = data_df['A2'].astype(np.float32) / 75\n",
        "    data_df.loc[data_df['A2'] >= 60, ['A2_scaled']] = (60 + (data_df['A2'] - 60) / 4) / 75\n",
        "    # атаки в минуту\n",
        "    data_df['A1perMIN'] = data_df['A1'].astype(np.float32) / data_df['Minute'].astype(np.float32)\n",
        "    data_df.loc[data_df['A1perMIN'] > 4, ['A1perMIN']] = np.float32(4.0)\n",
        "    data_df['A2perMIN'] = data_df['A2'].astype(np.float32) / data_df['Minute'].astype(np.float32)\n",
        "    data_df.loc[data_df['A2perMIN'] > 4, ['A2perMIN']] = np.float32(4.0)\n",
        "    # динамика атак\n",
        "    new_match_vector5 = data_df['Id'] != data_df['Id'].shift(5)\n",
        "    data_df['A1relativ'] = data_df['A1'].astype(np.float32) - data_df['A1'].shift(5).astype(np.float32)\n",
        "    data_df.loc[new_match_vector5, ['A1relativ']] = np.float32(0.0)\n",
        "    data_df['A1relativ'] = data_df['A1relativ'].fillna(0)\n",
        "    data_df.loc[data_df['A1relativ'] > 15, ['A1relativ']] = np.float32(15.)\n",
        "    data_df['A2relativ'] = data_df['A2'].astype(np.float32) - data_df['A2'].shift(5).astype(np.float32)\n",
        "    data_df.loc[new_match_vector5, ['A2relativ']] =  np.float32(0.0)\n",
        "    data_df['A2relativ'] = data_df['A2relativ'].fillna(0)\n",
        "    data_df.loc[data_df['A2relativ'] > 15, ['A2relativ']] = np.float32(15.)\n",
        "    if 'A1' not in remain:\n",
        "        data_df = data_df.drop(['A1', 'A2'], axis = 1)\n",
        "    print('3. Атаки посчитаны...')\n",
        "    # трансформируем опасные атаки\n",
        "    data_df['DA1_scaled'] = data_df['DA1'].astype(np.float32) / 50\n",
        "    data_df.loc[data_df['DA1'] >= 40, ['DA1_scaled']] = (80 + (data_df['DA1'] - 40) / 3) / 100\n",
        "    data_df['DA2_scaled'] = data_df['DA2'].astype(np.float32) / 50\n",
        "    data_df.loc[data_df['DA2'] >= 40, ['DA2_scaled']] = (80 + (data_df['DA2'] - 40) / 3) / 100\n",
        "    # опасные атаки в минуту\n",
        "    data_df['DA1perMIN'] = data_df['DA1'].astype(np.float32) / data_df['Minute'].astype(np.float32)\n",
        "    data_df.loc[data_df['DA1perMIN'] > 3, ['DA1perMIN']] = np.float32(3.0)\n",
        "    data_df['DA2perMIN'] = data_df['DA2'].astype(np.float32) / data_df['Minute'].astype(np.float32)\n",
        "    data_df.loc[data_df['DA2perMIN'] > 3, ['DA2perMIN']] = np.float32(3.0)\n",
        "    # динамика опасных атак\n",
        "    data_df['DA1relativ'] = data_df['DA1'].astype(np.float32) - data_df['DA1'].shift(5).astype(np.float32)\n",
        "    data_df.loc[new_match_vector5, ['DA1relativ']] = np.float32(0.0)\n",
        "    data_df['DA1relativ'] = data_df['DA1relativ'].fillna(0)\n",
        "    data_df.loc[data_df['DA1relativ'] > 10, ['DA1relativ']] = np.float32(10.)\n",
        "    data_df['DA2relativ'] = data_df['DA2'].astype(np.float32) - data_df['DA2'].shift(5).astype(np.float32)\n",
        "    data_df.loc[new_match_vector5, ['DA2relativ']] = np.float32(0.0)\n",
        "    data_df['DA2relativ'] = data_df['DA2relativ'].fillna(0)\n",
        "    data_df.loc[data_df['DA2relativ'] > 10, ['DA2relativ']] = np.float32(10.)\n",
        "    if 'DA1' not in remain:\n",
        "        data_df = data_df.drop(['DA1', 'DA2'], axis = 1)\n",
        "    if 'Minute' not in remain:\n",
        "        data_df = data_df.drop(['Minute'], axis = 1)\n",
        "    print('4. Опасные атаки посчитаны...')\n",
        "    # трансформируем владение мячом\n",
        "    data_df[data_df['Pos1'].isna() & new_match_vector] = 0\n",
        "    data_df['Pos1_cleaned'] = data_df['Pos1'].fillna(method = 'ffill').astype(np.float32) /  np.float32(100.0)\n",
        "    data_df.loc[data_df['Pos1_cleaned'] < 0.2, ['Pos1_cleaned']] = np.float32(0.2)\n",
        "    data_df.loc[data_df['Pos1_cleaned'] > 0.8, ['Pos1_cleaned']] = np.float32(0.8)\n",
        "    data_df[data_df['Pos2'].isna() & new_match_vector] = 0\n",
        "    data_df['Pos2_cleaned'] = data_df['Pos2'].fillna(method = 'ffill').astype(np.float32) /  np.float32(100.0)\n",
        "    data_df.loc[data_df['Pos2_cleaned'] < 0.2, ['Pos2_cleaned']] = np.float32(0.2)\n",
        "    data_df.loc[data_df['Pos2_cleaned'] > 0.8, ['Pos2_cleaned']] = np.float32(0.8)\n",
        "    if 'Pos1' not in remain:\n",
        "        data_df = data_df.drop(['Pos1', 'Pos2'], axis = 1)\n",
        "    print('5. Владение мячом посчитпно...')\n",
        "    # трансформируем удары\n",
        "    data_df[data_df['Off1'].isna() & new_match_vector] = 0\n",
        "    data_df['Off1_norm'] = data_df['Off1'].fillna(method = 'ffill').astype(np.float32) / np.float32(10.0)\n",
        "    data_df.loc[data_df['Off1_norm'] > 1.0, ['Off1_norm']] = np.float32(1.0)\n",
        "    data_df[data_df['Off2'].isna() & new_match_vector] = 0\n",
        "    data_df['Off2_norm'] = data_df['Off2'].fillna(method = 'ffill').astype(np.float32) / np.float32(10.0)\n",
        "    data_df.loc[data_df['Off2_norm'] > 1.0, ['Off2_norm']] = np.float32(1.0)\n",
        "    if 'Off1' not in remain:\n",
        "        data_df = data_df.drop(['Off1', 'Off2'], axis = 1)\n",
        "    print('6. Удары посчитаны...')\n",
        "    # трансформируем удары в створ\n",
        "    data_df[data_df['On1'].isna() & new_match_vector] = 0\n",
        "    data_df['On1_norm'] = data_df['On1'].fillna(method = 'ffill').astype(np.float32) / np.float32(5.0)\n",
        "    data_df.loc[data_df['On1_norm'] > 1.0, ['On1_norm']] = np.float32(1.0)\n",
        "    data_df[data_df['On2'].isna() & new_match_vector] = 0\n",
        "    data_df['On2_norm'] = data_df['On2'].fillna(method = 'ffill').astype(np.float32) / np.float32(5.0)\n",
        "    data_df.loc[data_df['On2_norm'] > 1.0, ['On2_norm']] = np.float32(1.0)\n",
        "    if 'On1' not in remain:\n",
        "        data_df = data_df.drop(['On1', 'On2'], axis = 1)\n",
        "    print('7. Удары в створ посчитаны...')\n",
        "    # трансформируем желтые карточки\n",
        "    data_df[data_df['YC1'].isna() & new_match_vector] = 0\n",
        "    data_df['YC1_transformed'] = data_df['YC1'].fillna(0).astype(np.float32) / np.float32(2.0)\n",
        "    data_df.loc[data_df['YC1_transformed'] > 1.0, ['YC1_transformed']] = np.float32(1.0)\n",
        "    data_df[data_df['YC2'].isna() & new_match_vector] = 0\n",
        "    data_df['YC2_transformed'] = data_df['YC2'].fillna(0).astype(np.float32) / np.float32(2.0)\n",
        "    data_df.loc[data_df['YC2_transformed'] > 1.0, ['YC2_transformed']] = np.float32(1.0)\n",
        "    if 'YC1' not in remain:\n",
        "        data_df = data_df.drop(['YC1', 'YC2'], axis = 1)\n",
        "    print('8. Жёлтые карточки посчитаны...')\n",
        "    # трансформируем красные карточки\n",
        "    data_df[data_df['RC1'].isna() & new_match_vector] = 0\n",
        "    data_df['RC1_transformed'] = data_df['RC1'].fillna(0).astype(np.int8)\n",
        "    data_df.loc[data_df['RC1_transformed'] > 1, ['RC1_transformed']] = np.int8(1)\n",
        "    data_df[data_df['RC2'].isna() & new_match_vector] = 0\n",
        "    data_df['RC2_transformed'] = data_df['RC2'].fillna(0).astype(np.int8)\n",
        "    data_df.loc[data_df['RC2_transformed'] > 1, ['RC2_transformed']] = np.int8(1)\n",
        "    if 'RC1' not in remain:\n",
        "        data_df = data_df.drop(['RC1', 'RC2'], axis = 1)\n",
        "    print('9. Красные карточки посчитаны...')\n",
        "    # трансформируем замены\n",
        "    data_df[data_df['Sub1'].isna() & new_match_vector] = 0\n",
        "    data_df['Sub1_transformed'] = data_df['Sub1'].fillna(0).astype(np.int8)\n",
        "    data_df.loc[data_df['Sub1_transformed'] > 1, ['Sub1_transformed']] = np.int8(1)\n",
        "    data_df[data_df['Sub2'].isna() & new_match_vector] = 0\n",
        "    data_df['Sub2_transformed'] = data_df['Sub2'].fillna(0).astype(np.int8)\n",
        "    data_df.loc[data_df['Sub2_transformed'] > 1, ['Sub2_transformed']] = np.int8(1)\n",
        "    if 'Sub1' not in remain:\n",
        "        data_df = data_df.drop(['Sub1', 'Sub2'], axis = 1)\n",
        "    print('10. Замены посчитаны...')\n",
        "    # трансформируем угловык\n",
        "    data_df[data_df['Cor1'].isna() & new_match_vector] = 0\n",
        "    data_df['Cor1_transformed'] = data_df['Cor1'].fillna(0).astype(np.float32) / np.float32(6.0)\n",
        "    data_df.loc[data_df['Cor1_transformed'] > 1.0, ['Cor1_transformed']] = np.float32(1.0)\n",
        "    data_df[data_df['Cor2'].isna() & new_match_vector] = 0\n",
        "    data_df['Cor2_transformed'] = data_df['Cor2'].fillna(0).astype(np.float32) / np.float32(6.0)\n",
        "    data_df.loc[data_df['Cor2_transformed'] > 1.0, ['Cor2_transformed']] = np.float32(1.0)\n",
        "    if 'Cor1' not in remain:\n",
        "        data_df = data_df.drop(['Cor1', 'Cor2'], axis = 1)\n",
        "    print('11. Угловые посчитаны...')\n",
        "    # трансформируем линию\n",
        "    data_df['P1_transformed'] = np.log(data_df['P1'], dtype = np.float32) / 2\n",
        "    data_df['P2_transformed'] = np.log(data_df['P2'], dtype = np.float32) / 2\n",
        "    if 'P1' not in remain:\n",
        "        data_df = data_df.drop(['P1', 'P2'], axis = 1)\n",
        "    print('12. Линии посчитаны...')\n",
        "    if 'Pen1' not in remain:\n",
        "        data_df = data_df.drop(['Pen1', 'Pen2'], axis = 1)\n",
        "    if 'Active' not in remain:\n",
        "        data_df = data_df.drop(['Active'], axis = 1)\n",
        "    return data_df"
      ]
    },
    {
      "cell_type": "markdown",
      "metadata": {
        "id": "TgahlHprQDfJ"
      },
      "source": [
        "#### Predefine data"
      ]
    },
    {
      "cell_type": "code",
      "execution_count": null,
      "metadata": {
        "id": "Q6YA-et4Ly8V"
      },
      "outputs": [],
      "source": [
        "import datetime\n",
        "data_types_dict = {\n",
        "    'Id':np.int32,\n",
        "    'StatTime':str,\n",
        "    'Minute':np.int8,\n",
        "    'Active': np.int8, 'Score1':np.int8, 'Score2':np.int8,\n",
        "    'A1':np.int16, 'A2':np.int16, 'DA1':np.int16, 'DA2':np.int16, 'Pos1':np.float32, 'Pos2':np.float32,\n",
        "    'Off1':np.int8, 'Off2':np.int8, 'On1':np.int8, 'On2':np.int8, 'YC1':np.int8, 'YC2':np.int8,\n",
        "    'RC1':np.int8, 'RC2':np.int8, 'Sub1':np.int8, 'Sub2':np.int8, 'Pen1':np.int8, 'Pen2':np.int8,\n",
        "    'Cor1':np.int8, 'Cor2':np.int8, 'Period':np.int8,\n",
        "    'D':np.datetime64,\n",
        "    'I':np.int32, 'Active.1':np.int8,\n",
        "    'Time':np.datetime64,\n",
        "    'Minute.1':np.int8,\n",
        "    'RawTime':np.datetime64,\n",
        "    'Score1.1':np.int8, 'Score2.1':np.int8, 'Period.1':np.int8,\n",
        "    'W1':np.float16, 'WX':np.float16, 'W2':np.float16, 'X1':np.float16, 'X2':np.float16, 'W12':np.float16, 'TotalValue':np.float16,\n",
        "    'Over':np.float16, 'Under':np.float16, 'Hand1Value':np.float16, 'H1':np.float16, 'H2':np.float16\n",
        "}"
      ]
    },
    {
      "cell_type": "code",
      "execution_count": null,
      "metadata": {
        "id": "PDW1K2PKlibT"
      },
      "outputs": [],
      "source": [
        "k_cols = [\n",
        "    'W1', 'WX', 'W2', 'X1', 'X2', 'W12', 'TotalValue' ,'Over',\n",
        "    'Under', 'Hand1Value', 'H1', 'H2'\n",
        "]"
      ]
    },
    {
      "cell_type": "code",
      "execution_count": null,
      "metadata": {
        "id": "ILPSgppbNr15"
      },
      "outputs": [],
      "source": [
        "drop_cols = [\n",
        "    #'StatTime',\n",
        "    'Comment', 'D', 'I', 'Time', 'Minute.1', 'RawTime',\n",
        "    'Score1.1', 'Score2.1', 'Period.1', 'Period', 'Periods', 'Serve'\n",
        "]"
      ]
    },
    {
      "cell_type": "markdown",
      "metadata": {
        "id": "RtV7BR6vuXkz"
      },
      "source": [
        "#### Load Parameters"
      ]
    },
    {
      "cell_type": "code",
      "execution_count": null,
      "metadata": {
        "id": "9FuUB09qV320"
      },
      "outputs": [],
      "source": [
        "info_cols = ['Id', 'Result1', 'Result2']\n",
        "prem_cols = ['Id', 'P1', 'PX', 'P2']\n",
        "res_cols = [cols for cols in data_types_dict if cols not in drop_cols]\n",
        "\n",
        "info_folder = './Index/'\n",
        "prem_folder = './Prem/'\n",
        "data_folder = './Result2/'"
      ]
    },
    {
      "cell_type": "code",
      "execution_count": null,
      "metadata": {
        "id": "4vpJF3BPewgM"
      },
      "outputs": [],
      "source": [
        "### собрать датасет с даты:\n",
        "year_start = '2023'\n",
        "month_start = '01'\n",
        "day_start = '01'\n",
        "### до даты\n",
        "year_end = ''\n",
        "month_end = ''\n",
        "day_end = ''\n",
        "date_start = year_start + month_start + day_start\n",
        "date_end = year_end + month_end + day_end"
      ]
    },
    {
      "cell_type": "markdown",
      "metadata": {
        "id": "SDRXrXwouhLQ"
      },
      "source": [
        "#### Create DataFrame"
      ]
    },
    {
      "cell_type": "code",
      "execution_count": null,
      "metadata": {
        "id": "CX_nGW_ydHDb"
      },
      "outputs": [],
      "source": [
        "info_dict = create_id_dict(date_start, info_folder, info_cols)\n",
        "prem_dict = create_id_dict(date_start, prem_folder, prem_cols)\n",
        "if len(prem_dict) != len(info_dict):\n",
        "    print('Нет в info: ', set(prem_dict) - set(info_dict))\n",
        "    print('Нет в prem: ', set(info_dict) - set(prem_dict))"
      ]
    },
    {
      "cell_type": "code",
      "execution_count": null,
      "metadata": {
        "id": "K69OEGIAeeD0"
      },
      "outputs": [],
      "source": [
        "#files_list =['./Result2/' + str(id) + '.csv'\n",
        "#    for id in set(info_dict)\n",
        "#    if os.path.exists('./Result2/' + str(id) + '.csv')]\n",
        "files_list = []\n",
        "for folder in glob('./Result2/*'):\n",
        "    files_list += glob(folder + '/*')"
      ]
    },
    {
      "cell_type": "code",
      "execution_count": null,
      "metadata": {
        "colab": {
          "base_uri": "https://localhost:8080/"
        },
        "id": "REHpPLoiWQFU",
        "outputId": "6023bd7a-dcc7-4aec-941c-160ad8e972fb"
      },
      "outputs": [
        {
          "output_type": "stream",
          "name": "stdout",
          "text": [
            "create dataframe: 192.94762516021729 sec.\n",
            "2.12 GiB\n"
          ]
        },
        {
          "output_type": "stream",
          "name": "stderr",
          "text": [
            "100%|██████████| 1827026/1827026 [00:04<00:00, 372121.30it/s]\n",
            "100%|██████████| 1827026/1827026 [00:03<00:00, 470383.92it/s]\n"
          ]
        },
        {
          "output_type": "stream",
          "name": "stdout",
          "text": [
            "\n",
            "\n",
            "2.01 GiB\n"
          ]
        }
      ],
      "source": [
        "time_point1 = time.time()\n",
        "data_df = pd.concat(map(functools.partial(\n",
        "    pd.read_csv,\n",
        "    sep = ';',\n",
        "    #parse_dates = ['StatTime'],\n",
        "    usecols = res_cols\n",
        "                                    ), files_list), ignore_index=True)\n",
        "time_point2 = time.time()\n",
        "print(f'create dataframe: {time_point2 - time_point1} sec.')\n",
        "#---------------\n",
        "process = psutil.Process(os.getpid())\n",
        "print(round(process.memory_info().rss / 1024 ** 3, 2), 'GiB')  # in bytes\n",
        "#---------------\n",
        "\n",
        "data_df[k_cols] = data_df[k_cols].fillna(0).values # Заполняем пропущенные лайв кэфы 1\n",
        "new_match_vector = data_df['Id'] != data_df['Id'].shift(1) # Отмечаем переходы между матчами в колонуах\n",
        "data_cols = list(set(res_cols) - set(k_cols)) # Отбирвем колонки для заполнения пропусков метдом ffill\n",
        "for col in data_cols:\n",
        "    data_df.loc[data_df[col].isna() & new_match_vector, col] = 0 # Сами переходы с пропусками заполняем 0\n",
        "data_df = data_df.fillna(method = 'ffill')\n",
        "################ Записываем файл с временными метками и сбрасываем время матчей\n",
        "#(data_df['Id'].astype(str) + ':' + data_df['StatTime'].astype(str).str.split(\n",
        "#        ' ', expand=True)[0]\n",
        "#        ).drop_duplicates().str.split(':', expand = True).rename(\n",
        "#                                                columns = {0:'Id', 1:'StatTime'}\n",
        "#                                                            ).to_csv('./time.csv', index = False)\n",
        "#data_df = data_df.drop(['StatTime'], axis = 1)\n",
        "############################################### Присоединяем результаты и кэфы\n",
        "data_df[['Result1', 'Result2']] = [\n",
        "    [info_dict[id]['Result1'], info_dict[id]['Result2']]\n",
        "    for id in tqdm(data_df['Id'].values, total = len(data_df))\n",
        "    ]\n",
        "data_df[['P1', 'PX', 'P2']] = [\n",
        "    [prem_dict[id]['P1'], prem_dict[id]['PX'], prem_dict[id]['P2']]\n",
        "    for id in tqdm(data_df['Id'].values, total = len(data_df))\n",
        "    ]\n",
        "\n",
        "print('\\n')\n",
        "#---------------\n",
        "process = psutil.Process(os.getpid())\n",
        "print(round(process.memory_info().rss / 1024 ** 3, 2), 'GiB')  # in bytes\n",
        "#---------------"
      ]
    },
    {
      "cell_type": "code",
      "execution_count": null,
      "metadata": {
        "id": "cot34SU4xfao"
      },
      "outputs": [],
      "source": [
        "data_df.loc[new_match_vector & (data_df['P1'].isna()), ['P1']] = data_df['W1'][new_match_vector & (data_df['P1'].isna())]\n",
        "data_df.loc[new_match_vector & (data_df['P2'].isna()), ['P2']] = data_df['W2'][new_match_vector & (data_df['P2'].isna())]\n",
        "data_df.loc[new_match_vector & (data_df['PX'].isna()), ['PX']] = data_df['WX'][new_match_vector & (data_df['PX'].isna())]\n",
        "data_df['P1'] = data_df['P1'].fillna(method = 'ffill').values\n",
        "data_df['PX'] = data_df['PX'].fillna(method = 'ffill').values\n",
        "data_df['P2'] = data_df['P2'].fillna(method = 'ffill').values"
      ]
    },
    {
      "cell_type": "code",
      "execution_count": null,
      "metadata": {
        "colab": {
          "base_uri": "https://localhost:8080/"
        },
        "id": "SiVw40Y5TzkT",
        "outputId": "aa121412-eba4-47f6-f1e8-0f49b1897f55"
      },
      "outputs": [
        {
          "output_type": "stream",
          "name": "stdout",
          "text": [
            "1. Минуты посчитаны...\n",
            "2. Голы посчитаны...\n",
            "3. Атаки посчитаны...\n",
            "4. Опасные атаки посчитаны...\n",
            "5. Владение мячом посчитпно...\n",
            "6. Удары посчитаны...\n",
            "7. Удары в створ посчитаны...\n",
            "8. Жёлтые карточки посчитаны...\n",
            "9. Красные карточки посчитаны...\n",
            "10. Замены посчитаны...\n",
            "11. Угловые посчитаны...\n",
            "12. Линии посчитаны...\n"
          ]
        },
        {
          "output_type": "stream",
          "name": "stderr",
          "text": [
            "/usr/local/lib/python3.10/dist-packages/pandas/core/arraylike.py:402: RuntimeWarning: divide by zero encountered in log\n",
            "  result = getattr(ufunc, method)(*inputs, **kwargs)\n",
            "/usr/local/lib/python3.10/dist-packages/pandas/core/arraylike.py:402: RuntimeWarning: divide by zero encountered in log\n",
            "  result = getattr(ufunc, method)(*inputs, **kwargs)\n"
          ]
        }
      ],
      "source": [
        "data_df = transform_dataset(data_df, #)\n",
        "    remain = ['StatTime', 'Minute', 'Score1', 'Score2', 'Result1', 'Result2', 'P1', 'PX', 'P2'])"
      ]
    },
    {
      "cell_type": "code",
      "execution_count": null,
      "metadata": {
        "colab": {
          "base_uri": "https://localhost:8080/"
        },
        "id": "ETHSuNqmhmp9",
        "outputId": "920e7765-c5ee-4fe5-c168-922e0c97fc02"
      },
      "outputs": [
        {
          "output_type": "stream",
          "name": "stdout",
          "text": [
            "P1 -inf & P2 -inf:  1487 1487\n"
          ]
        }
      ],
      "source": [
        "# Из-за того что некоторые кэфы были пропущены, и заменены на нули в препроцессинге на их месте появились inf, удаляем\n",
        "print('P1 -inf & P2 -inf: ', (data_df['P1_transformed'] == -np.inf).sum(), (data_df['P2_transformed'] == -np.inf).sum())\n",
        "\n",
        "#data_df = data_df[~(data_df['P1_transformed'] == -np.inf)]\n",
        "#data_df = data_df[~(data_df['P2_transformed'] == -np.inf)]\n"
      ]
    },
    {
      "cell_type": "code",
      "execution_count": null,
      "metadata": {
        "colab": {
          "base_uri": "https://localhost:8080/"
        },
        "id": "6iu5-teMiFp-",
        "outputId": "cdbd7084-48e3-4943-e08a-f1f02c044c8d"
      },
      "outputs": [
        {
          "output_type": "stream",
          "name": "stdout",
          "text": [
            "Score-Result error 1&2:  23 23\n",
            "mem usage:  2.63 GiB\n"
          ]
        }
      ],
      "source": [
        "#Там где забито болше внутри матча чем в итоге, пока не удаляем\n",
        "print('Score-Result error 1&2: ', (~(data_df['Result1'] - data_df['Score1']) >= 0).sum(), (~(data_df['Result1'] - data_df['Score1']) >= 0).sum())\n",
        "#data_df = data_df.loc[(data_df['Result1'] - data_df['Score1']) >= 0]\n",
        "#data_df = data_df.loc[(data_df['Result2'] - data_df['Score2']) >= 0]\n",
        "\n",
        "\n",
        "#---------------\n",
        "process = psutil.Process(os.getpid())\n",
        "print('mem usage: ', round(process.memory_info().rss / 1024 ** 3, 2), 'GiB')  # in bytes\n",
        "#---------------"
      ]
    },
    {
      "cell_type": "code",
      "execution_count": null,
      "metadata": {
        "colab": {
          "base_uri": "https://localhost:8080/"
        },
        "id": "vyi1D9rZalwf",
        "outputId": "267592e5-66e6-45e8-a59a-55ba47cd0e15"
      },
      "outputs": [
        {
          "output_type": "stream",
          "name": "stdout",
          "text": [
            "sort by date: -22.206292867660522 sec.\n",
            "mem usage:  2.1 GiB\n"
          ]
        }
      ],
      "source": [
        "time_point1 = time.time()\n",
        "data_df['StatTime'] = pd.to_datetime(data_df['StatTime'], dayfirst=True)\n",
        "data_df = data_df.sort_values(by = ['StatTime'])\n",
        "print(f'sort by date: {time_point2 - time_point1} sec.')\n",
        "#---------------\n",
        "process = psutil.Process(os.getpid())\n",
        "print('mem usage: ', round(process.memory_info().rss / 1024 ** 3, 2), 'GiB')  # in bytes\n",
        "#---------------"
      ]
    },
    {
      "cell_type": "code",
      "execution_count": null,
      "metadata": {
        "colab": {
          "base_uri": "https://localhost:8080/"
        },
        "id": "M4_P788pjWQ7",
        "outputId": "1fef614d-017c-4d49-de61-be7b37a50e01"
      },
      "outputs": [
        {
          "output_type": "stream",
          "name": "stdout",
          "text": [
            "<class 'pandas.core.frame.DataFrame'>\n",
            "Int64Index: 1827026 entries, 474727 to 1433479\n",
            "Data columns (total 64 columns):\n",
            " #   Column            Dtype         \n",
            "---  ------            -----         \n",
            " 0   Id                int64         \n",
            " 1   StatTime          datetime64[ns]\n",
            " 2   Minute            int64         \n",
            " 3   Score1            int64         \n",
            " 4   Score2            int64         \n",
            " 5   Active.1          int64         \n",
            " 6   W1                float64       \n",
            " 7   WX                float64       \n",
            " 8   W2                float64       \n",
            " 9   X1                float64       \n",
            " 10  X2                float64       \n",
            " 11  W12               float64       \n",
            " 12  TotalValue        float64       \n",
            " 13  Over              float64       \n",
            " 14  Under             float64       \n",
            " 15  Hand1Value        float64       \n",
            " 16  H1                float64       \n",
            " 17  H2                float64       \n",
            " 18  Result1           int64         \n",
            " 19  Result2           int64         \n",
            " 20  P1                float64       \n",
            " 21  PX                float64       \n",
            " 22  P2                float64       \n",
            " 23  min_norm          float32       \n",
            " 24  Score1_norm       float32       \n",
            " 25  Score2_norm       float32       \n",
            " 26  Score_diff        float32       \n",
            " 27  Score_cat_1       uint8         \n",
            " 28  Score_cat_2       uint8         \n",
            " 29  Score_cat_3       uint8         \n",
            " 30  Score_cat_4       uint8         \n",
            " 31  Score_cat_5       uint8         \n",
            " 32  Score_cat_6       uint8         \n",
            " 33  Score_cat_7       uint8         \n",
            " 34  Score_cat_8       uint8         \n",
            " 35  Score_cat_9       uint8         \n",
            " 36  A1_scaled         float32       \n",
            " 37  A2_scaled         float32       \n",
            " 38  A1perMIN          float32       \n",
            " 39  A2perMIN          float32       \n",
            " 40  A1relativ         float32       \n",
            " 41  A2relativ         float32       \n",
            " 42  DA1_scaled        float32       \n",
            " 43  DA2_scaled        float32       \n",
            " 44  DA1perMIN         float32       \n",
            " 45  DA2perMIN         float32       \n",
            " 46  DA1relativ        float32       \n",
            " 47  DA2relativ        float32       \n",
            " 48  Pos1_cleaned      float32       \n",
            " 49  Pos2_cleaned      float32       \n",
            " 50  Off1_norm         float32       \n",
            " 51  Off2_norm         float32       \n",
            " 52  On1_norm          float32       \n",
            " 53  On2_norm          float32       \n",
            " 54  YC1_transformed   float32       \n",
            " 55  YC2_transformed   float32       \n",
            " 56  RC1_transformed   int8          \n",
            " 57  RC2_transformed   int8          \n",
            " 58  Sub1_transformed  int8          \n",
            " 59  Sub2_transformed  int8          \n",
            " 60  Cor1_transformed  float32       \n",
            " 61  Cor2_transformed  float32       \n",
            " 62  P1_transformed    float32       \n",
            " 63  P2_transformed    float32       \n",
            "dtypes: datetime64[ns](1), float32(28), float64(15), int64(7), int8(4), uint8(9)\n",
            "memory usage: 552.3 MB\n"
          ]
        }
      ],
      "source": [
        "data_df.info()"
      ]
    },
    {
      "cell_type": "code",
      "execution_count": null,
      "metadata": {
        "colab": {
          "base_uri": "https://localhost:8080/"
        },
        "id": "30BjEESQjbhD",
        "outputId": "64702a13-669b-49e8-b801-532752e31d6b"
      },
      "outputs": [
        {
          "output_type": "execute_result",
          "data": {
            "text/plain": [
              "                 Id        Minute        Score1        Score2      Active.1  \\\n",
              "count  1.827026e+06  1.827026e+06  1.827026e+06  1.827026e+06  1.827026e+06   \n",
              "mean   6.082924e+06  2.294666e+01  3.080389e-01  2.443277e-01  8.773542e-01   \n",
              "std    4.531704e+05  1.296025e+01  6.040536e-01  5.340757e-01  3.280302e-01   \n",
              "min    4.975839e+06  1.000000e+00  0.000000e+00  0.000000e+00  0.000000e+00   \n",
              "25%    5.736383e+06  1.200000e+01  0.000000e+00  0.000000e+00  1.000000e+00   \n",
              "50%    6.195149e+06  2.300000e+01  0.000000e+00  0.000000e+00  1.000000e+00   \n",
              "75%    6.429106e+06  3.400000e+01  0.000000e+00  0.000000e+00  1.000000e+00   \n",
              "max    6.731425e+06  4.500000e+01  8.000000e+00  7.000000e+00  1.000000e+00   \n",
              "\n",
              "                 W1            WX            W2            X1            X2  \\\n",
              "count  1.827026e+06  1.827026e+06  1.827026e+06  1.827026e+06  1.827026e+06   \n",
              "mean   3.053094e+00  3.690139e+00  4.655567e+00  1.342247e+00  1.799202e+00   \n",
              "std    4.210603e+00  2.597617e+00  5.946112e+00  1.304684e+00  1.704582e+00   \n",
              "min    0.000000e+00  0.000000e+00  0.000000e+00  0.000000e+00  0.000000e+00   \n",
              "25%    1.290000e+00  2.820000e+00  1.570000e+00  1.023000e+00  1.109000e+00   \n",
              "50%    2.030000e+00  3.380000e+00  2.900000e+00  1.230000e+00  1.470000e+00   \n",
              "75%    3.125000e+00  4.250000e+00  5.150000e+00  1.540000e+00  2.080000e+00   \n",
              "max    6.900000e+01  2.700000e+01  1.510000e+02  1.850000e+01  1.900000e+01   \n",
              "\n",
              "                W12    TotalValue          Over         Under    Hand1Value  \\\n",
              "count  1.827026e+06  1.827026e+06  1.827026e+06  1.827026e+06  1.827026e+06   \n",
              "mean   1.055450e+00  2.426204e+00  1.713796e+00  1.692445e+00 -2.627609e-01   \n",
              "std    4.740553e-01  1.277265e+00  6.132216e-01  6.018021e-01  1.211181e+00   \n",
              "min    0.000000e+00  0.000000e+00  0.000000e+00  0.000000e+00 -1.100000e+01   \n",
              "25%    1.096000e+00  1.500000e+00  1.740000e+00  1.720000e+00 -1.000000e+00   \n",
              "50%    1.240000e+00  2.500000e+00  1.880000e+00  1.850000e+00  0.000000e+00   \n",
              "75%    1.320000e+00  3.000000e+00  2.030000e+00  2.000000e+00  0.000000e+00   \n",
              "max    2.130000e+00  1.350000e+01  1.050000e+01  3.100000e+00  1.050000e+01   \n",
              "\n",
              "                 H1            H2       Result1       Result2            P1  \\\n",
              "count  1.827026e+06  1.827026e+06  1.827026e+06  1.827026e+06  1.827026e+06   \n",
              "mean   1.742895e+00  1.749889e+00  1.570168e+00  1.256676e+00  2.810972e+00   \n",
              "std    6.973025e-01  6.999680e-01  1.429285e+00  1.270992e+00  3.094289e+00   \n",
              "min    0.000000e+00  0.000000e+00  0.000000e+00  0.000000e+00  0.000000e+00   \n",
              "25%    1.590000e+00  1.600000e+00  1.000000e+00  0.000000e+00  1.650000e+00   \n",
              "50%    1.830000e+00  1.840000e+00  1.000000e+00  1.000000e+00  2.150000e+00   \n",
              "75%    2.100000e+00  2.120000e+00  2.000000e+00  2.000000e+00  2.875000e+00   \n",
              "max    6.100000e+00  1.050000e+01  1.400000e+01  1.400000e+01  8.100000e+01   \n",
              "\n",
              "                 PX            P2      min_norm   Score1_norm   Score2_norm  \\\n",
              "count  1.827026e+06  1.827026e+06  1.827026e+06  1.827026e+06  1.827026e+06   \n",
              "mean   4.070412e+00  4.132569e+00  4.589331e-01  7.688218e-02  6.102664e-02   \n",
              "std    1.923771e+00  4.160699e+00  2.592049e-01  1.500676e-01  1.330576e-01   \n",
              "min    0.000000e+00  0.000000e+00  2.000000e-02  0.000000e+00  0.000000e+00   \n",
              "25%    3.250000e+00  2.200000e+00  2.400000e-01  0.000000e+00  0.000000e+00   \n",
              "50%    3.600000e+00  3.100000e+00  4.600000e-01  0.000000e+00  0.000000e+00   \n",
              "75%    4.200000e+00  4.500000e+00  6.800000e-01  0.000000e+00  0.000000e+00   \n",
              "max    5.100000e+01  8.100000e+01  9.000000e-01  1.000000e+00  1.000000e+00   \n",
              "\n",
              "         Score_diff   Score_cat_1   Score_cat_2   Score_cat_3   Score_cat_4  \\\n",
              "count  1.827026e+06  1.827026e+06  1.827026e+06  1.827026e+06  1.827026e+06   \n",
              "mean   1.586691e-02  7.695566e-04  3.569736e-03  2.061547e-02  1.247273e-01   \n",
              "std    1.948013e-01  2.773022e-02  5.964055e-02  1.420932e-01  3.304095e-01   \n",
              "min   -1.000000e+00  0.000000e+00  0.000000e+00  0.000000e+00  0.000000e+00   \n",
              "25%    0.000000e+00  0.000000e+00  0.000000e+00  0.000000e+00  0.000000e+00   \n",
              "50%    0.000000e+00  0.000000e+00  0.000000e+00  0.000000e+00  0.000000e+00   \n",
              "75%    0.000000e+00  0.000000e+00  0.000000e+00  0.000000e+00  0.000000e+00   \n",
              "max    1.000000e+00  1.000000e+00  1.000000e+00  1.000000e+00  1.000000e+00   \n",
              "\n",
              "        Score_cat_5   Score_cat_6   Score_cat_7   Score_cat_8   Score_cat_9  \\\n",
              "count  1.827026e+06  1.827026e+06  1.827026e+06  1.827026e+06  1.827026e+06   \n",
              "mean   6.547083e-01  1.571384e-01  3.077570e-02  6.258805e-03  1.436761e-03   \n",
              "std    4.754634e-01  3.639313e-01  1.727095e-01  7.886467e-02  3.787740e-02   \n",
              "min    0.000000e+00  0.000000e+00  0.000000e+00  0.000000e+00  0.000000e+00   \n",
              "25%    0.000000e+00  0.000000e+00  0.000000e+00  0.000000e+00  0.000000e+00   \n",
              "50%    1.000000e+00  0.000000e+00  0.000000e+00  0.000000e+00  0.000000e+00   \n",
              "75%    1.000000e+00  0.000000e+00  0.000000e+00  0.000000e+00  0.000000e+00   \n",
              "max    1.000000e+00  1.000000e+00  1.000000e+00  1.000000e+00  1.000000e+00   \n",
              "\n",
              "          A1_scaled     A2_scaled      A1perMIN      A2perMIN     A1relativ  \\\n",
              "count  1.827026e+06  1.827026e+06  1.827026e+06  1.827026e+06  1.827026e+06   \n",
              "mean   3.255832e-01  3.097913e-01  1.095956e+00  1.042964e+00  4.900517e+00   \n",
              "std    2.059745e-01  1.976283e-01  4.328578e-01  4.216070e-01  3.116739e+00   \n",
              "min    0.000000e+00  0.000000e+00  0.000000e+00  0.000000e+00  0.000000e+00   \n",
              "25%    1.600000e-01  1.466667e-01  8.260869e-01  7.777778e-01  3.000000e+00   \n",
              "50%    3.066667e-01  2.933333e-01  1.037037e+00  1.000000e+00  5.000000e+00   \n",
              "75%    4.666667e-01  4.400000e-01  1.312500e+00  1.250000e+00  7.000000e+00   \n",
              "max    1.086667e+00  1.013333e+00  4.000000e+00  4.000000e+00  1.500000e+01   \n",
              "\n",
              "          A2relativ    DA1_scaled    DA2_scaled     DA1perMIN     DA2perMIN  \\\n",
              "count  1.827026e+06  1.827026e+06  1.827026e+06  1.827026e+06  1.827026e+06   \n",
              "mean   4.660498e+00  2.678083e-01  2.404855e-01  5.799673e-01  5.201102e-01   \n",
              "std    3.008889e+00  1.987007e-01  1.845585e-01  3.209292e-01  3.067699e-01   \n",
              "min    0.000000e+00  0.000000e+00  0.000000e+00  0.000000e+00  0.000000e+00   \n",
              "25%    3.000000e+00  1.000000e-01  1.000000e-01  3.666667e-01  3.181818e-01   \n",
              "50%    5.000000e+00  2.400000e-01  2.000000e-01  5.405405e-01  4.883721e-01   \n",
              "75%    6.000000e+00  3.800000e-01  3.400000e-01  7.500000e-01  6.842105e-01   \n",
              "max    1.500000e+01  1.053333e+00  9.566666e-01  3.000000e+00  3.000000e+00   \n",
              "\n",
              "         DA1relativ    DA2relativ  Pos1_cleaned  Pos2_cleaned     Off1_norm  \\\n",
              "count  1.827026e+06  1.827026e+06  1.827026e+06  1.827026e+06  1.827026e+06   \n",
              "mean   2.799123e+00  2.509011e+00  4.234815e-01  4.013396e-01  1.442812e-01   \n",
              "std    2.273073e+00  2.151310e+00  1.777128e-01  1.664423e-01  1.640837e-01   \n",
              "min    0.000000e+00  0.000000e+00  2.000000e-01  2.000000e-01  0.000000e+00   \n",
              "25%    1.000000e+00  1.000000e+00  2.000000e-01  2.000000e-01  0.000000e+00   \n",
              "50%    3.000000e+00  2.000000e+00  4.500000e-01  4.200000e-01  1.000000e-01   \n",
              "75%    4.000000e+00  4.000000e+00  5.600000e-01  5.300000e-01  2.000000e-01   \n",
              "max    1.000000e+01  1.000000e+01  8.000000e-01  8.000000e-01  1.000000e+00   \n",
              "\n",
              "          Off2_norm      On1_norm      On2_norm  YC1_transformed  \\\n",
              "count  1.827026e+06  1.827026e+06  1.827026e+06     1.827026e+06   \n",
              "mean   1.237681e-01  2.001240e-01  1.688512e-01     1.102658e-01   \n",
              "std    1.476538e-01  2.435194e-01  2.228292e-01     2.422440e-01   \n",
              "min    0.000000e+00  0.000000e+00  0.000000e+00     0.000000e+00   \n",
              "25%    0.000000e+00  0.000000e+00  0.000000e+00     0.000000e+00   \n",
              "50%    1.000000e-01  2.000000e-01  0.000000e+00     0.000000e+00   \n",
              "75%    2.000000e-01  4.000000e-01  2.000000e-01     0.000000e+00   \n",
              "max    1.000000e+00  1.000000e+00  1.000000e+00     1.000000e+00   \n",
              "\n",
              "       YC2_transformed  RC1_transformed  RC2_transformed  Sub1_transformed  \\\n",
              "count     1.827026e+06     1.827026e+06     1.827026e+06      1.827026e+06   \n",
              "mean      1.212815e-01     6.084752e-03     6.889338e-03      2.713207e-02   \n",
              "std       2.530926e-01     7.776716e-02     8.271565e-02      1.624683e-01   \n",
              "min       0.000000e+00     0.000000e+00     0.000000e+00      0.000000e+00   \n",
              "25%       0.000000e+00     0.000000e+00     0.000000e+00      0.000000e+00   \n",
              "50%       0.000000e+00     0.000000e+00     0.000000e+00      0.000000e+00   \n",
              "75%       0.000000e+00     0.000000e+00     0.000000e+00      0.000000e+00   \n",
              "max       1.000000e+00     1.000000e+00     1.000000e+00      1.000000e+00   \n",
              "\n",
              "       Sub2_transformed  Cor1_transformed  Cor2_transformed  P1_transformed  \\\n",
              "count      1.827026e+06      1.827026e+06      1.827026e+06    1.827026e+06   \n",
              "mean       2.836084e-02      1.908505e-01      1.621464e-01            -inf   \n",
              "std        1.660016e-01      2.258420e-01      2.070269e-01             NaN   \n",
              "min        0.000000e+00      0.000000e+00      0.000000e+00            -inf   \n",
              "25%        0.000000e+00      0.000000e+00      0.000000e+00    2.503876e-01   \n",
              "50%        0.000000e+00      1.666667e-01      1.666667e-01    3.827339e-01   \n",
              "75%        0.000000e+00      3.333333e-01      3.333333e-01    5.280263e-01   \n",
              "max        1.000000e+00      1.000000e+00      1.000000e+00    2.197225e+00   \n",
              "\n",
              "       P2_transformed  \n",
              "count    1.827026e+06  \n",
              "mean             -inf  \n",
              "std               NaN  \n",
              "min              -inf  \n",
              "25%      3.942287e-01  \n",
              "50%      5.657010e-01  \n",
              "75%      7.520387e-01  \n",
              "max      2.197225e+00  "
            ],
            "text/html": [
              "\n",
              "  <div id=\"df-3dab3c08-0e31-4364-8814-837fe20c59a5\">\n",
              "    <div class=\"colab-df-container\">\n",
              "      <div>\n",
              "<style scoped>\n",
              "    .dataframe tbody tr th:only-of-type {\n",
              "        vertical-align: middle;\n",
              "    }\n",
              "\n",
              "    .dataframe tbody tr th {\n",
              "        vertical-align: top;\n",
              "    }\n",
              "\n",
              "    .dataframe thead th {\n",
              "        text-align: right;\n",
              "    }\n",
              "</style>\n",
              "<table border=\"1\" class=\"dataframe\">\n",
              "  <thead>\n",
              "    <tr style=\"text-align: right;\">\n",
              "      <th></th>\n",
              "      <th>Id</th>\n",
              "      <th>Minute</th>\n",
              "      <th>Score1</th>\n",
              "      <th>Score2</th>\n",
              "      <th>Active.1</th>\n",
              "      <th>W1</th>\n",
              "      <th>WX</th>\n",
              "      <th>W2</th>\n",
              "      <th>X1</th>\n",
              "      <th>X2</th>\n",
              "      <th>W12</th>\n",
              "      <th>TotalValue</th>\n",
              "      <th>Over</th>\n",
              "      <th>Under</th>\n",
              "      <th>Hand1Value</th>\n",
              "      <th>H1</th>\n",
              "      <th>H2</th>\n",
              "      <th>Result1</th>\n",
              "      <th>Result2</th>\n",
              "      <th>P1</th>\n",
              "      <th>PX</th>\n",
              "      <th>P2</th>\n",
              "      <th>min_norm</th>\n",
              "      <th>Score1_norm</th>\n",
              "      <th>Score2_norm</th>\n",
              "      <th>Score_diff</th>\n",
              "      <th>Score_cat_1</th>\n",
              "      <th>Score_cat_2</th>\n",
              "      <th>Score_cat_3</th>\n",
              "      <th>Score_cat_4</th>\n",
              "      <th>Score_cat_5</th>\n",
              "      <th>Score_cat_6</th>\n",
              "      <th>Score_cat_7</th>\n",
              "      <th>Score_cat_8</th>\n",
              "      <th>Score_cat_9</th>\n",
              "      <th>A1_scaled</th>\n",
              "      <th>A2_scaled</th>\n",
              "      <th>A1perMIN</th>\n",
              "      <th>A2perMIN</th>\n",
              "      <th>A1relativ</th>\n",
              "      <th>A2relativ</th>\n",
              "      <th>DA1_scaled</th>\n",
              "      <th>DA2_scaled</th>\n",
              "      <th>DA1perMIN</th>\n",
              "      <th>DA2perMIN</th>\n",
              "      <th>DA1relativ</th>\n",
              "      <th>DA2relativ</th>\n",
              "      <th>Pos1_cleaned</th>\n",
              "      <th>Pos2_cleaned</th>\n",
              "      <th>Off1_norm</th>\n",
              "      <th>Off2_norm</th>\n",
              "      <th>On1_norm</th>\n",
              "      <th>On2_norm</th>\n",
              "      <th>YC1_transformed</th>\n",
              "      <th>YC2_transformed</th>\n",
              "      <th>RC1_transformed</th>\n",
              "      <th>RC2_transformed</th>\n",
              "      <th>Sub1_transformed</th>\n",
              "      <th>Sub2_transformed</th>\n",
              "      <th>Cor1_transformed</th>\n",
              "      <th>Cor2_transformed</th>\n",
              "      <th>P1_transformed</th>\n",
              "      <th>P2_transformed</th>\n",
              "    </tr>\n",
              "  </thead>\n",
              "  <tbody>\n",
              "    <tr>\n",
              "      <th>count</th>\n",
              "      <td>1.827026e+06</td>\n",
              "      <td>1.827026e+06</td>\n",
              "      <td>1.827026e+06</td>\n",
              "      <td>1.827026e+06</td>\n",
              "      <td>1.827026e+06</td>\n",
              "      <td>1.827026e+06</td>\n",
              "      <td>1.827026e+06</td>\n",
              "      <td>1.827026e+06</td>\n",
              "      <td>1.827026e+06</td>\n",
              "      <td>1.827026e+06</td>\n",
              "      <td>1.827026e+06</td>\n",
              "      <td>1.827026e+06</td>\n",
              "      <td>1.827026e+06</td>\n",
              "      <td>1.827026e+06</td>\n",
              "      <td>1.827026e+06</td>\n",
              "      <td>1.827026e+06</td>\n",
              "      <td>1.827026e+06</td>\n",
              "      <td>1.827026e+06</td>\n",
              "      <td>1.827026e+06</td>\n",
              "      <td>1.827026e+06</td>\n",
              "      <td>1.827026e+06</td>\n",
              "      <td>1.827026e+06</td>\n",
              "      <td>1.827026e+06</td>\n",
              "      <td>1.827026e+06</td>\n",
              "      <td>1.827026e+06</td>\n",
              "      <td>1.827026e+06</td>\n",
              "      <td>1.827026e+06</td>\n",
              "      <td>1.827026e+06</td>\n",
              "      <td>1.827026e+06</td>\n",
              "      <td>1.827026e+06</td>\n",
              "      <td>1.827026e+06</td>\n",
              "      <td>1.827026e+06</td>\n",
              "      <td>1.827026e+06</td>\n",
              "      <td>1.827026e+06</td>\n",
              "      <td>1.827026e+06</td>\n",
              "      <td>1.827026e+06</td>\n",
              "      <td>1.827026e+06</td>\n",
              "      <td>1.827026e+06</td>\n",
              "      <td>1.827026e+06</td>\n",
              "      <td>1.827026e+06</td>\n",
              "      <td>1.827026e+06</td>\n",
              "      <td>1.827026e+06</td>\n",
              "      <td>1.827026e+06</td>\n",
              "      <td>1.827026e+06</td>\n",
              "      <td>1.827026e+06</td>\n",
              "      <td>1.827026e+06</td>\n",
              "      <td>1.827026e+06</td>\n",
              "      <td>1.827026e+06</td>\n",
              "      <td>1.827026e+06</td>\n",
              "      <td>1.827026e+06</td>\n",
              "      <td>1.827026e+06</td>\n",
              "      <td>1.827026e+06</td>\n",
              "      <td>1.827026e+06</td>\n",
              "      <td>1.827026e+06</td>\n",
              "      <td>1.827026e+06</td>\n",
              "      <td>1.827026e+06</td>\n",
              "      <td>1.827026e+06</td>\n",
              "      <td>1.827026e+06</td>\n",
              "      <td>1.827026e+06</td>\n",
              "      <td>1.827026e+06</td>\n",
              "      <td>1.827026e+06</td>\n",
              "      <td>1.827026e+06</td>\n",
              "      <td>1.827026e+06</td>\n",
              "    </tr>\n",
              "    <tr>\n",
              "      <th>mean</th>\n",
              "      <td>6.082924e+06</td>\n",
              "      <td>2.294666e+01</td>\n",
              "      <td>3.080389e-01</td>\n",
              "      <td>2.443277e-01</td>\n",
              "      <td>8.773542e-01</td>\n",
              "      <td>3.053094e+00</td>\n",
              "      <td>3.690139e+00</td>\n",
              "      <td>4.655567e+00</td>\n",
              "      <td>1.342247e+00</td>\n",
              "      <td>1.799202e+00</td>\n",
              "      <td>1.055450e+00</td>\n",
              "      <td>2.426204e+00</td>\n",
              "      <td>1.713796e+00</td>\n",
              "      <td>1.692445e+00</td>\n",
              "      <td>-2.627609e-01</td>\n",
              "      <td>1.742895e+00</td>\n",
              "      <td>1.749889e+00</td>\n",
              "      <td>1.570168e+00</td>\n",
              "      <td>1.256676e+00</td>\n",
              "      <td>2.810972e+00</td>\n",
              "      <td>4.070412e+00</td>\n",
              "      <td>4.132569e+00</td>\n",
              "      <td>4.589331e-01</td>\n",
              "      <td>7.688218e-02</td>\n",
              "      <td>6.102664e-02</td>\n",
              "      <td>1.586691e-02</td>\n",
              "      <td>7.695566e-04</td>\n",
              "      <td>3.569736e-03</td>\n",
              "      <td>2.061547e-02</td>\n",
              "      <td>1.247273e-01</td>\n",
              "      <td>6.547083e-01</td>\n",
              "      <td>1.571384e-01</td>\n",
              "      <td>3.077570e-02</td>\n",
              "      <td>6.258805e-03</td>\n",
              "      <td>1.436761e-03</td>\n",
              "      <td>3.255832e-01</td>\n",
              "      <td>3.097913e-01</td>\n",
              "      <td>1.095956e+00</td>\n",
              "      <td>1.042964e+00</td>\n",
              "      <td>4.900517e+00</td>\n",
              "      <td>4.660498e+00</td>\n",
              "      <td>2.678083e-01</td>\n",
              "      <td>2.404855e-01</td>\n",
              "      <td>5.799673e-01</td>\n",
              "      <td>5.201102e-01</td>\n",
              "      <td>2.799123e+00</td>\n",
              "      <td>2.509011e+00</td>\n",
              "      <td>4.234815e-01</td>\n",
              "      <td>4.013396e-01</td>\n",
              "      <td>1.442812e-01</td>\n",
              "      <td>1.237681e-01</td>\n",
              "      <td>2.001240e-01</td>\n",
              "      <td>1.688512e-01</td>\n",
              "      <td>1.102658e-01</td>\n",
              "      <td>1.212815e-01</td>\n",
              "      <td>6.084752e-03</td>\n",
              "      <td>6.889338e-03</td>\n",
              "      <td>2.713207e-02</td>\n",
              "      <td>2.836084e-02</td>\n",
              "      <td>1.908505e-01</td>\n",
              "      <td>1.621464e-01</td>\n",
              "      <td>-inf</td>\n",
              "      <td>-inf</td>\n",
              "    </tr>\n",
              "    <tr>\n",
              "      <th>std</th>\n",
              "      <td>4.531704e+05</td>\n",
              "      <td>1.296025e+01</td>\n",
              "      <td>6.040536e-01</td>\n",
              "      <td>5.340757e-01</td>\n",
              "      <td>3.280302e-01</td>\n",
              "      <td>4.210603e+00</td>\n",
              "      <td>2.597617e+00</td>\n",
              "      <td>5.946112e+00</td>\n",
              "      <td>1.304684e+00</td>\n",
              "      <td>1.704582e+00</td>\n",
              "      <td>4.740553e-01</td>\n",
              "      <td>1.277265e+00</td>\n",
              "      <td>6.132216e-01</td>\n",
              "      <td>6.018021e-01</td>\n",
              "      <td>1.211181e+00</td>\n",
              "      <td>6.973025e-01</td>\n",
              "      <td>6.999680e-01</td>\n",
              "      <td>1.429285e+00</td>\n",
              "      <td>1.270992e+00</td>\n",
              "      <td>3.094289e+00</td>\n",
              "      <td>1.923771e+00</td>\n",
              "      <td>4.160699e+00</td>\n",
              "      <td>2.592049e-01</td>\n",
              "      <td>1.500676e-01</td>\n",
              "      <td>1.330576e-01</td>\n",
              "      <td>1.948013e-01</td>\n",
              "      <td>2.773022e-02</td>\n",
              "      <td>5.964055e-02</td>\n",
              "      <td>1.420932e-01</td>\n",
              "      <td>3.304095e-01</td>\n",
              "      <td>4.754634e-01</td>\n",
              "      <td>3.639313e-01</td>\n",
              "      <td>1.727095e-01</td>\n",
              "      <td>7.886467e-02</td>\n",
              "      <td>3.787740e-02</td>\n",
              "      <td>2.059745e-01</td>\n",
              "      <td>1.976283e-01</td>\n",
              "      <td>4.328578e-01</td>\n",
              "      <td>4.216070e-01</td>\n",
              "      <td>3.116739e+00</td>\n",
              "      <td>3.008889e+00</td>\n",
              "      <td>1.987007e-01</td>\n",
              "      <td>1.845585e-01</td>\n",
              "      <td>3.209292e-01</td>\n",
              "      <td>3.067699e-01</td>\n",
              "      <td>2.273073e+00</td>\n",
              "      <td>2.151310e+00</td>\n",
              "      <td>1.777128e-01</td>\n",
              "      <td>1.664423e-01</td>\n",
              "      <td>1.640837e-01</td>\n",
              "      <td>1.476538e-01</td>\n",
              "      <td>2.435194e-01</td>\n",
              "      <td>2.228292e-01</td>\n",
              "      <td>2.422440e-01</td>\n",
              "      <td>2.530926e-01</td>\n",
              "      <td>7.776716e-02</td>\n",
              "      <td>8.271565e-02</td>\n",
              "      <td>1.624683e-01</td>\n",
              "      <td>1.660016e-01</td>\n",
              "      <td>2.258420e-01</td>\n",
              "      <td>2.070269e-01</td>\n",
              "      <td>NaN</td>\n",
              "      <td>NaN</td>\n",
              "    </tr>\n",
              "    <tr>\n",
              "      <th>min</th>\n",
              "      <td>4.975839e+06</td>\n",
              "      <td>1.000000e+00</td>\n",
              "      <td>0.000000e+00</td>\n",
              "      <td>0.000000e+00</td>\n",
              "      <td>0.000000e+00</td>\n",
              "      <td>0.000000e+00</td>\n",
              "      <td>0.000000e+00</td>\n",
              "      <td>0.000000e+00</td>\n",
              "      <td>0.000000e+00</td>\n",
              "      <td>0.000000e+00</td>\n",
              "      <td>0.000000e+00</td>\n",
              "      <td>0.000000e+00</td>\n",
              "      <td>0.000000e+00</td>\n",
              "      <td>0.000000e+00</td>\n",
              "      <td>-1.100000e+01</td>\n",
              "      <td>0.000000e+00</td>\n",
              "      <td>0.000000e+00</td>\n",
              "      <td>0.000000e+00</td>\n",
              "      <td>0.000000e+00</td>\n",
              "      <td>0.000000e+00</td>\n",
              "      <td>0.000000e+00</td>\n",
              "      <td>0.000000e+00</td>\n",
              "      <td>2.000000e-02</td>\n",
              "      <td>0.000000e+00</td>\n",
              "      <td>0.000000e+00</td>\n",
              "      <td>-1.000000e+00</td>\n",
              "      <td>0.000000e+00</td>\n",
              "      <td>0.000000e+00</td>\n",
              "      <td>0.000000e+00</td>\n",
              "      <td>0.000000e+00</td>\n",
              "      <td>0.000000e+00</td>\n",
              "      <td>0.000000e+00</td>\n",
              "      <td>0.000000e+00</td>\n",
              "      <td>0.000000e+00</td>\n",
              "      <td>0.000000e+00</td>\n",
              "      <td>0.000000e+00</td>\n",
              "      <td>0.000000e+00</td>\n",
              "      <td>0.000000e+00</td>\n",
              "      <td>0.000000e+00</td>\n",
              "      <td>0.000000e+00</td>\n",
              "      <td>0.000000e+00</td>\n",
              "      <td>0.000000e+00</td>\n",
              "      <td>0.000000e+00</td>\n",
              "      <td>0.000000e+00</td>\n",
              "      <td>0.000000e+00</td>\n",
              "      <td>0.000000e+00</td>\n",
              "      <td>0.000000e+00</td>\n",
              "      <td>2.000000e-01</td>\n",
              "      <td>2.000000e-01</td>\n",
              "      <td>0.000000e+00</td>\n",
              "      <td>0.000000e+00</td>\n",
              "      <td>0.000000e+00</td>\n",
              "      <td>0.000000e+00</td>\n",
              "      <td>0.000000e+00</td>\n",
              "      <td>0.000000e+00</td>\n",
              "      <td>0.000000e+00</td>\n",
              "      <td>0.000000e+00</td>\n",
              "      <td>0.000000e+00</td>\n",
              "      <td>0.000000e+00</td>\n",
              "      <td>0.000000e+00</td>\n",
              "      <td>0.000000e+00</td>\n",
              "      <td>-inf</td>\n",
              "      <td>-inf</td>\n",
              "    </tr>\n",
              "    <tr>\n",
              "      <th>25%</th>\n",
              "      <td>5.736383e+06</td>\n",
              "      <td>1.200000e+01</td>\n",
              "      <td>0.000000e+00</td>\n",
              "      <td>0.000000e+00</td>\n",
              "      <td>1.000000e+00</td>\n",
              "      <td>1.290000e+00</td>\n",
              "      <td>2.820000e+00</td>\n",
              "      <td>1.570000e+00</td>\n",
              "      <td>1.023000e+00</td>\n",
              "      <td>1.109000e+00</td>\n",
              "      <td>1.096000e+00</td>\n",
              "      <td>1.500000e+00</td>\n",
              "      <td>1.740000e+00</td>\n",
              "      <td>1.720000e+00</td>\n",
              "      <td>-1.000000e+00</td>\n",
              "      <td>1.590000e+00</td>\n",
              "      <td>1.600000e+00</td>\n",
              "      <td>1.000000e+00</td>\n",
              "      <td>0.000000e+00</td>\n",
              "      <td>1.650000e+00</td>\n",
              "      <td>3.250000e+00</td>\n",
              "      <td>2.200000e+00</td>\n",
              "      <td>2.400000e-01</td>\n",
              "      <td>0.000000e+00</td>\n",
              "      <td>0.000000e+00</td>\n",
              "      <td>0.000000e+00</td>\n",
              "      <td>0.000000e+00</td>\n",
              "      <td>0.000000e+00</td>\n",
              "      <td>0.000000e+00</td>\n",
              "      <td>0.000000e+00</td>\n",
              "      <td>0.000000e+00</td>\n",
              "      <td>0.000000e+00</td>\n",
              "      <td>0.000000e+00</td>\n",
              "      <td>0.000000e+00</td>\n",
              "      <td>0.000000e+00</td>\n",
              "      <td>1.600000e-01</td>\n",
              "      <td>1.466667e-01</td>\n",
              "      <td>8.260869e-01</td>\n",
              "      <td>7.777778e-01</td>\n",
              "      <td>3.000000e+00</td>\n",
              "      <td>3.000000e+00</td>\n",
              "      <td>1.000000e-01</td>\n",
              "      <td>1.000000e-01</td>\n",
              "      <td>3.666667e-01</td>\n",
              "      <td>3.181818e-01</td>\n",
              "      <td>1.000000e+00</td>\n",
              "      <td>1.000000e+00</td>\n",
              "      <td>2.000000e-01</td>\n",
              "      <td>2.000000e-01</td>\n",
              "      <td>0.000000e+00</td>\n",
              "      <td>0.000000e+00</td>\n",
              "      <td>0.000000e+00</td>\n",
              "      <td>0.000000e+00</td>\n",
              "      <td>0.000000e+00</td>\n",
              "      <td>0.000000e+00</td>\n",
              "      <td>0.000000e+00</td>\n",
              "      <td>0.000000e+00</td>\n",
              "      <td>0.000000e+00</td>\n",
              "      <td>0.000000e+00</td>\n",
              "      <td>0.000000e+00</td>\n",
              "      <td>0.000000e+00</td>\n",
              "      <td>2.503876e-01</td>\n",
              "      <td>3.942287e-01</td>\n",
              "    </tr>\n",
              "    <tr>\n",
              "      <th>50%</th>\n",
              "      <td>6.195149e+06</td>\n",
              "      <td>2.300000e+01</td>\n",
              "      <td>0.000000e+00</td>\n",
              "      <td>0.000000e+00</td>\n",
              "      <td>1.000000e+00</td>\n",
              "      <td>2.030000e+00</td>\n",
              "      <td>3.380000e+00</td>\n",
              "      <td>2.900000e+00</td>\n",
              "      <td>1.230000e+00</td>\n",
              "      <td>1.470000e+00</td>\n",
              "      <td>1.240000e+00</td>\n",
              "      <td>2.500000e+00</td>\n",
              "      <td>1.880000e+00</td>\n",
              "      <td>1.850000e+00</td>\n",
              "      <td>0.000000e+00</td>\n",
              "      <td>1.830000e+00</td>\n",
              "      <td>1.840000e+00</td>\n",
              "      <td>1.000000e+00</td>\n",
              "      <td>1.000000e+00</td>\n",
              "      <td>2.150000e+00</td>\n",
              "      <td>3.600000e+00</td>\n",
              "      <td>3.100000e+00</td>\n",
              "      <td>4.600000e-01</td>\n",
              "      <td>0.000000e+00</td>\n",
              "      <td>0.000000e+00</td>\n",
              "      <td>0.000000e+00</td>\n",
              "      <td>0.000000e+00</td>\n",
              "      <td>0.000000e+00</td>\n",
              "      <td>0.000000e+00</td>\n",
              "      <td>0.000000e+00</td>\n",
              "      <td>1.000000e+00</td>\n",
              "      <td>0.000000e+00</td>\n",
              "      <td>0.000000e+00</td>\n",
              "      <td>0.000000e+00</td>\n",
              "      <td>0.000000e+00</td>\n",
              "      <td>3.066667e-01</td>\n",
              "      <td>2.933333e-01</td>\n",
              "      <td>1.037037e+00</td>\n",
              "      <td>1.000000e+00</td>\n",
              "      <td>5.000000e+00</td>\n",
              "      <td>5.000000e+00</td>\n",
              "      <td>2.400000e-01</td>\n",
              "      <td>2.000000e-01</td>\n",
              "      <td>5.405405e-01</td>\n",
              "      <td>4.883721e-01</td>\n",
              "      <td>3.000000e+00</td>\n",
              "      <td>2.000000e+00</td>\n",
              "      <td>4.500000e-01</td>\n",
              "      <td>4.200000e-01</td>\n",
              "      <td>1.000000e-01</td>\n",
              "      <td>1.000000e-01</td>\n",
              "      <td>2.000000e-01</td>\n",
              "      <td>0.000000e+00</td>\n",
              "      <td>0.000000e+00</td>\n",
              "      <td>0.000000e+00</td>\n",
              "      <td>0.000000e+00</td>\n",
              "      <td>0.000000e+00</td>\n",
              "      <td>0.000000e+00</td>\n",
              "      <td>0.000000e+00</td>\n",
              "      <td>1.666667e-01</td>\n",
              "      <td>1.666667e-01</td>\n",
              "      <td>3.827339e-01</td>\n",
              "      <td>5.657010e-01</td>\n",
              "    </tr>\n",
              "    <tr>\n",
              "      <th>75%</th>\n",
              "      <td>6.429106e+06</td>\n",
              "      <td>3.400000e+01</td>\n",
              "      <td>0.000000e+00</td>\n",
              "      <td>0.000000e+00</td>\n",
              "      <td>1.000000e+00</td>\n",
              "      <td>3.125000e+00</td>\n",
              "      <td>4.250000e+00</td>\n",
              "      <td>5.150000e+00</td>\n",
              "      <td>1.540000e+00</td>\n",
              "      <td>2.080000e+00</td>\n",
              "      <td>1.320000e+00</td>\n",
              "      <td>3.000000e+00</td>\n",
              "      <td>2.030000e+00</td>\n",
              "      <td>2.000000e+00</td>\n",
              "      <td>0.000000e+00</td>\n",
              "      <td>2.100000e+00</td>\n",
              "      <td>2.120000e+00</td>\n",
              "      <td>2.000000e+00</td>\n",
              "      <td>2.000000e+00</td>\n",
              "      <td>2.875000e+00</td>\n",
              "      <td>4.200000e+00</td>\n",
              "      <td>4.500000e+00</td>\n",
              "      <td>6.800000e-01</td>\n",
              "      <td>0.000000e+00</td>\n",
              "      <td>0.000000e+00</td>\n",
              "      <td>0.000000e+00</td>\n",
              "      <td>0.000000e+00</td>\n",
              "      <td>0.000000e+00</td>\n",
              "      <td>0.000000e+00</td>\n",
              "      <td>0.000000e+00</td>\n",
              "      <td>1.000000e+00</td>\n",
              "      <td>0.000000e+00</td>\n",
              "      <td>0.000000e+00</td>\n",
              "      <td>0.000000e+00</td>\n",
              "      <td>0.000000e+00</td>\n",
              "      <td>4.666667e-01</td>\n",
              "      <td>4.400000e-01</td>\n",
              "      <td>1.312500e+00</td>\n",
              "      <td>1.250000e+00</td>\n",
              "      <td>7.000000e+00</td>\n",
              "      <td>6.000000e+00</td>\n",
              "      <td>3.800000e-01</td>\n",
              "      <td>3.400000e-01</td>\n",
              "      <td>7.500000e-01</td>\n",
              "      <td>6.842105e-01</td>\n",
              "      <td>4.000000e+00</td>\n",
              "      <td>4.000000e+00</td>\n",
              "      <td>5.600000e-01</td>\n",
              "      <td>5.300000e-01</td>\n",
              "      <td>2.000000e-01</td>\n",
              "      <td>2.000000e-01</td>\n",
              "      <td>4.000000e-01</td>\n",
              "      <td>2.000000e-01</td>\n",
              "      <td>0.000000e+00</td>\n",
              "      <td>0.000000e+00</td>\n",
              "      <td>0.000000e+00</td>\n",
              "      <td>0.000000e+00</td>\n",
              "      <td>0.000000e+00</td>\n",
              "      <td>0.000000e+00</td>\n",
              "      <td>3.333333e-01</td>\n",
              "      <td>3.333333e-01</td>\n",
              "      <td>5.280263e-01</td>\n",
              "      <td>7.520387e-01</td>\n",
              "    </tr>\n",
              "    <tr>\n",
              "      <th>max</th>\n",
              "      <td>6.731425e+06</td>\n",
              "      <td>4.500000e+01</td>\n",
              "      <td>8.000000e+00</td>\n",
              "      <td>7.000000e+00</td>\n",
              "      <td>1.000000e+00</td>\n",
              "      <td>6.900000e+01</td>\n",
              "      <td>2.700000e+01</td>\n",
              "      <td>1.510000e+02</td>\n",
              "      <td>1.850000e+01</td>\n",
              "      <td>1.900000e+01</td>\n",
              "      <td>2.130000e+00</td>\n",
              "      <td>1.350000e+01</td>\n",
              "      <td>1.050000e+01</td>\n",
              "      <td>3.100000e+00</td>\n",
              "      <td>1.050000e+01</td>\n",
              "      <td>6.100000e+00</td>\n",
              "      <td>1.050000e+01</td>\n",
              "      <td>1.400000e+01</td>\n",
              "      <td>1.400000e+01</td>\n",
              "      <td>8.100000e+01</td>\n",
              "      <td>5.100000e+01</td>\n",
              "      <td>8.100000e+01</td>\n",
              "      <td>9.000000e-01</td>\n",
              "      <td>1.000000e+00</td>\n",
              "      <td>1.000000e+00</td>\n",
              "      <td>1.000000e+00</td>\n",
              "      <td>1.000000e+00</td>\n",
              "      <td>1.000000e+00</td>\n",
              "      <td>1.000000e+00</td>\n",
              "      <td>1.000000e+00</td>\n",
              "      <td>1.000000e+00</td>\n",
              "      <td>1.000000e+00</td>\n",
              "      <td>1.000000e+00</td>\n",
              "      <td>1.000000e+00</td>\n",
              "      <td>1.000000e+00</td>\n",
              "      <td>1.086667e+00</td>\n",
              "      <td>1.013333e+00</td>\n",
              "      <td>4.000000e+00</td>\n",
              "      <td>4.000000e+00</td>\n",
              "      <td>1.500000e+01</td>\n",
              "      <td>1.500000e+01</td>\n",
              "      <td>1.053333e+00</td>\n",
              "      <td>9.566666e-01</td>\n",
              "      <td>3.000000e+00</td>\n",
              "      <td>3.000000e+00</td>\n",
              "      <td>1.000000e+01</td>\n",
              "      <td>1.000000e+01</td>\n",
              "      <td>8.000000e-01</td>\n",
              "      <td>8.000000e-01</td>\n",
              "      <td>1.000000e+00</td>\n",
              "      <td>1.000000e+00</td>\n",
              "      <td>1.000000e+00</td>\n",
              "      <td>1.000000e+00</td>\n",
              "      <td>1.000000e+00</td>\n",
              "      <td>1.000000e+00</td>\n",
              "      <td>1.000000e+00</td>\n",
              "      <td>1.000000e+00</td>\n",
              "      <td>1.000000e+00</td>\n",
              "      <td>1.000000e+00</td>\n",
              "      <td>1.000000e+00</td>\n",
              "      <td>1.000000e+00</td>\n",
              "      <td>2.197225e+00</td>\n",
              "      <td>2.197225e+00</td>\n",
              "    </tr>\n",
              "  </tbody>\n",
              "</table>\n",
              "</div>\n",
              "      <button class=\"colab-df-convert\" onclick=\"convertToInteractive('df-3dab3c08-0e31-4364-8814-837fe20c59a5')\"\n",
              "              title=\"Convert this dataframe to an interactive table.\"\n",
              "              style=\"display:none;\">\n",
              "        \n",
              "  <svg xmlns=\"http://www.w3.org/2000/svg\" height=\"24px\"viewBox=\"0 0 24 24\"\n",
              "       width=\"24px\">\n",
              "    <path d=\"M0 0h24v24H0V0z\" fill=\"none\"/>\n",
              "    <path d=\"M18.56 5.44l.94 2.06.94-2.06 2.06-.94-2.06-.94-.94-2.06-.94 2.06-2.06.94zm-11 1L8.5 8.5l.94-2.06 2.06-.94-2.06-.94L8.5 2.5l-.94 2.06-2.06.94zm10 10l.94 2.06.94-2.06 2.06-.94-2.06-.94-.94-2.06-.94 2.06-2.06.94z\"/><path d=\"M17.41 7.96l-1.37-1.37c-.4-.4-.92-.59-1.43-.59-.52 0-1.04.2-1.43.59L10.3 9.45l-7.72 7.72c-.78.78-.78 2.05 0 2.83L4 21.41c.39.39.9.59 1.41.59.51 0 1.02-.2 1.41-.59l7.78-7.78 2.81-2.81c.8-.78.8-2.07 0-2.86zM5.41 20L4 18.59l7.72-7.72 1.47 1.35L5.41 20z\"/>\n",
              "  </svg>\n",
              "      </button>\n",
              "      \n",
              "  <style>\n",
              "    .colab-df-container {\n",
              "      display:flex;\n",
              "      flex-wrap:wrap;\n",
              "      gap: 12px;\n",
              "    }\n",
              "\n",
              "    .colab-df-convert {\n",
              "      background-color: #E8F0FE;\n",
              "      border: none;\n",
              "      border-radius: 50%;\n",
              "      cursor: pointer;\n",
              "      display: none;\n",
              "      fill: #1967D2;\n",
              "      height: 32px;\n",
              "      padding: 0 0 0 0;\n",
              "      width: 32px;\n",
              "    }\n",
              "\n",
              "    .colab-df-convert:hover {\n",
              "      background-color: #E2EBFA;\n",
              "      box-shadow: 0px 1px 2px rgba(60, 64, 67, 0.3), 0px 1px 3px 1px rgba(60, 64, 67, 0.15);\n",
              "      fill: #174EA6;\n",
              "    }\n",
              "\n",
              "    [theme=dark] .colab-df-convert {\n",
              "      background-color: #3B4455;\n",
              "      fill: #D2E3FC;\n",
              "    }\n",
              "\n",
              "    [theme=dark] .colab-df-convert:hover {\n",
              "      background-color: #434B5C;\n",
              "      box-shadow: 0px 1px 3px 1px rgba(0, 0, 0, 0.15);\n",
              "      filter: drop-shadow(0px 1px 2px rgba(0, 0, 0, 0.3));\n",
              "      fill: #FFFFFF;\n",
              "    }\n",
              "  </style>\n",
              "\n",
              "      <script>\n",
              "        const buttonEl =\n",
              "          document.querySelector('#df-3dab3c08-0e31-4364-8814-837fe20c59a5 button.colab-df-convert');\n",
              "        buttonEl.style.display =\n",
              "          google.colab.kernel.accessAllowed ? 'block' : 'none';\n",
              "\n",
              "        async function convertToInteractive(key) {\n",
              "          const element = document.querySelector('#df-3dab3c08-0e31-4364-8814-837fe20c59a5');\n",
              "          const dataTable =\n",
              "            await google.colab.kernel.invokeFunction('convertToInteractive',\n",
              "                                                     [key], {});\n",
              "          if (!dataTable) return;\n",
              "\n",
              "          const docLinkHtml = 'Like what you see? Visit the ' +\n",
              "            '<a target=\"_blank\" href=https://colab.research.google.com/notebooks/data_table.ipynb>data table notebook</a>'\n",
              "            + ' to learn more about interactive tables.';\n",
              "          element.innerHTML = '';\n",
              "          dataTable['output_type'] = 'display_data';\n",
              "          await google.colab.output.renderOutput(dataTable, element);\n",
              "          const docLink = document.createElement('div');\n",
              "          docLink.innerHTML = docLinkHtml;\n",
              "          element.appendChild(docLink);\n",
              "        }\n",
              "      </script>\n",
              "    </div>\n",
              "  </div>\n",
              "  "
            ]
          },
          "metadata": {},
          "execution_count": 31
        }
      ],
      "source": [
        "data_df.describe()"
      ]
    },
    {
      "cell_type": "code",
      "execution_count": null,
      "metadata": {
        "id": "WF1WGksskr9X"
      },
      "outputs": [],
      "source": [
        "selected_cols = [item for item in data_df.columns[23:] if item not in remove_list]\n",
        "#selected_cols = [item for item in data_df.columns[23:]]"
      ]
    },
    {
      "cell_type": "code",
      "execution_count": null,
      "metadata": {
        "id": "s4x7f4IFjhPl"
      },
      "outputs": [],
      "source": [
        "X = data_df[selected_cols].values\n",
        "y_regression1 = ((data_df['Result1'] - data_df['Score1']) / 21).values\n",
        "y_regression2 = ((data_df['Result2'] - data_df['Score2']) / 21).values\n",
        "line = data_df[['TotalValue', 'Over', 'Under']].values\n",
        "active_rows = np.ones(line.shape[0], dtype = bool)\n",
        "#active = data_df['Active.1'].values == 1\n",
        "#active_rows = (active & (line.sum(axis = 1) > 3))\n",
        "scores1 = data_df['Score1'].values\n",
        "scores2 = data_df['Score2'].values"
      ]
    },
    {
      "cell_type": "markdown",
      "metadata": {
        "id": "xyRkKD42tI2Q"
      },
      "source": [
        "#### Download models and restore predicts"
      ]
    },
    {
      "cell_type": "code",
      "execution_count": null,
      "metadata": {
        "id": "K24dN9EBlMY1"
      },
      "outputs": [],
      "source": [
        "!mkdir -p ./models"
      ]
    },
    {
      "cell_type": "code",
      "execution_count": null,
      "metadata": {
        "colab": {
          "base_uri": "https://localhost:8080/"
        },
        "id": "qHrDQPpsuIZE",
        "outputId": "448ea644-5a9f-4077-865c-28d01afc7e2d"
      },
      "outputs": [
        {
          "output_type": "stream",
          "name": "stdout",
          "text": [
            "https://app.neptune.ai/scomesse/football/m/FOOT-LIVEBST1/v/FOOT-LIVEBST1-6\n",
            "Shutting down background jobs, please wait a moment...\n",
            "Done!\n",
            "All 0 operations synced, thanks for waiting!\n",
            "Explore the metadata in the Neptune app:\n",
            "https://app.neptune.ai/scomesse/football/m/FOOT-LIVEBST1/v/FOOT-LIVEBST1-6/metadata\n"
          ]
        }
      ],
      "source": [
        "# Модель для 1-ой команды\n",
        "model_num = selected_model1_version # Указываем номер модели\n",
        "neptune_model = 'FOOT-LIVEBST1'\n",
        "neptune_model_version = neptune_model + f'-{model_num}'\n",
        "model_version_params = dict(\n",
        "    project = 'scomesse/football',\n",
        "    model = neptune_model,\n",
        "    api_token = api_key,\n",
        "    with_id = neptune_model_version\n",
        ")\n",
        "if folded:\n",
        "    model_version = neptune.init_model_version(**model_version_params)\n",
        "    description_dict = model_version[f'model_reg1_description'].fetch()\n",
        "    for kfold_num in range(description_dict['kfold_splits']):\n",
        "        model_version[f'/models/model_reg1_{kfold_num}'].download(f'./models/booster_reg1_{kfold_num}.model')\n",
        "    model_version.stop()\n",
        "else:\n",
        "    PATH_TO_MODEL = './booster.model'\n",
        "    model_version = neptune.init_model_version(**model_version_params)\n",
        "    model_version['model'].download(PATH_TO_MODEL)\n",
        "    params1 = model_version['team_parameters'].fetch()\n",
        "    model_version.stop()"
      ]
    },
    {
      "cell_type": "code",
      "execution_count": null,
      "metadata": {
        "colab": {
          "base_uri": "https://localhost:8080/"
        },
        "id": "fxTmDCRyuNXs",
        "outputId": "b0f03a0f-707b-439d-b672-c19977ecb294"
      },
      "outputs": [
        {
          "output_type": "stream",
          "name": "stdout",
          "text": [
            "https://app.neptune.ai/scomesse/football/m/FOOT-LIVEBST2/v/FOOT-LIVEBST2-5\n",
            "Shutting down background jobs, please wait a moment...\n",
            "Done!\n",
            "All 0 operations synced, thanks for waiting!\n",
            "Explore the metadata in the Neptune app:\n",
            "https://app.neptune.ai/scomesse/football/m/FOOT-LIVEBST2/v/FOOT-LIVEBST2-5/metadata\n"
          ]
        }
      ],
      "source": [
        "model_num_2 = selected_model2_version # Указываем номер модели\n",
        "neptune_model_2 = 'FOOT-LIVEBST2'\n",
        "neptune_model_version_2 = neptune_model_2 + f'-{model_num_2}'\n",
        "model_version_params2 = dict(\n",
        "    project = 'scomesse/football',\n",
        "    model = neptune_model_2,\n",
        "    api_token = api_key,\n",
        "    with_id = neptune_model_version_2\n",
        ")\n",
        "if folded:\n",
        "    model_version2 = neptune.init_model_version(**model_version_params2)\n",
        "    description_dict2 = model_version2[f'model_reg2_description'].fetch()\n",
        "    for kfold_num in range(description_dict2['kfold_splits']):\n",
        "        model_version2[f'/models/model_reg2_{kfold_num}'].download(f'./models/booster_reg2_{kfold_num}.model')\n",
        "    model_version2.stop()\n",
        "else:\n",
        "    PATH_TO_MODEL = './booster2.model'\n",
        "    model_version2 = neptune.init_model_version(**model_version_params2)\n",
        "    model_version2['model'].download(PATH_TO_MODEL)\n",
        "    params2 = model_version2['team_parameters'].fetch()\n",
        "    model_version2.stop()"
      ]
    },
    {
      "cell_type": "code",
      "execution_count": null,
      "metadata": {
        "colab": {
          "base_uri": "https://localhost:8080/"
        },
        "id": "fKs9VoHLqB0Z",
        "outputId": "d2385b79-0849-422d-f373-29bc581ce2fb"
      },
      "outputs": [
        {
          "output_type": "stream",
          "name": "stdout",
          "text": [
            "Mem usage:  2.29 GiB\n"
          ]
        }
      ],
      "source": [
        "if folded:\n",
        "    preds_dict = {}\n",
        "    preds_dict = {1:sum(\n",
        "        CatBoost().load_model(\n",
        "            f'./models/booster_reg1_{kfold_num}.model'\n",
        "                            ).predict(X) * 21.0\n",
        "        for kfold_num in range(description_dict['kfold_splits'])\n",
        "                            ) / description_dict['kfold_splits']}\n",
        "\n",
        "    preds_dict.update({2:sum(\n",
        "        CatBoost().load_model(\n",
        "            f'./models/booster_reg2_{kfold_num}.model'\n",
        "                            ).predict(X) * 21.0\n",
        "        for kfold_num in range(description_dict['kfold_splits'])\n",
        "                            ) / description_dict['kfold_splits']})\n",
        "else:\n",
        "    preds_dict = {}\n",
        "    booster = CatBoost()\n",
        "    booster.load_model('./booster.model')\n",
        "    preds_dict = {1:booster.predict(X) * 21.0}\n",
        "\n",
        "    booster2 = CatBoost()\n",
        "    booster2.load_model('./booster2.model')\n",
        "    preds_dict.update({2:booster2.predict(X) * 21.0})\n",
        "\n",
        "#---------------\n",
        "process = psutil.Process(os.getpid())\n",
        "print('Mem usage: ', round(process.memory_info().rss / 1024 ** 3, 2), 'GiB')  # in bytes\n",
        "#---------------"
      ]
    },
    {
      "cell_type": "markdown",
      "metadata": {
        "id": "MUoqIhQIy5S_"
      },
      "source": [
        "#### Calculate probabilities"
      ]
    },
    {
      "cell_type": "code",
      "execution_count": null,
      "metadata": {
        "id": "mBa_Nc_EyG_V"
      },
      "outputs": [],
      "source": [
        "# Считаем Пуассона\n",
        "poisson_dict = {}\n",
        "poisson_dict[1] = {}\n",
        "poisson_dict[2] = {}\n",
        "for goal in range(7):\n",
        "    poisson_dict[1][goal] = poisson.pmf(goal, preds_dict[1][active_rows])\n",
        "    poisson_dict[2][goal] = poisson.pmf(goal, preds_dict[2][active_rows])"
      ]
    },
    {
      "cell_type": "code",
      "execution_count": null,
      "metadata": {
        "id": "n7onL0rUyVnx"
      },
      "outputs": [],
      "source": [
        "# Считаем вероятности суммы забитых мячей\n",
        "total_matrix = np.zeros((np.sum(active_rows), 13))\n",
        "for goal1 in range(7):\n",
        "    for goal2 in range(7):\n",
        "        total_matrix[:, goal1 + goal2] = total_matrix[:, goal1 + goal2] + \\\n",
        "        poisson_dict[1][goal1] * poisson_dict[2][goal2]"
      ]
    },
    {
      "cell_type": "code",
      "execution_count": null,
      "metadata": {
        "id": "BLT5qch5ynrO"
      },
      "outputs": [],
      "source": [
        "# Считаем вероятности забить не менее определенного количества мячей\n",
        "over_matrix = np.hstack((\n",
        "    np.flip(np.cumsum(np.flip(total_matrix, axis = 1), axis = 1), axis = 1),\n",
        "    np.zeros(np.sum(active_rows)).reshape(-1,1)\n",
        "                                ))[:, 1:]"
      ]
    },
    {
      "cell_type": "code",
      "execution_count": null,
      "metadata": {
        "id": "NrKmrBLHRTG9"
      },
      "outputs": [],
      "source": [
        "# Считаем вероятности забить не более определенного количества\n",
        "under_matrix = np.hstack((\n",
        "        np.zeros(np.sum(active_rows)).reshape(-1,1),\n",
        "        np.cumsum(total_matrix, axis = 1)\n",
        "                                        ))[:, :-1]"
      ]
    },
    {
      "cell_type": "code",
      "execution_count": null,
      "metadata": {
        "id": "-b-MqvnlyhIQ"
      },
      "outputs": [],
      "source": [
        "# Считаем текущей стэйт суммы забитых мячей\n",
        "total_state = line[:,0][active_rows] - scores1[active_rows] - scores2[active_rows]\n",
        "total_state[total_state < 0] = 0"
      ]
    },
    {
      "cell_type": "code",
      "execution_count": null,
      "metadata": {
        "id": "Nb-J38hJYoKA"
      },
      "outputs": [],
      "source": [
        "prob = np.hstack((\n",
        "    np.take_along_axis(over_matrix, total_state.reshape(-1, 1).astype(np.int8), axis = 1),\n",
        "    np.take_along_axis(under_matrix, (total_state.reshape(-1, 1) + 0.5).astype(np.int8), axis = 1),\n",
        "))"
      ]
    },
    {
      "cell_type": "markdown",
      "metadata": {
        "id": "PgdUFeBSjddY"
      },
      "source": [
        "#### Report"
      ]
    },
    {
      "cell_type": "code",
      "execution_count": null,
      "metadata": {
        "id": "YhVNo-GlH6-L"
      },
      "outputs": [],
      "source": [
        "data_df[['Over_prob', 'Under_prob']] = prob"
      ]
    },
    {
      "cell_type": "code",
      "execution_count": null,
      "metadata": {
        "id": "BPl26UIV33z5"
      },
      "outputs": [],
      "source": [
        "data_df[['O_prob_adj', 'U_prob_adj']] = prob / np.sum(prob, axis = 1).reshape(-1,1)"
      ]
    },
    {
      "cell_type": "code",
      "execution_count": null,
      "metadata": {
        "id": "Ge4RO5l5V13r"
      },
      "outputs": [],
      "source": [
        "report_cols = ['Id', 'StatTime', 'Minute', 'Active.1', 'Score1', 'Score2',\n",
        "               'Result1', 'Result2', 'TotalValue', 'Over', 'Under',\n",
        "               'Over_prob', 'Under_prob', 'O_prob_adj', 'U_prob_adj']"
      ]
    },
    {
      "cell_type": "code",
      "execution_count": null,
      "metadata": {
        "colab": {
          "base_uri": "https://localhost:8080/"
        },
        "id": "Z9pP6vg5TpQI",
        "outputId": "2ebd186f-81b1-4dc2-ea5c-d6e14c5e2805"
      },
      "outputs": [
        {
          "output_type": "execute_result",
          "data": {
            "text/plain": [
              "              Id            StatTime  Minute  Active.1  Score1  Score2  \\\n",
              "919785   6668450 2023-06-03 00:00:27      27         1       1       0   \n",
              "919786   6668450 2023-06-03 00:01:21      28         1       1       0   \n",
              "919787   6668450 2023-06-03 00:02:19      29         1       1       0   \n",
              "1430269  6724987 2023-06-03 00:02:50       1         1       0       0   \n",
              "919788   6668450 2023-06-03 00:03:08      30         1       1       0   \n",
              "...          ...                 ...     ...       ...     ...     ...   \n",
              "1433475  6063258 2023-06-04 00:36:04      41         0       0       0   \n",
              "1433476  6063258 2023-06-04 00:36:39      42         0       0       0   \n",
              "1433477  6063258 2023-06-04 00:37:59      43         0       0       0   \n",
              "1433478  6063258 2023-06-04 00:38:42      44         0       0       0   \n",
              "1433479  6063258 2023-06-04 00:40:04      45         0       0       0   \n",
              "\n",
              "         Result1  Result2  TotalValue  Over  Under  Over_prob  Under_prob  \\\n",
              "919785         1        2         3.5  1.71   2.11   0.466670    0.531469   \n",
              "919786         1        2         3.5  1.79   2.00   0.467639    0.530228   \n",
              "919787         1        2         3.5  1.77   2.03   0.470173    0.527531   \n",
              "1430269        0        1         2.5  1.88   1.90   0.482551    0.516506   \n",
              "919788         1        2         3.5  1.80   1.99   0.470339    0.527243   \n",
              "...          ...      ...         ...   ...    ...        ...         ...   \n",
              "1433475        0        0         0.0  0.00   0.00   0.719620    0.000000   \n",
              "1433476        0        0         0.0  0.00   0.00   0.713450    0.000000   \n",
              "1433477        0        0         0.0  0.00   0.00   0.711043    0.000000   \n",
              "1433478        0        0         0.0  0.00   0.00   0.704158    0.000000   \n",
              "1433479        0        0         0.0  0.00   0.00   0.702097    0.000000   \n",
              "\n",
              "         O_prob_adj  U_prob_adj  \n",
              "919785     0.467540    0.532460  \n",
              "919786     0.468639    0.531361  \n",
              "919787     0.471255    0.528745  \n",
              "1430269    0.483007    0.516993  \n",
              "919788     0.471479    0.528521  \n",
              "...             ...         ...  \n",
              "1433475    1.000000    0.000000  \n",
              "1433476    1.000000    0.000000  \n",
              "1433477    1.000000    0.000000  \n",
              "1433478    1.000000    0.000000  \n",
              "1433479    1.000000    0.000000  \n",
              "\n",
              "[25409 rows x 15 columns]"
            ],
            "text/html": [
              "\n",
              "  <div id=\"df-902e93d0-b9c6-4889-a2d2-72a040aaedcc\">\n",
              "    <div class=\"colab-df-container\">\n",
              "      <div>\n",
              "<style scoped>\n",
              "    .dataframe tbody tr th:only-of-type {\n",
              "        vertical-align: middle;\n",
              "    }\n",
              "\n",
              "    .dataframe tbody tr th {\n",
              "        vertical-align: top;\n",
              "    }\n",
              "\n",
              "    .dataframe thead th {\n",
              "        text-align: right;\n",
              "    }\n",
              "</style>\n",
              "<table border=\"1\" class=\"dataframe\">\n",
              "  <thead>\n",
              "    <tr style=\"text-align: right;\">\n",
              "      <th></th>\n",
              "      <th>Id</th>\n",
              "      <th>StatTime</th>\n",
              "      <th>Minute</th>\n",
              "      <th>Active.1</th>\n",
              "      <th>Score1</th>\n",
              "      <th>Score2</th>\n",
              "      <th>Result1</th>\n",
              "      <th>Result2</th>\n",
              "      <th>TotalValue</th>\n",
              "      <th>Over</th>\n",
              "      <th>Under</th>\n",
              "      <th>Over_prob</th>\n",
              "      <th>Under_prob</th>\n",
              "      <th>O_prob_adj</th>\n",
              "      <th>U_prob_adj</th>\n",
              "    </tr>\n",
              "  </thead>\n",
              "  <tbody>\n",
              "    <tr>\n",
              "      <th>919785</th>\n",
              "      <td>6668450</td>\n",
              "      <td>2023-06-03 00:00:27</td>\n",
              "      <td>27</td>\n",
              "      <td>1</td>\n",
              "      <td>1</td>\n",
              "      <td>0</td>\n",
              "      <td>1</td>\n",
              "      <td>2</td>\n",
              "      <td>3.5</td>\n",
              "      <td>1.71</td>\n",
              "      <td>2.11</td>\n",
              "      <td>0.466670</td>\n",
              "      <td>0.531469</td>\n",
              "      <td>0.467540</td>\n",
              "      <td>0.532460</td>\n",
              "    </tr>\n",
              "    <tr>\n",
              "      <th>919786</th>\n",
              "      <td>6668450</td>\n",
              "      <td>2023-06-03 00:01:21</td>\n",
              "      <td>28</td>\n",
              "      <td>1</td>\n",
              "      <td>1</td>\n",
              "      <td>0</td>\n",
              "      <td>1</td>\n",
              "      <td>2</td>\n",
              "      <td>3.5</td>\n",
              "      <td>1.79</td>\n",
              "      <td>2.00</td>\n",
              "      <td>0.467639</td>\n",
              "      <td>0.530228</td>\n",
              "      <td>0.468639</td>\n",
              "      <td>0.531361</td>\n",
              "    </tr>\n",
              "    <tr>\n",
              "      <th>919787</th>\n",
              "      <td>6668450</td>\n",
              "      <td>2023-06-03 00:02:19</td>\n",
              "      <td>29</td>\n",
              "      <td>1</td>\n",
              "      <td>1</td>\n",
              "      <td>0</td>\n",
              "      <td>1</td>\n",
              "      <td>2</td>\n",
              "      <td>3.5</td>\n",
              "      <td>1.77</td>\n",
              "      <td>2.03</td>\n",
              "      <td>0.470173</td>\n",
              "      <td>0.527531</td>\n",
              "      <td>0.471255</td>\n",
              "      <td>0.528745</td>\n",
              "    </tr>\n",
              "    <tr>\n",
              "      <th>1430269</th>\n",
              "      <td>6724987</td>\n",
              "      <td>2023-06-03 00:02:50</td>\n",
              "      <td>1</td>\n",
              "      <td>1</td>\n",
              "      <td>0</td>\n",
              "      <td>0</td>\n",
              "      <td>0</td>\n",
              "      <td>1</td>\n",
              "      <td>2.5</td>\n",
              "      <td>1.88</td>\n",
              "      <td>1.90</td>\n",
              "      <td>0.482551</td>\n",
              "      <td>0.516506</td>\n",
              "      <td>0.483007</td>\n",
              "      <td>0.516993</td>\n",
              "    </tr>\n",
              "    <tr>\n",
              "      <th>919788</th>\n",
              "      <td>6668450</td>\n",
              "      <td>2023-06-03 00:03:08</td>\n",
              "      <td>30</td>\n",
              "      <td>1</td>\n",
              "      <td>1</td>\n",
              "      <td>0</td>\n",
              "      <td>1</td>\n",
              "      <td>2</td>\n",
              "      <td>3.5</td>\n",
              "      <td>1.80</td>\n",
              "      <td>1.99</td>\n",
              "      <td>0.470339</td>\n",
              "      <td>0.527243</td>\n",
              "      <td>0.471479</td>\n",
              "      <td>0.528521</td>\n",
              "    </tr>\n",
              "    <tr>\n",
              "      <th>...</th>\n",
              "      <td>...</td>\n",
              "      <td>...</td>\n",
              "      <td>...</td>\n",
              "      <td>...</td>\n",
              "      <td>...</td>\n",
              "      <td>...</td>\n",
              "      <td>...</td>\n",
              "      <td>...</td>\n",
              "      <td>...</td>\n",
              "      <td>...</td>\n",
              "      <td>...</td>\n",
              "      <td>...</td>\n",
              "      <td>...</td>\n",
              "      <td>...</td>\n",
              "      <td>...</td>\n",
              "    </tr>\n",
              "    <tr>\n",
              "      <th>1433475</th>\n",
              "      <td>6063258</td>\n",
              "      <td>2023-06-04 00:36:04</td>\n",
              "      <td>41</td>\n",
              "      <td>0</td>\n",
              "      <td>0</td>\n",
              "      <td>0</td>\n",
              "      <td>0</td>\n",
              "      <td>0</td>\n",
              "      <td>0.0</td>\n",
              "      <td>0.00</td>\n",
              "      <td>0.00</td>\n",
              "      <td>0.719620</td>\n",
              "      <td>0.000000</td>\n",
              "      <td>1.000000</td>\n",
              "      <td>0.000000</td>\n",
              "    </tr>\n",
              "    <tr>\n",
              "      <th>1433476</th>\n",
              "      <td>6063258</td>\n",
              "      <td>2023-06-04 00:36:39</td>\n",
              "      <td>42</td>\n",
              "      <td>0</td>\n",
              "      <td>0</td>\n",
              "      <td>0</td>\n",
              "      <td>0</td>\n",
              "      <td>0</td>\n",
              "      <td>0.0</td>\n",
              "      <td>0.00</td>\n",
              "      <td>0.00</td>\n",
              "      <td>0.713450</td>\n",
              "      <td>0.000000</td>\n",
              "      <td>1.000000</td>\n",
              "      <td>0.000000</td>\n",
              "    </tr>\n",
              "    <tr>\n",
              "      <th>1433477</th>\n",
              "      <td>6063258</td>\n",
              "      <td>2023-06-04 00:37:59</td>\n",
              "      <td>43</td>\n",
              "      <td>0</td>\n",
              "      <td>0</td>\n",
              "      <td>0</td>\n",
              "      <td>0</td>\n",
              "      <td>0</td>\n",
              "      <td>0.0</td>\n",
              "      <td>0.00</td>\n",
              "      <td>0.00</td>\n",
              "      <td>0.711043</td>\n",
              "      <td>0.000000</td>\n",
              "      <td>1.000000</td>\n",
              "      <td>0.000000</td>\n",
              "    </tr>\n",
              "    <tr>\n",
              "      <th>1433478</th>\n",
              "      <td>6063258</td>\n",
              "      <td>2023-06-04 00:38:42</td>\n",
              "      <td>44</td>\n",
              "      <td>0</td>\n",
              "      <td>0</td>\n",
              "      <td>0</td>\n",
              "      <td>0</td>\n",
              "      <td>0</td>\n",
              "      <td>0.0</td>\n",
              "      <td>0.00</td>\n",
              "      <td>0.00</td>\n",
              "      <td>0.704158</td>\n",
              "      <td>0.000000</td>\n",
              "      <td>1.000000</td>\n",
              "      <td>0.000000</td>\n",
              "    </tr>\n",
              "    <tr>\n",
              "      <th>1433479</th>\n",
              "      <td>6063258</td>\n",
              "      <td>2023-06-04 00:40:04</td>\n",
              "      <td>45</td>\n",
              "      <td>0</td>\n",
              "      <td>0</td>\n",
              "      <td>0</td>\n",
              "      <td>0</td>\n",
              "      <td>0</td>\n",
              "      <td>0.0</td>\n",
              "      <td>0.00</td>\n",
              "      <td>0.00</td>\n",
              "      <td>0.702097</td>\n",
              "      <td>0.000000</td>\n",
              "      <td>1.000000</td>\n",
              "      <td>0.000000</td>\n",
              "    </tr>\n",
              "  </tbody>\n",
              "</table>\n",
              "<p>25409 rows × 15 columns</p>\n",
              "</div>\n",
              "      <button class=\"colab-df-convert\" onclick=\"convertToInteractive('df-902e93d0-b9c6-4889-a2d2-72a040aaedcc')\"\n",
              "              title=\"Convert this dataframe to an interactive table.\"\n",
              "              style=\"display:none;\">\n",
              "        \n",
              "  <svg xmlns=\"http://www.w3.org/2000/svg\" height=\"24px\"viewBox=\"0 0 24 24\"\n",
              "       width=\"24px\">\n",
              "    <path d=\"M0 0h24v24H0V0z\" fill=\"none\"/>\n",
              "    <path d=\"M18.56 5.44l.94 2.06.94-2.06 2.06-.94-2.06-.94-.94-2.06-.94 2.06-2.06.94zm-11 1L8.5 8.5l.94-2.06 2.06-.94-2.06-.94L8.5 2.5l-.94 2.06-2.06.94zm10 10l.94 2.06.94-2.06 2.06-.94-2.06-.94-.94-2.06-.94 2.06-2.06.94z\"/><path d=\"M17.41 7.96l-1.37-1.37c-.4-.4-.92-.59-1.43-.59-.52 0-1.04.2-1.43.59L10.3 9.45l-7.72 7.72c-.78.78-.78 2.05 0 2.83L4 21.41c.39.39.9.59 1.41.59.51 0 1.02-.2 1.41-.59l7.78-7.78 2.81-2.81c.8-.78.8-2.07 0-2.86zM5.41 20L4 18.59l7.72-7.72 1.47 1.35L5.41 20z\"/>\n",
              "  </svg>\n",
              "      </button>\n",
              "      \n",
              "  <style>\n",
              "    .colab-df-container {\n",
              "      display:flex;\n",
              "      flex-wrap:wrap;\n",
              "      gap: 12px;\n",
              "    }\n",
              "\n",
              "    .colab-df-convert {\n",
              "      background-color: #E8F0FE;\n",
              "      border: none;\n",
              "      border-radius: 50%;\n",
              "      cursor: pointer;\n",
              "      display: none;\n",
              "      fill: #1967D2;\n",
              "      height: 32px;\n",
              "      padding: 0 0 0 0;\n",
              "      width: 32px;\n",
              "    }\n",
              "\n",
              "    .colab-df-convert:hover {\n",
              "      background-color: #E2EBFA;\n",
              "      box-shadow: 0px 1px 2px rgba(60, 64, 67, 0.3), 0px 1px 3px 1px rgba(60, 64, 67, 0.15);\n",
              "      fill: #174EA6;\n",
              "    }\n",
              "\n",
              "    [theme=dark] .colab-df-convert {\n",
              "      background-color: #3B4455;\n",
              "      fill: #D2E3FC;\n",
              "    }\n",
              "\n",
              "    [theme=dark] .colab-df-convert:hover {\n",
              "      background-color: #434B5C;\n",
              "      box-shadow: 0px 1px 3px 1px rgba(0, 0, 0, 0.15);\n",
              "      filter: drop-shadow(0px 1px 2px rgba(0, 0, 0, 0.3));\n",
              "      fill: #FFFFFF;\n",
              "    }\n",
              "  </style>\n",
              "\n",
              "      <script>\n",
              "        const buttonEl =\n",
              "          document.querySelector('#df-902e93d0-b9c6-4889-a2d2-72a040aaedcc button.colab-df-convert');\n",
              "        buttonEl.style.display =\n",
              "          google.colab.kernel.accessAllowed ? 'block' : 'none';\n",
              "\n",
              "        async function convertToInteractive(key) {\n",
              "          const element = document.querySelector('#df-902e93d0-b9c6-4889-a2d2-72a040aaedcc');\n",
              "          const dataTable =\n",
              "            await google.colab.kernel.invokeFunction('convertToInteractive',\n",
              "                                                     [key], {});\n",
              "          if (!dataTable) return;\n",
              "\n",
              "          const docLinkHtml = 'Like what you see? Visit the ' +\n",
              "            '<a target=\"_blank\" href=https://colab.research.google.com/notebooks/data_table.ipynb>data table notebook</a>'\n",
              "            + ' to learn more about interactive tables.';\n",
              "          element.innerHTML = '';\n",
              "          dataTable['output_type'] = 'display_data';\n",
              "          await google.colab.output.renderOutput(dataTable, element);\n",
              "          const docLink = document.createElement('div');\n",
              "          docLink.innerHTML = docLinkHtml;\n",
              "          element.appendChild(docLink);\n",
              "        }\n",
              "      </script>\n",
              "    </div>\n",
              "  </div>\n",
              "  "
            ]
          },
          "metadata": {},
          "execution_count": 47
        }
      ],
      "source": [
        "data_df[report_cols][pd.to_datetime(data_df['StatTime']) > pd.to_datetime('2023-06-03 00:00:00')]"
      ]
    },
    {
      "cell_type": "code",
      "source": [
        "data_df[(data_df['StatTime'] > '2023-05-15 23:59:59') &\\\n",
        "                     (data_df['StatTime'] < '2023-05-16 12:00:59')].to_csv('./result_report_total.csv', index = None)"
      ],
      "metadata": {
        "id": "_alK5ZeJ08_1"
      },
      "execution_count": null,
      "outputs": []
    },
    {
      "cell_type": "markdown",
      "metadata": {
        "id": "4NOYCSe84xmS"
      },
      "source": [
        "#### Upload to Yandex"
      ]
    },
    {
      "cell_type": "code",
      "execution_count": null,
      "metadata": {
        "id": "H1E3GBaQjbcI"
      },
      "outputs": [],
      "source": [
        "data_df[report_cols].to_csv('./total_probabilities.csv', index = False)"
      ]
    },
    {
      "cell_type": "code",
      "execution_count": null,
      "metadata": {
        "id": "YhHMh1kTUeE8"
      },
      "outputs": [],
      "source": [
        "#data_df.to_csv('./total_dataframe.csv', index = False)"
      ]
    },
    {
      "cell_type": "code",
      "execution_count": null,
      "metadata": {
        "colab": {
          "base_uri": "https://localhost:8080/"
        },
        "id": "8azstRLYjb7j",
        "outputId": "cc0e846a-ef7a-4226-9665-6e89a3c526d2"
      },
      "outputs": [
        {
          "output_type": "stream",
          "name": "stdout",
          "text": [
            "Token exists:  True\n"
          ]
        }
      ],
      "source": [
        "try:\n",
        "    import yadisk\n",
        "except:\n",
        "    !pip install yadisk >> None\n",
        "    import yadisk\n",
        "def get_credential2(frmwork = 'yandex token'):\n",
        "    with open('cred.txt', 'r') as container:\n",
        "        for line in container:\n",
        "            if frmwork in line:\n",
        "                login, psw = line.split(' ')[1], line.split(' ')[2].split('\\n')[0]\n",
        "                return login, psw\n",
        "_, api_key2 = get_credential2()\n",
        "y = yadisk.YaDisk(token = api_key2)\n",
        "print('Token exists: ', y.check_token())"
      ]
    },
    {
      "cell_type": "code",
      "execution_count": null,
      "metadata": {
        "id": "Tzbws5foRwZP"
      },
      "outputs": [],
      "source": [
        "date_upload = 20230604"
      ]
    },
    {
      "cell_type": "code",
      "execution_count": null,
      "metadata": {
        "id": "dF-tWAZejpwW"
      },
      "outputs": [],
      "source": [
        "#print(y.mkdir(f'disk:/sport_prediction/calcio_2021/uploads/{date_upload}'))"
      ]
    },
    {
      "cell_type": "code",
      "execution_count": null,
      "metadata": {
        "id": "sGBwqaIkjq_N"
      },
      "outputs": [],
      "source": [
        "with open('/content/total_probabilities.csv', 'rb') as f:\n",
        "    y.upload(f, f'disk:/sport_prediction/calcio_2021/uploads/{date_upload}/total_cv_probabilities_wo_folds.csv')"
      ]
    },
    {
      "cell_type": "markdown",
      "metadata": {
        "id": "pY1XN3NvBtt6"
      },
      "source": [
        "### visualize results"
      ]
    },
    {
      "cell_type": "markdown",
      "metadata": {
        "id": "i5feh_x-FJBR"
      },
      "source": [
        "#### assign data"
      ]
    },
    {
      "cell_type": "code",
      "execution_count": null,
      "metadata": {
        "id": "lCi6JBmCPhZ-"
      },
      "outputs": [],
      "source": [
        "results_dict = {'validation':{\n",
        "    'result1':data_df['Result1'].values,\n",
        "    'result2':data_df['Result2'].values\n",
        "    }}\n",
        "line_dict = {'validation':data_df[['TotalValue', 'Over', 'Under']].values}\n",
        "active_rows_dict = {'validation':\\\n",
        "                    #((data_df['TotalValue'] - data_df['Score1'] - data_df['Score2']) > 2.0) & \\\n",
        "                    (data_df['Over'] > 1) & \\\n",
        "                    (data_df['Under'] > 1) & \\\n",
        "                    (data_df['Active.1'] > 0)\n",
        "                    }\n",
        "prob_dict = {'validation':prob}"
      ]
    },
    {
      "cell_type": "markdown",
      "metadata": {
        "id": "DNKb9PYxEgsP"
      },
      "source": [
        "#### imports"
      ]
    },
    {
      "cell_type": "code",
      "execution_count": null,
      "metadata": {
        "id": "mg9S4hnlEku7"
      },
      "outputs": [],
      "source": [
        "import plotly.graph_objects as go\n",
        "import plotly.express as px\n",
        "import plotly.subplots as sp\n",
        "import plotly.figure_factory as ff\n",
        "from plotly.subplots import make_subplots"
      ]
    },
    {
      "cell_type": "markdown",
      "metadata": {
        "id": "I0pA-BRAErQ7"
      },
      "source": [
        "#### functions"
      ]
    },
    {
      "cell_type": "code",
      "execution_count": null,
      "metadata": {
        "id": "qXcerPJADwdr"
      },
      "outputs": [],
      "source": [
        "def calculate_multiclass(probability_2x:np.array, line_2x:np.array):\n",
        "    '''\n",
        "    input : 0 - over, 1 - under\n",
        "    output: 0 - over, 1 - under\n",
        "    '''\n",
        "    probability_adj = probability_2x / np.sum(probability_2x, axis = 1).reshape(-1, 1)\n",
        "    probline_adj = probability_adj * line_2x\n",
        "    probline = probability_2x * line_2x\n",
        "    best_odd_result = np.argmax(probline_adj, axis = 1)\n",
        "    best_odd_float_adj = np.take_along_axis(probline_adj, best_odd_result.reshape(-1, 1), axis = 1)\n",
        "    best_odd_float = np.take_along_axis(probline, best_odd_result.reshape(-1, 1), axis = 1)\n",
        "    return {\n",
        "        'argmax':best_odd_result,\n",
        "        'float':best_odd_float,\n",
        "        'float_adj':best_odd_float_adj\n",
        "    }"
      ]
    },
    {
      "cell_type": "code",
      "execution_count": null,
      "metadata": {
        "id": "9l6UtBcXEYMh"
      },
      "outputs": [],
      "source": [
        "def make_filter(hda, preds_int):\n",
        "    hda_dict = {'over':0, 'under':1}\n",
        "    if hda == 'all':\n",
        "        return preds_int > -1\n",
        "    else:\n",
        "        return preds_int == hda_dict[hda]"
      ]
    },
    {
      "cell_type": "code",
      "source": [
        "def plot_ga_equity_separate(\n",
        "    sel_best_dict = {'over':1.19, 'under':1.19}, #{'over':1.1675, 'under':1.1675}, #\n",
        "    prob_dict = prob_dict,\n",
        "    line_dict = line_dict,\n",
        "    results_dict = results_dict,\n",
        "    active_rows_dict = active_rows_dict,\n",
        "    x_date = np.empty(()),\n",
        "    neptune_model_version = neptune_model_version,\n",
        "    data_split = 'validation'\n",
        "    ):\n",
        "    hda_dict = {'all':{'ltype':'solid', 'colors':'rgb(93, 164, 214)', 'line_width':3},\n",
        "                'over':{'ltype':'dot', 'colors':'rgb(255, 144, 14)', 'line_width':1},\n",
        "                'under':{'ltype':'dot', 'colors':'rgb(44, 160, 101)', 'line_width':1}}\n",
        "    layout_dict = {}\n",
        "    data_list = []\n",
        "    preds_int, preds_float, preds_float_adj = calculate_multiclass(\n",
        "        prob_dict[data_split],\n",
        "        line_dict[data_split][:,1:3]).values()\n",
        "    preds_float_adj = preds_float_adj[:,0]\n",
        "    preds_vec = preds_int * (2) - 1\n",
        "    final_goal_sum = (results_dict[data_split]['result1'] + \\\n",
        "                    results_dict[data_split]['result2'])\n",
        "    res_vec = ((final_goal_sum > line_dict[data_split][:,0]) * (-1) + \\\n",
        "            (final_goal_sum < line_dict[data_split][:,0]) * (1))\n",
        "    win_vec, lose_vec = (preds_vec * res_vec) == 1, (preds_vec * res_vec) == -1\n",
        "    line_vec = np.take_along_axis(\n",
        "                        line_dict[data_split][:,1:3],\n",
        "                        preds_int.reshape(-1, 1),\n",
        "                        axis = 1\n",
        "                                )[:, 0]\n",
        "    placed_bets = (\n",
        "        (preds_float_adj >= sel_best_dict['over']) | \\\n",
        "        (preds_float_adj >= sel_best_dict['under'])\n",
        "                    ) & \\\n",
        "        active_rows_dict[data_split]\n",
        "    ################\n",
        "    line_vec = line_vec[placed_bets]\n",
        "    win_vec = win_vec[placed_bets]\n",
        "    lose_vec = lose_vec[placed_bets]\n",
        "    preds_int = preds_int[placed_bets]\n",
        "    x_date = pd.to_datetime(x_date).dt.date.values[placed_bets]\n",
        "    ################\n",
        "    y = ((line_vec - 1) / line_vec) * (win_vec).astype(np.float32) - \\\n",
        "        (1/line_vec) * (lose_vec).astype(np.float32)\n",
        "    side_dict = {'over':0, 'under':1}\n",
        "    for hda, value_dict in hda_dict.items():\n",
        "        if hda != 'all':\n",
        "            data_list += [\n",
        "                go.Scatter(\n",
        "                    y = np.cumsum(y * (preds_int == side_dict[hda])),\n",
        "                    x = x_date,\n",
        "                    name = hda,\n",
        "                    line = dict(color = value_dict['colors'], width = value_dict['line_width'], dash = value_dict['ltype'])\n",
        "                            )]\n",
        "        else:\n",
        "            data_list += [\n",
        "                go.Scatter(\n",
        "                    y = np.cumsum(y),\n",
        "                    x = x_date,\n",
        "                    name = 'all',\n",
        "                    line = dict(color = hda_dict['all']['colors'], width = hda_dict['all']['line_width'], dash = hda_dict['all']['ltype'])\n",
        "                            )]\n",
        "    title_text = f'<b>Total(cv)</b> equity curve {data_split}<br>Model in neptune.ai: FOOT-{neptune_model_version}<br>' + \\\n",
        "        f\"ROI: {np.round(np.cumsum(y)[-1] * 100 / np.sum(1/line_vec, dtype = np.float32), 4)}%\" + \\\n",
        "        f' | Bet quantity: {np.sum(placed_bets)}<br>'\n",
        "    dt_min = min(x_date)\n",
        "    dt_max = max(x_date)\n",
        "    layout_dict.update({\n",
        "    'width':1200,\n",
        "    'height':800,\n",
        "    #'title_x':0.5,\n",
        "    'title_text':title_text,\n",
        "    'paper_bgcolor':'rgb(229, 237, 247)',\n",
        "    'plot_bgcolor':'rgb(229, 237, 247)',\n",
        "    'xaxis':{'range':[dt_min, dt_max]}\n",
        "                    })\n",
        "    layout = go.Layout(**layout_dict)\n",
        "    return go.Figure(data=data_list, layout=layout)"
      ],
      "metadata": {
        "id": "FB69zsMJpc0l"
      },
      "execution_count": null,
      "outputs": []
    },
    {
      "cell_type": "markdown",
      "metadata": {
        "id": "WrZClCyeEwJ8"
      },
      "source": [
        "### visualization"
      ]
    },
    {
      "cell_type": "code",
      "execution_count": null,
      "metadata": {
        "id": "gAI0NICYuetq",
        "colab": {
          "base_uri": "https://localhost:8080/"
        },
        "outputId": "07d0c135-385d-4500-d33e-febbe8a1f2c7"
      },
      "outputs": [
        {
          "output_type": "execute_result",
          "data": {
            "text/plain": [
              "2.631"
            ]
          },
          "metadata": {},
          "execution_count": 134
        }
      ],
      "source": [
        "#active_rows_dict['validation'] = ((data_df['Active.1'].values == 1) & (np.sum(line_dict['validation'][:, 1:3], axis = 1) > 2))\n",
        "224706\n",
        "2.631"
      ]
    },
    {
      "cell_type": "code",
      "execution_count": null,
      "metadata": {
        "id": "CZQvZgG8Dvn6",
        "colab": {
          "base_uri": "https://localhost:8080/"
        },
        "outputId": "b939d789-4a38-4099-f922-456b09da86ac"
      },
      "outputs": [
        {
          "output_type": "execute_result",
          "data": {
            "text/plain": [
              "213261"
            ]
          },
          "metadata": {},
          "execution_count": 135
        }
      ],
      "source": [
        "2.947\n",
        "213261"
      ]
    },
    {
      "cell_type": "code",
      "execution_count": null,
      "metadata": {
        "id": "2lC--GjetPqA"
      },
      "outputs": [],
      "source": [
        "fig = plot_ga_equity_separate(\n",
        "    x_date = data_df['StatTime'],\n",
        "    #sel_best_dict = {'over':1.19, 'under':1.19}\n",
        "    )\n",
        "fig.show()"
      ]
    },
    {
      "cell_type": "markdown",
      "source": [
        "### Betting Strategies"
      ],
      "metadata": {
        "id": "sLiuMzz6s1rx"
      }
    },
    {
      "cell_type": "markdown",
      "source": [
        "##### Functions"
      ],
      "metadata": {
        "id": "eSpGdYWkJNTD"
      }
    },
    {
      "cell_type": "code",
      "source": [
        "def bet_open(match_id_dict:dict, match_minute:int, strategy = '5minute', nbets = 3, last_type = None, current_prob = None, prob_thres = 1.05):\n",
        "    '''\n",
        "    '''\n",
        "    if strategy == '5minute':\n",
        "        if 'last_bet_minute' in match_id_dict:\n",
        "            if (match_minute - match_id_dict['last_bet_minute']) > 4:\n",
        "                return True\n",
        "            else:\n",
        "                return False\n",
        "        else:\n",
        "            return True\n",
        "    elif strategy == 'nbets':\n",
        "        if 'nbets' in match_id_dict:\n",
        "            if match_id_dict['nbets'] >= nbets:\n",
        "                return False\n",
        "            else:\n",
        "                return True\n",
        "        else:\n",
        "            return True\n",
        "    elif strategy == 'changes':\n",
        "        if 'last_type' in match_id_dict:\n",
        "            if match_id_dict['last_type'] != last_type:\n",
        "                return True\n",
        "            elif (current_prob / match_id_dict['last_prob']) > prob_thres:\n",
        "                return True\n",
        "            else:\n",
        "                return False\n",
        "        else:\n",
        "            return True"
      ],
      "metadata": {
        "id": "K7rvK1xpKB9P"
      },
      "execution_count": null,
      "outputs": []
    },
    {
      "cell_type": "code",
      "source": [
        "def plot_strategy(\n",
        "    prob_dict,\n",
        "    line_dict,\n",
        "    results_dict,\n",
        "    active_rows_dict,\n",
        "    data_df,\n",
        "    strategy_type = 'changes', #'nbets' #'5minute'\n",
        "    neptune_model_version = neptune_model_version,\n",
        "    data_split = 'validation',\n",
        "    sel_best_dict = {'over':1.19, 'under':1.19}\n",
        "):\n",
        "\n",
        "    type2int = {0:'over', 1:'under'}\n",
        "    hda_dict = {'all':{'ltype':'solid', 'colors':'rgb(93, 164, 214)', 'line_width':3, 'order':2},\n",
        "                'over':{'ltype':'dot', 'colors':'rgb(255, 144, 14)', 'line_width':1, 'order':0},\n",
        "                'under':{'ltype':'dot', 'colors':'rgb(44, 160, 101)', 'line_width':1, 'order':1}}\n",
        "\n",
        "    match_live_dict = {}\n",
        "    output_list = []\n",
        "    date_list = []\n",
        "    bet_size_list = []\n",
        "    preds_int, preds_float, preds_float_adj = calculate_multiclass(\n",
        "                                        prob_dict[data_split],\n",
        "                                        line_dict[data_split][:,1:3]\n",
        "                                    ).values()\n",
        "    for pred_win, pred_prob, line, results1, results2, match_id, \\\n",
        "                    match_time, match_minute, active in tqdm(zip(\n",
        "            preds_int,\n",
        "            preds_float_adj,\n",
        "            line_dict[data_split],\n",
        "            results_dict[data_split]['result1'],\n",
        "            results_dict[data_split]['result2'],\n",
        "            data_df['Id'].values,\n",
        "            data_df['StatTime'],\n",
        "            data_df['Minute'].values,\n",
        "            active_rows_dict[data_split]\n",
        "                                ), total = active_rows_dict[data_split].shape[0]):\n",
        "\n",
        "        if active:\n",
        "            if pred_prob > sel_best_dict[type2int[pred_win]]:\n",
        "                if match_id not in match_live_dict:\n",
        "                    match_live_dict[match_id] = {'nbets':0}\n",
        "\n",
        "                if bet_open(match_live_dict[match_id], match_minute, strategy = strategy_type,\n",
        "                            nbets = 3,\n",
        "                            last_type = pred_win, current_prob = pred_prob, prob_thres = 1.01):\n",
        "                    bet_size = 1 / line[pred_win + 1]\n",
        "                    final_goal_sum = results1 + results2\n",
        "\n",
        "                    if final_goal_sum == line[0]:\n",
        "                        event_list = [0, 0]\n",
        "                        #event_list[pred_win] =  0\n",
        "                        output_list.append(event_list)\n",
        "                        date_list.append(match_time.date())\n",
        "                        bet_size_list.append(bet_size)\n",
        "                        match_live_dict[match_id]['last_bet_minute'] = match_minute\n",
        "                        match_live_dict[match_id]['nbets'] += 1\n",
        "                        match_live_dict[match_id]['last_type'] = pred_win\n",
        "                        match_live_dict[match_id]['last_prob'] = pred_prob\n",
        "                    elif pred_win.astype(bool) == (final_goal_sum < line[0]):\n",
        "                        event_list = [0, 0]\n",
        "                        event_list[pred_win] =  bet_size * (line[pred_win + 1] - 1)\n",
        "                        output_list.append(event_list)\n",
        "                        date_list.append(match_time.date())\n",
        "                        bet_size_list.append(bet_size)\n",
        "                        match_live_dict[match_id]['last_bet_minute'] = match_minute\n",
        "                        match_live_dict[match_id]['nbets'] += 1\n",
        "                        match_live_dict[match_id]['last_type'] = pred_win\n",
        "                        match_live_dict[match_id]['last_prob'] = pred_prob\n",
        "                    else:\n",
        "                        event_list = [0, 0]\n",
        "                        event_list[pred_win] = -bet_size\n",
        "                        output_list.append(event_list)\n",
        "                        date_list.append(match_time.date())\n",
        "                        bet_size_list.append(bet_size)\n",
        "                        match_live_dict[match_id]['last_bet_minute'] = match_minute\n",
        "                        match_live_dict[match_id]['nbets'] += 1\n",
        "                        match_live_dict[match_id]['last_type'] = pred_win\n",
        "                        match_live_dict[match_id]['last_prob'] = pred_prob\n",
        "\n",
        "    layout_dict = {}\n",
        "    data_list = []\n",
        "    for hda, value_dict in hda_dict.items():\n",
        "        if hda != 'all':\n",
        "            data_list += [\n",
        "                go.Scatter(\n",
        "                    x = date_list,\n",
        "                    y = np.cumsum(np.array(output_list)[:, value_dict['order']]),\n",
        "                    name = hda,\n",
        "                    line = dict(color = value_dict['colors'], width = value_dict['line_width'], dash = value_dict['ltype'])\n",
        "                            )]\n",
        "    cumsum_all = np.cumsum(np.sum(np.array(output_list), axis = 1))\n",
        "    data_list += [\n",
        "        go.Scatter(\n",
        "            x = date_list,\n",
        "            y = cumsum_all,\n",
        "            name = 'all',\n",
        "            line = dict(color = hda_dict['all']['colors'], width = hda_dict['all']['line_width'], dash = hda_dict['all']['ltype'])\n",
        "                    )]\n",
        "\n",
        "    title_text = f'<b>Total(cv)</b>  equity curve for strategie <b><i>{strategy_type}</i></b>' + \\\n",
        "        f'<br>Model in neptune.ai: FOOT-{neptune_model_version}<br>' + \\\n",
        "        f\"ROI: {round(100 * cumsum_all[-1] / sum(bet_size_list), 2)}%\" + \\\n",
        "        f' | Bet quantity: {len(output_list)}<br>'\n",
        "    #dt_min = min(x_date[new_ard])\n",
        "    #dt_max = max(x_date[new_ard])\n",
        "    layout_dict.update({\n",
        "    'width':1200,\n",
        "    'height':800,\n",
        "    #'title_x':0.5,\n",
        "    'title_text':title_text,\n",
        "    'paper_bgcolor':'rgb(229, 237, 247)',\n",
        "    'plot_bgcolor':'rgb(229, 237, 247)',\n",
        "    #'xaxis':{'range':[dt_min, dt_max]}\n",
        "                    })\n",
        "    layout = go.Layout(**layout_dict)\n",
        "    return go.Figure(data=data_list, layout=layout) #, match_live_dict"
      ],
      "metadata": {
        "id": "HSBJpGtTteno"
      },
      "execution_count": null,
      "outputs": []
    },
    {
      "cell_type": "markdown",
      "source": [
        "##### Plot"
      ],
      "metadata": {
        "id": "CJ8NK7XoJRHX"
      }
    },
    {
      "cell_type": "code",
      "source": [
        "fig = plot_strategy(\n",
        "    prob_dict,\n",
        "    line_dict,\n",
        "    results_dict,\n",
        "    active_rows_dict,\n",
        "    data_df,\n",
        "    strategy_type = 'changes', #'changes', #'nbets' #'5minute'\n",
        "    #neptune_model_version = neptune_model_version,\n",
        "    #data_split = 'validation',\n",
        "    #sel_best_dict = {'home':1.1465, 'draw':1.1465, 'away':1.1465}\n",
        ")\n",
        "fig.show()"
      ],
      "metadata": {
        "id": "lfhd-p2OtWGY"
      },
      "execution_count": null,
      "outputs": []
    }
  ],
  "metadata": {
    "colab": {
      "collapsed_sections": [
        "JnoakdYG0WIm",
        "THFvsIdI6Jr_",
        "AY2sCgPWqVuq",
        "3eJJjJHCyrNF",
        "F7qL3Au-nbm0",
        "TgahlHprQDfJ",
        "RtV7BR6vuXkz",
        "SDRXrXwouhLQ",
        "xyRkKD42tI2Q",
        "MUoqIhQIy5S_",
        "PgdUFeBSjddY",
        "i5feh_x-FJBR",
        "DNKb9PYxEgsP"
      ],
      "provenance": [],
      "authorship_tag": "ABX9TyOoq2AAy889scUCAll+my8p",
      "include_colab_link": true
    },
    "kernelspec": {
      "display_name": "Python 3",
      "name": "python3"
    },
    "language_info": {
      "name": "python"
    }
  },
  "nbformat": 4,
  "nbformat_minor": 0
}